{
 "cells": [
  {
   "cell_type": "code",
   "execution_count": 7,
   "metadata": {},
   "outputs": [],
   "source": [
    "from sklearn.metrics import f1_score, confusion_matrix, make_scorer, accuracy_score, recall_score\n",
    "from sklearn.model_selection import cross_val_score, train_test_split, cross_validate\n",
    "from fairlearn.metrics import (\n",
    "    count,\n",
    "    selection_rate,\n",
    "    equalized_odds_difference,\n",
    "    false_positive_rate,\n",
    "    false_negative_rate,\n",
    "    demographic_parity_difference,\n",
    "    MetricFrame,\n",
    "    true_negative_rate,\n",
    "    true_positive_rate\n",
    ")\n",
    "\n",
    "from fairlearn.datasets import fetch_adult\n",
    "from sklearn.pipeline import Pipeline\n",
    "from sklearn.preprocessing import OneHotEncoder, StandardScaler\n",
    "from sklearn.compose import ColumnTransformer\n",
    "from sklearn.compose import make_column_selector as selector\n",
    "from sklearn.impute import SimpleImputer\n",
    "from sklearn.ensemble import RandomForestClassifier, GradientBoostingClassifier\n",
    "from sklearn.linear_model import LogisticRegression\n",
    "from lightgbm import LGBMClassifier\n",
    "from metrics import equality_opportunity_difference, predictive_equality_difference\n",
    "\n",
    "\n",
    "import numpy as np\n",
    "import optuna\n",
    "import tqdm as notebook_tqdm\n",
    "\n",
    "import dill\n",
    "import optuna\n",
    "import plotly"
   ]
  },
  {
   "attachments": {},
   "cell_type": "markdown",
   "metadata": {},
   "source": [
    "## One simulation"
   ]
  },
  {
   "cell_type": "code",
   "execution_count": 2,
   "metadata": {},
   "outputs": [
    {
     "name": "stderr",
     "output_type": "stream",
     "text": [
      "/home/azucena/miniconda3/envs/fairenv/lib/python3.10/site-packages/sklearn/datasets/_openml.py:968: FutureWarning: The default value of `parser` will change from `'liac-arff'` to `'auto'` in 1.4. You can set `parser='auto'` to silence this warning. Therefore, an `ImportError` will be raised from 1.4 if the dataset is dense and pandas is not installed. Note that the pandas parser may return different data types. See the Notes Section in fetch_openml's API doc for details.\n",
      "  warn(\n"
     ]
    }
   ],
   "source": [
    "data = fetch_adult(as_frame=True)\n",
    "X_raw = data.data\n",
    "y = (data.target == \">50K\") * 1\n",
    "A = X_raw[\"sex\"]\n",
    "\n",
    "(X_train, X_test, y_train, y_test, A_train, A_test) = train_test_split(\n",
    "    X_raw, y, A, test_size=0.8, random_state=0, stratify=y\n",
    ")\n",
    "\n",
    "X_train = X_train.reset_index(drop=True)\n",
    "X_test = X_test.reset_index(drop=True)\n",
    "y_train = y_train.reset_index(drop=True)\n",
    "y_test = y_test.reset_index(drop=True)\n",
    "A_train = A_train.reset_index(drop=True)\n",
    "A_test = A_test.reset_index(drop=True)\n",
    "\n",
    "numeric_transformer = Pipeline(\n",
    "    steps=[\n",
    "        (\"impute\", SimpleImputer()),\n",
    "        (\"scaler\", StandardScaler()),\n",
    "    ]\n",
    ")\n",
    "categorical_transformer = Pipeline(\n",
    "    [\n",
    "        (\"impute\", SimpleImputer(strategy=\"most_frequent\")),\n",
    "        (\"ohe\", OneHotEncoder(handle_unknown=\"ignore\")),\n",
    "    ]\n",
    ")\n",
    "preprocessor = ColumnTransformer(\n",
    "    transformers=[\n",
    "        (\"num\", numeric_transformer, selector(dtype_exclude=\"category\")),\n",
    "        (\"cat\", categorical_transformer, selector(dtype_include=\"category\")),\n",
    "    ]\n",
    ")\n",
    "\n",
    "pipeline = Pipeline(\n",
    "    steps=[\n",
    "        (\"preprocessor\", preprocessor),\n",
    "        (\n",
    "            \"classifier\",\n",
    "            LGBMClassifier(n_jobs=-1),\n",
    "        ),\n",
    "    ]\n",
    ")"
   ]
  },
  {
   "cell_type": "code",
   "execution_count": 3,
   "metadata": {},
   "outputs": [],
   "source": [
    "\n",
    "#file_name = 'f1-dpd-lgbm-motpe-succesivehalving-100trials.pkl'\n",
    "#file_name = 'f1-tpr-lgbm-motpe-succesivehalving-100trials-1sim.pkl'\n",
    "file_name = 'recall-fpr-lgbm-motpe-succesivehalving-100trials-1sim.pkl'\n",
    "with open(file_name, 'rb') as in_strm:\n",
    "    results = dill.load(in_strm)"
   ]
  },
  {
   "cell_type": "code",
   "execution_count": 4,
   "metadata": {},
   "outputs": [
    {
     "data": {
      "application/vnd.plotly.v1+json": {
       "config": {
        "plotlyServerURL": "https://plot.ly"
       },
       "data": [
        {
         "hovertemplate": "%{text}<extra>Trial</extra>",
         "marker": {
          "color": [],
          "colorbar": {
           "title": {
            "text": "Trial"
           }
          },
          "colorscale": [
           [
            0,
            "rgb(247,251,255)"
           ],
           [
            0.125,
            "rgb(222,235,247)"
           ],
           [
            0.25,
            "rgb(198,219,239)"
           ],
           [
            0.375,
            "rgb(158,202,225)"
           ],
           [
            0.5,
            "rgb(107,174,214)"
           ],
           [
            0.625,
            "rgb(66,146,198)"
           ],
           [
            0.75,
            "rgb(33,113,181)"
           ],
           [
            0.875,
            "rgb(8,81,156)"
           ],
           [
            1,
            "rgb(8,48,107)"
           ]
          ],
          "line": {
           "color": "Grey",
           "width": 0.5
          }
         },
         "mode": "markers",
         "showlegend": false,
         "text": [],
         "type": "scatter",
         "x": [],
         "y": []
        },
        {
         "hovertemplate": "%{text}<extra>Best Trial</extra>",
         "marker": {
          "color": [
           2,
           3,
           9,
           11,
           14,
           15,
           21,
           23,
           24,
           25,
           35,
           36,
           37,
           46,
           50,
           53,
           55,
           57,
           58,
           60,
           61,
           65,
           67,
           69,
           74,
           76,
           78,
           79,
           86,
           88,
           91,
           93,
           99
          ],
          "colorbar": {
           "title": {
            "text": "Best Trial"
           },
           "x": 1,
           "xpad": 40
          },
          "colorscale": [
           [
            0,
            "rgb(255,245,240)"
           ],
           [
            0.125,
            "rgb(254,224,210)"
           ],
           [
            0.25,
            "rgb(252,187,161)"
           ],
           [
            0.375,
            "rgb(252,146,114)"
           ],
           [
            0.5,
            "rgb(251,106,74)"
           ],
           [
            0.625,
            "rgb(239,59,44)"
           ],
           [
            0.75,
            "rgb(203,24,29)"
           ],
           [
            0.875,
            "rgb(165,15,21)"
           ],
           [
            1,
            "rgb(103,0,13)"
           ]
          ],
          "line": {
           "color": "Grey",
           "width": 0.5
          }
         },
         "mode": "markers",
         "showlegend": false,
         "text": [
          "{<br>  \"number\": 2,<br>  \"values\": [<br>    0.01600555204473341,<br>    0.3123702849612914<br>  ],<br>  \"params\": {<br>    \"n_estimators\": 4214,<br>    \"num_leaves\": 83,<br>    \"max_depth\": 15,<br>    \"min_child_samples\": 197,<br>    \"learning_rate\": 0.00018967079087098314,<br>    \"boosting_type\": \"goss\"<br>  }<br>}",
          "{<br>  \"number\": 3,<br>  \"values\": [<br>    0.05131782803128828,<br>    0.552842292135654<br>  ],<br>  \"params\": {<br>    \"n_estimators\": 4616,<br>    \"num_leaves\": 614,<br>    \"max_depth\": 3,<br>    \"min_child_samples\": 60,<br>    \"learning_rate\": 0.0014734619616239876,<br>    \"boosting_type\": \"gbdt\"<br>  }<br>}",
          "{<br>  \"number\": 9,<br>  \"values\": [<br>    0.05588196807197658,<br>    0.5917760207910101<br>  ],<br>  \"params\": {<br>    \"n_estimators\": 402,<br>    \"num_leaves\": 275,<br>    \"max_depth\": 6,<br>    \"min_child_samples\": 16,<br>    \"learning_rate\": 0.009713563512447097,<br>    \"boosting_type\": \"goss\"<br>  }<br>}",
          "{<br>  \"number\": 11,<br>  \"values\": [<br>    0.0,<br>    0.0<br>  ],<br>  \"params\": {<br>    \"n_estimators\": 5185,<br>    \"num_leaves\": 20,<br>    \"max_depth\": 19,<br>    \"min_child_samples\": 78,<br>    \"learning_rate\": 6.150879302042816e-05,<br>    \"boosting_type\": \"gbdt\"<br>  }<br>}",
          "{<br>  \"number\": 14,<br>  \"values\": [<br>    0.0658261700332782,<br>    0.6427011841358736<br>  ],<br>  \"params\": {<br>    \"n_estimators\": 5851,<br>    \"num_leaves\": 879,<br>    \"max_depth\": 10,<br>    \"min_child_samples\": 116,<br>    \"learning_rate\": 0.0041467449765888766,<br>    \"boosting_type\": \"gbdt\"<br>  }<br>}",
          "{<br>  \"number\": 15,<br>  \"values\": [<br>    0.0,<br>    0.0<br>  ],<br>  \"params\": {<br>    \"n_estimators\": 3011,<br>    \"num_leaves\": 24,<br>    \"max_depth\": 17,<br>    \"min_child_samples\": 72,<br>    \"learning_rate\": 2.881746463234404e-05,<br>    \"boosting_type\": \"goss\"<br>  }<br>}",
          "{<br>  \"number\": 21,<br>  \"values\": [<br>    0.058735270950568595,<br>    0.6268727465729608<br>  ],<br>  \"params\": {<br>    \"n_estimators\": 5572,<br>    \"num_leaves\": 615,<br>    \"max_depth\": 9,<br>    \"min_child_samples\": 100,<br>    \"learning_rate\": 0.0016933805077701425,<br>    \"boosting_type\": \"gbdt\"<br>  }<br>}",
          "{<br>  \"number\": 23,<br>  \"values\": [<br>    0.047032716456547455,<br>    0.524177785098556<br>  ],<br>  \"params\": {<br>    \"n_estimators\": 6796,<br>    \"num_leaves\": 443,<br>    \"max_depth\": 2,<br>    \"min_child_samples\": 94,<br>    \"learning_rate\": 0.0009819297835850804,<br>    \"boosting_type\": \"gbdt\"<br>  }<br>}",
          "{<br>  \"number\": 24,<br>  \"values\": [<br>    0.05229262667433676,<br>    0.5545544391368803<br>  ],<br>  \"params\": {<br>    \"n_estimators\": 6990,<br>    \"num_leaves\": 420,<br>    \"max_depth\": 5,<br>    \"min_child_samples\": 141,<br>    \"learning_rate\": 0.0006164281130124388,<br>    \"boosting_type\": \"gbdt\"<br>  }<br>}",
          "{<br>  \"number\": 25,<br>  \"values\": [<br>    0.05584163371650928,<br>    0.5810849393290507<br>  ],<br>  \"params\": {<br>    \"n_estimators\": 8462,<br>    \"num_leaves\": 137,<br>    \"max_depth\": 2,<br>    \"min_child_samples\": 95,<br>    \"learning_rate\": 0.0022908967342105267,<br>    \"boosting_type\": \"gbdt\"<br>  }<br>}",
          "{<br>  \"number\": 35,<br>  \"values\": [<br>    0.04732330465683706,<br>    0.5246033053313568<br>  ],<br>  \"params\": {<br>    \"n_estimators\": 3170,<br>    \"num_leaves\": 621,<br>    \"max_depth\": 2,<br>    \"min_child_samples\": 258,<br>    \"learning_rate\": 0.00217415628182655,<br>    \"boosting_type\": \"gbdt\"<br>  }<br>}",
          "{<br>  \"number\": 36,<br>  \"values\": [<br>    0.022985877331948498,<br>    0.3859569172203005<br>  ],<br>  \"params\": {<br>    \"n_estimators\": 5064,<br>    \"num_leaves\": 329,<br>    \"max_depth\": 6,<br>    \"min_child_samples\": 89,<br>    \"learning_rate\": 0.00018062087992321102,<br>    \"boosting_type\": \"goss\"<br>  }<br>}",
          "{<br>  \"number\": 37,<br>  \"values\": [<br>    0.0,<br>    0.0<br>  ],<br>  \"params\": {<br>    \"n_estimators\": 4743,<br>    \"num_leaves\": 349,<br>    \"max_depth\": 6,<br>    \"min_child_samples\": 299,<br>    \"learning_rate\": 5.5787308161305135e-05,<br>    \"boosting_type\": \"goss\"<br>  }<br>}",
          "{<br>  \"number\": 46,<br>  \"values\": [<br>    0.0,<br>    0.0<br>  ],<br>  \"params\": {<br>    \"n_estimators\": 4900,<br>    \"num_leaves\": 96,<br>    \"max_depth\": 7,<br>    \"min_child_samples\": 68,<br>    \"learning_rate\": 4.287074579800159e-05,<br>    \"boosting_type\": \"gbdt\"<br>  }<br>}",
          "{<br>  \"number\": 50,<br>  \"values\": [<br>    0.05629865126660216,<br>    0.608470140375922<br>  ],<br>  \"params\": {<br>    \"n_estimators\": 5950,<br>    \"num_leaves\": 399,<br>    \"max_depth\": 4,<br>    \"min_child_samples\": 84,<br>    \"learning_rate\": 0.0020654691823356565,<br>    \"boosting_type\": \"gbdt\"<br>  }<br>}",
          "{<br>  \"number\": 53,<br>  \"values\": [<br>    0.05432906015287127,<br>    0.5738117461886199<br>  ],<br>  \"params\": {<br>    \"n_estimators\": 8318,<br>    \"num_leaves\": 73,<br>    \"max_depth\": 2,<br>    \"min_child_samples\": 55,<br>    \"learning_rate\": 0.0019834874199340887,<br>    \"boosting_type\": \"gbdt\"<br>  }<br>}",
          "{<br>  \"number\": 55,<br>  \"values\": [<br>    0.0,<br>    0.0<br>  ],<br>  \"params\": {<br>    \"n_estimators\": 29,<br>    \"num_leaves\": 436,<br>    \"max_depth\": 12,<br>    \"min_child_samples\": 75,<br>    \"learning_rate\": 0.0008441841357775003,<br>    \"boosting_type\": \"gbdt\"<br>  }<br>}",
          "{<br>  \"number\": 57,<br>  \"values\": [<br>    0.034686376034537544,<br>    0.46384267647650945<br>  ],<br>  \"params\": {<br>    \"n_estimators\": 4480,<br>    \"num_leaves\": 489,<br>    \"max_depth\": 10,<br>    \"min_child_samples\": 103,<br>    \"learning_rate\": 0.0003139132904673276,<br>    \"boosting_type\": \"gbdt\"<br>  }<br>}",
          "{<br>  \"number\": 58,<br>  \"values\": [<br>    0.04144815300003881,<br>    0.48438386500485003<br>  ],<br>  \"params\": {<br>    \"n_estimators\": 4608,<br>    \"num_leaves\": 490,<br>    \"max_depth\": 10,<br>    \"min_child_samples\": 153,<br>    \"learning_rate\": 0.00033436528863203027,<br>    \"boosting_type\": \"gbdt\"<br>  }<br>}",
          "{<br>  \"number\": 60,<br>  \"values\": [<br>    0.028913638204358178,<br>    0.42105638829407566<br>  ],<br>  \"params\": {<br>    \"n_estimators\": 4195,<br>    \"num_leaves\": 479,<br>    \"max_depth\": 13,<br>    \"min_child_samples\": 112,<br>    \"learning_rate\": 0.00027612357201090715,<br>    \"boosting_type\": \"gbdt\"<br>  }<br>}",
          "{<br>  \"number\": 61,<br>  \"values\": [<br>    0.036822675851548324,<br>    0.47753710719449477<br>  ],<br>  \"params\": {<br>    \"n_estimators\": 4350,<br>    \"num_leaves\": 475,<br>    \"max_depth\": 13,<br>    \"min_child_samples\": 103,<br>    \"learning_rate\": 0.00034183314794595414,<br>    \"boosting_type\": \"gbdt\"<br>  }<br>}",
          "{<br>  \"number\": 65,<br>  \"values\": [<br>    0.022210968425726518,<br>    0.3786809787880452<br>  ],<br>  \"params\": {<br>    \"n_estimators\": 4098,<br>    \"num_leaves\": 431,<br>    \"max_depth\": 16,<br>    \"min_child_samples\": 135,<br>    \"learning_rate\": 0.00022570894172132397,<br>    \"boosting_type\": \"gbdt\"<br>  }<br>}",
          "{<br>  \"number\": 67,<br>  \"values\": [<br>    0.0,<br>    0.0<br>  ],<br>  \"params\": {<br>    \"n_estimators\": 5236,<br>    \"num_leaves\": 675,<br>    \"max_depth\": 13,<br>    \"min_child_samples\": 103,<br>    \"learning_rate\": 5.3972481459519175e-05,<br>    \"boosting_type\": \"gbdt\"<br>  }<br>}",
          "{<br>  \"number\": 69,<br>  \"values\": [<br>    0.06170969461512721,<br>    0.6371392228993942<br>  ],<br>  \"params\": {<br>    \"n_estimators\": 4403,<br>    \"num_leaves\": 600,<br>    \"max_depth\": 14,<br>    \"min_child_samples\": 97,<br>    \"learning_rate\": 0.001925137919236911,<br>    \"boosting_type\": \"gbdt\"<br>  }<br>}",
          "{<br>  \"number\": 74,<br>  \"values\": [<br>    0.04698015659394581,<br>    0.5139067332857483<br>  ],<br>  \"params\": {<br>    \"n_estimators\": 5866,<br>    \"num_leaves\": 448,<br>    \"max_depth\": 13,<br>    \"min_child_samples\": 82,<br>    \"learning_rate\": 0.00030893196111803577,<br>    \"boosting_type\": \"gbdt\"<br>  }<br>}",
          "{<br>  \"number\": 76,<br>  \"values\": [<br>    0.05390456043631152,<br>    0.5566930214681821<br>  ],<br>  \"params\": {<br>    \"n_estimators\": 3934,<br>    \"num_leaves\": 414,<br>    \"max_depth\": 2,<br>    \"min_child_samples\": 63,<br>    \"learning_rate\": 0.0034497471450903702,<br>    \"boosting_type\": \"gbdt\"<br>  }<br>}",
          "{<br>  \"number\": 78,<br>  \"values\": [<br>    0.0,<br>    0.0<br>  ],<br>  \"params\": {<br>    \"n_estimators\": 4622,<br>    \"num_leaves\": 643,<br>    \"max_depth\": 12,<br>    \"min_child_samples\": 165,<br>    \"learning_rate\": 2.396383995311997e-05,<br>    \"boosting_type\": \"gbdt\"<br>  }<br>}",
          "{<br>  \"number\": 79,<br>  \"values\": [<br>    0.04922794256785929,<br>    0.5335904756675636<br>  ],<br>  \"params\": {<br>    \"n_estimators\": 5125,<br>    \"num_leaves\": 475,<br>    \"max_depth\": 3,<br>    \"min_child_samples\": 111,<br>    \"learning_rate\": 0.0010651287312940898,<br>    \"boosting_type\": \"gbdt\"<br>  }<br>}",
          "{<br>  \"number\": 86,<br>  \"values\": [<br>    0.05763847005174274,<br>    0.6165989494683285<br>  ],<br>  \"params\": {<br>    \"n_estimators\": 8946,<br>    \"num_leaves\": 116,<br>    \"max_depth\": 3,<br>    \"min_child_samples\": 76,<br>    \"learning_rate\": 0.0023188334123293644,<br>    \"boosting_type\": \"gbdt\"<br>  }<br>}",
          "{<br>  \"number\": 88,<br>  \"values\": [<br>    0.03262168517574003,<br>    0.42705393583337903<br>  ],<br>  \"params\": {<br>    \"n_estimators\": 4207,<br>    \"num_leaves\": 246,<br>    \"max_depth\": 4,<br>    \"min_child_samples\": 120,<br>    \"learning_rate\": 0.0002580963411267745,<br>    \"boosting_type\": \"gbdt\"<br>  }<br>}",
          "{<br>  \"number\": 91,<br>  \"values\": [<br>    0.006015447926877632,<br>    0.26871282417320963<br>  ],<br>  \"params\": {<br>    \"n_estimators\": 1133,<br>    \"num_leaves\": 967,<br>    \"max_depth\": 9,<br>    \"min_child_samples\": 99,<br>    \"learning_rate\": 0.00054794492298377,<br>    \"boosting_type\": \"goss\"<br>  }<br>}",
          "{<br>  \"number\": 93,<br>  \"values\": [<br>    0.0,<br>    0.0<br>  ],<br>  \"params\": {<br>    \"n_estimators\": 1318,<br>    \"num_leaves\": 933,<br>    \"max_depth\": 9,<br>    \"min_child_samples\": 78,<br>    \"learning_rate\": 0.00021062171210773723,<br>    \"boosting_type\": \"goss\"<br>  }<br>}",
          "{<br>  \"number\": 99,<br>  \"values\": [<br>    0.027209821446049404,<br>    0.413776789472721<br>  ],<br>  \"params\": {<br>    \"n_estimators\": 5520,<br>    \"num_leaves\": 335,<br>    \"max_depth\": 6,<br>    \"min_child_samples\": 137,<br>    \"learning_rate\": 0.0001968270340170394,<br>    \"boosting_type\": \"goss\"<br>  }<br>}"
         ],
         "type": "scatter",
         "x": [
          0.01600555204473341,
          0.05131782803128828,
          0.05588196807197658,
          0,
          0.0658261700332782,
          0,
          0.058735270950568595,
          0.047032716456547455,
          0.05229262667433676,
          0.05584163371650928,
          0.04732330465683706,
          0.022985877331948498,
          0,
          0,
          0.05629865126660216,
          0.05432906015287127,
          0,
          0.034686376034537544,
          0.04144815300003881,
          0.028913638204358178,
          0.036822675851548324,
          0.022210968425726518,
          0,
          0.06170969461512721,
          0.04698015659394581,
          0.05390456043631152,
          0,
          0.04922794256785929,
          0.05763847005174274,
          0.03262168517574003,
          0.006015447926877632,
          0,
          0.027209821446049404
         ],
         "y": [
          0.3123702849612914,
          0.552842292135654,
          0.5917760207910101,
          0,
          0.6427011841358736,
          0,
          0.6268727465729608,
          0.524177785098556,
          0.5545544391368803,
          0.5810849393290507,
          0.5246033053313568,
          0.3859569172203005,
          0,
          0,
          0.608470140375922,
          0.5738117461886199,
          0,
          0.46384267647650945,
          0.48438386500485003,
          0.42105638829407566,
          0.47753710719449477,
          0.3786809787880452,
          0,
          0.6371392228993942,
          0.5139067332857483,
          0.5566930214681821,
          0,
          0.5335904756675636,
          0.6165989494683285,
          0.42705393583337903,
          0.26871282417320963,
          0,
          0.413776789472721
         ]
        }
       ],
       "layout": {
        "template": {
         "data": {
          "bar": [
           {
            "error_x": {
             "color": "#2a3f5f"
            },
            "error_y": {
             "color": "#2a3f5f"
            },
            "marker": {
             "line": {
              "color": "#E5ECF6",
              "width": 0.5
             },
             "pattern": {
              "fillmode": "overlay",
              "size": 10,
              "solidity": 0.2
             }
            },
            "type": "bar"
           }
          ],
          "barpolar": [
           {
            "marker": {
             "line": {
              "color": "#E5ECF6",
              "width": 0.5
             },
             "pattern": {
              "fillmode": "overlay",
              "size": 10,
              "solidity": 0.2
             }
            },
            "type": "barpolar"
           }
          ],
          "carpet": [
           {
            "aaxis": {
             "endlinecolor": "#2a3f5f",
             "gridcolor": "white",
             "linecolor": "white",
             "minorgridcolor": "white",
             "startlinecolor": "#2a3f5f"
            },
            "baxis": {
             "endlinecolor": "#2a3f5f",
             "gridcolor": "white",
             "linecolor": "white",
             "minorgridcolor": "white",
             "startlinecolor": "#2a3f5f"
            },
            "type": "carpet"
           }
          ],
          "choropleth": [
           {
            "colorbar": {
             "outlinewidth": 0,
             "ticks": ""
            },
            "type": "choropleth"
           }
          ],
          "contour": [
           {
            "colorbar": {
             "outlinewidth": 0,
             "ticks": ""
            },
            "colorscale": [
             [
              0,
              "#0d0887"
             ],
             [
              0.1111111111111111,
              "#46039f"
             ],
             [
              0.2222222222222222,
              "#7201a8"
             ],
             [
              0.3333333333333333,
              "#9c179e"
             ],
             [
              0.4444444444444444,
              "#bd3786"
             ],
             [
              0.5555555555555556,
              "#d8576b"
             ],
             [
              0.6666666666666666,
              "#ed7953"
             ],
             [
              0.7777777777777778,
              "#fb9f3a"
             ],
             [
              0.8888888888888888,
              "#fdca26"
             ],
             [
              1,
              "#f0f921"
             ]
            ],
            "type": "contour"
           }
          ],
          "contourcarpet": [
           {
            "colorbar": {
             "outlinewidth": 0,
             "ticks": ""
            },
            "type": "contourcarpet"
           }
          ],
          "heatmap": [
           {
            "colorbar": {
             "outlinewidth": 0,
             "ticks": ""
            },
            "colorscale": [
             [
              0,
              "#0d0887"
             ],
             [
              0.1111111111111111,
              "#46039f"
             ],
             [
              0.2222222222222222,
              "#7201a8"
             ],
             [
              0.3333333333333333,
              "#9c179e"
             ],
             [
              0.4444444444444444,
              "#bd3786"
             ],
             [
              0.5555555555555556,
              "#d8576b"
             ],
             [
              0.6666666666666666,
              "#ed7953"
             ],
             [
              0.7777777777777778,
              "#fb9f3a"
             ],
             [
              0.8888888888888888,
              "#fdca26"
             ],
             [
              1,
              "#f0f921"
             ]
            ],
            "type": "heatmap"
           }
          ],
          "heatmapgl": [
           {
            "colorbar": {
             "outlinewidth": 0,
             "ticks": ""
            },
            "colorscale": [
             [
              0,
              "#0d0887"
             ],
             [
              0.1111111111111111,
              "#46039f"
             ],
             [
              0.2222222222222222,
              "#7201a8"
             ],
             [
              0.3333333333333333,
              "#9c179e"
             ],
             [
              0.4444444444444444,
              "#bd3786"
             ],
             [
              0.5555555555555556,
              "#d8576b"
             ],
             [
              0.6666666666666666,
              "#ed7953"
             ],
             [
              0.7777777777777778,
              "#fb9f3a"
             ],
             [
              0.8888888888888888,
              "#fdca26"
             ],
             [
              1,
              "#f0f921"
             ]
            ],
            "type": "heatmapgl"
           }
          ],
          "histogram": [
           {
            "marker": {
             "pattern": {
              "fillmode": "overlay",
              "size": 10,
              "solidity": 0.2
             }
            },
            "type": "histogram"
           }
          ],
          "histogram2d": [
           {
            "colorbar": {
             "outlinewidth": 0,
             "ticks": ""
            },
            "colorscale": [
             [
              0,
              "#0d0887"
             ],
             [
              0.1111111111111111,
              "#46039f"
             ],
             [
              0.2222222222222222,
              "#7201a8"
             ],
             [
              0.3333333333333333,
              "#9c179e"
             ],
             [
              0.4444444444444444,
              "#bd3786"
             ],
             [
              0.5555555555555556,
              "#d8576b"
             ],
             [
              0.6666666666666666,
              "#ed7953"
             ],
             [
              0.7777777777777778,
              "#fb9f3a"
             ],
             [
              0.8888888888888888,
              "#fdca26"
             ],
             [
              1,
              "#f0f921"
             ]
            ],
            "type": "histogram2d"
           }
          ],
          "histogram2dcontour": [
           {
            "colorbar": {
             "outlinewidth": 0,
             "ticks": ""
            },
            "colorscale": [
             [
              0,
              "#0d0887"
             ],
             [
              0.1111111111111111,
              "#46039f"
             ],
             [
              0.2222222222222222,
              "#7201a8"
             ],
             [
              0.3333333333333333,
              "#9c179e"
             ],
             [
              0.4444444444444444,
              "#bd3786"
             ],
             [
              0.5555555555555556,
              "#d8576b"
             ],
             [
              0.6666666666666666,
              "#ed7953"
             ],
             [
              0.7777777777777778,
              "#fb9f3a"
             ],
             [
              0.8888888888888888,
              "#fdca26"
             ],
             [
              1,
              "#f0f921"
             ]
            ],
            "type": "histogram2dcontour"
           }
          ],
          "mesh3d": [
           {
            "colorbar": {
             "outlinewidth": 0,
             "ticks": ""
            },
            "type": "mesh3d"
           }
          ],
          "parcoords": [
           {
            "line": {
             "colorbar": {
              "outlinewidth": 0,
              "ticks": ""
             }
            },
            "type": "parcoords"
           }
          ],
          "pie": [
           {
            "automargin": true,
            "type": "pie"
           }
          ],
          "scatter": [
           {
            "fillpattern": {
             "fillmode": "overlay",
             "size": 10,
             "solidity": 0.2
            },
            "type": "scatter"
           }
          ],
          "scatter3d": [
           {
            "line": {
             "colorbar": {
              "outlinewidth": 0,
              "ticks": ""
             }
            },
            "marker": {
             "colorbar": {
              "outlinewidth": 0,
              "ticks": ""
             }
            },
            "type": "scatter3d"
           }
          ],
          "scattercarpet": [
           {
            "marker": {
             "colorbar": {
              "outlinewidth": 0,
              "ticks": ""
             }
            },
            "type": "scattercarpet"
           }
          ],
          "scattergeo": [
           {
            "marker": {
             "colorbar": {
              "outlinewidth": 0,
              "ticks": ""
             }
            },
            "type": "scattergeo"
           }
          ],
          "scattergl": [
           {
            "marker": {
             "colorbar": {
              "outlinewidth": 0,
              "ticks": ""
             }
            },
            "type": "scattergl"
           }
          ],
          "scattermapbox": [
           {
            "marker": {
             "colorbar": {
              "outlinewidth": 0,
              "ticks": ""
             }
            },
            "type": "scattermapbox"
           }
          ],
          "scatterpolar": [
           {
            "marker": {
             "colorbar": {
              "outlinewidth": 0,
              "ticks": ""
             }
            },
            "type": "scatterpolar"
           }
          ],
          "scatterpolargl": [
           {
            "marker": {
             "colorbar": {
              "outlinewidth": 0,
              "ticks": ""
             }
            },
            "type": "scatterpolargl"
           }
          ],
          "scatterternary": [
           {
            "marker": {
             "colorbar": {
              "outlinewidth": 0,
              "ticks": ""
             }
            },
            "type": "scatterternary"
           }
          ],
          "surface": [
           {
            "colorbar": {
             "outlinewidth": 0,
             "ticks": ""
            },
            "colorscale": [
             [
              0,
              "#0d0887"
             ],
             [
              0.1111111111111111,
              "#46039f"
             ],
             [
              0.2222222222222222,
              "#7201a8"
             ],
             [
              0.3333333333333333,
              "#9c179e"
             ],
             [
              0.4444444444444444,
              "#bd3786"
             ],
             [
              0.5555555555555556,
              "#d8576b"
             ],
             [
              0.6666666666666666,
              "#ed7953"
             ],
             [
              0.7777777777777778,
              "#fb9f3a"
             ],
             [
              0.8888888888888888,
              "#fdca26"
             ],
             [
              1,
              "#f0f921"
             ]
            ],
            "type": "surface"
           }
          ],
          "table": [
           {
            "cells": {
             "fill": {
              "color": "#EBF0F8"
             },
             "line": {
              "color": "white"
             }
            },
            "header": {
             "fill": {
              "color": "#C8D4E3"
             },
             "line": {
              "color": "white"
             }
            },
            "type": "table"
           }
          ]
         },
         "layout": {
          "annotationdefaults": {
           "arrowcolor": "#2a3f5f",
           "arrowhead": 0,
           "arrowwidth": 1
          },
          "autotypenumbers": "strict",
          "coloraxis": {
           "colorbar": {
            "outlinewidth": 0,
            "ticks": ""
           }
          },
          "colorscale": {
           "diverging": [
            [
             0,
             "#8e0152"
            ],
            [
             0.1,
             "#c51b7d"
            ],
            [
             0.2,
             "#de77ae"
            ],
            [
             0.3,
             "#f1b6da"
            ],
            [
             0.4,
             "#fde0ef"
            ],
            [
             0.5,
             "#f7f7f7"
            ],
            [
             0.6,
             "#e6f5d0"
            ],
            [
             0.7,
             "#b8e186"
            ],
            [
             0.8,
             "#7fbc41"
            ],
            [
             0.9,
             "#4d9221"
            ],
            [
             1,
             "#276419"
            ]
           ],
           "sequential": [
            [
             0,
             "#0d0887"
            ],
            [
             0.1111111111111111,
             "#46039f"
            ],
            [
             0.2222222222222222,
             "#7201a8"
            ],
            [
             0.3333333333333333,
             "#9c179e"
            ],
            [
             0.4444444444444444,
             "#bd3786"
            ],
            [
             0.5555555555555556,
             "#d8576b"
            ],
            [
             0.6666666666666666,
             "#ed7953"
            ],
            [
             0.7777777777777778,
             "#fb9f3a"
            ],
            [
             0.8888888888888888,
             "#fdca26"
            ],
            [
             1,
             "#f0f921"
            ]
           ],
           "sequentialminus": [
            [
             0,
             "#0d0887"
            ],
            [
             0.1111111111111111,
             "#46039f"
            ],
            [
             0.2222222222222222,
             "#7201a8"
            ],
            [
             0.3333333333333333,
             "#9c179e"
            ],
            [
             0.4444444444444444,
             "#bd3786"
            ],
            [
             0.5555555555555556,
             "#d8576b"
            ],
            [
             0.6666666666666666,
             "#ed7953"
            ],
            [
             0.7777777777777778,
             "#fb9f3a"
            ],
            [
             0.8888888888888888,
             "#fdca26"
            ],
            [
             1,
             "#f0f921"
            ]
           ]
          },
          "colorway": [
           "#636efa",
           "#EF553B",
           "#00cc96",
           "#ab63fa",
           "#FFA15A",
           "#19d3f3",
           "#FF6692",
           "#B6E880",
           "#FF97FF",
           "#FECB52"
          ],
          "font": {
           "color": "#2a3f5f"
          },
          "geo": {
           "bgcolor": "white",
           "lakecolor": "white",
           "landcolor": "#E5ECF6",
           "showlakes": true,
           "showland": true,
           "subunitcolor": "white"
          },
          "hoverlabel": {
           "align": "left"
          },
          "hovermode": "closest",
          "mapbox": {
           "style": "light"
          },
          "paper_bgcolor": "white",
          "plot_bgcolor": "#E5ECF6",
          "polar": {
           "angularaxis": {
            "gridcolor": "white",
            "linecolor": "white",
            "ticks": ""
           },
           "bgcolor": "#E5ECF6",
           "radialaxis": {
            "gridcolor": "white",
            "linecolor": "white",
            "ticks": ""
           }
          },
          "scene": {
           "xaxis": {
            "backgroundcolor": "#E5ECF6",
            "gridcolor": "white",
            "gridwidth": 2,
            "linecolor": "white",
            "showbackground": true,
            "ticks": "",
            "zerolinecolor": "white"
           },
           "yaxis": {
            "backgroundcolor": "#E5ECF6",
            "gridcolor": "white",
            "gridwidth": 2,
            "linecolor": "white",
            "showbackground": true,
            "ticks": "",
            "zerolinecolor": "white"
           },
           "zaxis": {
            "backgroundcolor": "#E5ECF6",
            "gridcolor": "white",
            "gridwidth": 2,
            "linecolor": "white",
            "showbackground": true,
            "ticks": "",
            "zerolinecolor": "white"
           }
          },
          "shapedefaults": {
           "line": {
            "color": "#2a3f5f"
           }
          },
          "ternary": {
           "aaxis": {
            "gridcolor": "white",
            "linecolor": "white",
            "ticks": ""
           },
           "baxis": {
            "gridcolor": "white",
            "linecolor": "white",
            "ticks": ""
           },
           "bgcolor": "#E5ECF6",
           "caxis": {
            "gridcolor": "white",
            "linecolor": "white",
            "ticks": ""
           }
          },
          "title": {
           "x": 0.05
          },
          "xaxis": {
           "automargin": true,
           "gridcolor": "white",
           "linecolor": "white",
           "ticks": "",
           "title": {
            "standoff": 15
           },
           "zerolinecolor": "white",
           "zerolinewidth": 2
          },
          "yaxis": {
           "automargin": true,
           "gridcolor": "white",
           "linecolor": "white",
           "ticks": "",
           "title": {
            "standoff": 15
           },
           "zerolinecolor": "white",
           "zerolinewidth": 2
          }
         }
        },
        "title": {
         "text": "Pareto-front Plot"
        },
        "xaxis": {
         "title": {
          "text": "fair_metric"
         }
        },
        "yaxis": {
         "title": {
          "text": "f1_score"
         }
        }
       }
      }
     },
     "metadata": {},
     "output_type": "display_data"
    }
   ],
   "source": [
    "\n",
    "optuna.visualization.plot_pareto_front(results[0], target_names=[\"fair_metric\", \"f1_score\"], include_dominated_trials = False)"
   ]
  },
  {
   "cell_type": "code",
   "execution_count": 5,
   "metadata": {},
   "outputs": [
    {
     "data": {
      "application/vnd.plotly.v1+json": {
       "config": {
        "plotlyServerURL": "https://plot.ly"
       },
       "data": [
        {
         "hovertemplate": "%{text}<extra>Trial</extra>",
         "marker": {
          "color": [
           0,
           1,
           4,
           5,
           6,
           7,
           8,
           10,
           12,
           13,
           16,
           17,
           18,
           19,
           20,
           22,
           26,
           27,
           28,
           29,
           30,
           31,
           32,
           33,
           34,
           38,
           39,
           40,
           41,
           42,
           43,
           44,
           45,
           47,
           48,
           49,
           51,
           52,
           54,
           56,
           59,
           62,
           63,
           64,
           66,
           68,
           70,
           71,
           72,
           73,
           75,
           77,
           80,
           81,
           82,
           83,
           84,
           85,
           87,
           89,
           90,
           92,
           94,
           95,
           96,
           97,
           98
          ],
          "colorbar": {
           "title": {
            "text": "Trial"
           }
          },
          "colorscale": [
           [
            0,
            "rgb(247,251,255)"
           ],
           [
            0.125,
            "rgb(222,235,247)"
           ],
           [
            0.25,
            "rgb(198,219,239)"
           ],
           [
            0.375,
            "rgb(158,202,225)"
           ],
           [
            0.5,
            "rgb(107,174,214)"
           ],
           [
            0.625,
            "rgb(66,146,198)"
           ],
           [
            0.75,
            "rgb(33,113,181)"
           ],
           [
            0.875,
            "rgb(8,81,156)"
           ],
           [
            1,
            "rgb(8,48,107)"
           ]
          ],
          "line": {
           "color": "Grey",
           "width": 0.5
          }
         },
         "mode": "markers",
         "showlegend": false,
         "text": [
          "{<br>  \"number\": 0,<br>  \"values\": [<br>    0.08403980969616615,<br>    0.6067598235692454<br>  ],<br>  \"params\": {<br>    \"n_estimators\": 7886,<br>    \"num_leaves\": 656,<br>    \"max_depth\": 16,<br>    \"min_child_samples\": 196,<br>    \"learning_rate\": 0.007848984573768852,<br>    \"boosting_type\": \"goss\"<br>  }<br>}",
          "{<br>  \"number\": 1,<br>  \"values\": [<br>    0.08488752438839449,<br>    0.5738199820640935<br>  ],<br>  \"params\": {<br>    \"n_estimators\": 6233,<br>    \"num_leaves\": 596,<br>    \"max_depth\": 7,<br>    \"min_child_samples\": 265,<br>    \"learning_rate\": 0.00884667137875559,<br>    \"boosting_type\": \"goss\"<br>  }<br>}",
          "{<br>  \"number\": 4,<br>  \"values\": [<br>    0.07299738823767432,<br>    0.5601173154706345<br>  ],<br>  \"params\": {<br>    \"n_estimators\": 3408,<br>    \"num_leaves\": 344,<br>    \"max_depth\": 14,<br>    \"min_child_samples\": 188,<br>    \"learning_rate\": 0.001019408130306815,<br>    \"boosting_type\": \"goss\"<br>  }<br>}",
          "{<br>  \"number\": 5,<br>  \"values\": [<br>    0.07083367602033626,<br>    0.637570233715844<br>  ],<br>  \"params\": {<br>    \"n_estimators\": 2479,<br>    \"num_leaves\": 507,<br>    \"max_depth\": 7,<br>    \"min_child_samples\": 154,<br>    \"learning_rate\": 0.00859356516553137,<br>    \"boosting_type\": \"gbdt\"<br>  }<br>}",
          "{<br>  \"number\": 6,<br>  \"values\": [<br>    0.08791026759195038,<br>    0.5661157781072128<br>  ],<br>  \"params\": {<br>    \"n_estimators\": 3974,<br>    \"num_leaves\": 527,<br>    \"max_depth\": 11,<br>    \"min_child_samples\": 281,<br>    \"learning_rate\": 0.006478465057062566,<br>    \"boosting_type\": \"goss\"<br>  }<br>}",
          "{<br>  \"number\": 7,<br>  \"values\": [<br>    0.07732291193449149,<br>    0.6230137813649591<br>  ],<br>  \"params\": {<br>    \"n_estimators\": 6879,<br>    \"num_leaves\": 399,<br>    \"max_depth\": 12,<br>    \"min_child_samples\": 256,<br>    \"learning_rate\": 0.0075678420606321165,<br>    \"boosting_type\": \"gbdt\"<br>  }<br>}",
          "{<br>  \"number\": 8,<br>  \"values\": [<br>    0.06447041835424043,<br>    0.6298623693698641<br>  ],<br>  \"params\": {<br>    \"n_estimators\": 1185,<br>    \"num_leaves\": 697,<br>    \"max_depth\": 13,<br>    \"min_child_samples\": 122,<br>    \"learning_rate\": 0.007752347784288804,<br>    \"boosting_type\": \"gbdt\"<br>  }<br>}",
          "{<br>  \"number\": 10,<br>  \"values\": [<br>    0.05993813051432826,<br>    0.5917815113746592<br>  ],<br>  \"params\": {<br>    \"n_estimators\": 9033,<br>    \"num_leaves\": 981,<br>    \"max_depth\": 2,<br>    \"min_child_samples\": 30,<br>    \"learning_rate\": 0.0027904553000945307,<br>    \"boosting_type\": \"gbdt\"<br>  }<br>}",
          "{<br>  \"number\": 12,<br>  \"values\": [<br>    0.05802994329049945,<br>    0.597346217902963<br>  ],<br>  \"params\": {<br>    \"n_estimators\": 4698,<br>    \"num_leaves\": 159,<br>    \"max_depth\": 3,<br>    \"min_child_samples\": 79,<br>    \"learning_rate\": 0.002949552705089534,<br>    \"boosting_type\": \"gbdt\"<br>  }<br>}",
          "{<br>  \"number\": 13,<br>  \"values\": [<br>    0.08175501567262618,<br>    0.55455626933143<br>  ],<br>  \"params\": {<br>    \"n_estimators\": 2449,<br>    \"num_leaves\": 801,<br>    \"max_depth\": 19,<br>    \"min_child_samples\": 229,<br>    \"learning_rate\": 0.0018578901106724257,<br>    \"boosting_type\": \"goss\"<br>  }<br>}",
          "{<br>  \"number\": 16,<br>  \"values\": [<br>    0.06783552226337221,<br>    0.6187421072860044<br>  ],<br>  \"params\": {<br>    \"n_estimators\": 7635,<br>    \"num_leaves\": 234,<br>    \"max_depth\": 9,<br>    \"min_child_samples\": 167,<br>    \"learning_rate\": 0.001169341185054704,<br>    \"boosting_type\": \"gbdt\"<br>  }<br>}",
          "{<br>  \"number\": 17,<br>  \"values\": [<br>    0.08021772310859718,<br>    0.5896438441406321<br>  ],<br>  \"params\": {<br>    \"n_estimators\": 9975,<br>    \"num_leaves\": 395,<br>    \"max_depth\": 4,<br>    \"min_child_samples\": 222,<br>    \"learning_rate\": 0.004578987768361728,<br>    \"boosting_type\": \"goss\"<br>  }<br>}",
          "{<br>  \"number\": 18,<br>  \"values\": [<br>    0.06587594707614716,<br>    0.6341468548106665<br>  ],<br>  \"params\": {<br>    \"n_estimators\": 4527,<br>    \"num_leaves\": 728,<br>    \"max_depth\": 15,<br>    \"min_child_samples\": 122,<br>    \"learning_rate\": 0.0027835685042685303,<br>    \"boosting_type\": \"gbdt\"<br>  }<br>}",
          "{<br>  \"number\": 19,<br>  \"values\": [<br>    0.06468982040054055,<br>    0.6230201870458829<br>  ],<br>  \"params\": {<br>    \"n_estimators\": 1721,<br>    \"num_leaves\": 144,<br>    \"max_depth\": 5,<br>    \"min_child_samples\": 45,<br>    \"learning_rate\": 0.005641338028972757,<br>    \"boosting_type\": \"goss\"<br>  }<br>}",
          "{<br>  \"number\": 20,<br>  \"values\": [<br>    0.06034497336121536,<br>    0.6255897801936345<br>  ],<br>  \"params\": {<br>    \"n_estimators\": 5637,<br>    \"num_leaves\": 575,<br>    \"max_depth\": 8,<br>    \"min_child_samples\": 109,<br>    \"learning_rate\": 0.00177485566881668,<br>    \"boosting_type\": \"gbdt\"<br>  }<br>}",
          "{<br>  \"number\": 22,<br>  \"values\": [<br>    0.07308520952053614,<br>    0.6345742052380168<br>  ],<br>  \"params\": {<br>    \"n_estimators\": 3996,<br>    \"num_leaves\": 777,<br>    \"max_depth\": 17,<br>    \"min_child_samples\": 59,<br>    \"learning_rate\": 0.0036786184517919097,<br>    \"boosting_type\": \"gbdt\"<br>  }<br>}",
          "{<br>  \"number\": 26,<br>  \"values\": [<br>    0.06718508253640204,<br>    0.6161789198191767<br>  ],<br>  \"params\": {<br>    \"n_estimators\": 6818,<br>    \"num_leaves\": 290,<br>    \"max_depth\": 11,<br>    \"min_child_samples\": 173,<br>    \"learning_rate\": 0.0009382298353530007,<br>    \"boosting_type\": \"gbdt\"<br>  }<br>}",
          "{<br>  \"number\": 27,<br>  \"values\": [<br>    0.07255747698541665,<br>    0.5665367228536393<br>  ],<br>  \"params\": {<br>    \"n_estimators\": 6226,<br>    \"num_leaves\": 957,<br>    \"max_depth\": 20,<br>    \"min_child_samples\": 144,<br>    \"learning_rate\": 0.000549246259748212,<br>    \"boosting_type\": \"goss\"<br>  }<br>}",
          "{<br>  \"number\": 28,<br>  \"values\": [<br>    0.06586026130458449,<br>    0.6268681710865865<br>  ],<br>  \"params\": {<br>    \"n_estimators\": 9663,<br>    \"num_leaves\": 480,<br>    \"max_depth\": 9,<br>    \"min_child_samples\": 207,<br>    \"learning_rate\": 0.001626785626542323,<br>    \"boosting_type\": \"gbdt\"<br>  }<br>}",
          "{<br>  \"number\": 29,<br>  \"values\": [<br>    0.07466767395081039,<br>    0.6204606599681547<br>  ],<br>  \"params\": {<br>    \"n_estimators\": 7993,<br>    \"num_leaves\": 670,<br>    \"max_depth\": 16,<br>    \"min_child_samples\": 104,<br>    \"learning_rate\": 0.0033309186142317995,<br>    \"boosting_type\": \"goss\"<br>  }<br>}",
          "{<br>  \"number\": 30,<br>  \"values\": [<br>    0.06784444044890543,<br>    0.6148858873698274<br>  ],<br>  \"params\": {<br>    \"n_estimators\": 7201,<br>    \"num_leaves\": 83,<br>    \"max_depth\": 13,<br>    \"min_child_samples\": 8,<br>    \"learning_rate\": 0.0023490977714091896,<br>    \"boosting_type\": \"gbdt\"<br>  }<br>}",
          "{<br>  \"number\": 31,<br>  \"values\": [<br>    0.0698546320505162,<br>    0.5532751331466536<br>  ],<br>  \"params\": {<br>    \"n_estimators\": 5372,<br>    \"num_leaves\": 615,<br>    \"max_depth\": 3,<br>    \"min_child_samples\": 197,<br>    \"learning_rate\": 0.001271339403986087,<br>    \"boosting_type\": \"goss\"<br>  }<br>}",
          "{<br>  \"number\": 32,<br>  \"values\": [<br>    0.049744713073397374,<br>    0.44587291129047013<br>  ],<br>  \"params\": {<br>    \"n_estimators\": 4193,<br>    \"num_leaves\": 456,<br>    \"max_depth\": 4,<br>    \"min_child_samples\": 236,<br>    \"learning_rate\": 0.0004311815282671283,<br>    \"boosting_type\": \"goss\"<br>  }<br>}",
          "{<br>  \"number\": 33,<br>  \"values\": [<br>    0.07595690573967331,<br>    0.6277274474276616<br>  ],<br>  \"params\": {<br>    \"n_estimators\": 6305,<br>    \"num_leaves\": 562,<br>    \"max_depth\": 15,<br>    \"min_child_samples\": 45,<br>    \"learning_rate\": 0.001367074401080211,<br>    \"boosting_type\": \"goss\"<br>  }<br>}",
          "{<br>  \"number\": 34,<br>  \"values\": [<br>    0.07096133114340183,<br>    0.554126173612255<br>  ],<br>  \"params\": {<br>    \"n_estimators\": 3650,<br>    \"num_leaves\": 231,<br>    \"max_depth\": 7,<br>    \"min_child_samples\": 178,<br>    \"learning_rate\": 0.0009046391692476898,<br>    \"boosting_type\": \"goss\"<br>  }<br>}",
          "{<br>  \"number\": 38,<br>  \"values\": [<br>    0.06812623141483529,<br>    0.6277283625249365<br>  ],<br>  \"params\": {<br>    \"n_estimators\": 2671,<br>    \"num_leaves\": 520,<br>    \"max_depth\": 8,<br>    \"min_child_samples\": 50,<br>    \"learning_rate\": 0.00533694795662182,<br>    \"boosting_type\": \"goss\"<br>  }<br>}",
          "{<br>  \"number\": 39,<br>  \"values\": [<br>    0.0738484526165707,<br>    0.6196013836270795<br>  ],<br>  \"params\": {<br>    \"n_estimators\": 5073,<br>    \"num_leaves\": 361,<br>    \"max_depth\": 6,<br>    \"min_child_samples\": 133,<br>    \"learning_rate\": 0.006544560331319402,<br>    \"boosting_type\": \"goss\"<br>  }<br>}",
          "{<br>  \"number\": 40,<br>  \"values\": [<br>    0.05197988198710988,<br>    0.5395788722341186<br>  ],<br>  \"params\": {<br>    \"n_estimators\": 1923,<br>    \"num_leaves\": 729,<br>    \"max_depth\": 4,<br>    \"min_child_samples\": 27,<br>    \"learning_rate\": 0.0017515040823263305,<br>    \"boosting_type\": \"goss\"<br>  }<br>}",
          "{<br>  \"number\": 41,<br>  \"values\": [<br>    0.06487254002318298,<br>    0.5909204048390344<br>  ],<br>  \"params\": {<br>    \"n_estimators\": 6139,<br>    \"num_leaves\": 291,<br>    \"max_depth\": 8,<br>    \"min_child_samples\": 84,<br>    \"learning_rate\": 0.000667455256232852,<br>    \"boosting_type\": \"goss\"<br>  }<br>}",
          "{<br>  \"number\": 42,<br>  \"values\": [<br>    0.06605884377821877,<br>    0.5960550156481634<br>  ],<br>  \"params\": {<br>    \"n_estimators\": 5612,<br>    \"num_leaves\": 452,<br>    \"max_depth\": 5,<br>    \"min_child_samples\": 98,<br>    \"learning_rate\": 0.0011827379673322947,<br>    \"boosting_type\": \"goss\"<br>  }<br>}",
          "{<br>  \"number\": 43,<br>  \"values\": [<br>    0.0508423513356949,<br>    0.514332253518549<br>  ],<br>  \"params\": {<br>    \"n_estimators\": 6566,<br>    \"num_leaves\": 217,<br>    \"max_depth\": 3,<br>    \"min_child_samples\": 63,<br>    \"learning_rate\": 0.0004800267758756367,<br>    \"boosting_type\": \"goss\"<br>  }<br>}",
          "{<br>  \"number\": 44,<br>  \"values\": [<br>    0.07117758677189971,<br>    0.6123245300975494<br>  ],<br>  \"params\": {<br>    \"n_estimators\": 573,<br>    \"num_leaves\": 531,<br>    \"max_depth\": 10,<br>    \"min_child_samples\": 90,<br>    \"learning_rate\": 0.009646732325799944,<br>    \"boosting_type\": \"goss\"<br>  }<br>}",
          "{<br>  \"number\": 45,<br>  \"values\": [<br>    0.07656464141740747,<br>    0.6362799465583191<br>  ],<br>  \"params\": {<br>    \"n_estimators\": 4384,<br>    \"num_leaves\": 328,<br>    \"max_depth\": 12,<br>    \"min_child_samples\": 156,<br>    \"learning_rate\": 0.00713806475202209,<br>    \"boosting_type\": \"gbdt\"<br>  }<br>}",
          "{<br>  \"number\": 47,<br>  \"values\": [<br>    0.06901642863327595,<br>    0.599478394553341<br>  ],<br>  \"params\": {<br>    \"n_estimators\": 7552,<br>    \"num_leaves\": 860,<br>    \"max_depth\": 6,<br>    \"min_child_samples\": 126,<br>    \"learning_rate\": 0.0009782727925913665,<br>    \"boosting_type\": \"goss\"<br>  }<br>}",
          "{<br>  \"number\": 48,<br>  \"values\": [<br>    0.07097363232683054,<br>    0.6307189004191145<br>  ],<br>  \"params\": {<br>    \"n_estimators\": 3608,<br>    \"num_leaves\": 187,<br>    \"max_depth\": 7,<br>    \"min_child_samples\": 29,<br>    \"learning_rate\": 0.008463852432768723,<br>    \"boosting_type\": \"gbdt\"<br>  }<br>}",
          "{<br>  \"number\": 49,<br>  \"values\": [<br>    0.06947480722883906,<br>    0.6114597631728252<br>  ],<br>  \"params\": {<br>    \"n_estimators\": 5380,<br>    \"num_leaves\": 630,<br>    \"max_depth\": 9,<br>    \"min_child_samples\": 109,<br>    \"learning_rate\": 0.0014355767495971953,<br>    \"boosting_type\": \"goss\"<br>  }<br>}",
          "{<br>  \"number\": 51,<br>  \"values\": [<br>    0.06469571389881276,<br>    0.622584600743059<br>  ],<br>  \"params\": {<br>    \"n_estimators\": 5986,<br>    \"num_leaves\": 405,<br>    \"max_depth\": 3,<br>    \"min_child_samples\": 82,<br>    \"learning_rate\": 0.004595985782511723,<br>    \"boosting_type\": \"goss\"<br>  }<br>}",
          "{<br>  \"number\": 52,<br>  \"values\": [<br>    0.048317518924080996,<br>    0.4356036896722121<br>  ],<br>  \"params\": {<br>    \"n_estimators\": 3929,<br>    \"num_leaves\": 263,<br>    \"max_depth\": 4,<br>    \"min_child_samples\": 277,<br>    \"learning_rate\": 0.00037306069283268416,<br>    \"boosting_type\": \"goss\"<br>  }<br>}",
          "{<br>  \"number\": 54,<br>  \"values\": [<br>    0.06838635076681862,<br>    0.6101749665989494<br>  ],<br>  \"params\": {<br>    \"n_estimators\": 5068,<br>    \"num_leaves\": 375,<br>    \"max_depth\": 5,<br>    \"min_child_samples\": 116,<br>    \"learning_rate\": 0.002719468601909703,<br>    \"boosting_type\": \"goss\"<br>  }<br>}",
          "{<br>  \"number\": 56,<br>  \"values\": [<br>    0.07254048394459703,<br>    0.6217427112502059<br>  ],<br>  \"params\": {<br>    \"n_estimators\": 5696,<br>    \"num_leaves\": 565,<br>    \"max_depth\": 18,<br>    \"min_child_samples\": 91,<br>    \"learning_rate\": 0.001491605654038255,<br>    \"boosting_type\": \"goss\"<br>  }<br>}",
          "{<br>  \"number\": 59,<br>  \"values\": [<br>    0.06510209095860578,<br>    0.6157469939054521<br>  ],<br>  \"params\": {<br>    \"n_estimators\": 6557,<br>    \"num_leaves\": 315,<br>    \"max_depth\": 11,<br>    \"min_child_samples\": 129,<br>    \"learning_rate\": 0.0008254900955827509,<br>    \"boosting_type\": \"gbdt\"<br>  }<br>}",
          "{<br>  \"number\": 62,<br>  \"values\": [<br>    0.05922490573817234,<br>    0.6007705119054155<br>  ],<br>  \"params\": {<br>    \"n_estimators\": 3312,<br>    \"num_leaves\": 539,<br>    \"max_depth\": 14,<br>    \"min_child_samples\": 113,<br>    \"learning_rate\": 0.0011336899491814418,<br>    \"boosting_type\": \"gbdt\"<br>  }<br>}",
          "{<br>  \"number\": 63,<br>  \"values\": [<br>    0.04834714545389609,<br>    0.524602390234082<br>  ],<br>  \"params\": {<br>    \"n_estimators\": 2792,<br>    \"num_leaves\": 401,<br>    \"max_depth\": 14,<br>    \"min_child_samples\": 89,<br>    \"learning_rate\": 0.000675777180686478,<br>    \"boosting_type\": \"gbdt\"<br>  }<br>}",
          "{<br>  \"number\": 64,<br>  \"values\": [<br>    0.05884290401569474,<br>    0.6268690861838613<br>  ],<br>  \"params\": {<br>    \"n_estimators\": 3761,<br>    \"num_leaves\": 466,<br>    \"max_depth\": 13,<br>    \"min_child_samples\": 74,<br>    \"learning_rate\": 0.0016451709144699005,<br>    \"boosting_type\": \"gbdt\"<br>  }<br>}",
          "{<br>  \"number\": 66,<br>  \"values\": [<br>    0.06432632303107422,<br>    0.6264453961456102<br>  ],<br>  \"params\": {<br>    \"n_estimators\": 7352,<br>    \"num_leaves\": 375,<br>    \"max_depth\": 15,<br>    \"min_child_samples\": 121,<br>    \"learning_rate\": 0.0011299673430831341,<br>    \"boosting_type\": \"gbdt\"<br>  }<br>}",
          "{<br>  \"number\": 68,<br>  \"values\": [<br>    0.06366984629564457,<br>    0.6093275865224473<br>  ],<br>  \"params\": {<br>    \"n_estimators\": 6585,<br>    \"num_leaves\": 503,<br>    \"max_depth\": 12,<br>    \"min_child_samples\": 144,<br>    \"learning_rate\": 0.0007025873916704123,<br>    \"boosting_type\": \"gbdt\"<br>  }<br>}",
          "{<br>  \"number\": 70,<br>  \"values\": [<br>    0.06091901906005587,<br>    0.5892155786160068<br>  ],<br>  \"params\": {<br>    \"n_estimators\": 2187,<br>    \"num_leaves\": 569,<br>    \"max_depth\": 15,<br>    \"min_child_samples\": 41,<br>    \"learning_rate\": 0.0013561700062776501,<br>    \"boosting_type\": \"gbdt\"<br>  }<br>}",
          "{<br>  \"number\": 71,<br>  \"values\": [<br>    0.06484024355341475,<br>    0.6302961254781384<br>  ],<br>  \"params\": {<br>    \"n_estimators\": 4844,<br>    \"num_leaves\": 539,<br>    \"max_depth\": 14,<br>    \"min_child_samples\": 69,<br>    \"learning_rate\": 0.002004402230639594,<br>    \"boosting_type\": \"gbdt\"<br>  }<br>}",
          "{<br>  \"number\": 72,<br>  \"values\": [<br>    0.05293012800761114,<br>    0.5348752722414393<br>  ],<br>  \"params\": {<br>    \"n_estimators\": 4289,<br>    \"num_leaves\": 587,<br>    \"max_depth\": 14,<br>    \"min_child_samples\": 215,<br>    \"learning_rate\": 0.0005257601223018224,<br>    \"boosting_type\": \"gbdt\"<br>  }<br>}",
          "{<br>  \"number\": 73,<br>  \"values\": [<br>    0.059548484534852765,<br>    0.5643917348414137<br>  ],<br>  \"params\": {<br>    \"n_estimators\": 3510,<br>    \"num_leaves\": 715,<br>    \"max_depth\": 16,<br>    \"min_child_samples\": 242,<br>    \"learning_rate\": 0.0009251502067455585,<br>    \"boosting_type\": \"gbdt\"<br>  }<br>}",
          "{<br>  \"number\": 75,<br>  \"values\": [<br>    0.067435296787656,<br>    0.6307207306136643<br>  ],<br>  \"params\": {<br>    \"n_estimators\": 5423,<br>    \"num_leaves\": 322,<br>    \"max_depth\": 11,<br>    \"min_child_samples\": 185,<br>    \"learning_rate\": 0.0025159230229382865,<br>    \"boosting_type\": \"gbdt\"<br>  }<br>}",
          "{<br>  \"number\": 77,<br>  \"values\": [<br>    0.06172555714651049,<br>    0.6255870349018101<br>  ],<br>  \"params\": {<br>    \"n_estimators\": 3096,<br>    \"num_leaves\": 34,<br>    \"max_depth\": 17,<br>    \"min_child_samples\": 95,<br>    \"learning_rate\": 0.0019968893715664507,<br>    \"boosting_type\": \"gbdt\"<br>  }<br>}",
          "{<br>  \"number\": 80,<br>  \"values\": [<br>    0.05468851759226456,<br>    0.5678242647193398<br>  ],<br>  \"params\": {<br>    \"n_estimators\": 4368,<br>    \"num_leaves\": 513,<br>    \"max_depth\": 15,<br>    \"min_child_samples\": 85,<br>    \"learning_rate\": 0.0006086248964102415,<br>    \"boosting_type\": \"gbdt\"<br>  }<br>}",
          "{<br>  \"number\": 81,<br>  \"values\": [<br>    0.06741752706756926,<br>    0.6076072036457475<br>  ],<br>  \"params\": {<br>    \"n_estimators\": 4863,<br>    \"num_leaves\": 602,<br>    \"max_depth\": 4,<br>    \"min_child_samples\": 104,<br>    \"learning_rate\": 0.0029891494283537457,<br>    \"boosting_type\": \"goss\"<br>  }<br>}",
          "{<br>  \"number\": 82,<br>  \"values\": [<br>    0.03821800897962226,<br>    0.47496842914401805<br>  ],<br>  \"params\": {<br>    \"n_estimators\": 4537,<br>    \"num_leaves\": 154,<br>    \"max_depth\": 5,<br>    \"min_child_samples\": 55,<br>    \"learning_rate\": 0.0003089457112075019,<br>    \"boosting_type\": \"goss\"<br>  }<br>}",
          "{<br>  \"number\": 83,<br>  \"values\": [<br>    0.06259117516836207,<br>    0.6076154395212211<br>  ],<br>  \"params\": {<br>    \"n_estimators\": 6347,<br>    \"num_leaves\": 490,<br>    \"max_depth\": 4,<br>    \"min_child_samples\": 38,<br>    \"learning_rate\": 0.001304396343708656,<br>    \"boosting_type\": \"goss\"<br>  }<br>}",
          "{<br>  \"number\": 84,<br>  \"values\": [<br>    0.06743656146840545,<br>    0.6221645710939073<br>  ],<br>  \"params\": {<br>    \"n_estimators\": 6869,<br>    \"num_leaves\": 795,<br>    \"max_depth\": 6,<br>    \"min_child_samples\": 196,<br>    \"learning_rate\": 0.0016424521294710914,<br>    \"boosting_type\": \"gbdt\"<br>  }<br>}",
          "{<br>  \"number\": 85,<br>  \"values\": [<br>    0.06018180608824832,<br>    0.5434296015666465<br>  ],<br>  \"params\": {<br>    \"n_estimators\": 6043,<br>    \"num_leaves\": 187,<br>    \"max_depth\": 3,<br>    \"min_child_samples\": 96,<br>    \"learning_rate\": 0.0008032425211223064,<br>    \"boosting_type\": \"goss\"<br>  }<br>}",
          "{<br>  \"number\": 87,<br>  \"values\": [<br>    0.0670364908390642,<br>    0.5960595911345375<br>  ],<br>  \"params\": {<br>    \"n_estimators\": 5708,<br>    \"num_leaves\": 372,<br>    \"max_depth\": 2,<br>    \"min_child_samples\": 104,<br>    \"learning_rate\": 0.004020248537172087,<br>    \"boosting_type\": \"goss\"<br>  }<br>}",
          "{<br>  \"number\": 89,<br>  \"values\": [<br>    0.0473725489483117,<br>    0.5181866432401764<br>  ],<br>  \"params\": {<br>    \"n_estimators\": 3841,<br>    \"num_leaves\": 295,<br>    \"max_depth\": 10,<br>    \"min_child_samples\": 65,<br>    \"learning_rate\": 0.000462298623017209,<br>    \"boosting_type\": \"goss\"<br>  }<br>}",
          "{<br>  \"number\": 90,<br>  \"values\": [<br>    0.058916892968476534,<br>    0.6114689141455736<br>  ],<br>  \"params\": {<br>    \"n_estimators\": 5322,<br>    \"num_leaves\": 390,<br>    \"max_depth\": 8,<br>    \"min_child_samples\": 89,<br>    \"learning_rate\": 0.0012399891317491434,<br>    \"boosting_type\": \"gbdt\"<br>  }<br>}",
          "{<br>  \"number\": 92,<br>  \"values\": [<br>    0.05899835487210109,<br>    0.554979959369681<br>  ],<br>  \"params\": {<br>    \"n_estimators\": 4962,<br>    \"num_leaves\": 993,<br>    \"max_depth\": 7,<br>    \"min_child_samples\": 100,<br>    \"learning_rate\": 0.0006208242150392245,<br>    \"boosting_type\": \"goss\"<br>  }<br>}",
          "{<br>  \"number\": 94,<br>  \"values\": [<br>    0.06325017363164465,<br>    0.5549845348560551<br>  ],<br>  \"params\": {<br>    \"n_estimators\": 2843,<br>    \"num_leaves\": 839,<br>    \"max_depth\": 14,<br>    \"min_child_samples\": 109,<br>    \"learning_rate\": 0.0009219512102874588,<br>    \"boosting_type\": \"goss\"<br>  }<br>}",
          "{<br>  \"number\": 95,<br>  \"values\": [<br>    0.05132015597640851,<br>    0.4578533648126795<br>  ],<br>  \"params\": {<br>    \"n_estimators\": 1285,<br>    \"num_leaves\": 764,<br>    \"max_depth\": 5,<br>    \"min_child_samples\": 245,<br>    \"learning_rate\": 0.0015078305476002858,<br>    \"boosting_type\": \"goss\"<br>  }<br>}",
          "{<br>  \"number\": 96,<br>  \"values\": [<br>    0.040096453891655545,<br>    0.4069263712732664<br>  ],<br>  \"params\": {<br>    \"n_estimators\": 724,<br>    \"num_leaves\": 907,<br>    \"max_depth\": 2,<br>    \"min_child_samples\": 117,<br>    \"learning_rate\": 0.0017971482287510718,<br>    \"boosting_type\": \"goss\"<br>  }<br>}",
          "{<br>  \"number\": 97,<br>  \"values\": [<br>    0.03543566404528918,<br>    0.44758505829169637<br>  ],<br>  \"params\": {<br>    \"n_estimators\": 2384,<br>    \"num_leaves\": 354,<br>    \"max_depth\": 11,<br>    \"min_child_samples\": 93,<br>    \"learning_rate\": 0.0005165419194081362,<br>    \"boosting_type\": \"goss\"<br>  }<br>}",
          "{<br>  \"number\": 98,<br>  \"values\": [<br>    0.0792158829575204,<br>    0.5673932539028899<br>  ],<br>  \"params\": {<br>    \"n_estimators\": 4416,<br>    \"num_leaves\": 188,<br>    \"max_depth\": 13,<br>    \"min_child_samples\": 204,<br>    \"learning_rate\": 0.0010668203600764934,<br>    \"boosting_type\": \"goss\"<br>  }<br>}"
         ],
         "type": "scatter",
         "x": [
          0.08403980969616615,
          0.08488752438839449,
          0.07299738823767432,
          0.07083367602033626,
          0.08791026759195038,
          0.07732291193449149,
          0.06447041835424043,
          0.05993813051432826,
          0.05802994329049945,
          0.08175501567262618,
          0.06783552226337221,
          0.08021772310859718,
          0.06587594707614716,
          0.06468982040054055,
          0.06034497336121536,
          0.07308520952053614,
          0.06718508253640204,
          0.07255747698541665,
          0.06586026130458449,
          0.07466767395081039,
          0.06784444044890543,
          0.0698546320505162,
          0.049744713073397374,
          0.07595690573967331,
          0.07096133114340183,
          0.06812623141483529,
          0.0738484526165707,
          0.05197988198710988,
          0.06487254002318298,
          0.06605884377821877,
          0.0508423513356949,
          0.07117758677189971,
          0.07656464141740747,
          0.06901642863327595,
          0.07097363232683054,
          0.06947480722883906,
          0.06469571389881276,
          0.048317518924080996,
          0.06838635076681862,
          0.07254048394459703,
          0.06510209095860578,
          0.05922490573817234,
          0.04834714545389609,
          0.05884290401569474,
          0.06432632303107422,
          0.06366984629564457,
          0.06091901906005587,
          0.06484024355341475,
          0.05293012800761114,
          0.059548484534852765,
          0.067435296787656,
          0.06172555714651049,
          0.05468851759226456,
          0.06741752706756926,
          0.03821800897962226,
          0.06259117516836207,
          0.06743656146840545,
          0.06018180608824832,
          0.0670364908390642,
          0.0473725489483117,
          0.058916892968476534,
          0.05899835487210109,
          0.06325017363164465,
          0.05132015597640851,
          0.040096453891655545,
          0.03543566404528918,
          0.0792158829575204
         ],
         "y": [
          0.6067598235692454,
          0.5738199820640935,
          0.5601173154706345,
          0.637570233715844,
          0.5661157781072128,
          0.6230137813649591,
          0.6298623693698641,
          0.5917815113746592,
          0.597346217902963,
          0.55455626933143,
          0.6187421072860044,
          0.5896438441406321,
          0.6341468548106665,
          0.6230201870458829,
          0.6255897801936345,
          0.6345742052380168,
          0.6161789198191767,
          0.5665367228536393,
          0.6268681710865865,
          0.6204606599681547,
          0.6148858873698274,
          0.5532751331466536,
          0.44587291129047013,
          0.6277274474276616,
          0.554126173612255,
          0.6277283625249365,
          0.6196013836270795,
          0.5395788722341186,
          0.5909204048390344,
          0.5960550156481634,
          0.514332253518549,
          0.6123245300975494,
          0.6362799465583191,
          0.599478394553341,
          0.6307189004191145,
          0.6114597631728252,
          0.622584600743059,
          0.4356036896722121,
          0.6101749665989494,
          0.6217427112502059,
          0.6157469939054521,
          0.6007705119054155,
          0.524602390234082,
          0.6268690861838613,
          0.6264453961456102,
          0.6093275865224473,
          0.5892155786160068,
          0.6302961254781384,
          0.5348752722414393,
          0.5643917348414137,
          0.6307207306136643,
          0.6255870349018101,
          0.5678242647193398,
          0.6076072036457475,
          0.47496842914401805,
          0.6076154395212211,
          0.6221645710939073,
          0.5434296015666465,
          0.5960595911345375,
          0.5181866432401764,
          0.6114689141455736,
          0.554979959369681,
          0.5549845348560551,
          0.4578533648126795,
          0.4069263712732664,
          0.44758505829169637,
          0.5673932539028899
         ]
        },
        {
         "hovertemplate": "%{text}<extra>Best Trial</extra>",
         "marker": {
          "color": [
           2,
           3,
           9,
           11,
           14,
           15,
           21,
           23,
           24,
           25,
           35,
           36,
           37,
           46,
           50,
           53,
           55,
           57,
           58,
           60,
           61,
           65,
           67,
           69,
           74,
           76,
           78,
           79,
           86,
           88,
           91,
           93,
           99
          ],
          "colorbar": {
           "title": {
            "text": "Best Trial"
           },
           "x": 1.1,
           "xpad": 40
          },
          "colorscale": [
           [
            0,
            "rgb(255,245,240)"
           ],
           [
            0.125,
            "rgb(254,224,210)"
           ],
           [
            0.25,
            "rgb(252,187,161)"
           ],
           [
            0.375,
            "rgb(252,146,114)"
           ],
           [
            0.5,
            "rgb(251,106,74)"
           ],
           [
            0.625,
            "rgb(239,59,44)"
           ],
           [
            0.75,
            "rgb(203,24,29)"
           ],
           [
            0.875,
            "rgb(165,15,21)"
           ],
           [
            1,
            "rgb(103,0,13)"
           ]
          ],
          "line": {
           "color": "Grey",
           "width": 0.5
          }
         },
         "mode": "markers",
         "showlegend": false,
         "text": [
          "{<br>  \"number\": 2,<br>  \"values\": [<br>    0.01600555204473341,<br>    0.3123702849612914<br>  ],<br>  \"params\": {<br>    \"n_estimators\": 4214,<br>    \"num_leaves\": 83,<br>    \"max_depth\": 15,<br>    \"min_child_samples\": 197,<br>    \"learning_rate\": 0.00018967079087098314,<br>    \"boosting_type\": \"goss\"<br>  }<br>}",
          "{<br>  \"number\": 3,<br>  \"values\": [<br>    0.05131782803128828,<br>    0.552842292135654<br>  ],<br>  \"params\": {<br>    \"n_estimators\": 4616,<br>    \"num_leaves\": 614,<br>    \"max_depth\": 3,<br>    \"min_child_samples\": 60,<br>    \"learning_rate\": 0.0014734619616239876,<br>    \"boosting_type\": \"gbdt\"<br>  }<br>}",
          "{<br>  \"number\": 9,<br>  \"values\": [<br>    0.05588196807197658,<br>    0.5917760207910101<br>  ],<br>  \"params\": {<br>    \"n_estimators\": 402,<br>    \"num_leaves\": 275,<br>    \"max_depth\": 6,<br>    \"min_child_samples\": 16,<br>    \"learning_rate\": 0.009713563512447097,<br>    \"boosting_type\": \"goss\"<br>  }<br>}",
          "{<br>  \"number\": 11,<br>  \"values\": [<br>    0.0,<br>    0.0<br>  ],<br>  \"params\": {<br>    \"n_estimators\": 5185,<br>    \"num_leaves\": 20,<br>    \"max_depth\": 19,<br>    \"min_child_samples\": 78,<br>    \"learning_rate\": 6.150879302042816e-05,<br>    \"boosting_type\": \"gbdt\"<br>  }<br>}",
          "{<br>  \"number\": 14,<br>  \"values\": [<br>    0.0658261700332782,<br>    0.6427011841358736<br>  ],<br>  \"params\": {<br>    \"n_estimators\": 5851,<br>    \"num_leaves\": 879,<br>    \"max_depth\": 10,<br>    \"min_child_samples\": 116,<br>    \"learning_rate\": 0.0041467449765888766,<br>    \"boosting_type\": \"gbdt\"<br>  }<br>}",
          "{<br>  \"number\": 15,<br>  \"values\": [<br>    0.0,<br>    0.0<br>  ],<br>  \"params\": {<br>    \"n_estimators\": 3011,<br>    \"num_leaves\": 24,<br>    \"max_depth\": 17,<br>    \"min_child_samples\": 72,<br>    \"learning_rate\": 2.881746463234404e-05,<br>    \"boosting_type\": \"goss\"<br>  }<br>}",
          "{<br>  \"number\": 21,<br>  \"values\": [<br>    0.058735270950568595,<br>    0.6268727465729608<br>  ],<br>  \"params\": {<br>    \"n_estimators\": 5572,<br>    \"num_leaves\": 615,<br>    \"max_depth\": 9,<br>    \"min_child_samples\": 100,<br>    \"learning_rate\": 0.0016933805077701425,<br>    \"boosting_type\": \"gbdt\"<br>  }<br>}",
          "{<br>  \"number\": 23,<br>  \"values\": [<br>    0.047032716456547455,<br>    0.524177785098556<br>  ],<br>  \"params\": {<br>    \"n_estimators\": 6796,<br>    \"num_leaves\": 443,<br>    \"max_depth\": 2,<br>    \"min_child_samples\": 94,<br>    \"learning_rate\": 0.0009819297835850804,<br>    \"boosting_type\": \"gbdt\"<br>  }<br>}",
          "{<br>  \"number\": 24,<br>  \"values\": [<br>    0.05229262667433676,<br>    0.5545544391368803<br>  ],<br>  \"params\": {<br>    \"n_estimators\": 6990,<br>    \"num_leaves\": 420,<br>    \"max_depth\": 5,<br>    \"min_child_samples\": 141,<br>    \"learning_rate\": 0.0006164281130124388,<br>    \"boosting_type\": \"gbdt\"<br>  }<br>}",
          "{<br>  \"number\": 25,<br>  \"values\": [<br>    0.05584163371650928,<br>    0.5810849393290507<br>  ],<br>  \"params\": {<br>    \"n_estimators\": 8462,<br>    \"num_leaves\": 137,<br>    \"max_depth\": 2,<br>    \"min_child_samples\": 95,<br>    \"learning_rate\": 0.0022908967342105267,<br>    \"boosting_type\": \"gbdt\"<br>  }<br>}",
          "{<br>  \"number\": 35,<br>  \"values\": [<br>    0.04732330465683706,<br>    0.5246033053313568<br>  ],<br>  \"params\": {<br>    \"n_estimators\": 3170,<br>    \"num_leaves\": 621,<br>    \"max_depth\": 2,<br>    \"min_child_samples\": 258,<br>    \"learning_rate\": 0.00217415628182655,<br>    \"boosting_type\": \"gbdt\"<br>  }<br>}",
          "{<br>  \"number\": 36,<br>  \"values\": [<br>    0.022985877331948498,<br>    0.3859569172203005<br>  ],<br>  \"params\": {<br>    \"n_estimators\": 5064,<br>    \"num_leaves\": 329,<br>    \"max_depth\": 6,<br>    \"min_child_samples\": 89,<br>    \"learning_rate\": 0.00018062087992321102,<br>    \"boosting_type\": \"goss\"<br>  }<br>}",
          "{<br>  \"number\": 37,<br>  \"values\": [<br>    0.0,<br>    0.0<br>  ],<br>  \"params\": {<br>    \"n_estimators\": 4743,<br>    \"num_leaves\": 349,<br>    \"max_depth\": 6,<br>    \"min_child_samples\": 299,<br>    \"learning_rate\": 5.5787308161305135e-05,<br>    \"boosting_type\": \"goss\"<br>  }<br>}",
          "{<br>  \"number\": 46,<br>  \"values\": [<br>    0.0,<br>    0.0<br>  ],<br>  \"params\": {<br>    \"n_estimators\": 4900,<br>    \"num_leaves\": 96,<br>    \"max_depth\": 7,<br>    \"min_child_samples\": 68,<br>    \"learning_rate\": 4.287074579800159e-05,<br>    \"boosting_type\": \"gbdt\"<br>  }<br>}",
          "{<br>  \"number\": 50,<br>  \"values\": [<br>    0.05629865126660216,<br>    0.608470140375922<br>  ],<br>  \"params\": {<br>    \"n_estimators\": 5950,<br>    \"num_leaves\": 399,<br>    \"max_depth\": 4,<br>    \"min_child_samples\": 84,<br>    \"learning_rate\": 0.0020654691823356565,<br>    \"boosting_type\": \"gbdt\"<br>  }<br>}",
          "{<br>  \"number\": 53,<br>  \"values\": [<br>    0.05432906015287127,<br>    0.5738117461886199<br>  ],<br>  \"params\": {<br>    \"n_estimators\": 8318,<br>    \"num_leaves\": 73,<br>    \"max_depth\": 2,<br>    \"min_child_samples\": 55,<br>    \"learning_rate\": 0.0019834874199340887,<br>    \"boosting_type\": \"gbdt\"<br>  }<br>}",
          "{<br>  \"number\": 55,<br>  \"values\": [<br>    0.0,<br>    0.0<br>  ],<br>  \"params\": {<br>    \"n_estimators\": 29,<br>    \"num_leaves\": 436,<br>    \"max_depth\": 12,<br>    \"min_child_samples\": 75,<br>    \"learning_rate\": 0.0008441841357775003,<br>    \"boosting_type\": \"gbdt\"<br>  }<br>}",
          "{<br>  \"number\": 57,<br>  \"values\": [<br>    0.034686376034537544,<br>    0.46384267647650945<br>  ],<br>  \"params\": {<br>    \"n_estimators\": 4480,<br>    \"num_leaves\": 489,<br>    \"max_depth\": 10,<br>    \"min_child_samples\": 103,<br>    \"learning_rate\": 0.0003139132904673276,<br>    \"boosting_type\": \"gbdt\"<br>  }<br>}",
          "{<br>  \"number\": 58,<br>  \"values\": [<br>    0.04144815300003881,<br>    0.48438386500485003<br>  ],<br>  \"params\": {<br>    \"n_estimators\": 4608,<br>    \"num_leaves\": 490,<br>    \"max_depth\": 10,<br>    \"min_child_samples\": 153,<br>    \"learning_rate\": 0.00033436528863203027,<br>    \"boosting_type\": \"gbdt\"<br>  }<br>}",
          "{<br>  \"number\": 60,<br>  \"values\": [<br>    0.028913638204358178,<br>    0.42105638829407566<br>  ],<br>  \"params\": {<br>    \"n_estimators\": 4195,<br>    \"num_leaves\": 479,<br>    \"max_depth\": 13,<br>    \"min_child_samples\": 112,<br>    \"learning_rate\": 0.00027612357201090715,<br>    \"boosting_type\": \"gbdt\"<br>  }<br>}",
          "{<br>  \"number\": 61,<br>  \"values\": [<br>    0.036822675851548324,<br>    0.47753710719449477<br>  ],<br>  \"params\": {<br>    \"n_estimators\": 4350,<br>    \"num_leaves\": 475,<br>    \"max_depth\": 13,<br>    \"min_child_samples\": 103,<br>    \"learning_rate\": 0.00034183314794595414,<br>    \"boosting_type\": \"gbdt\"<br>  }<br>}",
          "{<br>  \"number\": 65,<br>  \"values\": [<br>    0.022210968425726518,<br>    0.3786809787880452<br>  ],<br>  \"params\": {<br>    \"n_estimators\": 4098,<br>    \"num_leaves\": 431,<br>    \"max_depth\": 16,<br>    \"min_child_samples\": 135,<br>    \"learning_rate\": 0.00022570894172132397,<br>    \"boosting_type\": \"gbdt\"<br>  }<br>}",
          "{<br>  \"number\": 67,<br>  \"values\": [<br>    0.0,<br>    0.0<br>  ],<br>  \"params\": {<br>    \"n_estimators\": 5236,<br>    \"num_leaves\": 675,<br>    \"max_depth\": 13,<br>    \"min_child_samples\": 103,<br>    \"learning_rate\": 5.3972481459519175e-05,<br>    \"boosting_type\": \"gbdt\"<br>  }<br>}",
          "{<br>  \"number\": 69,<br>  \"values\": [<br>    0.06170969461512721,<br>    0.6371392228993942<br>  ],<br>  \"params\": {<br>    \"n_estimators\": 4403,<br>    \"num_leaves\": 600,<br>    \"max_depth\": 14,<br>    \"min_child_samples\": 97,<br>    \"learning_rate\": 0.001925137919236911,<br>    \"boosting_type\": \"gbdt\"<br>  }<br>}",
          "{<br>  \"number\": 74,<br>  \"values\": [<br>    0.04698015659394581,<br>    0.5139067332857483<br>  ],<br>  \"params\": {<br>    \"n_estimators\": 5866,<br>    \"num_leaves\": 448,<br>    \"max_depth\": 13,<br>    \"min_child_samples\": 82,<br>    \"learning_rate\": 0.00030893196111803577,<br>    \"boosting_type\": \"gbdt\"<br>  }<br>}",
          "{<br>  \"number\": 76,<br>  \"values\": [<br>    0.05390456043631152,<br>    0.5566930214681821<br>  ],<br>  \"params\": {<br>    \"n_estimators\": 3934,<br>    \"num_leaves\": 414,<br>    \"max_depth\": 2,<br>    \"min_child_samples\": 63,<br>    \"learning_rate\": 0.0034497471450903702,<br>    \"boosting_type\": \"gbdt\"<br>  }<br>}",
          "{<br>  \"number\": 78,<br>  \"values\": [<br>    0.0,<br>    0.0<br>  ],<br>  \"params\": {<br>    \"n_estimators\": 4622,<br>    \"num_leaves\": 643,<br>    \"max_depth\": 12,<br>    \"min_child_samples\": 165,<br>    \"learning_rate\": 2.396383995311997e-05,<br>    \"boosting_type\": \"gbdt\"<br>  }<br>}",
          "{<br>  \"number\": 79,<br>  \"values\": [<br>    0.04922794256785929,<br>    0.5335904756675636<br>  ],<br>  \"params\": {<br>    \"n_estimators\": 5125,<br>    \"num_leaves\": 475,<br>    \"max_depth\": 3,<br>    \"min_child_samples\": 111,<br>    \"learning_rate\": 0.0010651287312940898,<br>    \"boosting_type\": \"gbdt\"<br>  }<br>}",
          "{<br>  \"number\": 86,<br>  \"values\": [<br>    0.05763847005174274,<br>    0.6165989494683285<br>  ],<br>  \"params\": {<br>    \"n_estimators\": 8946,<br>    \"num_leaves\": 116,<br>    \"max_depth\": 3,<br>    \"min_child_samples\": 76,<br>    \"learning_rate\": 0.0023188334123293644,<br>    \"boosting_type\": \"gbdt\"<br>  }<br>}",
          "{<br>  \"number\": 88,<br>  \"values\": [<br>    0.03262168517574003,<br>    0.42705393583337903<br>  ],<br>  \"params\": {<br>    \"n_estimators\": 4207,<br>    \"num_leaves\": 246,<br>    \"max_depth\": 4,<br>    \"min_child_samples\": 120,<br>    \"learning_rate\": 0.0002580963411267745,<br>    \"boosting_type\": \"gbdt\"<br>  }<br>}",
          "{<br>  \"number\": 91,<br>  \"values\": [<br>    0.006015447926877632,<br>    0.26871282417320963<br>  ],<br>  \"params\": {<br>    \"n_estimators\": 1133,<br>    \"num_leaves\": 967,<br>    \"max_depth\": 9,<br>    \"min_child_samples\": 99,<br>    \"learning_rate\": 0.00054794492298377,<br>    \"boosting_type\": \"goss\"<br>  }<br>}",
          "{<br>  \"number\": 93,<br>  \"values\": [<br>    0.0,<br>    0.0<br>  ],<br>  \"params\": {<br>    \"n_estimators\": 1318,<br>    \"num_leaves\": 933,<br>    \"max_depth\": 9,<br>    \"min_child_samples\": 78,<br>    \"learning_rate\": 0.00021062171210773723,<br>    \"boosting_type\": \"goss\"<br>  }<br>}",
          "{<br>  \"number\": 99,<br>  \"values\": [<br>    0.027209821446049404,<br>    0.413776789472721<br>  ],<br>  \"params\": {<br>    \"n_estimators\": 5520,<br>    \"num_leaves\": 335,<br>    \"max_depth\": 6,<br>    \"min_child_samples\": 137,<br>    \"learning_rate\": 0.0001968270340170394,<br>    \"boosting_type\": \"goss\"<br>  }<br>}"
         ],
         "type": "scatter",
         "x": [
          0.01600555204473341,
          0.05131782803128828,
          0.05588196807197658,
          0,
          0.0658261700332782,
          0,
          0.058735270950568595,
          0.047032716456547455,
          0.05229262667433676,
          0.05584163371650928,
          0.04732330465683706,
          0.022985877331948498,
          0,
          0,
          0.05629865126660216,
          0.05432906015287127,
          0,
          0.034686376034537544,
          0.04144815300003881,
          0.028913638204358178,
          0.036822675851548324,
          0.022210968425726518,
          0,
          0.06170969461512721,
          0.04698015659394581,
          0.05390456043631152,
          0,
          0.04922794256785929,
          0.05763847005174274,
          0.03262168517574003,
          0.006015447926877632,
          0,
          0.027209821446049404
         ],
         "y": [
          0.3123702849612914,
          0.552842292135654,
          0.5917760207910101,
          0,
          0.6427011841358736,
          0,
          0.6268727465729608,
          0.524177785098556,
          0.5545544391368803,
          0.5810849393290507,
          0.5246033053313568,
          0.3859569172203005,
          0,
          0,
          0.608470140375922,
          0.5738117461886199,
          0,
          0.46384267647650945,
          0.48438386500485003,
          0.42105638829407566,
          0.47753710719449477,
          0.3786809787880452,
          0,
          0.6371392228993942,
          0.5139067332857483,
          0.5566930214681821,
          0,
          0.5335904756675636,
          0.6165989494683285,
          0.42705393583337903,
          0.26871282417320963,
          0,
          0.413776789472721
         ]
        }
       ],
       "layout": {
        "template": {
         "data": {
          "bar": [
           {
            "error_x": {
             "color": "#2a3f5f"
            },
            "error_y": {
             "color": "#2a3f5f"
            },
            "marker": {
             "line": {
              "color": "#E5ECF6",
              "width": 0.5
             },
             "pattern": {
              "fillmode": "overlay",
              "size": 10,
              "solidity": 0.2
             }
            },
            "type": "bar"
           }
          ],
          "barpolar": [
           {
            "marker": {
             "line": {
              "color": "#E5ECF6",
              "width": 0.5
             },
             "pattern": {
              "fillmode": "overlay",
              "size": 10,
              "solidity": 0.2
             }
            },
            "type": "barpolar"
           }
          ],
          "carpet": [
           {
            "aaxis": {
             "endlinecolor": "#2a3f5f",
             "gridcolor": "white",
             "linecolor": "white",
             "minorgridcolor": "white",
             "startlinecolor": "#2a3f5f"
            },
            "baxis": {
             "endlinecolor": "#2a3f5f",
             "gridcolor": "white",
             "linecolor": "white",
             "minorgridcolor": "white",
             "startlinecolor": "#2a3f5f"
            },
            "type": "carpet"
           }
          ],
          "choropleth": [
           {
            "colorbar": {
             "outlinewidth": 0,
             "ticks": ""
            },
            "type": "choropleth"
           }
          ],
          "contour": [
           {
            "colorbar": {
             "outlinewidth": 0,
             "ticks": ""
            },
            "colorscale": [
             [
              0,
              "#0d0887"
             ],
             [
              0.1111111111111111,
              "#46039f"
             ],
             [
              0.2222222222222222,
              "#7201a8"
             ],
             [
              0.3333333333333333,
              "#9c179e"
             ],
             [
              0.4444444444444444,
              "#bd3786"
             ],
             [
              0.5555555555555556,
              "#d8576b"
             ],
             [
              0.6666666666666666,
              "#ed7953"
             ],
             [
              0.7777777777777778,
              "#fb9f3a"
             ],
             [
              0.8888888888888888,
              "#fdca26"
             ],
             [
              1,
              "#f0f921"
             ]
            ],
            "type": "contour"
           }
          ],
          "contourcarpet": [
           {
            "colorbar": {
             "outlinewidth": 0,
             "ticks": ""
            },
            "type": "contourcarpet"
           }
          ],
          "heatmap": [
           {
            "colorbar": {
             "outlinewidth": 0,
             "ticks": ""
            },
            "colorscale": [
             [
              0,
              "#0d0887"
             ],
             [
              0.1111111111111111,
              "#46039f"
             ],
             [
              0.2222222222222222,
              "#7201a8"
             ],
             [
              0.3333333333333333,
              "#9c179e"
             ],
             [
              0.4444444444444444,
              "#bd3786"
             ],
             [
              0.5555555555555556,
              "#d8576b"
             ],
             [
              0.6666666666666666,
              "#ed7953"
             ],
             [
              0.7777777777777778,
              "#fb9f3a"
             ],
             [
              0.8888888888888888,
              "#fdca26"
             ],
             [
              1,
              "#f0f921"
             ]
            ],
            "type": "heatmap"
           }
          ],
          "heatmapgl": [
           {
            "colorbar": {
             "outlinewidth": 0,
             "ticks": ""
            },
            "colorscale": [
             [
              0,
              "#0d0887"
             ],
             [
              0.1111111111111111,
              "#46039f"
             ],
             [
              0.2222222222222222,
              "#7201a8"
             ],
             [
              0.3333333333333333,
              "#9c179e"
             ],
             [
              0.4444444444444444,
              "#bd3786"
             ],
             [
              0.5555555555555556,
              "#d8576b"
             ],
             [
              0.6666666666666666,
              "#ed7953"
             ],
             [
              0.7777777777777778,
              "#fb9f3a"
             ],
             [
              0.8888888888888888,
              "#fdca26"
             ],
             [
              1,
              "#f0f921"
             ]
            ],
            "type": "heatmapgl"
           }
          ],
          "histogram": [
           {
            "marker": {
             "pattern": {
              "fillmode": "overlay",
              "size": 10,
              "solidity": 0.2
             }
            },
            "type": "histogram"
           }
          ],
          "histogram2d": [
           {
            "colorbar": {
             "outlinewidth": 0,
             "ticks": ""
            },
            "colorscale": [
             [
              0,
              "#0d0887"
             ],
             [
              0.1111111111111111,
              "#46039f"
             ],
             [
              0.2222222222222222,
              "#7201a8"
             ],
             [
              0.3333333333333333,
              "#9c179e"
             ],
             [
              0.4444444444444444,
              "#bd3786"
             ],
             [
              0.5555555555555556,
              "#d8576b"
             ],
             [
              0.6666666666666666,
              "#ed7953"
             ],
             [
              0.7777777777777778,
              "#fb9f3a"
             ],
             [
              0.8888888888888888,
              "#fdca26"
             ],
             [
              1,
              "#f0f921"
             ]
            ],
            "type": "histogram2d"
           }
          ],
          "histogram2dcontour": [
           {
            "colorbar": {
             "outlinewidth": 0,
             "ticks": ""
            },
            "colorscale": [
             [
              0,
              "#0d0887"
             ],
             [
              0.1111111111111111,
              "#46039f"
             ],
             [
              0.2222222222222222,
              "#7201a8"
             ],
             [
              0.3333333333333333,
              "#9c179e"
             ],
             [
              0.4444444444444444,
              "#bd3786"
             ],
             [
              0.5555555555555556,
              "#d8576b"
             ],
             [
              0.6666666666666666,
              "#ed7953"
             ],
             [
              0.7777777777777778,
              "#fb9f3a"
             ],
             [
              0.8888888888888888,
              "#fdca26"
             ],
             [
              1,
              "#f0f921"
             ]
            ],
            "type": "histogram2dcontour"
           }
          ],
          "mesh3d": [
           {
            "colorbar": {
             "outlinewidth": 0,
             "ticks": ""
            },
            "type": "mesh3d"
           }
          ],
          "parcoords": [
           {
            "line": {
             "colorbar": {
              "outlinewidth": 0,
              "ticks": ""
             }
            },
            "type": "parcoords"
           }
          ],
          "pie": [
           {
            "automargin": true,
            "type": "pie"
           }
          ],
          "scatter": [
           {
            "fillpattern": {
             "fillmode": "overlay",
             "size": 10,
             "solidity": 0.2
            },
            "type": "scatter"
           }
          ],
          "scatter3d": [
           {
            "line": {
             "colorbar": {
              "outlinewidth": 0,
              "ticks": ""
             }
            },
            "marker": {
             "colorbar": {
              "outlinewidth": 0,
              "ticks": ""
             }
            },
            "type": "scatter3d"
           }
          ],
          "scattercarpet": [
           {
            "marker": {
             "colorbar": {
              "outlinewidth": 0,
              "ticks": ""
             }
            },
            "type": "scattercarpet"
           }
          ],
          "scattergeo": [
           {
            "marker": {
             "colorbar": {
              "outlinewidth": 0,
              "ticks": ""
             }
            },
            "type": "scattergeo"
           }
          ],
          "scattergl": [
           {
            "marker": {
             "colorbar": {
              "outlinewidth": 0,
              "ticks": ""
             }
            },
            "type": "scattergl"
           }
          ],
          "scattermapbox": [
           {
            "marker": {
             "colorbar": {
              "outlinewidth": 0,
              "ticks": ""
             }
            },
            "type": "scattermapbox"
           }
          ],
          "scatterpolar": [
           {
            "marker": {
             "colorbar": {
              "outlinewidth": 0,
              "ticks": ""
             }
            },
            "type": "scatterpolar"
           }
          ],
          "scatterpolargl": [
           {
            "marker": {
             "colorbar": {
              "outlinewidth": 0,
              "ticks": ""
             }
            },
            "type": "scatterpolargl"
           }
          ],
          "scatterternary": [
           {
            "marker": {
             "colorbar": {
              "outlinewidth": 0,
              "ticks": ""
             }
            },
            "type": "scatterternary"
           }
          ],
          "surface": [
           {
            "colorbar": {
             "outlinewidth": 0,
             "ticks": ""
            },
            "colorscale": [
             [
              0,
              "#0d0887"
             ],
             [
              0.1111111111111111,
              "#46039f"
             ],
             [
              0.2222222222222222,
              "#7201a8"
             ],
             [
              0.3333333333333333,
              "#9c179e"
             ],
             [
              0.4444444444444444,
              "#bd3786"
             ],
             [
              0.5555555555555556,
              "#d8576b"
             ],
             [
              0.6666666666666666,
              "#ed7953"
             ],
             [
              0.7777777777777778,
              "#fb9f3a"
             ],
             [
              0.8888888888888888,
              "#fdca26"
             ],
             [
              1,
              "#f0f921"
             ]
            ],
            "type": "surface"
           }
          ],
          "table": [
           {
            "cells": {
             "fill": {
              "color": "#EBF0F8"
             },
             "line": {
              "color": "white"
             }
            },
            "header": {
             "fill": {
              "color": "#C8D4E3"
             },
             "line": {
              "color": "white"
             }
            },
            "type": "table"
           }
          ]
         },
         "layout": {
          "annotationdefaults": {
           "arrowcolor": "#2a3f5f",
           "arrowhead": 0,
           "arrowwidth": 1
          },
          "autotypenumbers": "strict",
          "coloraxis": {
           "colorbar": {
            "outlinewidth": 0,
            "ticks": ""
           }
          },
          "colorscale": {
           "diverging": [
            [
             0,
             "#8e0152"
            ],
            [
             0.1,
             "#c51b7d"
            ],
            [
             0.2,
             "#de77ae"
            ],
            [
             0.3,
             "#f1b6da"
            ],
            [
             0.4,
             "#fde0ef"
            ],
            [
             0.5,
             "#f7f7f7"
            ],
            [
             0.6,
             "#e6f5d0"
            ],
            [
             0.7,
             "#b8e186"
            ],
            [
             0.8,
             "#7fbc41"
            ],
            [
             0.9,
             "#4d9221"
            ],
            [
             1,
             "#276419"
            ]
           ],
           "sequential": [
            [
             0,
             "#0d0887"
            ],
            [
             0.1111111111111111,
             "#46039f"
            ],
            [
             0.2222222222222222,
             "#7201a8"
            ],
            [
             0.3333333333333333,
             "#9c179e"
            ],
            [
             0.4444444444444444,
             "#bd3786"
            ],
            [
             0.5555555555555556,
             "#d8576b"
            ],
            [
             0.6666666666666666,
             "#ed7953"
            ],
            [
             0.7777777777777778,
             "#fb9f3a"
            ],
            [
             0.8888888888888888,
             "#fdca26"
            ],
            [
             1,
             "#f0f921"
            ]
           ],
           "sequentialminus": [
            [
             0,
             "#0d0887"
            ],
            [
             0.1111111111111111,
             "#46039f"
            ],
            [
             0.2222222222222222,
             "#7201a8"
            ],
            [
             0.3333333333333333,
             "#9c179e"
            ],
            [
             0.4444444444444444,
             "#bd3786"
            ],
            [
             0.5555555555555556,
             "#d8576b"
            ],
            [
             0.6666666666666666,
             "#ed7953"
            ],
            [
             0.7777777777777778,
             "#fb9f3a"
            ],
            [
             0.8888888888888888,
             "#fdca26"
            ],
            [
             1,
             "#f0f921"
            ]
           ]
          },
          "colorway": [
           "#636efa",
           "#EF553B",
           "#00cc96",
           "#ab63fa",
           "#FFA15A",
           "#19d3f3",
           "#FF6692",
           "#B6E880",
           "#FF97FF",
           "#FECB52"
          ],
          "font": {
           "color": "#2a3f5f"
          },
          "geo": {
           "bgcolor": "white",
           "lakecolor": "white",
           "landcolor": "#E5ECF6",
           "showlakes": true,
           "showland": true,
           "subunitcolor": "white"
          },
          "hoverlabel": {
           "align": "left"
          },
          "hovermode": "closest",
          "mapbox": {
           "style": "light"
          },
          "paper_bgcolor": "white",
          "plot_bgcolor": "#E5ECF6",
          "polar": {
           "angularaxis": {
            "gridcolor": "white",
            "linecolor": "white",
            "ticks": ""
           },
           "bgcolor": "#E5ECF6",
           "radialaxis": {
            "gridcolor": "white",
            "linecolor": "white",
            "ticks": ""
           }
          },
          "scene": {
           "xaxis": {
            "backgroundcolor": "#E5ECF6",
            "gridcolor": "white",
            "gridwidth": 2,
            "linecolor": "white",
            "showbackground": true,
            "ticks": "",
            "zerolinecolor": "white"
           },
           "yaxis": {
            "backgroundcolor": "#E5ECF6",
            "gridcolor": "white",
            "gridwidth": 2,
            "linecolor": "white",
            "showbackground": true,
            "ticks": "",
            "zerolinecolor": "white"
           },
           "zaxis": {
            "backgroundcolor": "#E5ECF6",
            "gridcolor": "white",
            "gridwidth": 2,
            "linecolor": "white",
            "showbackground": true,
            "ticks": "",
            "zerolinecolor": "white"
           }
          },
          "shapedefaults": {
           "line": {
            "color": "#2a3f5f"
           }
          },
          "ternary": {
           "aaxis": {
            "gridcolor": "white",
            "linecolor": "white",
            "ticks": ""
           },
           "baxis": {
            "gridcolor": "white",
            "linecolor": "white",
            "ticks": ""
           },
           "bgcolor": "#E5ECF6",
           "caxis": {
            "gridcolor": "white",
            "linecolor": "white",
            "ticks": ""
           }
          },
          "title": {
           "x": 0.05
          },
          "xaxis": {
           "automargin": true,
           "gridcolor": "white",
           "linecolor": "white",
           "ticks": "",
           "title": {
            "standoff": 15
           },
           "zerolinecolor": "white",
           "zerolinewidth": 2
          },
          "yaxis": {
           "automargin": true,
           "gridcolor": "white",
           "linecolor": "white",
           "ticks": "",
           "title": {
            "standoff": 15
           },
           "zerolinecolor": "white",
           "zerolinewidth": 2
          }
         }
        },
        "title": {
         "text": "Pareto-front Plot"
        },
        "xaxis": {
         "title": {
          "text": "fair_metric"
         }
        },
        "yaxis": {
         "title": {
          "text": "f1_score"
         }
        }
       }
      }
     },
     "metadata": {},
     "output_type": "display_data"
    }
   ],
   "source": [
    "optuna.visualization.plot_pareto_front(results[0], target_names=[\"fair_metric\", \"f1_score\"], include_dominated_trials = True)"
   ]
  },
  {
   "cell_type": "code",
   "execution_count": 6,
   "metadata": {},
   "outputs": [],
   "source": [
    "#results_df.head(2)"
   ]
  },
  {
   "cell_type": "code",
   "execution_count": 7,
   "metadata": {},
   "outputs": [
    {
     "name": "stderr",
     "output_type": "stream",
     "text": [
      "/tmp/ipykernel_58583/3554850095.py:1: ExperimentalWarning:\n",
      "\n",
      "plot_param_importances is experimental (supported from v2.2.0). The interface can change in the future.\n",
      "\n"
     ]
    },
    {
     "data": {
      "text/plain": [
       "<Axes: title={'center': 'Hyperparameter Importances'}, xlabel=\"Importance for ['Fair metric']\", ylabel='Hyperparameter'>"
      ]
     },
     "execution_count": 7,
     "metadata": {},
     "output_type": "execute_result"
    },
    {
     "data": {
      "image/png": "[encoded data removed]",
      "text/plain": [
       "<Figure size 640x480 with 1 Axes>"
      ]
     },
     "metadata": {},
     "output_type": "display_data"
    }
   ],
   "source": [
    "optuna.visualization.matplotlib.plot_param_importances(results[0], target = lambda t: t.values[0], target_name = [\"Fair metric\"])"
   ]
  },
  {
   "cell_type": "code",
   "execution_count": 8,
   "metadata": {},
   "outputs": [
    {
     "name": "stderr",
     "output_type": "stream",
     "text": [
      "/tmp/ipykernel_58583/1945804371.py:1: ExperimentalWarning:\n",
      "\n",
      "plot_param_importances is experimental (supported from v2.2.0). The interface can change in the future.\n",
      "\n"
     ]
    },
    {
     "data": {
      "text/plain": [
       "<Axes: title={'center': 'Hyperparameter Importances'}, xlabel=\"Importance for ['Model metric']\", ylabel='Hyperparameter'>"
      ]
     },
     "execution_count": 8,
     "metadata": {},
     "output_type": "execute_result"
    },
    {
     "data": {
      "image/png": "[encoded data removed]",
      "text/plain": [
       "<Figure size 640x480 with 1 Axes>"
      ]
     },
     "metadata": {},
     "output_type": "display_data"
    }
   ],
   "source": [
    "optuna.visualization.matplotlib.plot_param_importances(results[0], target = lambda t: t.values[1], target_name = [\"Model metric\"])"
   ]
  },
  {
   "cell_type": "code",
   "execution_count": 13,
   "metadata": {},
   "outputs": [],
   "source": [
    "import matplotlib.pyplot as plt\n",
    "results_df = results[0].trials_dataframe()"
   ]
  },
  {
   "cell_type": "code",
   "execution_count": 6,
   "metadata": {},
   "outputs": [],
   "source": [
    "def equality_opportunity_difference(y_true, y_pred, sensitive_features):\n",
    "    return MetricFrame(metrics=true_positive_rate, y_true=y_true, y_pred=y_pred, sensitive_features=sensitive_features).difference()\n",
    "\n",
    "def predictive_equality_difference(y_true, y_pred, sensitive_features):\n",
    "    return MetricFrame(metrics=false_positive_rate, y_true=y_true, y_pred=y_pred, sensitive_features=sensitive_features).difference()\n",
    "\n",
    "\n",
    "fair_metric = []\n",
    "model_metric = []\n",
    "for i in range(len(results[0].best_trials)):\n",
    "    best_params = {key.replace('lgbm_',''):value for key, value in results[0].best_trials[i].params.items()}\n",
    "    pipeline['classifier'].set_params(**best_params)\n",
    "    pipeline.fit(X_train, y_train)\n",
    "    y_pred = pipeline.predict(X_test)  \n",
    "    \n",
    "    fair_metric.append(np.abs(predictive_equality_difference(y_test, y_pred, sensitive_features=A_test)))\n",
    "    #fair_metric.append(np.abs(demographic_parity_difference(y_test, y_pred, sensitive_features=A_test)))\n",
    "    model_metric.append(recall_score(y_test, y_pred))"
   ]
  },
  {
   "cell_type": "code",
   "execution_count": 9,
   "metadata": {},
   "outputs": [],
   "source": [
    "fair_metric_train = [results[0].best_trials[i].values[0] for i in range(len(results[0].best_trials))]\n",
    "model_metric_train = [results[0].best_trials[i].values[1] for i in range(len(results[0].best_trials))]"
   ]
  },
  {
   "cell_type": "code",
   "execution_count": 14,
   "metadata": {},
   "outputs": [
    {
     "data": {
      "text/plain": [
       "<matplotlib.collections.PathCollection at 0x7f1197214910>"
      ]
     },
     "execution_count": 14,
     "metadata": {},
     "output_type": "execute_result"
    },
    {
     "data": {
      "image/png": "[encoded data removed]",
      "text/plain": [
       "<Figure size 640x480 with 1 Axes>"
      ]
     },
     "metadata": {},
     "output_type": "display_data"
    }
   ],
   "source": [
    "plt.scatter(fair_metric, model_metric)\n",
    "plt.scatter(fair_metric_train, model_metric_train)"
   ]
  },
  {
   "cell_type": "code",
   "execution_count": 15,
   "metadata": {},
   "outputs": [],
   "source": [
    "fairness_metrics = list(zip(fair_metric_train, fair_metric))\n",
    "fairness_metrics_ = sorted(fairness_metrics, key = lambda x: x[0])\n",
    "#fairness_metrics_"
   ]
  },
  {
   "cell_type": "code",
   "execution_count": 16,
   "metadata": {},
   "outputs": [
    {
     "data": {
      "text/plain": [
       "<matplotlib.collections.PathCollection at 0x7f1196d03460>"
      ]
     },
     "execution_count": 16,
     "metadata": {},
     "output_type": "execute_result"
    },
    {
     "data": {
      "image/png": "[encoded data removed]",
      "text/plain": [
       "<Figure size 640x480 with 1 Axes>"
      ]
     },
     "metadata": {},
     "output_type": "display_data"
    }
   ],
   "source": [
    "plt.scatter(range(len(fair_metric_train)),list(zip(*fairness_metrics_))[0])\n",
    "plt.scatter(range(len(fair_metric_train)), list(zip(*fairness_metrics_))[1])"
   ]
  },
  {
   "cell_type": "code",
   "execution_count": 17,
   "metadata": {},
   "outputs": [],
   "source": [
    "model_metrics = list(zip(model_metric_train, model_metric))\n",
    "model_metrics_ = sorted(model_metrics, key = lambda x: x[0])"
   ]
  },
  {
   "cell_type": "code",
   "execution_count": 18,
   "metadata": {},
   "outputs": [
    {
     "data": {
      "text/plain": [
       "<matplotlib.collections.PathCollection at 0x7f1196d983d0>"
      ]
     },
     "execution_count": 18,
     "metadata": {},
     "output_type": "execute_result"
    },
    {
     "data": {
      "image/png": "[encoded data removed]",
      "text/plain": [
       "<Figure size 640x480 with 1 Axes>"
      ]
     },
     "metadata": {},
     "output_type": "display_data"
    }
   ],
   "source": [
    "plt.scatter(range(len(fair_metric_train)),list(zip(*model_metrics_))[0])\n",
    "plt.scatter(range(len(fair_metric_train)), list(zip(*model_metrics_))[1])"
   ]
  },
  {
   "cell_type": "code",
   "execution_count": 28,
   "metadata": {},
   "outputs": [
    {
     "data": {
      "text/html": [
       "<style>#sk-container-id-2 {color: black;background-color: white;}#sk-container-id-2 pre{padding: 0;}#sk-container-id-2 div.sk-toggleable {background-color: white;}#sk-container-id-2 label.sk-toggleable__label {cursor: pointer;display: block;width: 100%;margin-bottom: 0;padding: 0.3em;box-sizing: border-box;text-align: center;}#sk-container-id-2 label.sk-toggleable__label-arrow:before {content: \"▸\";float: left;margin-right: 0.25em;color: #696969;}#sk-container-id-2 label.sk-toggleable__label-arrow:hover:before {color: black;}#sk-container-id-2 div.sk-estimator:hover label.sk-toggleable__label-arrow:before {color: black;}#sk-container-id-2 div.sk-toggleable__content {max-height: 0;max-width: 0;overflow: hidden;text-align: left;background-color: #f0f8ff;}#sk-container-id-2 div.sk-toggleable__content pre {margin: 0.2em;color: black;border-radius: 0.25em;background-color: #f0f8ff;}#sk-container-id-2 input.sk-toggleable__control:checked~div.sk-toggleable__content {max-height: 200px;max-width: 100%;overflow: auto;}#sk-container-id-2 input.sk-toggleable__control:checked~label.sk-toggleable__label-arrow:before {content: \"▾\";}#sk-container-id-2 div.sk-estimator input.sk-toggleable__control:checked~label.sk-toggleable__label {background-color: #d4ebff;}#sk-container-id-2 div.sk-label input.sk-toggleable__control:checked~label.sk-toggleable__label {background-color: #d4ebff;}#sk-container-id-2 input.sk-hidden--visually {border: 0;clip: rect(1px 1px 1px 1px);clip: rect(1px, 1px, 1px, 1px);height: 1px;margin: -1px;overflow: hidden;padding: 0;position: absolute;width: 1px;}#sk-container-id-2 div.sk-estimator {font-family: monospace;background-color: #f0f8ff;border: 1px dotted black;border-radius: 0.25em;box-sizing: border-box;margin-bottom: 0.5em;}#sk-container-id-2 div.sk-estimator:hover {background-color: #d4ebff;}#sk-container-id-2 div.sk-parallel-item::after {content: \"\";width: 100%;border-bottom: 1px solid gray;flex-grow: 1;}#sk-container-id-2 div.sk-label:hover label.sk-toggleable__label {background-color: #d4ebff;}#sk-container-id-2 div.sk-serial::before {content: \"\";position: absolute;border-left: 1px solid gray;box-sizing: border-box;top: 0;bottom: 0;left: 50%;z-index: 0;}#sk-container-id-2 div.sk-serial {display: flex;flex-direction: column;align-items: center;background-color: white;padding-right: 0.2em;padding-left: 0.2em;position: relative;}#sk-container-id-2 div.sk-item {position: relative;z-index: 1;}#sk-container-id-2 div.sk-parallel {display: flex;align-items: stretch;justify-content: center;background-color: white;position: relative;}#sk-container-id-2 div.sk-item::before, #sk-container-id-2 div.sk-parallel-item::before {content: \"\";position: absolute;border-left: 1px solid gray;box-sizing: border-box;top: 0;bottom: 0;left: 50%;z-index: -1;}#sk-container-id-2 div.sk-parallel-item {display: flex;flex-direction: column;z-index: 1;position: relative;background-color: white;}#sk-container-id-2 div.sk-parallel-item:first-child::after {align-self: flex-end;width: 50%;}#sk-container-id-2 div.sk-parallel-item:last-child::after {align-self: flex-start;width: 50%;}#sk-container-id-2 div.sk-parallel-item:only-child::after {width: 0;}#sk-container-id-2 div.sk-dashed-wrapped {border: 1px dashed gray;margin: 0 0.4em 0.5em 0.4em;box-sizing: border-box;padding-bottom: 0.4em;background-color: white;}#sk-container-id-2 div.sk-label label {font-family: monospace;font-weight: bold;display: inline-block;line-height: 1.2em;}#sk-container-id-2 div.sk-label-container {text-align: center;}#sk-container-id-2 div.sk-container {/* jupyter's `normalize.less` sets `[hidden] { display: none; }` but bootstrap.min.css set `[hidden] { display: none !important; }` so we also need the `!important` here to be able to override the default hidden behavior on the sphinx rendered scikit-learn.org. See: https://github.com/scikit-learn/scikit-learn/issues/21755 */display: inline-block !important;position: relative;}#sk-container-id-2 div.sk-text-repr-fallback {display: none;}</style><div id=\"sk-container-id-2\" class=\"sk-top-container\"><div class=\"sk-text-repr-fallback\"><pre>LGBMClassifier(learning_rate=0.46799607752301065, max_depth=2,\n",
       "               min_child_samples=65, n_estimators=2261, num_leaves=359)</pre><b>In a Jupyter environment, please rerun this cell to show the HTML representation or trust the notebook. <br />On GitHub, the HTML representation is unable to render, please try loading this page with nbviewer.org.</b></div><div class=\"sk-container\" hidden><div class=\"sk-item\"><div class=\"sk-estimator sk-toggleable\"><input class=\"sk-toggleable__control sk-hidden--visually\" id=\"sk-estimator-id-2\" type=\"checkbox\" checked><label for=\"sk-estimator-id-2\" class=\"sk-toggleable__label sk-toggleable__label-arrow\">LGBMClassifier</label><div class=\"sk-toggleable__content\"><pre>LGBMClassifier(learning_rate=0.46799607752301065, max_depth=2,\n",
       "               min_child_samples=65, n_estimators=2261, num_leaves=359)</pre></div></div></div></div></div>"
      ],
      "text/plain": [
       "LGBMClassifier(learning_rate=0.46799607752301065, max_depth=2,\n",
       "               min_child_samples=65, n_estimators=2261, num_leaves=359)"
      ]
     },
     "execution_count": 28,
     "metadata": {},
     "output_type": "execute_result"
    }
   ],
   "source": [
    "n = 1\n",
    "best_params = {key.replace('lgbm_',''):value for key, value in results.best_trials[n].params.items()}\n",
    "pipeline['classifier'].set_params(**best_params)"
   ]
  },
  {
   "cell_type": "code",
   "execution_count": 29,
   "metadata": {},
   "outputs": [],
   "source": [
    "pipeline.fit(X_train, y_train)\n",
    "y_pred = pipeline.predict(X_test)"
   ]
  },
  {
   "cell_type": "code",
   "execution_count": 30,
   "metadata": {},
   "outputs": [
    {
     "name": "stdout",
     "output_type": "stream",
     "text": [
      "0.08491853498663993\n",
      "0.6986259541984733\n"
     ]
    }
   ],
   "source": [
    "fair_value = np.abs(equalized_odds_difference(y_test, y_pred, sensitive_features=A_test))\n",
    "model_value = f1_score(y_test, y_pred) \n",
    "print(fair_value)\n",
    "print(model_value)"
   ]
  },
  {
   "attachments": {},
   "cell_type": "markdown",
   "metadata": {},
   "source": [
    "## Several Simulations"
   ]
  },
  {
   "cell_type": "code",
   "execution_count": 2,
   "metadata": {},
   "outputs": [],
   "source": [
    "file_name = 'f1-dpd-lgbm-motpe-succesivehalving-100trials-4sim.pkl'\n",
    "with open(file_name, 'rb') as in_strm:\n",
    "    results = dill.load(in_strm)"
   ]
  },
  {
   "cell_type": "code",
   "execution_count": 19,
   "metadata": {},
   "outputs": [
    {
     "name": "stderr",
     "output_type": "stream",
     "text": [
      "/home/azucena/miniconda3/envs/fairenv/lib/python3.10/site-packages/sklearn/datasets/_openml.py:968: FutureWarning: The default value of `parser` will change from `'liac-arff'` to `'auto'` in 1.4. You can set `parser='auto'` to silence this warning. Therefore, an `ImportError` will be raised from 1.4 if the dataset is dense and pandas is not installed. Note that the pandas parser may return different data types. See the Notes Section in fetch_openml's API doc for details.\n",
      "  warn(\n"
     ]
    }
   ],
   "source": [
    "data = fetch_adult(as_frame=True)\n",
    "X_raw = data.data\n",
    "y = (data.target == \">50K\") * 1\n",
    "A = X_raw[\"sex\"]\n",
    "\n",
    "(X_train, X_test, y_train, y_test, A_train, A_test) = train_test_split(\n",
    "    X_raw, y, A, test_size=0.8, random_state=12345, stratify=y\n",
    ")\n",
    "\n",
    "X_train = X_train.reset_index(drop=True)\n",
    "X_test = X_test.reset_index(drop=True)\n",
    "y_train = y_train.reset_index(drop=True)\n",
    "y_test = y_test.reset_index(drop=True)\n",
    "A_train = A_train.reset_index(drop=True)\n",
    "A_test = A_test.reset_index(drop=True)\n",
    "\n",
    "numeric_transformer = Pipeline(\n",
    "    steps=[\n",
    "        (\"impute\", SimpleImputer()),\n",
    "        (\"scaler\", StandardScaler()),\n",
    "    ]\n",
    ")\n",
    "categorical_transformer = Pipeline(\n",
    "    [\n",
    "        (\"impute\", SimpleImputer(strategy=\"most_frequent\")),\n",
    "        (\"ohe\", OneHotEncoder(handle_unknown=\"ignore\")),\n",
    "    ]\n",
    ")\n",
    "preprocessor = ColumnTransformer(\n",
    "    transformers=[\n",
    "        (\"num\", numeric_transformer, selector(dtype_exclude=\"category\")),\n",
    "        (\"cat\", categorical_transformer, selector(dtype_include=\"category\")),\n",
    "    ]\n",
    ")\n",
    "\n",
    "pipeline = Pipeline(\n",
    "    steps=[\n",
    "        (\"preprocessor\", preprocessor),\n",
    "        (\n",
    "            \"classifier\",\n",
    "            LGBMClassifier(n_jobs=-1),\n",
    "        ),\n",
    "    ]\n",
    ")"
   ]
  },
  {
   "cell_type": "code",
   "execution_count": 22,
   "metadata": {},
   "outputs": [
    {
     "name": "stdout",
     "output_type": "stream",
     "text": [
      "0\n",
      "1\n",
      "2\n",
      "3\n"
     ]
    }
   ],
   "source": [
    "fair_sim_u = []\n",
    "model_sim_u = []\n",
    "fair_sim = []\n",
    "model_sim = []\n",
    "res_fair_sim = []\n",
    "res_model_sim = []\n",
    "for sim_n,res in enumerate(results):\n",
    "    print(sim_n)\n",
    "    (X_train, X_test, y_train, y_test, A_train, A_test) = train_test_split(\n",
    "    X_raw, y, A, test_size=0.8, stratify=y, random_state=sim_n\n",
    "    )\n",
    "\n",
    "    X_train = X_train.reset_index(drop=True)\n",
    "    X_test = X_test.reset_index(drop=True)\n",
    "    y_train = y_train.reset_index(drop=True)\n",
    "    y_test = y_test.reset_index(drop=True)\n",
    "    A_train = A_train.reset_index(drop=True)\n",
    "    A_test = A_test.reset_index(drop=True)\n",
    "\n",
    "    pipeline.steps.pop(1)\n",
    "    pipeline.steps.insert(1,('classifier',LGBMClassifier(n_jobs=-1)))\n",
    "    pipeline.fit(X_train, y_train)\n",
    "    y_pred = pipeline.predict(X_test)\n",
    "    fair_sim_u.append((np.abs(demographic_parity_difference(y_test, y_pred, sensitive_features=A_test))))\n",
    "    model_sim_u.append(f1_score(y_test, y_pred))\n",
    "\n",
    "    fair_value = []\n",
    "    model_value = []\n",
    "    res_fair_value = []\n",
    "    res_model_value = []\n",
    "    for i in range(len(res.best_trials)):\n",
    "        best_params = {key.replace('lgbm_',''):value for key, value in res.best_trials[i].params.items()}\n",
    "        pipeline['classifier'].set_params(**best_params)\n",
    "        pipeline.fit(X_train, y_train)\n",
    "        y_pred = pipeline.predict(X_test)  \n",
    "        res_fair_value.append(res.best_trials[i].values[0])\n",
    "        res_model_value.append(res.best_trials[i].values[1])\n",
    "        fair_value.append(np.abs(demographic_parity_difference(y_test, y_pred, sensitive_features=A_test)))\n",
    "        model_value.append(f1_score(y_test, y_pred))\n",
    "\n",
    "    res_fair_sim.append(res_fair_value)\n",
    "    res_model_sim.append(res_model_value)\n",
    "    fair_sim.append(fair_value)\n",
    "    model_sim.append(model_value)\n"
   ]
  },
  {
   "cell_type": "code",
   "execution_count": 36,
   "metadata": {},
   "outputs": [
    {
     "data": {
      "image/png": "[encoded data removed]",
      "text/plain": [
       "<Figure size 1000x1000 with 4 Axes>"
      ]
     },
     "metadata": {},
     "output_type": "display_data"
    }
   ],
   "source": [
    "import matplotlib.pyplot as plt\n",
    "\n",
    "plt.style.use('seaborn-v0_8-darkgrid')\n",
    "\n",
    "rows = 2\n",
    "cols = 2\n",
    "fig, axes = plt.subplots(rows, cols, figsize=(10,10))\n",
    "for i,ax in zip(range(len(res_fair_sim)),axes.ravel()):\n",
    "    ax.scatter(res_fair_sim[i], res_model_sim[i])\n",
    "    ax.scatter(fair_sim_u[i], model_sim_u[i])\n",
    "    #order = results[i].F[:,0].argsort()\n",
    "    #ax.scatter(range(len(fair_sim[i])), results[i].F[order,0])\n",
    "    #ax.scatter(fair_sim[i], model_sim[i])\n",
    "    #ax.scatter(fair_sim_u[i], model_sim_u[i])"
   ]
  },
  {
   "cell_type": "code",
   "execution_count": 37,
   "metadata": {},
   "outputs": [
    {
     "data": {
      "image/png": "[encoded data removed]",
      "text/plain": [
       "<Figure size 1000x1000 with 4 Axes>"
      ]
     },
     "metadata": {},
     "output_type": "display_data"
    }
   ],
   "source": [
    "plt.style.use('seaborn-v0_8-darkgrid')\n",
    "rows = 2\n",
    "cols = 2\n",
    "fig, axes = plt.subplots(rows, cols, figsize=(10,10))\n",
    "for i,ax in zip(range(len(res_fair_sim)),axes.ravel()):\n",
    "    fairness_metrics = list(zip(res_fair_sim[i], fair_sim[i]))\n",
    "    fairness_metrics_ = sorted(fairness_metrics, key = lambda x: x[0])\n",
    "    ax.scatter(range(len(res_fair_sim[i])), list(zip(*fairness_metrics_))[0])\n",
    "    ax.scatter(len(res_fair_sim[i]), fair_sim_u[i])\n",
    "    ax.scatter(range(len(res_fair_sim[i])), list(zip(*fairness_metrics_))[1])"
   ]
  },
  {
   "cell_type": "code",
   "execution_count": 38,
   "metadata": {},
   "outputs": [
    {
     "data": {
      "image/png": "[encoded data removed]",
      "text/plain": [
       "<Figure size 1000x1000 with 4 Axes>"
      ]
     },
     "metadata": {},
     "output_type": "display_data"
    }
   ],
   "source": [
    "rows = 2\n",
    "cols = 2\n",
    "fig, axes = plt.subplots(rows, cols, figsize=(10,10))\n",
    "for i,ax in zip(range(len(res_model_sim)),axes.ravel()):\n",
    "    performance_metrics = list(zip(res_model_sim[i], model_sim[i]))\n",
    "    performance_metrics_ = sorted(performance_metrics, key = lambda x: x[0])\n",
    "    ax.scatter(range(len(res_model_sim[i])), list(zip(*performance_metrics_))[0])\n",
    "    ax.scatter(len(res_model_sim[i]), model_sim_u[i])\n",
    "    ax.scatter(range(len(res_model_sim[i])), list(zip(*performance_metrics_))[1])"
   ]
  },
  {
   "cell_type": "code",
   "execution_count": 43,
   "metadata": {},
   "outputs": [
    {
     "data": {
      "text/plain": [
       "array([ 0.        ,  0.        ,  0.        ,  0.        ,  0.        ,\n",
       "        0.        ,  0.        ,  0.        ,  0.        ,  0.        ,\n",
       "        0.        ,  0.        ,  0.        , -0.00372159, -0.00372159,\n",
       "       -0.00356522, -0.00338669, -0.01241966, -0.00803278, -0.00738235,\n",
       "       -0.0080663 , -0.00639008, -0.00957663, -0.00114971,  0.00580643,\n",
       "       -0.00485731,  0.00079943, -0.01006313, -0.00615676, -0.0142069 ,\n",
       "       -0.00962224, -0.01318457, -0.00541229, -0.01309264, -0.00936273,\n",
       "       -0.01335117, -0.0123143 , -0.01009635, -0.01394051, -0.01136542,\n",
       "       -0.00891727, -0.00925434, -0.01037521, -0.01167041, -0.01453386])"
      ]
     },
     "execution_count": 43,
     "metadata": {},
     "output_type": "execute_result"
    }
   ],
   "source": [
    "np.array(list(zip(*fairness_metrics_))[0])-np.array(list(zip(*fairness_metrics_))[1])"
   ]
  },
  {
   "cell_type": "code",
   "execution_count": 44,
   "metadata": {},
   "outputs": [
    {
     "data": {
      "image/png": "[encoded data removed]",
      "text/plain": [
       "<Figure size 1000x1000 with 4 Axes>"
      ]
     },
     "metadata": {},
     "output_type": "display_data"
    }
   ],
   "source": [
    "fig, axes = plt.subplots(rows, cols, figsize=(10,10))\n",
    "for i,ax in zip(range(len(fair_sim)),axes.ravel()):\n",
    "    fairness_metrics = list(zip(res_fair_sim[i], fair_sim[i]))\n",
    "    fairness_metrics_ = sorted(fairness_metrics, key = lambda x: x[0])\n",
    "    fair_residuals = np.array(list(zip(*fairness_metrics_))[0])-np.array(list(zip(*fairness_metrics_))[1])\n",
    "    ax.hist(fair_residuals)"
   ]
  },
  {
   "cell_type": "code",
   "execution_count": 46,
   "metadata": {},
   "outputs": [
    {
     "data": {
      "image/png": "[encoded data removed]",
      "text/plain": [
       "<Figure size 1000x1000 with 4 Axes>"
      ]
     },
     "metadata": {},
     "output_type": "display_data"
    }
   ],
   "source": [
    "fig, axes = plt.subplots(rows, cols, figsize=(10,10))\n",
    "for i,ax in zip(range(len(fair_sim)),axes.ravel()):\n",
    "    model_metrics = list(zip(res_model_sim[i], model_sim[i]))\n",
    "    model_metrics_ = sorted(model_metrics, key = lambda x: x[0])\n",
    "    fair_residuals = np.array(list(zip(*model_metrics_))[0])-np.array(list(zip(*model_metrics_))[1])\n",
    "    ax.hist(fair_residuals)"
   ]
  },
  {
   "cell_type": "markdown",
   "metadata": {},
   "source": [
    "## Different Models"
   ]
  },
  {
   "cell_type": "code",
   "execution_count": 4,
   "metadata": {},
   "outputs": [],
   "source": [
    "file_name = 'recall-fpr-models-motpe-succesivehalving-100trials-4sim.pkl'\n",
    "with open(file_name, 'rb') as in_strm:\n",
    "    results = dill.load(in_strm)"
   ]
  },
  {
   "cell_type": "code",
   "execution_count": 5,
   "metadata": {},
   "outputs": [
    {
     "name": "stderr",
     "output_type": "stream",
     "text": [
      "/home/avasquez/miniconda3/envs/fairenv/lib/python3.10/site-packages/sklearn/datasets/_openml.py:968: FutureWarning: The default value of `parser` will change from `'liac-arff'` to `'auto'` in 1.4. You can set `parser='auto'` to silence this warning. Therefore, an `ImportError` will be raised from 1.4 if the dataset is dense and pandas is not installed. Note that the pandas parser may return different data types. See the Notes Section in fetch_openml's API doc for details.\n",
      "  warn(\n"
     ]
    }
   ],
   "source": [
    "data = fetch_adult(as_frame=True)\n",
    "X_raw = data.data\n",
    "y = (data.target == \">50K\") * 1\n",
    "A = X_raw[\"sex\"]\n",
    "\n",
    "\n",
    "numeric_transformer = Pipeline(\n",
    "    steps=[\n",
    "        (\"impute\", SimpleImputer()),\n",
    "        (\"scaler\", StandardScaler()),\n",
    "    ]\n",
    ")\n",
    "categorical_transformer = Pipeline(\n",
    "    [\n",
    "        (\"impute\", SimpleImputer(strategy=\"most_frequent\")),\n",
    "        (\"ohe\", OneHotEncoder(handle_unknown=\"ignore\")),\n",
    "    ]\n",
    ")\n",
    "preprocessor = ColumnTransformer(\n",
    "    transformers=[\n",
    "        (\"num\", numeric_transformer, selector(dtype_exclude=\"category\")),\n",
    "        (\"cat\", categorical_transformer, selector(dtype_include=\"category\")),\n",
    "    ]\n",
    ")\n",
    "\n",
    "pipeline = Pipeline(\n",
    "    steps=[\n",
    "        (\"preprocessor\", preprocessor),\n",
    "        (\n",
    "            \"classifier\",\n",
    "            LGBMClassifier(n_jobs=-1),\n",
    "        ),\n",
    "    ]\n",
    ")"
   ]
  },
  {
   "cell_type": "code",
   "execution_count": 29,
   "metadata": {},
   "outputs": [
    {
     "name": "stdout",
     "output_type": "stream",
     "text": [
      "0\n"
     ]
    },
    {
     "name": "stderr",
     "output_type": "stream",
     "text": [
      "/home/avasquez/miniconda3/envs/fairenv/lib/python3.10/site-packages/sklearn/linear_model/_logistic.py:458: ConvergenceWarning: lbfgs failed to converge (status=1):\n",
      "STOP: TOTAL NO. of ITERATIONS REACHED LIMIT.\n",
      "\n",
      "Increase the number of iterations (max_iter) or scale the data as shown in:\n",
      "    https://scikit-learn.org/stable/modules/preprocessing.html\n",
      "Please also refer to the documentation for alternative solver options:\n",
      "    https://scikit-learn.org/stable/modules/linear_model.html#logistic-regression\n",
      "  n_iter_i = _check_optimize_result(\n"
     ]
    },
    {
     "name": "stdout",
     "output_type": "stream",
     "text": [
      "1\n"
     ]
    },
    {
     "name": "stderr",
     "output_type": "stream",
     "text": [
      "/home/avasquez/miniconda3/envs/fairenv/lib/python3.10/site-packages/sklearn/linear_model/_logistic.py:458: ConvergenceWarning: lbfgs failed to converge (status=1):\n",
      "STOP: TOTAL NO. of ITERATIONS REACHED LIMIT.\n",
      "\n",
      "Increase the number of iterations (max_iter) or scale the data as shown in:\n",
      "    https://scikit-learn.org/stable/modules/preprocessing.html\n",
      "Please also refer to the documentation for alternative solver options:\n",
      "    https://scikit-learn.org/stable/modules/linear_model.html#logistic-regression\n",
      "  n_iter_i = _check_optimize_result(\n"
     ]
    },
    {
     "name": "stdout",
     "output_type": "stream",
     "text": [
      "2\n"
     ]
    },
    {
     "name": "stderr",
     "output_type": "stream",
     "text": [
      "/home/avasquez/miniconda3/envs/fairenv/lib/python3.10/site-packages/sklearn/linear_model/_logistic.py:458: ConvergenceWarning: lbfgs failed to converge (status=1):\n",
      "STOP: TOTAL NO. of ITERATIONS REACHED LIMIT.\n",
      "\n",
      "Increase the number of iterations (max_iter) or scale the data as shown in:\n",
      "    https://scikit-learn.org/stable/modules/preprocessing.html\n",
      "Please also refer to the documentation for alternative solver options:\n",
      "    https://scikit-learn.org/stable/modules/linear_model.html#logistic-regression\n",
      "  n_iter_i = _check_optimize_result(\n"
     ]
    },
    {
     "name": "stdout",
     "output_type": "stream",
     "text": [
      "3\n"
     ]
    },
    {
     "name": "stderr",
     "output_type": "stream",
     "text": [
      "/home/avasquez/miniconda3/envs/fairenv/lib/python3.10/site-packages/sklearn/linear_model/_logistic.py:458: ConvergenceWarning: lbfgs failed to converge (status=1):\n",
      "STOP: TOTAL NO. of ITERATIONS REACHED LIMIT.\n",
      "\n",
      "Increase the number of iterations (max_iter) or scale the data as shown in:\n",
      "    https://scikit-learn.org/stable/modules/preprocessing.html\n",
      "Please also refer to the documentation for alternative solver options:\n",
      "    https://scikit-learn.org/stable/modules/linear_model.html#logistic-regression\n",
      "  n_iter_i = _check_optimize_result(\n"
     ]
    }
   ],
   "source": [
    "import re\n",
    "\n",
    "fair_sim_u = []\n",
    "model_sim_u = []\n",
    "fair_sim = []\n",
    "model_sim = []\n",
    "res_fair_sim = []\n",
    "res_model_sim = []\n",
    "models = [LogisticRegression(), RandomForestClassifier(), GradientBoostingClassifier(), LGBMClassifier()]\n",
    "#fairness_metric = demographic_parity_difference()\n",
    "for sim_n,res in enumerate(results):\n",
    "    print(sim_n)\n",
    "    (X_train, X_test, y_train, y_test, A_train, A_test) = train_test_split(\n",
    "    X_raw, y, A, test_size=0.8, stratify=y, random_state=sim_n\n",
    "    )\n",
    "\n",
    "    X_train = X_train.reset_index(drop=True)\n",
    "    X_test = X_test.reset_index(drop=True)\n",
    "    y_train = y_train.reset_index(drop=True)\n",
    "    y_test = y_test.reset_index(drop=True)\n",
    "    A_train = A_train.reset_index(drop=True)\n",
    "    A_test = A_test.reset_index(drop=True)\n",
    "\n",
    "    fair_sim_u_aux = []\n",
    "    model_sim_u_aux = []\n",
    "    for model in models:\n",
    "        pipeline.steps.pop(1)\n",
    "        pipeline.steps.insert(1,('classifier', model))\n",
    "        pipeline.fit(X_train, y_train)\n",
    "        y_pred = pipeline.predict(X_test)\n",
    "        fair_sim_u_aux.append((np.abs(predictive_equality_difference(y_test, y_pred, sensitive_features=A_test))))\n",
    "        model_sim_u_aux.append(recall_score(y_test, y_pred))\n",
    "    fair_sim_u.append(fair_sim_u_aux)\n",
    "    model_sim_u.append(model_sim_u_aux)\n",
    "\n",
    "    fair_value = []\n",
    "    model_value = []\n",
    "    res_fair_value = []\n",
    "    res_model_value = []\n",
    "    for i in range(len(res.best_trials)):\n",
    "        best_params = {re.sub('^[a-z]+_','',key):value for key, value in res.best_trials[i].params.items()}\n",
    "        pipeline.steps.pop(1)\n",
    "        classifier_name = best_params.pop('classifier')\n",
    "        if classifier_name == \"logit\": \n",
    "            pipeline.steps.insert(1,('classifier', LogisticRegression()))\n",
    "        elif classifier_name ==\"RF\":\n",
    "            pipeline.steps.insert(1,('classifier', RandomForestClassifier()))\n",
    "        elif classifier_name ==\"LGBM\":\n",
    "            pipeline.steps.insert(1,('classifier', LGBMClassifier()))\n",
    "        elif classifier_name ==\"GBM\":\n",
    "            pipeline.steps.insert(1,('classifier', GradientBoostingClassifier()))\n",
    "        pipeline['classifier'].set_params(**best_params)\n",
    "        pipeline.fit(X_train, y_train)\n",
    "        y_pred = pipeline.predict(X_test)  \n",
    "        res_fair_value.append(res.best_trials[i].values[0])\n",
    "        res_model_value.append(res.best_trials[i].values[1])\n",
    "        fair_value.append(np.abs(predictive_equality_difference(y_test, y_pred, sensitive_features=A_test)))\n",
    "        model_value.append(recall_score(y_test, y_pred))\n",
    "\n",
    "    res_fair_sim.append(res_fair_value)\n",
    "    res_model_sim.append(res_model_value)\n",
    "    fair_sim.append(fair_value)\n",
    "    model_sim.append(model_value)\n"
   ]
  },
  {
   "cell_type": "code",
   "execution_count": 30,
   "metadata": {},
   "outputs": [
    {
     "data": {
      "image/png": "[encoded data removed]",
      "text/plain": [
       "<Figure size 1000x1000 with 4 Axes>"
      ]
     },
     "metadata": {},
     "output_type": "display_data"
    }
   ],
   "source": [
    "import matplotlib.pyplot as plt\n",
    "\n",
    "plt.style.use('seaborn-v0_8-darkgrid')\n",
    "\n",
    "rows = 2\n",
    "cols = 2\n",
    "fig, axes = plt.subplots(rows, cols, figsize=(10,10))\n",
    "for i,ax in zip(range(len(res_fair_sim)),axes.ravel()):\n",
    "    ax.scatter(res_fair_sim[i], res_model_sim[i])\n",
    "    ax.scatter(fair_sim_u[i], model_sim_u[i])\n",
    "    #order = results[i].F[:,0].argsort()\n",
    "    #ax.scatter(range(len(fair_sim[i])), results[i].F[order,0])\n",
    "    #ax.scatter(fair_sim[i], model_sim[i])\n",
    "    #ax.scatter(fair_sim_u[i], model_sim_u[i])"
   ]
  },
  {
   "cell_type": "code",
   "execution_count": 33,
   "metadata": {},
   "outputs": [
    {
     "data": {
      "image/png": "[encoded data removed]",
      "text/plain": [
       "<Figure size 1000x1000 with 4 Axes>"
      ]
     },
     "metadata": {},
     "output_type": "display_data"
    }
   ],
   "source": [
    "plt.style.use('seaborn-v0_8-darkgrid')\n",
    "rows = 2\n",
    "cols = 2\n",
    "fig, axes = plt.subplots(rows, cols, figsize=(10,10))\n",
    "for i,ax in zip(range(len(res_fair_sim)),axes.ravel()):\n",
    "    fairness_metrics = list(zip(res_fair_sim[i], fair_sim[i]))\n",
    "    fairness_metrics_ = sorted(fairness_metrics, key = lambda x: x[0])\n",
    "    ax.scatter(range(len(res_fair_sim[i])), list(zip(*fairness_metrics_))[0])\n",
    "    #ax.scatter(len(res_fair_sim[i]*4), fair_sim_u[i])\n",
    "    ax.scatter(range(len(res_fair_sim[i])), list(zip(*fairness_metrics_))[1])"
   ]
  },
  {
   "cell_type": "code",
   "execution_count": 35,
   "metadata": {},
   "outputs": [
    {
     "data": {
      "image/png": "[encoded data removed]",
      "text/plain": [
       "<Figure size 1000x1000 with 4 Axes>"
      ]
     },
     "metadata": {},
     "output_type": "display_data"
    }
   ],
   "source": [
    "rows = 2\n",
    "cols = 2\n",
    "fig, axes = plt.subplots(rows, cols, figsize=(10,10))\n",
    "for i,ax in zip(range(len(res_model_sim)),axes.ravel()):\n",
    "    performance_metrics = list(zip(res_model_sim[i], model_sim[i]))\n",
    "    performance_metrics_ = sorted(performance_metrics, key = lambda x: x[0])\n",
    "    ax.scatter(range(len(res_model_sim[i])), list(zip(*performance_metrics_))[0])\n",
    "    #ax.scatter(len(res_model_sim[i]), model_sim_u[i])\n",
    "    ax.scatter(range(len(res_model_sim[i])), list(zip(*performance_metrics_))[1])"
   ]
  },
  {
   "cell_type": "code",
   "execution_count": 36,
   "metadata": {},
   "outputs": [
    {
     "data": {
      "image/png": "[encoded data removed]",
      "text/plain": [
       "<Figure size 1000x1000 with 4 Axes>"
      ]
     },
     "metadata": {},
     "output_type": "display_data"
    }
   ],
   "source": [
    "fig, axes = plt.subplots(rows, cols, figsize=(10,10))\n",
    "for i,ax in zip(range(len(fair_sim)),axes.ravel()):\n",
    "    fairness_metrics = list(zip(res_fair_sim[i], fair_sim[i]))\n",
    "    fairness_metrics_ = sorted(fairness_metrics, key = lambda x: x[0])\n",
    "    fair_residuals = np.array(list(zip(*fairness_metrics_))[0])-np.array(list(zip(*fairness_metrics_))[1])\n",
    "    ax.hist(fair_residuals)"
   ]
  },
  {
   "cell_type": "code",
   "execution_count": 37,
   "metadata": {},
   "outputs": [
    {
     "data": {
      "image/png": "[encoded data removed]",
      "text/plain": [
       "<Figure size 1000x1000 with 4 Axes>"
      ]
     },
     "metadata": {},
     "output_type": "display_data"
    }
   ],
   "source": [
    "fig, axes = plt.subplots(rows, cols, figsize=(10,10))\n",
    "for i,ax in zip(range(len(fair_sim)),axes.ravel()):\n",
    "    model_metrics = list(zip(res_model_sim[i], model_sim[i]))\n",
    "    model_metrics_ = sorted(model_metrics, key = lambda x: x[0])\n",
    "    fair_residuals = np.array(list(zip(*model_metrics_))[0])-np.array(list(zip(*model_metrics_))[1])\n",
    "    ax.hist(fair_residuals)"
   ]
  },
  {
   "cell_type": "code",
   "execution_count": 40,
   "metadata": {},
   "outputs": [
    {
     "data": {
      "application/vnd.plotly.v1+json": {
       "config": {
        "plotlyServerURL": "https://plot.ly"
       },
       "data": [
        {
         "hovertemplate": "%{text}<extra>Trial</extra>",
         "marker": {
          "color": [],
          "colorbar": {
           "title": {
            "text": "Trial"
           }
          },
          "colorscale": [
           [
            0,
            "rgb(247,251,255)"
           ],
           [
            0.125,
            "rgb(222,235,247)"
           ],
           [
            0.25,
            "rgb(198,219,239)"
           ],
           [
            0.375,
            "rgb(158,202,225)"
           ],
           [
            0.5,
            "rgb(107,174,214)"
           ],
           [
            0.625,
            "rgb(66,146,198)"
           ],
           [
            0.75,
            "rgb(33,113,181)"
           ],
           [
            0.875,
            "rgb(8,81,156)"
           ],
           [
            1,
            "rgb(8,48,107)"
           ]
          ],
          "line": {
           "color": "Grey",
           "width": 0.5
          }
         },
         "mode": "markers",
         "showlegend": false,
         "text": [],
         "type": "scatter",
         "x": [],
         "y": []
        },
        {
         "hovertemplate": "%{text}<extra>Best Trial</extra>",
         "marker": {
          "color": [
           11,
           12,
           13,
           14,
           17,
           21,
           22,
           24,
           25,
           26,
           32,
           39,
           45,
           53,
           65,
           71,
           74,
           76,
           79,
           80,
           81,
           90,
           94,
           95,
           97,
           98,
           99
          ],
          "colorbar": {
           "title": {
            "text": "Best Trial"
           },
           "x": 1,
           "xpad": 40
          },
          "colorscale": [
           [
            0,
            "rgb(255,245,240)"
           ],
           [
            0.125,
            "rgb(254,224,210)"
           ],
           [
            0.25,
            "rgb(252,187,161)"
           ],
           [
            0.375,
            "rgb(252,146,114)"
           ],
           [
            0.5,
            "rgb(251,106,74)"
           ],
           [
            0.625,
            "rgb(239,59,44)"
           ],
           [
            0.75,
            "rgb(203,24,29)"
           ],
           [
            0.875,
            "rgb(165,15,21)"
           ],
           [
            1,
            "rgb(103,0,13)"
           ]
          ],
          "line": {
           "color": "Grey",
           "width": 0.5
          }
         },
         "mode": "markers",
         "showlegend": false,
         "text": [
          "{<br>  \"number\": 11,<br>  \"values\": [<br>    0.05303637497056381,<br>    0.5387260015739672<br>  ],<br>  \"params\": {<br>    \"classifier\": \"GBM\",<br>    \"gbm_n_estimators\": 181,<br>    \"gbm_criterion\": \"squared_error\",<br>    \"gbm_max_depth\": 1,<br>    \"gbm_min_child_samples\": 299<br>  }<br>}",
          "{<br>  \"number\": 12,<br>  \"values\": [<br>    0.05072287563050126,<br>    0.5198960449495781<br>  ],<br>  \"params\": {<br>    \"classifier\": \"GBM\",<br>    \"gbm_n_estimators\": 119,<br>    \"gbm_criterion\": \"squared_error\",<br>    \"gbm_max_depth\": 1,<br>    \"gbm_min_child_samples\": 283<br>  }<br>}",
          "{<br>  \"number\": 13,<br>  \"values\": [<br>    0.05941961937220155,<br>    0.6114698292428484<br>  ],<br>  \"params\": {<br>    \"classifier\": \"GBM\",<br>    \"gbm_n_estimators\": 128,<br>    \"gbm_criterion\": \"friedman_mse\",<br>    \"gbm_max_depth\": 4,<br>    \"gbm_min_child_samples\": 246<br>  }<br>}",
          "{<br>  \"number\": 14,<br>  \"values\": [<br>    0.06233863503795094,<br>    0.6251605995717345<br>  ],<br>  \"params\": {<br>    \"classifier\": \"GBM\",<br>    \"gbm_n_estimators\": 139,<br>    \"gbm_criterion\": \"friedman_mse\",<br>    \"gbm_max_depth\": 4,<br>    \"gbm_min_child_samples\": 34<br>  }<br>}",
          "{<br>  \"number\": 17,<br>  \"values\": [<br>    0.062261835216546116,<br>    0.6213135306283057<br>  ],<br>  \"params\": {<br>    \"classifier\": \"GBM\",<br>    \"gbm_n_estimators\": 400,<br>    \"gbm_criterion\": \"friedman_mse\",<br>    \"gbm_max_depth\": 3,<br>    \"gbm_min_child_samples\": 298<br>  }<br>}",
          "{<br>  \"number\": 21,<br>  \"values\": [<br>    0.06314919534850101,<br>    0.6277274474276615<br>  ],<br>  \"params\": {<br>    \"classifier\": \"GBM\",<br>    \"gbm_n_estimators\": 219,<br>    \"gbm_criterion\": \"friedman_mse\",<br>    \"gbm_max_depth\": 4,<br>    \"gbm_min_child_samples\": 262<br>  }<br>}",
          "{<br>  \"number\": 22,<br>  \"values\": [<br>    0.05855444325726311,<br>    0.6011969472354912<br>  ],<br>  \"params\": {<br>    \"classifier\": \"GBM\",<br>    \"gbm_n_estimators\": 299,<br>    \"gbm_criterion\": \"squared_error\",<br>    \"gbm_max_depth\": 2,<br>    \"gbm_min_child_samples\": 255<br>  }<br>}",
          "{<br>  \"number\": 24,<br>  \"values\": [<br>    0.05573557168389602,<br>    0.5879280367503066<br>  ],<br>  \"params\": {<br>    \"classifier\": \"GBM\",<br>    \"gbm_n_estimators\": 102,<br>    \"gbm_criterion\": \"squared_error\",<br>    \"gbm_max_depth\": 3,<br>    \"gbm_min_child_samples\": 149<br>  }<br>}",
          "{<br>  \"number\": 25,<br>  \"values\": [<br>    0.061465741204731986,<br>    0.6174618861985028<br>  ],<br>  \"params\": {<br>    \"classifier\": \"GBM\",<br>    \"gbm_n_estimators\": 338,<br>    \"gbm_criterion\": \"squared_error\",<br>    \"gbm_max_depth\": 3,<br>    \"gbm_min_child_samples\": 151<br>  }<br>}",
          "{<br>  \"number\": 26,<br>  \"values\": [<br>    0.05548118828140793,<br>    0.5562684163326562<br>  ],<br>  \"params\": {<br>    \"classifier\": \"GBM\",<br>    \"gbm_n_estimators\": 105,<br>    \"gbm_criterion\": \"squared_error\",<br>    \"gbm_max_depth\": 2,<br>    \"gbm_min_child_samples\": 103<br>  }<br>}",
          "{<br>  \"number\": 32,<br>  \"values\": [<br>    0.05844766379798747,<br>    0.5990528743205402<br>  ],<br>  \"params\": {<br>    \"classifier\": \"GBM\",<br>    \"gbm_n_estimators\": 121,<br>    \"gbm_criterion\": \"friedman_mse\",<br>    \"gbm_max_depth\": 3,<br>    \"gbm_min_child_samples\": 168<br>  }<br>}",
          "{<br>  \"number\": 39,<br>  \"values\": [<br>    0.0006444697991218062,<br>    0.14377733853108587<br>  ],<br>  \"params\": {<br>    \"classifier\": \"LGBM\",<br>    \"lgbm_n_estimators\": 4859,<br>    \"lgbm_num_leaves\": 16,<br>    \"lgbm_max_depth\": 3,<br>    \"lgbm_min_child_samples\": 294,<br>    \"lgbm_learning_rate\": 0.00016840060676559,<br>    \"lgbm_boosting_type\": \"goss\"<br>  }<br>}",
          "{<br>  \"number\": 45,<br>  \"values\": [<br>    0.0004336329984135378,<br>    0.10783140247808343<br>  ],<br>  \"params\": {<br>    \"classifier\": \"RF\",<br>    \"rf_n_estimators\": 798,<br>    \"rf_criterion\": \"entropy\",<br>    \"rf_max_depth\": 3,<br>    \"rf_min_samples_split\": 0.012146603588618415<br>  }<br>}",
          "{<br>  \"number\": 53,<br>  \"values\": [<br>    0.060794069825761035,<br>    0.6174582258094035<br>  ],<br>  \"params\": {<br>    \"classifier\": \"GBM\",<br>    \"gbm_n_estimators\": 467,<br>    \"gbm_criterion\": \"squared_error\",<br>    \"gbm_max_depth\": 2,<br>    \"gbm_min_child_samples\": 198<br>  }<br>}",
          "{<br>  \"number\": 65,<br>  \"values\": [<br>    0.0,<br>    0.09756950163802411<br>  ],<br>  \"params\": {<br>    \"classifier\": \"RF\",<br>    \"rf_n_estimators\": 754,<br>    \"rf_criterion\": \"entropy\",<br>    \"rf_max_depth\": 3,<br>    \"rf_min_samples_split\": 0.10200149748106294<br>  }<br>}",
          "{<br>  \"number\": 71,<br>  \"values\": [<br>    0.061841684634604245,<br>    0.6183138417613792<br>  ],<br>  \"params\": {<br>    \"classifier\": \"GBM\",<br>    \"gbm_n_estimators\": 169,<br>    \"gbm_criterion\": \"friedman_mse\",<br>    \"gbm_max_depth\": 4,<br>    \"gbm_min_child_samples\": 248<br>  }<br>}",
          "{<br>  \"number\": 74,<br>  \"values\": [<br>    0.004491219339700534,<br>    0.24732974615201594<br>  ],<br>  \"params\": {<br>    \"classifier\": \"LGBM\",<br>    \"lgbm_n_estimators\": 137,<br>    \"lgbm_num_leaves\": 742,<br>    \"lgbm_max_depth\": 15,<br>    \"lgbm_min_child_samples\": 97,<br>    \"lgbm_learning_rate\": 0.004341204318735611,<br>    \"lgbm_boosting_type\": \"gbdt\"<br>  }<br>}",
          "{<br>  \"number\": 76,<br>  \"values\": [<br>    0.06742002735920491,<br>    0.637570233715844<br>  ],<br>  \"params\": {<br>    \"classifier\": \"LGBM\",<br>    \"lgbm_n_estimators\": 2417,<br>    \"lgbm_num_leaves\": 509,<br>    \"lgbm_max_depth\": 16,<br>    \"lgbm_min_child_samples\": 102,<br>    \"lgbm_learning_rate\": 0.007183974492563477,<br>    \"lgbm_boosting_type\": \"gbdt\"<br>  }<br>}",
          "{<br>  \"number\": 79,<br>  \"values\": [<br>    0.06625794059682193,<br>    0.6349997254708175<br>  ],<br>  \"params\": {<br>    \"classifier\": \"LGBM\",<br>    \"lgbm_n_estimators\": 3867,<br>    \"lgbm_num_leaves\": 859,<br>    \"lgbm_max_depth\": 12,<br>    \"lgbm_min_child_samples\": 58,<br>    \"lgbm_learning_rate\": 0.003414140979473115,<br>    \"lgbm_boosting_type\": \"gbdt\"<br>  }<br>}",
          "{<br>  \"number\": 80,<br>  \"values\": [<br>    0.06567428016972615,<br>    0.6328657186258899<br>  ],<br>  \"params\": {<br>    \"classifier\": \"LGBM\",<br>    \"lgbm_n_estimators\": 3943,<br>    \"lgbm_num_leaves\": 868,<br>    \"lgbm_max_depth\": 12,<br>    \"lgbm_min_child_samples\": 69,<br>    \"lgbm_learning_rate\": 0.003464352557314255,<br>    \"lgbm_boosting_type\": \"gbdt\"<br>  }<br>}",
          "{<br>  \"number\": 81,<br>  \"values\": [<br>    0.07936701410636486,<br>    0.6401370815717711<br>  ],<br>  \"params\": {<br>    \"classifier\": \"LGBM\",<br>    \"lgbm_n_estimators\": 6564,<br>    \"lgbm_num_leaves\": 627,<br>    \"lgbm_max_depth\": 17,<br>    \"lgbm_min_child_samples\": 123,<br>    \"lgbm_learning_rate\": 0.005504627492728618,<br>    \"lgbm_boosting_type\": \"gbdt\"<br>  }<br>}",
          "{<br>  \"number\": 90,<br>  \"values\": [<br>    0.02792959413426057,<br>    0.41848313475722476<br>  ],<br>  \"params\": {<br>    \"classifier\": \"LGBM\",<br>    \"lgbm_n_estimators\": 783,<br>    \"lgbm_num_leaves\": 910,<br>    \"lgbm_max_depth\": 8,<br>    \"lgbm_min_child_samples\": 161,<br>    \"lgbm_learning_rate\": 0.0014042458685500133,<br>    \"lgbm_boosting_type\": \"goss\"<br>  }<br>}",
          "{<br>  \"number\": 94,<br>  \"values\": [<br>    0.007693925012973088,<br>    0.2824100001830195<br>  ],<br>  \"params\": {<br>    \"classifier\": \"LGBM\",<br>    \"lgbm_n_estimators\": 635,<br>    \"lgbm_num_leaves\": 975,<br>    \"lgbm_max_depth\": 5,<br>    \"lgbm_min_child_samples\": 31,<br>    \"lgbm_learning_rate\": 0.0013576776885387007,<br>    \"lgbm_boosting_type\": \"goss\"<br>  }<br>}",
          "{<br>  \"number\": 95,<br>  \"values\": [<br>    0.05662458196201427,<br>    0.5960577609399879<br>  ],<br>  \"params\": {<br>    \"classifier\": \"LGBM\",<br>    \"lgbm_n_estimators\": 2947,<br>    \"lgbm_num_leaves\": 1000,<br>    \"lgbm_max_depth\": 6,<br>    \"lgbm_min_child_samples\": 30,<br>    \"lgbm_learning_rate\": 0.0014759400959062558,<br>    \"lgbm_boosting_type\": \"goss\"<br>  }<br>}",
          "{<br>  \"number\": 97,<br>  \"values\": [<br>    0.021932904347420498,<br>    0.4112017057413203<br>  ],<br>  \"params\": {<br>    \"classifier\": \"LGBM\",<br>    \"lgbm_n_estimators\": 829,<br>    \"lgbm_num_leaves\": 1000,<br>    \"lgbm_max_depth\": 8,<br>    \"lgbm_min_child_samples\": 34,<br>    \"lgbm_learning_rate\": 0.0010831478512090603,<br>    \"lgbm_boosting_type\": \"goss\"<br>  }<br>}",
          "{<br>  \"number\": 98,<br>  \"values\": [<br>    0.010903007294114595,<br>    0.3487371657607204<br>  ],<br>  \"params\": {<br>    \"classifier\": \"LGBM\",<br>    \"lgbm_n_estimators\": 822,<br>    \"lgbm_num_leaves\": 1000,<br>    \"lgbm_max_depth\": 8,<br>    \"lgbm_min_child_samples\": 28,<br>    \"lgbm_learning_rate\": 0.0008955393492635364,<br>    \"lgbm_boosting_type\": \"goss\"<br>  }<br>}",
          "{<br>  \"number\": 99,<br>  \"values\": [<br>    0.0025324038926741992,<br>    0.24262614615933673<br>  ],<br>  \"params\": {<br>    \"classifier\": \"LGBM\",<br>    \"lgbm_n_estimators\": 749,<br>    \"lgbm_num_leaves\": 1000,<br>    \"lgbm_max_depth\": 8,<br>    \"lgbm_min_child_samples\": 30,<br>    \"lgbm_learning_rate\": 0.0007548023699259301,<br>    \"lgbm_boosting_type\": \"goss\"<br>  }<br>}"
         ],
         "type": "scatter",
         "x": [
          0.05303637497056381,
          0.05072287563050126,
          0.05941961937220155,
          0.06233863503795094,
          0.062261835216546116,
          0.06314919534850101,
          0.05855444325726311,
          0.05573557168389602,
          0.061465741204731986,
          0.05548118828140793,
          0.05844766379798747,
          0.0006444697991218062,
          0.0004336329984135378,
          0.060794069825761035,
          0,
          0.061841684634604245,
          0.004491219339700534,
          0.06742002735920491,
          0.06625794059682193,
          0.06567428016972615,
          0.07936701410636486,
          0.02792959413426057,
          0.007693925012973088,
          0.05662458196201427,
          0.021932904347420498,
          0.010903007294114595,
          0.0025324038926741992
         ],
         "y": [
          0.5387260015739672,
          0.5198960449495781,
          0.6114698292428484,
          0.6251605995717345,
          0.6213135306283057,
          0.6277274474276615,
          0.6011969472354912,
          0.5879280367503066,
          0.6174618861985028,
          0.5562684163326562,
          0.5990528743205402,
          0.14377733853108587,
          0.10783140247808343,
          0.6174582258094035,
          0.09756950163802411,
          0.6183138417613792,
          0.24732974615201594,
          0.637570233715844,
          0.6349997254708175,
          0.6328657186258899,
          0.6401370815717711,
          0.41848313475722476,
          0.2824100001830195,
          0.5960577609399879,
          0.4112017057413203,
          0.3487371657607204,
          0.24262614615933673
         ]
        }
       ],
       "layout": {
        "template": {
         "data": {
          "bar": [
           {
            "error_x": {
             "color": "#2a3f5f"
            },
            "error_y": {
             "color": "#2a3f5f"
            },
            "marker": {
             "line": {
              "color": "#E5ECF6",
              "width": 0.5
             },
             "pattern": {
              "fillmode": "overlay",
              "size": 10,
              "solidity": 0.2
             }
            },
            "type": "bar"
           }
          ],
          "barpolar": [
           {
            "marker": {
             "line": {
              "color": "#E5ECF6",
              "width": 0.5
             },
             "pattern": {
              "fillmode": "overlay",
              "size": 10,
              "solidity": 0.2
             }
            },
            "type": "barpolar"
           }
          ],
          "carpet": [
           {
            "aaxis": {
             "endlinecolor": "#2a3f5f",
             "gridcolor": "white",
             "linecolor": "white",
             "minorgridcolor": "white",
             "startlinecolor": "#2a3f5f"
            },
            "baxis": {
             "endlinecolor": "#2a3f5f",
             "gridcolor": "white",
             "linecolor": "white",
             "minorgridcolor": "white",
             "startlinecolor": "#2a3f5f"
            },
            "type": "carpet"
           }
          ],
          "choropleth": [
           {
            "colorbar": {
             "outlinewidth": 0,
             "ticks": ""
            },
            "type": "choropleth"
           }
          ],
          "contour": [
           {
            "colorbar": {
             "outlinewidth": 0,
             "ticks": ""
            },
            "colorscale": [
             [
              0,
              "#0d0887"
             ],
             [
              0.1111111111111111,
              "#46039f"
             ],
             [
              0.2222222222222222,
              "#7201a8"
             ],
             [
              0.3333333333333333,
              "#9c179e"
             ],
             [
              0.4444444444444444,
              "#bd3786"
             ],
             [
              0.5555555555555556,
              "#d8576b"
             ],
             [
              0.6666666666666666,
              "#ed7953"
             ],
             [
              0.7777777777777778,
              "#fb9f3a"
             ],
             [
              0.8888888888888888,
              "#fdca26"
             ],
             [
              1,
              "#f0f921"
             ]
            ],
            "type": "contour"
           }
          ],
          "contourcarpet": [
           {
            "colorbar": {
             "outlinewidth": 0,
             "ticks": ""
            },
            "type": "contourcarpet"
           }
          ],
          "heatmap": [
           {
            "colorbar": {
             "outlinewidth": 0,
             "ticks": ""
            },
            "colorscale": [
             [
              0,
              "#0d0887"
             ],
             [
              0.1111111111111111,
              "#46039f"
             ],
             [
              0.2222222222222222,
              "#7201a8"
             ],
             [
              0.3333333333333333,
              "#9c179e"
             ],
             [
              0.4444444444444444,
              "#bd3786"
             ],
             [
              0.5555555555555556,
              "#d8576b"
             ],
             [
              0.6666666666666666,
              "#ed7953"
             ],
             [
              0.7777777777777778,
              "#fb9f3a"
             ],
             [
              0.8888888888888888,
              "#fdca26"
             ],
             [
              1,
              "#f0f921"
             ]
            ],
            "type": "heatmap"
           }
          ],
          "heatmapgl": [
           {
            "colorbar": {
             "outlinewidth": 0,
             "ticks": ""
            },
            "colorscale": [
             [
              0,
              "#0d0887"
             ],
             [
              0.1111111111111111,
              "#46039f"
             ],
             [
              0.2222222222222222,
              "#7201a8"
             ],
             [
              0.3333333333333333,
              "#9c179e"
             ],
             [
              0.4444444444444444,
              "#bd3786"
             ],
             [
              0.5555555555555556,
              "#d8576b"
             ],
             [
              0.6666666666666666,
              "#ed7953"
             ],
             [
              0.7777777777777778,
              "#fb9f3a"
             ],
             [
              0.8888888888888888,
              "#fdca26"
             ],
             [
              1,
              "#f0f921"
             ]
            ],
            "type": "heatmapgl"
           }
          ],
          "histogram": [
           {
            "marker": {
             "pattern": {
              "fillmode": "overlay",
              "size": 10,
              "solidity": 0.2
             }
            },
            "type": "histogram"
           }
          ],
          "histogram2d": [
           {
            "colorbar": {
             "outlinewidth": 0,
             "ticks": ""
            },
            "colorscale": [
             [
              0,
              "#0d0887"
             ],
             [
              0.1111111111111111,
              "#46039f"
             ],
             [
              0.2222222222222222,
              "#7201a8"
             ],
             [
              0.3333333333333333,
              "#9c179e"
             ],
             [
              0.4444444444444444,
              "#bd3786"
             ],
             [
              0.5555555555555556,
              "#d8576b"
             ],
             [
              0.6666666666666666,
              "#ed7953"
             ],
             [
              0.7777777777777778,
              "#fb9f3a"
             ],
             [
              0.8888888888888888,
              "#fdca26"
             ],
             [
              1,
              "#f0f921"
             ]
            ],
            "type": "histogram2d"
           }
          ],
          "histogram2dcontour": [
           {
            "colorbar": {
             "outlinewidth": 0,
             "ticks": ""
            },
            "colorscale": [
             [
              0,
              "#0d0887"
             ],
             [
              0.1111111111111111,
              "#46039f"
             ],
             [
              0.2222222222222222,
              "#7201a8"
             ],
             [
              0.3333333333333333,
              "#9c179e"
             ],
             [
              0.4444444444444444,
              "#bd3786"
             ],
             [
              0.5555555555555556,
              "#d8576b"
             ],
             [
              0.6666666666666666,
              "#ed7953"
             ],
             [
              0.7777777777777778,
              "#fb9f3a"
             ],
             [
              0.8888888888888888,
              "#fdca26"
             ],
             [
              1,
              "#f0f921"
             ]
            ],
            "type": "histogram2dcontour"
           }
          ],
          "mesh3d": [
           {
            "colorbar": {
             "outlinewidth": 0,
             "ticks": ""
            },
            "type": "mesh3d"
           }
          ],
          "parcoords": [
           {
            "line": {
             "colorbar": {
              "outlinewidth": 0,
              "ticks": ""
             }
            },
            "type": "parcoords"
           }
          ],
          "pie": [
           {
            "automargin": true,
            "type": "pie"
           }
          ],
          "scatter": [
           {
            "fillpattern": {
             "fillmode": "overlay",
             "size": 10,
             "solidity": 0.2
            },
            "type": "scatter"
           }
          ],
          "scatter3d": [
           {
            "line": {
             "colorbar": {
              "outlinewidth": 0,
              "ticks": ""
             }
            },
            "marker": {
             "colorbar": {
              "outlinewidth": 0,
              "ticks": ""
             }
            },
            "type": "scatter3d"
           }
          ],
          "scattercarpet": [
           {
            "marker": {
             "colorbar": {
              "outlinewidth": 0,
              "ticks": ""
             }
            },
            "type": "scattercarpet"
           }
          ],
          "scattergeo": [
           {
            "marker": {
             "colorbar": {
              "outlinewidth": 0,
              "ticks": ""
             }
            },
            "type": "scattergeo"
           }
          ],
          "scattergl": [
           {
            "marker": {
             "colorbar": {
              "outlinewidth": 0,
              "ticks": ""
             }
            },
            "type": "scattergl"
           }
          ],
          "scattermapbox": [
           {
            "marker": {
             "colorbar": {
              "outlinewidth": 0,
              "ticks": ""
             }
            },
            "type": "scattermapbox"
           }
          ],
          "scatterpolar": [
           {
            "marker": {
             "colorbar": {
              "outlinewidth": 0,
              "ticks": ""
             }
            },
            "type": "scatterpolar"
           }
          ],
          "scatterpolargl": [
           {
            "marker": {
             "colorbar": {
              "outlinewidth": 0,
              "ticks": ""
             }
            },
            "type": "scatterpolargl"
           }
          ],
          "scatterternary": [
           {
            "marker": {
             "colorbar": {
              "outlinewidth": 0,
              "ticks": ""
             }
            },
            "type": "scatterternary"
           }
          ],
          "surface": [
           {
            "colorbar": {
             "outlinewidth": 0,
             "ticks": ""
            },
            "colorscale": [
             [
              0,
              "#0d0887"
             ],
             [
              0.1111111111111111,
              "#46039f"
             ],
             [
              0.2222222222222222,
              "#7201a8"
             ],
             [
              0.3333333333333333,
              "#9c179e"
             ],
             [
              0.4444444444444444,
              "#bd3786"
             ],
             [
              0.5555555555555556,
              "#d8576b"
             ],
             [
              0.6666666666666666,
              "#ed7953"
             ],
             [
              0.7777777777777778,
              "#fb9f3a"
             ],
             [
              0.8888888888888888,
              "#fdca26"
             ],
             [
              1,
              "#f0f921"
             ]
            ],
            "type": "surface"
           }
          ],
          "table": [
           {
            "cells": {
             "fill": {
              "color": "#EBF0F8"
             },
             "line": {
              "color": "white"
             }
            },
            "header": {
             "fill": {
              "color": "#C8D4E3"
             },
             "line": {
              "color": "white"
             }
            },
            "type": "table"
           }
          ]
         },
         "layout": {
          "annotationdefaults": {
           "arrowcolor": "#2a3f5f",
           "arrowhead": 0,
           "arrowwidth": 1
          },
          "autotypenumbers": "strict",
          "coloraxis": {
           "colorbar": {
            "outlinewidth": 0,
            "ticks": ""
           }
          },
          "colorscale": {
           "diverging": [
            [
             0,
             "#8e0152"
            ],
            [
             0.1,
             "#c51b7d"
            ],
            [
             0.2,
             "#de77ae"
            ],
            [
             0.3,
             "#f1b6da"
            ],
            [
             0.4,
             "#fde0ef"
            ],
            [
             0.5,
             "#f7f7f7"
            ],
            [
             0.6,
             "#e6f5d0"
            ],
            [
             0.7,
             "#b8e186"
            ],
            [
             0.8,
             "#7fbc41"
            ],
            [
             0.9,
             "#4d9221"
            ],
            [
             1,
             "#276419"
            ]
           ],
           "sequential": [
            [
             0,
             "#0d0887"
            ],
            [
             0.1111111111111111,
             "#46039f"
            ],
            [
             0.2222222222222222,
             "#7201a8"
            ],
            [
             0.3333333333333333,
             "#9c179e"
            ],
            [
             0.4444444444444444,
             "#bd3786"
            ],
            [
             0.5555555555555556,
             "#d8576b"
            ],
            [
             0.6666666666666666,
             "#ed7953"
            ],
            [
             0.7777777777777778,
             "#fb9f3a"
            ],
            [
             0.8888888888888888,
             "#fdca26"
            ],
            [
             1,
             "#f0f921"
            ]
           ],
           "sequentialminus": [
            [
             0,
             "#0d0887"
            ],
            [
             0.1111111111111111,
             "#46039f"
            ],
            [
             0.2222222222222222,
             "#7201a8"
            ],
            [
             0.3333333333333333,
             "#9c179e"
            ],
            [
             0.4444444444444444,
             "#bd3786"
            ],
            [
             0.5555555555555556,
             "#d8576b"
            ],
            [
             0.6666666666666666,
             "#ed7953"
            ],
            [
             0.7777777777777778,
             "#fb9f3a"
            ],
            [
             0.8888888888888888,
             "#fdca26"
            ],
            [
             1,
             "#f0f921"
            ]
           ]
          },
          "colorway": [
           "#636efa",
           "#EF553B",
           "#00cc96",
           "#ab63fa",
           "#FFA15A",
           "#19d3f3",
           "#FF6692",
           "#B6E880",
           "#FF97FF",
           "#FECB52"
          ],
          "font": {
           "color": "#2a3f5f"
          },
          "geo": {
           "bgcolor": "white",
           "lakecolor": "white",
           "landcolor": "#E5ECF6",
           "showlakes": true,
           "showland": true,
           "subunitcolor": "white"
          },
          "hoverlabel": {
           "align": "left"
          },
          "hovermode": "closest",
          "mapbox": {
           "style": "light"
          },
          "paper_bgcolor": "white",
          "plot_bgcolor": "#E5ECF6",
          "polar": {
           "angularaxis": {
            "gridcolor": "white",
            "linecolor": "white",
            "ticks": ""
           },
           "bgcolor": "#E5ECF6",
           "radialaxis": {
            "gridcolor": "white",
            "linecolor": "white",
            "ticks": ""
           }
          },
          "scene": {
           "xaxis": {
            "backgroundcolor": "#E5ECF6",
            "gridcolor": "white",
            "gridwidth": 2,
            "linecolor": "white",
            "showbackground": true,
            "ticks": "",
            "zerolinecolor": "white"
           },
           "yaxis": {
            "backgroundcolor": "#E5ECF6",
            "gridcolor": "white",
            "gridwidth": 2,
            "linecolor": "white",
            "showbackground": true,
            "ticks": "",
            "zerolinecolor": "white"
           },
           "zaxis": {
            "backgroundcolor": "#E5ECF6",
            "gridcolor": "white",
            "gridwidth": 2,
            "linecolor": "white",
            "showbackground": true,
            "ticks": "",
            "zerolinecolor": "white"
           }
          },
          "shapedefaults": {
           "line": {
            "color": "#2a3f5f"
           }
          },
          "ternary": {
           "aaxis": {
            "gridcolor": "white",
            "linecolor": "white",
            "ticks": ""
           },
           "baxis": {
            "gridcolor": "white",
            "linecolor": "white",
            "ticks": ""
           },
           "bgcolor": "#E5ECF6",
           "caxis": {
            "gridcolor": "white",
            "linecolor": "white",
            "ticks": ""
           }
          },
          "title": {
           "x": 0.05
          },
          "xaxis": {
           "automargin": true,
           "gridcolor": "white",
           "linecolor": "white",
           "ticks": "",
           "title": {
            "standoff": 15
           },
           "zerolinecolor": "white",
           "zerolinewidth": 2
          },
          "yaxis": {
           "automargin": true,
           "gridcolor": "white",
           "linecolor": "white",
           "ticks": "",
           "title": {
            "standoff": 15
           },
           "zerolinecolor": "white",
           "zerolinewidth": 2
          }
         }
        },
        "title": {
         "text": "Pareto-front Plot"
        },
        "xaxis": {
         "title": {
          "text": "fair_metric"
         }
        },
        "yaxis": {
         "title": {
          "text": "f1_score"
         }
        }
       }
      }
     },
     "metadata": {},
     "output_type": "display_data"
    }
   ],
   "source": [
    "optuna.visualization.plot_pareto_front(results[0], target_names=[\"fair_metric\", \"f1_score\"], include_dominated_trials = False)"
   ]
  },
  {
   "cell_type": "code",
   "execution_count": null,
   "metadata": {},
   "outputs": [],
   "source": []
  }
 ],
 "metadata": {
  "kernelspec": {
   "display_name": "Python 3.10.11 ('fairenv')",
   "language": "python",
   "name": "python3"
  },
  "language_info": {
   "codemirror_mode": {
    "name": "ipython",
    "version": 3
   },
   "file_extension": ".py",
   "mimetype": "text/x-python",
   "name": "python",
   "nbconvert_exporter": "python",
   "pygments_lexer": "ipython3",
   "version": "3.10.11"
  },
  "orig_nbformat": 4,
  "vscode": {
   "interpreter": {
    "hash": "9fb7f3b855683703415b20ec6b42f145aba14d6fc5c56ba8ae1bd12772d3ad59"
   }
  }
 },
 "nbformat": 4,
 "nbformat_minor": 2
}
