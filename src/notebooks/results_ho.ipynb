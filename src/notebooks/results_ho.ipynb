{
 "cells": [
  {
   "cell_type": "code",
   "execution_count": 1,
   "metadata": {},
   "outputs": [
    {
     "name": "stderr",
     "output_type": "stream",
     "text": [
      "/home/azucena/miniconda3/envs/fairenv/lib/python3.10/site-packages/tqdm/auto.py:21: TqdmWarning: IProgress not found. Please update jupyter and ipywidgets. See https://ipywidgets.readthedocs.io/en/stable/user_install.html\n",
      "  from .autonotebook import tqdm as notebook_tqdm\n"
     ]
    }
   ],
   "source": [
    "from sklearn.metrics import f1_score, confusion_matrix, make_scorer, accuracy_score\n",
    "from sklearn.model_selection import cross_val_score, train_test_split, cross_validate\n",
    "from fairlearn.metrics import (\n",
    "    count,\n",
    "    selection_rate,\n",
    "    equalized_odds_difference,\n",
    "    false_positive_rate,\n",
    "    false_negative_rate,\n",
    "    demographic_parity_difference\n",
    ")\n",
    "\n",
    "from fairlearn.datasets import fetch_adult\n",
    "from sklearn.pipeline import Pipeline\n",
    "from sklearn.preprocessing import OneHotEncoder, StandardScaler\n",
    "from sklearn.compose import ColumnTransformer\n",
    "from sklearn.compose import make_column_selector as selector\n",
    "from sklearn.impute import SimpleImputer\n",
    "from sklearn.ensemble import RandomForestClassifier\n",
    "from lightgbm import LGBMClassifier\n",
    "\n",
    "import numpy as np\n",
    "import optuna\n",
    "import tqdm as notebook_tqdm\n",
    "\n",
    "import dill\n",
    "import optuna\n",
    "import plotly"
   ]
  },
  {
   "attachments": {},
   "cell_type": "markdown",
   "metadata": {},
   "source": [
    "## One simulation"
   ]
  },
  {
   "cell_type": "code",
   "execution_count": 2,
   "metadata": {},
   "outputs": [
    {
     "name": "stderr",
     "output_type": "stream",
     "text": [
      "/home/azucena/miniconda3/envs/fairenv/lib/python3.10/site-packages/sklearn/datasets/_openml.py:968: FutureWarning: The default value of `parser` will change from `'liac-arff'` to `'auto'` in 1.4. You can set `parser='auto'` to silence this warning. Therefore, an `ImportError` will be raised from 1.4 if the dataset is dense and pandas is not installed. Note that the pandas parser may return different data types. See the Notes Section in fetch_openml's API doc for details.\n",
      "  warn(\n"
     ]
    }
   ],
   "source": [
    "data = fetch_adult(as_frame=True)a\n",
    "X_raw = data.data\n",
    "y = (data.target == \">50K\") * 1\n",
    "A = X_raw[\"sex\"]\n",
    "\n",
    "(X_train, X_test, y_train, y_test, A_train, A_test) = train_test_split(\n",
    "    X_raw, y, A, test_size=0.8, random_state=12345, stratify=y\n",
    ")\n",
    "\n",
    "X_train = X_train.reset_index(drop=True)\n",
    "X_test = X_test.reset_index(drop=True)\n",
    "y_train = y_train.reset_index(drop=True)\n",
    "y_test = y_test.reset_index(drop=True)\n",
    "A_train = A_train.reset_index(drop=True)\n",
    "A_test = A_test.reset_index(drop=True)\n",
    "\n",
    "numeric_transformer = Pipeline(\n",
    "    steps=[\n",
    "        (\"impute\", SimpleImputer()),\n",
    "        (\"scaler\", StandardScaler()),\n",
    "    ]\n",
    ")\n",
    "categorical_transformer = Pipeline(\n",
    "    [\n",
    "        (\"impute\", SimpleImputer(strategy=\"most_frequent\")),\n",
    "        (\"ohe\", OneHotEncoder(handle_unknown=\"ignore\")),\n",
    "    ]\n",
    ")\n",
    "preprocessor = ColumnTransformer(\n",
    "    transformers=[\n",
    "        (\"num\", numeric_transformer, selector(dtype_exclude=\"category\")),\n",
    "        (\"cat\", categorical_transformer, selector(dtype_include=\"category\")),\n",
    "    ]\n",
    ")\n",
    "\n",
    "pipeline = Pipeline(\n",
    "    steps=[\n",
    "        (\"preprocessor\", preprocessor),\n",
    "        (\n",
    "            \"classifier\",\n",
    "            LGBMClassifier(n_jobs=-1),\n",
    "        ),\n",
    "    ]\n",
    ")"
   ]
  },
  {
   "attachments": {},
   "cell_type": "markdown",
   "metadata": {},
   "source": [
    "## Hyperparameter Optimization"
   ]
  },
  {
   "cell_type": "code",
   "execution_count": 3,
   "metadata": {},
   "outputs": [],
   "source": [
    "\n",
    "file_name = 'f1-dpd-lgbm-motpe-succesivehalving-100trials.pkl'\n",
    "with open(file_name, 'rb') as in_strm:\n",
    "    results = dill.load(in_strm)"
   ]
  },
  {
   "cell_type": "code",
   "execution_count": 4,
   "metadata": {},
   "outputs": [
    {
     "data": {
      "application/vnd.plotly.v1+json": {
       "config": {
        "plotlyServerURL": "https://plot.ly"
       },
       "data": [
        {
         "hovertemplate": "%{text}<extra>Trial</extra>",
         "marker": {
          "color": [],
          "colorbar": {
           "title": {
            "text": "Trial"
           }
          },
          "colorscale": [
           [
            0,
            "rgb(247,251,255)"
           ],
           [
            0.125,
            "rgb(222,235,247)"
           ],
           [
            0.25,
            "rgb(198,219,239)"
           ],
           [
            0.375,
            "rgb(158,202,225)"
           ],
           [
            0.5,
            "rgb(107,174,214)"
           ],
           [
            0.625,
            "rgb(66,146,198)"
           ],
           [
            0.75,
            "rgb(33,113,181)"
           ],
           [
            0.875,
            "rgb(8,81,156)"
           ],
           [
            1,
            "rgb(8,48,107)"
           ]
          ],
          "line": {
           "color": "Grey",
           "width": 0.5
          }
         },
         "mode": "markers",
         "showlegend": false,
         "text": [],
         "type": "scatter",
         "x": [],
         "y": []
        },
        {
         "hovertemplate": "%{text}<extra>Best Trial</extra>",
         "marker": {
          "color": [
           0,
           12,
           21,
           22,
           23,
           24,
           25,
           26,
           30,
           32,
           33,
           34,
           37,
           38,
           40,
           42,
           49,
           54,
           58,
           59,
           63,
           64,
           66,
           70,
           75,
           76,
           80,
           83,
           85,
           93,
           95,
           99
          ],
          "colorbar": {
           "title": {
            "text": "Best Trial"
           },
           "x": 1,
           "xpad": 40
          },
          "colorscale": [
           [
            0,
            "rgb(255,245,240)"
           ],
           [
            0.125,
            "rgb(254,224,210)"
           ],
           [
            0.25,
            "rgb(252,187,161)"
           ],
           [
            0.375,
            "rgb(252,146,114)"
           ],
           [
            0.5,
            "rgb(251,106,74)"
           ],
           [
            0.625,
            "rgb(239,59,44)"
           ],
           [
            0.75,
            "rgb(203,24,29)"
           ],
           [
            0.875,
            "rgb(165,15,21)"
           ],
           [
            1,
            "rgb(103,0,13)"
           ]
          ],
          "line": {
           "color": "Grey",
           "width": 0.5
          }
         },
         "mode": "markers",
         "showlegend": false,
         "text": [
          "{<br>  \"number\": 0,<br>  \"values\": [<br>    0.17441972789334534,<br>    0.713962759662385<br>  ],<br>  \"params\": {<br>    \"n_estimators\": 8669,<br>    \"num_leaves\": 270,<br>    \"max_depth\": 4,<br>    \"min_child_samples\": 17,<br>    \"learning_rate\": 0.0023968541035582405,<br>    \"boosting_type\": \"gbdt\"<br>  }<br>}",
          "{<br>  \"number\": 12,<br>  \"values\": [<br>    0.16980866191463653,<br>    0.702903178160778<br>  ],<br>  \"params\": {<br>    \"n_estimators\": 6506,<br>    \"num_leaves\": 83,<br>    \"max_depth\": 4,<br>    \"min_child_samples\": 53,<br>    \"learning_rate\": 0.0019756436972196054,<br>    \"boosting_type\": \"gbdt\"<br>  }<br>}",
          "{<br>  \"number\": 21,<br>  \"values\": [<br>    0.13646651205639118,<br>    0.6145768891765313<br>  ],<br>  \"params\": {<br>    \"n_estimators\": 4430,<br>    \"num_leaves\": 39,<br>    \"max_depth\": 2,<br>    \"min_child_samples\": 39,<br>    \"learning_rate\": 0.0004165224156703045,<br>    \"boosting_type\": \"gbdt\"<br>  }<br>}",
          "{<br>  \"number\": 22,<br>  \"values\": [<br>    0.0,<br>    0.0<br>  ],<br>  \"params\": {<br>    \"n_estimators\": 814,<br>    \"num_leaves\": 11,<br>    \"max_depth\": 2,<br>    \"min_child_samples\": 40,<br>    \"learning_rate\": 9.793940006456742e-05,<br>    \"boosting_type\": \"gbdt\"<br>  }<br>}",
          "{<br>  \"number\": 23,<br>  \"values\": [<br>    0.0,<br>    0.0<br>  ],<br>  \"params\": {<br>    \"n_estimators\": 4256,<br>    \"num_leaves\": 86,<br>    \"max_depth\": 9,<br>    \"min_child_samples\": 5,<br>    \"learning_rate\": 9.45698865465151e-05,<br>    \"boosting_type\": \"gbdt\"<br>  }<br>}",
          "{<br>  \"number\": 24,<br>  \"values\": [<br>    0.15502563297439062,<br>    0.6647885706871317<br>  ],<br>  \"params\": {<br>    \"n_estimators\": 1986,<br>    \"num_leaves\": 27,<br>    \"max_depth\": 2,<br>    \"min_child_samples\": 83,<br>    \"learning_rate\": 0.0034177571044390325,<br>    \"boosting_type\": \"gbdt\"<br>  }<br>}",
          "{<br>  \"number\": 25,<br>  \"values\": [<br>    0.025566693003403092,<br>    0.17983531381589635<br>  ],<br>  \"params\": {<br>    \"n_estimators\": 108,<br>    \"num_leaves\": 139,<br>    \"max_depth\": 10,<br>    \"min_child_samples\": 181,<br>    \"learning_rate\": 0.004485578493403646,<br>    \"boosting_type\": \"gbdt\"<br>  }<br>}",
          "{<br>  \"number\": 26,<br>  \"values\": [<br>    0.025566693003403092,<br>    0.17983531381589635<br>  ],<br>  \"params\": {<br>    \"n_estimators\": 96,<br>    \"num_leaves\": 246,<br>    \"max_depth\": 11,<br>    \"min_child_samples\": 182,<br>    \"learning_rate\": 0.004782651527519024,<br>    \"boosting_type\": \"gbdt\"<br>  }<br>}",
          "{<br>  \"number\": 30,<br>  \"values\": [<br>    0.1526991719378094,<br>    0.6607348877325039<br>  ],<br>  \"params\": {<br>    \"n_estimators\": 6523,<br>    \"num_leaves\": 55,<br>    \"max_depth\": 3,<br>    \"min_child_samples\": 32,<br>    \"learning_rate\": 0.0005736215295248563,<br>    \"boosting_type\": \"gbdt\"<br>  }<br>}",
          "{<br>  \"number\": 32,<br>  \"values\": [<br>    0.142827759684163,<br>    0.6295802608557208<br>  ],<br>  \"params\": {<br>    \"n_estimators\": 4820,<br>    \"num_leaves\": 451,<br>    \"max_depth\": 2,<br>    \"min_child_samples\": 82,<br>    \"learning_rate\": 0.0005035091706934204,<br>    \"boosting_type\": \"gbdt\"<br>  }<br>}",
          "{<br>  \"number\": 33,<br>  \"values\": [<br>    0.16723062299544503,<br>    0.6976319072755034<br>  ],<br>  \"params\": {<br>    \"n_estimators\": 2746,<br>    \"num_leaves\": 11,<br>    \"max_depth\": 5,<br>    \"min_child_samples\": 59,<br>    \"learning_rate\": 0.0026397169749371565,<br>    \"boosting_type\": \"gbdt\"<br>  }<br>}",
          "{<br>  \"number\": 34,<br>  \"values\": [<br>    0.1725256630185837,<br>    0.7047451959470531<br>  ],<br>  \"params\": {<br>    \"n_estimators\": 3684,<br>    \"num_leaves\": 10,<br>    \"max_depth\": 6,<br>    \"min_child_samples\": 9,<br>    \"learning_rate\": 0.0025199859616956504,<br>    \"boosting_type\": \"gbdt\"<br>  }<br>}",
          "{<br>  \"number\": 37,<br>  \"values\": [<br>    0.0,<br>    0.0<br>  ],<br>  \"params\": {<br>    \"n_estimators\": 244,<br>    \"num_leaves\": 967,<br>    \"max_depth\": 2,<br>    \"min_child_samples\": 80,<br>    \"learning_rate\": 0.0006054058139334268,<br>    \"boosting_type\": \"gbdt\"<br>  }<br>}",
          "{<br>  \"number\": 38,<br>  \"values\": [<br>    0.15755424660547385,<br>    0.6690480126302468<br>  ],<br>  \"params\": {<br>    \"n_estimators\": 1502,<br>    \"num_leaves\": 213,<br>    \"max_depth\": 5,<br>    \"min_child_samples\": 26,<br>    \"learning_rate\": 0.0017397727038292975,<br>    \"boosting_type\": \"gbdt\"<br>  }<br>}",
          "{<br>  \"number\": 40,<br>  \"values\": [<br>    0.004353716411654321,<br>    0.06324327530847504<br>  ],<br>  \"params\": {<br>    \"n_estimators\": 784,<br>    \"num_leaves\": 64,<br>    \"max_depth\": 3,<br>    \"min_child_samples\": 47,<br>    \"learning_rate\": 0.0005714316531411905,<br>    \"boosting_type\": \"gbdt\"<br>  }<br>}",
          "{<br>  \"number\": 42,<br>  \"values\": [<br>    0.12690456147009987,<br>    0.5939435873051668<br>  ],<br>  \"params\": {<br>    \"n_estimators\": 706,<br>    \"num_leaves\": 452,<br>    \"max_depth\": 13,<br>    \"min_child_samples\": 169,<br>    \"learning_rate\": 0.0015241913324514618,<br>    \"boosting_type\": \"gbdt\"<br>  }<br>}",
          "{<br>  \"number\": 49,<br>  \"values\": [<br>    0.0,<br>    0.0<br>  ],<br>  \"params\": {<br>    \"n_estimators\": 45,<br>    \"num_leaves\": 358,<br>    \"max_depth\": 17,<br>    \"min_child_samples\": 174,<br>    \"learning_rate\": 0.0023454317995926562,<br>    \"boosting_type\": \"gbdt\"<br>  }<br>}",
          "{<br>  \"number\": 54,<br>  \"values\": [<br>    0.0,<br>    0.0<br>  ],<br>  \"params\": {<br>    \"n_estimators\": 336,<br>    \"num_leaves\": 488,<br>    \"max_depth\": 11,<br>    \"min_child_samples\": 198,<br>    \"learning_rate\": 0.0007381193185356387,<br>    \"boosting_type\": \"gbdt\"<br>  }<br>}",
          "{<br>  \"number\": 58,<br>  \"values\": [<br>    0.11430299105319583,<br>    0.5665486074222064<br>  ],<br>  \"params\": {<br>    \"n_estimators\": 351,<br>    \"num_leaves\": 546,<br>    \"max_depth\": 8,<br>    \"min_child_samples\": 166,<br>    \"learning_rate\": 0.0027244950456493,<br>    \"boosting_type\": \"gbdt\"<br>  }<br>}",
          "{<br>  \"number\": 59,<br>  \"values\": [<br>    0.025566693003403092,<br>    0.17983531381589635<br>  ],<br>  \"params\": {<br>    \"n_estimators\": 152,<br>    \"num_leaves\": 878,<br>    \"max_depth\": 8,<br>    \"min_child_samples\": 155,<br>    \"learning_rate\": 0.002869251494683279,<br>    \"boosting_type\": \"goss\"<br>  }<br>}",
          "{<br>  \"number\": 63,<br>  \"values\": [<br>    0.002572506487153693,<br>    0.03294117647058824<br>  ],<br>  \"params\": {<br>    \"n_estimators\": 137,<br>    \"num_leaves\": 747,<br>    \"max_depth\": 11,<br>    \"min_child_samples\": 217,<br>    \"learning_rate\": 0.00320243774338019,<br>    \"boosting_type\": \"gbdt\"<br>  }<br>}",
          "{<br>  \"number\": 64,<br>  \"values\": [<br>    0.15792645265047825,<br>    0.672258447260181<br>  ],<br>  \"params\": {<br>    \"n_estimators\": 887,<br>    \"num_leaves\": 774,<br>    \"max_depth\": 7,<br>    \"min_child_samples\": 37,<br>    \"learning_rate\": 0.0026388349810496535,<br>    \"boosting_type\": \"gbdt\"<br>  }<br>}",
          "{<br>  \"number\": 66,<br>  \"values\": [<br>    0.0,<br>    0.0<br>  ],<br>  \"params\": {<br>    \"n_estimators\": 35,<br>    \"num_leaves\": 571,<br>    \"max_depth\": 8,<br>    \"min_child_samples\": 179,<br>    \"learning_rate\": 0.005054488971457161,<br>    \"boosting_type\": \"gbdt\"<br>  }<br>}",
          "{<br>  \"number\": 70,<br>  \"values\": [<br>    0.16795588102237324,<br>    0.7022439734857594<br>  ],<br>  \"params\": {<br>    \"n_estimators\": 1122,<br>    \"num_leaves\": 262,<br>    \"max_depth\": 10,<br>    \"min_child_samples\": 13,<br>    \"learning_rate\": 0.004448803899281715,<br>    \"boosting_type\": \"gbdt\"<br>  }<br>}",
          "{<br>  \"number\": 75,<br>  \"values\": [<br>    0.0,<br>    0.0<br>  ],<br>  \"params\": {<br>    \"n_estimators\": 57,<br>    \"num_leaves\": 102,<br>    \"max_depth\": 3,<br>    \"min_child_samples\": 289,<br>    \"learning_rate\": 0.0046061775046682026,<br>    \"boosting_type\": \"goss\"<br>  }<br>}",
          "{<br>  \"number\": 76,<br>  \"values\": [<br>    0.14925556609892165,<br>    0.6539343354877714<br>  ],<br>  \"params\": {<br>    \"n_estimators\": 307,<br>    \"num_leaves\": 204,<br>    \"max_depth\": 13,<br>    \"min_child_samples\": 38,<br>    \"learning_rate\": 0.005306327692142801,<br>    \"boosting_type\": \"gbdt\"<br>  }<br>}",
          "{<br>  \"number\": 80,<br>  \"values\": [<br>    0.1643452136532733,<br>    0.6973956077413781<br>  ],<br>  \"params\": {<br>    \"n_estimators\": 662,<br>    \"num_leaves\": 219,<br>    \"max_depth\": 9,<br>    \"min_child_samples\": 12,<br>    \"learning_rate\": 0.005395771649930106,<br>    \"boosting_type\": \"gbdt\"<br>  }<br>}",
          "{<br>  \"number\": 83,<br>  \"values\": [<br>    0.15885485209579214,<br>    0.6831723507571427<br>  ],<br>  \"params\": {<br>    \"n_estimators\": 844,<br>    \"num_leaves\": 168,<br>    \"max_depth\": 7,<br>    \"min_child_samples\": 16,<br>    \"learning_rate\": 0.0031533299143951766,<br>    \"boosting_type\": \"gbdt\"<br>  }<br>}",
          "{<br>  \"number\": 85,<br>  \"values\": [<br>    0.0,<br>    0.0<br>  ],<br>  \"params\": {<br>    \"n_estimators\": 25,<br>    \"num_leaves\": 171,<br>    \"max_depth\": 6,<br>    \"min_child_samples\": 165,<br>    \"learning_rate\": 0.005931100373748201,<br>    \"boosting_type\": \"goss\"<br>  }<br>}",
          "{<br>  \"number\": 93,<br>  \"values\": [<br>    0.06960939004752724,<br>    0.367440088275832<br>  ],<br>  \"params\": {<br>    \"n_estimators\": 402,<br>    \"num_leaves\": 133,<br>    \"max_depth\": 9,<br>    \"min_child_samples\": 269,<br>    \"learning_rate\": 0.0017119078007885736,<br>    \"boosting_type\": \"gbdt\"<br>  }<br>}",
          "{<br>  \"number\": 95,<br>  \"values\": [<br>    0.0,<br>    0.0<br>  ],<br>  \"params\": {<br>    \"n_estimators\": 250,<br>    \"num_leaves\": 135,<br>    \"max_depth\": 10,<br>    \"min_child_samples\": 286,<br>    \"learning_rate\": 0.001711874771890368,<br>    \"boosting_type\": \"gbdt\"<br>  }<br>}",
          "{<br>  \"number\": 99,<br>  \"values\": [<br>    0.02154880352231061,<br>    0.13920469212077152<br>  ],<br>  \"params\": {<br>    \"n_estimators\": 244,<br>    \"num_leaves\": 173,<br>    \"max_depth\": 10,<br>    \"min_child_samples\": 245,<br>    \"learning_rate\": 0.001998603746290704,<br>    \"boosting_type\": \"gbdt\"<br>  }<br>}"
         ],
         "type": "scatter",
         "x": [
          0.17441972789334534,
          0.16980866191463653,
          0.13646651205639118,
          0,
          0,
          0.15502563297439062,
          0.025566693003403092,
          0.025566693003403092,
          0.1526991719378094,
          0.142827759684163,
          0.16723062299544503,
          0.1725256630185837,
          0,
          0.15755424660547385,
          0.004353716411654321,
          0.12690456147009987,
          0,
          0,
          0.11430299105319583,
          0.025566693003403092,
          0.002572506487153693,
          0.15792645265047825,
          0,
          0.16795588102237324,
          0,
          0.14925556609892165,
          0.1643452136532733,
          0.15885485209579214,
          0,
          0.06960939004752724,
          0,
          0.02154880352231061
         ],
         "y": [
          0.713962759662385,
          0.702903178160778,
          0.6145768891765313,
          0,
          0,
          0.6647885706871317,
          0.17983531381589635,
          0.17983531381589635,
          0.6607348877325039,
          0.6295802608557208,
          0.6976319072755034,
          0.7047451959470531,
          0,
          0.6690480126302468,
          0.06324327530847504,
          0.5939435873051668,
          0,
          0,
          0.5665486074222064,
          0.17983531381589635,
          0.03294117647058824,
          0.672258447260181,
          0,
          0.7022439734857594,
          0,
          0.6539343354877714,
          0.6973956077413781,
          0.6831723507571427,
          0,
          0.367440088275832,
          0,
          0.13920469212077152
         ]
        }
       ],
       "layout": {
        "template": {
         "data": {
          "bar": [
           {
            "error_x": {
             "color": "#2a3f5f"
            },
            "error_y": {
             "color": "#2a3f5f"
            },
            "marker": {
             "line": {
              "color": "#E5ECF6",
              "width": 0.5
             },
             "pattern": {
              "fillmode": "overlay",
              "size": 10,
              "solidity": 0.2
             }
            },
            "type": "bar"
           }
          ],
          "barpolar": [
           {
            "marker": {
             "line": {
              "color": "#E5ECF6",
              "width": 0.5
             },
             "pattern": {
              "fillmode": "overlay",
              "size": 10,
              "solidity": 0.2
             }
            },
            "type": "barpolar"
           }
          ],
          "carpet": [
           {
            "aaxis": {
             "endlinecolor": "#2a3f5f",
             "gridcolor": "white",
             "linecolor": "white",
             "minorgridcolor": "white",
             "startlinecolor": "#2a3f5f"
            },
            "baxis": {
             "endlinecolor": "#2a3f5f",
             "gridcolor": "white",
             "linecolor": "white",
             "minorgridcolor": "white",
             "startlinecolor": "#2a3f5f"
            },
            "type": "carpet"
           }
          ],
          "choropleth": [
           {
            "colorbar": {
             "outlinewidth": 0,
             "ticks": ""
            },
            "type": "choropleth"
           }
          ],
          "contour": [
           {
            "colorbar": {
             "outlinewidth": 0,
             "ticks": ""
            },
            "colorscale": [
             [
              0,
              "#0d0887"
             ],
             [
              0.1111111111111111,
              "#46039f"
             ],
             [
              0.2222222222222222,
              "#7201a8"
             ],
             [
              0.3333333333333333,
              "#9c179e"
             ],
             [
              0.4444444444444444,
              "#bd3786"
             ],
             [
              0.5555555555555556,
              "#d8576b"
             ],
             [
              0.6666666666666666,
              "#ed7953"
             ],
             [
              0.7777777777777778,
              "#fb9f3a"
             ],
             [
              0.8888888888888888,
              "#fdca26"
             ],
             [
              1,
              "#f0f921"
             ]
            ],
            "type": "contour"
           }
          ],
          "contourcarpet": [
           {
            "colorbar": {
             "outlinewidth": 0,
             "ticks": ""
            },
            "type": "contourcarpet"
           }
          ],
          "heatmap": [
           {
            "colorbar": {
             "outlinewidth": 0,
             "ticks": ""
            },
            "colorscale": [
             [
              0,
              "#0d0887"
             ],
             [
              0.1111111111111111,
              "#46039f"
             ],
             [
              0.2222222222222222,
              "#7201a8"
             ],
             [
              0.3333333333333333,
              "#9c179e"
             ],
             [
              0.4444444444444444,
              "#bd3786"
             ],
             [
              0.5555555555555556,
              "#d8576b"
             ],
             [
              0.6666666666666666,
              "#ed7953"
             ],
             [
              0.7777777777777778,
              "#fb9f3a"
             ],
             [
              0.8888888888888888,
              "#fdca26"
             ],
             [
              1,
              "#f0f921"
             ]
            ],
            "type": "heatmap"
           }
          ],
          "heatmapgl": [
           {
            "colorbar": {
             "outlinewidth": 0,
             "ticks": ""
            },
            "colorscale": [
             [
              0,
              "#0d0887"
             ],
             [
              0.1111111111111111,
              "#46039f"
             ],
             [
              0.2222222222222222,
              "#7201a8"
             ],
             [
              0.3333333333333333,
              "#9c179e"
             ],
             [
              0.4444444444444444,
              "#bd3786"
             ],
             [
              0.5555555555555556,
              "#d8576b"
             ],
             [
              0.6666666666666666,
              "#ed7953"
             ],
             [
              0.7777777777777778,
              "#fb9f3a"
             ],
             [
              0.8888888888888888,
              "#fdca26"
             ],
             [
              1,
              "#f0f921"
             ]
            ],
            "type": "heatmapgl"
           }
          ],
          "histogram": [
           {
            "marker": {
             "pattern": {
              "fillmode": "overlay",
              "size": 10,
              "solidity": 0.2
             }
            },
            "type": "histogram"
           }
          ],
          "histogram2d": [
           {
            "colorbar": {
             "outlinewidth": 0,
             "ticks": ""
            },
            "colorscale": [
             [
              0,
              "#0d0887"
             ],
             [
              0.1111111111111111,
              "#46039f"
             ],
             [
              0.2222222222222222,
              "#7201a8"
             ],
             [
              0.3333333333333333,
              "#9c179e"
             ],
             [
              0.4444444444444444,
              "#bd3786"
             ],
             [
              0.5555555555555556,
              "#d8576b"
             ],
             [
              0.6666666666666666,
              "#ed7953"
             ],
             [
              0.7777777777777778,
              "#fb9f3a"
             ],
             [
              0.8888888888888888,
              "#fdca26"
             ],
             [
              1,
              "#f0f921"
             ]
            ],
            "type": "histogram2d"
           }
          ],
          "histogram2dcontour": [
           {
            "colorbar": {
             "outlinewidth": 0,
             "ticks": ""
            },
            "colorscale": [
             [
              0,
              "#0d0887"
             ],
             [
              0.1111111111111111,
              "#46039f"
             ],
             [
              0.2222222222222222,
              "#7201a8"
             ],
             [
              0.3333333333333333,
              "#9c179e"
             ],
             [
              0.4444444444444444,
              "#bd3786"
             ],
             [
              0.5555555555555556,
              "#d8576b"
             ],
             [
              0.6666666666666666,
              "#ed7953"
             ],
             [
              0.7777777777777778,
              "#fb9f3a"
             ],
             [
              0.8888888888888888,
              "#fdca26"
             ],
             [
              1,
              "#f0f921"
             ]
            ],
            "type": "histogram2dcontour"
           }
          ],
          "mesh3d": [
           {
            "colorbar": {
             "outlinewidth": 0,
             "ticks": ""
            },
            "type": "mesh3d"
           }
          ],
          "parcoords": [
           {
            "line": {
             "colorbar": {
              "outlinewidth": 0,
              "ticks": ""
             }
            },
            "type": "parcoords"
           }
          ],
          "pie": [
           {
            "automargin": true,
            "type": "pie"
           }
          ],
          "scatter": [
           {
            "fillpattern": {
             "fillmode": "overlay",
             "size": 10,
             "solidity": 0.2
            },
            "type": "scatter"
           }
          ],
          "scatter3d": [
           {
            "line": {
             "colorbar": {
              "outlinewidth": 0,
              "ticks": ""
             }
            },
            "marker": {
             "colorbar": {
              "outlinewidth": 0,
              "ticks": ""
             }
            },
            "type": "scatter3d"
           }
          ],
          "scattercarpet": [
           {
            "marker": {
             "colorbar": {
              "outlinewidth": 0,
              "ticks": ""
             }
            },
            "type": "scattercarpet"
           }
          ],
          "scattergeo": [
           {
            "marker": {
             "colorbar": {
              "outlinewidth": 0,
              "ticks": ""
             }
            },
            "type": "scattergeo"
           }
          ],
          "scattergl": [
           {
            "marker": {
             "colorbar": {
              "outlinewidth": 0,
              "ticks": ""
             }
            },
            "type": "scattergl"
           }
          ],
          "scattermapbox": [
           {
            "marker": {
             "colorbar": {
              "outlinewidth": 0,
              "ticks": ""
             }
            },
            "type": "scattermapbox"
           }
          ],
          "scatterpolar": [
           {
            "marker": {
             "colorbar": {
              "outlinewidth": 0,
              "ticks": ""
             }
            },
            "type": "scatterpolar"
           }
          ],
          "scatterpolargl": [
           {
            "marker": {
             "colorbar": {
              "outlinewidth": 0,
              "ticks": ""
             }
            },
            "type": "scatterpolargl"
           }
          ],
          "scatterternary": [
           {
            "marker": {
             "colorbar": {
              "outlinewidth": 0,
              "ticks": ""
             }
            },
            "type": "scatterternary"
           }
          ],
          "surface": [
           {
            "colorbar": {
             "outlinewidth": 0,
             "ticks": ""
            },
            "colorscale": [
             [
              0,
              "#0d0887"
             ],
             [
              0.1111111111111111,
              "#46039f"
             ],
             [
              0.2222222222222222,
              "#7201a8"
             ],
             [
              0.3333333333333333,
              "#9c179e"
             ],
             [
              0.4444444444444444,
              "#bd3786"
             ],
             [
              0.5555555555555556,
              "#d8576b"
             ],
             [
              0.6666666666666666,
              "#ed7953"
             ],
             [
              0.7777777777777778,
              "#fb9f3a"
             ],
             [
              0.8888888888888888,
              "#fdca26"
             ],
             [
              1,
              "#f0f921"
             ]
            ],
            "type": "surface"
           }
          ],
          "table": [
           {
            "cells": {
             "fill": {
              "color": "#EBF0F8"
             },
             "line": {
              "color": "white"
             }
            },
            "header": {
             "fill": {
              "color": "#C8D4E3"
             },
             "line": {
              "color": "white"
             }
            },
            "type": "table"
           }
          ]
         },
         "layout": {
          "annotationdefaults": {
           "arrowcolor": "#2a3f5f",
           "arrowhead": 0,
           "arrowwidth": 1
          },
          "autotypenumbers": "strict",
          "coloraxis": {
           "colorbar": {
            "outlinewidth": 0,
            "ticks": ""
           }
          },
          "colorscale": {
           "diverging": [
            [
             0,
             "#8e0152"
            ],
            [
             0.1,
             "#c51b7d"
            ],
            [
             0.2,
             "#de77ae"
            ],
            [
             0.3,
             "#f1b6da"
            ],
            [
             0.4,
             "#fde0ef"
            ],
            [
             0.5,
             "#f7f7f7"
            ],
            [
             0.6,
             "#e6f5d0"
            ],
            [
             0.7,
             "#b8e186"
            ],
            [
             0.8,
             "#7fbc41"
            ],
            [
             0.9,
             "#4d9221"
            ],
            [
             1,
             "#276419"
            ]
           ],
           "sequential": [
            [
             0,
             "#0d0887"
            ],
            [
             0.1111111111111111,
             "#46039f"
            ],
            [
             0.2222222222222222,
             "#7201a8"
            ],
            [
             0.3333333333333333,
             "#9c179e"
            ],
            [
             0.4444444444444444,
             "#bd3786"
            ],
            [
             0.5555555555555556,
             "#d8576b"
            ],
            [
             0.6666666666666666,
             "#ed7953"
            ],
            [
             0.7777777777777778,
             "#fb9f3a"
            ],
            [
             0.8888888888888888,
             "#fdca26"
            ],
            [
             1,
             "#f0f921"
            ]
           ],
           "sequentialminus": [
            [
             0,
             "#0d0887"
            ],
            [
             0.1111111111111111,
             "#46039f"
            ],
            [
             0.2222222222222222,
             "#7201a8"
            ],
            [
             0.3333333333333333,
             "#9c179e"
            ],
            [
             0.4444444444444444,
             "#bd3786"
            ],
            [
             0.5555555555555556,
             "#d8576b"
            ],
            [
             0.6666666666666666,
             "#ed7953"
            ],
            [
             0.7777777777777778,
             "#fb9f3a"
            ],
            [
             0.8888888888888888,
             "#fdca26"
            ],
            [
             1,
             "#f0f921"
            ]
           ]
          },
          "colorway": [
           "#636efa",
           "#EF553B",
           "#00cc96",
           "#ab63fa",
           "#FFA15A",
           "#19d3f3",
           "#FF6692",
           "#B6E880",
           "#FF97FF",
           "#FECB52"
          ],
          "font": {
           "color": "#2a3f5f"
          },
          "geo": {
           "bgcolor": "white",
           "lakecolor": "white",
           "landcolor": "#E5ECF6",
           "showlakes": true,
           "showland": true,
           "subunitcolor": "white"
          },
          "hoverlabel": {
           "align": "left"
          },
          "hovermode": "closest",
          "mapbox": {
           "style": "light"
          },
          "paper_bgcolor": "white",
          "plot_bgcolor": "#E5ECF6",
          "polar": {
           "angularaxis": {
            "gridcolor": "white",
            "linecolor": "white",
            "ticks": ""
           },
           "bgcolor": "#E5ECF6",
           "radialaxis": {
            "gridcolor": "white",
            "linecolor": "white",
            "ticks": ""
           }
          },
          "scene": {
           "xaxis": {
            "backgroundcolor": "#E5ECF6",
            "gridcolor": "white",
            "gridwidth": 2,
            "linecolor": "white",
            "showbackground": true,
            "ticks": "",
            "zerolinecolor": "white"
           },
           "yaxis": {
            "backgroundcolor": "#E5ECF6",
            "gridcolor": "white",
            "gridwidth": 2,
            "linecolor": "white",
            "showbackground": true,
            "ticks": "",
            "zerolinecolor": "white"
           },
           "zaxis": {
            "backgroundcolor": "#E5ECF6",
            "gridcolor": "white",
            "gridwidth": 2,
            "linecolor": "white",
            "showbackground": true,
            "ticks": "",
            "zerolinecolor": "white"
           }
          },
          "shapedefaults": {
           "line": {
            "color": "#2a3f5f"
           }
          },
          "ternary": {
           "aaxis": {
            "gridcolor": "white",
            "linecolor": "white",
            "ticks": ""
           },
           "baxis": {
            "gridcolor": "white",
            "linecolor": "white",
            "ticks": ""
           },
           "bgcolor": "#E5ECF6",
           "caxis": {
            "gridcolor": "white",
            "linecolor": "white",
            "ticks": ""
           }
          },
          "title": {
           "x": 0.05
          },
          "xaxis": {
           "automargin": true,
           "gridcolor": "white",
           "linecolor": "white",
           "ticks": "",
           "title": {
            "standoff": 15
           },
           "zerolinecolor": "white",
           "zerolinewidth": 2
          },
          "yaxis": {
           "automargin": true,
           "gridcolor": "white",
           "linecolor": "white",
           "ticks": "",
           "title": {
            "standoff": 15
           },
           "zerolinecolor": "white",
           "zerolinewidth": 2
          }
         }
        },
        "title": {
         "text": "Pareto-front Plot"
        },
        "xaxis": {
         "title": {
          "text": "fair_metric"
         }
        },
        "yaxis": {
         "title": {
          "text": "f1_score"
         }
        }
       }
      }
     },
     "metadata": {},
     "output_type": "display_data"
    }
   ],
   "source": [
    "\n",
    "optuna.visualization.plot_pareto_front(results, target_names=[\"fair_metric\", \"f1_score\"], include_dominated_trials = False)"
   ]
  },
  {
   "cell_type": "code",
   "execution_count": 5,
   "metadata": {},
   "outputs": [
    {
     "data": {
      "application/vnd.plotly.v1+json": {
       "config": {
        "plotlyServerURL": "https://plot.ly"
       },
       "data": [
        {
         "hovertemplate": "%{text}<extra>Trial</extra>",
         "marker": {
          "color": [
           1,
           2,
           3,
           4,
           5,
           6,
           7,
           8,
           9,
           10,
           11,
           13,
           14,
           15,
           16,
           17,
           18,
           19,
           20,
           27,
           28,
           29,
           31,
           35,
           36,
           39,
           41,
           43,
           44,
           45,
           46,
           47,
           48,
           50,
           51,
           52,
           53,
           55,
           56,
           57,
           60,
           61,
           62,
           65,
           67,
           68,
           69,
           71,
           72,
           73,
           74,
           77,
           78,
           79,
           81,
           82,
           84,
           86,
           87,
           88,
           89,
           90,
           91,
           92,
           94,
           96,
           97,
           98
          ],
          "colorbar": {
           "title": {
            "text": "Trial"
           }
          },
          "colorscale": [
           [
            0,
            "rgb(247,251,255)"
           ],
           [
            0.125,
            "rgb(222,235,247)"
           ],
           [
            0.25,
            "rgb(198,219,239)"
           ],
           [
            0.375,
            "rgb(158,202,225)"
           ],
           [
            0.5,
            "rgb(107,174,214)"
           ],
           [
            0.625,
            "rgb(66,146,198)"
           ],
           [
            0.75,
            "rgb(33,113,181)"
           ],
           [
            0.875,
            "rgb(8,81,156)"
           ],
           [
            1,
            "rgb(8,48,107)"
           ]
          ],
          "line": {
           "color": "Grey",
           "width": 0.5
          }
         },
         "mode": "markers",
         "showlegend": false,
         "text": [
          "{<br>  \"number\": 1,<br>  \"values\": [<br>    0.16946543223805613,<br>    0.6870970713186922<br>  ],<br>  \"params\": {<br>    \"n_estimators\": 6022,<br>    \"num_leaves\": 341,<br>    \"max_depth\": 4,<br>    \"min_child_samples\": 96,<br>    \"learning_rate\": 0.001106140614373575,<br>    \"boosting_type\": \"goss\"<br>  }<br>}",
          "{<br>  \"number\": 2,<br>  \"values\": [<br>    0.16887289800036642,<br>    0.6801285892010412<br>  ],<br>  \"params\": {<br>    \"n_estimators\": 3011,<br>    \"num_leaves\": 522,<br>    \"max_depth\": 15,<br>    \"min_child_samples\": 280,<br>    \"learning_rate\": 0.0010298606581265368,<br>    \"boosting_type\": \"gbdt\"<br>  }<br>}",
          "{<br>  \"number\": 3,<br>  \"values\": [<br>    0.1852654708347008,<br>    0.6588125267304845<br>  ],<br>  \"params\": {<br>    \"n_estimators\": 5600,<br>    \"num_leaves\": 596,<br>    \"max_depth\": 16,<br>    \"min_child_samples\": 248,<br>    \"learning_rate\": 0.001265458676682977,<br>    \"boosting_type\": \"goss\"<br>  }<br>}",
          "{<br>  \"number\": 4,<br>  \"values\": [<br>    0.16891404049388364,<br>    0.6915410827972301<br>  ],<br>  \"params\": {<br>    \"n_estimators\": 7318,<br>    \"num_leaves\": 308,<br>    \"max_depth\": 3,<br>    \"min_child_samples\": 53,<br>    \"learning_rate\": 0.0013464245883280741,<br>    \"boosting_type\": \"goss\"<br>  }<br>}",
          "{<br>  \"number\": 5,<br>  \"values\": [<br>    0.17946028878690332,<br>    0.6877410492403462<br>  ],<br>  \"params\": {<br>    \"n_estimators\": 9848,<br>    \"num_leaves\": 409,<br>    \"max_depth\": 6,<br>    \"min_child_samples\": 69,<br>    \"learning_rate\": 0.008440164525171262,<br>    \"boosting_type\": \"goss\"<br>  }<br>}",
          "{<br>  \"number\": 6,<br>  \"values\": [<br>    0.17779939943452583,<br>    0.692430058656781<br>  ],<br>  \"params\": {<br>    \"n_estimators\": 7079,<br>    \"num_leaves\": 840,<br>    \"max_depth\": 16,<br>    \"min_child_samples\": 226,<br>    \"learning_rate\": 0.0022569255919427204,<br>    \"boosting_type\": \"gbdt\"<br>  }<br>}",
          "{<br>  \"number\": 7,<br>  \"values\": [<br>    0.18004298123725485,<br>    0.709229772958372<br>  ],<br>  \"params\": {<br>    \"n_estimators\": 8705,<br>    \"num_leaves\": 615,<br>    \"max_depth\": 5,<br>    \"min_child_samples\": 66,<br>    \"learning_rate\": 0.004368571371480081,<br>    \"boosting_type\": \"gbdt\"<br>  }<br>}",
          "{<br>  \"number\": 8,<br>  \"values\": [<br>    0.18514861975242158,<br>    0.653645375325222<br>  ],<br>  \"params\": {<br>    \"n_estimators\": 5186,<br>    \"num_leaves\": 690,<br>    \"max_depth\": 6,<br>    \"min_child_samples\": 281,<br>    \"learning_rate\": 0.008214430261519088,<br>    \"boosting_type\": \"goss\"<br>  }<br>}",
          "{<br>  \"number\": 9,<br>  \"values\": [<br>    0.19210932399555153,<br>    0.6783989064144558<br>  ],<br>  \"params\": {<br>    \"n_estimators\": 9251,<br>    \"num_leaves\": 788,<br>    \"max_depth\": 12,<br>    \"min_child_samples\": 25,<br>    \"learning_rate\": 0.006339685340779402,<br>    \"boosting_type\": \"gbdt\"<br>  }<br>}",
          "{<br>  \"number\": 10,<br>  \"values\": [<br>    0.18097029632871414,<br>    0.6862401062406734<br>  ],<br>  \"params\": {<br>    \"n_estimators\": 8159,<br>    \"num_leaves\": 188,<br>    \"max_depth\": 18,<br>    \"min_child_samples\": 218,<br>    \"learning_rate\": 0.0088644122090224,<br>    \"boosting_type\": \"gbdt\"<br>  }<br>}",
          "{<br>  \"number\": 11,<br>  \"values\": [<br>    0.18350901705002687,<br>    0.6783126931776595<br>  ],<br>  \"params\": {<br>    \"n_estimators\": 7706,<br>    \"num_leaves\": 513,<br>    \"max_depth\": 12,<br>    \"min_child_samples\": 186,<br>    \"learning_rate\": 0.0030653776083827715,<br>    \"boosting_type\": \"goss\"<br>  }<br>}",
          "{<br>  \"number\": 13,<br>  \"values\": [<br>    0.18204680182678096,<br>    0.6843016511457365<br>  ],<br>  \"params\": {<br>    \"n_estimators\": 3236,<br>    \"num_leaves\": 199,<br>    \"max_depth\": 18,<br>    \"min_child_samples\": 151,<br>    \"learning_rate\": 0.008520291388769283,<br>    \"boosting_type\": \"goss\"<br>  }<br>}",
          "{<br>  \"number\": 14,<br>  \"values\": [<br>    0.1804257967660096,<br>    0.6661533521341866<br>  ],<br>  \"params\": {<br>    \"n_estimators\": 8703,<br>    \"num_leaves\": 606,<br>    \"max_depth\": 7,<br>    \"min_child_samples\": 228,<br>    \"learning_rate\": 0.008041734121344844,<br>    \"boosting_type\": \"goss\"<br>  }<br>}",
          "{<br>  \"number\": 15,<br>  \"values\": [<br>    0.18722060885874567,<br>    0.6554281328406621<br>  ],<br>  \"params\": {<br>    \"n_estimators\": 9866,<br>    \"num_leaves\": 378,<br>    \"max_depth\": 9,<br>    \"min_child_samples\": 277,<br>    \"learning_rate\": 0.008145576041736057,<br>    \"boosting_type\": \"goss\"<br>  }<br>}",
          "{<br>  \"number\": 16,<br>  \"values\": [<br>    0.18857346189319377,<br>    0.6981146247644515<br>  ],<br>  \"params\": {<br>    \"n_estimators\": 9178,<br>    \"num_leaves\": 75,<br>    \"max_depth\": 13,<br>    \"min_child_samples\": 116,<br>    \"learning_rate\": 0.0036332408424696247,<br>    \"boosting_type\": \"gbdt\"<br>  }<br>}",
          "{<br>  \"number\": 17,<br>  \"values\": [<br>    0.18201698518898665,<br>    0.7025826395161132<br>  ],<br>  \"params\": {<br>    \"n_estimators\": 3453,<br>    \"num_leaves\": 998,<br>    \"max_depth\": 14,<br>    \"min_child_samples\": 133,<br>    \"learning_rate\": 0.005626473417133713,<br>    \"boosting_type\": \"gbdt\"<br>  }<br>}",
          "{<br>  \"number\": 18,<br>  \"values\": [<br>    0.17559074027730245,<br>    0.6905898232142602<br>  ],<br>  \"params\": {<br>    \"n_estimators\": 8011,<br>    \"num_leaves\": 855,<br>    \"max_depth\": 20,<br>    \"min_child_samples\": 240,<br>    \"learning_rate\": 0.0017763132406298004,<br>    \"boosting_type\": \"gbdt\"<br>  }<br>}",
          "{<br>  \"number\": 19,<br>  \"values\": [<br>    0.18242220597869646,<br>    0.6643641643942482<br>  ],<br>  \"params\": {<br>    \"n_estimators\": 6372,<br>    \"num_leaves\": 162,<br>    \"max_depth\": 8,<br>    \"min_child_samples\": 251,<br>    \"learning_rate\": 0.006781371539104441,<br>    \"boosting_type\": \"goss\"<br>  }<br>}",
          "{<br>  \"number\": 20,<br>  \"values\": [<br>    0.18123585620122823,<br>    0.6943887824402678<br>  ],<br>  \"params\": {<br>    \"n_estimators\": 1307,<br>    \"num_leaves\": 375,<br>    \"max_depth\": 20,<br>    \"min_child_samples\": 107,<br>    \"learning_rate\": 0.009886861463350211,<br>    \"boosting_type\": \"goss\"<br>  }<br>}",
          "{<br>  \"number\": 27,<br>  \"values\": [<br>    0.18216915502462147,<br>    0.708125795989041<br>  ],<br>  \"params\": {<br>    \"n_estimators\": 4418,<br>    \"num_leaves\": 147,<br>    \"max_depth\": 10,<br>    \"min_child_samples\": 140,<br>    \"learning_rate\": 0.004012467603607511,<br>    \"boosting_type\": \"gbdt\"<br>  }<br>}",
          "{<br>  \"number\": 28,<br>  \"values\": [<br>    0.16666702877053957,<br>    0.6904428863128069<br>  ],<br>  \"params\": {<br>    \"n_estimators\": 2158,<br>    \"num_leaves\": 111,<br>    \"max_depth\": 7,<br>    \"min_child_samples\": 191,<br>    \"learning_rate\": 0.002894587839590413,<br>    \"boosting_type\": \"gbdt\"<br>  }<br>}",
          "{<br>  \"number\": 29,<br>  \"values\": [<br>    0.18070395522703392,<br>    0.7008741804251699<br>  ],<br>  \"params\": {<br>    \"n_estimators\": 4214,<br>    \"num_leaves\": 236,<br>    \"max_depth\": 10,<br>    \"min_child_samples\": 160,<br>    \"learning_rate\": 0.0051975851478357265,<br>    \"boosting_type\": \"gbdt\"<br>  }<br>}",
          "{<br>  \"number\": 31,<br>  \"values\": [<br>    0.1593282594864242,<br>    0.6724962810032445<br>  ],<br>  \"params\": {<br>    \"n_estimators\": 2106,<br>    \"num_leaves\": 130,<br>    \"max_depth\": 4,<br>    \"min_child_samples\": 49,<br>    \"learning_rate\": 0.0019428082307150225,<br>    \"boosting_type\": \"gbdt\"<br>  }<br>}",
          "{<br>  \"number\": 35,<br>  \"values\": [<br>    0.15940413029995035,<br>    0.674594477407155<br>  ],<br>  \"params\": {<br>    \"n_estimators\": 2605,<br>    \"num_leaves\": 294,<br>    \"max_depth\": 3,<br>    \"min_child_samples\": 115,<br>    \"learning_rate\": 0.002849546015321875,<br>    \"boosting_type\": \"gbdt\"<br>  }<br>}",
          "{<br>  \"number\": 36,<br>  \"values\": [<br>    0.16456225687609877,<br>    0.6952952974428424<br>  ],<br>  \"params\": {<br>    \"n_estimators\": 5270,<br>    \"num_leaves\": 988,<br>    \"max_depth\": 5,<br>    \"min_child_samples\": 66,<br>    \"learning_rate\": 0.0014672518798490319,<br>    \"boosting_type\": \"gbdt\"<br>  }<br>}",
          "{<br>  \"number\": 39,<br>  \"values\": [<br>    0.1779620982425351,<br>    0.7048143740252513<br>  ],<br>  \"params\": {<br>    \"n_estimators\": 5301,<br>    \"num_leaves\": 727,<br>    \"max_depth\": 7,<br>    \"min_child_samples\": 96,<br>    \"learning_rate\": 0.0034072557332835655,<br>    \"boosting_type\": \"gbdt\"<br>  }<br>}",
          "{<br>  \"number\": 41,<br>  \"values\": [<br>    0.16567485325414327,<br>    0.6731176515234113<br>  ],<br>  \"params\": {<br>    \"n_estimators\": 706,<br>    \"num_leaves\": 175,<br>    \"max_depth\": 8,<br>    \"min_child_samples\": 203,<br>    \"learning_rate\": 0.004094261112057261,<br>    \"boosting_type\": \"gbdt\"<br>  }<br>}",
          "{<br>  \"number\": 43,<br>  \"values\": [<br>    0.1707435543401245,<br>    0.6842914342738478<br>  ],<br>  \"params\": {<br>    \"n_estimators\": 936,<br>    \"num_leaves\": 452,<br>    \"max_depth\": 18,<br>    \"min_child_samples\": 169,<br>    \"learning_rate\": 0.003288999307343761,<br>    \"boosting_type\": \"gbdt\"<br>  }<br>}",
          "{<br>  \"number\": 44,<br>  \"values\": [<br>    0.1803224723859196,<br>    0.7052628632554112<br>  ],<br>  \"params\": {<br>    \"n_estimators\": 1511,<br>    \"num_leaves\": 465,<br>    \"max_depth\": 14,<br>    \"min_child_samples\": 136,<br>    \"learning_rate\": 0.004461896091927999,<br>    \"boosting_type\": \"gbdt\"<br>  }<br>}",
          "{<br>  \"number\": 45,<br>  \"values\": [<br>    0.1565816363043829,<br>    0.6557530790172563<br>  ],<br>  \"params\": {<br>    \"n_estimators\": 465,<br>    \"num_leaves\": 909,<br>    \"max_depth\": 11,<br>    \"min_child_samples\": 206,<br>    \"learning_rate\": 0.0036402676267309666,<br>    \"boosting_type\": \"gbdt\"<br>  }<br>}",
          "{<br>  \"number\": 46,<br>  \"values\": [<br>    0.17532887935585612,<br>    0.7002325478140344<br>  ],<br>  \"params\": {<br>    \"n_estimators\": 1160,<br>    \"num_leaves\": 560,<br>    \"max_depth\": 16,<br>    \"min_child_samples\": 169,<br>    \"learning_rate\": 0.005266664048469278,<br>    \"boosting_type\": \"gbdt\"<br>  }<br>}",
          "{<br>  \"number\": 47,<br>  \"values\": [<br>    0.17360056072911703,<br>    0.6932522764494805<br>  ],<br>  \"params\": {<br>    \"n_estimators\": 1779,<br>    \"num_leaves\": 687,<br>    \"max_depth\": 13,<br>    \"min_child_samples\": 297,<br>    \"learning_rate\": 0.003884176162210048,<br>    \"boosting_type\": \"gbdt\"<br>  }<br>}",
          "{<br>  \"number\": 48,<br>  \"values\": [<br>    0.17481153172731562,<br>    0.6780321513617975<br>  ],<br>  \"params\": {<br>    \"n_estimators\": 551,<br>    \"num_leaves\": 743,<br>    \"max_depth\": 19,<br>    \"min_child_samples\": 124,<br>    \"learning_rate\": 0.004701557931204675,<br>    \"boosting_type\": \"goss\"<br>  }<br>}",
          "{<br>  \"number\": 50,<br>  \"values\": [<br>    0.17764865305544447,<br>    0.7020390049786503<br>  ],<br>  \"params\": {<br>    \"n_estimators\": 1041,<br>    \"num_leaves\": 321,<br>    \"max_depth\": 14,<br>    \"min_child_samples\": 146,<br>    \"learning_rate\": 0.005836974582819427,<br>    \"boosting_type\": \"gbdt\"<br>  }<br>}",
          "{<br>  \"number\": 51,<br>  \"values\": [<br>    0.16074767991887856,<br>    0.6578520531887253<br>  ],<br>  \"params\": {<br>    \"n_estimators\": 581,<br>    \"num_leaves\": 418,<br>    \"max_depth\": 10,<br>    \"min_child_samples\": 204,<br>    \"learning_rate\": 0.003072950946501221,<br>    \"boosting_type\": \"gbdt\"<br>  }<br>}",
          "{<br>  \"number\": 52,<br>  \"values\": [<br>    0.17721781191310731,<br>    0.7023881552018307<br>  ],<br>  \"params\": {<br>    \"n_estimators\": 2339,<br>    \"num_leaves\": 675,<br>    \"max_depth\": 12,<br>    \"min_child_samples\": 158,<br>    \"learning_rate\": 0.004330842179432858,<br>    \"boosting_type\": \"gbdt\"<br>  }<br>}",
          "{<br>  \"number\": 53,<br>  \"values\": [<br>    0.1695496936523823,<br>    0.6774037215391766<br>  ],<br>  \"params\": {<br>    \"n_estimators\": 1779,<br>    \"num_leaves\": 267,<br>    \"max_depth\": 15,<br>    \"min_child_samples\": 262,<br>    \"learning_rate\": 0.0015665561715908615,<br>    \"boosting_type\": \"gbdt\"<br>  }<br>}",
          "{<br>  \"number\": 55,<br>  \"values\": [<br>    0.16764718053014935,<br>    0.6724040754870682<br>  ],<br>  \"params\": {<br>    \"n_estimators\": 1329,<br>    \"num_leaves\": 413,<br>    \"max_depth\": 9,<br>    \"min_child_samples\": 218,<br>    \"learning_rate\": 0.0020268598693890887,<br>    \"boosting_type\": \"gbdt\"<br>  }<br>}",
          "{<br>  \"number\": 56,<br>  \"values\": [<br>    0.1435885407313915,<br>    0.6257248873263298<br>  ],<br>  \"params\": {<br>    \"n_estimators\": 945,<br>    \"num_leaves\": 564,<br>    \"max_depth\": 17,<br>    \"min_child_samples\": 182,<br>    \"learning_rate\": 0.0013913810760764534,<br>    \"boosting_type\": \"gbdt\"<br>  }<br>}",
          "{<br>  \"number\": 57,<br>  \"values\": [<br>    0.1515806178293876,<br>    0.6404547708911095<br>  ],<br>  \"params\": {<br>    \"n_estimators\": 1676,<br>    \"num_leaves\": 642,<br>    \"max_depth\": 13,<br>    \"min_child_samples\": 126,<br>    \"learning_rate\": 0.0008810507162699535,<br>    \"boosting_type\": \"goss\"<br>  }<br>}",
          "{<br>  \"number\": 60,<br>  \"values\": [<br>    0.1576648546169874,<br>    0.6428269183236394<br>  ],<br>  \"params\": {<br>    \"n_estimators\": 385,<br>    \"num_leaves\": 58,<br>    \"max_depth\": 10,<br>    \"min_child_samples\": 269,<br>    \"learning_rate\": 0.004904024186035449,<br>    \"boosting_type\": \"gbdt\"<br>  }<br>}",
          "{<br>  \"number\": 61,<br>  \"values\": [<br>    0.16620455145686192,<br>    0.6942459981171865<br>  ],<br>  \"params\": {<br>    \"n_estimators\": 1143,<br>    \"num_leaves\": 939,<br>    \"max_depth\": 9,<br>    \"min_child_samples\": 101,<br>    \"learning_rate\": 0.0037522794461515227,<br>    \"boosting_type\": \"gbdt\"<br>  }<br>}",
          "{<br>  \"number\": 62,<br>  \"values\": [<br>    0.16059802003188534,<br>    0.6524334410710415<br>  ],<br>  \"params\": {<br>    \"n_estimators\": 521,<br>    \"num_leaves\": 126,<br>    \"max_depth\": 8,<br>    \"min_child_samples\": 294,<br>    \"learning_rate\": 0.004005752649181364,<br>    \"boosting_type\": \"gbdt\"<br>  }<br>}",
          "{<br>  \"number\": 65,<br>  \"values\": [<br>    0.17659840678091904,<br>    0.6991052618947554<br>  ],<br>  \"params\": {<br>    \"n_estimators\": 1364,<br>    \"num_leaves\": 808,<br>    \"max_depth\": 9,<br>    \"min_child_samples\": 145,<br>    \"learning_rate\": 0.004597375467527423,<br>    \"boosting_type\": \"gbdt\"<br>  }<br>}",
          "{<br>  \"number\": 67,<br>  \"values\": [<br>    0.15422748302029554,<br>    0.6422397653488955<br>  ],<br>  \"params\": {<br>    \"n_estimators\": 439,<br>    \"num_leaves\": 649,<br>    \"max_depth\": 10,<br>    \"min_child_samples\": 194,<br>    \"learning_rate\": 0.0034754560935016587,<br>    \"boosting_type\": \"gbdt\"<br>  }<br>}",
          "{<br>  \"number\": 68,<br>  \"values\": [<br>    0.1574630600845512,<br>    0.6460405719063889<br>  ],<br>  \"params\": {<br>    \"n_estimators\": 765,<br>    \"num_leaves\": 230,<br>    \"max_depth\": 12,<br>    \"min_child_samples\": 128,<br>    \"learning_rate\": 0.0021518640261858923,<br>    \"boosting_type\": \"goss\"<br>  }<br>}",
          "{<br>  \"number\": 69,<br>  \"values\": [<br>    0.17893931633905175,<br>    0.704459740890556<br>  ],<br>  \"params\": {<br>    \"n_estimators\": 2538,<br>    \"num_leaves\": 538,<br>    \"max_depth\": 11,<br>    \"min_child_samples\": 161,<br>    \"learning_rate\": 0.004211863102470212,<br>    \"boosting_type\": \"gbdt\"<br>  }<br>}",
          "{<br>  \"number\": 71,<br>  \"values\": [<br>    0.17967939167386798,<br>    0.6727243615913394<br>  ],<br>  \"params\": {<br>    \"n_estimators\": 825,<br>    \"num_leaves\": 54,<br>    \"max_depth\": 10,<br>    \"min_child_samples\": 168,<br>    \"learning_rate\": 0.00446999606091923,<br>    \"boosting_type\": \"goss\"<br>  }<br>}",
          "{<br>  \"number\": 72,<br>  \"values\": [<br>    0.17070286806464194,<br>    0.6886772002478685<br>  ],<br>  \"params\": {<br>    \"n_estimators\": 1142,<br>    \"num_leaves\": 151,<br>    \"max_depth\": 9,<br>    \"min_child_samples\": 241,<br>    \"learning_rate\": 0.0038210465383160374,<br>    \"boosting_type\": \"gbdt\"<br>  }<br>}",
          "{<br>  \"number\": 73,<br>  \"values\": [<br>    0.16959570797149573,<br>    0.6784003210404939<br>  ],<br>  \"params\": {<br>    \"n_estimators\": 611,<br>    \"num_leaves\": 111,<br>    \"max_depth\": 12,<br>    \"min_child_samples\": 260,<br>    \"learning_rate\": 0.0048271535587347675,<br>    \"boosting_type\": \"gbdt\"<br>  }<br>}",
          "{<br>  \"number\": 74,<br>  \"values\": [<br>    0.17447370561193257,<br>    0.6954432043268949<br>  ],<br>  \"params\": {<br>    \"n_estimators\": 3752,<br>    \"num_leaves\": 49,<br>    \"max_depth\": 11,<br>    \"min_child_samples\": 230,<br>    \"learning_rate\": 0.004134425415364974,<br>    \"boosting_type\": \"gbdt\"<br>  }<br>}",
          "{<br>  \"number\": 77,<br>  \"values\": [<br>    0.16569697688970958,<br>    0.6756037735432157<br>  ],<br>  \"params\": {<br>    \"n_estimators\": 421,<br>    \"num_leaves\": 193,<br>    \"max_depth\": 13,<br>    \"min_child_samples\": 119,<br>    \"learning_rate\": 0.005137177567589275,<br>    \"boosting_type\": \"gbdt\"<br>  }<br>}",
          "{<br>  \"number\": 78,<br>  \"values\": [<br>    0.1729518899476194,<br>    0.6908507013541264<br>  ],<br>  \"params\": {<br>    \"n_estimators\": 1700,<br>    \"num_leaves\": 270,<br>    \"max_depth\": 10,<br>    \"min_child_samples\": 211,<br>    \"learning_rate\": 0.0036337255130929062,<br>    \"boosting_type\": \"gbdt\"<br>  }<br>}",
          "{<br>  \"number\": 79,<br>  \"values\": [<br>    0.14522101542560256,<br>    0.6283615824725264<br>  ],<br>  \"params\": {<br>    \"n_estimators\": 316,<br>    \"num_leaves\": 143,<br>    \"max_depth\": 11,<br>    \"min_child_samples\": 105,<br>    \"learning_rate\": 0.004217765396248264,<br>    \"boosting_type\": \"goss\"<br>  }<br>}",
          "{<br>  \"number\": 81,<br>  \"values\": [<br>    0.15702111602560181,<br>    0.6537303881310708<br>  ],<br>  \"params\": {<br>    \"n_estimators\": 700,<br>    \"num_leaves\": 202,<br>    \"max_depth\": 9,<br>    \"min_child_samples\": 148,<br>    \"learning_rate\": 0.0023427071399147468,<br>    \"boosting_type\": \"gbdt\"<br>  }<br>}",
          "{<br>  \"number\": 82,<br>  \"values\": [<br>    0.1674242892520557,<br>    0.6720839747594718<br>  ],<br>  \"params\": {<br>    \"n_estimators\": 378,<br>    \"num_leaves\": 101,<br>    \"max_depth\": 8,<br>    \"min_child_samples\": 192,<br>    \"learning_rate\": 0.006911190134230593,<br>    \"boosting_type\": \"gbdt\"<br>  }<br>}",
          "{<br>  \"number\": 84,<br>  \"values\": [<br>    0.1818645827754332,<br>    0.6919719684629697<br>  ],<br>  \"params\": {<br>    \"n_estimators\": 7054,<br>    \"num_leaves\": 162,<br>    \"max_depth\": 7,<br>    \"min_child_samples\": 21,<br>    \"learning_rate\": 0.005561612116498597,<br>    \"boosting_type\": \"gbdt\"<br>  }<br>}",
          "{<br>  \"number\": 86,<br>  \"values\": [<br>    0.17322792938601234,<br>    0.6929352462348882<br>  ],<br>  \"params\": {<br>    \"n_estimators\": 1401,<br>    \"num_leaves\": 125,<br>    \"max_depth\": 8,<br>    \"min_child_samples\": 178,<br>    \"learning_rate\": 0.005000550970866915,<br>    \"boosting_type\": \"gbdt\"<br>  }<br>}",
          "{<br>  \"number\": 87,<br>  \"values\": [<br>    0.17749602782375762,<br>    0.7075001382422821<br>  ],<br>  \"params\": {<br>    \"n_estimators\": 5810,<br>    \"num_leaves\": 277,<br>    \"max_depth\": 7,<br>    \"min_child_samples\": 90,<br>    \"learning_rate\": 0.0032173094551694085,<br>    \"boosting_type\": \"gbdt\"<br>  }<br>}",
          "{<br>  \"number\": 88,<br>  \"values\": [<br>    0.17557367253125475,<br>    0.7004720229994457<br>  ],<br>  \"params\": {<br>    \"n_estimators\": 1947,<br>    \"num_leaves\": 237,<br>    \"max_depth\": 9,<br>    \"min_child_samples\": 46,<br>    \"learning_rate\": 0.004920719891734322,<br>    \"boosting_type\": \"gbdt\"<br>  }<br>}",
          "{<br>  \"number\": 89,<br>  \"values\": [<br>    0.13211489609235874,<br>    0.5637306086545382<br>  ],<br>  \"params\": {<br>    \"n_estimators\": 290,<br>    \"num_leaves\": 76,<br>    \"max_depth\": 8,<br>    \"min_child_samples\": 235,<br>    \"learning_rate\": 0.0038179884671246684,<br>    \"boosting_type\": \"goss\"<br>  }<br>}",
          "{<br>  \"number\": 90,<br>  \"values\": [<br>    0.17301891071064293,<br>    0.6875156134916978<br>  ],<br>  \"params\": {<br>    \"n_estimators\": 689,<br>    \"num_leaves\": 180,<br>    \"max_depth\": 9,<br>    \"min_child_samples\": 154,<br>    \"learning_rate\": 0.005334242246714071,<br>    \"boosting_type\": \"gbdt\"<br>  }<br>}",
          "{<br>  \"number\": 91,<br>  \"values\": [<br>    0.1618482268982183,<br>    0.6803689384056385<br>  ],<br>  \"params\": {<br>    \"n_estimators\": 1003,<br>    \"num_leaves\": 226,<br>    \"max_depth\": 10,<br>    \"min_child_samples\": 73,<br>    \"learning_rate\": 0.0025864912295821803,<br>    \"boosting_type\": \"gbdt\"<br>  }<br>}",
          "{<br>  \"number\": 92,<br>  \"values\": [<br>    0.16797135950914083,<br>    0.6755774989922035<br>  ],<br>  \"params\": {<br>    \"n_estimators\": 617,<br>    \"num_leaves\": 39,<br>    \"max_depth\": 11,<br>    \"min_child_samples\": 138,<br>    \"learning_rate\": 0.0035282387152527463,<br>    \"boosting_type\": \"gbdt\"<br>  }<br>}",
          "{<br>  \"number\": 94,<br>  \"values\": [<br>    0.15147819122225317,<br>    0.6261471978901139<br>  ],<br>  \"params\": {<br>    \"n_estimators\": 906,<br>    \"num_leaves\": 88,<br>    \"max_depth\": 8,<br>    \"min_child_samples\": 257,<br>    \"learning_rate\": 0.0018077174881898403,<br>    \"boosting_type\": \"gbdt\"<br>  }<br>}",
          "{<br>  \"number\": 96,<br>  \"values\": [<br>    0.16884969691495946,<br>    0.6810732748562829<br>  ],<br>  \"params\": {<br>    \"n_estimators\": 1552,<br>    \"num_leaves\": 118,<br>    \"max_depth\": 9,<br>    \"min_child_samples\": 263,<br>    \"learning_rate\": 0.0021494676044188058,<br>    \"boosting_type\": \"gbdt\"<br>  }<br>}",
          "{<br>  \"number\": 97,<br>  \"values\": [<br>    0.16522739746128182,<br>    0.6736637317008622<br>  ],<br>  \"params\": {<br>    \"n_estimators\": 1241,<br>    \"num_leaves\": 154,<br>    \"max_depth\": 7,<br>    \"min_child_samples\": 272,<br>    \"learning_rate\": 0.0024570021901824395,<br>    \"boosting_type\": \"gbdt\"<br>  }<br>}",
          "{<br>  \"number\": 98,<br>  \"values\": [<br>    0.1744599937151702,<br>    0.6907156957774849<br>  ],<br>  \"params\": {<br>    \"n_estimators\": 4737,<br>    \"num_leaves\": 203,<br>    \"max_depth\": 8,<br>    \"min_child_samples\": 255,<br>    \"learning_rate\": 0.0015415531223412725,<br>    \"boosting_type\": \"gbdt\"<br>  }<br>}"
         ],
         "type": "scatter",
         "x": [
          0.16946543223805613,
          0.16887289800036642,
          0.1852654708347008,
          0.16891404049388364,
          0.17946028878690332,
          0.17779939943452583,
          0.18004298123725485,
          0.18514861975242158,
          0.19210932399555153,
          0.18097029632871414,
          0.18350901705002687,
          0.18204680182678096,
          0.1804257967660096,
          0.18722060885874567,
          0.18857346189319377,
          0.18201698518898665,
          0.17559074027730245,
          0.18242220597869646,
          0.18123585620122823,
          0.18216915502462147,
          0.16666702877053957,
          0.18070395522703392,
          0.1593282594864242,
          0.15940413029995035,
          0.16456225687609877,
          0.1779620982425351,
          0.16567485325414327,
          0.1707435543401245,
          0.1803224723859196,
          0.1565816363043829,
          0.17532887935585612,
          0.17360056072911703,
          0.17481153172731562,
          0.17764865305544447,
          0.16074767991887856,
          0.17721781191310731,
          0.1695496936523823,
          0.16764718053014935,
          0.1435885407313915,
          0.1515806178293876,
          0.1576648546169874,
          0.16620455145686192,
          0.16059802003188534,
          0.17659840678091904,
          0.15422748302029554,
          0.1574630600845512,
          0.17893931633905175,
          0.17967939167386798,
          0.17070286806464194,
          0.16959570797149573,
          0.17447370561193257,
          0.16569697688970958,
          0.1729518899476194,
          0.14522101542560256,
          0.15702111602560181,
          0.1674242892520557,
          0.1818645827754332,
          0.17322792938601234,
          0.17749602782375762,
          0.17557367253125475,
          0.13211489609235874,
          0.17301891071064293,
          0.1618482268982183,
          0.16797135950914083,
          0.15147819122225317,
          0.16884969691495946,
          0.16522739746128182,
          0.1744599937151702
         ],
         "y": [
          0.6870970713186922,
          0.6801285892010412,
          0.6588125267304845,
          0.6915410827972301,
          0.6877410492403462,
          0.692430058656781,
          0.709229772958372,
          0.653645375325222,
          0.6783989064144558,
          0.6862401062406734,
          0.6783126931776595,
          0.6843016511457365,
          0.6661533521341866,
          0.6554281328406621,
          0.6981146247644515,
          0.7025826395161132,
          0.6905898232142602,
          0.6643641643942482,
          0.6943887824402678,
          0.708125795989041,
          0.6904428863128069,
          0.7008741804251699,
          0.6724962810032445,
          0.674594477407155,
          0.6952952974428424,
          0.7048143740252513,
          0.6731176515234113,
          0.6842914342738478,
          0.7052628632554112,
          0.6557530790172563,
          0.7002325478140344,
          0.6932522764494805,
          0.6780321513617975,
          0.7020390049786503,
          0.6578520531887253,
          0.7023881552018307,
          0.6774037215391766,
          0.6724040754870682,
          0.6257248873263298,
          0.6404547708911095,
          0.6428269183236394,
          0.6942459981171865,
          0.6524334410710415,
          0.6991052618947554,
          0.6422397653488955,
          0.6460405719063889,
          0.704459740890556,
          0.6727243615913394,
          0.6886772002478685,
          0.6784003210404939,
          0.6954432043268949,
          0.6756037735432157,
          0.6908507013541264,
          0.6283615824725264,
          0.6537303881310708,
          0.6720839747594718,
          0.6919719684629697,
          0.6929352462348882,
          0.7075001382422821,
          0.7004720229994457,
          0.5637306086545382,
          0.6875156134916978,
          0.6803689384056385,
          0.6755774989922035,
          0.6261471978901139,
          0.6810732748562829,
          0.6736637317008622,
          0.6907156957774849
         ]
        },
        {
         "hovertemplate": "%{text}<extra>Best Trial</extra>",
         "marker": {
          "color": [
           0,
           12,
           21,
           22,
           23,
           24,
           25,
           26,
           30,
           32,
           33,
           34,
           37,
           38,
           40,
           42,
           49,
           54,
           58,
           59,
           63,
           64,
           66,
           70,
           75,
           76,
           80,
           83,
           85,
           93,
           95,
           99
          ],
          "colorbar": {
           "title": {
            "text": "Best Trial"
           },
           "x": 1.1,
           "xpad": 40
          },
          "colorscale": [
           [
            0,
            "rgb(255,245,240)"
           ],
           [
            0.125,
            "rgb(254,224,210)"
           ],
           [
            0.25,
            "rgb(252,187,161)"
           ],
           [
            0.375,
            "rgb(252,146,114)"
           ],
           [
            0.5,
            "rgb(251,106,74)"
           ],
           [
            0.625,
            "rgb(239,59,44)"
           ],
           [
            0.75,
            "rgb(203,24,29)"
           ],
           [
            0.875,
            "rgb(165,15,21)"
           ],
           [
            1,
            "rgb(103,0,13)"
           ]
          ],
          "line": {
           "color": "Grey",
           "width": 0.5
          }
         },
         "mode": "markers",
         "showlegend": false,
         "text": [
          "{<br>  \"number\": 0,<br>  \"values\": [<br>    0.17441972789334534,<br>    0.713962759662385<br>  ],<br>  \"params\": {<br>    \"n_estimators\": 8669,<br>    \"num_leaves\": 270,<br>    \"max_depth\": 4,<br>    \"min_child_samples\": 17,<br>    \"learning_rate\": 0.0023968541035582405,<br>    \"boosting_type\": \"gbdt\"<br>  }<br>}",
          "{<br>  \"number\": 12,<br>  \"values\": [<br>    0.16980866191463653,<br>    0.702903178160778<br>  ],<br>  \"params\": {<br>    \"n_estimators\": 6506,<br>    \"num_leaves\": 83,<br>    \"max_depth\": 4,<br>    \"min_child_samples\": 53,<br>    \"learning_rate\": 0.0019756436972196054,<br>    \"boosting_type\": \"gbdt\"<br>  }<br>}",
          "{<br>  \"number\": 21,<br>  \"values\": [<br>    0.13646651205639118,<br>    0.6145768891765313<br>  ],<br>  \"params\": {<br>    \"n_estimators\": 4430,<br>    \"num_leaves\": 39,<br>    \"max_depth\": 2,<br>    \"min_child_samples\": 39,<br>    \"learning_rate\": 0.0004165224156703045,<br>    \"boosting_type\": \"gbdt\"<br>  }<br>}",
          "{<br>  \"number\": 22,<br>  \"values\": [<br>    0.0,<br>    0.0<br>  ],<br>  \"params\": {<br>    \"n_estimators\": 814,<br>    \"num_leaves\": 11,<br>    \"max_depth\": 2,<br>    \"min_child_samples\": 40,<br>    \"learning_rate\": 9.793940006456742e-05,<br>    \"boosting_type\": \"gbdt\"<br>  }<br>}",
          "{<br>  \"number\": 23,<br>  \"values\": [<br>    0.0,<br>    0.0<br>  ],<br>  \"params\": {<br>    \"n_estimators\": 4256,<br>    \"num_leaves\": 86,<br>    \"max_depth\": 9,<br>    \"min_child_samples\": 5,<br>    \"learning_rate\": 9.45698865465151e-05,<br>    \"boosting_type\": \"gbdt\"<br>  }<br>}",
          "{<br>  \"number\": 24,<br>  \"values\": [<br>    0.15502563297439062,<br>    0.6647885706871317<br>  ],<br>  \"params\": {<br>    \"n_estimators\": 1986,<br>    \"num_leaves\": 27,<br>    \"max_depth\": 2,<br>    \"min_child_samples\": 83,<br>    \"learning_rate\": 0.0034177571044390325,<br>    \"boosting_type\": \"gbdt\"<br>  }<br>}",
          "{<br>  \"number\": 25,<br>  \"values\": [<br>    0.025566693003403092,<br>    0.17983531381589635<br>  ],<br>  \"params\": {<br>    \"n_estimators\": 108,<br>    \"num_leaves\": 139,<br>    \"max_depth\": 10,<br>    \"min_child_samples\": 181,<br>    \"learning_rate\": 0.004485578493403646,<br>    \"boosting_type\": \"gbdt\"<br>  }<br>}",
          "{<br>  \"number\": 26,<br>  \"values\": [<br>    0.025566693003403092,<br>    0.17983531381589635<br>  ],<br>  \"params\": {<br>    \"n_estimators\": 96,<br>    \"num_leaves\": 246,<br>    \"max_depth\": 11,<br>    \"min_child_samples\": 182,<br>    \"learning_rate\": 0.004782651527519024,<br>    \"boosting_type\": \"gbdt\"<br>  }<br>}",
          "{<br>  \"number\": 30,<br>  \"values\": [<br>    0.1526991719378094,<br>    0.6607348877325039<br>  ],<br>  \"params\": {<br>    \"n_estimators\": 6523,<br>    \"num_leaves\": 55,<br>    \"max_depth\": 3,<br>    \"min_child_samples\": 32,<br>    \"learning_rate\": 0.0005736215295248563,<br>    \"boosting_type\": \"gbdt\"<br>  }<br>}",
          "{<br>  \"number\": 32,<br>  \"values\": [<br>    0.142827759684163,<br>    0.6295802608557208<br>  ],<br>  \"params\": {<br>    \"n_estimators\": 4820,<br>    \"num_leaves\": 451,<br>    \"max_depth\": 2,<br>    \"min_child_samples\": 82,<br>    \"learning_rate\": 0.0005035091706934204,<br>    \"boosting_type\": \"gbdt\"<br>  }<br>}",
          "{<br>  \"number\": 33,<br>  \"values\": [<br>    0.16723062299544503,<br>    0.6976319072755034<br>  ],<br>  \"params\": {<br>    \"n_estimators\": 2746,<br>    \"num_leaves\": 11,<br>    \"max_depth\": 5,<br>    \"min_child_samples\": 59,<br>    \"learning_rate\": 0.0026397169749371565,<br>    \"boosting_type\": \"gbdt\"<br>  }<br>}",
          "{<br>  \"number\": 34,<br>  \"values\": [<br>    0.1725256630185837,<br>    0.7047451959470531<br>  ],<br>  \"params\": {<br>    \"n_estimators\": 3684,<br>    \"num_leaves\": 10,<br>    \"max_depth\": 6,<br>    \"min_child_samples\": 9,<br>    \"learning_rate\": 0.0025199859616956504,<br>    \"boosting_type\": \"gbdt\"<br>  }<br>}",
          "{<br>  \"number\": 37,<br>  \"values\": [<br>    0.0,<br>    0.0<br>  ],<br>  \"params\": {<br>    \"n_estimators\": 244,<br>    \"num_leaves\": 967,<br>    \"max_depth\": 2,<br>    \"min_child_samples\": 80,<br>    \"learning_rate\": 0.0006054058139334268,<br>    \"boosting_type\": \"gbdt\"<br>  }<br>}",
          "{<br>  \"number\": 38,<br>  \"values\": [<br>    0.15755424660547385,<br>    0.6690480126302468<br>  ],<br>  \"params\": {<br>    \"n_estimators\": 1502,<br>    \"num_leaves\": 213,<br>    \"max_depth\": 5,<br>    \"min_child_samples\": 26,<br>    \"learning_rate\": 0.0017397727038292975,<br>    \"boosting_type\": \"gbdt\"<br>  }<br>}",
          "{<br>  \"number\": 40,<br>  \"values\": [<br>    0.004353716411654321,<br>    0.06324327530847504<br>  ],<br>  \"params\": {<br>    \"n_estimators\": 784,<br>    \"num_leaves\": 64,<br>    \"max_depth\": 3,<br>    \"min_child_samples\": 47,<br>    \"learning_rate\": 0.0005714316531411905,<br>    \"boosting_type\": \"gbdt\"<br>  }<br>}",
          "{<br>  \"number\": 42,<br>  \"values\": [<br>    0.12690456147009987,<br>    0.5939435873051668<br>  ],<br>  \"params\": {<br>    \"n_estimators\": 706,<br>    \"num_leaves\": 452,<br>    \"max_depth\": 13,<br>    \"min_child_samples\": 169,<br>    \"learning_rate\": 0.0015241913324514618,<br>    \"boosting_type\": \"gbdt\"<br>  }<br>}",
          "{<br>  \"number\": 49,<br>  \"values\": [<br>    0.0,<br>    0.0<br>  ],<br>  \"params\": {<br>    \"n_estimators\": 45,<br>    \"num_leaves\": 358,<br>    \"max_depth\": 17,<br>    \"min_child_samples\": 174,<br>    \"learning_rate\": 0.0023454317995926562,<br>    \"boosting_type\": \"gbdt\"<br>  }<br>}",
          "{<br>  \"number\": 54,<br>  \"values\": [<br>    0.0,<br>    0.0<br>  ],<br>  \"params\": {<br>    \"n_estimators\": 336,<br>    \"num_leaves\": 488,<br>    \"max_depth\": 11,<br>    \"min_child_samples\": 198,<br>    \"learning_rate\": 0.0007381193185356387,<br>    \"boosting_type\": \"gbdt\"<br>  }<br>}",
          "{<br>  \"number\": 58,<br>  \"values\": [<br>    0.11430299105319583,<br>    0.5665486074222064<br>  ],<br>  \"params\": {<br>    \"n_estimators\": 351,<br>    \"num_leaves\": 546,<br>    \"max_depth\": 8,<br>    \"min_child_samples\": 166,<br>    \"learning_rate\": 0.0027244950456493,<br>    \"boosting_type\": \"gbdt\"<br>  }<br>}",
          "{<br>  \"number\": 59,<br>  \"values\": [<br>    0.025566693003403092,<br>    0.17983531381589635<br>  ],<br>  \"params\": {<br>    \"n_estimators\": 152,<br>    \"num_leaves\": 878,<br>    \"max_depth\": 8,<br>    \"min_child_samples\": 155,<br>    \"learning_rate\": 0.002869251494683279,<br>    \"boosting_type\": \"goss\"<br>  }<br>}",
          "{<br>  \"number\": 63,<br>  \"values\": [<br>    0.002572506487153693,<br>    0.03294117647058824<br>  ],<br>  \"params\": {<br>    \"n_estimators\": 137,<br>    \"num_leaves\": 747,<br>    \"max_depth\": 11,<br>    \"min_child_samples\": 217,<br>    \"learning_rate\": 0.00320243774338019,<br>    \"boosting_type\": \"gbdt\"<br>  }<br>}",
          "{<br>  \"number\": 64,<br>  \"values\": [<br>    0.15792645265047825,<br>    0.672258447260181<br>  ],<br>  \"params\": {<br>    \"n_estimators\": 887,<br>    \"num_leaves\": 774,<br>    \"max_depth\": 7,<br>    \"min_child_samples\": 37,<br>    \"learning_rate\": 0.0026388349810496535,<br>    \"boosting_type\": \"gbdt\"<br>  }<br>}",
          "{<br>  \"number\": 66,<br>  \"values\": [<br>    0.0,<br>    0.0<br>  ],<br>  \"params\": {<br>    \"n_estimators\": 35,<br>    \"num_leaves\": 571,<br>    \"max_depth\": 8,<br>    \"min_child_samples\": 179,<br>    \"learning_rate\": 0.005054488971457161,<br>    \"boosting_type\": \"gbdt\"<br>  }<br>}",
          "{<br>  \"number\": 70,<br>  \"values\": [<br>    0.16795588102237324,<br>    0.7022439734857594<br>  ],<br>  \"params\": {<br>    \"n_estimators\": 1122,<br>    \"num_leaves\": 262,<br>    \"max_depth\": 10,<br>    \"min_child_samples\": 13,<br>    \"learning_rate\": 0.004448803899281715,<br>    \"boosting_type\": \"gbdt\"<br>  }<br>}",
          "{<br>  \"number\": 75,<br>  \"values\": [<br>    0.0,<br>    0.0<br>  ],<br>  \"params\": {<br>    \"n_estimators\": 57,<br>    \"num_leaves\": 102,<br>    \"max_depth\": 3,<br>    \"min_child_samples\": 289,<br>    \"learning_rate\": 0.0046061775046682026,<br>    \"boosting_type\": \"goss\"<br>  }<br>}",
          "{<br>  \"number\": 76,<br>  \"values\": [<br>    0.14925556609892165,<br>    0.6539343354877714<br>  ],<br>  \"params\": {<br>    \"n_estimators\": 307,<br>    \"num_leaves\": 204,<br>    \"max_depth\": 13,<br>    \"min_child_samples\": 38,<br>    \"learning_rate\": 0.005306327692142801,<br>    \"boosting_type\": \"gbdt\"<br>  }<br>}",
          "{<br>  \"number\": 80,<br>  \"values\": [<br>    0.1643452136532733,<br>    0.6973956077413781<br>  ],<br>  \"params\": {<br>    \"n_estimators\": 662,<br>    \"num_leaves\": 219,<br>    \"max_depth\": 9,<br>    \"min_child_samples\": 12,<br>    \"learning_rate\": 0.005395771649930106,<br>    \"boosting_type\": \"gbdt\"<br>  }<br>}",
          "{<br>  \"number\": 83,<br>  \"values\": [<br>    0.15885485209579214,<br>    0.6831723507571427<br>  ],<br>  \"params\": {<br>    \"n_estimators\": 844,<br>    \"num_leaves\": 168,<br>    \"max_depth\": 7,<br>    \"min_child_samples\": 16,<br>    \"learning_rate\": 0.0031533299143951766,<br>    \"boosting_type\": \"gbdt\"<br>  }<br>}",
          "{<br>  \"number\": 85,<br>  \"values\": [<br>    0.0,<br>    0.0<br>  ],<br>  \"params\": {<br>    \"n_estimators\": 25,<br>    \"num_leaves\": 171,<br>    \"max_depth\": 6,<br>    \"min_child_samples\": 165,<br>    \"learning_rate\": 0.005931100373748201,<br>    \"boosting_type\": \"goss\"<br>  }<br>}",
          "{<br>  \"number\": 93,<br>  \"values\": [<br>    0.06960939004752724,<br>    0.367440088275832<br>  ],<br>  \"params\": {<br>    \"n_estimators\": 402,<br>    \"num_leaves\": 133,<br>    \"max_depth\": 9,<br>    \"min_child_samples\": 269,<br>    \"learning_rate\": 0.0017119078007885736,<br>    \"boosting_type\": \"gbdt\"<br>  }<br>}",
          "{<br>  \"number\": 95,<br>  \"values\": [<br>    0.0,<br>    0.0<br>  ],<br>  \"params\": {<br>    \"n_estimators\": 250,<br>    \"num_leaves\": 135,<br>    \"max_depth\": 10,<br>    \"min_child_samples\": 286,<br>    \"learning_rate\": 0.001711874771890368,<br>    \"boosting_type\": \"gbdt\"<br>  }<br>}",
          "{<br>  \"number\": 99,<br>  \"values\": [<br>    0.02154880352231061,<br>    0.13920469212077152<br>  ],<br>  \"params\": {<br>    \"n_estimators\": 244,<br>    \"num_leaves\": 173,<br>    \"max_depth\": 10,<br>    \"min_child_samples\": 245,<br>    \"learning_rate\": 0.001998603746290704,<br>    \"boosting_type\": \"gbdt\"<br>  }<br>}"
         ],
         "type": "scatter",
         "x": [
          0.17441972789334534,
          0.16980866191463653,
          0.13646651205639118,
          0,
          0,
          0.15502563297439062,
          0.025566693003403092,
          0.025566693003403092,
          0.1526991719378094,
          0.142827759684163,
          0.16723062299544503,
          0.1725256630185837,
          0,
          0.15755424660547385,
          0.004353716411654321,
          0.12690456147009987,
          0,
          0,
          0.11430299105319583,
          0.025566693003403092,
          0.002572506487153693,
          0.15792645265047825,
          0,
          0.16795588102237324,
          0,
          0.14925556609892165,
          0.1643452136532733,
          0.15885485209579214,
          0,
          0.06960939004752724,
          0,
          0.02154880352231061
         ],
         "y": [
          0.713962759662385,
          0.702903178160778,
          0.6145768891765313,
          0,
          0,
          0.6647885706871317,
          0.17983531381589635,
          0.17983531381589635,
          0.6607348877325039,
          0.6295802608557208,
          0.6976319072755034,
          0.7047451959470531,
          0,
          0.6690480126302468,
          0.06324327530847504,
          0.5939435873051668,
          0,
          0,
          0.5665486074222064,
          0.17983531381589635,
          0.03294117647058824,
          0.672258447260181,
          0,
          0.7022439734857594,
          0,
          0.6539343354877714,
          0.6973956077413781,
          0.6831723507571427,
          0,
          0.367440088275832,
          0,
          0.13920469212077152
         ]
        }
       ],
       "layout": {
        "template": {
         "data": {
          "bar": [
           {
            "error_x": {
             "color": "#2a3f5f"
            },
            "error_y": {
             "color": "#2a3f5f"
            },
            "marker": {
             "line": {
              "color": "#E5ECF6",
              "width": 0.5
             },
             "pattern": {
              "fillmode": "overlay",
              "size": 10,
              "solidity": 0.2
             }
            },
            "type": "bar"
           }
          ],
          "barpolar": [
           {
            "marker": {
             "line": {
              "color": "#E5ECF6",
              "width": 0.5
             },
             "pattern": {
              "fillmode": "overlay",
              "size": 10,
              "solidity": 0.2
             }
            },
            "type": "barpolar"
           }
          ],
          "carpet": [
           {
            "aaxis": {
             "endlinecolor": "#2a3f5f",
             "gridcolor": "white",
             "linecolor": "white",
             "minorgridcolor": "white",
             "startlinecolor": "#2a3f5f"
            },
            "baxis": {
             "endlinecolor": "#2a3f5f",
             "gridcolor": "white",
             "linecolor": "white",
             "minorgridcolor": "white",
             "startlinecolor": "#2a3f5f"
            },
            "type": "carpet"
           }
          ],
          "choropleth": [
           {
            "colorbar": {
             "outlinewidth": 0,
             "ticks": ""
            },
            "type": "choropleth"
           }
          ],
          "contour": [
           {
            "colorbar": {
             "outlinewidth": 0,
             "ticks": ""
            },
            "colorscale": [
             [
              0,
              "#0d0887"
             ],
             [
              0.1111111111111111,
              "#46039f"
             ],
             [
              0.2222222222222222,
              "#7201a8"
             ],
             [
              0.3333333333333333,
              "#9c179e"
             ],
             [
              0.4444444444444444,
              "#bd3786"
             ],
             [
              0.5555555555555556,
              "#d8576b"
             ],
             [
              0.6666666666666666,
              "#ed7953"
             ],
             [
              0.7777777777777778,
              "#fb9f3a"
             ],
             [
              0.8888888888888888,
              "#fdca26"
             ],
             [
              1,
              "#f0f921"
             ]
            ],
            "type": "contour"
           }
          ],
          "contourcarpet": [
           {
            "colorbar": {
             "outlinewidth": 0,
             "ticks": ""
            },
            "type": "contourcarpet"
           }
          ],
          "heatmap": [
           {
            "colorbar": {
             "outlinewidth": 0,
             "ticks": ""
            },
            "colorscale": [
             [
              0,
              "#0d0887"
             ],
             [
              0.1111111111111111,
              "#46039f"
             ],
             [
              0.2222222222222222,
              "#7201a8"
             ],
             [
              0.3333333333333333,
              "#9c179e"
             ],
             [
              0.4444444444444444,
              "#bd3786"
             ],
             [
              0.5555555555555556,
              "#d8576b"
             ],
             [
              0.6666666666666666,
              "#ed7953"
             ],
             [
              0.7777777777777778,
              "#fb9f3a"
             ],
             [
              0.8888888888888888,
              "#fdca26"
             ],
             [
              1,
              "#f0f921"
             ]
            ],
            "type": "heatmap"
           }
          ],
          "heatmapgl": [
           {
            "colorbar": {
             "outlinewidth": 0,
             "ticks": ""
            },
            "colorscale": [
             [
              0,
              "#0d0887"
             ],
             [
              0.1111111111111111,
              "#46039f"
             ],
             [
              0.2222222222222222,
              "#7201a8"
             ],
             [
              0.3333333333333333,
              "#9c179e"
             ],
             [
              0.4444444444444444,
              "#bd3786"
             ],
             [
              0.5555555555555556,
              "#d8576b"
             ],
             [
              0.6666666666666666,
              "#ed7953"
             ],
             [
              0.7777777777777778,
              "#fb9f3a"
             ],
             [
              0.8888888888888888,
              "#fdca26"
             ],
             [
              1,
              "#f0f921"
             ]
            ],
            "type": "heatmapgl"
           }
          ],
          "histogram": [
           {
            "marker": {
             "pattern": {
              "fillmode": "overlay",
              "size": 10,
              "solidity": 0.2
             }
            },
            "type": "histogram"
           }
          ],
          "histogram2d": [
           {
            "colorbar": {
             "outlinewidth": 0,
             "ticks": ""
            },
            "colorscale": [
             [
              0,
              "#0d0887"
             ],
             [
              0.1111111111111111,
              "#46039f"
             ],
             [
              0.2222222222222222,
              "#7201a8"
             ],
             [
              0.3333333333333333,
              "#9c179e"
             ],
             [
              0.4444444444444444,
              "#bd3786"
             ],
             [
              0.5555555555555556,
              "#d8576b"
             ],
             [
              0.6666666666666666,
              "#ed7953"
             ],
             [
              0.7777777777777778,
              "#fb9f3a"
             ],
             [
              0.8888888888888888,
              "#fdca26"
             ],
             [
              1,
              "#f0f921"
             ]
            ],
            "type": "histogram2d"
           }
          ],
          "histogram2dcontour": [
           {
            "colorbar": {
             "outlinewidth": 0,
             "ticks": ""
            },
            "colorscale": [
             [
              0,
              "#0d0887"
             ],
             [
              0.1111111111111111,
              "#46039f"
             ],
             [
              0.2222222222222222,
              "#7201a8"
             ],
             [
              0.3333333333333333,
              "#9c179e"
             ],
             [
              0.4444444444444444,
              "#bd3786"
             ],
             [
              0.5555555555555556,
              "#d8576b"
             ],
             [
              0.6666666666666666,
              "#ed7953"
             ],
             [
              0.7777777777777778,
              "#fb9f3a"
             ],
             [
              0.8888888888888888,
              "#fdca26"
             ],
             [
              1,
              "#f0f921"
             ]
            ],
            "type": "histogram2dcontour"
           }
          ],
          "mesh3d": [
           {
            "colorbar": {
             "outlinewidth": 0,
             "ticks": ""
            },
            "type": "mesh3d"
           }
          ],
          "parcoords": [
           {
            "line": {
             "colorbar": {
              "outlinewidth": 0,
              "ticks": ""
             }
            },
            "type": "parcoords"
           }
          ],
          "pie": [
           {
            "automargin": true,
            "type": "pie"
           }
          ],
          "scatter": [
           {
            "fillpattern": {
             "fillmode": "overlay",
             "size": 10,
             "solidity": 0.2
            },
            "type": "scatter"
           }
          ],
          "scatter3d": [
           {
            "line": {
             "colorbar": {
              "outlinewidth": 0,
              "ticks": ""
             }
            },
            "marker": {
             "colorbar": {
              "outlinewidth": 0,
              "ticks": ""
             }
            },
            "type": "scatter3d"
           }
          ],
          "scattercarpet": [
           {
            "marker": {
             "colorbar": {
              "outlinewidth": 0,
              "ticks": ""
             }
            },
            "type": "scattercarpet"
           }
          ],
          "scattergeo": [
           {
            "marker": {
             "colorbar": {
              "outlinewidth": 0,
              "ticks": ""
             }
            },
            "type": "scattergeo"
           }
          ],
          "scattergl": [
           {
            "marker": {
             "colorbar": {
              "outlinewidth": 0,
              "ticks": ""
             }
            },
            "type": "scattergl"
           }
          ],
          "scattermapbox": [
           {
            "marker": {
             "colorbar": {
              "outlinewidth": 0,
              "ticks": ""
             }
            },
            "type": "scattermapbox"
           }
          ],
          "scatterpolar": [
           {
            "marker": {
             "colorbar": {
              "outlinewidth": 0,
              "ticks": ""
             }
            },
            "type": "scatterpolar"
           }
          ],
          "scatterpolargl": [
           {
            "marker": {
             "colorbar": {
              "outlinewidth": 0,
              "ticks": ""
             }
            },
            "type": "scatterpolargl"
           }
          ],
          "scatterternary": [
           {
            "marker": {
             "colorbar": {
              "outlinewidth": 0,
              "ticks": ""
             }
            },
            "type": "scatterternary"
           }
          ],
          "surface": [
           {
            "colorbar": {
             "outlinewidth": 0,
             "ticks": ""
            },
            "colorscale": [
             [
              0,
              "#0d0887"
             ],
             [
              0.1111111111111111,
              "#46039f"
             ],
             [
              0.2222222222222222,
              "#7201a8"
             ],
             [
              0.3333333333333333,
              "#9c179e"
             ],
             [
              0.4444444444444444,
              "#bd3786"
             ],
             [
              0.5555555555555556,
              "#d8576b"
             ],
             [
              0.6666666666666666,
              "#ed7953"
             ],
             [
              0.7777777777777778,
              "#fb9f3a"
             ],
             [
              0.8888888888888888,
              "#fdca26"
             ],
             [
              1,
              "#f0f921"
             ]
            ],
            "type": "surface"
           }
          ],
          "table": [
           {
            "cells": {
             "fill": {
              "color": "#EBF0F8"
             },
             "line": {
              "color": "white"
             }
            },
            "header": {
             "fill": {
              "color": "#C8D4E3"
             },
             "line": {
              "color": "white"
             }
            },
            "type": "table"
           }
          ]
         },
         "layout": {
          "annotationdefaults": {
           "arrowcolor": "#2a3f5f",
           "arrowhead": 0,
           "arrowwidth": 1
          },
          "autotypenumbers": "strict",
          "coloraxis": {
           "colorbar": {
            "outlinewidth": 0,
            "ticks": ""
           }
          },
          "colorscale": {
           "diverging": [
            [
             0,
             "#8e0152"
            ],
            [
             0.1,
             "#c51b7d"
            ],
            [
             0.2,
             "#de77ae"
            ],
            [
             0.3,
             "#f1b6da"
            ],
            [
             0.4,
             "#fde0ef"
            ],
            [
             0.5,
             "#f7f7f7"
            ],
            [
             0.6,
             "#e6f5d0"
            ],
            [
             0.7,
             "#b8e186"
            ],
            [
             0.8,
             "#7fbc41"
            ],
            [
             0.9,
             "#4d9221"
            ],
            [
             1,
             "#276419"
            ]
           ],
           "sequential": [
            [
             0,
             "#0d0887"
            ],
            [
             0.1111111111111111,
             "#46039f"
            ],
            [
             0.2222222222222222,
             "#7201a8"
            ],
            [
             0.3333333333333333,
             "#9c179e"
            ],
            [
             0.4444444444444444,
             "#bd3786"
            ],
            [
             0.5555555555555556,
             "#d8576b"
            ],
            [
             0.6666666666666666,
             "#ed7953"
            ],
            [
             0.7777777777777778,
             "#fb9f3a"
            ],
            [
             0.8888888888888888,
             "#fdca26"
            ],
            [
             1,
             "#f0f921"
            ]
           ],
           "sequentialminus": [
            [
             0,
             "#0d0887"
            ],
            [
             0.1111111111111111,
             "#46039f"
            ],
            [
             0.2222222222222222,
             "#7201a8"
            ],
            [
             0.3333333333333333,
             "#9c179e"
            ],
            [
             0.4444444444444444,
             "#bd3786"
            ],
            [
             0.5555555555555556,
             "#d8576b"
            ],
            [
             0.6666666666666666,
             "#ed7953"
            ],
            [
             0.7777777777777778,
             "#fb9f3a"
            ],
            [
             0.8888888888888888,
             "#fdca26"
            ],
            [
             1,
             "#f0f921"
            ]
           ]
          },
          "colorway": [
           "#636efa",
           "#EF553B",
           "#00cc96",
           "#ab63fa",
           "#FFA15A",
           "#19d3f3",
           "#FF6692",
           "#B6E880",
           "#FF97FF",
           "#FECB52"
          ],
          "font": {
           "color": "#2a3f5f"
          },
          "geo": {
           "bgcolor": "white",
           "lakecolor": "white",
           "landcolor": "#E5ECF6",
           "showlakes": true,
           "showland": true,
           "subunitcolor": "white"
          },
          "hoverlabel": {
           "align": "left"
          },
          "hovermode": "closest",
          "mapbox": {
           "style": "light"
          },
          "paper_bgcolor": "white",
          "plot_bgcolor": "#E5ECF6",
          "polar": {
           "angularaxis": {
            "gridcolor": "white",
            "linecolor": "white",
            "ticks": ""
           },
           "bgcolor": "#E5ECF6",
           "radialaxis": {
            "gridcolor": "white",
            "linecolor": "white",
            "ticks": ""
           }
          },
          "scene": {
           "xaxis": {
            "backgroundcolor": "#E5ECF6",
            "gridcolor": "white",
            "gridwidth": 2,
            "linecolor": "white",
            "showbackground": true,
            "ticks": "",
            "zerolinecolor": "white"
           },
           "yaxis": {
            "backgroundcolor": "#E5ECF6",
            "gridcolor": "white",
            "gridwidth": 2,
            "linecolor": "white",
            "showbackground": true,
            "ticks": "",
            "zerolinecolor": "white"
           },
           "zaxis": {
            "backgroundcolor": "#E5ECF6",
            "gridcolor": "white",
            "gridwidth": 2,
            "linecolor": "white",
            "showbackground": true,
            "ticks": "",
            "zerolinecolor": "white"
           }
          },
          "shapedefaults": {
           "line": {
            "color": "#2a3f5f"
           }
          },
          "ternary": {
           "aaxis": {
            "gridcolor": "white",
            "linecolor": "white",
            "ticks": ""
           },
           "baxis": {
            "gridcolor": "white",
            "linecolor": "white",
            "ticks": ""
           },
           "bgcolor": "#E5ECF6",
           "caxis": {
            "gridcolor": "white",
            "linecolor": "white",
            "ticks": ""
           }
          },
          "title": {
           "x": 0.05
          },
          "xaxis": {
           "automargin": true,
           "gridcolor": "white",
           "linecolor": "white",
           "ticks": "",
           "title": {
            "standoff": 15
           },
           "zerolinecolor": "white",
           "zerolinewidth": 2
          },
          "yaxis": {
           "automargin": true,
           "gridcolor": "white",
           "linecolor": "white",
           "ticks": "",
           "title": {
            "standoff": 15
           },
           "zerolinecolor": "white",
           "zerolinewidth": 2
          }
         }
        },
        "title": {
         "text": "Pareto-front Plot"
        },
        "xaxis": {
         "title": {
          "text": "fair_metric"
         }
        },
        "yaxis": {
         "title": {
          "text": "f1_score"
         }
        }
       }
      }
     },
     "metadata": {},
     "output_type": "display_data"
    }
   ],
   "source": [
    "optuna.visualization.plot_pareto_front(results, target_names=[\"fair_metric\", \"f1_score\"], include_dominated_trials = True)"
   ]
  },
  {
   "cell_type": "code",
   "execution_count": 7,
   "metadata": {},
   "outputs": [],
   "source": [
    "#results_df.head(2)"
   ]
  },
  {
   "cell_type": "code",
   "execution_count": 8,
   "metadata": {},
   "outputs": [
    {
     "name": "stderr",
     "output_type": "stream",
     "text": [
      "/tmp/ipykernel_82947/232719886.py:1: ExperimentalWarning:\n",
      "\n",
      "plot_param_importances is experimental (supported from v2.2.0). The interface can change in the future.\n",
      "\n"
     ]
    },
    {
     "data": {
      "text/plain": [
       "<Axes: title={'center': 'Hyperparameter Importances'}, xlabel=\"Importance for ['Fair metric']\", ylabel='Hyperparameter'>"
      ]
     },
     "execution_count": 8,
     "metadata": {},
     "output_type": "execute_result"
    },
    {
     "data": {
      "image/png": "[encoded data removed]",
      "text/plain": [
       "<Figure size 640x480 with 1 Axes>"
      ]
     },
     "metadata": {},
     "output_type": "display_data"
    }
   ],
   "source": [
    "optuna.visualization.matplotlib.plot_param_importances(results, target = lambda t: t.values[0], target_name = [\"Fair metric\"])"
   ]
  },
  {
   "cell_type": "code",
   "execution_count": 9,
   "metadata": {},
   "outputs": [
    {
     "name": "stderr",
     "output_type": "stream",
     "text": [
      "/tmp/ipykernel_82947/3662930217.py:1: ExperimentalWarning:\n",
      "\n",
      "plot_param_importances is experimental (supported from v2.2.0). The interface can change in the future.\n",
      "\n"
     ]
    },
    {
     "data": {
      "text/plain": [
       "<Axes: title={'center': 'Hyperparameter Importances'}, xlabel=\"Importance for ['Model metric']\", ylabel='Hyperparameter'>"
      ]
     },
     "execution_count": 9,
     "metadata": {},
     "output_type": "execute_result"
    },
    {
     "data": {
      "image/png": "[encoded data removed]",
      "text/plain": [
       "<Figure size 640x480 with 1 Axes>"
      ]
     },
     "metadata": {},
     "output_type": "display_data"
    }
   ],
   "source": [
    "optuna.visualization.matplotlib.plot_param_importances(results, target = lambda t: t.values[1], target_name = [\"Model metric\"])"
   ]
  },
  {
   "cell_type": "code",
   "execution_count": 12,
   "metadata": {},
   "outputs": [],
   "source": [
    "import matplotlib.pyplot as plt\n",
    "results_df = results.trials_dataframe()\n",
    "\n",
    "#results_df['value'].sort_values().reset_index(drop=True).plot()\n",
    "#plt.title('Convergence plot')\n",
    "#plt.xlabel('Iteration')\n",
    "#plt.ylabel('Accuracy')"
   ]
  },
  {
   "cell_type": "code",
   "execution_count": 24,
   "metadata": {},
   "outputs": [
    {
     "data": {
      "text/plain": [
       "[0.16980866191463653, 0.702903178160778]"
      ]
     },
     "execution_count": 24,
     "metadata": {},
     "output_type": "execute_result"
    }
   ],
   "source": [
    "results.best_trials[1].values"
   ]
  },
  {
   "cell_type": "code",
   "execution_count": 25,
   "metadata": {},
   "outputs": [],
   "source": [
    "fair_metric = []\n",
    "model_metric = []\n",
    "for i in range(len(results.best_trials)):\n",
    "    best_params = {key.replace('lgbm_',''):value for key, value in results.best_trials[i].params.items()}\n",
    "    pipeline['classifier'].set_params(**best_params)\n",
    "    pipeline.fit(X_train, y_train)\n",
    "    y_pred = pipeline.predict(X_test)  \n",
    "    fair_metric.append(np.abs(demographic_parity_difference(y_test, y_pred, sensitive_features=A_test)))\n",
    "    model_metric.append(f1_score(y_test, y_pred))\n",
    "    #fair_metric\n",
    "    #print(best_params)\n",
    "    #print(results.best_trials[i].values)"
   ]
  },
  {
   "cell_type": "code",
   "execution_count": 26,
   "metadata": {},
   "outputs": [],
   "source": [
    "fair_metric_train = [results.best_trials[i].values[0] for i in range(len(results.best_trials))]\n",
    "model_metric_train = [results.best_trials[i].values[1] for i in range(len(results.best_trials))]"
   ]
  },
  {
   "cell_type": "code",
   "execution_count": 27,
   "metadata": {},
   "outputs": [
    {
     "data": {
      "text/plain": [
       "<matplotlib.collections.PathCollection at 0x7eff5f933880>"
      ]
     },
     "execution_count": 27,
     "metadata": {},
     "output_type": "execute_result"
    },
    {
     "data": {
      "image/png": "[encoded data removed]",
      "text/plain": [
       "<Figure size 640x480 with 1 Axes>"
      ]
     },
     "metadata": {},
     "output_type": "display_data"
    }
   ],
   "source": [
    "plt.scatter(fair_metric, model_metric)\n",
    "plt.scatter(fair_metric_train, model_metric_train)"
   ]
  },
  {
   "cell_type": "code",
   "execution_count": 52,
   "metadata": {},
   "outputs": [],
   "source": [
    "fairness_metrics = list(zip(fair_metric_train, fair_metric))\n",
    "fairness_metrics_ = sorted(fairness_metrics, key = lambda x: x[0])\n",
    "#fairness_metrics_"
   ]
  },
  {
   "cell_type": "code",
   "execution_count": 61,
   "metadata": {},
   "outputs": [
    {
     "data": {
      "text/plain": [
       "<matplotlib.collections.PathCollection at 0x7eff5f79c6a0>"
      ]
     },
     "execution_count": 61,
     "metadata": {},
     "output_type": "execute_result"
    },
    {
     "data": {
      "image/png": "[encoded data removed]",
      "text/plain": [
       "<Figure size 640x480 with 1 Axes>"
      ]
     },
     "metadata": {},
     "output_type": "display_data"
    }
   ],
   "source": [
    "plt.scatter(range(len(fair_metric_train)),list(zip(*fairness_metrics_))[0])\n",
    "plt.scatter(range(len(fair_metric_train)), list(zip(*fairness_metrics_))[1])"
   ]
  },
  {
   "cell_type": "code",
   "execution_count": 62,
   "metadata": {},
   "outputs": [],
   "source": [
    "model_metrics = list(zip(model_metric_train, model_metric))\n",
    "model_metrics_ = sorted(model_metrics, key = lambda x: x[0])"
   ]
  },
  {
   "cell_type": "code",
   "execution_count": 63,
   "metadata": {},
   "outputs": [
    {
     "data": {
      "text/plain": [
       "<matplotlib.collections.PathCollection at 0x7eff5f8163b0>"
      ]
     },
     "execution_count": 63,
     "metadata": {},
     "output_type": "execute_result"
    },
    {
     "data": {
      "image/png": "[encoded data removed]",
      "text/plain": [
       "<Figure size 640x480 with 1 Axes>"
      ]
     },
     "metadata": {},
     "output_type": "display_data"
    }
   ],
   "source": [
    "plt.scatter(range(len(fair_metric_train)),list(zip(*model_metrics_))[0])\n",
    "plt.scatter(range(len(fair_metric_train)), list(zip(*model_metrics_))[1])"
   ]
  },
  {
   "cell_type": "code",
   "execution_count": 28,
   "metadata": {},
   "outputs": [
    {
     "data": {
      "text/html": [
       "<style>#sk-container-id-2 {color: black;background-color: white;}#sk-container-id-2 pre{padding: 0;}#sk-container-id-2 div.sk-toggleable {background-color: white;}#sk-container-id-2 label.sk-toggleable__label {cursor: pointer;display: block;width: 100%;margin-bottom: 0;padding: 0.3em;box-sizing: border-box;text-align: center;}#sk-container-id-2 label.sk-toggleable__label-arrow:before {content: \"▸\";float: left;margin-right: 0.25em;color: #696969;}#sk-container-id-2 label.sk-toggleable__label-arrow:hover:before {color: black;}#sk-container-id-2 div.sk-estimator:hover label.sk-toggleable__label-arrow:before {color: black;}#sk-container-id-2 div.sk-toggleable__content {max-height: 0;max-width: 0;overflow: hidden;text-align: left;background-color: #f0f8ff;}#sk-container-id-2 div.sk-toggleable__content pre {margin: 0.2em;color: black;border-radius: 0.25em;background-color: #f0f8ff;}#sk-container-id-2 input.sk-toggleable__control:checked~div.sk-toggleable__content {max-height: 200px;max-width: 100%;overflow: auto;}#sk-container-id-2 input.sk-toggleable__control:checked~label.sk-toggleable__label-arrow:before {content: \"▾\";}#sk-container-id-2 div.sk-estimator input.sk-toggleable__control:checked~label.sk-toggleable__label {background-color: #d4ebff;}#sk-container-id-2 div.sk-label input.sk-toggleable__control:checked~label.sk-toggleable__label {background-color: #d4ebff;}#sk-container-id-2 input.sk-hidden--visually {border: 0;clip: rect(1px 1px 1px 1px);clip: rect(1px, 1px, 1px, 1px);height: 1px;margin: -1px;overflow: hidden;padding: 0;position: absolute;width: 1px;}#sk-container-id-2 div.sk-estimator {font-family: monospace;background-color: #f0f8ff;border: 1px dotted black;border-radius: 0.25em;box-sizing: border-box;margin-bottom: 0.5em;}#sk-container-id-2 div.sk-estimator:hover {background-color: #d4ebff;}#sk-container-id-2 div.sk-parallel-item::after {content: \"\";width: 100%;border-bottom: 1px solid gray;flex-grow: 1;}#sk-container-id-2 div.sk-label:hover label.sk-toggleable__label {background-color: #d4ebff;}#sk-container-id-2 div.sk-serial::before {content: \"\";position: absolute;border-left: 1px solid gray;box-sizing: border-box;top: 0;bottom: 0;left: 50%;z-index: 0;}#sk-container-id-2 div.sk-serial {display: flex;flex-direction: column;align-items: center;background-color: white;padding-right: 0.2em;padding-left: 0.2em;position: relative;}#sk-container-id-2 div.sk-item {position: relative;z-index: 1;}#sk-container-id-2 div.sk-parallel {display: flex;align-items: stretch;justify-content: center;background-color: white;position: relative;}#sk-container-id-2 div.sk-item::before, #sk-container-id-2 div.sk-parallel-item::before {content: \"\";position: absolute;border-left: 1px solid gray;box-sizing: border-box;top: 0;bottom: 0;left: 50%;z-index: -1;}#sk-container-id-2 div.sk-parallel-item {display: flex;flex-direction: column;z-index: 1;position: relative;background-color: white;}#sk-container-id-2 div.sk-parallel-item:first-child::after {align-self: flex-end;width: 50%;}#sk-container-id-2 div.sk-parallel-item:last-child::after {align-self: flex-start;width: 50%;}#sk-container-id-2 div.sk-parallel-item:only-child::after {width: 0;}#sk-container-id-2 div.sk-dashed-wrapped {border: 1px dashed gray;margin: 0 0.4em 0.5em 0.4em;box-sizing: border-box;padding-bottom: 0.4em;background-color: white;}#sk-container-id-2 div.sk-label label {font-family: monospace;font-weight: bold;display: inline-block;line-height: 1.2em;}#sk-container-id-2 div.sk-label-container {text-align: center;}#sk-container-id-2 div.sk-container {/* jupyter's `normalize.less` sets `[hidden] { display: none; }` but bootstrap.min.css set `[hidden] { display: none !important; }` so we also need the `!important` here to be able to override the default hidden behavior on the sphinx rendered scikit-learn.org. See: https://github.com/scikit-learn/scikit-learn/issues/21755 */display: inline-block !important;position: relative;}#sk-container-id-2 div.sk-text-repr-fallback {display: none;}</style><div id=\"sk-container-id-2\" class=\"sk-top-container\"><div class=\"sk-text-repr-fallback\"><pre>LGBMClassifier(learning_rate=0.46799607752301065, max_depth=2,\n",
       "               min_child_samples=65, n_estimators=2261, num_leaves=359)</pre><b>In a Jupyter environment, please rerun this cell to show the HTML representation or trust the notebook. <br />On GitHub, the HTML representation is unable to render, please try loading this page with nbviewer.org.</b></div><div class=\"sk-container\" hidden><div class=\"sk-item\"><div class=\"sk-estimator sk-toggleable\"><input class=\"sk-toggleable__control sk-hidden--visually\" id=\"sk-estimator-id-2\" type=\"checkbox\" checked><label for=\"sk-estimator-id-2\" class=\"sk-toggleable__label sk-toggleable__label-arrow\">LGBMClassifier</label><div class=\"sk-toggleable__content\"><pre>LGBMClassifier(learning_rate=0.46799607752301065, max_depth=2,\n",
       "               min_child_samples=65, n_estimators=2261, num_leaves=359)</pre></div></div></div></div></div>"
      ],
      "text/plain": [
       "LGBMClassifier(learning_rate=0.46799607752301065, max_depth=2,\n",
       "               min_child_samples=65, n_estimators=2261, num_leaves=359)"
      ]
     },
     "execution_count": 28,
     "metadata": {},
     "output_type": "execute_result"
    }
   ],
   "source": [
    "n = 1\n",
    "best_params = {key.replace('lgbm_',''):value for key, value in results.best_trials[n].params.items()}\n",
    "pipeline['classifier'].set_params(**best_params)"
   ]
  },
  {
   "cell_type": "code",
   "execution_count": 29,
   "metadata": {},
   "outputs": [],
   "source": [
    "pipeline.fit(X_train, y_train)\n",
    "y_pred = pipeline.predict(X_test)"
   ]
  },
  {
   "cell_type": "code",
   "execution_count": 30,
   "metadata": {},
   "outputs": [
    {
     "name": "stdout",
     "output_type": "stream",
     "text": [
      "0.08491853498663993\n",
      "0.6986259541984733\n"
     ]
    }
   ],
   "source": [
    "fair_value = np.abs(equalized_odds_difference(y_test, y_pred, sensitive_features=A_test))\n",
    "model_value = f1_score(y_test, y_pred) \n",
    "print(fair_value)\n",
    "print(model_value)"
   ]
  },
  {
   "attachments": {},
   "cell_type": "markdown",
   "metadata": {},
   "source": [
    "## Several Simulations"
   ]
  },
  {
   "cell_type": "code",
   "execution_count": 2,
   "metadata": {},
   "outputs": [],
   "source": [
    "file_name = 'f1-dpd-lgbm-motpe-succesivehalving-100trials-4sim.pkl'\n",
    "with open(file_name, 'rb') as in_strm:\n",
    "    results = dill.load(in_strm)"
   ]
  },
  {
   "cell_type": "code",
   "execution_count": 19,
   "metadata": {},
   "outputs": [
    {
     "name": "stderr",
     "output_type": "stream",
     "text": [
      "/home/azucena/miniconda3/envs/fairenv/lib/python3.10/site-packages/sklearn/datasets/_openml.py:968: FutureWarning: The default value of `parser` will change from `'liac-arff'` to `'auto'` in 1.4. You can set `parser='auto'` to silence this warning. Therefore, an `ImportError` will be raised from 1.4 if the dataset is dense and pandas is not installed. Note that the pandas parser may return different data types. See the Notes Section in fetch_openml's API doc for details.\n",
      "  warn(\n"
     ]
    }
   ],
   "source": [
    "data = fetch_adult(as_frame=True)\n",
    "X_raw = data.data\n",
    "y = (data.target == \">50K\") * 1\n",
    "A = X_raw[\"sex\"]\n",
    "\n",
    "(X_train, X_test, y_train, y_test, A_train, A_test) = train_test_split(\n",
    "    X_raw, y, A, test_size=0.8, random_state=12345, stratify=y\n",
    ")\n",
    "\n",
    "X_train = X_train.reset_index(drop=True)\n",
    "X_test = X_test.reset_index(drop=True)\n",
    "y_train = y_train.reset_index(drop=True)\n",
    "y_test = y_test.reset_index(drop=True)\n",
    "A_train = A_train.reset_index(drop=True)\n",
    "A_test = A_test.reset_index(drop=True)\n",
    "\n",
    "numeric_transformer = Pipeline(\n",
    "    steps=[\n",
    "        (\"impute\", SimpleImputer()),\n",
    "        (\"scaler\", StandardScaler()),\n",
    "    ]\n",
    ")\n",
    "categorical_transformer = Pipeline(\n",
    "    [\n",
    "        (\"impute\", SimpleImputer(strategy=\"most_frequent\")),\n",
    "        (\"ohe\", OneHotEncoder(handle_unknown=\"ignore\")),\n",
    "    ]\n",
    ")\n",
    "preprocessor = ColumnTransformer(\n",
    "    transformers=[\n",
    "        (\"num\", numeric_transformer, selector(dtype_exclude=\"category\")),\n",
    "        (\"cat\", categorical_transformer, selector(dtype_include=\"category\")),\n",
    "    ]\n",
    ")\n",
    "\n",
    "pipeline = Pipeline(\n",
    "    steps=[\n",
    "        (\"preprocessor\", preprocessor),\n",
    "        (\n",
    "            \"classifier\",\n",
    "            LGBMClassifier(n_jobs=-1),\n",
    "        ),\n",
    "    ]\n",
    ")"
   ]
  },
  {
   "cell_type": "code",
   "execution_count": 21,
   "metadata": {},
   "outputs": [],
   "source": [
    "fair_sim_u = []\n",
    "model_sim_u = []\n",
    "fair_sim = []\n",
    "model_sim = []\n",
    "res_fair_sim = []\n",
    "res_model_sim = []\n",
    "for sim_n,res in enumerate(results):\n",
    "    print(sim_n)\n",
    "    (X_train, X_test, y_train, y_test, A_train, A_test) = train_test_split(\n",
    "    X_raw, y, A, test_size=0.8, stratify=y, random_state=sim_n\n",
    "    )\n",
    "\n",
    "    X_train = X_train.reset_index(drop=True)\n",
    "    X_test = X_test.reset_index(drop=True)\n",
    "    y_train = y_train.reset_index(drop=True)\n",
    "    y_test = y_test.reset_index(drop=True)\n",
    "    A_train = A_train.reset_index(drop=True)\n",
    "    A_test = A_test.reset_index(drop=True)\n",
    "\n",
    "    pipeline.steps.pop(1)\n",
    "    pipeline.steps.insert(1,('classifier',LGBMClassifier(n_jobs=-1)))\n",
    "    pipeline.fit(X_train, y_train)\n",
    "    y_pred = pipeline.predict(X_test)\n",
    "    fair_sim_u.append((np.abs(demographic_parity_difference(y_test, y_pred, sensitive_features=A_test))))\n",
    "    model_sim_u.append(f1_score(y_test, y_pred))\n",
    "\n",
    "    fair_value = []\n",
    "    model_value = []\n",
    "    res_fair_value = []\n",
    "    res_model_value = []\n",
    "    for i in range(len(res.best_trials)):\n",
    "        best_params = {key.replace('lgbm_',''):value for key, value in res.best_trials[i].params.items()}\n",
    "        pipeline['classifier'].set_params(**best_params)\n",
    "        pipeline.fit(X_train, y_train)\n",
    "        y_pred = pipeline.predict(X_test)  \n",
    "        res_fair_value.append(res.best_trials[i].values[0])\n",
    "        res_model_value.append(res.best_trials[i].values[1])\n",
    "        fair_value.append(np.abs(demographic_parity_difference(y_test, y_pred, sensitive_features=A_test)))\n",
    "        model_value.append(f1_score(y_test, y_pred))\n",
    "\n",
    "    res_fair_sim.append(res_fair_value)\n",
    "    res_model_sim.append(res_model_value)\n",
    "    fair_sim.append(fair_value)\n",
    "    model_sim.append(model_value)\n"
   ]
  },
  {
   "cell_type": "code",
   "execution_count": null,
   "metadata": {},
   "outputs": [],
   "source": [
    "fairness_metrics = list(zip(fair_metric_train, fair_metric))\n",
    "fairness_metrics_ = sorted(fairness_metrics, key = lambda x: x[0])"
   ]
  },
  {
   "cell_type": "code",
   "execution_count": null,
   "metadata": {},
   "outputs": [],
   "source": [
    "fair_metric_train = [results.best_trials[i].values[0] for i in range(len(res.best_trials)) for res in results]\n",
    "model_metric_train = [results.best_trials[i].values[1] for i in range(len(res.best_trials)) for res in results]"
   ]
  },
  {
   "cell_type": "code",
   "execution_count": null,
   "metadata": {},
   "outputs": [],
   "source": [
    "rows = 2\n",
    "cols = 2\n",
    "fig, axes = plt.subplots(rows, cols, figsize=(10,10))\n",
    "for i,ax in zip(range(len(fair_sim)),axes.ravel()):\n",
    "    order = results[i].F[:,0].argsort()\n",
    "    ax.scatter(range(len(fair_sim[i])), results[i].F[order,0])\n",
    "    #ax.scatter(fair_sim[i], model_sim[i])\n",
    "    #ax.scatter(fair_sim_u[i], model_sim_u[i])"
   ]
  }
 ],
 "metadata": {
  "kernelspec": {
   "display_name": "fairenv",
   "language": "python",
   "name": "python3"
  },
  "language_info": {
   "codemirror_mode": {
    "name": "ipython",
    "version": 3
   },
   "file_extension": ".py",
   "mimetype": "text/x-python",
   "name": "python",
   "nbconvert_exporter": "python",
   "pygments_lexer": "ipython3",
   "version": "3.10.10"
  },
  "orig_nbformat": 4
 },
 "nbformat": 4,
 "nbformat_minor": 2
}
