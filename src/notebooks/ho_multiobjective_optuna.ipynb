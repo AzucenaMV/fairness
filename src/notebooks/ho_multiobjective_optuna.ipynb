{
 "cells": [
  {
   "cell_type": "code",
   "execution_count": null,
   "metadata": {},
   "outputs": [],
   "source": [
    "#! pip install fairlearn\n",
    "#! pip install lightgbm\n",
    "#! pip install optuna"
   ]
  },
  {
   "cell_type": "code",
   "execution_count": 1,
   "metadata": {},
   "outputs": [
    {
     "name": "stderr",
     "output_type": "stream",
     "text": [
      "/home/azucena/miniconda3/envs/fairenv/lib/python3.10/site-packages/tqdm/auto.py:21: TqdmWarning: IProgress not found. Please update jupyter and ipywidgets. See https://ipywidgets.readthedocs.io/en/stable/user_install.html\n",
      "  from .autonotebook import tqdm as notebook_tqdm\n"
     ]
    }
   ],
   "source": [
    "from sklearn.metrics import f1_score, confusion_matrix, make_scorer, accuracy_score\n",
    "from sklearn.model_selection import cross_val_score, train_test_split, cross_validate\n",
    "from fairlearn.metrics import (\n",
    "    count,\n",
    "    selection_rate,\n",
    "    MetricFrame,\n",
    "    equalized_odds_difference,\n",
    "    false_positive_rate,\n",
    "    false_negative_rate,\n",
    "    true_negative_rate,\n",
    "    true_positive_rate,\n",
    "    demographic_parity_difference\n",
    ")\n",
    "\n",
    "from fairlearn.datasets import fetch_adult\n",
    "from sklearn.pipeline import Pipeline\n",
    "from sklearn.preprocessing import OneHotEncoder, StandardScaler\n",
    "from sklearn.compose import ColumnTransformer\n",
    "from sklearn.compose import make_column_selector as selector\n",
    "from sklearn.impute import SimpleImputer\n",
    "from sklearn.ensemble import RandomForestClassifier\n",
    "from lightgbm import LGBMClassifier\n",
    "\n",
    "import numpy as np\n",
    "import optuna\n",
    "import tqdm as notebook_tqdm"
   ]
  },
  {
   "cell_type": "code",
   "execution_count": 2,
   "metadata": {},
   "outputs": [
    {
     "name": "stderr",
     "output_type": "stream",
     "text": [
      "/home/azucena/miniconda3/envs/fairenv/lib/python3.10/site-packages/sklearn/datasets/_openml.py:968: FutureWarning: The default value of `parser` will change from `'liac-arff'` to `'auto'` in 1.4. You can set `parser='auto'` to silence this warning. Therefore, an `ImportError` will be raised from 1.4 if the dataset is dense and pandas is not installed. Note that the pandas parser may return different data types. See the Notes Section in fetch_openml's API doc for details.\n",
      "  warn(\n"
     ]
    }
   ],
   "source": [
    "data = fetch_adult(as_frame=True)\n",
    "X_raw = data.data\n",
    "y = (data.target == \">50K\") * 1\n",
    "A = X_raw[\"sex\"]\n",
    "\n",
    "numeric_transformer = Pipeline(\n",
    "    steps=[\n",
    "        (\"impute\", SimpleImputer()),\n",
    "        (\"scaler\", StandardScaler()),\n",
    "    ]\n",
    ")\n",
    "categorical_transformer = Pipeline(\n",
    "    [\n",
    "        (\"impute\", SimpleImputer(strategy=\"most_frequent\")),\n",
    "        (\"ohe\", OneHotEncoder(handle_unknown=\"ignore\")),\n",
    "    ]\n",
    ")\n",
    "preprocessor = ColumnTransformer(\n",
    "    transformers=[\n",
    "        (\"num\", numeric_transformer, selector(dtype_exclude=\"category\")),\n",
    "        (\"cat\", categorical_transformer, selector(dtype_include=\"category\")),\n",
    "    ]\n",
    ")\n",
    "\n",
    "pipeline = Pipeline(\n",
    "    steps=[\n",
    "        (\"preprocessor\", preprocessor),\n",
    "        (\n",
    "            \"classifier\",\n",
    "            LGBMClassifier(n_jobs=-1),\n",
    "        ),\n",
    "    ]\n",
    ")"
   ]
  },
  {
   "cell_type": "code",
   "execution_count": 3,
   "metadata": {},
   "outputs": [],
   "source": [
    "def metric_scorer(clf, X, y):\n",
    "    y_pred = clf.predict(X)\n",
    "    f1 = f1_score(y,y_pred)\n",
    "    abs_eod = np.abs(equalized_odds_difference(y, y_pred, sensitive_features=X['sex']))\n",
    "    return {'f1_score': f1, 'eod': abs_eod}\n",
    "\n",
    "def metric_scorer_v2(clf, X, y):\n",
    "    y_pred = clf.predict(X)\n",
    "    error = 1 - accuracy_score(y, y_pred)\n",
    "    abs_dpd = np.abs(demographic_parity_difference(y, y_pred, sensitive_features=X['sex']))\n",
    "    return {'error': error, 'dpd': abs_dpd}\n",
    "\n",
    "def metric_scorer_v3(clf, X, y):\n",
    "    y_pred = clf.predict(X)\n",
    "    f1 = f1_score(y,y_pred)\n",
    "    abs_dpd = np.abs(demographic_parity_difference(y, y_pred, sensitive_features=X['sex']))\n",
    "    return {'f1_score': f1, 'dpd': abs_dpd}\n",
    "\n",
    "def equality_opportunity_difference(y_true, y_pred, sensitive_features):\n",
    "    return MetricFrame(metrics=true_positive_rate, y_true=y_true, y_pred=y_pred, sensitive_features=sensitive_features).difference()\n",
    "\n",
    "def predictive_equality_difference(y_true, y_pred, sensitive_features):\n",
    "    return MetricFrame(metrics=false_positive_rate, y_true=y_true, y_pred=y_pred, sensitive_features=sensitive_features).difference()\n",
    "\n",
    "def metric_scorer_v4(clf, X, y):\n",
    "    y_pred = clf.predict(X)\n",
    "    f1 = f1_score(y,y_pred)\n",
    "    abs_fpr = np.abs(predictive_equality_difference(y_true=y, y_pred=y_pred, sensitive_features=X['sex']))\n",
    "    #abs_dpd = np.abs(demographic_parity_difference(y, y_pred, sensitive_features=X['sex']))\n",
    "    return {'f1_score': f1, 'fpr': abs_fpr}\n"
   ]
  },
  {
   "cell_type": "code",
   "execution_count": 4,
   "metadata": {},
   "outputs": [],
   "source": [
    "#from fairlearn.metrics import equalized_odds_difference\n",
    "#import numpy as np\n",
    "\n",
    "#pipeline.fit(X_train, y_train)\n",
    "#y_pred = pipeline.predict(X_test)\n",
    "#fair_value = np.abs(equalized_odds_difference(y_test, y_pred, sensitive_features=A_test))\n",
    "#fair_value = np.abs(demographic_parity_difference(y_test, y_pred, sensitive_features=A_test))\n",
    "#fair_value = np.abs(equality_opportunity_difference(y_test, y_pred, sensitive_features=A_test))\n",
    "#model_value = f1_score(y_test, y_pred) \n",
    "\n",
    "#print(fair_value)\n",
    "#print(model_value)"
   ]
  },
  {
   "cell_type": "code",
   "execution_count": 5,
   "metadata": {},
   "outputs": [
    {
     "name": "stderr",
     "output_type": "stream",
     "text": [
      "\u001b[32m[I 2023-05-11 12:22:01,300]\u001b[0m A new study created in memory with name: no-name-6a36dc79-1d70-4c70-9a2f-03dcbc8fbc79\u001b[0m\n"
     ]
    },
    {
     "name": "stdout",
     "output_type": "stream",
     "text": [
      "0\n"
     ]
    },
    {
     "name": "stderr",
     "output_type": "stream",
     "text": [
      "\u001b[32m[I 2023-05-11 12:23:37,778]\u001b[0m Trial 0 finished with values: [0.08548083962794836, 0.6429635723912897] and parameters: {'n_estimators': 9838, 'num_leaves': 160, 'max_depth': 6, 'min_child_samples': 228, 'learning_rate': 0.004308675069178398, 'boosting_type': 'goss'}. \u001b[0m\n",
      "\u001b[32m[I 2023-05-11 12:27:35,492]\u001b[0m Trial 1 finished with values: [0.08140788814787991, 0.6634730627929645] and parameters: {'n_estimators': 6130, 'num_leaves': 532, 'max_depth': 17, 'min_child_samples': 19, 'learning_rate': 0.004613049434615698, 'boosting_type': 'goss'}. \u001b[0m\n",
      "\u001b[32m[I 2023-05-11 12:28:01,322]\u001b[0m Trial 2 finished with values: [0.05578360152305657, 0.6701979225309641] and parameters: {'n_estimators': 5897, 'num_leaves': 657, 'max_depth': 2, 'min_child_samples': 60, 'learning_rate': 0.0034025667912306904, 'boosting_type': 'gbdt'}. \u001b[0m\n",
      "\u001b[32m[I 2023-05-11 12:30:44,181]\u001b[0m Trial 3 finished with values: [0.06347817935614783, 0.6899876385452595] and parameters: {'n_estimators': 8100, 'num_leaves': 479, 'max_depth': 9, 'min_child_samples': 92, 'learning_rate': 0.0019473202436887428, 'boosting_type': 'gbdt'}. \u001b[0m\n",
      "\u001b[32m[I 2023-05-11 12:32:32,499]\u001b[0m Trial 4 finished with values: [0.08006275501071153, 0.6581551593621027] and parameters: {'n_estimators': 7885, 'num_leaves': 134, 'max_depth': 12, 'min_child_samples': 163, 'learning_rate': 0.0035037827102678775, 'boosting_type': 'goss'}. \u001b[0m\n",
      "\u001b[32m[I 2023-05-11 12:33:38,123]\u001b[0m Trial 5 finished with values: [0.08727610406522761, 0.63223470152976] and parameters: {'n_estimators': 7559, 'num_leaves': 24, 'max_depth': 11, 'min_child_samples': 259, 'learning_rate': 0.007722501024168162, 'boosting_type': 'goss'}. \u001b[0m\n",
      "\u001b[32m[I 2023-05-11 12:33:51,347]\u001b[0m Trial 6 finished with values: [0.04262265478847506, 0.5913091372004018] and parameters: {'n_estimators': 919, 'num_leaves': 383, 'max_depth': 19, 'min_child_samples': 186, 'learning_rate': 0.0015889099598325994, 'boosting_type': 'goss'}. \u001b[0m\n",
      "\u001b[32m[I 2023-05-11 12:35:51,214]\u001b[0m Trial 7 finished with values: [0.08009384264471303, 0.67311747779986] and parameters: {'n_estimators': 9777, 'num_leaves': 102, 'max_depth': 7, 'min_child_samples': 99, 'learning_rate': 0.009033712659095531, 'boosting_type': 'gbdt'}. \u001b[0m\n",
      "\u001b[32m[I 2023-05-11 12:39:21,543]\u001b[0m Trial 8 finished with values: [0.08626426504340005, 0.6622805195481881] and parameters: {'n_estimators': 6227, 'num_leaves': 126, 'max_depth': 13, 'min_child_samples': 16, 'learning_rate': 0.008849845295928669, 'boosting_type': 'goss'}. \u001b[0m\n",
      "\u001b[32m[I 2023-05-11 12:40:35,308]\u001b[0m Trial 9 finished with values: [0.07861003759154875, 0.6723362334678182] and parameters: {'n_estimators': 4189, 'num_leaves': 546, 'max_depth': 15, 'min_child_samples': 116, 'learning_rate': 0.008186434791312092, 'boosting_type': 'gbdt'}. \u001b[0m\n",
      "\u001b[32m[I 2023-05-11 12:40:44,910]\u001b[0m Trial 10 finished with values: [0.05251685910405805, 0.5971634334418409] and parameters: {'n_estimators': 3135, 'num_leaves': 870, 'max_depth': 2, 'min_child_samples': 55, 'learning_rate': 0.0007530215606592902, 'boosting_type': 'gbdt'}. \u001b[0m\n",
      "\u001b[32m[I 2023-05-11 12:40:47,246]\u001b[0m Trial 11 finished with values: [0.0, 0.0] and parameters: {'n_estimators': 86, 'num_leaves': 389, 'max_depth': 20, 'min_child_samples': 181, 'learning_rate': 3.589394616242375e-05, 'boosting_type': 'goss'}. \u001b[0m\n",
      "\u001b[32m[I 2023-05-11 12:41:06,883]\u001b[0m Trial 12 finished with values: [0.06050288918781379, 0.655958767893418] and parameters: {'n_estimators': 1355, 'num_leaves': 748, 'max_depth': 20, 'min_child_samples': 207, 'learning_rate': 0.0022924124089867, 'boosting_type': 'gbdt'}. \u001b[0m\n",
      "\u001b[32m[I 2023-05-11 12:41:20,224]\u001b[0m Trial 13 finished with values: [0.0812571901936876, 0.6135371240825785] and parameters: {'n_estimators': 2591, 'num_leaves': 339, 'max_depth': 2, 'min_child_samples': 295, 'learning_rate': 0.006164540871323477, 'boosting_type': 'goss'}. \u001b[0m\n",
      "\u001b[32m[I 2023-05-11 12:42:52,117]\u001b[0m Trial 14 finished with values: [0.06614507267524342, 0.6847635716445831] and parameters: {'n_estimators': 4751, 'num_leaves': 707, 'max_depth': 17, 'min_child_samples': 137, 'learning_rate': 0.0025016361767441634, 'boosting_type': 'gbdt'}. \u001b[0m\n",
      "\u001b[32m[I 2023-05-11 12:42:57,966]\u001b[0m Trial 15 finished with values: [0.007054332817633874, 0.36593586071171225] and parameters: {'n_estimators': 501, 'num_leaves': 316, 'max_depth': 6, 'min_child_samples': 193, 'learning_rate': 0.0013962252936795595, 'boosting_type': 'goss'}. \u001b[0m\n",
      "\u001b[32m[I 2023-05-11 12:42:59,598]\u001b[0m Trial 16 finished with values: [0.0, 0.0] and parameters: {'n_estimators': 61, 'num_leaves': 296, 'max_depth': 5, 'min_child_samples': 205, 'learning_rate': 0.0008134433028276359, 'boosting_type': 'goss'}. \u001b[0m\n",
      "\u001b[32m[I 2023-05-11 12:43:15,657]\u001b[0m Trial 17 finished with values: [0.07007204994549736, 0.5928855301127195] and parameters: {'n_estimators': 1784, 'num_leaves': 256, 'max_depth': 9, 'min_child_samples': 253, 'learning_rate': 0.0013789364764026277, 'boosting_type': 'goss'}. \u001b[0m\n",
      "\u001b[32m[I 2023-05-11 12:43:29,448]\u001b[0m Trial 18 finished with values: [0.07555736730635344, 0.6523656556974792] and parameters: {'n_estimators': 1300, 'num_leaves': 997, 'max_depth': 9, 'min_child_samples': 165, 'learning_rate': 0.005592475789177006, 'boosting_type': 'goss'}. \u001b[0m\n",
      "\u001b[32m[I 2023-05-11 12:43:53,077]\u001b[0m Trial 19 finished with values: [0.0016427548937529644, 0.2948436396020332] and parameters: {'n_estimators': 2592, 'num_leaves': 435, 'max_depth': 4, 'min_child_samples': 141, 'learning_rate': 0.00026312857085819975, 'boosting_type': 'goss'}. \u001b[0m\n",
      "\u001b[32m[I 2023-05-11 12:44:26,121]\u001b[0m Trial 20 finished with values: [0.07936145292387368, 0.6437271110298359] and parameters: {'n_estimators': 3756, 'num_leaves': 238, 'max_depth': 14, 'min_child_samples': 201, 'learning_rate': 0.001548681925099805, 'boosting_type': 'goss'}. \u001b[0m\n",
      "\u001b[32m[I 2023-05-11 12:44:40,252]\u001b[0m Trial 21 finished with values: [0.0, 0.0] and parameters: {'n_estimators': 2128, 'num_leaves': 434, 'max_depth': 4, 'min_child_samples': 233, 'learning_rate': 0.00019800908587286532, 'boosting_type': 'goss'}. \u001b[0m\n",
      "\u001b[32m[I 2023-05-11 12:44:47,768]\u001b[0m Trial 22 finished with values: [0.0710845587945735, 0.6608980359750642] and parameters: {'n_estimators': 728, 'num_leaves': 617, 'max_depth': 7, 'min_child_samples': 138, 'learning_rate': 0.009967834993914949, 'boosting_type': 'goss'}. \u001b[0m\n",
      "\u001b[32m[I 2023-05-11 12:44:53,631]\u001b[0m Trial 23 finished with values: [0.05753544804553305, 0.616018497717897] and parameters: {'n_estimators': 820, 'num_leaves': 399, 'max_depth': 4, 'min_child_samples': 187, 'learning_rate': 0.0030896909674272004, 'boosting_type': 'goss'}. \u001b[0m\n",
      "\u001b[32m[I 2023-05-11 12:45:14,186]\u001b[0m Trial 24 finished with values: [0.0790121421853797, 0.6003557619075792] and parameters: {'n_estimators': 2716, 'num_leaves': 202, 'max_depth': 10, 'min_child_samples': 297, 'learning_rate': 0.001151931776162127, 'boosting_type': 'goss'}. \u001b[0m\n",
      "\u001b[32m[I 2023-05-11 12:45:20,950]\u001b[0m Trial 25 finished with values: [0.048746997109270315, 0.5686139704853608] and parameters: {'n_estimators': 676, 'num_leaves': 319, 'max_depth': 17, 'min_child_samples': 264, 'learning_rate': 0.002252923003306229, 'boosting_type': 'goss'}. \u001b[0m\n",
      "\u001b[32m[I 2023-05-11 12:45:35,298]\u001b[0m Trial 26 finished with values: [0.07466983860627834, 0.6493395758632637] and parameters: {'n_estimators': 1714, 'num_leaves': 353, 'max_depth': 7, 'min_child_samples': 144, 'learning_rate': 0.002790932479953443, 'boosting_type': 'goss'}. \u001b[0m\n",
      "\u001b[32m[I 2023-05-11 12:45:54,761]\u001b[0m Trial 27 finished with values: [0.07842536227150547, 0.6314693180048334] and parameters: {'n_estimators': 3486, 'num_leaves': 463, 'max_depth': 4, 'min_child_samples': 227, 'learning_rate': 0.0017184535038381557, 'boosting_type': 'goss'}. \u001b[0m\n",
      "\u001b[32m[I 2023-05-11 12:46:17,749]\u001b[0m Trial 28 finished with values: [0.042845371937695546, 0.5915022448863934] and parameters: {'n_estimators': 2222, 'num_leaves': 48, 'max_depth': 8, 'min_child_samples': 183, 'learning_rate': 0.0006678719128143003, 'boosting_type': 'goss'}. \u001b[0m\n",
      "\u001b[32m[I 2023-05-11 12:46:22,932]\u001b[0m Trial 29 finished with values: [0.048311445482965, 0.6358914271724627] and parameters: {'n_estimators': 747, 'num_leaves': 193, 'max_depth': 5, 'min_child_samples': 229, 'learning_rate': 0.0038616185892190492, 'boosting_type': 'gbdt'}. \u001b[0m\n",
      "\u001b[32m[I 2023-05-11 12:46:25,071]\u001b[0m Trial 30 finished with values: [0.0, 0.0] and parameters: {'n_estimators': 68, 'num_leaves': 789, 'max_depth': 15, 'min_child_samples': 120, 'learning_rate': 0.004342933738889162, 'boosting_type': 'goss'}. \u001b[0m\n",
      "\u001b[32m[I 2023-05-11 12:46:41,723]\u001b[0m Trial 31 finished with values: [0.06226102869252761, 0.6668784504917081] and parameters: {'n_estimators': 1166, 'num_leaves': 551, 'max_depth': 19, 'min_child_samples': 162, 'learning_rate': 0.0033619248230193337, 'boosting_type': 'gbdt'}. \u001b[0m\n",
      "\u001b[32m[I 2023-05-11 12:48:02,832]\u001b[0m Trial 32 finished with values: [0.07244753158588021, 0.6727647458778201] and parameters: {'n_estimators': 5948, 'num_leaves': 672, 'max_depth': 12, 'min_child_samples': 61, 'learning_rate': 0.002697438329663713, 'boosting_type': 'goss'}. \u001b[0m\n",
      "\u001b[32m[I 2023-05-11 12:48:19,019]\u001b[0m Trial 33 finished with values: [0.06827209774987344, 0.6326161947830219] and parameters: {'n_estimators': 1691, 'num_leaves': 599, 'max_depth': 18, 'min_child_samples': 196, 'learning_rate': 0.001674520844644414, 'boosting_type': 'goss'}. \u001b[0m\n",
      "\u001b[32m[I 2023-05-11 12:52:02,776]\u001b[0m Trial 34 finished with values: [0.07524961266052568, 0.6764745599049345] and parameters: {'n_estimators': 9145, 'num_leaves': 489, 'max_depth': 16, 'min_child_samples': 49, 'learning_rate': 0.0020507500244267866, 'boosting_type': 'gbdt'}. \u001b[0m\n",
      "\u001b[32m[I 2023-05-11 12:52:22,883]\u001b[0m Trial 35 finished with values: [0.07716504218049894, 0.6523906764265549] and parameters: {'n_estimators': 2685, 'num_leaves': 276, 'max_depth': 11, 'min_child_samples': 174, 'learning_rate': 0.003775893579609294, 'boosting_type': 'goss'}. \u001b[0m\n",
      "\u001b[32m[I 2023-05-11 12:52:56,227]\u001b[0m Trial 36 finished with values: [0.06297468945912779, 0.661385735471463] and parameters: {'n_estimators': 6655, 'num_leaves': 408, 'max_depth': 3, 'min_child_samples': 81, 'learning_rate': 0.0011409598766629755, 'boosting_type': 'goss'}. \u001b[0m\n",
      "\u001b[32m[I 2023-05-11 12:53:00,863]\u001b[0m Trial 37 finished with values: [0.04318048423196176, 0.5674645329698771] and parameters: {'n_estimators': 504, 'num_leaves': 366, 'max_depth': 6, 'min_child_samples': 217, 'learning_rate': 0.0029719522873851495, 'boosting_type': 'goss'}. \u001b[0m\n",
      "\u001b[32m[I 2023-05-11 12:54:01,132]\u001b[0m Trial 38 finished with values: [0.06904431773040343, 0.6685271923349616] and parameters: {'n_estimators': 5376, 'num_leaves': 502, 'max_depth': 13, 'min_child_samples': 249, 'learning_rate': 0.002009315241623346, 'boosting_type': 'gbdt'}. \u001b[0m\n",
      "\u001b[32m[I 2023-05-11 12:54:13,306]\u001b[0m Trial 39 finished with values: [0.07229678949296983, 0.6603342104488539] and parameters: {'n_estimators': 1098, 'num_leaves': 158, 'max_depth': 18, 'min_child_samples': 122, 'learning_rate': 0.004105798007276719, 'boosting_type': 'goss'}. \u001b[0m\n",
      "\u001b[32m[I 2023-05-11 12:56:09,254]\u001b[0m Trial 40 finished with values: [0.07584388354234504, 0.667661286636684] and parameters: {'n_estimators': 7286, 'num_leaves': 218, 'max_depth': 10, 'min_child_samples': 31, 'learning_rate': 0.004858511980926074, 'boosting_type': 'gbdt'}. \u001b[0m\n",
      "\u001b[32m[I 2023-05-11 12:56:55,742]\u001b[0m Trial 41 finished with values: [0.06592509767944241, 0.6860472355360164] and parameters: {'n_estimators': 8594, 'num_leaves': 183, 'max_depth': 6, 'min_child_samples': 227, 'learning_rate': 0.0037628048515375677, 'boosting_type': 'gbdt'}. \u001b[0m\n",
      "\u001b[32m[I 2023-05-11 12:57:02,052]\u001b[0m Trial 42 finished with values: [0.047852741332707664, 0.6646804270702986] and parameters: {'n_estimators': 720, 'num_leaves': 110, 'max_depth': 5, 'min_child_samples': 6, 'learning_rate': 0.006951265043160054, 'boosting_type': 'gbdt'}. \u001b[0m\n",
      "\u001b[32m[I 2023-05-11 12:57:21,468]\u001b[0m Trial 43 finished with values: [0.058744765482414585, 0.6901672891252686] and parameters: {'n_estimators': 2140, 'num_leaves': 306, 'max_depth': 8, 'min_child_samples': 89, 'learning_rate': 0.006238173192532781, 'boosting_type': 'gbdt'}. \u001b[0m\n",
      "\u001b[32m[I 2023-05-11 12:57:39,559]\u001b[0m Trial 44 finished with values: [0.06067108436219539, 0.6904258726868965] and parameters: {'n_estimators': 2142, 'num_leaves': 51, 'max_depth': 8, 'min_child_samples': 100, 'learning_rate': 0.0059521192976804, 'boosting_type': 'gbdt'}. \u001b[0m\n",
      "\u001b[32m[I 2023-05-11 12:57:41,867]\u001b[0m Trial 45 finished with values: [0.04040686136509382, 0.6086817913987569] and parameters: {'n_estimators': 219, 'num_leaves': 301, 'max_depth': 5, 'min_child_samples': 152, 'learning_rate': 0.007637487965958129, 'boosting_type': 'gbdt'}. \u001b[0m\n",
      "\u001b[32m[I 2023-05-11 12:57:45,421]\u001b[0m Trial 46 finished with values: [0.04623171107697041, 0.638314976886633] and parameters: {'n_estimators': 439, 'num_leaves': 83, 'max_depth': 5, 'min_child_samples': 155, 'learning_rate': 0.006883829338120924, 'boosting_type': 'gbdt'}. \u001b[0m\n",
      "\u001b[32m[I 2023-05-11 12:57:47,529]\u001b[0m Trial 47 finished with values: [0.04719849763951353, 0.6025432150333668] and parameters: {'n_estimators': 306, 'num_leaves': 302, 'max_depth': 3, 'min_child_samples': 148, 'learning_rate': 0.007243811043801196, 'boosting_type': 'gbdt'}. \u001b[0m\n",
      "\u001b[32m[I 2023-05-11 12:58:05,268]\u001b[0m Trial 48 finished with values: [0.05752473033352871, 0.6850642294569694] and parameters: {'n_estimators': 1342, 'num_leaves': 127, 'max_depth': 7, 'min_child_samples': 9, 'learning_rate': 0.005195845259278803, 'boosting_type': 'gbdt'}. \u001b[0m\n",
      "\u001b[32m[I 2023-05-11 12:58:06,435]\u001b[0m Trial 49 finished with values: [0.0, 0.0] and parameters: {'n_estimators': 28, 'num_leaves': 247, 'max_depth': 3, 'min_child_samples': 131, 'learning_rate': 0.0065588516485046225, 'boosting_type': 'gbdt'}. \u001b[0m\n",
      "\u001b[32m[I 2023-05-11 12:58:17,201]\u001b[0m Trial 50 finished with values: [0.060412068796859245, 0.6900473419964264] and parameters: {'n_estimators': 1607, 'num_leaves': 984, 'max_depth': 6, 'min_child_samples': 107, 'learning_rate': 0.007841411208680756, 'boosting_type': 'gbdt'}. \u001b[0m\n",
      "\u001b[32m[I 2023-05-11 12:58:20,777]\u001b[0m Trial 51 finished with values: [0.04496397953760488, 0.6217142928359451] and parameters: {'n_estimators': 442, 'num_leaves': 333, 'max_depth': 5, 'min_child_samples': 160, 'learning_rate': 0.004731776129884872, 'boosting_type': 'gbdt'}. \u001b[0m\n",
      "\u001b[32m[I 2023-05-11 12:59:12,338]\u001b[0m Trial 52 finished with values: [0.07050944830123429, 0.6929341005408591] and parameters: {'n_estimators': 9979, 'num_leaves': 448, 'max_depth': 5, 'min_child_samples': 174, 'learning_rate': 0.006845982885325395, 'boosting_type': 'gbdt'}. \u001b[0m\n",
      "\u001b[32m[I 2023-05-11 12:59:50,579]\u001b[0m Trial 53 finished with values: [0.06634310107635447, 0.6876807408170842] and parameters: {'n_estimators': 4471, 'num_leaves': 88, 'max_depth': 8, 'min_child_samples': 84, 'learning_rate': 0.0052202589053304774, 'boosting_type': 'gbdt'}. \u001b[0m\n",
      "\u001b[32m[I 2023-05-11 12:59:55,794]\u001b[0m Trial 54 finished with values: [0.05310271815966076, 0.6403561903512103] and parameters: {'n_estimators': 1045, 'num_leaves': 924, 'max_depth': 4, 'min_child_samples': 274, 'learning_rate': 0.004392333443058544, 'boosting_type': 'gbdt'}. \u001b[0m\n",
      "\u001b[32m[I 2023-05-11 12:59:59,735]\u001b[0m Trial 55 finished with values: [0.0, 0.0] and parameters: {'n_estimators': 389, 'num_leaves': 288, 'max_depth': 6, 'min_child_samples': 214, 'learning_rate': 0.0004343840306048121, 'boosting_type': 'goss'}. \u001b[0m\n",
      "\u001b[32m[I 2023-05-11 13:00:13,545]\u001b[0m Trial 56 finished with values: [0.06724269233336325, 0.6169269105939219] and parameters: {'n_estimators': 3140, 'num_leaves': 426, 'max_depth': 2, 'min_child_samples': 191, 'learning_rate': 0.0023530418786685482, 'boosting_type': 'goss'}. \u001b[0m\n",
      "\u001b[32m[I 2023-05-11 13:00:20,949]\u001b[0m Trial 57 finished with values: [0.0, 0.0] and parameters: {'n_estimators': 757, 'num_leaves': 804, 'max_depth': 7, 'min_child_samples': 151, 'learning_rate': 0.000309583796247065, 'boosting_type': 'gbdt'}. \u001b[0m\n",
      "\u001b[32m[I 2023-05-11 13:00:30,895]\u001b[0m Trial 58 finished with values: [0.07113490192574977, 0.6516581241163591] and parameters: {'n_estimators': 1497, 'num_leaves': 263, 'max_depth': 5, 'min_child_samples': 174, 'learning_rate': 0.00858109966703161, 'boosting_type': 'goss'}. \u001b[0m\n",
      "\u001b[32m[I 2023-05-11 13:01:05,907]\u001b[0m Trial 59 finished with values: [0.08651749130848338, 0.6343816985637432] and parameters: {'n_estimators': 5309, 'num_leaves': 530, 'max_depth': 9, 'min_child_samples': 242, 'learning_rate': 0.0031914168842187836, 'boosting_type': 'goss'}. \u001b[0m\n",
      "\u001b[32m[I 2023-05-11 13:01:17,258]\u001b[0m Trial 60 finished with values: [0.0, 0.0] and parameters: {'n_estimators': 2167, 'num_leaves': 376, 'max_depth': 4, 'min_child_samples': 213, 'learning_rate': 5.436626465295789e-05, 'boosting_type': 'gbdt'}. \u001b[0m\n",
      "\u001b[32m[I 2023-05-11 13:01:33,037]\u001b[0m Trial 61 finished with values: [0.05945519808099965, 0.6847928272845013] and parameters: {'n_estimators': 1175, 'num_leaves': 104, 'max_depth': 7, 'min_child_samples': 9, 'learning_rate': 0.005489910256374176, 'boosting_type': 'goss'}. \u001b[0m\n",
      "\u001b[32m[I 2023-05-11 13:01:37,643]\u001b[0m Trial 62 finished with values: [0.001323015329008888, 0.3190372334412686] and parameters: {'n_estimators': 552, 'num_leaves': 166, 'max_depth': 5, 'min_child_samples': 34, 'learning_rate': 0.000900703935661511, 'boosting_type': 'gbdt'}. \u001b[0m\n",
      "\u001b[32m[I 2023-05-11 13:01:40,786]\u001b[0m Trial 63 finished with values: [0.04359622380935563, 0.631297622172666] and parameters: {'n_estimators': 314, 'num_leaves': 146, 'max_depth': 5, 'min_child_samples': 38, 'learning_rate': 0.007297968132421085, 'boosting_type': 'gbdt'}. \u001b[0m\n",
      "\u001b[32m[I 2023-05-11 13:01:54,536]\u001b[0m Trial 64 finished with values: [0.035365396841075106, 0.6120347889859522] and parameters: {'n_estimators': 1386, 'num_leaves': 142, 'max_depth': 6, 'min_child_samples': 25, 'learning_rate': 0.0010127864147096279, 'boosting_type': 'gbdt'}. \u001b[0m\n",
      "\u001b[32m[I 2023-05-11 13:02:25,427]\u001b[0m Trial 65 finished with values: [0.04021977237822296, 0.6347802556368001] and parameters: {'n_estimators': 1918, 'num_leaves': 132, 'max_depth': 8, 'min_child_samples': 29, 'learning_rate': 0.0010340303783247743, 'boosting_type': 'gbdt'}. \u001b[0m\n",
      "\u001b[32m[I 2023-05-11 13:02:56,583]\u001b[0m Trial 66 finished with values: [0.03968585703075794, 0.6392137678778417] and parameters: {'n_estimators': 1807, 'num_leaves': 127, 'max_depth': 8, 'min_child_samples': 23, 'learning_rate': 0.0011384087841442166, 'boosting_type': 'gbdt'}. \u001b[0m\n",
      "\u001b[32m[I 2023-05-11 13:03:10,755]\u001b[0m Trial 67 finished with values: [0.03969226623932082, 0.6262912578922911] and parameters: {'n_estimators': 1316, 'num_leaves': 52, 'max_depth': 6, 'min_child_samples': 21, 'learning_rate': 0.0014275384016337288, 'boosting_type': 'gbdt'}. \u001b[0m\n",
      "\u001b[32m[I 2023-05-11 13:03:44,392]\u001b[0m Trial 68 finished with values: [0.03642583729683489, 0.6379536264737176] and parameters: {'n_estimators': 927, 'num_leaves': 185, 'max_depth': 10, 'min_child_samples': 7, 'learning_rate': 0.001736455160685562, 'boosting_type': 'gbdt'}. \u001b[0m\n",
      "\u001b[32m[I 2023-05-11 13:03:57,104]\u001b[0m Trial 69 finished with values: [0.002746766164914285, 0.4095178287195618] and parameters: {'n_estimators': 964, 'num_leaves': 27, 'max_depth': 12, 'min_child_samples': 7, 'learning_rate': 0.0006674940643449619, 'boosting_type': 'goss'}. \u001b[0m\n",
      "\u001b[32m[I 2023-05-11 13:04:53,156]\u001b[0m Trial 70 finished with values: [0.06132387314408795, 0.6836388613479665] and parameters: {'n_estimators': 6784, 'num_leaves': 16, 'max_depth': 12, 'min_child_samples': 15, 'learning_rate': 0.0006718078421096864, 'boosting_type': 'goss'}. \u001b[0m\n",
      "\u001b[32m[I 2023-05-11 13:06:10,063]\u001b[0m Trial 71 finished with values: [0.06320936787032888, 0.6913346276522067] and parameters: {'n_estimators': 9846, 'num_leaves': 12, 'max_depth': 13, 'min_child_samples': 7, 'learning_rate': 0.0009232962144750032, 'boosting_type': 'goss'}. \u001b[0m\n",
      "\u001b[32m[I 2023-05-11 13:08:06,254]\u001b[0m Trial 72 finished with values: [0.07322293893349116, 0.670275879329352] and parameters: {'n_estimators': 7748, 'num_leaves': 70, 'max_depth': 14, 'min_child_samples': 48, 'learning_rate': 0.0005660659321933071, 'boosting_type': 'goss'}. \u001b[0m\n"
     ]
    }
   ],
   "source": [
    "seed = 128\n",
    "num_variables = 2\n",
    "n_startup_trials = 11 * num_variables - 1\n",
    "directions = ['minimize', 'maximize']\n",
    "results = []\n",
    "\n",
    "for sim in [0]:\n",
    "    print(sim)\n",
    "    def objective(trial):\n",
    "\n",
    "        (X_train, X_test, y_train, y_test, A_train, A_test) = train_test_split(\n",
    "        X_raw, y, A, test_size=0.8, random_state=sim, stratify=y\n",
    "        )\n",
    "\n",
    "        X_train = X_train.reset_index(drop=True)\n",
    "        X_test = X_test.reset_index(drop=True)\n",
    "        y_train = y_train.reset_index(drop=True)\n",
    "        y_test = y_test.reset_index(drop=True)\n",
    "        A_train = A_train.reset_index(drop=True)\n",
    "        A_test = A_test.reset_index(drop=True)\n",
    "\n",
    "\n",
    "        params = {\n",
    "            'n_estimators': trial.suggest_int(\"n_estimators\", 20, 10000),\n",
    "            'num_leaves': trial.suggest_int(\"num_leaves\", 10, 1000),\n",
    "            'max_depth': trial.suggest_int(\"max_depth\", 2, 20),\n",
    "            'min_child_samples': trial.suggest_int(\"min_child_samples\", 5, 300),\n",
    "            'learning_rate': trial.suggest_float('learning_rate', 1e-5, 1e-2),\n",
    "            'boosting_type': trial.suggest_categorical(\"boosting_type\", ['goss', 'gbdt'])\n",
    "            }\n",
    "        pipeline['classifier'].set_params(**params)\n",
    "\n",
    "        scores = cross_validate(\n",
    "                pipeline, \n",
    "                X_train,\n",
    "                y_train, \n",
    "                cv=5,\n",
    "                scoring = metric_scorer_v4,\n",
    "                return_train_score=True)\n",
    "\n",
    "        #fair_metric = scores['test_eod'].mean()\n",
    "        #fair_metric = scores['test_dpd'].mean()\n",
    "        fair_metric = scores['test_fpr'].mean()\n",
    "        model_metric = scores['test_f1_score'].mean()\n",
    "\n",
    "        return fair_metric, model_metric\n",
    "    \n",
    "    #sampler = optuna.samplers.MOTPESampler(\n",
    "    #    n_startup_trials=n_startup_trials, n_ehvi_candidates=24, seed=seed\n",
    "    #    )\n",
    "    sampler = optuna.samplers.TPESampler()  # `MOTPESampler` used to be required for multi-objective optimization.\n",
    "    study = optuna.create_study(directions=directions, pruner=optuna.pruners.SuccessiveHalvingPruner(), sampler = sampler)\n",
    "    study.optimize(objective, n_trials=100)\n",
    "    print(\"Number of finished trials: \", len(study.trials))\n",
    "    results.append(study)\n",
    "    #return fair_metric"
   ]
  },
  {
   "cell_type": "code",
   "execution_count": 11,
   "metadata": {},
   "outputs": [
    {
     "name": "stdout",
     "output_type": "stream",
     "text": [
      "Object successfully saved to \"f1-tpr-lgbm-motpe-succesivehalving-100trials-1sim.pkl\"\n"
     ]
    }
   ],
   "source": [
    "import dill\n",
    "file_name = 'f1-tpr-lgbm-motpe-succesivehalving-100trials-1sim.pkl'\n",
    "#f1-eod-lgbm-succesivehalving-30trails.pkl\n",
    "with open(file_name, 'wb') as file:\n",
    "    dill.dump(results, file)\n",
    "    print(f'Object successfully saved to \"{file_name}\"')"
   ]
  },
  {
   "cell_type": "code",
   "execution_count": 12,
   "metadata": {},
   "outputs": [
    {
     "data": {
      "application/vnd.plotly.v1+json": {
       "config": {
        "plotlyServerURL": "https://plot.ly"
       },
       "data": [
        {
         "hovertemplate": "%{text}<extra>Trial</extra>",
         "marker": {
          "color": [
           0,
           1,
           2,
           3,
           4,
           5,
           6,
           7,
           8,
           9,
           10,
           11,
           12,
           13,
           14,
           15,
           16,
           17,
           18,
           19,
           20,
           21,
           22,
           23,
           24,
           25,
           26,
           27,
           28,
           29,
           30,
           31,
           32,
           33,
           34,
           35,
           37,
           38,
           39,
           40,
           41,
           43,
           44,
           46,
           47,
           48,
           49,
           50,
           52,
           53,
           55,
           56,
           58,
           59,
           60,
           62,
           64,
           65,
           66,
           67,
           68,
           69,
           72,
           73,
           74,
           75,
           77,
           78,
           79,
           80,
           81,
           82,
           83,
           84,
           86,
           87,
           88,
           89,
           90,
           91,
           92,
           93,
           94,
           95,
           96,
           97,
           98,
           99
          ],
          "colorbar": {
           "title": {
            "text": "Trial"
           }
          },
          "colorscale": [
           [
            0,
            "rgb(247,251,255)"
           ],
           [
            0.125,
            "rgb(222,235,247)"
           ],
           [
            0.25,
            "rgb(198,219,239)"
           ],
           [
            0.375,
            "rgb(158,202,225)"
           ],
           [
            0.5,
            "rgb(107,174,214)"
           ],
           [
            0.625,
            "rgb(66,146,198)"
           ],
           [
            0.75,
            "rgb(33,113,181)"
           ],
           [
            0.875,
            "rgb(8,81,156)"
           ],
           [
            1,
            "rgb(8,48,107)"
           ]
          ],
          "line": {
           "color": "Grey",
           "width": 0.5
          }
         },
         "mode": "markers",
         "showlegend": false,
         "text": [
          "{<br>  \"number\": 0,<br>  \"values\": [<br>    0.07166280837428934,<br>    0.6700666103847778<br>  ],<br>  \"params\": {<br>    \"n_estimators\": 6543,<br>    \"num_leaves\": 578,<br>    \"max_depth\": 12,<br>    \"min_child_samples\": 203,<br>    \"learning_rate\": 0.00899276083535639,<br>    \"boosting_type\": \"gbdt\"<br>  }<br>}",
          "{<br>  \"number\": 1,<br>  \"values\": [<br>    0.047887253714034086,<br>    0.6748810216777641<br>  ],<br>  \"params\": {<br>    \"n_estimators\": 3269,<br>    \"num_leaves\": 733,<br>    \"max_depth\": 14,<br>    \"min_child_samples\": 254,<br>    \"learning_rate\": 0.009178472770287455,<br>    \"boosting_type\": \"gbdt\"<br>  }<br>}",
          "{<br>  \"number\": 2,<br>  \"values\": [<br>    0.07566443079740351,<br>    0.6681784105958057<br>  ],<br>  \"params\": {<br>    \"n_estimators\": 1805,<br>    \"num_leaves\": 648,<br>    \"max_depth\": 19,<br>    \"min_child_samples\": 52,<br>    \"learning_rate\": 0.0031665827084322523,<br>    \"boosting_type\": \"goss\"<br>  }<br>}",
          "{<br>  \"number\": 3,<br>  \"values\": [<br>    0.059231349025974524,<br>    0.6810983756692895<br>  ],<br>  \"params\": {<br>    \"n_estimators\": 2189,<br>    \"num_leaves\": 79,<br>    \"max_depth\": 14,<br>    \"min_child_samples\": 24,<br>    \"learning_rate\": 0.006395200448385518,<br>    \"boosting_type\": \"gbdt\"<br>  }<br>}",
          "{<br>  \"number\": 4,<br>  \"values\": [<br>    0.12251600555243156,<br>    0.6322170170828872<br>  ],<br>  \"params\": {<br>    \"n_estimators\": 7833,<br>    \"num_leaves\": 385,<br>    \"max_depth\": 12,<br>    \"min_child_samples\": 246,<br>    \"learning_rate\": 0.0002700945612329335,<br>    \"boosting_type\": \"gbdt\"<br>  }<br>}",
          "{<br>  \"number\": 5,<br>  \"values\": [<br>    0.07188532178158014,<br>    0.6576929182433048<br>  ],<br>  \"params\": {<br>    \"n_estimators\": 1146,<br>    \"num_leaves\": 980,<br>    \"max_depth\": 4,<br>    \"min_child_samples\": 270,<br>    \"learning_rate\": 0.0064011167092525925,<br>    \"boosting_type\": \"gbdt\"<br>  }<br>}",
          "{<br>  \"number\": 6,<br>  \"values\": [<br>    0.08087647733304242,<br>    0.6811356254085382<br>  ],<br>  \"params\": {<br>    \"n_estimators\": 8545,<br>    \"num_leaves\": 165,<br>    \"max_depth\": 6,<br>    \"min_child_samples\": 14,<br>    \"learning_rate\": 0.0006590027710590505,<br>    \"boosting_type\": \"gbdt\"<br>  }<br>}",
          "{<br>  \"number\": 7,<br>  \"values\": [<br>    0.04235920581425758,<br>    0.6904221259063403<br>  ],<br>  \"params\": {<br>    \"n_estimators\": 6243,<br>    \"num_leaves\": 546,<br>    \"max_depth\": 10,<br>    \"min_child_samples\": 131,<br>    \"learning_rate\": 0.003503001757934436,<br>    \"boosting_type\": \"gbdt\"<br>  }<br>}",
          "{<br>  \"number\": 8,<br>  \"values\": [<br>    0.07516001735963043,<br>    0.6556422285598427<br>  ],<br>  \"params\": {<br>    \"n_estimators\": 9914,<br>    \"num_leaves\": 344,<br>    \"max_depth\": 12,<br>    \"min_child_samples\": 41,<br>    \"learning_rate\": 0.005078166787292873,<br>    \"boosting_type\": \"goss\"<br>  }<br>}",
          "{<br>  \"number\": 9,<br>  \"values\": [<br>    0.0629770999263245,<br>    0.6786831900435046<br>  ],<br>  \"params\": {<br>    \"n_estimators\": 5999,<br>    \"num_leaves\": 17,<br>    \"max_depth\": 20,<br>    \"min_child_samples\": 244,<br>    \"learning_rate\": 0.003721969650053767,<br>    \"boosting_type\": \"gbdt\"<br>  }<br>}",
          "{<br>  \"number\": 10,<br>  \"values\": [<br>    0.08720966089589889,<br>    0.6641932541587892<br>  ],<br>  \"params\": {<br>    \"n_estimators\": 4193,<br>    \"num_leaves\": 818,<br>    \"max_depth\": 6,<br>    \"min_child_samples\": 128,<br>    \"learning_rate\": 0.0020067398674665097,<br>    \"boosting_type\": \"goss\"<br>  }<br>}",
          "{<br>  \"number\": 11,<br>  \"values\": [<br>    0.058128934299661116,<br>    0.6817091063558237<br>  ],<br>  \"params\": {<br>    \"n_estimators\": 4086,<br>    \"num_leaves\": 706,<br>    \"max_depth\": 9,<br>    \"min_child_samples\": 116,<br>    \"learning_rate\": 0.0021184807188827843,<br>    \"boosting_type\": \"gbdt\"<br>  }<br>}",
          "{<br>  \"number\": 12,<br>  \"values\": [<br>    0.0640061160970139,<br>    0.6536286591390045<br>  ],<br>  \"params\": {<br>    \"n_estimators\": 5531,<br>    \"num_leaves\": 431,<br>    \"max_depth\": 16,<br>    \"min_child_samples\": 166,<br>    \"learning_rate\": 0.00978387992002854,<br>    \"boosting_type\": \"goss\"<br>  }<br>}",
          "{<br>  \"number\": 13,<br>  \"values\": [<br>    0.040674278781420645,<br>    0.6836404370649459<br>  ],<br>  \"params\": {<br>    \"n_estimators\": 7382,<br>    \"num_leaves\": 238,<br>    \"max_depth\": 9,<br>    \"min_child_samples\": 101,<br>    \"learning_rate\": 0.004614957040548802,<br>    \"boosting_type\": \"gbdt\"<br>  }<br>}",
          "{<br>  \"number\": 14,<br>  \"values\": [<br>    0.04315622154085515,<br>    0.6774428029811745<br>  ],<br>  \"params\": {<br>    \"n_estimators\": 7482,<br>    \"num_leaves\": 234,<br>    \"max_depth\": 9,<br>    \"min_child_samples\": 79,<br>    \"learning_rate\": 0.0047563524100340876,<br>    \"boosting_type\": \"gbdt\"<br>  }<br>}",
          "{<br>  \"number\": 15,<br>  \"values\": [<br>    0.07764537530672434,<br>    0.6945324790802083<br>  ],<br>  \"params\": {<br>    \"n_estimators\": 9749,<br>    \"num_leaves\": 245,<br>    \"max_depth\": 2,<br>    \"min_child_samples\": 88,<br>    \"learning_rate\": 0.00686501529076025,<br>    \"boosting_type\": \"gbdt\"<br>  }<br>}",
          "{<br>  \"number\": 16,<br>  \"values\": [<br>    0.07675364472109752,<br>    0.6554100968390234<br>  ],<br>  \"params\": {<br>    \"n_estimators\": 7067,<br>    \"num_leaves\": 531,<br>    \"max_depth\": 9,<br>    \"min_child_samples\": 170,<br>    \"learning_rate\": 0.004751454648410099,<br>    \"boosting_type\": \"goss\"<br>  }<br>}",
          "{<br>  \"number\": 17,<br>  \"values\": [<br>    0.10268724714043218,<br>    0.6165480594806267<br>  ],<br>  \"params\": {<br>    \"n_estimators\": 221,<br>    \"num_leaves\": 328,<br>    \"max_depth\": 7,<br>    \"min_child_samples\": 196,<br>    \"learning_rate\": 0.007647842551639197,<br>    \"boosting_type\": \"gbdt\"<br>  }<br>}",
          "{<br>  \"number\": 18,<br>  \"values\": [<br>    0.04566289536383629,<br>    0.6732588097052119<br>  ],<br>  \"params\": {<br>    \"n_estimators\": 9000,<br>    \"num_leaves\": 482,<br>    \"max_depth\": 17,<br>    \"min_child_samples\": 130,<br>    \"learning_rate\": 0.005460240848116683,<br>    \"boosting_type\": \"gbdt\"<br>  }<br>}",
          "{<br>  \"number\": 19,<br>  \"values\": [<br>    0.05911444342267458,<br>    0.6726432507872268<br>  ],<br>  \"params\": {<br>    \"n_estimators\": 4884,<br>    \"num_leaves\": 190,<br>    \"max_depth\": 10,<br>    \"min_child_samples\": 86,<br>    \"learning_rate\": 0.0038132898768341566,<br>    \"boosting_type\": \"goss\"<br>  }<br>}",
          "{<br>  \"number\": 20,<br>  \"values\": [<br>    0.06253255464275043,<br>    0.6879503394640379<br>  ],<br>  \"params\": {<br>    \"n_estimators\": 8205,<br>    \"num_leaves\": 109,<br>    \"max_depth\": 4,<br>    \"min_child_samples\": 201,<br>    \"learning_rate\": 0.007955510664304982,<br>    \"boosting_type\": \"gbdt\"<br>  }<br>}",
          "{<br>  \"number\": 21,<br>  \"values\": [<br>    0.08464534858072353,<br>    0.6622589995095656<br>  ],<br>  \"params\": {<br>    \"n_estimators\": 6610,<br>    \"num_leaves\": 601,<br>    \"max_depth\": 2,<br>    \"min_child_samples\": 88,<br>    \"learning_rate\": 0.0026705335407583705,<br>    \"boosting_type\": \"gbdt\"<br>  }<br>}",
          "{<br>  \"number\": 22,<br>  \"values\": [<br>    0.05007091993483874,<br>    0.673821763497509<br>  ],<br>  \"params\": {<br>    \"n_estimators\": 9999,<br>    \"num_leaves\": 836,<br>    \"max_depth\": 14,<br>    \"min_child_samples\": 111,<br>    \"learning_rate\": 0.004088190819983732,<br>    \"boosting_type\": \"gbdt\"<br>  }<br>}",
          "{<br>  \"number\": 23,<br>  \"values\": [<br>    0.07968611187385635,<br>    0.6796748378680844<br>  ],<br>  \"params\": {<br>    \"n_estimators\": 5322,<br>    \"num_leaves\": 270,<br>    \"max_depth\": 7,<br>    \"min_child_samples\": 143,<br>    \"learning_rate\": 0.0016144900743246089,<br>    \"boosting_type\": \"gbdt\"<br>  }<br>}",
          "{<br>  \"number\": 24,<br>  \"values\": [<br>    0.04729943864199739,<br>    0.6823235465342343<br>  ],<br>  \"params\": {<br>    \"n_estimators\": 6386,<br>    \"num_leaves\": 440,<br>    \"max_depth\": 10,<br>    \"min_child_samples\": 55,<br>    \"learning_rate\": 0.003024542065824843,<br>    \"boosting_type\": \"gbdt\"<br>  }<br>}",
          "{<br>  \"number\": 25,<br>  \"values\": [<br>    0.1041457760379485,<br>    0.6248960658120115<br>  ],<br>  \"params\": {<br>    \"n_estimators\": 4564,<br>    \"num_leaves\": 288,<br>    \"max_depth\": 2,<br>    \"min_child_samples\": 297,<br>    \"learning_rate\": 0.0011484021807987672,<br>    \"boosting_type\": \"gbdt\"<br>  }<br>}",
          "{<br>  \"number\": 26,<br>  \"values\": [<br>    0.05783246686258625,<br>    0.6690888441688958<br>  ],<br>  \"params\": {<br>    \"n_estimators\": 7213,<br>    \"num_leaves\": 528,<br>    \"max_depth\": 16,<br>    \"min_child_samples\": 100,<br>    \"learning_rate\": 0.0031151029734644113,<br>    \"boosting_type\": \"goss\"<br>  }<br>}",
          "{<br>  \"number\": 27,<br>  \"values\": [<br>    0.03808902450270998,<br>    0.6822305176925254<br>  ],<br>  \"params\": {<br>    \"n_estimators\": 9245,<br>    \"num_leaves\": 387,<br>    \"max_depth\": 11,<br>    \"min_child_samples\": 155,<br>    \"learning_rate\": 0.00239512518839626,<br>    \"boosting_type\": \"gbdt\"<br>  }<br>}",
          "{<br>  \"number\": 28,<br>  \"values\": [<br>    0.05480419139985062,<br>    0.6836893715732704<br>  ],<br>  \"params\": {<br>    \"n_estimators\": 8981,<br>    \"num_leaves\": 401,<br>    \"max_depth\": 13,<br>    \"min_child_samples\": 178,<br>    \"learning_rate\": 0.0023768129844311293,<br>    \"boosting_type\": \"gbdt\"<br>  }<br>}",
          "{<br>  \"number\": 29,<br>  \"values\": [<br>    0.05860271640458438,<br>    0.6761140861783429<br>  ],<br>  \"params\": {<br>    \"n_estimators\": 9214,<br>    \"num_leaves\": 611,<br>    \"max_depth\": 11,<br>    \"min_child_samples\": 217,<br>    \"learning_rate\": 0.001263960283888087,<br>    \"boosting_type\": \"gbdt\"<br>  }<br>}",
          "{<br>  \"number\": 30,<br>  \"values\": [<br>    0.09324103887944549,<br>    0.590928290017087<br>  ],<br>  \"params\": {<br>    \"n_estimators\": 8330,<br>    \"num_leaves\": 483,<br>    \"max_depth\": 16,<br>    \"min_child_samples\": 137,<br>    \"learning_rate\": 0.00016225039298542118,<br>    \"boosting_type\": \"gbdt\"<br>  }<br>}",
          "{<br>  \"number\": 31,<br>  \"values\": [<br>    0.054947320655864065,<br>    0.6871945374824587<br>  ],<br>  \"params\": {<br>    \"n_estimators\": 6078,<br>    \"num_leaves\": 555,<br>    \"max_depth\": 11,<br>    \"min_child_samples\": 158,<br>    \"learning_rate\": 0.0023150042878975785,<br>    \"boosting_type\": \"gbdt\"<br>  }<br>}",
          "{<br>  \"number\": 32,<br>  \"values\": [<br>    0.056737097889953694,<br>    0.6817160295861464<br>  ],<br>  \"params\": {<br>    \"n_estimators\": 7017,<br>    \"num_leaves\": 682,<br>    \"max_depth\": 8,<br>    \"min_child_samples\": 148,<br>    \"learning_rate\": 0.0016546660452509553,<br>    \"boosting_type\": \"gbdt\"<br>  }<br>}",
          "{<br>  \"number\": 33,<br>  \"values\": [<br>    0.06633780901454608,<br>    0.6809110435251304<br>  ],<br>  \"params\": {<br>    \"n_estimators\": 3158,<br>    \"num_leaves\": 820,<br>    \"max_depth\": 13,<br>    \"min_child_samples\": 181,<br>    \"learning_rate\": 0.003717153313519682,<br>    \"boosting_type\": \"gbdt\"<br>  }<br>}",
          "{<br>  \"number\": 34,<br>  \"values\": [<br>    0.11790025930513497,<br>    0.6437901758536426<br>  ],<br>  \"params\": {<br>    \"n_estimators\": 7733,<br>    \"num_leaves\": 364,<br>    \"max_depth\": 10,<br>    \"min_child_samples\": 229,<br>    \"learning_rate\": 0.0030591683376138905,<br>    \"boosting_type\": \"goss\"<br>  }<br>}",
          "{<br>  \"number\": 35,<br>  \"values\": [<br>    0.07827191221193139,<br>    0.6589267438292519<br>  ],<br>  \"params\": {<br>    \"n_estimators\": 3417,<br>    \"num_leaves\": 639,<br>    \"max_depth\": 13,<br>    \"min_child_samples\": 67,<br>    \"learning_rate\": 0.0008093820944997752,<br>    \"boosting_type\": \"gbdt\"<br>  }<br>}",
          "{<br>  \"number\": 37,<br>  \"values\": [<br>    0.10172163873129045,<br>    0.6507945816770476<br>  ],<br>  \"params\": {<br>    \"n_estimators\": 9515,<br>    \"num_leaves\": 936,<br>    \"max_depth\": 15,<br>    \"min_child_samples\": 192,<br>    \"learning_rate\": 0.0015374682894789406,<br>    \"boosting_type\": \"goss\"<br>  }<br>}",
          "{<br>  \"number\": 38,<br>  \"values\": [<br>    0.04045425573207356,<br>    0.6894943068763603<br>  ],<br>  \"params\": {<br>    \"n_estimators\": 8665,<br>    \"num_leaves\": 743,<br>    \"max_depth\": 12,<br>    \"min_child_samples\": 108,<br>    \"learning_rate\": 0.0025263113682586218,<br>    \"boosting_type\": \"gbdt\"<br>  }<br>}",
          "{<br>  \"number\": 39,<br>  \"values\": [<br>    0.07763826529411406,<br>    0.6677321188579141<br>  ],<br>  \"params\": {<br>    \"n_estimators\": 8686,<br>    \"num_leaves\": 887,<br>    \"max_depth\": 18,<br>    \"min_child_samples\": 35,<br>    \"learning_rate\": 0.0004962987354026071,<br>    \"boosting_type\": \"goss\"<br>  }<br>}",
          "{<br>  \"number\": 40,<br>  \"values\": [<br>    0.06030059234393852,<br>    0.6752777893752473<br>  ],<br>  \"params\": {<br>    \"n_estimators\": 8057,<br>    \"num_leaves\": 764,<br>    \"max_depth\": 12,<br>    \"min_child_samples\": 276,<br>    \"learning_rate\": 0.0026175573482114015,<br>    \"boosting_type\": \"gbdt\"<br>  }<br>}",
          "{<br>  \"number\": 41,<br>  \"values\": [<br>    0.05807310101345342,<br>    0.670629269593869<br>  ],<br>  \"params\": {<br>    \"n_estimators\": 9430,<br>    \"num_leaves\": 299,<br>    \"max_depth\": 11,<br>    \"min_child_samples\": 156,<br>    \"learning_rate\": 0.008812923141090388,<br>    \"boosting_type\": \"gbdt\"<br>  }<br>}",
          "{<br>  \"number\": 43,<br>  \"values\": [<br>    0.1316334433069948,<br>    0.6435509706344578<br>  ],<br>  \"params\": {<br>    \"n_estimators\": 1821,<br>    \"num_leaves\": 433,<br>    \"max_depth\": 14,<br>    \"min_child_samples\": 216,<br>    \"learning_rate\": 0.0055174322352684185,<br>    \"boosting_type\": \"goss\"<br>  }<br>}",
          "{<br>  \"number\": 44,<br>  \"values\": [<br>    0.06247612055843851,<br>    0.6894376771359556<br>  ],<br>  \"params\": {<br>    \"n_estimators\": 8851,<br>    \"num_leaves\": 386,<br>    \"max_depth\": 4,<br>    \"min_child_samples\": 13,<br>    \"learning_rate\": 0.002042258370417903,<br>    \"boosting_type\": \"goss\"<br>  }<br>}",
          "{<br>  \"number\": 46,<br>  \"values\": [<br>    0.06343859709071398,<br>    0.6796075222621136<br>  ],<br>  \"params\": {<br>    \"n_estimators\": 8566,<br>    \"num_leaves\": 335,<br>    \"max_depth\": 12,<br>    \"min_child_samples\": 166,<br>    \"learning_rate\": 0.0009703048506719551,<br>    \"boosting_type\": \"gbdt\"<br>  }<br>}",
          "{<br>  \"number\": 47,<br>  \"values\": [<br>    0.09538273477269768,<br>    0.656602230324487<br>  ],<br>  \"params\": {<br>    \"n_estimators\": 9461,<br>    \"num_leaves\": 160,<br>    \"max_depth\": 8,<br>    \"min_child_samples\": 149,<br>    \"learning_rate\": 0.000679059558772277,<br>    \"boosting_type\": \"goss\"<br>  }<br>}",
          "{<br>  \"number\": 48,<br>  \"values\": [<br>    0.06596168676805418,<br>    0.6792331207085887<br>  ],<br>  \"params\": {<br>    \"n_estimators\": 2691,<br>    \"num_leaves\": 478,<br>    \"max_depth\": 12,<br>    \"min_child_samples\": 187,<br>    \"learning_rate\": 0.004159911055899129,<br>    \"boosting_type\": \"gbdt\"<br>  }<br>}",
          "{<br>  \"number\": 49,<br>  \"values\": [<br>    0.05459293881198485,<br>    0.6799546811294274<br>  ],<br>  \"params\": {<br>    \"n_estimators\": 7744,<br>    \"num_leaves\": 443,<br>    \"max_depth\": 5,<br>    \"min_child_samples\": 240,<br>    \"learning_rate\": 0.003448617557388679,<br>    \"boosting_type\": \"gbdt\"<br>  }<br>}",
          "{<br>  \"number\": 50,<br>  \"values\": [<br>    0.08746506502758648,<br>    0.6460865338603621<br>  ],<br>  \"params\": {<br>    \"n_estimators\": 9735,<br>    \"num_leaves\": 755,<br>    \"max_depth\": 19,<br>    \"min_child_samples\": 212,<br>    \"learning_rate\": 0.006090465445509938,<br>    \"boosting_type\": \"goss\"<br>  }<br>}",
          "{<br>  \"number\": 52,<br>  \"values\": [<br>    0.06357561447862474,<br>    0.6757842582413307<br>  ],<br>  \"params\": {<br>    \"n_estimators\": 9112,<br>    \"num_leaves\": 986,<br>    \"max_depth\": 20,<br>    \"min_child_samples\": 135,<br>    \"learning_rate\": 0.0042995527785485025,<br>    \"boosting_type\": \"gbdt\"<br>  }<br>}",
          "{<br>  \"number\": 53,<br>  \"values\": [<br>    0.04879477678678477,<br>    0.6875909563062569<br>  ],<br>  \"params\": {<br>    \"n_estimators\": 8553,<br>    \"num_leaves\": 98,<br>    \"max_depth\": 8,<br>    \"min_child_samples\": 170,<br>    \"learning_rate\": 0.0034619041011398925,<br>    \"boosting_type\": \"gbdt\"<br>  }<br>}",
          "{<br>  \"number\": 55,<br>  \"values\": [<br>    0.09492875715461735,<br>    0.6614408716364479<br>  ],<br>  \"params\": {<br>    \"n_estimators\": 1147,<br>    \"num_leaves\": 167,<br>    \"max_depth\": 15,<br>    \"min_child_samples\": 122,<br>    \"learning_rate\": 0.004444229903234449,<br>    \"boosting_type\": \"goss\"<br>  }<br>}",
          "{<br>  \"number\": 56,<br>  \"values\": [<br>    0.03934862832853436,<br>    0.67234563181869<br>  ],<br>  \"params\": {<br>    \"n_estimators\": 9971,<br>    \"num_leaves\": 676,<br>    \"max_depth\": 10,<br>    \"min_child_samples\": 268,<br>    \"learning_rate\": 0.005075311836818315,<br>    \"boosting_type\": \"gbdt\"<br>  }<br>}",
          "{<br>  \"number\": 58,<br>  \"values\": [<br>    0.052906650942301715,<br>    0.4345491709047309<br>  ],<br>  \"params\": {<br>    \"n_estimators\": 5716,<br>    \"num_leaves\": 66,<br>    \"max_depth\": 9,<br>    \"min_child_samples\": 101,<br>    \"learning_rate\": 0.00011154170186341694,<br>    \"boosting_type\": \"gbdt\"<br>  }<br>}",
          "{<br>  \"number\": 59,<br>  \"values\": [<br>    0.08966007706482595,<br>    0.652676004754033<br>  ],<br>  \"params\": {<br>    \"n_estimators\": 8060,<br>    \"num_leaves\": 933,<br>    \"max_depth\": 6,<br>    \"min_child_samples\": 71,<br>    \"learning_rate\": 0.0004455053436981998,<br>    \"boosting_type\": \"gbdt\"<br>  }<br>}",
          "{<br>  \"number\": 60,<br>  \"values\": [<br>    0.10119822086110286,<br>    0.6177231598297757<br>  ],<br>  \"params\": {<br>    \"n_estimators\": 724,<br>    \"num_leaves\": 32,<br>    \"max_depth\": 13,<br>    \"min_child_samples\": 57,<br>    \"learning_rate\": 0.001873279204491062,<br>    \"boosting_type\": \"goss\"<br>  }<br>}",
          "{<br>  \"number\": 62,<br>  \"values\": [<br>    0.07700181833946133,<br>    0.6966349445499811<br>  ],<br>  \"params\": {<br>    \"n_estimators\": 4013,<br>    \"num_leaves\": 568,<br>    \"max_depth\": 3,<br>    \"min_child_samples\": 78,<br>    \"learning_rate\": 0.009794329705219438,<br>    \"boosting_type\": \"gbdt\"<br>  }<br>}",
          "{<br>  \"number\": 64,<br>  \"values\": [<br>    0.052356904392231764,<br>    0.6907688677929142<br>  ],<br>  \"params\": {<br>    \"n_estimators\": 9547,<br>    \"num_leaves\": 876,<br>    \"max_depth\": 10,<br>    \"min_child_samples\": 95,<br>    \"learning_rate\": 0.0011248894407674928,<br>    \"boosting_type\": \"gbdt\"<br>  }<br>}",
          "{<br>  \"number\": 65,<br>  \"values\": [<br>    0.06507092054100469,<br>    0.666496896863461<br>  ],<br>  \"params\": {<br>    \"n_estimators\": 8331,<br>    \"num_leaves\": 796,<br>    \"max_depth\": 7,<br>    \"min_child_samples\": 122,<br>    \"learning_rate\": 0.0028088203411996706,<br>    \"boosting_type\": \"goss\"<br>  }<br>}",
          "{<br>  \"number\": 66,<br>  \"values\": [<br>    0.05488926892554251,<br>    0.6802222049123007<br>  ],<br>  \"params\": {<br>    \"n_estimators\": 9104,<br>    \"num_leaves\": 522,<br>    \"max_depth\": 9,<br>    \"min_child_samples\": 33,<br>    \"learning_rate\": 0.001986101954317946,<br>    \"boosting_type\": \"gbdt\"<br>  }<br>}",
          "{<br>  \"number\": 67,<br>  \"values\": [<br>    0.05026476081497059,<br>    0.6873729969215818<br>  ],<br>  \"params\": {<br>    \"n_estimators\": 9724,<br>    \"num_leaves\": 601,<br>    \"max_depth\": 11,<br>    \"min_child_samples\": 92,<br>    \"learning_rate\": 0.0009290080934902935,<br>    \"boosting_type\": \"gbdt\"<br>  }<br>}",
          "{<br>  \"number\": 68,<br>  \"values\": [<br>    0.07757785319697715,<br>    0.653166589515638<br>  ],<br>  \"params\": {<br>    \"n_estimators\": 1313,<br>    \"num_leaves\": 204,<br>    \"max_depth\": 14,<br>    \"min_child_samples\": 79,<br>    \"learning_rate\": 0.0017727428479968742,<br>    \"boosting_type\": \"gbdt\"<br>  }<br>}",
          "{<br>  \"number\": 69,<br>  \"values\": [<br>    0.11079662425908243,<br>    0.6521001010851055<br>  ],<br>  \"params\": {<br>    \"n_estimators\": 2160,<br>    \"num_leaves\": 641,<br>    \"max_depth\": 19,<br>    \"min_child_samples\": 119,<br>    \"learning_rate\": 0.001416100707303513,<br>    \"boosting_type\": \"goss\"<br>  }<br>}",
          "{<br>  \"number\": 72,<br>  \"values\": [<br>    0.045684449368168824,<br>    0.676294376973948<br>  ],<br>  \"params\": {<br>    \"n_estimators\": 4818,<br>    \"num_leaves\": 499,<br>    \"max_depth\": 10,<br>    \"min_child_samples\": 68,<br>    \"learning_rate\": 0.007153545857312117,<br>    \"boosting_type\": \"gbdt\"<br>  }<br>}",
          "{<br>  \"number\": 73,<br>  \"values\": [<br>    0.04845532169682667,<br>    0.6673512688605158<br>  ],<br>  \"params\": {<br>    \"n_estimators\": 5277,<br>    \"num_leaves\": 474,<br>    \"max_depth\": 13,<br>    \"min_child_samples\": 56,<br>    \"learning_rate\": 0.008290935370163975,<br>    \"boosting_type\": \"gbdt\"<br>  }<br>}",
          "{<br>  \"number\": 74,<br>  \"values\": [<br>    0.09536868104731654,<br>    0.6578222624866218<br>  ],<br>  \"params\": {<br>    \"n_estimators\": 4488,<br>    \"num_leaves\": 579,<br>    \"max_depth\": 12,<br>    \"min_child_samples\": 7,<br>    \"learning_rate\": 0.006898768281085169,<br>    \"boosting_type\": \"gbdt\"<br>  }<br>}",
          "{<br>  \"number\": 75,<br>  \"values\": [<br>    0.06458531369577118,<br>    0.6662612501068383<br>  ],<br>  \"params\": {<br>    \"n_estimators\": 3650,<br>    \"num_leaves\": 528,<br>    \"max_depth\": 12,<br>    \"min_child_samples\": 23,<br>    \"learning_rate\": 0.009986521301558759,<br>    \"boosting_type\": \"gbdt\"<br>  }<br>}",
          "{<br>  \"number\": 77,<br>  \"values\": [<br>    0.07046501221134362,<br>    0.6582553327293854<br>  ],<br>  \"params\": {<br>    \"n_estimators\": 5822,<br>    \"num_leaves\": 460,<br>    \"max_depth\": 11,<br>    \"min_child_samples\": 47,<br>    \"learning_rate\": 0.009290993789602672,<br>    \"boosting_type\": \"gbdt\"<br>  }<br>}",
          "{<br>  \"number\": 78,<br>  \"values\": [<br>    0.12768422819902975,<br>    0.6263916195944781<br>  ],<br>  \"params\": {<br>    \"n_estimators\": 5272,<br>    \"num_leaves\": 420,<br>    \"max_depth\": 18,<br>    \"min_child_samples\": 294,<br>    \"learning_rate\": 0.007458739466271115,<br>    \"boosting_type\": \"goss\"<br>  }<br>}",
          "{<br>  \"number\": 79,<br>  \"values\": [<br>    0.044641450572892614,<br>    0.6806484933880561<br>  ],<br>  \"params\": {<br>    \"n_estimators\": 4288,<br>    \"num_leaves\": 511,<br>    \"max_depth\": 10,<br>    \"min_child_samples\": 66,<br>    \"learning_rate\": 0.006321975392239304,<br>    \"boosting_type\": \"gbdt\"<br>  }<br>}",
          "{<br>  \"number\": 80,<br>  \"values\": [<br>    0.08445963438882668,<br>    0.6975329688589481<br>  ],<br>  \"params\": {<br>    \"n_estimators\": 4989,<br>    \"num_leaves\": 409,<br>    \"max_depth\": 3,<br>    \"min_child_samples\": 76,<br>    \"learning_rate\": 0.007999264342340044,<br>    \"boosting_type\": \"gbdt\"<br>  }<br>}",
          "{<br>  \"number\": 81,<br>  \"values\": [<br>    0.05120943486318139,<br>    0.6798619194340129<br>  ],<br>  \"params\": {<br>    \"n_estimators\": 4613,<br>    \"num_leaves\": 537,<br>    \"max_depth\": 11,<br>    \"min_child_samples\": 62,<br>    \"learning_rate\": 0.006550901989889328,<br>    \"boosting_type\": \"gbdt\"<br>  }<br>}",
          "{<br>  \"number\": 82,<br>  \"values\": [<br>    0.05435831746989981,<br>    0.6735775859173256<br>  ],<br>  \"params\": {<br>    \"n_estimators\": 3825,<br>    \"num_leaves\": 497,<br>    \"max_depth\": 12,<br>    \"min_child_samples\": 33,<br>    \"learning_rate\": 0.005624911133728629,<br>    \"boosting_type\": \"gbdt\"<br>  }<br>}",
          "{<br>  \"number\": 83,<br>  \"values\": [<br>    0.06730545524083291,<br>    0.6780215223419146<br>  ],<br>  \"params\": {<br>    \"n_estimators\": 2914,<br>    \"num_leaves\": 570,<br>    \"max_depth\": 5,<br>    \"min_child_samples\": 85,<br>    \"learning_rate\": 0.004879520043668118,<br>    \"boosting_type\": \"goss\"<br>  }<br>}",
          "{<br>  \"number\": 84,<br>  \"values\": [<br>    0.05159499029545593,<br>    0.6614060512176942<br>  ],<br>  \"params\": {<br>    \"n_estimators\": 6266,<br>    \"num_leaves\": 366,<br>    \"max_depth\": 15,<br>    \"min_child_samples\": 51,<br>    \"learning_rate\": 0.008556382296070001,<br>    \"boosting_type\": \"gbdt\"<br>  }<br>}",
          "{<br>  \"number\": 86,<br>  \"values\": [<br>    0.050716976859007425,<br>    0.6770926825091023<br>  ],<br>  \"params\": {<br>    \"n_estimators\": 5595,<br>    \"num_leaves\": 457,<br>    \"max_depth\": 9,<br>    \"min_child_samples\": 84,<br>    \"learning_rate\": 0.007590175755115433,<br>    \"boosting_type\": \"gbdt\"<br>  }<br>}",
          "{<br>  \"number\": 87,<br>  \"values\": [<br>    0.06325742788561242,<br>    0.6581903814889835<br>  ],<br>  \"params\": {<br>    \"n_estimators\": 5980,<br>    \"num_leaves\": 593,<br>    \"max_depth\": 10,<br>    \"min_child_samples\": 42,<br>    \"learning_rate\": 0.009230397130128836,<br>    \"boosting_type\": \"goss\"<br>  }<br>}",
          "{<br>  \"number\": 88,<br>  \"values\": [<br>    0.057384662029681247,<br>    0.6717481709783072<br>  ],<br>  \"params\": {<br>    \"n_estimators\": 5130,<br>    \"num_leaves\": 543,<br>    \"max_depth\": 12,<br>    \"min_child_samples\": 23,<br>    \"learning_rate\": 0.005332954944461729,<br>    \"boosting_type\": \"gbdt\"<br>  }<br>}",
          "{<br>  \"number\": 89,<br>  \"values\": [<br>    0.0559074175530568,<br>    0.6688277521213746<br>  ],<br>  \"params\": {<br>    \"n_estimators\": 4732,<br>    \"num_leaves\": 450,<br>    \"max_depth\": 17,<br>    \"min_child_samples\": 259,<br>    \"learning_rate\": 0.005798582403954441,<br>    \"boosting_type\": \"gbdt\"<br>  }<br>}",
          "{<br>  \"number\": 90,<br>  \"values\": [<br>    0.05293915986272789,<br>    0.6825412840097748<br>  ],<br>  \"params\": {<br>    \"n_estimators\": 4379,<br>    \"num_leaves\": 363,<br>    \"max_depth\": 5,<br>    \"min_child_samples\": 74,<br>    \"learning_rate\": 0.004712951686324597,<br>    \"boosting_type\": \"goss\"<br>  }<br>}",
          "{<br>  \"number\": 91,<br>  \"values\": [<br>    0.0607869883426186,<br>    0.6701295796544706<br>  ],<br>  \"params\": {<br>    \"n_estimators\": 6549,<br>    \"num_leaves\": 623,<br>    \"max_depth\": 13,<br>    \"min_child_samples\": 59,<br>    \"learning_rate\": 0.007334272183536942,<br>    \"boosting_type\": \"gbdt\"<br>  }<br>}",
          "{<br>  \"number\": 92,<br>  \"values\": [<br>    0.04059731189051067,<br>    0.6871780389005907<br>  ],<br>  \"params\": {<br>    \"n_estimators\": 4007,<br>    \"num_leaves\": 307,<br>    \"max_depth\": 8,<br>    \"min_child_samples\": 96,<br>    \"learning_rate\": 0.00782098050049648,<br>    \"boosting_type\": \"gbdt\"<br>  }<br>}",
          "{<br>  \"number\": 93,<br>  \"values\": [<br>    0.06239984582599052,<br>    0.6717892772434713<br>  ],<br>  \"params\": {<br>    \"n_estimators\": 5504,<br>    \"num_leaves\": 495,<br>    \"max_depth\": 11,<br>    \"min_child_samples\": 39,<br>    \"learning_rate\": 0.0051758909432810885,<br>    \"boosting_type\": \"gbdt\"<br>  }<br>}",
          "{<br>  \"number\": 94,<br>  \"values\": [<br>    0.07359557505187136,<br>    0.6896278188753644<br>  ],<br>  \"params\": {<br>    \"n_estimators\": 3708,<br>    \"num_leaves\": 553,<br>    \"max_depth\": 3,<br>    \"min_child_samples\": 61,<br>    \"learning_rate\": 0.007141595598507919,<br>    \"boosting_type\": \"gbdt\"<br>  }<br>}",
          "{<br>  \"number\": 95,<br>  \"values\": [<br>    0.06311326059183882,<br>    0.6721973390814444<br>  ],<br>  \"params\": {<br>    \"n_estimators\": 3389,<br>    \"num_leaves\": 965,<br>    \"max_depth\": 10,<br>    \"min_child_samples\": 81,<br>    \"learning_rate\": 0.005843404517779429,<br>    \"boosting_type\": \"goss\"<br>  }<br>}",
          "{<br>  \"number\": 96,<br>  \"values\": [<br>    0.05508260533162431,<br>    0.6750362843554386<br>  ],<br>  \"params\": {<br>    \"n_estimators\": 2413,<br>    \"num_leaves\": 886,<br>    \"max_depth\": 11,<br>    \"min_child_samples\": 286,<br>    \"learning_rate\": 0.0067038538867866355,<br>    \"boosting_type\": \"gbdt\"<br>  }<br>}",
          "{<br>  \"number\": 97,<br>  \"values\": [<br>    0.04820275832552149,<br>    0.6824965046901674<br>  ],<br>  \"params\": {<br>    \"n_estimators\": 6832,<br>    \"num_leaves\": 428,<br>    \"max_depth\": 7,<br>    \"min_child_samples\": 228,<br>    \"learning_rate\": 0.006262939420037126,<br>    \"boosting_type\": \"gbdt\"<br>  }<br>}",
          "{<br>  \"number\": 98,<br>  \"values\": [<br>    0.04285851856931168,<br>    0.6723637131543244<br>  ],<br>  \"params\": {<br>    \"n_estimators\": 4955,<br>    \"num_leaves\": 660,<br>    \"max_depth\": 14,<br>    \"min_child_samples\": 91,<br>    \"learning_rate\": 0.00900398535858873,<br>    \"boosting_type\": \"gbdt\"<br>  }<br>}",
          "{<br>  \"number\": 99,<br>  \"values\": [<br>    0.0576443478260517,<br>    0.6677766853071511<br>  ],<br>  \"params\": {<br>    \"n_estimators\": 7433,<br>    \"num_leaves\": 466,<br>    \"max_depth\": 11,<br>    \"min_child_samples\": 99,<br>    \"learning_rate\": 0.0045376342535364406,<br>    \"boosting_type\": \"goss\"<br>  }<br>}"
         ],
         "type": "scatter",
         "x": [
          0.07166280837428934,
          0.047887253714034086,
          0.07566443079740351,
          0.059231349025974524,
          0.12251600555243156,
          0.07188532178158014,
          0.08087647733304242,
          0.04235920581425758,
          0.07516001735963043,
          0.0629770999263245,
          0.08720966089589889,
          0.058128934299661116,
          0.0640061160970139,
          0.040674278781420645,
          0.04315622154085515,
          0.07764537530672434,
          0.07675364472109752,
          0.10268724714043218,
          0.04566289536383629,
          0.05911444342267458,
          0.06253255464275043,
          0.08464534858072353,
          0.05007091993483874,
          0.07968611187385635,
          0.04729943864199739,
          0.1041457760379485,
          0.05783246686258625,
          0.03808902450270998,
          0.05480419139985062,
          0.05860271640458438,
          0.09324103887944549,
          0.054947320655864065,
          0.056737097889953694,
          0.06633780901454608,
          0.11790025930513497,
          0.07827191221193139,
          0.10172163873129045,
          0.04045425573207356,
          0.07763826529411406,
          0.06030059234393852,
          0.05807310101345342,
          0.1316334433069948,
          0.06247612055843851,
          0.06343859709071398,
          0.09538273477269768,
          0.06596168676805418,
          0.05459293881198485,
          0.08746506502758648,
          0.06357561447862474,
          0.04879477678678477,
          0.09492875715461735,
          0.03934862832853436,
          0.052906650942301715,
          0.08966007706482595,
          0.10119822086110286,
          0.07700181833946133,
          0.052356904392231764,
          0.06507092054100469,
          0.05488926892554251,
          0.05026476081497059,
          0.07757785319697715,
          0.11079662425908243,
          0.045684449368168824,
          0.04845532169682667,
          0.09536868104731654,
          0.06458531369577118,
          0.07046501221134362,
          0.12768422819902975,
          0.044641450572892614,
          0.08445963438882668,
          0.05120943486318139,
          0.05435831746989981,
          0.06730545524083291,
          0.05159499029545593,
          0.050716976859007425,
          0.06325742788561242,
          0.057384662029681247,
          0.0559074175530568,
          0.05293915986272789,
          0.0607869883426186,
          0.04059731189051067,
          0.06239984582599052,
          0.07359557505187136,
          0.06311326059183882,
          0.05508260533162431,
          0.04820275832552149,
          0.04285851856931168,
          0.0576443478260517
         ],
         "y": [
          0.6700666103847778,
          0.6748810216777641,
          0.6681784105958057,
          0.6810983756692895,
          0.6322170170828872,
          0.6576929182433048,
          0.6811356254085382,
          0.6904221259063403,
          0.6556422285598427,
          0.6786831900435046,
          0.6641932541587892,
          0.6817091063558237,
          0.6536286591390045,
          0.6836404370649459,
          0.6774428029811745,
          0.6945324790802083,
          0.6554100968390234,
          0.6165480594806267,
          0.6732588097052119,
          0.6726432507872268,
          0.6879503394640379,
          0.6622589995095656,
          0.673821763497509,
          0.6796748378680844,
          0.6823235465342343,
          0.6248960658120115,
          0.6690888441688958,
          0.6822305176925254,
          0.6836893715732704,
          0.6761140861783429,
          0.590928290017087,
          0.6871945374824587,
          0.6817160295861464,
          0.6809110435251304,
          0.6437901758536426,
          0.6589267438292519,
          0.6507945816770476,
          0.6894943068763603,
          0.6677321188579141,
          0.6752777893752473,
          0.670629269593869,
          0.6435509706344578,
          0.6894376771359556,
          0.6796075222621136,
          0.656602230324487,
          0.6792331207085887,
          0.6799546811294274,
          0.6460865338603621,
          0.6757842582413307,
          0.6875909563062569,
          0.6614408716364479,
          0.67234563181869,
          0.4345491709047309,
          0.652676004754033,
          0.6177231598297757,
          0.6966349445499811,
          0.6907688677929142,
          0.666496896863461,
          0.6802222049123007,
          0.6873729969215818,
          0.653166589515638,
          0.6521001010851055,
          0.676294376973948,
          0.6673512688605158,
          0.6578222624866218,
          0.6662612501068383,
          0.6582553327293854,
          0.6263916195944781,
          0.6806484933880561,
          0.6975329688589481,
          0.6798619194340129,
          0.6735775859173256,
          0.6780215223419146,
          0.6614060512176942,
          0.6770926825091023,
          0.6581903814889835,
          0.6717481709783072,
          0.6688277521213746,
          0.6825412840097748,
          0.6701295796544706,
          0.6871780389005907,
          0.6717892772434713,
          0.6896278188753644,
          0.6721973390814444,
          0.6750362843554386,
          0.6824965046901674,
          0.6723637131543244,
          0.6677766853071511
         ]
        },
        {
         "hovertemplate": "%{text}<extra>Best Trial</extra>",
         "marker": {
          "color": [
           36,
           42,
           45,
           51,
           54,
           57,
           61,
           63,
           70,
           71,
           76,
           85
          ],
          "colorbar": {
           "title": {
            "text": "Best Trial"
           },
           "x": 1.1,
           "xpad": 40
          },
          "colorscale": [
           [
            0,
            "rgb(255,245,240)"
           ],
           [
            0.125,
            "rgb(254,224,210)"
           ],
           [
            0.25,
            "rgb(252,187,161)"
           ],
           [
            0.375,
            "rgb(252,146,114)"
           ],
           [
            0.5,
            "rgb(251,106,74)"
           ],
           [
            0.625,
            "rgb(239,59,44)"
           ],
           [
            0.75,
            "rgb(203,24,29)"
           ],
           [
            0.875,
            "rgb(165,15,21)"
           ],
           [
            1,
            "rgb(103,0,13)"
           ]
          ],
          "line": {
           "color": "Grey",
           "width": 0.5
          }
         },
         "mode": "markers",
         "showlegend": false,
         "text": [
          "{<br>  \"number\": 36,<br>  \"values\": [<br>    0.05099431171608193,<br>    0.6949282612492936<br>  ],<br>  \"params\": {<br>    \"n_estimators\": 9152,<br>    \"num_leaves\": 976,<br>    \"max_depth\": 8,<br>    \"min_child_samples\": 112,<br>    \"learning_rate\": 0.002788190008426002,<br>    \"boosting_type\": \"gbdt\"<br>  }<br>}",
          "{<br>  \"number\": 42,<br>  \"values\": [<br>    0.0,<br>    0.0<br>  ],<br>  \"params\": {<br>    \"n_estimators\": 2105,<br>    \"num_leaves\": 436,<br>    \"max_depth\": 4,<br>    \"min_child_samples\": 121,<br>    \"learning_rate\": 0.00011074773607809389,<br>    \"boosting_type\": \"gbdt\"<br>  }<br>}",
          "{<br>  \"number\": 45,<br>  \"values\": [<br>    0.0,<br>    0.0<br>  ],<br>  \"params\": {<br>    \"n_estimators\": 925,<br>    \"num_leaves\": 63,<br>    \"max_depth\": 20,<br>    \"min_child_samples\": 121,<br>    \"learning_rate\": 1.5968613676563444e-05,<br>    \"boosting_type\": \"gbdt\"<br>  }<br>}",
          "{<br>  \"number\": 51,<br>  \"values\": [<br>    0.0,<br>    0.0<br>  ],<br>  \"params\": {<br>    \"n_estimators\": 845,<br>    \"num_leaves\": 49,<br>    \"max_depth\": 10,<br>    \"min_child_samples\": 123,<br>    \"learning_rate\": 4.346789014820921e-05,<br>    \"boosting_type\": \"gbdt\"<br>  }<br>}",
          "{<br>  \"number\": 54,<br>  \"values\": [<br>    0.0,<br>    0.0<br>  ],<br>  \"params\": {<br>    \"n_estimators\": 195,<br>    \"num_leaves\": 18,<br>    \"max_depth\": 13,<br>    \"min_child_samples\": 111,<br>    \"learning_rate\": 0.0004656495790967875,<br>    \"boosting_type\": \"gbdt\"<br>  }<br>}",
          "{<br>  \"number\": 57,<br>  \"values\": [<br>    0.037129579841497826,<br>    0.6917403274806382<br>  ],<br>  \"params\": {<br>    \"n_estimators\": 9321,<br>    \"num_leaves\": 569,<br>    \"max_depth\": 11,<br>    \"min_child_samples\": 100,<br>    \"learning_rate\": 0.0018264389319739408,<br>    \"boosting_type\": \"gbdt\"<br>  }<br>}",
          "{<br>  \"number\": 61,<br>  \"values\": [<br>    0.0,<br>    0.0<br>  ],<br>  \"params\": {<br>    \"n_estimators\": 28,<br>    \"num_leaves\": 720,<br>    \"max_depth\": 11,<br>    \"min_child_samples\": 110,<br>    \"learning_rate\": 0.0013453764333250249,<br>    \"boosting_type\": \"gbdt\"<br>  }<br>}",
          "{<br>  \"number\": 63,<br>  \"values\": [<br>    0.06741779068616824,<br>    0.7005150602841336<br>  ],<br>  \"params\": {<br>    \"n_estimators\": 3911,<br>    \"num_leaves\": 854,<br>    \"max_depth\": 3,<br>    \"min_child_samples\": 94,<br>    \"learning_rate\": 0.009727657066081304,<br>    \"boosting_type\": \"gbdt\"<br>  }<br>}",
          "{<br>  \"number\": 70,<br>  \"values\": [<br>    0.0,<br>    0.0<br>  ],<br>  \"params\": {<br>    \"n_estimators\": 6797,<br>    \"num_leaves\": 686,<br>    \"max_depth\": 9,<br>    \"min_child_samples\": 47,<br>    \"learning_rate\": 3.198021929397602e-05,<br>    \"boosting_type\": \"gbdt\"<br>  }<br>}",
          "{<br>  \"number\": 71,<br>  \"values\": [<br>    0.03451629390915005,<br>    0.6732123409316847<br>  ],<br>  \"params\": {<br>    \"n_estimators\": 4968,<br>    \"num_leaves\": 501,<br>    \"max_depth\": 11,<br>    \"min_child_samples\": 67,<br>    \"learning_rate\": 0.007155247746068256,<br>    \"boosting_type\": \"gbdt\"<br>  }<br>}",
          "{<br>  \"number\": 76,<br>  \"values\": [<br>    0.06448983830529306,<br>    0.6956782369299391<br>  ],<br>  \"params\": {<br>    \"n_estimators\": 5776,<br>    \"num_leaves\": 454,<br>    \"max_depth\": 3,<br>    \"min_child_samples\": 42,<br>    \"learning_rate\": 0.008959925205596849,<br>    \"boosting_type\": \"gbdt\"<br>  }<br>}",
          "{<br>  \"number\": 85,<br>  \"values\": [<br>    0.03598796985147233,<br>    0.6827708971360688<br>  ],<br>  \"params\": {<br>    \"n_estimators\": 5440,<br>    \"num_leaves\": 458,<br>    \"max_depth\": 9,<br>    \"min_child_samples\": 86,<br>    \"learning_rate\": 0.005290049992034342,<br>    \"boosting_type\": \"gbdt\"<br>  }<br>}"
         ],
         "type": "scatter",
         "x": [
          0.05099431171608193,
          0,
          0,
          0,
          0,
          0.037129579841497826,
          0,
          0.06741779068616824,
          0,
          0.03451629390915005,
          0.06448983830529306,
          0.03598796985147233
         ],
         "y": [
          0.6949282612492936,
          0,
          0,
          0,
          0,
          0.6917403274806382,
          0,
          0.7005150602841336,
          0,
          0.6732123409316847,
          0.6956782369299391,
          0.6827708971360688
         ]
        }
       ],
       "layout": {
        "template": {
         "data": {
          "bar": [
           {
            "error_x": {
             "color": "#2a3f5f"
            },
            "error_y": {
             "color": "#2a3f5f"
            },
            "marker": {
             "line": {
              "color": "#E5ECF6",
              "width": 0.5
             },
             "pattern": {
              "fillmode": "overlay",
              "size": 10,
              "solidity": 0.2
             }
            },
            "type": "bar"
           }
          ],
          "barpolar": [
           {
            "marker": {
             "line": {
              "color": "#E5ECF6",
              "width": 0.5
             },
             "pattern": {
              "fillmode": "overlay",
              "size": 10,
              "solidity": 0.2
             }
            },
            "type": "barpolar"
           }
          ],
          "carpet": [
           {
            "aaxis": {
             "endlinecolor": "#2a3f5f",
             "gridcolor": "white",
             "linecolor": "white",
             "minorgridcolor": "white",
             "startlinecolor": "#2a3f5f"
            },
            "baxis": {
             "endlinecolor": "#2a3f5f",
             "gridcolor": "white",
             "linecolor": "white",
             "minorgridcolor": "white",
             "startlinecolor": "#2a3f5f"
            },
            "type": "carpet"
           }
          ],
          "choropleth": [
           {
            "colorbar": {
             "outlinewidth": 0,
             "ticks": ""
            },
            "type": "choropleth"
           }
          ],
          "contour": [
           {
            "colorbar": {
             "outlinewidth": 0,
             "ticks": ""
            },
            "colorscale": [
             [
              0,
              "#0d0887"
             ],
             [
              0.1111111111111111,
              "#46039f"
             ],
             [
              0.2222222222222222,
              "#7201a8"
             ],
             [
              0.3333333333333333,
              "#9c179e"
             ],
             [
              0.4444444444444444,
              "#bd3786"
             ],
             [
              0.5555555555555556,
              "#d8576b"
             ],
             [
              0.6666666666666666,
              "#ed7953"
             ],
             [
              0.7777777777777778,
              "#fb9f3a"
             ],
             [
              0.8888888888888888,
              "#fdca26"
             ],
             [
              1,
              "#f0f921"
             ]
            ],
            "type": "contour"
           }
          ],
          "contourcarpet": [
           {
            "colorbar": {
             "outlinewidth": 0,
             "ticks": ""
            },
            "type": "contourcarpet"
           }
          ],
          "heatmap": [
           {
            "colorbar": {
             "outlinewidth": 0,
             "ticks": ""
            },
            "colorscale": [
             [
              0,
              "#0d0887"
             ],
             [
              0.1111111111111111,
              "#46039f"
             ],
             [
              0.2222222222222222,
              "#7201a8"
             ],
             [
              0.3333333333333333,
              "#9c179e"
             ],
             [
              0.4444444444444444,
              "#bd3786"
             ],
             [
              0.5555555555555556,
              "#d8576b"
             ],
             [
              0.6666666666666666,
              "#ed7953"
             ],
             [
              0.7777777777777778,
              "#fb9f3a"
             ],
             [
              0.8888888888888888,
              "#fdca26"
             ],
             [
              1,
              "#f0f921"
             ]
            ],
            "type": "heatmap"
           }
          ],
          "heatmapgl": [
           {
            "colorbar": {
             "outlinewidth": 0,
             "ticks": ""
            },
            "colorscale": [
             [
              0,
              "#0d0887"
             ],
             [
              0.1111111111111111,
              "#46039f"
             ],
             [
              0.2222222222222222,
              "#7201a8"
             ],
             [
              0.3333333333333333,
              "#9c179e"
             ],
             [
              0.4444444444444444,
              "#bd3786"
             ],
             [
              0.5555555555555556,
              "#d8576b"
             ],
             [
              0.6666666666666666,
              "#ed7953"
             ],
             [
              0.7777777777777778,
              "#fb9f3a"
             ],
             [
              0.8888888888888888,
              "#fdca26"
             ],
             [
              1,
              "#f0f921"
             ]
            ],
            "type": "heatmapgl"
           }
          ],
          "histogram": [
           {
            "marker": {
             "pattern": {
              "fillmode": "overlay",
              "size": 10,
              "solidity": 0.2
             }
            },
            "type": "histogram"
           }
          ],
          "histogram2d": [
           {
            "colorbar": {
             "outlinewidth": 0,
             "ticks": ""
            },
            "colorscale": [
             [
              0,
              "#0d0887"
             ],
             [
              0.1111111111111111,
              "#46039f"
             ],
             [
              0.2222222222222222,
              "#7201a8"
             ],
             [
              0.3333333333333333,
              "#9c179e"
             ],
             [
              0.4444444444444444,
              "#bd3786"
             ],
             [
              0.5555555555555556,
              "#d8576b"
             ],
             [
              0.6666666666666666,
              "#ed7953"
             ],
             [
              0.7777777777777778,
              "#fb9f3a"
             ],
             [
              0.8888888888888888,
              "#fdca26"
             ],
             [
              1,
              "#f0f921"
             ]
            ],
            "type": "histogram2d"
           }
          ],
          "histogram2dcontour": [
           {
            "colorbar": {
             "outlinewidth": 0,
             "ticks": ""
            },
            "colorscale": [
             [
              0,
              "#0d0887"
             ],
             [
              0.1111111111111111,
              "#46039f"
             ],
             [
              0.2222222222222222,
              "#7201a8"
             ],
             [
              0.3333333333333333,
              "#9c179e"
             ],
             [
              0.4444444444444444,
              "#bd3786"
             ],
             [
              0.5555555555555556,
              "#d8576b"
             ],
             [
              0.6666666666666666,
              "#ed7953"
             ],
             [
              0.7777777777777778,
              "#fb9f3a"
             ],
             [
              0.8888888888888888,
              "#fdca26"
             ],
             [
              1,
              "#f0f921"
             ]
            ],
            "type": "histogram2dcontour"
           }
          ],
          "mesh3d": [
           {
            "colorbar": {
             "outlinewidth": 0,
             "ticks": ""
            },
            "type": "mesh3d"
           }
          ],
          "parcoords": [
           {
            "line": {
             "colorbar": {
              "outlinewidth": 0,
              "ticks": ""
             }
            },
            "type": "parcoords"
           }
          ],
          "pie": [
           {
            "automargin": true,
            "type": "pie"
           }
          ],
          "scatter": [
           {
            "fillpattern": {
             "fillmode": "overlay",
             "size": 10,
             "solidity": 0.2
            },
            "type": "scatter"
           }
          ],
          "scatter3d": [
           {
            "line": {
             "colorbar": {
              "outlinewidth": 0,
              "ticks": ""
             }
            },
            "marker": {
             "colorbar": {
              "outlinewidth": 0,
              "ticks": ""
             }
            },
            "type": "scatter3d"
           }
          ],
          "scattercarpet": [
           {
            "marker": {
             "colorbar": {
              "outlinewidth": 0,
              "ticks": ""
             }
            },
            "type": "scattercarpet"
           }
          ],
          "scattergeo": [
           {
            "marker": {
             "colorbar": {
              "outlinewidth": 0,
              "ticks": ""
             }
            },
            "type": "scattergeo"
           }
          ],
          "scattergl": [
           {
            "marker": {
             "colorbar": {
              "outlinewidth": 0,
              "ticks": ""
             }
            },
            "type": "scattergl"
           }
          ],
          "scattermapbox": [
           {
            "marker": {
             "colorbar": {
              "outlinewidth": 0,
              "ticks": ""
             }
            },
            "type": "scattermapbox"
           }
          ],
          "scatterpolar": [
           {
            "marker": {
             "colorbar": {
              "outlinewidth": 0,
              "ticks": ""
             }
            },
            "type": "scatterpolar"
           }
          ],
          "scatterpolargl": [
           {
            "marker": {
             "colorbar": {
              "outlinewidth": 0,
              "ticks": ""
             }
            },
            "type": "scatterpolargl"
           }
          ],
          "scatterternary": [
           {
            "marker": {
             "colorbar": {
              "outlinewidth": 0,
              "ticks": ""
             }
            },
            "type": "scatterternary"
           }
          ],
          "surface": [
           {
            "colorbar": {
             "outlinewidth": 0,
             "ticks": ""
            },
            "colorscale": [
             [
              0,
              "#0d0887"
             ],
             [
              0.1111111111111111,
              "#46039f"
             ],
             [
              0.2222222222222222,
              "#7201a8"
             ],
             [
              0.3333333333333333,
              "#9c179e"
             ],
             [
              0.4444444444444444,
              "#bd3786"
             ],
             [
              0.5555555555555556,
              "#d8576b"
             ],
             [
              0.6666666666666666,
              "#ed7953"
             ],
             [
              0.7777777777777778,
              "#fb9f3a"
             ],
             [
              0.8888888888888888,
              "#fdca26"
             ],
             [
              1,
              "#f0f921"
             ]
            ],
            "type": "surface"
           }
          ],
          "table": [
           {
            "cells": {
             "fill": {
              "color": "#EBF0F8"
             },
             "line": {
              "color": "white"
             }
            },
            "header": {
             "fill": {
              "color": "#C8D4E3"
             },
             "line": {
              "color": "white"
             }
            },
            "type": "table"
           }
          ]
         },
         "layout": {
          "annotationdefaults": {
           "arrowcolor": "#2a3f5f",
           "arrowhead": 0,
           "arrowwidth": 1
          },
          "autotypenumbers": "strict",
          "coloraxis": {
           "colorbar": {
            "outlinewidth": 0,
            "ticks": ""
           }
          },
          "colorscale": {
           "diverging": [
            [
             0,
             "#8e0152"
            ],
            [
             0.1,
             "#c51b7d"
            ],
            [
             0.2,
             "#de77ae"
            ],
            [
             0.3,
             "#f1b6da"
            ],
            [
             0.4,
             "#fde0ef"
            ],
            [
             0.5,
             "#f7f7f7"
            ],
            [
             0.6,
             "#e6f5d0"
            ],
            [
             0.7,
             "#b8e186"
            ],
            [
             0.8,
             "#7fbc41"
            ],
            [
             0.9,
             "#4d9221"
            ],
            [
             1,
             "#276419"
            ]
           ],
           "sequential": [
            [
             0,
             "#0d0887"
            ],
            [
             0.1111111111111111,
             "#46039f"
            ],
            [
             0.2222222222222222,
             "#7201a8"
            ],
            [
             0.3333333333333333,
             "#9c179e"
            ],
            [
             0.4444444444444444,
             "#bd3786"
            ],
            [
             0.5555555555555556,
             "#d8576b"
            ],
            [
             0.6666666666666666,
             "#ed7953"
            ],
            [
             0.7777777777777778,
             "#fb9f3a"
            ],
            [
             0.8888888888888888,
             "#fdca26"
            ],
            [
             1,
             "#f0f921"
            ]
           ],
           "sequentialminus": [
            [
             0,
             "#0d0887"
            ],
            [
             0.1111111111111111,
             "#46039f"
            ],
            [
             0.2222222222222222,
             "#7201a8"
            ],
            [
             0.3333333333333333,
             "#9c179e"
            ],
            [
             0.4444444444444444,
             "#bd3786"
            ],
            [
             0.5555555555555556,
             "#d8576b"
            ],
            [
             0.6666666666666666,
             "#ed7953"
            ],
            [
             0.7777777777777778,
             "#fb9f3a"
            ],
            [
             0.8888888888888888,
             "#fdca26"
            ],
            [
             1,
             "#f0f921"
            ]
           ]
          },
          "colorway": [
           "#636efa",
           "#EF553B",
           "#00cc96",
           "#ab63fa",
           "#FFA15A",
           "#19d3f3",
           "#FF6692",
           "#B6E880",
           "#FF97FF",
           "#FECB52"
          ],
          "font": {
           "color": "#2a3f5f"
          },
          "geo": {
           "bgcolor": "white",
           "lakecolor": "white",
           "landcolor": "#E5ECF6",
           "showlakes": true,
           "showland": true,
           "subunitcolor": "white"
          },
          "hoverlabel": {
           "align": "left"
          },
          "hovermode": "closest",
          "mapbox": {
           "style": "light"
          },
          "paper_bgcolor": "white",
          "plot_bgcolor": "#E5ECF6",
          "polar": {
           "angularaxis": {
            "gridcolor": "white",
            "linecolor": "white",
            "ticks": ""
           },
           "bgcolor": "#E5ECF6",
           "radialaxis": {
            "gridcolor": "white",
            "linecolor": "white",
            "ticks": ""
           }
          },
          "scene": {
           "xaxis": {
            "backgroundcolor": "#E5ECF6",
            "gridcolor": "white",
            "gridwidth": 2,
            "linecolor": "white",
            "showbackground": true,
            "ticks": "",
            "zerolinecolor": "white"
           },
           "yaxis": {
            "backgroundcolor": "#E5ECF6",
            "gridcolor": "white",
            "gridwidth": 2,
            "linecolor": "white",
            "showbackground": true,
            "ticks": "",
            "zerolinecolor": "white"
           },
           "zaxis": {
            "backgroundcolor": "#E5ECF6",
            "gridcolor": "white",
            "gridwidth": 2,
            "linecolor": "white",
            "showbackground": true,
            "ticks": "",
            "zerolinecolor": "white"
           }
          },
          "shapedefaults": {
           "line": {
            "color": "#2a3f5f"
           }
          },
          "ternary": {
           "aaxis": {
            "gridcolor": "white",
            "linecolor": "white",
            "ticks": ""
           },
           "baxis": {
            "gridcolor": "white",
            "linecolor": "white",
            "ticks": ""
           },
           "bgcolor": "#E5ECF6",
           "caxis": {
            "gridcolor": "white",
            "linecolor": "white",
            "ticks": ""
           }
          },
          "title": {
           "x": 0.05
          },
          "xaxis": {
           "automargin": true,
           "gridcolor": "white",
           "linecolor": "white",
           "ticks": "",
           "title": {
            "standoff": 15
           },
           "zerolinecolor": "white",
           "zerolinewidth": 2
          },
          "yaxis": {
           "automargin": true,
           "gridcolor": "white",
           "linecolor": "white",
           "ticks": "",
           "title": {
            "standoff": 15
           },
           "zerolinecolor": "white",
           "zerolinewidth": 2
          }
         }
        },
        "title": {
         "text": "Pareto-front Plot"
        },
        "xaxis": {
         "title": {
          "text": "fair_metric"
         }
        },
        "yaxis": {
         "title": {
          "text": "f1_score"
         }
        }
       }
      }
     },
     "metadata": {},
     "output_type": "display_data"
    }
   ],
   "source": [
    "optuna.visualization.plot_pareto_front(study, target_names=[\"fair_metric\", \"f1_score\"], include_dominated_trials = True)"
   ]
  },
  {
   "cell_type": "code",
   "execution_count": null,
   "metadata": {},
   "outputs": [],
   "source": []
  }
 ],
 "metadata": {
  "kernelspec": {
   "display_name": "fairenv",
   "language": "python",
   "name": "python3"
  },
  "language_info": {
   "codemirror_mode": {
    "name": "ipython",
    "version": 3
   },
   "file_extension": ".py",
   "mimetype": "text/x-python",
   "name": "python",
   "nbconvert_exporter": "python",
   "pygments_lexer": "ipython3",
   "version": "3.10.10"
  },
  "orig_nbformat": 4
 },
 "nbformat": 4,
 "nbformat_minor": 2
}
