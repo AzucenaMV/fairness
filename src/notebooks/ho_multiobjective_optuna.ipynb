{
 "cells": [
  {
   "cell_type": "code",
   "execution_count": null,
   "metadata": {},
   "outputs": [],
   "source": [
    "#! pip install fairlearn\n",
    "#! pip install lightgbm\n",
    "#! pip install optuna"
   ]
  },
  {
   "cell_type": "code",
   "execution_count": null,
   "metadata": {},
   "outputs": [
    {
     "name": "stderr",
     "output_type": "stream",
     "text": [
      "/home/azucena/miniconda3/envs/fairenv/lib/python3.10/site-packages/tqdm/auto.py:21: TqdmWarning: IProgress not found. Please update jupyter and ipywidgets. See https://ipywidgets.readthedocs.io/en/stable/user_install.html\n",
      "  from .autonotebook import tqdm as notebook_tqdm\n"
     ]
    }
   ],
   "source": [
    "from sklearn.metrics import f1_score, confusion_matrix, make_scorer, accuracy_score, recall_score\n",
    "from sklearn.model_selection import cross_val_score, train_test_split, cross_validate\n",
    "from fairlearn.datasets import fetch_adult\n",
    "from sklearn.pipeline import Pipeline\n",
    "from sklearn.preprocessing import OneHotEncoder, StandardScaler\n",
    "from sklearn.compose import ColumnTransformer\n",
    "from sklearn.compose import make_column_selector as selector\n",
    "from sklearn.impute import SimpleImputer\n",
    "from sklearn.ensemble import RandomForestClassifier\n",
    "from lightgbm import LGBMClassifier\n",
    "\n",
    "import numpy as np\n",
    "import optuna\n",
    "import tqdm as notebook_tqdm\n",
    "from metrics import (\n",
    "    equality_opportunity_difference,\n",
    "    predictive_equality_difference,\n",
    "    metrics\n",
    ")"
   ]
  },
  {
   "cell_type": "code",
   "execution_count": null,
   "metadata": {},
   "outputs": [
    {
     "name": "stderr",
     "output_type": "stream",
     "text": [
      "/home/azucena/miniconda3/envs/fairenv/lib/python3.10/site-packages/sklearn/datasets/_openml.py:968: FutureWarning: The default value of `parser` will change from `'liac-arff'` to `'auto'` in 1.4. You can set `parser='auto'` to silence this warning. Therefore, an `ImportError` will be raised from 1.4 if the dataset is dense and pandas is not installed. Note that the pandas parser may return different data types. See the Notes Section in fetch_openml's API doc for details.\n",
      "  warn(\n"
     ]
    }
   ],
   "source": [
    "data = fetch_adult(as_frame=True)\n",
    "X_raw = data.data\n",
    "y = (data.target == \">50K\") * 1\n",
    "A = X_raw[\"sex\"]\n",
    "\n",
    "numeric_transformer = Pipeline(\n",
    "    steps=[\n",
    "        (\"impute\", SimpleImputer()),\n",
    "        (\"scaler\", StandardScaler()),\n",
    "    ]\n",
    ")\n",
    "categorical_transformer = Pipeline(\n",
    "    [\n",
    "        (\"impute\", SimpleImputer(strategy=\"most_frequent\")),\n",
    "        (\"ohe\", OneHotEncoder(handle_unknown=\"ignore\")),\n",
    "    ]\n",
    ")\n",
    "preprocessor = ColumnTransformer(\n",
    "    transformers=[\n",
    "        (\"num\", numeric_transformer, selector(dtype_exclude=\"category\")),\n",
    "        (\"cat\", categorical_transformer, selector(dtype_include=\"category\")),\n",
    "    ]\n",
    ")\n",
    "\n",
    "pipeline = Pipeline(\n",
    "    steps=[\n",
    "        (\"preprocessor\", preprocessor),\n",
    "        (\n",
    "            \"classifier\",\n",
    "            LGBMClassifier(n_jobs=-1),\n",
    "        ),\n",
    "    ]\n",
    ")"
   ]
  },
  {
   "cell_type": "code",
   "execution_count": null,
   "metadata": {},
   "outputs": [],
   "source": [
    "results = []"
   ]
  },
  {
   "cell_type": "code",
   "execution_count": null,
   "metadata": {},
   "outputs": [
    {
     "name": "stderr",
     "output_type": "stream",
     "text": [
      "\u001b[32m[I 2023-05-12 14:56:31,969]\u001b[0m A new study created in memory with name: no-name-14f82152-8e34-4dde-b4c7-9cb70b032495\u001b[0m\n"
     ]
    },
    {
     "name": "stdout",
     "output_type": "stream",
     "text": [
      "1\n"
     ]
    },
    {
     "name": "stderr",
     "output_type": "stream",
     "text": [
      "\u001b[32m[I 2023-05-12 14:56:42,430]\u001b[0m Trial 0 finished with values: [0.09479653381492684, 0.6106187887772471] and parameters: {'n_estimators': 2724, 'num_leaves': 305, 'max_depth': 7, 'min_child_samples': 129, 'learning_rate': 0.009684131645262545, 'boosting_type': 'goss'}. \u001b[0m\n",
      "\u001b[32m[I 2023-05-12 14:57:02,316]\u001b[0m Trial 1 finished with values: [0.09518159564146676, 0.5994802247478908] and parameters: {'n_estimators': 5255, 'num_leaves': 275, 'max_depth': 8, 'min_child_samples': 201, 'learning_rate': 0.002453173913138281, 'boosting_type': 'goss'}. \u001b[0m\n",
      "\u001b[32m[I 2023-05-12 14:57:37,242]\u001b[0m Trial 2 finished with values: [0.09560429655359028, 0.6067689745419939] and parameters: {'n_estimators': 8061, 'num_leaves': 136, 'max_depth': 12, 'min_child_samples': 170, 'learning_rate': 0.00837787045415179, 'boosting_type': 'goss'}. \u001b[0m\n",
      "\u001b[32m[I 2023-05-12 14:59:10,245]\u001b[0m Trial 3 finished with values: [0.10002034774009505, 0.6401306758908472] and parameters: {'n_estimators': 5954, 'num_leaves': 713, 'max_depth': 20, 'min_child_samples': 95, 'learning_rate': 0.007800862429322683, 'boosting_type': 'gbdt'}. \u001b[0m\n",
      "\u001b[32m[I 2023-05-12 15:00:46,370]\u001b[0m Trial 4 finished with values: [0.10168234845471676, 0.6354279909954428] and parameters: {'n_estimators': 8503, 'num_leaves': 683, 'max_depth': 17, 'min_child_samples': 157, 'learning_rate': 0.007606213034995962, 'boosting_type': 'gbdt'}. \u001b[0m\n",
      "\u001b[32m[I 2023-05-12 15:01:20,340]\u001b[0m Trial 5 finished with values: [0.062217668523498595, 0.5429940152638226] and parameters: {'n_estimators': 1600, 'num_leaves': 535, 'max_depth': 13, 'min_child_samples': 52, 'learning_rate': 0.0012102463808888802, 'boosting_type': 'gbdt'}. \u001b[0m\n",
      "\u001b[32m[I 2023-05-12 15:01:46,865]\u001b[0m Trial 6 finished with values: [0.0, 0.0] and parameters: {'n_estimators': 2499, 'num_leaves': 906, 'max_depth': 15, 'min_child_samples': 179, 'learning_rate': 3.858414177085355e-05, 'boosting_type': 'gbdt'}. \u001b[0m\n",
      "\u001b[32m[I 2023-05-12 15:04:14,009]\u001b[0m Trial 7 finished with values: [0.10049056322525754, 0.631569940884716] and parameters: {'n_estimators': 6196, 'num_leaves': 488, 'max_depth': 20, 'min_child_samples': 45, 'learning_rate': 0.006052804879704526, 'boosting_type': 'gbdt'}. \u001b[0m\n",
      "\u001b[32m[I 2023-05-12 15:04:49,415]\u001b[0m Trial 8 finished with values: [0.08972435053115395, 0.5964805358809642] and parameters: {'n_estimators': 4932, 'num_leaves': 342, 'max_depth': 18, 'min_child_samples': 165, 'learning_rate': 0.0011644598981644695, 'boosting_type': 'goss'}. \u001b[0m\n",
      "\u001b[32m[I 2023-05-12 15:04:51,968]\u001b[0m Trial 9 finished with values: [0.07111303554752282, 0.5549744687860318] and parameters: {'n_estimators': 246, 'num_leaves': 75, 'max_depth': 7, 'min_child_samples': 227, 'learning_rate': 0.009379431548400638, 'boosting_type': 'gbdt'}. \u001b[0m\n",
      "\u001b[32m[I 2023-05-12 15:04:52,982]\u001b[0m Trial 10 finished with values: [0.0, 0.0] and parameters: {'n_estimators': 85, 'num_leaves': 608, 'max_depth': 2, 'min_child_samples': 288, 'learning_rate': 0.0033735765332672295, 'boosting_type': 'gbdt'}. \u001b[0m\n",
      "\u001b[32m[I 2023-05-12 15:07:16,810]\u001b[0m Trial 11 finished with values: [0.012344424918399549, 0.33546459488643643] and parameters: {'n_estimators': 2960, 'num_leaves': 434, 'max_depth': 13, 'min_child_samples': 14, 'learning_rate': 0.00023412979272529764, 'boosting_type': 'goss'}. \u001b[0m\n",
      "\u001b[32m[I 2023-05-12 15:09:10,173]\u001b[0m Trial 12 finished with values: [0.0, 0.0004273504273504274] and parameters: {'n_estimators': 2672, 'num_leaves': 457, 'max_depth': 13, 'min_child_samples': 18, 'learning_rate': 0.00015201808441835715, 'boosting_type': 'goss'}. \u001b[0m\n",
      "\u001b[32m[I 2023-05-12 15:09:28,880]\u001b[0m Trial 13 finished with values: [0.08428679153553284, 0.5994866304288147] and parameters: {'n_estimators': 1809, 'num_leaves': 979, 'max_depth': 10, 'min_child_samples': 65, 'learning_rate': 0.0022528505777473216, 'boosting_type': 'goss'}. \u001b[0m\n",
      "\u001b[32m[I 2023-05-12 15:11:12,491]\u001b[0m Trial 14 finished with values: [0.09593009026449173, 0.6414145573674481] and parameters: {'n_estimators': 3886, 'num_leaves': 787, 'max_depth': 14, 'min_child_samples': 14, 'learning_rate': 0.003933726266200482, 'boosting_type': 'goss'}. \u001b[0m\n",
      "\u001b[32m[I 2023-05-12 15:11:30,662]\u001b[0m Trial 15 finished with values: [0.06177207186451118, 0.5382986511466169] and parameters: {'n_estimators': 1431, 'num_leaves': 593, 'max_depth': 11, 'min_child_samples': 96, 'learning_rate': 0.0013198494257457222, 'boosting_type': 'gbdt'}. \u001b[0m\n",
      "\u001b[32m[I 2023-05-12 15:12:07,903]\u001b[0m Trial 16 finished with values: [0.09974524710810209, 0.6349914895953439] and parameters: {'n_estimators': 3721, 'num_leaves': 459, 'max_depth': 16, 'min_child_samples': 54, 'learning_rate': 0.004999627906082873, 'boosting_type': 'goss'}. \u001b[0m\n",
      "\u001b[32m[I 2023-05-12 15:12:17,141]\u001b[0m Trial 17 finished with values: [0.05830969240714441, 0.5494289793004996] and parameters: {'n_estimators': 3812, 'num_leaves': 179, 'max_depth': 3, 'min_child_samples': 5, 'learning_rate': 0.0012129663569195944, 'boosting_type': 'gbdt'}. \u001b[0m\n",
      "\u001b[32m[I 2023-05-12 15:12:32,708]\u001b[0m Trial 18 finished with values: [0.0009060415631345504, 0.06973681802375592] and parameters: {'n_estimators': 7336, 'num_leaves': 196, 'max_depth': 2, 'min_child_samples': 9, 'learning_rate': 7.783045300631809e-05, 'boosting_type': 'goss'}. \u001b[0m\n",
      "\u001b[32m[I 2023-05-12 15:12:52,900]\u001b[0m Trial 19 finished with values: [0.0729352130920635, 0.6234447921814089] and parameters: {'n_estimators': 4140, 'num_leaves': 392, 'max_depth': 5, 'min_child_samples': 83, 'learning_rate': 0.0026266429081714063, 'boosting_type': 'gbdt'}. \u001b[0m\n",
      "\u001b[32m[I 2023-05-12 15:13:29,758]\u001b[0m Trial 20 finished with values: [0.09093604047841494, 0.6144676879152253] and parameters: {'n_estimators': 9476, 'num_leaves': 23, 'max_depth': 4, 'min_child_samples': 124, 'learning_rate': 0.003945910708183611, 'boosting_type': 'goss'}. \u001b[0m\n",
      "\u001b[32m[I 2023-05-12 15:13:45,690]\u001b[0m Trial 21 finished with values: [0.0711989540773085, 0.6277146360658138] and parameters: {'n_estimators': 3989, 'num_leaves': 207, 'max_depth': 5, 'min_child_samples': 37, 'learning_rate': 0.0023563675441373656, 'boosting_type': 'gbdt'}. \u001b[0m\n",
      "\u001b[32m[I 2023-05-12 15:14:03,083]\u001b[0m Trial 22 finished with values: [0.06422713123433851, 0.5875043467120555] and parameters: {'n_estimators': 3392, 'num_leaves': 220, 'max_depth': 4, 'min_child_samples': 32, 'learning_rate': 0.0016528718116851021, 'boosting_type': 'gbdt'}. \u001b[0m\n",
      "\u001b[32m[I 2023-05-12 15:15:07,056]\u001b[0m Trial 23 finished with values: [0.07932373376593357, 0.6337140137996669] and parameters: {'n_estimators': 4687, 'num_leaves': 264, 'max_depth': 9, 'min_child_samples': 31, 'learning_rate': 0.0020650210078351754, 'boosting_type': 'gbdt'}. \u001b[0m\n",
      "\u001b[32m[I 2023-05-12 15:15:28,012]\u001b[0m Trial 24 finished with values: [0.05793979910013878, 0.5275984187119092] and parameters: {'n_estimators': 3223, 'num_leaves': 383, 'max_depth': 5, 'min_child_samples': 74, 'learning_rate': 0.0007265531137597677, 'boosting_type': 'goss'}. \u001b[0m\n",
      "\u001b[32m[I 2023-05-12 15:15:35,788]\u001b[0m Trial 25 finished with values: [0.04711691202212249, 0.48095042002964916] and parameters: {'n_estimators': 867, 'num_leaves': 229, 'max_depth': 6, 'min_child_samples': 37, 'learning_rate': 0.0016139207945307617, 'boosting_type': 'gbdt'}. \u001b[0m\n",
      "\u001b[32m[I 2023-05-12 15:15:42,736]\u001b[0m Trial 26 finished with values: [0.0357044501125496, 0.4488579586009993] and parameters: {'n_estimators': 774, 'num_leaves': 87, 'max_depth': 7, 'min_child_samples': 119, 'learning_rate': 0.0016221308887522624, 'boosting_type': 'gbdt'}. \u001b[0m\n",
      "\u001b[32m[I 2023-05-12 15:15:48,813]\u001b[0m Trial 27 finished with values: [0.07265931099543957, 0.5673895935137905] and parameters: {'n_estimators': 812, 'num_leaves': 30, 'max_depth': 9, 'min_child_samples': 252, 'learning_rate': 0.003282972973660663, 'boosting_type': 'gbdt'}. \u001b[0m\n",
      "\u001b[32m[I 2023-05-12 15:16:02,931]\u001b[0m Trial 28 finished with values: [0.0779063037104358, 0.6059051227145446] and parameters: {'n_estimators': 2110, 'num_leaves': 132, 'max_depth': 7, 'min_child_samples': 124, 'learning_rate': 0.0028835930021072326, 'boosting_type': 'gbdt'}. \u001b[0m\n",
      "\u001b[32m[I 2023-05-12 15:16:12,603]\u001b[0m Trial 29 finished with values: [0.06935205529631186, 0.556693936565457] and parameters: {'n_estimators': 1080, 'num_leaves': 100, 'max_depth': 10, 'min_child_samples': 119, 'learning_rate': 0.0021378294650877586, 'boosting_type': 'gbdt'}. \u001b[0m\n",
      "\u001b[32m[I 2023-05-12 15:16:29,052]\u001b[0m Trial 30 finished with values: [0.05670603459282594, 0.5177629532019254] and parameters: {'n_estimators': 2918, 'num_leaves': 331, 'max_depth': 6, 'min_child_samples': 144, 'learning_rate': 0.0006548378756909496, 'boosting_type': 'gbdt'}. \u001b[0m\n",
      "\u001b[32m[I 2023-05-12 15:16:36,911]\u001b[0m Trial 31 finished with values: [0.052584763931340664, 0.469398232032065] and parameters: {'n_estimators': 2203, 'num_leaves': 172, 'max_depth': 3, 'min_child_samples': 199, 'learning_rate': 0.0007110140955147093, 'boosting_type': 'gbdt'}. \u001b[0m\n",
      "\u001b[32m[I 2023-05-12 15:17:11,583]\u001b[0m Trial 32 finished with values: [0.07691129922537743, 0.622590091326708] and parameters: {'n_estimators': 5617, 'num_leaves': 72, 'max_depth': 8, 'min_child_samples': 102, 'learning_rate': 0.001868281324437825, 'boosting_type': 'gbdt'}. \u001b[0m\n",
      "\u001b[32m[I 2023-05-12 15:17:27,776]\u001b[0m Trial 33 finished with values: [0.0679868845822132, 0.6195977232379801] and parameters: {'n_estimators': 4437, 'num_leaves': 278, 'max_depth': 4, 'min_child_samples': 7, 'learning_rate': 0.002615215227061724, 'boosting_type': 'gbdt'}. \u001b[0m\n",
      "\u001b[32m[I 2023-05-12 15:17:44,498]\u001b[0m Trial 34 finished with values: [0.08512825323487853, 0.5305816358278885] and parameters: {'n_estimators': 4421, 'num_leaves': 291, 'max_depth': 3, 'min_child_samples': 299, 'learning_rate': 0.0009029808422696224, 'boosting_type': 'goss'}. \u001b[0m\n",
      "\u001b[32m[I 2023-05-12 15:18:20,743]\u001b[0m Trial 35 finished with values: [0.0853244575921648, 0.6178828309449294] and parameters: {'n_estimators': 6433, 'num_leaves': 151, 'max_depth': 12, 'min_child_samples': 243, 'learning_rate': 0.0017479196166171394, 'boosting_type': 'gbdt'}. \u001b[0m\n",
      "\u001b[32m[I 2023-05-12 15:19:05,399]\u001b[0m Trial 36 finished with values: [0.09018303277085774, 0.6375619978403704] and parameters: {'n_estimators': 9636, 'num_leaves': 109, 'max_depth': 8, 'min_child_samples': 201, 'learning_rate': 0.0028134482682689328, 'boosting_type': 'gbdt'}. \u001b[0m\n",
      "\u001b[32m[I 2023-05-12 15:19:48,298]\u001b[0m Trial 37 finished with values: [0.09102162388356501, 0.6238748879005838] and parameters: {'n_estimators': 5295, 'num_leaves': 268, 'max_depth': 11, 'min_child_samples': 67, 'learning_rate': 0.0012383993450185752, 'boosting_type': 'goss'}. \u001b[0m\n",
      "\u001b[32m[I 2023-05-12 15:20:28,621]\u001b[0m Trial 38 finished with values: [0.07964927977686549, 0.6153251340617508] and parameters: {'n_estimators': 577, 'num_leaves': 793, 'max_depth': 18, 'min_child_samples': 6, 'learning_rate': 0.006532966298091735, 'boosting_type': 'gbdt'}. \u001b[0m\n",
      "\u001b[32m[I 2023-05-12 15:20:45,186]\u001b[0m Trial 39 finished with values: [0.05477983839190046, 0.5122055674518202] and parameters: {'n_estimators': 6820, 'num_leaves': 407, 'max_depth': 3, 'min_child_samples': 186, 'learning_rate': 0.0005560729302944345, 'boosting_type': 'gbdt'}. \u001b[0m\n",
      "\u001b[32m[I 2023-05-12 15:20:59,400]\u001b[0m Trial 40 finished with values: [0.054922030508761044, 0.5156152198978752] and parameters: {'n_estimators': 1278, 'num_leaves': 11, 'max_depth': 7, 'min_child_samples': 218, 'learning_rate': 0.0013818877776595663, 'boosting_type': 'gbdt'}. \u001b[0m\n",
      "\u001b[32m[I 2023-05-12 15:22:07,901]\u001b[0m Trial 41 finished with values: [0.0, 0.0] and parameters: {'n_estimators': 7258, 'num_leaves': 539, 'max_depth': 14, 'min_child_samples': 150, 'learning_rate': 2.444782019490397e-05, 'boosting_type': 'goss'}. \u001b[0m\n",
      "\u001b[32m[I 2023-05-12 15:24:22,108]\u001b[0m Trial 42 finished with values: [0.10633577095950128, 0.6324273870312414] and parameters: {'n_estimators': 8190, 'num_leaves': 671, 'max_depth': 15, 'min_child_samples': 21, 'learning_rate': 0.009440941999902747, 'boosting_type': 'goss'}. \u001b[0m\n",
      "\u001b[32m[I 2023-05-12 15:25:17,770]\u001b[0m Trial 43 finished with values: [0.046287918794323, 0.48951023993850545] and parameters: {'n_estimators': 2973, 'num_leaves': 525, 'max_depth': 13, 'min_child_samples': 56, 'learning_rate': 0.0004391126173535525, 'boosting_type': 'goss'}. \u001b[0m\n",
      "\u001b[32m[I 2023-05-12 15:25:43,468]\u001b[0m Trial 44 finished with values: [0.09994946283543159, 0.5892164937132817] and parameters: {'n_estimators': 5186, 'num_leaves': 588, 'max_depth': 12, 'min_child_samples': 265, 'learning_rate': 0.008865992852239692, 'boosting_type': 'goss'}. \u001b[0m\n",
      "\u001b[32m[I 2023-05-12 15:26:17,679]\u001b[0m Trial 45 finished with values: [0.01226529744873484, 0.3115110086202163] and parameters: {'n_estimators': 2316, 'num_leaves': 347, 'max_depth': 15, 'min_child_samples': 108, 'learning_rate': 0.0003315665528237324, 'boosting_type': 'goss'}. \u001b[0m\n",
      "\u001b[32m[I 2023-05-12 15:26:40,603]\u001b[0m Trial 46 finished with values: [0.06233009189294989, 0.5297388312377607] and parameters: {'n_estimators': 1777, 'num_leaves': 470, 'max_depth': 17, 'min_child_samples': 87, 'learning_rate': 0.0009963328765265015, 'boosting_type': 'goss'}. \u001b[0m\n",
      "\u001b[32m[I 2023-05-12 15:30:02,536]\u001b[0m Trial 47 finished with values: [0.0974564078258233, 0.6251505335017112] and parameters: {'n_estimators': 7615, 'num_leaves': 437, 'max_depth': 14, 'min_child_samples': 5, 'learning_rate': 0.0077438565751593545, 'boosting_type': 'goss'}. \u001b[0m\n",
      "\u001b[32m[I 2023-05-12 15:30:03,372]\u001b[0m Trial 48 finished with values: [0.0, 0.0] and parameters: {'n_estimators': 142, 'num_leaves': 898, 'max_depth': 2, 'min_child_samples': 167, 'learning_rate': 1.0616354934472405e-05, 'boosting_type': 'goss'}. \u001b[0m\n",
      "\u001b[32m[I 2023-05-12 15:31:03,669]\u001b[0m Trial 49 finished with values: [0.10241911163626441, 0.6148959534398507] and parameters: {'n_estimators': 8940, 'num_leaves': 742, 'max_depth': 13, 'min_child_samples': 143, 'learning_rate': 0.009904423871328186, 'boosting_type': 'goss'}. \u001b[0m\n",
      "\u001b[32m[I 2023-05-12 15:31:49,649]\u001b[0m Trial 50 finished with values: [0.0921796896321586, 0.6213043796555573] and parameters: {'n_estimators': 4498, 'num_leaves': 189, 'max_depth': 12, 'min_child_samples': 45, 'learning_rate': 0.0010644663885688223, 'boosting_type': 'goss'}. \u001b[0m\n",
      "\u001b[32m[I 2023-05-12 15:33:41,708]\u001b[0m Trial 51 finished with values: [0.04045252604915839, 0.4899458262413295] and parameters: {'n_estimators': 2964, 'num_leaves': 533, 'max_depth': 13, 'min_child_samples': 16, 'learning_rate': 0.00039750470397868705, 'boosting_type': 'goss'}. \u001b[0m\n",
      "\u001b[32m[I 2023-05-12 15:34:57,150]\u001b[0m Trial 52 finished with values: [0.09997419070722027, 0.6371300719266457] and parameters: {'n_estimators': 3658, 'num_leaves': 642, 'max_depth': 20, 'min_child_samples': 22, 'learning_rate': 0.007179733833621728, 'boosting_type': 'goss'}. \u001b[0m\n",
      "\u001b[32m[I 2023-05-12 15:37:35,593]\u001b[0m Trial 53 finished with values: [0.10001693729739439, 0.6307198155163893] and parameters: {'n_estimators': 5717, 'num_leaves': 544, 'max_depth': 16, 'min_child_samples': 11, 'learning_rate': 0.005369689262403681, 'boosting_type': 'goss'}. \u001b[0m\n",
      "\u001b[32m[I 2023-05-12 15:38:31,171]\u001b[0m Trial 54 finished with values: [0.10042446209579514, 0.6371300719266457] and parameters: {'n_estimators': 2551, 'num_leaves': 993, 'max_depth': 19, 'min_child_samples': 22, 'learning_rate': 0.008314597407032786, 'boosting_type': 'goss'}. \u001b[0m\n",
      "\u001b[32m[I 2023-05-12 15:39:41,359]\u001b[0m Trial 55 finished with values: [0.019265658472011234, 0.35385805011072674] and parameters: {'n_estimators': 3382, 'num_leaves': 491, 'max_depth': 10, 'min_child_samples': 43, 'learning_rate': 0.00025004077112027905, 'boosting_type': 'goss'}. \u001b[0m\n",
      "\u001b[32m[I 2023-05-12 15:41:04,448]\u001b[0m Trial 56 finished with values: [0.09767371321677641, 0.6341386189351927] and parameters: {'n_estimators': 4822, 'num_leaves': 412, 'max_depth': 14, 'min_child_samples': 27, 'learning_rate': 0.0015537648722004811, 'boosting_type': 'goss'}. \u001b[0m\n",
      "\u001b[32m[I 2023-05-12 15:42:10,298]\u001b[0m Trial 57 finished with values: [0.07797186390594088, 0.5738080857995205] and parameters: {'n_estimators': 4247, 'num_leaves': 369, 'max_depth': 16, 'min_child_samples': 56, 'learning_rate': 0.0005478642020193935, 'boosting_type': 'goss'}. \u001b[0m\n",
      "\u001b[32m[I 2023-05-12 15:44:14,766]\u001b[0m Trial 58 finished with values: [0.09026142228779681, 0.6332903237614158] and parameters: {'n_estimators': 6349, 'num_leaves': 317, 'max_depth': 12, 'min_child_samples': 17, 'learning_rate': 0.0010180081305437099, 'boosting_type': 'goss'}. \u001b[0m\n",
      "\u001b[32m[I 2023-05-12 15:44:32,318]\u001b[0m Trial 59 finished with values: [0.0821467726500997, 0.5917805962773843] and parameters: {'n_estimators': 1472, 'num_leaves': 571, 'max_depth': 13, 'min_child_samples': 71, 'learning_rate': 0.0023056803100696675, 'boosting_type': 'goss'}. \u001b[0m\n",
      "\u001b[32m[I 2023-05-12 15:45:11,757]\u001b[0m Trial 60 finished with values: [0.08971703748303386, 0.6272936913193872] and parameters: {'n_estimators': 2943, 'num_leaves': 931, 'max_depth': 11, 'min_child_samples': 45, 'learning_rate': 0.0019058124669843039, 'boosting_type': 'goss'}. \u001b[0m\n",
      "\u001b[32m[I 2023-05-12 15:46:25,035]\u001b[0m Trial 61 finished with values: [0.09811231143949112, 0.6379893482677208] and parameters: {'n_estimators': 4757, 'num_leaves': 254, 'max_depth': 15, 'min_child_samples': 28, 'learning_rate': 0.0039099545217648884, 'boosting_type': 'goss'}. \u001b[0m\n",
      "\u001b[32m[I 2023-05-12 15:47:30,574]\u001b[0m Trial 62 finished with values: [0.040078494654975066, 0.4830853419718516] and parameters: {'n_estimators': 3858, 'num_leaves': 434, 'max_depth': 9, 'min_child_samples': 37, 'learning_rate': 0.0003387002196206367, 'boosting_type': 'goss'}. \u001b[0m\n",
      "\u001b[32m[I 2023-05-12 15:48:53,494]\u001b[0m Trial 63 finished with values: [0.06759922592952548, 0.5939200937059609] and parameters: {'n_estimators': 1868, 'num_leaves': 634, 'max_depth': 11, 'min_child_samples': 5, 'learning_rate': 0.0013726428882600292, 'boosting_type': 'gbdt'}. \u001b[0m\n",
      "\u001b[32m[I 2023-05-12 15:52:58,571]\u001b[0m Trial 64 finished with values: [0.0912923358437493, 0.6371355625102948] and parameters: {'n_estimators': 9170, 'num_leaves': 820, 'max_depth': 13, 'min_child_samples': 14, 'learning_rate': 0.0007745999983462322, 'boosting_type': 'goss'}. \u001b[0m\n",
      "\u001b[32m[I 2023-05-12 15:53:11,697]\u001b[0m Trial 65 finished with values: [0.06750630852542834, 0.5648190852687641] and parameters: {'n_estimators': 488, 'num_leaves': 499, 'max_depth': 14, 'min_child_samples': 30, 'learning_rate': 0.004663401075213937, 'boosting_type': 'gbdt'}. \u001b[0m\n",
      "\u001b[32m[I 2023-05-12 15:53:27,563]\u001b[0m Trial 66 finished with values: [0.09428132100468803, 0.5643908197441387] and parameters: {'n_estimators': 3429, 'num_leaves': 717, 'max_depth': 4, 'min_child_samples': 281, 'learning_rate': 0.0021464386513772396, 'boosting_type': 'goss'}. \u001b[0m\n",
      "\u001b[32m[I 2023-05-12 15:54:05,591]\u001b[0m Trial 67 finished with values: [0.07827036825578823, 0.603753729021395] and parameters: {'n_estimators': 5456, 'num_leaves': 241, 'max_depth': 9, 'min_child_samples': 223, 'learning_rate': 0.0009355733341748264, 'boosting_type': 'gbdt'}. \u001b[0m\n",
      "\u001b[32m[I 2023-05-12 15:55:52,862]\u001b[0m Trial 68 finished with values: [0.09508151727294623, 0.6367109573747689] and parameters: {'n_estimators': 9907, 'num_leaves': 308, 'max_depth': 10, 'min_child_samples': 37, 'learning_rate': 0.002461116822259653, 'boosting_type': 'goss'}. \u001b[0m\n",
      "\u001b[32m[I 2023-05-12 15:57:45,166]\u001b[0m Trial 69 finished with values: [0.06134780762535156, 0.5352989622796904] and parameters: {'n_estimators': 6822, 'num_leaves': 356, 'max_depth': 14, 'min_child_samples': 79, 'learning_rate': 0.0002692659733940248, 'boosting_type': 'gbdt'}. \u001b[0m\n",
      "\u001b[32m[I 2023-05-12 15:58:16,553]\u001b[0m Trial 70 finished with values: [0.09132556478430162, 0.6392851260088948] and parameters: {'n_estimators': 5917, 'num_leaves': 275, 'max_depth': 6, 'min_child_samples': 63, 'learning_rate': 0.006133569786686082, 'boosting_type': 'gbdt'}. \u001b[0m\n",
      "\u001b[32m[I 2023-05-12 15:58:24,098]\u001b[0m Trial 71 finished with values: [0.0011227262868615277, 0.15704075843262139] and parameters: {'n_estimators': 3214, 'num_leaves': 197, 'max_depth': 2, 'min_child_samples': 48, 'learning_rate': 0.0002811272995282396, 'boosting_type': 'gbdt'}. \u001b[0m\n",
      "\u001b[32m[I 2023-05-12 15:58:35,464]\u001b[0m Trial 72 finished with values: [0.05832185498210417, 0.5430187228902431] and parameters: {'n_estimators': 3557, 'num_leaves': 61, 'max_depth': 3, 'min_child_samples': 45, 'learning_rate': 0.0013185610505016604, 'boosting_type': 'gbdt'}. \u001b[0m\n",
      "\u001b[32m[I 2023-05-12 15:58:49,385]\u001b[0m Trial 73 finished with values: [0.04743097107531967, 0.49935119603213823] and parameters: {'n_estimators': 3128, 'num_leaves': 154, 'max_depth': 4, 'min_child_samples': 15, 'learning_rate': 0.000618430424648561, 'boosting_type': 'gbdt'}. \u001b[0m\n",
      "\u001b[32m[I 2023-05-12 15:59:16,699]\u001b[0m Trial 74 finished with values: [0.06825498610850476, 0.61787917055583] and parameters: {'n_estimators': 4512, 'num_leaves': 126, 'max_depth': 5, 'min_child_samples': 26, 'learning_rate': 0.0017834551624550175, 'boosting_type': 'gbdt'}. \u001b[0m\n",
      "\u001b[32m[I 2023-05-12 15:59:26,166]\u001b[0m Trial 75 finished with values: [0.0009060415631345504, 0.134360987572979] and parameters: {'n_estimators': 4149, 'num_leaves': 475, 'max_depth': 2, 'min_child_samples': 43, 'learning_rate': 0.00019794244295956676, 'boosting_type': 'gbdt'}. \u001b[0m\n",
      "\u001b[32m[I 2023-05-12 16:00:23,782]\u001b[0m Trial 76 finished with values: [0.05362067682961123, 0.5532687274657297] and parameters: {'n_estimators': 2559, 'num_leaves': 181, 'max_depth': 10, 'min_child_samples': 14, 'learning_rate': 0.0007515841422141193, 'boosting_type': 'gbdt'}. \u001b[0m\n",
      "\u001b[32m[I 2023-05-12 16:01:02,316]\u001b[0m Trial 77 finished with values: [0.032581576365509374, 0.4599782206848587] and parameters: {'n_estimators': 2536, 'num_leaves': 90, 'max_depth': 10, 'min_child_samples': 33, 'learning_rate': 0.00045363466407355164, 'boosting_type': 'gbdt'}. \u001b[0m\n",
      "\u001b[32m[I 2023-05-12 16:01:41,817]\u001b[0m Trial 78 finished with values: [0.03443505785662262, 0.4634025146873112] and parameters: {'n_estimators': 2689, 'num_leaves': 202, 'max_depth': 9, 'min_child_samples': 34, 'learning_rate': 0.00044447817925956953, 'boosting_type': 'gbdt'}. \u001b[0m\n",
      "\u001b[32m[I 2023-05-12 16:02:27,827]\u001b[0m Trial 79 finished with values: [0.06856806591184257, 0.5875025165175057] and parameters: {'n_estimators': 3292, 'num_leaves': 165, 'max_depth': 10, 'min_child_samples': 52, 'learning_rate': 0.0008414335253144674, 'boosting_type': 'gbdt'}. \u001b[0m\n",
      "\u001b[32m[I 2023-05-12 16:02:50,328]\u001b[0m Trial 80 finished with values: [0.001201452063242906, 0.2391908709895862] and parameters: {'n_estimators': 2446, 'num_leaves': 36, 'max_depth': 10, 'min_child_samples': 15, 'learning_rate': 0.0002042912856624159, 'boosting_type': 'gbdt'}. \u001b[0m\n",
      "\u001b[32m[I 2023-05-12 16:03:50,691]\u001b[0m Trial 81 finished with values: [0.04608895737351373, 0.5310163070334377] and parameters: {'n_estimators': 2310, 'num_leaves': 51, 'max_depth': 10, 'min_child_samples': 16, 'learning_rate': 0.0006845373954844964, 'boosting_type': 'gbdt'}. \u001b[0m\n",
      "\u001b[32m[I 2023-05-12 16:04:38,555]\u001b[0m Trial 82 finished with values: [0.05340879132457146, 0.557976902944783] and parameters: {'n_estimators': 2281, 'num_leaves': 119, 'max_depth': 10, 'min_child_samples': 14, 'learning_rate': 0.0008756773613637352, 'boosting_type': 'gbdt'}. \u001b[0m\n",
      "\u001b[32m[I 2023-05-12 16:05:11,161]\u001b[0m Trial 83 finished with values: [0.057054458909644314, 0.5733834806639946] and parameters: {'n_estimators': 2035, 'num_leaves': 65, 'max_depth': 8, 'min_child_samples': 20, 'learning_rate': 0.001197041030736847, 'boosting_type': 'gbdt'}. \u001b[0m\n",
      "\u001b[32m[I 2023-05-12 16:05:34,276]\u001b[0m Trial 84 finished with values: [0.05920401086682101, 0.5579759878475082] and parameters: {'n_estimators': 1991, 'num_leaves': 38, 'max_depth': 8, 'min_child_samples': 30, 'learning_rate': 0.0011283979821007217, 'boosting_type': 'gbdt'}. \u001b[0m\n",
      "\u001b[32m[I 2023-05-12 16:06:01,997]\u001b[0m Trial 85 finished with values: [0.0, 0.0] and parameters: {'n_estimators': 1617, 'num_leaves': 51, 'max_depth': 11, 'min_child_samples': 62, 'learning_rate': 2.5930359534213237e-05, 'boosting_type': 'gbdt'}. \u001b[0m\n",
      "\u001b[32m[I 2023-05-12 16:07:23,275]\u001b[0m Trial 86 finished with values: [0.03459152136637837, 0.47282710152089164] and parameters: {'n_estimators': 2417, 'num_leaves': 78, 'max_depth': 8, 'min_child_samples': 22, 'learning_rate': 0.0005230497170696999, 'boosting_type': 'gbdt'}. \u001b[0m\n",
      "\u001b[32m[I 2023-05-12 16:08:20,137]\u001b[0m Trial 87 finished with values: [0.0657607746605489, 0.6054814326762935] and parameters: {'n_estimators': 2722, 'num_leaves': 103, 'max_depth': 9, 'min_child_samples': 39, 'learning_rate': 0.0013393135288367964, 'boosting_type': 'gbdt'}. \u001b[0m\n",
      "\u001b[32m[I 2023-05-12 16:08:41,604]\u001b[0m Trial 88 finished with values: [0.06989330496973965, 0.6063297278500706] and parameters: {'n_estimators': 2061, 'num_leaves': 28, 'max_depth': 11, 'min_child_samples': 21, 'learning_rate': 0.00154072604734923, 'boosting_type': 'gbdt'}. \u001b[0m\n",
      "\u001b[32m[I 2023-05-12 16:08:59,444]\u001b[0m Trial 89 finished with values: [0.001201452063242906, 0.24346803565218983] and parameters: {'n_estimators': 1219, 'num_leaves': 49, 'max_depth': 12, 'min_child_samples': 10, 'learning_rate': 0.0004269450414971876, 'boosting_type': 'gbdt'}. \u001b[0m\n",
      "\u001b[32m[I 2023-05-12 16:09:26,370]\u001b[0m Trial 90 finished with values: [0.04589440536345757, 0.5305944471897363] and parameters: {'n_estimators': 1237, 'num_leaves': 88, 'max_depth': 12, 'min_child_samples': 8, 'learning_rate': 0.0011264119532176022, 'boosting_type': 'gbdt'}. \u001b[0m\n",
      "\u001b[32m[I 2023-05-12 16:10:02,909]\u001b[0m Trial 91 finished with values: [0.0398022062821463, 0.5062107652043412] and parameters: {'n_estimators': 1148, 'num_leaves': 126, 'max_depth': 12, 'min_child_samples': 8, 'learning_rate': 0.001067077415168381, 'boosting_type': 'gbdt'}. \u001b[0m\n",
      "\u001b[32m[I 2023-05-12 16:10:38,126]\u001b[0m Trial 92 finished with values: [0.04347247657363805, 0.5126283423927963] and parameters: {'n_estimators': 1214, 'num_leaves': 131, 'max_depth': 12, 'min_child_samples': 9, 'learning_rate': 0.0010857033144184487, 'boosting_type': 'gbdt'}. \u001b[0m\n",
      "\u001b[32m[I 2023-05-12 16:11:12,663]\u001b[0m Trial 93 finished with values: [0.059441563812320505, 0.581513204853676] and parameters: {'n_estimators': 1039, 'num_leaves': 110, 'max_depth': 12, 'min_child_samples': 6, 'learning_rate': 0.00204157511342283, 'boosting_type': 'gbdt'}. \u001b[0m\n",
      "\u001b[32m[I 2023-05-12 16:11:25,332]\u001b[0m Trial 94 finished with values: [0.001542778008480942, 0.22806237303025312] and parameters: {'n_estimators': 525, 'num_leaves': 90, 'max_depth': 11, 'min_child_samples': 27, 'learning_rate': 0.0008736581084252935, 'boosting_type': 'gbdt'}. \u001b[0m\n",
      "\u001b[32m[I 2023-05-12 16:11:34,394]\u001b[0m Trial 95 finished with values: [0.023253243200754708, 0.33763246033053307] and parameters: {'n_estimators': 1825, 'num_leaves': 10, 'max_depth': 12, 'min_child_samples': 33, 'learning_rate': 0.0005369754684521086, 'boosting_type': 'gbdt'}. \u001b[0m\n",
      "\u001b[32m[I 2023-05-12 16:12:36,279]\u001b[0m Trial 96 finished with values: [0.07281410633174708, 0.6238776331924083] and parameters: {'n_estimators': 2807, 'num_leaves': 153, 'max_depth': 9, 'min_child_samples': 10, 'learning_rate': 0.001608953215533847, 'boosting_type': 'gbdt'}. \u001b[0m\n",
      "\u001b[32m[I 2023-05-12 16:13:05,717]\u001b[0m Trial 97 finished with values: [0.06501273951243085, 0.6029090942367172] and parameters: {'n_estimators': 1602, 'num_leaves': 219, 'max_depth': 10, 'min_child_samples': 22, 'learning_rate': 0.001985776707674007, 'boosting_type': 'gbdt'}. \u001b[0m\n"
     ]
    }
   ],
   "source": [
    "\n",
    "directions = ['minimize', 'maximize']\n",
    "metric_scorer_decorated =  metrics(recall_score, predictive_equality_difference, sensitive_col = 'sex')\n",
    "for sim in [0,1,2,3]:\n",
    "    print(sim)\n",
    "    def objective(trial):\n",
    "\n",
    "        (X_train, X_test, y_train, y_test, A_train, A_test) = train_test_split(\n",
    "        X_raw, y, A, test_size=0.8, random_state=sim, stratify=y\n",
    "        )\n",
    "\n",
    "        X_train = X_train.reset_index(drop=True)\n",
    "        X_test = X_test.reset_index(drop=True)\n",
    "        y_train = y_train.reset_index(drop=True)\n",
    "        y_test = y_test.reset_index(drop=True)\n",
    "        A_train = A_train.reset_index(drop=True)\n",
    "        A_test = A_test.reset_index(drop=True)\n",
    "\n",
    "\n",
    "        params = {\n",
    "            'n_estimators': trial.suggest_int(\"n_estimators\", 20, 10000),\n",
    "            'num_leaves': trial.suggest_int(\"num_leaves\", 10, 1000),\n",
    "            'max_depth': trial.suggest_int(\"max_depth\", 2, 20),\n",
    "            'min_child_samples': trial.suggest_int(\"min_child_samples\", 5, 300),\n",
    "            'learning_rate': trial.suggest_float('learning_rate', 1e-5, 1e-2),\n",
    "            'boosting_type': trial.suggest_categorical(\"boosting_type\", ['goss', 'gbdt'])\n",
    "            }\n",
    "        pipeline['classifier'].set_params(**params)\n",
    "\n",
    "        scores = cross_validate(\n",
    "                pipeline, \n",
    "                X_train,\n",
    "                y_train, \n",
    "                cv=5,\n",
    "                scoring = metric_scorer_decorated,\n",
    "                return_train_score=True)\n",
    "\n",
    "        fair_metric = scores['test_fairness'].mean()\n",
    "        model_metric = scores['test_model'].mean()\n",
    "\n",
    "        return fair_metric, model_metric\n",
    "    \n",
    "    \n",
    "    \n",
    "    study = optuna.create_study(\n",
    "        directions = directions, \n",
    "        pruner = optuna.pruners.SuccessiveHalvingPruner(), \n",
    "        sampler = optuna.samplers.TPESampler() \n",
    "        )\n",
    "    study.optimize(objective, n_trials=100)\n",
    "    print(\"Number of finished trials: \", len(study.trials))\n",
    "    results.append(study)"
   ]
  },
  {
   "cell_type": "code",
   "execution_count": 6,
   "metadata": {},
   "outputs": [
    {
     "name": "stdout",
     "output_type": "stream",
     "text": [
      "Object successfully saved to \"recall-fpr-lgbm-motpe-succesivehalving-100trials-1sim.pkl\"\n"
     ]
    }
   ],
   "source": [
    "    "
   ]
  },
  {
   "cell_type": "code",
   "execution_count": 7,
   "metadata": {},
   "outputs": [
    {
     "data": {
      "application/vnd.plotly.v1+json": {
       "config": {
        "plotlyServerURL": "https://plot.ly"
       },
       "data": [
        {
         "hovertemplate": "%{text}<extra>Trial</extra>",
         "marker": {
          "color": [
           0,
           1,
           2,
           3,
           4,
           5,
           6,
           7,
           8,
           11,
           12,
           14,
           16,
           17,
           18,
           19,
           20,
           21,
           22,
           24,
           25,
           26,
           27,
           28,
           29,
           31,
           32,
           34,
           36,
           37,
           38,
           39,
           40,
           41,
           42,
           44,
           45,
           46,
           47,
           48,
           49,
           50,
           51,
           53,
           54,
           55,
           57,
           59,
           60,
           62,
           63,
           64,
           65,
           67,
           69,
           70,
           72,
           73,
           74,
           76,
           77,
           78,
           79,
           80,
           82,
           83,
           84,
           86,
           87,
           88,
           89,
           90,
           91,
           92,
           93,
           94,
           95,
           96,
           97,
           98,
           99
          ],
          "colorbar": {
           "title": {
            "text": "Trial"
           }
          },
          "colorscale": [
           [
            0,
            "rgb(247,251,255)"
           ],
           [
            0.125,
            "rgb(222,235,247)"
           ],
           [
            0.25,
            "rgb(198,219,239)"
           ],
           [
            0.375,
            "rgb(158,202,225)"
           ],
           [
            0.5,
            "rgb(107,174,214)"
           ],
           [
            0.625,
            "rgb(66,146,198)"
           ],
           [
            0.75,
            "rgb(33,113,181)"
           ],
           [
            0.875,
            "rgb(8,81,156)"
           ],
           [
            1,
            "rgb(8,48,107)"
           ]
          ],
          "line": {
           "color": "Grey",
           "width": 0.5
          }
         },
         "mode": "markers",
         "showlegend": false,
         "text": [
          "{<br>  \"number\": 0,<br>  \"values\": [<br>    0.08158776388397124,<br>    0.6544896991246768<br>  ],<br>  \"params\": {<br>    \"n_estimators\": 8596,<br>    \"num_leaves\": 223,<br>    \"max_depth\": 20,<br>    \"min_child_samples\": 181,<br>    \"learning_rate\": 0.007704550326550657,<br>    \"boosting_type\": \"goss\"<br>  }<br>}",
          "{<br>  \"number\": 1,<br>  \"values\": [<br>    0.0753452450514007,<br>    0.6681262424520135<br>  ],<br>  \"params\": {<br>    \"n_estimators\": 2728,<br>    \"num_leaves\": 454,<br>    \"max_depth\": 18,<br>    \"min_child_samples\": 102,<br>    \"learning_rate\": 0.00607654262681362,<br>    \"boosting_type\": \"goss\"<br>  }<br>}",
          "{<br>  \"number\": 2,<br>  \"values\": [<br>    0.0791963396049862,<br>    0.6536097653427516<br>  ],<br>  \"params\": {<br>    \"n_estimators\": 3407,<br>    \"num_leaves\": 345,<br>    \"max_depth\": 8,<br>    \"min_child_samples\": 166,<br>    \"learning_rate\": 0.005201208280691347,<br>    \"boosting_type\": \"goss\"<br>  }<br>}",
          "{<br>  \"number\": 3,<br>  \"values\": [<br>    0.08819581971315846,<br>    0.6274210581925399<br>  ],<br>  \"params\": {<br>    \"n_estimators\": 3673,<br>    \"num_leaves\": 496,<br>    \"max_depth\": 13,<br>    \"min_child_samples\": 242,<br>    \"learning_rate\": 0.0017545441650624247,<br>    \"boosting_type\": \"goss\"<br>  }<br>}",
          "{<br>  \"number\": 4,<br>  \"values\": [<br>    0.0,<br>    0.0<br>  ],<br>  \"params\": {<br>    \"n_estimators\": 366,<br>    \"num_leaves\": 796,<br>    \"max_depth\": 10,<br>    \"min_child_samples\": 13,<br>    \"learning_rate\": 0.0005093101313899261,<br>    \"boosting_type\": \"gbdt\"<br>  }<br>}",
          "{<br>  \"number\": 5,<br>  \"values\": [<br>    0.07760816537198865,<br>    0.6560436292851772<br>  ],<br>  \"params\": {<br>    \"n_estimators\": 7757,<br>    \"num_leaves\": 707,<br>    \"max_depth\": 11,<br>    \"min_child_samples\": 158,<br>    \"learning_rate\": 0.0014166937569054584,<br>    \"boosting_type\": \"goss\"<br>  }<br>}",
          "{<br>  \"number\": 6,<br>  \"values\": [<br>    0.05048638520833898,<br>    0.6363635051953523<br>  ],<br>  \"params\": {<br>    \"n_estimators\": 2092,<br>    \"num_leaves\": 374,<br>    \"max_depth\": 15,<br>    \"min_child_samples\": 62,<br>    \"learning_rate\": 0.0009138518693862076,<br>    \"boosting_type\": \"gbdt\"<br>  }<br>}",
          "{<br>  \"number\": 7,<br>  \"values\": [<br>    0.06361929363430932,<br>    0.6806121225246458<br>  ],<br>  \"params\": {<br>    \"n_estimators\": 6759,<br>    \"num_leaves\": 448,<br>    \"max_depth\": 11,<br>    \"min_child_samples\": 142,<br>    \"learning_rate\": 0.0015244835577255173,<br>    \"boosting_type\": \"gbdt\"<br>  }<br>}",
          "{<br>  \"number\": 8,<br>  \"values\": [<br>    0.0827283210854657,<br>    0.621126006013424<br>  ],<br>  \"params\": {<br>    \"n_estimators\": 1564,<br>    \"num_leaves\": 652,<br>    \"max_depth\": 4,<br>    \"min_child_samples\": 265,<br>    \"learning_rate\": 0.007562340097584707,<br>    \"boosting_type\": \"goss\"<br>  }<br>}",
          "{<br>  \"number\": 11,<br>  \"values\": [<br>    0.06433221589033161,<br>    0.6870843941157767<br>  ],<br>  \"params\": {<br>    \"n_estimators\": 4739,<br>    \"num_leaves\": 202,<br>    \"max_depth\": 4,<br>    \"min_child_samples\": 15,<br>    \"learning_rate\": 0.009873006756152186,<br>    \"boosting_type\": \"gbdt\"<br>  }<br>}",
          "{<br>  \"number\": 12,<br>  \"values\": [<br>    0.0,<br>    0.0<br>  ],<br>  \"params\": {<br>    \"n_estimators\": 34,<br>    \"num_leaves\": 933,<br>    \"max_depth\": 15,<br>    \"min_child_samples\": 66,<br>    \"learning_rate\": 0.0036039273965581776,<br>    \"boosting_type\": \"gbdt\"<br>  }<br>}",
          "{<br>  \"number\": 14,<br>  \"values\": [<br>    0.0,<br>    0.0<br>  ],<br>  \"params\": {<br>    \"n_estimators\": 1481,<br>    \"num_leaves\": 17,<br>    \"max_depth\": 7,<br>    \"min_child_samples\": 96,<br>    \"learning_rate\": 0.00012409752505799544,<br>    \"boosting_type\": \"gbdt\"<br>  }<br>}",
          "{<br>  \"number\": 16,<br>  \"values\": [<br>    0.06408598048967888,<br>    0.6891020153870859<br>  ],<br>  \"params\": {<br>    \"n_estimators\": 4611,<br>    \"num_leaves\": 300,<br>    \"max_depth\": 14,<br>    \"min_child_samples\": 120,<br>    \"learning_rate\": 0.002642580369762271,<br>    \"boosting_type\": \"gbdt\"<br>  }<br>}",
          "{<br>  \"number\": 17,<br>  \"values\": [<br>    0.06471242052995282,<br>    0.677295328436354<br>  ],<br>  \"params\": {<br>    \"n_estimators\": 2014,<br>    \"num_leaves\": 589,<br>    \"max_depth\": 9,<br>    \"min_child_samples\": 204,<br>    \"learning_rate\": 0.004283253020961676,<br>    \"boosting_type\": \"gbdt\"<br>  }<br>}",
          "{<br>  \"number\": 18,<br>  \"values\": [<br>    0.06817469813584516,<br>    0.6831526663175581<br>  ],<br>  \"params\": {<br>    \"n_estimators\": 4101,<br>    \"num_leaves\": 186,<br>    \"max_depth\": 17,<br>    \"min_child_samples\": 45,<br>    \"learning_rate\": 0.0022697544270457648,<br>    \"boosting_type\": \"gbdt\"<br>  }<br>}",
          "{<br>  \"number\": 19,<br>  \"values\": [<br>    0.06120124462303909,<br>    0.6750669837136948<br>  ],<br>  \"params\": {<br>    \"n_estimators\": 6071,<br>    \"num_leaves\": 96,<br>    \"max_depth\": 13,<br>    \"min_child_samples\": 92,<br>    \"learning_rate\": 0.0007689446569016474,<br>    \"boosting_type\": \"gbdt\"<br>  }<br>}",
          "{<br>  \"number\": 20,<br>  \"values\": [<br>    0.04972800346371305,<br>    0.5866234720205561<br>  ],<br>  \"params\": {<br>    \"n_estimators\": 721,<br>    \"num_leaves\": 399,<br>    \"max_depth\": 2,<br>    \"min_child_samples\": 129,<br>    \"learning_rate\": 0.002469551237553296,<br>    \"boosting_type\": \"gbdt\"<br>  }<br>}",
          "{<br>  \"number\": 21,<br>  \"values\": [<br>    0.05670835296723287,<br>    0.6658974422633455<br>  ],<br>  \"params\": {<br>    \"n_estimators\": 9808,<br>    \"num_leaves\": 383,<br>    \"max_depth\": 2,<br>    \"min_child_samples\": 40,<br>    \"learning_rate\": 0.0018948314590008612,<br>    \"boosting_type\": \"gbdt\"<br>  }<br>}",
          "{<br>  \"number\": 22,<br>  \"values\": [<br>    0.0,<br>    0.0<br>  ],<br>  \"params\": {<br>    \"n_estimators\": 827,<br>    \"num_leaves\": 276,<br>    \"max_depth\": 6,<br>    \"min_child_samples\": 129,<br>    \"learning_rate\": 6.536407907539255e-05,<br>    \"boosting_type\": \"gbdt\"<br>  }<br>}",
          "{<br>  \"number\": 24,<br>  \"values\": [<br>    0.05270069824401944,<br>    0.6051586811787258<br>  ],<br>  \"params\": {<br>    \"n_estimators\": 1022,<br>    \"num_leaves\": 413,<br>    \"max_depth\": 2,<br>    \"min_child_samples\": 36,<br>    \"learning_rate\": 0.0028860468074152082,<br>    \"boosting_type\": \"gbdt\"<br>  }<br>}",
          "{<br>  \"number\": 25,<br>  \"values\": [<br>    0.05454523857640762,<br>    0.648544266805013<br>  ],<br>  \"params\": {<br>    \"n_estimators\": 2438,<br>    \"num_leaves\": 138,<br>    \"max_depth\": 12,<br>    \"min_child_samples\": 97,<br>    \"learning_rate\": 0.0010281545482277825,<br>    \"boosting_type\": \"gbdt\"<br>  }<br>}",
          "{<br>  \"number\": 26,<br>  \"values\": [<br>    0.058040453877819774,<br>    0.6617861419182731<br>  ],<br>  \"params\": {<br>    \"n_estimators\": 3217,<br>    \"num_leaves\": 258,<br>    \"max_depth\": 15,<br>    \"min_child_samples\": 120,<br>    \"learning_rate\": 0.000947128916317717,<br>    \"boosting_type\": \"gbdt\"<br>  }<br>}",
          "{<br>  \"number\": 27,<br>  \"values\": [<br>    0.06397770562373403,<br>    0.6728854570062857<br>  ],<br>  \"params\": {<br>    \"n_estimators\": 5568,<br>    \"num_leaves\": 546,<br>    \"max_depth\": 6,<br>    \"min_child_samples\": 220,<br>    \"learning_rate\": 0.0018981461236596577,<br>    \"boosting_type\": \"gbdt\"<br>  }<br>}",
          "{<br>  \"number\": 28,<br>  \"values\": [<br>    0.08957387091470081,<br>    0.624401018866527<br>  ],<br>  \"params\": {<br>    \"n_estimators\": 4177,<br>    \"num_leaves\": 996,<br>    \"max_depth\": 10,<br>    \"min_child_samples\": 288,<br>    \"learning_rate\": 0.00424647249625462,<br>    \"boosting_type\": \"goss\"<br>  }<br>}",
          "{<br>  \"number\": 29,<br>  \"values\": [<br>    0.07990454800545146,<br>    0.6416839119006814<br>  ],<br>  \"params\": {<br>    \"n_estimators\": 2025,<br>    \"num_leaves\": 111,<br>    \"max_depth\": 17,<br>    \"min_child_samples\": 181,<br>    \"learning_rate\": 0.0023177497829770313,<br>    \"boosting_type\": \"goss\"<br>  }<br>}",
          "{<br>  \"number\": 31,<br>  \"values\": [<br>    0.07354698978975541,<br>    0.6693349976292728<br>  ],<br>  \"params\": {<br>    \"n_estimators\": 9971,<br>    \"num_leaves\": 324,<br>    \"max_depth\": 20,<br>    \"min_child_samples\": 8,<br>    \"learning_rate\": 0.0010884328843403462,<br>    \"boosting_type\": \"gbdt\"<br>  }<br>}",
          "{<br>  \"number\": 32,<br>  \"values\": [<br>    0.030348577648436674,<br>    0.5833143276013167<br>  ],<br>  \"params\": {<br>    \"n_estimators\": 2805,<br>    \"num_leaves\": 348,<br>    \"max_depth\": 20,<br>    \"min_child_samples\": 48,<br>    \"learning_rate\": 0.00036261372758160284,<br>    \"boosting_type\": \"goss\"<br>  }<br>}",
          "{<br>  \"number\": 34,<br>  \"values\": [<br>    0.07186738734415818,<br>    0.6724078741951441<br>  ],<br>  \"params\": {<br>    \"n_estimators\": 3608,<br>    \"num_leaves\": 476,<br>    \"max_depth\": 18,<br>    \"min_child_samples\": 29,<br>    \"learning_rate\": 0.0014528282519394007,<br>    \"boosting_type\": \"goss\"<br>  }<br>}",
          "{<br>  \"number\": 36,<br>  \"values\": [<br>    0.0,<br>    0.0<br>  ],<br>  \"params\": {<br>    \"n_estimators\": 371,<br>    \"num_leaves\": 680,<br>    \"max_depth\": 18,<br>    \"min_child_samples\": 81,<br>    \"learning_rate\": 0.00046205961910234357,<br>    \"boosting_type\": \"goss\"<br>  }<br>}",
          "{<br>  \"number\": 37,<br>  \"values\": [<br>    0.06280266291088502,<br>    0.6485024330480778<br>  ],<br>  \"params\": {<br>    \"n_estimators\": 1227,<br>    \"num_leaves\": 515,<br>    \"max_depth\": 19,<br>    \"min_child_samples\": 31,<br>    \"learning_rate\": 0.0017036376498266183,<br>    \"boosting_type\": \"goss\"<br>  }<br>}",
          "{<br>  \"number\": 38,<br>  \"values\": [<br>    0.0,<br>    0.0<br>  ],<br>  \"params\": {<br>    \"n_estimators\": 1746,<br>    \"num_leaves\": 764,<br>    \"max_depth\": 20,<br>    \"min_child_samples\": 24,<br>    \"learning_rate\": 3.228781595871074e-05,<br>    \"boosting_type\": \"goss\"<br>  }<br>}",
          "{<br>  \"number\": 39,<br>  \"values\": [<br>    0.0,<br>    0.0<br>  ],<br>  \"params\": {<br>    \"n_estimators\": 599,<br>    \"num_leaves\": 441,<br>    \"max_depth\": 17,<br>    \"min_child_samples\": 54,<br>    \"learning_rate\": 0.000644491336302391,<br>    \"boosting_type\": \"goss\"<br>  }<br>}",
          "{<br>  \"number\": 40,<br>  \"values\": [<br>    0.06763814770161446,<br>    0.6598401047324842<br>  ],<br>  \"params\": {<br>    \"n_estimators\": 2604,<br>    \"num_leaves\": 610,<br>    \"max_depth\": 20,<br>    \"min_child_samples\": 84,<br>    \"learning_rate\": 0.0013304330919056632,<br>    \"boosting_type\": \"goss\"<br>  }<br>}",
          "{<br>  \"number\": 41,<br>  \"values\": [<br>    0.0,<br>    0.0<br>  ],<br>  \"params\": {<br>    \"n_estimators\": 177,<br>    \"num_leaves\": 505,<br>    \"max_depth\": 19,<br>    \"min_child_samples\": 61,<br>    \"learning_rate\": 0.0008349933821192603,<br>    \"boosting_type\": \"goss\"<br>  }<br>}",
          "{<br>  \"number\": 42,<br>  \"values\": [<br>    0.07145444618947458,<br>    0.673503210510854<br>  ],<br>  \"params\": {<br>    \"n_estimators\": 8153,<br>    \"num_leaves\": 246,<br>    \"max_depth\": 16,<br>    \"min_child_samples\": 109,<br>    \"learning_rate\": 0.001343076052393266,<br>    \"boosting_type\": \"goss\"<br>  }<br>}",
          "{<br>  \"number\": 44,<br>  \"values\": [<br>    0.01705043300438653,<br>    0.5070962114071297<br>  ],<br>  \"params\": {<br>    \"n_estimators\": 1835,<br>    \"num_leaves\": 452,<br>    \"max_depth\": 16,<br>    \"min_child_samples\": 159,<br>    \"learning_rate\": 0.00045643902709914964,<br>    \"boosting_type\": \"goss\"<br>  }<br>}",
          "{<br>  \"number\": 45,<br>  \"values\": [<br>    0.0711985795555847,<br>    0.673898389874198<br>  ],<br>  \"params\": {<br>    \"n_estimators\": 3024,<br>    \"num_leaves\": 621,<br>    \"max_depth\": 18,<br>    \"min_child_samples\": 70,<br>    \"learning_rate\": 0.001918080475817222,<br>    \"boosting_type\": \"goss\"<br>  }<br>}",
          "{<br>  \"number\": 46,<br>  \"values\": [<br>    0.0,<br>    0.0<br>  ],<br>  \"params\": {<br>    \"n_estimators\": 2301,<br>    \"num_leaves\": 375,<br>    \"max_depth\": 14,<br>    \"min_child_samples\": 11,<br>    \"learning_rate\": 1.9773444281359046e-05,<br>    \"boosting_type\": \"goss\"<br>  }<br>}",
          "{<br>  \"number\": 47,<br>  \"values\": [<br>    0.014875811007086143,<br>    0.5033177679973247<br>  ],<br>  \"params\": {<br>    \"n_estimators\": 1342,<br>    \"num_leaves\": 529,<br>    \"max_depth\": 19,<br>    \"min_child_samples\": 143,<br>    \"learning_rate\": 0.0005940257865453642,<br>    \"boosting_type\": \"goss\"<br>  }<br>}",
          "{<br>  \"number\": 48,<br>  \"values\": [<br>    0.07355916596304266,<br>    0.6667521807519666<br>  ],<br>  \"params\": {<br>    \"n_estimators\": 4049,<br>    \"num_leaves\": 725,<br>    \"max_depth\": 15,<br>    \"min_child_samples\": 52,<br>    \"learning_rate\": 0.0052878708893024035,<br>    \"boosting_type\": \"goss\"<br>  }<br>}",
          "{<br>  \"number\": 49,<br>  \"values\": [<br>    0.08088809213156796,<br>    0.6623817566979477<br>  ],<br>  \"params\": {<br>    \"n_estimators\": 7143,<br>    \"num_leaves\": 879,<br>    \"max_depth\": 17,<br>    \"min_child_samples\": 5,<br>    \"learning_rate\": 0.0016834227956697924,<br>    \"boosting_type\": \"goss\"<br>  }<br>}",
          "{<br>  \"number\": 50,<br>  \"values\": [<br>    0.06986478919952106,<br>    0.6624748254467263<br>  ],<br>  \"params\": {<br>    \"n_estimators\": 1718,<br>    \"num_leaves\": 419,<br>    \"max_depth\": 12,<br>    \"min_child_samples\": 108,<br>    \"learning_rate\": 0.0021494472938924417,<br>    \"boosting_type\": \"goss\"<br>  }<br>}",
          "{<br>  \"number\": 51,<br>  \"values\": [<br>    0.06591873203771749,<br>    0.6779403789333533<br>  ],<br>  \"params\": {<br>    \"n_estimators\": 3032,<br>    \"num_leaves\": 290,<br>    \"max_depth\": 8,<br>    \"min_child_samples\": 20,<br>    \"learning_rate\": 0.006496758567960664,<br>    \"boosting_type\": \"goss\"<br>  }<br>}",
          "{<br>  \"number\": 53,<br>  \"values\": [<br>    0.0617658164922148,<br>    0.6758748317045546<br>  ],<br>  \"params\": {<br>    \"n_estimators\": 2646,<br>    \"num_leaves\": 486,<br>    \"max_depth\": 4,<br>    \"min_child_samples\": 42,<br>    \"learning_rate\": 0.003328902136675808,<br>    \"boosting_type\": \"goss\"<br>  }<br>}",
          "{<br>  \"number\": 54,<br>  \"values\": [<br>    0.05860870656253932,<br>    0.6567557518048719<br>  ],<br>  \"params\": {<br>    \"n_estimators\": 1346,<br>    \"num_leaves\": 226,<br>    \"max_depth\": 5,<br>    \"min_child_samples\": 67,<br>    \"learning_rate\": 0.0029357736404695017,<br>    \"boosting_type\": \"goss\"<br>  }<br>}",
          "{<br>  \"number\": 55,<br>  \"values\": [<br>    0.049931961106140565,<br>    0.6146443278064234<br>  ],<br>  \"params\": {<br>    \"n_estimators\": 3343,<br>    \"num_leaves\": 562,<br>    \"max_depth\": 3,<br>    \"min_child_samples\": 86,<br>    \"learning_rate\": 0.0007496228755558636,<br>    \"boosting_type\": \"goss\"<br>  }<br>}",
          "{<br>  \"number\": 57,<br>  \"values\": [<br>    0.07346033257265629,<br>    0.6546258659836124<br>  ],<br>  \"params\": {<br>    \"n_estimators\": 9187,<br>    \"num_leaves\": 649,<br>    \"max_depth\": 5,<br>    \"min_child_samples\": 174,<br>    \"learning_rate\": 0.002214878749130354,<br>    \"boosting_type\": \"goss\"<br>  }<br>}",
          "{<br>  \"number\": 59,<br>  \"values\": [<br>    0.051697818089381474,<br>    0.624009212252125<br>  ],<br>  \"params\": {<br>    \"n_estimators\": 494,<br>    \"num_leaves\": 160,<br>    \"max_depth\": 10,<br>    \"min_child_samples\": 241,<br>    \"learning_rate\": 0.003886787163377072,<br>    \"boosting_type\": \"gbdt\"<br>  }<br>}",
          "{<br>  \"number\": 60,<br>  \"values\": [<br>    0.0,<br>    0.0<br>  ],<br>  \"params\": {<br>    \"n_estimators\": 25,<br>    \"num_leaves\": 84,<br>    \"max_depth\": 9,<br>    \"min_child_samples\": 76,<br>    \"learning_rate\": 0.00370243071723415,<br>    \"boosting_type\": \"gbdt\"<br>  }<br>}",
          "{<br>  \"number\": 62,<br>  \"values\": [<br>    0.06518135550778248,<br>    0.6911652373842747<br>  ],<br>  \"params\": {<br>    \"n_estimators\": 1581,<br>    \"num_leaves\": 207,<br>    \"max_depth\": 9,<br>    \"min_child_samples\": 58,<br>    \"learning_rate\": 0.009528564642155053,<br>    \"boosting_type\": \"gbdt\"<br>  }<br>}",
          "{<br>  \"number\": 63,<br>  \"values\": [<br>    0.0,<br>    0.0<br>  ],<br>  \"params\": {<br>    \"n_estimators\": 1265,<br>    \"num_leaves\": 309,<br>    \"max_depth\": 6,<br>    \"min_child_samples\": 18,<br>    \"learning_rate\": 0.0002752124180762862,<br>    \"boosting_type\": \"gbdt\"<br>  }<br>}",
          "{<br>  \"number\": 64,<br>  \"values\": [<br>    0.05519668199464654,<br>    0.6515764745299675<br>  ],<br>  \"params\": {<br>    \"n_estimators\": 778,<br>    \"num_leaves\": 157,<br>    \"max_depth\": 7,<br>    \"min_child_samples\": 195,<br>    \"learning_rate\": 0.004560454827115424,<br>    \"boosting_type\": \"gbdt\"<br>  }<br>}",
          "{<br>  \"number\": 65,<br>  \"values\": [<br>    0.07253035844639655,<br>    0.6755515040571458<br>  ],<br>  \"params\": {<br>    \"n_estimators\": 2220,<br>    \"num_leaves\": 428,<br>    \"max_depth\": 12,<br>    \"min_child_samples\": 46,<br>    \"learning_rate\": 0.0030182390156069682,<br>    \"boosting_type\": \"goss\"<br>  }<br>}",
          "{<br>  \"number\": 67,<br>  \"values\": [<br>    0.07856502530351699,<br>    0.60616923306662<br>  ],<br>  \"params\": {<br>    \"n_estimators\": 1112,<br>    \"num_leaves\": 475,<br>    \"max_depth\": 5,<br>    \"min_child_samples\": 273,<br>    \"learning_rate\": 0.0034452290120230815,<br>    \"boosting_type\": \"goss\"<br>  }<br>}",
          "{<br>  \"number\": 69,<br>  \"values\": [<br>    0.06736691944238815,<br>    0.6645350466624066<br>  ],<br>  \"params\": {<br>    \"n_estimators\": 3819,<br>    \"num_leaves\": 547,<br>    \"max_depth\": 8,<br>    \"min_child_samples\": 93,<br>    \"learning_rate\": 0.0011831929028421808,<br>    \"boosting_type\": \"goss\"<br>  }<br>}",
          "{<br>  \"number\": 70,<br>  \"values\": [<br>    0.04579888186628618,<br>    0.6367589770351139<br>  ],<br>  \"params\": {<br>    \"n_estimators\": 2460,<br>    \"num_leaves\": 585,<br>    \"max_depth\": 19,<br>    \"min_child_samples\": 27,<br>    \"learning_rate\": 0.0006953587451562077,<br>    \"boosting_type\": \"gbdt\"<br>  }<br>}",
          "{<br>  \"number\": 72,<br>  \"values\": [<br>    0.0817111570505092,<br>    0.6379152375216223<br>  ],<br>  \"params\": {<br>    \"n_estimators\": 7751,<br>    \"num_leaves\": 855,<br>    \"max_depth\": 3,<br>    \"min_child_samples\": 228,<br>    \"learning_rate\": 0.005879549787422418,<br>    \"boosting_type\": \"goss\"<br>  }<br>}",
          "{<br>  \"number\": 73,<br>  \"values\": [<br>    0.053007394670834505,<br>    0.5695428158087514<br>  ],<br>  \"params\": {<br>    \"n_estimators\": 6227,<br>    \"num_leaves\": 536,<br>    \"max_depth\": 14,<br>    \"min_child_samples\": 298,<br>    \"learning_rate\": 0.0002579997501591249,<br>    \"boosting_type\": \"goss\"<br>  }<br>}",
          "{<br>  \"number\": 74,<br>  \"values\": [<br>    0.07638675449712615,<br>    0.6602028163527293<br>  ],<br>  \"params\": {<br>    \"n_estimators\": 1605,<br>    \"num_leaves\": 983,<br>    \"max_depth\": 13,<br>    \"min_child_samples\": 153,<br>    \"learning_rate\": 0.007809815335645421,<br>    \"boosting_type\": \"goss\"<br>  }<br>}",
          "{<br>  \"number\": 76,<br>  \"values\": [<br>    0.07506639970170337,<br>    0.662588622691415<br>  ],<br>  \"params\": {<br>    \"n_estimators\": 5311,<br>    \"num_leaves\": 606,<br>    \"max_depth\": 13,<br>    \"min_child_samples\": 143,<br>    \"learning_rate\": 0.0020169673806457464,<br>    \"boosting_type\": \"goss\"<br>  }<br>}",
          "{<br>  \"number\": 77,<br>  \"values\": [<br>    0.062465279588374445,<br>    0.6807517176358042<br>  ],<br>  \"params\": {<br>    \"n_estimators\": 6663,<br>    \"num_leaves\": 637,<br>    \"max_depth\": 16,<br>    \"min_child_samples\": 132,<br>    \"learning_rate\": 0.0012423984124655969,<br>    \"boosting_type\": \"gbdt\"<br>  }<br>}",
          "{<br>  \"number\": 78,<br>  \"values\": [<br>    0.07878529713214874,<br>    0.6379261593930922<br>  ],<br>  \"params\": {<br>    \"n_estimators\": 2847,<br>    \"num_leaves\": 681,<br>    \"max_depth\": 17,<br>    \"min_child_samples\": 195,<br>    \"learning_rate\": 0.0015886075700382574,<br>    \"boosting_type\": \"goss\"<br>  }<br>}",
          "{<br>  \"number\": 79,<br>  \"values\": [<br>    0.08362017891643397,<br>    0.616522090245409<br>  ],<br>  \"params\": {<br>    \"n_estimators\": 9507,<br>    \"num_leaves\": 448,<br>    \"max_depth\": 9,<br>    \"min_child_samples\": 257,<br>    \"learning_rate\": 0.0005102480299395431,<br>    \"boosting_type\": \"goss\"<br>  }<br>}",
          "{<br>  \"number\": 80,<br>  \"values\": [<br>    0.014650240855426502,<br>    0.4737450064978768<br>  ],<br>  \"params\": {<br>    \"n_estimators\": 337,<br>    \"num_leaves\": 505,<br>    \"max_depth\": 11,<br>    \"min_child_samples\": 168,<br>    \"learning_rate\": 0.002379489957572577,<br>    \"boosting_type\": \"gbdt\"<br>  }<br>}",
          "{<br>  \"number\": 82,<br>  \"values\": [<br>    0.0,<br>    0.0<br>  ],<br>  \"params\": {<br>    \"n_estimators\": 1907,<br>    \"num_leaves\": 311,<br>    \"max_depth\": 19,<br>    \"min_child_samples\": 8,<br>    \"learning_rate\": 7.279308045931784e-05,<br>    \"boosting_type\": \"gbdt\"<br>  }<br>}",
          "{<br>  \"number\": 83,<br>  \"values\": [<br>    0.044557688961392006,<br>    0.6132284447708136<br>  ],<br>  \"params\": {<br>    \"n_estimators\": 1490,<br>    \"num_leaves\": 224,<br>    \"max_depth\": 20,<br>    \"min_child_samples\": 50,<br>    \"learning_rate\": 0.0009571334564214479,<br>    \"boosting_type\": \"gbdt\"<br>  }<br>}",
          "{<br>  \"number\": 84,<br>  \"values\": [<br>    0.0,<br>    0.0<br>  ],<br>  \"params\": {<br>    \"n_estimators\": 1021,<br>    \"num_leaves\": 178,<br>    \"max_depth\": 18,<br>    \"min_child_samples\": 111,<br>    \"learning_rate\": 0.000274158788116942,<br>    \"boosting_type\": \"gbdt\"<br>  }<br>}",
          "{<br>  \"number\": 86,<br>  \"values\": [<br>    0.06260740791664776,<br>    0.6731700147658277<br>  ],<br>  \"params\": {<br>    \"n_estimators\": 2132,<br>    \"num_leaves\": 288,<br>    \"max_depth\": 20,<br>    \"min_child_samples\": 25,<br>    \"learning_rate\": 0.0016060381696522763,<br>    \"boosting_type\": \"gbdt\"<br>  }<br>}",
          "{<br>  \"number\": 87,<br>  \"values\": [<br>    0.07377849423536105,<br>    0.6721610963993859<br>  ],<br>  \"params\": {<br>    \"n_estimators\": 2544,<br>    \"num_leaves\": 251,<br>    \"max_depth\": 16,<br>    \"min_child_samples\": 16,<br>    \"learning_rate\": 0.0032338240306864093,<br>    \"boosting_type\": \"goss\"<br>  }<br>}",
          "{<br>  \"number\": 88,<br>  \"values\": [<br>    0.07277770135202029,<br>    0.6675785494356852<br>  ],<br>  \"params\": {<br>    \"n_estimators\": 1730,<br>    \"num_leaves\": 117,<br>    \"max_depth\": 17,<br>    \"min_child_samples\": 75,<br>    \"learning_rate\": 0.002703975483153454,<br>    \"boosting_type\": \"goss\"<br>  }<br>}",
          "{<br>  \"number\": 89,<br>  \"values\": [<br>    0.05803557759916369,<br>    0.678561557125348<br>  ],<br>  \"params\": {<br>    \"n_estimators\": 8663,<br>    \"num_leaves\": 365,<br>    \"max_depth\": 10,<br>    \"min_child_samples\": 5,<br>    \"learning_rate\": 0.0012801042533658468,<br>    \"boosting_type\": \"gbdt\"<br>  }<br>}",
          "{<br>  \"number\": 90,<br>  \"values\": [<br>    0.07369420276812381,<br>    0.6707330771958686<br>  ],<br>  \"params\": {<br>    \"n_estimators\": 4447,<br>    \"num_leaves\": 516,<br>    \"max_depth\": 18,<br>    \"min_child_samples\": 65,<br>    \"learning_rate\": 0.0017628792798928248,<br>    \"boosting_type\": \"goss\"<br>  }<br>}",
          "{<br>  \"number\": 91,<br>  \"values\": [<br>    0.0,<br>    0.0<br>  ],<br>  \"params\": {<br>    \"n_estimators\": 721,<br>    \"num_leaves\": 406,<br>    \"max_depth\": 6,<br>    \"min_child_samples\": 35,<br>    \"learning_rate\": 0.0005585676546722389,<br>    \"boosting_type\": \"goss\"<br>  }<br>}",
          "{<br>  \"number\": 92,<br>  \"values\": [<br>    0.02383794825030952,<br>    0.5455072604935101<br>  ],<br>  \"params\": {<br>    \"n_estimators\": 1196,<br>    \"num_leaves\": 467,<br>    \"max_depth\": 15,<br>    \"min_child_samples\": 101,<br>    \"learning_rate\": 0.000813562714886134,<br>    \"boosting_type\": \"goss\"<br>  }<br>}",
          "{<br>  \"number\": 93,<br>  \"values\": [<br>    0.004759111514997938,<br>    0.3273217165592191<br>  ],<br>  \"params\": {<br>    \"n_estimators\": 210,<br>    \"num_leaves\": 558,<br>    \"max_depth\": 10,<br>    \"min_child_samples\": 214,<br>    \"learning_rate\": 0.003077629617012528,<br>    \"boosting_type\": \"goss\"<br>  }<br>}",
          "{<br>  \"number\": 94,<br>  \"values\": [<br>    0.06816766099454735,<br>    0.6719790927331308<br>  ],<br>  \"params\": {<br>    \"n_estimators\": 854,<br>    \"num_leaves\": 582,<br>    \"max_depth\": 12,<br>    \"min_child_samples\": 45,<br>    \"learning_rate\": 0.004925156676134697,<br>    \"boosting_type\": \"goss\"<br>  }<br>}",
          "{<br>  \"number\": 95,<br>  \"values\": [<br>    0.060099640724484524,<br>    0.6600624705903496<br>  ],<br>  \"params\": {<br>    \"n_estimators\": 1418,<br>    \"num_leaves\": 801,<br>    \"max_depth\": 4,<br>    \"min_child_samples\": 58,<br>    \"learning_rate\": 0.0036764186936596873,<br>    \"boosting_type\": \"goss\"<br>  }<br>}",
          "{<br>  \"number\": 96,<br>  \"values\": [<br>    0.0721279037088632,<br>    0.6733213003401861<br>  ],<br>  \"params\": {<br>    \"n_estimators\": 7376,<br>    \"num_leaves\": 345,<br>    \"max_depth\": 19,<br>    \"min_child_samples\": 90,<br>    \"learning_rate\": 0.0010592782484551277,<br>    \"boosting_type\": \"goss\"<br>  }<br>}",
          "{<br>  \"number\": 97,<br>  \"values\": [<br>    0.07008619370181042,<br>    0.6572700649077567<br>  ],<br>  \"params\": {<br>    \"n_estimators\": 2257,<br>    \"num_leaves\": 526,<br>    \"max_depth\": 7,<br>    \"min_child_samples\": 137,<br>    \"learning_rate\": 0.002536893110053754,<br>    \"boosting_type\": \"goss\"<br>  }<br>}",
          "{<br>  \"number\": 98,<br>  \"values\": [<br>    0.06314838087840184,<br>    0.69012013639424<br>  ],<br>  \"params\": {<br>    \"n_estimators\": 3600,<br>    \"num_leaves\": 444,<br>    \"max_depth\": 8,<br>    \"min_child_samples\": 72,<br>    \"learning_rate\": 0.004054882149269193,<br>    \"boosting_type\": \"gbdt\"<br>  }<br>}",
          "{<br>  \"number\": 99,<br>  \"values\": [<br>    0.07571448775488106,<br>    0.6684148900055844<br>  ],<br>  \"params\": {<br>    \"n_estimators\": 3049,<br>    \"num_leaves\": 497,<br>    \"max_depth\": 20,<br>    \"min_child_samples\": 40,<br>    \"learning_rate\": 0.0014517854707300885,<br>    \"boosting_type\": \"goss\"<br>  }<br>}"
         ],
         "type": "scatter",
         "x": [
          0.08158776388397124,
          0.0753452450514007,
          0.0791963396049862,
          0.08819581971315846,
          0,
          0.07760816537198865,
          0.05048638520833898,
          0.06361929363430932,
          0.0827283210854657,
          0.06433221589033161,
          0,
          0,
          0.06408598048967888,
          0.06471242052995282,
          0.06817469813584516,
          0.06120124462303909,
          0.04972800346371305,
          0.05670835296723287,
          0,
          0.05270069824401944,
          0.05454523857640762,
          0.058040453877819774,
          0.06397770562373403,
          0.08957387091470081,
          0.07990454800545146,
          0.07354698978975541,
          0.030348577648436674,
          0.07186738734415818,
          0,
          0.06280266291088502,
          0,
          0,
          0.06763814770161446,
          0,
          0.07145444618947458,
          0.01705043300438653,
          0.0711985795555847,
          0,
          0.014875811007086143,
          0.07355916596304266,
          0.08088809213156796,
          0.06986478919952106,
          0.06591873203771749,
          0.0617658164922148,
          0.05860870656253932,
          0.049931961106140565,
          0.07346033257265629,
          0.051697818089381474,
          0,
          0.06518135550778248,
          0,
          0.05519668199464654,
          0.07253035844639655,
          0.07856502530351699,
          0.06736691944238815,
          0.04579888186628618,
          0.0817111570505092,
          0.053007394670834505,
          0.07638675449712615,
          0.07506639970170337,
          0.062465279588374445,
          0.07878529713214874,
          0.08362017891643397,
          0.014650240855426502,
          0,
          0.044557688961392006,
          0,
          0.06260740791664776,
          0.07377849423536105,
          0.07277770135202029,
          0.05803557759916369,
          0.07369420276812381,
          0,
          0.02383794825030952,
          0.004759111514997938,
          0.06816766099454735,
          0.060099640724484524,
          0.0721279037088632,
          0.07008619370181042,
          0.06314838087840184,
          0.07571448775488106
         ],
         "y": [
          0.6544896991246768,
          0.6681262424520135,
          0.6536097653427516,
          0.6274210581925399,
          0,
          0.6560436292851772,
          0.6363635051953523,
          0.6806121225246458,
          0.621126006013424,
          0.6870843941157767,
          0,
          0,
          0.6891020153870859,
          0.677295328436354,
          0.6831526663175581,
          0.6750669837136948,
          0.5866234720205561,
          0.6658974422633455,
          0,
          0.6051586811787258,
          0.648544266805013,
          0.6617861419182731,
          0.6728854570062857,
          0.624401018866527,
          0.6416839119006814,
          0.6693349976292728,
          0.5833143276013167,
          0.6724078741951441,
          0,
          0.6485024330480778,
          0,
          0,
          0.6598401047324842,
          0,
          0.673503210510854,
          0.5070962114071297,
          0.673898389874198,
          0,
          0.5033177679973247,
          0.6667521807519666,
          0.6623817566979477,
          0.6624748254467263,
          0.6779403789333533,
          0.6758748317045546,
          0.6567557518048719,
          0.6146443278064234,
          0.6546258659836124,
          0.624009212252125,
          0,
          0.6911652373842747,
          0,
          0.6515764745299675,
          0.6755515040571458,
          0.60616923306662,
          0.6645350466624066,
          0.6367589770351139,
          0.6379152375216223,
          0.5695428158087514,
          0.6602028163527293,
          0.662588622691415,
          0.6807517176358042,
          0.6379261593930922,
          0.616522090245409,
          0.4737450064978768,
          0,
          0.6132284447708136,
          0,
          0.6731700147658277,
          0.6721610963993859,
          0.6675785494356852,
          0.678561557125348,
          0.6707330771958686,
          0,
          0.5455072604935101,
          0.3273217165592191,
          0.6719790927331308,
          0.6600624705903496,
          0.6733213003401861,
          0.6572700649077567,
          0.69012013639424,
          0.6684148900055844
         ]
        },
        {
         "hovertemplate": "%{text}<extra>Best Trial</extra>",
         "marker": {
          "color": [
           9,
           10,
           13,
           15,
           23,
           30,
           33,
           35,
           43,
           52,
           56,
           58,
           61,
           66,
           68,
           71,
           75,
           81,
           85
          ],
          "colorbar": {
           "title": {
            "text": "Best Trial"
           },
           "x": 1.1,
           "xpad": 40
          },
          "colorscale": [
           [
            0,
            "rgb(255,245,240)"
           ],
           [
            0.125,
            "rgb(254,224,210)"
           ],
           [
            0.25,
            "rgb(252,187,161)"
           ],
           [
            0.375,
            "rgb(252,146,114)"
           ],
           [
            0.5,
            "rgb(251,106,74)"
           ],
           [
            0.625,
            "rgb(239,59,44)"
           ],
           [
            0.75,
            "rgb(203,24,29)"
           ],
           [
            0.875,
            "rgb(165,15,21)"
           ],
           [
            1,
            "rgb(103,0,13)"
           ]
          ],
          "line": {
           "color": "Grey",
           "width": 0.5
          }
         },
         "mode": "markers",
         "showlegend": false,
         "text": [
          "{<br>  \"number\": 9,<br>  \"values\": [<br>    0.061828696500874594,<br>    0.6933939212308955<br>  ],<br>  \"params\": {<br>    \"n_estimators\": 2977,<br>    \"num_leaves\": 342,<br>    \"max_depth\": 4,<br>    \"min_child_samples\": 14,<br>    \"learning_rate\": 0.007506057264991596,<br>    \"boosting_type\": \"gbdt\"<br>  }<br>}",
          "{<br>  \"number\": 10,<br>  \"values\": [<br>    0.06447031087059699,<br>    0.6951834554720846<br>  ],<br>  \"params\": {<br>    \"n_estimators\": 5933,<br>    \"num_leaves\": 16,<br>    \"max_depth\": 16,<br>    \"min_child_samples\": 68,<br>    \"learning_rate\": 0.0034944634744400876,<br>    \"boosting_type\": \"gbdt\"<br>  }<br>}",
          "{<br>  \"number\": 13,<br>  \"values\": [<br>    0.054757529906528914,<br>    0.6797991808311228<br>  ],<br>  \"params\": {<br>    \"n_estimators\": 1836,<br>    \"num_leaves\": 247,<br>    \"max_depth\": 7,<br>    \"min_child_samples\": 60,<br>    \"learning_rate\": 0.0031601710345147815,<br>    \"boosting_type\": \"gbdt\"<br>  }<br>}",
          "{<br>  \"number\": 15,<br>  \"values\": [<br>    0.0531285932713067,<br>    0.669123696307921<br>  ],<br>  \"params\": {<br>    \"n_estimators\": 1436,<br>    \"num_leaves\": 191,<br>    \"max_depth\": 7,<br>    \"min_child_samples\": 57,<br>    \"learning_rate\": 0.0031542549164920125,<br>    \"boosting_type\": \"gbdt\"<br>  }<br>}",
          "{<br>  \"number\": 23,<br>  \"values\": [<br>    0.05952806022162014,<br>    0.6883994385922378<br>  ],<br>  \"params\": {<br>    \"n_estimators\": 2297,<br>    \"num_leaves\": 569,<br>    \"max_depth\": 19,<br>    \"min_child_samples\": 76,<br>    \"learning_rate\": 0.0025821051787651723,<br>    \"boosting_type\": \"gbdt\"<br>  }<br>}",
          "{<br>  \"number\": 30,<br>  \"values\": [<br>    0.032064650622024876,<br>    0.5913871993714676<br>  ],<br>  \"params\": {<br>    \"n_estimators\": 927,<br>    \"num_leaves\": 333,<br>    \"max_depth\": 20,<br>    \"min_child_samples\": 30,<br>    \"learning_rate\": 0.0011972634833191179,<br>    \"boosting_type\": \"gbdt\"<br>  }<br>}",
          "{<br>  \"number\": 33,<br>  \"values\": [<br>    0.02209505480292915,<br>    0.5657660215782708<br>  ],<br>  \"params\": {<br>    \"n_estimators\": 2741,<br>    \"num_leaves\": 476,<br>    \"max_depth\": 20,<br>    \"min_child_samples\": 30,<br>    \"learning_rate\": 0.000326999773058086,<br>    \"boosting_type\": \"goss\"<br>  }<br>}",
          "{<br>  \"number\": 35,<br>  \"values\": [<br>    0.01263306571491093,<br>    0.5119882972112221<br>  ],<br>  \"params\": {<br>    \"n_estimators\": 1251,<br>    \"num_leaves\": 512,<br>    \"max_depth\": 19,<br>    \"min_child_samples\": 76,<br>    \"learning_rate\": 0.0005675272100558603,<br>    \"boosting_type\": \"goss\"<br>  }<br>}",
          "{<br>  \"number\": 43,<br>  \"values\": [<br>    0.024993741853906803,<br>    0.5851446157272742<br>  ],<br>  \"params\": {<br>    \"n_estimators\": 1842,<br>    \"num_leaves\": 377,<br>    \"max_depth\": 19,<br>    \"min_child_samples\": 22,<br>    \"learning_rate\": 0.0005392755671642876,<br>    \"boosting_type\": \"goss\"<br>  }<br>}",
          "{<br>  \"number\": 52,<br>  \"values\": [<br>    0.041406440549139806,<br>    0.6146952992824117<br>  ],<br>  \"params\": {<br>    \"n_estimators\": 2163,<br>    \"num_leaves\": 477,<br>    \"max_depth\": 5,<br>    \"min_child_samples\": 42,<br>    \"learning_rate\": 0.0007668439940883837,<br>    \"boosting_type\": \"goss\"<br>  }<br>}",
          "{<br>  \"number\": 56,<br>  \"values\": [<br>    0.053869423295649164,<br>    0.6697031402016516<br>  ],<br>  \"params\": {<br>    \"n_estimators\": 2089,<br>    \"num_leaves\": 360,<br>    \"max_depth\": 8,<br>    \"min_child_samples\": 21,<br>    \"learning_rate\": 0.0015017897398641247,<br>    \"boosting_type\": \"goss\"<br>  }<br>}",
          "{<br>  \"number\": 58,<br>  \"values\": [<br>    0.04452629772728693,<br>    0.6368784476241193<br>  ],<br>  \"params\": {<br>    \"n_estimators\": 527,<br>    \"num_leaves\": 169,<br>    \"max_depth\": 9,<br>    \"min_child_samples\": 42,<br>    \"learning_rate\": 0.0037531918152214506,<br>    \"boosting_type\": \"gbdt\"<br>  }<br>}",
          "{<br>  \"number\": 61,<br>  \"values\": [<br>    0.048799804287980385,<br>    0.6459250974237623<br>  ],<br>  \"params\": {<br>    \"n_estimators\": 972,<br>    \"num_leaves\": 60,<br>    \"max_depth\": 7,<br>    \"min_child_samples\": 38,<br>    \"learning_rate\": 0.0026800820660918354,<br>    \"boosting_type\": \"gbdt\"<br>  }<br>}",
          "{<br>  \"number\": 66,<br>  \"values\": [<br>    0.057899473379693575,<br>    0.6863664878250872<br>  ],<br>  \"params\": {<br>    \"n_estimators\": 5035,<br>    \"num_leaves\": 395,<br>    \"max_depth\": 11,<br>    \"min_child_samples\": 35,<br>    \"learning_rate\": 0.0010340631634536063,<br>    \"boosting_type\": \"gbdt\"<br>  }<br>}",
          "{<br>  \"number\": 68,<br>  \"values\": [<br>    0.014911121477975565,<br>    0.5205079307965497<br>  ],<br>  \"params\": {<br>    \"n_estimators\": 1928,<br>    \"num_leaves\": 263,<br>    \"max_depth\": 18,<br>    \"min_child_samples\": 14,<br>    \"learning_rate\": 0.00035218036382429286,<br>    \"boosting_type\": \"gbdt\"<br>  }<br>}",
          "{<br>  \"number\": 71,<br>  \"values\": [<br>    0.001323015329008888,<br>    0.3026478717711364<br>  ],<br>  \"params\": {<br>    \"n_estimators\": 1953,<br>    \"num_leaves\": 278,<br>    \"max_depth\": 3,<br>    \"min_child_samples\": 15,<br>    \"learning_rate\": 0.00033706234932995424,<br>    \"boosting_type\": \"gbdt\"<br>  }<br>}",
          "{<br>  \"number\": 75,<br>  \"values\": [<br>    0.0,<br>    0.12374059952639212<br>  ],<br>  \"params\": {<br>    \"n_estimators\": 568,<br>    \"num_leaves\": 482,<br>    \"max_depth\": 3,<br>    \"min_child_samples\": 122,<br>    \"learning_rate\": 0.000876939820011911,<br>    \"boosting_type\": \"goss\"<br>  }<br>}",
          "{<br>  \"number\": 81,<br>  \"values\": [<br>    0.0028346698986377863,<br>    0.36519862103363415<br>  ],<br>  \"params\": {<br>    \"n_estimators\": 1924,<br>    \"num_leaves\": 260,<br>    \"max_depth\": 19,<br>    \"min_child_samples\": 9,<br>    \"learning_rate\": 0.0002290626554106359,<br>    \"boosting_type\": \"gbdt\"<br>  }<br>}",
          "{<br>  \"number\": 85,<br>  \"values\": [<br>    0.0031876113705765234,<br>    0.37296899884221757<br>  ],<br>  \"params\": {<br>    \"n_estimators\": 807,<br>    \"num_leaves\": 341,<br>    \"max_depth\": 19,<br>    \"min_child_samples\": 33,<br>    \"learning_rate\": 0.0006140168020394073,<br>    \"boosting_type\": \"gbdt\"<br>  }<br>}"
         ],
         "type": "scatter",
         "x": [
          0.061828696500874594,
          0.06447031087059699,
          0.054757529906528914,
          0.0531285932713067,
          0.05952806022162014,
          0.032064650622024876,
          0.02209505480292915,
          0.01263306571491093,
          0.024993741853906803,
          0.041406440549139806,
          0.053869423295649164,
          0.04452629772728693,
          0.048799804287980385,
          0.057899473379693575,
          0.014911121477975565,
          0.001323015329008888,
          0,
          0.0028346698986377863,
          0.0031876113705765234
         ],
         "y": [
          0.6933939212308955,
          0.6951834554720846,
          0.6797991808311228,
          0.669123696307921,
          0.6883994385922378,
          0.5913871993714676,
          0.5657660215782708,
          0.5119882972112221,
          0.5851446157272742,
          0.6146952992824117,
          0.6697031402016516,
          0.6368784476241193,
          0.6459250974237623,
          0.6863664878250872,
          0.5205079307965497,
          0.3026478717711364,
          0.12374059952639212,
          0.36519862103363415,
          0.37296899884221757
         ]
        }
       ],
       "layout": {
        "template": {
         "data": {
          "bar": [
           {
            "error_x": {
             "color": "#2a3f5f"
            },
            "error_y": {
             "color": "#2a3f5f"
            },
            "marker": {
             "line": {
              "color": "#E5ECF6",
              "width": 0.5
             },
             "pattern": {
              "fillmode": "overlay",
              "size": 10,
              "solidity": 0.2
             }
            },
            "type": "bar"
           }
          ],
          "barpolar": [
           {
            "marker": {
             "line": {
              "color": "#E5ECF6",
              "width": 0.5
             },
             "pattern": {
              "fillmode": "overlay",
              "size": 10,
              "solidity": 0.2
             }
            },
            "type": "barpolar"
           }
          ],
          "carpet": [
           {
            "aaxis": {
             "endlinecolor": "#2a3f5f",
             "gridcolor": "white",
             "linecolor": "white",
             "minorgridcolor": "white",
             "startlinecolor": "#2a3f5f"
            },
            "baxis": {
             "endlinecolor": "#2a3f5f",
             "gridcolor": "white",
             "linecolor": "white",
             "minorgridcolor": "white",
             "startlinecolor": "#2a3f5f"
            },
            "type": "carpet"
           }
          ],
          "choropleth": [
           {
            "colorbar": {
             "outlinewidth": 0,
             "ticks": ""
            },
            "type": "choropleth"
           }
          ],
          "contour": [
           {
            "colorbar": {
             "outlinewidth": 0,
             "ticks": ""
            },
            "colorscale": [
             [
              0,
              "#0d0887"
             ],
             [
              0.1111111111111111,
              "#46039f"
             ],
             [
              0.2222222222222222,
              "#7201a8"
             ],
             [
              0.3333333333333333,
              "#9c179e"
             ],
             [
              0.4444444444444444,
              "#bd3786"
             ],
             [
              0.5555555555555556,
              "#d8576b"
             ],
             [
              0.6666666666666666,
              "#ed7953"
             ],
             [
              0.7777777777777778,
              "#fb9f3a"
             ],
             [
              0.8888888888888888,
              "#fdca26"
             ],
             [
              1,
              "#f0f921"
             ]
            ],
            "type": "contour"
           }
          ],
          "contourcarpet": [
           {
            "colorbar": {
             "outlinewidth": 0,
             "ticks": ""
            },
            "type": "contourcarpet"
           }
          ],
          "heatmap": [
           {
            "colorbar": {
             "outlinewidth": 0,
             "ticks": ""
            },
            "colorscale": [
             [
              0,
              "#0d0887"
             ],
             [
              0.1111111111111111,
              "#46039f"
             ],
             [
              0.2222222222222222,
              "#7201a8"
             ],
             [
              0.3333333333333333,
              "#9c179e"
             ],
             [
              0.4444444444444444,
              "#bd3786"
             ],
             [
              0.5555555555555556,
              "#d8576b"
             ],
             [
              0.6666666666666666,
              "#ed7953"
             ],
             [
              0.7777777777777778,
              "#fb9f3a"
             ],
             [
              0.8888888888888888,
              "#fdca26"
             ],
             [
              1,
              "#f0f921"
             ]
            ],
            "type": "heatmap"
           }
          ],
          "heatmapgl": [
           {
            "colorbar": {
             "outlinewidth": 0,
             "ticks": ""
            },
            "colorscale": [
             [
              0,
              "#0d0887"
             ],
             [
              0.1111111111111111,
              "#46039f"
             ],
             [
              0.2222222222222222,
              "#7201a8"
             ],
             [
              0.3333333333333333,
              "#9c179e"
             ],
             [
              0.4444444444444444,
              "#bd3786"
             ],
             [
              0.5555555555555556,
              "#d8576b"
             ],
             [
              0.6666666666666666,
              "#ed7953"
             ],
             [
              0.7777777777777778,
              "#fb9f3a"
             ],
             [
              0.8888888888888888,
              "#fdca26"
             ],
             [
              1,
              "#f0f921"
             ]
            ],
            "type": "heatmapgl"
           }
          ],
          "histogram": [
           {
            "marker": {
             "pattern": {
              "fillmode": "overlay",
              "size": 10,
              "solidity": 0.2
             }
            },
            "type": "histogram"
           }
          ],
          "histogram2d": [
           {
            "colorbar": {
             "outlinewidth": 0,
             "ticks": ""
            },
            "colorscale": [
             [
              0,
              "#0d0887"
             ],
             [
              0.1111111111111111,
              "#46039f"
             ],
             [
              0.2222222222222222,
              "#7201a8"
             ],
             [
              0.3333333333333333,
              "#9c179e"
             ],
             [
              0.4444444444444444,
              "#bd3786"
             ],
             [
              0.5555555555555556,
              "#d8576b"
             ],
             [
              0.6666666666666666,
              "#ed7953"
             ],
             [
              0.7777777777777778,
              "#fb9f3a"
             ],
             [
              0.8888888888888888,
              "#fdca26"
             ],
             [
              1,
              "#f0f921"
             ]
            ],
            "type": "histogram2d"
           }
          ],
          "histogram2dcontour": [
           {
            "colorbar": {
             "outlinewidth": 0,
             "ticks": ""
            },
            "colorscale": [
             [
              0,
              "#0d0887"
             ],
             [
              0.1111111111111111,
              "#46039f"
             ],
             [
              0.2222222222222222,
              "#7201a8"
             ],
             [
              0.3333333333333333,
              "#9c179e"
             ],
             [
              0.4444444444444444,
              "#bd3786"
             ],
             [
              0.5555555555555556,
              "#d8576b"
             ],
             [
              0.6666666666666666,
              "#ed7953"
             ],
             [
              0.7777777777777778,
              "#fb9f3a"
             ],
             [
              0.8888888888888888,
              "#fdca26"
             ],
             [
              1,
              "#f0f921"
             ]
            ],
            "type": "histogram2dcontour"
           }
          ],
          "mesh3d": [
           {
            "colorbar": {
             "outlinewidth": 0,
             "ticks": ""
            },
            "type": "mesh3d"
           }
          ],
          "parcoords": [
           {
            "line": {
             "colorbar": {
              "outlinewidth": 0,
              "ticks": ""
             }
            },
            "type": "parcoords"
           }
          ],
          "pie": [
           {
            "automargin": true,
            "type": "pie"
           }
          ],
          "scatter": [
           {
            "fillpattern": {
             "fillmode": "overlay",
             "size": 10,
             "solidity": 0.2
            },
            "type": "scatter"
           }
          ],
          "scatter3d": [
           {
            "line": {
             "colorbar": {
              "outlinewidth": 0,
              "ticks": ""
             }
            },
            "marker": {
             "colorbar": {
              "outlinewidth": 0,
              "ticks": ""
             }
            },
            "type": "scatter3d"
           }
          ],
          "scattercarpet": [
           {
            "marker": {
             "colorbar": {
              "outlinewidth": 0,
              "ticks": ""
             }
            },
            "type": "scattercarpet"
           }
          ],
          "scattergeo": [
           {
            "marker": {
             "colorbar": {
              "outlinewidth": 0,
              "ticks": ""
             }
            },
            "type": "scattergeo"
           }
          ],
          "scattergl": [
           {
            "marker": {
             "colorbar": {
              "outlinewidth": 0,
              "ticks": ""
             }
            },
            "type": "scattergl"
           }
          ],
          "scattermapbox": [
           {
            "marker": {
             "colorbar": {
              "outlinewidth": 0,
              "ticks": ""
             }
            },
            "type": "scattermapbox"
           }
          ],
          "scatterpolar": [
           {
            "marker": {
             "colorbar": {
              "outlinewidth": 0,
              "ticks": ""
             }
            },
            "type": "scatterpolar"
           }
          ],
          "scatterpolargl": [
           {
            "marker": {
             "colorbar": {
              "outlinewidth": 0,
              "ticks": ""
             }
            },
            "type": "scatterpolargl"
           }
          ],
          "scatterternary": [
           {
            "marker": {
             "colorbar": {
              "outlinewidth": 0,
              "ticks": ""
             }
            },
            "type": "scatterternary"
           }
          ],
          "surface": [
           {
            "colorbar": {
             "outlinewidth": 0,
             "ticks": ""
            },
            "colorscale": [
             [
              0,
              "#0d0887"
             ],
             [
              0.1111111111111111,
              "#46039f"
             ],
             [
              0.2222222222222222,
              "#7201a8"
             ],
             [
              0.3333333333333333,
              "#9c179e"
             ],
             [
              0.4444444444444444,
              "#bd3786"
             ],
             [
              0.5555555555555556,
              "#d8576b"
             ],
             [
              0.6666666666666666,
              "#ed7953"
             ],
             [
              0.7777777777777778,
              "#fb9f3a"
             ],
             [
              0.8888888888888888,
              "#fdca26"
             ],
             [
              1,
              "#f0f921"
             ]
            ],
            "type": "surface"
           }
          ],
          "table": [
           {
            "cells": {
             "fill": {
              "color": "#EBF0F8"
             },
             "line": {
              "color": "white"
             }
            },
            "header": {
             "fill": {
              "color": "#C8D4E3"
             },
             "line": {
              "color": "white"
             }
            },
            "type": "table"
           }
          ]
         },
         "layout": {
          "annotationdefaults": {
           "arrowcolor": "#2a3f5f",
           "arrowhead": 0,
           "arrowwidth": 1
          },
          "autotypenumbers": "strict",
          "coloraxis": {
           "colorbar": {
            "outlinewidth": 0,
            "ticks": ""
           }
          },
          "colorscale": {
           "diverging": [
            [
             0,
             "#8e0152"
            ],
            [
             0.1,
             "#c51b7d"
            ],
            [
             0.2,
             "#de77ae"
            ],
            [
             0.3,
             "#f1b6da"
            ],
            [
             0.4,
             "#fde0ef"
            ],
            [
             0.5,
             "#f7f7f7"
            ],
            [
             0.6,
             "#e6f5d0"
            ],
            [
             0.7,
             "#b8e186"
            ],
            [
             0.8,
             "#7fbc41"
            ],
            [
             0.9,
             "#4d9221"
            ],
            [
             1,
             "#276419"
            ]
           ],
           "sequential": [
            [
             0,
             "#0d0887"
            ],
            [
             0.1111111111111111,
             "#46039f"
            ],
            [
             0.2222222222222222,
             "#7201a8"
            ],
            [
             0.3333333333333333,
             "#9c179e"
            ],
            [
             0.4444444444444444,
             "#bd3786"
            ],
            [
             0.5555555555555556,
             "#d8576b"
            ],
            [
             0.6666666666666666,
             "#ed7953"
            ],
            [
             0.7777777777777778,
             "#fb9f3a"
            ],
            [
             0.8888888888888888,
             "#fdca26"
            ],
            [
             1,
             "#f0f921"
            ]
           ],
           "sequentialminus": [
            [
             0,
             "#0d0887"
            ],
            [
             0.1111111111111111,
             "#46039f"
            ],
            [
             0.2222222222222222,
             "#7201a8"
            ],
            [
             0.3333333333333333,
             "#9c179e"
            ],
            [
             0.4444444444444444,
             "#bd3786"
            ],
            [
             0.5555555555555556,
             "#d8576b"
            ],
            [
             0.6666666666666666,
             "#ed7953"
            ],
            [
             0.7777777777777778,
             "#fb9f3a"
            ],
            [
             0.8888888888888888,
             "#fdca26"
            ],
            [
             1,
             "#f0f921"
            ]
           ]
          },
          "colorway": [
           "#636efa",
           "#EF553B",
           "#00cc96",
           "#ab63fa",
           "#FFA15A",
           "#19d3f3",
           "#FF6692",
           "#B6E880",
           "#FF97FF",
           "#FECB52"
          ],
          "font": {
           "color": "#2a3f5f"
          },
          "geo": {
           "bgcolor": "white",
           "lakecolor": "white",
           "landcolor": "#E5ECF6",
           "showlakes": true,
           "showland": true,
           "subunitcolor": "white"
          },
          "hoverlabel": {
           "align": "left"
          },
          "hovermode": "closest",
          "mapbox": {
           "style": "light"
          },
          "paper_bgcolor": "white",
          "plot_bgcolor": "#E5ECF6",
          "polar": {
           "angularaxis": {
            "gridcolor": "white",
            "linecolor": "white",
            "ticks": ""
           },
           "bgcolor": "#E5ECF6",
           "radialaxis": {
            "gridcolor": "white",
            "linecolor": "white",
            "ticks": ""
           }
          },
          "scene": {
           "xaxis": {
            "backgroundcolor": "#E5ECF6",
            "gridcolor": "white",
            "gridwidth": 2,
            "linecolor": "white",
            "showbackground": true,
            "ticks": "",
            "zerolinecolor": "white"
           },
           "yaxis": {
            "backgroundcolor": "#E5ECF6",
            "gridcolor": "white",
            "gridwidth": 2,
            "linecolor": "white",
            "showbackground": true,
            "ticks": "",
            "zerolinecolor": "white"
           },
           "zaxis": {
            "backgroundcolor": "#E5ECF6",
            "gridcolor": "white",
            "gridwidth": 2,
            "linecolor": "white",
            "showbackground": true,
            "ticks": "",
            "zerolinecolor": "white"
           }
          },
          "shapedefaults": {
           "line": {
            "color": "#2a3f5f"
           }
          },
          "ternary": {
           "aaxis": {
            "gridcolor": "white",
            "linecolor": "white",
            "ticks": ""
           },
           "baxis": {
            "gridcolor": "white",
            "linecolor": "white",
            "ticks": ""
           },
           "bgcolor": "#E5ECF6",
           "caxis": {
            "gridcolor": "white",
            "linecolor": "white",
            "ticks": ""
           }
          },
          "title": {
           "x": 0.05
          },
          "xaxis": {
           "automargin": true,
           "gridcolor": "white",
           "linecolor": "white",
           "ticks": "",
           "title": {
            "standoff": 15
           },
           "zerolinecolor": "white",
           "zerolinewidth": 2
          },
          "yaxis": {
           "automargin": true,
           "gridcolor": "white",
           "linecolor": "white",
           "ticks": "",
           "title": {
            "standoff": 15
           },
           "zerolinecolor": "white",
           "zerolinewidth": 2
          }
         }
        },
        "title": {
         "text": "Pareto-front Plot"
        },
        "xaxis": {
         "title": {
          "text": "fair_metric"
         }
        },
        "yaxis": {
         "title": {
          "text": "f1_score"
         }
        }
       }
      }
     },
     "metadata": {},
     "output_type": "display_data"
    }
   ],
   "source": [
    "optuna.visualization.plot_pareto_front(study, target_names=[\"fair_metric\", \"f1_score\"], include_dominated_trials = True)"
   ]
  },
  {
   "cell_type": "code",
   "execution_count": null,
   "metadata": {},
   "outputs": [],
   "source": []
  }
 ],
 "metadata": {
  "kernelspec": {
   "display_name": "Python 3.8.10 64-bit",
   "language": "python",
   "name": "python3"
  },
  "language_info": {
   "codemirror_mode": {
    "name": "ipython",
    "version": 3
   },
   "file_extension": ".py",
   "mimetype": "text/x-python",
   "name": "python",
   "nbconvert_exporter": "python",
   "pygments_lexer": "ipython3",
   "version": "3.8.10"
  },
  "orig_nbformat": 4,
  "vscode": {
   "interpreter": {
    "hash": "31f2aee4e71d21fbe5cf8b01ff0e069b9275f58929596ceb00d14d90e3e16cd6"
   }
  }
 },
 "nbformat": 4,
 "nbformat_minor": 2
}
