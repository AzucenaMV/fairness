{
 "cells": [
  {
   "cell_type": "code",
   "execution_count": null,
   "metadata": {},
   "outputs": [],
   "source": [
    "#! pip install fairlearn\n",
    "#! pip install lightgbm\n",
    "#! pip install optuna"
   ]
  },
  {
   "cell_type": "code",
   "execution_count": 9,
   "metadata": {},
   "outputs": [],
   "source": [
    "from sklearn.metrics import f1_score, confusion_matrix, make_scorer, accuracy_score, recall_score\n",
    "from sklearn.model_selection import cross_val_score, train_test_split, cross_validate\n",
    "from fairlearn.datasets import fetch_adult\n",
    "from sklearn.pipeline import Pipeline\n",
    "from sklearn.preprocessing import OneHotEncoder, StandardScaler\n",
    "from sklearn.compose import ColumnTransformer\n",
    "from sklearn.compose import make_column_selector as selector\n",
    "from sklearn.impute import SimpleImputer\n",
    "from sklearn.ensemble import RandomForestClassifier\n",
    "from lightgbm import LGBMClassifier\n",
    "\n",
    "import numpy as np\n",
    "import optuna\n",
    "import tqdm as notebook_tqdm\n",
    "from metrics import (\n",
    "    equality_opportunity_difference,\n",
    "    predictive_equality_difference,\n",
    "    metrics\n",
    ")"
   ]
  },
  {
   "cell_type": "code",
   "execution_count": 10,
   "metadata": {},
   "outputs": [
    {
     "name": "stderr",
     "output_type": "stream",
     "text": [
      "/home/azucena/miniconda3/envs/fairenv/lib/python3.10/site-packages/sklearn/datasets/_openml.py:968: FutureWarning: The default value of `parser` will change from `'liac-arff'` to `'auto'` in 1.4. You can set `parser='auto'` to silence this warning. Therefore, an `ImportError` will be raised from 1.4 if the dataset is dense and pandas is not installed. Note that the pandas parser may return different data types. See the Notes Section in fetch_openml's API doc for details.\n",
      "  warn(\n"
     ]
    }
   ],
   "source": [
    "data = fetch_adult(as_frame=True)\n",
    "X_raw = data.data\n",
    "y = (data.target == \">50K\") * 1\n",
    "A = X_raw[\"sex\"]\n",
    "\n",
    "numeric_transformer = Pipeline(\n",
    "    steps=[\n",
    "        (\"impute\", SimpleImputer()),\n",
    "        (\"scaler\", StandardScaler()),\n",
    "    ]\n",
    ")\n",
    "categorical_transformer = Pipeline(\n",
    "    [\n",
    "        (\"impute\", SimpleImputer(strategy=\"most_frequent\")),\n",
    "        (\"ohe\", OneHotEncoder(handle_unknown=\"ignore\")),\n",
    "    ]\n",
    ")\n",
    "preprocessor = ColumnTransformer(\n",
    "    transformers=[\n",
    "        (\"num\", numeric_transformer, selector(dtype_exclude=\"category\")),\n",
    "        (\"cat\", categorical_transformer, selector(dtype_include=\"category\")),\n",
    "    ]\n",
    ")\n",
    "\n",
    "pipeline = Pipeline(\n",
    "    steps=[\n",
    "        (\"preprocessor\", preprocessor),\n",
    "        (\n",
    "            \"classifier\",\n",
    "            LGBMClassifier(n_jobs=-1),\n",
    "        ),\n",
    "    ]\n",
    ")"
   ]
  },
  {
   "cell_type": "code",
   "execution_count": 20,
   "metadata": {},
   "outputs": [
    {
     "name": "stderr",
     "output_type": "stream",
     "text": [
      "\u001b[32m[I 2023-05-11 16:41:32,182]\u001b[0m A new study created in memory with name: no-name-dbf43de5-b7a1-48c6-a78f-642bf60f5188\u001b[0m\n"
     ]
    },
    {
     "name": "stdout",
     "output_type": "stream",
     "text": [
      "0\n"
     ]
    },
    {
     "name": "stderr",
     "output_type": "stream",
     "text": [
      "\u001b[32m[I 2023-05-11 16:41:46,163]\u001b[0m Trial 0 finished with values: [0.05701495799719729, 0.6783933013990529] and parameters: {'n_estimators': 1462, 'num_leaves': 807, 'max_depth': 4, 'min_child_samples': 18, 'learning_rate': 0.007224169973066452, 'boosting_type': 'gbdt'}. \u001b[0m\n",
      "\u001b[32m[I 2023-05-11 16:41:56,439]\u001b[0m Trial 1 finished with values: [0.048094045374634346, 0.6349431896146953] and parameters: {'n_estimators': 2280, 'num_leaves': 200, 'max_depth': 2, 'min_child_samples': 266, 'learning_rate': 0.0031392474748535145, 'boosting_type': 'gbdt'}. \u001b[0m\n",
      "\u001b[33m[W 2023-05-11 16:42:15,101]\u001b[0m Trial 2 failed with parameters: {'n_estimators': 7799, 'num_leaves': 206, 'max_depth': 12, 'min_child_samples': 187, 'learning_rate': 0.0023693945588310235, 'boosting_type': 'goss'} because of the following error: KeyboardInterrupt().\u001b[0m\n",
      "Traceback (most recent call last):\n",
      "  File \"/home/azucena/miniconda3/envs/fairenv/lib/python3.10/site-packages/optuna/study/_optimize.py\", line 200, in _run_trial\n",
      "    value_or_values = func(trial)\n",
      "  File \"/tmp/ipykernel_58576/4134315420.py\", line 33, in objective\n",
      "    scores = cross_validate(\n",
      "  File \"/home/azucena/miniconda3/envs/fairenv/lib/python3.10/site-packages/sklearn/model_selection/_validation.py\", line 266, in cross_validate\n",
      "    results = parallel(\n",
      "  File \"/home/azucena/miniconda3/envs/fairenv/lib/python3.10/site-packages/sklearn/utils/parallel.py\", line 63, in __call__\n",
      "    return super().__call__(iterable_with_config)\n",
      "  File \"/home/azucena/miniconda3/envs/fairenv/lib/python3.10/site-packages/joblib/parallel.py\", line 1085, in __call__\n",
      "    if self.dispatch_one_batch(iterator):\n",
      "  File \"/home/azucena/miniconda3/envs/fairenv/lib/python3.10/site-packages/joblib/parallel.py\", line 901, in dispatch_one_batch\n",
      "    self._dispatch(tasks)\n",
      "  File \"/home/azucena/miniconda3/envs/fairenv/lib/python3.10/site-packages/joblib/parallel.py\", line 819, in _dispatch\n",
      "    job = self._backend.apply_async(batch, callback=cb)\n",
      "  File \"/home/azucena/miniconda3/envs/fairenv/lib/python3.10/site-packages/joblib/_parallel_backends.py\", line 208, in apply_async\n",
      "    result = ImmediateResult(func)\n",
      "  File \"/home/azucena/miniconda3/envs/fairenv/lib/python3.10/site-packages/joblib/_parallel_backends.py\", line 597, in __init__\n",
      "    self.results = batch()\n",
      "  File \"/home/azucena/miniconda3/envs/fairenv/lib/python3.10/site-packages/joblib/parallel.py\", line 288, in __call__\n",
      "    return [func(*args, **kwargs)\n",
      "  File \"/home/azucena/miniconda3/envs/fairenv/lib/python3.10/site-packages/joblib/parallel.py\", line 288, in <listcomp>\n",
      "    return [func(*args, **kwargs)\n",
      "  File \"/home/azucena/miniconda3/envs/fairenv/lib/python3.10/site-packages/sklearn/utils/parallel.py\", line 123, in __call__\n",
      "    return self.function(*args, **kwargs)\n",
      "  File \"/home/azucena/miniconda3/envs/fairenv/lib/python3.10/site-packages/sklearn/model_selection/_validation.py\", line 711, in _fit_and_score\n",
      "    train_scores = _score(estimator, X_train, y_train, scorer, error_score)\n",
      "  File \"/home/azucena/miniconda3/envs/fairenv/lib/python3.10/site-packages/sklearn/model_selection/_validation.py\", line 767, in _score\n",
      "    scores = scorer(estimator, X_test, y_test)\n",
      "  File \"/tmp/ipykernel_58576/872417562.py\", line 9, in metric_scorer\n",
      "    y_pred = clf.predict(X)\n",
      "  File \"/home/azucena/miniconda3/envs/fairenv/lib/python3.10/site-packages/sklearn/pipeline.py\", line 481, in predict\n",
      "    return self.steps[-1][1].predict(Xt, **predict_params)\n",
      "  File \"/home/azucena/miniconda3/envs/fairenv/lib/python3.10/site-packages/lightgbm/sklearn.py\", line 984, in predict\n",
      "    result = self.predict_proba(X, raw_score, start_iteration, num_iteration,\n",
      "  File \"/home/azucena/miniconda3/envs/fairenv/lib/python3.10/site-packages/lightgbm/sklearn.py\", line 997, in predict_proba\n",
      "    result = super().predict(X, raw_score, start_iteration, num_iteration, pred_leaf, pred_contrib, **kwargs)\n",
      "  File \"/home/azucena/miniconda3/envs/fairenv/lib/python3.10/site-packages/lightgbm/sklearn.py\", line 803, in predict\n",
      "    return self._Booster.predict(X, raw_score=raw_score, start_iteration=start_iteration, num_iteration=num_iteration,\n",
      "  File \"/home/azucena/miniconda3/envs/fairenv/lib/python3.10/site-packages/lightgbm/basic.py\", line 3538, in predict\n",
      "    return predictor.predict(data, start_iteration, num_iteration,\n",
      "  File \"/home/azucena/miniconda3/envs/fairenv/lib/python3.10/site-packages/lightgbm/basic.py\", line 844, in predict\n",
      "    preds, nrow = self.__pred_for_csr(data, start_iteration, num_iteration, predict_type)\n",
      "  File \"/home/azucena/miniconda3/envs/fairenv/lib/python3.10/site-packages/lightgbm/basic.py\", line 1077, in __pred_for_csr\n",
      "    return inner_predict(csr, start_iteration, num_iteration, predict_type)\n",
      "  File \"/home/azucena/miniconda3/envs/fairenv/lib/python3.10/site-packages/lightgbm/basic.py\", line 1003, in inner_predict\n",
      "    _safe_call(_LIB.LGBM_BoosterPredictForCSR(\n",
      "KeyboardInterrupt\n",
      "\u001b[33m[W 2023-05-11 16:42:15,121]\u001b[0m Trial 2 failed with value None.\u001b[0m\n"
     ]
    },
    {
     "ename": "KeyboardInterrupt",
     "evalue": "",
     "output_type": "error",
     "traceback": [
      "\u001b[0;31m---------------------------------------------------------------------------\u001b[0m",
      "\u001b[0;31mKeyboardInterrupt\u001b[0m                         Traceback (most recent call last)",
      "Cell \u001b[0;32mIn[20], line 53\u001b[0m\n\u001b[1;32m     51\u001b[0m sampler \u001b[39m=\u001b[39m optuna\u001b[39m.\u001b[39msamplers\u001b[39m.\u001b[39mTPESampler()  \u001b[39m# `MOTPESampler` used to be required for multi-objective optimization.\u001b[39;00m\n\u001b[1;32m     52\u001b[0m study \u001b[39m=\u001b[39m optuna\u001b[39m.\u001b[39mcreate_study(directions\u001b[39m=\u001b[39mdirections, pruner\u001b[39m=\u001b[39moptuna\u001b[39m.\u001b[39mpruners\u001b[39m.\u001b[39mSuccessiveHalvingPruner(), sampler \u001b[39m=\u001b[39m sampler)\n\u001b[0;32m---> 53\u001b[0m study\u001b[39m.\u001b[39;49moptimize(objective, n_trials\u001b[39m=\u001b[39;49m\u001b[39m100\u001b[39;49m)\n\u001b[1;32m     54\u001b[0m \u001b[39mprint\u001b[39m(\u001b[39m\"\u001b[39m\u001b[39mNumber of finished trials: \u001b[39m\u001b[39m\"\u001b[39m, \u001b[39mlen\u001b[39m(study\u001b[39m.\u001b[39mtrials))\n\u001b[1;32m     55\u001b[0m results\u001b[39m.\u001b[39mappend(study)\n",
      "File \u001b[0;32m~/miniconda3/envs/fairenv/lib/python3.10/site-packages/optuna/study/study.py:425\u001b[0m, in \u001b[0;36mStudy.optimize\u001b[0;34m(self, func, n_trials, timeout, n_jobs, catch, callbacks, gc_after_trial, show_progress_bar)\u001b[0m\n\u001b[1;32m    321\u001b[0m \u001b[39mdef\u001b[39;00m \u001b[39moptimize\u001b[39m(\n\u001b[1;32m    322\u001b[0m     \u001b[39mself\u001b[39m,\n\u001b[1;32m    323\u001b[0m     func: ObjectiveFuncType,\n\u001b[0;32m   (...)\u001b[0m\n\u001b[1;32m    330\u001b[0m     show_progress_bar: \u001b[39mbool\u001b[39m \u001b[39m=\u001b[39m \u001b[39mFalse\u001b[39;00m,\n\u001b[1;32m    331\u001b[0m ) \u001b[39m-\u001b[39m\u001b[39m>\u001b[39m \u001b[39mNone\u001b[39;00m:\n\u001b[1;32m    332\u001b[0m \u001b[39m    \u001b[39m\u001b[39m\"\"\"Optimize an objective function.\u001b[39;00m\n\u001b[1;32m    333\u001b[0m \n\u001b[1;32m    334\u001b[0m \u001b[39m    Optimization is done by choosing a suitable set of hyperparameter values from a given\u001b[39;00m\n\u001b[0;32m   (...)\u001b[0m\n\u001b[1;32m    422\u001b[0m \u001b[39m            If nested invocation of this method occurs.\u001b[39;00m\n\u001b[1;32m    423\u001b[0m \u001b[39m    \"\"\"\u001b[39;00m\n\u001b[0;32m--> 425\u001b[0m     _optimize(\n\u001b[1;32m    426\u001b[0m         study\u001b[39m=\u001b[39;49m\u001b[39mself\u001b[39;49m,\n\u001b[1;32m    427\u001b[0m         func\u001b[39m=\u001b[39;49mfunc,\n\u001b[1;32m    428\u001b[0m         n_trials\u001b[39m=\u001b[39;49mn_trials,\n\u001b[1;32m    429\u001b[0m         timeout\u001b[39m=\u001b[39;49mtimeout,\n\u001b[1;32m    430\u001b[0m         n_jobs\u001b[39m=\u001b[39;49mn_jobs,\n\u001b[1;32m    431\u001b[0m         catch\u001b[39m=\u001b[39;49m\u001b[39mtuple\u001b[39;49m(catch) \u001b[39mif\u001b[39;49;00m \u001b[39misinstance\u001b[39;49m(catch, Iterable) \u001b[39melse\u001b[39;49;00m (catch,),\n\u001b[1;32m    432\u001b[0m         callbacks\u001b[39m=\u001b[39;49mcallbacks,\n\u001b[1;32m    433\u001b[0m         gc_after_trial\u001b[39m=\u001b[39;49mgc_after_trial,\n\u001b[1;32m    434\u001b[0m         show_progress_bar\u001b[39m=\u001b[39;49mshow_progress_bar,\n\u001b[1;32m    435\u001b[0m     )\n",
      "File \u001b[0;32m~/miniconda3/envs/fairenv/lib/python3.10/site-packages/optuna/study/_optimize.py:66\u001b[0m, in \u001b[0;36m_optimize\u001b[0;34m(study, func, n_trials, timeout, n_jobs, catch, callbacks, gc_after_trial, show_progress_bar)\u001b[0m\n\u001b[1;32m     64\u001b[0m \u001b[39mtry\u001b[39;00m:\n\u001b[1;32m     65\u001b[0m     \u001b[39mif\u001b[39;00m n_jobs \u001b[39m==\u001b[39m \u001b[39m1\u001b[39m:\n\u001b[0;32m---> 66\u001b[0m         _optimize_sequential(\n\u001b[1;32m     67\u001b[0m             study,\n\u001b[1;32m     68\u001b[0m             func,\n\u001b[1;32m     69\u001b[0m             n_trials,\n\u001b[1;32m     70\u001b[0m             timeout,\n\u001b[1;32m     71\u001b[0m             catch,\n\u001b[1;32m     72\u001b[0m             callbacks,\n\u001b[1;32m     73\u001b[0m             gc_after_trial,\n\u001b[1;32m     74\u001b[0m             reseed_sampler_rng\u001b[39m=\u001b[39;49m\u001b[39mFalse\u001b[39;49;00m,\n\u001b[1;32m     75\u001b[0m             time_start\u001b[39m=\u001b[39;49m\u001b[39mNone\u001b[39;49;00m,\n\u001b[1;32m     76\u001b[0m             progress_bar\u001b[39m=\u001b[39;49mprogress_bar,\n\u001b[1;32m     77\u001b[0m         )\n\u001b[1;32m     78\u001b[0m     \u001b[39melse\u001b[39;00m:\n\u001b[1;32m     79\u001b[0m         \u001b[39mif\u001b[39;00m n_jobs \u001b[39m==\u001b[39m \u001b[39m-\u001b[39m\u001b[39m1\u001b[39m:\n",
      "File \u001b[0;32m~/miniconda3/envs/fairenv/lib/python3.10/site-packages/optuna/study/_optimize.py:163\u001b[0m, in \u001b[0;36m_optimize_sequential\u001b[0;34m(study, func, n_trials, timeout, catch, callbacks, gc_after_trial, reseed_sampler_rng, time_start, progress_bar)\u001b[0m\n\u001b[1;32m    160\u001b[0m         \u001b[39mbreak\u001b[39;00m\n\u001b[1;32m    162\u001b[0m \u001b[39mtry\u001b[39;00m:\n\u001b[0;32m--> 163\u001b[0m     frozen_trial \u001b[39m=\u001b[39m _run_trial(study, func, catch)\n\u001b[1;32m    164\u001b[0m \u001b[39mfinally\u001b[39;00m:\n\u001b[1;32m    165\u001b[0m     \u001b[39m# The following line mitigates memory problems that can be occurred in some\u001b[39;00m\n\u001b[1;32m    166\u001b[0m     \u001b[39m# environments (e.g., services that use computing containers such as GitHub Actions).\u001b[39;00m\n\u001b[1;32m    167\u001b[0m     \u001b[39m# Please refer to the following PR for further details:\u001b[39;00m\n\u001b[1;32m    168\u001b[0m     \u001b[39m# https://github.com/optuna/optuna/pull/325.\u001b[39;00m\n\u001b[1;32m    169\u001b[0m     \u001b[39mif\u001b[39;00m gc_after_trial:\n",
      "File \u001b[0;32m~/miniconda3/envs/fairenv/lib/python3.10/site-packages/optuna/study/_optimize.py:251\u001b[0m, in \u001b[0;36m_run_trial\u001b[0;34m(study, func, catch)\u001b[0m\n\u001b[1;32m    244\u001b[0m         \u001b[39massert\u001b[39;00m \u001b[39mFalse\u001b[39;00m, \u001b[39m\"\u001b[39m\u001b[39mShould not reach.\u001b[39m\u001b[39m\"\u001b[39m\n\u001b[1;32m    246\u001b[0m \u001b[39mif\u001b[39;00m (\n\u001b[1;32m    247\u001b[0m     frozen_trial\u001b[39m.\u001b[39mstate \u001b[39m==\u001b[39m TrialState\u001b[39m.\u001b[39mFAIL\n\u001b[1;32m    248\u001b[0m     \u001b[39mand\u001b[39;00m func_err \u001b[39mis\u001b[39;00m \u001b[39mnot\u001b[39;00m \u001b[39mNone\u001b[39;00m\n\u001b[1;32m    249\u001b[0m     \u001b[39mand\u001b[39;00m \u001b[39mnot\u001b[39;00m \u001b[39misinstance\u001b[39m(func_err, catch)\n\u001b[1;32m    250\u001b[0m ):\n\u001b[0;32m--> 251\u001b[0m     \u001b[39mraise\u001b[39;00m func_err\n\u001b[1;32m    252\u001b[0m \u001b[39mreturn\u001b[39;00m frozen_trial\n",
      "File \u001b[0;32m~/miniconda3/envs/fairenv/lib/python3.10/site-packages/optuna/study/_optimize.py:200\u001b[0m, in \u001b[0;36m_run_trial\u001b[0;34m(study, func, catch)\u001b[0m\n\u001b[1;32m    198\u001b[0m \u001b[39mwith\u001b[39;00m get_heartbeat_thread(trial\u001b[39m.\u001b[39m_trial_id, study\u001b[39m.\u001b[39m_storage):\n\u001b[1;32m    199\u001b[0m     \u001b[39mtry\u001b[39;00m:\n\u001b[0;32m--> 200\u001b[0m         value_or_values \u001b[39m=\u001b[39m func(trial)\n\u001b[1;32m    201\u001b[0m     \u001b[39mexcept\u001b[39;00m exceptions\u001b[39m.\u001b[39mTrialPruned \u001b[39mas\u001b[39;00m e:\n\u001b[1;32m    202\u001b[0m         \u001b[39m# TODO(mamu): Handle multi-objective cases.\u001b[39;00m\n\u001b[1;32m    203\u001b[0m         state \u001b[39m=\u001b[39m TrialState\u001b[39m.\u001b[39mPRUNED\n",
      "Cell \u001b[0;32mIn[20], line 33\u001b[0m, in \u001b[0;36mobjective\u001b[0;34m(trial)\u001b[0m\n\u001b[1;32m     23\u001b[0m params \u001b[39m=\u001b[39m {\n\u001b[1;32m     24\u001b[0m     \u001b[39m'\u001b[39m\u001b[39mn_estimators\u001b[39m\u001b[39m'\u001b[39m: trial\u001b[39m.\u001b[39msuggest_int(\u001b[39m\"\u001b[39m\u001b[39mn_estimators\u001b[39m\u001b[39m\"\u001b[39m, \u001b[39m20\u001b[39m, \u001b[39m10000\u001b[39m),\n\u001b[1;32m     25\u001b[0m     \u001b[39m'\u001b[39m\u001b[39mnum_leaves\u001b[39m\u001b[39m'\u001b[39m: trial\u001b[39m.\u001b[39msuggest_int(\u001b[39m\"\u001b[39m\u001b[39mnum_leaves\u001b[39m\u001b[39m\"\u001b[39m, \u001b[39m10\u001b[39m, \u001b[39m1000\u001b[39m),\n\u001b[0;32m   (...)\u001b[0m\n\u001b[1;32m     29\u001b[0m     \u001b[39m'\u001b[39m\u001b[39mboosting_type\u001b[39m\u001b[39m'\u001b[39m: trial\u001b[39m.\u001b[39msuggest_categorical(\u001b[39m\"\u001b[39m\u001b[39mboosting_type\u001b[39m\u001b[39m\"\u001b[39m, [\u001b[39m'\u001b[39m\u001b[39mgoss\u001b[39m\u001b[39m'\u001b[39m, \u001b[39m'\u001b[39m\u001b[39mgbdt\u001b[39m\u001b[39m'\u001b[39m])\n\u001b[1;32m     30\u001b[0m     }\n\u001b[1;32m     31\u001b[0m pipeline[\u001b[39m'\u001b[39m\u001b[39mclassifier\u001b[39m\u001b[39m'\u001b[39m]\u001b[39m.\u001b[39mset_params(\u001b[39m*\u001b[39m\u001b[39m*\u001b[39mparams)\n\u001b[0;32m---> 33\u001b[0m scores \u001b[39m=\u001b[39m cross_validate(\n\u001b[1;32m     34\u001b[0m         pipeline, \n\u001b[1;32m     35\u001b[0m         X_train,\n\u001b[1;32m     36\u001b[0m         y_train, \n\u001b[1;32m     37\u001b[0m         cv\u001b[39m=\u001b[39;49m\u001b[39m5\u001b[39;49m,\n\u001b[1;32m     38\u001b[0m         scoring \u001b[39m=\u001b[39;49m metric_scorer_decorated,\n\u001b[1;32m     39\u001b[0m         return_train_score\u001b[39m=\u001b[39;49m\u001b[39mTrue\u001b[39;49;00m)\n\u001b[1;32m     41\u001b[0m \u001b[39m#fair_metric = scores['test_eod'].mean()\u001b[39;00m\n\u001b[1;32m     42\u001b[0m \u001b[39m#fair_metric = scores['test_dpd'].mean()\u001b[39;00m\n\u001b[1;32m     43\u001b[0m fair_metric \u001b[39m=\u001b[39m scores[\u001b[39m'\u001b[39m\u001b[39mtest_fairness\u001b[39m\u001b[39m'\u001b[39m]\u001b[39m.\u001b[39mmean()\n",
      "File \u001b[0;32m~/miniconda3/envs/fairenv/lib/python3.10/site-packages/sklearn/model_selection/_validation.py:266\u001b[0m, in \u001b[0;36mcross_validate\u001b[0;34m(estimator, X, y, groups, scoring, cv, n_jobs, verbose, fit_params, pre_dispatch, return_train_score, return_estimator, error_score)\u001b[0m\n\u001b[1;32m    263\u001b[0m \u001b[39m# We clone the estimator to make sure that all the folds are\u001b[39;00m\n\u001b[1;32m    264\u001b[0m \u001b[39m# independent, and that it is pickle-able.\u001b[39;00m\n\u001b[1;32m    265\u001b[0m parallel \u001b[39m=\u001b[39m Parallel(n_jobs\u001b[39m=\u001b[39mn_jobs, verbose\u001b[39m=\u001b[39mverbose, pre_dispatch\u001b[39m=\u001b[39mpre_dispatch)\n\u001b[0;32m--> 266\u001b[0m results \u001b[39m=\u001b[39m parallel(\n\u001b[1;32m    267\u001b[0m     delayed(_fit_and_score)(\n\u001b[1;32m    268\u001b[0m         clone(estimator),\n\u001b[1;32m    269\u001b[0m         X,\n\u001b[1;32m    270\u001b[0m         y,\n\u001b[1;32m    271\u001b[0m         scorers,\n\u001b[1;32m    272\u001b[0m         train,\n\u001b[1;32m    273\u001b[0m         test,\n\u001b[1;32m    274\u001b[0m         verbose,\n\u001b[1;32m    275\u001b[0m         \u001b[39mNone\u001b[39;49;00m,\n\u001b[1;32m    276\u001b[0m         fit_params,\n\u001b[1;32m    277\u001b[0m         return_train_score\u001b[39m=\u001b[39;49mreturn_train_score,\n\u001b[1;32m    278\u001b[0m         return_times\u001b[39m=\u001b[39;49m\u001b[39mTrue\u001b[39;49;00m,\n\u001b[1;32m    279\u001b[0m         return_estimator\u001b[39m=\u001b[39;49mreturn_estimator,\n\u001b[1;32m    280\u001b[0m         error_score\u001b[39m=\u001b[39;49merror_score,\n\u001b[1;32m    281\u001b[0m     )\n\u001b[1;32m    282\u001b[0m     \u001b[39mfor\u001b[39;49;00m train, test \u001b[39min\u001b[39;49;00m cv\u001b[39m.\u001b[39;49msplit(X, y, groups)\n\u001b[1;32m    283\u001b[0m )\n\u001b[1;32m    285\u001b[0m _warn_or_raise_about_fit_failures(results, error_score)\n\u001b[1;32m    287\u001b[0m \u001b[39m# For callabe scoring, the return type is only know after calling. If the\u001b[39;00m\n\u001b[1;32m    288\u001b[0m \u001b[39m# return type is a dictionary, the error scores can now be inserted with\u001b[39;00m\n\u001b[1;32m    289\u001b[0m \u001b[39m# the correct key.\u001b[39;00m\n",
      "File \u001b[0;32m~/miniconda3/envs/fairenv/lib/python3.10/site-packages/sklearn/utils/parallel.py:63\u001b[0m, in \u001b[0;36mParallel.__call__\u001b[0;34m(self, iterable)\u001b[0m\n\u001b[1;32m     58\u001b[0m config \u001b[39m=\u001b[39m get_config()\n\u001b[1;32m     59\u001b[0m iterable_with_config \u001b[39m=\u001b[39m (\n\u001b[1;32m     60\u001b[0m     (_with_config(delayed_func, config), args, kwargs)\n\u001b[1;32m     61\u001b[0m     \u001b[39mfor\u001b[39;00m delayed_func, args, kwargs \u001b[39min\u001b[39;00m iterable\n\u001b[1;32m     62\u001b[0m )\n\u001b[0;32m---> 63\u001b[0m \u001b[39mreturn\u001b[39;00m \u001b[39msuper\u001b[39;49m()\u001b[39m.\u001b[39;49m\u001b[39m__call__\u001b[39;49m(iterable_with_config)\n",
      "File \u001b[0;32m~/miniconda3/envs/fairenv/lib/python3.10/site-packages/joblib/parallel.py:1085\u001b[0m, in \u001b[0;36mParallel.__call__\u001b[0;34m(self, iterable)\u001b[0m\n\u001b[1;32m   1076\u001b[0m \u001b[39mtry\u001b[39;00m:\n\u001b[1;32m   1077\u001b[0m     \u001b[39m# Only set self._iterating to True if at least a batch\u001b[39;00m\n\u001b[1;32m   1078\u001b[0m     \u001b[39m# was dispatched. In particular this covers the edge\u001b[39;00m\n\u001b[0;32m   (...)\u001b[0m\n\u001b[1;32m   1082\u001b[0m     \u001b[39m# was very quick and its callback already dispatched all the\u001b[39;00m\n\u001b[1;32m   1083\u001b[0m     \u001b[39m# remaining jobs.\u001b[39;00m\n\u001b[1;32m   1084\u001b[0m     \u001b[39mself\u001b[39m\u001b[39m.\u001b[39m_iterating \u001b[39m=\u001b[39m \u001b[39mFalse\u001b[39;00m\n\u001b[0;32m-> 1085\u001b[0m     \u001b[39mif\u001b[39;00m \u001b[39mself\u001b[39;49m\u001b[39m.\u001b[39;49mdispatch_one_batch(iterator):\n\u001b[1;32m   1086\u001b[0m         \u001b[39mself\u001b[39m\u001b[39m.\u001b[39m_iterating \u001b[39m=\u001b[39m \u001b[39mself\u001b[39m\u001b[39m.\u001b[39m_original_iterator \u001b[39mis\u001b[39;00m \u001b[39mnot\u001b[39;00m \u001b[39mNone\u001b[39;00m\n\u001b[1;32m   1088\u001b[0m     \u001b[39mwhile\u001b[39;00m \u001b[39mself\u001b[39m\u001b[39m.\u001b[39mdispatch_one_batch(iterator):\n",
      "File \u001b[0;32m~/miniconda3/envs/fairenv/lib/python3.10/site-packages/joblib/parallel.py:901\u001b[0m, in \u001b[0;36mParallel.dispatch_one_batch\u001b[0;34m(self, iterator)\u001b[0m\n\u001b[1;32m    899\u001b[0m     \u001b[39mreturn\u001b[39;00m \u001b[39mFalse\u001b[39;00m\n\u001b[1;32m    900\u001b[0m \u001b[39melse\u001b[39;00m:\n\u001b[0;32m--> 901\u001b[0m     \u001b[39mself\u001b[39;49m\u001b[39m.\u001b[39;49m_dispatch(tasks)\n\u001b[1;32m    902\u001b[0m     \u001b[39mreturn\u001b[39;00m \u001b[39mTrue\u001b[39;00m\n",
      "File \u001b[0;32m~/miniconda3/envs/fairenv/lib/python3.10/site-packages/joblib/parallel.py:819\u001b[0m, in \u001b[0;36mParallel._dispatch\u001b[0;34m(self, batch)\u001b[0m\n\u001b[1;32m    817\u001b[0m \u001b[39mwith\u001b[39;00m \u001b[39mself\u001b[39m\u001b[39m.\u001b[39m_lock:\n\u001b[1;32m    818\u001b[0m     job_idx \u001b[39m=\u001b[39m \u001b[39mlen\u001b[39m(\u001b[39mself\u001b[39m\u001b[39m.\u001b[39m_jobs)\n\u001b[0;32m--> 819\u001b[0m     job \u001b[39m=\u001b[39m \u001b[39mself\u001b[39;49m\u001b[39m.\u001b[39;49m_backend\u001b[39m.\u001b[39;49mapply_async(batch, callback\u001b[39m=\u001b[39;49mcb)\n\u001b[1;32m    820\u001b[0m     \u001b[39m# A job can complete so quickly than its callback is\u001b[39;00m\n\u001b[1;32m    821\u001b[0m     \u001b[39m# called before we get here, causing self._jobs to\u001b[39;00m\n\u001b[1;32m    822\u001b[0m     \u001b[39m# grow. To ensure correct results ordering, .insert is\u001b[39;00m\n\u001b[1;32m    823\u001b[0m     \u001b[39m# used (rather than .append) in the following line\u001b[39;00m\n\u001b[1;32m    824\u001b[0m     \u001b[39mself\u001b[39m\u001b[39m.\u001b[39m_jobs\u001b[39m.\u001b[39minsert(job_idx, job)\n",
      "File \u001b[0;32m~/miniconda3/envs/fairenv/lib/python3.10/site-packages/joblib/_parallel_backends.py:208\u001b[0m, in \u001b[0;36mSequentialBackend.apply_async\u001b[0;34m(self, func, callback)\u001b[0m\n\u001b[1;32m    206\u001b[0m \u001b[39mdef\u001b[39;00m \u001b[39mapply_async\u001b[39m(\u001b[39mself\u001b[39m, func, callback\u001b[39m=\u001b[39m\u001b[39mNone\u001b[39;00m):\n\u001b[1;32m    207\u001b[0m \u001b[39m    \u001b[39m\u001b[39m\"\"\"Schedule a func to be run\"\"\"\u001b[39;00m\n\u001b[0;32m--> 208\u001b[0m     result \u001b[39m=\u001b[39m ImmediateResult(func)\n\u001b[1;32m    209\u001b[0m     \u001b[39mif\u001b[39;00m callback:\n\u001b[1;32m    210\u001b[0m         callback(result)\n",
      "File \u001b[0;32m~/miniconda3/envs/fairenv/lib/python3.10/site-packages/joblib/_parallel_backends.py:597\u001b[0m, in \u001b[0;36mImmediateResult.__init__\u001b[0;34m(self, batch)\u001b[0m\n\u001b[1;32m    594\u001b[0m \u001b[39mdef\u001b[39;00m \u001b[39m__init__\u001b[39m(\u001b[39mself\u001b[39m, batch):\n\u001b[1;32m    595\u001b[0m     \u001b[39m# Don't delay the application, to avoid keeping the input\u001b[39;00m\n\u001b[1;32m    596\u001b[0m     \u001b[39m# arguments in memory\u001b[39;00m\n\u001b[0;32m--> 597\u001b[0m     \u001b[39mself\u001b[39m\u001b[39m.\u001b[39mresults \u001b[39m=\u001b[39m batch()\n",
      "File \u001b[0;32m~/miniconda3/envs/fairenv/lib/python3.10/site-packages/joblib/parallel.py:288\u001b[0m, in \u001b[0;36mBatchedCalls.__call__\u001b[0;34m(self)\u001b[0m\n\u001b[1;32m    284\u001b[0m \u001b[39mdef\u001b[39;00m \u001b[39m__call__\u001b[39m(\u001b[39mself\u001b[39m):\n\u001b[1;32m    285\u001b[0m     \u001b[39m# Set the default nested backend to self._backend but do not set the\u001b[39;00m\n\u001b[1;32m    286\u001b[0m     \u001b[39m# change the default number of processes to -1\u001b[39;00m\n\u001b[1;32m    287\u001b[0m     \u001b[39mwith\u001b[39;00m parallel_backend(\u001b[39mself\u001b[39m\u001b[39m.\u001b[39m_backend, n_jobs\u001b[39m=\u001b[39m\u001b[39mself\u001b[39m\u001b[39m.\u001b[39m_n_jobs):\n\u001b[0;32m--> 288\u001b[0m         \u001b[39mreturn\u001b[39;00m [func(\u001b[39m*\u001b[39margs, \u001b[39m*\u001b[39m\u001b[39m*\u001b[39mkwargs)\n\u001b[1;32m    289\u001b[0m                 \u001b[39mfor\u001b[39;00m func, args, kwargs \u001b[39min\u001b[39;00m \u001b[39mself\u001b[39m\u001b[39m.\u001b[39mitems]\n",
      "File \u001b[0;32m~/miniconda3/envs/fairenv/lib/python3.10/site-packages/joblib/parallel.py:288\u001b[0m, in \u001b[0;36m<listcomp>\u001b[0;34m(.0)\u001b[0m\n\u001b[1;32m    284\u001b[0m \u001b[39mdef\u001b[39;00m \u001b[39m__call__\u001b[39m(\u001b[39mself\u001b[39m):\n\u001b[1;32m    285\u001b[0m     \u001b[39m# Set the default nested backend to self._backend but do not set the\u001b[39;00m\n\u001b[1;32m    286\u001b[0m     \u001b[39m# change the default number of processes to -1\u001b[39;00m\n\u001b[1;32m    287\u001b[0m     \u001b[39mwith\u001b[39;00m parallel_backend(\u001b[39mself\u001b[39m\u001b[39m.\u001b[39m_backend, n_jobs\u001b[39m=\u001b[39m\u001b[39mself\u001b[39m\u001b[39m.\u001b[39m_n_jobs):\n\u001b[0;32m--> 288\u001b[0m         \u001b[39mreturn\u001b[39;00m [func(\u001b[39m*\u001b[39;49margs, \u001b[39m*\u001b[39;49m\u001b[39m*\u001b[39;49mkwargs)\n\u001b[1;32m    289\u001b[0m                 \u001b[39mfor\u001b[39;00m func, args, kwargs \u001b[39min\u001b[39;00m \u001b[39mself\u001b[39m\u001b[39m.\u001b[39mitems]\n",
      "File \u001b[0;32m~/miniconda3/envs/fairenv/lib/python3.10/site-packages/sklearn/utils/parallel.py:123\u001b[0m, in \u001b[0;36m_FuncWrapper.__call__\u001b[0;34m(self, *args, **kwargs)\u001b[0m\n\u001b[1;32m    121\u001b[0m     config \u001b[39m=\u001b[39m {}\n\u001b[1;32m    122\u001b[0m \u001b[39mwith\u001b[39;00m config_context(\u001b[39m*\u001b[39m\u001b[39m*\u001b[39mconfig):\n\u001b[0;32m--> 123\u001b[0m     \u001b[39mreturn\u001b[39;00m \u001b[39mself\u001b[39;49m\u001b[39m.\u001b[39;49mfunction(\u001b[39m*\u001b[39;49margs, \u001b[39m*\u001b[39;49m\u001b[39m*\u001b[39;49mkwargs)\n",
      "File \u001b[0;32m~/miniconda3/envs/fairenv/lib/python3.10/site-packages/sklearn/model_selection/_validation.py:711\u001b[0m, in \u001b[0;36m_fit_and_score\u001b[0;34m(estimator, X, y, scorer, train, test, verbose, parameters, fit_params, return_train_score, return_parameters, return_n_test_samples, return_times, return_estimator, split_progress, candidate_progress, error_score)\u001b[0m\n\u001b[1;32m    709\u001b[0m     score_time \u001b[39m=\u001b[39m time\u001b[39m.\u001b[39mtime() \u001b[39m-\u001b[39m start_time \u001b[39m-\u001b[39m fit_time\n\u001b[1;32m    710\u001b[0m     \u001b[39mif\u001b[39;00m return_train_score:\n\u001b[0;32m--> 711\u001b[0m         train_scores \u001b[39m=\u001b[39m _score(estimator, X_train, y_train, scorer, error_score)\n\u001b[1;32m    713\u001b[0m \u001b[39mif\u001b[39;00m verbose \u001b[39m>\u001b[39m \u001b[39m1\u001b[39m:\n\u001b[1;32m    714\u001b[0m     total_time \u001b[39m=\u001b[39m score_time \u001b[39m+\u001b[39m fit_time\n",
      "File \u001b[0;32m~/miniconda3/envs/fairenv/lib/python3.10/site-packages/sklearn/model_selection/_validation.py:767\u001b[0m, in \u001b[0;36m_score\u001b[0;34m(estimator, X_test, y_test, scorer, error_score)\u001b[0m\n\u001b[1;32m    765\u001b[0m         scores \u001b[39m=\u001b[39m scorer(estimator, X_test)\n\u001b[1;32m    766\u001b[0m     \u001b[39melse\u001b[39;00m:\n\u001b[0;32m--> 767\u001b[0m         scores \u001b[39m=\u001b[39m scorer(estimator, X_test, y_test)\n\u001b[1;32m    768\u001b[0m \u001b[39mexcept\u001b[39;00m \u001b[39mException\u001b[39;00m:\n\u001b[1;32m    769\u001b[0m     \u001b[39mif\u001b[39;00m \u001b[39misinstance\u001b[39m(scorer, _MultimetricScorer):\n\u001b[1;32m    770\u001b[0m         \u001b[39m# If `_MultimetricScorer` raises exception, the `error_score`\u001b[39;00m\n\u001b[1;32m    771\u001b[0m         \u001b[39m# parameter is equal to \"raise\".\u001b[39;00m\n",
      "Cell \u001b[0;32mIn[18], line 9\u001b[0m, in \u001b[0;36mmetrics.<locals>.metric_scorer\u001b[0;34m(clf, X, y)\u001b[0m\n\u001b[1;32m      8\u001b[0m \u001b[39mdef\u001b[39;00m \u001b[39mmetric_scorer\u001b[39m(clf, X, y):\n\u001b[0;32m----> 9\u001b[0m     y_pred \u001b[39m=\u001b[39m clf\u001b[39m.\u001b[39;49mpredict(X)\n\u001b[1;32m     10\u001b[0m     performance_metric \u001b[39m=\u001b[39m model_metric(y,y_pred)\n\u001b[1;32m     11\u001b[0m     fairness_metric \u001b[39m=\u001b[39m np\u001b[39m.\u001b[39mabs(fair_metric(y, y_pred, sensitive_features \u001b[39m=\u001b[39m X[sensitive_col]))\n",
      "File \u001b[0;32m~/miniconda3/envs/fairenv/lib/python3.10/site-packages/sklearn/pipeline.py:481\u001b[0m, in \u001b[0;36mPipeline.predict\u001b[0;34m(self, X, **predict_params)\u001b[0m\n\u001b[1;32m    479\u001b[0m \u001b[39mfor\u001b[39;00m _, name, transform \u001b[39min\u001b[39;00m \u001b[39mself\u001b[39m\u001b[39m.\u001b[39m_iter(with_final\u001b[39m=\u001b[39m\u001b[39mFalse\u001b[39;00m):\n\u001b[1;32m    480\u001b[0m     Xt \u001b[39m=\u001b[39m transform\u001b[39m.\u001b[39mtransform(Xt)\n\u001b[0;32m--> 481\u001b[0m \u001b[39mreturn\u001b[39;00m \u001b[39mself\u001b[39;49m\u001b[39m.\u001b[39;49msteps[\u001b[39m-\u001b[39;49m\u001b[39m1\u001b[39;49m][\u001b[39m1\u001b[39;49m]\u001b[39m.\u001b[39;49mpredict(Xt, \u001b[39m*\u001b[39;49m\u001b[39m*\u001b[39;49mpredict_params)\n",
      "File \u001b[0;32m~/miniconda3/envs/fairenv/lib/python3.10/site-packages/lightgbm/sklearn.py:984\u001b[0m, in \u001b[0;36mLGBMClassifier.predict\u001b[0;34m(self, X, raw_score, start_iteration, num_iteration, pred_leaf, pred_contrib, **kwargs)\u001b[0m\n\u001b[1;32m    981\u001b[0m \u001b[39mdef\u001b[39;00m \u001b[39mpredict\u001b[39m(\u001b[39mself\u001b[39m, X, raw_score\u001b[39m=\u001b[39m\u001b[39mFalse\u001b[39;00m, start_iteration\u001b[39m=\u001b[39m\u001b[39m0\u001b[39m, num_iteration\u001b[39m=\u001b[39m\u001b[39mNone\u001b[39;00m,\n\u001b[1;32m    982\u001b[0m             pred_leaf\u001b[39m=\u001b[39m\u001b[39mFalse\u001b[39;00m, pred_contrib\u001b[39m=\u001b[39m\u001b[39mFalse\u001b[39;00m, \u001b[39m*\u001b[39m\u001b[39m*\u001b[39mkwargs):\n\u001b[1;32m    983\u001b[0m \u001b[39m    \u001b[39m\u001b[39m\"\"\"Docstring is inherited from the LGBMModel.\"\"\"\u001b[39;00m\n\u001b[0;32m--> 984\u001b[0m     result \u001b[39m=\u001b[39m \u001b[39mself\u001b[39;49m\u001b[39m.\u001b[39;49mpredict_proba(X, raw_score, start_iteration, num_iteration,\n\u001b[1;32m    985\u001b[0m                                 pred_leaf, pred_contrib, \u001b[39m*\u001b[39;49m\u001b[39m*\u001b[39;49mkwargs)\n\u001b[1;32m    986\u001b[0m     \u001b[39mif\u001b[39;00m callable(\u001b[39mself\u001b[39m\u001b[39m.\u001b[39m_objective) \u001b[39mor\u001b[39;00m raw_score \u001b[39mor\u001b[39;00m pred_leaf \u001b[39mor\u001b[39;00m pred_contrib:\n\u001b[1;32m    987\u001b[0m         \u001b[39mreturn\u001b[39;00m result\n",
      "File \u001b[0;32m~/miniconda3/envs/fairenv/lib/python3.10/site-packages/lightgbm/sklearn.py:997\u001b[0m, in \u001b[0;36mLGBMClassifier.predict_proba\u001b[0;34m(self, X, raw_score, start_iteration, num_iteration, pred_leaf, pred_contrib, **kwargs)\u001b[0m\n\u001b[1;32m    994\u001b[0m \u001b[39mdef\u001b[39;00m \u001b[39mpredict_proba\u001b[39m(\u001b[39mself\u001b[39m, X, raw_score\u001b[39m=\u001b[39m\u001b[39mFalse\u001b[39;00m, start_iteration\u001b[39m=\u001b[39m\u001b[39m0\u001b[39m, num_iteration\u001b[39m=\u001b[39m\u001b[39mNone\u001b[39;00m,\n\u001b[1;32m    995\u001b[0m                   pred_leaf\u001b[39m=\u001b[39m\u001b[39mFalse\u001b[39;00m, pred_contrib\u001b[39m=\u001b[39m\u001b[39mFalse\u001b[39;00m, \u001b[39m*\u001b[39m\u001b[39m*\u001b[39mkwargs):\n\u001b[1;32m    996\u001b[0m \u001b[39m    \u001b[39m\u001b[39m\"\"\"Docstring is set after definition, using a template.\"\"\"\u001b[39;00m\n\u001b[0;32m--> 997\u001b[0m     result \u001b[39m=\u001b[39m \u001b[39msuper\u001b[39;49m()\u001b[39m.\u001b[39;49mpredict(X, raw_score, start_iteration, num_iteration, pred_leaf, pred_contrib, \u001b[39m*\u001b[39;49m\u001b[39m*\u001b[39;49mkwargs)\n\u001b[1;32m    998\u001b[0m     \u001b[39mif\u001b[39;00m callable(\u001b[39mself\u001b[39m\u001b[39m.\u001b[39m_objective) \u001b[39mand\u001b[39;00m \u001b[39mnot\u001b[39;00m (raw_score \u001b[39mor\u001b[39;00m pred_leaf \u001b[39mor\u001b[39;00m pred_contrib):\n\u001b[1;32m    999\u001b[0m         _log_warning(\u001b[39m\"\u001b[39m\u001b[39mCannot compute class probabilities or labels \u001b[39m\u001b[39m\"\u001b[39m\n\u001b[1;32m   1000\u001b[0m                      \u001b[39m\"\u001b[39m\u001b[39mdue to the usage of customized objective function.\u001b[39m\u001b[39m\\n\u001b[39;00m\u001b[39m\"\u001b[39m\n\u001b[1;32m   1001\u001b[0m                      \u001b[39m\"\u001b[39m\u001b[39mReturning raw scores instead.\u001b[39m\u001b[39m\"\u001b[39m)\n",
      "File \u001b[0;32m~/miniconda3/envs/fairenv/lib/python3.10/site-packages/lightgbm/sklearn.py:803\u001b[0m, in \u001b[0;36mLGBMModel.predict\u001b[0;34m(self, X, raw_score, start_iteration, num_iteration, pred_leaf, pred_contrib, **kwargs)\u001b[0m\n\u001b[1;32m    799\u001b[0m \u001b[39mif\u001b[39;00m \u001b[39mself\u001b[39m\u001b[39m.\u001b[39m_n_features \u001b[39m!=\u001b[39m n_features:\n\u001b[1;32m    800\u001b[0m     \u001b[39mraise\u001b[39;00m \u001b[39mValueError\u001b[39;00m(\u001b[39m\"\u001b[39m\u001b[39mNumber of features of the model must \u001b[39m\u001b[39m\"\u001b[39m\n\u001b[1;32m    801\u001b[0m                      \u001b[39mf\u001b[39m\u001b[39m\"\u001b[39m\u001b[39mmatch the input. Model n_features_ is \u001b[39m\u001b[39m{\u001b[39;00m\u001b[39mself\u001b[39m\u001b[39m.\u001b[39m_n_features\u001b[39m}\u001b[39;00m\u001b[39m and \u001b[39m\u001b[39m\"\u001b[39m\n\u001b[1;32m    802\u001b[0m                      \u001b[39mf\u001b[39m\u001b[39m\"\u001b[39m\u001b[39minput n_features is \u001b[39m\u001b[39m{\u001b[39;00mn_features\u001b[39m}\u001b[39;00m\u001b[39m\"\u001b[39m)\n\u001b[0;32m--> 803\u001b[0m \u001b[39mreturn\u001b[39;00m \u001b[39mself\u001b[39;49m\u001b[39m.\u001b[39;49m_Booster\u001b[39m.\u001b[39;49mpredict(X, raw_score\u001b[39m=\u001b[39;49mraw_score, start_iteration\u001b[39m=\u001b[39;49mstart_iteration, num_iteration\u001b[39m=\u001b[39;49mnum_iteration,\n\u001b[1;32m    804\u001b[0m                              pred_leaf\u001b[39m=\u001b[39;49mpred_leaf, pred_contrib\u001b[39m=\u001b[39;49mpred_contrib, \u001b[39m*\u001b[39;49m\u001b[39m*\u001b[39;49mkwargs)\n",
      "File \u001b[0;32m~/miniconda3/envs/fairenv/lib/python3.10/site-packages/lightgbm/basic.py:3538\u001b[0m, in \u001b[0;36mBooster.predict\u001b[0;34m(self, data, start_iteration, num_iteration, raw_score, pred_leaf, pred_contrib, data_has_header, is_reshape, **kwargs)\u001b[0m\n\u001b[1;32m   3536\u001b[0m     \u001b[39melse\u001b[39;00m:\n\u001b[1;32m   3537\u001b[0m         num_iteration \u001b[39m=\u001b[39m \u001b[39m-\u001b[39m\u001b[39m1\u001b[39m\n\u001b[0;32m-> 3538\u001b[0m \u001b[39mreturn\u001b[39;00m predictor\u001b[39m.\u001b[39;49mpredict(data, start_iteration, num_iteration,\n\u001b[1;32m   3539\u001b[0m                          raw_score, pred_leaf, pred_contrib,\n\u001b[1;32m   3540\u001b[0m                          data_has_header, is_reshape)\n",
      "File \u001b[0;32m~/miniconda3/envs/fairenv/lib/python3.10/site-packages/lightgbm/basic.py:844\u001b[0m, in \u001b[0;36m_InnerPredictor.predict\u001b[0;34m(self, data, start_iteration, num_iteration, raw_score, pred_leaf, pred_contrib, data_has_header, is_reshape)\u001b[0m\n\u001b[1;32m    842\u001b[0m         nrow \u001b[39m=\u001b[39m preds\u001b[39m.\u001b[39mshape[\u001b[39m0\u001b[39m]\n\u001b[1;32m    843\u001b[0m \u001b[39melif\u001b[39;00m \u001b[39misinstance\u001b[39m(data, scipy\u001b[39m.\u001b[39msparse\u001b[39m.\u001b[39mcsr_matrix):\n\u001b[0;32m--> 844\u001b[0m     preds, nrow \u001b[39m=\u001b[39m \u001b[39mself\u001b[39;49m\u001b[39m.\u001b[39;49m__pred_for_csr(data, start_iteration, num_iteration, predict_type)\n\u001b[1;32m    845\u001b[0m \u001b[39melif\u001b[39;00m \u001b[39misinstance\u001b[39m(data, scipy\u001b[39m.\u001b[39msparse\u001b[39m.\u001b[39mcsc_matrix):\n\u001b[1;32m    846\u001b[0m     preds, nrow \u001b[39m=\u001b[39m \u001b[39mself\u001b[39m\u001b[39m.\u001b[39m__pred_for_csc(data, start_iteration, num_iteration, predict_type)\n",
      "File \u001b[0;32m~/miniconda3/envs/fairenv/lib/python3.10/site-packages/lightgbm/basic.py:1077\u001b[0m, in \u001b[0;36m_InnerPredictor.__pred_for_csr\u001b[0;34m(self, csr, start_iteration, num_iteration, predict_type)\u001b[0m\n\u001b[1;32m   1075\u001b[0m     \u001b[39mreturn\u001b[39;00m preds, nrow\n\u001b[1;32m   1076\u001b[0m \u001b[39melse\u001b[39;00m:\n\u001b[0;32m-> 1077\u001b[0m     \u001b[39mreturn\u001b[39;00m inner_predict(csr, start_iteration, num_iteration, predict_type)\n",
      "File \u001b[0;32m~/miniconda3/envs/fairenv/lib/python3.10/site-packages/lightgbm/basic.py:1003\u001b[0m, in \u001b[0;36m_InnerPredictor.__pred_for_csr.<locals>.inner_predict\u001b[0;34m(csr, start_iteration, num_iteration, predict_type, preds)\u001b[0m\n\u001b[1;32m   1000\u001b[0m \u001b[39massert\u001b[39;00m csr\u001b[39m.\u001b[39mshape[\u001b[39m1\u001b[39m] \u001b[39m<\u001b[39m\u001b[39m=\u001b[39m MAX_INT32\n\u001b[1;32m   1001\u001b[0m csr_indices \u001b[39m=\u001b[39m csr\u001b[39m.\u001b[39mindices\u001b[39m.\u001b[39mastype(np\u001b[39m.\u001b[39mint32, copy\u001b[39m=\u001b[39m\u001b[39mFalse\u001b[39;00m)\n\u001b[0;32m-> 1003\u001b[0m _safe_call(_LIB\u001b[39m.\u001b[39;49mLGBM_BoosterPredictForCSR(\n\u001b[1;32m   1004\u001b[0m     \u001b[39mself\u001b[39;49m\u001b[39m.\u001b[39;49mhandle,\n\u001b[1;32m   1005\u001b[0m     ptr_indptr,\n\u001b[1;32m   1006\u001b[0m     ctypes\u001b[39m.\u001b[39;49mc_int(type_ptr_indptr),\n\u001b[1;32m   1007\u001b[0m     csr_indices\u001b[39m.\u001b[39;49mctypes\u001b[39m.\u001b[39;49mdata_as(ctypes\u001b[39m.\u001b[39;49mPOINTER(ctypes\u001b[39m.\u001b[39;49mc_int32)),\n\u001b[1;32m   1008\u001b[0m     ptr_data,\n\u001b[1;32m   1009\u001b[0m     ctypes\u001b[39m.\u001b[39;49mc_int(type_ptr_data),\n\u001b[1;32m   1010\u001b[0m     ctypes\u001b[39m.\u001b[39;49mc_int64(\u001b[39mlen\u001b[39;49m(csr\u001b[39m.\u001b[39;49mindptr)),\n\u001b[1;32m   1011\u001b[0m     ctypes\u001b[39m.\u001b[39;49mc_int64(\u001b[39mlen\u001b[39;49m(csr\u001b[39m.\u001b[39;49mdata)),\n\u001b[1;32m   1012\u001b[0m     ctypes\u001b[39m.\u001b[39;49mc_int64(csr\u001b[39m.\u001b[39;49mshape[\u001b[39m1\u001b[39;49m]),\n\u001b[1;32m   1013\u001b[0m     ctypes\u001b[39m.\u001b[39;49mc_int(predict_type),\n\u001b[1;32m   1014\u001b[0m     ctypes\u001b[39m.\u001b[39;49mc_int(start_iteration),\n\u001b[1;32m   1015\u001b[0m     ctypes\u001b[39m.\u001b[39;49mc_int(num_iteration),\n\u001b[1;32m   1016\u001b[0m     c_str(\u001b[39mself\u001b[39;49m\u001b[39m.\u001b[39;49mpred_parameter),\n\u001b[1;32m   1017\u001b[0m     ctypes\u001b[39m.\u001b[39;49mbyref(out_num_preds),\n\u001b[1;32m   1018\u001b[0m     preds\u001b[39m.\u001b[39;49mctypes\u001b[39m.\u001b[39;49mdata_as(ctypes\u001b[39m.\u001b[39;49mPOINTER(ctypes\u001b[39m.\u001b[39;49mc_double))))\n\u001b[1;32m   1019\u001b[0m \u001b[39mif\u001b[39;00m n_preds \u001b[39m!=\u001b[39m out_num_preds\u001b[39m.\u001b[39mvalue:\n\u001b[1;32m   1020\u001b[0m     \u001b[39mraise\u001b[39;00m \u001b[39mValueError\u001b[39;00m(\u001b[39m\"\u001b[39m\u001b[39mWrong length for predict results\u001b[39m\u001b[39m\"\u001b[39m)\n",
      "\u001b[0;31mKeyboardInterrupt\u001b[0m: "
     ]
    }
   ],
   "source": [
    "\n",
    "directions = ['minimize', 'maximize']\n",
    "metric_scorer_decorated =  metrics(f1_score, predictive_equality_difference, sensitive_col = 'sex')\n",
    "\n",
    "results = []\n",
    "for sim in [0]:\n",
    "    print(sim)\n",
    "    def objective(trial):\n",
    "\n",
    "        (X_train, X_test, y_train, y_test, A_train, A_test) = train_test_split(\n",
    "        X_raw, y, A, test_size=0.8, random_state=sim, stratify=y\n",
    "        )\n",
    "\n",
    "        X_train = X_train.reset_index(drop=True)\n",
    "        X_test = X_test.reset_index(drop=True)\n",
    "        y_train = y_train.reset_index(drop=True)\n",
    "        y_test = y_test.reset_index(drop=True)\n",
    "        A_train = A_train.reset_index(drop=True)\n",
    "        A_test = A_test.reset_index(drop=True)\n",
    "\n",
    "\n",
    "        params = {\n",
    "            'n_estimators': trial.suggest_int(\"n_estimators\", 20, 10000),\n",
    "            'num_leaves': trial.suggest_int(\"num_leaves\", 10, 1000),\n",
    "            'max_depth': trial.suggest_int(\"max_depth\", 2, 20),\n",
    "            'min_child_samples': trial.suggest_int(\"min_child_samples\", 5, 300),\n",
    "            'learning_rate': trial.suggest_float('learning_rate', 1e-5, 1e-2),\n",
    "            'boosting_type': trial.suggest_categorical(\"boosting_type\", ['goss', 'gbdt'])\n",
    "            }\n",
    "        pipeline['classifier'].set_params(**params)\n",
    "\n",
    "        scores = cross_validate(\n",
    "                pipeline, \n",
    "                X_train,\n",
    "                y_train, \n",
    "                cv=5,\n",
    "                scoring = metric_scorer_decorated,\n",
    "                return_train_score=True)\n",
    "\n",
    "        fair_metric = scores['test_fairness'].mean()\n",
    "        model_metric = scores['test_model'].mean()\n",
    "\n",
    "        return fair_metric, model_metric\n",
    "    \n",
    "    \n",
    "    study = optuna.create_study(\n",
    "        directions = directions, \n",
    "        pruner = optuna.pruners.SuccessiveHalvingPruner(), \n",
    "        sampler = optuna.samplers.TPESampler() \n",
    "        )\n",
    "    study.optimize(objective, n_trials=100)\n",
    "    print(\"Number of finished trials: \", len(study.trials))\n",
    "    results.append(study)"
   ]
  },
  {
   "cell_type": "code",
   "execution_count": 14,
   "metadata": {},
   "outputs": [
    {
     "name": "stdout",
     "output_type": "stream",
     "text": [
      "Object successfully saved to \"recall-fpr-lgbm-motpe-succesivehalving-100trials-1sim.pkl\"\n"
     ]
    }
   ],
   "source": [
    "import dill\n",
    "file_name = 'recall-fpr-lgbm-motpe-succesivehalving-100trials-1sim.pkl'\n",
    "#f1-eod-lgbm-succesivehalving-30trails.pkl\n",
    "with open(file_name, 'wb') as file:\n",
    "    dill.dump(results, file)\n",
    "    print(f'Object successfully saved to \"{file_name}\"')"
   ]
  },
  {
   "cell_type": "code",
   "execution_count": 15,
   "metadata": {},
   "outputs": [
    {
     "data": {
      "application/vnd.plotly.v1+json": {
       "config": {
        "plotlyServerURL": "https://plot.ly"
       },
       "data": [
        {
         "hovertemplate": "%{text}<extra>Trial</extra>",
         "marker": {
          "color": [
           0,
           1,
           4,
           5,
           6,
           7,
           8,
           10,
           12,
           13,
           16,
           17,
           18,
           19,
           20,
           22,
           26,
           27,
           28,
           29,
           30,
           31,
           32,
           33,
           34,
           38,
           39,
           40,
           41,
           42,
           43,
           44,
           45,
           47,
           48,
           49,
           51,
           52,
           54,
           56,
           59,
           62,
           63,
           64,
           66,
           68,
           70,
           71,
           72,
           73,
           75,
           77,
           80,
           81,
           82,
           83,
           84,
           85,
           87,
           89,
           90,
           92,
           94,
           95,
           96,
           97,
           98
          ],
          "colorbar": {
           "title": {
            "text": "Trial"
           }
          },
          "colorscale": [
           [
            0,
            "rgb(247,251,255)"
           ],
           [
            0.125,
            "rgb(222,235,247)"
           ],
           [
            0.25,
            "rgb(198,219,239)"
           ],
           [
            0.375,
            "rgb(158,202,225)"
           ],
           [
            0.5,
            "rgb(107,174,214)"
           ],
           [
            0.625,
            "rgb(66,146,198)"
           ],
           [
            0.75,
            "rgb(33,113,181)"
           ],
           [
            0.875,
            "rgb(8,81,156)"
           ],
           [
            1,
            "rgb(8,48,107)"
           ]
          ],
          "line": {
           "color": "Grey",
           "width": 0.5
          }
         },
         "mode": "markers",
         "showlegend": false,
         "text": [
          "{<br>  \"number\": 0,<br>  \"values\": [<br>    0.08403980969616615,<br>    0.6067598235692454<br>  ],<br>  \"params\": {<br>    \"n_estimators\": 7886,<br>    \"num_leaves\": 656,<br>    \"max_depth\": 16,<br>    \"min_child_samples\": 196,<br>    \"learning_rate\": 0.007848984573768852,<br>    \"boosting_type\": \"goss\"<br>  }<br>}",
          "{<br>  \"number\": 1,<br>  \"values\": [<br>    0.08488752438839449,<br>    0.5738199820640935<br>  ],<br>  \"params\": {<br>    \"n_estimators\": 6233,<br>    \"num_leaves\": 596,<br>    \"max_depth\": 7,<br>    \"min_child_samples\": 265,<br>    \"learning_rate\": 0.00884667137875559,<br>    \"boosting_type\": \"goss\"<br>  }<br>}",
          "{<br>  \"number\": 4,<br>  \"values\": [<br>    0.07299738823767432,<br>    0.5601173154706345<br>  ],<br>  \"params\": {<br>    \"n_estimators\": 3408,<br>    \"num_leaves\": 344,<br>    \"max_depth\": 14,<br>    \"min_child_samples\": 188,<br>    \"learning_rate\": 0.001019408130306815,<br>    \"boosting_type\": \"goss\"<br>  }<br>}",
          "{<br>  \"number\": 5,<br>  \"values\": [<br>    0.07083367602033626,<br>    0.637570233715844<br>  ],<br>  \"params\": {<br>    \"n_estimators\": 2479,<br>    \"num_leaves\": 507,<br>    \"max_depth\": 7,<br>    \"min_child_samples\": 154,<br>    \"learning_rate\": 0.00859356516553137,<br>    \"boosting_type\": \"gbdt\"<br>  }<br>}",
          "{<br>  \"number\": 6,<br>  \"values\": [<br>    0.08791026759195038,<br>    0.5661157781072128<br>  ],<br>  \"params\": {<br>    \"n_estimators\": 3974,<br>    \"num_leaves\": 527,<br>    \"max_depth\": 11,<br>    \"min_child_samples\": 281,<br>    \"learning_rate\": 0.006478465057062566,<br>    \"boosting_type\": \"goss\"<br>  }<br>}",
          "{<br>  \"number\": 7,<br>  \"values\": [<br>    0.07732291193449149,<br>    0.6230137813649591<br>  ],<br>  \"params\": {<br>    \"n_estimators\": 6879,<br>    \"num_leaves\": 399,<br>    \"max_depth\": 12,<br>    \"min_child_samples\": 256,<br>    \"learning_rate\": 0.0075678420606321165,<br>    \"boosting_type\": \"gbdt\"<br>  }<br>}",
          "{<br>  \"number\": 8,<br>  \"values\": [<br>    0.06447041835424043,<br>    0.6298623693698641<br>  ],<br>  \"params\": {<br>    \"n_estimators\": 1185,<br>    \"num_leaves\": 697,<br>    \"max_depth\": 13,<br>    \"min_child_samples\": 122,<br>    \"learning_rate\": 0.007752347784288804,<br>    \"boosting_type\": \"gbdt\"<br>  }<br>}",
          "{<br>  \"number\": 10,<br>  \"values\": [<br>    0.05993813051432826,<br>    0.5917815113746592<br>  ],<br>  \"params\": {<br>    \"n_estimators\": 9033,<br>    \"num_leaves\": 981,<br>    \"max_depth\": 2,<br>    \"min_child_samples\": 30,<br>    \"learning_rate\": 0.0027904553000945307,<br>    \"boosting_type\": \"gbdt\"<br>  }<br>}",
          "{<br>  \"number\": 12,<br>  \"values\": [<br>    0.05802994329049945,<br>    0.597346217902963<br>  ],<br>  \"params\": {<br>    \"n_estimators\": 4698,<br>    \"num_leaves\": 159,<br>    \"max_depth\": 3,<br>    \"min_child_samples\": 79,<br>    \"learning_rate\": 0.002949552705089534,<br>    \"boosting_type\": \"gbdt\"<br>  }<br>}",
          "{<br>  \"number\": 13,<br>  \"values\": [<br>    0.08175501567262618,<br>    0.55455626933143<br>  ],<br>  \"params\": {<br>    \"n_estimators\": 2449,<br>    \"num_leaves\": 801,<br>    \"max_depth\": 19,<br>    \"min_child_samples\": 229,<br>    \"learning_rate\": 0.0018578901106724257,<br>    \"boosting_type\": \"goss\"<br>  }<br>}",
          "{<br>  \"number\": 16,<br>  \"values\": [<br>    0.06783552226337221,<br>    0.6187421072860044<br>  ],<br>  \"params\": {<br>    \"n_estimators\": 7635,<br>    \"num_leaves\": 234,<br>    \"max_depth\": 9,<br>    \"min_child_samples\": 167,<br>    \"learning_rate\": 0.001169341185054704,<br>    \"boosting_type\": \"gbdt\"<br>  }<br>}",
          "{<br>  \"number\": 17,<br>  \"values\": [<br>    0.08021772310859718,<br>    0.5896438441406321<br>  ],<br>  \"params\": {<br>    \"n_estimators\": 9975,<br>    \"num_leaves\": 395,<br>    \"max_depth\": 4,<br>    \"min_child_samples\": 222,<br>    \"learning_rate\": 0.004578987768361728,<br>    \"boosting_type\": \"goss\"<br>  }<br>}",
          "{<br>  \"number\": 18,<br>  \"values\": [<br>    0.06587594707614716,<br>    0.6341468548106665<br>  ],<br>  \"params\": {<br>    \"n_estimators\": 4527,<br>    \"num_leaves\": 728,<br>    \"max_depth\": 15,<br>    \"min_child_samples\": 122,<br>    \"learning_rate\": 0.0027835685042685303,<br>    \"boosting_type\": \"gbdt\"<br>  }<br>}",
          "{<br>  \"number\": 19,<br>  \"values\": [<br>    0.06468982040054055,<br>    0.6230201870458829<br>  ],<br>  \"params\": {<br>    \"n_estimators\": 1721,<br>    \"num_leaves\": 144,<br>    \"max_depth\": 5,<br>    \"min_child_samples\": 45,<br>    \"learning_rate\": 0.005641338028972757,<br>    \"boosting_type\": \"goss\"<br>  }<br>}",
          "{<br>  \"number\": 20,<br>  \"values\": [<br>    0.06034497336121536,<br>    0.6255897801936345<br>  ],<br>  \"params\": {<br>    \"n_estimators\": 5637,<br>    \"num_leaves\": 575,<br>    \"max_depth\": 8,<br>    \"min_child_samples\": 109,<br>    \"learning_rate\": 0.00177485566881668,<br>    \"boosting_type\": \"gbdt\"<br>  }<br>}",
          "{<br>  \"number\": 22,<br>  \"values\": [<br>    0.07308520952053614,<br>    0.6345742052380168<br>  ],<br>  \"params\": {<br>    \"n_estimators\": 3996,<br>    \"num_leaves\": 777,<br>    \"max_depth\": 17,<br>    \"min_child_samples\": 59,<br>    \"learning_rate\": 0.0036786184517919097,<br>    \"boosting_type\": \"gbdt\"<br>  }<br>}",
          "{<br>  \"number\": 26,<br>  \"values\": [<br>    0.06718508253640204,<br>    0.6161789198191767<br>  ],<br>  \"params\": {<br>    \"n_estimators\": 6818,<br>    \"num_leaves\": 290,<br>    \"max_depth\": 11,<br>    \"min_child_samples\": 173,<br>    \"learning_rate\": 0.0009382298353530007,<br>    \"boosting_type\": \"gbdt\"<br>  }<br>}",
          "{<br>  \"number\": 27,<br>  \"values\": [<br>    0.07255747698541665,<br>    0.5665367228536393<br>  ],<br>  \"params\": {<br>    \"n_estimators\": 6226,<br>    \"num_leaves\": 957,<br>    \"max_depth\": 20,<br>    \"min_child_samples\": 144,<br>    \"learning_rate\": 0.000549246259748212,<br>    \"boosting_type\": \"goss\"<br>  }<br>}",
          "{<br>  \"number\": 28,<br>  \"values\": [<br>    0.06586026130458449,<br>    0.6268681710865865<br>  ],<br>  \"params\": {<br>    \"n_estimators\": 9663,<br>    \"num_leaves\": 480,<br>    \"max_depth\": 9,<br>    \"min_child_samples\": 207,<br>    \"learning_rate\": 0.001626785626542323,<br>    \"boosting_type\": \"gbdt\"<br>  }<br>}",
          "{<br>  \"number\": 29,<br>  \"values\": [<br>    0.07466767395081039,<br>    0.6204606599681547<br>  ],<br>  \"params\": {<br>    \"n_estimators\": 7993,<br>    \"num_leaves\": 670,<br>    \"max_depth\": 16,<br>    \"min_child_samples\": 104,<br>    \"learning_rate\": 0.0033309186142317995,<br>    \"boosting_type\": \"goss\"<br>  }<br>}",
          "{<br>  \"number\": 30,<br>  \"values\": [<br>    0.06784444044890543,<br>    0.6148858873698274<br>  ],<br>  \"params\": {<br>    \"n_estimators\": 7201,<br>    \"num_leaves\": 83,<br>    \"max_depth\": 13,<br>    \"min_child_samples\": 8,<br>    \"learning_rate\": 0.0023490977714091896,<br>    \"boosting_type\": \"gbdt\"<br>  }<br>}",
          "{<br>  \"number\": 31,<br>  \"values\": [<br>    0.0698546320505162,<br>    0.5532751331466536<br>  ],<br>  \"params\": {<br>    \"n_estimators\": 5372,<br>    \"num_leaves\": 615,<br>    \"max_depth\": 3,<br>    \"min_child_samples\": 197,<br>    \"learning_rate\": 0.001271339403986087,<br>    \"boosting_type\": \"goss\"<br>  }<br>}",
          "{<br>  \"number\": 32,<br>  \"values\": [<br>    0.049744713073397374,<br>    0.44587291129047013<br>  ],<br>  \"params\": {<br>    \"n_estimators\": 4193,<br>    \"num_leaves\": 456,<br>    \"max_depth\": 4,<br>    \"min_child_samples\": 236,<br>    \"learning_rate\": 0.0004311815282671283,<br>    \"boosting_type\": \"goss\"<br>  }<br>}",
          "{<br>  \"number\": 33,<br>  \"values\": [<br>    0.07595690573967331,<br>    0.6277274474276616<br>  ],<br>  \"params\": {<br>    \"n_estimators\": 6305,<br>    \"num_leaves\": 562,<br>    \"max_depth\": 15,<br>    \"min_child_samples\": 45,<br>    \"learning_rate\": 0.001367074401080211,<br>    \"boosting_type\": \"goss\"<br>  }<br>}",
          "{<br>  \"number\": 34,<br>  \"values\": [<br>    0.07096133114340183,<br>    0.554126173612255<br>  ],<br>  \"params\": {<br>    \"n_estimators\": 3650,<br>    \"num_leaves\": 231,<br>    \"max_depth\": 7,<br>    \"min_child_samples\": 178,<br>    \"learning_rate\": 0.0009046391692476898,<br>    \"boosting_type\": \"goss\"<br>  }<br>}",
          "{<br>  \"number\": 38,<br>  \"values\": [<br>    0.06812623141483529,<br>    0.6277283625249365<br>  ],<br>  \"params\": {<br>    \"n_estimators\": 2671,<br>    \"num_leaves\": 520,<br>    \"max_depth\": 8,<br>    \"min_child_samples\": 50,<br>    \"learning_rate\": 0.00533694795662182,<br>    \"boosting_type\": \"goss\"<br>  }<br>}",
          "{<br>  \"number\": 39,<br>  \"values\": [<br>    0.0738484526165707,<br>    0.6196013836270795<br>  ],<br>  \"params\": {<br>    \"n_estimators\": 5073,<br>    \"num_leaves\": 361,<br>    \"max_depth\": 6,<br>    \"min_child_samples\": 133,<br>    \"learning_rate\": 0.006544560331319402,<br>    \"boosting_type\": \"goss\"<br>  }<br>}",
          "{<br>  \"number\": 40,<br>  \"values\": [<br>    0.05197988198710988,<br>    0.5395788722341186<br>  ],<br>  \"params\": {<br>    \"n_estimators\": 1923,<br>    \"num_leaves\": 729,<br>    \"max_depth\": 4,<br>    \"min_child_samples\": 27,<br>    \"learning_rate\": 0.0017515040823263305,<br>    \"boosting_type\": \"goss\"<br>  }<br>}",
          "{<br>  \"number\": 41,<br>  \"values\": [<br>    0.06487254002318298,<br>    0.5909204048390344<br>  ],<br>  \"params\": {<br>    \"n_estimators\": 6139,<br>    \"num_leaves\": 291,<br>    \"max_depth\": 8,<br>    \"min_child_samples\": 84,<br>    \"learning_rate\": 0.000667455256232852,<br>    \"boosting_type\": \"goss\"<br>  }<br>}",
          "{<br>  \"number\": 42,<br>  \"values\": [<br>    0.06605884377821877,<br>    0.5960550156481634<br>  ],<br>  \"params\": {<br>    \"n_estimators\": 5612,<br>    \"num_leaves\": 452,<br>    \"max_depth\": 5,<br>    \"min_child_samples\": 98,<br>    \"learning_rate\": 0.0011827379673322947,<br>    \"boosting_type\": \"goss\"<br>  }<br>}",
          "{<br>  \"number\": 43,<br>  \"values\": [<br>    0.0508423513356949,<br>    0.514332253518549<br>  ],<br>  \"params\": {<br>    \"n_estimators\": 6566,<br>    \"num_leaves\": 217,<br>    \"max_depth\": 3,<br>    \"min_child_samples\": 63,<br>    \"learning_rate\": 0.0004800267758756367,<br>    \"boosting_type\": \"goss\"<br>  }<br>}",
          "{<br>  \"number\": 44,<br>  \"values\": [<br>    0.07117758677189971,<br>    0.6123245300975494<br>  ],<br>  \"params\": {<br>    \"n_estimators\": 573,<br>    \"num_leaves\": 531,<br>    \"max_depth\": 10,<br>    \"min_child_samples\": 90,<br>    \"learning_rate\": 0.009646732325799944,<br>    \"boosting_type\": \"goss\"<br>  }<br>}",
          "{<br>  \"number\": 45,<br>  \"values\": [<br>    0.07656464141740747,<br>    0.6362799465583191<br>  ],<br>  \"params\": {<br>    \"n_estimators\": 4384,<br>    \"num_leaves\": 328,<br>    \"max_depth\": 12,<br>    \"min_child_samples\": 156,<br>    \"learning_rate\": 0.00713806475202209,<br>    \"boosting_type\": \"gbdt\"<br>  }<br>}",
          "{<br>  \"number\": 47,<br>  \"values\": [<br>    0.06901642863327595,<br>    0.599478394553341<br>  ],<br>  \"params\": {<br>    \"n_estimators\": 7552,<br>    \"num_leaves\": 860,<br>    \"max_depth\": 6,<br>    \"min_child_samples\": 126,<br>    \"learning_rate\": 0.0009782727925913665,<br>    \"boosting_type\": \"goss\"<br>  }<br>}",
          "{<br>  \"number\": 48,<br>  \"values\": [<br>    0.07097363232683054,<br>    0.6307189004191145<br>  ],<br>  \"params\": {<br>    \"n_estimators\": 3608,<br>    \"num_leaves\": 187,<br>    \"max_depth\": 7,<br>    \"min_child_samples\": 29,<br>    \"learning_rate\": 0.008463852432768723,<br>    \"boosting_type\": \"gbdt\"<br>  }<br>}",
          "{<br>  \"number\": 49,<br>  \"values\": [<br>    0.06947480722883906,<br>    0.6114597631728252<br>  ],<br>  \"params\": {<br>    \"n_estimators\": 5380,<br>    \"num_leaves\": 630,<br>    \"max_depth\": 9,<br>    \"min_child_samples\": 109,<br>    \"learning_rate\": 0.0014355767495971953,<br>    \"boosting_type\": \"goss\"<br>  }<br>}",
          "{<br>  \"number\": 51,<br>  \"values\": [<br>    0.06469571389881276,<br>    0.622584600743059<br>  ],<br>  \"params\": {<br>    \"n_estimators\": 5986,<br>    \"num_leaves\": 405,<br>    \"max_depth\": 3,<br>    \"min_child_samples\": 82,<br>    \"learning_rate\": 0.004595985782511723,<br>    \"boosting_type\": \"goss\"<br>  }<br>}",
          "{<br>  \"number\": 52,<br>  \"values\": [<br>    0.048317518924080996,<br>    0.4356036896722121<br>  ],<br>  \"params\": {<br>    \"n_estimators\": 3929,<br>    \"num_leaves\": 263,<br>    \"max_depth\": 4,<br>    \"min_child_samples\": 277,<br>    \"learning_rate\": 0.00037306069283268416,<br>    \"boosting_type\": \"goss\"<br>  }<br>}",
          "{<br>  \"number\": 54,<br>  \"values\": [<br>    0.06838635076681862,<br>    0.6101749665989494<br>  ],<br>  \"params\": {<br>    \"n_estimators\": 5068,<br>    \"num_leaves\": 375,<br>    \"max_depth\": 5,<br>    \"min_child_samples\": 116,<br>    \"learning_rate\": 0.002719468601909703,<br>    \"boosting_type\": \"goss\"<br>  }<br>}",
          "{<br>  \"number\": 56,<br>  \"values\": [<br>    0.07254048394459703,<br>    0.6217427112502059<br>  ],<br>  \"params\": {<br>    \"n_estimators\": 5696,<br>    \"num_leaves\": 565,<br>    \"max_depth\": 18,<br>    \"min_child_samples\": 91,<br>    \"learning_rate\": 0.001491605654038255,<br>    \"boosting_type\": \"goss\"<br>  }<br>}",
          "{<br>  \"number\": 59,<br>  \"values\": [<br>    0.06510209095860578,<br>    0.6157469939054521<br>  ],<br>  \"params\": {<br>    \"n_estimators\": 6557,<br>    \"num_leaves\": 315,<br>    \"max_depth\": 11,<br>    \"min_child_samples\": 129,<br>    \"learning_rate\": 0.0008254900955827509,<br>    \"boosting_type\": \"gbdt\"<br>  }<br>}",
          "{<br>  \"number\": 62,<br>  \"values\": [<br>    0.05922490573817234,<br>    0.6007705119054155<br>  ],<br>  \"params\": {<br>    \"n_estimators\": 3312,<br>    \"num_leaves\": 539,<br>    \"max_depth\": 14,<br>    \"min_child_samples\": 113,<br>    \"learning_rate\": 0.0011336899491814418,<br>    \"boosting_type\": \"gbdt\"<br>  }<br>}",
          "{<br>  \"number\": 63,<br>  \"values\": [<br>    0.04834714545389609,<br>    0.524602390234082<br>  ],<br>  \"params\": {<br>    \"n_estimators\": 2792,<br>    \"num_leaves\": 401,<br>    \"max_depth\": 14,<br>    \"min_child_samples\": 89,<br>    \"learning_rate\": 0.000675777180686478,<br>    \"boosting_type\": \"gbdt\"<br>  }<br>}",
          "{<br>  \"number\": 64,<br>  \"values\": [<br>    0.05884290401569474,<br>    0.6268690861838613<br>  ],<br>  \"params\": {<br>    \"n_estimators\": 3761,<br>    \"num_leaves\": 466,<br>    \"max_depth\": 13,<br>    \"min_child_samples\": 74,<br>    \"learning_rate\": 0.0016451709144699005,<br>    \"boosting_type\": \"gbdt\"<br>  }<br>}",
          "{<br>  \"number\": 66,<br>  \"values\": [<br>    0.06432632303107422,<br>    0.6264453961456102<br>  ],<br>  \"params\": {<br>    \"n_estimators\": 7352,<br>    \"num_leaves\": 375,<br>    \"max_depth\": 15,<br>    \"min_child_samples\": 121,<br>    \"learning_rate\": 0.0011299673430831341,<br>    \"boosting_type\": \"gbdt\"<br>  }<br>}",
          "{<br>  \"number\": 68,<br>  \"values\": [<br>    0.06366984629564457,<br>    0.6093275865224473<br>  ],<br>  \"params\": {<br>    \"n_estimators\": 6585,<br>    \"num_leaves\": 503,<br>    \"max_depth\": 12,<br>    \"min_child_samples\": 144,<br>    \"learning_rate\": 0.0007025873916704123,<br>    \"boosting_type\": \"gbdt\"<br>  }<br>}",
          "{<br>  \"number\": 70,<br>  \"values\": [<br>    0.06091901906005587,<br>    0.5892155786160068<br>  ],<br>  \"params\": {<br>    \"n_estimators\": 2187,<br>    \"num_leaves\": 569,<br>    \"max_depth\": 15,<br>    \"min_child_samples\": 41,<br>    \"learning_rate\": 0.0013561700062776501,<br>    \"boosting_type\": \"gbdt\"<br>  }<br>}",
          "{<br>  \"number\": 71,<br>  \"values\": [<br>    0.06484024355341475,<br>    0.6302961254781384<br>  ],<br>  \"params\": {<br>    \"n_estimators\": 4844,<br>    \"num_leaves\": 539,<br>    \"max_depth\": 14,<br>    \"min_child_samples\": 69,<br>    \"learning_rate\": 0.002004402230639594,<br>    \"boosting_type\": \"gbdt\"<br>  }<br>}",
          "{<br>  \"number\": 72,<br>  \"values\": [<br>    0.05293012800761114,<br>    0.5348752722414393<br>  ],<br>  \"params\": {<br>    \"n_estimators\": 4289,<br>    \"num_leaves\": 587,<br>    \"max_depth\": 14,<br>    \"min_child_samples\": 215,<br>    \"learning_rate\": 0.0005257601223018224,<br>    \"boosting_type\": \"gbdt\"<br>  }<br>}",
          "{<br>  \"number\": 73,<br>  \"values\": [<br>    0.059548484534852765,<br>    0.5643917348414137<br>  ],<br>  \"params\": {<br>    \"n_estimators\": 3510,<br>    \"num_leaves\": 715,<br>    \"max_depth\": 16,<br>    \"min_child_samples\": 242,<br>    \"learning_rate\": 0.0009251502067455585,<br>    \"boosting_type\": \"gbdt\"<br>  }<br>}",
          "{<br>  \"number\": 75,<br>  \"values\": [<br>    0.067435296787656,<br>    0.6307207306136643<br>  ],<br>  \"params\": {<br>    \"n_estimators\": 5423,<br>    \"num_leaves\": 322,<br>    \"max_depth\": 11,<br>    \"min_child_samples\": 185,<br>    \"learning_rate\": 0.0025159230229382865,<br>    \"boosting_type\": \"gbdt\"<br>  }<br>}",
          "{<br>  \"number\": 77,<br>  \"values\": [<br>    0.06172555714651049,<br>    0.6255870349018101<br>  ],<br>  \"params\": {<br>    \"n_estimators\": 3096,<br>    \"num_leaves\": 34,<br>    \"max_depth\": 17,<br>    \"min_child_samples\": 95,<br>    \"learning_rate\": 0.0019968893715664507,<br>    \"boosting_type\": \"gbdt\"<br>  }<br>}",
          "{<br>  \"number\": 80,<br>  \"values\": [<br>    0.05468851759226456,<br>    0.5678242647193398<br>  ],<br>  \"params\": {<br>    \"n_estimators\": 4368,<br>    \"num_leaves\": 513,<br>    \"max_depth\": 15,<br>    \"min_child_samples\": 85,<br>    \"learning_rate\": 0.0006086248964102415,<br>    \"boosting_type\": \"gbdt\"<br>  }<br>}",
          "{<br>  \"number\": 81,<br>  \"values\": [<br>    0.06741752706756926,<br>    0.6076072036457475<br>  ],<br>  \"params\": {<br>    \"n_estimators\": 4863,<br>    \"num_leaves\": 602,<br>    \"max_depth\": 4,<br>    \"min_child_samples\": 104,<br>    \"learning_rate\": 0.0029891494283537457,<br>    \"boosting_type\": \"goss\"<br>  }<br>}",
          "{<br>  \"number\": 82,<br>  \"values\": [<br>    0.03821800897962226,<br>    0.47496842914401805<br>  ],<br>  \"params\": {<br>    \"n_estimators\": 4537,<br>    \"num_leaves\": 154,<br>    \"max_depth\": 5,<br>    \"min_child_samples\": 55,<br>    \"learning_rate\": 0.0003089457112075019,<br>    \"boosting_type\": \"goss\"<br>  }<br>}",
          "{<br>  \"number\": 83,<br>  \"values\": [<br>    0.06259117516836207,<br>    0.6076154395212211<br>  ],<br>  \"params\": {<br>    \"n_estimators\": 6347,<br>    \"num_leaves\": 490,<br>    \"max_depth\": 4,<br>    \"min_child_samples\": 38,<br>    \"learning_rate\": 0.001304396343708656,<br>    \"boosting_type\": \"goss\"<br>  }<br>}",
          "{<br>  \"number\": 84,<br>  \"values\": [<br>    0.06743656146840545,<br>    0.6221645710939073<br>  ],<br>  \"params\": {<br>    \"n_estimators\": 6869,<br>    \"num_leaves\": 795,<br>    \"max_depth\": 6,<br>    \"min_child_samples\": 196,<br>    \"learning_rate\": 0.0016424521294710914,<br>    \"boosting_type\": \"gbdt\"<br>  }<br>}",
          "{<br>  \"number\": 85,<br>  \"values\": [<br>    0.06018180608824832,<br>    0.5434296015666465<br>  ],<br>  \"params\": {<br>    \"n_estimators\": 6043,<br>    \"num_leaves\": 187,<br>    \"max_depth\": 3,<br>    \"min_child_samples\": 96,<br>    \"learning_rate\": 0.0008032425211223064,<br>    \"boosting_type\": \"goss\"<br>  }<br>}",
          "{<br>  \"number\": 87,<br>  \"values\": [<br>    0.0670364908390642,<br>    0.5960595911345375<br>  ],<br>  \"params\": {<br>    \"n_estimators\": 5708,<br>    \"num_leaves\": 372,<br>    \"max_depth\": 2,<br>    \"min_child_samples\": 104,<br>    \"learning_rate\": 0.004020248537172087,<br>    \"boosting_type\": \"goss\"<br>  }<br>}",
          "{<br>  \"number\": 89,<br>  \"values\": [<br>    0.0473725489483117,<br>    0.5181866432401764<br>  ],<br>  \"params\": {<br>    \"n_estimators\": 3841,<br>    \"num_leaves\": 295,<br>    \"max_depth\": 10,<br>    \"min_child_samples\": 65,<br>    \"learning_rate\": 0.000462298623017209,<br>    \"boosting_type\": \"goss\"<br>  }<br>}",
          "{<br>  \"number\": 90,<br>  \"values\": [<br>    0.058916892968476534,<br>    0.6114689141455736<br>  ],<br>  \"params\": {<br>    \"n_estimators\": 5322,<br>    \"num_leaves\": 390,<br>    \"max_depth\": 8,<br>    \"min_child_samples\": 89,<br>    \"learning_rate\": 0.0012399891317491434,<br>    \"boosting_type\": \"gbdt\"<br>  }<br>}",
          "{<br>  \"number\": 92,<br>  \"values\": [<br>    0.05899835487210109,<br>    0.554979959369681<br>  ],<br>  \"params\": {<br>    \"n_estimators\": 4962,<br>    \"num_leaves\": 993,<br>    \"max_depth\": 7,<br>    \"min_child_samples\": 100,<br>    \"learning_rate\": 0.0006208242150392245,<br>    \"boosting_type\": \"goss\"<br>  }<br>}",
          "{<br>  \"number\": 94,<br>  \"values\": [<br>    0.06325017363164465,<br>    0.5549845348560551<br>  ],<br>  \"params\": {<br>    \"n_estimators\": 2843,<br>    \"num_leaves\": 839,<br>    \"max_depth\": 14,<br>    \"min_child_samples\": 109,<br>    \"learning_rate\": 0.0009219512102874588,<br>    \"boosting_type\": \"goss\"<br>  }<br>}",
          "{<br>  \"number\": 95,<br>  \"values\": [<br>    0.05132015597640851,<br>    0.4578533648126795<br>  ],<br>  \"params\": {<br>    \"n_estimators\": 1285,<br>    \"num_leaves\": 764,<br>    \"max_depth\": 5,<br>    \"min_child_samples\": 245,<br>    \"learning_rate\": 0.0015078305476002858,<br>    \"boosting_type\": \"goss\"<br>  }<br>}",
          "{<br>  \"number\": 96,<br>  \"values\": [<br>    0.040096453891655545,<br>    0.4069263712732664<br>  ],<br>  \"params\": {<br>    \"n_estimators\": 724,<br>    \"num_leaves\": 907,<br>    \"max_depth\": 2,<br>    \"min_child_samples\": 117,<br>    \"learning_rate\": 0.0017971482287510718,<br>    \"boosting_type\": \"goss\"<br>  }<br>}",
          "{<br>  \"number\": 97,<br>  \"values\": [<br>    0.03543566404528918,<br>    0.44758505829169637<br>  ],<br>  \"params\": {<br>    \"n_estimators\": 2384,<br>    \"num_leaves\": 354,<br>    \"max_depth\": 11,<br>    \"min_child_samples\": 93,<br>    \"learning_rate\": 0.0005165419194081362,<br>    \"boosting_type\": \"goss\"<br>  }<br>}",
          "{<br>  \"number\": 98,<br>  \"values\": [<br>    0.0792158829575204,<br>    0.5673932539028899<br>  ],<br>  \"params\": {<br>    \"n_estimators\": 4416,<br>    \"num_leaves\": 188,<br>    \"max_depth\": 13,<br>    \"min_child_samples\": 204,<br>    \"learning_rate\": 0.0010668203600764934,<br>    \"boosting_type\": \"goss\"<br>  }<br>}"
         ],
         "type": "scatter",
         "x": [
          0.08403980969616615,
          0.08488752438839449,
          0.07299738823767432,
          0.07083367602033626,
          0.08791026759195038,
          0.07732291193449149,
          0.06447041835424043,
          0.05993813051432826,
          0.05802994329049945,
          0.08175501567262618,
          0.06783552226337221,
          0.08021772310859718,
          0.06587594707614716,
          0.06468982040054055,
          0.06034497336121536,
          0.07308520952053614,
          0.06718508253640204,
          0.07255747698541665,
          0.06586026130458449,
          0.07466767395081039,
          0.06784444044890543,
          0.0698546320505162,
          0.049744713073397374,
          0.07595690573967331,
          0.07096133114340183,
          0.06812623141483529,
          0.0738484526165707,
          0.05197988198710988,
          0.06487254002318298,
          0.06605884377821877,
          0.0508423513356949,
          0.07117758677189971,
          0.07656464141740747,
          0.06901642863327595,
          0.07097363232683054,
          0.06947480722883906,
          0.06469571389881276,
          0.048317518924080996,
          0.06838635076681862,
          0.07254048394459703,
          0.06510209095860578,
          0.05922490573817234,
          0.04834714545389609,
          0.05884290401569474,
          0.06432632303107422,
          0.06366984629564457,
          0.06091901906005587,
          0.06484024355341475,
          0.05293012800761114,
          0.059548484534852765,
          0.067435296787656,
          0.06172555714651049,
          0.05468851759226456,
          0.06741752706756926,
          0.03821800897962226,
          0.06259117516836207,
          0.06743656146840545,
          0.06018180608824832,
          0.0670364908390642,
          0.0473725489483117,
          0.058916892968476534,
          0.05899835487210109,
          0.06325017363164465,
          0.05132015597640851,
          0.040096453891655545,
          0.03543566404528918,
          0.0792158829575204
         ],
         "y": [
          0.6067598235692454,
          0.5738199820640935,
          0.5601173154706345,
          0.637570233715844,
          0.5661157781072128,
          0.6230137813649591,
          0.6298623693698641,
          0.5917815113746592,
          0.597346217902963,
          0.55455626933143,
          0.6187421072860044,
          0.5896438441406321,
          0.6341468548106665,
          0.6230201870458829,
          0.6255897801936345,
          0.6345742052380168,
          0.6161789198191767,
          0.5665367228536393,
          0.6268681710865865,
          0.6204606599681547,
          0.6148858873698274,
          0.5532751331466536,
          0.44587291129047013,
          0.6277274474276616,
          0.554126173612255,
          0.6277283625249365,
          0.6196013836270795,
          0.5395788722341186,
          0.5909204048390344,
          0.5960550156481634,
          0.514332253518549,
          0.6123245300975494,
          0.6362799465583191,
          0.599478394553341,
          0.6307189004191145,
          0.6114597631728252,
          0.622584600743059,
          0.4356036896722121,
          0.6101749665989494,
          0.6217427112502059,
          0.6157469939054521,
          0.6007705119054155,
          0.524602390234082,
          0.6268690861838613,
          0.6264453961456102,
          0.6093275865224473,
          0.5892155786160068,
          0.6302961254781384,
          0.5348752722414393,
          0.5643917348414137,
          0.6307207306136643,
          0.6255870349018101,
          0.5678242647193398,
          0.6076072036457475,
          0.47496842914401805,
          0.6076154395212211,
          0.6221645710939073,
          0.5434296015666465,
          0.5960595911345375,
          0.5181866432401764,
          0.6114689141455736,
          0.554979959369681,
          0.5549845348560551,
          0.4578533648126795,
          0.4069263712732664,
          0.44758505829169637,
          0.5673932539028899
         ]
        },
        {
         "hovertemplate": "%{text}<extra>Best Trial</extra>",
         "marker": {
          "color": [
           2,
           3,
           9,
           11,
           14,
           15,
           21,
           23,
           24,
           25,
           35,
           36,
           37,
           46,
           50,
           53,
           55,
           57,
           58,
           60,
           61,
           65,
           67,
           69,
           74,
           76,
           78,
           79,
           86,
           88,
           91,
           93,
           99
          ],
          "colorbar": {
           "title": {
            "text": "Best Trial"
           },
           "x": 1.1,
           "xpad": 40
          },
          "colorscale": [
           [
            0,
            "rgb(255,245,240)"
           ],
           [
            0.125,
            "rgb(254,224,210)"
           ],
           [
            0.25,
            "rgb(252,187,161)"
           ],
           [
            0.375,
            "rgb(252,146,114)"
           ],
           [
            0.5,
            "rgb(251,106,74)"
           ],
           [
            0.625,
            "rgb(239,59,44)"
           ],
           [
            0.75,
            "rgb(203,24,29)"
           ],
           [
            0.875,
            "rgb(165,15,21)"
           ],
           [
            1,
            "rgb(103,0,13)"
           ]
          ],
          "line": {
           "color": "Grey",
           "width": 0.5
          }
         },
         "mode": "markers",
         "showlegend": false,
         "text": [
          "{<br>  \"number\": 2,<br>  \"values\": [<br>    0.01600555204473341,<br>    0.3123702849612914<br>  ],<br>  \"params\": {<br>    \"n_estimators\": 4214,<br>    \"num_leaves\": 83,<br>    \"max_depth\": 15,<br>    \"min_child_samples\": 197,<br>    \"learning_rate\": 0.00018967079087098314,<br>    \"boosting_type\": \"goss\"<br>  }<br>}",
          "{<br>  \"number\": 3,<br>  \"values\": [<br>    0.05131782803128828,<br>    0.552842292135654<br>  ],<br>  \"params\": {<br>    \"n_estimators\": 4616,<br>    \"num_leaves\": 614,<br>    \"max_depth\": 3,<br>    \"min_child_samples\": 60,<br>    \"learning_rate\": 0.0014734619616239876,<br>    \"boosting_type\": \"gbdt\"<br>  }<br>}",
          "{<br>  \"number\": 9,<br>  \"values\": [<br>    0.05588196807197658,<br>    0.5917760207910101<br>  ],<br>  \"params\": {<br>    \"n_estimators\": 402,<br>    \"num_leaves\": 275,<br>    \"max_depth\": 6,<br>    \"min_child_samples\": 16,<br>    \"learning_rate\": 0.009713563512447097,<br>    \"boosting_type\": \"goss\"<br>  }<br>}",
          "{<br>  \"number\": 11,<br>  \"values\": [<br>    0.0,<br>    0.0<br>  ],<br>  \"params\": {<br>    \"n_estimators\": 5185,<br>    \"num_leaves\": 20,<br>    \"max_depth\": 19,<br>    \"min_child_samples\": 78,<br>    \"learning_rate\": 6.150879302042816e-05,<br>    \"boosting_type\": \"gbdt\"<br>  }<br>}",
          "{<br>  \"number\": 14,<br>  \"values\": [<br>    0.0658261700332782,<br>    0.6427011841358736<br>  ],<br>  \"params\": {<br>    \"n_estimators\": 5851,<br>    \"num_leaves\": 879,<br>    \"max_depth\": 10,<br>    \"min_child_samples\": 116,<br>    \"learning_rate\": 0.0041467449765888766,<br>    \"boosting_type\": \"gbdt\"<br>  }<br>}",
          "{<br>  \"number\": 15,<br>  \"values\": [<br>    0.0,<br>    0.0<br>  ],<br>  \"params\": {<br>    \"n_estimators\": 3011,<br>    \"num_leaves\": 24,<br>    \"max_depth\": 17,<br>    \"min_child_samples\": 72,<br>    \"learning_rate\": 2.881746463234404e-05,<br>    \"boosting_type\": \"goss\"<br>  }<br>}",
          "{<br>  \"number\": 21,<br>  \"values\": [<br>    0.058735270950568595,<br>    0.6268727465729608<br>  ],<br>  \"params\": {<br>    \"n_estimators\": 5572,<br>    \"num_leaves\": 615,<br>    \"max_depth\": 9,<br>    \"min_child_samples\": 100,<br>    \"learning_rate\": 0.0016933805077701425,<br>    \"boosting_type\": \"gbdt\"<br>  }<br>}",
          "{<br>  \"number\": 23,<br>  \"values\": [<br>    0.047032716456547455,<br>    0.524177785098556<br>  ],<br>  \"params\": {<br>    \"n_estimators\": 6796,<br>    \"num_leaves\": 443,<br>    \"max_depth\": 2,<br>    \"min_child_samples\": 94,<br>    \"learning_rate\": 0.0009819297835850804,<br>    \"boosting_type\": \"gbdt\"<br>  }<br>}",
          "{<br>  \"number\": 24,<br>  \"values\": [<br>    0.05229262667433676,<br>    0.5545544391368803<br>  ],<br>  \"params\": {<br>    \"n_estimators\": 6990,<br>    \"num_leaves\": 420,<br>    \"max_depth\": 5,<br>    \"min_child_samples\": 141,<br>    \"learning_rate\": 0.0006164281130124388,<br>    \"boosting_type\": \"gbdt\"<br>  }<br>}",
          "{<br>  \"number\": 25,<br>  \"values\": [<br>    0.05584163371650928,<br>    0.5810849393290507<br>  ],<br>  \"params\": {<br>    \"n_estimators\": 8462,<br>    \"num_leaves\": 137,<br>    \"max_depth\": 2,<br>    \"min_child_samples\": 95,<br>    \"learning_rate\": 0.0022908967342105267,<br>    \"boosting_type\": \"gbdt\"<br>  }<br>}",
          "{<br>  \"number\": 35,<br>  \"values\": [<br>    0.04732330465683706,<br>    0.5246033053313568<br>  ],<br>  \"params\": {<br>    \"n_estimators\": 3170,<br>    \"num_leaves\": 621,<br>    \"max_depth\": 2,<br>    \"min_child_samples\": 258,<br>    \"learning_rate\": 0.00217415628182655,<br>    \"boosting_type\": \"gbdt\"<br>  }<br>}",
          "{<br>  \"number\": 36,<br>  \"values\": [<br>    0.022985877331948498,<br>    0.3859569172203005<br>  ],<br>  \"params\": {<br>    \"n_estimators\": 5064,<br>    \"num_leaves\": 329,<br>    \"max_depth\": 6,<br>    \"min_child_samples\": 89,<br>    \"learning_rate\": 0.00018062087992321102,<br>    \"boosting_type\": \"goss\"<br>  }<br>}",
          "{<br>  \"number\": 37,<br>  \"values\": [<br>    0.0,<br>    0.0<br>  ],<br>  \"params\": {<br>    \"n_estimators\": 4743,<br>    \"num_leaves\": 349,<br>    \"max_depth\": 6,<br>    \"min_child_samples\": 299,<br>    \"learning_rate\": 5.5787308161305135e-05,<br>    \"boosting_type\": \"goss\"<br>  }<br>}",
          "{<br>  \"number\": 46,<br>  \"values\": [<br>    0.0,<br>    0.0<br>  ],<br>  \"params\": {<br>    \"n_estimators\": 4900,<br>    \"num_leaves\": 96,<br>    \"max_depth\": 7,<br>    \"min_child_samples\": 68,<br>    \"learning_rate\": 4.287074579800159e-05,<br>    \"boosting_type\": \"gbdt\"<br>  }<br>}",
          "{<br>  \"number\": 50,<br>  \"values\": [<br>    0.05629865126660216,<br>    0.608470140375922<br>  ],<br>  \"params\": {<br>    \"n_estimators\": 5950,<br>    \"num_leaves\": 399,<br>    \"max_depth\": 4,<br>    \"min_child_samples\": 84,<br>    \"learning_rate\": 0.0020654691823356565,<br>    \"boosting_type\": \"gbdt\"<br>  }<br>}",
          "{<br>  \"number\": 53,<br>  \"values\": [<br>    0.05432906015287127,<br>    0.5738117461886199<br>  ],<br>  \"params\": {<br>    \"n_estimators\": 8318,<br>    \"num_leaves\": 73,<br>    \"max_depth\": 2,<br>    \"min_child_samples\": 55,<br>    \"learning_rate\": 0.0019834874199340887,<br>    \"boosting_type\": \"gbdt\"<br>  }<br>}",
          "{<br>  \"number\": 55,<br>  \"values\": [<br>    0.0,<br>    0.0<br>  ],<br>  \"params\": {<br>    \"n_estimators\": 29,<br>    \"num_leaves\": 436,<br>    \"max_depth\": 12,<br>    \"min_child_samples\": 75,<br>    \"learning_rate\": 0.0008441841357775003,<br>    \"boosting_type\": \"gbdt\"<br>  }<br>}",
          "{<br>  \"number\": 57,<br>  \"values\": [<br>    0.034686376034537544,<br>    0.46384267647650945<br>  ],<br>  \"params\": {<br>    \"n_estimators\": 4480,<br>    \"num_leaves\": 489,<br>    \"max_depth\": 10,<br>    \"min_child_samples\": 103,<br>    \"learning_rate\": 0.0003139132904673276,<br>    \"boosting_type\": \"gbdt\"<br>  }<br>}",
          "{<br>  \"number\": 58,<br>  \"values\": [<br>    0.04144815300003881,<br>    0.48438386500485003<br>  ],<br>  \"params\": {<br>    \"n_estimators\": 4608,<br>    \"num_leaves\": 490,<br>    \"max_depth\": 10,<br>    \"min_child_samples\": 153,<br>    \"learning_rate\": 0.00033436528863203027,<br>    \"boosting_type\": \"gbdt\"<br>  }<br>}",
          "{<br>  \"number\": 60,<br>  \"values\": [<br>    0.028913638204358178,<br>    0.42105638829407566<br>  ],<br>  \"params\": {<br>    \"n_estimators\": 4195,<br>    \"num_leaves\": 479,<br>    \"max_depth\": 13,<br>    \"min_child_samples\": 112,<br>    \"learning_rate\": 0.00027612357201090715,<br>    \"boosting_type\": \"gbdt\"<br>  }<br>}",
          "{<br>  \"number\": 61,<br>  \"values\": [<br>    0.036822675851548324,<br>    0.47753710719449477<br>  ],<br>  \"params\": {<br>    \"n_estimators\": 4350,<br>    \"num_leaves\": 475,<br>    \"max_depth\": 13,<br>    \"min_child_samples\": 103,<br>    \"learning_rate\": 0.00034183314794595414,<br>    \"boosting_type\": \"gbdt\"<br>  }<br>}",
          "{<br>  \"number\": 65,<br>  \"values\": [<br>    0.022210968425726518,<br>    0.3786809787880452<br>  ],<br>  \"params\": {<br>    \"n_estimators\": 4098,<br>    \"num_leaves\": 431,<br>    \"max_depth\": 16,<br>    \"min_child_samples\": 135,<br>    \"learning_rate\": 0.00022570894172132397,<br>    \"boosting_type\": \"gbdt\"<br>  }<br>}",
          "{<br>  \"number\": 67,<br>  \"values\": [<br>    0.0,<br>    0.0<br>  ],<br>  \"params\": {<br>    \"n_estimators\": 5236,<br>    \"num_leaves\": 675,<br>    \"max_depth\": 13,<br>    \"min_child_samples\": 103,<br>    \"learning_rate\": 5.3972481459519175e-05,<br>    \"boosting_type\": \"gbdt\"<br>  }<br>}",
          "{<br>  \"number\": 69,<br>  \"values\": [<br>    0.06170969461512721,<br>    0.6371392228993942<br>  ],<br>  \"params\": {<br>    \"n_estimators\": 4403,<br>    \"num_leaves\": 600,<br>    \"max_depth\": 14,<br>    \"min_child_samples\": 97,<br>    \"learning_rate\": 0.001925137919236911,<br>    \"boosting_type\": \"gbdt\"<br>  }<br>}",
          "{<br>  \"number\": 74,<br>  \"values\": [<br>    0.04698015659394581,<br>    0.5139067332857483<br>  ],<br>  \"params\": {<br>    \"n_estimators\": 5866,<br>    \"num_leaves\": 448,<br>    \"max_depth\": 13,<br>    \"min_child_samples\": 82,<br>    \"learning_rate\": 0.00030893196111803577,<br>    \"boosting_type\": \"gbdt\"<br>  }<br>}",
          "{<br>  \"number\": 76,<br>  \"values\": [<br>    0.05390456043631152,<br>    0.5566930214681821<br>  ],<br>  \"params\": {<br>    \"n_estimators\": 3934,<br>    \"num_leaves\": 414,<br>    \"max_depth\": 2,<br>    \"min_child_samples\": 63,<br>    \"learning_rate\": 0.0034497471450903702,<br>    \"boosting_type\": \"gbdt\"<br>  }<br>}",
          "{<br>  \"number\": 78,<br>  \"values\": [<br>    0.0,<br>    0.0<br>  ],<br>  \"params\": {<br>    \"n_estimators\": 4622,<br>    \"num_leaves\": 643,<br>    \"max_depth\": 12,<br>    \"min_child_samples\": 165,<br>    \"learning_rate\": 2.396383995311997e-05,<br>    \"boosting_type\": \"gbdt\"<br>  }<br>}",
          "{<br>  \"number\": 79,<br>  \"values\": [<br>    0.04922794256785929,<br>    0.5335904756675636<br>  ],<br>  \"params\": {<br>    \"n_estimators\": 5125,<br>    \"num_leaves\": 475,<br>    \"max_depth\": 3,<br>    \"min_child_samples\": 111,<br>    \"learning_rate\": 0.0010651287312940898,<br>    \"boosting_type\": \"gbdt\"<br>  }<br>}",
          "{<br>  \"number\": 86,<br>  \"values\": [<br>    0.05763847005174274,<br>    0.6165989494683285<br>  ],<br>  \"params\": {<br>    \"n_estimators\": 8946,<br>    \"num_leaves\": 116,<br>    \"max_depth\": 3,<br>    \"min_child_samples\": 76,<br>    \"learning_rate\": 0.0023188334123293644,<br>    \"boosting_type\": \"gbdt\"<br>  }<br>}",
          "{<br>  \"number\": 88,<br>  \"values\": [<br>    0.03262168517574003,<br>    0.42705393583337903<br>  ],<br>  \"params\": {<br>    \"n_estimators\": 4207,<br>    \"num_leaves\": 246,<br>    \"max_depth\": 4,<br>    \"min_child_samples\": 120,<br>    \"learning_rate\": 0.0002580963411267745,<br>    \"boosting_type\": \"gbdt\"<br>  }<br>}",
          "{<br>  \"number\": 91,<br>  \"values\": [<br>    0.006015447926877632,<br>    0.26871282417320963<br>  ],<br>  \"params\": {<br>    \"n_estimators\": 1133,<br>    \"num_leaves\": 967,<br>    \"max_depth\": 9,<br>    \"min_child_samples\": 99,<br>    \"learning_rate\": 0.00054794492298377,<br>    \"boosting_type\": \"goss\"<br>  }<br>}",
          "{<br>  \"number\": 93,<br>  \"values\": [<br>    0.0,<br>    0.0<br>  ],<br>  \"params\": {<br>    \"n_estimators\": 1318,<br>    \"num_leaves\": 933,<br>    \"max_depth\": 9,<br>    \"min_child_samples\": 78,<br>    \"learning_rate\": 0.00021062171210773723,<br>    \"boosting_type\": \"goss\"<br>  }<br>}",
          "{<br>  \"number\": 99,<br>  \"values\": [<br>    0.027209821446049404,<br>    0.413776789472721<br>  ],<br>  \"params\": {<br>    \"n_estimators\": 5520,<br>    \"num_leaves\": 335,<br>    \"max_depth\": 6,<br>    \"min_child_samples\": 137,<br>    \"learning_rate\": 0.0001968270340170394,<br>    \"boosting_type\": \"goss\"<br>  }<br>}"
         ],
         "type": "scatter",
         "x": [
          0.01600555204473341,
          0.05131782803128828,
          0.05588196807197658,
          0,
          0.0658261700332782,
          0,
          0.058735270950568595,
          0.047032716456547455,
          0.05229262667433676,
          0.05584163371650928,
          0.04732330465683706,
          0.022985877331948498,
          0,
          0,
          0.05629865126660216,
          0.05432906015287127,
          0,
          0.034686376034537544,
          0.04144815300003881,
          0.028913638204358178,
          0.036822675851548324,
          0.022210968425726518,
          0,
          0.06170969461512721,
          0.04698015659394581,
          0.05390456043631152,
          0,
          0.04922794256785929,
          0.05763847005174274,
          0.03262168517574003,
          0.006015447926877632,
          0,
          0.027209821446049404
         ],
         "y": [
          0.3123702849612914,
          0.552842292135654,
          0.5917760207910101,
          0,
          0.6427011841358736,
          0,
          0.6268727465729608,
          0.524177785098556,
          0.5545544391368803,
          0.5810849393290507,
          0.5246033053313568,
          0.3859569172203005,
          0,
          0,
          0.608470140375922,
          0.5738117461886199,
          0,
          0.46384267647650945,
          0.48438386500485003,
          0.42105638829407566,
          0.47753710719449477,
          0.3786809787880452,
          0,
          0.6371392228993942,
          0.5139067332857483,
          0.5566930214681821,
          0,
          0.5335904756675636,
          0.6165989494683285,
          0.42705393583337903,
          0.26871282417320963,
          0,
          0.413776789472721
         ]
        }
       ],
       "layout": {
        "template": {
         "data": {
          "bar": [
           {
            "error_x": {
             "color": "#2a3f5f"
            },
            "error_y": {
             "color": "#2a3f5f"
            },
            "marker": {
             "line": {
              "color": "#E5ECF6",
              "width": 0.5
             },
             "pattern": {
              "fillmode": "overlay",
              "size": 10,
              "solidity": 0.2
             }
            },
            "type": "bar"
           }
          ],
          "barpolar": [
           {
            "marker": {
             "line": {
              "color": "#E5ECF6",
              "width": 0.5
             },
             "pattern": {
              "fillmode": "overlay",
              "size": 10,
              "solidity": 0.2
             }
            },
            "type": "barpolar"
           }
          ],
          "carpet": [
           {
            "aaxis": {
             "endlinecolor": "#2a3f5f",
             "gridcolor": "white",
             "linecolor": "white",
             "minorgridcolor": "white",
             "startlinecolor": "#2a3f5f"
            },
            "baxis": {
             "endlinecolor": "#2a3f5f",
             "gridcolor": "white",
             "linecolor": "white",
             "minorgridcolor": "white",
             "startlinecolor": "#2a3f5f"
            },
            "type": "carpet"
           }
          ],
          "choropleth": [
           {
            "colorbar": {
             "outlinewidth": 0,
             "ticks": ""
            },
            "type": "choropleth"
           }
          ],
          "contour": [
           {
            "colorbar": {
             "outlinewidth": 0,
             "ticks": ""
            },
            "colorscale": [
             [
              0,
              "#0d0887"
             ],
             [
              0.1111111111111111,
              "#46039f"
             ],
             [
              0.2222222222222222,
              "#7201a8"
             ],
             [
              0.3333333333333333,
              "#9c179e"
             ],
             [
              0.4444444444444444,
              "#bd3786"
             ],
             [
              0.5555555555555556,
              "#d8576b"
             ],
             [
              0.6666666666666666,
              "#ed7953"
             ],
             [
              0.7777777777777778,
              "#fb9f3a"
             ],
             [
              0.8888888888888888,
              "#fdca26"
             ],
             [
              1,
              "#f0f921"
             ]
            ],
            "type": "contour"
           }
          ],
          "contourcarpet": [
           {
            "colorbar": {
             "outlinewidth": 0,
             "ticks": ""
            },
            "type": "contourcarpet"
           }
          ],
          "heatmap": [
           {
            "colorbar": {
             "outlinewidth": 0,
             "ticks": ""
            },
            "colorscale": [
             [
              0,
              "#0d0887"
             ],
             [
              0.1111111111111111,
              "#46039f"
             ],
             [
              0.2222222222222222,
              "#7201a8"
             ],
             [
              0.3333333333333333,
              "#9c179e"
             ],
             [
              0.4444444444444444,
              "#bd3786"
             ],
             [
              0.5555555555555556,
              "#d8576b"
             ],
             [
              0.6666666666666666,
              "#ed7953"
             ],
             [
              0.7777777777777778,
              "#fb9f3a"
             ],
             [
              0.8888888888888888,
              "#fdca26"
             ],
             [
              1,
              "#f0f921"
             ]
            ],
            "type": "heatmap"
           }
          ],
          "heatmapgl": [
           {
            "colorbar": {
             "outlinewidth": 0,
             "ticks": ""
            },
            "colorscale": [
             [
              0,
              "#0d0887"
             ],
             [
              0.1111111111111111,
              "#46039f"
             ],
             [
              0.2222222222222222,
              "#7201a8"
             ],
             [
              0.3333333333333333,
              "#9c179e"
             ],
             [
              0.4444444444444444,
              "#bd3786"
             ],
             [
              0.5555555555555556,
              "#d8576b"
             ],
             [
              0.6666666666666666,
              "#ed7953"
             ],
             [
              0.7777777777777778,
              "#fb9f3a"
             ],
             [
              0.8888888888888888,
              "#fdca26"
             ],
             [
              1,
              "#f0f921"
             ]
            ],
            "type": "heatmapgl"
           }
          ],
          "histogram": [
           {
            "marker": {
             "pattern": {
              "fillmode": "overlay",
              "size": 10,
              "solidity": 0.2
             }
            },
            "type": "histogram"
           }
          ],
          "histogram2d": [
           {
            "colorbar": {
             "outlinewidth": 0,
             "ticks": ""
            },
            "colorscale": [
             [
              0,
              "#0d0887"
             ],
             [
              0.1111111111111111,
              "#46039f"
             ],
             [
              0.2222222222222222,
              "#7201a8"
             ],
             [
              0.3333333333333333,
              "#9c179e"
             ],
             [
              0.4444444444444444,
              "#bd3786"
             ],
             [
              0.5555555555555556,
              "#d8576b"
             ],
             [
              0.6666666666666666,
              "#ed7953"
             ],
             [
              0.7777777777777778,
              "#fb9f3a"
             ],
             [
              0.8888888888888888,
              "#fdca26"
             ],
             [
              1,
              "#f0f921"
             ]
            ],
            "type": "histogram2d"
           }
          ],
          "histogram2dcontour": [
           {
            "colorbar": {
             "outlinewidth": 0,
             "ticks": ""
            },
            "colorscale": [
             [
              0,
              "#0d0887"
             ],
             [
              0.1111111111111111,
              "#46039f"
             ],
             [
              0.2222222222222222,
              "#7201a8"
             ],
             [
              0.3333333333333333,
              "#9c179e"
             ],
             [
              0.4444444444444444,
              "#bd3786"
             ],
             [
              0.5555555555555556,
              "#d8576b"
             ],
             [
              0.6666666666666666,
              "#ed7953"
             ],
             [
              0.7777777777777778,
              "#fb9f3a"
             ],
             [
              0.8888888888888888,
              "#fdca26"
             ],
             [
              1,
              "#f0f921"
             ]
            ],
            "type": "histogram2dcontour"
           }
          ],
          "mesh3d": [
           {
            "colorbar": {
             "outlinewidth": 0,
             "ticks": ""
            },
            "type": "mesh3d"
           }
          ],
          "parcoords": [
           {
            "line": {
             "colorbar": {
              "outlinewidth": 0,
              "ticks": ""
             }
            },
            "type": "parcoords"
           }
          ],
          "pie": [
           {
            "automargin": true,
            "type": "pie"
           }
          ],
          "scatter": [
           {
            "fillpattern": {
             "fillmode": "overlay",
             "size": 10,
             "solidity": 0.2
            },
            "type": "scatter"
           }
          ],
          "scatter3d": [
           {
            "line": {
             "colorbar": {
              "outlinewidth": 0,
              "ticks": ""
             }
            },
            "marker": {
             "colorbar": {
              "outlinewidth": 0,
              "ticks": ""
             }
            },
            "type": "scatter3d"
           }
          ],
          "scattercarpet": [
           {
            "marker": {
             "colorbar": {
              "outlinewidth": 0,
              "ticks": ""
             }
            },
            "type": "scattercarpet"
           }
          ],
          "scattergeo": [
           {
            "marker": {
             "colorbar": {
              "outlinewidth": 0,
              "ticks": ""
             }
            },
            "type": "scattergeo"
           }
          ],
          "scattergl": [
           {
            "marker": {
             "colorbar": {
              "outlinewidth": 0,
              "ticks": ""
             }
            },
            "type": "scattergl"
           }
          ],
          "scattermapbox": [
           {
            "marker": {
             "colorbar": {
              "outlinewidth": 0,
              "ticks": ""
             }
            },
            "type": "scattermapbox"
           }
          ],
          "scatterpolar": [
           {
            "marker": {
             "colorbar": {
              "outlinewidth": 0,
              "ticks": ""
             }
            },
            "type": "scatterpolar"
           }
          ],
          "scatterpolargl": [
           {
            "marker": {
             "colorbar": {
              "outlinewidth": 0,
              "ticks": ""
             }
            },
            "type": "scatterpolargl"
           }
          ],
          "scatterternary": [
           {
            "marker": {
             "colorbar": {
              "outlinewidth": 0,
              "ticks": ""
             }
            },
            "type": "scatterternary"
           }
          ],
          "surface": [
           {
            "colorbar": {
             "outlinewidth": 0,
             "ticks": ""
            },
            "colorscale": [
             [
              0,
              "#0d0887"
             ],
             [
              0.1111111111111111,
              "#46039f"
             ],
             [
              0.2222222222222222,
              "#7201a8"
             ],
             [
              0.3333333333333333,
              "#9c179e"
             ],
             [
              0.4444444444444444,
              "#bd3786"
             ],
             [
              0.5555555555555556,
              "#d8576b"
             ],
             [
              0.6666666666666666,
              "#ed7953"
             ],
             [
              0.7777777777777778,
              "#fb9f3a"
             ],
             [
              0.8888888888888888,
              "#fdca26"
             ],
             [
              1,
              "#f0f921"
             ]
            ],
            "type": "surface"
           }
          ],
          "table": [
           {
            "cells": {
             "fill": {
              "color": "#EBF0F8"
             },
             "line": {
              "color": "white"
             }
            },
            "header": {
             "fill": {
              "color": "#C8D4E3"
             },
             "line": {
              "color": "white"
             }
            },
            "type": "table"
           }
          ]
         },
         "layout": {
          "annotationdefaults": {
           "arrowcolor": "#2a3f5f",
           "arrowhead": 0,
           "arrowwidth": 1
          },
          "autotypenumbers": "strict",
          "coloraxis": {
           "colorbar": {
            "outlinewidth": 0,
            "ticks": ""
           }
          },
          "colorscale": {
           "diverging": [
            [
             0,
             "#8e0152"
            ],
            [
             0.1,
             "#c51b7d"
            ],
            [
             0.2,
             "#de77ae"
            ],
            [
             0.3,
             "#f1b6da"
            ],
            [
             0.4,
             "#fde0ef"
            ],
            [
             0.5,
             "#f7f7f7"
            ],
            [
             0.6,
             "#e6f5d0"
            ],
            [
             0.7,
             "#b8e186"
            ],
            [
             0.8,
             "#7fbc41"
            ],
            [
             0.9,
             "#4d9221"
            ],
            [
             1,
             "#276419"
            ]
           ],
           "sequential": [
            [
             0,
             "#0d0887"
            ],
            [
             0.1111111111111111,
             "#46039f"
            ],
            [
             0.2222222222222222,
             "#7201a8"
            ],
            [
             0.3333333333333333,
             "#9c179e"
            ],
            [
             0.4444444444444444,
             "#bd3786"
            ],
            [
             0.5555555555555556,
             "#d8576b"
            ],
            [
             0.6666666666666666,
             "#ed7953"
            ],
            [
             0.7777777777777778,
             "#fb9f3a"
            ],
            [
             0.8888888888888888,
             "#fdca26"
            ],
            [
             1,
             "#f0f921"
            ]
           ],
           "sequentialminus": [
            [
             0,
             "#0d0887"
            ],
            [
             0.1111111111111111,
             "#46039f"
            ],
            [
             0.2222222222222222,
             "#7201a8"
            ],
            [
             0.3333333333333333,
             "#9c179e"
            ],
            [
             0.4444444444444444,
             "#bd3786"
            ],
            [
             0.5555555555555556,
             "#d8576b"
            ],
            [
             0.6666666666666666,
             "#ed7953"
            ],
            [
             0.7777777777777778,
             "#fb9f3a"
            ],
            [
             0.8888888888888888,
             "#fdca26"
            ],
            [
             1,
             "#f0f921"
            ]
           ]
          },
          "colorway": [
           "#636efa",
           "#EF553B",
           "#00cc96",
           "#ab63fa",
           "#FFA15A",
           "#19d3f3",
           "#FF6692",
           "#B6E880",
           "#FF97FF",
           "#FECB52"
          ],
          "font": {
           "color": "#2a3f5f"
          },
          "geo": {
           "bgcolor": "white",
           "lakecolor": "white",
           "landcolor": "#E5ECF6",
           "showlakes": true,
           "showland": true,
           "subunitcolor": "white"
          },
          "hoverlabel": {
           "align": "left"
          },
          "hovermode": "closest",
          "mapbox": {
           "style": "light"
          },
          "paper_bgcolor": "white",
          "plot_bgcolor": "#E5ECF6",
          "polar": {
           "angularaxis": {
            "gridcolor": "white",
            "linecolor": "white",
            "ticks": ""
           },
           "bgcolor": "#E5ECF6",
           "radialaxis": {
            "gridcolor": "white",
            "linecolor": "white",
            "ticks": ""
           }
          },
          "scene": {
           "xaxis": {
            "backgroundcolor": "#E5ECF6",
            "gridcolor": "white",
            "gridwidth": 2,
            "linecolor": "white",
            "showbackground": true,
            "ticks": "",
            "zerolinecolor": "white"
           },
           "yaxis": {
            "backgroundcolor": "#E5ECF6",
            "gridcolor": "white",
            "gridwidth": 2,
            "linecolor": "white",
            "showbackground": true,
            "ticks": "",
            "zerolinecolor": "white"
           },
           "zaxis": {
            "backgroundcolor": "#E5ECF6",
            "gridcolor": "white",
            "gridwidth": 2,
            "linecolor": "white",
            "showbackground": true,
            "ticks": "",
            "zerolinecolor": "white"
           }
          },
          "shapedefaults": {
           "line": {
            "color": "#2a3f5f"
           }
          },
          "ternary": {
           "aaxis": {
            "gridcolor": "white",
            "linecolor": "white",
            "ticks": ""
           },
           "baxis": {
            "gridcolor": "white",
            "linecolor": "white",
            "ticks": ""
           },
           "bgcolor": "#E5ECF6",
           "caxis": {
            "gridcolor": "white",
            "linecolor": "white",
            "ticks": ""
           }
          },
          "title": {
           "x": 0.05
          },
          "xaxis": {
           "automargin": true,
           "gridcolor": "white",
           "linecolor": "white",
           "ticks": "",
           "title": {
            "standoff": 15
           },
           "zerolinecolor": "white",
           "zerolinewidth": 2
          },
          "yaxis": {
           "automargin": true,
           "gridcolor": "white",
           "linecolor": "white",
           "ticks": "",
           "title": {
            "standoff": 15
           },
           "zerolinecolor": "white",
           "zerolinewidth": 2
          }
         }
        },
        "title": {
         "text": "Pareto-front Plot"
        },
        "xaxis": {
         "title": {
          "text": "fair_metric"
         }
        },
        "yaxis": {
         "title": {
          "text": "f1_score"
         }
        }
       }
      }
     },
     "metadata": {},
     "output_type": "display_data"
    }
   ],
   "source": [
    "optuna.visualization.plot_pareto_front(study, target_names=[\"fair_metric\", \"f1_score\"], include_dominated_trials = True)"
   ]
  }
 ],
 "metadata": {
  "kernelspec": {
   "display_name": "Python 3.8.10 64-bit",
   "language": "python",
   "name": "python3"
  },
  "language_info": {
   "codemirror_mode": {
    "name": "ipython",
    "version": 3
   },
   "file_extension": ".py",
   "mimetype": "text/x-python",
   "name": "python",
   "nbconvert_exporter": "python",
   "pygments_lexer": "ipython3",
   "version": "3.8.10"
  },
  "orig_nbformat": 4,
  "vscode": {
   "interpreter": {
    "hash": "31f2aee4e71d21fbe5cf8b01ff0e069b9275f58929596ceb00d14d90e3e16cd6"
   }
  }
 },
 "nbformat": 4,
 "nbformat_minor": 2
}
