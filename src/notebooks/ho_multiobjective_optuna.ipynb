{
 "cells": [
  {
   "cell_type": "code",
   "execution_count": 1,
   "metadata": {},
   "outputs": [],
   "source": [
    "#! pip install fairlearn\n",
    "#! pip install lightgbm\n",
    "#! pip install optuna"
   ]
  },
  {
   "cell_type": "code",
   "execution_count": 7,
   "metadata": {},
   "outputs": [],
   "source": [
    "from sklearn.metrics import f1_score, confusion_matrix, make_scorer, accuracy_score, recall_score\n",
    "from sklearn.model_selection import cross_val_score, train_test_split, cross_validate\n",
    "from fairlearn.datasets import fetch_adult\n",
    "from sklearn.pipeline import Pipeline\n",
    "from sklearn.preprocessing import OneHotEncoder, StandardScaler\n",
    "from sklearn.compose import ColumnTransformer\n",
    "from sklearn.compose import make_column_selector as selector\n",
    "from sklearn.impute import SimpleImputer\n",
    "from sklearn.ensemble import RandomForestClassifier\n",
    "from lightgbm import LGBMClassifier\n",
    "\n",
    "import numpy as np\n",
    "import optuna\n",
    "import tqdm as notebook_tqdm\n",
    "from metrics import (\n",
    "    equality_opportunity_difference,\n",
    "    predictive_equality_difference,\n",
    "    metrics\n",
    ")\n",
    "\n",
    "from fairlearn.metrics import demographic_parity_difference\n"
   ]
  },
  {
   "cell_type": "code",
   "execution_count": 3,
   "metadata": {},
   "outputs": [
    {
     "name": "stderr",
     "output_type": "stream",
     "text": [
      "/home/azucena/miniconda3/envs/fairenv/lib/python3.10/site-packages/sklearn/datasets/_openml.py:968: FutureWarning: The default value of `parser` will change from `'liac-arff'` to `'auto'` in 1.4. You can set `parser='auto'` to silence this warning. Therefore, an `ImportError` will be raised from 1.4 if the dataset is dense and pandas is not installed. Note that the pandas parser may return different data types. See the Notes Section in fetch_openml's API doc for details.\n",
      "  warn(\n"
     ]
    }
   ],
   "source": [
    "data = fetch_adult(as_frame=True)\n",
    "X_raw = data.data\n",
    "y = (data.target == \">50K\") * 1\n",
    "A = X_raw[\"sex\"]\n",
    "\n",
    "numeric_transformer = Pipeline(\n",
    "    steps=[\n",
    "        (\"impute\", SimpleImputer()),\n",
    "        (\"scaler\", StandardScaler()),\n",
    "    ]\n",
    ")\n",
    "categorical_transformer = Pipeline(\n",
    "    [\n",
    "        (\"impute\", SimpleImputer(strategy=\"most_frequent\")),\n",
    "        (\"ohe\", OneHotEncoder(handle_unknown=\"ignore\")),\n",
    "    ]\n",
    ")\n",
    "preprocessor = ColumnTransformer(\n",
    "    transformers=[\n",
    "        (\"num\", numeric_transformer, selector(dtype_exclude=\"category\")),\n",
    "        (\"cat\", categorical_transformer, selector(dtype_include=\"category\")),\n",
    "    ]\n",
    ")\n",
    "\n",
    "pipeline = Pipeline(\n",
    "    steps=[\n",
    "        (\"preprocessor\", preprocessor),\n",
    "        (\n",
    "            \"classifier\",\n",
    "            LGBMClassifier(n_jobs=-1),\n",
    "        ),\n",
    "    ]\n",
    ")"
   ]
  },
  {
   "cell_type": "code",
   "execution_count": 4,
   "metadata": {},
   "outputs": [],
   "source": [
    "results = []"
   ]
  },
  {
   "cell_type": "code",
   "execution_count": 5,
   "metadata": {},
   "outputs": [
    {
     "name": "stderr",
     "output_type": "stream",
     "text": [
      "\u001b[32m[I 2023-05-15 09:43:08,183]\u001b[0m A new study created in memory with name: no-name-735d9eab-ceb0-4086-8710-ec9540b40bdb\u001b[0m\n"
     ]
    },
    {
     "name": "stdout",
     "output_type": "stream",
     "text": [
      "0\n"
     ]
    },
    {
     "name": "stderr",
     "output_type": "stream",
     "text": [
      "\u001b[32m[I 2023-05-15 09:43:20,303]\u001b[0m Trial 0 finished with values: [0.06523645275832397, 0.5990464686396164] and parameters: {'n_estimators': 1834, 'num_leaves': 505, 'max_depth': 5, 'min_child_samples': 111, 'learning_rate': 0.004084613385254694, 'boosting_type': 'goss'}. \u001b[0m\n",
      "\u001b[32m[I 2023-05-15 09:44:37,085]\u001b[0m Trial 1 finished with values: [0.08100287008851163, 0.6315745163710902] and parameters: {'n_estimators': 8901, 'num_leaves': 246, 'max_depth': 10, 'min_child_samples': 167, 'learning_rate': 0.007421868515780198, 'boosting_type': 'gbdt'}. \u001b[0m\n",
      "\u001b[32m[I 2023-05-15 09:47:44,462]\u001b[0m Trial 2 finished with values: [0.06444618532595413, 0.6345751203352916] and parameters: {'n_estimators': 8827, 'num_leaves': 664, 'max_depth': 20, 'min_child_samples': 100, 'learning_rate': 0.0011897051316088038, 'boosting_type': 'gbdt'}. \u001b[0m\n",
      "\u001b[32m[I 2023-05-15 09:47:51,176]\u001b[0m Trial 3 finished with values: [0.07036414649604118, 0.6191722030051795] and parameters: {'n_estimators': 459, 'num_leaves': 166, 'max_depth': 11, 'min_child_samples': 43, 'learning_rate': 0.009851526335134354, 'boosting_type': 'goss'}. \u001b[0m\n",
      "\u001b[32m[I 2023-05-15 09:48:34,690]\u001b[0m Trial 4 finished with values: [0.07619274774839166, 0.5960632515236369] and parameters: {'n_estimators': 6621, 'num_leaves': 660, 'max_depth': 6, 'min_child_samples': 193, 'learning_rate': 0.005178900668709406, 'boosting_type': 'goss'}. \u001b[0m\n",
      "\u001b[32m[I 2023-05-15 09:49:48,377]\u001b[0m Trial 5 finished with values: [0.0763767058823929, 0.6337121836051173] and parameters: {'n_estimators': 8915, 'num_leaves': 56, 'max_depth': 6, 'min_child_samples': 25, 'learning_rate': 0.00919076989010143, 'boosting_type': 'goss'}. \u001b[0m\n",
      "\u001b[32m[I 2023-05-15 09:50:39,842]\u001b[0m Trial 6 finished with values: [0.07780138052954426, 0.5866441552737056] and parameters: {'n_estimators': 5232, 'num_leaves': 832, 'max_depth': 7, 'min_child_samples': 190, 'learning_rate': 0.002148085311463172, 'boosting_type': 'goss'}. \u001b[0m\n",
      "\u001b[32m[I 2023-05-15 09:50:46,189]\u001b[0m Trial 7 finished with values: [0.0, 0.0] and parameters: {'n_estimators': 248, 'num_leaves': 601, 'max_depth': 7, 'min_child_samples': 34, 'learning_rate': 0.00023347811165136794, 'boosting_type': 'goss'}. \u001b[0m\n",
      "\u001b[32m[I 2023-05-15 09:51:25,674]\u001b[0m Trial 8 finished with values: [0.08031156293156232, 0.568247039660316] and parameters: {'n_estimators': 6741, 'num_leaves': 254, 'max_depth': 2, 'min_child_samples': 245, 'learning_rate': 0.006655873711623371, 'boosting_type': 'goss'}. \u001b[0m\n",
      "\u001b[32m[I 2023-05-15 09:56:31,036]\u001b[0m Trial 9 finished with values: [0.07673992417230248, 0.6255906952909095] and parameters: {'n_estimators': 9939, 'num_leaves': 380, 'max_depth': 16, 'min_child_samples': 41, 'learning_rate': 0.002463136438461901, 'boosting_type': 'gbdt'}. \u001b[0m\n",
      "\u001b[32m[I 2023-05-15 09:57:29,485]\u001b[0m Trial 10 finished with values: [0.0, 0.0] and parameters: {'n_estimators': 3405, 'num_leaves': 984, 'max_depth': 20, 'min_child_samples': 109, 'learning_rate': 2.7983684276845344e-05, 'boosting_type': 'gbdt'}. \u001b[0m\n",
      "\u001b[32m[I 2023-05-15 09:58:26,140]\u001b[0m Trial 11 finished with values: [0.0, 0.0603415143029704] and parameters: {'n_estimators': 7224, 'num_leaves': 682, 'max_depth': 17, 'min_child_samples': 299, 'learning_rate': 6.867640311023697e-05, 'boosting_type': 'gbdt'}. \u001b[0m\n",
      "\u001b[32m[I 2023-05-15 09:59:31,196]\u001b[0m Trial 12 finished with values: [0.06830765613941221, 0.6196013836270795] and parameters: {'n_estimators': 7643, 'num_leaves': 749, 'max_depth': 20, 'min_child_samples': 297, 'learning_rate': 0.0017953472330786307, 'boosting_type': 'gbdt'}. \u001b[0m\n",
      "\u001b[32m[I 2023-05-15 10:00:44,710]\u001b[0m Trial 13 finished with values: [0.07368638588628042, 0.635002470762642] and parameters: {'n_estimators': 5062, 'num_leaves': 483, 'max_depth': 16, 'min_child_samples': 94, 'learning_rate': 0.00369163140682779, 'boosting_type': 'gbdt'}. \u001b[0m\n",
      "\u001b[32m[I 2023-05-15 10:03:11,342]\u001b[0m Trial 14 finished with values: [0.06135305482955737, 0.6294432548179871] and parameters: {'n_estimators': 7954, 'num_leaves': 785, 'max_depth': 16, 'min_child_samples': 76, 'learning_rate': 0.001108208708460073, 'boosting_type': 'gbdt'}. \u001b[0m\n",
      "\u001b[32m[I 2023-05-15 10:04:44,931]\u001b[0m Trial 15 finished with values: [0.07074740654654041, 0.6345705448489175] and parameters: {'n_estimators': 6723, 'num_leaves': 920, 'max_depth': 15, 'min_child_samples': 138, 'learning_rate': 0.0033428999835006614, 'boosting_type': 'gbdt'}. \u001b[0m\n",
      "\u001b[32m[I 2023-05-15 10:06:03,344]\u001b[0m Trial 16 finished with values: [0.058646746693641026, 0.6144631124288511] and parameters: {'n_estimators': 4019, 'num_leaves': 816, 'max_depth': 14, 'min_child_samples': 72, 'learning_rate': 0.0011314599519015145, 'boosting_type': 'gbdt'}. \u001b[0m\n",
      "\u001b[32m[I 2023-05-15 10:09:05,032]\u001b[0m Trial 17 finished with values: [0.06460162352829592, 0.6153205585753765] and parameters: {'n_estimators': 3583, 'num_leaves': 868, 'max_depth': 13, 'min_child_samples': 10, 'learning_rate': 0.0028053308280496974, 'boosting_type': 'gbdt'}. \u001b[0m\n",
      "\u001b[32m[I 2023-05-15 10:11:10,633]\u001b[0m Trial 18 finished with values: [0.06876340149645406, 0.6397060707553213] and parameters: {'n_estimators': 3886, 'num_leaves': 999, 'max_depth': 13, 'min_child_samples': 73, 'learning_rate': 0.0049728946252015575, 'boosting_type': 'gbdt'}. \u001b[0m\n",
      "\u001b[32m[I 2023-05-15 10:11:43,163]\u001b[0m Trial 19 finished with values: [0.06168553700291268, 0.6059069529090942] and parameters: {'n_estimators': 2469, 'num_leaves': 717, 'max_depth': 18, 'min_child_samples': 139, 'learning_rate': 0.0016336316362734254, 'boosting_type': 'gbdt'}. \u001b[0m\n",
      "\u001b[32m[I 2023-05-15 10:11:57,511]\u001b[0m Trial 20 finished with values: [0.03274047718476899, 0.39195995534325295] and parameters: {'n_estimators': 1862, 'num_leaves': 574, 'max_depth': 11, 'min_child_samples': 227, 'learning_rate': 0.0005801683983722838, 'boosting_type': 'gbdt'}. \u001b[0m\n",
      "\u001b[32m[I 2023-05-15 10:12:09,248]\u001b[0m Trial 21 finished with values: [0.04815056842450677, 0.49079686670693096] and parameters: {'n_estimators': 1596, 'num_leaves': 584, 'max_depth': 10, 'min_child_samples': 242, 'learning_rate': 0.0010963941108183973, 'boosting_type': 'gbdt'}. \u001b[0m\n",
      "\u001b[32m[I 2023-05-15 10:12:23,213]\u001b[0m Trial 22 finished with values: [0.051481369708705704, 0.5109061293215468] and parameters: {'n_estimators': 1866, 'num_leaves': 414, 'max_depth': 10, 'min_child_samples': 240, 'learning_rate': 0.0010222735692377457, 'boosting_type': 'gbdt'}. \u001b[0m\n",
      "\u001b[32m[I 2023-05-15 10:12:33,364]\u001b[0m Trial 23 finished with values: [0.06028283448345909, 0.5618239718882118] and parameters: {'n_estimators': 1176, 'num_leaves': 585, 'max_depth': 12, 'min_child_samples': 246, 'learning_rate': 0.002606852215038203, 'boosting_type': 'gbdt'}. \u001b[0m\n",
      "\u001b[32m[I 2023-05-15 10:12:52,719]\u001b[0m Trial 24 finished with values: [0.05369536234449781, 0.5267382272735592] and parameters: {'n_estimators': 2565, 'num_leaves': 583, 'max_depth': 9, 'min_child_samples': 271, 'learning_rate': 0.0009013166827618615, 'boosting_type': 'gbdt'}. \u001b[0m\n",
      "\u001b[32m[I 2023-05-15 10:13:33,370]\u001b[0m Trial 25 finished with values: [0.06635836239078055, 0.6195949779461557] and parameters: {'n_estimators': 4510, 'num_leaves': 391, 'max_depth': 14, 'min_child_samples': 218, 'learning_rate': 0.0019231929275577864, 'boosting_type': 'gbdt'}. \u001b[0m\n",
      "\u001b[32m[I 2023-05-15 10:13:48,313]\u001b[0m Trial 26 finished with values: [0.025331664175647396, 0.35857995204890275] and parameters: {'n_estimators': 1327, 'num_leaves': 452, 'max_depth': 9, 'min_child_samples': 208, 'learning_rate': 0.0006983644050484796, 'boosting_type': 'gbdt'}. \u001b[0m\n",
      "\u001b[32m[I 2023-05-15 10:13:57,329]\u001b[0m Trial 27 finished with values: [0.03337950448981014, 0.4539980599937773] and parameters: {'n_estimators': 820, 'num_leaves': 453, 'max_depth': 8, 'min_child_samples': 205, 'learning_rate': 0.0015326076236849158, 'boosting_type': 'gbdt'}. \u001b[0m\n",
      "\u001b[32m[I 2023-05-15 10:14:00,515]\u001b[0m Trial 28 finished with values: [0.04345051513265495, 0.47582038470689436] and parameters: {'n_estimators': 693, 'num_leaves': 317, 'max_depth': 3, 'min_child_samples': 180, 'learning_rate': 0.0027647563873489573, 'boosting_type': 'gbdt'}. \u001b[0m\n",
      "\u001b[32m[I 2023-05-15 10:14:15,521]\u001b[0m Trial 29 finished with values: [0.06874161092903922, 0.5930599022676111] and parameters: {'n_estimators': 2733, 'num_leaves': 487, 'max_depth': 4, 'min_child_samples': 145, 'learning_rate': 0.004028014673769708, 'boosting_type': 'goss'}. \u001b[0m\n",
      "\u001b[32m[I 2023-05-15 10:14:23,939]\u001b[0m Trial 30 finished with values: [0.07500824605837515, 0.5699564413697177] and parameters: {'n_estimators': 1134, 'num_leaves': 33, 'max_depth': 9, 'min_child_samples': 160, 'learning_rate': 0.0033869888220174806, 'boosting_type': 'goss'}. \u001b[0m\n",
      "\u001b[32m[I 2023-05-15 10:14:41,244]\u001b[0m Trial 31 finished with values: [0.055487662421203954, 0.5571194567982577] and parameters: {'n_estimators': 1920, 'num_leaves': 420, 'max_depth': 8, 'min_child_samples': 206, 'learning_rate': 0.0016158649749072039, 'boosting_type': 'gbdt'}. \u001b[0m\n",
      "\u001b[32m[I 2023-05-15 10:14:49,662]\u001b[0m Trial 32 finished with values: [0.0634537748084864, 0.5943465290360365] and parameters: {'n_estimators': 1092, 'num_leaves': 446, 'max_depth': 8, 'min_child_samples': 208, 'learning_rate': 0.004418001307705365, 'boosting_type': 'gbdt'}. \u001b[0m\n",
      "\u001b[32m[I 2023-05-15 10:15:31,558]\u001b[0m Trial 33 finished with values: [0.06337261976077631, 0.5772323798019731] and parameters: {'n_estimators': 5567, 'num_leaves': 315, 'max_depth': 10, 'min_child_samples': 270, 'learning_rate': 0.0007012921393619937, 'boosting_type': 'gbdt'}. \u001b[0m\n",
      "\u001b[32m[I 2023-05-15 10:15:32,622]\u001b[0m Trial 34 finished with values: [0.0, 0.0] and parameters: {'n_estimators': 67, 'num_leaves': 159, 'max_depth': 4, 'min_child_samples': 125, 'learning_rate': 0.001589988373954428, 'boosting_type': 'gbdt'}. \u001b[0m\n",
      "\u001b[32m[I 2023-05-15 10:15:44,334]\u001b[0m Trial 35 finished with values: [0.06582750126699176, 0.630721645710939] and parameters: {'n_estimators': 2880, 'num_leaves': 341, 'max_depth': 5, 'min_child_samples': 173, 'learning_rate': 0.00586529833217133, 'boosting_type': 'gbdt'}. \u001b[0m\n",
      "\u001b[32m[I 2023-05-15 10:16:10,707]\u001b[0m Trial 36 finished with values: [0.0863240828943083, 0.5626887388129358] and parameters: {'n_estimators': 5889, 'num_leaves': 194, 'max_depth': 11, 'min_child_samples': 273, 'learning_rate': 0.0031289006808367455, 'boosting_type': 'goss'}. \u001b[0m\n",
      "\u001b[32m[I 2023-05-15 10:16:15,068]\u001b[0m Trial 37 finished with values: [0.06280247913185337, 0.5913532458500338] and parameters: {'n_estimators': 720, 'num_leaves': 526, 'max_depth': 6, 'min_child_samples': 189, 'learning_rate': 0.007845703897007839, 'boosting_type': 'gbdt'}. \u001b[0m\n",
      "\u001b[32m[I 2023-05-15 10:16:36,443]\u001b[0m Trial 38 finished with values: [0.08419146747982072, 0.57424092681052] and parameters: {'n_estimators': 4301, 'num_leaves': 106, 'max_depth': 8, 'min_child_samples': 226, 'learning_rate': 0.002352223985538811, 'boosting_type': 'goss'}. \u001b[0m\n",
      "\u001b[32m[I 2023-05-15 10:16:50,596]\u001b[0m Trial 39 finished with values: [0.025035733520619708, 0.4193332601255514] and parameters: {'n_estimators': 1688, 'num_leaves': 654, 'max_depth': 7, 'min_child_samples': 68, 'learning_rate': 0.0005959381533789691, 'boosting_type': 'gbdt'}. \u001b[0m\n",
      "\u001b[32m[I 2023-05-15 10:17:26,619]\u001b[0m Trial 40 finished with values: [0.055315880648104596, 0.5789536777759476] and parameters: {'n_estimators': 2169, 'num_leaves': 819, 'max_depth': 12, 'min_child_samples': 75, 'learning_rate': 0.0013785046530677082, 'boosting_type': 'gbdt'}. \u001b[0m\n",
      "\u001b[32m[I 2023-05-15 10:17:44,616]\u001b[0m Trial 41 finished with values: [0.04783349044344429, 0.5434296015666465] and parameters: {'n_estimators': 2125, 'num_leaves': 630, 'max_depth': 7, 'min_child_samples': 55, 'learning_rate': 0.001281157979233184, 'boosting_type': 'gbdt'}. \u001b[0m\n",
      "\u001b[32m[I 2023-05-15 10:18:05,624]\u001b[0m Trial 42 finished with values: [0.054823744010279604, 0.5823688208056517] and parameters: {'n_estimators': 2175, 'num_leaves': 771, 'max_depth': 7, 'min_child_samples': 63, 'learning_rate': 0.0020980602585053037, 'boosting_type': 'gbdt'}. \u001b[0m\n",
      "\u001b[32m[I 2023-05-15 10:18:29,945]\u001b[0m Trial 43 finished with values: [0.05469308369835189, 0.6127537107194494] and parameters: {'n_estimators': 3164, 'num_leaves': 764, 'max_depth': 7, 'min_child_samples': 52, 'learning_rate': 0.00213847864125541, 'boosting_type': 'gbdt'}. \u001b[0m\n",
      "\u001b[32m[I 2023-05-15 10:18:45,661]\u001b[0m Trial 44 finished with values: [0.033091049580453794, 0.44245227767711703] and parameters: {'n_estimators': 3138, 'num_leaves': 656, 'max_depth': 5, 'min_child_samples': 58, 'learning_rate': 0.0003510578705484036, 'boosting_type': 'gbdt'}. \u001b[0m\n",
      "\u001b[32m[I 2023-05-15 10:18:50,649]\u001b[0m Trial 45 finished with values: [0.0, 0.0] and parameters: {'n_estimators': 497, 'num_leaves': 649, 'max_depth': 7, 'min_child_samples': 97, 'learning_rate': 3.10022401576271e-05, 'boosting_type': 'goss'}. \u001b[0m\n",
      "\u001b[32m[I 2023-05-15 10:19:09,847]\u001b[0m Trial 46 finished with values: [0.05607411502080624, 0.6046166657515695] and parameters: {'n_estimators': 3203, 'num_leaves': 706, 'max_depth': 6, 'min_child_samples': 48, 'learning_rate': 0.0019895164246875926, 'boosting_type': 'gbdt'}. \u001b[0m\n",
      "\u001b[32m[I 2023-05-15 10:19:20,649]\u001b[0m Trial 47 finished with values: [0.046453003008361526, 0.5511310602317026] and parameters: {'n_estimators': 1440, 'num_leaves': 536, 'max_depth': 6, 'min_child_samples': 28, 'learning_rate': 0.0022325422970623137, 'boosting_type': 'gbdt'}. \u001b[0m\n",
      "\u001b[32m[I 2023-05-15 10:20:16,843]\u001b[0m Trial 48 finished with values: [0.058880470569552236, 0.6285812331850875] and parameters: {'n_estimators': 9862, 'num_leaves': 531, 'max_depth': 4, 'min_child_samples': 25, 'learning_rate': 0.002179478025840902, 'boosting_type': 'goss'}. \u001b[0m\n",
      "\u001b[32m[I 2023-05-15 10:20:22,042]\u001b[0m Trial 49 finished with values: [0.05154787959033409, 0.5233203389520307] and parameters: {'n_estimators': 1473, 'num_leaves': 509, 'max_depth': 2, 'min_child_samples': 24, 'learning_rate': 0.0031100361144678758, 'boosting_type': 'goss'}. \u001b[0m\n",
      "\u001b[32m[I 2023-05-15 10:21:08,139]\u001b[0m Trial 50 finished with values: [0.060320571663663024, 0.6315763465656399] and parameters: {'n_estimators': 8703, 'num_leaves': 532, 'max_depth': 4, 'min_child_samples': 8, 'learning_rate': 0.0021533515763670404, 'boosting_type': 'goss'}. \u001b[0m\n",
      "\u001b[32m[I 2023-05-15 10:22:32,428]\u001b[0m Trial 51 finished with values: [0.06907621636931932, 0.5648209154633137] and parameters: {'n_estimators': 8122, 'num_leaves': 693, 'max_depth': 18, 'min_child_samples': 123, 'learning_rate': 0.000380734862349668, 'boosting_type': 'goss'}. \u001b[0m\n",
      "\u001b[32m[I 2023-05-15 10:22:41,125]\u001b[0m Trial 52 finished with values: [0.05788902086679374, 0.6097512765606984] and parameters: {'n_estimators': 839, 'num_leaves': 734, 'max_depth': 6, 'min_child_samples': 6, 'learning_rate': 0.00970041391412771, 'boosting_type': 'gbdt'}. \u001b[0m\n",
      "\u001b[32m[I 2023-05-15 10:23:16,353]\u001b[0m Trial 53 finished with values: [0.04583873366173746, 0.5010679185197386] and parameters: {'n_estimators': 9159, 'num_leaves': 910, 'max_depth': 3, 'min_child_samples': 85, 'learning_rate': 0.0003118557452066346, 'boosting_type': 'gbdt'}. \u001b[0m\n",
      "\u001b[32m[I 2023-05-15 10:23:45,695]\u001b[0m Trial 54 finished with values: [0.06865723108158155, 0.6337121836051172] and parameters: {'n_estimators': 6147, 'num_leaves': 623, 'max_depth': 5, 'min_child_samples': 20, 'learning_rate': 0.0075749829484264624, 'boosting_type': 'gbdt'}. \u001b[0m\n",
      "\u001b[32m[I 2023-05-15 10:23:48,825]\u001b[0m Trial 55 finished with values: [0.0, 0.0] and parameters: {'n_estimators': 304, 'num_leaves': 684, 'max_depth': 6, 'min_child_samples': 39, 'learning_rate': 2.5557883063865357e-05, 'boosting_type': 'gbdt'}. \u001b[0m\n",
      "\u001b[32m[I 2023-05-15 10:24:06,707]\u001b[0m Trial 56 finished with values: [0.03365912143740738, 0.4544327311993265] and parameters: {'n_estimators': 1741, 'num_leaves': 779, 'max_depth': 8, 'min_child_samples': 110, 'learning_rate': 0.0008198116630444598, 'boosting_type': 'goss'}. \u001b[0m\n",
      "\u001b[32m[I 2023-05-15 10:25:58,765]\u001b[0m Trial 57 finished with values: [0.08510833139916703, 0.6225992422994565] and parameters: {'n_estimators': 7238, 'num_leaves': 551, 'max_depth': 19, 'min_child_samples': 87, 'learning_rate': 0.008245464831184011, 'boosting_type': 'gbdt'}. \u001b[0m\n",
      "\u001b[32m[I 2023-05-15 10:26:34,906]\u001b[0m Trial 58 finished with values: [0.06030905842732245, 0.6058996321308955] and parameters: {'n_estimators': 4812, 'num_leaves': 858, 'max_depth': 7, 'min_child_samples': 124, 'learning_rate': 0.0013151568056790188, 'boosting_type': 'gbdt'}. \u001b[0m\n",
      "\u001b[32m[I 2023-05-15 10:27:17,253]\u001b[0m Trial 59 finished with values: [0.06943825558315757, 0.6320027818957155] and parameters: {'n_estimators': 3732, 'num_leaves': 616, 'max_depth': 9, 'min_child_samples': 36, 'learning_rate': 0.0065634948547280405, 'boosting_type': 'gbdt'}. \u001b[0m\n",
      "\u001b[32m[I 2023-05-15 10:35:57,471]\u001b[0m Trial 60 finished with values: [0.06468312724832397, 0.6153251340617507] and parameters: {'n_estimators': 8568, 'num_leaves': 954, 'max_depth': 17, 'min_child_samples': 15, 'learning_rate': 0.0005420931439868082, 'boosting_type': 'gbdt'}. \u001b[0m\n",
      "\u001b[32m[I 2023-05-15 10:36:08,615]\u001b[0m Trial 61 finished with values: [0.06615889707371173, 0.6054731968008199] and parameters: {'n_estimators': 2402, 'num_leaves': 674, 'max_depth': 7, 'min_child_samples': 182, 'learning_rate': 0.0026315824403609234, 'boosting_type': 'gbdt'}. \u001b[0m\n",
      "\u001b[32m[I 2023-05-15 10:36:16,681]\u001b[0m Trial 62 finished with values: [0.06632052224602075, 0.5862140595545307] and parameters: {'n_estimators': 1519, 'num_leaves': 728, 'max_depth': 3, 'min_child_samples': 162, 'learning_rate': 0.008633707739863652, 'boosting_type': 'goss'}. \u001b[0m\n",
      "\u001b[32m[I 2023-05-15 10:36:26,696]\u001b[0m Trial 63 finished with values: [0.03710813987533105, 0.49079686670693096] and parameters: {'n_estimators': 855, 'num_leaves': 555, 'max_depth': 8, 'min_child_samples': 48, 'learning_rate': 0.0017830275164301202, 'boosting_type': 'gbdt'}. \u001b[0m\n",
      "\u001b[32m[I 2023-05-15 10:36:39,371]\u001b[0m Trial 64 finished with values: [0.023691725858578327, 0.4107771006057944] and parameters: {'n_estimators': 953, 'num_leaves': 550, 'max_depth': 8, 'min_child_samples': 49, 'learning_rate': 0.0009548092908733389, 'boosting_type': 'gbdt'}. \u001b[0m\n",
      "\u001b[32m[I 2023-05-15 10:36:57,181]\u001b[0m Trial 65 finished with values: [0.043709755452535574, 0.5091985578066949] and parameters: {'n_estimators': 917, 'num_leaves': 470, 'max_depth': 10, 'min_child_samples': 52, 'learning_rate': 0.0018609903770449524, 'boosting_type': 'gbdt'}. \u001b[0m\n",
      "\u001b[32m[I 2023-05-15 10:36:59,517]\u001b[0m Trial 66 finished with values: [0.0, 0.0] and parameters: {'n_estimators': 82, 'num_leaves': 572, 'max_depth': 8, 'min_child_samples': 32, 'learning_rate': 0.0023847180640288457, 'boosting_type': 'goss'}. \u001b[0m\n",
      "\u001b[32m[I 2023-05-15 10:37:12,689]\u001b[0m Trial 67 finished with values: [0.0025445245538562667, 0.21480352861509178] and parameters: {'n_estimators': 472, 'num_leaves': 256, 'max_depth': 9, 'min_child_samples': 46, 'learning_rate': 0.0010244311137865875, 'boosting_type': 'gbdt'}. \u001b[0m\n",
      "\u001b[32m[I 2023-05-15 10:37:53,848]\u001b[0m Trial 68 finished with values: [0.0027631037888289447, 0.2250754955251743] and parameters: {'n_estimators': 516, 'num_leaves': 262, 'max_depth': 9, 'min_child_samples': 47, 'learning_rate': 0.0009895254573163432, 'boosting_type': 'gbdt'}. \u001b[0m\n",
      "\u001b[32m[I 2023-05-15 10:38:18,795]\u001b[0m Trial 69 finished with values: [0.04825112875818223, 0.5310199674225371] and parameters: {'n_estimators': 1330, 'num_leaves': 498, 'max_depth': 11, 'min_child_samples': 87, 'learning_rate': 0.0015739657807678658, 'boosting_type': 'gbdt'}. \u001b[0m\n",
      "\u001b[32m[I 2023-05-15 10:38:38,209]\u001b[0m Trial 70 finished with values: [0.039543638870611, 0.5104806090887462] and parameters: {'n_estimators': 1046, 'num_leaves': 361, 'max_depth': 8, 'min_child_samples': 30, 'learning_rate': 0.0017094913096000674, 'boosting_type': 'gbdt'}. \u001b[0m\n",
      "\u001b[32m[I 2023-05-15 10:38:52,285]\u001b[0m Trial 71 finished with values: [0.051939265546452465, 0.5887918885777559] and parameters: {'n_estimators': 907, 'num_leaves': 349, 'max_depth': 8, 'min_child_samples': 32, 'learning_rate': 0.004861982012410206, 'boosting_type': 'gbdt'}. \u001b[0m\n",
      "\u001b[32m[I 2023-05-15 10:39:01,937]\u001b[0m Trial 72 finished with values: [0.0027672417030767562, 0.20196928933545638] and parameters: {'n_estimators': 515, 'num_leaves': 369, 'max_depth': 10, 'min_child_samples': 64, 'learning_rate': 0.0008960429683408771, 'boosting_type': 'gbdt'}. \u001b[0m\n",
      "\u001b[32m[I 2023-05-15 10:39:23,188]\u001b[0m Trial 73 finished with values: [0.040469855892777115, 0.4993530262266879] and parameters: {'n_estimators': 1164, 'num_leaves': 277, 'max_depth': 9, 'min_child_samples': 35, 'learning_rate': 0.0013735791804714806, 'boosting_type': 'gbdt'}. \u001b[0m\n",
      "\u001b[32m[I 2023-05-15 10:39:26,607]\u001b[0m Trial 74 finished with values: [0.00861673774790823, 0.30766668496861216] and parameters: {'n_estimators': 154, 'num_leaves': 192, 'max_depth': 8, 'min_child_samples': 31, 'learning_rate': 0.004500205651830595, 'boosting_type': 'gbdt'}. \u001b[0m\n",
      "\u001b[32m[I 2023-05-15 10:39:30,829]\u001b[0m Trial 75 finished with values: [0.03378795890045021, 0.4758185545123446] and parameters: {'n_estimators': 328, 'num_leaves': 195, 'max_depth': 6, 'min_child_samples': 12, 'learning_rate': 0.0038339514329609127, 'boosting_type': 'gbdt'}. \u001b[0m\n",
      "\u001b[32m[I 2023-05-15 10:39:32,788]\u001b[0m Trial 76 finished with values: [0.0, 0.0] and parameters: {'n_estimators': 107, 'num_leaves': 217, 'max_depth': 6, 'min_child_samples': 16, 'learning_rate': 0.003801101547428799, 'boosting_type': 'gbdt'}. \u001b[0m\n",
      "\u001b[32m[I 2023-05-15 10:39:42,423]\u001b[0m Trial 77 finished with values: [0.03136491138544072, 0.50492871392229] and parameters: {'n_estimators': 327, 'num_leaves': 134, 'max_depth': 9, 'min_child_samples': 5, 'learning_rate': 0.00448665676268027, 'boosting_type': 'gbdt'}. \u001b[0m\n",
      "\u001b[32m[I 2023-05-15 10:39:58,972]\u001b[0m Trial 78 finished with values: [0.05213922850871998, 0.5866505609546295] and parameters: {'n_estimators': 653, 'num_leaves': 109, 'max_depth': 11, 'min_child_samples': 8, 'learning_rate': 0.00458152021985147, 'boosting_type': 'gbdt'}. \u001b[0m\n",
      "\u001b[32m[I 2023-05-15 10:40:04,311]\u001b[0m Trial 79 finished with values: [0.029425351398624455, 0.46940372261571406] and parameters: {'n_estimators': 235, 'num_leaves': 127, 'max_depth': 9, 'min_child_samples': 24, 'learning_rate': 0.005242234153298431, 'boosting_type': 'gbdt'}. \u001b[0m\n",
      "\u001b[32m[I 2023-05-15 10:40:11,452]\u001b[0m Trial 80 finished with values: [0.03399480995691274, 0.4946558319149326] and parameters: {'n_estimators': 261, 'num_leaves': 126, 'max_depth': 10, 'min_child_samples': 21, 'learning_rate': 0.0052919376604761105, 'boosting_type': 'gbdt'}. \u001b[0m\n",
      "\u001b[32m[I 2023-05-15 10:40:13,497]\u001b[0m Trial 81 finished with values: [0.0, 0.0] and parameters: {'n_estimators': 78, 'num_leaves': 61, 'max_depth': 9, 'min_child_samples': 42, 'learning_rate': 0.004153208693089686, 'boosting_type': 'gbdt'}. \u001b[0m\n",
      "\u001b[32m[I 2023-05-15 10:40:22,883]\u001b[0m Trial 82 finished with values: [0.04709715248410927, 0.5532760482439284] and parameters: {'n_estimators': 500, 'num_leaves': 148, 'max_depth': 9, 'min_child_samples': 29, 'learning_rate': 0.004870240861149738, 'boosting_type': 'gbdt'}. \u001b[0m\n",
      "\u001b[32m[I 2023-05-15 10:40:33,315]\u001b[0m Trial 83 finished with values: [0.05944816634112963, 0.6093257563278976] and parameters: {'n_estimators': 1330, 'num_leaves': 222, 'max_depth': 7, 'min_child_samples': 6, 'learning_rate': 0.0053607792925213, 'boosting_type': 'gbdt'}. \u001b[0m\n",
      "\u001b[32m[I 2023-05-15 10:40:41,645]\u001b[0m Trial 84 finished with values: [0.06505590249605868, 0.5832280971467269] and parameters: {'n_estimators': 676, 'num_leaves': 294, 'max_depth': 12, 'min_child_samples': 59, 'learning_rate': 0.004466821504880217, 'boosting_type': 'goss'}. \u001b[0m\n",
      "\u001b[32m[I 2023-05-15 10:40:47,317]\u001b[0m Trial 85 finished with values: [0.03332259073844322, 0.49550870257508367] and parameters: {'n_estimators': 360, 'num_leaves': 88, 'max_depth': 8, 'min_child_samples': 17, 'learning_rate': 0.004237253753229692, 'boosting_type': 'gbdt'}. \u001b[0m\n",
      "\u001b[32m[I 2023-05-15 10:41:03,151]\u001b[0m Trial 86 finished with values: [0.052678816455338916, 0.5943465290360365] and parameters: {'n_estimators': 1035, 'num_leaves': 182, 'max_depth': 9, 'min_child_samples': 28, 'learning_rate': 0.0036843036117937674, 'boosting_type': 'gbdt'}. \u001b[0m\n",
      "\u001b[32m[I 2023-05-15 10:41:16,060]\u001b[0m Trial 87 finished with values: [0.052914941200026835, 0.5875089221984297] and parameters: {'n_estimators': 755, 'num_leaves': 138, 'max_depth': 10, 'min_child_samples': 42, 'learning_rate': 0.004684545910721827, 'boosting_type': 'gbdt'}. \u001b[0m\n",
      "\u001b[32m[I 2023-05-15 10:42:14,620]\u001b[0m Trial 88 finished with values: [0.06915577572689058, 0.6277311078167609] and parameters: {'n_estimators': 6351, 'num_leaves': 233, 'max_depth': 7, 'min_child_samples': 37, 'learning_rate': 0.005796797616084225, 'boosting_type': 'goss'}. \u001b[0m\n",
      "\u001b[32m[I 2023-05-15 10:42:15,501]\u001b[0m Trial 89 finished with values: [0.0, 0.0] and parameters: {'n_estimators': 22, 'num_leaves': 14, 'max_depth': 8, 'min_child_samples': 79, 'learning_rate': 0.003512630036363033, 'boosting_type': 'gbdt'}. \u001b[0m\n",
      "\u001b[32m[I 2023-05-15 10:43:56,163]\u001b[0m Trial 90 finished with values: [0.07938326711971563, 0.6337158439942165] and parameters: {'n_estimators': 7010, 'num_leaves': 72, 'max_depth': 15, 'min_child_samples': 53, 'learning_rate': 0.004012247873625795, 'boosting_type': 'gbdt'}. \u001b[0m\n",
      "\u001b[32m[I 2023-05-15 10:47:00,781]\u001b[0m Trial 91 finished with values: [0.07698505301896152, 0.627731107816761] and parameters: {'n_estimators': 5275, 'num_leaves': 173, 'max_depth': 13, 'min_child_samples': 22, 'learning_rate': 0.005058235452834982, 'boosting_type': 'gbdt'}. \u001b[0m\n",
      "\u001b[32m[I 2023-05-15 10:47:08,001]\u001b[0m Trial 92 finished with values: [0.05163717188328112, 0.5485632972785006] and parameters: {'n_estimators': 570, 'num_leaves': 252, 'max_depth': 8, 'min_child_samples': 70, 'learning_rate': 0.004361645687722574, 'boosting_type': 'goss'}. \u001b[0m\n",
      "\u001b[32m[I 2023-05-15 10:47:16,602]\u001b[0m Trial 93 finished with values: [0.01991618636141198, 0.4223256282142792] and parameters: {'n_estimators': 283, 'num_leaves': 211, 'max_depth': 9, 'min_child_samples': 11, 'learning_rate': 0.00304733000712544, 'boosting_type': 'gbdt'}. \u001b[0m\n",
      "\u001b[32m[I 2023-05-15 10:47:30,408]\u001b[0m Trial 94 finished with values: [0.024922183301660832, 0.465552993283186] and parameters: {'n_estimators': 317, 'num_leaves': 204, 'max_depth': 11, 'min_child_samples': 5, 'learning_rate': 0.00304253837201142, 'boosting_type': 'gbdt'}. \u001b[0m\n",
      "\u001b[32m[I 2023-05-15 10:47:38,374]\u001b[0m Trial 95 finished with values: [0.026656973972193233, 0.45313695345815264] and parameters: {'n_estimators': 338, 'num_leaves': 285, 'max_depth': 11, 'min_child_samples': 12, 'learning_rate': 0.0029346684690774215, 'boosting_type': 'gbdt'}. \u001b[0m\n",
      "\u001b[32m[I 2023-05-15 10:49:34,272]\u001b[0m Trial 96 finished with values: [0.060440951468221725, 0.6114615933673749] and parameters: {'n_estimators': 4089, 'num_leaves': 201, 'max_depth': 10, 'min_child_samples': 6, 'learning_rate': 0.0035409250689971607, 'boosting_type': 'gbdt'}. \u001b[0m\n",
      "\u001b[32m[I 2023-05-15 10:50:25,828]\u001b[0m Trial 97 finished with values: [0.05729309416187236, 0.6024826589066418] and parameters: {'n_estimators': 1302, 'num_leaves': 168, 'max_depth': 12, 'min_child_samples': 16, 'learning_rate': 0.0030103110665839036, 'boosting_type': 'gbdt'}. \u001b[0m\n",
      "\u001b[32m[I 2023-05-15 10:51:19,265]\u001b[0m Trial 98 finished with values: [0.05055808523400711, 0.5678260949138894] and parameters: {'n_estimators': 666, 'num_leaves': 318, 'max_depth': 13, 'min_child_samples': 5, 'learning_rate': 0.003359740302306493, 'boosting_type': 'gbdt'}. \u001b[0m\n",
      "\u001b[32m[I 2023-05-15 10:52:25,768]\u001b[0m Trial 99 finished with values: [0.06708228999327435, 0.632429217225791] and parameters: {'n_estimators': 9537, 'num_leaves': 205, 'max_depth': 5, 'min_child_samples': 32, 'learning_rate': 0.002633869808304527, 'boosting_type': 'gbdt'}. \u001b[0m\n",
      "\u001b[32m[I 2023-05-15 10:52:25,779]\u001b[0m A new study created in memory with name: no-name-fc6f5b97-d417-4ff2-a715-e67ace3f5f58\u001b[0m\n"
     ]
    },
    {
     "name": "stdout",
     "output_type": "stream",
     "text": [
      "Number of finished trials:  100\n",
      "1\n"
     ]
    },
    {
     "name": "stderr",
     "output_type": "stream",
     "text": [
      "\u001b[32m[I 2023-05-15 10:52:45,597]\u001b[0m Trial 0 finished with values: [0.08349466155755599, 0.6302942952835886] and parameters: {'n_estimators': 6468, 'num_leaves': 811, 'max_depth': 4, 'min_child_samples': 151, 'learning_rate': 0.00668890232386543, 'boosting_type': 'gbdt'}. \u001b[0m\n",
      "\u001b[32m[I 2023-05-15 10:53:46,544]\u001b[0m Trial 1 finished with values: [0.09811034201778757, 0.6277256172331118] and parameters: {'n_estimators': 5137, 'num_leaves': 971, 'max_depth': 13, 'min_child_samples': 240, 'learning_rate': 0.009861946043767443, 'boosting_type': 'gbdt'}. \u001b[0m\n",
      "\u001b[32m[I 2023-05-15 10:54:35,947]\u001b[0m Trial 2 finished with values: [0.054038982731674276, 0.4719742308607405] and parameters: {'n_estimators': 4183, 'num_leaves': 566, 'max_depth': 11, 'min_child_samples': 263, 'learning_rate': 0.0003494389351289893, 'boosting_type': 'gbdt'}. \u001b[0m\n",
      "\u001b[32m[I 2023-05-15 10:54:45,683]\u001b[0m Trial 3 finished with values: [0.07991337575886587, 0.6058978019363459] and parameters: {'n_estimators': 1117, 'num_leaves': 433, 'max_depth': 6, 'min_child_samples': 218, 'learning_rate': 0.0067427920056065144, 'boosting_type': 'gbdt'}. \u001b[0m\n",
      "\u001b[32m[I 2023-05-15 10:55:18,885]\u001b[0m Trial 4 finished with values: [0.08759745771339833, 0.6328583978476912] and parameters: {'n_estimators': 1754, 'num_leaves': 707, 'max_depth': 10, 'min_child_samples': 37, 'learning_rate': 0.009916543807931983, 'boosting_type': 'gbdt'}. \u001b[0m\n",
      "\u001b[32m[I 2023-05-15 10:55:38,484]\u001b[0m Trial 5 finished with values: [0.08103342953905553, 0.6016242976628416] and parameters: {'n_estimators': 5216, 'num_leaves': 665, 'max_depth': 3, 'min_child_samples': 298, 'learning_rate': 0.003951256151945379, 'boosting_type': 'gbdt'}. \u001b[0m\n",
      "\u001b[32m[I 2023-05-15 10:56:21,752]\u001b[0m Trial 6 finished with values: [0.09000596517986395, 0.6427030143304233] and parameters: {'n_estimators': 1628, 'num_leaves': 515, 'max_depth': 15, 'min_child_samples': 53, 'learning_rate': 0.009590442049983307, 'boosting_type': 'gbdt'}. \u001b[0m\n",
      "\u001b[32m[I 2023-05-15 10:57:15,660]\u001b[0m Trial 7 finished with values: [0.10183851310740288, 0.623879463386958] and parameters: {'n_estimators': 5166, 'num_leaves': 310, 'max_depth': 12, 'min_child_samples': 92, 'learning_rate': 0.009417233527881883, 'boosting_type': 'goss'}. \u001b[0m\n",
      "\u001b[32m[I 2023-05-15 10:57:45,170]\u001b[0m Trial 8 finished with values: [0.09815254644747487, 0.5969216127674372] and parameters: {'n_estimators': 4654, 'num_leaves': 799, 'max_depth': 6, 'min_child_samples': 229, 'learning_rate': 0.006607007697487916, 'boosting_type': 'goss'}. \u001b[0m\n",
      "\u001b[32m[I 2023-05-15 10:58:05,021]\u001b[0m Trial 9 finished with values: [0.09402125636081539, 0.596492432145537] and parameters: {'n_estimators': 2452, 'num_leaves': 846, 'max_depth': 10, 'min_child_samples': 200, 'learning_rate': 0.006800599250598183, 'boosting_type': 'goss'}. \u001b[0m\n",
      "\u001b[32m[I 2023-05-15 10:59:07,081]\u001b[0m Trial 10 finished with values: [0.09774139407867734, 0.6131892970222734] and parameters: {'n_estimators': 8640, 'num_leaves': 24, 'max_depth': 19, 'min_child_samples': 154, 'learning_rate': 0.004482543089099454, 'boosting_type': 'goss'}. \u001b[0m\n",
      "\u001b[32m[I 2023-05-15 10:59:29,971]\u001b[0m Trial 11 finished with values: [0.057381744772638764, 0.4852349054704515] and parameters: {'n_estimators': 3493, 'num_leaves': 369, 'max_depth': 7, 'min_child_samples': 292, 'learning_rate': 0.000463196574077825, 'boosting_type': 'gbdt'}. \u001b[0m\n",
      "\u001b[32m[I 2023-05-15 10:59:31,299]\u001b[0m Trial 12 finished with values: [0.0, 0.0] and parameters: {'n_estimators': 47, 'num_leaves': 324, 'max_depth': 7, 'min_child_samples': 299, 'learning_rate': 0.0003020298213351193, 'boosting_type': 'gbdt'}. \u001b[0m\n",
      "\u001b[32m[I 2023-05-15 10:59:34,301]\u001b[0m Trial 13 finished with values: [0.0003165994353134747, 0.12707955855707462] and parameters: {'n_estimators': 237, 'num_leaves': 535, 'max_depth': 17, 'min_child_samples': 236, 'learning_rate': 0.002292055730218533, 'boosting_type': 'gbdt'}. \u001b[0m\n",
      "\u001b[32m[I 2023-05-15 11:00:59,046]\u001b[0m Trial 14 finished with values: [0.09274813100400237, 0.6165998645656033] and parameters: {'n_estimators': 9771, 'num_leaves': 580, 'max_depth': 17, 'min_child_samples': 256, 'learning_rate': 0.002042490214155609, 'boosting_type': 'gbdt'}. \u001b[0m\n",
      "\u001b[32m[I 2023-05-15 11:02:16,265]\u001b[0m Trial 15 finished with values: [0.09240686417846775, 0.637140137996669] and parameters: {'n_estimators': 7273, 'num_leaves': 156, 'max_depth': 15, 'min_child_samples': 167, 'learning_rate': 0.001897967689269833, 'boosting_type': 'gbdt'}. \u001b[0m\n",
      "\u001b[32m[I 2023-05-15 11:02:35,584]\u001b[0m Trial 16 finished with values: [0.09655953065728584, 0.5720950237010194] and parameters: {'n_estimators': 3416, 'num_leaves': 598, 'max_depth': 19, 'min_child_samples': 266, 'learning_rate': 0.001706879878798393, 'boosting_type': 'goss'}. \u001b[0m\n",
      "\u001b[32m[I 2023-05-15 11:03:29,105]\u001b[0m Trial 17 finished with values: [0.09227342106855614, 0.635856256520068] and parameters: {'n_estimators': 7045, 'num_leaves': 171, 'max_depth': 9, 'min_child_samples': 185, 'learning_rate': 0.0030488871688096383, 'boosting_type': 'gbdt'}. \u001b[0m\n",
      "\u001b[32m[I 2023-05-15 11:03:33,421]\u001b[0m Trial 18 finished with values: [0.0, 0.0] and parameters: {'n_estimators': 200, 'num_leaves': 985, 'max_depth': 14, 'min_child_samples': 120, 'learning_rate': 0.0002542707126506311, 'boosting_type': 'gbdt'}. \u001b[0m\n",
      "\u001b[32m[I 2023-05-15 11:03:56,581]\u001b[0m Trial 19 finished with values: [0.09371999940118211, 0.5669640732809897] and parameters: {'n_estimators': 3502, 'num_leaves': 475, 'max_depth': 17, 'min_child_samples': 265, 'learning_rate': 0.001227993999163005, 'boosting_type': 'goss'}. \u001b[0m\n",
      "\u001b[32m[I 2023-05-15 11:09:48,199]\u001b[0m Trial 20 finished with values: [0.09480613720424277, 0.6251496184044363] and parameters: {'n_estimators': 8485, 'num_leaves': 662, 'max_depth': 12, 'min_child_samples': 9, 'learning_rate': 0.0028548423579339106, 'boosting_type': 'gbdt'}. \u001b[0m\n",
      "\u001b[32m[I 2023-05-15 11:09:52,930]\u001b[0m Trial 21 finished with values: [0.03252689599170175, 0.40265195190248715] and parameters: {'n_estimators': 1009, 'num_leaves': 474, 'max_depth': 5, 'min_child_samples': 217, 'learning_rate': 0.0010840546305859646, 'boosting_type': 'gbdt'}. \u001b[0m\n",
      "\u001b[32m[I 2023-05-15 11:09:56,540]\u001b[0m Trial 22 finished with values: [0.05398592391743653, 0.46512289756401104] and parameters: {'n_estimators': 1279, 'num_leaves': 413, 'max_depth': 2, 'min_child_samples': 211, 'learning_rate': 0.0011838897763843598, 'boosting_type': 'gbdt'}. \u001b[0m\n",
      "\u001b[32m[I 2023-05-15 11:10:01,216]\u001b[0m Trial 23 finished with values: [0.05980040825986399, 0.5305907868006369] and parameters: {'n_estimators': 865, 'num_leaves': 248, 'max_depth': 5, 'min_child_samples': 224, 'learning_rate': 0.003200852558913079, 'boosting_type': 'gbdt'}. \u001b[0m\n",
      "\u001b[32m[I 2023-05-15 11:10:13,072]\u001b[0m Trial 24 finished with values: [0.08236553196856632, 0.5994857153315397] and parameters: {'n_estimators': 2556, 'num_leaves': 231, 'max_depth': 4, 'min_child_samples': 105, 'learning_rate': 0.0028070416767286208, 'boosting_type': 'goss'}. \u001b[0m\n",
      "\u001b[32m[I 2023-05-15 11:10:38,972]\u001b[0m Trial 25 finished with values: [0.07538526232460589, 0.6016188070791926] and parameters: {'n_estimators': 6130, 'num_leaves': 41, 'max_depth': 5, 'min_child_samples': 184, 'learning_rate': 0.001068654639098103, 'boosting_type': 'gbdt'}. \u001b[0m\n",
      "\u001b[32m[I 2023-05-15 11:10:45,775]\u001b[0m Trial 26 finished with values: [0.0, 0.0] and parameters: {'n_estimators': 700, 'num_leaves': 261, 'max_depth': 8, 'min_child_samples': 132, 'learning_rate': 2.065480410425491e-05, 'boosting_type': 'gbdt'}. \u001b[0m\n",
      "\u001b[32m[I 2023-05-15 11:10:55,557]\u001b[0m Trial 27 finished with values: [0.07314433821800126, 0.5802265780852504] and parameters: {'n_estimators': 2453, 'num_leaves': 518, 'max_depth': 3, 'min_child_samples': 78, 'learning_rate': 0.0023652570687325456, 'boosting_type': 'goss'}. \u001b[0m\n",
      "\u001b[32m[I 2023-05-15 11:11:00,366]\u001b[0m Trial 28 finished with values: [0.05859919412687238, 0.5288813850912353] and parameters: {'n_estimators': 2083, 'num_leaves': 126, 'max_depth': 2, 'min_child_samples': 241, 'learning_rate': 0.003519356628825821, 'boosting_type': 'gbdt'}. \u001b[0m\n",
      "\u001b[32m[I 2023-05-15 11:11:05,087]\u001b[0m Trial 29 finished with values: [0.05470397154518817, 0.5305935320924614] and parameters: {'n_estimators': 1943, 'num_leaves': 835, 'max_depth': 2, 'min_child_samples': 189, 'learning_rate': 0.0036266351841533263, 'boosting_type': 'gbdt'}. \u001b[0m\n",
      "\u001b[32m[I 2023-05-15 11:11:30,660]\u001b[0m Trial 30 finished with values: [0.08140421684562359, 0.6174509050312048] and parameters: {'n_estimators': 3021, 'num_leaves': 758, 'max_depth': 8, 'min_child_samples': 178, 'learning_rate': 0.002416335681569878, 'boosting_type': 'gbdt'}. \u001b[0m\n",
      "\u001b[32m[I 2023-05-15 11:12:01,487]\u001b[0m Trial 31 finished with values: [0.07006056547387149, 0.5840800527096031] and parameters: {'n_estimators': 5982, 'num_leaves': 905, 'max_depth': 4, 'min_child_samples': 195, 'learning_rate': 0.0010660899973600462, 'boosting_type': 'gbdt'}. \u001b[0m\n",
      "\u001b[32m[I 2023-05-15 11:12:05,583]\u001b[0m Trial 32 finished with values: [0.060958117858127714, 0.5412910192353447] and parameters: {'n_estimators': 536, 'num_leaves': 12, 'max_depth': 5, 'min_child_samples': 151, 'learning_rate': 0.005214513745503037, 'boosting_type': 'gbdt'}. \u001b[0m\n",
      "\u001b[32m[I 2023-05-15 11:12:12,157]\u001b[0m Trial 33 finished with values: [0.05570311640673039, 0.5019262797635389] and parameters: {'n_estimators': 1294, 'num_leaves': 906, 'max_depth': 4, 'min_child_samples': 200, 'learning_rate': 0.0016815504573329827, 'boosting_type': 'gbdt'}. \u001b[0m\n",
      "\u001b[32m[I 2023-05-15 11:12:39,813]\u001b[0m Trial 34 finished with values: [0.07494894959993706, 0.5853556983107304] and parameters: {'n_estimators': 4291, 'num_leaves': 875, 'max_depth': 6, 'min_child_samples': 243, 'learning_rate': 0.0011113046308970612, 'boosting_type': 'gbdt'}. \u001b[0m\n",
      "\u001b[32m[I 2023-05-15 11:12:45,790]\u001b[0m Trial 35 finished with values: [0.05467380766268783, 0.5027764051318655] and parameters: {'n_estimators': 1878, 'num_leaves': 742, 'max_depth': 2, 'min_child_samples': 169, 'learning_rate': 0.002371307381401142, 'boosting_type': 'gbdt'}. \u001b[0m\n",
      "\u001b[32m[I 2023-05-15 11:13:22,521]\u001b[0m Trial 36 finished with values: [0.06896095163220015, 0.5827989165248266] and parameters: {'n_estimators': 5908, 'num_leaves': 631, 'max_depth': 5, 'min_child_samples': 134, 'learning_rate': 0.000793540710019143, 'boosting_type': 'gbdt'}. \u001b[0m\n",
      "\u001b[32m[I 2023-05-15 11:13:26,992]\u001b[0m Trial 37 finished with values: [0.05209538790276345, 0.48823001885100387] and parameters: {'n_estimators': 1339, 'num_leaves': 91, 'max_depth': 3, 'min_child_samples': 213, 'learning_rate': 0.0016096392085180175, 'boosting_type': 'gbdt'}. \u001b[0m\n",
      "\u001b[32m[I 2023-05-15 11:13:32,931]\u001b[0m Trial 38 finished with values: [0.00022148394241417496, 0.024809202218195794] and parameters: {'n_estimators': 654, 'num_leaves': 944, 'max_depth': 7, 'min_child_samples': 276, 'learning_rate': 0.0006777066198162464, 'boosting_type': 'gbdt'}. \u001b[0m\n",
      "\u001b[32m[I 2023-05-15 11:13:49,878]\u001b[0m Trial 39 finished with values: [0.09107197680988088, 0.5802274931825253] and parameters: {'n_estimators': 2956, 'num_leaves': 432, 'max_depth': 3, 'min_child_samples': 230, 'learning_rate': 0.003721881563488053, 'boosting_type': 'goss'}. \u001b[0m\n",
      "\u001b[32m[I 2023-05-15 11:14:01,850]\u001b[0m Trial 40 finished with values: [0.03743277854157638, 0.3910906129321547] and parameters: {'n_estimators': 1736, 'num_leaves': 802, 'max_depth': 10, 'min_child_samples': 250, 'learning_rate': 0.0006835652369046176, 'boosting_type': 'gbdt'}. \u001b[0m\n",
      "\u001b[32m[I 2023-05-15 11:14:23,991]\u001b[0m Trial 41 finished with values: [0.0, 0.0] and parameters: {'n_estimators': 5797, 'num_leaves': 708, 'max_depth': 5, 'min_child_samples': 212, 'learning_rate': 3.19292223064831e-05, 'boosting_type': 'gbdt'}. \u001b[0m\n",
      "\u001b[32m[I 2023-05-15 11:14:51,744]\u001b[0m Trial 42 finished with values: [0.09136355168527421, 0.6414191328538223] and parameters: {'n_estimators': 7077, 'num_leaves': 819, 'max_depth': 6, 'min_child_samples': 188, 'learning_rate': 0.00816352416752951, 'boosting_type': 'gbdt'}. \u001b[0m\n",
      "\u001b[32m[I 2023-05-15 11:15:02,755]\u001b[0m Trial 43 finished with values: [0.08361998257237732, 0.5990556196123648] and parameters: {'n_estimators': 2114, 'num_leaves': 362, 'max_depth': 4, 'min_child_samples': 151, 'learning_rate': 0.004071452311994429, 'boosting_type': 'goss'}. \u001b[0m\n",
      "\u001b[32m[I 2023-05-15 11:15:05,216]\u001b[0m Trial 44 finished with values: [0.004777302115141193, 0.2721371181756621] and parameters: {'n_estimators': 140, 'num_leaves': 509, 'max_depth': 8, 'min_child_samples': 57, 'learning_rate': 0.004742097200556672, 'boosting_type': 'gbdt'}. \u001b[0m\n",
      "\u001b[32m[I 2023-05-15 11:15:08,674]\u001b[0m Trial 45 finished with values: [0.01795465149739351, 0.34146122732846507] and parameters: {'n_estimators': 165, 'num_leaves': 519, 'max_depth': 9, 'min_child_samples': 52, 'learning_rate': 0.005014892558300966, 'boosting_type': 'gbdt'}. \u001b[0m\n",
      "\u001b[32m[I 2023-05-15 11:15:41,388]\u001b[0m Trial 46 finished with values: [0.08652169447870102, 0.6375729790076685] and parameters: {'n_estimators': 4732, 'num_leaves': 470, 'max_depth': 8, 'min_child_samples': 78, 'learning_rate': 0.004689807846309844, 'boosting_type': 'gbdt'}. \u001b[0m\n",
      "\u001b[32m[I 2023-05-15 11:16:23,266]\u001b[0m Trial 47 finished with values: [0.08885110620431916, 0.6358525961309687] and parameters: {'n_estimators': 4075, 'num_leaves': 632, 'max_depth': 11, 'min_child_samples': 45, 'learning_rate': 0.005339641340420624, 'boosting_type': 'gbdt'}. \u001b[0m\n",
      "\u001b[32m[I 2023-05-15 11:16:35,504]\u001b[0m Trial 48 finished with values: [0.07148057406795512, 0.6255897801936345] and parameters: {'n_estimators': 1035, 'num_leaves': 562, 'max_depth': 9, 'min_child_samples': 21, 'learning_rate': 0.005734858690665893, 'boosting_type': 'gbdt'}. \u001b[0m\n",
      "\u001b[32m[I 2023-05-15 11:16:47,660]\u001b[0m Trial 49 finished with values: [0.07300714543964493, 0.6255943556800088] and parameters: {'n_estimators': 1005, 'num_leaves': 543, 'max_depth': 9, 'min_child_samples': 22, 'learning_rate': 0.005640537745283424, 'boosting_type': 'gbdt'}. \u001b[0m\n",
      "\u001b[32m[I 2023-05-15 11:16:49,018]\u001b[0m Trial 50 finished with values: [0.0, 0.0] and parameters: {'n_estimators': 53, 'num_leaves': 485, 'max_depth': 10, 'min_child_samples': 64, 'learning_rate': 0.004136118075575457, 'boosting_type': 'gbdt'}. \u001b[0m\n",
      "\u001b[32m[I 2023-05-15 11:16:57,289]\u001b[0m Trial 51 finished with values: [0.06166498774883054, 0.5447070773623237] and parameters: {'n_estimators': 421, 'num_leaves': 566, 'max_depth': 12, 'min_child_samples': 31, 'learning_rate': 0.004772610738324514, 'boosting_type': 'gbdt'}. \u001b[0m\n",
      "\u001b[32m[I 2023-05-15 11:17:19,373]\u001b[0m Trial 52 finished with values: [0.07517806264150322, 0.6302952103808634] and parameters: {'n_estimators': 1443, 'num_leaves': 392, 'max_depth': 9, 'min_child_samples': 6, 'learning_rate': 0.004355042850284148, 'boosting_type': 'gbdt'}. \u001b[0m\n",
      "\u001b[32m[I 2023-05-15 11:17:22,435]\u001b[0m Trial 53 finished with values: [0.05577433943315922, 0.528441223302037] and parameters: {'n_estimators': 317, 'num_leaves': 526, 'max_depth': 7, 'min_child_samples': 58, 'learning_rate': 0.0058937347434050765, 'boosting_type': 'gbdt'}. \u001b[0m\n",
      "\u001b[32m[I 2023-05-15 11:17:57,294]\u001b[0m Trial 54 finished with values: [0.07058273473647744, 0.6033355295667929] and parameters: {'n_estimators': 685, 'num_leaves': 458, 'max_depth': 11, 'min_child_samples': 27, 'learning_rate': 0.004910034258462468, 'boosting_type': 'gbdt'}. \u001b[0m\n",
      "\u001b[32m[I 2023-05-15 11:18:04,109]\u001b[0m Trial 55 finished with values: [0.06734932970142497, 0.572956130236644] and parameters: {'n_estimators': 1009, 'num_leaves': 597, 'max_depth': 6, 'min_child_samples': 99, 'learning_rate': 0.003699059364780285, 'boosting_type': 'gbdt'}. \u001b[0m\n",
      "\u001b[32m[I 2023-05-15 11:18:14,613]\u001b[0m Trial 56 finished with values: [0.0874848896646271, 0.6118953494756493] and parameters: {'n_estimators': 1637, 'num_leaves': 307, 'max_depth': 8, 'min_child_samples': 78, 'learning_rate': 0.00459907601594188, 'boosting_type': 'goss'}. \u001b[0m\n",
      "\u001b[32m[I 2023-05-15 11:18:16,560]\u001b[0m Trial 57 finished with values: [0.0, 0.0] and parameters: {'n_estimators': 68, 'num_leaves': 670, 'max_depth': 14, 'min_child_samples': 40, 'learning_rate': 0.0034585045659905143, 'boosting_type': 'gbdt'}. \u001b[0m\n",
      "\u001b[32m[I 2023-05-15 11:19:45,358]\u001b[0m Trial 58 finished with values: [0.09209842709173532, 0.6298596240780394] and parameters: {'n_estimators': 8104, 'num_leaves': 547, 'max_depth': 9, 'min_child_samples': 18, 'learning_rate': 0.0041759667482091705, 'boosting_type': 'gbdt'}. \u001b[0m\n",
      "\u001b[32m[I 2023-05-15 11:20:07,529]\u001b[0m Trial 59 finished with values: [0.0767750907902908, 0.6298660297589634] and parameters: {'n_estimators': 9956, 'num_leaves': 500, 'max_depth': 3, 'min_child_samples': 134, 'learning_rate': 0.003902016736079968, 'boosting_type': 'gbdt'}. \u001b[0m\n",
      "\u001b[32m[I 2023-05-15 11:20:13,707]\u001b[0m Trial 60 finished with values: [0.0904587168371501, 0.5990510441259906] and parameters: {'n_estimators': 986, 'num_leaves': 338, 'max_depth': 13, 'min_child_samples': 168, 'learning_rate': 0.006127580999701822, 'boosting_type': 'goss'}. \u001b[0m\n",
      "\u001b[32m[I 2023-05-15 11:20:17,579]\u001b[0m Trial 61 finished with values: [0.058357801934915965, 0.5421393144091218] and parameters: {'n_estimators': 399, 'num_leaves': 432, 'max_depth': 7, 'min_child_samples': 51, 'learning_rate': 0.0051381020165787465, 'boosting_type': 'gbdt'}. \u001b[0m\n",
      "\u001b[32m[I 2023-05-15 11:20:32,654]\u001b[0m Trial 62 finished with values: [0.08244188840530167, 0.6350015556653672] and parameters: {'n_estimators': 1384, 'num_leaves': 67, 'max_depth': 17, 'min_child_samples': 61, 'learning_rate': 0.004470807933088787, 'boosting_type': 'gbdt'}. \u001b[0m\n",
      "\u001b[32m[I 2023-05-15 11:20:40,086]\u001b[0m Trial 63 finished with values: [0.07568576060261499, 0.6011942019436666] and parameters: {'n_estimators': 818, 'num_leaves': 630, 'max_depth': 10, 'min_child_samples': 116, 'learning_rate': 0.005446759663997026, 'boosting_type': 'gbdt'}. \u001b[0m\n",
      "\u001b[32m[I 2023-05-15 11:20:43,057]\u001b[0m Trial 64 finished with values: [0.0638646963417052, 0.5203215651823789] and parameters: {'n_estimators': 372, 'num_leaves': 408, 'max_depth': 8, 'min_child_samples': 210, 'learning_rate': 0.0049443681756074845, 'boosting_type': 'gbdt'}. \u001b[0m\n",
      "\u001b[32m[I 2023-05-15 11:21:02,019]\u001b[0m Trial 65 finished with values: [0.08383573494339482, 0.6392869562034444] and parameters: {'n_estimators': 2168, 'num_leaves': 577, 'max_depth': 11, 'min_child_samples': 70, 'learning_rate': 0.006358872411289604, 'boosting_type': 'gbdt'}. \u001b[0m\n",
      "\u001b[32m[I 2023-05-15 11:21:35,077]\u001b[0m Trial 66 finished with values: [0.08822407777348673, 0.6243004081333845] and parameters: {'n_estimators': 9387, 'num_leaves': 211, 'max_depth': 3, 'min_child_samples': 89, 'learning_rate': 0.0069298685008332426, 'boosting_type': 'goss'}. \u001b[0m\n",
      "\u001b[32m[I 2023-05-15 11:21:43,419]\u001b[0m Trial 67 finished with values: [0.07790173874969324, 0.5922070316074598] and parameters: {'n_estimators': 1289, 'num_leaves': 272, 'max_depth': 16, 'min_child_samples': 229, 'learning_rate': 0.0032591603653185537, 'boosting_type': 'gbdt'}. \u001b[0m\n",
      "\u001b[32m[I 2023-05-15 11:21:45,026]\u001b[0m Trial 68 finished with values: [0.0, 0.0] and parameters: {'n_estimators': 24, 'num_leaves': 100, 'max_depth': 18, 'min_child_samples': 17, 'learning_rate': 0.005697316457465499, 'boosting_type': 'gbdt'}. \u001b[0m\n",
      "\u001b[32m[I 2023-05-15 11:22:21,934]\u001b[0m Trial 69 finished with values: [0.08850901008938497, 0.6153178132835521] and parameters: {'n_estimators': 2699, 'num_leaves': 756, 'max_depth': 12, 'min_child_samples': 275, 'learning_rate': 0.004373275138261053, 'boosting_type': 'gbdt'}. \u001b[0m\n",
      "\u001b[32m[I 2023-05-15 11:24:28,083]\u001b[0m Trial 70 finished with values: [0.09439232243666283, 0.6358507659364191] and parameters: {'n_estimators': 5482, 'num_leaves': 449, 'max_depth': 20, 'min_child_samples': 39, 'learning_rate': 0.0029585549900750115, 'boosting_type': 'gbdt'}. \u001b[0m\n",
      "\u001b[32m[I 2023-05-15 11:24:52,533]\u001b[0m Trial 71 finished with values: [0.08229035839878536, 0.6379984992404693] and parameters: {'n_estimators': 2285, 'num_leaves': 577, 'max_depth': 10, 'min_child_samples': 65, 'learning_rate': 0.005059940807891755, 'boosting_type': 'gbdt'}. \u001b[0m\n",
      "\u001b[32m[I 2023-05-15 11:25:26,283]\u001b[0m Trial 72 finished with values: [0.06809087608035765, 0.5802284082798002] and parameters: {'n_estimators': 1796, 'num_leaves': 524, 'max_depth': 11, 'min_child_samples': 71, 'learning_rate': 0.0015676242347168034, 'boosting_type': 'gbdt'}. \u001b[0m\n",
      "\u001b[32m[I 2023-05-15 11:25:42,683]\u001b[0m Trial 73 finished with values: [0.07545255748106541, 0.6234475374732333] and parameters: {'n_estimators': 1130, 'num_leaves': 601, 'max_depth': 9, 'min_child_samples': 52, 'learning_rate': 0.006200001287655245, 'boosting_type': 'gbdt'}. \u001b[0m\n",
      "\u001b[32m[I 2023-05-15 11:25:45,068]\u001b[0m Trial 74 finished with values: [0.0009022191203786169, 0.16387928036750307] and parameters: {'n_estimators': 596, 'num_leaves': 681, 'max_depth': 2, 'min_child_samples': 47, 'learning_rate': 0.001985896450223808, 'boosting_type': 'gbdt'}. \u001b[0m\n",
      "\u001b[32m[I 2023-05-15 11:25:47,549]\u001b[0m Trial 75 finished with values: [0.05334684588215214, 0.47838814766009624] and parameters: {'n_estimators': 680, 'num_leaves': 695, 'max_depth': 2, 'min_child_samples': 33, 'learning_rate': 0.0026158661952036966, 'boosting_type': 'gbdt'}. \u001b[0m\n",
      "\u001b[32m[I 2023-05-15 11:26:06,394]\u001b[0m Trial 76 finished with values: [0.06877165272220062, 0.5943520196196855] and parameters: {'n_estimators': 2058, 'num_leaves': 509, 'max_depth': 7, 'min_child_samples': 45, 'learning_rate': 0.0020355002374392145, 'boosting_type': 'gbdt'}. \u001b[0m\n",
      "\u001b[32m[I 2023-05-15 11:26:18,651]\u001b[0m Trial 77 finished with values: [0.08115273337778951, 0.6093184355496989] and parameters: {'n_estimators': 1391, 'num_leaves': 614, 'max_depth': 9, 'min_child_samples': 219, 'learning_rate': 0.004700763144934537, 'boosting_type': 'gbdt'}. \u001b[0m\n",
      "\u001b[32m[I 2023-05-15 11:26:28,474]\u001b[0m Trial 78 finished with values: [0.06554406249458036, 0.5438523765076229] and parameters: {'n_estimators': 1562, 'num_leaves': 554, 'max_depth': 6, 'min_child_samples': 204, 'learning_rate': 0.0014941976899312901, 'boosting_type': 'gbdt'}. \u001b[0m\n",
      "\u001b[32m[I 2023-05-15 11:26:34,880]\u001b[0m Trial 79 finished with values: [0.02868384467142846, 0.3970835849850839] and parameters: {'n_estimators': 481, 'num_leaves': 997, 'max_depth': 8, 'min_child_samples': 177, 'learning_rate': 0.0020614435693884015, 'boosting_type': 'goss'}. \u001b[0m\n",
      "\u001b[32m[I 2023-05-15 11:26:41,245]\u001b[0m Trial 80 finished with values: [0.054123769757290094, 0.5079110159409945] and parameters: {'n_estimators': 522, 'num_leaves': 943, 'max_depth': 8, 'min_child_samples': 158, 'learning_rate': 0.0030433918682519407, 'boosting_type': 'goss'}. \u001b[0m\n",
      "\u001b[32m[I 2023-05-15 11:26:50,201]\u001b[0m Trial 81 finished with values: [0.09044585351756142, 0.5939182635114112] and parameters: {'n_estimators': 974, 'num_leaves': 987, 'max_depth': 8, 'min_child_samples': 191, 'learning_rate': 0.005243501947683541, 'boosting_type': 'goss'}. \u001b[0m\n",
      "\u001b[32m[I 2023-05-15 11:26:54,488]\u001b[0m Trial 82 finished with values: [0.03270567875811906, 0.4184776441735757] and parameters: {'n_estimators': 276, 'num_leaves': 867, 'max_depth': 11, 'min_child_samples': 162, 'learning_rate': 0.003825896282289039, 'boosting_type': 'goss'}. \u001b[0m\n",
      "\u001b[32m[I 2023-05-15 11:26:59,884]\u001b[0m Trial 83 finished with values: [0.005925119377470439, 0.298229286773184] and parameters: {'n_estimators': 175, 'num_leaves': 501, 'max_depth': 9, 'min_child_samples': 11, 'learning_rate': 0.003963808448797855, 'boosting_type': 'goss'}. \u001b[0m\n",
      "\u001b[32m[I 2023-05-15 11:27:24,542]\u001b[0m Trial 84 finished with values: [0.07052395823122587, 0.5986291842822892] and parameters: {'n_estimators': 765, 'num_leaves': 832, 'max_depth': 10, 'min_child_samples': 7, 'learning_rate': 0.003233521493769067, 'boosting_type': 'goss'}. \u001b[0m\n",
      "\u001b[32m[I 2023-05-15 11:27:36,106]\u001b[0m Trial 85 finished with values: [0.03980344613441764, 0.4895157305221545] and parameters: {'n_estimators': 317, 'num_leaves': 859, 'max_depth': 11, 'min_child_samples': 17, 'learning_rate': 0.003850379952395483, 'boosting_type': 'goss'}. \u001b[0m\n",
      "\u001b[32m[I 2023-05-15 11:27:52,406]\u001b[0m Trial 86 finished with values: [0.06358255717270415, 0.5614039422390601] and parameters: {'n_estimators': 459, 'num_leaves': 865, 'max_depth': 11, 'min_child_samples': 14, 'learning_rate': 0.0038754318432538694, 'boosting_type': 'goss'}. \u001b[0m\n",
      "\u001b[32m[I 2023-05-15 11:28:11,902]\u001b[0m Trial 87 finished with values: [0.04666950412996846, 0.49635974304068525] and parameters: {'n_estimators': 456, 'num_leaves': 784, 'max_depth': 13, 'min_child_samples': 18, 'learning_rate': 0.0027979585425676246, 'boosting_type': 'goss'}. \u001b[0m\n",
      "\u001b[32m[I 2023-05-15 11:28:27,000]\u001b[0m Trial 88 finished with values: [0.028474373556425847, 0.4561476234923772] and parameters: {'n_estimators': 296, 'num_leaves': 945, 'max_depth': 11, 'min_child_samples': 13, 'learning_rate': 0.003469184365741988, 'boosting_type': 'goss'}. \u001b[0m\n",
      "\u001b[32m[I 2023-05-15 11:32:22,411]\u001b[0m Trial 89 finished with values: [0.09829439147077125, 0.6332866633723164] and parameters: {'n_estimators': 7712, 'num_leaves': 938, 'max_depth': 14, 'min_child_samples': 12, 'learning_rate': 0.00353193303438071, 'boosting_type': 'goss'}. \u001b[0m\n",
      "\u001b[32m[I 2023-05-15 11:32:44,721]\u001b[0m Trial 90 finished with values: [0.094994671086383, 0.6204432731199325] and parameters: {'n_estimators': 1151, 'num_leaves': 905, 'max_depth': 12, 'min_child_samples': 27, 'learning_rate': 0.003960163110460679, 'boosting_type': 'goss'}. \u001b[0m\n",
      "\u001b[32m[I 2023-05-15 11:34:37,310]\u001b[0m Trial 91 finished with values: [0.09600495869630608, 0.6362790314610443] and parameters: {'n_estimators': 6499, 'num_leaves': 963, 'max_depth': 11, 'min_child_samples': 24, 'learning_rate': 0.004284441753973307, 'boosting_type': 'goss'}. \u001b[0m\n",
      "\u001b[32m[I 2023-05-15 11:34:48,093]\u001b[0m Trial 92 finished with values: [0.0038818117932356627, 0.2691328538223613] and parameters: {'n_estimators': 209, 'num_leaves': 874, 'max_depth': 13, 'min_child_samples': 15, 'learning_rate': 0.0026420307665593994, 'boosting_type': 'goss'}. \u001b[0m\n",
      "\u001b[32m[I 2023-05-15 11:35:15,671]\u001b[0m Trial 93 finished with values: [0.08339927374627051, 0.6059078680063691] and parameters: {'n_estimators': 799, 'num_leaves': 868, 'max_depth': 13, 'min_child_samples': 13, 'learning_rate': 0.003488502378239964, 'boosting_type': 'goss'}. \u001b[0m\n",
      "\u001b[32m[I 2023-05-15 11:35:38,283]\u001b[0m Trial 94 finished with values: [0.040939855046402254, 0.4514293819433005] and parameters: {'n_estimators': 227, 'num_leaves': 914, 'max_depth': 15, 'min_child_samples': 5, 'learning_rate': 0.004106343374225987, 'boosting_type': 'goss'}. \u001b[0m\n",
      "\u001b[32m[I 2023-05-15 11:35:39,925]\u001b[0m Trial 95 finished with values: [0.0, 0.0] and parameters: {'n_estimators': 23, 'num_leaves': 882, 'max_depth': 12, 'min_child_samples': 35, 'learning_rate': 0.002695484237936429, 'boosting_type': 'goss'}. \u001b[0m\n",
      "\u001b[32m[I 2023-05-15 11:35:55,820]\u001b[0m Trial 96 finished with values: [0.0659070262885528, 0.5738126612858947] and parameters: {'n_estimators': 594, 'num_leaves': 839, 'max_depth': 10, 'min_child_samples': 14, 'learning_rate': 0.0032974384421602756, 'boosting_type': 'goss'}. \u001b[0m\n",
      "\u001b[32m[I 2023-05-15 11:36:02,885]\u001b[0m Trial 97 finished with values: [0.08299865249766873, 0.5896401837515327] and parameters: {'n_estimators': 262, 'num_leaves': 965, 'max_depth': 13, 'min_child_samples': 28, 'learning_rate': 0.009800158919688738, 'boosting_type': 'goss'}. \u001b[0m\n",
      "\u001b[32m[I 2023-05-15 11:36:52,729]\u001b[0m Trial 98 finished with values: [0.09602609934467299, 0.6311462508464649] and parameters: {'n_estimators': 3649, 'num_leaves': 933, 'max_depth': 11, 'min_child_samples': 46, 'learning_rate': 0.0025406952951580533, 'boosting_type': 'goss'}. \u001b[0m\n",
      "\u001b[32m[I 2023-05-15 11:37:15,760]\u001b[0m Trial 99 finished with values: [0.08398521952837305, 0.6101804571825985] and parameters: {'n_estimators': 847, 'num_leaves': 890, 'max_depth': 12, 'min_child_samples': 21, 'learning_rate': 0.0037991951560551397, 'boosting_type': 'goss'}. \u001b[0m\n",
      "\u001b[32m[I 2023-05-15 11:37:15,773]\u001b[0m A new study created in memory with name: no-name-4037e68f-2658-4510-ad7c-502bac99f449\u001b[0m\n"
     ]
    },
    {
     "name": "stdout",
     "output_type": "stream",
     "text": [
      "Number of finished trials:  100\n",
      "2\n"
     ]
    },
    {
     "name": "stderr",
     "output_type": "stream",
     "text": [
      "\u001b[32m[I 2023-05-15 11:52:11,364]\u001b[0m Trial 0 finished with values: [0.07933137715981317, 0.6328538223613169] and parameters: {'n_estimators': 9095, 'num_leaves': 789, 'max_depth': 17, 'min_child_samples': 7, 'learning_rate': 0.0033770598592845905, 'boosting_type': 'gbdt'}. \u001b[0m\n",
      "\u001b[32m[I 2023-05-15 11:54:45,825]\u001b[0m Trial 1 finished with values: [0.08181124557715733, 0.6495424513625798] and parameters: {'n_estimators': 8289, 'num_leaves': 514, 'max_depth': 11, 'min_child_samples': 31, 'learning_rate': 0.005424441957398881, 'boosting_type': 'goss'}. \u001b[0m\n",
      "\u001b[32m[I 2023-05-15 11:55:22,031]\u001b[0m Trial 2 finished with values: [0.07526054913718676, 0.6320046120902651] and parameters: {'n_estimators': 6588, 'num_leaves': 877, 'max_depth': 2, 'min_child_samples': 75, 'learning_rate': 0.0035420502143955765, 'boosting_type': 'goss'}. \u001b[0m\n",
      "\u001b[32m[I 2023-05-15 11:57:15,384]\u001b[0m Trial 3 finished with values: [0.07893929184324908, 0.6401361664744962] and parameters: {'n_estimators': 7767, 'num_leaves': 297, 'max_depth': 18, 'min_child_samples': 179, 'learning_rate': 0.0015317406262971812, 'boosting_type': 'gbdt'}. \u001b[0m\n",
      "\u001b[32m[I 2023-05-15 11:58:05,694]\u001b[0m Trial 4 finished with values: [0.07618062404516202, 0.6243004081333845] and parameters: {'n_estimators': 5917, 'num_leaves': 416, 'max_depth': 7, 'min_child_samples': 204, 'learning_rate': 0.001532976586542094, 'boosting_type': 'gbdt'}. \u001b[0m\n",
      "\u001b[32m[I 2023-05-15 11:58:43,482]\u001b[0m Trial 5 finished with values: [0.07746377483529762, 0.6178800856531049] and parameters: {'n_estimators': 7009, 'num_leaves': 697, 'max_depth': 5, 'min_child_samples': 234, 'learning_rate': 0.0016042534481323569, 'boosting_type': 'gbdt'}. \u001b[0m\n",
      "\u001b[32m[I 2023-05-15 11:59:05,945]\u001b[0m Trial 6 finished with values: [0.07704698441935415, 0.642274748805798] and parameters: {'n_estimators': 2413, 'num_leaves': 383, 'max_depth': 10, 'min_child_samples': 244, 'learning_rate': 0.005010407278798699, 'boosting_type': 'gbdt'}. \u001b[0m\n",
      "\u001b[32m[I 2023-05-15 11:59:59,750]\u001b[0m Trial 7 finished with values: [0.08739100512728742, 0.625156939182635] and parameters: {'n_estimators': 7300, 'num_leaves': 116, 'max_depth': 9, 'min_child_samples': 133, 'learning_rate': 0.007927434623966391, 'boosting_type': 'goss'}. \u001b[0m\n",
      "\u001b[32m[I 2023-05-15 12:00:24,170]\u001b[0m Trial 8 finished with values: [0.0776121124926207, 0.6491169311297791] and parameters: {'n_estimators': 3451, 'num_leaves': 164, 'max_depth': 9, 'min_child_samples': 157, 'learning_rate': 0.006911751412502277, 'boosting_type': 'gbdt'}. \u001b[0m\n",
      "\u001b[32m[I 2023-05-15 12:02:32,808]\u001b[0m Trial 9 finished with values: [0.07538004482060048, 0.6234511978623327] and parameters: {'n_estimators': 7962, 'num_leaves': 787, 'max_depth': 15, 'min_child_samples': 96, 'learning_rate': 0.0005122487052450904, 'boosting_type': 'gbdt'}. \u001b[0m\n",
      "\u001b[32m[I 2023-05-15 12:02:44,500]\u001b[0m Trial 10 finished with values: [0.09251614776277732, 0.5738016801185966] and parameters: {'n_estimators': 3257, 'num_leaves': 67, 'max_depth': 2, 'min_child_samples': 289, 'learning_rate': 0.009801881149027667, 'boosting_type': 'goss'}. \u001b[0m\n",
      "\u001b[32m[I 2023-05-15 12:02:47,581]\u001b[0m Trial 11 finished with values: [0.061699550420011275, 0.5365755229780926] and parameters: {'n_estimators': 580, 'num_leaves': 969, 'max_depth': 2, 'min_child_samples': 83, 'learning_rate': 0.006512676138035399, 'boosting_type': 'goss'}. \u001b[0m\n",
      "\u001b[32m[I 2023-05-15 12:02:49,911]\u001b[0m Trial 12 finished with values: [0.04439154758422369, 0.4279168725635535] and parameters: {'n_estimators': 382, 'num_leaves': 971, 'max_depth': 2, 'min_child_samples': 75, 'learning_rate': 0.0037342858874179923, 'boosting_type': 'goss'}. \u001b[0m\n",
      "\u001b[32m[I 2023-05-15 12:03:20,198]\u001b[0m Trial 13 finished with values: [0.07987596767496305, 0.6491196764216036] and parameters: {'n_estimators': 5139, 'num_leaves': 968, 'max_depth': 5, 'min_child_samples': 76, 'learning_rate': 0.006352891128821666, 'boosting_type': 'goss'}. \u001b[0m\n",
      "\u001b[32m[I 2023-05-15 12:03:21,333]\u001b[0m Trial 14 finished with values: [0.0, 0.0] and parameters: {'n_estimators': 38, 'num_leaves': 688, 'max_depth': 4, 'min_child_samples': 117, 'learning_rate': 0.0035365925546468418, 'boosting_type': 'goss'}. \u001b[0m\n",
      "\u001b[32m[I 2023-05-15 12:03:28,505]\u001b[0m Trial 15 finished with values: [0.029742008834892742, 0.43003989824118305] and parameters: {'n_estimators': 231, 'num_leaves': 976, 'max_depth': 14, 'min_child_samples': 45, 'learning_rate': 0.004245332841277914, 'boosting_type': 'goss'}. \u001b[0m\n",
      "\u001b[32m[I 2023-05-15 12:03:53,428]\u001b[0m Trial 16 finished with values: [0.08567127375740292, 0.6512573436556306] and parameters: {'n_estimators': 1512, 'num_leaves': 570, 'max_depth': 14, 'min_child_samples': 34, 'learning_rate': 0.004767484867068778, 'boosting_type': 'goss'}. \u001b[0m\n",
      "\u001b[32m[I 2023-05-15 12:04:56,001]\u001b[0m Trial 17 finished with values: [0.08801429941485674, 0.6542469664525339] and parameters: {'n_estimators': 3896, 'num_leaves': 840, 'max_depth': 20, 'min_child_samples': 42, 'learning_rate': 0.0028383433047211564, 'boosting_type': 'goss'}. \u001b[0m\n",
      "\u001b[32m[I 2023-05-15 12:06:12,535]\u001b[0m Trial 18 finished with values: [0.08458311470478834, 0.643117553395926] and parameters: {'n_estimators': 6166, 'num_leaves': 870, 'max_depth': 13, 'min_child_samples': 54, 'learning_rate': 0.004353566529341591, 'boosting_type': 'goss'}. \u001b[0m\n",
      "\u001b[32m[I 2023-05-15 12:06:57,736]\u001b[0m Trial 19 finished with values: [0.08113783794371651, 0.6311572320137631] and parameters: {'n_estimators': 4673, 'num_leaves': 586, 'max_depth': 12, 'min_child_samples': 119, 'learning_rate': 0.002556034637116504, 'boosting_type': 'goss'}. \u001b[0m\n",
      "\u001b[32m[I 2023-05-15 12:13:55,956]\u001b[0m Trial 20 finished with values: [0.08204191110157669, 0.6362799465583191] and parameters: {'n_estimators': 9236, 'num_leaves': 703, 'max_depth': 16, 'min_child_samples': 9, 'learning_rate': 0.004267146087558215, 'boosting_type': 'goss'}. \u001b[0m\n",
      "\u001b[32m[I 2023-05-15 12:14:07,719]\u001b[0m Trial 21 finished with values: [0.07795795344876048, 0.6354252457036182] and parameters: {'n_estimators': 1490, 'num_leaves': 912, 'max_depth': 8, 'min_child_samples': 91, 'learning_rate': 0.005823283414267468, 'boosting_type': 'goss'}. \u001b[0m\n",
      "\u001b[32m[I 2023-05-15 12:14:17,846]\u001b[0m Trial 22 finished with values: [0.07816668538113988, 0.6371392228993942] and parameters: {'n_estimators': 1087, 'num_leaves': 982, 'max_depth': 6, 'min_child_samples': 65, 'learning_rate': 0.00698821570522601, 'boosting_type': 'goss'}. \u001b[0m\n",
      "\u001b[32m[I 2023-05-15 12:14:32,672]\u001b[0m Trial 23 finished with values: [0.07551830839423426, 0.6290049232233386] and parameters: {'n_estimators': 2385, 'num_leaves': 891, 'max_depth': 3, 'min_child_samples': 91, 'learning_rate': 0.005659572637056835, 'boosting_type': 'goss'}. \u001b[0m\n",
      "\u001b[32m[I 2023-05-15 12:14:58,922]\u001b[0m Trial 24 finished with values: [0.08517153991484197, 0.6251624297662841] and parameters: {'n_estimators': 2584, 'num_leaves': 811, 'max_depth': 13, 'min_child_samples': 142, 'learning_rate': 0.004691541792118186, 'boosting_type': 'goss'}. \u001b[0m\n",
      "\u001b[32m[I 2023-05-15 12:15:14,117]\u001b[0m Trial 25 finished with values: [0.0837651929500613, 0.6315745163710902] and parameters: {'n_estimators': 808, 'num_leaves': 991, 'max_depth': 20, 'min_child_samples': 104, 'learning_rate': 0.007677983787661185, 'boosting_type': 'goss'}. \u001b[0m\n",
      "\u001b[32m[I 2023-05-15 12:15:26,811]\u001b[0m Trial 26 finished with values: [0.0864372961399392, 0.6101822873771482] and parameters: {'n_estimators': 1685, 'num_leaves': 749, 'max_depth': 4, 'min_child_samples': 167, 'learning_rate': 0.005360544004900093, 'boosting_type': 'goss'}. \u001b[0m\n",
      "\u001b[32m[I 2023-05-15 12:15:30,957]\u001b[0m Trial 27 finished with values: [0.0, 0.0] and parameters: {'n_estimators': 62, 'num_leaves': 902, 'max_depth': 11, 'min_child_samples': 50, 'learning_rate': 0.004126832686167689, 'boosting_type': 'goss'}. \u001b[0m\n",
      "\u001b[32m[I 2023-05-15 12:19:02,947]\u001b[0m Trial 28 finished with values: [0.0874250150633967, 0.6461163271655777] and parameters: {'n_estimators': 9875, 'num_leaves': 640, 'max_depth': 15, 'min_child_samples': 25, 'learning_rate': 0.006218237870727105, 'boosting_type': 'goss'}. \u001b[0m\n",
      "\u001b[32m[I 2023-05-15 12:21:26,150]\u001b[0m Trial 29 finished with values: [0.08861398751110336, 0.648681344826955] and parameters: {'n_estimators': 5004, 'num_leaves': 774, 'max_depth': 18, 'min_child_samples': 15, 'learning_rate': 0.003373059914305983, 'boosting_type': 'goss'}. \u001b[0m\n",
      "\u001b[32m[I 2023-05-15 12:21:33,009]\u001b[0m Trial 30 finished with values: [0.0654592653071596, 0.5922079467047348] and parameters: {'n_estimators': 763, 'num_leaves': 921, 'max_depth': 7, 'min_child_samples': 63, 'learning_rate': 0.005136500352811445, 'boosting_type': 'gbdt'}. \u001b[0m\n",
      "\u001b[32m[I 2023-05-15 12:21:43,458]\u001b[0m Trial 31 finished with values: [0.06497062971501034, 0.6037619648968685] and parameters: {'n_estimators': 797, 'num_leaves': 150, 'max_depth': 9, 'min_child_samples': 56, 'learning_rate': 0.004750599049358256, 'boosting_type': 'gbdt'}. \u001b[0m\n",
      "\u001b[32m[I 2023-05-15 12:22:25,559]\u001b[0m Trial 32 finished with values: [0.07248170234322507, 0.6632332216914658] and parameters: {'n_estimators': 3091, 'num_leaves': 184, 'max_depth': 11, 'min_child_samples': 38, 'learning_rate': 0.004146253637229121, 'boosting_type': 'gbdt'}. \u001b[0m\n",
      "\u001b[32m[I 2023-05-15 12:22:56,731]\u001b[0m Trial 33 finished with values: [0.07021979187880807, 0.6495369607789307] and parameters: {'n_estimators': 1854, 'num_leaves': 223, 'max_depth': 12, 'min_child_samples': 32, 'learning_rate': 0.0045731639741252396, 'boosting_type': 'gbdt'}. \u001b[0m\n",
      "\u001b[32m[I 2023-05-15 12:23:15,055]\u001b[0m Trial 34 finished with values: [0.06778100919733887, 0.6362799465583191] and parameters: {'n_estimators': 1571, 'num_leaves': 36, 'max_depth': 13, 'min_child_samples': 14, 'learning_rate': 0.002856608203804566, 'boosting_type': 'gbdt'}. \u001b[0m\n",
      "\u001b[32m[I 2023-05-15 12:23:43,707]\u001b[0m Trial 35 finished with values: [0.0771906601164235, 0.6101822873771482] and parameters: {'n_estimators': 767, 'num_leaves': 224, 'max_depth': 17, 'min_child_samples': 194, 'learning_rate': 0.005207146913536888, 'boosting_type': 'gbdt'}. \u001b[0m\n",
      "\u001b[32m[I 2023-05-15 12:24:27,176]\u001b[0m Trial 36 finished with values: [0.07240701830521469, 0.6533876901114588] and parameters: {'n_estimators': 1897, 'num_leaves': 333, 'max_depth': 15, 'min_child_samples': 32, 'learning_rate': 0.004720668290844153, 'boosting_type': 'gbdt'}. \u001b[0m\n",
      "\u001b[32m[I 2023-05-15 12:24:30,303]\u001b[0m Trial 37 finished with values: [0.0374310880379669, 0.38467852632734856] and parameters: {'n_estimators': 511, 'num_leaves': 458, 'max_depth': 12, 'min_child_samples': 277, 'learning_rate': 0.0020930204077249325, 'boosting_type': 'gbdt'}. \u001b[0m\n",
      "\u001b[32m[I 2023-05-15 12:24:46,665]\u001b[0m Trial 38 finished with values: [0.07155085797288056, 0.624734164241659] and parameters: {'n_estimators': 1083, 'num_leaves': 272, 'max_depth': 17, 'min_child_samples': 77, 'learning_rate': 0.0034740084405060403, 'boosting_type': 'gbdt'}. \u001b[0m\n",
      "\u001b[32m[I 2023-05-15 12:25:18,007]\u001b[0m Trial 39 finished with values: [0.06751084740189858, 0.6174600560039533] and parameters: {'n_estimators': 2033, 'num_leaves': 495, 'max_depth': 10, 'min_child_samples': 58, 'learning_rate': 0.002088296294803237, 'boosting_type': 'gbdt'}. \u001b[0m\n",
      "\u001b[32m[I 2023-05-15 12:25:50,885]\u001b[0m Trial 40 finished with values: [0.08440675222557668, 0.6341358736433683] and parameters: {'n_estimators': 3909, 'num_leaves': 117, 'max_depth': 14, 'min_child_samples': 248, 'learning_rate': 0.005677565767816115, 'boosting_type': 'gbdt'}. \u001b[0m\n",
      "\u001b[32m[I 2023-05-15 12:26:14,701]\u001b[0m Trial 41 finished with values: [0.0013794553266647737, 0.18056424897966653] and parameters: {'n_estimators': 1117, 'num_leaves': 188, 'max_depth': 11, 'min_child_samples': 43, 'learning_rate': 0.0004011957825518159, 'boosting_type': 'goss'}. \u001b[0m\n",
      "\u001b[32m[I 2023-05-15 12:26:16,347]\u001b[0m Trial 42 finished with values: [0.0, 0.0] and parameters: {'n_estimators': 162, 'num_leaves': 939, 'max_depth': 16, 'min_child_samples': 221, 'learning_rate': 0.0003082971952050959, 'boosting_type': 'goss'}. \u001b[0m\n",
      "\u001b[32m[I 2023-05-15 12:29:34,620]\u001b[0m Trial 43 finished with values: [0.08782586350211571, 0.6521120445103314] and parameters: {'n_estimators': 8665, 'num_leaves': 849, 'max_depth': 14, 'min_child_samples': 24, 'learning_rate': 0.0008884866084768678, 'boosting_type': 'goss'}. \u001b[0m\n",
      "\u001b[32m[I 2023-05-15 12:30:44,641]\u001b[0m Trial 44 finished with values: [0.037895187644050074, 0.48866652025110263] and parameters: {'n_estimators': 1130, 'num_leaves': 946, 'max_depth': 12, 'min_child_samples': 6, 'learning_rate': 0.0009277182732724491, 'boosting_type': 'goss'}. \u001b[0m\n",
      "\u001b[32m[I 2023-05-15 12:31:28,579]\u001b[0m Trial 45 finished with values: [0.04636321632392343, 0.5267327366899102] and parameters: {'n_estimators': 1176, 'num_leaves': 356, 'max_depth': 10, 'min_child_samples': 6, 'learning_rate': 0.0011222905812986361, 'boosting_type': 'goss'}. \u001b[0m\n",
      "\u001b[32m[I 2023-05-15 12:32:08,235]\u001b[0m Trial 46 finished with values: [0.0386166265352875, 0.5006451435787624] and parameters: {'n_estimators': 1164, 'num_leaves': 379, 'max_depth': 10, 'min_child_samples': 5, 'learning_rate': 0.0009645346969685917, 'boosting_type': 'goss'}. \u001b[0m\n",
      "\u001b[32m[I 2023-05-15 12:32:26,351]\u001b[0m Trial 47 finished with values: [0.09107192598011689, 0.6106059774153992] and parameters: {'n_estimators': 2846, 'num_leaves': 14, 'max_depth': 10, 'min_child_samples': 177, 'learning_rate': 0.002970482037005749, 'boosting_type': 'goss'}. \u001b[0m\n",
      "\u001b[32m[I 2023-05-15 12:34:03,518]\u001b[0m Trial 48 finished with values: [0.0, 0.0] and parameters: {'n_estimators': 2272, 'num_leaves': 371, 'max_depth': 13, 'min_child_samples': 17, 'learning_rate': 0.00011045861080164203, 'boosting_type': 'goss'}. \u001b[0m\n",
      "\u001b[32m[I 2023-05-15 12:34:12,654]\u001b[0m Trial 49 finished with values: [0.05325221178335171, 0.5117626603707974] and parameters: {'n_estimators': 1259, 'num_leaves': 419, 'max_depth': 8, 'min_child_samples': 108, 'learning_rate': 0.0013142163011021077, 'boosting_type': 'goss'}. \u001b[0m\n",
      "\u001b[32m[I 2023-05-15 12:34:40,615]\u001b[0m Trial 50 finished with values: [0.08375842905021931, 0.6208788594227566] and parameters: {'n_estimators': 3683, 'num_leaves': 34, 'max_depth': 19, 'min_child_samples': 141, 'learning_rate': 0.002016589161503524, 'boosting_type': 'goss'}. \u001b[0m\n",
      "\u001b[32m[I 2023-05-15 12:34:48,748]\u001b[0m Trial 51 finished with values: [0.0, 0.0] and parameters: {'n_estimators': 408, 'num_leaves': 550, 'max_depth': 9, 'min_child_samples': 46, 'learning_rate': 0.0005897672488145987, 'boosting_type': 'goss'}. \u001b[0m\n",
      "\u001b[32m[I 2023-05-15 12:35:31,263]\u001b[0m Trial 52 finished with values: [0.07549767004251981, 0.6388440491224217] and parameters: {'n_estimators': 1332, 'num_leaves': 288, 'max_depth': 11, 'min_child_samples': 5, 'learning_rate': 0.0040235528494403155, 'boosting_type': 'goss'}. \u001b[0m\n",
      "\u001b[32m[I 2023-05-15 12:36:39,268]\u001b[0m Trial 53 finished with values: [0.08837147197460955, 0.6405516206372738] and parameters: {'n_estimators': 7182, 'num_leaves': 109, 'max_depth': 14, 'min_child_samples': 65, 'learning_rate': 0.009128397897042938, 'boosting_type': 'goss'}. \u001b[0m\n",
      "\u001b[32m[I 2023-05-15 12:37:02,358]\u001b[0m Trial 54 finished with values: [0.013898108079785481, 0.3303409652446055] and parameters: {'n_estimators': 508, 'num_leaves': 633, 'max_depth': 16, 'min_child_samples': 21, 'learning_rate': 0.001258058751719007, 'boosting_type': 'goss'}. \u001b[0m\n",
      "\u001b[32m[I 2023-05-15 12:37:24,054]\u001b[0m Trial 55 finished with values: [0.014108615013738546, 0.33333973901425723] and parameters: {'n_estimators': 441, 'num_leaves': 611, 'max_depth': 16, 'min_child_samples': 19, 'learning_rate': 0.001455206446458426, 'boosting_type': 'goss'}. \u001b[0m\n",
      "\u001b[32m[I 2023-05-15 12:39:22,076]\u001b[0m Trial 56 finished with values: [0.0866314418735604, 0.6503989824118304] and parameters: {'n_estimators': 6452, 'num_leaves': 344, 'max_depth': 18, 'min_child_samples': 42, 'learning_rate': 0.001784333857320755, 'boosting_type': 'goss'}. \u001b[0m\n",
      "\u001b[32m[I 2023-05-15 12:42:38,524]\u001b[0m Trial 57 finished with values: [0.08237552175034354, 0.6465427624956532] and parameters: {'n_estimators': 5626, 'num_leaves': 453, 'max_depth': 15, 'min_child_samples': 12, 'learning_rate': 0.002408488942713286, 'boosting_type': 'goss'}. \u001b[0m\n",
      "\u001b[32m[I 2023-05-15 12:45:34,689]\u001b[0m Trial 58 finished with values: [0.08559809305746222, 0.6508226724500814] and parameters: {'n_estimators': 7734, 'num_leaves': 508, 'max_depth': 18, 'min_child_samples': 27, 'learning_rate': 0.0016392394481291733, 'boosting_type': 'goss'}. \u001b[0m\n",
      "\u001b[32m[I 2023-05-15 12:54:51,116]\u001b[0m Trial 59 finished with values: [0.0, 0.0] and parameters: {'n_estimators': 4349, 'num_leaves': 731, 'max_depth': 16, 'min_child_samples': 5, 'learning_rate': 7.392432836903206e-05, 'boosting_type': 'gbdt'}. \u001b[0m\n",
      "\u001b[32m[I 2023-05-15 12:54:52,650]\u001b[0m Trial 60 finished with values: [0.0, 0.0] and parameters: {'n_estimators': 40, 'num_leaves': 623, 'max_depth': 13, 'min_child_samples': 39, 'learning_rate': 0.002945272964494365, 'boosting_type': 'goss'}. \u001b[0m\n",
      "\u001b[32m[I 2023-05-15 12:55:05,545]\u001b[0m Trial 61 finished with values: [0.038347868563847795, 0.47111312432511576] and parameters: {'n_estimators': 942, 'num_leaves': 402, 'max_depth': 10, 'min_child_samples': 49, 'learning_rate': 0.0012705020310997913, 'boosting_type': 'goss'}. \u001b[0m\n",
      "\u001b[32m[I 2023-05-15 12:56:46,227]\u001b[0m Trial 62 finished with values: [0.03187993711774177, 0.45399531470195287] and parameters: {'n_estimators': 1634, 'num_leaves': 680, 'max_depth': 17, 'min_child_samples': 19, 'learning_rate': 0.0006131034735538943, 'boosting_type': 'goss'}. \u001b[0m\n",
      "\u001b[32m[I 2023-05-15 12:56:51,422]\u001b[0m Trial 63 finished with values: [0.0, 0.07103991654312854] and parameters: {'n_estimators': 547, 'num_leaves': 242, 'max_depth': 8, 'min_child_samples': 293, 'learning_rate': 0.0009337783688989358, 'boosting_type': 'goss'}. \u001b[0m\n",
      "\u001b[32m[I 2023-05-15 12:58:19,518]\u001b[0m Trial 64 finished with values: [0.013323849974002988, 0.33419901535533225] and parameters: {'n_estimators': 1542, 'num_leaves': 652, 'max_depth': 19, 'min_child_samples': 23, 'learning_rate': 0.00042173500841254563, 'boosting_type': 'gbdt'}. \u001b[0m\n",
      "\u001b[32m[I 2023-05-15 13:00:26,445]\u001b[0m Trial 65 finished with values: [0.030838541418526745, 0.4351708486612127] and parameters: {'n_estimators': 2895, 'num_leaves': 673, 'max_depth': 20, 'min_child_samples': 33, 'learning_rate': 0.0003330499242742226, 'boosting_type': 'gbdt'}. \u001b[0m\n",
      "\u001b[32m[I 2023-05-15 13:00:44,808]\u001b[0m Trial 66 finished with values: [0.04702902725557153, 0.42619465949230406] and parameters: {'n_estimators': 2179, 'num_leaves': 548, 'max_depth': 19, 'min_child_samples': 273, 'learning_rate': 0.0006011582644766846, 'boosting_type': 'gbdt'}. \u001b[0m\n",
      "\u001b[32m[I 2023-05-15 13:01:26,597]\u001b[0m Trial 67 finished with values: [0.035450506656559355, 0.4557111220922784] and parameters: {'n_estimators': 1566, 'num_leaves': 666, 'max_depth': 19, 'min_child_samples': 57, 'learning_rate': 0.0007260457094573165, 'boosting_type': 'gbdt'}. \u001b[0m\n",
      "\u001b[32m[I 2023-05-15 13:03:28,840]\u001b[0m Trial 68 finished with values: [0.016010918017932425, 0.33847618001793595] and parameters: {'n_estimators': 1810, 'num_leaves': 578, 'max_depth': 19, 'min_child_samples': 16, 'learning_rate': 0.0003573645600303281, 'boosting_type': 'gbdt'}. \u001b[0m\n",
      "\u001b[32m[I 2023-05-15 13:05:41,209]\u001b[0m Trial 69 finished with values: [0.06990176161722418, 0.6521092992185069] and parameters: {'n_estimators': 5581, 'num_leaves': 736, 'max_depth': 20, 'min_child_samples': 73, 'learning_rate': 0.0011230250498320657, 'boosting_type': 'gbdt'}. \u001b[0m\n",
      "\u001b[32m[I 2023-05-15 13:07:59,776]\u001b[0m Trial 70 finished with values: [0.0, 0.0] and parameters: {'n_estimators': 2791, 'num_leaves': 800, 'max_depth': 18, 'min_child_samples': 25, 'learning_rate': 3.843056855751053e-05, 'boosting_type': 'gbdt'}. \u001b[0m\n",
      "\u001b[32m[I 2023-05-15 13:08:14,554]\u001b[0m Trial 71 finished with values: [0.025004253922058906, 0.34959003642087155] and parameters: {'n_estimators': 1420, 'num_leaves': 706, 'max_depth': 17, 'min_child_samples': 220, 'learning_rate': 0.0006769176864977308, 'boosting_type': 'gbdt'}. \u001b[0m\n",
      "\u001b[32m[I 2023-05-15 13:09:01,839]\u001b[0m Trial 72 finished with values: [0.05354506265459763, 0.532298358315489] and parameters: {'n_estimators': 1571, 'num_leaves': 139, 'max_depth': 19, 'min_child_samples': 43, 'learning_rate': 0.001006703261961089, 'boosting_type': 'gbdt'}. \u001b[0m\n",
      "\u001b[32m[I 2023-05-15 13:09:36,673]\u001b[0m Trial 73 finished with values: [0.07326154809680079, 0.611896264572924] and parameters: {'n_estimators': 2346, 'num_leaves': 482, 'max_depth': 20, 'min_child_samples': 128, 'learning_rate': 0.0015780705832746612, 'boosting_type': 'gbdt'}. \u001b[0m\n",
      "\u001b[32m[I 2023-05-15 13:11:32,135]\u001b[0m Trial 74 finished with values: [0.06651080906823337, 0.6174490748366551] and parameters: {'n_estimators': 9515, 'num_leaves': 72, 'max_depth': 7, 'min_child_samples': 33, 'learning_rate': 0.0005938282618189534, 'boosting_type': 'gbdt'}. \u001b[0m\n",
      "\u001b[32m[I 2023-05-15 13:11:50,653]\u001b[0m Trial 75 finished with values: [0.07637155438884147, 0.6418419077947985] and parameters: {'n_estimators': 1982, 'num_leaves': 765, 'max_depth': 9, 'min_child_samples': 255, 'learning_rate': 0.004990199366636464, 'boosting_type': 'gbdt'}. \u001b[0m\n",
      "\u001b[32m[I 2023-05-15 13:12:24,802]\u001b[0m Trial 76 finished with values: [0.08268346481662465, 0.6465491681765771] and parameters: {'n_estimators': 2583, 'num_leaves': 537, 'max_depth': 17, 'min_child_samples': 158, 'learning_rate': 0.006070710223800071, 'boosting_type': 'gbdt'}. \u001b[0m\n",
      "\u001b[32m[I 2023-05-15 13:12:53,402]\u001b[0m Trial 77 finished with values: [0.06826030669736045, 0.6431257892713995] and parameters: {'n_estimators': 3242, 'num_leaves': 593, 'max_depth': 6, 'min_child_samples': 12, 'learning_rate': 0.005484749911464478, 'boosting_type': 'gbdt'}. \u001b[0m\n",
      "\u001b[32m[I 2023-05-15 13:13:04,673]\u001b[0m Trial 78 finished with values: [0.0773015157227103, 0.6011987774300408] and parameters: {'n_estimators': 926, 'num_leaves': 597, 'max_depth': 18, 'min_child_samples': 193, 'learning_rate': 0.0037171530471345475, 'boosting_type': 'gbdt'}. \u001b[0m\n",
      "\u001b[32m[I 2023-05-15 13:13:23,325]\u001b[0m Trial 79 finished with values: [0.06724153245931545, 0.6491132707406797] and parameters: {'n_estimators': 3284, 'num_leaves': 649, 'max_depth': 5, 'min_child_samples': 29, 'learning_rate': 0.0069520954772304844, 'boosting_type': 'gbdt'}. \u001b[0m\n",
      "\u001b[32m[I 2023-05-15 13:13:53,482]\u001b[0m Trial 80 finished with values: [0.07179504351667342, 0.6546798074635334] and parameters: {'n_estimators': 8426, 'num_leaves': 651, 'max_depth': 3, 'min_child_samples': 68, 'learning_rate': 0.006425962336535362, 'boosting_type': 'gbdt'}. \u001b[0m\n",
      "\u001b[32m[I 2023-05-15 13:14:16,545]\u001b[0m Trial 81 finished with values: [0.0658336637498665, 0.6332802576913925] and parameters: {'n_estimators': 1206, 'num_leaves': 184, 'max_depth': 11, 'min_child_samples': 38, 'learning_rate': 0.00441988101437684, 'boosting_type': 'gbdt'}. \u001b[0m\n",
      "\u001b[32m[I 2023-05-15 13:14:40,308]\u001b[0m Trial 82 finished with values: [0.06997575778415696, 0.6499670564981057] and parameters: {'n_estimators': 1222, 'num_leaves': 692, 'max_depth': 11, 'min_child_samples': 38, 'learning_rate': 0.006731858759116192, 'boosting_type': 'gbdt'}. \u001b[0m\n",
      "\u001b[32m[I 2023-05-15 13:15:54,717]\u001b[0m Trial 83 finished with values: [0.07442949593953616, 0.6538177858306338] and parameters: {'n_estimators': 1806, 'num_leaves': 707, 'max_depth': 20, 'min_child_samples': 28, 'learning_rate': 0.004389472931390293, 'boosting_type': 'gbdt'}. \u001b[0m\n",
      "\u001b[32m[I 2023-05-15 13:16:50,408]\u001b[0m Trial 84 finished with values: [0.0764108829517453, 0.652114789802156] and parameters: {'n_estimators': 3110, 'num_leaves': 167, 'max_depth': 19, 'min_child_samples': 88, 'learning_rate': 0.0031430802600458793, 'boosting_type': 'gbdt'}. \u001b[0m\n",
      "\u001b[32m[I 2023-05-15 13:17:01,644]\u001b[0m Trial 85 finished with values: [0.0, 0.0] and parameters: {'n_estimators': 1054, 'num_leaves': 665, 'max_depth': 6, 'min_child_samples': 20, 'learning_rate': 0.0003325055797874137, 'boosting_type': 'gbdt'}. \u001b[0m\n",
      "\u001b[32m[I 2023-05-15 13:17:41,050]\u001b[0m Trial 86 finished with values: [0.07385760104027031, 0.6529704057541317] and parameters: {'n_estimators': 6654, 'num_leaves': 201, 'max_depth': 5, 'min_child_samples': 52, 'learning_rate': 0.0039824299228713896, 'boosting_type': 'gbdt'}. \u001b[0m\n",
      "\u001b[32m[I 2023-05-15 13:18:47,391]\u001b[0m Trial 87 finished with values: [0.05207794394578931, 0.5335785794029906] and parameters: {'n_estimators': 2176, 'num_leaves': 833, 'max_depth': 11, 'min_child_samples': 36, 'learning_rate': 0.0007954719382581132, 'boosting_type': 'gbdt'}. \u001b[0m\n",
      "\u001b[32m[I 2023-05-15 13:19:32,411]\u001b[0m Trial 88 finished with values: [0.07247620591438568, 0.65552993283186] and parameters: {'n_estimators': 2092, 'num_leaves': 834, 'max_depth': 11, 'min_child_samples': 38, 'learning_rate': 0.007222206117668644, 'boosting_type': 'gbdt'}. \u001b[0m\n",
      "\u001b[32m[I 2023-05-15 13:20:58,012]\u001b[0m Trial 89 finished with values: [0.0761736266812572, 0.6636651476051905] and parameters: {'n_estimators': 7618, 'num_leaves': 312, 'max_depth': 10, 'min_child_samples': 59, 'learning_rate': 0.0026136350804998893, 'boosting_type': 'gbdt'}. \u001b[0m\n",
      "\u001b[32m[I 2023-05-15 13:21:03,897]\u001b[0m Trial 90 finished with values: [0.05708613862944244, 0.5622540676073866] and parameters: {'n_estimators': 265, 'num_leaves': 257, 'max_depth': 9, 'min_child_samples': 13, 'learning_rate': 0.00838910139270482, 'boosting_type': 'gbdt'}. \u001b[0m\n",
      "\u001b[32m[I 2023-05-15 13:23:06,672]\u001b[0m Trial 91 finished with values: [0.08078952779859928, 0.6409835465509983] and parameters: {'n_estimators': 4447, 'num_leaves': 198, 'max_depth': 17, 'min_child_samples': 24, 'learning_rate': 0.008476088439513085, 'boosting_type': 'gbdt'}. \u001b[0m\n",
      "\u001b[32m[I 2023-05-15 13:23:23,684]\u001b[0m Trial 92 finished with values: [0.0, 0.0] and parameters: {'n_estimators': 258, 'num_leaves': 618, 'max_depth': 18, 'min_child_samples': 10, 'learning_rate': 0.0010809184837946824, 'boosting_type': 'gbdt'}. \u001b[0m\n",
      "\u001b[32m[I 2023-05-15 13:40:44,338]\u001b[0m Trial 93 finished with values: [0.07386511264155422, 0.6422710884166987] and parameters: {'n_estimators': 803, 'num_leaves': 264, 'max_depth': 20, 'min_child_samples': 17, 'learning_rate': 0.009585889755324643, 'boosting_type': 'gbdt'}. \u001b[0m\n",
      "\u001b[32m[I 2023-05-15 13:40:59,437]\u001b[0m Trial 94 finished with values: [0.07434108558155814, 0.6546770621717088] and parameters: {'n_estimators': 1354, 'num_leaves': 646, 'max_depth': 10, 'min_child_samples': 46, 'learning_rate': 0.008024747710622858, 'boosting_type': 'gbdt'}. \u001b[0m\n",
      "\u001b[32m[I 2023-05-15 13:41:04,705]\u001b[0m Trial 95 finished with values: [0.0, 0.0] and parameters: {'n_estimators': 1685, 'num_leaves': 560, 'max_depth': 3, 'min_child_samples': 5, 'learning_rate': 2.945206429247815e-05, 'boosting_type': 'gbdt'}. \u001b[0m\n",
      "\u001b[32m[I 2023-05-15 13:41:08,398]\u001b[0m Trial 96 finished with values: [0.06792612344938964, 0.5789426966086494] and parameters: {'n_estimators': 629, 'num_leaves': 529, 'max_depth': 4, 'min_child_samples': 29, 'learning_rate': 0.005881494372458649, 'boosting_type': 'goss'}. \u001b[0m\n",
      "\u001b[32m[I 2023-05-15 13:41:39,754]\u001b[0m Trial 97 finished with values: [0.03211846733611749, 0.43688757114881305] and parameters: {'n_estimators': 2603, 'num_leaves': 875, 'max_depth': 9, 'min_child_samples': 101, 'learning_rate': 0.0004105635028714364, 'boosting_type': 'gbdt'}. \u001b[0m\n",
      "\u001b[32m[I 2023-05-15 13:42:47,415]\u001b[0m Trial 98 finished with values: [0.09432878602392122, 0.5866359193982321] and parameters: {'n_estimators': 8117, 'num_leaves': 365, 'max_depth': 12, 'min_child_samples': 235, 'learning_rate': 0.0017688830137468944, 'boosting_type': 'goss'}. \u001b[0m\n",
      "\u001b[32m[I 2023-05-15 13:54:16,253]\u001b[0m Trial 99 finished with values: [0.08119408358730563, 0.6392695693552224] and parameters: {'n_estimators': 8755, 'num_leaves': 721, 'max_depth': 19, 'min_child_samples': 12, 'learning_rate': 0.003214412426522417, 'boosting_type': 'gbdt'}. \u001b[0m\n",
      "\u001b[32m[I 2023-05-15 13:54:16,267]\u001b[0m A new study created in memory with name: no-name-153162d2-ca38-4bc8-badc-d7431311f440\u001b[0m\n"
     ]
    },
    {
     "name": "stdout",
     "output_type": "stream",
     "text": [
      "Number of finished trials:  100\n",
      "3\n"
     ]
    },
    {
     "name": "stderr",
     "output_type": "stream",
     "text": [
      "\u001b[32m[I 2023-05-15 13:55:54,806]\u001b[0m Trial 0 finished with values: [0.08469921152409457, 0.6401691099763904] and parameters: {'n_estimators': 8909, 'num_leaves': 156, 'max_depth': 11, 'min_child_samples': 105, 'learning_rate': 0.00684861902437049, 'boosting_type': 'gbdt'}. \u001b[0m\n",
      "\u001b[32m[I 2023-05-15 13:56:02,517]\u001b[0m Trial 1 finished with values: [0.0929872072070013, 0.5866652025110269] and parameters: {'n_estimators': 1073, 'num_leaves': 570, 'max_depth': 8, 'min_child_samples': 228, 'learning_rate': 0.0068947582925262116, 'boosting_type': 'goss'}. \u001b[0m\n",
      "\u001b[32m[I 2023-05-15 13:56:19,063]\u001b[0m Trial 2 finished with values: [0.08146890654788493, 0.6264563773129084] and parameters: {'n_estimators': 1902, 'num_leaves': 49, 'max_depth': 20, 'min_child_samples': 290, 'learning_rate': 0.007660583009013946, 'boosting_type': 'gbdt'}. \u001b[0m\n",
      "\u001b[32m[I 2023-05-15 13:57:32,746]\u001b[0m Trial 3 finished with values: [0.0795421821857093, 0.6307362872673365] and parameters: {'n_estimators': 5852, 'num_leaves': 544, 'max_depth': 19, 'min_child_samples': 244, 'learning_rate': 0.006114039998245773, 'boosting_type': 'gbdt'}. \u001b[0m\n",
      "\u001b[32m[I 2023-05-15 13:57:53,229]\u001b[0m Trial 4 finished with values: [0.053639527460583626, 0.538738812935815] and parameters: {'n_estimators': 4902, 'num_leaves': 185, 'max_depth': 3, 'min_child_samples': 39, 'learning_rate': 0.0008136509220254756, 'boosting_type': 'gbdt'}. \u001b[0m\n",
      "\u001b[32m[I 2023-05-15 13:58:54,781]\u001b[0m Trial 5 finished with values: [0.08587947493618578, 0.6363064843792895] and parameters: {'n_estimators': 4132, 'num_leaves': 856, 'max_depth': 18, 'min_child_samples': 157, 'learning_rate': 0.008221191896270305, 'boosting_type': 'gbdt'}. \u001b[0m\n",
      "\u001b[32m[I 2023-05-15 13:59:32,781]\u001b[0m Trial 6 finished with values: [0.0789960307461448, 0.6196141949889273] and parameters: {'n_estimators': 4623, 'num_leaves': 484, 'max_depth': 7, 'min_child_samples': 120, 'learning_rate': 0.0020305945195579953, 'boosting_type': 'goss'}. \u001b[0m\n",
      "\u001b[32m[I 2023-05-15 14:02:02,165]\u001b[0m Trial 7 finished with values: [0.08555735696771075, 0.6358892000219623] and parameters: {'n_estimators': 7858, 'num_leaves': 248, 'max_depth': 18, 'min_child_samples': 82, 'learning_rate': 0.005325282103447017, 'boosting_type': 'gbdt'}. \u001b[0m\n",
      "\u001b[32m[I 2023-05-15 14:04:04,312]\u001b[0m Trial 8 finished with values: [0.08763656108345982, 0.6328840205713867] and parameters: {'n_estimators': 7232, 'num_leaves': 767, 'max_depth': 12, 'min_child_samples': 40, 'learning_rate': 0.008495743166256212, 'boosting_type': 'gbdt'}. \u001b[0m\n",
      "\u001b[32m[I 2023-05-15 14:04:36,310]\u001b[0m Trial 9 finished with values: [0.06575007440734856, 0.6285977049360347] and parameters: {'n_estimators': 7252, 'num_leaves': 698, 'max_depth': 3, 'min_child_samples': 9, 'learning_rate': 0.0027322071777084443, 'boosting_type': 'gbdt'}. \u001b[0m\n",
      "\u001b[32m[I 2023-05-15 14:05:13,375]\u001b[0m Trial 10 finished with values: [0.06946147770447328, 0.6256044217500321] and parameters: {'n_estimators': 9951, 'num_leaves': 994, 'max_depth': 2, 'min_child_samples': 18, 'learning_rate': 0.003498530560678682, 'boosting_type': 'goss'}. \u001b[0m\n",
      "\u001b[32m[I 2023-05-15 14:05:20,744]\u001b[0m Trial 11 finished with values: [0.00033840947546531303, 0.03722707223777887] and parameters: {'n_estimators': 2991, 'num_leaves': 324, 'max_depth': 2, 'min_child_samples': 5, 'learning_rate': 0.00018306751019570575, 'boosting_type': 'gbdt'}. \u001b[0m\n",
      "\u001b[32m[I 2023-05-15 14:05:50,370]\u001b[0m Trial 12 finished with values: [0.06594847933726763, 0.6452872490345724] and parameters: {'n_estimators': 6435, 'num_leaves': 695, 'max_depth': 5, 'min_child_samples': 62, 'learning_rate': 0.0031776578947463334, 'boosting_type': 'gbdt'}. \u001b[0m\n",
      "\u001b[32m[I 2023-05-15 14:06:32,415]\u001b[0m Trial 13 finished with values: [0.06734407136733452, 0.6469993960357986] and parameters: {'n_estimators': 5937, 'num_leaves': 415, 'max_depth': 6, 'min_child_samples': 63, 'learning_rate': 0.004203215240727729, 'boosting_type': 'gbdt'}. \u001b[0m\n",
      "\u001b[32m[I 2023-05-15 14:06:56,839]\u001b[0m Trial 14 finished with values: [0.08477305461844048, 0.6196068742107286] and parameters: {'n_estimators': 3526, 'num_leaves': 14, 'max_depth': 5, 'min_child_samples': 158, 'learning_rate': 0.009914654121469933, 'boosting_type': 'goss'}. \u001b[0m\n",
      "\u001b[32m[I 2023-05-15 14:08:45,319]\u001b[0m Trial 15 finished with values: [0.06602706522757908, 0.6354481231354893] and parameters: {'n_estimators': 5720, 'num_leaves': 630, 'max_depth': 11, 'min_child_samples': 61, 'learning_rate': 0.0012100833654939385, 'boosting_type': 'gbdt'}. \u001b[0m\n",
      "\u001b[32m[I 2023-05-15 14:08:47,215]\u001b[0m Trial 16 finished with values: [0.0, 0.0] and parameters: {'n_estimators': 132, 'num_leaves': 384, 'max_depth': 9, 'min_child_samples': 128, 'learning_rate': 0.0014520118329108432, 'boosting_type': 'gbdt'}. \u001b[0m\n",
      "\u001b[32m[I 2023-05-15 14:09:21,844]\u001b[0m Trial 17 finished with values: [0.0, 0.057344570727868374] and parameters: {'n_estimators': 2816, 'num_leaves': 272, 'max_depth': 14, 'min_child_samples': 210, 'learning_rate': 0.00016235859953765718, 'boosting_type': 'goss'}. \u001b[0m\n",
      "\u001b[32m[I 2023-05-15 14:09:56,004]\u001b[0m Trial 18 finished with values: [0.06574320460497443, 0.6414374347993193] and parameters: {'n_estimators': 6550, 'num_leaves': 882, 'max_depth': 4, 'min_child_samples': 88, 'learning_rate': 0.00314002397751987, 'boosting_type': 'gbdt'}. \u001b[0m\n",
      "\u001b[32m[I 2023-05-15 14:10:27,511]\u001b[0m Trial 19 finished with values: [0.06667504566676279, 0.6470048866194476] and parameters: {'n_estimators': 4811, 'num_leaves': 181, 'max_depth': 5, 'min_child_samples': 45, 'learning_rate': 0.0041723266462291905, 'boosting_type': 'gbdt'}. \u001b[0m\n",
      "\u001b[32m[I 2023-05-15 14:12:21,031]\u001b[0m Trial 20 finished with values: [0.08008845508637133, 0.6350235179999635] and parameters: {'n_estimators': 8034, 'num_leaves': 764, 'max_depth': 15, 'min_child_samples': 173, 'learning_rate': 0.00242176121627084, 'boosting_type': 'gbdt'}. \u001b[0m\n",
      "\u001b[32m[I 2023-05-15 14:12:50,707]\u001b[0m Trial 21 finished with values: [0.025933775889323572, 0.37184886253408733] and parameters: {'n_estimators': 2435, 'num_leaves': 137, 'max_depth': 15, 'min_child_samples': 203, 'learning_rate': 0.00039866371635619366, 'boosting_type': 'goss'}. \u001b[0m\n",
      "\u001b[32m[I 2023-05-15 14:13:07,186]\u001b[0m Trial 22 finished with values: [0.07738629840726587, 0.5241851058767547] and parameters: {'n_estimators': 2162, 'num_leaves': 109, 'max_depth': 16, 'min_child_samples': 270, 'learning_rate': 0.0011405096044250541, 'boosting_type': 'goss'}. \u001b[0m\n",
      "\u001b[32m[I 2023-05-15 14:14:17,260]\u001b[0m Trial 23 finished with values: [0.0, 0.0] and parameters: {'n_estimators': 5307, 'num_leaves': 222, 'max_depth': 9, 'min_child_samples': 192, 'learning_rate': 4.730215151437802e-05, 'boosting_type': 'goss'}. \u001b[0m\n",
      "\u001b[32m[I 2023-05-15 14:14:48,679]\u001b[0m Trial 24 finished with values: [0.0554518351093104, 0.568263511411263] and parameters: {'n_estimators': 1288, 'num_leaves': 102, 'max_depth': 13, 'min_child_samples': 30, 'learning_rate': 0.0014795725863944583, 'boosting_type': 'goss'}. \u001b[0m\n",
      "\u001b[32m[I 2023-05-15 14:14:54,284]\u001b[0m Trial 25 finished with values: [0.0, 0.0] and parameters: {'n_estimators': 216, 'num_leaves': 111, 'max_depth': 14, 'min_child_samples': 80, 'learning_rate': 0.0018456327834334317, 'boosting_type': 'goss'}. \u001b[0m\n",
      "\u001b[32m[I 2023-05-15 14:15:19,962]\u001b[0m Trial 26 finished with values: [0.07003285528447101, 0.6063416241146433] and parameters: {'n_estimators': 1268, 'num_leaves': 80, 'max_depth': 13, 'min_child_samples': 29, 'learning_rate': 0.002074234109633668, 'boosting_type': 'goss'}. \u001b[0m\n",
      "\u001b[32m[I 2023-05-15 14:15:29,634]\u001b[0m Trial 27 finished with values: [0.07523158559466252, 0.5537079741576529] and parameters: {'n_estimators': 898, 'num_leaves': 373, 'max_depth': 16, 'min_child_samples': 198, 'learning_rate': 0.0027499480056728106, 'boosting_type': 'goss'}. \u001b[0m\n",
      "\u001b[32m[I 2023-05-15 14:15:59,127]\u001b[0m Trial 28 finished with values: [0.06400672323610121, 0.5661221837881366] and parameters: {'n_estimators': 2256, 'num_leaves': 268, 'max_depth': 10, 'min_child_samples': 116, 'learning_rate': 0.000986398686966464, 'boosting_type': 'goss'}. \u001b[0m\n",
      "\u001b[32m[I 2023-05-15 14:16:35,880]\u001b[0m Trial 29 finished with values: [0.0831216535529705, 0.620469810940903] and parameters: {'n_estimators': 3735, 'num_leaves': 121, 'max_depth': 12, 'min_child_samples': 135, 'learning_rate': 0.0018003187125988944, 'boosting_type': 'goss'}. \u001b[0m\n",
      "\u001b[32m[I 2023-05-15 14:16:56,921]\u001b[0m Trial 30 finished with values: [0.08289317861574393, 0.6256025915554824] and parameters: {'n_estimators': 1661, 'num_leaves': 425, 'max_depth': 16, 'min_child_samples': 94, 'learning_rate': 0.003513359565196269, 'boosting_type': 'goss'}. \u001b[0m\n",
      "\u001b[32m[I 2023-05-15 14:18:27,334]\u001b[0m Trial 31 finished with values: [0.09487031518983649, 0.5811014110799978] and parameters: {'n_estimators': 8956, 'num_leaves': 197, 'max_depth': 17, 'min_child_samples': 241, 'learning_rate': 0.0008949472253838588, 'boosting_type': 'goss'}. \u001b[0m\n",
      "\u001b[32m[I 2023-05-15 14:18:55,935]\u001b[0m Trial 32 finished with values: [0.060707709743163196, 0.5211753509398048] and parameters: {'n_estimators': 3040, 'num_leaves': 150, 'max_depth': 14, 'min_child_samples': 180, 'learning_rate': 0.000577914584111468, 'boosting_type': 'goss'}. \u001b[0m\n",
      "\u001b[32m[I 2023-05-15 14:19:26,327]\u001b[0m Trial 33 finished with values: [0.07425541458233961, 0.5301735024433097] and parameters: {'n_estimators': 4107, 'num_leaves': 37, 'max_depth': 12, 'min_child_samples': 217, 'learning_rate': 0.0005554041805567872, 'boosting_type': 'goss'}. \u001b[0m\n",
      "\u001b[32m[I 2023-05-15 14:19:33,315]\u001b[0m Trial 34 finished with values: [0.04085016715836607, 0.40693186185691543] and parameters: {'n_estimators': 739, 'num_leaves': 317, 'max_depth': 20, 'min_child_samples': 270, 'learning_rate': 0.001529298340815537, 'boosting_type': 'goss'}. \u001b[0m\n",
      "\u001b[32m[I 2023-05-15 14:19:39,558]\u001b[0m Trial 35 finished with values: [0.0320889200630307, 0.3765652738886144] and parameters: {'n_estimators': 661, 'num_leaves': 318, 'max_depth': 19, 'min_child_samples': 276, 'learning_rate': 0.0015007337870903293, 'boosting_type': 'goss'}. \u001b[0m\n",
      "\u001b[32m[I 2023-05-15 14:20:12,394]\u001b[0m Trial 36 finished with values: [0.07518771754140827, 0.6144722634015995] and parameters: {'n_estimators': 1332, 'num_leaves': 561, 'max_depth': 20, 'min_child_samples': 61, 'learning_rate': 0.0024086466422595524, 'boosting_type': 'goss'}. \u001b[0m\n",
      "\u001b[32m[I 2023-05-15 14:20:34,582]\u001b[0m Trial 37 finished with values: [0.08159096451339848, 0.6350171123190396] and parameters: {'n_estimators': 2433, 'num_leaves': 74, 'max_depth': 8, 'min_child_samples': 52, 'learning_rate': 0.006152018300186537, 'boosting_type': 'goss'}. \u001b[0m\n",
      "\u001b[32m[I 2023-05-15 14:20:45,651]\u001b[0m Trial 38 finished with values: [0.08499505176744845, 0.5374476106810153] and parameters: {'n_estimators': 1754, 'num_leaves': 616, 'max_depth': 11, 'min_child_samples': 300, 'learning_rate': 0.0017557990339928393, 'boosting_type': 'goss'}. \u001b[0m\n",
      "\u001b[32m[I 2023-05-15 14:21:06,626]\u001b[0m Trial 39 finished with values: [0.03718709431195824, 0.49038232764142825] and parameters: {'n_estimators': 759, 'num_leaves': 155, 'max_depth': 13, 'min_child_samples': 25, 'learning_rate': 0.0015624525707677132, 'boosting_type': 'goss'}. \u001b[0m\n",
      "\u001b[32m[I 2023-05-15 14:21:17,709]\u001b[0m Trial 40 finished with values: [0.07226571274554086, 0.6076300810776185] and parameters: {'n_estimators': 490, 'num_leaves': 486, 'max_depth': 15, 'min_child_samples': 32, 'learning_rate': 0.005539602911393796, 'boosting_type': 'goss'}. \u001b[0m\n",
      "\u001b[32m[I 2023-05-15 14:21:42,670]\u001b[0m Trial 41 finished with values: [0.06757643735544355, 0.5164763264334998] and parameters: {'n_estimators': 3206, 'num_leaves': 261, 'max_depth': 14, 'min_child_samples': 214, 'learning_rate': 0.0006341388759825558, 'boosting_type': 'goss'}. \u001b[0m\n",
      "\u001b[32m[I 2023-05-15 14:22:04,081]\u001b[0m Trial 42 finished with values: [0.0, 0.0] and parameters: {'n_estimators': 2451, 'num_leaves': 177, 'max_depth': 13, 'min_child_samples': 241, 'learning_rate': 1.1359501809754405e-05, 'boosting_type': 'goss'}. \u001b[0m\n",
      "\u001b[32m[I 2023-05-15 14:22:49,428]\u001b[0m Trial 43 finished with values: [0.01313485532297681, 0.3590164534490016] and parameters: {'n_estimators': 1358, 'num_leaves': 143, 'max_depth': 17, 'min_child_samples': 19, 'learning_rate': 0.0004912912501599748, 'boosting_type': 'goss'}. \u001b[0m\n",
      "\u001b[32m[I 2023-05-15 14:23:18,273]\u001b[0m Trial 44 finished with values: [0.06813481676450553, 0.6110488844964219] and parameters: {'n_estimators': 1325, 'num_leaves': 996, 'max_depth': 10, 'min_child_samples': 19, 'learning_rate': 0.002113781672361106, 'boosting_type': 'goss'}. \u001b[0m\n",
      "\u001b[32m[I 2023-05-15 14:23:22,506]\u001b[0m Trial 45 finished with values: [0.005207629381760737, 0.2717207489156097] and parameters: {'n_estimators': 104, 'num_leaves': 527, 'max_depth': 17, 'min_child_samples': 21, 'learning_rate': 0.004761110563140955, 'boosting_type': 'gbdt'}. \u001b[0m\n",
      "\u001b[32m[I 2023-05-15 14:23:24,349]\u001b[0m Trial 46 finished with values: [0.0, 0.0] and parameters: {'n_estimators': 32, 'num_leaves': 685, 'max_depth': 18, 'min_child_samples': 17, 'learning_rate': 0.0011632175357127973, 'boosting_type': 'gbdt'}. \u001b[0m\n",
      "\u001b[32m[I 2023-05-15 14:23:40,925]\u001b[0m Trial 47 finished with values: [0.022977586787840204, 0.40478961913651423] and parameters: {'n_estimators': 991, 'num_leaves': 512, 'max_depth': 17, 'min_child_samples': 70, 'learning_rate': 0.000937311453302057, 'boosting_type': 'goss'}. \u001b[0m\n",
      "\u001b[32m[I 2023-05-15 14:23:56,858]\u001b[0m Trial 48 finished with values: [0.08274457557985052, 0.6362955032119915] and parameters: {'n_estimators': 1803, 'num_leaves': 498, 'max_depth': 17, 'min_child_samples': 75, 'learning_rate': 0.004776706959155951, 'boosting_type': 'goss'}. \u001b[0m\n",
      "\u001b[32m[I 2023-05-15 14:24:11,549]\u001b[0m Trial 49 finished with values: [0.08485921564291107, 0.6358718131737404] and parameters: {'n_estimators': 963, 'num_leaves': 434, 'max_depth': 17, 'min_child_samples': 29, 'learning_rate': 0.007180070864153893, 'boosting_type': 'goss'}. \u001b[0m\n",
      "\u001b[32m[I 2023-05-15 14:25:58,005]\u001b[0m Trial 50 finished with values: [0.038819666089994834, 0.4651375391204085] and parameters: {'n_estimators': 1456, 'num_leaves': 519, 'max_depth': 19, 'min_child_samples': 6, 'learning_rate': 0.000618056521746989, 'boosting_type': 'goss'}. \u001b[0m\n",
      "\u001b[32m[I 2023-05-15 14:26:06,780]\u001b[0m Trial 51 finished with values: [0.009765303417224196, 0.32563370486282694] and parameters: {'n_estimators': 496, 'num_leaves': 594, 'max_depth': 13, 'min_child_samples': 48, 'learning_rate': 0.0013095397383169338, 'boosting_type': 'gbdt'}. \u001b[0m\n",
      "\u001b[32m[I 2023-05-15 14:27:13,276]\u001b[0m Trial 52 finished with values: [0.07640536600165823, 0.6500045754863741] and parameters: {'n_estimators': 6485, 'num_leaves': 834, 'max_depth': 11, 'min_child_samples': 71, 'learning_rate': 0.0026999973078155283, 'boosting_type': 'gbdt'}. \u001b[0m\n",
      "\u001b[32m[I 2023-05-15 14:27:21,823]\u001b[0m Trial 53 finished with values: [0.020987953811046137, 0.40010340599205696] and parameters: {'n_estimators': 980, 'num_leaves': 681, 'max_depth': 7, 'min_child_samples': 33, 'learning_rate': 0.0009060250904090494, 'boosting_type': 'gbdt'}. \u001b[0m\n",
      "\u001b[32m[I 2023-05-15 14:27:26,082]\u001b[0m Trial 54 finished with values: [0.030205107457934678, 0.4574250992880543] and parameters: {'n_estimators': 354, 'num_leaves': 688, 'max_depth': 7, 'min_child_samples': 34, 'learning_rate': 0.0033238439262781253, 'boosting_type': 'gbdt'}. \u001b[0m\n",
      "\u001b[32m[I 2023-05-15 14:27:33,884]\u001b[0m Trial 55 finished with values: [0.04861024115493815, 0.5331741064075111] and parameters: {'n_estimators': 2004, 'num_leaves': 757, 'max_depth': 4, 'min_child_samples': 18, 'learning_rate': 0.0014848628685143785, 'boosting_type': 'gbdt'}. \u001b[0m\n",
      "\u001b[32m[I 2023-05-15 14:28:40,352]\u001b[0m Trial 56 finished with values: [0.056707662035390696, 0.5579970350848296] and parameters: {'n_estimators': 9846, 'num_leaves': 930, 'max_depth': 6, 'min_child_samples': 54, 'learning_rate': 0.00027973599153390634, 'boosting_type': 'gbdt'}. \u001b[0m\n",
      "\u001b[32m[I 2023-05-15 14:29:31,175]\u001b[0m Trial 57 finished with values: [0.06887072515111367, 0.6405891396255422] and parameters: {'n_estimators': 7754, 'num_leaves': 813, 'max_depth': 7, 'min_child_samples': 40, 'learning_rate': 0.002110331875675577, 'boosting_type': 'gbdt'}. \u001b[0m\n",
      "\u001b[32m[I 2023-05-15 14:30:01,350]\u001b[0m Trial 58 finished with values: [0.07115039782040475, 0.644011603433445] and parameters: {'n_estimators': 6905, 'num_leaves': 16, 'max_depth': 9, 'min_child_samples': 24, 'learning_rate': 0.0037955610416849344, 'boosting_type': 'gbdt'}. \u001b[0m\n",
      "\u001b[32m[I 2023-05-15 14:30:25,331]\u001b[0m Trial 59 finished with values: [0.0674369095605697, 0.6388678416515676] and parameters: {'n_estimators': 2704, 'num_leaves': 641, 'max_depth': 10, 'min_child_samples': 97, 'learning_rate': 0.002985825841229719, 'boosting_type': 'gbdt'}. \u001b[0m\n",
      "\u001b[32m[I 2023-05-15 14:30:28,991]\u001b[0m Trial 60 finished with values: [0.04702265379720124, 0.5049314592141145] and parameters: {'n_estimators': 1094, 'num_leaves': 225, 'max_depth': 3, 'min_child_samples': 10, 'learning_rate': 0.0025237801251181795, 'boosting_type': 'gbdt'}. \u001b[0m\n",
      "\u001b[32m[I 2023-05-15 14:30:32,654]\u001b[0m Trial 61 finished with values: [0.02650552333813343, 0.4407419608704405] and parameters: {'n_estimators': 350, 'num_leaves': 712, 'max_depth': 7, 'min_child_samples': 35, 'learning_rate': 0.00305112196775671, 'boosting_type': 'gbdt'}. \u001b[0m\n",
      "\u001b[32m[I 2023-05-15 14:30:40,484]\u001b[0m Trial 62 finished with values: [0.05955606145240033, 0.6046349676970662] and parameters: {'n_estimators': 1994, 'num_leaves': 818, 'max_depth': 4, 'min_child_samples': 16, 'learning_rate': 0.0037498655387783377, 'boosting_type': 'gbdt'}. \u001b[0m\n",
      "\u001b[32m[I 2023-05-15 14:30:50,648]\u001b[0m Trial 63 finished with values: [0.061401543029807895, 0.6208962462709786] and parameters: {'n_estimators': 2043, 'num_leaves': 745, 'max_depth': 5, 'min_child_samples': 14, 'learning_rate': 0.004220071231441177, 'boosting_type': 'gbdt'}. \u001b[0m\n",
      "\u001b[32m[I 2023-05-15 14:30:58,064]\u001b[0m Trial 64 finished with values: [0.06434750078769995, 0.608916707846044] and parameters: {'n_estimators': 2047, 'num_leaves': 761, 'max_depth': 4, 'min_child_samples': 46, 'learning_rate': 0.004292075730952095, 'boosting_type': 'gbdt'}. \u001b[0m\n",
      "\u001b[32m[I 2023-05-15 14:31:17,103]\u001b[0m Trial 65 finished with values: [0.06871054412513507, 0.6414420102856934] and parameters: {'n_estimators': 4710, 'num_leaves': 733, 'max_depth': 5, 'min_child_samples': 43, 'learning_rate': 0.0045583577440492275, 'boosting_type': 'gbdt'}. \u001b[0m\n",
      "\u001b[32m[I 2023-05-15 14:31:21,011]\u001b[0m Trial 66 finished with values: [0.06218756830545309, 0.5661267592745108] and parameters: {'n_estimators': 1660, 'num_leaves': 909, 'max_depth': 2, 'min_child_samples': 5, 'learning_rate': 0.005166199453156682, 'boosting_type': 'gbdt'}. \u001b[0m\n",
      "\u001b[32m[I 2023-05-15 14:31:23,669]\u001b[0m Trial 67 finished with values: [0.008244711833880192, 0.32692948260400084] and parameters: {'n_estimators': 263, 'num_leaves': 734, 'max_depth': 6, 'min_child_samples': 21, 'learning_rate': 0.002975101922461797, 'boosting_type': 'gbdt'}. \u001b[0m\n",
      "\u001b[32m[I 2023-05-15 14:31:25,090]\u001b[0m Trial 68 finished with values: [0.0, 0.0] and parameters: {'n_estimators': 73, 'num_leaves': 723, 'max_depth': 6, 'min_child_samples': 55, 'learning_rate': 0.0029622596239506443, 'boosting_type': 'gbdt'}. \u001b[0m\n",
      "\u001b[32m[I 2023-05-15 14:31:34,257]\u001b[0m Trial 69 finished with values: [0.05286286538828182, 0.5665596002855103] and parameters: {'n_estimators': 599, 'num_leaves': 651, 'max_depth': 8, 'min_child_samples': 40, 'learning_rate': 0.004000399230522299, 'boosting_type': 'gbdt'}. \u001b[0m\n",
      "\u001b[32m[I 2023-05-15 14:31:43,398]\u001b[0m Trial 70 finished with values: [0.05265317578705022, 0.5648465381870093] and parameters: {'n_estimators': 615, 'num_leaves': 808, 'max_depth': 8, 'min_child_samples': 39, 'learning_rate': 0.003995042014231691, 'boosting_type': 'gbdt'}. \u001b[0m\n",
      "\u001b[32m[I 2023-05-15 14:31:52,052]\u001b[0m Trial 71 finished with values: [0.05177964472252274, 0.5421667673273669] and parameters: {'n_estimators': 763, 'num_leaves': 790, 'max_depth': 6, 'min_child_samples': 27, 'learning_rate': 0.0031574422289564236, 'boosting_type': 'gbdt'}. \u001b[0m\n",
      "\u001b[32m[I 2023-05-15 14:32:00,430]\u001b[0m Trial 72 finished with values: [0.029909284965481307, 0.45743425026080275] and parameters: {'n_estimators': 330, 'num_leaves': 859, 'max_depth': 8, 'min_child_samples': 22, 'learning_rate': 0.0034763139544358355, 'boosting_type': 'gbdt'}. \u001b[0m\n",
      "\u001b[32m[I 2023-05-15 14:32:04,601]\u001b[0m Trial 73 finished with values: [0.041932985690449225, 0.48396383535569826] and parameters: {'n_estimators': 368, 'num_leaves': 886, 'max_depth': 5, 'min_child_samples': 63, 'learning_rate': 0.00433941279002818, 'boosting_type': 'gbdt'}. \u001b[0m\n",
      "\u001b[32m[I 2023-05-15 14:32:25,461]\u001b[0m Trial 74 finished with values: [0.062375741349267974, 0.6268846428375336] and parameters: {'n_estimators': 1484, 'num_leaves': 167, 'max_depth': 9, 'min_child_samples': 44, 'learning_rate': 0.00403994048411303, 'boosting_type': 'gbdt'}. \u001b[0m\n",
      "\u001b[32m[I 2023-05-15 14:32:35,481]\u001b[0m Trial 75 finished with values: [0.052556440728391204, 0.5558630282399019] and parameters: {'n_estimators': 666, 'num_leaves': 200, 'max_depth': 7, 'min_child_samples': 11, 'learning_rate': 0.003584335646615859, 'boosting_type': 'gbdt'}. \u001b[0m\n",
      "\u001b[32m[I 2023-05-15 14:32:46,248]\u001b[0m Trial 76 finished with values: [0.05324164297388704, 0.5503028971979722] and parameters: {'n_estimators': 1132, 'num_leaves': 934, 'max_depth': 6, 'min_child_samples': 36, 'learning_rate': 0.0022973355283046628, 'boosting_type': 'gbdt'}. \u001b[0m\n",
      "\u001b[32m[I 2023-05-15 14:33:12,601]\u001b[0m Trial 77 finished with values: [0.06699712523850768, 0.6345934222807884] and parameters: {'n_estimators': 5120, 'num_leaves': 137, 'max_depth': 5, 'min_child_samples': 143, 'learning_rate': 0.0028677659046079658, 'boosting_type': 'gbdt'}. \u001b[0m\n",
      "\u001b[32m[I 2023-05-15 14:33:15,326]\u001b[0m Trial 78 finished with values: [0.0057376921364705995, 0.24989384871611856] and parameters: {'n_estimators': 188, 'num_leaves': 717, 'max_depth': 7, 'min_child_samples': 110, 'learning_rate': 0.0032668066322406038, 'boosting_type': 'gbdt'}. \u001b[0m\n",
      "\u001b[32m[I 2023-05-15 14:33:33,192]\u001b[0m Trial 79 finished with values: [0.06466745992532633, 0.6294514906934607] and parameters: {'n_estimators': 1596, 'num_leaves': 788, 'max_depth': 8, 'min_child_samples': 60, 'learning_rate': 0.004894905253380025, 'boosting_type': 'gbdt'}. \u001b[0m\n",
      "\u001b[32m[I 2023-05-15 14:34:55,384]\u001b[0m Trial 80 finished with values: [0.07555461634692885, 0.6414484159666173] and parameters: {'n_estimators': 5658, 'num_leaves': 68, 'max_depth': 10, 'min_child_samples': 25, 'learning_rate': 0.0026476077861014176, 'boosting_type': 'gbdt'}. \u001b[0m\n",
      "\u001b[32m[I 2023-05-15 14:35:05,374]\u001b[0m Trial 81 finished with values: [0.062414787564794946, 0.5930855249913065] and parameters: {'n_estimators': 876, 'num_leaves': 655, 'max_depth': 7, 'min_child_samples': 35, 'learning_rate': 0.0046228508784933574, 'boosting_type': 'gbdt'}. \u001b[0m\n",
      "\u001b[32m[I 2023-05-15 14:35:27,180]\u001b[0m Trial 82 finished with values: [0.05212578478981382, 0.5524405644319991] and parameters: {'n_estimators': 1168, 'num_leaves': 843, 'max_depth': 8, 'min_child_samples': 17, 'learning_rate': 0.0017900251317125068, 'boosting_type': 'gbdt'}. \u001b[0m\n",
      "\u001b[32m[I 2023-05-15 14:35:31,286]\u001b[0m Trial 83 finished with values: [0.04683989356138196, 0.4873936199417998] and parameters: {'n_estimators': 874, 'num_leaves': 732, 'max_depth': 3, 'min_child_samples': 49, 'learning_rate': 0.002327118503638679, 'boosting_type': 'gbdt'}. \u001b[0m\n",
      "\u001b[32m[I 2023-05-15 14:35:36,357]\u001b[0m Trial 84 finished with values: [0.05036827948833229, 0.5220529292263768] and parameters: {'n_estimators': 525, 'num_leaves': 791, 'max_depth': 5, 'min_child_samples': 31, 'learning_rate': 0.003876178806001607, 'boosting_type': 'goss'}. \u001b[0m\n",
      "\u001b[32m[I 2023-05-15 14:37:57,666]\u001b[0m Trial 85 finished with values: [0.07396965497113342, 0.6384414063214919] and parameters: {'n_estimators': 4310, 'num_leaves': 595, 'max_depth': 12, 'min_child_samples': 12, 'learning_rate': 0.0009628249242328584, 'boosting_type': 'goss'}. \u001b[0m\n",
      "\u001b[32m[I 2023-05-15 14:37:58,946]\u001b[0m Trial 86 finished with values: [0.0, 0.0] and parameters: {'n_estimators': 28, 'num_leaves': 230, 'max_depth': 15, 'min_child_samples': 22, 'learning_rate': 0.004098562885535659, 'boosting_type': 'gbdt'}. \u001b[0m\n",
      "\u001b[32m[I 2023-05-15 14:38:11,194]\u001b[0m Trial 87 finished with values: [0.027124821776547108, 0.4279086366880799] and parameters: {'n_estimators': 1282, 'num_leaves': 91, 'max_depth': 6, 'min_child_samples': 37, 'learning_rate': 0.0007899194140707129, 'boosting_type': 'goss'}. \u001b[0m\n",
      "\u001b[32m[I 2023-05-15 14:38:18,524]\u001b[0m Trial 88 finished with values: [0.0, 0.0] and parameters: {'n_estimators': 311, 'num_leaves': 665, 'max_depth': 16, 'min_child_samples': 56, 'learning_rate': 0.0003543973181962066, 'boosting_type': 'gbdt'}. \u001b[0m\n",
      "\u001b[32m[I 2023-05-15 14:38:27,916]\u001b[0m Trial 89 finished with values: [0.06655442462133679, 0.5776816925639195] and parameters: {'n_estimators': 701, 'num_leaves': 960, 'max_depth': 9, 'min_child_samples': 85, 'learning_rate': 0.0036392588588819675, 'boosting_type': 'goss'}. \u001b[0m\n",
      "\u001b[32m[I 2023-05-15 14:39:01,083]\u001b[0m Trial 90 finished with values: [0.0639709048868186, 0.6204688958436282] and parameters: {'n_estimators': 3696, 'num_leaves': 874, 'max_depth': 7, 'min_child_samples': 69, 'learning_rate': 0.0019248770343893167, 'boosting_type': 'gbdt'}. \u001b[0m\n",
      "\u001b[32m[I 2023-05-15 14:41:11,888]\u001b[0m Trial 91 finished with values: [0.06288393637826026, 0.60848112154322] and parameters: {'n_estimators': 1866, 'num_leaves': 753, 'max_depth': 18, 'min_child_samples': 14, 'learning_rate': 0.001348481472493897, 'boosting_type': 'gbdt'}. \u001b[0m\n",
      "\u001b[32m[I 2023-05-15 14:41:17,341]\u001b[0m Trial 92 finished with values: [0.04424646205570999, 0.48567049177327554] and parameters: {'n_estimators': 1066, 'num_leaves': 706, 'max_depth': 4, 'min_child_samples': 5, 'learning_rate': 0.0015870323937900578, 'boosting_type': 'gbdt'}. \u001b[0m\n",
      "\u001b[32m[I 2023-05-15 14:41:29,750]\u001b[0m Trial 93 finished with values: [0.05376928635293995, 0.5562912937645272] and parameters: {'n_estimators': 2245, 'num_leaves': 294, 'max_depth': 4, 'min_child_samples': 26, 'learning_rate': 0.0016651841935693466, 'boosting_type': 'gbdt'}. \u001b[0m\n",
      "\u001b[32m[I 2023-05-15 14:48:17,789]\u001b[0m Trial 94 finished with values: [0.08600181197139416, 0.6328858507659365] and parameters: {'n_estimators': 6119, 'num_leaves': 678, 'max_depth': 19, 'min_child_samples': 16, 'learning_rate': 0.0033616584956546697, 'boosting_type': 'gbdt'}. \u001b[0m\n",
      "\u001b[32m[I 2023-05-15 14:48:31,985]\u001b[0m Trial 95 finished with values: [0.04834518543564796, 0.5250535331905781] and parameters: {'n_estimators': 1513, 'num_leaves': 129, 'max_depth': 6, 'min_child_samples': 31, 'learning_rate': 0.0012398588960290098, 'boosting_type': 'goss'}. \u001b[0m\n",
      "\u001b[32m[I 2023-05-15 14:48:36,421]\u001b[0m Trial 96 finished with values: [0.02961418992592572, 0.42875967715368146] and parameters: {'n_estimators': 487, 'num_leaves': 616, 'max_depth': 5, 'min_child_samples': 43, 'learning_rate': 0.00206997545310813, 'boosting_type': 'gbdt'}. \u001b[0m\n",
      "\u001b[32m[I 2023-05-15 14:49:15,799]\u001b[0m Trial 97 finished with values: [0.061861288540544276, 0.5939457164296564] and parameters: {'n_estimators': 816, 'num_leaves': 459, 'max_depth': 16, 'min_child_samples': 22, 'learning_rate': 0.0030546581636108285, 'boosting_type': 'gbdt'}. \u001b[0m\n",
      "\u001b[32m[I 2023-05-15 14:49:33,402]\u001b[0m Trial 98 finished with values: [0.06880613114616133, 0.5391597576822416] and parameters: {'n_estimators': 3287, 'num_leaves': 768, 'max_depth': 3, 'min_child_samples': 166, 'learning_rate': 0.0010893064967299494, 'boosting_type': 'goss'}. \u001b[0m\n",
      "\u001b[32m[I 2023-05-15 14:51:18,672]\u001b[0m Trial 99 finished with values: [0.06196654287488035, 0.6243223704679808] and parameters: {'n_estimators': 8394, 'num_leaves': 191, 'max_depth': 7, 'min_child_samples': 37, 'learning_rate': 0.0007661400950433034, 'boosting_type': 'gbdt'}. \u001b[0m\n"
     ]
    },
    {
     "name": "stdout",
     "output_type": "stream",
     "text": [
      "Number of finished trials:  100\n"
     ]
    }
   ],
   "source": [
    "\n",
    "directions = ['minimize', 'maximize']\n",
    "metric_scorer_decorated =  metrics(recall_score, predictive_equality_difference, sensitive_col = 'sex')\n",
    "for sim in [0,1,2,3]:\n",
    "    print(sim)\n",
    "    def objective(trial):\n",
    "\n",
    "        (X_train, X_test, y_train, y_test, A_train, A_test) = train_test_split(\n",
    "        X_raw, y, A, test_size=0.8, random_state=sim, stratify=y\n",
    "        )\n",
    "\n",
    "        X_train = X_train.reset_index(drop=True)\n",
    "        X_test = X_test.reset_index(drop=True)\n",
    "        y_train = y_train.reset_index(drop=True)\n",
    "        y_test = y_test.reset_index(drop=True)\n",
    "        A_train = A_train.reset_index(drop=True)\n",
    "        A_test = A_test.reset_index(drop=True)\n",
    "\n",
    "\n",
    "        params = {\n",
    "            'n_estimators': trial.suggest_int(\"n_estimators\", 20, 10000),\n",
    "            'num_leaves': trial.suggest_int(\"num_leaves\", 10, 1000),\n",
    "            'max_depth': trial.suggest_int(\"max_depth\", 2, 20),\n",
    "            'min_child_samples': trial.suggest_int(\"min_child_samples\", 5, 300),\n",
    "            'learning_rate': trial.suggest_float('learning_rate', 1e-5, 1e-2),\n",
    "            'boosting_type': trial.suggest_categorical(\"boosting_type\", ['goss', 'gbdt'])\n",
    "            }\n",
    "        pipeline['classifier'].set_params(**params)\n",
    "\n",
    "        scores = cross_validate(\n",
    "                pipeline, \n",
    "                X_train,\n",
    "                y_train, \n",
    "                cv=5,\n",
    "                scoring = metric_scorer_decorated,\n",
    "                return_train_score=True)\n",
    "\n",
    "        fair_metric = scores['test_fairness'].mean()\n",
    "        model_metric = scores['test_model'].mean()\n",
    "\n",
    "        return fair_metric, model_metric\n",
    "    \n",
    "    \n",
    "    \n",
    "    study = optuna.create_study(\n",
    "        directions = directions, \n",
    "        pruner = optuna.pruners.SuccessiveHalvingPruner(), \n",
    "        sampler = optuna.samplers.TPESampler() \n",
    "        )\n",
    "    study.optimize(objective, n_trials=100)\n",
    "    print(\"Number of finished trials: \", len(study.trials))\n",
    "    results.append(study)"
   ]
  },
  {
   "cell_type": "code",
   "execution_count": 6,
   "metadata": {},
   "outputs": [
    {
     "name": "stdout",
     "output_type": "stream",
     "text": [
      "Object successfully saved to \"recall-fpr-lgbm-motpe-succesivehalving-100trials-4sim.pkl\"\n"
     ]
    }
   ],
   "source": [
    "import dill\n",
    "file_name = 'recall-fpr-lgbm-motpe-succesivehalving-100trials-4sim.pkl'\n",
    "#f1-eod-lgbm-succesivehalving-30trails.pkl\n",
    "with open(file_name, 'wb') as file:\n",
    "    dill.dump(results, file)\n",
    "    print(f'Object successfully saved to \"{file_name}\"')"
   ]
  },
  {
   "cell_type": "code",
   "execution_count": 7,
   "metadata": {},
   "outputs": [
    {
     "data": {
      "application/vnd.plotly.v1+json": {
       "config": {
        "plotlyServerURL": "https://plot.ly"
       },
       "data": [
        {
         "hovertemplate": "%{text}<extra>Trial</extra>",
         "marker": {
          "color": [
           0,
           1,
           2,
           3,
           4,
           5,
           6,
           7,
           8,
           11,
           12,
           14,
           16,
           17,
           18,
           19,
           20,
           21,
           22,
           24,
           25,
           26,
           27,
           28,
           29,
           31,
           32,
           34,
           36,
           37,
           38,
           39,
           40,
           41,
           42,
           44,
           45,
           46,
           47,
           48,
           49,
           50,
           51,
           53,
           54,
           55,
           57,
           59,
           60,
           62,
           63,
           64,
           65,
           67,
           69,
           70,
           72,
           73,
           74,
           76,
           77,
           78,
           79,
           80,
           82,
           83,
           84,
           86,
           87,
           88,
           89,
           90,
           91,
           92,
           93,
           94,
           95,
           96,
           97,
           98,
           99
          ],
          "colorbar": {
           "title": {
            "text": "Trial"
           }
          },
          "colorscale": [
           [
            0,
            "rgb(247,251,255)"
           ],
           [
            0.125,
            "rgb(222,235,247)"
           ],
           [
            0.25,
            "rgb(198,219,239)"
           ],
           [
            0.375,
            "rgb(158,202,225)"
           ],
           [
            0.5,
            "rgb(107,174,214)"
           ],
           [
            0.625,
            "rgb(66,146,198)"
           ],
           [
            0.75,
            "rgb(33,113,181)"
           ],
           [
            0.875,
            "rgb(8,81,156)"
           ],
           [
            1,
            "rgb(8,48,107)"
           ]
          ],
          "line": {
           "color": "Grey",
           "width": 0.5
          }
         },
         "mode": "markers",
         "showlegend": false,
         "text": [
          "{<br>  \"number\": 0,<br>  \"values\": [<br>    0.08158776388397124,<br>    0.6544896991246768<br>  ],<br>  \"params\": {<br>    \"n_estimators\": 8596,<br>    \"num_leaves\": 223,<br>    \"max_depth\": 20,<br>    \"min_child_samples\": 181,<br>    \"learning_rate\": 0.007704550326550657,<br>    \"boosting_type\": \"goss\"<br>  }<br>}",
          "{<br>  \"number\": 1,<br>  \"values\": [<br>    0.0753452450514007,<br>    0.6681262424520135<br>  ],<br>  \"params\": {<br>    \"n_estimators\": 2728,<br>    \"num_leaves\": 454,<br>    \"max_depth\": 18,<br>    \"min_child_samples\": 102,<br>    \"learning_rate\": 0.00607654262681362,<br>    \"boosting_type\": \"goss\"<br>  }<br>}",
          "{<br>  \"number\": 2,<br>  \"values\": [<br>    0.0791963396049862,<br>    0.6536097653427516<br>  ],<br>  \"params\": {<br>    \"n_estimators\": 3407,<br>    \"num_leaves\": 345,<br>    \"max_depth\": 8,<br>    \"min_child_samples\": 166,<br>    \"learning_rate\": 0.005201208280691347,<br>    \"boosting_type\": \"goss\"<br>  }<br>}",
          "{<br>  \"number\": 3,<br>  \"values\": [<br>    0.08819581971315846,<br>    0.6274210581925399<br>  ],<br>  \"params\": {<br>    \"n_estimators\": 3673,<br>    \"num_leaves\": 496,<br>    \"max_depth\": 13,<br>    \"min_child_samples\": 242,<br>    \"learning_rate\": 0.0017545441650624247,<br>    \"boosting_type\": \"goss\"<br>  }<br>}",
          "{<br>  \"number\": 4,<br>  \"values\": [<br>    0.0,<br>    0.0<br>  ],<br>  \"params\": {<br>    \"n_estimators\": 366,<br>    \"num_leaves\": 796,<br>    \"max_depth\": 10,<br>    \"min_child_samples\": 13,<br>    \"learning_rate\": 0.0005093101313899261,<br>    \"boosting_type\": \"gbdt\"<br>  }<br>}",
          "{<br>  \"number\": 5,<br>  \"values\": [<br>    0.07760816537198865,<br>    0.6560436292851772<br>  ],<br>  \"params\": {<br>    \"n_estimators\": 7757,<br>    \"num_leaves\": 707,<br>    \"max_depth\": 11,<br>    \"min_child_samples\": 158,<br>    \"learning_rate\": 0.0014166937569054584,<br>    \"boosting_type\": \"goss\"<br>  }<br>}",
          "{<br>  \"number\": 6,<br>  \"values\": [<br>    0.05048638520833898,<br>    0.6363635051953523<br>  ],<br>  \"params\": {<br>    \"n_estimators\": 2092,<br>    \"num_leaves\": 374,<br>    \"max_depth\": 15,<br>    \"min_child_samples\": 62,<br>    \"learning_rate\": 0.0009138518693862076,<br>    \"boosting_type\": \"gbdt\"<br>  }<br>}",
          "{<br>  \"number\": 7,<br>  \"values\": [<br>    0.06361929363430932,<br>    0.6806121225246458<br>  ],<br>  \"params\": {<br>    \"n_estimators\": 6759,<br>    \"num_leaves\": 448,<br>    \"max_depth\": 11,<br>    \"min_child_samples\": 142,<br>    \"learning_rate\": 0.0015244835577255173,<br>    \"boosting_type\": \"gbdt\"<br>  }<br>}",
          "{<br>  \"number\": 8,<br>  \"values\": [<br>    0.0827283210854657,<br>    0.621126006013424<br>  ],<br>  \"params\": {<br>    \"n_estimators\": 1564,<br>    \"num_leaves\": 652,<br>    \"max_depth\": 4,<br>    \"min_child_samples\": 265,<br>    \"learning_rate\": 0.007562340097584707,<br>    \"boosting_type\": \"goss\"<br>  }<br>}",
          "{<br>  \"number\": 11,<br>  \"values\": [<br>    0.06433221589033161,<br>    0.6870843941157767<br>  ],<br>  \"params\": {<br>    \"n_estimators\": 4739,<br>    \"num_leaves\": 202,<br>    \"max_depth\": 4,<br>    \"min_child_samples\": 15,<br>    \"learning_rate\": 0.009873006756152186,<br>    \"boosting_type\": \"gbdt\"<br>  }<br>}",
          "{<br>  \"number\": 12,<br>  \"values\": [<br>    0.0,<br>    0.0<br>  ],<br>  \"params\": {<br>    \"n_estimators\": 34,<br>    \"num_leaves\": 933,<br>    \"max_depth\": 15,<br>    \"min_child_samples\": 66,<br>    \"learning_rate\": 0.0036039273965581776,<br>    \"boosting_type\": \"gbdt\"<br>  }<br>}",
          "{<br>  \"number\": 14,<br>  \"values\": [<br>    0.0,<br>    0.0<br>  ],<br>  \"params\": {<br>    \"n_estimators\": 1481,<br>    \"num_leaves\": 17,<br>    \"max_depth\": 7,<br>    \"min_child_samples\": 96,<br>    \"learning_rate\": 0.00012409752505799544,<br>    \"boosting_type\": \"gbdt\"<br>  }<br>}",
          "{<br>  \"number\": 16,<br>  \"values\": [<br>    0.06408598048967888,<br>    0.6891020153870859<br>  ],<br>  \"params\": {<br>    \"n_estimators\": 4611,<br>    \"num_leaves\": 300,<br>    \"max_depth\": 14,<br>    \"min_child_samples\": 120,<br>    \"learning_rate\": 0.002642580369762271,<br>    \"boosting_type\": \"gbdt\"<br>  }<br>}",
          "{<br>  \"number\": 17,<br>  \"values\": [<br>    0.06471242052995282,<br>    0.677295328436354<br>  ],<br>  \"params\": {<br>    \"n_estimators\": 2014,<br>    \"num_leaves\": 589,<br>    \"max_depth\": 9,<br>    \"min_child_samples\": 204,<br>    \"learning_rate\": 0.004283253020961676,<br>    \"boosting_type\": \"gbdt\"<br>  }<br>}",
          "{<br>  \"number\": 18,<br>  \"values\": [<br>    0.06817469813584516,<br>    0.6831526663175581<br>  ],<br>  \"params\": {<br>    \"n_estimators\": 4101,<br>    \"num_leaves\": 186,<br>    \"max_depth\": 17,<br>    \"min_child_samples\": 45,<br>    \"learning_rate\": 0.0022697544270457648,<br>    \"boosting_type\": \"gbdt\"<br>  }<br>}",
          "{<br>  \"number\": 19,<br>  \"values\": [<br>    0.06120124462303909,<br>    0.6750669837136948<br>  ],<br>  \"params\": {<br>    \"n_estimators\": 6071,<br>    \"num_leaves\": 96,<br>    \"max_depth\": 13,<br>    \"min_child_samples\": 92,<br>    \"learning_rate\": 0.0007689446569016474,<br>    \"boosting_type\": \"gbdt\"<br>  }<br>}",
          "{<br>  \"number\": 20,<br>  \"values\": [<br>    0.04972800346371305,<br>    0.5866234720205561<br>  ],<br>  \"params\": {<br>    \"n_estimators\": 721,<br>    \"num_leaves\": 399,<br>    \"max_depth\": 2,<br>    \"min_child_samples\": 129,<br>    \"learning_rate\": 0.002469551237553296,<br>    \"boosting_type\": \"gbdt\"<br>  }<br>}",
          "{<br>  \"number\": 21,<br>  \"values\": [<br>    0.05670835296723287,<br>    0.6658974422633455<br>  ],<br>  \"params\": {<br>    \"n_estimators\": 9808,<br>    \"num_leaves\": 383,<br>    \"max_depth\": 2,<br>    \"min_child_samples\": 40,<br>    \"learning_rate\": 0.0018948314590008612,<br>    \"boosting_type\": \"gbdt\"<br>  }<br>}",
          "{<br>  \"number\": 22,<br>  \"values\": [<br>    0.0,<br>    0.0<br>  ],<br>  \"params\": {<br>    \"n_estimators\": 827,<br>    \"num_leaves\": 276,<br>    \"max_depth\": 6,<br>    \"min_child_samples\": 129,<br>    \"learning_rate\": 6.536407907539255e-05,<br>    \"boosting_type\": \"gbdt\"<br>  }<br>}",
          "{<br>  \"number\": 24,<br>  \"values\": [<br>    0.05270069824401944,<br>    0.6051586811787258<br>  ],<br>  \"params\": {<br>    \"n_estimators\": 1022,<br>    \"num_leaves\": 413,<br>    \"max_depth\": 2,<br>    \"min_child_samples\": 36,<br>    \"learning_rate\": 0.0028860468074152082,<br>    \"boosting_type\": \"gbdt\"<br>  }<br>}",
          "{<br>  \"number\": 25,<br>  \"values\": [<br>    0.05454523857640762,<br>    0.648544266805013<br>  ],<br>  \"params\": {<br>    \"n_estimators\": 2438,<br>    \"num_leaves\": 138,<br>    \"max_depth\": 12,<br>    \"min_child_samples\": 97,<br>    \"learning_rate\": 0.0010281545482277825,<br>    \"boosting_type\": \"gbdt\"<br>  }<br>}",
          "{<br>  \"number\": 26,<br>  \"values\": [<br>    0.058040453877819774,<br>    0.6617861419182731<br>  ],<br>  \"params\": {<br>    \"n_estimators\": 3217,<br>    \"num_leaves\": 258,<br>    \"max_depth\": 15,<br>    \"min_child_samples\": 120,<br>    \"learning_rate\": 0.000947128916317717,<br>    \"boosting_type\": \"gbdt\"<br>  }<br>}",
          "{<br>  \"number\": 27,<br>  \"values\": [<br>    0.06397770562373403,<br>    0.6728854570062857<br>  ],<br>  \"params\": {<br>    \"n_estimators\": 5568,<br>    \"num_leaves\": 546,<br>    \"max_depth\": 6,<br>    \"min_child_samples\": 220,<br>    \"learning_rate\": 0.0018981461236596577,<br>    \"boosting_type\": \"gbdt\"<br>  }<br>}",
          "{<br>  \"number\": 28,<br>  \"values\": [<br>    0.08957387091470081,<br>    0.624401018866527<br>  ],<br>  \"params\": {<br>    \"n_estimators\": 4177,<br>    \"num_leaves\": 996,<br>    \"max_depth\": 10,<br>    \"min_child_samples\": 288,<br>    \"learning_rate\": 0.00424647249625462,<br>    \"boosting_type\": \"goss\"<br>  }<br>}",
          "{<br>  \"number\": 29,<br>  \"values\": [<br>    0.07990454800545146,<br>    0.6416839119006814<br>  ],<br>  \"params\": {<br>    \"n_estimators\": 2025,<br>    \"num_leaves\": 111,<br>    \"max_depth\": 17,<br>    \"min_child_samples\": 181,<br>    \"learning_rate\": 0.0023177497829770313,<br>    \"boosting_type\": \"goss\"<br>  }<br>}",
          "{<br>  \"number\": 31,<br>  \"values\": [<br>    0.07354698978975541,<br>    0.6693349976292728<br>  ],<br>  \"params\": {<br>    \"n_estimators\": 9971,<br>    \"num_leaves\": 324,<br>    \"max_depth\": 20,<br>    \"min_child_samples\": 8,<br>    \"learning_rate\": 0.0010884328843403462,<br>    \"boosting_type\": \"gbdt\"<br>  }<br>}",
          "{<br>  \"number\": 32,<br>  \"values\": [<br>    0.030348577648436674,<br>    0.5833143276013167<br>  ],<br>  \"params\": {<br>    \"n_estimators\": 2805,<br>    \"num_leaves\": 348,<br>    \"max_depth\": 20,<br>    \"min_child_samples\": 48,<br>    \"learning_rate\": 0.00036261372758160284,<br>    \"boosting_type\": \"goss\"<br>  }<br>}",
          "{<br>  \"number\": 34,<br>  \"values\": [<br>    0.07186738734415818,<br>    0.6724078741951441<br>  ],<br>  \"params\": {<br>    \"n_estimators\": 3608,<br>    \"num_leaves\": 476,<br>    \"max_depth\": 18,<br>    \"min_child_samples\": 29,<br>    \"learning_rate\": 0.0014528282519394007,<br>    \"boosting_type\": \"goss\"<br>  }<br>}",
          "{<br>  \"number\": 36,<br>  \"values\": [<br>    0.0,<br>    0.0<br>  ],<br>  \"params\": {<br>    \"n_estimators\": 371,<br>    \"num_leaves\": 680,<br>    \"max_depth\": 18,<br>    \"min_child_samples\": 81,<br>    \"learning_rate\": 0.00046205961910234357,<br>    \"boosting_type\": \"goss\"<br>  }<br>}",
          "{<br>  \"number\": 37,<br>  \"values\": [<br>    0.06280266291088502,<br>    0.6485024330480778<br>  ],<br>  \"params\": {<br>    \"n_estimators\": 1227,<br>    \"num_leaves\": 515,<br>    \"max_depth\": 19,<br>    \"min_child_samples\": 31,<br>    \"learning_rate\": 0.0017036376498266183,<br>    \"boosting_type\": \"goss\"<br>  }<br>}",
          "{<br>  \"number\": 38,<br>  \"values\": [<br>    0.0,<br>    0.0<br>  ],<br>  \"params\": {<br>    \"n_estimators\": 1746,<br>    \"num_leaves\": 764,<br>    \"max_depth\": 20,<br>    \"min_child_samples\": 24,<br>    \"learning_rate\": 3.228781595871074e-05,<br>    \"boosting_type\": \"goss\"<br>  }<br>}",
          "{<br>  \"number\": 39,<br>  \"values\": [<br>    0.0,<br>    0.0<br>  ],<br>  \"params\": {<br>    \"n_estimators\": 599,<br>    \"num_leaves\": 441,<br>    \"max_depth\": 17,<br>    \"min_child_samples\": 54,<br>    \"learning_rate\": 0.000644491336302391,<br>    \"boosting_type\": \"goss\"<br>  }<br>}",
          "{<br>  \"number\": 40,<br>  \"values\": [<br>    0.06763814770161446,<br>    0.6598401047324842<br>  ],<br>  \"params\": {<br>    \"n_estimators\": 2604,<br>    \"num_leaves\": 610,<br>    \"max_depth\": 20,<br>    \"min_child_samples\": 84,<br>    \"learning_rate\": 0.0013304330919056632,<br>    \"boosting_type\": \"goss\"<br>  }<br>}",
          "{<br>  \"number\": 41,<br>  \"values\": [<br>    0.0,<br>    0.0<br>  ],<br>  \"params\": {<br>    \"n_estimators\": 177,<br>    \"num_leaves\": 505,<br>    \"max_depth\": 19,<br>    \"min_child_samples\": 61,<br>    \"learning_rate\": 0.0008349933821192603,<br>    \"boosting_type\": \"goss\"<br>  }<br>}",
          "{<br>  \"number\": 42,<br>  \"values\": [<br>    0.07145444618947458,<br>    0.673503210510854<br>  ],<br>  \"params\": {<br>    \"n_estimators\": 8153,<br>    \"num_leaves\": 246,<br>    \"max_depth\": 16,<br>    \"min_child_samples\": 109,<br>    \"learning_rate\": 0.001343076052393266,<br>    \"boosting_type\": \"goss\"<br>  }<br>}",
          "{<br>  \"number\": 44,<br>  \"values\": [<br>    0.01705043300438653,<br>    0.5070962114071297<br>  ],<br>  \"params\": {<br>    \"n_estimators\": 1835,<br>    \"num_leaves\": 452,<br>    \"max_depth\": 16,<br>    \"min_child_samples\": 159,<br>    \"learning_rate\": 0.00045643902709914964,<br>    \"boosting_type\": \"goss\"<br>  }<br>}",
          "{<br>  \"number\": 45,<br>  \"values\": [<br>    0.0711985795555847,<br>    0.673898389874198<br>  ],<br>  \"params\": {<br>    \"n_estimators\": 3024,<br>    \"num_leaves\": 621,<br>    \"max_depth\": 18,<br>    \"min_child_samples\": 70,<br>    \"learning_rate\": 0.001918080475817222,<br>    \"boosting_type\": \"goss\"<br>  }<br>}",
          "{<br>  \"number\": 46,<br>  \"values\": [<br>    0.0,<br>    0.0<br>  ],<br>  \"params\": {<br>    \"n_estimators\": 2301,<br>    \"num_leaves\": 375,<br>    \"max_depth\": 14,<br>    \"min_child_samples\": 11,<br>    \"learning_rate\": 1.9773444281359046e-05,<br>    \"boosting_type\": \"goss\"<br>  }<br>}",
          "{<br>  \"number\": 47,<br>  \"values\": [<br>    0.014875811007086143,<br>    0.5033177679973247<br>  ],<br>  \"params\": {<br>    \"n_estimators\": 1342,<br>    \"num_leaves\": 529,<br>    \"max_depth\": 19,<br>    \"min_child_samples\": 143,<br>    \"learning_rate\": 0.0005940257865453642,<br>    \"boosting_type\": \"goss\"<br>  }<br>}",
          "{<br>  \"number\": 48,<br>  \"values\": [<br>    0.07355916596304266,<br>    0.6667521807519666<br>  ],<br>  \"params\": {<br>    \"n_estimators\": 4049,<br>    \"num_leaves\": 725,<br>    \"max_depth\": 15,<br>    \"min_child_samples\": 52,<br>    \"learning_rate\": 0.0052878708893024035,<br>    \"boosting_type\": \"goss\"<br>  }<br>}",
          "{<br>  \"number\": 49,<br>  \"values\": [<br>    0.08088809213156796,<br>    0.6623817566979477<br>  ],<br>  \"params\": {<br>    \"n_estimators\": 7143,<br>    \"num_leaves\": 879,<br>    \"max_depth\": 17,<br>    \"min_child_samples\": 5,<br>    \"learning_rate\": 0.0016834227956697924,<br>    \"boosting_type\": \"goss\"<br>  }<br>}",
          "{<br>  \"number\": 50,<br>  \"values\": [<br>    0.06986478919952106,<br>    0.6624748254467263<br>  ],<br>  \"params\": {<br>    \"n_estimators\": 1718,<br>    \"num_leaves\": 419,<br>    \"max_depth\": 12,<br>    \"min_child_samples\": 108,<br>    \"learning_rate\": 0.0021494472938924417,<br>    \"boosting_type\": \"goss\"<br>  }<br>}",
          "{<br>  \"number\": 51,<br>  \"values\": [<br>    0.06591873203771749,<br>    0.6779403789333533<br>  ],<br>  \"params\": {<br>    \"n_estimators\": 3032,<br>    \"num_leaves\": 290,<br>    \"max_depth\": 8,<br>    \"min_child_samples\": 20,<br>    \"learning_rate\": 0.006496758567960664,<br>    \"boosting_type\": \"goss\"<br>  }<br>}",
          "{<br>  \"number\": 53,<br>  \"values\": [<br>    0.0617658164922148,<br>    0.6758748317045546<br>  ],<br>  \"params\": {<br>    \"n_estimators\": 2646,<br>    \"num_leaves\": 486,<br>    \"max_depth\": 4,<br>    \"min_child_samples\": 42,<br>    \"learning_rate\": 0.003328902136675808,<br>    \"boosting_type\": \"goss\"<br>  }<br>}",
          "{<br>  \"number\": 54,<br>  \"values\": [<br>    0.05860870656253932,<br>    0.6567557518048719<br>  ],<br>  \"params\": {<br>    \"n_estimators\": 1346,<br>    \"num_leaves\": 226,<br>    \"max_depth\": 5,<br>    \"min_child_samples\": 67,<br>    \"learning_rate\": 0.0029357736404695017,<br>    \"boosting_type\": \"goss\"<br>  }<br>}",
          "{<br>  \"number\": 55,<br>  \"values\": [<br>    0.049931961106140565,<br>    0.6146443278064234<br>  ],<br>  \"params\": {<br>    \"n_estimators\": 3343,<br>    \"num_leaves\": 562,<br>    \"max_depth\": 3,<br>    \"min_child_samples\": 86,<br>    \"learning_rate\": 0.0007496228755558636,<br>    \"boosting_type\": \"goss\"<br>  }<br>}",
          "{<br>  \"number\": 57,<br>  \"values\": [<br>    0.07346033257265629,<br>    0.6546258659836124<br>  ],<br>  \"params\": {<br>    \"n_estimators\": 9187,<br>    \"num_leaves\": 649,<br>    \"max_depth\": 5,<br>    \"min_child_samples\": 174,<br>    \"learning_rate\": 0.002214878749130354,<br>    \"boosting_type\": \"goss\"<br>  }<br>}",
          "{<br>  \"number\": 59,<br>  \"values\": [<br>    0.051697818089381474,<br>    0.624009212252125<br>  ],<br>  \"params\": {<br>    \"n_estimators\": 494,<br>    \"num_leaves\": 160,<br>    \"max_depth\": 10,<br>    \"min_child_samples\": 241,<br>    \"learning_rate\": 0.003886787163377072,<br>    \"boosting_type\": \"gbdt\"<br>  }<br>}",
          "{<br>  \"number\": 60,<br>  \"values\": [<br>    0.0,<br>    0.0<br>  ],<br>  \"params\": {<br>    \"n_estimators\": 25,<br>    \"num_leaves\": 84,<br>    \"max_depth\": 9,<br>    \"min_child_samples\": 76,<br>    \"learning_rate\": 0.00370243071723415,<br>    \"boosting_type\": \"gbdt\"<br>  }<br>}",
          "{<br>  \"number\": 62,<br>  \"values\": [<br>    0.06518135550778248,<br>    0.6911652373842747<br>  ],<br>  \"params\": {<br>    \"n_estimators\": 1581,<br>    \"num_leaves\": 207,<br>    \"max_depth\": 9,<br>    \"min_child_samples\": 58,<br>    \"learning_rate\": 0.009528564642155053,<br>    \"boosting_type\": \"gbdt\"<br>  }<br>}",
          "{<br>  \"number\": 63,<br>  \"values\": [<br>    0.0,<br>    0.0<br>  ],<br>  \"params\": {<br>    \"n_estimators\": 1265,<br>    \"num_leaves\": 309,<br>    \"max_depth\": 6,<br>    \"min_child_samples\": 18,<br>    \"learning_rate\": 0.0002752124180762862,<br>    \"boosting_type\": \"gbdt\"<br>  }<br>}",
          "{<br>  \"number\": 64,<br>  \"values\": [<br>    0.05519668199464654,<br>    0.6515764745299675<br>  ],<br>  \"params\": {<br>    \"n_estimators\": 778,<br>    \"num_leaves\": 157,<br>    \"max_depth\": 7,<br>    \"min_child_samples\": 195,<br>    \"learning_rate\": 0.004560454827115424,<br>    \"boosting_type\": \"gbdt\"<br>  }<br>}",
          "{<br>  \"number\": 65,<br>  \"values\": [<br>    0.07253035844639655,<br>    0.6755515040571458<br>  ],<br>  \"params\": {<br>    \"n_estimators\": 2220,<br>    \"num_leaves\": 428,<br>    \"max_depth\": 12,<br>    \"min_child_samples\": 46,<br>    \"learning_rate\": 0.0030182390156069682,<br>    \"boosting_type\": \"goss\"<br>  }<br>}",
          "{<br>  \"number\": 67,<br>  \"values\": [<br>    0.07856502530351699,<br>    0.60616923306662<br>  ],<br>  \"params\": {<br>    \"n_estimators\": 1112,<br>    \"num_leaves\": 475,<br>    \"max_depth\": 5,<br>    \"min_child_samples\": 273,<br>    \"learning_rate\": 0.0034452290120230815,<br>    \"boosting_type\": \"goss\"<br>  }<br>}",
          "{<br>  \"number\": 69,<br>  \"values\": [<br>    0.06736691944238815,<br>    0.6645350466624066<br>  ],<br>  \"params\": {<br>    \"n_estimators\": 3819,<br>    \"num_leaves\": 547,<br>    \"max_depth\": 8,<br>    \"min_child_samples\": 93,<br>    \"learning_rate\": 0.0011831929028421808,<br>    \"boosting_type\": \"goss\"<br>  }<br>}",
          "{<br>  \"number\": 70,<br>  \"values\": [<br>    0.04579888186628618,<br>    0.6367589770351139<br>  ],<br>  \"params\": {<br>    \"n_estimators\": 2460,<br>    \"num_leaves\": 585,<br>    \"max_depth\": 19,<br>    \"min_child_samples\": 27,<br>    \"learning_rate\": 0.0006953587451562077,<br>    \"boosting_type\": \"gbdt\"<br>  }<br>}",
          "{<br>  \"number\": 72,<br>  \"values\": [<br>    0.0817111570505092,<br>    0.6379152375216223<br>  ],<br>  \"params\": {<br>    \"n_estimators\": 7751,<br>    \"num_leaves\": 855,<br>    \"max_depth\": 3,<br>    \"min_child_samples\": 228,<br>    \"learning_rate\": 0.005879549787422418,<br>    \"boosting_type\": \"goss\"<br>  }<br>}",
          "{<br>  \"number\": 73,<br>  \"values\": [<br>    0.053007394670834505,<br>    0.5695428158087514<br>  ],<br>  \"params\": {<br>    \"n_estimators\": 6227,<br>    \"num_leaves\": 536,<br>    \"max_depth\": 14,<br>    \"min_child_samples\": 298,<br>    \"learning_rate\": 0.0002579997501591249,<br>    \"boosting_type\": \"goss\"<br>  }<br>}",
          "{<br>  \"number\": 74,<br>  \"values\": [<br>    0.07638675449712615,<br>    0.6602028163527293<br>  ],<br>  \"params\": {<br>    \"n_estimators\": 1605,<br>    \"num_leaves\": 983,<br>    \"max_depth\": 13,<br>    \"min_child_samples\": 153,<br>    \"learning_rate\": 0.007809815335645421,<br>    \"boosting_type\": \"goss\"<br>  }<br>}",
          "{<br>  \"number\": 76,<br>  \"values\": [<br>    0.07506639970170337,<br>    0.662588622691415<br>  ],<br>  \"params\": {<br>    \"n_estimators\": 5311,<br>    \"num_leaves\": 606,<br>    \"max_depth\": 13,<br>    \"min_child_samples\": 143,<br>    \"learning_rate\": 0.0020169673806457464,<br>    \"boosting_type\": \"goss\"<br>  }<br>}",
          "{<br>  \"number\": 77,<br>  \"values\": [<br>    0.062465279588374445,<br>    0.6807517176358042<br>  ],<br>  \"params\": {<br>    \"n_estimators\": 6663,<br>    \"num_leaves\": 637,<br>    \"max_depth\": 16,<br>    \"min_child_samples\": 132,<br>    \"learning_rate\": 0.0012423984124655969,<br>    \"boosting_type\": \"gbdt\"<br>  }<br>}",
          "{<br>  \"number\": 78,<br>  \"values\": [<br>    0.07878529713214874,<br>    0.6379261593930922<br>  ],<br>  \"params\": {<br>    \"n_estimators\": 2847,<br>    \"num_leaves\": 681,<br>    \"max_depth\": 17,<br>    \"min_child_samples\": 195,<br>    \"learning_rate\": 0.0015886075700382574,<br>    \"boosting_type\": \"goss\"<br>  }<br>}",
          "{<br>  \"number\": 79,<br>  \"values\": [<br>    0.08362017891643397,<br>    0.616522090245409<br>  ],<br>  \"params\": {<br>    \"n_estimators\": 9507,<br>    \"num_leaves\": 448,<br>    \"max_depth\": 9,<br>    \"min_child_samples\": 257,<br>    \"learning_rate\": 0.0005102480299395431,<br>    \"boosting_type\": \"goss\"<br>  }<br>}",
          "{<br>  \"number\": 80,<br>  \"values\": [<br>    0.014650240855426502,<br>    0.4737450064978768<br>  ],<br>  \"params\": {<br>    \"n_estimators\": 337,<br>    \"num_leaves\": 505,<br>    \"max_depth\": 11,<br>    \"min_child_samples\": 168,<br>    \"learning_rate\": 0.002379489957572577,<br>    \"boosting_type\": \"gbdt\"<br>  }<br>}",
          "{<br>  \"number\": 82,<br>  \"values\": [<br>    0.0,<br>    0.0<br>  ],<br>  \"params\": {<br>    \"n_estimators\": 1907,<br>    \"num_leaves\": 311,<br>    \"max_depth\": 19,<br>    \"min_child_samples\": 8,<br>    \"learning_rate\": 7.279308045931784e-05,<br>    \"boosting_type\": \"gbdt\"<br>  }<br>}",
          "{<br>  \"number\": 83,<br>  \"values\": [<br>    0.044557688961392006,<br>    0.6132284447708136<br>  ],<br>  \"params\": {<br>    \"n_estimators\": 1490,<br>    \"num_leaves\": 224,<br>    \"max_depth\": 20,<br>    \"min_child_samples\": 50,<br>    \"learning_rate\": 0.0009571334564214479,<br>    \"boosting_type\": \"gbdt\"<br>  }<br>}",
          "{<br>  \"number\": 84,<br>  \"values\": [<br>    0.0,<br>    0.0<br>  ],<br>  \"params\": {<br>    \"n_estimators\": 1021,<br>    \"num_leaves\": 178,<br>    \"max_depth\": 18,<br>    \"min_child_samples\": 111,<br>    \"learning_rate\": 0.000274158788116942,<br>    \"boosting_type\": \"gbdt\"<br>  }<br>}",
          "{<br>  \"number\": 86,<br>  \"values\": [<br>    0.06260740791664776,<br>    0.6731700147658277<br>  ],<br>  \"params\": {<br>    \"n_estimators\": 2132,<br>    \"num_leaves\": 288,<br>    \"max_depth\": 20,<br>    \"min_child_samples\": 25,<br>    \"learning_rate\": 0.0016060381696522763,<br>    \"boosting_type\": \"gbdt\"<br>  }<br>}",
          "{<br>  \"number\": 87,<br>  \"values\": [<br>    0.07377849423536105,<br>    0.6721610963993859<br>  ],<br>  \"params\": {<br>    \"n_estimators\": 2544,<br>    \"num_leaves\": 251,<br>    \"max_depth\": 16,<br>    \"min_child_samples\": 16,<br>    \"learning_rate\": 0.0032338240306864093,<br>    \"boosting_type\": \"goss\"<br>  }<br>}",
          "{<br>  \"number\": 88,<br>  \"values\": [<br>    0.07277770135202029,<br>    0.6675785494356852<br>  ],<br>  \"params\": {<br>    \"n_estimators\": 1730,<br>    \"num_leaves\": 117,<br>    \"max_depth\": 17,<br>    \"min_child_samples\": 75,<br>    \"learning_rate\": 0.002703975483153454,<br>    \"boosting_type\": \"goss\"<br>  }<br>}",
          "{<br>  \"number\": 89,<br>  \"values\": [<br>    0.05803557759916369,<br>    0.678561557125348<br>  ],<br>  \"params\": {<br>    \"n_estimators\": 8663,<br>    \"num_leaves\": 365,<br>    \"max_depth\": 10,<br>    \"min_child_samples\": 5,<br>    \"learning_rate\": 0.0012801042533658468,<br>    \"boosting_type\": \"gbdt\"<br>  }<br>}",
          "{<br>  \"number\": 90,<br>  \"values\": [<br>    0.07369420276812381,<br>    0.6707330771958686<br>  ],<br>  \"params\": {<br>    \"n_estimators\": 4447,<br>    \"num_leaves\": 516,<br>    \"max_depth\": 18,<br>    \"min_child_samples\": 65,<br>    \"learning_rate\": 0.0017628792798928248,<br>    \"boosting_type\": \"goss\"<br>  }<br>}",
          "{<br>  \"number\": 91,<br>  \"values\": [<br>    0.0,<br>    0.0<br>  ],<br>  \"params\": {<br>    \"n_estimators\": 721,<br>    \"num_leaves\": 406,<br>    \"max_depth\": 6,<br>    \"min_child_samples\": 35,<br>    \"learning_rate\": 0.0005585676546722389,<br>    \"boosting_type\": \"goss\"<br>  }<br>}",
          "{<br>  \"number\": 92,<br>  \"values\": [<br>    0.02383794825030952,<br>    0.5455072604935101<br>  ],<br>  \"params\": {<br>    \"n_estimators\": 1196,<br>    \"num_leaves\": 467,<br>    \"max_depth\": 15,<br>    \"min_child_samples\": 101,<br>    \"learning_rate\": 0.000813562714886134,<br>    \"boosting_type\": \"goss\"<br>  }<br>}",
          "{<br>  \"number\": 93,<br>  \"values\": [<br>    0.004759111514997938,<br>    0.3273217165592191<br>  ],<br>  \"params\": {<br>    \"n_estimators\": 210,<br>    \"num_leaves\": 558,<br>    \"max_depth\": 10,<br>    \"min_child_samples\": 214,<br>    \"learning_rate\": 0.003077629617012528,<br>    \"boosting_type\": \"goss\"<br>  }<br>}",
          "{<br>  \"number\": 94,<br>  \"values\": [<br>    0.06816766099454735,<br>    0.6719790927331308<br>  ],<br>  \"params\": {<br>    \"n_estimators\": 854,<br>    \"num_leaves\": 582,<br>    \"max_depth\": 12,<br>    \"min_child_samples\": 45,<br>    \"learning_rate\": 0.004925156676134697,<br>    \"boosting_type\": \"goss\"<br>  }<br>}",
          "{<br>  \"number\": 95,<br>  \"values\": [<br>    0.060099640724484524,<br>    0.6600624705903496<br>  ],<br>  \"params\": {<br>    \"n_estimators\": 1418,<br>    \"num_leaves\": 801,<br>    \"max_depth\": 4,<br>    \"min_child_samples\": 58,<br>    \"learning_rate\": 0.0036764186936596873,<br>    \"boosting_type\": \"goss\"<br>  }<br>}",
          "{<br>  \"number\": 96,<br>  \"values\": [<br>    0.0721279037088632,<br>    0.6733213003401861<br>  ],<br>  \"params\": {<br>    \"n_estimators\": 7376,<br>    \"num_leaves\": 345,<br>    \"max_depth\": 19,<br>    \"min_child_samples\": 90,<br>    \"learning_rate\": 0.0010592782484551277,<br>    \"boosting_type\": \"goss\"<br>  }<br>}",
          "{<br>  \"number\": 97,<br>  \"values\": [<br>    0.07008619370181042,<br>    0.6572700649077567<br>  ],<br>  \"params\": {<br>    \"n_estimators\": 2257,<br>    \"num_leaves\": 526,<br>    \"max_depth\": 7,<br>    \"min_child_samples\": 137,<br>    \"learning_rate\": 0.002536893110053754,<br>    \"boosting_type\": \"goss\"<br>  }<br>}",
          "{<br>  \"number\": 98,<br>  \"values\": [<br>    0.06314838087840184,<br>    0.69012013639424<br>  ],<br>  \"params\": {<br>    \"n_estimators\": 3600,<br>    \"num_leaves\": 444,<br>    \"max_depth\": 8,<br>    \"min_child_samples\": 72,<br>    \"learning_rate\": 0.004054882149269193,<br>    \"boosting_type\": \"gbdt\"<br>  }<br>}",
          "{<br>  \"number\": 99,<br>  \"values\": [<br>    0.07571448775488106,<br>    0.6684148900055844<br>  ],<br>  \"params\": {<br>    \"n_estimators\": 3049,<br>    \"num_leaves\": 497,<br>    \"max_depth\": 20,<br>    \"min_child_samples\": 40,<br>    \"learning_rate\": 0.0014517854707300885,<br>    \"boosting_type\": \"goss\"<br>  }<br>}"
         ],
         "type": "scatter",
         "x": [
          0.08158776388397124,
          0.0753452450514007,
          0.0791963396049862,
          0.08819581971315846,
          0,
          0.07760816537198865,
          0.05048638520833898,
          0.06361929363430932,
          0.0827283210854657,
          0.06433221589033161,
          0,
          0,
          0.06408598048967888,
          0.06471242052995282,
          0.06817469813584516,
          0.06120124462303909,
          0.04972800346371305,
          0.05670835296723287,
          0,
          0.05270069824401944,
          0.05454523857640762,
          0.058040453877819774,
          0.06397770562373403,
          0.08957387091470081,
          0.07990454800545146,
          0.07354698978975541,
          0.030348577648436674,
          0.07186738734415818,
          0,
          0.06280266291088502,
          0,
          0,
          0.06763814770161446,
          0,
          0.07145444618947458,
          0.01705043300438653,
          0.0711985795555847,
          0,
          0.014875811007086143,
          0.07355916596304266,
          0.08088809213156796,
          0.06986478919952106,
          0.06591873203771749,
          0.0617658164922148,
          0.05860870656253932,
          0.049931961106140565,
          0.07346033257265629,
          0.051697818089381474,
          0,
          0.06518135550778248,
          0,
          0.05519668199464654,
          0.07253035844639655,
          0.07856502530351699,
          0.06736691944238815,
          0.04579888186628618,
          0.0817111570505092,
          0.053007394670834505,
          0.07638675449712615,
          0.07506639970170337,
          0.062465279588374445,
          0.07878529713214874,
          0.08362017891643397,
          0.014650240855426502,
          0,
          0.044557688961392006,
          0,
          0.06260740791664776,
          0.07377849423536105,
          0.07277770135202029,
          0.05803557759916369,
          0.07369420276812381,
          0,
          0.02383794825030952,
          0.004759111514997938,
          0.06816766099454735,
          0.060099640724484524,
          0.0721279037088632,
          0.07008619370181042,
          0.06314838087840184,
          0.07571448775488106
         ],
         "y": [
          0.6544896991246768,
          0.6681262424520135,
          0.6536097653427516,
          0.6274210581925399,
          0,
          0.6560436292851772,
          0.6363635051953523,
          0.6806121225246458,
          0.621126006013424,
          0.6870843941157767,
          0,
          0,
          0.6891020153870859,
          0.677295328436354,
          0.6831526663175581,
          0.6750669837136948,
          0.5866234720205561,
          0.6658974422633455,
          0,
          0.6051586811787258,
          0.648544266805013,
          0.6617861419182731,
          0.6728854570062857,
          0.624401018866527,
          0.6416839119006814,
          0.6693349976292728,
          0.5833143276013167,
          0.6724078741951441,
          0,
          0.6485024330480778,
          0,
          0,
          0.6598401047324842,
          0,
          0.673503210510854,
          0.5070962114071297,
          0.673898389874198,
          0,
          0.5033177679973247,
          0.6667521807519666,
          0.6623817566979477,
          0.6624748254467263,
          0.6779403789333533,
          0.6758748317045546,
          0.6567557518048719,
          0.6146443278064234,
          0.6546258659836124,
          0.624009212252125,
          0,
          0.6911652373842747,
          0,
          0.6515764745299675,
          0.6755515040571458,
          0.60616923306662,
          0.6645350466624066,
          0.6367589770351139,
          0.6379152375216223,
          0.5695428158087514,
          0.6602028163527293,
          0.662588622691415,
          0.6807517176358042,
          0.6379261593930922,
          0.616522090245409,
          0.4737450064978768,
          0,
          0.6132284447708136,
          0,
          0.6731700147658277,
          0.6721610963993859,
          0.6675785494356852,
          0.678561557125348,
          0.6707330771958686,
          0,
          0.5455072604935101,
          0.3273217165592191,
          0.6719790927331308,
          0.6600624705903496,
          0.6733213003401861,
          0.6572700649077567,
          0.69012013639424,
          0.6684148900055844
         ]
        },
        {
         "hovertemplate": "%{text}<extra>Best Trial</extra>",
         "marker": {
          "color": [
           9,
           10,
           13,
           15,
           23,
           30,
           33,
           35,
           43,
           52,
           56,
           58,
           61,
           66,
           68,
           71,
           75,
           81,
           85
          ],
          "colorbar": {
           "title": {
            "text": "Best Trial"
           },
           "x": 1.1,
           "xpad": 40
          },
          "colorscale": [
           [
            0,
            "rgb(255,245,240)"
           ],
           [
            0.125,
            "rgb(254,224,210)"
           ],
           [
            0.25,
            "rgb(252,187,161)"
           ],
           [
            0.375,
            "rgb(252,146,114)"
           ],
           [
            0.5,
            "rgb(251,106,74)"
           ],
           [
            0.625,
            "rgb(239,59,44)"
           ],
           [
            0.75,
            "rgb(203,24,29)"
           ],
           [
            0.875,
            "rgb(165,15,21)"
           ],
           [
            1,
            "rgb(103,0,13)"
           ]
          ],
          "line": {
           "color": "Grey",
           "width": 0.5
          }
         },
         "mode": "markers",
         "showlegend": false,
         "text": [
          "{<br>  \"number\": 9,<br>  \"values\": [<br>    0.061828696500874594,<br>    0.6933939212308955<br>  ],<br>  \"params\": {<br>    \"n_estimators\": 2977,<br>    \"num_leaves\": 342,<br>    \"max_depth\": 4,<br>    \"min_child_samples\": 14,<br>    \"learning_rate\": 0.007506057264991596,<br>    \"boosting_type\": \"gbdt\"<br>  }<br>}",
          "{<br>  \"number\": 10,<br>  \"values\": [<br>    0.06447031087059699,<br>    0.6951834554720846<br>  ],<br>  \"params\": {<br>    \"n_estimators\": 5933,<br>    \"num_leaves\": 16,<br>    \"max_depth\": 16,<br>    \"min_child_samples\": 68,<br>    \"learning_rate\": 0.0034944634744400876,<br>    \"boosting_type\": \"gbdt\"<br>  }<br>}",
          "{<br>  \"number\": 13,<br>  \"values\": [<br>    0.054757529906528914,<br>    0.6797991808311228<br>  ],<br>  \"params\": {<br>    \"n_estimators\": 1836,<br>    \"num_leaves\": 247,<br>    \"max_depth\": 7,<br>    \"min_child_samples\": 60,<br>    \"learning_rate\": 0.0031601710345147815,<br>    \"boosting_type\": \"gbdt\"<br>  }<br>}",
          "{<br>  \"number\": 15,<br>  \"values\": [<br>    0.0531285932713067,<br>    0.669123696307921<br>  ],<br>  \"params\": {<br>    \"n_estimators\": 1436,<br>    \"num_leaves\": 191,<br>    \"max_depth\": 7,<br>    \"min_child_samples\": 57,<br>    \"learning_rate\": 0.0031542549164920125,<br>    \"boosting_type\": \"gbdt\"<br>  }<br>}",
          "{<br>  \"number\": 23,<br>  \"values\": [<br>    0.05952806022162014,<br>    0.6883994385922378<br>  ],<br>  \"params\": {<br>    \"n_estimators\": 2297,<br>    \"num_leaves\": 569,<br>    \"max_depth\": 19,<br>    \"min_child_samples\": 76,<br>    \"learning_rate\": 0.0025821051787651723,<br>    \"boosting_type\": \"gbdt\"<br>  }<br>}",
          "{<br>  \"number\": 30,<br>  \"values\": [<br>    0.032064650622024876,<br>    0.5913871993714676<br>  ],<br>  \"params\": {<br>    \"n_estimators\": 927,<br>    \"num_leaves\": 333,<br>    \"max_depth\": 20,<br>    \"min_child_samples\": 30,<br>    \"learning_rate\": 0.0011972634833191179,<br>    \"boosting_type\": \"gbdt\"<br>  }<br>}",
          "{<br>  \"number\": 33,<br>  \"values\": [<br>    0.02209505480292915,<br>    0.5657660215782708<br>  ],<br>  \"params\": {<br>    \"n_estimators\": 2741,<br>    \"num_leaves\": 476,<br>    \"max_depth\": 20,<br>    \"min_child_samples\": 30,<br>    \"learning_rate\": 0.000326999773058086,<br>    \"boosting_type\": \"goss\"<br>  }<br>}",
          "{<br>  \"number\": 35,<br>  \"values\": [<br>    0.01263306571491093,<br>    0.5119882972112221<br>  ],<br>  \"params\": {<br>    \"n_estimators\": 1251,<br>    \"num_leaves\": 512,<br>    \"max_depth\": 19,<br>    \"min_child_samples\": 76,<br>    \"learning_rate\": 0.0005675272100558603,<br>    \"boosting_type\": \"goss\"<br>  }<br>}",
          "{<br>  \"number\": 43,<br>  \"values\": [<br>    0.024993741853906803,<br>    0.5851446157272742<br>  ],<br>  \"params\": {<br>    \"n_estimators\": 1842,<br>    \"num_leaves\": 377,<br>    \"max_depth\": 19,<br>    \"min_child_samples\": 22,<br>    \"learning_rate\": 0.0005392755671642876,<br>    \"boosting_type\": \"goss\"<br>  }<br>}",
          "{<br>  \"number\": 52,<br>  \"values\": [<br>    0.041406440549139806,<br>    0.6146952992824117<br>  ],<br>  \"params\": {<br>    \"n_estimators\": 2163,<br>    \"num_leaves\": 477,<br>    \"max_depth\": 5,<br>    \"min_child_samples\": 42,<br>    \"learning_rate\": 0.0007668439940883837,<br>    \"boosting_type\": \"goss\"<br>  }<br>}",
          "{<br>  \"number\": 56,<br>  \"values\": [<br>    0.053869423295649164,<br>    0.6697031402016516<br>  ],<br>  \"params\": {<br>    \"n_estimators\": 2089,<br>    \"num_leaves\": 360,<br>    \"max_depth\": 8,<br>    \"min_child_samples\": 21,<br>    \"learning_rate\": 0.0015017897398641247,<br>    \"boosting_type\": \"goss\"<br>  }<br>}",
          "{<br>  \"number\": 58,<br>  \"values\": [<br>    0.04452629772728693,<br>    0.6368784476241193<br>  ],<br>  \"params\": {<br>    \"n_estimators\": 527,<br>    \"num_leaves\": 169,<br>    \"max_depth\": 9,<br>    \"min_child_samples\": 42,<br>    \"learning_rate\": 0.0037531918152214506,<br>    \"boosting_type\": \"gbdt\"<br>  }<br>}",
          "{<br>  \"number\": 61,<br>  \"values\": [<br>    0.048799804287980385,<br>    0.6459250974237623<br>  ],<br>  \"params\": {<br>    \"n_estimators\": 972,<br>    \"num_leaves\": 60,<br>    \"max_depth\": 7,<br>    \"min_child_samples\": 38,<br>    \"learning_rate\": 0.0026800820660918354,<br>    \"boosting_type\": \"gbdt\"<br>  }<br>}",
          "{<br>  \"number\": 66,<br>  \"values\": [<br>    0.057899473379693575,<br>    0.6863664878250872<br>  ],<br>  \"params\": {<br>    \"n_estimators\": 5035,<br>    \"num_leaves\": 395,<br>    \"max_depth\": 11,<br>    \"min_child_samples\": 35,<br>    \"learning_rate\": 0.0010340631634536063,<br>    \"boosting_type\": \"gbdt\"<br>  }<br>}",
          "{<br>  \"number\": 68,<br>  \"values\": [<br>    0.014911121477975565,<br>    0.5205079307965497<br>  ],<br>  \"params\": {<br>    \"n_estimators\": 1928,<br>    \"num_leaves\": 263,<br>    \"max_depth\": 18,<br>    \"min_child_samples\": 14,<br>    \"learning_rate\": 0.00035218036382429286,<br>    \"boosting_type\": \"gbdt\"<br>  }<br>}",
          "{<br>  \"number\": 71,<br>  \"values\": [<br>    0.001323015329008888,<br>    0.3026478717711364<br>  ],<br>  \"params\": {<br>    \"n_estimators\": 1953,<br>    \"num_leaves\": 278,<br>    \"max_depth\": 3,<br>    \"min_child_samples\": 15,<br>    \"learning_rate\": 0.00033706234932995424,<br>    \"boosting_type\": \"gbdt\"<br>  }<br>}",
          "{<br>  \"number\": 75,<br>  \"values\": [<br>    0.0,<br>    0.12374059952639212<br>  ],<br>  \"params\": {<br>    \"n_estimators\": 568,<br>    \"num_leaves\": 482,<br>    \"max_depth\": 3,<br>    \"min_child_samples\": 122,<br>    \"learning_rate\": 0.000876939820011911,<br>    \"boosting_type\": \"goss\"<br>  }<br>}",
          "{<br>  \"number\": 81,<br>  \"values\": [<br>    0.0028346698986377863,<br>    0.36519862103363415<br>  ],<br>  \"params\": {<br>    \"n_estimators\": 1924,<br>    \"num_leaves\": 260,<br>    \"max_depth\": 19,<br>    \"min_child_samples\": 9,<br>    \"learning_rate\": 0.0002290626554106359,<br>    \"boosting_type\": \"gbdt\"<br>  }<br>}",
          "{<br>  \"number\": 85,<br>  \"values\": [<br>    0.0031876113705765234,<br>    0.37296899884221757<br>  ],<br>  \"params\": {<br>    \"n_estimators\": 807,<br>    \"num_leaves\": 341,<br>    \"max_depth\": 19,<br>    \"min_child_samples\": 33,<br>    \"learning_rate\": 0.0006140168020394073,<br>    \"boosting_type\": \"gbdt\"<br>  }<br>}"
         ],
         "type": "scatter",
         "x": [
          0.061828696500874594,
          0.06447031087059699,
          0.054757529906528914,
          0.0531285932713067,
          0.05952806022162014,
          0.032064650622024876,
          0.02209505480292915,
          0.01263306571491093,
          0.024993741853906803,
          0.041406440549139806,
          0.053869423295649164,
          0.04452629772728693,
          0.048799804287980385,
          0.057899473379693575,
          0.014911121477975565,
          0.001323015329008888,
          0,
          0.0028346698986377863,
          0.0031876113705765234
         ],
         "y": [
          0.6933939212308955,
          0.6951834554720846,
          0.6797991808311228,
          0.669123696307921,
          0.6883994385922378,
          0.5913871993714676,
          0.5657660215782708,
          0.5119882972112221,
          0.5851446157272742,
          0.6146952992824117,
          0.6697031402016516,
          0.6368784476241193,
          0.6459250974237623,
          0.6863664878250872,
          0.5205079307965497,
          0.3026478717711364,
          0.12374059952639212,
          0.36519862103363415,
          0.37296899884221757
         ]
        }
       ],
       "layout": {
        "template": {
         "data": {
          "bar": [
           {
            "error_x": {
             "color": "#2a3f5f"
            },
            "error_y": {
             "color": "#2a3f5f"
            },
            "marker": {
             "line": {
              "color": "#E5ECF6",
              "width": 0.5
             },
             "pattern": {
              "fillmode": "overlay",
              "size": 10,
              "solidity": 0.2
             }
            },
            "type": "bar"
           }
          ],
          "barpolar": [
           {
            "marker": {
             "line": {
              "color": "#E5ECF6",
              "width": 0.5
             },
             "pattern": {
              "fillmode": "overlay",
              "size": 10,
              "solidity": 0.2
             }
            },
            "type": "barpolar"
           }
          ],
          "carpet": [
           {
            "aaxis": {
             "endlinecolor": "#2a3f5f",
             "gridcolor": "white",
             "linecolor": "white",
             "minorgridcolor": "white",
             "startlinecolor": "#2a3f5f"
            },
            "baxis": {
             "endlinecolor": "#2a3f5f",
             "gridcolor": "white",
             "linecolor": "white",
             "minorgridcolor": "white",
             "startlinecolor": "#2a3f5f"
            },
            "type": "carpet"
           }
          ],
          "choropleth": [
           {
            "colorbar": {
             "outlinewidth": 0,
             "ticks": ""
            },
            "type": "choropleth"
           }
          ],
          "contour": [
           {
            "colorbar": {
             "outlinewidth": 0,
             "ticks": ""
            },
            "colorscale": [
             [
              0,
              "#0d0887"
             ],
             [
              0.1111111111111111,
              "#46039f"
             ],
             [
              0.2222222222222222,
              "#7201a8"
             ],
             [
              0.3333333333333333,
              "#9c179e"
             ],
             [
              0.4444444444444444,
              "#bd3786"
             ],
             [
              0.5555555555555556,
              "#d8576b"
             ],
             [
              0.6666666666666666,
              "#ed7953"
             ],
             [
              0.7777777777777778,
              "#fb9f3a"
             ],
             [
              0.8888888888888888,
              "#fdca26"
             ],
             [
              1,
              "#f0f921"
             ]
            ],
            "type": "contour"
           }
          ],
          "contourcarpet": [
           {
            "colorbar": {
             "outlinewidth": 0,
             "ticks": ""
            },
            "type": "contourcarpet"
           }
          ],
          "heatmap": [
           {
            "colorbar": {
             "outlinewidth": 0,
             "ticks": ""
            },
            "colorscale": [
             [
              0,
              "#0d0887"
             ],
             [
              0.1111111111111111,
              "#46039f"
             ],
             [
              0.2222222222222222,
              "#7201a8"
             ],
             [
              0.3333333333333333,
              "#9c179e"
             ],
             [
              0.4444444444444444,
              "#bd3786"
             ],
             [
              0.5555555555555556,
              "#d8576b"
             ],
             [
              0.6666666666666666,
              "#ed7953"
             ],
             [
              0.7777777777777778,
              "#fb9f3a"
             ],
             [
              0.8888888888888888,
              "#fdca26"
             ],
             [
              1,
              "#f0f921"
             ]
            ],
            "type": "heatmap"
           }
          ],
          "heatmapgl": [
           {
            "colorbar": {
             "outlinewidth": 0,
             "ticks": ""
            },
            "colorscale": [
             [
              0,
              "#0d0887"
             ],
             [
              0.1111111111111111,
              "#46039f"
             ],
             [
              0.2222222222222222,
              "#7201a8"
             ],
             [
              0.3333333333333333,
              "#9c179e"
             ],
             [
              0.4444444444444444,
              "#bd3786"
             ],
             [
              0.5555555555555556,
              "#d8576b"
             ],
             [
              0.6666666666666666,
              "#ed7953"
             ],
             [
              0.7777777777777778,
              "#fb9f3a"
             ],
             [
              0.8888888888888888,
              "#fdca26"
             ],
             [
              1,
              "#f0f921"
             ]
            ],
            "type": "heatmapgl"
           }
          ],
          "histogram": [
           {
            "marker": {
             "pattern": {
              "fillmode": "overlay",
              "size": 10,
              "solidity": 0.2
             }
            },
            "type": "histogram"
           }
          ],
          "histogram2d": [
           {
            "colorbar": {
             "outlinewidth": 0,
             "ticks": ""
            },
            "colorscale": [
             [
              0,
              "#0d0887"
             ],
             [
              0.1111111111111111,
              "#46039f"
             ],
             [
              0.2222222222222222,
              "#7201a8"
             ],
             [
              0.3333333333333333,
              "#9c179e"
             ],
             [
              0.4444444444444444,
              "#bd3786"
             ],
             [
              0.5555555555555556,
              "#d8576b"
             ],
             [
              0.6666666666666666,
              "#ed7953"
             ],
             [
              0.7777777777777778,
              "#fb9f3a"
             ],
             [
              0.8888888888888888,
              "#fdca26"
             ],
             [
              1,
              "#f0f921"
             ]
            ],
            "type": "histogram2d"
           }
          ],
          "histogram2dcontour": [
           {
            "colorbar": {
             "outlinewidth": 0,
             "ticks": ""
            },
            "colorscale": [
             [
              0,
              "#0d0887"
             ],
             [
              0.1111111111111111,
              "#46039f"
             ],
             [
              0.2222222222222222,
              "#7201a8"
             ],
             [
              0.3333333333333333,
              "#9c179e"
             ],
             [
              0.4444444444444444,
              "#bd3786"
             ],
             [
              0.5555555555555556,
              "#d8576b"
             ],
             [
              0.6666666666666666,
              "#ed7953"
             ],
             [
              0.7777777777777778,
              "#fb9f3a"
             ],
             [
              0.8888888888888888,
              "#fdca26"
             ],
             [
              1,
              "#f0f921"
             ]
            ],
            "type": "histogram2dcontour"
           }
          ],
          "mesh3d": [
           {
            "colorbar": {
             "outlinewidth": 0,
             "ticks": ""
            },
            "type": "mesh3d"
           }
          ],
          "parcoords": [
           {
            "line": {
             "colorbar": {
              "outlinewidth": 0,
              "ticks": ""
             }
            },
            "type": "parcoords"
           }
          ],
          "pie": [
           {
            "automargin": true,
            "type": "pie"
           }
          ],
          "scatter": [
           {
            "fillpattern": {
             "fillmode": "overlay",
             "size": 10,
             "solidity": 0.2
            },
            "type": "scatter"
           }
          ],
          "scatter3d": [
           {
            "line": {
             "colorbar": {
              "outlinewidth": 0,
              "ticks": ""
             }
            },
            "marker": {
             "colorbar": {
              "outlinewidth": 0,
              "ticks": ""
             }
            },
            "type": "scatter3d"
           }
          ],
          "scattercarpet": [
           {
            "marker": {
             "colorbar": {
              "outlinewidth": 0,
              "ticks": ""
             }
            },
            "type": "scattercarpet"
           }
          ],
          "scattergeo": [
           {
            "marker": {
             "colorbar": {
              "outlinewidth": 0,
              "ticks": ""
             }
            },
            "type": "scattergeo"
           }
          ],
          "scattergl": [
           {
            "marker": {
             "colorbar": {
              "outlinewidth": 0,
              "ticks": ""
             }
            },
            "type": "scattergl"
           }
          ],
          "scattermapbox": [
           {
            "marker": {
             "colorbar": {
              "outlinewidth": 0,
              "ticks": ""
             }
            },
            "type": "scattermapbox"
           }
          ],
          "scatterpolar": [
           {
            "marker": {
             "colorbar": {
              "outlinewidth": 0,
              "ticks": ""
             }
            },
            "type": "scatterpolar"
           }
          ],
          "scatterpolargl": [
           {
            "marker": {
             "colorbar": {
              "outlinewidth": 0,
              "ticks": ""
             }
            },
            "type": "scatterpolargl"
           }
          ],
          "scatterternary": [
           {
            "marker": {
             "colorbar": {
              "outlinewidth": 0,
              "ticks": ""
             }
            },
            "type": "scatterternary"
           }
          ],
          "surface": [
           {
            "colorbar": {
             "outlinewidth": 0,
             "ticks": ""
            },
            "colorscale": [
             [
              0,
              "#0d0887"
             ],
             [
              0.1111111111111111,
              "#46039f"
             ],
             [
              0.2222222222222222,
              "#7201a8"
             ],
             [
              0.3333333333333333,
              "#9c179e"
             ],
             [
              0.4444444444444444,
              "#bd3786"
             ],
             [
              0.5555555555555556,
              "#d8576b"
             ],
             [
              0.6666666666666666,
              "#ed7953"
             ],
             [
              0.7777777777777778,
              "#fb9f3a"
             ],
             [
              0.8888888888888888,
              "#fdca26"
             ],
             [
              1,
              "#f0f921"
             ]
            ],
            "type": "surface"
           }
          ],
          "table": [
           {
            "cells": {
             "fill": {
              "color": "#EBF0F8"
             },
             "line": {
              "color": "white"
             }
            },
            "header": {
             "fill": {
              "color": "#C8D4E3"
             },
             "line": {
              "color": "white"
             }
            },
            "type": "table"
           }
          ]
         },
         "layout": {
          "annotationdefaults": {
           "arrowcolor": "#2a3f5f",
           "arrowhead": 0,
           "arrowwidth": 1
          },
          "autotypenumbers": "strict",
          "coloraxis": {
           "colorbar": {
            "outlinewidth": 0,
            "ticks": ""
           }
          },
          "colorscale": {
           "diverging": [
            [
             0,
             "#8e0152"
            ],
            [
             0.1,
             "#c51b7d"
            ],
            [
             0.2,
             "#de77ae"
            ],
            [
             0.3,
             "#f1b6da"
            ],
            [
             0.4,
             "#fde0ef"
            ],
            [
             0.5,
             "#f7f7f7"
            ],
            [
             0.6,
             "#e6f5d0"
            ],
            [
             0.7,
             "#b8e186"
            ],
            [
             0.8,
             "#7fbc41"
            ],
            [
             0.9,
             "#4d9221"
            ],
            [
             1,
             "#276419"
            ]
           ],
           "sequential": [
            [
             0,
             "#0d0887"
            ],
            [
             0.1111111111111111,
             "#46039f"
            ],
            [
             0.2222222222222222,
             "#7201a8"
            ],
            [
             0.3333333333333333,
             "#9c179e"
            ],
            [
             0.4444444444444444,
             "#bd3786"
            ],
            [
             0.5555555555555556,
             "#d8576b"
            ],
            [
             0.6666666666666666,
             "#ed7953"
            ],
            [
             0.7777777777777778,
             "#fb9f3a"
            ],
            [
             0.8888888888888888,
             "#fdca26"
            ],
            [
             1,
             "#f0f921"
            ]
           ],
           "sequentialminus": [
            [
             0,
             "#0d0887"
            ],
            [
             0.1111111111111111,
             "#46039f"
            ],
            [
             0.2222222222222222,
             "#7201a8"
            ],
            [
             0.3333333333333333,
             "#9c179e"
            ],
            [
             0.4444444444444444,
             "#bd3786"
            ],
            [
             0.5555555555555556,
             "#d8576b"
            ],
            [
             0.6666666666666666,
             "#ed7953"
            ],
            [
             0.7777777777777778,
             "#fb9f3a"
            ],
            [
             0.8888888888888888,
             "#fdca26"
            ],
            [
             1,
             "#f0f921"
            ]
           ]
          },
          "colorway": [
           "#636efa",
           "#EF553B",
           "#00cc96",
           "#ab63fa",
           "#FFA15A",
           "#19d3f3",
           "#FF6692",
           "#B6E880",
           "#FF97FF",
           "#FECB52"
          ],
          "font": {
           "color": "#2a3f5f"
          },
          "geo": {
           "bgcolor": "white",
           "lakecolor": "white",
           "landcolor": "#E5ECF6",
           "showlakes": true,
           "showland": true,
           "subunitcolor": "white"
          },
          "hoverlabel": {
           "align": "left"
          },
          "hovermode": "closest",
          "mapbox": {
           "style": "light"
          },
          "paper_bgcolor": "white",
          "plot_bgcolor": "#E5ECF6",
          "polar": {
           "angularaxis": {
            "gridcolor": "white",
            "linecolor": "white",
            "ticks": ""
           },
           "bgcolor": "#E5ECF6",
           "radialaxis": {
            "gridcolor": "white",
            "linecolor": "white",
            "ticks": ""
           }
          },
          "scene": {
           "xaxis": {
            "backgroundcolor": "#E5ECF6",
            "gridcolor": "white",
            "gridwidth": 2,
            "linecolor": "white",
            "showbackground": true,
            "ticks": "",
            "zerolinecolor": "white"
           },
           "yaxis": {
            "backgroundcolor": "#E5ECF6",
            "gridcolor": "white",
            "gridwidth": 2,
            "linecolor": "white",
            "showbackground": true,
            "ticks": "",
            "zerolinecolor": "white"
           },
           "zaxis": {
            "backgroundcolor": "#E5ECF6",
            "gridcolor": "white",
            "gridwidth": 2,
            "linecolor": "white",
            "showbackground": true,
            "ticks": "",
            "zerolinecolor": "white"
           }
          },
          "shapedefaults": {
           "line": {
            "color": "#2a3f5f"
           }
          },
          "ternary": {
           "aaxis": {
            "gridcolor": "white",
            "linecolor": "white",
            "ticks": ""
           },
           "baxis": {
            "gridcolor": "white",
            "linecolor": "white",
            "ticks": ""
           },
           "bgcolor": "#E5ECF6",
           "caxis": {
            "gridcolor": "white",
            "linecolor": "white",
            "ticks": ""
           }
          },
          "title": {
           "x": 0.05
          },
          "xaxis": {
           "automargin": true,
           "gridcolor": "white",
           "linecolor": "white",
           "ticks": "",
           "title": {
            "standoff": 15
           },
           "zerolinecolor": "white",
           "zerolinewidth": 2
          },
          "yaxis": {
           "automargin": true,
           "gridcolor": "white",
           "linecolor": "white",
           "ticks": "",
           "title": {
            "standoff": 15
           },
           "zerolinecolor": "white",
           "zerolinewidth": 2
          }
         }
        },
        "title": {
         "text": "Pareto-front Plot"
        },
        "xaxis": {
         "title": {
          "text": "fair_metric"
         }
        },
        "yaxis": {
         "title": {
          "text": "f1_score"
         }
        }
       }
      }
     },
     "metadata": {},
     "output_type": "display_data"
    }
   ],
   "source": [
    "optuna.visualization.plot_pareto_front(study, target_names=[\"fair_metric\", \"f1_score\"], include_dominated_trials = True)"
   ]
  },
  {
   "cell_type": "code",
   "execution_count": null,
   "metadata": {},
   "outputs": [],
   "source": []
  }
 ],
 "metadata": {
  "kernelspec": {
   "display_name": "fairenv",
   "language": "python",
   "name": "python3"
  },
  "language_info": {
   "codemirror_mode": {
    "name": "ipython",
    "version": 3
   },
   "file_extension": ".py",
   "mimetype": "text/x-python",
   "name": "python",
   "nbconvert_exporter": "python",
   "pygments_lexer": "ipython3",
   "version": "3.10.10"
  },
  "orig_nbformat": 4
 },
 "nbformat": 4,
 "nbformat_minor": 2
}
