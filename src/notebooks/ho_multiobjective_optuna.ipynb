{
 "cells": [
  {
   "cell_type": "code",
   "execution_count": null,
   "metadata": {},
   "outputs": [],
   "source": [
    "#! pip install fairlearn\n",
    "#! pip install lightgbm\n",
    "#! pip install optuna"
   ]
  },
  {
   "cell_type": "code",
   "execution_count": 1,
   "metadata": {},
   "outputs": [
    {
     "name": "stderr",
     "output_type": "stream",
     "text": [
      "/home/azucena/miniconda3/envs/fairenv/lib/python3.10/site-packages/tqdm/auto.py:21: TqdmWarning: IProgress not found. Please update jupyter and ipywidgets. See https://ipywidgets.readthedocs.io/en/stable/user_install.html\n",
      "  from .autonotebook import tqdm as notebook_tqdm\n"
     ]
    }
   ],
   "source": [
    "from sklearn.metrics import f1_score, confusion_matrix, make_scorer, accuracy_score\n",
    "from sklearn.model_selection import cross_val_score, train_test_split, cross_validate\n",
    "from fairlearn.metrics import (\n",
    "    count,\n",
    "    selection_rate,\n",
    "    MetricFrame,\n",
    "    equalized_odds_difference,\n",
    "    false_positive_rate,\n",
    "    false_negative_rate,\n",
    "    true_negative_rate,\n",
    "    true_positive_rate,\n",
    "    demographic_parity_difference\n",
    ")\n",
    "\n",
    "from fairlearn.datasets import fetch_adult\n",
    "from sklearn.pipeline import Pipeline\n",
    "from sklearn.preprocessing import OneHotEncoder, StandardScaler\n",
    "from sklearn.compose import ColumnTransformer\n",
    "from sklearn.compose import make_column_selector as selector\n",
    "from sklearn.impute import SimpleImputer\n",
    "from sklearn.ensemble import RandomForestClassifier\n",
    "from lightgbm import LGBMClassifier\n",
    "\n",
    "import numpy as np\n",
    "import optuna\n",
    "import tqdm as notebook_tqdm"
   ]
  },
  {
   "cell_type": "code",
   "execution_count": 2,
   "metadata": {},
   "outputs": [
    {
     "name": "stderr",
     "output_type": "stream",
     "text": [
      "/home/azucena/miniconda3/envs/fairenv/lib/python3.10/site-packages/sklearn/datasets/_openml.py:968: FutureWarning: The default value of `parser` will change from `'liac-arff'` to `'auto'` in 1.4. You can set `parser='auto'` to silence this warning. Therefore, an `ImportError` will be raised from 1.4 if the dataset is dense and pandas is not installed. Note that the pandas parser may return different data types. See the Notes Section in fetch_openml's API doc for details.\n",
      "  warn(\n"
     ]
    }
   ],
   "source": [
    "data = fetch_adult(as_frame=True)\n",
    "X_raw = data.data\n",
    "y = (data.target == \">50K\") * 1\n",
    "A = X_raw[\"sex\"]\n",
    "\n",
    "numeric_transformer = Pipeline(\n",
    "    steps=[\n",
    "        (\"impute\", SimpleImputer()),\n",
    "        (\"scaler\", StandardScaler()),\n",
    "    ]\n",
    ")\n",
    "categorical_transformer = Pipeline(\n",
    "    [\n",
    "        (\"impute\", SimpleImputer(strategy=\"most_frequent\")),\n",
    "        (\"ohe\", OneHotEncoder(handle_unknown=\"ignore\")),\n",
    "    ]\n",
    ")\n",
    "preprocessor = ColumnTransformer(\n",
    "    transformers=[\n",
    "        (\"num\", numeric_transformer, selector(dtype_exclude=\"category\")),\n",
    "        (\"cat\", categorical_transformer, selector(dtype_include=\"category\")),\n",
    "    ]\n",
    ")\n",
    "\n",
    "pipeline = Pipeline(\n",
    "    steps=[\n",
    "        (\"preprocessor\", preprocessor),\n",
    "        (\n",
    "            \"classifier\",\n",
    "            LGBMClassifier(n_jobs=-1),\n",
    "        ),\n",
    "    ]\n",
    ")"
   ]
  },
  {
   "cell_type": "code",
   "execution_count": 3,
   "metadata": {},
   "outputs": [],
   "source": [
    "def metric_scorer(clf, X, y):\n",
    "    y_pred = clf.predict(X)\n",
    "    f1 = f1_score(y,y_pred)\n",
    "    abs_eod = np.abs(equalized_odds_difference(y, y_pred, sensitive_features=X['sex']))\n",
    "    return {'f1_score': f1, 'eod': abs_eod}\n",
    "\n",
    "def metric_scorer_v2(clf, X, y):\n",
    "    y_pred = clf.predict(X)\n",
    "    error = 1 - accuracy_score(y, y_pred)\n",
    "    abs_dpd = np.abs(demographic_parity_difference(y, y_pred, sensitive_features=X['sex']))\n",
    "    return {'error': error, 'dpd': abs_dpd}\n",
    "\n",
    "def metric_scorer_v3(clf, X, y):\n",
    "    y_pred = clf.predict(X)\n",
    "    f1 = f1_score(y,y_pred)\n",
    "    abs_dpd = np.abs(demographic_parity_difference(y, y_pred, sensitive_features=X['sex']))\n",
    "    return {'f1_score': f1, 'dpd': abs_dpd}\n",
    "\n",
    "def equality_opportunity_difference(y_true, y_pred, sensitive_features):\n",
    "    return MetricFrame(metrics=true_positive_rate, y_true=y_true, y_pred=y_pred, sensitive_features=sensitive_features).difference()\n",
    "\n",
    "def predictive_equality_difference(y_true, y_pred, sensitive_features):\n",
    "    return MetricFrame(metrics=false_positive_rate, y_true=y_true, y_pred=y_pred, sensitive_features=sensitive_features).difference()\n",
    "\n",
    "def metric_scorer_v4(clf, X, y):\n",
    "    y_pred = clf.predict(X)\n",
    "    #f1 = f1_score(y,y_pred)\n",
    "    recall = recall(y,y_pred)\n",
    "    abs_fpr = np.abs(predictive_equality_difference(y_true=y, y_pred=y_pred, sensitive_features=X['sex']))\n",
    "    #abs_dpd = np.abs(demographic_parity_difference(y, y_pred, sensitive_features=X['sex']))\n",
    "    return {'recall': recall, 'fpr': abs_fpr}\n"
   ]
  },
  {
   "cell_type": "code",
   "execution_count": 4,
   "metadata": {},
   "outputs": [],
   "source": [
    "#from fairlearn.metrics import equalized_odds_difference\n",
    "#import numpy as np\n",
    "\n",
    "#pipeline.fit(X_train, y_train)\n",
    "#y_pred = pipeline.predict(X_test)\n",
    "#fair_value = np.abs(equalized_odds_difference(y_test, y_pred, sensitive_features=A_test))\n",
    "#fair_value = np.abs(demographic_parity_difference(y_test, y_pred, sensitive_features=A_test))\n",
    "#fair_value = np.abs(equality_opportunity_difference(y_test, y_pred, sensitive_features=A_test))\n",
    "#model_value = f1_score(y_test, y_pred) \n",
    "\n",
    "#print(fair_value)\n",
    "#print(model_value)"
   ]
  },
  {
   "cell_type": "code",
   "execution_count": 5,
   "metadata": {},
   "outputs": [
    {
     "name": "stderr",
     "output_type": "stream",
     "text": [
      "\u001b[32m[I 2023-05-11 13:43:20,244]\u001b[0m A new study created in memory with name: no-name-d6dad290-523b-48fa-b400-813cf02050ca\u001b[0m\n"
     ]
    },
    {
     "name": "stdout",
     "output_type": "stream",
     "text": [
      "0\n"
     ]
    },
    {
     "name": "stderr",
     "output_type": "stream",
     "text": [
      "\u001b[33m[W 2023-05-11 13:50:30,741]\u001b[0m Trial 0 failed with parameters: {'n_estimators': 8222, 'num_leaves': 974, 'max_depth': 7, 'min_child_samples': 44, 'learning_rate': 0.005009434233968679, 'boosting_type': 'gbdt'} because of the following error: KeyboardInterrupt().\u001b[0m\n",
      "Traceback (most recent call last):\n",
      "  File \"/home/azucena/miniconda3/envs/fairenv/lib/python3.10/site-packages/optuna/study/_optimize.py\", line 200, in _run_trial\n",
      "    value_or_values = func(trial)\n",
      "  File \"/tmp/ipykernel_57542/123890457.py\", line 33, in objective\n",
      "    scores = cross_validate(\n",
      "  File \"/home/azucena/miniconda3/envs/fairenv/lib/python3.10/site-packages/sklearn/model_selection/_validation.py\", line 266, in cross_validate\n",
      "    results = parallel(\n",
      "  File \"/home/azucena/miniconda3/envs/fairenv/lib/python3.10/site-packages/sklearn/utils/parallel.py\", line 63, in __call__\n",
      "    return super().__call__(iterable_with_config)\n",
      "  File \"/home/azucena/miniconda3/envs/fairenv/lib/python3.10/site-packages/joblib/parallel.py\", line 1085, in __call__\n",
      "    if self.dispatch_one_batch(iterator):\n",
      "  File \"/home/azucena/miniconda3/envs/fairenv/lib/python3.10/site-packages/joblib/parallel.py\", line 901, in dispatch_one_batch\n",
      "    self._dispatch(tasks)\n",
      "  File \"/home/azucena/miniconda3/envs/fairenv/lib/python3.10/site-packages/joblib/parallel.py\", line 819, in _dispatch\n",
      "    job = self._backend.apply_async(batch, callback=cb)\n",
      "  File \"/home/azucena/miniconda3/envs/fairenv/lib/python3.10/site-packages/joblib/_parallel_backends.py\", line 208, in apply_async\n",
      "    result = ImmediateResult(func)\n",
      "  File \"/home/azucena/miniconda3/envs/fairenv/lib/python3.10/site-packages/joblib/_parallel_backends.py\", line 597, in __init__\n",
      "    self.results = batch()\n",
      "  File \"/home/azucena/miniconda3/envs/fairenv/lib/python3.10/site-packages/joblib/parallel.py\", line 288, in __call__\n",
      "    return [func(*args, **kwargs)\n",
      "  File \"/home/azucena/miniconda3/envs/fairenv/lib/python3.10/site-packages/joblib/parallel.py\", line 288, in <listcomp>\n",
      "    return [func(*args, **kwargs)\n",
      "  File \"/home/azucena/miniconda3/envs/fairenv/lib/python3.10/site-packages/sklearn/utils/parallel.py\", line 123, in __call__\n",
      "    return self.function(*args, **kwargs)\n",
      "  File \"/home/azucena/miniconda3/envs/fairenv/lib/python3.10/site-packages/sklearn/model_selection/_validation.py\", line 686, in _fit_and_score\n",
      "    estimator.fit(X_train, y_train, **fit_params)\n",
      "  File \"/home/azucena/miniconda3/envs/fairenv/lib/python3.10/site-packages/sklearn/pipeline.py\", line 405, in fit\n",
      "    self._final_estimator.fit(Xt, y, **fit_params_last_step)\n",
      "  File \"/home/azucena/miniconda3/envs/fairenv/lib/python3.10/site-packages/lightgbm/sklearn.py\", line 967, in fit\n",
      "    super().fit(X, _y, sample_weight=sample_weight, init_score=init_score, eval_set=valid_sets,\n",
      "  File \"/home/azucena/miniconda3/envs/fairenv/lib/python3.10/site-packages/lightgbm/sklearn.py\", line 748, in fit\n",
      "    self._Booster = train(\n",
      "  File \"/home/azucena/miniconda3/envs/fairenv/lib/python3.10/site-packages/lightgbm/engine.py\", line 292, in train\n",
      "    booster.update(fobj=fobj)\n",
      "  File \"/home/azucena/miniconda3/envs/fairenv/lib/python3.10/site-packages/lightgbm/basic.py\", line 3021, in update\n",
      "    _safe_call(_LIB.LGBM_BoosterUpdateOneIter(\n",
      "KeyboardInterrupt\n",
      "\u001b[33m[W 2023-05-11 13:50:30,791]\u001b[0m Trial 0 failed with value None.\u001b[0m\n"
     ]
    },
    {
     "ename": "KeyboardInterrupt",
     "evalue": "",
     "output_type": "error",
     "traceback": [
      "\u001b[0;31m---------------------------------------------------------------------------\u001b[0m",
      "\u001b[0;31mKeyboardInterrupt\u001b[0m                         Traceback (most recent call last)",
      "Cell \u001b[0;32mIn[5], line 53\u001b[0m\n\u001b[1;32m     51\u001b[0m sampler \u001b[39m=\u001b[39m optuna\u001b[39m.\u001b[39msamplers\u001b[39m.\u001b[39mTPESampler()  \u001b[39m# `MOTPESampler` used to be required for multi-objective optimization.\u001b[39;00m\n\u001b[1;32m     52\u001b[0m study \u001b[39m=\u001b[39m optuna\u001b[39m.\u001b[39mcreate_study(directions\u001b[39m=\u001b[39mdirections, pruner\u001b[39m=\u001b[39moptuna\u001b[39m.\u001b[39mpruners\u001b[39m.\u001b[39mSuccessiveHalvingPruner(), sampler \u001b[39m=\u001b[39m sampler)\n\u001b[0;32m---> 53\u001b[0m study\u001b[39m.\u001b[39;49moptimize(objective, n_trials\u001b[39m=\u001b[39;49m\u001b[39m100\u001b[39;49m)\n\u001b[1;32m     54\u001b[0m \u001b[39mprint\u001b[39m(\u001b[39m\"\u001b[39m\u001b[39mNumber of finished trials: \u001b[39m\u001b[39m\"\u001b[39m, \u001b[39mlen\u001b[39m(study\u001b[39m.\u001b[39mtrials))\n\u001b[1;32m     55\u001b[0m results\u001b[39m.\u001b[39mappend(study)\n",
      "File \u001b[0;32m~/miniconda3/envs/fairenv/lib/python3.10/site-packages/optuna/study/study.py:425\u001b[0m, in \u001b[0;36mStudy.optimize\u001b[0;34m(self, func, n_trials, timeout, n_jobs, catch, callbacks, gc_after_trial, show_progress_bar)\u001b[0m\n\u001b[1;32m    321\u001b[0m \u001b[39mdef\u001b[39;00m \u001b[39moptimize\u001b[39m(\n\u001b[1;32m    322\u001b[0m     \u001b[39mself\u001b[39m,\n\u001b[1;32m    323\u001b[0m     func: ObjectiveFuncType,\n\u001b[0;32m   (...)\u001b[0m\n\u001b[1;32m    330\u001b[0m     show_progress_bar: \u001b[39mbool\u001b[39m \u001b[39m=\u001b[39m \u001b[39mFalse\u001b[39;00m,\n\u001b[1;32m    331\u001b[0m ) \u001b[39m-\u001b[39m\u001b[39m>\u001b[39m \u001b[39mNone\u001b[39;00m:\n\u001b[1;32m    332\u001b[0m \u001b[39m    \u001b[39m\u001b[39m\"\"\"Optimize an objective function.\u001b[39;00m\n\u001b[1;32m    333\u001b[0m \n\u001b[1;32m    334\u001b[0m \u001b[39m    Optimization is done by choosing a suitable set of hyperparameter values from a given\u001b[39;00m\n\u001b[0;32m   (...)\u001b[0m\n\u001b[1;32m    422\u001b[0m \u001b[39m            If nested invocation of this method occurs.\u001b[39;00m\n\u001b[1;32m    423\u001b[0m \u001b[39m    \"\"\"\u001b[39;00m\n\u001b[0;32m--> 425\u001b[0m     _optimize(\n\u001b[1;32m    426\u001b[0m         study\u001b[39m=\u001b[39;49m\u001b[39mself\u001b[39;49m,\n\u001b[1;32m    427\u001b[0m         func\u001b[39m=\u001b[39;49mfunc,\n\u001b[1;32m    428\u001b[0m         n_trials\u001b[39m=\u001b[39;49mn_trials,\n\u001b[1;32m    429\u001b[0m         timeout\u001b[39m=\u001b[39;49mtimeout,\n\u001b[1;32m    430\u001b[0m         n_jobs\u001b[39m=\u001b[39;49mn_jobs,\n\u001b[1;32m    431\u001b[0m         catch\u001b[39m=\u001b[39;49m\u001b[39mtuple\u001b[39;49m(catch) \u001b[39mif\u001b[39;49;00m \u001b[39misinstance\u001b[39;49m(catch, Iterable) \u001b[39melse\u001b[39;49;00m (catch,),\n\u001b[1;32m    432\u001b[0m         callbacks\u001b[39m=\u001b[39;49mcallbacks,\n\u001b[1;32m    433\u001b[0m         gc_after_trial\u001b[39m=\u001b[39;49mgc_after_trial,\n\u001b[1;32m    434\u001b[0m         show_progress_bar\u001b[39m=\u001b[39;49mshow_progress_bar,\n\u001b[1;32m    435\u001b[0m     )\n",
      "File \u001b[0;32m~/miniconda3/envs/fairenv/lib/python3.10/site-packages/optuna/study/_optimize.py:66\u001b[0m, in \u001b[0;36m_optimize\u001b[0;34m(study, func, n_trials, timeout, n_jobs, catch, callbacks, gc_after_trial, show_progress_bar)\u001b[0m\n\u001b[1;32m     64\u001b[0m \u001b[39mtry\u001b[39;00m:\n\u001b[1;32m     65\u001b[0m     \u001b[39mif\u001b[39;00m n_jobs \u001b[39m==\u001b[39m \u001b[39m1\u001b[39m:\n\u001b[0;32m---> 66\u001b[0m         _optimize_sequential(\n\u001b[1;32m     67\u001b[0m             study,\n\u001b[1;32m     68\u001b[0m             func,\n\u001b[1;32m     69\u001b[0m             n_trials,\n\u001b[1;32m     70\u001b[0m             timeout,\n\u001b[1;32m     71\u001b[0m             catch,\n\u001b[1;32m     72\u001b[0m             callbacks,\n\u001b[1;32m     73\u001b[0m             gc_after_trial,\n\u001b[1;32m     74\u001b[0m             reseed_sampler_rng\u001b[39m=\u001b[39;49m\u001b[39mFalse\u001b[39;49;00m,\n\u001b[1;32m     75\u001b[0m             time_start\u001b[39m=\u001b[39;49m\u001b[39mNone\u001b[39;49;00m,\n\u001b[1;32m     76\u001b[0m             progress_bar\u001b[39m=\u001b[39;49mprogress_bar,\n\u001b[1;32m     77\u001b[0m         )\n\u001b[1;32m     78\u001b[0m     \u001b[39melse\u001b[39;00m:\n\u001b[1;32m     79\u001b[0m         \u001b[39mif\u001b[39;00m n_jobs \u001b[39m==\u001b[39m \u001b[39m-\u001b[39m\u001b[39m1\u001b[39m:\n",
      "File \u001b[0;32m~/miniconda3/envs/fairenv/lib/python3.10/site-packages/optuna/study/_optimize.py:163\u001b[0m, in \u001b[0;36m_optimize_sequential\u001b[0;34m(study, func, n_trials, timeout, catch, callbacks, gc_after_trial, reseed_sampler_rng, time_start, progress_bar)\u001b[0m\n\u001b[1;32m    160\u001b[0m         \u001b[39mbreak\u001b[39;00m\n\u001b[1;32m    162\u001b[0m \u001b[39mtry\u001b[39;00m:\n\u001b[0;32m--> 163\u001b[0m     frozen_trial \u001b[39m=\u001b[39m _run_trial(study, func, catch)\n\u001b[1;32m    164\u001b[0m \u001b[39mfinally\u001b[39;00m:\n\u001b[1;32m    165\u001b[0m     \u001b[39m# The following line mitigates memory problems that can be occurred in some\u001b[39;00m\n\u001b[1;32m    166\u001b[0m     \u001b[39m# environments (e.g., services that use computing containers such as GitHub Actions).\u001b[39;00m\n\u001b[1;32m    167\u001b[0m     \u001b[39m# Please refer to the following PR for further details:\u001b[39;00m\n\u001b[1;32m    168\u001b[0m     \u001b[39m# https://github.com/optuna/optuna/pull/325.\u001b[39;00m\n\u001b[1;32m    169\u001b[0m     \u001b[39mif\u001b[39;00m gc_after_trial:\n",
      "File \u001b[0;32m~/miniconda3/envs/fairenv/lib/python3.10/site-packages/optuna/study/_optimize.py:251\u001b[0m, in \u001b[0;36m_run_trial\u001b[0;34m(study, func, catch)\u001b[0m\n\u001b[1;32m    244\u001b[0m         \u001b[39massert\u001b[39;00m \u001b[39mFalse\u001b[39;00m, \u001b[39m\"\u001b[39m\u001b[39mShould not reach.\u001b[39m\u001b[39m\"\u001b[39m\n\u001b[1;32m    246\u001b[0m \u001b[39mif\u001b[39;00m (\n\u001b[1;32m    247\u001b[0m     frozen_trial\u001b[39m.\u001b[39mstate \u001b[39m==\u001b[39m TrialState\u001b[39m.\u001b[39mFAIL\n\u001b[1;32m    248\u001b[0m     \u001b[39mand\u001b[39;00m func_err \u001b[39mis\u001b[39;00m \u001b[39mnot\u001b[39;00m \u001b[39mNone\u001b[39;00m\n\u001b[1;32m    249\u001b[0m     \u001b[39mand\u001b[39;00m \u001b[39mnot\u001b[39;00m \u001b[39misinstance\u001b[39m(func_err, catch)\n\u001b[1;32m    250\u001b[0m ):\n\u001b[0;32m--> 251\u001b[0m     \u001b[39mraise\u001b[39;00m func_err\n\u001b[1;32m    252\u001b[0m \u001b[39mreturn\u001b[39;00m frozen_trial\n",
      "File \u001b[0;32m~/miniconda3/envs/fairenv/lib/python3.10/site-packages/optuna/study/_optimize.py:200\u001b[0m, in \u001b[0;36m_run_trial\u001b[0;34m(study, func, catch)\u001b[0m\n\u001b[1;32m    198\u001b[0m \u001b[39mwith\u001b[39;00m get_heartbeat_thread(trial\u001b[39m.\u001b[39m_trial_id, study\u001b[39m.\u001b[39m_storage):\n\u001b[1;32m    199\u001b[0m     \u001b[39mtry\u001b[39;00m:\n\u001b[0;32m--> 200\u001b[0m         value_or_values \u001b[39m=\u001b[39m func(trial)\n\u001b[1;32m    201\u001b[0m     \u001b[39mexcept\u001b[39;00m exceptions\u001b[39m.\u001b[39mTrialPruned \u001b[39mas\u001b[39;00m e:\n\u001b[1;32m    202\u001b[0m         \u001b[39m# TODO(mamu): Handle multi-objective cases.\u001b[39;00m\n\u001b[1;32m    203\u001b[0m         state \u001b[39m=\u001b[39m TrialState\u001b[39m.\u001b[39mPRUNED\n",
      "Cell \u001b[0;32mIn[5], line 33\u001b[0m, in \u001b[0;36mobjective\u001b[0;34m(trial)\u001b[0m\n\u001b[1;32m     23\u001b[0m params \u001b[39m=\u001b[39m {\n\u001b[1;32m     24\u001b[0m     \u001b[39m'\u001b[39m\u001b[39mn_estimators\u001b[39m\u001b[39m'\u001b[39m: trial\u001b[39m.\u001b[39msuggest_int(\u001b[39m\"\u001b[39m\u001b[39mn_estimators\u001b[39m\u001b[39m\"\u001b[39m, \u001b[39m20\u001b[39m, \u001b[39m10000\u001b[39m),\n\u001b[1;32m     25\u001b[0m     \u001b[39m'\u001b[39m\u001b[39mnum_leaves\u001b[39m\u001b[39m'\u001b[39m: trial\u001b[39m.\u001b[39msuggest_int(\u001b[39m\"\u001b[39m\u001b[39mnum_leaves\u001b[39m\u001b[39m\"\u001b[39m, \u001b[39m10\u001b[39m, \u001b[39m1000\u001b[39m),\n\u001b[0;32m   (...)\u001b[0m\n\u001b[1;32m     29\u001b[0m     \u001b[39m'\u001b[39m\u001b[39mboosting_type\u001b[39m\u001b[39m'\u001b[39m: trial\u001b[39m.\u001b[39msuggest_categorical(\u001b[39m\"\u001b[39m\u001b[39mboosting_type\u001b[39m\u001b[39m\"\u001b[39m, [\u001b[39m'\u001b[39m\u001b[39mgoss\u001b[39m\u001b[39m'\u001b[39m, \u001b[39m'\u001b[39m\u001b[39mgbdt\u001b[39m\u001b[39m'\u001b[39m])\n\u001b[1;32m     30\u001b[0m     }\n\u001b[1;32m     31\u001b[0m pipeline[\u001b[39m'\u001b[39m\u001b[39mclassifier\u001b[39m\u001b[39m'\u001b[39m]\u001b[39m.\u001b[39mset_params(\u001b[39m*\u001b[39m\u001b[39m*\u001b[39mparams)\n\u001b[0;32m---> 33\u001b[0m scores \u001b[39m=\u001b[39m cross_validate(\n\u001b[1;32m     34\u001b[0m         pipeline, \n\u001b[1;32m     35\u001b[0m         X_train,\n\u001b[1;32m     36\u001b[0m         y_train, \n\u001b[1;32m     37\u001b[0m         cv\u001b[39m=\u001b[39;49m\u001b[39m5\u001b[39;49m,\n\u001b[1;32m     38\u001b[0m         scoring \u001b[39m=\u001b[39;49m metric_scorer_v4,\n\u001b[1;32m     39\u001b[0m         return_train_score\u001b[39m=\u001b[39;49m\u001b[39mTrue\u001b[39;49;00m)\n\u001b[1;32m     41\u001b[0m \u001b[39m#fair_metric = scores['test_eod'].mean()\u001b[39;00m\n\u001b[1;32m     42\u001b[0m \u001b[39m#fair_metric = scores['test_dpd'].mean()\u001b[39;00m\n\u001b[1;32m     43\u001b[0m fair_metric \u001b[39m=\u001b[39m scores[\u001b[39m'\u001b[39m\u001b[39mtest_fpr\u001b[39m\u001b[39m'\u001b[39m]\u001b[39m.\u001b[39mmean()\n",
      "File \u001b[0;32m~/miniconda3/envs/fairenv/lib/python3.10/site-packages/sklearn/model_selection/_validation.py:266\u001b[0m, in \u001b[0;36mcross_validate\u001b[0;34m(estimator, X, y, groups, scoring, cv, n_jobs, verbose, fit_params, pre_dispatch, return_train_score, return_estimator, error_score)\u001b[0m\n\u001b[1;32m    263\u001b[0m \u001b[39m# We clone the estimator to make sure that all the folds are\u001b[39;00m\n\u001b[1;32m    264\u001b[0m \u001b[39m# independent, and that it is pickle-able.\u001b[39;00m\n\u001b[1;32m    265\u001b[0m parallel \u001b[39m=\u001b[39m Parallel(n_jobs\u001b[39m=\u001b[39mn_jobs, verbose\u001b[39m=\u001b[39mverbose, pre_dispatch\u001b[39m=\u001b[39mpre_dispatch)\n\u001b[0;32m--> 266\u001b[0m results \u001b[39m=\u001b[39m parallel(\n\u001b[1;32m    267\u001b[0m     delayed(_fit_and_score)(\n\u001b[1;32m    268\u001b[0m         clone(estimator),\n\u001b[1;32m    269\u001b[0m         X,\n\u001b[1;32m    270\u001b[0m         y,\n\u001b[1;32m    271\u001b[0m         scorers,\n\u001b[1;32m    272\u001b[0m         train,\n\u001b[1;32m    273\u001b[0m         test,\n\u001b[1;32m    274\u001b[0m         verbose,\n\u001b[1;32m    275\u001b[0m         \u001b[39mNone\u001b[39;49;00m,\n\u001b[1;32m    276\u001b[0m         fit_params,\n\u001b[1;32m    277\u001b[0m         return_train_score\u001b[39m=\u001b[39;49mreturn_train_score,\n\u001b[1;32m    278\u001b[0m         return_times\u001b[39m=\u001b[39;49m\u001b[39mTrue\u001b[39;49;00m,\n\u001b[1;32m    279\u001b[0m         return_estimator\u001b[39m=\u001b[39;49mreturn_estimator,\n\u001b[1;32m    280\u001b[0m         error_score\u001b[39m=\u001b[39;49merror_score,\n\u001b[1;32m    281\u001b[0m     )\n\u001b[1;32m    282\u001b[0m     \u001b[39mfor\u001b[39;49;00m train, test \u001b[39min\u001b[39;49;00m cv\u001b[39m.\u001b[39;49msplit(X, y, groups)\n\u001b[1;32m    283\u001b[0m )\n\u001b[1;32m    285\u001b[0m _warn_or_raise_about_fit_failures(results, error_score)\n\u001b[1;32m    287\u001b[0m \u001b[39m# For callabe scoring, the return type is only know after calling. If the\u001b[39;00m\n\u001b[1;32m    288\u001b[0m \u001b[39m# return type is a dictionary, the error scores can now be inserted with\u001b[39;00m\n\u001b[1;32m    289\u001b[0m \u001b[39m# the correct key.\u001b[39;00m\n",
      "File \u001b[0;32m~/miniconda3/envs/fairenv/lib/python3.10/site-packages/sklearn/utils/parallel.py:63\u001b[0m, in \u001b[0;36mParallel.__call__\u001b[0;34m(self, iterable)\u001b[0m\n\u001b[1;32m     58\u001b[0m config \u001b[39m=\u001b[39m get_config()\n\u001b[1;32m     59\u001b[0m iterable_with_config \u001b[39m=\u001b[39m (\n\u001b[1;32m     60\u001b[0m     (_with_config(delayed_func, config), args, kwargs)\n\u001b[1;32m     61\u001b[0m     \u001b[39mfor\u001b[39;00m delayed_func, args, kwargs \u001b[39min\u001b[39;00m iterable\n\u001b[1;32m     62\u001b[0m )\n\u001b[0;32m---> 63\u001b[0m \u001b[39mreturn\u001b[39;00m \u001b[39msuper\u001b[39;49m()\u001b[39m.\u001b[39;49m\u001b[39m__call__\u001b[39;49m(iterable_with_config)\n",
      "File \u001b[0;32m~/miniconda3/envs/fairenv/lib/python3.10/site-packages/joblib/parallel.py:1085\u001b[0m, in \u001b[0;36mParallel.__call__\u001b[0;34m(self, iterable)\u001b[0m\n\u001b[1;32m   1076\u001b[0m \u001b[39mtry\u001b[39;00m:\n\u001b[1;32m   1077\u001b[0m     \u001b[39m# Only set self._iterating to True if at least a batch\u001b[39;00m\n\u001b[1;32m   1078\u001b[0m     \u001b[39m# was dispatched. In particular this covers the edge\u001b[39;00m\n\u001b[0;32m   (...)\u001b[0m\n\u001b[1;32m   1082\u001b[0m     \u001b[39m# was very quick and its callback already dispatched all the\u001b[39;00m\n\u001b[1;32m   1083\u001b[0m     \u001b[39m# remaining jobs.\u001b[39;00m\n\u001b[1;32m   1084\u001b[0m     \u001b[39mself\u001b[39m\u001b[39m.\u001b[39m_iterating \u001b[39m=\u001b[39m \u001b[39mFalse\u001b[39;00m\n\u001b[0;32m-> 1085\u001b[0m     \u001b[39mif\u001b[39;00m \u001b[39mself\u001b[39;49m\u001b[39m.\u001b[39;49mdispatch_one_batch(iterator):\n\u001b[1;32m   1086\u001b[0m         \u001b[39mself\u001b[39m\u001b[39m.\u001b[39m_iterating \u001b[39m=\u001b[39m \u001b[39mself\u001b[39m\u001b[39m.\u001b[39m_original_iterator \u001b[39mis\u001b[39;00m \u001b[39mnot\u001b[39;00m \u001b[39mNone\u001b[39;00m\n\u001b[1;32m   1088\u001b[0m     \u001b[39mwhile\u001b[39;00m \u001b[39mself\u001b[39m\u001b[39m.\u001b[39mdispatch_one_batch(iterator):\n",
      "File \u001b[0;32m~/miniconda3/envs/fairenv/lib/python3.10/site-packages/joblib/parallel.py:901\u001b[0m, in \u001b[0;36mParallel.dispatch_one_batch\u001b[0;34m(self, iterator)\u001b[0m\n\u001b[1;32m    899\u001b[0m     \u001b[39mreturn\u001b[39;00m \u001b[39mFalse\u001b[39;00m\n\u001b[1;32m    900\u001b[0m \u001b[39melse\u001b[39;00m:\n\u001b[0;32m--> 901\u001b[0m     \u001b[39mself\u001b[39;49m\u001b[39m.\u001b[39;49m_dispatch(tasks)\n\u001b[1;32m    902\u001b[0m     \u001b[39mreturn\u001b[39;00m \u001b[39mTrue\u001b[39;00m\n",
      "File \u001b[0;32m~/miniconda3/envs/fairenv/lib/python3.10/site-packages/joblib/parallel.py:819\u001b[0m, in \u001b[0;36mParallel._dispatch\u001b[0;34m(self, batch)\u001b[0m\n\u001b[1;32m    817\u001b[0m \u001b[39mwith\u001b[39;00m \u001b[39mself\u001b[39m\u001b[39m.\u001b[39m_lock:\n\u001b[1;32m    818\u001b[0m     job_idx \u001b[39m=\u001b[39m \u001b[39mlen\u001b[39m(\u001b[39mself\u001b[39m\u001b[39m.\u001b[39m_jobs)\n\u001b[0;32m--> 819\u001b[0m     job \u001b[39m=\u001b[39m \u001b[39mself\u001b[39;49m\u001b[39m.\u001b[39;49m_backend\u001b[39m.\u001b[39;49mapply_async(batch, callback\u001b[39m=\u001b[39;49mcb)\n\u001b[1;32m    820\u001b[0m     \u001b[39m# A job can complete so quickly than its callback is\u001b[39;00m\n\u001b[1;32m    821\u001b[0m     \u001b[39m# called before we get here, causing self._jobs to\u001b[39;00m\n\u001b[1;32m    822\u001b[0m     \u001b[39m# grow. To ensure correct results ordering, .insert is\u001b[39;00m\n\u001b[1;32m    823\u001b[0m     \u001b[39m# used (rather than .append) in the following line\u001b[39;00m\n\u001b[1;32m    824\u001b[0m     \u001b[39mself\u001b[39m\u001b[39m.\u001b[39m_jobs\u001b[39m.\u001b[39minsert(job_idx, job)\n",
      "File \u001b[0;32m~/miniconda3/envs/fairenv/lib/python3.10/site-packages/joblib/_parallel_backends.py:208\u001b[0m, in \u001b[0;36mSequentialBackend.apply_async\u001b[0;34m(self, func, callback)\u001b[0m\n\u001b[1;32m    206\u001b[0m \u001b[39mdef\u001b[39;00m \u001b[39mapply_async\u001b[39m(\u001b[39mself\u001b[39m, func, callback\u001b[39m=\u001b[39m\u001b[39mNone\u001b[39;00m):\n\u001b[1;32m    207\u001b[0m \u001b[39m    \u001b[39m\u001b[39m\"\"\"Schedule a func to be run\"\"\"\u001b[39;00m\n\u001b[0;32m--> 208\u001b[0m     result \u001b[39m=\u001b[39m ImmediateResult(func)\n\u001b[1;32m    209\u001b[0m     \u001b[39mif\u001b[39;00m callback:\n\u001b[1;32m    210\u001b[0m         callback(result)\n",
      "File \u001b[0;32m~/miniconda3/envs/fairenv/lib/python3.10/site-packages/joblib/_parallel_backends.py:597\u001b[0m, in \u001b[0;36mImmediateResult.__init__\u001b[0;34m(self, batch)\u001b[0m\n\u001b[1;32m    594\u001b[0m \u001b[39mdef\u001b[39;00m \u001b[39m__init__\u001b[39m(\u001b[39mself\u001b[39m, batch):\n\u001b[1;32m    595\u001b[0m     \u001b[39m# Don't delay the application, to avoid keeping the input\u001b[39;00m\n\u001b[1;32m    596\u001b[0m     \u001b[39m# arguments in memory\u001b[39;00m\n\u001b[0;32m--> 597\u001b[0m     \u001b[39mself\u001b[39m\u001b[39m.\u001b[39mresults \u001b[39m=\u001b[39m batch()\n",
      "File \u001b[0;32m~/miniconda3/envs/fairenv/lib/python3.10/site-packages/joblib/parallel.py:288\u001b[0m, in \u001b[0;36mBatchedCalls.__call__\u001b[0;34m(self)\u001b[0m\n\u001b[1;32m    284\u001b[0m \u001b[39mdef\u001b[39;00m \u001b[39m__call__\u001b[39m(\u001b[39mself\u001b[39m):\n\u001b[1;32m    285\u001b[0m     \u001b[39m# Set the default nested backend to self._backend but do not set the\u001b[39;00m\n\u001b[1;32m    286\u001b[0m     \u001b[39m# change the default number of processes to -1\u001b[39;00m\n\u001b[1;32m    287\u001b[0m     \u001b[39mwith\u001b[39;00m parallel_backend(\u001b[39mself\u001b[39m\u001b[39m.\u001b[39m_backend, n_jobs\u001b[39m=\u001b[39m\u001b[39mself\u001b[39m\u001b[39m.\u001b[39m_n_jobs):\n\u001b[0;32m--> 288\u001b[0m         \u001b[39mreturn\u001b[39;00m [func(\u001b[39m*\u001b[39margs, \u001b[39m*\u001b[39m\u001b[39m*\u001b[39mkwargs)\n\u001b[1;32m    289\u001b[0m                 \u001b[39mfor\u001b[39;00m func, args, kwargs \u001b[39min\u001b[39;00m \u001b[39mself\u001b[39m\u001b[39m.\u001b[39mitems]\n",
      "File \u001b[0;32m~/miniconda3/envs/fairenv/lib/python3.10/site-packages/joblib/parallel.py:288\u001b[0m, in \u001b[0;36m<listcomp>\u001b[0;34m(.0)\u001b[0m\n\u001b[1;32m    284\u001b[0m \u001b[39mdef\u001b[39;00m \u001b[39m__call__\u001b[39m(\u001b[39mself\u001b[39m):\n\u001b[1;32m    285\u001b[0m     \u001b[39m# Set the default nested backend to self._backend but do not set the\u001b[39;00m\n\u001b[1;32m    286\u001b[0m     \u001b[39m# change the default number of processes to -1\u001b[39;00m\n\u001b[1;32m    287\u001b[0m     \u001b[39mwith\u001b[39;00m parallel_backend(\u001b[39mself\u001b[39m\u001b[39m.\u001b[39m_backend, n_jobs\u001b[39m=\u001b[39m\u001b[39mself\u001b[39m\u001b[39m.\u001b[39m_n_jobs):\n\u001b[0;32m--> 288\u001b[0m         \u001b[39mreturn\u001b[39;00m [func(\u001b[39m*\u001b[39;49margs, \u001b[39m*\u001b[39;49m\u001b[39m*\u001b[39;49mkwargs)\n\u001b[1;32m    289\u001b[0m                 \u001b[39mfor\u001b[39;00m func, args, kwargs \u001b[39min\u001b[39;00m \u001b[39mself\u001b[39m\u001b[39m.\u001b[39mitems]\n",
      "File \u001b[0;32m~/miniconda3/envs/fairenv/lib/python3.10/site-packages/sklearn/utils/parallel.py:123\u001b[0m, in \u001b[0;36m_FuncWrapper.__call__\u001b[0;34m(self, *args, **kwargs)\u001b[0m\n\u001b[1;32m    121\u001b[0m     config \u001b[39m=\u001b[39m {}\n\u001b[1;32m    122\u001b[0m \u001b[39mwith\u001b[39;00m config_context(\u001b[39m*\u001b[39m\u001b[39m*\u001b[39mconfig):\n\u001b[0;32m--> 123\u001b[0m     \u001b[39mreturn\u001b[39;00m \u001b[39mself\u001b[39;49m\u001b[39m.\u001b[39;49mfunction(\u001b[39m*\u001b[39;49margs, \u001b[39m*\u001b[39;49m\u001b[39m*\u001b[39;49mkwargs)\n",
      "File \u001b[0;32m~/miniconda3/envs/fairenv/lib/python3.10/site-packages/sklearn/model_selection/_validation.py:686\u001b[0m, in \u001b[0;36m_fit_and_score\u001b[0;34m(estimator, X, y, scorer, train, test, verbose, parameters, fit_params, return_train_score, return_parameters, return_n_test_samples, return_times, return_estimator, split_progress, candidate_progress, error_score)\u001b[0m\n\u001b[1;32m    684\u001b[0m         estimator\u001b[39m.\u001b[39mfit(X_train, \u001b[39m*\u001b[39m\u001b[39m*\u001b[39mfit_params)\n\u001b[1;32m    685\u001b[0m     \u001b[39melse\u001b[39;00m:\n\u001b[0;32m--> 686\u001b[0m         estimator\u001b[39m.\u001b[39;49mfit(X_train, y_train, \u001b[39m*\u001b[39;49m\u001b[39m*\u001b[39;49mfit_params)\n\u001b[1;32m    688\u001b[0m \u001b[39mexcept\u001b[39;00m \u001b[39mException\u001b[39;00m:\n\u001b[1;32m    689\u001b[0m     \u001b[39m# Note fit time as time until error\u001b[39;00m\n\u001b[1;32m    690\u001b[0m     fit_time \u001b[39m=\u001b[39m time\u001b[39m.\u001b[39mtime() \u001b[39m-\u001b[39m start_time\n",
      "File \u001b[0;32m~/miniconda3/envs/fairenv/lib/python3.10/site-packages/sklearn/pipeline.py:405\u001b[0m, in \u001b[0;36mPipeline.fit\u001b[0;34m(self, X, y, **fit_params)\u001b[0m\n\u001b[1;32m    403\u001b[0m     \u001b[39mif\u001b[39;00m \u001b[39mself\u001b[39m\u001b[39m.\u001b[39m_final_estimator \u001b[39m!=\u001b[39m \u001b[39m\"\u001b[39m\u001b[39mpassthrough\u001b[39m\u001b[39m\"\u001b[39m:\n\u001b[1;32m    404\u001b[0m         fit_params_last_step \u001b[39m=\u001b[39m fit_params_steps[\u001b[39mself\u001b[39m\u001b[39m.\u001b[39msteps[\u001b[39m-\u001b[39m\u001b[39m1\u001b[39m][\u001b[39m0\u001b[39m]]\n\u001b[0;32m--> 405\u001b[0m         \u001b[39mself\u001b[39;49m\u001b[39m.\u001b[39;49m_final_estimator\u001b[39m.\u001b[39;49mfit(Xt, y, \u001b[39m*\u001b[39;49m\u001b[39m*\u001b[39;49mfit_params_last_step)\n\u001b[1;32m    407\u001b[0m \u001b[39mreturn\u001b[39;00m \u001b[39mself\u001b[39m\n",
      "File \u001b[0;32m~/miniconda3/envs/fairenv/lib/python3.10/site-packages/lightgbm/sklearn.py:967\u001b[0m, in \u001b[0;36mLGBMClassifier.fit\u001b[0;34m(self, X, y, sample_weight, init_score, eval_set, eval_names, eval_sample_weight, eval_class_weight, eval_init_score, eval_metric, early_stopping_rounds, verbose, feature_name, categorical_feature, callbacks, init_model)\u001b[0m\n\u001b[1;32m    964\u001b[0m         \u001b[39melse\u001b[39;00m:\n\u001b[1;32m    965\u001b[0m             valid_sets[i] \u001b[39m=\u001b[39m (valid_x, \u001b[39mself\u001b[39m\u001b[39m.\u001b[39m_le\u001b[39m.\u001b[39mtransform(valid_y))\n\u001b[0;32m--> 967\u001b[0m \u001b[39msuper\u001b[39;49m()\u001b[39m.\u001b[39;49mfit(X, _y, sample_weight\u001b[39m=\u001b[39;49msample_weight, init_score\u001b[39m=\u001b[39;49minit_score, eval_set\u001b[39m=\u001b[39;49mvalid_sets,\n\u001b[1;32m    968\u001b[0m             eval_names\u001b[39m=\u001b[39;49meval_names, eval_sample_weight\u001b[39m=\u001b[39;49meval_sample_weight,\n\u001b[1;32m    969\u001b[0m             eval_class_weight\u001b[39m=\u001b[39;49meval_class_weight, eval_init_score\u001b[39m=\u001b[39;49meval_init_score,\n\u001b[1;32m    970\u001b[0m             eval_metric\u001b[39m=\u001b[39;49meval_metric, early_stopping_rounds\u001b[39m=\u001b[39;49mearly_stopping_rounds,\n\u001b[1;32m    971\u001b[0m             verbose\u001b[39m=\u001b[39;49mverbose, feature_name\u001b[39m=\u001b[39;49mfeature_name, categorical_feature\u001b[39m=\u001b[39;49mcategorical_feature,\n\u001b[1;32m    972\u001b[0m             callbacks\u001b[39m=\u001b[39;49mcallbacks, init_model\u001b[39m=\u001b[39;49minit_model)\n\u001b[1;32m    973\u001b[0m \u001b[39mreturn\u001b[39;00m \u001b[39mself\u001b[39m\n",
      "File \u001b[0;32m~/miniconda3/envs/fairenv/lib/python3.10/site-packages/lightgbm/sklearn.py:748\u001b[0m, in \u001b[0;36mLGBMModel.fit\u001b[0;34m(self, X, y, sample_weight, init_score, group, eval_set, eval_names, eval_sample_weight, eval_class_weight, eval_init_score, eval_group, eval_metric, early_stopping_rounds, verbose, feature_name, categorical_feature, callbacks, init_model)\u001b[0m\n\u001b[1;32m    745\u001b[0m evals_result \u001b[39m=\u001b[39m {}\n\u001b[1;32m    746\u001b[0m callbacks\u001b[39m.\u001b[39mappend(record_evaluation(evals_result))\n\u001b[0;32m--> 748\u001b[0m \u001b[39mself\u001b[39m\u001b[39m.\u001b[39m_Booster \u001b[39m=\u001b[39m train(\n\u001b[1;32m    749\u001b[0m     params\u001b[39m=\u001b[39;49mparams,\n\u001b[1;32m    750\u001b[0m     train_set\u001b[39m=\u001b[39;49mtrain_set,\n\u001b[1;32m    751\u001b[0m     num_boost_round\u001b[39m=\u001b[39;49m\u001b[39mself\u001b[39;49m\u001b[39m.\u001b[39;49mn_estimators,\n\u001b[1;32m    752\u001b[0m     valid_sets\u001b[39m=\u001b[39;49mvalid_sets,\n\u001b[1;32m    753\u001b[0m     valid_names\u001b[39m=\u001b[39;49meval_names,\n\u001b[1;32m    754\u001b[0m     fobj\u001b[39m=\u001b[39;49m\u001b[39mself\u001b[39;49m\u001b[39m.\u001b[39;49m_fobj,\n\u001b[1;32m    755\u001b[0m     feval\u001b[39m=\u001b[39;49meval_metrics_callable,\n\u001b[1;32m    756\u001b[0m     init_model\u001b[39m=\u001b[39;49minit_model,\n\u001b[1;32m    757\u001b[0m     feature_name\u001b[39m=\u001b[39;49mfeature_name,\n\u001b[1;32m    758\u001b[0m     callbacks\u001b[39m=\u001b[39;49mcallbacks\n\u001b[1;32m    759\u001b[0m )\n\u001b[1;32m    761\u001b[0m \u001b[39mif\u001b[39;00m evals_result:\n\u001b[1;32m    762\u001b[0m     \u001b[39mself\u001b[39m\u001b[39m.\u001b[39m_evals_result \u001b[39m=\u001b[39m evals_result\n",
      "File \u001b[0;32m~/miniconda3/envs/fairenv/lib/python3.10/site-packages/lightgbm/engine.py:292\u001b[0m, in \u001b[0;36mtrain\u001b[0;34m(params, train_set, num_boost_round, valid_sets, valid_names, fobj, feval, init_model, feature_name, categorical_feature, early_stopping_rounds, evals_result, verbose_eval, learning_rates, keep_training_booster, callbacks)\u001b[0m\n\u001b[1;32m    284\u001b[0m \u001b[39mfor\u001b[39;00m cb \u001b[39min\u001b[39;00m callbacks_before_iter:\n\u001b[1;32m    285\u001b[0m     cb(callback\u001b[39m.\u001b[39mCallbackEnv(model\u001b[39m=\u001b[39mbooster,\n\u001b[1;32m    286\u001b[0m                             params\u001b[39m=\u001b[39mparams,\n\u001b[1;32m    287\u001b[0m                             iteration\u001b[39m=\u001b[39mi,\n\u001b[1;32m    288\u001b[0m                             begin_iteration\u001b[39m=\u001b[39minit_iteration,\n\u001b[1;32m    289\u001b[0m                             end_iteration\u001b[39m=\u001b[39minit_iteration \u001b[39m+\u001b[39m num_boost_round,\n\u001b[1;32m    290\u001b[0m                             evaluation_result_list\u001b[39m=\u001b[39m\u001b[39mNone\u001b[39;00m))\n\u001b[0;32m--> 292\u001b[0m booster\u001b[39m.\u001b[39;49mupdate(fobj\u001b[39m=\u001b[39;49mfobj)\n\u001b[1;32m    294\u001b[0m evaluation_result_list \u001b[39m=\u001b[39m []\n\u001b[1;32m    295\u001b[0m \u001b[39m# check evaluation result.\u001b[39;00m\n",
      "File \u001b[0;32m~/miniconda3/envs/fairenv/lib/python3.10/site-packages/lightgbm/basic.py:3021\u001b[0m, in \u001b[0;36mBooster.update\u001b[0;34m(self, train_set, fobj)\u001b[0m\n\u001b[1;32m   3019\u001b[0m \u001b[39mif\u001b[39;00m \u001b[39mself\u001b[39m\u001b[39m.\u001b[39m__set_objective_to_none:\n\u001b[1;32m   3020\u001b[0m     \u001b[39mraise\u001b[39;00m LightGBMError(\u001b[39m'\u001b[39m\u001b[39mCannot update due to null objective function.\u001b[39m\u001b[39m'\u001b[39m)\n\u001b[0;32m-> 3021\u001b[0m _safe_call(_LIB\u001b[39m.\u001b[39;49mLGBM_BoosterUpdateOneIter(\n\u001b[1;32m   3022\u001b[0m     \u001b[39mself\u001b[39;49m\u001b[39m.\u001b[39;49mhandle,\n\u001b[1;32m   3023\u001b[0m     ctypes\u001b[39m.\u001b[39;49mbyref(is_finished)))\n\u001b[1;32m   3024\u001b[0m \u001b[39mself\u001b[39m\u001b[39m.\u001b[39m__is_predicted_cur_iter \u001b[39m=\u001b[39m [\u001b[39mFalse\u001b[39;00m \u001b[39mfor\u001b[39;00m _ \u001b[39min\u001b[39;00m \u001b[39mrange\u001b[39m(\u001b[39mself\u001b[39m\u001b[39m.\u001b[39m__num_dataset)]\n\u001b[1;32m   3025\u001b[0m \u001b[39mreturn\u001b[39;00m is_finished\u001b[39m.\u001b[39mvalue \u001b[39m==\u001b[39m \u001b[39m1\u001b[39m\n",
      "\u001b[0;31mKeyboardInterrupt\u001b[0m: "
     ]
    }
   ],
   "source": [
    "seed = 128\n",
    "num_variables = 2\n",
    "n_startup_trials = 11 * num_variables - 1\n",
    "directions = ['minimize', 'maximize']\n",
    "results = []\n",
    "\n",
    "for sim in [0]:\n",
    "    print(sim)\n",
    "    def objective(trial):\n",
    "\n",
    "        (X_train, X_test, y_train, y_test, A_train, A_test) = train_test_split(\n",
    "        X_raw, y, A, test_size=0.8, random_state=sim, stratify=y\n",
    "        )\n",
    "\n",
    "        X_train = X_train.reset_index(drop=True)\n",
    "        X_test = X_test.reset_index(drop=True)\n",
    "        y_train = y_train.reset_index(drop=True)\n",
    "        y_test = y_test.reset_index(drop=True)\n",
    "        A_train = A_train.reset_index(drop=True)\n",
    "        A_test = A_test.reset_index(drop=True)\n",
    "\n",
    "\n",
    "        params = {\n",
    "            'n_estimators': trial.suggest_int(\"n_estimators\", 20, 10000),\n",
    "            'num_leaves': trial.suggest_int(\"num_leaves\", 10, 1000),\n",
    "            'max_depth': trial.suggest_int(\"max_depth\", 2, 20),\n",
    "            'min_child_samples': trial.suggest_int(\"min_child_samples\", 5, 300),\n",
    "            'learning_rate': trial.suggest_float('learning_rate', 1e-5, 1e-2),\n",
    "            'boosting_type': trial.suggest_categorical(\"boosting_type\", ['goss', 'gbdt'])\n",
    "            }\n",
    "        pipeline['classifier'].set_params(**params)\n",
    "\n",
    "        scores = cross_validate(\n",
    "                pipeline, \n",
    "                X_train,\n",
    "                y_train, \n",
    "                cv=5,\n",
    "                scoring = metric_scorer_v4,\n",
    "                return_train_score=True)\n",
    "\n",
    "        #fair_metric = scores['test_eod'].mean()\n",
    "        #fair_metric = scores['test_dpd'].mean()\n",
    "        fair_metric = scores['test_fpr'].mean()\n",
    "        model_metric = scores['test_recall'].mean()\n",
    "\n",
    "        return fair_metric, model_metric\n",
    "    \n",
    "    #sampler = optuna.samplers.MOTPESampler(\n",
    "    #    n_startup_trials=n_startup_trials, n_ehvi_candidates=24, seed=seed\n",
    "    #    )\n",
    "    sampler = optuna.samplers.TPESampler()  # `MOTPESampler` used to be required for multi-objective optimization.\n",
    "    study = optuna.create_study(directions=directions, pruner=optuna.pruners.SuccessiveHalvingPruner(), sampler = sampler)\n",
    "    study.optimize(objective, n_trials=100)\n",
    "    print(\"Number of finished trials: \", len(study.trials))\n",
    "    results.append(study)\n",
    "    #return fair_metric"
   ]
  },
  {
   "cell_type": "code",
   "execution_count": 6,
   "metadata": {},
   "outputs": [
    {
     "name": "stdout",
     "output_type": "stream",
     "text": [
      "Object successfully saved to \"f1-fpr-lgbm-motpe-succesivehalving-100trials-1sim.pkl\"\n"
     ]
    }
   ],
   "source": [
    "import dill\n",
    "file_name = 'f1-fpr-lgbm-motpe-succesivehalving-100trials-1sim.pkl'\n",
    "#f1-eod-lgbm-succesivehalving-30trails.pkl\n",
    "with open(file_name, 'wb') as file:\n",
    "    dill.dump(results, file)\n",
    "    print(f'Object successfully saved to \"{file_name}\"')"
   ]
  },
  {
   "cell_type": "code",
   "execution_count": 7,
   "metadata": {},
   "outputs": [
    {
     "data": {
      "application/vnd.plotly.v1+json": {
       "config": {
        "plotlyServerURL": "https://plot.ly"
       },
       "data": [
        {
         "hovertemplate": "%{text}<extra>Trial</extra>",
         "marker": {
          "color": [
           0,
           1,
           2,
           3,
           4,
           5,
           6,
           7,
           8,
           9,
           10,
           12,
           13,
           14,
           15,
           17,
           18,
           19,
           20,
           22,
           23,
           24,
           25,
           26,
           27,
           28,
           29,
           31,
           32,
           33,
           34,
           35,
           36,
           37,
           38,
           39,
           40,
           41,
           44,
           45,
           46,
           47,
           50,
           51,
           53,
           54,
           56,
           58,
           59,
           61,
           63,
           64,
           65,
           67,
           70,
           72,
           73,
           74,
           78,
           79,
           80,
           83,
           84,
           86,
           87,
           88,
           89,
           90,
           96,
           97,
           99
          ],
          "colorbar": {
           "title": {
            "text": "Trial"
           }
          },
          "colorscale": [
           [
            0,
            "rgb(247,251,255)"
           ],
           [
            0.125,
            "rgb(222,235,247)"
           ],
           [
            0.25,
            "rgb(198,219,239)"
           ],
           [
            0.375,
            "rgb(158,202,225)"
           ],
           [
            0.5,
            "rgb(107,174,214)"
           ],
           [
            0.625,
            "rgb(66,146,198)"
           ],
           [
            0.75,
            "rgb(33,113,181)"
           ],
           [
            0.875,
            "rgb(8,81,156)"
           ],
           [
            1,
            "rgb(8,48,107)"
           ]
          ],
          "line": {
           "color": "Grey",
           "width": 0.5
          }
         },
         "mode": "markers",
         "showlegend": false,
         "text": [
          "{<br>  \"number\": 0,<br>  \"values\": [<br>    0.08548083962794836,<br>    0.6429635723912897<br>  ],<br>  \"params\": {<br>    \"n_estimators\": 9838,<br>    \"num_leaves\": 160,<br>    \"max_depth\": 6,<br>    \"min_child_samples\": 228,<br>    \"learning_rate\": 0.004308675069178398,<br>    \"boosting_type\": \"goss\"<br>  }<br>}",
          "{<br>  \"number\": 1,<br>  \"values\": [<br>    0.08140788814787991,<br>    0.6634730627929645<br>  ],<br>  \"params\": {<br>    \"n_estimators\": 6130,<br>    \"num_leaves\": 532,<br>    \"max_depth\": 17,<br>    \"min_child_samples\": 19,<br>    \"learning_rate\": 0.004613049434615698,<br>    \"boosting_type\": \"goss\"<br>  }<br>}",
          "{<br>  \"number\": 2,<br>  \"values\": [<br>    0.05578360152305657,<br>    0.6701979225309641<br>  ],<br>  \"params\": {<br>    \"n_estimators\": 5897,<br>    \"num_leaves\": 657,<br>    \"max_depth\": 2,<br>    \"min_child_samples\": 60,<br>    \"learning_rate\": 0.0034025667912306904,<br>    \"boosting_type\": \"gbdt\"<br>  }<br>}",
          "{<br>  \"number\": 3,<br>  \"values\": [<br>    0.06347817935614783,<br>    0.6899876385452595<br>  ],<br>  \"params\": {<br>    \"n_estimators\": 8100,<br>    \"num_leaves\": 479,<br>    \"max_depth\": 9,<br>    \"min_child_samples\": 92,<br>    \"learning_rate\": 0.0019473202436887428,<br>    \"boosting_type\": \"gbdt\"<br>  }<br>}",
          "{<br>  \"number\": 4,<br>  \"values\": [<br>    0.08006275501071153,<br>    0.6581551593621027<br>  ],<br>  \"params\": {<br>    \"n_estimators\": 7885,<br>    \"num_leaves\": 134,<br>    \"max_depth\": 12,<br>    \"min_child_samples\": 163,<br>    \"learning_rate\": 0.0035037827102678775,<br>    \"boosting_type\": \"goss\"<br>  }<br>}",
          "{<br>  \"number\": 5,<br>  \"values\": [<br>    0.08727610406522761,<br>    0.63223470152976<br>  ],<br>  \"params\": {<br>    \"n_estimators\": 7559,<br>    \"num_leaves\": 24,<br>    \"max_depth\": 11,<br>    \"min_child_samples\": 259,<br>    \"learning_rate\": 0.007722501024168162,<br>    \"boosting_type\": \"goss\"<br>  }<br>}",
          "{<br>  \"number\": 6,<br>  \"values\": [<br>    0.04262265478847506,<br>    0.5913091372004018<br>  ],<br>  \"params\": {<br>    \"n_estimators\": 919,<br>    \"num_leaves\": 383,<br>    \"max_depth\": 19,<br>    \"min_child_samples\": 186,<br>    \"learning_rate\": 0.0015889099598325994,<br>    \"boosting_type\": \"goss\"<br>  }<br>}",
          "{<br>  \"number\": 7,<br>  \"values\": [<br>    0.08009384264471303,<br>    0.67311747779986<br>  ],<br>  \"params\": {<br>    \"n_estimators\": 9777,<br>    \"num_leaves\": 102,<br>    \"max_depth\": 7,<br>    \"min_child_samples\": 99,<br>    \"learning_rate\": 0.009033712659095531,<br>    \"boosting_type\": \"gbdt\"<br>  }<br>}",
          "{<br>  \"number\": 8,<br>  \"values\": [<br>    0.08626426504340005,<br>    0.6622805195481881<br>  ],<br>  \"params\": {<br>    \"n_estimators\": 6227,<br>    \"num_leaves\": 126,<br>    \"max_depth\": 13,<br>    \"min_child_samples\": 16,<br>    \"learning_rate\": 0.008849845295928669,<br>    \"boosting_type\": \"goss\"<br>  }<br>}",
          "{<br>  \"number\": 9,<br>  \"values\": [<br>    0.07861003759154875,<br>    0.6723362334678182<br>  ],<br>  \"params\": {<br>    \"n_estimators\": 4189,<br>    \"num_leaves\": 546,<br>    \"max_depth\": 15,<br>    \"min_child_samples\": 116,<br>    \"learning_rate\": 0.008186434791312092,<br>    \"boosting_type\": \"gbdt\"<br>  }<br>}",
          "{<br>  \"number\": 10,<br>  \"values\": [<br>    0.05251685910405805,<br>    0.5971634334418409<br>  ],<br>  \"params\": {<br>    \"n_estimators\": 3135,<br>    \"num_leaves\": 870,<br>    \"max_depth\": 2,<br>    \"min_child_samples\": 55,<br>    \"learning_rate\": 0.0007530215606592902,<br>    \"boosting_type\": \"gbdt\"<br>  }<br>}",
          "{<br>  \"number\": 12,<br>  \"values\": [<br>    0.06050288918781379,<br>    0.655958767893418<br>  ],<br>  \"params\": {<br>    \"n_estimators\": 1355,<br>    \"num_leaves\": 748,<br>    \"max_depth\": 20,<br>    \"min_child_samples\": 207,<br>    \"learning_rate\": 0.0022924124089867,<br>    \"boosting_type\": \"gbdt\"<br>  }<br>}",
          "{<br>  \"number\": 13,<br>  \"values\": [<br>    0.0812571901936876,<br>    0.6135371240825785<br>  ],<br>  \"params\": {<br>    \"n_estimators\": 2591,<br>    \"num_leaves\": 339,<br>    \"max_depth\": 2,<br>    \"min_child_samples\": 295,<br>    \"learning_rate\": 0.006164540871323477,<br>    \"boosting_type\": \"goss\"<br>  }<br>}",
          "{<br>  \"number\": 14,<br>  \"values\": [<br>    0.06614507267524342,<br>    0.6847635716445831<br>  ],<br>  \"params\": {<br>    \"n_estimators\": 4751,<br>    \"num_leaves\": 707,<br>    \"max_depth\": 17,<br>    \"min_child_samples\": 137,<br>    \"learning_rate\": 0.0025016361767441634,<br>    \"boosting_type\": \"gbdt\"<br>  }<br>}",
          "{<br>  \"number\": 15,<br>  \"values\": [<br>    0.007054332817633874,<br>    0.36593586071171225<br>  ],<br>  \"params\": {<br>    \"n_estimators\": 501,<br>    \"num_leaves\": 316,<br>    \"max_depth\": 6,<br>    \"min_child_samples\": 193,<br>    \"learning_rate\": 0.0013962252936795595,<br>    \"boosting_type\": \"goss\"<br>  }<br>}",
          "{<br>  \"number\": 17,<br>  \"values\": [<br>    0.07007204994549736,<br>    0.5928855301127195<br>  ],<br>  \"params\": {<br>    \"n_estimators\": 1784,<br>    \"num_leaves\": 256,<br>    \"max_depth\": 9,<br>    \"min_child_samples\": 253,<br>    \"learning_rate\": 0.0013789364764026277,<br>    \"boosting_type\": \"goss\"<br>  }<br>}",
          "{<br>  \"number\": 18,<br>  \"values\": [<br>    0.07555736730635344,<br>    0.6523656556974792<br>  ],<br>  \"params\": {<br>    \"n_estimators\": 1300,<br>    \"num_leaves\": 997,<br>    \"max_depth\": 9,<br>    \"min_child_samples\": 165,<br>    \"learning_rate\": 0.005592475789177006,<br>    \"boosting_type\": \"goss\"<br>  }<br>}",
          "{<br>  \"number\": 19,<br>  \"values\": [<br>    0.0016427548937529644,<br>    0.2948436396020332<br>  ],<br>  \"params\": {<br>    \"n_estimators\": 2592,<br>    \"num_leaves\": 435,<br>    \"max_depth\": 4,<br>    \"min_child_samples\": 141,<br>    \"learning_rate\": 0.00026312857085819975,<br>    \"boosting_type\": \"goss\"<br>  }<br>}",
          "{<br>  \"number\": 20,<br>  \"values\": [<br>    0.07936145292387368,<br>    0.6437271110298359<br>  ],<br>  \"params\": {<br>    \"n_estimators\": 3756,<br>    \"num_leaves\": 238,<br>    \"max_depth\": 14,<br>    \"min_child_samples\": 201,<br>    \"learning_rate\": 0.001548681925099805,<br>    \"boosting_type\": \"goss\"<br>  }<br>}",
          "{<br>  \"number\": 22,<br>  \"values\": [<br>    0.0710845587945735,<br>    0.6608980359750642<br>  ],<br>  \"params\": {<br>    \"n_estimators\": 728,<br>    \"num_leaves\": 617,<br>    \"max_depth\": 7,<br>    \"min_child_samples\": 138,<br>    \"learning_rate\": 0.009967834993914949,<br>    \"boosting_type\": \"goss\"<br>  }<br>}",
          "{<br>  \"number\": 23,<br>  \"values\": [<br>    0.05753544804553305,<br>    0.616018497717897<br>  ],<br>  \"params\": {<br>    \"n_estimators\": 820,<br>    \"num_leaves\": 399,<br>    \"max_depth\": 4,<br>    \"min_child_samples\": 187,<br>    \"learning_rate\": 0.0030896909674272004,<br>    \"boosting_type\": \"goss\"<br>  }<br>}",
          "{<br>  \"number\": 24,<br>  \"values\": [<br>    0.0790121421853797,<br>    0.6003557619075792<br>  ],<br>  \"params\": {<br>    \"n_estimators\": 2716,<br>    \"num_leaves\": 202,<br>    \"max_depth\": 10,<br>    \"min_child_samples\": 297,<br>    \"learning_rate\": 0.001151931776162127,<br>    \"boosting_type\": \"goss\"<br>  }<br>}",
          "{<br>  \"number\": 25,<br>  \"values\": [<br>    0.048746997109270315,<br>    0.5686139704853608<br>  ],<br>  \"params\": {<br>    \"n_estimators\": 676,<br>    \"num_leaves\": 319,<br>    \"max_depth\": 17,<br>    \"min_child_samples\": 264,<br>    \"learning_rate\": 0.002252923003306229,<br>    \"boosting_type\": \"goss\"<br>  }<br>}",
          "{<br>  \"number\": 26,<br>  \"values\": [<br>    0.07466983860627834,<br>    0.6493395758632637<br>  ],<br>  \"params\": {<br>    \"n_estimators\": 1714,<br>    \"num_leaves\": 353,<br>    \"max_depth\": 7,<br>    \"min_child_samples\": 144,<br>    \"learning_rate\": 0.002790932479953443,<br>    \"boosting_type\": \"goss\"<br>  }<br>}",
          "{<br>  \"number\": 27,<br>  \"values\": [<br>    0.07842536227150547,<br>    0.6314693180048334<br>  ],<br>  \"params\": {<br>    \"n_estimators\": 3486,<br>    \"num_leaves\": 463,<br>    \"max_depth\": 4,<br>    \"min_child_samples\": 227,<br>    \"learning_rate\": 0.0017184535038381557,<br>    \"boosting_type\": \"goss\"<br>  }<br>}",
          "{<br>  \"number\": 28,<br>  \"values\": [<br>    0.042845371937695546,<br>    0.5915022448863934<br>  ],<br>  \"params\": {<br>    \"n_estimators\": 2222,<br>    \"num_leaves\": 48,<br>    \"max_depth\": 8,<br>    \"min_child_samples\": 183,<br>    \"learning_rate\": 0.0006678719128143003,<br>    \"boosting_type\": \"goss\"<br>  }<br>}",
          "{<br>  \"number\": 29,<br>  \"values\": [<br>    0.048311445482965,<br>    0.6358914271724627<br>  ],<br>  \"params\": {<br>    \"n_estimators\": 747,<br>    \"num_leaves\": 193,<br>    \"max_depth\": 5,<br>    \"min_child_samples\": 229,<br>    \"learning_rate\": 0.0038616185892190492,<br>    \"boosting_type\": \"gbdt\"<br>  }<br>}",
          "{<br>  \"number\": 31,<br>  \"values\": [<br>    0.06226102869252761,<br>    0.6668784504917081<br>  ],<br>  \"params\": {<br>    \"n_estimators\": 1166,<br>    \"num_leaves\": 551,<br>    \"max_depth\": 19,<br>    \"min_child_samples\": 162,<br>    \"learning_rate\": 0.0033619248230193337,<br>    \"boosting_type\": \"gbdt\"<br>  }<br>}",
          "{<br>  \"number\": 32,<br>  \"values\": [<br>    0.07244753158588021,<br>    0.6727647458778201<br>  ],<br>  \"params\": {<br>    \"n_estimators\": 5948,<br>    \"num_leaves\": 672,<br>    \"max_depth\": 12,<br>    \"min_child_samples\": 61,<br>    \"learning_rate\": 0.002697438329663713,<br>    \"boosting_type\": \"goss\"<br>  }<br>}",
          "{<br>  \"number\": 33,<br>  \"values\": [<br>    0.06827209774987344,<br>    0.6326161947830219<br>  ],<br>  \"params\": {<br>    \"n_estimators\": 1691,<br>    \"num_leaves\": 599,<br>    \"max_depth\": 18,<br>    \"min_child_samples\": 196,<br>    \"learning_rate\": 0.001674520844644414,<br>    \"boosting_type\": \"goss\"<br>  }<br>}",
          "{<br>  \"number\": 34,<br>  \"values\": [<br>    0.07524961266052568,<br>    0.6764745599049345<br>  ],<br>  \"params\": {<br>    \"n_estimators\": 9145,<br>    \"num_leaves\": 489,<br>    \"max_depth\": 16,<br>    \"min_child_samples\": 49,<br>    \"learning_rate\": 0.0020507500244267866,<br>    \"boosting_type\": \"gbdt\"<br>  }<br>}",
          "{<br>  \"number\": 35,<br>  \"values\": [<br>    0.07716504218049894,<br>    0.6523906764265549<br>  ],<br>  \"params\": {<br>    \"n_estimators\": 2685,<br>    \"num_leaves\": 276,<br>    \"max_depth\": 11,<br>    \"min_child_samples\": 174,<br>    \"learning_rate\": 0.003775893579609294,<br>    \"boosting_type\": \"goss\"<br>  }<br>}",
          "{<br>  \"number\": 36,<br>  \"values\": [<br>    0.06297468945912779,<br>    0.661385735471463<br>  ],<br>  \"params\": {<br>    \"n_estimators\": 6655,<br>    \"num_leaves\": 408,<br>    \"max_depth\": 3,<br>    \"min_child_samples\": 81,<br>    \"learning_rate\": 0.0011409598766629755,<br>    \"boosting_type\": \"goss\"<br>  }<br>}",
          "{<br>  \"number\": 37,<br>  \"values\": [<br>    0.04318048423196176,<br>    0.5674645329698771<br>  ],<br>  \"params\": {<br>    \"n_estimators\": 504,<br>    \"num_leaves\": 366,<br>    \"max_depth\": 6,<br>    \"min_child_samples\": 217,<br>    \"learning_rate\": 0.0029719522873851495,<br>    \"boosting_type\": \"goss\"<br>  }<br>}",
          "{<br>  \"number\": 38,<br>  \"values\": [<br>    0.06904431773040343,<br>    0.6685271923349616<br>  ],<br>  \"params\": {<br>    \"n_estimators\": 5376,<br>    \"num_leaves\": 502,<br>    \"max_depth\": 13,<br>    \"min_child_samples\": 249,<br>    \"learning_rate\": 0.002009315241623346,<br>    \"boosting_type\": \"gbdt\"<br>  }<br>}",
          "{<br>  \"number\": 39,<br>  \"values\": [<br>    0.07229678949296983,<br>    0.6603342104488539<br>  ],<br>  \"params\": {<br>    \"n_estimators\": 1098,<br>    \"num_leaves\": 158,<br>    \"max_depth\": 18,<br>    \"min_child_samples\": 122,<br>    \"learning_rate\": 0.004105798007276719,<br>    \"boosting_type\": \"goss\"<br>  }<br>}",
          "{<br>  \"number\": 40,<br>  \"values\": [<br>    0.07584388354234504,<br>    0.667661286636684<br>  ],<br>  \"params\": {<br>    \"n_estimators\": 7286,<br>    \"num_leaves\": 218,<br>    \"max_depth\": 10,<br>    \"min_child_samples\": 31,<br>    \"learning_rate\": 0.004858511980926074,<br>    \"boosting_type\": \"gbdt\"<br>  }<br>}",
          "{<br>  \"number\": 41,<br>  \"values\": [<br>    0.06592509767944241,<br>    0.6860472355360164<br>  ],<br>  \"params\": {<br>    \"n_estimators\": 8594,<br>    \"num_leaves\": 183,<br>    \"max_depth\": 6,<br>    \"min_child_samples\": 227,<br>    \"learning_rate\": 0.0037628048515375677,<br>    \"boosting_type\": \"gbdt\"<br>  }<br>}",
          "{<br>  \"number\": 44,<br>  \"values\": [<br>    0.06067108436219539,<br>    0.6904258726868965<br>  ],<br>  \"params\": {<br>    \"n_estimators\": 2142,<br>    \"num_leaves\": 51,<br>    \"max_depth\": 8,<br>    \"min_child_samples\": 100,<br>    \"learning_rate\": 0.0059521192976804,<br>    \"boosting_type\": \"gbdt\"<br>  }<br>}",
          "{<br>  \"number\": 45,<br>  \"values\": [<br>    0.04040686136509382,<br>    0.6086817913987569<br>  ],<br>  \"params\": {<br>    \"n_estimators\": 219,<br>    \"num_leaves\": 301,<br>    \"max_depth\": 5,<br>    \"min_child_samples\": 152,<br>    \"learning_rate\": 0.007637487965958129,<br>    \"boosting_type\": \"gbdt\"<br>  }<br>}",
          "{<br>  \"number\": 46,<br>  \"values\": [<br>    0.04623171107697041,<br>    0.638314976886633<br>  ],<br>  \"params\": {<br>    \"n_estimators\": 439,<br>    \"num_leaves\": 83,<br>    \"max_depth\": 5,<br>    \"min_child_samples\": 155,<br>    \"learning_rate\": 0.006883829338120924,<br>    \"boosting_type\": \"gbdt\"<br>  }<br>}",
          "{<br>  \"number\": 47,<br>  \"values\": [<br>    0.04719849763951353,<br>    0.6025432150333668<br>  ],<br>  \"params\": {<br>    \"n_estimators\": 306,<br>    \"num_leaves\": 302,<br>    \"max_depth\": 3,<br>    \"min_child_samples\": 148,<br>    \"learning_rate\": 0.007243811043801196,<br>    \"boosting_type\": \"gbdt\"<br>  }<br>}",
          "{<br>  \"number\": 50,<br>  \"values\": [<br>    0.060412068796859245,<br>    0.6900473419964264<br>  ],<br>  \"params\": {<br>    \"n_estimators\": 1607,<br>    \"num_leaves\": 984,<br>    \"max_depth\": 6,<br>    \"min_child_samples\": 107,<br>    \"learning_rate\": 0.007841411208680756,<br>    \"boosting_type\": \"gbdt\"<br>  }<br>}",
          "{<br>  \"number\": 51,<br>  \"values\": [<br>    0.04496397953760488,<br>    0.6217142928359451<br>  ],<br>  \"params\": {<br>    \"n_estimators\": 442,<br>    \"num_leaves\": 333,<br>    \"max_depth\": 5,<br>    \"min_child_samples\": 160,<br>    \"learning_rate\": 0.004731776129884872,<br>    \"boosting_type\": \"gbdt\"<br>  }<br>}",
          "{<br>  \"number\": 53,<br>  \"values\": [<br>    0.06634310107635447,<br>    0.6876807408170842<br>  ],<br>  \"params\": {<br>    \"n_estimators\": 4471,<br>    \"num_leaves\": 88,<br>    \"max_depth\": 8,<br>    \"min_child_samples\": 84,<br>    \"learning_rate\": 0.0052202589053304774,<br>    \"boosting_type\": \"gbdt\"<br>  }<br>}",
          "{<br>  \"number\": 54,<br>  \"values\": [<br>    0.05310271815966076,<br>    0.6403561903512103<br>  ],<br>  \"params\": {<br>    \"n_estimators\": 1045,<br>    \"num_leaves\": 924,<br>    \"max_depth\": 4,<br>    \"min_child_samples\": 274,<br>    \"learning_rate\": 0.004392333443058544,<br>    \"boosting_type\": \"gbdt\"<br>  }<br>}",
          "{<br>  \"number\": 56,<br>  \"values\": [<br>    0.06724269233336325,<br>    0.6169269105939219<br>  ],<br>  \"params\": {<br>    \"n_estimators\": 3140,<br>    \"num_leaves\": 426,<br>    \"max_depth\": 2,<br>    \"min_child_samples\": 191,<br>    \"learning_rate\": 0.0023530418786685482,<br>    \"boosting_type\": \"goss\"<br>  }<br>}",
          "{<br>  \"number\": 58,<br>  \"values\": [<br>    0.07113490192574977,<br>    0.6516581241163591<br>  ],<br>  \"params\": {<br>    \"n_estimators\": 1497,<br>    \"num_leaves\": 263,<br>    \"max_depth\": 5,<br>    \"min_child_samples\": 174,<br>    \"learning_rate\": 0.00858109966703161,<br>    \"boosting_type\": \"goss\"<br>  }<br>}",
          "{<br>  \"number\": 59,<br>  \"values\": [<br>    0.08651749130848338,<br>    0.6343816985637432<br>  ],<br>  \"params\": {<br>    \"n_estimators\": 5309,<br>    \"num_leaves\": 530,<br>    \"max_depth\": 9,<br>    \"min_child_samples\": 242,<br>    \"learning_rate\": 0.0031914168842187836,<br>    \"boosting_type\": \"goss\"<br>  }<br>}",
          "{<br>  \"number\": 61,<br>  \"values\": [<br>    0.05945519808099965,<br>    0.6847928272845013<br>  ],<br>  \"params\": {<br>    \"n_estimators\": 1175,<br>    \"num_leaves\": 104,<br>    \"max_depth\": 7,<br>    \"min_child_samples\": 9,<br>    \"learning_rate\": 0.005489910256374176,<br>    \"boosting_type\": \"goss\"<br>  }<br>}",
          "{<br>  \"number\": 63,<br>  \"values\": [<br>    0.04359622380935563,<br>    0.631297622172666<br>  ],<br>  \"params\": {<br>    \"n_estimators\": 314,<br>    \"num_leaves\": 146,<br>    \"max_depth\": 5,<br>    \"min_child_samples\": 38,<br>    \"learning_rate\": 0.007297968132421085,<br>    \"boosting_type\": \"gbdt\"<br>  }<br>}",
          "{<br>  \"number\": 64,<br>  \"values\": [<br>    0.035365396841075106,<br>    0.6120347889859522<br>  ],<br>  \"params\": {<br>    \"n_estimators\": 1386,<br>    \"num_leaves\": 142,<br>    \"max_depth\": 6,<br>    \"min_child_samples\": 25,<br>    \"learning_rate\": 0.0010127864147096279,<br>    \"boosting_type\": \"gbdt\"<br>  }<br>}",
          "{<br>  \"number\": 65,<br>  \"values\": [<br>    0.04021977237822296,<br>    0.6347802556368001<br>  ],<br>  \"params\": {<br>    \"n_estimators\": 1918,<br>    \"num_leaves\": 132,<br>    \"max_depth\": 8,<br>    \"min_child_samples\": 29,<br>    \"learning_rate\": 0.0010340303783247743,<br>    \"boosting_type\": \"gbdt\"<br>  }<br>}",
          "{<br>  \"number\": 67,<br>  \"values\": [<br>    0.03969226623932082,<br>    0.6262912578922911<br>  ],<br>  \"params\": {<br>    \"n_estimators\": 1316,<br>    \"num_leaves\": 52,<br>    \"max_depth\": 6,<br>    \"min_child_samples\": 21,<br>    \"learning_rate\": 0.0014275384016337288,<br>    \"boosting_type\": \"gbdt\"<br>  }<br>}",
          "{<br>  \"number\": 70,<br>  \"values\": [<br>    0.06132387314408795,<br>    0.6836388613479665<br>  ],<br>  \"params\": {<br>    \"n_estimators\": 6784,<br>    \"num_leaves\": 16,<br>    \"max_depth\": 12,<br>    \"min_child_samples\": 15,<br>    \"learning_rate\": 0.0006718078421096864,<br>    \"boosting_type\": \"goss\"<br>  }<br>}",
          "{<br>  \"number\": 72,<br>  \"values\": [<br>    0.07322293893349116,<br>    0.670275879329352<br>  ],<br>  \"params\": {<br>    \"n_estimators\": 7748,<br>    \"num_leaves\": 70,<br>    \"max_depth\": 14,<br>    \"min_child_samples\": 48,<br>    \"learning_rate\": 0.0005660659321933071,<br>    \"boosting_type\": \"goss\"<br>  }<br>}",
          "{<br>  \"number\": 73,<br>  \"values\": [<br>    0.07083879559380173,<br>    0.6747144854660255<br>  ],<br>  \"params\": {<br>    \"n_estimators\": 9283,<br>    \"num_leaves\": 37,<br>    \"max_depth\": 11,<br>    \"min_child_samples\": 37,<br>    \"learning_rate\": 0.0017858907509618743,<br>    \"boosting_type\": \"goss\"<br>  }<br>}",
          "{<br>  \"number\": 74,<br>  \"values\": [<br>    0.0636564440554295,<br>    0.6599065261515905<br>  ],<br>  \"params\": {<br>    \"n_estimators\": 8222,<br>    \"num_leaves\": 103,<br>    \"max_depth\": 10,<br>    \"min_child_samples\": 66,<br>    \"learning_rate\": 0.0003965455549201848,<br>    \"boosting_type\": \"goss\"<br>  }<br>}",
          "{<br>  \"number\": 78,<br>  \"values\": [<br>    0.07327018840609423,<br>    0.6716170849414844<br>  ],<br>  \"params\": {<br>    \"n_estimators\": 3498,<br>    \"num_leaves\": 111,<br>    \"max_depth\": 13,<br>    \"min_child_samples\": 38,<br>    \"learning_rate\": 0.0014756608056756015,<br>    \"boosting_type\": \"goss\"<br>  }<br>}",
          "{<br>  \"number\": 79,<br>  \"values\": [<br>    0.07819674594266736,<br>    0.667295084129415<br>  ],<br>  \"params\": {<br>    \"n_estimators\": 4088,<br>    \"num_leaves\": 222,<br>    \"max_depth\": 11,<br>    \"min_child_samples\": 15,<br>    \"learning_rate\": 0.009666082353816155,<br>    \"boosting_type\": \"goss\"<br>  }<br>}",
          "{<br>  \"number\": 80,<br>  \"values\": [<br>    0.07066118815692098,<br>    0.6728085872688248<br>  ],<br>  \"params\": {<br>    \"n_estimators\": 2913,<br>    \"num_leaves\": 74,<br>    \"max_depth\": 10,<br>    \"min_child_samples\": 49,<br>    \"learning_rate\": 0.0025148073876707527,<br>    \"boosting_type\": \"goss\"<br>  }<br>}",
          "{<br>  \"number\": 83,<br>  \"values\": [<br>    0.03977745983519985,<br>    0.6296572072545727<br>  ],<br>  \"params\": {<br>    \"n_estimators\": 982,<br>    \"num_leaves\": 151,<br>    \"max_depth\": 16,<br>    \"min_child_samples\": 5,<br>    \"learning_rate\": 0.0012543447547287705,<br>    \"boosting_type\": \"gbdt\"<br>  }<br>}",
          "{<br>  \"number\": 84,<br>  \"values\": [<br>    0.002746766164914285,<br>    0.4067306689534475<br>  ],<br>  \"params\": {<br>    \"n_estimators\": 732,<br>    \"num_leaves\": 38,<br>    \"max_depth\": 15,<br>    \"min_child_samples\": 20,<br>    \"learning_rate\": 0.0007913471450039418,<br>    \"boosting_type\": \"gbdt\"<br>  }<br>}",
          "{<br>  \"number\": 86,<br>  \"values\": [<br>    0.0215090655890835,<br>    0.5450309333909991<br>  ],<br>  \"params\": {<br>    \"n_estimators\": 1936,<br>    \"num_leaves\": 207,<br>    \"max_depth\": 9,<br>    \"min_child_samples\": 36,<br>    \"learning_rate\": 0.00044202295089421995,<br>    \"boosting_type\": \"gbdt\"<br>  }<br>}",
          "{<br>  \"number\": 87,<br>  \"values\": [<br>    0.03361258127055671,<br>    0.5953414999690094<br>  ],<br>  \"params\": {<br>    \"n_estimators\": 2424,<br>    \"num_leaves\": 204,<br>    \"max_depth\": 9,<br>    \"min_child_samples\": 64,<br>    \"learning_rate\": 0.000542046441832689,<br>    \"boosting_type\": \"gbdt\"<br>  }<br>}",
          "{<br>  \"number\": 88,<br>  \"values\": [<br>    0.005808475637225418,<br>    0.3934245162773366<br>  ],<br>  \"params\": {<br>    \"n_estimators\": 1869,<br>    \"num_leaves\": 179,<br>    \"max_depth\": 10,<br>    \"min_child_samples\": 74,<br>    \"learning_rate\": 0.0003074737409216191,<br>    \"boosting_type\": \"gbdt\"<br>  }<br>}",
          "{<br>  \"number\": 89,<br>  \"values\": [<br>    0.050128546241042994,<br>    0.6571180279283195<br>  ],<br>  \"params\": {<br>    \"n_estimators\": 1931,<br>    \"num_leaves\": 218,<br>    \"max_depth\": 9,<br>    \"min_child_samples\": 34,<br>    \"learning_rate\": 0.0012869831954736583,<br>    \"boosting_type\": \"gbdt\"<br>  }<br>}",
          "{<br>  \"number\": 90,<br>  \"values\": [<br>    0.04789658346939053,<br>    0.6401344064216431<br>  ],<br>  \"params\": {<br>    \"n_estimators\": 2911,<br>    \"num_leaves\": 250,<br>    \"max_depth\": 11,<br>    \"min_child_samples\": 53,<br>    \"learning_rate\": 0.000650590222383593,<br>    \"boosting_type\": \"gbdt\"<br>  }<br>}",
          "{<br>  \"number\": 96,<br>  \"values\": [<br>    0.032678396623237516,<br>    0.5950783088432201<br>  ],<br>  \"params\": {<br>    \"n_estimators\": 614,<br>    \"num_leaves\": 239,<br>    \"max_depth\": 11,<br>    \"min_child_samples\": 43,<br>    \"learning_rate\": 0.0019252088056574313,<br>    \"boosting_type\": \"gbdt\"<br>  }<br>}",
          "{<br>  \"number\": 97,<br>  \"values\": [<br>    0.04568328225062011,<br>    0.6450339216138651<br>  ],<br>  \"params\": {<br>    \"n_estimators\": 906,<br>    \"num_leaves\": 269,<br>    \"max_depth\": 11,<br>    \"min_child_samples\": 29,<br>    \"learning_rate\": 0.0021543941894429882,<br>    \"boosting_type\": \"gbdt\"<br>  }<br>}",
          "{<br>  \"number\": 99,<br>  \"values\": [<br>    0.048227912175413334,<br>    0.6382898159077353<br>  ],<br>  \"params\": {<br>    \"n_estimators\": 997,<br>    \"num_leaves\": 104,<br>    \"max_depth\": 12,<br>    \"min_child_samples\": 43,<br>    \"learning_rate\": 0.0018996984835495728,<br>    \"boosting_type\": \"gbdt\"<br>  }<br>}"
         ],
         "type": "scatter",
         "x": [
          0.08548083962794836,
          0.08140788814787991,
          0.05578360152305657,
          0.06347817935614783,
          0.08006275501071153,
          0.08727610406522761,
          0.04262265478847506,
          0.08009384264471303,
          0.08626426504340005,
          0.07861003759154875,
          0.05251685910405805,
          0.06050288918781379,
          0.0812571901936876,
          0.06614507267524342,
          0.007054332817633874,
          0.07007204994549736,
          0.07555736730635344,
          0.0016427548937529644,
          0.07936145292387368,
          0.0710845587945735,
          0.05753544804553305,
          0.0790121421853797,
          0.048746997109270315,
          0.07466983860627834,
          0.07842536227150547,
          0.042845371937695546,
          0.048311445482965,
          0.06226102869252761,
          0.07244753158588021,
          0.06827209774987344,
          0.07524961266052568,
          0.07716504218049894,
          0.06297468945912779,
          0.04318048423196176,
          0.06904431773040343,
          0.07229678949296983,
          0.07584388354234504,
          0.06592509767944241,
          0.06067108436219539,
          0.04040686136509382,
          0.04623171107697041,
          0.04719849763951353,
          0.060412068796859245,
          0.04496397953760488,
          0.06634310107635447,
          0.05310271815966076,
          0.06724269233336325,
          0.07113490192574977,
          0.08651749130848338,
          0.05945519808099965,
          0.04359622380935563,
          0.035365396841075106,
          0.04021977237822296,
          0.03969226623932082,
          0.06132387314408795,
          0.07322293893349116,
          0.07083879559380173,
          0.0636564440554295,
          0.07327018840609423,
          0.07819674594266736,
          0.07066118815692098,
          0.03977745983519985,
          0.002746766164914285,
          0.0215090655890835,
          0.03361258127055671,
          0.005808475637225418,
          0.050128546241042994,
          0.04789658346939053,
          0.032678396623237516,
          0.04568328225062011,
          0.048227912175413334
         ],
         "y": [
          0.6429635723912897,
          0.6634730627929645,
          0.6701979225309641,
          0.6899876385452595,
          0.6581551593621027,
          0.63223470152976,
          0.5913091372004018,
          0.67311747779986,
          0.6622805195481881,
          0.6723362334678182,
          0.5971634334418409,
          0.655958767893418,
          0.6135371240825785,
          0.6847635716445831,
          0.36593586071171225,
          0.5928855301127195,
          0.6523656556974792,
          0.2948436396020332,
          0.6437271110298359,
          0.6608980359750642,
          0.616018497717897,
          0.6003557619075792,
          0.5686139704853608,
          0.6493395758632637,
          0.6314693180048334,
          0.5915022448863934,
          0.6358914271724627,
          0.6668784504917081,
          0.6727647458778201,
          0.6326161947830219,
          0.6764745599049345,
          0.6523906764265549,
          0.661385735471463,
          0.5674645329698771,
          0.6685271923349616,
          0.6603342104488539,
          0.667661286636684,
          0.6860472355360164,
          0.6904258726868965,
          0.6086817913987569,
          0.638314976886633,
          0.6025432150333668,
          0.6900473419964264,
          0.6217142928359451,
          0.6876807408170842,
          0.6403561903512103,
          0.6169269105939219,
          0.6516581241163591,
          0.6343816985637432,
          0.6847928272845013,
          0.631297622172666,
          0.6120347889859522,
          0.6347802556368001,
          0.6262912578922911,
          0.6836388613479665,
          0.670275879329352,
          0.6747144854660255,
          0.6599065261515905,
          0.6716170849414844,
          0.667295084129415,
          0.6728085872688248,
          0.6296572072545727,
          0.4067306689534475,
          0.5450309333909991,
          0.5953414999690094,
          0.3934245162773366,
          0.6571180279283195,
          0.6401344064216431,
          0.5950783088432201,
          0.6450339216138651,
          0.6382898159077353
         ]
        },
        {
         "hovertemplate": "%{text}<extra>Best Trial</extra>",
         "marker": {
          "color": [
           11,
           16,
           21,
           30,
           42,
           43,
           48,
           49,
           52,
           55,
           57,
           60,
           62,
           66,
           68,
           69,
           71,
           75,
           76,
           77,
           81,
           82,
           85,
           91,
           92,
           93,
           94,
           95,
           98
          ],
          "colorbar": {
           "title": {
            "text": "Best Trial"
           },
           "x": 1.1,
           "xpad": 40
          },
          "colorscale": [
           [
            0,
            "rgb(255,245,240)"
           ],
           [
            0.125,
            "rgb(254,224,210)"
           ],
           [
            0.25,
            "rgb(252,187,161)"
           ],
           [
            0.375,
            "rgb(252,146,114)"
           ],
           [
            0.5,
            "rgb(251,106,74)"
           ],
           [
            0.625,
            "rgb(239,59,44)"
           ],
           [
            0.75,
            "rgb(203,24,29)"
           ],
           [
            0.875,
            "rgb(165,15,21)"
           ],
           [
            1,
            "rgb(103,0,13)"
           ]
          ],
          "line": {
           "color": "Grey",
           "width": 0.5
          }
         },
         "mode": "markers",
         "showlegend": false,
         "text": [
          "{<br>  \"number\": 11,<br>  \"values\": [<br>    0.0,<br>    0.0<br>  ],<br>  \"params\": {<br>    \"n_estimators\": 86,<br>    \"num_leaves\": 389,<br>    \"max_depth\": 20,<br>    \"min_child_samples\": 181,<br>    \"learning_rate\": 3.589394616242375e-05,<br>    \"boosting_type\": \"goss\"<br>  }<br>}",
          "{<br>  \"number\": 16,<br>  \"values\": [<br>    0.0,<br>    0.0<br>  ],<br>  \"params\": {<br>    \"n_estimators\": 61,<br>    \"num_leaves\": 296,<br>    \"max_depth\": 5,<br>    \"min_child_samples\": 205,<br>    \"learning_rate\": 0.0008134433028276359,<br>    \"boosting_type\": \"goss\"<br>  }<br>}",
          "{<br>  \"number\": 21,<br>  \"values\": [<br>    0.0,<br>    0.0<br>  ],<br>  \"params\": {<br>    \"n_estimators\": 2128,<br>    \"num_leaves\": 434,<br>    \"max_depth\": 4,<br>    \"min_child_samples\": 233,<br>    \"learning_rate\": 0.00019800908587286532,<br>    \"boosting_type\": \"goss\"<br>  }<br>}",
          "{<br>  \"number\": 30,<br>  \"values\": [<br>    0.0,<br>    0.0<br>  ],<br>  \"params\": {<br>    \"n_estimators\": 68,<br>    \"num_leaves\": 789,<br>    \"max_depth\": 15,<br>    \"min_child_samples\": 120,<br>    \"learning_rate\": 0.004342933738889162,<br>    \"boosting_type\": \"goss\"<br>  }<br>}",
          "{<br>  \"number\": 42,<br>  \"values\": [<br>    0.047852741332707664,<br>    0.6646804270702986<br>  ],<br>  \"params\": {<br>    \"n_estimators\": 720,<br>    \"num_leaves\": 110,<br>    \"max_depth\": 5,<br>    \"min_child_samples\": 6,<br>    \"learning_rate\": 0.006951265043160054,<br>    \"boosting_type\": \"gbdt\"<br>  }<br>}",
          "{<br>  \"number\": 43,<br>  \"values\": [<br>    0.058744765482414585,<br>    0.6901672891252686<br>  ],<br>  \"params\": {<br>    \"n_estimators\": 2140,<br>    \"num_leaves\": 306,<br>    \"max_depth\": 8,<br>    \"min_child_samples\": 89,<br>    \"learning_rate\": 0.006238173192532781,<br>    \"boosting_type\": \"gbdt\"<br>  }<br>}",
          "{<br>  \"number\": 48,<br>  \"values\": [<br>    0.05752473033352871,<br>    0.6850642294569694<br>  ],<br>  \"params\": {<br>    \"n_estimators\": 1342,<br>    \"num_leaves\": 127,<br>    \"max_depth\": 7,<br>    \"min_child_samples\": 9,<br>    \"learning_rate\": 0.005195845259278803,<br>    \"boosting_type\": \"gbdt\"<br>  }<br>}",
          "{<br>  \"number\": 49,<br>  \"values\": [<br>    0.0,<br>    0.0<br>  ],<br>  \"params\": {<br>    \"n_estimators\": 28,<br>    \"num_leaves\": 247,<br>    \"max_depth\": 3,<br>    \"min_child_samples\": 131,<br>    \"learning_rate\": 0.0065588516485046225,<br>    \"boosting_type\": \"gbdt\"<br>  }<br>}",
          "{<br>  \"number\": 52,<br>  \"values\": [<br>    0.07050944830123429,<br>    0.6929341005408591<br>  ],<br>  \"params\": {<br>    \"n_estimators\": 9979,<br>    \"num_leaves\": 448,<br>    \"max_depth\": 5,<br>    \"min_child_samples\": 174,<br>    \"learning_rate\": 0.006845982885325395,<br>    \"boosting_type\": \"gbdt\"<br>  }<br>}",
          "{<br>  \"number\": 55,<br>  \"values\": [<br>    0.0,<br>    0.0<br>  ],<br>  \"params\": {<br>    \"n_estimators\": 389,<br>    \"num_leaves\": 288,<br>    \"max_depth\": 6,<br>    \"min_child_samples\": 214,<br>    \"learning_rate\": 0.0004343840306048121,<br>    \"boosting_type\": \"goss\"<br>  }<br>}",
          "{<br>  \"number\": 57,<br>  \"values\": [<br>    0.0,<br>    0.0<br>  ],<br>  \"params\": {<br>    \"n_estimators\": 757,<br>    \"num_leaves\": 804,<br>    \"max_depth\": 7,<br>    \"min_child_samples\": 151,<br>    \"learning_rate\": 0.000309583796247065,<br>    \"boosting_type\": \"gbdt\"<br>  }<br>}",
          "{<br>  \"number\": 60,<br>  \"values\": [<br>    0.0,<br>    0.0<br>  ],<br>  \"params\": {<br>    \"n_estimators\": 2167,<br>    \"num_leaves\": 376,<br>    \"max_depth\": 4,<br>    \"min_child_samples\": 213,<br>    \"learning_rate\": 5.436626465295789e-05,<br>    \"boosting_type\": \"gbdt\"<br>  }<br>}",
          "{<br>  \"number\": 62,<br>  \"values\": [<br>    0.001323015329008888,<br>    0.3190372334412686<br>  ],<br>  \"params\": {<br>    \"n_estimators\": 552,<br>    \"num_leaves\": 166,<br>    \"max_depth\": 5,<br>    \"min_child_samples\": 34,<br>    \"learning_rate\": 0.000900703935661511,<br>    \"boosting_type\": \"gbdt\"<br>  }<br>}",
          "{<br>  \"number\": 66,<br>  \"values\": [<br>    0.03968585703075794,<br>    0.6392137678778417<br>  ],<br>  \"params\": {<br>    \"n_estimators\": 1807,<br>    \"num_leaves\": 127,<br>    \"max_depth\": 8,<br>    \"min_child_samples\": 23,<br>    \"learning_rate\": 0.0011384087841442166,<br>    \"boosting_type\": \"gbdt\"<br>  }<br>}",
          "{<br>  \"number\": 68,<br>  \"values\": [<br>    0.03642583729683489,<br>    0.6379536264737176<br>  ],<br>  \"params\": {<br>    \"n_estimators\": 927,<br>    \"num_leaves\": 185,<br>    \"max_depth\": 10,<br>    \"min_child_samples\": 7,<br>    \"learning_rate\": 0.001736455160685562,<br>    \"boosting_type\": \"gbdt\"<br>  }<br>}",
          "{<br>  \"number\": 69,<br>  \"values\": [<br>    0.002746766164914285,<br>    0.4095178287195618<br>  ],<br>  \"params\": {<br>    \"n_estimators\": 964,<br>    \"num_leaves\": 27,<br>    \"max_depth\": 12,<br>    \"min_child_samples\": 7,<br>    \"learning_rate\": 0.0006674940643449619,<br>    \"boosting_type\": \"goss\"<br>  }<br>}",
          "{<br>  \"number\": 71,<br>  \"values\": [<br>    0.06320936787032888,<br>    0.6913346276522067<br>  ],<br>  \"params\": {<br>    \"n_estimators\": 9846,<br>    \"num_leaves\": 12,<br>    \"max_depth\": 13,<br>    \"min_child_samples\": 7,<br>    \"learning_rate\": 0.0009232962144750032,<br>    \"boosting_type\": \"goss\"<br>  }<br>}",
          "{<br>  \"number\": 75,<br>  \"values\": [<br>    0.0,<br>    0.0<br>  ],<br>  \"params\": {<br>    \"n_estimators\": 866,<br>    \"num_leaves\": 171,<br>    \"max_depth\": 14,<br>    \"min_child_samples\": 14,<br>    \"learning_rate\": 2.6731277233754398e-05,<br>    \"boosting_type\": \"goss\"<br>  }<br>}",
          "{<br>  \"number\": 76,<br>  \"values\": [<br>    0.051584068332115804,<br>    0.6674933357517456<br>  ],<br>  \"params\": {<br>    \"n_estimators\": 2435,<br>    \"num_leaves\": 64,<br>    \"max_depth\": 12,<br>    \"min_child_samples\": 5,<br>    \"learning_rate\": 0.0008615817380769324,<br>    \"boosting_type\": \"goss\"<br>  }<br>}",
          "{<br>  \"number\": 77,<br>  \"values\": [<br>    0.06028782415312448,<br>    0.6906707402031282<br>  ],<br>  \"params\": {<br>    \"n_estimators\": 1411,<br>    \"num_leaves\": 14,<br>    \"max_depth\": 12,<br>    \"min_child_samples\": 27,<br>    \"learning_rate\": 0.009999193368860104,<br>    \"boosting_type\": \"goss\"<br>  }<br>}",
          "{<br>  \"number\": 81,<br>  \"values\": [<br>    0.00816720282650101,<br>    0.49271050051557597<br>  ],<br>  \"params\": {<br>    \"n_estimators\": 915,<br>    \"num_leaves\": 52,<br>    \"max_depth\": 12,<br>    \"min_child_samples\": 7,<br>    \"learning_rate\": 0.0007363136676377504,<br>    \"boosting_type\": \"goss\"<br>  }<br>}",
          "{<br>  \"number\": 82,<br>  \"values\": [<br>    0.00518503436871786,<br>    0.4820436058223175<br>  ],<br>  \"params\": {<br>    \"n_estimators\": 1022,<br>    \"num_leaves\": 43,<br>    \"max_depth\": 15,<br>    \"min_child_samples\": 5,<br>    \"learning_rate\": 0.0006717360905819014,<br>    \"boosting_type\": \"goss\"<br>  }<br>}",
          "{<br>  \"number\": 85,<br>  \"values\": [<br>    0.030629097126186177,<br>    0.5981128414582543<br>  ],<br>  \"params\": {<br>    \"n_estimators\": 1955,<br>    \"num_leaves\": 188,<br>    \"max_depth\": 9,<br>    \"min_child_samples\": 31,<br>    \"learning_rate\": 0.0006116789481778148,<br>    \"boosting_type\": \"gbdt\"<br>  }<br>}",
          "{<br>  \"number\": 91,<br>  \"values\": [<br>    0.0,<br>    0.0<br>  ],<br>  \"params\": {<br>    \"n_estimators\": 1582,<br>    \"num_leaves\": 165,<br>    \"max_depth\": 10,<br>    \"min_child_samples\": 43,<br>    \"learning_rate\": 0.0001761931702471773,<br>    \"boosting_type\": \"gbdt\"<br>  }<br>}",
          "{<br>  \"number\": 92,<br>  \"values\": [<br>    0.041022272268167445,<br>    0.6461615690032627<br>  ],<br>  \"params\": {<br>    \"n_estimators\": 1168,<br>    \"num_leaves\": 194,<br>    \"max_depth\": 9,<br>    \"min_child_samples\": 12,<br>    \"learning_rate\": 0.001702523792801925,<br>    \"boosting_type\": \"gbdt\"<br>  }<br>}",
          "{<br>  \"number\": 93,<br>  \"values\": [<br>    0.035254200680723484,<br>    0.6285946101924195<br>  ],<br>  \"params\": {<br>    \"n_estimators\": 2060,<br>    \"num_leaves\": 201,<br>    \"max_depth\": 9,<br>    \"min_child_samples\": 16,<br>    \"learning_rate\": 0.0007599356496005604,<br>    \"boosting_type\": \"gbdt\"<br>  }<br>}",
          "{<br>  \"number\": 94,<br>  \"values\": [<br>    0.05203999506304631,<br>    0.6757112087527648<br>  ],<br>  \"params\": {<br>    \"n_estimators\": 2339,<br>    \"num_leaves\": 92,<br>    \"max_depth\": 8,<br>    \"min_child_samples\": 29,<br>    \"learning_rate\": 0.0018111024004765605,<br>    \"boosting_type\": \"gbdt\"<br>  }<br>}",
          "{<br>  \"number\": 95,<br>  \"values\": [<br>    0.02142251353757106,<br>    0.5613018526647509<br>  ],<br>  \"params\": {<br>    \"n_estimators\": 579,<br>    \"num_leaves\": 231,<br>    \"max_depth\": 10,<br>    \"min_child_samples\": 30,<br>    \"learning_rate\": 0.0015261444942069114,<br>    \"boosting_type\": \"gbdt\"<br>  }<br>}",
          "{<br>  \"number\": 98,<br>  \"values\": [<br>    0.0,<br>    0.0<br>  ],<br>  \"params\": {<br>    \"n_estimators\": 155,<br>    \"num_leaves\": 327,<br>    \"max_depth\": 10,<br>    \"min_child_samples\": 23,<br>    \"learning_rate\": 0.001617802396104387,<br>    \"boosting_type\": \"gbdt\"<br>  }<br>}"
         ],
         "type": "scatter",
         "x": [
          0,
          0,
          0,
          0,
          0.047852741332707664,
          0.058744765482414585,
          0.05752473033352871,
          0,
          0.07050944830123429,
          0,
          0,
          0,
          0.001323015329008888,
          0.03968585703075794,
          0.03642583729683489,
          0.002746766164914285,
          0.06320936787032888,
          0,
          0.051584068332115804,
          0.06028782415312448,
          0.00816720282650101,
          0.00518503436871786,
          0.030629097126186177,
          0,
          0.041022272268167445,
          0.035254200680723484,
          0.05203999506304631,
          0.02142251353757106,
          0
         ],
         "y": [
          0,
          0,
          0,
          0,
          0.6646804270702986,
          0.6901672891252686,
          0.6850642294569694,
          0,
          0.6929341005408591,
          0,
          0,
          0,
          0.3190372334412686,
          0.6392137678778417,
          0.6379536264737176,
          0.4095178287195618,
          0.6913346276522067,
          0,
          0.6674933357517456,
          0.6906707402031282,
          0.49271050051557597,
          0.4820436058223175,
          0.5981128414582543,
          0,
          0.6461615690032627,
          0.6285946101924195,
          0.6757112087527648,
          0.5613018526647509,
          0
         ]
        }
       ],
       "layout": {
        "template": {
         "data": {
          "bar": [
           {
            "error_x": {
             "color": "#2a3f5f"
            },
            "error_y": {
             "color": "#2a3f5f"
            },
            "marker": {
             "line": {
              "color": "#E5ECF6",
              "width": 0.5
             },
             "pattern": {
              "fillmode": "overlay",
              "size": 10,
              "solidity": 0.2
             }
            },
            "type": "bar"
           }
          ],
          "barpolar": [
           {
            "marker": {
             "line": {
              "color": "#E5ECF6",
              "width": 0.5
             },
             "pattern": {
              "fillmode": "overlay",
              "size": 10,
              "solidity": 0.2
             }
            },
            "type": "barpolar"
           }
          ],
          "carpet": [
           {
            "aaxis": {
             "endlinecolor": "#2a3f5f",
             "gridcolor": "white",
             "linecolor": "white",
             "minorgridcolor": "white",
             "startlinecolor": "#2a3f5f"
            },
            "baxis": {
             "endlinecolor": "#2a3f5f",
             "gridcolor": "white",
             "linecolor": "white",
             "minorgridcolor": "white",
             "startlinecolor": "#2a3f5f"
            },
            "type": "carpet"
           }
          ],
          "choropleth": [
           {
            "colorbar": {
             "outlinewidth": 0,
             "ticks": ""
            },
            "type": "choropleth"
           }
          ],
          "contour": [
           {
            "colorbar": {
             "outlinewidth": 0,
             "ticks": ""
            },
            "colorscale": [
             [
              0,
              "#0d0887"
             ],
             [
              0.1111111111111111,
              "#46039f"
             ],
             [
              0.2222222222222222,
              "#7201a8"
             ],
             [
              0.3333333333333333,
              "#9c179e"
             ],
             [
              0.4444444444444444,
              "#bd3786"
             ],
             [
              0.5555555555555556,
              "#d8576b"
             ],
             [
              0.6666666666666666,
              "#ed7953"
             ],
             [
              0.7777777777777778,
              "#fb9f3a"
             ],
             [
              0.8888888888888888,
              "#fdca26"
             ],
             [
              1,
              "#f0f921"
             ]
            ],
            "type": "contour"
           }
          ],
          "contourcarpet": [
           {
            "colorbar": {
             "outlinewidth": 0,
             "ticks": ""
            },
            "type": "contourcarpet"
           }
          ],
          "heatmap": [
           {
            "colorbar": {
             "outlinewidth": 0,
             "ticks": ""
            },
            "colorscale": [
             [
              0,
              "#0d0887"
             ],
             [
              0.1111111111111111,
              "#46039f"
             ],
             [
              0.2222222222222222,
              "#7201a8"
             ],
             [
              0.3333333333333333,
              "#9c179e"
             ],
             [
              0.4444444444444444,
              "#bd3786"
             ],
             [
              0.5555555555555556,
              "#d8576b"
             ],
             [
              0.6666666666666666,
              "#ed7953"
             ],
             [
              0.7777777777777778,
              "#fb9f3a"
             ],
             [
              0.8888888888888888,
              "#fdca26"
             ],
             [
              1,
              "#f0f921"
             ]
            ],
            "type": "heatmap"
           }
          ],
          "heatmapgl": [
           {
            "colorbar": {
             "outlinewidth": 0,
             "ticks": ""
            },
            "colorscale": [
             [
              0,
              "#0d0887"
             ],
             [
              0.1111111111111111,
              "#46039f"
             ],
             [
              0.2222222222222222,
              "#7201a8"
             ],
             [
              0.3333333333333333,
              "#9c179e"
             ],
             [
              0.4444444444444444,
              "#bd3786"
             ],
             [
              0.5555555555555556,
              "#d8576b"
             ],
             [
              0.6666666666666666,
              "#ed7953"
             ],
             [
              0.7777777777777778,
              "#fb9f3a"
             ],
             [
              0.8888888888888888,
              "#fdca26"
             ],
             [
              1,
              "#f0f921"
             ]
            ],
            "type": "heatmapgl"
           }
          ],
          "histogram": [
           {
            "marker": {
             "pattern": {
              "fillmode": "overlay",
              "size": 10,
              "solidity": 0.2
             }
            },
            "type": "histogram"
           }
          ],
          "histogram2d": [
           {
            "colorbar": {
             "outlinewidth": 0,
             "ticks": ""
            },
            "colorscale": [
             [
              0,
              "#0d0887"
             ],
             [
              0.1111111111111111,
              "#46039f"
             ],
             [
              0.2222222222222222,
              "#7201a8"
             ],
             [
              0.3333333333333333,
              "#9c179e"
             ],
             [
              0.4444444444444444,
              "#bd3786"
             ],
             [
              0.5555555555555556,
              "#d8576b"
             ],
             [
              0.6666666666666666,
              "#ed7953"
             ],
             [
              0.7777777777777778,
              "#fb9f3a"
             ],
             [
              0.8888888888888888,
              "#fdca26"
             ],
             [
              1,
              "#f0f921"
             ]
            ],
            "type": "histogram2d"
           }
          ],
          "histogram2dcontour": [
           {
            "colorbar": {
             "outlinewidth": 0,
             "ticks": ""
            },
            "colorscale": [
             [
              0,
              "#0d0887"
             ],
             [
              0.1111111111111111,
              "#46039f"
             ],
             [
              0.2222222222222222,
              "#7201a8"
             ],
             [
              0.3333333333333333,
              "#9c179e"
             ],
             [
              0.4444444444444444,
              "#bd3786"
             ],
             [
              0.5555555555555556,
              "#d8576b"
             ],
             [
              0.6666666666666666,
              "#ed7953"
             ],
             [
              0.7777777777777778,
              "#fb9f3a"
             ],
             [
              0.8888888888888888,
              "#fdca26"
             ],
             [
              1,
              "#f0f921"
             ]
            ],
            "type": "histogram2dcontour"
           }
          ],
          "mesh3d": [
           {
            "colorbar": {
             "outlinewidth": 0,
             "ticks": ""
            },
            "type": "mesh3d"
           }
          ],
          "parcoords": [
           {
            "line": {
             "colorbar": {
              "outlinewidth": 0,
              "ticks": ""
             }
            },
            "type": "parcoords"
           }
          ],
          "pie": [
           {
            "automargin": true,
            "type": "pie"
           }
          ],
          "scatter": [
           {
            "fillpattern": {
             "fillmode": "overlay",
             "size": 10,
             "solidity": 0.2
            },
            "type": "scatter"
           }
          ],
          "scatter3d": [
           {
            "line": {
             "colorbar": {
              "outlinewidth": 0,
              "ticks": ""
             }
            },
            "marker": {
             "colorbar": {
              "outlinewidth": 0,
              "ticks": ""
             }
            },
            "type": "scatter3d"
           }
          ],
          "scattercarpet": [
           {
            "marker": {
             "colorbar": {
              "outlinewidth": 0,
              "ticks": ""
             }
            },
            "type": "scattercarpet"
           }
          ],
          "scattergeo": [
           {
            "marker": {
             "colorbar": {
              "outlinewidth": 0,
              "ticks": ""
             }
            },
            "type": "scattergeo"
           }
          ],
          "scattergl": [
           {
            "marker": {
             "colorbar": {
              "outlinewidth": 0,
              "ticks": ""
             }
            },
            "type": "scattergl"
           }
          ],
          "scattermapbox": [
           {
            "marker": {
             "colorbar": {
              "outlinewidth": 0,
              "ticks": ""
             }
            },
            "type": "scattermapbox"
           }
          ],
          "scatterpolar": [
           {
            "marker": {
             "colorbar": {
              "outlinewidth": 0,
              "ticks": ""
             }
            },
            "type": "scatterpolar"
           }
          ],
          "scatterpolargl": [
           {
            "marker": {
             "colorbar": {
              "outlinewidth": 0,
              "ticks": ""
             }
            },
            "type": "scatterpolargl"
           }
          ],
          "scatterternary": [
           {
            "marker": {
             "colorbar": {
              "outlinewidth": 0,
              "ticks": ""
             }
            },
            "type": "scatterternary"
           }
          ],
          "surface": [
           {
            "colorbar": {
             "outlinewidth": 0,
             "ticks": ""
            },
            "colorscale": [
             [
              0,
              "#0d0887"
             ],
             [
              0.1111111111111111,
              "#46039f"
             ],
             [
              0.2222222222222222,
              "#7201a8"
             ],
             [
              0.3333333333333333,
              "#9c179e"
             ],
             [
              0.4444444444444444,
              "#bd3786"
             ],
             [
              0.5555555555555556,
              "#d8576b"
             ],
             [
              0.6666666666666666,
              "#ed7953"
             ],
             [
              0.7777777777777778,
              "#fb9f3a"
             ],
             [
              0.8888888888888888,
              "#fdca26"
             ],
             [
              1,
              "#f0f921"
             ]
            ],
            "type": "surface"
           }
          ],
          "table": [
           {
            "cells": {
             "fill": {
              "color": "#EBF0F8"
             },
             "line": {
              "color": "white"
             }
            },
            "header": {
             "fill": {
              "color": "#C8D4E3"
             },
             "line": {
              "color": "white"
             }
            },
            "type": "table"
           }
          ]
         },
         "layout": {
          "annotationdefaults": {
           "arrowcolor": "#2a3f5f",
           "arrowhead": 0,
           "arrowwidth": 1
          },
          "autotypenumbers": "strict",
          "coloraxis": {
           "colorbar": {
            "outlinewidth": 0,
            "ticks": ""
           }
          },
          "colorscale": {
           "diverging": [
            [
             0,
             "#8e0152"
            ],
            [
             0.1,
             "#c51b7d"
            ],
            [
             0.2,
             "#de77ae"
            ],
            [
             0.3,
             "#f1b6da"
            ],
            [
             0.4,
             "#fde0ef"
            ],
            [
             0.5,
             "#f7f7f7"
            ],
            [
             0.6,
             "#e6f5d0"
            ],
            [
             0.7,
             "#b8e186"
            ],
            [
             0.8,
             "#7fbc41"
            ],
            [
             0.9,
             "#4d9221"
            ],
            [
             1,
             "#276419"
            ]
           ],
           "sequential": [
            [
             0,
             "#0d0887"
            ],
            [
             0.1111111111111111,
             "#46039f"
            ],
            [
             0.2222222222222222,
             "#7201a8"
            ],
            [
             0.3333333333333333,
             "#9c179e"
            ],
            [
             0.4444444444444444,
             "#bd3786"
            ],
            [
             0.5555555555555556,
             "#d8576b"
            ],
            [
             0.6666666666666666,
             "#ed7953"
            ],
            [
             0.7777777777777778,
             "#fb9f3a"
            ],
            [
             0.8888888888888888,
             "#fdca26"
            ],
            [
             1,
             "#f0f921"
            ]
           ],
           "sequentialminus": [
            [
             0,
             "#0d0887"
            ],
            [
             0.1111111111111111,
             "#46039f"
            ],
            [
             0.2222222222222222,
             "#7201a8"
            ],
            [
             0.3333333333333333,
             "#9c179e"
            ],
            [
             0.4444444444444444,
             "#bd3786"
            ],
            [
             0.5555555555555556,
             "#d8576b"
            ],
            [
             0.6666666666666666,
             "#ed7953"
            ],
            [
             0.7777777777777778,
             "#fb9f3a"
            ],
            [
             0.8888888888888888,
             "#fdca26"
            ],
            [
             1,
             "#f0f921"
            ]
           ]
          },
          "colorway": [
           "#636efa",
           "#EF553B",
           "#00cc96",
           "#ab63fa",
           "#FFA15A",
           "#19d3f3",
           "#FF6692",
           "#B6E880",
           "#FF97FF",
           "#FECB52"
          ],
          "font": {
           "color": "#2a3f5f"
          },
          "geo": {
           "bgcolor": "white",
           "lakecolor": "white",
           "landcolor": "#E5ECF6",
           "showlakes": true,
           "showland": true,
           "subunitcolor": "white"
          },
          "hoverlabel": {
           "align": "left"
          },
          "hovermode": "closest",
          "mapbox": {
           "style": "light"
          },
          "paper_bgcolor": "white",
          "plot_bgcolor": "#E5ECF6",
          "polar": {
           "angularaxis": {
            "gridcolor": "white",
            "linecolor": "white",
            "ticks": ""
           },
           "bgcolor": "#E5ECF6",
           "radialaxis": {
            "gridcolor": "white",
            "linecolor": "white",
            "ticks": ""
           }
          },
          "scene": {
           "xaxis": {
            "backgroundcolor": "#E5ECF6",
            "gridcolor": "white",
            "gridwidth": 2,
            "linecolor": "white",
            "showbackground": true,
            "ticks": "",
            "zerolinecolor": "white"
           },
           "yaxis": {
            "backgroundcolor": "#E5ECF6",
            "gridcolor": "white",
            "gridwidth": 2,
            "linecolor": "white",
            "showbackground": true,
            "ticks": "",
            "zerolinecolor": "white"
           },
           "zaxis": {
            "backgroundcolor": "#E5ECF6",
            "gridcolor": "white",
            "gridwidth": 2,
            "linecolor": "white",
            "showbackground": true,
            "ticks": "",
            "zerolinecolor": "white"
           }
          },
          "shapedefaults": {
           "line": {
            "color": "#2a3f5f"
           }
          },
          "ternary": {
           "aaxis": {
            "gridcolor": "white",
            "linecolor": "white",
            "ticks": ""
           },
           "baxis": {
            "gridcolor": "white",
            "linecolor": "white",
            "ticks": ""
           },
           "bgcolor": "#E5ECF6",
           "caxis": {
            "gridcolor": "white",
            "linecolor": "white",
            "ticks": ""
           }
          },
          "title": {
           "x": 0.05
          },
          "xaxis": {
           "automargin": true,
           "gridcolor": "white",
           "linecolor": "white",
           "ticks": "",
           "title": {
            "standoff": 15
           },
           "zerolinecolor": "white",
           "zerolinewidth": 2
          },
          "yaxis": {
           "automargin": true,
           "gridcolor": "white",
           "linecolor": "white",
           "ticks": "",
           "title": {
            "standoff": 15
           },
           "zerolinecolor": "white",
           "zerolinewidth": 2
          }
         }
        },
        "title": {
         "text": "Pareto-front Plot"
        },
        "xaxis": {
         "title": {
          "text": "fair_metric"
         }
        },
        "yaxis": {
         "title": {
          "text": "f1_score"
         }
        }
       }
      }
     },
     "metadata": {},
     "output_type": "display_data"
    }
   ],
   "source": [
    "optuna.visualization.plot_pareto_front(study, target_names=[\"fair_metric\", \"f1_score\"], include_dominated_trials = True)"
   ]
  },
  {
   "cell_type": "code",
   "execution_count": null,
   "metadata": {},
   "outputs": [],
   "source": []
  }
 ],
 "metadata": {
  "kernelspec": {
   "display_name": "fairenv",
   "language": "python",
   "name": "python3"
  },
  "language_info": {
   "codemirror_mode": {
    "name": "ipython",
    "version": 3
   },
   "file_extension": ".py",
   "mimetype": "text/x-python",
   "name": "python",
   "nbconvert_exporter": "python",
   "pygments_lexer": "ipython3",
   "version": "3.10.10"
  },
  "orig_nbformat": 4
 },
 "nbformat": 4,
 "nbformat_minor": 2
}
