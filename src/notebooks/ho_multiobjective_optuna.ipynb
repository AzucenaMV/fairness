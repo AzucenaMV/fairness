{
 "cells": [
  {
   "cell_type": "code",
   "execution_count": null,
   "metadata": {},
   "outputs": [],
   "source": [
    "#! pip install fairlearn\n",
    "#! pip install lightgbm\n",
    "#! pip install optuna"
   ]
  },
  {
   "cell_type": "code",
   "execution_count": 1,
   "metadata": {},
   "outputs": [
    {
     "name": "stderr",
     "output_type": "stream",
     "text": [
      "/home/azucena/miniconda3/envs/fairenv/lib/python3.10/site-packages/tqdm/auto.py:21: TqdmWarning: IProgress not found. Please update jupyter and ipywidgets. See https://ipywidgets.readthedocs.io/en/stable/user_install.html\n",
      "  from .autonotebook import tqdm as notebook_tqdm\n"
     ]
    }
   ],
   "source": [
    "from sklearn.metrics import f1_score, confusion_matrix, make_scorer, accuracy_score\n",
    "from sklearn.model_selection import cross_val_score, train_test_split, cross_validate\n",
    "from fairlearn.metrics import (\n",
    "    count,\n",
    "    selection_rate,\n",
    "    equalized_odds_difference,\n",
    "    false_positive_rate,\n",
    "    false_negative_rate,\n",
    "    demographic_parity_difference\n",
    ")\n",
    "\n",
    "from fairlearn.datasets import fetch_adult\n",
    "from sklearn.pipeline import Pipeline\n",
    "from sklearn.preprocessing import OneHotEncoder, StandardScaler\n",
    "from sklearn.compose import ColumnTransformer\n",
    "from sklearn.compose import make_column_selector as selector\n",
    "from sklearn.impute import SimpleImputer\n",
    "from sklearn.ensemble import RandomForestClassifier\n",
    "from lightgbm import LGBMClassifier\n",
    "\n",
    "import numpy as np\n",
    "import optuna\n",
    "import tqdm as notebook_tqdm"
   ]
  },
  {
   "cell_type": "code",
   "execution_count": 30,
   "metadata": {},
   "outputs": [
    {
     "name": "stderr",
     "output_type": "stream",
     "text": [
      "/home/azucena/miniconda3/envs/fairenv/lib/python3.10/site-packages/sklearn/datasets/_openml.py:968: FutureWarning:\n",
      "\n",
      "The default value of `parser` will change from `'liac-arff'` to `'auto'` in 1.4. You can set `parser='auto'` to silence this warning. Therefore, an `ImportError` will be raised from 1.4 if the dataset is dense and pandas is not installed. Note that the pandas parser may return different data types. See the Notes Section in fetch_openml's API doc for details.\n",
      "\n"
     ]
    }
   ],
   "source": [
    "data = fetch_adult(as_frame=True)\n",
    "X_raw = data.data\n",
    "y = (data.target == \">50K\") * 1\n",
    "A = X_raw[\"sex\"]\n",
    "\n",
    "numeric_transformer = Pipeline(\n",
    "    steps=[\n",
    "        (\"impute\", SimpleImputer()),\n",
    "        (\"scaler\", StandardScaler()),\n",
    "    ]\n",
    ")\n",
    "categorical_transformer = Pipeline(\n",
    "    [\n",
    "        (\"impute\", SimpleImputer(strategy=\"most_frequent\")),\n",
    "        (\"ohe\", OneHotEncoder(handle_unknown=\"ignore\")),\n",
    "    ]\n",
    ")\n",
    "preprocessor = ColumnTransformer(\n",
    "    transformers=[\n",
    "        (\"num\", numeric_transformer, selector(dtype_exclude=\"category\")),\n",
    "        (\"cat\", categorical_transformer, selector(dtype_include=\"category\")),\n",
    "    ]\n",
    ")\n",
    "\n",
    "pipeline = Pipeline(\n",
    "    steps=[\n",
    "        (\"preprocessor\", preprocessor),\n",
    "        (\n",
    "            \"classifier\",\n",
    "            LGBMClassifier(n_jobs=-1),\n",
    "        ),\n",
    "    ]\n",
    ")"
   ]
  },
  {
   "cell_type": "code",
   "execution_count": 31,
   "metadata": {},
   "outputs": [],
   "source": [
    "def metric_scorer(clf, X, y):\n",
    "    y_pred = clf.predict(X)\n",
    "    f1 = f1_score(y,y_pred)\n",
    "    abs_eod = np.abs(equalized_odds_difference(y, y_pred, sensitive_features=X['sex']))\n",
    "    return {'f1_score': f1, 'eod': abs_eod}\n",
    "\n",
    "def metric_scorer_v2(clf, X, y):\n",
    "    y_pred = clf.predict(X)\n",
    "    error = 1 - accuracy_score(y, y_pred)\n",
    "    abs_dpd = np.abs(demographic_parity_difference(y, y_pred, sensitive_features=X['sex']))\n",
    "    return {'error': error, 'dpd': abs_dpd}\n",
    "\n",
    "def metric_scorer_v3(clf, X, y):\n",
    "    y_pred = clf.predict(X)\n",
    "    f1 = f1_score(y,y_pred)\n",
    "    abs_dpd = np.abs(demographic_parity_difference(y, y_pred, sensitive_features=X['sex']))\n",
    "    return {'f1_score': f1, 'dpd': abs_dpd}\n"
   ]
  },
  {
   "cell_type": "code",
   "execution_count": 4,
   "metadata": {},
   "outputs": [
    {
     "name": "stdout",
     "output_type": "stream",
     "text": [
      "0.1908097330743628\n",
      "0.6951638780655514\n"
     ]
    }
   ],
   "source": [
    "from fairlearn.metrics import equalized_odds_difference\n",
    "import numpy as np\n",
    "\n",
    "pipeline.fit(X_train, y_train)\n",
    "y_pred = pipeline.predict(X_test)\n",
    "#fair_value = np.abs(equalized_odds_difference(y_test, y_pred, sensitive_features=A_test))\n",
    "fair_value = np.abs(demographic_parity_difference(y_test, y_pred, sensitive_features=A_test))\n",
    "model_value = f1_score(y_test, y_pred) \n",
    "\n",
    "print(fair_value)\n",
    "print(model_value)"
   ]
  },
  {
   "cell_type": "code",
   "execution_count": 33,
   "metadata": {},
   "outputs": [
    {
     "name": "stderr",
     "output_type": "stream",
     "text": [
      "/tmp/ipykernel_78827/2727072634.py:47: FutureWarning:\n",
      "\n",
      "MOTPESampler has been deprecated in v2.9.0. This feature will be removed in v4.0.0. See https://github.com/optuna/optuna/releases/tag/v2.9.0.\n",
      "\n",
      "\u001b[32m[I 2023-05-09 19:21:30,298]\u001b[0m A new study created in memory with name: no-name-7f9a429f-8c78-452c-8992-017201f88e12\u001b[0m\n"
     ]
    },
    {
     "name": "stdout",
     "output_type": "stream",
     "text": [
      "0\n"
     ]
    },
    {
     "name": "stderr",
     "output_type": "stream",
     "text": [
      "\u001b[32m[I 2023-05-09 19:22:01,137]\u001b[0m Trial 0 finished with values: [0.1611839665808317, 0.6940610139842006] and parameters: {'n_estimators': 8669, 'num_leaves': 270, 'max_depth': 4, 'min_child_samples': 17, 'learning_rate': 0.0023968541035582405, 'boosting_type': 'gbdt'}. \u001b[0m\n",
      "\u001b[32m[I 2023-05-09 19:22:26,430]\u001b[0m Trial 1 finished with values: [0.1582795779038875, 0.6651464111737642] and parameters: {'n_estimators': 6022, 'num_leaves': 341, 'max_depth': 4, 'min_child_samples': 96, 'learning_rate': 0.001106140614373575, 'boosting_type': 'goss'}. \u001b[0m\n",
      "\u001b[32m[I 2023-05-09 19:22:49,830]\u001b[0m Trial 2 finished with values: [0.1501082611015477, 0.6516546528493607] and parameters: {'n_estimators': 3011, 'num_leaves': 522, 'max_depth': 15, 'min_child_samples': 280, 'learning_rate': 0.0010298606581265368, 'boosting_type': 'gbdt'}. \u001b[0m\n",
      "\u001b[32m[I 2023-05-09 19:23:26,755]\u001b[0m Trial 3 finished with values: [0.18512677216320367, 0.6277775171173711] and parameters: {'n_estimators': 5600, 'num_leaves': 596, 'max_depth': 16, 'min_child_samples': 248, 'learning_rate': 0.001265458676682977, 'boosting_type': 'goss'}. \u001b[0m\n",
      "\u001b[32m[I 2023-05-09 19:24:01,625]\u001b[0m Trial 4 finished with values: [0.1596658531222738, 0.6711203223619177] and parameters: {'n_estimators': 7318, 'num_leaves': 308, 'max_depth': 3, 'min_child_samples': 53, 'learning_rate': 0.0013464245883280741, 'boosting_type': 'goss'}. \u001b[0m\n",
      "\u001b[32m[I 2023-05-09 19:25:17,401]\u001b[0m Trial 5 finished with values: [0.16630213006693878, 0.6678051658671825] and parameters: {'n_estimators': 9848, 'num_leaves': 409, 'max_depth': 6, 'min_child_samples': 69, 'learning_rate': 0.008440164525171262, 'boosting_type': 'goss'}. \u001b[0m\n",
      "\u001b[32m[I 2023-05-09 19:26:42,679]\u001b[0m Trial 6 finished with values: [0.16459408928887223, 0.6791770786616163] and parameters: {'n_estimators': 7079, 'num_leaves': 840, 'max_depth': 16, 'min_child_samples': 226, 'learning_rate': 0.0022569255919427204, 'boosting_type': 'gbdt'}. \u001b[0m\n",
      "\u001b[32m[I 2023-05-09 19:27:44,455]\u001b[0m Trial 7 finished with values: [0.16181910658846846, 0.6880966818256405] and parameters: {'n_estimators': 8705, 'num_leaves': 615, 'max_depth': 5, 'min_child_samples': 66, 'learning_rate': 0.004368571371480081, 'boosting_type': 'gbdt'}. \u001b[0m\n",
      "\u001b[32m[I 2023-05-09 19:28:26,646]\u001b[0m Trial 8 finished with values: [0.18072638894609688, 0.627629436459852] and parameters: {'n_estimators': 5186, 'num_leaves': 690, 'max_depth': 6, 'min_child_samples': 281, 'learning_rate': 0.008214430261519088, 'boosting_type': 'goss'}. \u001b[0m\n",
      "\u001b[32m[I 2023-05-09 19:32:16,114]\u001b[0m Trial 9 finished with values: [0.1768474187836287, 0.6590663065141731] and parameters: {'n_estimators': 9251, 'num_leaves': 788, 'max_depth': 12, 'min_child_samples': 25, 'learning_rate': 0.006339685340779402, 'boosting_type': 'gbdt'}. \u001b[0m\n",
      "\u001b[32m[I 2023-05-09 19:33:43,721]\u001b[0m Trial 10 finished with values: [0.1757108004355281, 0.6663331903328789] and parameters: {'n_estimators': 8159, 'num_leaves': 188, 'max_depth': 18, 'min_child_samples': 218, 'learning_rate': 0.0088644122090224, 'boosting_type': 'gbdt'}. \u001b[0m\n",
      "\u001b[32m[I 2023-05-09 19:34:58,890]\u001b[0m Trial 11 finished with values: [0.1714292711210172, 0.6549643536652079] and parameters: {'n_estimators': 7706, 'num_leaves': 513, 'max_depth': 12, 'min_child_samples': 186, 'learning_rate': 0.0030653776083827715, 'boosting_type': 'goss'}. \u001b[0m\n",
      "\u001b[32m[I 2023-05-09 19:35:43,751]\u001b[0m Trial 12 finished with values: [0.1570545772624582, 0.6824619667423245] and parameters: {'n_estimators': 6506, 'num_leaves': 83, 'max_depth': 4, 'min_child_samples': 53, 'learning_rate': 0.0019756436972196054, 'boosting_type': 'gbdt'}. \u001b[0m\n",
      "\u001b[32m[I 2023-05-09 19:36:04,581]\u001b[0m Trial 13 finished with values: [0.1709078206018701, 0.6587969572992163] and parameters: {'n_estimators': 3236, 'num_leaves': 199, 'max_depth': 18, 'min_child_samples': 151, 'learning_rate': 0.008520291388769283, 'boosting_type': 'goss'}. \u001b[0m\n",
      "\u001b[32m[I 2023-05-09 19:36:47,932]\u001b[0m Trial 14 finished with values: [0.1795907532460265, 0.6404961135239019] and parameters: {'n_estimators': 8703, 'num_leaves': 606, 'max_depth': 7, 'min_child_samples': 228, 'learning_rate': 0.008041734121344844, 'boosting_type': 'goss'}. \u001b[0m\n",
      "\u001b[32m[I 2023-05-09 19:37:36,057]\u001b[0m Trial 15 finished with values: [0.1827289189440645, 0.6245494268730668] and parameters: {'n_estimators': 9866, 'num_leaves': 378, 'max_depth': 9, 'min_child_samples': 277, 'learning_rate': 0.008145576041736057, 'boosting_type': 'goss'}. \u001b[0m\n",
      "\u001b[32m[I 2023-05-09 19:39:02,786]\u001b[0m Trial 16 finished with values: [0.1656846572028889, 0.6811759116112492] and parameters: {'n_estimators': 9178, 'num_leaves': 75, 'max_depth': 13, 'min_child_samples': 116, 'learning_rate': 0.0036332408424696247, 'boosting_type': 'gbdt'}. \u001b[0m\n",
      "\u001b[32m[I 2023-05-09 19:39:37,741]\u001b[0m Trial 17 finished with values: [0.16359631592363172, 0.6846678619812937] and parameters: {'n_estimators': 3453, 'num_leaves': 998, 'max_depth': 14, 'min_child_samples': 133, 'learning_rate': 0.005626473417133713, 'boosting_type': 'gbdt'}. \u001b[0m\n",
      "\u001b[32m[I 2023-05-09 19:41:01,736]\u001b[0m Trial 18 finished with values: [0.1630736663410362, 0.6700187463511595] and parameters: {'n_estimators': 8011, 'num_leaves': 855, 'max_depth': 20, 'min_child_samples': 240, 'learning_rate': 0.0017763132406298004, 'boosting_type': 'gbdt'}. \u001b[0m\n",
      "\u001b[32m[I 2023-05-09 19:41:27,889]\u001b[0m Trial 19 finished with values: [0.17577360417224447, 0.6351084476695006] and parameters: {'n_estimators': 6372, 'num_leaves': 162, 'max_depth': 8, 'min_child_samples': 251, 'learning_rate': 0.006781371539104441, 'boosting_type': 'goss'}. \u001b[0m\n",
      "\u001b[32m[I 2023-05-09 19:41:36,962]\u001b[0m Trial 20 finished with values: [0.16748286675234664, 0.6706522849019216] and parameters: {'n_estimators': 1307, 'num_leaves': 375, 'max_depth': 20, 'min_child_samples': 107, 'learning_rate': 0.009886861463350211, 'boosting_type': 'goss'}. \u001b[0m\n",
      "\u001b[32m[I 2023-05-09 19:42:07,171]\u001b[0m Trial 21 finished with values: [0.13308083763436368, 0.6176131399568956] and parameters: {'n_estimators': 4017, 'num_leaves': 53, 'max_depth': 10, 'min_child_samples': 180, 'learning_rate': 0.0004165224156703045, 'boosting_type': 'gbdt'}. \u001b[0m\n",
      "\u001b[32m[I 2023-05-09 19:42:10,751]\u001b[0m Trial 22 finished with values: [0.0, 0.0] and parameters: {'n_estimators': 772, 'num_leaves': 12, 'max_depth': 10, 'min_child_samples': 194, 'learning_rate': 9.793940006456742e-05, 'boosting_type': 'gbdt'}. \u001b[0m\n",
      "\u001b[32m[I 2023-05-09 19:42:18,829]\u001b[0m Trial 23 finished with values: [0.0, 0.0] and parameters: {'n_estimators': 4257, 'num_leaves': 89, 'max_depth': 2, 'min_child_samples': 173, 'learning_rate': 9.45698865465151e-05, 'boosting_type': 'gbdt'}. \u001b[0m\n",
      "\u001b[32m[I 2023-05-09 19:42:31,083]\u001b[0m Trial 24 finished with values: [0.16135348492947812, 0.6844559591370534] and parameters: {'n_estimators': 1877, 'num_leaves': 27, 'max_depth': 11, 'min_child_samples': 83, 'learning_rate': 0.0034177571044390325, 'boosting_type': 'gbdt'}. \u001b[0m\n",
      "\u001b[32m[I 2023-05-09 19:42:32,621]\u001b[0m Trial 25 finished with values: [0.020570491652022516, 0.16193948984012668] and parameters: {'n_estimators': 103, 'num_leaves': 139, 'max_depth': 9, 'min_child_samples': 144, 'learning_rate': 0.004485578493403646, 'boosting_type': 'gbdt'}. \u001b[0m\n",
      "\u001b[32m[I 2023-05-09 19:42:34,089]\u001b[0m Trial 26 finished with values: [0.020570491652022516, 0.16193948984012668] and parameters: {'n_estimators': 96, 'num_leaves': 253, 'max_depth': 9, 'min_child_samples': 147, 'learning_rate': 0.004782651527519024, 'boosting_type': 'gbdt'}. \u001b[0m\n",
      "\u001b[32m[I 2023-05-09 19:42:48,045]\u001b[0m Trial 27 finished with values: [0.16199928383874107, 0.6764638594913523] and parameters: {'n_estimators': 2308, 'num_leaves': 152, 'max_depth': 10, 'min_child_samples': 205, 'learning_rate': 0.004012467603607511, 'boosting_type': 'gbdt'}. \u001b[0m\n",
      "\u001b[32m[I 2023-05-09 19:43:11,744]\u001b[0m Trial 28 finished with values: [0.16311909335905464, 0.6845195799316988] and parameters: {'n_estimators': 4342, 'num_leaves': 230, 'max_depth': 8, 'min_child_samples': 168, 'learning_rate': 0.002894587839590413, 'boosting_type': 'gbdt'}. \u001b[0m\n",
      "\u001b[32m[I 2023-05-09 19:43:48,090]\u001b[0m Trial 29 finished with values: [0.1628147967453028, 0.6826992701070896] and parameters: {'n_estimators': 4562, 'num_leaves': 418, 'max_depth': 13, 'min_child_samples': 136, 'learning_rate': 0.0051975851478357265, 'boosting_type': 'gbdt'}. \u001b[0m\n",
      "\u001b[32m[I 2023-05-09 19:45:23,869]\u001b[0m Trial 30 finished with values: [0.15350397157584444, 0.6777522459062081] and parameters: {'n_estimators': 6523, 'num_leaves': 109, 'max_depth': 11, 'min_child_samples': 32, 'learning_rate': 0.0005736215295248563, 'boosting_type': 'gbdt'}. \u001b[0m\n",
      "\u001b[32m[I 2023-05-09 19:45:50,899]\u001b[0m Trial 31 finished with values: [0.12508623694641327, 0.6171220221355777] and parameters: {'n_estimators': 1987, 'num_leaves': 125, 'max_depth': 10, 'min_child_samples': 35, 'learning_rate': 0.0007261739610968875, 'boosting_type': 'gbdt'}. \u001b[0m\n",
      "\u001b[32m[I 2023-05-09 19:46:30,715]\u001b[0m Trial 32 finished with values: [0.15753247293732792, 0.6797462359070167] and parameters: {'n_estimators': 2334, 'num_leaves': 128, 'max_depth': 11, 'min_child_samples': 11, 'learning_rate': 0.0026487674992545177, 'boosting_type': 'gbdt'}. \u001b[0m\n",
      "\u001b[32m[I 2023-05-09 19:46:33,761]\u001b[0m Trial 33 finished with values: [0.0, 0.0] and parameters: {'n_estimators': 315, 'num_leaves': 268, 'max_depth': 7, 'min_child_samples': 34, 'learning_rate': 0.000683120475072495, 'boosting_type': 'gbdt'}. \u001b[0m\n",
      "\u001b[32m[I 2023-05-09 19:46:55,632]\u001b[0m Trial 34 finished with values: [0.15848884341239028, 0.6886437013512298] and parameters: {'n_estimators': 1284, 'num_leaves': 957, 'max_depth': 13, 'min_child_samples': 45, 'learning_rate': 0.004019110763660435, 'boosting_type': 'gbdt'}. \u001b[0m\n",
      "\u001b[32m[I 2023-05-09 19:47:34,267]\u001b[0m Trial 35 finished with values: [0.15397879050796232, 0.6792740251590729] and parameters: {'n_estimators': 2548, 'num_leaves': 114, 'max_depth': 9, 'min_child_samples': 5, 'learning_rate': 0.0017687158166222192, 'boosting_type': 'gbdt'}. \u001b[0m\n",
      "\u001b[32m[I 2023-05-09 19:49:55,730]\u001b[0m Trial 36 finished with values: [0.16296679010204398, 0.6702264897785067] and parameters: {'n_estimators': 2592, 'num_leaves': 464, 'max_depth': 15, 'min_child_samples': 6, 'learning_rate': 0.0018820869807373009, 'boosting_type': 'gbdt'}. \u001b[0m\n",
      "\u001b[32m[I 2023-05-09 19:50:09,509]\u001b[0m Trial 37 finished with values: [0.15499449591037787, 0.6763659389188125] and parameters: {'n_estimators': 1704, 'num_leaves': 199, 'max_depth': 9, 'min_child_samples': 88, 'learning_rate': 0.002846520003417359, 'boosting_type': 'gbdt'}. \u001b[0m\n",
      "\u001b[32m[I 2023-05-09 19:50:44,840]\u001b[0m Trial 38 finished with values: [0.15958723238174896, 0.6802918359267227] and parameters: {'n_estimators': 3591, 'num_leaves': 304, 'max_depth': 18, 'min_child_samples': 123, 'learning_rate': 0.0015828717446741596, 'boosting_type': 'gbdt'}. \u001b[0m\n",
      "\u001b[32m[I 2023-05-09 19:50:50,738]\u001b[0m Trial 39 finished with values: [0.04715232498371794, 0.39519768098612457] and parameters: {'n_estimators': 634, 'num_leaves': 711, 'max_depth': 8, 'min_child_samples': 79, 'learning_rate': 0.0009581976129858431, 'boosting_type': 'gbdt'}. \u001b[0m\n",
      "\u001b[32m[I 2023-05-09 19:50:52,926]\u001b[0m Trial 40 finished with values: [0.016988782372196143, 0.2095742821110619] and parameters: {'n_estimators': 747, 'num_leaves': 729, 'max_depth': 2, 'min_child_samples': 67, 'learning_rate': 0.0007913590604589531, 'boosting_type': 'gbdt'}. \u001b[0m\n",
      "\u001b[32m[I 2023-05-09 19:50:55,209]\u001b[0m Trial 41 finished with values: [0.017145154537950638, 0.21027208974528572] and parameters: {'n_estimators': 894, 'num_leaves': 725, 'max_depth': 2, 'min_child_samples': 72, 'learning_rate': 0.0009153493543504463, 'boosting_type': 'gbdt'}. \u001b[0m\n",
      "\u001b[32m[I 2023-05-09 19:51:03,672]\u001b[0m Trial 42 finished with values: [0.13399053994966986, 0.6357480262586105] and parameters: {'n_estimators': 975, 'num_leaves': 705, 'max_depth': 7, 'min_child_samples': 44, 'learning_rate': 0.002159291260978272, 'boosting_type': 'gbdt'}. \u001b[0m\n",
      "\u001b[32m[I 2023-05-09 19:51:11,882]\u001b[0m Trial 43 finished with values: [0.13435423916139916, 0.6251511120855252] and parameters: {'n_estimators': 1652, 'num_leaves': 900, 'max_depth': 5, 'min_child_samples': 108, 'learning_rate': 0.0015048360259196532, 'boosting_type': 'gbdt'}. \u001b[0m\n",
      "\u001b[32m[I 2023-05-09 19:51:19,917]\u001b[0m Trial 44 finished with values: [0.027561884010873776, 0.21776311470983792] and parameters: {'n_estimators': 658, 'num_leaves': 658, 'max_depth': 8, 'min_child_samples': 64, 'learning_rate': 0.0006656783845893034, 'boosting_type': 'gbdt'}. \u001b[0m\n",
      "\u001b[32m[I 2023-05-09 19:51:31,249]\u001b[0m Trial 45 finished with values: [0.03995558204337155, 0.365075871341951] and parameters: {'n_estimators': 2062, 'num_leaves': 777, 'max_depth': 6, 'min_child_samples': 82, 'learning_rate': 0.0002520214801134394, 'boosting_type': 'gbdt'}. \u001b[0m\n",
      "\u001b[32m[I 2023-05-09 19:52:17,111]\u001b[0m Trial 46 finished with values: [0.15286818284480602, 0.6605479178536802] and parameters: {'n_estimators': 2812, 'num_leaves': 567, 'max_depth': 12, 'min_child_samples': 28, 'learning_rate': 0.0008978651711482096, 'boosting_type': 'goss'}. \u001b[0m\n",
      "\u001b[32m[I 2023-05-09 19:52:19,014]\u001b[0m Trial 47 finished with values: [0.12485180584482533, 0.578729725396025] and parameters: {'n_estimators': 508, 'num_leaves': 769, 'max_depth': 3, 'min_child_samples': 98, 'learning_rate': 0.002409676196707941, 'boosting_type': 'gbdt'}. \u001b[0m\n",
      "\u001b[32m[I 2023-05-09 19:52:26,830]\u001b[0m Trial 48 finished with values: [0.1505994377335631, 0.6358462137757913] and parameters: {'n_estimators': 1313, 'num_leaves': 460, 'max_depth': 14, 'min_child_samples': 299, 'learning_rate': 0.0018289378635754378, 'boosting_type': 'gbdt'}. \u001b[0m\n",
      "\u001b[32m[I 2023-05-09 19:52:37,661]\u001b[0m Trial 49 finished with values: [0.0, 0.0] and parameters: {'n_estimators': 1091, 'num_leaves': 890, 'max_depth': 17, 'min_child_samples': 164, 'learning_rate': 5.156051123255865e-05, 'boosting_type': 'goss'}. \u001b[0m\n",
      "\u001b[32m[I 2023-05-09 19:53:02,236]\u001b[0m Trial 50 finished with values: [0.14879804643255828, 0.6598609141893755] and parameters: {'n_estimators': 2135, 'num_leaves': 780, 'max_depth': 10, 'min_child_samples': 82, 'learning_rate': 0.0013864543153073684, 'boosting_type': 'gbdt'}. \u001b[0m\n",
      "\u001b[32m[I 2023-05-09 19:53:25,628]\u001b[0m Trial 51 finished with values: [0.12772958884847954, 0.619772148172725] and parameters: {'n_estimators': 3795, 'num_leaves': 656, 'max_depth': 6, 'min_child_samples': 43, 'learning_rate': 0.00045851810271950986, 'boosting_type': 'gbdt'}. \u001b[0m\n",
      "\u001b[32m[I 2023-05-09 19:53:44,073]\u001b[0m Trial 52 finished with values: [0.1367843696446142, 0.6416703575363139] and parameters: {'n_estimators': 1968, 'num_leaves': 812, 'max_depth': 8, 'min_child_samples': 54, 'learning_rate': 0.0011163205681306006, 'boosting_type': 'gbdt'}. \u001b[0m\n",
      "\u001b[32m[I 2023-05-09 19:54:25,192]\u001b[0m Trial 53 finished with values: [0.15320049383327028, 0.6839362624695646] and parameters: {'n_estimators': 2680, 'num_leaves': 534, 'max_depth': 10, 'min_child_samples': 24, 'learning_rate': 0.001570224920528537, 'boosting_type': 'gbdt'}. \u001b[0m\n",
      "\u001b[32m[I 2023-05-09 19:54:58,626]\u001b[0m Trial 54 finished with values: [0.05815086226525921, 0.44285154514283764] and parameters: {'n_estimators': 1580, 'num_leaves': 538, 'max_depth': 12, 'min_child_samples': 25, 'learning_rate': 0.00035908259226474765, 'boosting_type': 'gbdt'}. \u001b[0m\n",
      "\u001b[32m[I 2023-05-09 19:55:06,692]\u001b[0m Trial 55 finished with values: [0.032557877250356776, 0.3111408665896083] and parameters: {'n_estimators': 1536, 'num_leaves': 450, 'max_depth': 5, 'min_child_samples': 19, 'learning_rate': 0.00032086513309408283, 'boosting_type': 'gbdt'}. \u001b[0m\n",
      "\u001b[32m[I 2023-05-09 19:56:03,223]\u001b[0m Trial 56 finished with values: [0.0, 0.0] and parameters: {'n_estimators': 2916, 'num_leaves': 541, 'max_depth': 12, 'min_child_samples': 34, 'learning_rate': 3.313326236228025e-05, 'boosting_type': 'gbdt'}. \u001b[0m\n",
      "\u001b[32m[I 2023-05-09 19:57:39,998]\u001b[0m Trial 57 finished with values: [0.13208255162606194, 0.6318792156814096] and parameters: {'n_estimators': 2561, 'num_leaves': 648, 'max_depth': 19, 'min_child_samples': 21, 'learning_rate': 0.0006146700776851173, 'boosting_type': 'gbdt'}. \u001b[0m\n",
      "\u001b[32m[I 2023-05-09 19:58:28,100]\u001b[0m Trial 58 finished with values: [0.16041227157303756, 0.6805432149875281] and parameters: {'n_estimators': 3266, 'num_leaves': 492, 'max_depth': 14, 'min_child_samples': 59, 'learning_rate': 0.0015480435782444743, 'boosting_type': 'gbdt'}. \u001b[0m\n",
      "\u001b[32m[I 2023-05-09 19:59:03,920]\u001b[0m Trial 59 finished with values: [0.1514555188924926, 0.6687633038456611] and parameters: {'n_estimators': 2222, 'num_leaves': 561, 'max_depth': 11, 'min_child_samples': 37, 'learning_rate': 0.0012821662968797308, 'boosting_type': 'gbdt'}. \u001b[0m\n",
      "\u001b[32m[I 2023-05-09 19:59:12,092]\u001b[0m Trial 60 finished with values: [0.03778473129403927, 0.36681564546784173] and parameters: {'n_estimators': 1563, 'num_leaves': 459, 'max_depth': 5, 'min_child_samples': 18, 'learning_rate': 0.0004470379751304249, 'boosting_type': 'gbdt'}. \u001b[0m\n",
      "\u001b[32m[I 2023-05-09 19:59:20,412]\u001b[0m Trial 61 finished with values: [0.11780378301780214, 0.5853237974412766] and parameters: {'n_estimators': 1586, 'num_leaves': 453, 'max_depth': 5, 'min_child_samples': 16, 'learning_rate': 0.0007090210463884825, 'boosting_type': 'gbdt'}. \u001b[0m\n",
      "\u001b[32m[I 2023-05-09 19:59:24,860]\u001b[0m Trial 62 finished with values: [0.11813347309200983, 0.5640937630641222] and parameters: {'n_estimators': 1512, 'num_leaves': 488, 'max_depth': 3, 'min_child_samples': 13, 'learning_rate': 0.0007593040006598781, 'boosting_type': 'gbdt'}. \u001b[0m\n",
      "\u001b[32m[I 2023-05-09 19:59:27,651]\u001b[0m Trial 63 finished with values: [0.016988782372196143, 0.2095742821110619] and parameters: {'n_estimators': 1125, 'num_leaves': 428, 'max_depth': 2, 'min_child_samples': 21, 'learning_rate': 0.0005609007567588819, 'boosting_type': 'gbdt'}. \u001b[0m\n",
      "\u001b[32m[I 2023-05-09 19:59:35,892]\u001b[0m Trial 64 finished with values: [0.04069177481875296, 0.37733553534325165] and parameters: {'n_estimators': 1754, 'num_leaves': 350, 'max_depth': 5, 'min_child_samples': 45, 'learning_rate': 0.00043960801614835975, 'boosting_type': 'gbdt'}. \u001b[0m\n",
      "\u001b[32m[I 2023-05-09 19:59:41,580]\u001b[0m Trial 65 finished with values: [0.12567523474827474, 0.5936174750877481] and parameters: {'n_estimators': 1388, 'num_leaves': 579, 'max_depth': 4, 'min_child_samples': 5, 'learning_rate': 0.0008758561239291009, 'boosting_type': 'gbdt'}. \u001b[0m\n",
      "\u001b[32m[I 2023-05-09 19:59:45,438]\u001b[0m Trial 66 finished with values: [0.0, 0.0] and parameters: {'n_estimators': 411, 'num_leaves': 394, 'max_depth': 7, 'min_child_samples': 27, 'learning_rate': 0.00025461451183561964, 'boosting_type': 'gbdt'}. \u001b[0m\n",
      "\u001b[32m[I 2023-05-09 20:01:14,804]\u001b[0m Trial 67 finished with values: [0.163703923389216, 0.6810005583206744] and parameters: {'n_estimators': 4731, 'num_leaves': 524, 'max_depth': 17, 'min_child_samples': 38, 'learning_rate': 0.002108040028408764, 'boosting_type': 'gbdt'}. \u001b[0m\n",
      "\u001b[32m[I 2023-05-09 20:01:24,353]\u001b[0m Trial 68 finished with values: [0.14575617345313535, 0.6434562875539406] and parameters: {'n_estimators': 2623, 'num_leaves': 626, 'max_depth': 3, 'min_child_samples': 15, 'learning_rate': 0.001633644134595753, 'boosting_type': 'goss'}. \u001b[0m\n",
      "\u001b[32m[I 2023-05-09 20:01:35,114]\u001b[0m Trial 69 finished with values: [0.0, 0.0] and parameters: {'n_estimators': 1894, 'num_leaves': 484, 'max_depth': 6, 'min_child_samples': 51, 'learning_rate': 1.0116625963642095e-05, 'boosting_type': 'gbdt'}. \u001b[0m\n",
      "\u001b[32m[I 2023-05-09 20:01:43,044]\u001b[0m Trial 70 finished with values: [0.12992606831697365, 0.6239735443142946] and parameters: {'n_estimators': 1490, 'num_leaves': 455, 'max_depth': 5, 'min_child_samples': 18, 'learning_rate': 0.00125460395656182, 'boosting_type': 'gbdt'}. \u001b[0m\n",
      "\u001b[32m[I 2023-05-09 20:02:08,129]\u001b[0m Trial 71 finished with values: [0.0, 0.0] and parameters: {'n_estimators': 1023, 'num_leaves': 442, 'max_depth': 15, 'min_child_samples': 28, 'learning_rate': 0.00035979842675012996, 'boosting_type': 'gbdt'}. \u001b[0m\n",
      "\u001b[32m[I 2023-05-09 20:02:35,739]\u001b[0m Trial 72 finished with values: [0.12660950653477737, 0.5993245150531414] and parameters: {'n_estimators': 1648, 'num_leaves': 543, 'max_depth': 17, 'min_child_samples': 60, 'learning_rate': 0.0007499486875240637, 'boosting_type': 'goss'}. \u001b[0m\n",
      "\u001b[32m[I 2023-05-09 20:03:46,608]\u001b[0m Trial 73 finished with values: [0.16331414431656238, 0.6820327292091345] and parameters: {'n_estimators': 2295, 'num_leaves': 678, 'max_depth': 19, 'min_child_samples': 22, 'learning_rate': 0.0024904051324073913, 'boosting_type': 'gbdt'}. \u001b[0m\n",
      "\u001b[32m[I 2023-05-09 20:04:55,428]\u001b[0m Trial 74 finished with values: [0.15803802823527813, 0.6692100316246258] and parameters: {'n_estimators': 3089, 'num_leaves': 738, 'max_depth': 16, 'min_child_samples': 39, 'learning_rate': 0.0010531631626273107, 'boosting_type': 'gbdt'}. \u001b[0m\n",
      "\u001b[32m[I 2023-05-09 20:04:59,235]\u001b[0m Trial 75 finished with values: [0.04496194264747129, 0.40683913687206585] and parameters: {'n_estimators': 350, 'num_leaves': 320, 'max_depth': 7, 'min_child_samples': 10, 'learning_rate': 0.0019778290255984786, 'boosting_type': 'gbdt'}. \u001b[0m\n",
      "\u001b[32m[I 2023-05-09 20:05:02,341]\u001b[0m Trial 76 finished with values: [0.04078040177739286, 0.36572789592406935] and parameters: {'n_estimators': 252, 'num_leaves': 323, 'max_depth': 7, 'min_child_samples': 11, 'learning_rate': 0.0020359736082438515, 'boosting_type': 'gbdt'}. \u001b[0m\n",
      "\u001b[32m[I 2023-05-09 20:05:05,779]\u001b[0m Trial 77 finished with values: [0.08171729416445372, 0.48221809362281826] and parameters: {'n_estimators': 802, 'num_leaves': 385, 'max_depth': 4, 'min_child_samples': 29, 'learning_rate': 0.001206015622589867, 'boosting_type': 'gbdt'}. \u001b[0m\n",
      "\u001b[32m[I 2023-05-09 20:05:15,864]\u001b[0m Trial 78 finished with values: [0.10679110320136545, 0.5768148388386483] and parameters: {'n_estimators': 727, 'num_leaves': 290, 'max_depth': 10, 'min_child_samples': 50, 'learning_rate': 0.001401138978810492, 'boosting_type': 'gbdt'}. \u001b[0m\n",
      "\u001b[32m[I 2023-05-09 20:05:16,937]\u001b[0m Trial 79 finished with values: [0.0, 0.0] and parameters: {'n_estimators': 25, 'num_leaves': 341, 'max_depth': 8, 'min_child_samples': 48, 'learning_rate': 0.0022382587509411334, 'boosting_type': 'gbdt'}. \u001b[0m\n",
      "\u001b[32m[I 2023-05-09 20:05:25,333]\u001b[0m Trial 80 finished with values: [0.1063695792804102, 0.5713250737696949] and parameters: {'n_estimators': 699, 'num_leaves': 372, 'max_depth': 9, 'min_child_samples': 57, 'learning_rate': 0.0014570264985880267, 'boosting_type': 'gbdt'}. \u001b[0m\n",
      "\u001b[32m[I 2023-05-09 20:05:32,586]\u001b[0m Trial 81 finished with values: [0.09745798709970632, 0.544358634568238] and parameters: {'n_estimators': 760, 'num_leaves': 292, 'max_depth': 8, 'min_child_samples': 73, 'learning_rate': 0.001160314298435303, 'boosting_type': 'gbdt'}. \u001b[0m\n",
      "\u001b[32m[I 2023-05-09 20:05:39,252]\u001b[0m Trial 82 finished with values: [0.10024647119428007, 0.5466377163575278] and parameters: {'n_estimators': 511, 'num_leaves': 230, 'max_depth': 10, 'min_child_samples': 54, 'learning_rate': 0.0016498765195219795, 'boosting_type': 'gbdt'}. \u001b[0m\n",
      "\u001b[32m[I 2023-05-09 20:05:54,514]\u001b[0m Trial 83 finished with values: [0.12189032129280437, 0.5985411340609194] and parameters: {'n_estimators': 1152, 'num_leaves': 402, 'max_depth': 11, 'min_child_samples': 62, 'learning_rate': 0.0011441105557326676, 'boosting_type': 'gbdt'}. \u001b[0m\n",
      "\u001b[32m[I 2023-05-09 20:06:02,201]\u001b[0m Trial 84 finished with values: [0.12920043350218824, 0.6221571536150835] and parameters: {'n_estimators': 915, 'num_leaves': 284, 'max_depth': 7, 'min_child_samples': 40, 'learning_rate': 0.0019112682293349085, 'boosting_type': 'gbdt'}. \u001b[0m\n",
      "\u001b[32m[I 2023-05-09 20:06:04,697]\u001b[0m Trial 85 finished with values: [0.0, 0.0] and parameters: {'n_estimators': 278, 'num_leaves': 324, 'max_depth': 6, 'min_child_samples': 29, 'learning_rate': 0.00147892781672187, 'boosting_type': 'gbdt'}. \u001b[0m\n",
      "\u001b[32m[I 2023-05-09 20:06:11,396]\u001b[0m Trial 86 finished with values: [0.12420698456350868, 0.609513346825857] and parameters: {'n_estimators': 549, 'num_leaves': 226, 'max_depth': 9, 'min_child_samples': 52, 'learning_rate': 0.0026226057099395786, 'boosting_type': 'gbdt'}. \u001b[0m\n",
      "\u001b[32m[I 2023-05-09 20:06:15,273]\u001b[0m Trial 87 finished with values: [0.13463600361308825, 0.6275547872181083] and parameters: {'n_estimators': 841, 'num_leaves': 362, 'max_depth': 4, 'min_child_samples': 74, 'learning_rate': 0.0031302950605332103, 'boosting_type': 'gbdt'}. \u001b[0m\n",
      "\u001b[32m[I 2023-05-09 20:06:29,366]\u001b[0m Trial 88 finished with values: [0.14377549327228464, 0.6495268532487021] and parameters: {'n_estimators': 1046, 'num_leaves': 388, 'max_depth': 10, 'min_child_samples': 47, 'learning_rate': 0.0021450013867828945, 'boosting_type': 'gbdt'}. \u001b[0m\n",
      "\u001b[32m[I 2023-05-09 20:06:33,521]\u001b[0m Trial 89 finished with values: [0.08079921148091662, 0.5055587542675137] and parameters: {'n_estimators': 422, 'num_leaves': 425, 'max_depth': 8, 'min_child_samples': 94, 'learning_rate': 0.001809738833636677, 'boosting_type': 'gbdt'}. \u001b[0m\n",
      "\u001b[32m[I 2023-05-09 20:06:36,702]\u001b[0m Trial 90 finished with values: [0.0, 0.0] and parameters: {'n_estimators': 317, 'num_leaves': 425, 'max_depth': 8, 'min_child_samples': 95, 'learning_rate': 0.0008854425003562449, 'boosting_type': 'gbdt'}. \u001b[0m\n",
      "\u001b[32m[I 2023-05-09 20:07:04,398]\u001b[0m Trial 91 finished with values: [0.15168404611485853, 0.6725396862710458] and parameters: {'n_estimators': 2001, 'num_leaves': 437, 'max_depth': 10, 'min_child_samples': 34, 'learning_rate': 0.0017067344984580516, 'boosting_type': 'gbdt'}. \u001b[0m\n",
      "\u001b[32m[I 2023-05-09 20:07:17,706]\u001b[0m Trial 92 finished with values: [0.12572578939677506, 0.6239959930170926] and parameters: {'n_estimators': 1239, 'num_leaves': 498, 'max_depth': 7, 'min_child_samples': 9, 'learning_rate': 0.001377641006797832, 'boosting_type': 'gbdt'}. \u001b[0m\n",
      "\u001b[32m[I 2023-05-09 20:07:22,480]\u001b[0m Trial 93 finished with values: [0.08088938216333344, 0.5154760567065517] and parameters: {'n_estimators': 409, 'num_leaves': 484, 'max_depth': 7, 'min_child_samples': 10, 'learning_rate': 0.0019477675585244957, 'boosting_type': 'gbdt'}. \u001b[0m\n",
      "\u001b[32m[I 2023-05-09 20:07:33,144]\u001b[0m Trial 94 finished with values: [0.14190550680715383, 0.6597856111883695] and parameters: {'n_estimators': 1225, 'num_leaves': 544, 'max_depth': 7, 'min_child_samples': 22, 'learning_rate': 0.002711119952542251, 'boosting_type': 'gbdt'}. \u001b[0m\n",
      "\u001b[32m[I 2023-05-09 20:07:45,297]\u001b[0m Trial 95 finished with values: [0.14178566258029174, 0.6584783123911222] and parameters: {'n_estimators': 1227, 'num_leaves': 548, 'max_depth': 7, 'min_child_samples': 10, 'learning_rate': 0.002392556989964409, 'boosting_type': 'gbdt'}. \u001b[0m\n",
      "\u001b[32m[I 2023-05-09 20:07:50,254]\u001b[0m Trial 96 finished with values: [0.09144659222303286, 0.5311988813802138] and parameters: {'n_estimators': 623, 'num_leaves': 483, 'max_depth': 6, 'min_child_samples': 23, 'learning_rate': 0.0013769401306572653, 'boosting_type': 'gbdt'}. \u001b[0m\n",
      "\u001b[32m[I 2023-05-09 20:07:52,686]\u001b[0m Trial 97 finished with values: [0.0, 0.0] and parameters: {'n_estimators': 168, 'num_leaves': 491, 'max_depth': 7, 'min_child_samples': 10, 'learning_rate': 0.002048179960345411, 'boosting_type': 'gbdt'}. \u001b[0m\n",
      "\u001b[32m[I 2023-05-09 20:08:02,310]\u001b[0m Trial 98 finished with values: [0.1427548378779647, 0.6599525112361292] and parameters: {'n_estimators': 1251, 'num_leaves': 592, 'max_depth': 6, 'min_child_samples': 5, 'learning_rate': 0.002743583400388638, 'boosting_type': 'gbdt'}. \u001b[0m\n",
      "\u001b[32m[I 2023-05-09 20:08:03,411]\u001b[0m Trial 99 finished with values: [0.0, 0.0] and parameters: {'n_estimators': 24, 'num_leaves': 509, 'max_depth': 7, 'min_child_samples': 23, 'learning_rate': 0.00027070023148840475, 'boosting_type': 'gbdt'}. \u001b[0m\n",
      "/tmp/ipykernel_78827/2727072634.py:47: FutureWarning:\n",
      "\n",
      "MOTPESampler has been deprecated in v2.9.0. This feature will be removed in v4.0.0. See https://github.com/optuna/optuna/releases/tag/v2.9.0.\n",
      "\n",
      "\u001b[32m[I 2023-05-09 20:08:03,421]\u001b[0m A new study created in memory with name: no-name-afdfee6e-8eb5-4f33-bd64-7d79b9d5d3fd\u001b[0m\n"
     ]
    },
    {
     "name": "stdout",
     "output_type": "stream",
     "text": [
      "Number of finished trials:  100\n",
      "1\n"
     ]
    },
    {
     "name": "stderr",
     "output_type": "stream",
     "text": [
      "\u001b[32m[I 2023-05-09 20:08:41,519]\u001b[0m Trial 0 finished with values: [0.18623644358378555, 0.6916948547239662] and parameters: {'n_estimators': 8669, 'num_leaves': 270, 'max_depth': 4, 'min_child_samples': 17, 'learning_rate': 0.0023968541035582405, 'boosting_type': 'gbdt'}. \u001b[0m\n",
      "\u001b[32m[I 2023-05-09 20:09:10,115]\u001b[0m Trial 1 finished with values: [0.1832638675273926, 0.6652062662491863] and parameters: {'n_estimators': 6022, 'num_leaves': 341, 'max_depth': 4, 'min_child_samples': 96, 'learning_rate': 0.001106140614373575, 'boosting_type': 'goss'}. \u001b[0m\n",
      "\u001b[32m[I 2023-05-09 20:09:31,330]\u001b[0m Trial 2 finished with values: [0.1812502577378719, 0.6534469461242683] and parameters: {'n_estimators': 3011, 'num_leaves': 522, 'max_depth': 15, 'min_child_samples': 280, 'learning_rate': 0.0010298606581265368, 'boosting_type': 'gbdt'}. \u001b[0m\n",
      "\u001b[32m[I 2023-05-09 20:10:02,391]\u001b[0m Trial 3 finished with values: [0.19872452430800355, 0.6418934718946584] and parameters: {'n_estimators': 5600, 'num_leaves': 596, 'max_depth': 16, 'min_child_samples': 248, 'learning_rate': 0.001265458676682977, 'boosting_type': 'goss'}. \u001b[0m\n",
      "\u001b[32m[I 2023-05-09 20:10:32,964]\u001b[0m Trial 4 finished with values: [0.1815748507183304, 0.6736183717855718] and parameters: {'n_estimators': 7318, 'num_leaves': 308, 'max_depth': 3, 'min_child_samples': 53, 'learning_rate': 0.0013464245883280741, 'boosting_type': 'goss'}. \u001b[0m\n",
      "\u001b[32m[I 2023-05-09 20:11:36,411]\u001b[0m Trial 5 finished with values: [0.1977591880342114, 0.6736568366829936] and parameters: {'n_estimators': 9848, 'num_leaves': 409, 'max_depth': 6, 'min_child_samples': 69, 'learning_rate': 0.008440164525171262, 'boosting_type': 'goss'}. \u001b[0m\n",
      "\u001b[32m[I 2023-05-09 20:12:43,583]\u001b[0m Trial 6 finished with values: [0.19289658452023356, 0.6758359162948546] and parameters: {'n_estimators': 7079, 'num_leaves': 840, 'max_depth': 16, 'min_child_samples': 226, 'learning_rate': 0.0022569255919427204, 'boosting_type': 'gbdt'}. \u001b[0m\n",
      "\u001b[32m[I 2023-05-09 20:13:23,487]\u001b[0m Trial 7 finished with values: [0.19151061637144925, 0.6859571033977243] and parameters: {'n_estimators': 8705, 'num_leaves': 615, 'max_depth': 5, 'min_child_samples': 66, 'learning_rate': 0.004368571371480081, 'boosting_type': 'gbdt'}. \u001b[0m\n",
      "\u001b[32m[I 2023-05-09 20:13:47,242]\u001b[0m Trial 8 finished with values: [0.1981499034675503, 0.634270320783257] and parameters: {'n_estimators': 5186, 'num_leaves': 690, 'max_depth': 6, 'min_child_samples': 281, 'learning_rate': 0.008214430261519088, 'boosting_type': 'goss'}. \u001b[0m\n",
      "\u001b[32m[I 2023-05-09 20:17:04,520]\u001b[0m Trial 9 finished with values: [0.19385313721216707, 0.6656275179801161] and parameters: {'n_estimators': 9251, 'num_leaves': 788, 'max_depth': 12, 'min_child_samples': 25, 'learning_rate': 0.006339685340779402, 'boosting_type': 'gbdt'}. \u001b[0m\n",
      "\u001b[32m[I 2023-05-09 20:18:15,876]\u001b[0m Trial 10 finished with values: [0.1978438292788006, 0.6702655372952709] and parameters: {'n_estimators': 8159, 'num_leaves': 188, 'max_depth': 18, 'min_child_samples': 218, 'learning_rate': 0.0088644122090224, 'boosting_type': 'gbdt'}. \u001b[0m\n",
      "\u001b[32m[I 2023-05-09 20:19:02,508]\u001b[0m Trial 11 finished with values: [0.19359116006813376, 0.6524490918283259] and parameters: {'n_estimators': 7706, 'num_leaves': 513, 'max_depth': 12, 'min_child_samples': 186, 'learning_rate': 0.0030653776083827715, 'boosting_type': 'goss'}. \u001b[0m\n",
      "\u001b[32m[I 2023-05-09 20:19:28,549]\u001b[0m Trial 12 finished with values: [0.1806934791087796, 0.6901198058436011] and parameters: {'n_estimators': 6506, 'num_leaves': 83, 'max_depth': 4, 'min_child_samples': 53, 'learning_rate': 0.0019756436972196054, 'boosting_type': 'gbdt'}. \u001b[0m\n",
      "\u001b[32m[I 2023-05-09 20:19:48,942]\u001b[0m Trial 13 finished with values: [0.19404406243486763, 0.6589398843568879] and parameters: {'n_estimators': 3236, 'num_leaves': 199, 'max_depth': 18, 'min_child_samples': 151, 'learning_rate': 0.008520291388769283, 'boosting_type': 'goss'}. \u001b[0m\n",
      "\u001b[32m[I 2023-05-09 20:20:33,405]\u001b[0m Trial 14 finished with values: [0.19435208114278607, 0.6442258075615246] and parameters: {'n_estimators': 8703, 'num_leaves': 606, 'max_depth': 7, 'min_child_samples': 228, 'learning_rate': 0.008041734121344844, 'boosting_type': 'goss'}. \u001b[0m\n",
      "\u001b[32m[I 2023-05-09 20:21:20,327]\u001b[0m Trial 15 finished with values: [0.19616030004054816, 0.6363096676646084] and parameters: {'n_estimators': 9866, 'num_leaves': 378, 'max_depth': 9, 'min_child_samples': 277, 'learning_rate': 0.008145576041736057, 'boosting_type': 'goss'}. \u001b[0m\n",
      "\u001b[32m[I 2023-05-09 20:22:50,779]\u001b[0m Trial 16 finished with values: [0.1986741072799144, 0.682767878954951] and parameters: {'n_estimators': 9178, 'num_leaves': 75, 'max_depth': 13, 'min_child_samples': 116, 'learning_rate': 0.0036332408424696247, 'boosting_type': 'gbdt'}. \u001b[0m\n",
      "\u001b[32m[I 2023-05-09 20:23:29,201]\u001b[0m Trial 17 finished with values: [0.20154256165469359, 0.6787664197384669] and parameters: {'n_estimators': 3453, 'num_leaves': 998, 'max_depth': 14, 'min_child_samples': 133, 'learning_rate': 0.005626473417133713, 'boosting_type': 'gbdt'}. \u001b[0m\n",
      "\u001b[32m[I 2023-05-09 20:24:41,993]\u001b[0m Trial 18 finished with values: [0.18992467388119602, 0.6723243809495809] and parameters: {'n_estimators': 8011, 'num_leaves': 855, 'max_depth': 20, 'min_child_samples': 240, 'learning_rate': 0.0017763132406298004, 'boosting_type': 'gbdt'}. \u001b[0m\n",
      "\u001b[32m[I 2023-05-09 20:25:12,677]\u001b[0m Trial 19 finished with values: [0.19770098233938946, 0.6381203239786577] and parameters: {'n_estimators': 6372, 'num_leaves': 162, 'max_depth': 8, 'min_child_samples': 251, 'learning_rate': 0.006781371539104441, 'boosting_type': 'goss'}. \u001b[0m\n",
      "\u001b[32m[I 2023-05-09 20:25:23,339]\u001b[0m Trial 20 finished with values: [0.1938149247733463, 0.6657469471684899] and parameters: {'n_estimators': 1307, 'num_leaves': 375, 'max_depth': 20, 'min_child_samples': 107, 'learning_rate': 0.009886861463350211, 'boosting_type': 'goss'}. \u001b[0m\n",
      "\u001b[32m[I 2023-05-09 20:25:33,552]\u001b[0m Trial 21 finished with values: [0.1362552721989664, 0.5908137843442891] and parameters: {'n_estimators': 4430, 'num_leaves': 39, 'max_depth': 2, 'min_child_samples': 180, 'learning_rate': 0.0004165224156703045, 'boosting_type': 'gbdt'}. \u001b[0m\n",
      "\u001b[32m[I 2023-05-09 20:25:36,276]\u001b[0m Trial 22 finished with values: [0.0, 0.0] and parameters: {'n_estimators': 814, 'num_leaves': 11, 'max_depth': 2, 'min_child_samples': 194, 'learning_rate': 9.793940006456742e-05, 'boosting_type': 'gbdt'}. \u001b[0m\n",
      "\u001b[32m[I 2023-05-09 20:26:13,314]\u001b[0m Trial 23 finished with values: [0.0, 0.0] and parameters: {'n_estimators': 4256, 'num_leaves': 86, 'max_depth': 9, 'min_child_samples': 173, 'learning_rate': 9.45698865465151e-05, 'boosting_type': 'gbdt'}. \u001b[0m\n",
      "\u001b[32m[I 2023-05-09 20:26:18,130]\u001b[0m Trial 24 finished with values: [0.15234497514588077, 0.6318649943276674] and parameters: {'n_estimators': 1986, 'num_leaves': 27, 'max_depth': 2, 'min_child_samples': 83, 'learning_rate': 0.0034177571044390325, 'boosting_type': 'gbdt'}. \u001b[0m\n",
      "\u001b[32m[I 2023-05-09 20:26:20,027]\u001b[0m Trial 25 finished with values: [0.02896646787344421, 0.2265814021418498] and parameters: {'n_estimators': 108, 'num_leaves': 139, 'max_depth': 10, 'min_child_samples': 144, 'learning_rate': 0.004485578493403646, 'boosting_type': 'gbdt'}. \u001b[0m\n",
      "\u001b[32m[I 2023-05-09 20:26:21,568]\u001b[0m Trial 26 finished with values: [0.0, 0.0] and parameters: {'n_estimators': 58, 'num_leaves': 246, 'max_depth': 11, 'min_child_samples': 147, 'learning_rate': 0.004782651527519024, 'boosting_type': 'gbdt'}. \u001b[0m\n",
      "\u001b[32m[I 2023-05-09 20:26:52,074]\u001b[0m Trial 27 finished with values: [0.1962860058873576, 0.6816547137484329] and parameters: {'n_estimators': 4418, 'num_leaves': 146, 'max_depth': 10, 'min_child_samples': 205, 'learning_rate': 0.004012467603607511, 'boosting_type': 'gbdt'}. \u001b[0m\n",
      "\u001b[32m[I 2023-05-09 20:27:05,705]\u001b[0m Trial 28 finished with values: [0.18031369851975948, 0.6764230827094573] and parameters: {'n_estimators': 2158, 'num_leaves': 111, 'max_depth': 7, 'min_child_samples': 168, 'learning_rate': 0.002894587839590413, 'boosting_type': 'gbdt'}. \u001b[0m\n",
      "\u001b[32m[I 2023-05-09 20:27:07,454]\u001b[0m Trial 29 finished with values: [0.030070387071184312, 0.23834010186035043] and parameters: {'n_estimators': 98, 'num_leaves': 236, 'max_depth': 10, 'min_child_samples': 136, 'learning_rate': 0.0051975851478357265, 'boosting_type': 'gbdt'}. \u001b[0m\n",
      "\u001b[32m[I 2023-05-09 20:27:20,850]\u001b[0m Trial 30 finished with values: [0.14270628915294353, 0.6074672673739305] and parameters: {'n_estimators': 4365, 'num_leaves': 55, 'max_depth': 3, 'min_child_samples': 32, 'learning_rate': 0.0005736215295248563, 'boosting_type': 'gbdt'}. \u001b[0m\n",
      "\u001b[32m[I 2023-05-09 20:27:46,366]\u001b[0m Trial 31 finished with values: [0.18168801911329688, 0.6769102960288726] and parameters: {'n_estimators': 6655, 'num_leaves': 243, 'max_depth': 4, 'min_child_samples': 130, 'learning_rate': 0.0017893892350278108, 'boosting_type': 'gbdt'}. \u001b[0m\n",
      "\u001b[32m[I 2023-05-09 20:27:52,987]\u001b[0m Trial 32 finished with values: [0.046873390694600205, 0.31766896278508766] and parameters: {'n_estimators': 2428, 'num_leaves': 451, 'max_depth': 2, 'min_child_samples': 174, 'learning_rate': 0.0005035091706934204, 'boosting_type': 'gbdt'}. \u001b[0m\n",
      "\u001b[32m[I 2023-05-09 20:27:59,013]\u001b[0m Trial 33 finished with values: [0.15189566134033655, 0.6328700356584587] and parameters: {'n_estimators': 2562, 'num_leaves': 430, 'max_depth': 2, 'min_child_samples': 161, 'learning_rate': 0.0026397169749371565, 'boosting_type': 'gbdt'}. \u001b[0m\n",
      "\u001b[32m[I 2023-05-09 20:28:22,534]\u001b[0m Trial 34 finished with values: [0.15400222155598803, 0.6241708215762787] and parameters: {'n_estimators': 3899, 'num_leaves': 713, 'max_depth': 6, 'min_child_samples': 186, 'learning_rate': 0.000496517743536785, 'boosting_type': 'gbdt'}. \u001b[0m\n",
      "\u001b[32m[I 2023-05-09 20:28:28,097]\u001b[0m Trial 35 finished with values: [0.14891066616366394, 0.617561432111429] and parameters: {'n_estimators': 1169, 'num_leaves': 937, 'max_depth': 3, 'min_child_samples': 210, 'learning_rate': 0.003099844200405472, 'boosting_type': 'gbdt'}. \u001b[0m\n",
      "\u001b[32m[I 2023-05-09 20:28:47,112]\u001b[0m Trial 36 finished with values: [0.18438772324704208, 0.6659852569080003] and parameters: {'n_estimators': 4901, 'num_leaves': 464, 'max_depth': 5, 'min_child_samples': 263, 'learning_rate': 0.004062998219974705, 'boosting_type': 'gbdt'}. \u001b[0m\n",
      "\u001b[32m[I 2023-05-09 20:28:52,222]\u001b[0m Trial 37 finished with values: [0.14582411590530905, 0.6130352133123058] and parameters: {'n_estimators': 2027, 'num_leaves': 555, 'max_depth': 2, 'min_child_samples': 293, 'learning_rate': 0.002356554999950708, 'boosting_type': 'gbdt'}. \u001b[0m\n",
      "\u001b[32m[I 2023-05-09 20:29:11,332]\u001b[0m Trial 38 finished with values: [0.15762623070140833, 0.6329042512533642] and parameters: {'n_estimators': 3848, 'num_leaves': 683, 'max_depth': 5, 'min_child_samples': 174, 'learning_rate': 0.0006859707363867506, 'boosting_type': 'gbdt'}. \u001b[0m\n",
      "\u001b[32m[I 2023-05-09 20:29:31,013]\u001b[0m Trial 39 finished with values: [0.1759810033069359, 0.6657818856887345] and parameters: {'n_estimators': 2661, 'num_leaves': 770, 'max_depth': 7, 'min_child_samples': 99, 'learning_rate': 0.0015953778526203257, 'boosting_type': 'gbdt'}. \u001b[0m\n",
      "\u001b[32m[I 2023-05-09 20:29:46,500]\u001b[0m Trial 40 finished with values: [0.14823128140279024, 0.6256926375997847] and parameters: {'n_estimators': 5106, 'num_leaves': 126, 'max_depth': 3, 'min_child_samples': 116, 'learning_rate': 0.0007913590604589531, 'boosting_type': 'gbdt'}. \u001b[0m\n",
      "\u001b[32m[I 2023-05-09 20:30:12,993]\u001b[0m Trial 41 finished with values: [0.0, 0.0] and parameters: {'n_estimators': 5734, 'num_leaves': 39, 'max_depth': 4, 'min_child_samples': 6, 'learning_rate': 4.597583128949337e-05, 'boosting_type': 'gbdt'}. \u001b[0m\n",
      "\u001b[32m[I 2023-05-09 20:30:23,614]\u001b[0m Trial 42 finished with values: [0.16805191328164643, 0.6526137914678285] and parameters: {'n_estimators': 4827, 'num_leaves': 107, 'max_depth': 2, 'min_child_samples': 189, 'learning_rate': 0.0018882716373476876, 'boosting_type': 'gbdt'}. \u001b[0m\n",
      "\u001b[32m[I 2023-05-09 20:30:35,727]\u001b[0m Trial 43 finished with values: [0.15860573542303305, 0.6441414740363622] and parameters: {'n_estimators': 3701, 'num_leaves': 189, 'max_depth': 3, 'min_child_samples': 38, 'learning_rate': 0.0012442123728341474, 'boosting_type': 'gbdt'}. \u001b[0m\n",
      "\u001b[32m[I 2023-05-09 20:30:40,918]\u001b[0m Trial 44 finished with values: [0.14331574674467373, 0.6065830314190095] and parameters: {'n_estimators': 1517, 'num_leaves': 458, 'max_depth': 3, 'min_child_samples': 154, 'learning_rate': 0.0014014644165902443, 'boosting_type': 'gbdt'}. \u001b[0m\n",
      "\u001b[32m[I 2023-05-09 20:30:58,521]\u001b[0m Trial 45 finished with values: [0.1382373000697979, 0.6007616841808744] and parameters: {'n_estimators': 3568, 'num_leaves': 283, 'max_depth': 5, 'min_child_samples': 140, 'learning_rate': 0.0004539660534080602, 'boosting_type': 'gbdt'}. \u001b[0m\n",
      "\u001b[32m[I 2023-05-09 20:31:26,515]\u001b[0m Trial 46 finished with values: [0.1648025106778167, 0.6542116756766617] and parameters: {'n_estimators': 2775, 'num_leaves': 312, 'max_depth': 8, 'min_child_samples': 88, 'learning_rate': 0.0008780741906079413, 'boosting_type': 'gbdt'}. \u001b[0m\n",
      "\u001b[32m[I 2023-05-09 20:31:31,766]\u001b[0m Trial 47 finished with values: [0.14195210168864514, 0.6141946167659995] and parameters: {'n_estimators': 800, 'num_leaves': 317, 'max_depth': 5, 'min_child_samples': 46, 'learning_rate': 0.002095385876623464, 'boosting_type': 'gbdt'}. \u001b[0m\n",
      "\u001b[32m[I 2023-05-09 20:31:51,927]\u001b[0m Trial 48 finished with values: [0.18401281097865102, 0.6635797143834967] and parameters: {'n_estimators': 2324, 'num_leaves': 371, 'max_depth': 8, 'min_child_samples': 77, 'learning_rate': 0.0018289378635754378, 'boosting_type': 'goss'}. \u001b[0m\n",
      "\u001b[32m[I 2023-05-09 20:32:15,553]\u001b[0m Trial 49 finished with values: [0.1383730792030852, 0.6003666095083627] and parameters: {'n_estimators': 3375, 'num_leaves': 470, 'max_depth': 6, 'min_child_samples': 61, 'learning_rate': 0.00042756896949513144, 'boosting_type': 'gbdt'}. \u001b[0m\n",
      "\u001b[32m[I 2023-05-09 20:32:31,227]\u001b[0m Trial 50 finished with values: [0.1655345134702125, 0.6550588081108939] and parameters: {'n_estimators': 3730, 'num_leaves': 543, 'max_depth': 4, 'min_child_samples': 49, 'learning_rate': 0.0011150019533576303, 'boosting_type': 'gbdt'}. \u001b[0m\n",
      "\u001b[32m[I 2023-05-09 20:32:36,980]\u001b[0m Trial 51 finished with values: [0.13909320578358253, 0.6028670796265585] and parameters: {'n_estimators': 1626, 'num_leaves': 422, 'max_depth': 3, 'min_child_samples': 35, 'learning_rate': 0.0013274898239680815, 'boosting_type': 'gbdt'}. \u001b[0m\n",
      "\u001b[32m[I 2023-05-09 20:32:40,018]\u001b[0m Trial 52 finished with values: [0.0, 0.0] and parameters: {'n_estimators': 479, 'num_leaves': 204, 'max_depth': 5, 'min_child_samples': 118, 'learning_rate': 2.29532386942313e-05, 'boosting_type': 'gbdt'}. \u001b[0m\n",
      "\u001b[32m[I 2023-05-09 20:32:47,583]\u001b[0m Trial 53 finished with values: [0.13867301596669449, 0.592152406384722] and parameters: {'n_estimators': 3187, 'num_leaves': 288, 'max_depth': 2, 'min_child_samples': 262, 'learning_rate': 0.0008398929418295359, 'boosting_type': 'gbdt'}. \u001b[0m\n",
      "\u001b[32m[I 2023-05-09 20:33:00,399]\u001b[0m Trial 54 finished with values: [0.1743927445751883, 0.6697538691571961] and parameters: {'n_estimators': 3649, 'num_leaves': 488, 'max_depth': 4, 'min_child_samples': 198, 'learning_rate': 0.002612012006221162, 'boosting_type': 'gbdt'}. \u001b[0m\n",
      "\u001b[32m[I 2023-05-09 20:33:12,477]\u001b[0m Trial 55 finished with values: [0.1703044861168939, 0.6516315424315069] and parameters: {'n_estimators': 4075, 'num_leaves': 643, 'max_depth': 3, 'min_child_samples': 142, 'learning_rate': 0.0015290278521785572, 'boosting_type': 'gbdt'}. \u001b[0m\n",
      "\u001b[32m[I 2023-05-09 20:33:25,138]\u001b[0m Trial 56 finished with values: [0.08039757925510709, 0.44525266558173693] and parameters: {'n_estimators': 1709, 'num_leaves': 354, 'max_depth': 7, 'min_child_samples': 237, 'learning_rate': 0.00047212083327643166, 'boosting_type': 'goss'}. \u001b[0m\n",
      "\u001b[32m[I 2023-05-09 20:33:30,737]\u001b[0m Trial 57 finished with values: [0.16314454480421153, 0.5852849699268321] and parameters: {'n_estimators': 807, 'num_leaves': 343, 'max_depth': 9, 'min_child_samples': 298, 'learning_rate': 0.00204068422969592, 'boosting_type': 'goss'}. \u001b[0m\n",
      "\u001b[32m[I 2023-05-09 20:33:39,215]\u001b[0m Trial 58 finished with values: [0.1564866478003132, 0.6338827836173857] and parameters: {'n_estimators': 808, 'num_leaves': 243, 'max_depth': 7, 'min_child_samples': 46, 'learning_rate': 0.0021803866796300795, 'boosting_type': 'goss'}. \u001b[0m\n",
      "\u001b[32m[I 2023-05-09 20:33:50,017]\u001b[0m Trial 59 finished with values: [0.19947196255214802, 0.640137996407936] and parameters: {'n_estimators': 1782, 'num_leaves': 331, 'max_depth': 10, 'min_child_samples': 233, 'learning_rate': 0.0027484073177473146, 'boosting_type': 'goss'}. \u001b[0m\n",
      "\u001b[32m[I 2023-05-09 20:34:01,474]\u001b[0m Trial 60 finished with values: [0.0, 0.0] and parameters: {'n_estimators': 1162, 'num_leaves': 393, 'max_depth': 11, 'min_child_samples': 212, 'learning_rate': 0.00034702367964753477, 'boosting_type': 'goss'}. \u001b[0m\n",
      "\u001b[32m[I 2023-05-09 20:34:06,785]\u001b[0m Trial 61 finished with values: [0.02542653246383455, 0.1920748322739343] and parameters: {'n_estimators': 610, 'num_leaves': 439, 'max_depth': 8, 'min_child_samples': 264, 'learning_rate': 0.0008640063098266525, 'boosting_type': 'goss'}. \u001b[0m\n",
      "\u001b[32m[I 2023-05-09 20:34:13,465]\u001b[0m Trial 62 finished with values: [0.0, 0.0] and parameters: {'n_estimators': 329, 'num_leaves': 347, 'max_depth': 8, 'min_child_samples': 5, 'learning_rate': 0.000803682906070622, 'boosting_type': 'goss'}. \u001b[0m\n",
      "\u001b[32m[I 2023-05-09 20:34:17,221]\u001b[0m Trial 63 finished with values: [0.18557484434370225, 0.6224897543879175] and parameters: {'n_estimators': 543, 'num_leaves': 433, 'max_depth': 6, 'min_child_samples': 259, 'learning_rate': 0.005388466851179679, 'boosting_type': 'goss'}. \u001b[0m\n",
      "\u001b[32m[I 2023-05-09 20:34:31,606]\u001b[0m Trial 64 finished with values: [0.16460141762129954, 0.6562144926754998] and parameters: {'n_estimators': 1354, 'num_leaves': 233, 'max_depth': 7, 'min_child_samples': 25, 'learning_rate': 0.0016067918703375759, 'boosting_type': 'goss'}. \u001b[0m\n",
      "\u001b[32m[I 2023-05-09 20:34:38,867]\u001b[0m Trial 65 finished with values: [0.1497552776136652, 0.6222886562422896] and parameters: {'n_estimators': 872, 'num_leaves': 300, 'max_depth': 6, 'min_child_samples': 75, 'learning_rate': 0.002081640143792196, 'boosting_type': 'goss'}. \u001b[0m\n",
      "\u001b[32m[I 2023-05-09 20:34:47,960]\u001b[0m Trial 66 finished with values: [0.19891316462491124, 0.6341760776533756] and parameters: {'n_estimators': 1803, 'num_leaves': 442, 'max_depth': 5, 'min_child_samples': 270, 'learning_rate': 0.0035760383975537643, 'boosting_type': 'goss'}. \u001b[0m\n",
      "\u001b[32m[I 2023-05-09 20:34:58,173]\u001b[0m Trial 67 finished with values: [0.17844306851637187, 0.6626162616697238] and parameters: {'n_estimators': 1029, 'num_leaves': 403, 'max_depth': 8, 'min_child_samples': 58, 'learning_rate': 0.0031579668377177284, 'boosting_type': 'goss'}. \u001b[0m\n",
      "\u001b[32m[I 2023-05-09 20:35:20,884]\u001b[0m Trial 68 finished with values: [0.1676932728749221, 0.655432117571805] and parameters: {'n_estimators': 2394, 'num_leaves': 371, 'max_depth': 7, 'min_child_samples': 42, 'learning_rate': 0.0009651092283858621, 'boosting_type': 'goss'}. \u001b[0m\n",
      "\u001b[32m[I 2023-05-09 20:35:28,811]\u001b[0m Trial 69 finished with values: [0.19083145429003998, 0.6325844515222255] and parameters: {'n_estimators': 1508, 'num_leaves': 569, 'max_depth': 5, 'min_child_samples': 242, 'learning_rate': 0.002591737468849732, 'boosting_type': 'goss'}. \u001b[0m\n",
      "\u001b[32m[I 2023-05-09 20:35:57,218]\u001b[0m Trial 70 finished with values: [0.06437663073997577, 0.4181320646534895] and parameters: {'n_estimators': 3021, 'num_leaves': 499, 'max_depth': 8, 'min_child_samples': 179, 'learning_rate': 0.0002502992961737555, 'boosting_type': 'goss'}. \u001b[0m\n",
      "\u001b[32m[I 2023-05-09 20:36:07,536]\u001b[0m Trial 71 finished with values: [0.167263018252636, 0.6781357884580027] and parameters: {'n_estimators': 601, 'num_leaves': 272, 'max_depth': 9, 'min_child_samples': 24, 'learning_rate': 0.005263477327333435, 'boosting_type': 'gbdt'}. \u001b[0m\n",
      "\u001b[32m[I 2023-05-09 20:36:13,783]\u001b[0m Trial 72 finished with values: [0.1009597814384291, 0.5520703505922737] and parameters: {'n_estimators': 202, 'num_leaves': 496, 'max_depth': 9, 'min_child_samples': 160, 'learning_rate': 0.004973203792143649, 'boosting_type': 'goss'}. \u001b[0m\n",
      "\u001b[32m[I 2023-05-09 20:36:19,737]\u001b[0m Trial 73 finished with values: [0.1638858313430483, 0.6338906926984285] and parameters: {'n_estimators': 349, 'num_leaves': 491, 'max_depth': 11, 'min_child_samples': 162, 'learning_rate': 0.005145646737142391, 'boosting_type': 'goss'}. \u001b[0m\n",
      "\u001b[32m[I 2023-05-09 20:36:21,626]\u001b[0m Trial 74 finished with values: [0.0, 0.0] and parameters: {'n_estimators': 53, 'num_leaves': 528, 'max_depth': 9, 'min_child_samples': 128, 'learning_rate': 0.006264683148105252, 'boosting_type': 'goss'}. \u001b[0m\n",
      "\u001b[32m[I 2023-05-09 20:36:27,682]\u001b[0m Trial 75 finished with values: [0.18904969223557005, 0.652669484435025] and parameters: {'n_estimators': 660, 'num_leaves': 571, 'max_depth': 10, 'min_child_samples': 178, 'learning_rate': 0.005809605500481068, 'boosting_type': 'goss'}. \u001b[0m\n",
      "\u001b[32m[I 2023-05-09 20:36:31,768]\u001b[0m Trial 76 finished with values: [0.14999951716150356, 0.6196320192003133] and parameters: {'n_estimators': 325, 'num_leaves': 641, 'max_depth': 9, 'min_child_samples': 158, 'learning_rate': 0.0048826355786246835, 'boosting_type': 'goss'}. \u001b[0m\n",
      "\u001b[32m[I 2023-05-09 20:36:40,250]\u001b[0m Trial 77 finished with values: [0.19125291871650724, 0.6557230756000275] and parameters: {'n_estimators': 998, 'num_leaves': 505, 'max_depth': 12, 'min_child_samples': 166, 'learning_rate': 0.005137177567589275, 'boosting_type': 'goss'}. \u001b[0m\n",
      "\u001b[32m[I 2023-05-09 20:36:45,160]\u001b[0m Trial 78 finished with values: [0.17701720640777768, 0.634272955416064] and parameters: {'n_estimators': 495, 'num_leaves': 495, 'max_depth': 11, 'min_child_samples': 202, 'learning_rate': 0.0047023644201883725, 'boosting_type': 'goss'}. \u001b[0m\n",
      "\u001b[32m[I 2023-05-09 20:36:46,618]\u001b[0m Trial 79 finished with values: [0.0, 0.0] and parameters: {'n_estimators': 23, 'num_leaves': 567, 'max_depth': 10, 'min_child_samples': 123, 'learning_rate': 0.004044617557103849, 'boosting_type': 'goss'}. \u001b[0m\n",
      "\u001b[32m[I 2023-05-09 20:36:52,619]\u001b[0m Trial 80 finished with values: [0.19034371936108174, 0.6551542783613874] and parameters: {'n_estimators': 660, 'num_leaves': 468, 'max_depth': 9, 'min_child_samples': 153, 'learning_rate': 0.007329111392682145, 'boosting_type': 'goss'}. \u001b[0m\n",
      "\u001b[32m[I 2023-05-09 20:37:01,311]\u001b[0m Trial 81 finished with values: [0.19228715824756995, 0.6584682890716511] and parameters: {'n_estimators': 1141, 'num_leaves': 451, 'max_depth': 8, 'min_child_samples': 169, 'learning_rate': 0.005346905391496166, 'boosting_type': 'goss'}. \u001b[0m\n",
      "\u001b[32m[I 2023-05-09 20:37:04,794]\u001b[0m Trial 82 finished with values: [0.16329163551493373, 0.631872563410377] and parameters: {'n_estimators': 250, 'num_leaves': 529, 'max_depth': 10, 'min_child_samples': 135, 'learning_rate': 0.007083552120677078, 'boosting_type': 'goss'}. \u001b[0m\n",
      "\u001b[32m[I 2023-05-09 20:37:16,826]\u001b[0m Trial 83 finished with values: [0.1935006731758418, 0.6528919218548535] and parameters: {'n_estimators': 1710, 'num_leaves': 405, 'max_depth': 9, 'min_child_samples': 190, 'learning_rate': 0.005928833309499616, 'boosting_type': 'goss'}. \u001b[0m\n",
      "\u001b[32m[I 2023-05-09 20:37:27,084]\u001b[0m Trial 84 finished with values: [0.1934566681049411, 0.654378242818723] and parameters: {'n_estimators': 1435, 'num_leaves': 488, 'max_depth': 8, 'min_child_samples': 182, 'learning_rate': 0.004840260169816325, 'boosting_type': 'goss'}. \u001b[0m\n",
      "\u001b[32m[I 2023-05-09 20:37:34,334]\u001b[0m Trial 85 finished with values: [0.1716992419260241, 0.6432560164954217] and parameters: {'n_estimators': 565, 'num_leaves': 359, 'max_depth': 11, 'min_child_samples': 104, 'learning_rate': 0.003825902440962498, 'boosting_type': 'goss'}. \u001b[0m\n",
      "\u001b[32m[I 2023-05-09 20:37:56,842]\u001b[0m Trial 86 finished with values: [0.19260463793418428, 0.6576439388671764] and parameters: {'n_estimators': 2959, 'num_leaves': 545, 'max_depth': 13, 'min_child_samples': 158, 'learning_rate': 0.005223089028924187, 'boosting_type': 'goss'}. \u001b[0m\n",
      "\u001b[32m[I 2023-05-09 20:38:11,886]\u001b[0m Trial 87 finished with values: [0.1965285595382872, 0.6475816875313049] and parameters: {'n_estimators': 2247, 'num_leaves': 629, 'max_depth': 9, 'min_child_samples': 219, 'learning_rate': 0.004357237503620295, 'boosting_type': 'goss'}. \u001b[0m\n",
      "\u001b[32m[I 2023-05-09 20:38:22,164]\u001b[0m Trial 88 finished with values: [0.10672024962641875, 0.5809828292525157] and parameters: {'n_estimators': 301, 'num_leaves': 597, 'max_depth': 10, 'min_child_samples': 15, 'learning_rate': 0.0032887854728330737, 'boosting_type': 'goss'}. \u001b[0m\n",
      "\u001b[32m[I 2023-05-09 20:40:30,115]\u001b[0m Trial 89 finished with values: [0.18617490871517114, 0.6733425253324244] and parameters: {'n_estimators': 4696, 'num_leaves': 587, 'max_depth': 13, 'min_child_samples': 19, 'learning_rate': 0.0007977318466277364, 'boosting_type': 'goss'}. \u001b[0m\n",
      "\u001b[32m[I 2023-05-09 20:42:05,010]\u001b[0m Trial 90 finished with values: [0.0851248301619781, 0.5446019982121502] and parameters: {'n_estimators': 2756, 'num_leaves': 268, 'max_depth': 10, 'min_child_samples': 10, 'learning_rate': 0.00031243632180782824, 'boosting_type': 'goss'}. \u001b[0m\n",
      "\u001b[32m[I 2023-05-09 20:45:06,629]\u001b[0m Trial 91 finished with values: [0.13006056213056244, 0.6133537305768737] and parameters: {'n_estimators': 5193, 'num_leaves': 158, 'max_depth': 12, 'min_child_samples': 15, 'learning_rate': 0.0002364277788732107, 'boosting_type': 'goss'}. \u001b[0m\n",
      "\u001b[32m[I 2023-05-09 20:46:22,146]\u001b[0m Trial 92 finished with values: [0.1531662111630115, 0.650511834944868] and parameters: {'n_estimators': 2702, 'num_leaves': 219, 'max_depth': 11, 'min_child_samples': 16, 'learning_rate': 0.0006465741320589033, 'boosting_type': 'goss'}. \u001b[0m\n",
      "\u001b[32m[I 2023-05-09 20:48:18,193]\u001b[0m Trial 93 finished with values: [0.07385781902931574, 0.5105645563047536] and parameters: {'n_estimators': 2953, 'num_leaves': 221, 'max_depth': 12, 'min_child_samples': 14, 'learning_rate': 0.00025184558425226386, 'boosting_type': 'goss'}. \u001b[0m\n",
      "\u001b[32m[I 2023-05-09 20:49:36,222]\u001b[0m Trial 94 finished with values: [0.052857729657313904, 0.4316555808720287] and parameters: {'n_estimators': 2542, 'num_leaves': 162, 'max_depth': 12, 'min_child_samples': 12, 'learning_rate': 0.0002267642527210943, 'boosting_type': 'goss'}. \u001b[0m\n",
      "\u001b[32m[I 2023-05-09 20:53:30,429]\u001b[0m Trial 95 finished with values: [0.1423246770221518, 0.6312914675525122] and parameters: {'n_estimators': 5376, 'num_leaves': 225, 'max_depth': 14, 'min_child_samples': 14, 'learning_rate': 0.0002589433710798459, 'boosting_type': 'goss'}. \u001b[0m\n",
      "\u001b[32m[I 2023-05-09 20:54:39,776]\u001b[0m Trial 96 finished with values: [0.04309173797026518, 0.39657212325256863] and parameters: {'n_estimators': 1924, 'num_leaves': 170, 'max_depth': 18, 'min_child_samples': 11, 'learning_rate': 0.0002498161224990201, 'boosting_type': 'goss'}. \u001b[0m\n",
      "\u001b[32m[I 2023-05-09 20:55:40,151]\u001b[0m Trial 97 finished with values: [0.030330088444113824, 0.2669515089220397] and parameters: {'n_estimators': 1954, 'num_leaves': 164, 'max_depth': 12, 'min_child_samples': 28, 'learning_rate': 0.00021742173138156268, 'boosting_type': 'goss'}. \u001b[0m\n",
      "\u001b[32m[I 2023-05-09 20:56:24,098]\u001b[0m Trial 98 finished with values: [0.0, 0.0] and parameters: {'n_estimators': 1304, 'num_leaves': 261, 'max_depth': 12, 'min_child_samples': 24, 'learning_rate': 0.00020385272032712707, 'boosting_type': 'goss'}. \u001b[0m\n",
      "\u001b[32m[I 2023-05-09 20:58:10,715]\u001b[0m Trial 99 finished with values: [0.08349275070715931, 0.5321826253828306] and parameters: {'n_estimators': 2922, 'num_leaves': 160, 'max_depth': 14, 'min_child_samples': 10, 'learning_rate': 0.00026097611299656296, 'boosting_type': 'goss'}. \u001b[0m\n",
      "/tmp/ipykernel_78827/2727072634.py:47: FutureWarning:\n",
      "\n",
      "MOTPESampler has been deprecated in v2.9.0. This feature will be removed in v4.0.0. See https://github.com/optuna/optuna/releases/tag/v2.9.0.\n",
      "\n",
      "\u001b[32m[I 2023-05-09 20:58:10,727]\u001b[0m A new study created in memory with name: no-name-72c0d9c1-5c12-431a-a580-514ea742eeec\u001b[0m\n"
     ]
    },
    {
     "name": "stdout",
     "output_type": "stream",
     "text": [
      "Number of finished trials:  100\n",
      "2\n"
     ]
    },
    {
     "name": "stderr",
     "output_type": "stream",
     "text": [
      "\u001b[32m[I 2023-05-09 20:58:48,665]\u001b[0m Trial 0 finished with values: [0.18981368447257033, 0.6961217811573337] and parameters: {'n_estimators': 8669, 'num_leaves': 270, 'max_depth': 4, 'min_child_samples': 17, 'learning_rate': 0.0023968541035582405, 'boosting_type': 'gbdt'}. \u001b[0m\n",
      "\u001b[32m[I 2023-05-09 20:59:18,439]\u001b[0m Trial 1 finished with values: [0.19245392516760246, 0.6771095141290172] and parameters: {'n_estimators': 6022, 'num_leaves': 341, 'max_depth': 4, 'min_child_samples': 96, 'learning_rate': 0.001106140614373575, 'boosting_type': 'goss'}. \u001b[0m\n",
      "\u001b[32m[I 2023-05-09 20:59:42,566]\u001b[0m Trial 2 finished with values: [0.18998066729013785, 0.6636559099508768] and parameters: {'n_estimators': 3011, 'num_leaves': 522, 'max_depth': 15, 'min_child_samples': 280, 'learning_rate': 0.0010298606581265368, 'boosting_type': 'gbdt'}. \u001b[0m\n",
      "\u001b[32m[I 2023-05-09 21:00:18,179]\u001b[0m Trial 3 finished with values: [0.216517816362445, 0.6403236649325972] and parameters: {'n_estimators': 5600, 'num_leaves': 596, 'max_depth': 16, 'min_child_samples': 248, 'learning_rate': 0.001265458676682977, 'boosting_type': 'goss'}. \u001b[0m\n",
      "\u001b[32m[I 2023-05-09 21:00:52,381]\u001b[0m Trial 4 finished with values: [0.190798282783378, 0.6811665227275636] and parameters: {'n_estimators': 7318, 'num_leaves': 308, 'max_depth': 3, 'min_child_samples': 53, 'learning_rate': 0.0013464245883280741, 'boosting_type': 'goss'}. \u001b[0m\n",
      "\u001b[32m[I 2023-05-09 21:02:00,877]\u001b[0m Trial 5 finished with values: [0.19290351424519886, 0.680427893657918] and parameters: {'n_estimators': 9848, 'num_leaves': 409, 'max_depth': 6, 'min_child_samples': 69, 'learning_rate': 0.008440164525171262, 'boosting_type': 'goss'}. \u001b[0m\n",
      "\u001b[32m[I 2023-05-09 21:03:11,114]\u001b[0m Trial 6 finished with values: [0.1950624570522705, 0.6879290632291042] and parameters: {'n_estimators': 7079, 'num_leaves': 840, 'max_depth': 16, 'min_child_samples': 226, 'learning_rate': 0.0022569255919427204, 'boosting_type': 'gbdt'}. \u001b[0m\n",
      "\u001b[32m[I 2023-05-09 21:03:55,579]\u001b[0m Trial 7 finished with values: [0.19427983276000363, 0.703651558304123] and parameters: {'n_estimators': 8705, 'num_leaves': 615, 'max_depth': 5, 'min_child_samples': 66, 'learning_rate': 0.004368571371480081, 'boosting_type': 'gbdt'}. \u001b[0m\n",
      "\u001b[32m[I 2023-05-09 21:04:24,408]\u001b[0m Trial 8 finished with values: [0.21092862930766185, 0.6353981006821293] and parameters: {'n_estimators': 5186, 'num_leaves': 690, 'max_depth': 6, 'min_child_samples': 281, 'learning_rate': 0.008214430261519088, 'boosting_type': 'goss'}. \u001b[0m\n",
      "\u001b[32m[I 2023-05-09 21:07:59,947]\u001b[0m Trial 9 finished with values: [0.18939022123695942, 0.6785628399280749] and parameters: {'n_estimators': 9251, 'num_leaves': 788, 'max_depth': 12, 'min_child_samples': 25, 'learning_rate': 0.006339685340779402, 'boosting_type': 'gbdt'}. \u001b[0m\n",
      "\u001b[32m[I 2023-05-09 21:09:17,235]\u001b[0m Trial 10 finished with values: [0.19455128541890496, 0.6792343092859595] and parameters: {'n_estimators': 8159, 'num_leaves': 188, 'max_depth': 18, 'min_child_samples': 218, 'learning_rate': 0.0088644122090224, 'boosting_type': 'gbdt'}. \u001b[0m\n",
      "\u001b[32m[I 2023-05-09 21:10:10,003]\u001b[0m Trial 11 finished with values: [0.20199622345433674, 0.6656284638469682] and parameters: {'n_estimators': 7706, 'num_leaves': 513, 'max_depth': 12, 'min_child_samples': 186, 'learning_rate': 0.0030653776083827715, 'boosting_type': 'goss'}. \u001b[0m\n",
      "\u001b[32m[I 2023-05-09 21:10:40,208]\u001b[0m Trial 12 finished with values: [0.1900402606826475, 0.6942406764826486] and parameters: {'n_estimators': 6506, 'num_leaves': 83, 'max_depth': 4, 'min_child_samples': 53, 'learning_rate': 0.0019756436972196054, 'boosting_type': 'gbdt'}. \u001b[0m\n",
      "\u001b[32m[I 2023-05-09 21:11:03,086]\u001b[0m Trial 13 finished with values: [0.19809531546031361, 0.6759599635903978] and parameters: {'n_estimators': 3236, 'num_leaves': 199, 'max_depth': 18, 'min_child_samples': 151, 'learning_rate': 0.008520291388769283, 'boosting_type': 'goss'}. \u001b[0m\n",
      "\u001b[32m[I 2023-05-09 21:11:54,293]\u001b[0m Trial 14 finished with values: [0.20441760891501062, 0.6433427571349967] and parameters: {'n_estimators': 8703, 'num_leaves': 606, 'max_depth': 7, 'min_child_samples': 228, 'learning_rate': 0.008041734121344844, 'boosting_type': 'goss'}. \u001b[0m\n",
      "\u001b[32m[I 2023-05-09 21:12:47,555]\u001b[0m Trial 15 finished with values: [0.20774071933646318, 0.6398910741218959] and parameters: {'n_estimators': 9866, 'num_leaves': 378, 'max_depth': 9, 'min_child_samples': 277, 'learning_rate': 0.008145576041736057, 'boosting_type': 'goss'}. \u001b[0m\n",
      "\u001b[32m[I 2023-05-09 21:14:25,827]\u001b[0m Trial 16 finished with values: [0.18965970007618577, 0.6863672557722491] and parameters: {'n_estimators': 9178, 'num_leaves': 75, 'max_depth': 13, 'min_child_samples': 116, 'learning_rate': 0.0036332408424696247, 'boosting_type': 'gbdt'}. \u001b[0m\n",
      "\u001b[32m[I 2023-05-09 21:15:10,557]\u001b[0m Trial 17 finished with values: [0.19185576718275696, 0.6964013590915195] and parameters: {'n_estimators': 3453, 'num_leaves': 998, 'max_depth': 14, 'min_child_samples': 133, 'learning_rate': 0.005626473417133713, 'boosting_type': 'gbdt'}. \u001b[0m\n",
      "\u001b[32m[I 2023-05-09 21:16:31,287]\u001b[0m Trial 18 finished with values: [0.19491417461962615, 0.6898153347756141] and parameters: {'n_estimators': 8011, 'num_leaves': 855, 'max_depth': 20, 'min_child_samples': 240, 'learning_rate': 0.0017763132406298004, 'boosting_type': 'gbdt'}. \u001b[0m\n",
      "\u001b[32m[I 2023-05-09 21:17:05,610]\u001b[0m Trial 19 finished with values: [0.20421499138706153, 0.640426988661108] and parameters: {'n_estimators': 6372, 'num_leaves': 162, 'max_depth': 8, 'min_child_samples': 251, 'learning_rate': 0.006781371539104441, 'boosting_type': 'goss'}. \u001b[0m\n",
      "\u001b[32m[I 2023-05-09 21:17:17,530]\u001b[0m Trial 20 finished with values: [0.19341304036178664, 0.678880496243627] and parameters: {'n_estimators': 1307, 'num_leaves': 375, 'max_depth': 20, 'min_child_samples': 107, 'learning_rate': 0.009886861463350211, 'boosting_type': 'goss'}. \u001b[0m\n",
      "\u001b[32m[I 2023-05-09 21:17:27,413]\u001b[0m Trial 21 finished with values: [0.1852366125255856, 0.6795721772438303] and parameters: {'n_estimators': 4084, 'num_leaves': 212, 'max_depth': 2, 'min_child_samples': 33, 'learning_rate': 0.0043789010349801075, 'boosting_type': 'gbdt'}. \u001b[0m\n",
      "\u001b[32m[I 2023-05-09 21:17:38,403]\u001b[0m Trial 22 finished with values: [0.02813342520126792, 0.26442075803105103] and parameters: {'n_estimators': 4419, 'num_leaves': 15, 'max_depth': 2, 'min_child_samples': 9, 'learning_rate': 0.0002167796693204483, 'boosting_type': 'gbdt'}. \u001b[0m\n",
      "\u001b[32m[I 2023-05-09 21:17:39,935]\u001b[0m Trial 23 finished with values: [0.0, 0.0] and parameters: {'n_estimators': 253, 'num_leaves': 43, 'max_depth': 2, 'min_child_samples': 5, 'learning_rate': 7.577436355353864e-05, 'boosting_type': 'gbdt'}. \u001b[0m\n",
      "\u001b[32m[I 2023-05-09 21:17:50,574]\u001b[0m Trial 24 finished with values: [0.1863019976400023, 0.6714983122591106] and parameters: {'n_estimators': 4381, 'num_leaves': 27, 'max_depth': 2, 'min_child_samples': 178, 'learning_rate': 0.00396322292333012, 'boosting_type': 'gbdt'}. \u001b[0m\n",
      "\u001b[32m[I 2023-05-09 21:18:49,076]\u001b[0m Trial 25 finished with values: [0.1925191306678189, 0.697632855675981] and parameters: {'n_estimators': 4321, 'num_leaves': 139, 'max_depth': 10, 'min_child_samples': 33, 'learning_rate': 0.004586922657335251, 'boosting_type': 'gbdt'}. \u001b[0m\n",
      "\u001b[32m[I 2023-05-09 21:19:04,582]\u001b[0m Trial 26 finished with values: [0.18474325115973966, 0.698478857261277] and parameters: {'n_estimators': 1740, 'num_leaves': 264, 'max_depth': 8, 'min_child_samples': 81, 'learning_rate': 0.005153652169653576, 'boosting_type': 'gbdt'}. \u001b[0m\n",
      "\u001b[32m[I 2023-05-09 21:19:26,565]\u001b[0m Trial 27 finished with values: [0.1898034692142968, 0.7041522326144218] and parameters: {'n_estimators': 2034, 'num_leaves': 255, 'max_depth': 10, 'min_child_samples': 82, 'learning_rate': 0.005281927871545831, 'boosting_type': 'gbdt'}. \u001b[0m\n",
      "\u001b[32m[I 2023-05-09 21:19:43,614]\u001b[0m Trial 28 finished with values: [0.18508084937952868, 0.6813530533155189] and parameters: {'n_estimators': 2036, 'num_leaves': 454, 'max_depth': 8, 'min_child_samples': 129, 'learning_rate': 0.002894587839590413, 'boosting_type': 'gbdt'}. \u001b[0m\n",
      "\u001b[32m[I 2023-05-09 21:19:45,448]\u001b[0m Trial 29 finished with values: [0.0, 0.0] and parameters: {'n_estimators': 98, 'num_leaves': 290, 'max_depth': 11, 'min_child_samples': 188, 'learning_rate': 0.0033530829994679423, 'boosting_type': 'gbdt'}. \u001b[0m\n",
      "\u001b[32m[I 2023-05-09 21:20:06,261]\u001b[0m Trial 30 finished with values: [0.19172241514271493, 0.7026101535160656] and parameters: {'n_estimators': 2046, 'num_leaves': 124, 'max_depth': 10, 'min_child_samples': 83, 'learning_rate': 0.005310103659033032, 'boosting_type': 'gbdt'}. \u001b[0m\n",
      "\u001b[32m[I 2023-05-09 21:20:18,723]\u001b[0m Trial 31 finished with values: [0.0, 0.0] and parameters: {'n_estimators': 2356, 'num_leaves': 12, 'max_depth': 7, 'min_child_samples': 49, 'learning_rate': 0.00014362316108354497, 'boosting_type': 'gbdt'}. \u001b[0m\n",
      "\u001b[32m[I 2023-05-09 21:20:27,311]\u001b[0m Trial 32 finished with values: [0.17809961123715845, 0.66263917377903] and parameters: {'n_estimators': 1397, 'num_leaves': 224, 'max_depth': 5, 'min_child_samples': 83, 'learning_rate': 0.0028325550390592143, 'boosting_type': 'gbdt'}. \u001b[0m\n",
      "\u001b[32m[I 2023-05-09 21:20:33,629]\u001b[0m Trial 33 finished with values: [0.17565461435733418, 0.6466016956914057] and parameters: {'n_estimators': 1078, 'num_leaves': 233, 'max_depth': 5, 'min_child_samples': 157, 'learning_rate': 0.0026397169749371565, 'boosting_type': 'gbdt'}. \u001b[0m\n",
      "\u001b[32m[I 2023-05-09 21:20:38,460]\u001b[0m Trial 34 finished with values: [0.03137592393975835, 0.20740976958701124] and parameters: {'n_estimators': 1284, 'num_leaves': 112, 'max_depth': 3, 'min_child_samples': 162, 'learning_rate': 0.0004977599138136326, 'boosting_type': 'gbdt'}. \u001b[0m\n",
      "\u001b[32m[I 2023-05-09 21:20:44,593]\u001b[0m Trial 35 finished with values: [0.0396037275761988, 0.3057112374755545] and parameters: {'n_estimators': 793, 'num_leaves': 461, 'max_depth': 5, 'min_child_samples': 5, 'learning_rate': 0.0006107495620396468, 'boosting_type': 'gbdt'}. \u001b[0m\n",
      "\u001b[32m[I 2023-05-09 21:20:50,142]\u001b[0m Trial 36 finished with values: [0.15048018937667776, 0.6178297471267107] and parameters: {'n_estimators': 711, 'num_leaves': 464, 'max_depth': 5, 'min_child_samples': 5, 'learning_rate': 0.0018330577241171503, 'boosting_type': 'gbdt'}. \u001b[0m\n",
      "\u001b[32m[I 2023-05-09 21:20:57,796]\u001b[0m Trial 37 finished with values: [0.04452345255149408, 0.3287653416036649] and parameters: {'n_estimators': 739, 'num_leaves': 706, 'max_depth': 6, 'min_child_samples': 5, 'learning_rate': 0.0006495829432731589, 'boosting_type': 'gbdt'}. \u001b[0m\n",
      "\u001b[32m[I 2023-05-09 21:21:24,774]\u001b[0m Trial 38 finished with values: [0.18252906553265644, 0.6841186789523246] and parameters: {'n_estimators': 2994, 'num_leaves': 711, 'max_depth': 7, 'min_child_samples': 42, 'learning_rate': 0.001962386229432805, 'boosting_type': 'gbdt'}. \u001b[0m\n",
      "\u001b[32m[I 2023-05-09 21:21:37,373]\u001b[0m Trial 39 finished with values: [0.0, 0.0] and parameters: {'n_estimators': 543, 'num_leaves': 975, 'max_depth': 9, 'min_child_samples': 19, 'learning_rate': 0.0006821279853579895, 'boosting_type': 'gbdt'}. \u001b[0m\n",
      "\u001b[32m[I 2023-05-09 21:21:43,741]\u001b[0m Trial 40 finished with values: [0.1359308976834067, 0.5976607463234335] and parameters: {'n_estimators': 660, 'num_leaves': 918, 'max_depth': 6, 'min_child_samples': 13, 'learning_rate': 0.0016493014030559195, 'boosting_type': 'gbdt'}. \u001b[0m\n",
      "\u001b[32m[I 2023-05-09 21:21:59,775]\u001b[0m Trial 41 finished with values: [0.18500887185424914, 0.6868530687071603] and parameters: {'n_estimators': 1662, 'num_leaves': 887, 'max_depth': 8, 'min_child_samples': 63, 'learning_rate': 0.0032285266063597218, 'boosting_type': 'gbdt'}. \u001b[0m\n",
      "\u001b[32m[I 2023-05-09 21:22:18,196]\u001b[0m Trial 42 finished with values: [0.18190687801071065, 0.6665608711101537] and parameters: {'n_estimators': 2450, 'num_leaves': 930, 'max_depth': 6, 'min_child_samples': 38, 'learning_rate': 0.0016425349641208575, 'boosting_type': 'gbdt'}. \u001b[0m\n",
      "\u001b[32m[I 2023-05-09 21:22:19,649]\u001b[0m Trial 43 finished with values: [0.0, 0.0] and parameters: {'n_estimators': 20, 'num_leaves': 751, 'max_depth': 9, 'min_child_samples': 30, 'learning_rate': 0.002496369826718978, 'boosting_type': 'gbdt'}. \u001b[0m\n",
      "\u001b[32m[I 2023-05-09 21:22:26,838]\u001b[0m Trial 44 finished with values: [0.1813097952720673, 0.6561124578684217] and parameters: {'n_estimators': 793, 'num_leaves': 941, 'max_depth': 7, 'min_child_samples': 105, 'learning_rate': 0.004014336848880565, 'boosting_type': 'gbdt'}. \u001b[0m\n",
      "\u001b[32m[I 2023-05-09 21:22:35,782]\u001b[0m Trial 45 finished with values: [0.18280019001219797, 0.6738473702428519] and parameters: {'n_estimators': 2621, 'num_leaves': 801, 'max_depth': 3, 'min_child_samples': 20, 'learning_rate': 0.0034817051051446272, 'boosting_type': 'gbdt'}. \u001b[0m\n",
      "\u001b[32m[I 2023-05-09 21:22:49,583]\u001b[0m Trial 46 finished with values: [0.15510046568553348, 0.6191000708285826] and parameters: {'n_estimators': 1637, 'num_leaves': 699, 'max_depth': 6, 'min_child_samples': 73, 'learning_rate': 0.0008978651711482096, 'boosting_type': 'goss'}. \u001b[0m\n",
      "\u001b[32m[I 2023-05-09 21:22:59,844]\u001b[0m Trial 47 finished with values: [0.0, 0.0] and parameters: {'n_estimators': 482, 'num_leaves': 915, 'max_depth': 11, 'min_child_samples': 54, 'learning_rate': 0.00015011003221513785, 'boosting_type': 'gbdt'}. \u001b[0m\n",
      "\u001b[32m[I 2023-05-09 21:23:23,865]\u001b[0m Trial 48 finished with values: [0.1908817148497511, 0.6773291991157142] and parameters: {'n_estimators': 3873, 'num_leaves': 660, 'max_depth': 8, 'min_child_samples': 299, 'learning_rate': 0.00132659757421492, 'boosting_type': 'gbdt'}. \u001b[0m\n",
      "\u001b[32m[I 2023-05-09 21:23:28,710]\u001b[0m Trial 49 finished with values: [0.16331401303693363, 0.6260615289855209] and parameters: {'n_estimators': 946, 'num_leaves': 551, 'max_depth': 4, 'min_child_samples': 95, 'learning_rate': 0.0023454317995926562, 'boosting_type': 'gbdt'}. \u001b[0m\n",
      "\u001b[32m[I 2023-05-09 21:23:33,634]\u001b[0m Trial 50 finished with values: [0.052740545581712914, 0.3894753759714801] and parameters: {'n_estimators': 469, 'num_leaves': 776, 'max_depth': 6, 'min_child_samples': 13, 'learning_rate': 0.0015625394074501807, 'boosting_type': 'gbdt'}. \u001b[0m\n",
      "\u001b[32m[I 2023-05-09 21:23:40,800]\u001b[0m Trial 51 finished with values: [0.10069438863244977, 0.5321752177282986] and parameters: {'n_estimators': 515, 'num_leaves': 771, 'max_depth': 7, 'min_child_samples': 17, 'learning_rate': 0.0016926953765345361, 'boosting_type': 'gbdt'}. \u001b[0m\n",
      "\u001b[32m[I 2023-05-09 21:23:57,758]\u001b[0m Trial 52 finished with values: [0.17986059727468975, 0.6657691481760913] and parameters: {'n_estimators': 1675, 'num_leaves': 783, 'max_depth': 7, 'min_child_samples': 42, 'learning_rate': 0.002030225250478421, 'boosting_type': 'gbdt'}. \u001b[0m\n",
      "\u001b[32m[I 2023-05-09 21:24:19,489]\u001b[0m Trial 53 finished with values: [0.15779966518826796, 0.6374328412555144] and parameters: {'n_estimators': 1119, 'num_leaves': 652, 'max_depth': 9, 'min_child_samples': 26, 'learning_rate': 0.0015213676987189653, 'boosting_type': 'gbdt'}. \u001b[0m\n",
      "\u001b[32m[I 2023-05-09 21:24:26,920]\u001b[0m Trial 54 finished with values: [0.12438425672894346, 0.586400587882067] and parameters: {'n_estimators': 343, 'num_leaves': 747, 'max_depth': 9, 'min_child_samples': 26, 'learning_rate': 0.002921607021817532, 'boosting_type': 'gbdt'}. \u001b[0m\n",
      "\u001b[32m[I 2023-05-09 21:24:34,933]\u001b[0m Trial 55 finished with values: [0.11954595621241185, 0.5689758577721084] and parameters: {'n_estimators': 334, 'num_leaves': 738, 'max_depth': 12, 'min_child_samples': 46, 'learning_rate': 0.0028846019657855423, 'boosting_type': 'gbdt'}. \u001b[0m\n",
      "\u001b[32m[I 2023-05-09 21:25:17,852]\u001b[0m Trial 56 finished with values: [0.1804540504032447, 0.6807494758263701] and parameters: {'n_estimators': 1622, 'num_leaves': 827, 'max_depth': 10, 'min_child_samples': 16, 'learning_rate': 0.0022479120743572082, 'boosting_type': 'gbdt'}. \u001b[0m\n",
      "\u001b[32m[I 2023-05-09 21:25:24,000]\u001b[0m Trial 57 finished with values: [0.12831660573714213, 0.592416895307231] and parameters: {'n_estimators': 423, 'num_leaves': 866, 'max_depth': 8, 'min_child_samples': 59, 'learning_rate': 0.002568188285683836, 'boosting_type': 'gbdt'}. \u001b[0m\n",
      "\u001b[32m[I 2023-05-09 21:26:19,517]\u001b[0m Trial 58 finished with values: [0.16847534336948733, 0.6612519204204206] and parameters: {'n_estimators': 2004, 'num_leaves': 757, 'max_depth': 13, 'min_child_samples': 35, 'learning_rate': 0.0010435390808154702, 'boosting_type': 'gbdt'}. \u001b[0m\n",
      "\u001b[32m[I 2023-05-09 21:27:16,442]\u001b[0m Trial 59 finished with values: [0.1861743301320491, 0.6714605865628936] and parameters: {'n_estimators': 2704, 'num_leaves': 569, 'max_depth': 13, 'min_child_samples': 32, 'learning_rate': 0.0009680200403568103, 'boosting_type': 'goss'}. \u001b[0m\n",
      "\u001b[32m[I 2023-05-09 21:27:19,109]\u001b[0m Trial 60 finished with values: [0.0, 0.0] and parameters: {'n_estimators': 103, 'num_leaves': 648, 'max_depth': 9, 'min_child_samples': 23, 'learning_rate': 0.0014878372875038277, 'boosting_type': 'gbdt'}. \u001b[0m\n",
      "\u001b[32m[I 2023-05-09 21:27:41,479]\u001b[0m Trial 61 finished with values: [0.1704627608757861, 0.655394349117978] and parameters: {'n_estimators': 990, 'num_leaves': 761, 'max_depth': 11, 'min_child_samples': 42, 'learning_rate': 0.0020544616481340903, 'boosting_type': 'gbdt'}. \u001b[0m\n",
      "\u001b[32m[I 2023-05-09 21:28:11,465]\u001b[0m Trial 62 finished with values: [0.1842362595734088, 0.6916454444403939] and parameters: {'n_estimators': 2034, 'num_leaves': 806, 'max_depth': 8, 'min_child_samples': 13, 'learning_rate': 0.00314499629865615, 'boosting_type': 'gbdt'}. \u001b[0m\n",
      "\u001b[32m[I 2023-05-09 21:29:06,372]\u001b[0m Trial 63 finished with values: [0.0770499672557805, 0.45729840398572164] and parameters: {'n_estimators': 1463, 'num_leaves': 747, 'max_depth': 18, 'min_child_samples': 30, 'learning_rate': 0.0004230917695898196, 'boosting_type': 'gbdt'}. \u001b[0m\n",
      "\u001b[32m[I 2023-05-09 21:29:45,297]\u001b[0m Trial 64 finished with values: [0.13504082104016907, 0.6022642423004054] and parameters: {'n_estimators': 1179, 'num_leaves': 734, 'max_depth': 18, 'min_child_samples': 35, 'learning_rate': 0.0009279928116994508, 'boosting_type': 'gbdt'}. \u001b[0m\n",
      "\u001b[32m[I 2023-05-09 21:30:06,435]\u001b[0m Trial 65 finished with values: [0.06535293702846945, 0.40761112493773044] and parameters: {'n_estimators': 373, 'num_leaves': 893, 'max_depth': 17, 'min_child_samples': 15, 'learning_rate': 0.00135871599767505, 'boosting_type': 'gbdt'}. \u001b[0m\n",
      "\u001b[32m[I 2023-05-09 21:31:13,378]\u001b[0m Trial 66 finished with values: [0.10675539869306963, 0.5428546107835311] and parameters: {'n_estimators': 1458, 'num_leaves': 823, 'max_depth': 19, 'min_child_samples': 23, 'learning_rate': 0.0005464158823678062, 'boosting_type': 'gbdt'}. \u001b[0m\n",
      "\u001b[32m[I 2023-05-09 21:31:38,333]\u001b[0m Trial 67 finished with values: [0.1339279727496172, 0.5886823507582722] and parameters: {'n_estimators': 994, 'num_leaves': 782, 'max_depth': 15, 'min_child_samples': 47, 'learning_rate': 0.001122216666687121, 'boosting_type': 'gbdt'}. \u001b[0m\n",
      "\u001b[32m[I 2023-05-09 21:32:26,564]\u001b[0m Trial 68 finished with values: [0.188156936702833, 0.6853452363550294] and parameters: {'n_estimators': 2216, 'num_leaves': 963, 'max_depth': 14, 'min_child_samples': 60, 'learning_rate': 0.0017086182903997605, 'boosting_type': 'gbdt'}. \u001b[0m\n",
      "\u001b[32m[I 2023-05-09 21:35:10,848]\u001b[0m Trial 69 finished with values: [0.15428066931937756, 0.6397804794334919] and parameters: {'n_estimators': 4642, 'num_leaves': 687, 'max_depth': 13, 'min_child_samples': 28, 'learning_rate': 0.0003311746566884615, 'boosting_type': 'gbdt'}. \u001b[0m\n",
      "\u001b[32m[I 2023-05-09 21:35:19,490]\u001b[0m Trial 70 finished with values: [0.029817304829635176, 0.227659724433709] and parameters: {'n_estimators': 536, 'num_leaves': 668, 'max_depth': 11, 'min_child_samples': 72, 'learning_rate': 0.0008210105649395104, 'boosting_type': 'gbdt'}. \u001b[0m\n",
      "\u001b[32m[I 2023-05-09 21:35:21,708]\u001b[0m Trial 71 finished with values: [0.0, 0.0] and parameters: {'n_estimators': 68, 'num_leaves': 624, 'max_depth': 10, 'min_child_samples': 38, 'learning_rate': 0.0003875726730288312, 'boosting_type': 'gbdt'}. \u001b[0m\n",
      "\u001b[32m[I 2023-05-09 21:36:00,225]\u001b[0m Trial 72 finished with values: [0.0, 0.0] and parameters: {'n_estimators': 1665, 'num_leaves': 755, 'max_depth': 9, 'min_child_samples': 12, 'learning_rate': 7.864957039484992e-05, 'boosting_type': 'gbdt'}. \u001b[0m\n",
      "\u001b[32m[I 2023-05-09 21:36:21,950]\u001b[0m Trial 73 finished with values: [0.16787678068090842, 0.6561354267360595] and parameters: {'n_estimators': 1949, 'num_leaves': 877, 'max_depth': 7, 'min_child_samples': 27, 'learning_rate': 0.0012182437407522457, 'boosting_type': 'gbdt'}. \u001b[0m\n",
      "\u001b[32m[I 2023-05-09 21:41:11,493]\u001b[0m Trial 74 finished with values: [0.17849906041203473, 0.6689608938007507] and parameters: {'n_estimators': 3570, 'num_leaves': 727, 'max_depth': 19, 'min_child_samples': 12, 'learning_rate': 0.0006895320782413967, 'boosting_type': 'gbdt'}. \u001b[0m\n",
      "\u001b[32m[I 2023-05-09 21:41:42,641]\u001b[0m Trial 75 finished with values: [0.1877365853359629, 0.6792380342063973] and parameters: {'n_estimators': 1391, 'num_leaves': 571, 'max_depth': 17, 'min_child_samples': 55, 'learning_rate': 0.002185320136641353, 'boosting_type': 'gbdt'}. \u001b[0m\n",
      "\u001b[32m[I 2023-05-09 21:42:04,692]\u001b[0m Trial 76 finished with values: [0.17195640001944984, 0.6663987181831231] and parameters: {'n_estimators': 899, 'num_leaves': 768, 'max_depth': 12, 'min_child_samples': 40, 'learning_rate': 0.0026828952252111317, 'boosting_type': 'gbdt'}. \u001b[0m\n",
      "\u001b[32m[I 2023-05-09 21:42:11,397]\u001b[0m Trial 77 finished with values: [0.07946428671458665, 0.45710464685672586] and parameters: {'n_estimators': 460, 'num_leaves': 822, 'max_depth': 8, 'min_child_samples': 47, 'learning_rate': 0.0016009057854563654, 'boosting_type': 'gbdt'}. \u001b[0m\n",
      "\u001b[32m[I 2023-05-09 21:43:05,338]\u001b[0m Trial 78 finished with values: [0.09684504890880788, 0.5183564042773467] and parameters: {'n_estimators': 1869, 'num_leaves': 842, 'max_depth': 10, 'min_child_samples': 21, 'learning_rate': 0.0004156894679142948, 'boosting_type': 'gbdt'}. \u001b[0m\n",
      "\u001b[32m[I 2023-05-09 21:44:20,025]\u001b[0m Trial 79 finished with values: [0.1159138165303174, 0.5607403931322874] and parameters: {'n_estimators': 2793, 'num_leaves': 896, 'max_depth': 11, 'min_child_samples': 32, 'learning_rate': 0.0003230350813168339, 'boosting_type': 'gbdt'}. \u001b[0m\n",
      "\u001b[32m[I 2023-05-09 21:46:35,456]\u001b[0m Trial 80 finished with values: [0.17269418858898783, 0.6627055285850442] and parameters: {'n_estimators': 5435, 'num_leaves': 680, 'max_depth': 10, 'min_child_samples': 24, 'learning_rate': 0.00044305282730602174, 'boosting_type': 'gbdt'}. \u001b[0m\n",
      "\u001b[32m[I 2023-05-09 21:48:49,992]\u001b[0m Trial 81 finished with values: [0.18188677120208555, 0.6908229906650696] and parameters: {'n_estimators': 4748, 'num_leaves': 723, 'max_depth': 13, 'min_child_samples': 28, 'learning_rate': 0.0008693116880344301, 'boosting_type': 'gbdt'}. \u001b[0m\n",
      "\u001b[32m[I 2023-05-09 21:49:37,039]\u001b[0m Trial 82 finished with values: [0.056953262140063375, 0.3987112736268329] and parameters: {'n_estimators': 1873, 'num_leaves': 638, 'max_depth': 9, 'min_child_samples': 11, 'learning_rate': 0.00031830202919184704, 'boosting_type': 'gbdt'}. \u001b[0m\n",
      "\u001b[32m[I 2023-05-09 21:51:55,271]\u001b[0m Trial 83 finished with values: [0.15855987809827776, 0.6429057516304285] and parameters: {'n_estimators': 4966, 'num_leaves': 846, 'max_depth': 10, 'min_child_samples': 23, 'learning_rate': 0.00033317611758943604, 'boosting_type': 'gbdt'}. \u001b[0m\n",
      "\u001b[32m[I 2023-05-09 21:53:30,558]\u001b[0m Trial 84 finished with values: [0.17686991204824923, 0.6668110402516041] and parameters: {'n_estimators': 2312, 'num_leaves': 688, 'max_depth': 11, 'min_child_samples': 9, 'learning_rate': 0.0011979325331198014, 'boosting_type': 'gbdt'}. \u001b[0m\n",
      "\u001b[32m[I 2023-05-09 21:54:05,840]\u001b[0m Trial 85 finished with values: [0.0, 0.0] and parameters: {'n_estimators': 1197, 'num_leaves': 796, 'max_depth': 13, 'min_child_samples': 35, 'learning_rate': 3.119489880425543e-05, 'boosting_type': 'goss'}. \u001b[0m\n",
      "\u001b[32m[I 2023-05-09 21:54:43,135]\u001b[0m Trial 86 finished with values: [0.1351798148980105, 0.5946894372119818] and parameters: {'n_estimators': 1489, 'num_leaves': 813, 'max_depth': 14, 'min_child_samples': 46, 'learning_rate': 0.0007840631854101241, 'boosting_type': 'gbdt'}. \u001b[0m\n",
      "\u001b[32m[I 2023-05-09 21:55:37,721]\u001b[0m Trial 87 finished with values: [0.18484916661046955, 0.6943015340930162] and parameters: {'n_estimators': 4610, 'num_leaves': 736, 'max_depth': 9, 'min_child_samples': 78, 'learning_rate': 0.001459207131273496, 'boosting_type': 'gbdt'}. \u001b[0m\n",
      "\u001b[32m[I 2023-05-09 21:56:03,046]\u001b[0m Trial 88 finished with values: [0.17677244803519115, 0.6802363397834846] and parameters: {'n_estimators': 784, 'num_leaves': 751, 'max_depth': 12, 'min_child_samples': 20, 'learning_rate': 0.0036462359516839246, 'boosting_type': 'gbdt'}. \u001b[0m\n",
      "\u001b[32m[I 2023-05-09 21:56:42,994]\u001b[0m Trial 89 finished with values: [0.17587254202412766, 0.6580859842078419] and parameters: {'n_estimators': 1788, 'num_leaves': 852, 'max_depth': 15, 'min_child_samples': 63, 'learning_rate': 0.0011481072433231316, 'boosting_type': 'gbdt'}. \u001b[0m\n",
      "\u001b[32m[I 2023-05-09 21:56:48,874]\u001b[0m Trial 90 finished with values: [0.0, 0.0] and parameters: {'n_estimators': 263, 'num_leaves': 476, 'max_depth': 8, 'min_child_samples': 7, 'learning_rate': 0.0005821207459769603, 'boosting_type': 'gbdt'}. \u001b[0m\n",
      "\u001b[32m[I 2023-05-09 21:56:55,073]\u001b[0m Trial 91 finished with values: [0.0501070038576444, 0.3711003345118102] and parameters: {'n_estimators': 873, 'num_leaves': 704, 'max_depth': 5, 'min_child_samples': 30, 'learning_rate': 0.0006929991136538824, 'boosting_type': 'gbdt'}. \u001b[0m\n",
      "\u001b[32m[I 2023-05-09 21:57:21,816]\u001b[0m Trial 92 finished with values: [0.13942676077960275, 0.6081094811429864] and parameters: {'n_estimators': 1218, 'num_leaves': 777, 'max_depth': 10, 'min_child_samples': 38, 'learning_rate': 0.0009609289034680735, 'boosting_type': 'gbdt'}. \u001b[0m\n",
      "\u001b[32m[I 2023-05-09 21:58:20,622]\u001b[0m Trial 93 finished with values: [0.0706638764914576, 0.44022789056347855] and parameters: {'n_estimators': 2503, 'num_leaves': 427, 'max_depth': 9, 'min_child_samples': 20, 'learning_rate': 0.0002646476021063317, 'boosting_type': 'gbdt'}. \u001b[0m\n",
      "\u001b[32m[I 2023-05-09 21:59:00,786]\u001b[0m Trial 94 finished with values: [0.18276064738740896, 0.6936380684836643] and parameters: {'n_estimators': 3828, 'num_leaves': 568, 'max_depth': 7, 'min_child_samples': 17, 'learning_rate': 0.0018212646419102341, 'boosting_type': 'gbdt'}. \u001b[0m\n",
      "\u001b[32m[I 2023-05-09 21:59:05,502]\u001b[0m Trial 95 finished with values: [0.05452474020152528, 0.4033209167583888] and parameters: {'n_estimators': 287, 'num_leaves': 433, 'max_depth': 7, 'min_child_samples': 6, 'learning_rate': 0.0024839995306866983, 'boosting_type': 'gbdt'}. \u001b[0m\n",
      "\u001b[32m[I 2023-05-09 22:30:47,515]\u001b[0m Trial 96 finished with values: [0.0, 0.0] and parameters: {'n_estimators': 2206, 'num_leaves': 543, 'max_depth': 8, 'min_child_samples': 7, 'learning_rate': 1.1765453524727762e-05, 'boosting_type': 'gbdt'}. \u001b[0m\n",
      "\u001b[32m[I 2023-05-09 22:31:04,543]\u001b[0m Trial 97 finished with values: [0.0, 0.0] and parameters: {'n_estimators': 690, 'num_leaves': 318, 'max_depth': 11, 'min_child_samples': 29, 'learning_rate': 0.00047167509561752254, 'boosting_type': 'gbdt'}. \u001b[0m\n",
      "\u001b[32m[I 2023-05-09 22:31:09,625]\u001b[0m Trial 98 finished with values: [0.08707098213999594, 0.48376319182131455] and parameters: {'n_estimators': 246, 'num_leaves': 489, 'max_depth': 9, 'min_child_samples': 50, 'learning_rate': 0.0030124016459919943, 'boosting_type': 'gbdt'}. \u001b[0m\n",
      "\u001b[32m[I 2023-05-09 22:31:27,472]\u001b[0m Trial 99 finished with values: [0.18260281399638506, 0.6775521649245171] and parameters: {'n_estimators': 1495, 'num_leaves': 588, 'max_depth': 8, 'min_child_samples': 57, 'learning_rate': 0.002704662518113258, 'boosting_type': 'gbdt'}. \u001b[0m\n",
      "/tmp/ipykernel_78827/2727072634.py:47: FutureWarning:\n",
      "\n",
      "MOTPESampler has been deprecated in v2.9.0. This feature will be removed in v4.0.0. See https://github.com/optuna/optuna/releases/tag/v2.9.0.\n",
      "\n",
      "\u001b[32m[I 2023-05-09 22:31:27,484]\u001b[0m A new study created in memory with name: no-name-393d704a-c85c-44c3-ac55-2f62a0444e8c\u001b[0m\n"
     ]
    },
    {
     "name": "stdout",
     "output_type": "stream",
     "text": [
      "Number of finished trials:  100\n",
      "3\n"
     ]
    },
    {
     "name": "stderr",
     "output_type": "stream",
     "text": [
      "\u001b[32m[I 2023-05-09 22:32:09,103]\u001b[0m Trial 0 finished with values: [0.18262568538012144, 0.7036810097971111] and parameters: {'n_estimators': 8669, 'num_leaves': 270, 'max_depth': 4, 'min_child_samples': 17, 'learning_rate': 0.0023968541035582405, 'boosting_type': 'gbdt'}. \u001b[0m\n",
      "\u001b[32m[I 2023-05-09 22:32:41,707]\u001b[0m Trial 1 finished with values: [0.18760185283406314, 0.675392259179757] and parameters: {'n_estimators': 6022, 'num_leaves': 341, 'max_depth': 4, 'min_child_samples': 96, 'learning_rate': 0.001106140614373575, 'boosting_type': 'goss'}. \u001b[0m\n",
      "\u001b[32m[I 2023-05-09 22:33:06,122]\u001b[0m Trial 2 finished with values: [0.18182563897828635, 0.6694234991309532] and parameters: {'n_estimators': 3011, 'num_leaves': 522, 'max_depth': 15, 'min_child_samples': 280, 'learning_rate': 0.0010298606581265368, 'boosting_type': 'gbdt'}. \u001b[0m\n",
      "\u001b[32m[I 2023-05-09 22:33:42,594]\u001b[0m Trial 3 finished with values: [0.2067847398168028, 0.6441838099474957] and parameters: {'n_estimators': 5600, 'num_leaves': 596, 'max_depth': 16, 'min_child_samples': 248, 'learning_rate': 0.001265458676682977, 'boosting_type': 'goss'}. \u001b[0m\n",
      "\u001b[32m[I 2023-05-09 22:34:16,812]\u001b[0m Trial 4 finished with values: [0.18765658347281716, 0.6815817744522674] and parameters: {'n_estimators': 7318, 'num_leaves': 308, 'max_depth': 3, 'min_child_samples': 53, 'learning_rate': 0.0013464245883280741, 'boosting_type': 'goss'}. \u001b[0m\n",
      "\u001b[32m[I 2023-05-09 22:35:28,307]\u001b[0m Trial 5 finished with values: [0.19669166191939583, 0.678212369840735] and parameters: {'n_estimators': 9848, 'num_leaves': 409, 'max_depth': 6, 'min_child_samples': 69, 'learning_rate': 0.008440164525171262, 'boosting_type': 'goss'}. \u001b[0m\n",
      "\u001b[32m[I 2023-05-09 22:36:43,746]\u001b[0m Trial 6 finished with values: [0.188379612232569, 0.6810234639882965] and parameters: {'n_estimators': 7079, 'num_leaves': 840, 'max_depth': 16, 'min_child_samples': 226, 'learning_rate': 0.0022569255919427204, 'boosting_type': 'gbdt'}. \u001b[0m\n",
      "\u001b[32m[I 2023-05-09 22:37:29,152]\u001b[0m Trial 7 finished with values: [0.1860845795396341, 0.6981761414202738] and parameters: {'n_estimators': 8705, 'num_leaves': 615, 'max_depth': 5, 'min_child_samples': 66, 'learning_rate': 0.004368571371480081, 'boosting_type': 'gbdt'}. \u001b[0m\n",
      "\u001b[32m[I 2023-05-09 22:37:55,542]\u001b[0m Trial 8 finished with values: [0.19966219674194194, 0.6385687842120213] and parameters: {'n_estimators': 5186, 'num_leaves': 690, 'max_depth': 6, 'min_child_samples': 281, 'learning_rate': 0.008214430261519088, 'boosting_type': 'goss'}. \u001b[0m\n",
      "\u001b[32m[I 2023-05-09 22:41:43,501]\u001b[0m Trial 9 finished with values: [0.19821819524808806, 0.6672400733074907] and parameters: {'n_estimators': 9251, 'num_leaves': 788, 'max_depth': 12, 'min_child_samples': 25, 'learning_rate': 0.006339685340779402, 'boosting_type': 'gbdt'}. \u001b[0m\n",
      "\u001b[32m[I 2023-05-09 22:42:59,074]\u001b[0m Trial 10 finished with values: [0.1951417543352519, 0.6742815799099499] and parameters: {'n_estimators': 8159, 'num_leaves': 188, 'max_depth': 18, 'min_child_samples': 218, 'learning_rate': 0.0088644122090224, 'boosting_type': 'gbdt'}. \u001b[0m\n",
      "\u001b[32m[I 2023-05-09 22:43:48,545]\u001b[0m Trial 11 finished with values: [0.197614770805213, 0.6666496545542754] and parameters: {'n_estimators': 7706, 'num_leaves': 513, 'max_depth': 12, 'min_child_samples': 186, 'learning_rate': 0.0030653776083827715, 'boosting_type': 'goss'}. \u001b[0m\n",
      "\u001b[32m[I 2023-05-09 22:44:15,653]\u001b[0m Trial 12 finished with values: [0.1795387496953511, 0.6929033870634476] and parameters: {'n_estimators': 6506, 'num_leaves': 83, 'max_depth': 4, 'min_child_samples': 53, 'learning_rate': 0.0019756436972196054, 'boosting_type': 'gbdt'}. \u001b[0m\n",
      "\u001b[32m[I 2023-05-09 22:44:37,154]\u001b[0m Trial 13 finished with values: [0.19674287456755302, 0.6710290821846325] and parameters: {'n_estimators': 3236, 'num_leaves': 199, 'max_depth': 18, 'min_child_samples': 151, 'learning_rate': 0.008520291388769283, 'boosting_type': 'goss'}. \u001b[0m\n",
      "\u001b[32m[I 2023-05-09 22:45:25,238]\u001b[0m Trial 14 finished with values: [0.2030984104617349, 0.6519259281928651] and parameters: {'n_estimators': 8703, 'num_leaves': 606, 'max_depth': 7, 'min_child_samples': 228, 'learning_rate': 0.008041734121344844, 'boosting_type': 'goss'}. \u001b[0m\n",
      "\u001b[32m[I 2023-05-09 22:46:15,849]\u001b[0m Trial 15 finished with values: [0.20142706004477437, 0.6359686392308911] and parameters: {'n_estimators': 9866, 'num_leaves': 378, 'max_depth': 9, 'min_child_samples': 277, 'learning_rate': 0.008145576041736057, 'boosting_type': 'goss'}. \u001b[0m\n",
      "\u001b[32m[I 2023-05-09 22:47:48,513]\u001b[0m Trial 16 finished with values: [0.19388864925497304, 0.6881856533286879] and parameters: {'n_estimators': 9178, 'num_leaves': 75, 'max_depth': 13, 'min_child_samples': 116, 'learning_rate': 0.0036332408424696247, 'boosting_type': 'gbdt'}. \u001b[0m\n",
      "\u001b[32m[I 2023-05-09 22:48:30,292]\u001b[0m Trial 17 finished with values: [0.19269311735005687, 0.6886827404180622] and parameters: {'n_estimators': 3453, 'num_leaves': 998, 'max_depth': 14, 'min_child_samples': 133, 'learning_rate': 0.005626473417133713, 'boosting_type': 'gbdt'}. \u001b[0m\n",
      "\u001b[32m[I 2023-05-09 22:49:39,845]\u001b[0m Trial 18 finished with values: [0.18632063965988355, 0.6794696702496328] and parameters: {'n_estimators': 8011, 'num_leaves': 855, 'max_depth': 20, 'min_child_samples': 240, 'learning_rate': 0.0017763132406298004, 'boosting_type': 'gbdt'}. \u001b[0m\n",
      "\u001b[32m[I 2023-05-09 22:50:12,570]\u001b[0m Trial 19 finished with values: [0.19805980441150334, 0.6430819445570835] and parameters: {'n_estimators': 6372, 'num_leaves': 162, 'max_depth': 8, 'min_child_samples': 251, 'learning_rate': 0.006781371539104441, 'boosting_type': 'goss'}. \u001b[0m\n",
      "\u001b[32m[I 2023-05-09 22:50:24,257]\u001b[0m Trial 20 finished with values: [0.194634911615229, 0.6806379025242071] and parameters: {'n_estimators': 1307, 'num_leaves': 375, 'max_depth': 20, 'min_child_samples': 107, 'learning_rate': 0.009886861463350211, 'boosting_type': 'goss'}. \u001b[0m\n",
      "\u001b[32m[I 2023-05-09 22:50:35,252]\u001b[0m Trial 21 finished with values: [0.1379625868531022, 0.5930661627835535] and parameters: {'n_estimators': 4497, 'num_leaves': 70, 'max_depth': 2, 'min_child_samples': 33, 'learning_rate': 0.0004165224156703045, 'boosting_type': 'gbdt'}. \u001b[0m\n",
      "\u001b[32m[I 2023-05-09 22:50:38,069]\u001b[0m Trial 22 finished with values: [0.0, 0.0] and parameters: {'n_estimators': 820, 'num_leaves': 12, 'max_depth': 2, 'min_child_samples': 40, 'learning_rate': 9.793940006456742e-05, 'boosting_type': 'gbdt'}. \u001b[0m\n",
      "\u001b[32m[I 2023-05-09 22:51:57,332]\u001b[0m Trial 23 finished with values: [0.0, 0.0] and parameters: {'n_estimators': 4256, 'num_leaves': 93, 'max_depth': 9, 'min_child_samples': 5, 'learning_rate': 9.45698865465151e-05, 'boosting_type': 'gbdt'}. \u001b[0m\n",
      "\u001b[32m[I 2023-05-09 22:52:02,121]\u001b[0m Trial 24 finished with values: [0.15877267265924794, 0.6442603985785509] and parameters: {'n_estimators': 2002, 'num_leaves': 27, 'max_depth': 2, 'min_child_samples': 83, 'learning_rate': 0.0034177571044390325, 'boosting_type': 'gbdt'}. \u001b[0m\n",
      "\u001b[32m[I 2023-05-09 22:52:07,548]\u001b[0m Trial 25 finished with values: [0.1664933976098661, 0.655991795743894] and parameters: {'n_estimators': 2008, 'num_leaves': 21, 'max_depth': 2, 'min_child_samples': 85, 'learning_rate': 0.004475126658990074, 'boosting_type': 'gbdt'}. \u001b[0m\n",
      "\u001b[32m[I 2023-05-09 22:52:08,650]\u001b[0m Trial 26 finished with values: [0.0, 0.0] and parameters: {'n_estimators': 67, 'num_leaves': 246, 'max_depth': 2, 'min_child_samples': 178, 'learning_rate': 0.0047730127647030995, 'boosting_type': 'gbdt'}. \u001b[0m\n",
      "\u001b[32m[I 2023-05-09 22:53:07,851]\u001b[0m Trial 27 finished with values: [0.18796935653020833, 0.6913902106231216] and parameters: {'n_estimators': 4323, 'num_leaves': 159, 'max_depth': 10, 'min_child_samples': 33, 'learning_rate': 0.00400420624849091, 'boosting_type': 'gbdt'}. \u001b[0m\n",
      "\u001b[32m[I 2023-05-09 22:53:22,418]\u001b[0m Trial 28 finished with values: [0.18428998284711445, 0.6848699474181867] and parameters: {'n_estimators': 2045, 'num_leaves': 110, 'max_depth': 7, 'min_child_samples': 134, 'learning_rate': 0.002894587839590413, 'boosting_type': 'gbdt'}. \u001b[0m\n",
      "\u001b[32m[I 2023-05-09 22:53:41,894]\u001b[0m Trial 29 finished with values: [0.18648424579602907, 0.7014696242494434] and parameters: {'n_estimators': 4190, 'num_leaves': 998, 'max_depth': 5, 'min_child_samples': 87, 'learning_rate': 0.005187280782469216, 'boosting_type': 'gbdt'}. \u001b[0m\n",
      "\u001b[32m[I 2023-05-09 22:53:51,767]\u001b[0m Trial 30 finished with values: [0.172473742608065, 0.6793491343224511] and parameters: {'n_estimators': 2449, 'num_leaves': 273, 'max_depth': 4, 'min_child_samples': 11, 'learning_rate': 0.0025681131748203543, 'boosting_type': 'gbdt'}. \u001b[0m\n",
      "\u001b[32m[I 2023-05-09 22:54:00,489]\u001b[0m Trial 31 finished with values: [0.1764597527671129, 0.6792324471145708] and parameters: {'n_estimators': 2479, 'num_leaves': 229, 'max_depth': 3, 'min_child_samples': 11, 'learning_rate': 0.0034487185933005965, 'boosting_type': 'gbdt'}. \u001b[0m\n",
      "\u001b[32m[I 2023-05-09 22:54:16,107]\u001b[0m Trial 32 finished with values: [0.1781475918448216, 0.6911522703201843] and parameters: {'n_estimators': 4799, 'num_leaves': 451, 'max_depth': 3, 'min_child_samples': 39, 'learning_rate': 0.0028836378435769974, 'boosting_type': 'gbdt'}. \u001b[0m\n",
      "\u001b[32m[I 2023-05-09 22:54:23,857]\u001b[0m Trial 33 finished with values: [0.09122755722869824, 0.5130826106197003] and parameters: {'n_estimators': 1271, 'num_leaves': 143, 'max_depth': 5, 'min_child_samples': 71, 'learning_rate': 0.000683120475072495, 'boosting_type': 'gbdt'}. \u001b[0m\n",
      "\u001b[32m[I 2023-05-09 22:54:38,139]\u001b[0m Trial 34 finished with values: [0.08691255259762118, 0.5035317134802308] and parameters: {'n_estimators': 1222, 'num_leaves': 137, 'max_depth': 8, 'min_child_samples': 67, 'learning_rate': 0.0006309872245832094, 'boosting_type': 'gbdt'}. \u001b[0m\n",
      "\u001b[32m[I 2023-05-09 22:54:39,263]\u001b[0m Trial 35 finished with values: [0.0, 0.0] and parameters: {'n_estimators': 61, 'num_leaves': 13, 'max_depth': 11, 'min_child_samples': 115, 'learning_rate': 0.0006382228769799715, 'boosting_type': 'gbdt'}. \u001b[0m\n",
      "\u001b[32m[I 2023-05-09 22:54:51,630]\u001b[0m Trial 36 finished with values: [0.13242043123869807, 0.5974567813563565] and parameters: {'n_estimators': 749, 'num_leaves': 444, 'max_depth': 10, 'min_child_samples': 56, 'learning_rate': 0.001585940654045912, 'boosting_type': 'gbdt'}. \u001b[0m\n",
      "\u001b[32m[I 2023-05-09 22:54:58,664]\u001b[0m Trial 37 finished with values: [0.0995155957132367, 0.49009236457531336] and parameters: {'n_estimators': 550, 'num_leaves': 452, 'max_depth': 10, 'min_child_samples': 180, 'learning_rate': 0.0015802967208674132, 'boosting_type': 'gbdt'}. \u001b[0m\n",
      "\u001b[32m[I 2023-05-09 22:55:15,529]\u001b[0m Trial 38 finished with values: [0.17372373571686697, 0.6741527098509529] and parameters: {'n_estimators': 1459, 'num_leaves': 312, 'max_depth': 8, 'min_child_samples': 56, 'learning_rate': 0.0023265531578653613, 'boosting_type': 'gbdt'}. \u001b[0m\n",
      "\u001b[32m[I 2023-05-09 22:55:42,206]\u001b[0m Trial 39 finished with values: [0.18608982095048318, 0.6835464216019778] and parameters: {'n_estimators': 2656, 'num_leaves': 554, 'max_depth': 11, 'min_child_samples': 156, 'learning_rate': 0.0017947502958237166, 'boosting_type': 'gbdt'}. \u001b[0m\n",
      "\u001b[32m[I 2023-05-09 22:55:52,675]\u001b[0m Trial 40 finished with values: [0.07559792565872195, 0.47049471216554917] and parameters: {'n_estimators': 745, 'num_leaves': 436, 'max_depth': 9, 'min_child_samples': 78, 'learning_rate': 0.0009026789359421486, 'boosting_type': 'gbdt'}. \u001b[0m\n",
      "\u001b[32m[I 2023-05-09 22:55:58,559]\u001b[0m Trial 41 finished with values: [0.04051384269571331, 0.3456778671665518] and parameters: {'n_estimators': 706, 'num_leaves': 472, 'max_depth': 6, 'min_child_samples': 74, 'learning_rate': 0.0006746979611448227, 'boosting_type': 'gbdt'}. \u001b[0m\n",
      "\u001b[32m[I 2023-05-09 22:56:07,601]\u001b[0m Trial 42 finished with values: [0.07830223210970814, 0.4736308121865104] and parameters: {'n_estimators': 629, 'num_leaves': 450, 'max_depth': 10, 'min_child_samples': 100, 'learning_rate': 0.0011176619604616905, 'boosting_type': 'gbdt'}. \u001b[0m\n",
      "\u001b[32m[I 2023-05-09 22:56:49,585]\u001b[0m Trial 43 finished with values: [0.19221888807330098, 0.6866685722030211] and parameters: {'n_estimators': 3701, 'num_leaves': 672, 'max_depth': 12, 'min_child_samples': 131, 'learning_rate': 0.001585722101564757, 'boosting_type': 'gbdt'}. \u001b[0m\n",
      "\u001b[32m[I 2023-05-09 22:57:14,558]\u001b[0m Trial 44 finished with values: [0.1749670671268472, 0.6844752467786106] and parameters: {'n_estimators': 1767, 'num_leaves': 473, 'max_depth': 9, 'min_child_samples': 46, 'learning_rate': 0.002551968019872197, 'boosting_type': 'gbdt'}. \u001b[0m\n",
      "\u001b[32m[I 2023-05-09 22:57:23,536]\u001b[0m Trial 45 finished with values: [0.1358161326169067, 0.6185305167506417] and parameters: {'n_estimators': 721, 'num_leaves': 395, 'max_depth': 7, 'min_child_samples': 21, 'learning_rate': 0.0020173285111883513, 'boosting_type': 'gbdt'}. \u001b[0m\n",
      "\u001b[32m[I 2023-05-09 22:57:32,096]\u001b[0m Trial 46 finished with values: [0.0, 0.0] and parameters: {'n_estimators': 1059, 'num_leaves': 399, 'max_depth': 6, 'min_child_samples': 74, 'learning_rate': 0.00034643013477425946, 'boosting_type': 'gbdt'}. \u001b[0m\n",
      "\u001b[32m[I 2023-05-09 22:57:36,489]\u001b[0m Trial 47 finished with values: [0.0, 0.0] and parameters: {'n_estimators': 339, 'num_leaves': 553, 'max_depth': 7, 'min_child_samples': 24, 'learning_rate': 0.0006360126440287646, 'boosting_type': 'gbdt'}. \u001b[0m\n",
      "\u001b[32m[I 2023-05-09 22:57:47,166]\u001b[0m Trial 48 finished with values: [0.13020722522330702, 0.5941439487732441] and parameters: {'n_estimators': 1609, 'num_leaves': 338, 'max_depth': 5, 'min_child_samples': 77, 'learning_rate': 0.000850305587204272, 'boosting_type': 'gbdt'}. \u001b[0m\n",
      "\u001b[32m[I 2023-05-09 22:57:53,588]\u001b[0m Trial 49 finished with values: [0.0, 0.0] and parameters: {'n_estimators': 964, 'num_leaves': 650, 'max_depth': 7, 'min_child_samples': 93, 'learning_rate': 5.0549107228422966e-05, 'boosting_type': 'gbdt'}. \u001b[0m\n",
      "\u001b[32m[I 2023-05-09 22:58:10,710]\u001b[0m Trial 50 finished with values: [0.17223556003286644, 0.6823930716310028] and parameters: {'n_estimators': 2405, 'num_leaves': 308, 'max_depth': 6, 'min_child_samples': 23, 'learning_rate': 0.002050033616311332, 'boosting_type': 'gbdt'}. \u001b[0m\n",
      "\u001b[32m[I 2023-05-09 22:58:13,721]\u001b[0m Trial 51 finished with values: [0.04371672972207362, 0.3677740916905198] and parameters: {'n_estimators': 260, 'num_leaves': 356, 'max_depth': 6, 'min_child_samples': 23, 'learning_rate': 0.0019681350363436943, 'boosting_type': 'gbdt'}. \u001b[0m\n",
      "\u001b[32m[I 2023-05-09 22:58:49,139]\u001b[0m Trial 52 finished with values: [0.16908123828757426, 0.6638685088748012] and parameters: {'n_estimators': 2816, 'num_leaves': 301, 'max_depth': 8, 'min_child_samples': 46, 'learning_rate': 0.00097596503398935, 'boosting_type': 'gbdt'}. \u001b[0m\n",
      "\u001b[32m[I 2023-05-09 22:58:59,362]\u001b[0m Trial 53 finished with values: [0.16165638143112174, 0.6563960252093411] and parameters: {'n_estimators': 1596, 'num_leaves': 489, 'max_depth': 5, 'min_child_samples': 30, 'learning_rate': 0.002013548633278097, 'boosting_type': 'gbdt'}. \u001b[0m\n",
      "\u001b[32m[I 2023-05-09 22:59:53,853]\u001b[0m Trial 54 finished with values: [0.17892144596190046, 0.6839249190414914] and parameters: {'n_estimators': 2197, 'num_leaves': 421, 'max_depth': 9, 'min_child_samples': 6, 'learning_rate': 0.001517418576154713, 'boosting_type': 'gbdt'}. \u001b[0m\n",
      "\u001b[32m[I 2023-05-09 22:59:58,508]\u001b[0m Trial 55 finished with values: [0.04587985158109191, 0.3743558706381104] and parameters: {'n_estimators': 408, 'num_leaves': 726, 'max_depth': 7, 'min_child_samples': 43, 'learning_rate': 0.00136560819626617, 'boosting_type': 'gbdt'}. \u001b[0m\n",
      "\u001b[32m[I 2023-05-09 23:00:07,026]\u001b[0m Trial 56 finished with values: [0.11662390868050074, 0.5332912522067301] and parameters: {'n_estimators': 1222, 'num_leaves': 555, 'max_depth': 6, 'min_child_samples': 204, 'learning_rate': 0.000882960120159228, 'boosting_type': 'gbdt'}. \u001b[0m\n",
      "\u001b[32m[I 2023-05-09 23:00:18,537]\u001b[0m Trial 57 finished with values: [0.1710121353817184, 0.6606816941522388] and parameters: {'n_estimators': 1007, 'num_leaves': 237, 'max_depth': 8, 'min_child_samples': 61, 'learning_rate': 0.0021025214083709148, 'boosting_type': 'goss'}. \u001b[0m\n",
      "\u001b[32m[I 2023-05-09 23:00:30,339]\u001b[0m Trial 58 finished with values: [0.17101692984138137, 0.6804607469437147] and parameters: {'n_estimators': 1820, 'num_leaves': 399, 'max_depth': 5, 'min_child_samples': 16, 'learning_rate': 0.002613503111612563, 'boosting_type': 'gbdt'}. \u001b[0m\n",
      "\u001b[32m[I 2023-05-09 23:00:40,091]\u001b[0m Trial 59 finished with values: [0.1749734893410494, 0.6680688670719914] and parameters: {'n_estimators': 1745, 'num_leaves': 760, 'max_depth': 5, 'min_child_samples': 104, 'learning_rate': 0.0026894058120283944, 'boosting_type': 'gbdt'}. \u001b[0m\n",
      "\u001b[32m[I 2023-05-09 23:00:46,272]\u001b[0m Trial 60 finished with values: [0.0690026852912107, 0.4500353916324637] and parameters: {'n_estimators': 530, 'num_leaves': 726, 'max_depth': 7, 'min_child_samples': 43, 'learning_rate': 0.0013061514329535335, 'boosting_type': 'gbdt'}. \u001b[0m\n",
      "\u001b[32m[I 2023-05-09 23:00:50,019]\u001b[0m Trial 61 finished with values: [0.021894467765325415, 0.1457128699711738] and parameters: {'n_estimators': 294, 'num_leaves': 939, 'max_depth': 7, 'min_child_samples': 48, 'learning_rate': 0.0014320450875733378, 'boosting_type': 'gbdt'}. \u001b[0m\n",
      "\u001b[32m[I 2023-05-09 23:00:54,312]\u001b[0m Trial 62 finished with values: [0.0, 0.0] and parameters: {'n_estimators': 446, 'num_leaves': 959, 'max_depth': 7, 'min_child_samples': 149, 'learning_rate': 0.00037232960024223246, 'boosting_type': 'gbdt'}. \u001b[0m\n",
      "\u001b[32m[I 2023-05-09 23:00:59,866]\u001b[0m Trial 63 finished with values: [0.13591094778442084, 0.6026279211688741] and parameters: {'n_estimators': 1200, 'num_leaves': 524, 'max_depth': 4, 'min_child_samples': 121, 'learning_rate': 0.0013189585041212632, 'boosting_type': 'gbdt'}. \u001b[0m\n",
      "\u001b[32m[I 2023-05-09 23:01:04,804]\u001b[0m Trial 64 finished with values: [0.026113696432598303, 0.19011441435628443] and parameters: {'n_estimators': 788, 'num_leaves': 902, 'max_depth': 5, 'min_child_samples': 163, 'learning_rate': 0.0006111190514970167, 'boosting_type': 'gbdt'}. \u001b[0m\n",
      "\u001b[32m[I 2023-05-09 23:01:15,294]\u001b[0m Trial 65 finished with values: [0.12454554760455902, 0.5955182896474083] and parameters: {'n_estimators': 1579, 'num_leaves': 638, 'max_depth': 5, 'min_child_samples': 17, 'learning_rate': 0.0007781617382102966, 'boosting_type': 'gbdt'}. \u001b[0m\n",
      "\u001b[32m[I 2023-05-09 23:01:21,732]\u001b[0m Trial 66 finished with values: [0.11971751890716953, 0.5504229036603292] and parameters: {'n_estimators': 1770, 'num_leaves': 644, 'max_depth': 3, 'min_child_samples': 37, 'learning_rate': 0.0005825839286602607, 'boosting_type': 'gbdt'}. \u001b[0m\n",
      "\u001b[32m[I 2023-05-09 23:01:45,527]\u001b[0m Trial 67 finished with values: [0.13359672080754473, 0.61062603091114] and parameters: {'n_estimators': 3709, 'num_leaves': 691, 'max_depth': 5, 'min_child_samples': 18, 'learning_rate': 0.0003883334274184752, 'boosting_type': 'gbdt'}. \u001b[0m\n",
      "\u001b[32m[I 2023-05-09 23:01:52,141]\u001b[0m Trial 68 finished with values: [0.0, 0.0] and parameters: {'n_estimators': 1429, 'num_leaves': 813, 'max_depth': 4, 'min_child_samples': 60, 'learning_rate': 4.282525263105488e-05, 'boosting_type': 'gbdt'}. \u001b[0m\n",
      "\u001b[32m[I 2023-05-09 23:02:01,854]\u001b[0m Trial 69 finished with values: [0.1468373518575606, 0.6160929433587923] and parameters: {'n_estimators': 2947, 'num_leaves': 582, 'max_depth': 3, 'min_child_samples': 165, 'learning_rate': 0.000789138604102814, 'boosting_type': 'gbdt'}. \u001b[0m\n",
      "\u001b[32m[I 2023-05-09 23:02:08,081]\u001b[0m Trial 70 finished with values: [0.05605605157755704, 0.40820045260451215] and parameters: {'n_estimators': 557, 'num_leaves': 907, 'max_depth': 6, 'min_child_samples': 14, 'learning_rate': 0.0012025125739045495, 'boosting_type': 'goss'}. \u001b[0m\n",
      "\u001b[32m[I 2023-05-09 23:02:13,792]\u001b[0m Trial 71 finished with values: [0.06796199564266367, 0.3750503913171022] and parameters: {'n_estimators': 934, 'num_leaves': 486, 'max_depth': 5, 'min_child_samples': 205, 'learning_rate': 0.0007991042035500306, 'boosting_type': 'gbdt'}. \u001b[0m\n",
      "\u001b[32m[I 2023-05-09 23:02:15,941]\u001b[0m Trial 72 finished with values: [0.0, 0.0] and parameters: {'n_estimators': 187, 'num_leaves': 735, 'max_depth': 6, 'min_child_samples': 92, 'learning_rate': 0.001746592703540337, 'boosting_type': 'gbdt'}. \u001b[0m\n",
      "\u001b[32m[I 2023-05-09 23:02:26,975]\u001b[0m Trial 73 finished with values: [0.0, 0.0] and parameters: {'n_estimators': 774, 'num_leaves': 576, 'max_depth': 8, 'min_child_samples': 31, 'learning_rate': 0.0003131979486559195, 'boosting_type': 'gbdt'}. \u001b[0m\n",
      "\u001b[32m[I 2023-05-09 23:02:35,329]\u001b[0m Trial 74 finished with values: [0.1478608962327796, 0.568501966993006] and parameters: {'n_estimators': 1376, 'num_leaves': 879, 'max_depth': 5, 'min_child_samples': 299, 'learning_rate': 0.0011126440954899017, 'boosting_type': 'goss'}. \u001b[0m\n",
      "\u001b[32m[I 2023-05-09 23:02:51,322]\u001b[0m Trial 75 finished with values: [0.18136258802086344, 0.6860669962139087] and parameters: {'n_estimators': 2278, 'num_leaves': 382, 'max_depth': 7, 'min_child_samples': 142, 'learning_rate': 0.002291492970886181, 'boosting_type': 'gbdt'}. \u001b[0m\n",
      "\u001b[32m[I 2023-05-09 23:02:59,869]\u001b[0m Trial 76 finished with values: [0.15478590690717195, 0.6505739416137397] and parameters: {'n_estimators': 1836, 'num_leaves': 641, 'max_depth': 4, 'min_child_samples': 69, 'learning_rate': 0.0017596665787804233, 'boosting_type': 'gbdt'}. \u001b[0m\n",
      "\u001b[32m[I 2023-05-09 23:03:05,331]\u001b[0m Trial 77 finished with values: [0.04569910581587694, 0.3755068997287497] and parameters: {'n_estimators': 1098, 'num_leaves': 722, 'max_depth': 4, 'min_child_samples': 72, 'learning_rate': 0.0007201257582033678, 'boosting_type': 'gbdt'}. \u001b[0m\n",
      "\u001b[32m[I 2023-05-09 23:03:12,598]\u001b[0m Trial 78 finished with values: [0.14767585449602, 0.628912761234149] and parameters: {'n_estimators': 1527, 'num_leaves': 632, 'max_depth': 4, 'min_child_samples': 48, 'learning_rate': 0.0016461174555813833, 'boosting_type': 'gbdt'}. \u001b[0m\n",
      "\u001b[32m[I 2023-05-09 23:03:13,649]\u001b[0m Trial 79 finished with values: [0.0, 0.0] and parameters: {'n_estimators': 25, 'num_leaves': 763, 'max_depth': 3, 'min_child_samples': 65, 'learning_rate': 0.001122988497293549, 'boosting_type': 'gbdt'}. \u001b[0m\n",
      "\u001b[32m[I 2023-05-09 23:03:19,524]\u001b[0m Trial 80 finished with values: [0.05477138279683973, 0.40345539525496427] and parameters: {'n_estimators': 510, 'num_leaves': 666, 'max_depth': 6, 'min_child_samples': 11, 'learning_rate': 0.0013112535696927466, 'boosting_type': 'goss'}. \u001b[0m\n",
      "\u001b[32m[I 2023-05-09 23:03:30,434]\u001b[0m Trial 81 finished with values: [0.10941535736952486, 0.5423217777745775] and parameters: {'n_estimators': 2041, 'num_leaves': 678, 'max_depth': 4, 'min_child_samples': 28, 'learning_rate': 0.00047875504910350043, 'boosting_type': 'goss'}. \u001b[0m\n",
      "\u001b[32m[I 2023-05-09 23:03:41,906]\u001b[0m Trial 82 finished with values: [0.0, 0.0] and parameters: {'n_estimators': 1229, 'num_leaves': 659, 'max_depth': 6, 'min_child_samples': 9, 'learning_rate': 0.00021012038642171326, 'boosting_type': 'gbdt'}. \u001b[0m\n",
      "\u001b[32m[I 2023-05-09 23:03:45,762]\u001b[0m Trial 83 finished with values: [0.04408440619879643, 0.3675709525030212] and parameters: {'n_estimators': 445, 'num_leaves': 628, 'max_depth': 5, 'min_child_samples': 38, 'learning_rate': 0.0013503573317414429, 'boosting_type': 'goss'}. \u001b[0m\n",
      "\u001b[32m[I 2023-05-09 23:03:52,933]\u001b[0m Trial 84 finished with values: [0.045695264350877764, 0.3771926875934624] and parameters: {'n_estimators': 1504, 'num_leaves': 713, 'max_depth': 4, 'min_child_samples': 80, 'learning_rate': 0.000554346358079756, 'boosting_type': 'gbdt'}. \u001b[0m\n",
      "\u001b[32m[I 2023-05-09 23:04:18,465]\u001b[0m Trial 85 finished with values: [0.1591333110641075, 0.656898239505167] and parameters: {'n_estimators': 2753, 'num_leaves': 799, 'max_depth': 6, 'min_child_samples': 15, 'learning_rate': 0.0009491980056387842, 'boosting_type': 'gbdt'}. \u001b[0m\n",
      "\u001b[32m[I 2023-05-09 23:04:45,024]\u001b[0m Trial 86 finished with values: [0.05874583825060007, 0.41756090727208883] and parameters: {'n_estimators': 2720, 'num_leaves': 798, 'max_depth': 6, 'min_child_samples': 15, 'learning_rate': 0.00026255003374419566, 'boosting_type': 'goss'}. \u001b[0m\n",
      "\u001b[32m[I 2023-05-09 23:04:52,443]\u001b[0m Trial 87 finished with values: [0.08269785346967531, 0.4907005079620058] and parameters: {'n_estimators': 974, 'num_leaves': 758, 'max_depth': 5, 'min_child_samples': 5, 'learning_rate': 0.0008674013505782672, 'boosting_type': 'gbdt'}. \u001b[0m\n",
      "\u001b[32m[I 2023-05-09 23:05:12,345]\u001b[0m Trial 88 finished with values: [0.15064546749317104, 0.6448023590534585] and parameters: {'n_estimators': 2192, 'num_leaves': 833, 'max_depth': 6, 'min_child_samples': 16, 'learning_rate': 0.0009639204038967713, 'boosting_type': 'gbdt'}. \u001b[0m\n",
      "\u001b[32m[I 2023-05-09 23:05:23,322]\u001b[0m Trial 89 finished with values: [0.13828690753311834, 0.5961598218799976] and parameters: {'n_estimators': 3253, 'num_leaves': 703, 'max_depth': 3, 'min_child_samples': 33, 'learning_rate': 0.0004998284247168561, 'boosting_type': 'gbdt'}. \u001b[0m\n",
      "\u001b[32m[I 2023-05-09 23:05:28,008]\u001b[0m Trial 90 finished with values: [0.04598909322706514, 0.37647551890756337] and parameters: {'n_estimators': 391, 'num_leaves': 748, 'max_depth': 7, 'min_child_samples': 52, 'learning_rate': 0.0014135025641362564, 'boosting_type': 'gbdt'}. \u001b[0m\n",
      "\u001b[32m[I 2023-05-09 23:05:33,397]\u001b[0m Trial 91 finished with values: [0.0, 0.0] and parameters: {'n_estimators': 602, 'num_leaves': 929, 'max_depth': 6, 'min_child_samples': 44, 'learning_rate': 0.000657829125022397, 'boosting_type': 'gbdt'}. \u001b[0m\n",
      "\u001b[32m[I 2023-05-09 23:05:39,623]\u001b[0m Trial 92 finished with values: [0.11854687652963473, 0.5714233285897092] and parameters: {'n_estimators': 858, 'num_leaves': 209, 'max_depth': 5, 'min_child_samples': 21, 'learning_rate': 0.0011533423452552967, 'boosting_type': 'gbdt'}. \u001b[0m\n",
      "\u001b[32m[I 2023-05-09 23:06:39,150]\u001b[0m Trial 93 finished with values: [0.11975597366985369, 0.5874803527984965] and parameters: {'n_estimators': 5207, 'num_leaves': 788, 'max_depth': 7, 'min_child_samples': 29, 'learning_rate': 0.00020446379290095117, 'boosting_type': 'gbdt'}. \u001b[0m\n",
      "\u001b[32m[I 2023-05-09 23:07:57,640]\u001b[0m Trial 94 finished with values: [0.12974399571248973, 0.592613955728946] and parameters: {'n_estimators': 5553, 'num_leaves': 913, 'max_depth': 8, 'min_child_samples': 64, 'learning_rate': 0.00022302443680403332, 'boosting_type': 'gbdt'}. \u001b[0m\n",
      "\u001b[32m[I 2023-05-09 23:09:01,446]\u001b[0m Trial 95 finished with values: [0.1794201104926741, 0.7001537936679275] and parameters: {'n_estimators': 6953, 'num_leaves': 875, 'max_depth': 7, 'min_child_samples': 57, 'learning_rate': 0.001846561794824125, 'boosting_type': 'gbdt'}. \u001b[0m\n",
      "\u001b[32m[I 2023-05-09 23:10:29,046]\u001b[0m Trial 96 finished with values: [0.0, 0.0] and parameters: {'n_estimators': 6961, 'num_leaves': 863, 'max_depth': 7, 'min_child_samples': 72, 'learning_rate': 1.2389558853360418e-05, 'boosting_type': 'goss'}. \u001b[0m\n",
      "\u001b[32m[I 2023-05-09 23:11:35,376]\u001b[0m Trial 97 finished with values: [0.18355832147831763, 0.6957296979098284] and parameters: {'n_estimators': 6281, 'num_leaves': 884, 'max_depth': 8, 'min_child_samples': 59, 'learning_rate': 0.0018198831039608807, 'boosting_type': 'gbdt'}. \u001b[0m\n",
      "\u001b[32m[I 2023-05-09 23:12:20,732]\u001b[0m Trial 98 finished with values: [0.17838221880794922, 0.6931415826965927] and parameters: {'n_estimators': 4773, 'num_leaves': 779, 'max_depth': 7, 'min_child_samples': 49, 'learning_rate': 0.0013935938861172454, 'boosting_type': 'gbdt'}. \u001b[0m\n",
      "\u001b[32m[I 2023-05-09 23:13:09,693]\u001b[0m Trial 99 finished with values: [0.1483734759520944, 0.6238321842811625] and parameters: {'n_estimators': 5471, 'num_leaves': 823, 'max_depth': 7, 'min_child_samples': 110, 'learning_rate': 0.0003047734238133424, 'boosting_type': 'gbdt'}. \u001b[0m\n"
     ]
    },
    {
     "name": "stdout",
     "output_type": "stream",
     "text": [
      "Number of finished trials:  100\n"
     ]
    }
   ],
   "source": [
    "seed = 128\n",
    "num_variables = 2\n",
    "n_startup_trials = 11 * num_variables - 1\n",
    "directions = ['minimize', 'maximize']\n",
    "results = []\n",
    "\n",
    "for sim in [0,1,2,3]:\n",
    "    print(sim)\n",
    "    def objective(trial):\n",
    "\n",
    "        (X_train, X_test, y_train, y_test, A_train, A_test) = train_test_split(\n",
    "        X_raw, y, A, test_size=0.8, random_state=sim, stratify=y\n",
    "        )\n",
    "\n",
    "        X_train = X_train.reset_index(drop=True)\n",
    "        X_test = X_test.reset_index(drop=True)\n",
    "        y_train = y_train.reset_index(drop=True)\n",
    "        y_test = y_test.reset_index(drop=True)\n",
    "        A_train = A_train.reset_index(drop=True)\n",
    "        A_test = A_test.reset_index(drop=True)\n",
    "\n",
    "\n",
    "        params = {\n",
    "            'n_estimators': trial.suggest_int(\"n_estimators\", 20, 10000),\n",
    "            'num_leaves': trial.suggest_int(\"num_leaves\", 10, 1000),\n",
    "            'max_depth': trial.suggest_int(\"max_depth\", 2, 20),\n",
    "            'min_child_samples': trial.suggest_int(\"min_child_samples\", 5, 300),\n",
    "            'learning_rate': trial.suggest_float('learning_rate', 1e-5, 1e-2),\n",
    "            'boosting_type': trial.suggest_categorical(\"boosting_type\", ['goss', 'gbdt'])\n",
    "            }\n",
    "        pipeline['classifier'].set_params(**params)\n",
    "\n",
    "        scores = cross_validate(\n",
    "                pipeline, \n",
    "                X_train,\n",
    "                y_train, \n",
    "                cv=5,\n",
    "                scoring = metric_scorer_v3,\n",
    "                return_train_score=True)\n",
    "\n",
    "        #fair_metric = scores['test_eod'].mean()\n",
    "        fair_metric = scores['test_dpd'].mean()\n",
    "        model_metric = scores['test_f1_score'].mean()\n",
    "\n",
    "        return fair_metric, model_metric\n",
    "    \n",
    "    #sampler = optuna.samplers.MOTPESampler(\n",
    "    #    n_startup_trials=n_startup_trials, n_ehvi_candidates=24, seed=seed\n",
    "    #    )\n",
    "    sampler = optuna.samplers.TPESampler()  # `MOTPESampler` used to be required for multi-objective optimization.\n",
    "    study = optuna.create_study(directions=directions, pruner=optuna.pruners.SuccessiveHalvingPruner(), sampler = sampler)\n",
    "    study.optimize(objective, n_trials=100)\n",
    "    print(\"Number of finished trials: \", len(study.trials))\n",
    "    results.append(study)\n",
    "    #return fair_metric"
   ]
  },
  {
   "cell_type": "code",
   "execution_count": 32,
   "metadata": {},
   "outputs": [],
   "source": [
    "#directions = ['minimize', 'maximize']\n",
    "#directions = 'minimize'\n",
    "#study = optuna.create_study(\n",
    "#    direction=directions, \n",
    "#    pruner=optuna.pruners.SuccessiveHalvingPruner(), \n",
    "#    sampler=optuna.samplers.TPESampler()\n",
    "#    )\n",
    "\n",
    "\n",
    "#sampler = optuna.samplers.MOTPESampler(\n",
    "#    n_startup_trials=n_startup_trials, n_ehvi_candidates=24, seed=seed\n",
    "#)\n",
    "#study = optuna.create_study(directions=directions, pruner=optuna.pruners.SuccessiveHalvingPruner(), sampler = sampler)\n",
    "#study.optimize(objective, n_trials=100)\n",
    "\n",
    "#print(\"Number of finished trials: \", len(study.trials))"
   ]
  },
  {
   "cell_type": "code",
   "execution_count": 35,
   "metadata": {},
   "outputs": [
    {
     "name": "stdout",
     "output_type": "stream",
     "text": [
      "Object successfully saved to \"f1-dpd-lgbm-motpe-succesivehalving-100trials-4sim.pkl\"\n"
     ]
    }
   ],
   "source": [
    "import dill\n",
    "file_name = 'f1-dpd-lgbm-motpe-succesivehalving-100trials-4sim.pkl'\n",
    "#f1-eod-lgbm-succesivehalving-30trails.pkl\n",
    "with open(file_name, 'wb') as file:\n",
    "    dill.dump(results, file)\n",
    "    print(f'Object successfully saved to \"{file_name}\"')"
   ]
  },
  {
   "cell_type": "code",
   "execution_count": 29,
   "metadata": {},
   "outputs": [
    {
     "data": {
      "application/vnd.plotly.v1+json": {
       "config": {
        "plotlyServerURL": "https://plot.ly"
       },
       "data": [
        {
         "hovertemplate": "%{text}<extra>Trial</extra>",
         "marker": {
          "color": [
           1,
           2,
           3,
           4,
           5,
           6,
           7,
           8,
           9,
           10,
           11,
           13,
           14,
           15,
           16,
           17,
           18,
           19,
           20,
           27,
           28,
           29,
           31,
           35,
           36,
           39,
           41,
           43,
           44,
           45,
           46,
           47,
           48,
           50,
           51,
           52,
           53,
           55,
           56,
           57,
           60,
           61,
           62,
           65,
           67,
           68,
           69,
           71,
           72,
           73,
           74,
           77,
           78,
           79,
           81,
           82,
           84,
           86,
           87,
           88,
           89,
           90,
           91,
           92,
           94,
           96,
           97,
           98
          ],
          "colorbar": {
           "title": {
            "text": "Trial"
           }
          },
          "colorscale": [
           [
            0,
            "rgb(247,251,255)"
           ],
           [
            0.125,
            "rgb(222,235,247)"
           ],
           [
            0.25,
            "rgb(198,219,239)"
           ],
           [
            0.375,
            "rgb(158,202,225)"
           ],
           [
            0.5,
            "rgb(107,174,214)"
           ],
           [
            0.625,
            "rgb(66,146,198)"
           ],
           [
            0.75,
            "rgb(33,113,181)"
           ],
           [
            0.875,
            "rgb(8,81,156)"
           ],
           [
            1,
            "rgb(8,48,107)"
           ]
          ],
          "line": {
           "color": "Grey",
           "width": 0.5
          }
         },
         "mode": "markers",
         "showlegend": false,
         "text": [
          "{<br>  \"number\": 1,<br>  \"values\": [<br>    0.16946543223805613,<br>    0.6870970713186922<br>  ],<br>  \"params\": {<br>    \"n_estimators\": 6022,<br>    \"num_leaves\": 341,<br>    \"max_depth\": 4,<br>    \"min_child_samples\": 96,<br>    \"learning_rate\": 0.001106140614373575,<br>    \"boosting_type\": \"goss\"<br>  }<br>}",
          "{<br>  \"number\": 2,<br>  \"values\": [<br>    0.16887289800036642,<br>    0.6801285892010412<br>  ],<br>  \"params\": {<br>    \"n_estimators\": 3011,<br>    \"num_leaves\": 522,<br>    \"max_depth\": 15,<br>    \"min_child_samples\": 280,<br>    \"learning_rate\": 0.0010298606581265368,<br>    \"boosting_type\": \"gbdt\"<br>  }<br>}",
          "{<br>  \"number\": 3,<br>  \"values\": [<br>    0.1852654708347008,<br>    0.6588125267304845<br>  ],<br>  \"params\": {<br>    \"n_estimators\": 5600,<br>    \"num_leaves\": 596,<br>    \"max_depth\": 16,<br>    \"min_child_samples\": 248,<br>    \"learning_rate\": 0.001265458676682977,<br>    \"boosting_type\": \"goss\"<br>  }<br>}",
          "{<br>  \"number\": 4,<br>  \"values\": [<br>    0.16891404049388364,<br>    0.6915410827972301<br>  ],<br>  \"params\": {<br>    \"n_estimators\": 7318,<br>    \"num_leaves\": 308,<br>    \"max_depth\": 3,<br>    \"min_child_samples\": 53,<br>    \"learning_rate\": 0.0013464245883280741,<br>    \"boosting_type\": \"goss\"<br>  }<br>}",
          "{<br>  \"number\": 5,<br>  \"values\": [<br>    0.17946028878690332,<br>    0.6877410492403462<br>  ],<br>  \"params\": {<br>    \"n_estimators\": 9848,<br>    \"num_leaves\": 409,<br>    \"max_depth\": 6,<br>    \"min_child_samples\": 69,<br>    \"learning_rate\": 0.008440164525171262,<br>    \"boosting_type\": \"goss\"<br>  }<br>}",
          "{<br>  \"number\": 6,<br>  \"values\": [<br>    0.17779939943452583,<br>    0.692430058656781<br>  ],<br>  \"params\": {<br>    \"n_estimators\": 7079,<br>    \"num_leaves\": 840,<br>    \"max_depth\": 16,<br>    \"min_child_samples\": 226,<br>    \"learning_rate\": 0.0022569255919427204,<br>    \"boosting_type\": \"gbdt\"<br>  }<br>}",
          "{<br>  \"number\": 7,<br>  \"values\": [<br>    0.18004298123725485,<br>    0.709229772958372<br>  ],<br>  \"params\": {<br>    \"n_estimators\": 8705,<br>    \"num_leaves\": 615,<br>    \"max_depth\": 5,<br>    \"min_child_samples\": 66,<br>    \"learning_rate\": 0.004368571371480081,<br>    \"boosting_type\": \"gbdt\"<br>  }<br>}",
          "{<br>  \"number\": 8,<br>  \"values\": [<br>    0.18514861975242158,<br>    0.653645375325222<br>  ],<br>  \"params\": {<br>    \"n_estimators\": 5186,<br>    \"num_leaves\": 690,<br>    \"max_depth\": 6,<br>    \"min_child_samples\": 281,<br>    \"learning_rate\": 0.008214430261519088,<br>    \"boosting_type\": \"goss\"<br>  }<br>}",
          "{<br>  \"number\": 9,<br>  \"values\": [<br>    0.19210932399555153,<br>    0.6783989064144558<br>  ],<br>  \"params\": {<br>    \"n_estimators\": 9251,<br>    \"num_leaves\": 788,<br>    \"max_depth\": 12,<br>    \"min_child_samples\": 25,<br>    \"learning_rate\": 0.006339685340779402,<br>    \"boosting_type\": \"gbdt\"<br>  }<br>}",
          "{<br>  \"number\": 10,<br>  \"values\": [<br>    0.18097029632871414,<br>    0.6862401062406734<br>  ],<br>  \"params\": {<br>    \"n_estimators\": 8159,<br>    \"num_leaves\": 188,<br>    \"max_depth\": 18,<br>    \"min_child_samples\": 218,<br>    \"learning_rate\": 0.0088644122090224,<br>    \"boosting_type\": \"gbdt\"<br>  }<br>}",
          "{<br>  \"number\": 11,<br>  \"values\": [<br>    0.18350901705002687,<br>    0.6783126931776595<br>  ],<br>  \"params\": {<br>    \"n_estimators\": 7706,<br>    \"num_leaves\": 513,<br>    \"max_depth\": 12,<br>    \"min_child_samples\": 186,<br>    \"learning_rate\": 0.0030653776083827715,<br>    \"boosting_type\": \"goss\"<br>  }<br>}",
          "{<br>  \"number\": 13,<br>  \"values\": [<br>    0.18204680182678096,<br>    0.6843016511457365<br>  ],<br>  \"params\": {<br>    \"n_estimators\": 3236,<br>    \"num_leaves\": 199,<br>    \"max_depth\": 18,<br>    \"min_child_samples\": 151,<br>    \"learning_rate\": 0.008520291388769283,<br>    \"boosting_type\": \"goss\"<br>  }<br>}",
          "{<br>  \"number\": 14,<br>  \"values\": [<br>    0.1804257967660096,<br>    0.6661533521341866<br>  ],<br>  \"params\": {<br>    \"n_estimators\": 8703,<br>    \"num_leaves\": 606,<br>    \"max_depth\": 7,<br>    \"min_child_samples\": 228,<br>    \"learning_rate\": 0.008041734121344844,<br>    \"boosting_type\": \"goss\"<br>  }<br>}",
          "{<br>  \"number\": 15,<br>  \"values\": [<br>    0.18722060885874567,<br>    0.6554281328406621<br>  ],<br>  \"params\": {<br>    \"n_estimators\": 9866,<br>    \"num_leaves\": 378,<br>    \"max_depth\": 9,<br>    \"min_child_samples\": 277,<br>    \"learning_rate\": 0.008145576041736057,<br>    \"boosting_type\": \"goss\"<br>  }<br>}",
          "{<br>  \"number\": 16,<br>  \"values\": [<br>    0.18857346189319377,<br>    0.6981146247644515<br>  ],<br>  \"params\": {<br>    \"n_estimators\": 9178,<br>    \"num_leaves\": 75,<br>    \"max_depth\": 13,<br>    \"min_child_samples\": 116,<br>    \"learning_rate\": 0.0036332408424696247,<br>    \"boosting_type\": \"gbdt\"<br>  }<br>}",
          "{<br>  \"number\": 17,<br>  \"values\": [<br>    0.18201698518898665,<br>    0.7025826395161132<br>  ],<br>  \"params\": {<br>    \"n_estimators\": 3453,<br>    \"num_leaves\": 998,<br>    \"max_depth\": 14,<br>    \"min_child_samples\": 133,<br>    \"learning_rate\": 0.005626473417133713,<br>    \"boosting_type\": \"gbdt\"<br>  }<br>}",
          "{<br>  \"number\": 18,<br>  \"values\": [<br>    0.17559074027730245,<br>    0.6905898232142602<br>  ],<br>  \"params\": {<br>    \"n_estimators\": 8011,<br>    \"num_leaves\": 855,<br>    \"max_depth\": 20,<br>    \"min_child_samples\": 240,<br>    \"learning_rate\": 0.0017763132406298004,<br>    \"boosting_type\": \"gbdt\"<br>  }<br>}",
          "{<br>  \"number\": 19,<br>  \"values\": [<br>    0.18242220597869646,<br>    0.6643641643942482<br>  ],<br>  \"params\": {<br>    \"n_estimators\": 6372,<br>    \"num_leaves\": 162,<br>    \"max_depth\": 8,<br>    \"min_child_samples\": 251,<br>    \"learning_rate\": 0.006781371539104441,<br>    \"boosting_type\": \"goss\"<br>  }<br>}",
          "{<br>  \"number\": 20,<br>  \"values\": [<br>    0.18123585620122823,<br>    0.6943887824402678<br>  ],<br>  \"params\": {<br>    \"n_estimators\": 1307,<br>    \"num_leaves\": 375,<br>    \"max_depth\": 20,<br>    \"min_child_samples\": 107,<br>    \"learning_rate\": 0.009886861463350211,<br>    \"boosting_type\": \"goss\"<br>  }<br>}",
          "{<br>  \"number\": 27,<br>  \"values\": [<br>    0.18216915502462147,<br>    0.708125795989041<br>  ],<br>  \"params\": {<br>    \"n_estimators\": 4418,<br>    \"num_leaves\": 147,<br>    \"max_depth\": 10,<br>    \"min_child_samples\": 140,<br>    \"learning_rate\": 0.004012467603607511,<br>    \"boosting_type\": \"gbdt\"<br>  }<br>}",
          "{<br>  \"number\": 28,<br>  \"values\": [<br>    0.16666702877053957,<br>    0.6904428863128069<br>  ],<br>  \"params\": {<br>    \"n_estimators\": 2158,<br>    \"num_leaves\": 111,<br>    \"max_depth\": 7,<br>    \"min_child_samples\": 191,<br>    \"learning_rate\": 0.002894587839590413,<br>    \"boosting_type\": \"gbdt\"<br>  }<br>}",
          "{<br>  \"number\": 29,<br>  \"values\": [<br>    0.18070395522703392,<br>    0.7008741804251699<br>  ],<br>  \"params\": {<br>    \"n_estimators\": 4214,<br>    \"num_leaves\": 236,<br>    \"max_depth\": 10,<br>    \"min_child_samples\": 160,<br>    \"learning_rate\": 0.0051975851478357265,<br>    \"boosting_type\": \"gbdt\"<br>  }<br>}",
          "{<br>  \"number\": 31,<br>  \"values\": [<br>    0.1593282594864242,<br>    0.6724962810032445<br>  ],<br>  \"params\": {<br>    \"n_estimators\": 2106,<br>    \"num_leaves\": 130,<br>    \"max_depth\": 4,<br>    \"min_child_samples\": 49,<br>    \"learning_rate\": 0.0019428082307150225,<br>    \"boosting_type\": \"gbdt\"<br>  }<br>}",
          "{<br>  \"number\": 35,<br>  \"values\": [<br>    0.15940413029995035,<br>    0.674594477407155<br>  ],<br>  \"params\": {<br>    \"n_estimators\": 2605,<br>    \"num_leaves\": 294,<br>    \"max_depth\": 3,<br>    \"min_child_samples\": 115,<br>    \"learning_rate\": 0.002849546015321875,<br>    \"boosting_type\": \"gbdt\"<br>  }<br>}",
          "{<br>  \"number\": 36,<br>  \"values\": [<br>    0.16456225687609877,<br>    0.6952952974428424<br>  ],<br>  \"params\": {<br>    \"n_estimators\": 5270,<br>    \"num_leaves\": 988,<br>    \"max_depth\": 5,<br>    \"min_child_samples\": 66,<br>    \"learning_rate\": 0.0014672518798490319,<br>    \"boosting_type\": \"gbdt\"<br>  }<br>}",
          "{<br>  \"number\": 39,<br>  \"values\": [<br>    0.1779620982425351,<br>    0.7048143740252513<br>  ],<br>  \"params\": {<br>    \"n_estimators\": 5301,<br>    \"num_leaves\": 727,<br>    \"max_depth\": 7,<br>    \"min_child_samples\": 96,<br>    \"learning_rate\": 0.0034072557332835655,<br>    \"boosting_type\": \"gbdt\"<br>  }<br>}",
          "{<br>  \"number\": 41,<br>  \"values\": [<br>    0.16567485325414327,<br>    0.6731176515234113<br>  ],<br>  \"params\": {<br>    \"n_estimators\": 706,<br>    \"num_leaves\": 175,<br>    \"max_depth\": 8,<br>    \"min_child_samples\": 203,<br>    \"learning_rate\": 0.004094261112057261,<br>    \"boosting_type\": \"gbdt\"<br>  }<br>}",
          "{<br>  \"number\": 43,<br>  \"values\": [<br>    0.1707435543401245,<br>    0.6842914342738478<br>  ],<br>  \"params\": {<br>    \"n_estimators\": 936,<br>    \"num_leaves\": 452,<br>    \"max_depth\": 18,<br>    \"min_child_samples\": 169,<br>    \"learning_rate\": 0.003288999307343761,<br>    \"boosting_type\": \"gbdt\"<br>  }<br>}",
          "{<br>  \"number\": 44,<br>  \"values\": [<br>    0.1803224723859196,<br>    0.7052628632554112<br>  ],<br>  \"params\": {<br>    \"n_estimators\": 1511,<br>    \"num_leaves\": 465,<br>    \"max_depth\": 14,<br>    \"min_child_samples\": 136,<br>    \"learning_rate\": 0.004461896091927999,<br>    \"boosting_type\": \"gbdt\"<br>  }<br>}",
          "{<br>  \"number\": 45,<br>  \"values\": [<br>    0.1565816363043829,<br>    0.6557530790172563<br>  ],<br>  \"params\": {<br>    \"n_estimators\": 465,<br>    \"num_leaves\": 909,<br>    \"max_depth\": 11,<br>    \"min_child_samples\": 206,<br>    \"learning_rate\": 0.0036402676267309666,<br>    \"boosting_type\": \"gbdt\"<br>  }<br>}",
          "{<br>  \"number\": 46,<br>  \"values\": [<br>    0.17532887935585612,<br>    0.7002325478140344<br>  ],<br>  \"params\": {<br>    \"n_estimators\": 1160,<br>    \"num_leaves\": 560,<br>    \"max_depth\": 16,<br>    \"min_child_samples\": 169,<br>    \"learning_rate\": 0.005266664048469278,<br>    \"boosting_type\": \"gbdt\"<br>  }<br>}",
          "{<br>  \"number\": 47,<br>  \"values\": [<br>    0.17360056072911703,<br>    0.6932522764494805<br>  ],<br>  \"params\": {<br>    \"n_estimators\": 1779,<br>    \"num_leaves\": 687,<br>    \"max_depth\": 13,<br>    \"min_child_samples\": 297,<br>    \"learning_rate\": 0.003884176162210048,<br>    \"boosting_type\": \"gbdt\"<br>  }<br>}",
          "{<br>  \"number\": 48,<br>  \"values\": [<br>    0.17481153172731562,<br>    0.6780321513617975<br>  ],<br>  \"params\": {<br>    \"n_estimators\": 551,<br>    \"num_leaves\": 743,<br>    \"max_depth\": 19,<br>    \"min_child_samples\": 124,<br>    \"learning_rate\": 0.004701557931204675,<br>    \"boosting_type\": \"goss\"<br>  }<br>}",
          "{<br>  \"number\": 50,<br>  \"values\": [<br>    0.17764865305544447,<br>    0.7020390049786503<br>  ],<br>  \"params\": {<br>    \"n_estimators\": 1041,<br>    \"num_leaves\": 321,<br>    \"max_depth\": 14,<br>    \"min_child_samples\": 146,<br>    \"learning_rate\": 0.005836974582819427,<br>    \"boosting_type\": \"gbdt\"<br>  }<br>}",
          "{<br>  \"number\": 51,<br>  \"values\": [<br>    0.16074767991887856,<br>    0.6578520531887253<br>  ],<br>  \"params\": {<br>    \"n_estimators\": 581,<br>    \"num_leaves\": 418,<br>    \"max_depth\": 10,<br>    \"min_child_samples\": 204,<br>    \"learning_rate\": 0.003072950946501221,<br>    \"boosting_type\": \"gbdt\"<br>  }<br>}",
          "{<br>  \"number\": 52,<br>  \"values\": [<br>    0.17721781191310731,<br>    0.7023881552018307<br>  ],<br>  \"params\": {<br>    \"n_estimators\": 2339,<br>    \"num_leaves\": 675,<br>    \"max_depth\": 12,<br>    \"min_child_samples\": 158,<br>    \"learning_rate\": 0.004330842179432858,<br>    \"boosting_type\": \"gbdt\"<br>  }<br>}",
          "{<br>  \"number\": 53,<br>  \"values\": [<br>    0.1695496936523823,<br>    0.6774037215391766<br>  ],<br>  \"params\": {<br>    \"n_estimators\": 1779,<br>    \"num_leaves\": 267,<br>    \"max_depth\": 15,<br>    \"min_child_samples\": 262,<br>    \"learning_rate\": 0.0015665561715908615,<br>    \"boosting_type\": \"gbdt\"<br>  }<br>}",
          "{<br>  \"number\": 55,<br>  \"values\": [<br>    0.16764718053014935,<br>    0.6724040754870682<br>  ],<br>  \"params\": {<br>    \"n_estimators\": 1329,<br>    \"num_leaves\": 413,<br>    \"max_depth\": 9,<br>    \"min_child_samples\": 218,<br>    \"learning_rate\": 0.0020268598693890887,<br>    \"boosting_type\": \"gbdt\"<br>  }<br>}",
          "{<br>  \"number\": 56,<br>  \"values\": [<br>    0.1435885407313915,<br>    0.6257248873263298<br>  ],<br>  \"params\": {<br>    \"n_estimators\": 945,<br>    \"num_leaves\": 564,<br>    \"max_depth\": 17,<br>    \"min_child_samples\": 182,<br>    \"learning_rate\": 0.0013913810760764534,<br>    \"boosting_type\": \"gbdt\"<br>  }<br>}",
          "{<br>  \"number\": 57,<br>  \"values\": [<br>    0.1515806178293876,<br>    0.6404547708911095<br>  ],<br>  \"params\": {<br>    \"n_estimators\": 1676,<br>    \"num_leaves\": 642,<br>    \"max_depth\": 13,<br>    \"min_child_samples\": 126,<br>    \"learning_rate\": 0.0008810507162699535,<br>    \"boosting_type\": \"goss\"<br>  }<br>}",
          "{<br>  \"number\": 60,<br>  \"values\": [<br>    0.1576648546169874,<br>    0.6428269183236394<br>  ],<br>  \"params\": {<br>    \"n_estimators\": 385,<br>    \"num_leaves\": 58,<br>    \"max_depth\": 10,<br>    \"min_child_samples\": 269,<br>    \"learning_rate\": 0.004904024186035449,<br>    \"boosting_type\": \"gbdt\"<br>  }<br>}",
          "{<br>  \"number\": 61,<br>  \"values\": [<br>    0.16620455145686192,<br>    0.6942459981171865<br>  ],<br>  \"params\": {<br>    \"n_estimators\": 1143,<br>    \"num_leaves\": 939,<br>    \"max_depth\": 9,<br>    \"min_child_samples\": 101,<br>    \"learning_rate\": 0.0037522794461515227,<br>    \"boosting_type\": \"gbdt\"<br>  }<br>}",
          "{<br>  \"number\": 62,<br>  \"values\": [<br>    0.16059802003188534,<br>    0.6524334410710415<br>  ],<br>  \"params\": {<br>    \"n_estimators\": 521,<br>    \"num_leaves\": 126,<br>    \"max_depth\": 8,<br>    \"min_child_samples\": 294,<br>    \"learning_rate\": 0.004005752649181364,<br>    \"boosting_type\": \"gbdt\"<br>  }<br>}",
          "{<br>  \"number\": 65,<br>  \"values\": [<br>    0.17659840678091904,<br>    0.6991052618947554<br>  ],<br>  \"params\": {<br>    \"n_estimators\": 1364,<br>    \"num_leaves\": 808,<br>    \"max_depth\": 9,<br>    \"min_child_samples\": 145,<br>    \"learning_rate\": 0.004597375467527423,<br>    \"boosting_type\": \"gbdt\"<br>  }<br>}",
          "{<br>  \"number\": 67,<br>  \"values\": [<br>    0.15422748302029554,<br>    0.6422397653488955<br>  ],<br>  \"params\": {<br>    \"n_estimators\": 439,<br>    \"num_leaves\": 649,<br>    \"max_depth\": 10,<br>    \"min_child_samples\": 194,<br>    \"learning_rate\": 0.0034754560935016587,<br>    \"boosting_type\": \"gbdt\"<br>  }<br>}",
          "{<br>  \"number\": 68,<br>  \"values\": [<br>    0.1574630600845512,<br>    0.6460405719063889<br>  ],<br>  \"params\": {<br>    \"n_estimators\": 765,<br>    \"num_leaves\": 230,<br>    \"max_depth\": 12,<br>    \"min_child_samples\": 128,<br>    \"learning_rate\": 0.0021518640261858923,<br>    \"boosting_type\": \"goss\"<br>  }<br>}",
          "{<br>  \"number\": 69,<br>  \"values\": [<br>    0.17893931633905175,<br>    0.704459740890556<br>  ],<br>  \"params\": {<br>    \"n_estimators\": 2538,<br>    \"num_leaves\": 538,<br>    \"max_depth\": 11,<br>    \"min_child_samples\": 161,<br>    \"learning_rate\": 0.004211863102470212,<br>    \"boosting_type\": \"gbdt\"<br>  }<br>}",
          "{<br>  \"number\": 71,<br>  \"values\": [<br>    0.17967939167386798,<br>    0.6727243615913394<br>  ],<br>  \"params\": {<br>    \"n_estimators\": 825,<br>    \"num_leaves\": 54,<br>    \"max_depth\": 10,<br>    \"min_child_samples\": 168,<br>    \"learning_rate\": 0.00446999606091923,<br>    \"boosting_type\": \"goss\"<br>  }<br>}",
          "{<br>  \"number\": 72,<br>  \"values\": [<br>    0.17070286806464194,<br>    0.6886772002478685<br>  ],<br>  \"params\": {<br>    \"n_estimators\": 1142,<br>    \"num_leaves\": 151,<br>    \"max_depth\": 9,<br>    \"min_child_samples\": 241,<br>    \"learning_rate\": 0.0038210465383160374,<br>    \"boosting_type\": \"gbdt\"<br>  }<br>}",
          "{<br>  \"number\": 73,<br>  \"values\": [<br>    0.16959570797149573,<br>    0.6784003210404939<br>  ],<br>  \"params\": {<br>    \"n_estimators\": 611,<br>    \"num_leaves\": 111,<br>    \"max_depth\": 12,<br>    \"min_child_samples\": 260,<br>    \"learning_rate\": 0.0048271535587347675,<br>    \"boosting_type\": \"gbdt\"<br>  }<br>}",
          "{<br>  \"number\": 74,<br>  \"values\": [<br>    0.17447370561193257,<br>    0.6954432043268949<br>  ],<br>  \"params\": {<br>    \"n_estimators\": 3752,<br>    \"num_leaves\": 49,<br>    \"max_depth\": 11,<br>    \"min_child_samples\": 230,<br>    \"learning_rate\": 0.004134425415364974,<br>    \"boosting_type\": \"gbdt\"<br>  }<br>}",
          "{<br>  \"number\": 77,<br>  \"values\": [<br>    0.16569697688970958,<br>    0.6756037735432157<br>  ],<br>  \"params\": {<br>    \"n_estimators\": 421,<br>    \"num_leaves\": 193,<br>    \"max_depth\": 13,<br>    \"min_child_samples\": 119,<br>    \"learning_rate\": 0.005137177567589275,<br>    \"boosting_type\": \"gbdt\"<br>  }<br>}",
          "{<br>  \"number\": 78,<br>  \"values\": [<br>    0.1729518899476194,<br>    0.6908507013541264<br>  ],<br>  \"params\": {<br>    \"n_estimators\": 1700,<br>    \"num_leaves\": 270,<br>    \"max_depth\": 10,<br>    \"min_child_samples\": 211,<br>    \"learning_rate\": 0.0036337255130929062,<br>    \"boosting_type\": \"gbdt\"<br>  }<br>}",
          "{<br>  \"number\": 79,<br>  \"values\": [<br>    0.14522101542560256,<br>    0.6283615824725264<br>  ],<br>  \"params\": {<br>    \"n_estimators\": 316,<br>    \"num_leaves\": 143,<br>    \"max_depth\": 11,<br>    \"min_child_samples\": 105,<br>    \"learning_rate\": 0.004217765396248264,<br>    \"boosting_type\": \"goss\"<br>  }<br>}",
          "{<br>  \"number\": 81,<br>  \"values\": [<br>    0.15702111602560181,<br>    0.6537303881310708<br>  ],<br>  \"params\": {<br>    \"n_estimators\": 700,<br>    \"num_leaves\": 202,<br>    \"max_depth\": 9,<br>    \"min_child_samples\": 148,<br>    \"learning_rate\": 0.0023427071399147468,<br>    \"boosting_type\": \"gbdt\"<br>  }<br>}",
          "{<br>  \"number\": 82,<br>  \"values\": [<br>    0.1674242892520557,<br>    0.6720839747594718<br>  ],<br>  \"params\": {<br>    \"n_estimators\": 378,<br>    \"num_leaves\": 101,<br>    \"max_depth\": 8,<br>    \"min_child_samples\": 192,<br>    \"learning_rate\": 0.006911190134230593,<br>    \"boosting_type\": \"gbdt\"<br>  }<br>}",
          "{<br>  \"number\": 84,<br>  \"values\": [<br>    0.1818645827754332,<br>    0.6919719684629697<br>  ],<br>  \"params\": {<br>    \"n_estimators\": 7054,<br>    \"num_leaves\": 162,<br>    \"max_depth\": 7,<br>    \"min_child_samples\": 21,<br>    \"learning_rate\": 0.005561612116498597,<br>    \"boosting_type\": \"gbdt\"<br>  }<br>}",
          "{<br>  \"number\": 86,<br>  \"values\": [<br>    0.17322792938601234,<br>    0.6929352462348882<br>  ],<br>  \"params\": {<br>    \"n_estimators\": 1401,<br>    \"num_leaves\": 125,<br>    \"max_depth\": 8,<br>    \"min_child_samples\": 178,<br>    \"learning_rate\": 0.005000550970866915,<br>    \"boosting_type\": \"gbdt\"<br>  }<br>}",
          "{<br>  \"number\": 87,<br>  \"values\": [<br>    0.17749602782375762,<br>    0.7075001382422821<br>  ],<br>  \"params\": {<br>    \"n_estimators\": 5810,<br>    \"num_leaves\": 277,<br>    \"max_depth\": 7,<br>    \"min_child_samples\": 90,<br>    \"learning_rate\": 0.0032173094551694085,<br>    \"boosting_type\": \"gbdt\"<br>  }<br>}",
          "{<br>  \"number\": 88,<br>  \"values\": [<br>    0.17557367253125475,<br>    0.7004720229994457<br>  ],<br>  \"params\": {<br>    \"n_estimators\": 1947,<br>    \"num_leaves\": 237,<br>    \"max_depth\": 9,<br>    \"min_child_samples\": 46,<br>    \"learning_rate\": 0.004920719891734322,<br>    \"boosting_type\": \"gbdt\"<br>  }<br>}",
          "{<br>  \"number\": 89,<br>  \"values\": [<br>    0.13211489609235874,<br>    0.5637306086545382<br>  ],<br>  \"params\": {<br>    \"n_estimators\": 290,<br>    \"num_leaves\": 76,<br>    \"max_depth\": 8,<br>    \"min_child_samples\": 235,<br>    \"learning_rate\": 0.0038179884671246684,<br>    \"boosting_type\": \"goss\"<br>  }<br>}",
          "{<br>  \"number\": 90,<br>  \"values\": [<br>    0.17301891071064293,<br>    0.6875156134916978<br>  ],<br>  \"params\": {<br>    \"n_estimators\": 689,<br>    \"num_leaves\": 180,<br>    \"max_depth\": 9,<br>    \"min_child_samples\": 154,<br>    \"learning_rate\": 0.005334242246714071,<br>    \"boosting_type\": \"gbdt\"<br>  }<br>}",
          "{<br>  \"number\": 91,<br>  \"values\": [<br>    0.1618482268982183,<br>    0.6803689384056385<br>  ],<br>  \"params\": {<br>    \"n_estimators\": 1003,<br>    \"num_leaves\": 226,<br>    \"max_depth\": 10,<br>    \"min_child_samples\": 73,<br>    \"learning_rate\": 0.0025864912295821803,<br>    \"boosting_type\": \"gbdt\"<br>  }<br>}",
          "{<br>  \"number\": 92,<br>  \"values\": [<br>    0.16797135950914083,<br>    0.6755774989922035<br>  ],<br>  \"params\": {<br>    \"n_estimators\": 617,<br>    \"num_leaves\": 39,<br>    \"max_depth\": 11,<br>    \"min_child_samples\": 138,<br>    \"learning_rate\": 0.0035282387152527463,<br>    \"boosting_type\": \"gbdt\"<br>  }<br>}",
          "{<br>  \"number\": 94,<br>  \"values\": [<br>    0.15147819122225317,<br>    0.6261471978901139<br>  ],<br>  \"params\": {<br>    \"n_estimators\": 906,<br>    \"num_leaves\": 88,<br>    \"max_depth\": 8,<br>    \"min_child_samples\": 257,<br>    \"learning_rate\": 0.0018077174881898403,<br>    \"boosting_type\": \"gbdt\"<br>  }<br>}",
          "{<br>  \"number\": 96,<br>  \"values\": [<br>    0.16884969691495946,<br>    0.6810732748562829<br>  ],<br>  \"params\": {<br>    \"n_estimators\": 1552,<br>    \"num_leaves\": 118,<br>    \"max_depth\": 9,<br>    \"min_child_samples\": 263,<br>    \"learning_rate\": 0.0021494676044188058,<br>    \"boosting_type\": \"gbdt\"<br>  }<br>}",
          "{<br>  \"number\": 97,<br>  \"values\": [<br>    0.16522739746128182,<br>    0.6736637317008622<br>  ],<br>  \"params\": {<br>    \"n_estimators\": 1241,<br>    \"num_leaves\": 154,<br>    \"max_depth\": 7,<br>    \"min_child_samples\": 272,<br>    \"learning_rate\": 0.0024570021901824395,<br>    \"boosting_type\": \"gbdt\"<br>  }<br>}",
          "{<br>  \"number\": 98,<br>  \"values\": [<br>    0.1744599937151702,<br>    0.6907156957774849<br>  ],<br>  \"params\": {<br>    \"n_estimators\": 4737,<br>    \"num_leaves\": 203,<br>    \"max_depth\": 8,<br>    \"min_child_samples\": 255,<br>    \"learning_rate\": 0.0015415531223412725,<br>    \"boosting_type\": \"gbdt\"<br>  }<br>}"
         ],
         "type": "scatter",
         "x": [
          0.16946543223805613,
          0.16887289800036642,
          0.1852654708347008,
          0.16891404049388364,
          0.17946028878690332,
          0.17779939943452583,
          0.18004298123725485,
          0.18514861975242158,
          0.19210932399555153,
          0.18097029632871414,
          0.18350901705002687,
          0.18204680182678096,
          0.1804257967660096,
          0.18722060885874567,
          0.18857346189319377,
          0.18201698518898665,
          0.17559074027730245,
          0.18242220597869646,
          0.18123585620122823,
          0.18216915502462147,
          0.16666702877053957,
          0.18070395522703392,
          0.1593282594864242,
          0.15940413029995035,
          0.16456225687609877,
          0.1779620982425351,
          0.16567485325414327,
          0.1707435543401245,
          0.1803224723859196,
          0.1565816363043829,
          0.17532887935585612,
          0.17360056072911703,
          0.17481153172731562,
          0.17764865305544447,
          0.16074767991887856,
          0.17721781191310731,
          0.1695496936523823,
          0.16764718053014935,
          0.1435885407313915,
          0.1515806178293876,
          0.1576648546169874,
          0.16620455145686192,
          0.16059802003188534,
          0.17659840678091904,
          0.15422748302029554,
          0.1574630600845512,
          0.17893931633905175,
          0.17967939167386798,
          0.17070286806464194,
          0.16959570797149573,
          0.17447370561193257,
          0.16569697688970958,
          0.1729518899476194,
          0.14522101542560256,
          0.15702111602560181,
          0.1674242892520557,
          0.1818645827754332,
          0.17322792938601234,
          0.17749602782375762,
          0.17557367253125475,
          0.13211489609235874,
          0.17301891071064293,
          0.1618482268982183,
          0.16797135950914083,
          0.15147819122225317,
          0.16884969691495946,
          0.16522739746128182,
          0.1744599937151702
         ],
         "y": [
          0.6870970713186922,
          0.6801285892010412,
          0.6588125267304845,
          0.6915410827972301,
          0.6877410492403462,
          0.692430058656781,
          0.709229772958372,
          0.653645375325222,
          0.6783989064144558,
          0.6862401062406734,
          0.6783126931776595,
          0.6843016511457365,
          0.6661533521341866,
          0.6554281328406621,
          0.6981146247644515,
          0.7025826395161132,
          0.6905898232142602,
          0.6643641643942482,
          0.6943887824402678,
          0.708125795989041,
          0.6904428863128069,
          0.7008741804251699,
          0.6724962810032445,
          0.674594477407155,
          0.6952952974428424,
          0.7048143740252513,
          0.6731176515234113,
          0.6842914342738478,
          0.7052628632554112,
          0.6557530790172563,
          0.7002325478140344,
          0.6932522764494805,
          0.6780321513617975,
          0.7020390049786503,
          0.6578520531887253,
          0.7023881552018307,
          0.6774037215391766,
          0.6724040754870682,
          0.6257248873263298,
          0.6404547708911095,
          0.6428269183236394,
          0.6942459981171865,
          0.6524334410710415,
          0.6991052618947554,
          0.6422397653488955,
          0.6460405719063889,
          0.704459740890556,
          0.6727243615913394,
          0.6886772002478685,
          0.6784003210404939,
          0.6954432043268949,
          0.6756037735432157,
          0.6908507013541264,
          0.6283615824725264,
          0.6537303881310708,
          0.6720839747594718,
          0.6919719684629697,
          0.6929352462348882,
          0.7075001382422821,
          0.7004720229994457,
          0.5637306086545382,
          0.6875156134916978,
          0.6803689384056385,
          0.6755774989922035,
          0.6261471978901139,
          0.6810732748562829,
          0.6736637317008622,
          0.6907156957774849
         ]
        },
        {
         "hovertemplate": "%{text}<extra>Best Trial</extra>",
         "marker": {
          "color": [
           0,
           12,
           21,
           22,
           23,
           24,
           25,
           26,
           30,
           32,
           33,
           34,
           37,
           38,
           40,
           42,
           49,
           54,
           58,
           59,
           63,
           64,
           66,
           70,
           75,
           76,
           80,
           83,
           85,
           93,
           95,
           99
          ],
          "colorbar": {
           "title": {
            "text": "Best Trial"
           },
           "x": 1.1,
           "xpad": 40
          },
          "colorscale": [
           [
            0,
            "rgb(255,245,240)"
           ],
           [
            0.125,
            "rgb(254,224,210)"
           ],
           [
            0.25,
            "rgb(252,187,161)"
           ],
           [
            0.375,
            "rgb(252,146,114)"
           ],
           [
            0.5,
            "rgb(251,106,74)"
           ],
           [
            0.625,
            "rgb(239,59,44)"
           ],
           [
            0.75,
            "rgb(203,24,29)"
           ],
           [
            0.875,
            "rgb(165,15,21)"
           ],
           [
            1,
            "rgb(103,0,13)"
           ]
          ],
          "line": {
           "color": "Grey",
           "width": 0.5
          }
         },
         "mode": "markers",
         "showlegend": false,
         "text": [
          "{<br>  \"number\": 0,<br>  \"values\": [<br>    0.17441972789334534,<br>    0.713962759662385<br>  ],<br>  \"params\": {<br>    \"n_estimators\": 8669,<br>    \"num_leaves\": 270,<br>    \"max_depth\": 4,<br>    \"min_child_samples\": 17,<br>    \"learning_rate\": 0.0023968541035582405,<br>    \"boosting_type\": \"gbdt\"<br>  }<br>}",
          "{<br>  \"number\": 12,<br>  \"values\": [<br>    0.16980866191463653,<br>    0.702903178160778<br>  ],<br>  \"params\": {<br>    \"n_estimators\": 6506,<br>    \"num_leaves\": 83,<br>    \"max_depth\": 4,<br>    \"min_child_samples\": 53,<br>    \"learning_rate\": 0.0019756436972196054,<br>    \"boosting_type\": \"gbdt\"<br>  }<br>}",
          "{<br>  \"number\": 21,<br>  \"values\": [<br>    0.13646651205639118,<br>    0.6145768891765313<br>  ],<br>  \"params\": {<br>    \"n_estimators\": 4430,<br>    \"num_leaves\": 39,<br>    \"max_depth\": 2,<br>    \"min_child_samples\": 39,<br>    \"learning_rate\": 0.0004165224156703045,<br>    \"boosting_type\": \"gbdt\"<br>  }<br>}",
          "{<br>  \"number\": 22,<br>  \"values\": [<br>    0.0,<br>    0.0<br>  ],<br>  \"params\": {<br>    \"n_estimators\": 814,<br>    \"num_leaves\": 11,<br>    \"max_depth\": 2,<br>    \"min_child_samples\": 40,<br>    \"learning_rate\": 9.793940006456742e-05,<br>    \"boosting_type\": \"gbdt\"<br>  }<br>}",
          "{<br>  \"number\": 23,<br>  \"values\": [<br>    0.0,<br>    0.0<br>  ],<br>  \"params\": {<br>    \"n_estimators\": 4256,<br>    \"num_leaves\": 86,<br>    \"max_depth\": 9,<br>    \"min_child_samples\": 5,<br>    \"learning_rate\": 9.45698865465151e-05,<br>    \"boosting_type\": \"gbdt\"<br>  }<br>}",
          "{<br>  \"number\": 24,<br>  \"values\": [<br>    0.15502563297439062,<br>    0.6647885706871317<br>  ],<br>  \"params\": {<br>    \"n_estimators\": 1986,<br>    \"num_leaves\": 27,<br>    \"max_depth\": 2,<br>    \"min_child_samples\": 83,<br>    \"learning_rate\": 0.0034177571044390325,<br>    \"boosting_type\": \"gbdt\"<br>  }<br>}",
          "{<br>  \"number\": 25,<br>  \"values\": [<br>    0.025566693003403092,<br>    0.17983531381589635<br>  ],<br>  \"params\": {<br>    \"n_estimators\": 108,<br>    \"num_leaves\": 139,<br>    \"max_depth\": 10,<br>    \"min_child_samples\": 181,<br>    \"learning_rate\": 0.004485578493403646,<br>    \"boosting_type\": \"gbdt\"<br>  }<br>}",
          "{<br>  \"number\": 26,<br>  \"values\": [<br>    0.025566693003403092,<br>    0.17983531381589635<br>  ],<br>  \"params\": {<br>    \"n_estimators\": 96,<br>    \"num_leaves\": 246,<br>    \"max_depth\": 11,<br>    \"min_child_samples\": 182,<br>    \"learning_rate\": 0.004782651527519024,<br>    \"boosting_type\": \"gbdt\"<br>  }<br>}",
          "{<br>  \"number\": 30,<br>  \"values\": [<br>    0.1526991719378094,<br>    0.6607348877325039<br>  ],<br>  \"params\": {<br>    \"n_estimators\": 6523,<br>    \"num_leaves\": 55,<br>    \"max_depth\": 3,<br>    \"min_child_samples\": 32,<br>    \"learning_rate\": 0.0005736215295248563,<br>    \"boosting_type\": \"gbdt\"<br>  }<br>}",
          "{<br>  \"number\": 32,<br>  \"values\": [<br>    0.142827759684163,<br>    0.6295802608557208<br>  ],<br>  \"params\": {<br>    \"n_estimators\": 4820,<br>    \"num_leaves\": 451,<br>    \"max_depth\": 2,<br>    \"min_child_samples\": 82,<br>    \"learning_rate\": 0.0005035091706934204,<br>    \"boosting_type\": \"gbdt\"<br>  }<br>}",
          "{<br>  \"number\": 33,<br>  \"values\": [<br>    0.16723062299544503,<br>    0.6976319072755034<br>  ],<br>  \"params\": {<br>    \"n_estimators\": 2746,<br>    \"num_leaves\": 11,<br>    \"max_depth\": 5,<br>    \"min_child_samples\": 59,<br>    \"learning_rate\": 0.0026397169749371565,<br>    \"boosting_type\": \"gbdt\"<br>  }<br>}",
          "{<br>  \"number\": 34,<br>  \"values\": [<br>    0.1725256630185837,<br>    0.7047451959470531<br>  ],<br>  \"params\": {<br>    \"n_estimators\": 3684,<br>    \"num_leaves\": 10,<br>    \"max_depth\": 6,<br>    \"min_child_samples\": 9,<br>    \"learning_rate\": 0.0025199859616956504,<br>    \"boosting_type\": \"gbdt\"<br>  }<br>}",
          "{<br>  \"number\": 37,<br>  \"values\": [<br>    0.0,<br>    0.0<br>  ],<br>  \"params\": {<br>    \"n_estimators\": 244,<br>    \"num_leaves\": 967,<br>    \"max_depth\": 2,<br>    \"min_child_samples\": 80,<br>    \"learning_rate\": 0.0006054058139334268,<br>    \"boosting_type\": \"gbdt\"<br>  }<br>}",
          "{<br>  \"number\": 38,<br>  \"values\": [<br>    0.15755424660547385,<br>    0.6690480126302468<br>  ],<br>  \"params\": {<br>    \"n_estimators\": 1502,<br>    \"num_leaves\": 213,<br>    \"max_depth\": 5,<br>    \"min_child_samples\": 26,<br>    \"learning_rate\": 0.0017397727038292975,<br>    \"boosting_type\": \"gbdt\"<br>  }<br>}",
          "{<br>  \"number\": 40,<br>  \"values\": [<br>    0.004353716411654321,<br>    0.06324327530847504<br>  ],<br>  \"params\": {<br>    \"n_estimators\": 784,<br>    \"num_leaves\": 64,<br>    \"max_depth\": 3,<br>    \"min_child_samples\": 47,<br>    \"learning_rate\": 0.0005714316531411905,<br>    \"boosting_type\": \"gbdt\"<br>  }<br>}",
          "{<br>  \"number\": 42,<br>  \"values\": [<br>    0.12690456147009987,<br>    0.5939435873051668<br>  ],<br>  \"params\": {<br>    \"n_estimators\": 706,<br>    \"num_leaves\": 452,<br>    \"max_depth\": 13,<br>    \"min_child_samples\": 169,<br>    \"learning_rate\": 0.0015241913324514618,<br>    \"boosting_type\": \"gbdt\"<br>  }<br>}",
          "{<br>  \"number\": 49,<br>  \"values\": [<br>    0.0,<br>    0.0<br>  ],<br>  \"params\": {<br>    \"n_estimators\": 45,<br>    \"num_leaves\": 358,<br>    \"max_depth\": 17,<br>    \"min_child_samples\": 174,<br>    \"learning_rate\": 0.0023454317995926562,<br>    \"boosting_type\": \"gbdt\"<br>  }<br>}",
          "{<br>  \"number\": 54,<br>  \"values\": [<br>    0.0,<br>    0.0<br>  ],<br>  \"params\": {<br>    \"n_estimators\": 336,<br>    \"num_leaves\": 488,<br>    \"max_depth\": 11,<br>    \"min_child_samples\": 198,<br>    \"learning_rate\": 0.0007381193185356387,<br>    \"boosting_type\": \"gbdt\"<br>  }<br>}",
          "{<br>  \"number\": 58,<br>  \"values\": [<br>    0.11430299105319583,<br>    0.5665486074222064<br>  ],<br>  \"params\": {<br>    \"n_estimators\": 351,<br>    \"num_leaves\": 546,<br>    \"max_depth\": 8,<br>    \"min_child_samples\": 166,<br>    \"learning_rate\": 0.0027244950456493,<br>    \"boosting_type\": \"gbdt\"<br>  }<br>}",
          "{<br>  \"number\": 59,<br>  \"values\": [<br>    0.025566693003403092,<br>    0.17983531381589635<br>  ],<br>  \"params\": {<br>    \"n_estimators\": 152,<br>    \"num_leaves\": 878,<br>    \"max_depth\": 8,<br>    \"min_child_samples\": 155,<br>    \"learning_rate\": 0.002869251494683279,<br>    \"boosting_type\": \"goss\"<br>  }<br>}",
          "{<br>  \"number\": 63,<br>  \"values\": [<br>    0.002572506487153693,<br>    0.03294117647058824<br>  ],<br>  \"params\": {<br>    \"n_estimators\": 137,<br>    \"num_leaves\": 747,<br>    \"max_depth\": 11,<br>    \"min_child_samples\": 217,<br>    \"learning_rate\": 0.00320243774338019,<br>    \"boosting_type\": \"gbdt\"<br>  }<br>}",
          "{<br>  \"number\": 64,<br>  \"values\": [<br>    0.15792645265047825,<br>    0.672258447260181<br>  ],<br>  \"params\": {<br>    \"n_estimators\": 887,<br>    \"num_leaves\": 774,<br>    \"max_depth\": 7,<br>    \"min_child_samples\": 37,<br>    \"learning_rate\": 0.0026388349810496535,<br>    \"boosting_type\": \"gbdt\"<br>  }<br>}",
          "{<br>  \"number\": 66,<br>  \"values\": [<br>    0.0,<br>    0.0<br>  ],<br>  \"params\": {<br>    \"n_estimators\": 35,<br>    \"num_leaves\": 571,<br>    \"max_depth\": 8,<br>    \"min_child_samples\": 179,<br>    \"learning_rate\": 0.005054488971457161,<br>    \"boosting_type\": \"gbdt\"<br>  }<br>}",
          "{<br>  \"number\": 70,<br>  \"values\": [<br>    0.16795588102237324,<br>    0.7022439734857594<br>  ],<br>  \"params\": {<br>    \"n_estimators\": 1122,<br>    \"num_leaves\": 262,<br>    \"max_depth\": 10,<br>    \"min_child_samples\": 13,<br>    \"learning_rate\": 0.004448803899281715,<br>    \"boosting_type\": \"gbdt\"<br>  }<br>}",
          "{<br>  \"number\": 75,<br>  \"values\": [<br>    0.0,<br>    0.0<br>  ],<br>  \"params\": {<br>    \"n_estimators\": 57,<br>    \"num_leaves\": 102,<br>    \"max_depth\": 3,<br>    \"min_child_samples\": 289,<br>    \"learning_rate\": 0.0046061775046682026,<br>    \"boosting_type\": \"goss\"<br>  }<br>}",
          "{<br>  \"number\": 76,<br>  \"values\": [<br>    0.14925556609892165,<br>    0.6539343354877714<br>  ],<br>  \"params\": {<br>    \"n_estimators\": 307,<br>    \"num_leaves\": 204,<br>    \"max_depth\": 13,<br>    \"min_child_samples\": 38,<br>    \"learning_rate\": 0.005306327692142801,<br>    \"boosting_type\": \"gbdt\"<br>  }<br>}",
          "{<br>  \"number\": 80,<br>  \"values\": [<br>    0.1643452136532733,<br>    0.6973956077413781<br>  ],<br>  \"params\": {<br>    \"n_estimators\": 662,<br>    \"num_leaves\": 219,<br>    \"max_depth\": 9,<br>    \"min_child_samples\": 12,<br>    \"learning_rate\": 0.005395771649930106,<br>    \"boosting_type\": \"gbdt\"<br>  }<br>}",
          "{<br>  \"number\": 83,<br>  \"values\": [<br>    0.15885485209579214,<br>    0.6831723507571427<br>  ],<br>  \"params\": {<br>    \"n_estimators\": 844,<br>    \"num_leaves\": 168,<br>    \"max_depth\": 7,<br>    \"min_child_samples\": 16,<br>    \"learning_rate\": 0.0031533299143951766,<br>    \"boosting_type\": \"gbdt\"<br>  }<br>}",
          "{<br>  \"number\": 85,<br>  \"values\": [<br>    0.0,<br>    0.0<br>  ],<br>  \"params\": {<br>    \"n_estimators\": 25,<br>    \"num_leaves\": 171,<br>    \"max_depth\": 6,<br>    \"min_child_samples\": 165,<br>    \"learning_rate\": 0.005931100373748201,<br>    \"boosting_type\": \"goss\"<br>  }<br>}",
          "{<br>  \"number\": 93,<br>  \"values\": [<br>    0.06960939004752724,<br>    0.367440088275832<br>  ],<br>  \"params\": {<br>    \"n_estimators\": 402,<br>    \"num_leaves\": 133,<br>    \"max_depth\": 9,<br>    \"min_child_samples\": 269,<br>    \"learning_rate\": 0.0017119078007885736,<br>    \"boosting_type\": \"gbdt\"<br>  }<br>}",
          "{<br>  \"number\": 95,<br>  \"values\": [<br>    0.0,<br>    0.0<br>  ],<br>  \"params\": {<br>    \"n_estimators\": 250,<br>    \"num_leaves\": 135,<br>    \"max_depth\": 10,<br>    \"min_child_samples\": 286,<br>    \"learning_rate\": 0.001711874771890368,<br>    \"boosting_type\": \"gbdt\"<br>  }<br>}",
          "{<br>  \"number\": 99,<br>  \"values\": [<br>    0.02154880352231061,<br>    0.13920469212077152<br>  ],<br>  \"params\": {<br>    \"n_estimators\": 244,<br>    \"num_leaves\": 173,<br>    \"max_depth\": 10,<br>    \"min_child_samples\": 245,<br>    \"learning_rate\": 0.001998603746290704,<br>    \"boosting_type\": \"gbdt\"<br>  }<br>}"
         ],
         "type": "scatter",
         "x": [
          0.17441972789334534,
          0.16980866191463653,
          0.13646651205639118,
          0,
          0,
          0.15502563297439062,
          0.025566693003403092,
          0.025566693003403092,
          0.1526991719378094,
          0.142827759684163,
          0.16723062299544503,
          0.1725256630185837,
          0,
          0.15755424660547385,
          0.004353716411654321,
          0.12690456147009987,
          0,
          0,
          0.11430299105319583,
          0.025566693003403092,
          0.002572506487153693,
          0.15792645265047825,
          0,
          0.16795588102237324,
          0,
          0.14925556609892165,
          0.1643452136532733,
          0.15885485209579214,
          0,
          0.06960939004752724,
          0,
          0.02154880352231061
         ],
         "y": [
          0.713962759662385,
          0.702903178160778,
          0.6145768891765313,
          0,
          0,
          0.6647885706871317,
          0.17983531381589635,
          0.17983531381589635,
          0.6607348877325039,
          0.6295802608557208,
          0.6976319072755034,
          0.7047451959470531,
          0,
          0.6690480126302468,
          0.06324327530847504,
          0.5939435873051668,
          0,
          0,
          0.5665486074222064,
          0.17983531381589635,
          0.03294117647058824,
          0.672258447260181,
          0,
          0.7022439734857594,
          0,
          0.6539343354877714,
          0.6973956077413781,
          0.6831723507571427,
          0,
          0.367440088275832,
          0,
          0.13920469212077152
         ]
        }
       ],
       "layout": {
        "template": {
         "data": {
          "bar": [
           {
            "error_x": {
             "color": "#2a3f5f"
            },
            "error_y": {
             "color": "#2a3f5f"
            },
            "marker": {
             "line": {
              "color": "#E5ECF6",
              "width": 0.5
             },
             "pattern": {
              "fillmode": "overlay",
              "size": 10,
              "solidity": 0.2
             }
            },
            "type": "bar"
           }
          ],
          "barpolar": [
           {
            "marker": {
             "line": {
              "color": "#E5ECF6",
              "width": 0.5
             },
             "pattern": {
              "fillmode": "overlay",
              "size": 10,
              "solidity": 0.2
             }
            },
            "type": "barpolar"
           }
          ],
          "carpet": [
           {
            "aaxis": {
             "endlinecolor": "#2a3f5f",
             "gridcolor": "white",
             "linecolor": "white",
             "minorgridcolor": "white",
             "startlinecolor": "#2a3f5f"
            },
            "baxis": {
             "endlinecolor": "#2a3f5f",
             "gridcolor": "white",
             "linecolor": "white",
             "minorgridcolor": "white",
             "startlinecolor": "#2a3f5f"
            },
            "type": "carpet"
           }
          ],
          "choropleth": [
           {
            "colorbar": {
             "outlinewidth": 0,
             "ticks": ""
            },
            "type": "choropleth"
           }
          ],
          "contour": [
           {
            "colorbar": {
             "outlinewidth": 0,
             "ticks": ""
            },
            "colorscale": [
             [
              0,
              "#0d0887"
             ],
             [
              0.1111111111111111,
              "#46039f"
             ],
             [
              0.2222222222222222,
              "#7201a8"
             ],
             [
              0.3333333333333333,
              "#9c179e"
             ],
             [
              0.4444444444444444,
              "#bd3786"
             ],
             [
              0.5555555555555556,
              "#d8576b"
             ],
             [
              0.6666666666666666,
              "#ed7953"
             ],
             [
              0.7777777777777778,
              "#fb9f3a"
             ],
             [
              0.8888888888888888,
              "#fdca26"
             ],
             [
              1,
              "#f0f921"
             ]
            ],
            "type": "contour"
           }
          ],
          "contourcarpet": [
           {
            "colorbar": {
             "outlinewidth": 0,
             "ticks": ""
            },
            "type": "contourcarpet"
           }
          ],
          "heatmap": [
           {
            "colorbar": {
             "outlinewidth": 0,
             "ticks": ""
            },
            "colorscale": [
             [
              0,
              "#0d0887"
             ],
             [
              0.1111111111111111,
              "#46039f"
             ],
             [
              0.2222222222222222,
              "#7201a8"
             ],
             [
              0.3333333333333333,
              "#9c179e"
             ],
             [
              0.4444444444444444,
              "#bd3786"
             ],
             [
              0.5555555555555556,
              "#d8576b"
             ],
             [
              0.6666666666666666,
              "#ed7953"
             ],
             [
              0.7777777777777778,
              "#fb9f3a"
             ],
             [
              0.8888888888888888,
              "#fdca26"
             ],
             [
              1,
              "#f0f921"
             ]
            ],
            "type": "heatmap"
           }
          ],
          "heatmapgl": [
           {
            "colorbar": {
             "outlinewidth": 0,
             "ticks": ""
            },
            "colorscale": [
             [
              0,
              "#0d0887"
             ],
             [
              0.1111111111111111,
              "#46039f"
             ],
             [
              0.2222222222222222,
              "#7201a8"
             ],
             [
              0.3333333333333333,
              "#9c179e"
             ],
             [
              0.4444444444444444,
              "#bd3786"
             ],
             [
              0.5555555555555556,
              "#d8576b"
             ],
             [
              0.6666666666666666,
              "#ed7953"
             ],
             [
              0.7777777777777778,
              "#fb9f3a"
             ],
             [
              0.8888888888888888,
              "#fdca26"
             ],
             [
              1,
              "#f0f921"
             ]
            ],
            "type": "heatmapgl"
           }
          ],
          "histogram": [
           {
            "marker": {
             "pattern": {
              "fillmode": "overlay",
              "size": 10,
              "solidity": 0.2
             }
            },
            "type": "histogram"
           }
          ],
          "histogram2d": [
           {
            "colorbar": {
             "outlinewidth": 0,
             "ticks": ""
            },
            "colorscale": [
             [
              0,
              "#0d0887"
             ],
             [
              0.1111111111111111,
              "#46039f"
             ],
             [
              0.2222222222222222,
              "#7201a8"
             ],
             [
              0.3333333333333333,
              "#9c179e"
             ],
             [
              0.4444444444444444,
              "#bd3786"
             ],
             [
              0.5555555555555556,
              "#d8576b"
             ],
             [
              0.6666666666666666,
              "#ed7953"
             ],
             [
              0.7777777777777778,
              "#fb9f3a"
             ],
             [
              0.8888888888888888,
              "#fdca26"
             ],
             [
              1,
              "#f0f921"
             ]
            ],
            "type": "histogram2d"
           }
          ],
          "histogram2dcontour": [
           {
            "colorbar": {
             "outlinewidth": 0,
             "ticks": ""
            },
            "colorscale": [
             [
              0,
              "#0d0887"
             ],
             [
              0.1111111111111111,
              "#46039f"
             ],
             [
              0.2222222222222222,
              "#7201a8"
             ],
             [
              0.3333333333333333,
              "#9c179e"
             ],
             [
              0.4444444444444444,
              "#bd3786"
             ],
             [
              0.5555555555555556,
              "#d8576b"
             ],
             [
              0.6666666666666666,
              "#ed7953"
             ],
             [
              0.7777777777777778,
              "#fb9f3a"
             ],
             [
              0.8888888888888888,
              "#fdca26"
             ],
             [
              1,
              "#f0f921"
             ]
            ],
            "type": "histogram2dcontour"
           }
          ],
          "mesh3d": [
           {
            "colorbar": {
             "outlinewidth": 0,
             "ticks": ""
            },
            "type": "mesh3d"
           }
          ],
          "parcoords": [
           {
            "line": {
             "colorbar": {
              "outlinewidth": 0,
              "ticks": ""
             }
            },
            "type": "parcoords"
           }
          ],
          "pie": [
           {
            "automargin": true,
            "type": "pie"
           }
          ],
          "scatter": [
           {
            "fillpattern": {
             "fillmode": "overlay",
             "size": 10,
             "solidity": 0.2
            },
            "type": "scatter"
           }
          ],
          "scatter3d": [
           {
            "line": {
             "colorbar": {
              "outlinewidth": 0,
              "ticks": ""
             }
            },
            "marker": {
             "colorbar": {
              "outlinewidth": 0,
              "ticks": ""
             }
            },
            "type": "scatter3d"
           }
          ],
          "scattercarpet": [
           {
            "marker": {
             "colorbar": {
              "outlinewidth": 0,
              "ticks": ""
             }
            },
            "type": "scattercarpet"
           }
          ],
          "scattergeo": [
           {
            "marker": {
             "colorbar": {
              "outlinewidth": 0,
              "ticks": ""
             }
            },
            "type": "scattergeo"
           }
          ],
          "scattergl": [
           {
            "marker": {
             "colorbar": {
              "outlinewidth": 0,
              "ticks": ""
             }
            },
            "type": "scattergl"
           }
          ],
          "scattermapbox": [
           {
            "marker": {
             "colorbar": {
              "outlinewidth": 0,
              "ticks": ""
             }
            },
            "type": "scattermapbox"
           }
          ],
          "scatterpolar": [
           {
            "marker": {
             "colorbar": {
              "outlinewidth": 0,
              "ticks": ""
             }
            },
            "type": "scatterpolar"
           }
          ],
          "scatterpolargl": [
           {
            "marker": {
             "colorbar": {
              "outlinewidth": 0,
              "ticks": ""
             }
            },
            "type": "scatterpolargl"
           }
          ],
          "scatterternary": [
           {
            "marker": {
             "colorbar": {
              "outlinewidth": 0,
              "ticks": ""
             }
            },
            "type": "scatterternary"
           }
          ],
          "surface": [
           {
            "colorbar": {
             "outlinewidth": 0,
             "ticks": ""
            },
            "colorscale": [
             [
              0,
              "#0d0887"
             ],
             [
              0.1111111111111111,
              "#46039f"
             ],
             [
              0.2222222222222222,
              "#7201a8"
             ],
             [
              0.3333333333333333,
              "#9c179e"
             ],
             [
              0.4444444444444444,
              "#bd3786"
             ],
             [
              0.5555555555555556,
              "#d8576b"
             ],
             [
              0.6666666666666666,
              "#ed7953"
             ],
             [
              0.7777777777777778,
              "#fb9f3a"
             ],
             [
              0.8888888888888888,
              "#fdca26"
             ],
             [
              1,
              "#f0f921"
             ]
            ],
            "type": "surface"
           }
          ],
          "table": [
           {
            "cells": {
             "fill": {
              "color": "#EBF0F8"
             },
             "line": {
              "color": "white"
             }
            },
            "header": {
             "fill": {
              "color": "#C8D4E3"
             },
             "line": {
              "color": "white"
             }
            },
            "type": "table"
           }
          ]
         },
         "layout": {
          "annotationdefaults": {
           "arrowcolor": "#2a3f5f",
           "arrowhead": 0,
           "arrowwidth": 1
          },
          "autotypenumbers": "strict",
          "coloraxis": {
           "colorbar": {
            "outlinewidth": 0,
            "ticks": ""
           }
          },
          "colorscale": {
           "diverging": [
            [
             0,
             "#8e0152"
            ],
            [
             0.1,
             "#c51b7d"
            ],
            [
             0.2,
             "#de77ae"
            ],
            [
             0.3,
             "#f1b6da"
            ],
            [
             0.4,
             "#fde0ef"
            ],
            [
             0.5,
             "#f7f7f7"
            ],
            [
             0.6,
             "#e6f5d0"
            ],
            [
             0.7,
             "#b8e186"
            ],
            [
             0.8,
             "#7fbc41"
            ],
            [
             0.9,
             "#4d9221"
            ],
            [
             1,
             "#276419"
            ]
           ],
           "sequential": [
            [
             0,
             "#0d0887"
            ],
            [
             0.1111111111111111,
             "#46039f"
            ],
            [
             0.2222222222222222,
             "#7201a8"
            ],
            [
             0.3333333333333333,
             "#9c179e"
            ],
            [
             0.4444444444444444,
             "#bd3786"
            ],
            [
             0.5555555555555556,
             "#d8576b"
            ],
            [
             0.6666666666666666,
             "#ed7953"
            ],
            [
             0.7777777777777778,
             "#fb9f3a"
            ],
            [
             0.8888888888888888,
             "#fdca26"
            ],
            [
             1,
             "#f0f921"
            ]
           ],
           "sequentialminus": [
            [
             0,
             "#0d0887"
            ],
            [
             0.1111111111111111,
             "#46039f"
            ],
            [
             0.2222222222222222,
             "#7201a8"
            ],
            [
             0.3333333333333333,
             "#9c179e"
            ],
            [
             0.4444444444444444,
             "#bd3786"
            ],
            [
             0.5555555555555556,
             "#d8576b"
            ],
            [
             0.6666666666666666,
             "#ed7953"
            ],
            [
             0.7777777777777778,
             "#fb9f3a"
            ],
            [
             0.8888888888888888,
             "#fdca26"
            ],
            [
             1,
             "#f0f921"
            ]
           ]
          },
          "colorway": [
           "#636efa",
           "#EF553B",
           "#00cc96",
           "#ab63fa",
           "#FFA15A",
           "#19d3f3",
           "#FF6692",
           "#B6E880",
           "#FF97FF",
           "#FECB52"
          ],
          "font": {
           "color": "#2a3f5f"
          },
          "geo": {
           "bgcolor": "white",
           "lakecolor": "white",
           "landcolor": "#E5ECF6",
           "showlakes": true,
           "showland": true,
           "subunitcolor": "white"
          },
          "hoverlabel": {
           "align": "left"
          },
          "hovermode": "closest",
          "mapbox": {
           "style": "light"
          },
          "paper_bgcolor": "white",
          "plot_bgcolor": "#E5ECF6",
          "polar": {
           "angularaxis": {
            "gridcolor": "white",
            "linecolor": "white",
            "ticks": ""
           },
           "bgcolor": "#E5ECF6",
           "radialaxis": {
            "gridcolor": "white",
            "linecolor": "white",
            "ticks": ""
           }
          },
          "scene": {
           "xaxis": {
            "backgroundcolor": "#E5ECF6",
            "gridcolor": "white",
            "gridwidth": 2,
            "linecolor": "white",
            "showbackground": true,
            "ticks": "",
            "zerolinecolor": "white"
           },
           "yaxis": {
            "backgroundcolor": "#E5ECF6",
            "gridcolor": "white",
            "gridwidth": 2,
            "linecolor": "white",
            "showbackground": true,
            "ticks": "",
            "zerolinecolor": "white"
           },
           "zaxis": {
            "backgroundcolor": "#E5ECF6",
            "gridcolor": "white",
            "gridwidth": 2,
            "linecolor": "white",
            "showbackground": true,
            "ticks": "",
            "zerolinecolor": "white"
           }
          },
          "shapedefaults": {
           "line": {
            "color": "#2a3f5f"
           }
          },
          "ternary": {
           "aaxis": {
            "gridcolor": "white",
            "linecolor": "white",
            "ticks": ""
           },
           "baxis": {
            "gridcolor": "white",
            "linecolor": "white",
            "ticks": ""
           },
           "bgcolor": "#E5ECF6",
           "caxis": {
            "gridcolor": "white",
            "linecolor": "white",
            "ticks": ""
           }
          },
          "title": {
           "x": 0.05
          },
          "xaxis": {
           "automargin": true,
           "gridcolor": "white",
           "linecolor": "white",
           "ticks": "",
           "title": {
            "standoff": 15
           },
           "zerolinecolor": "white",
           "zerolinewidth": 2
          },
          "yaxis": {
           "automargin": true,
           "gridcolor": "white",
           "linecolor": "white",
           "ticks": "",
           "title": {
            "standoff": 15
           },
           "zerolinecolor": "white",
           "zerolinewidth": 2
          }
         }
        },
        "title": {
         "text": "Pareto-front Plot"
        },
        "xaxis": {
         "title": {
          "text": "fair_metric"
         }
        },
        "yaxis": {
         "title": {
          "text": "f1_score"
         }
        }
       }
      }
     },
     "metadata": {},
     "output_type": "display_data"
    }
   ],
   "source": [
    "optuna.visualization.plot_pareto_front(study, target_names=[\"fair_metric\", \"f1_score\"], include_dominated_trials = True)"
   ]
  },
  {
   "cell_type": "code",
   "execution_count": 8,
   "metadata": {},
   "outputs": [],
   "source": [
    "#print(study.best_params)\n",
    "#print(study.best_value)"
   ]
  },
  {
   "cell_type": "code",
   "execution_count": 21,
   "metadata": {},
   "outputs": [],
   "source": [
    "#best_params = {name.replace(\"lgbm_\",\"\"):param for name,param in study.best_params.items()}\n",
    "#pipeline['classifier'].set_params(**best_params)\n",
    "#pipeline.fit(X_train, y_train)\n",
    "#y_pred = pipeline.predict(X_test)"
   ]
  },
  {
   "cell_type": "code",
   "execution_count": 22,
   "metadata": {},
   "outputs": [
    {
     "name": "stdout",
     "output_type": "stream",
     "text": [
      "0.0\n",
      "0.0\n"
     ]
    }
   ],
   "source": [
    "#from fairlearn.metrics import equalized_odds_difference\n",
    "#import numpy as np\n",
    "\n",
    "#def objective_function(fairness_metric, model_metric, y_test, y_pred, sensitive_features, alpha = .5):\n",
    "#fair_value = np.abs(equalized_odds_difference(y_test, y_pred, sensitive_features=A_test))\n",
    "#fair_value = np.abs(demographic_parity_difference(y_test, y_pred, sensitive_features=A_test))\n",
    "#model_value = f1_score(y_test, y_pred) \n",
    "\n",
    "#print(fair_value)\n",
    "#print(model_value)"
   ]
  }
 ],
 "metadata": {
  "kernelspec": {
   "display_name": "fairenv",
   "language": "python",
   "name": "python3"
  },
  "language_info": {
   "codemirror_mode": {
    "name": "ipython",
    "version": 3
   },
   "file_extension": ".py",
   "mimetype": "text/x-python",
   "name": "python",
   "nbconvert_exporter": "python",
   "pygments_lexer": "ipython3",
   "version": "3.10.10"
  },
  "orig_nbformat": 4
 },
 "nbformat": 4,
 "nbformat_minor": 2
}
