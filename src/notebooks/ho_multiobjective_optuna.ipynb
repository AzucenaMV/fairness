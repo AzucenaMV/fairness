{
 "cells": [
  {
   "cell_type": "code",
   "execution_count": null,
   "metadata": {},
   "outputs": [],
   "source": [
    "#! pip install fairlearn\n",
    "#! pip install lightgbm\n",
    "#! pip install optuna"
   ]
  },
  {
   "cell_type": "code",
   "execution_count": 5,
   "metadata": {},
   "outputs": [],
   "source": [
    "from sklearn.metrics import f1_score, confusion_matrix, make_scorer, accuracy_score\n",
    "from sklearn.model_selection import cross_val_score, train_test_split, cross_validate\n",
    "from fairlearn.metrics import (\n",
    "    count,\n",
    "    selection_rate,\n",
    "    MetricFrame,\n",
    "    equalized_odds_difference,\n",
    "    false_positive_rate,\n",
    "    false_negative_rate,\n",
    "    true_negative_rate,\n",
    "    true_positive_rate,\n",
    "    demographic_parity_difference\n",
    ")\n",
    "\n",
    "from fairlearn.datasets import fetch_adult\n",
    "from sklearn.pipeline import Pipeline\n",
    "from sklearn.preprocessing import OneHotEncoder, StandardScaler\n",
    "from sklearn.compose import ColumnTransformer\n",
    "from sklearn.compose import make_column_selector as selector\n",
    "from sklearn.impute import SimpleImputer\n",
    "from sklearn.ensemble import RandomForestClassifier\n",
    "from lightgbm import LGBMClassifier\n",
    "\n",
    "import numpy as np\n",
    "import optuna\n",
    "import tqdm as notebook_tqdm"
   ]
  },
  {
   "cell_type": "code",
   "execution_count": 6,
   "metadata": {},
   "outputs": [
    {
     "name": "stderr",
     "output_type": "stream",
     "text": [
      "/home/azucena/miniconda3/envs/fairenv/lib/python3.10/site-packages/sklearn/datasets/_openml.py:968: FutureWarning: The default value of `parser` will change from `'liac-arff'` to `'auto'` in 1.4. You can set `parser='auto'` to silence this warning. Therefore, an `ImportError` will be raised from 1.4 if the dataset is dense and pandas is not installed. Note that the pandas parser may return different data types. See the Notes Section in fetch_openml's API doc for details.\n",
      "  warn(\n"
     ]
    }
   ],
   "source": [
    "data = fetch_adult(as_frame=True)\n",
    "X_raw = data.data\n",
    "y = (data.target == \">50K\") * 1\n",
    "A = X_raw[\"sex\"]\n",
    "\n",
    "numeric_transformer = Pipeline(\n",
    "    steps=[\n",
    "        (\"impute\", SimpleImputer()),\n",
    "        (\"scaler\", StandardScaler()),\n",
    "    ]\n",
    ")\n",
    "categorical_transformer = Pipeline(\n",
    "    [\n",
    "        (\"impute\", SimpleImputer(strategy=\"most_frequent\")),\n",
    "        (\"ohe\", OneHotEncoder(handle_unknown=\"ignore\")),\n",
    "    ]\n",
    ")\n",
    "preprocessor = ColumnTransformer(\n",
    "    transformers=[\n",
    "        (\"num\", numeric_transformer, selector(dtype_exclude=\"category\")),\n",
    "        (\"cat\", categorical_transformer, selector(dtype_include=\"category\")),\n",
    "    ]\n",
    ")\n",
    "\n",
    "pipeline = Pipeline(\n",
    "    steps=[\n",
    "        (\"preprocessor\", preprocessor),\n",
    "        (\n",
    "            \"classifier\",\n",
    "            LGBMClassifier(n_jobs=-1),\n",
    "        ),\n",
    "    ]\n",
    ")"
   ]
  },
  {
   "cell_type": "code",
   "execution_count": 7,
   "metadata": {},
   "outputs": [
    {
     "ename": "NameError",
     "evalue": "name 'y_test' is not defined",
     "output_type": "error",
     "traceback": [
      "\u001b[0;31m---------------------------------------------------------------------------\u001b[0m",
      "\u001b[0;31mNameError\u001b[0m                                 Traceback (most recent call last)",
      "Cell \u001b[0;32mIn[7], line 2\u001b[0m\n\u001b[1;32m      1\u001b[0m metric_frame \u001b[39m=\u001b[39m MetricFrame(\n\u001b[0;32m----> 2\u001b[0m     metrics\u001b[39m=\u001b[39mtrue_positive_rate, y_true\u001b[39m=\u001b[39my_test, y_pred\u001b[39m=\u001b[39my_pred, sensitive_features\u001b[39m=\u001b[39mA_test\n\u001b[1;32m      3\u001b[0m )\n",
      "\u001b[0;31mNameError\u001b[0m: name 'y_test' is not defined"
     ]
    }
   ],
   "source": [
    "metric_frame = MetricFrame(\n",
    "    metrics=true_positive_rate, y_true=y_test, y_pred=y_pred, sensitive_features=A_test\n",
    ")"
   ]
  },
  {
   "cell_type": "code",
   "execution_count": 8,
   "metadata": {},
   "outputs": [],
   "source": [
    "def metric_scorer(clf, X, y):\n",
    "    y_pred = clf.predict(X)\n",
    "    f1 = f1_score(y,y_pred)\n",
    "    abs_eod = np.abs(equalized_odds_difference(y, y_pred, sensitive_features=X['sex']))\n",
    "    return {'f1_score': f1, 'eod': abs_eod}\n",
    "\n",
    "def metric_scorer_v2(clf, X, y):\n",
    "    y_pred = clf.predict(X)\n",
    "    error = 1 - accuracy_score(y, y_pred)\n",
    "    abs_dpd = np.abs(demographic_parity_difference(y, y_pred, sensitive_features=X['sex']))\n",
    "    return {'error': error, 'dpd': abs_dpd}\n",
    "\n",
    "def metric_scorer_v3(clf, X, y):\n",
    "    y_pred = clf.predict(X)\n",
    "    f1 = f1_score(y,y_pred)\n",
    "    abs_dpd = np.abs(demographic_parity_difference(y, y_pred, sensitive_features=X['sex']))\n",
    "    return {'f1_score': f1, 'dpd': abs_dpd}\n",
    "\n",
    "def equality_opportunity_difference(y_true, y_pred, sensitive_features):\n",
    "    return MetricFrame(metrics=true_positive_rate, y_true=y_true, y_pred=y_pred, sensitive_features=sensitive_features).difference()\n",
    "\n",
    "def metric_scorer_v4(clf, X, y):\n",
    "    y_pred = clf.predict(X)\n",
    "    f1 = f1_score(y,y_pred)\n",
    "    abs_tpr = np.abs(equality_opportunity_difference(y_true=y, y_pred=y_pred, sensitive_features=X['sex']))\n",
    "    #abs_dpd = np.abs(demographic_parity_difference(y, y_pred, sensitive_features=X['sex']))\n",
    "    return {'f1_score': f1, 'tpr': abs_tpr}\n"
   ]
  },
  {
   "cell_type": "code",
   "execution_count": 4,
   "metadata": {},
   "outputs": [
    {
     "name": "stdout",
     "output_type": "stream",
     "text": [
      "0.1908097330743628\n",
      "0.6951638780655514\n"
     ]
    }
   ],
   "source": [
    "#from fairlearn.metrics import equalized_odds_difference\n",
    "#import numpy as np\n",
    "\n",
    "#pipeline.fit(X_train, y_train)\n",
    "#y_pred = pipeline.predict(X_test)\n",
    "#fair_value = np.abs(equalized_odds_difference(y_test, y_pred, sensitive_features=A_test))\n",
    "#fair_value = np.abs(demographic_parity_difference(y_test, y_pred, sensitive_features=A_test))\n",
    "#fair_value = np.abs(equality_opportunity_difference(y_test, y_pred, sensitive_features=A_test))\n",
    "#model_value = f1_score(y_test, y_pred) \n",
    "\n",
    "#print(fair_value)\n",
    "#print(model_value)"
   ]
  },
  {
   "cell_type": "code",
   "execution_count": 9,
   "metadata": {},
   "outputs": [
    {
     "name": "stderr",
     "output_type": "stream",
     "text": [
      "\u001b[32m[I 2023-05-10 13:58:07,497]\u001b[0m A new study created in memory with name: no-name-583e4ab7-604b-4deb-8d11-9ecb5235a755\u001b[0m\n"
     ]
    },
    {
     "name": "stdout",
     "output_type": "stream",
     "text": [
      "0\n"
     ]
    },
    {
     "name": "stderr",
     "output_type": "stream",
     "text": [
      "\u001b[32m[I 2023-05-10 13:59:00,914]\u001b[0m Trial 0 finished with values: [0.07166280837428934, 0.6700666103847778] and parameters: {'n_estimators': 6543, 'num_leaves': 578, 'max_depth': 12, 'min_child_samples': 203, 'learning_rate': 0.00899276083535639, 'boosting_type': 'gbdt'}. \u001b[0m\n",
      "\u001b[32m[I 2023-05-10 13:59:40,595]\u001b[0m Trial 1 finished with values: [0.047887253714034086, 0.6748810216777641] and parameters: {'n_estimators': 3269, 'num_leaves': 733, 'max_depth': 14, 'min_child_samples': 254, 'learning_rate': 0.009178472770287455, 'boosting_type': 'gbdt'}. \u001b[0m\n",
      "\u001b[32m[I 2023-05-10 14:00:16,920]\u001b[0m Trial 2 finished with values: [0.07566443079740351, 0.6681784105958057] and parameters: {'n_estimators': 1805, 'num_leaves': 648, 'max_depth': 19, 'min_child_samples': 52, 'learning_rate': 0.0031665827084322523, 'boosting_type': 'goss'}. \u001b[0m\n",
      "\u001b[32m[I 2023-05-10 14:01:02,417]\u001b[0m Trial 3 finished with values: [0.059231349025974524, 0.6810983756692895] and parameters: {'n_estimators': 2189, 'num_leaves': 79, 'max_depth': 14, 'min_child_samples': 24, 'learning_rate': 0.006395200448385518, 'boosting_type': 'gbdt'}. \u001b[0m\n",
      "\u001b[32m[I 2023-05-10 14:02:25,089]\u001b[0m Trial 4 finished with values: [0.12251600555243156, 0.6322170170828872] and parameters: {'n_estimators': 7833, 'num_leaves': 385, 'max_depth': 12, 'min_child_samples': 246, 'learning_rate': 0.0002700945612329335, 'boosting_type': 'gbdt'}. \u001b[0m\n",
      "\u001b[32m[I 2023-05-10 14:02:30,765]\u001b[0m Trial 5 finished with values: [0.07188532178158014, 0.6576929182433048] and parameters: {'n_estimators': 1146, 'num_leaves': 980, 'max_depth': 4, 'min_child_samples': 270, 'learning_rate': 0.0064011167092525925, 'boosting_type': 'gbdt'}. \u001b[0m\n",
      "\u001b[32m[I 2023-05-10 14:04:12,096]\u001b[0m Trial 6 finished with values: [0.08087647733304242, 0.6811356254085382] and parameters: {'n_estimators': 8545, 'num_leaves': 165, 'max_depth': 6, 'min_child_samples': 14, 'learning_rate': 0.0006590027710590505, 'boosting_type': 'gbdt'}. \u001b[0m\n",
      "\u001b[32m[I 2023-05-10 14:05:24,963]\u001b[0m Trial 7 finished with values: [0.04235920581425758, 0.6904221259063403] and parameters: {'n_estimators': 6243, 'num_leaves': 546, 'max_depth': 10, 'min_child_samples': 131, 'learning_rate': 0.003503001757934436, 'boosting_type': 'gbdt'}. \u001b[0m\n",
      "\u001b[32m[I 2023-05-10 14:08:27,820]\u001b[0m Trial 8 finished with values: [0.07516001735963043, 0.6556422285598427] and parameters: {'n_estimators': 9914, 'num_leaves': 344, 'max_depth': 12, 'min_child_samples': 41, 'learning_rate': 0.005078166787292873, 'boosting_type': 'goss'}. \u001b[0m\n",
      "\u001b[32m[I 2023-05-10 14:09:17,336]\u001b[0m Trial 9 finished with values: [0.0629770999263245, 0.6786831900435046] and parameters: {'n_estimators': 5999, 'num_leaves': 17, 'max_depth': 20, 'min_child_samples': 244, 'learning_rate': 0.003721969650053767, 'boosting_type': 'gbdt'}. \u001b[0m\n",
      "\u001b[32m[I 2023-05-10 14:10:01,647]\u001b[0m Trial 10 finished with values: [0.08720966089589889, 0.6641932541587892] and parameters: {'n_estimators': 4193, 'num_leaves': 818, 'max_depth': 6, 'min_child_samples': 128, 'learning_rate': 0.0020067398674665097, 'boosting_type': 'goss'}. \u001b[0m\n",
      "\u001b[32m[I 2023-05-10 14:10:55,277]\u001b[0m Trial 11 finished with values: [0.058128934299661116, 0.6817091063558237] and parameters: {'n_estimators': 4086, 'num_leaves': 706, 'max_depth': 9, 'min_child_samples': 116, 'learning_rate': 0.0021184807188827843, 'boosting_type': 'gbdt'}. \u001b[0m\n",
      "\u001b[32m[I 2023-05-10 14:11:39,374]\u001b[0m Trial 12 finished with values: [0.0640061160970139, 0.6536286591390045] and parameters: {'n_estimators': 5531, 'num_leaves': 431, 'max_depth': 16, 'min_child_samples': 166, 'learning_rate': 0.00978387992002854, 'boosting_type': 'goss'}. \u001b[0m\n",
      "\u001b[32m[I 2023-05-10 14:12:49,153]\u001b[0m Trial 13 finished with values: [0.040674278781420645, 0.6836404370649459] and parameters: {'n_estimators': 7382, 'num_leaves': 238, 'max_depth': 9, 'min_child_samples': 101, 'learning_rate': 0.004614957040548802, 'boosting_type': 'gbdt'}. \u001b[0m\n",
      "\u001b[32m[I 2023-05-10 14:14:28,112]\u001b[0m Trial 14 finished with values: [0.04315622154085515, 0.6774428029811745] and parameters: {'n_estimators': 7482, 'num_leaves': 234, 'max_depth': 9, 'min_child_samples': 79, 'learning_rate': 0.0047563524100340876, 'boosting_type': 'gbdt'}. \u001b[0m\n",
      "\u001b[32m[I 2023-05-10 14:14:56,857]\u001b[0m Trial 15 finished with values: [0.07764537530672434, 0.6945324790802083] and parameters: {'n_estimators': 9749, 'num_leaves': 245, 'max_depth': 2, 'min_child_samples': 88, 'learning_rate': 0.00686501529076025, 'boosting_type': 'gbdt'}. \u001b[0m\n",
      "\u001b[32m[I 2023-05-10 14:15:48,527]\u001b[0m Trial 16 finished with values: [0.07675364472109752, 0.6554100968390234] and parameters: {'n_estimators': 7067, 'num_leaves': 531, 'max_depth': 9, 'min_child_samples': 170, 'learning_rate': 0.004751454648410099, 'boosting_type': 'goss'}. \u001b[0m\n",
      "\u001b[32m[I 2023-05-10 14:15:51,063]\u001b[0m Trial 17 finished with values: [0.10268724714043218, 0.6165480594806267] and parameters: {'n_estimators': 221, 'num_leaves': 328, 'max_depth': 7, 'min_child_samples': 196, 'learning_rate': 0.007647842551639197, 'boosting_type': 'gbdt'}. \u001b[0m\n",
      "\u001b[32m[I 2023-05-10 14:17:57,086]\u001b[0m Trial 18 finished with values: [0.04566289536383629, 0.6732588097052119] and parameters: {'n_estimators': 9000, 'num_leaves': 482, 'max_depth': 17, 'min_child_samples': 130, 'learning_rate': 0.005460240848116683, 'boosting_type': 'gbdt'}. \u001b[0m\n",
      "\u001b[32m[I 2023-05-10 14:18:43,664]\u001b[0m Trial 19 finished with values: [0.05911444342267458, 0.6726432507872268] and parameters: {'n_estimators': 4884, 'num_leaves': 190, 'max_depth': 10, 'min_child_samples': 86, 'learning_rate': 0.0038132898768341566, 'boosting_type': 'goss'}. \u001b[0m\n",
      "\u001b[32m[I 2023-05-10 14:19:15,532]\u001b[0m Trial 20 finished with values: [0.06253255464275043, 0.6879503394640379] and parameters: {'n_estimators': 8205, 'num_leaves': 109, 'max_depth': 4, 'min_child_samples': 201, 'learning_rate': 0.007955510664304982, 'boosting_type': 'gbdt'}. \u001b[0m\n",
      "\u001b[32m[I 2023-05-10 14:19:32,295]\u001b[0m Trial 21 finished with values: [0.08464534858072353, 0.6622589995095656] and parameters: {'n_estimators': 6610, 'num_leaves': 601, 'max_depth': 2, 'min_child_samples': 88, 'learning_rate': 0.0026705335407583705, 'boosting_type': 'gbdt'}. \u001b[0m\n"
     ]
    }
   ],
   "source": [
    "seed = 128\n",
    "num_variables = 2\n",
    "n_startup_trials = 11 * num_variables - 1\n",
    "directions = ['minimize', 'maximize']\n",
    "results = []\n",
    "\n",
    "for sim in [0]:\n",
    "    print(sim)\n",
    "    def objective(trial):\n",
    "\n",
    "        (X_train, X_test, y_train, y_test, A_train, A_test) = train_test_split(\n",
    "        X_raw, y, A, test_size=0.8, random_state=sim, stratify=y\n",
    "        )\n",
    "\n",
    "        X_train = X_train.reset_index(drop=True)\n",
    "        X_test = X_test.reset_index(drop=True)\n",
    "        y_train = y_train.reset_index(drop=True)\n",
    "        y_test = y_test.reset_index(drop=True)\n",
    "        A_train = A_train.reset_index(drop=True)\n",
    "        A_test = A_test.reset_index(drop=True)\n",
    "\n",
    "\n",
    "        params = {\n",
    "            'n_estimators': trial.suggest_int(\"n_estimators\", 20, 10000),\n",
    "            'num_leaves': trial.suggest_int(\"num_leaves\", 10, 1000),\n",
    "            'max_depth': trial.suggest_int(\"max_depth\", 2, 20),\n",
    "            'min_child_samples': trial.suggest_int(\"min_child_samples\", 5, 300),\n",
    "            'learning_rate': trial.suggest_float('learning_rate', 1e-5, 1e-2),\n",
    "            'boosting_type': trial.suggest_categorical(\"boosting_type\", ['goss', 'gbdt'])\n",
    "            }\n",
    "        pipeline['classifier'].set_params(**params)\n",
    "\n",
    "        scores = cross_validate(\n",
    "                pipeline, \n",
    "                X_train,\n",
    "                y_train, \n",
    "                cv=5,\n",
    "                scoring = metric_scorer_v4,\n",
    "                return_train_score=True)\n",
    "\n",
    "        #fair_metric = scores['test_eod'].mean()\n",
    "        #fair_metric = scores['test_dpd'].mean()\n",
    "        fair_metric = scores['test_tpr'].mean()\n",
    "        model_metric = scores['test_f1_score'].mean()\n",
    "\n",
    "        return fair_metric, model_metric\n",
    "    \n",
    "    #sampler = optuna.samplers.MOTPESampler(\n",
    "    #    n_startup_trials=n_startup_trials, n_ehvi_candidates=24, seed=seed\n",
    "    #    )\n",
    "    sampler = optuna.samplers.TPESampler()  # `MOTPESampler` used to be required for multi-objective optimization.\n",
    "    study = optuna.create_study(directions=directions, pruner=optuna.pruners.SuccessiveHalvingPruner(), sampler = sampler)\n",
    "    study.optimize(objective, n_trials=100)\n",
    "    print(\"Number of finished trials: \", len(study.trials))\n",
    "    results.append(study)\n",
    "    #return fair_metric"
   ]
  },
  {
   "cell_type": "code",
   "execution_count": 35,
   "metadata": {},
   "outputs": [
    {
     "name": "stdout",
     "output_type": "stream",
     "text": [
      "Object successfully saved to \"f1-dpd-lgbm-motpe-succesivehalving-100trials-4sim.pkl\"\n"
     ]
    }
   ],
   "source": [
    "import dill\n",
    "file_name = 'f1-dpd-lgbm-motpe-succesivehalving-100trials-4sim.pkl'\n",
    "#f1-eod-lgbm-succesivehalving-30trails.pkl\n",
    "with open(file_name, 'wb') as file:\n",
    "    dill.dump(results, file)\n",
    "    print(f'Object successfully saved to \"{file_name}\"')"
   ]
  },
  {
   "cell_type": "code",
   "execution_count": 29,
   "metadata": {},
   "outputs": [
    {
     "data": {
      "application/vnd.plotly.v1+json": {
       "config": {
        "plotlyServerURL": "https://plot.ly"
       },
       "data": [
        {
         "hovertemplate": "%{text}<extra>Trial</extra>",
         "marker": {
          "color": [
           1,
           2,
           3,
           4,
           5,
           6,
           7,
           8,
           9,
           10,
           11,
           13,
           14,
           15,
           16,
           17,
           18,
           19,
           20,
           27,
           28,
           29,
           31,
           35,
           36,
           39,
           41,
           43,
           44,
           45,
           46,
           47,
           48,
           50,
           51,
           52,
           53,
           55,
           56,
           57,
           60,
           61,
           62,
           65,
           67,
           68,
           69,
           71,
           72,
           73,
           74,
           77,
           78,
           79,
           81,
           82,
           84,
           86,
           87,
           88,
           89,
           90,
           91,
           92,
           94,
           96,
           97,
           98
          ],
          "colorbar": {
           "title": {
            "text": "Trial"
           }
          },
          "colorscale": [
           [
            0,
            "rgb(247,251,255)"
           ],
           [
            0.125,
            "rgb(222,235,247)"
           ],
           [
            0.25,
            "rgb(198,219,239)"
           ],
           [
            0.375,
            "rgb(158,202,225)"
           ],
           [
            0.5,
            "rgb(107,174,214)"
           ],
           [
            0.625,
            "rgb(66,146,198)"
           ],
           [
            0.75,
            "rgb(33,113,181)"
           ],
           [
            0.875,
            "rgb(8,81,156)"
           ],
           [
            1,
            "rgb(8,48,107)"
           ]
          ],
          "line": {
           "color": "Grey",
           "width": 0.5
          }
         },
         "mode": "markers",
         "showlegend": false,
         "text": [
          "{<br>  \"number\": 1,<br>  \"values\": [<br>    0.16946543223805613,<br>    0.6870970713186922<br>  ],<br>  \"params\": {<br>    \"n_estimators\": 6022,<br>    \"num_leaves\": 341,<br>    \"max_depth\": 4,<br>    \"min_child_samples\": 96,<br>    \"learning_rate\": 0.001106140614373575,<br>    \"boosting_type\": \"goss\"<br>  }<br>}",
          "{<br>  \"number\": 2,<br>  \"values\": [<br>    0.16887289800036642,<br>    0.6801285892010412<br>  ],<br>  \"params\": {<br>    \"n_estimators\": 3011,<br>    \"num_leaves\": 522,<br>    \"max_depth\": 15,<br>    \"min_child_samples\": 280,<br>    \"learning_rate\": 0.0010298606581265368,<br>    \"boosting_type\": \"gbdt\"<br>  }<br>}",
          "{<br>  \"number\": 3,<br>  \"values\": [<br>    0.1852654708347008,<br>    0.6588125267304845<br>  ],<br>  \"params\": {<br>    \"n_estimators\": 5600,<br>    \"num_leaves\": 596,<br>    \"max_depth\": 16,<br>    \"min_child_samples\": 248,<br>    \"learning_rate\": 0.001265458676682977,<br>    \"boosting_type\": \"goss\"<br>  }<br>}",
          "{<br>  \"number\": 4,<br>  \"values\": [<br>    0.16891404049388364,<br>    0.6915410827972301<br>  ],<br>  \"params\": {<br>    \"n_estimators\": 7318,<br>    \"num_leaves\": 308,<br>    \"max_depth\": 3,<br>    \"min_child_samples\": 53,<br>    \"learning_rate\": 0.0013464245883280741,<br>    \"boosting_type\": \"goss\"<br>  }<br>}",
          "{<br>  \"number\": 5,<br>  \"values\": [<br>    0.17946028878690332,<br>    0.6877410492403462<br>  ],<br>  \"params\": {<br>    \"n_estimators\": 9848,<br>    \"num_leaves\": 409,<br>    \"max_depth\": 6,<br>    \"min_child_samples\": 69,<br>    \"learning_rate\": 0.008440164525171262,<br>    \"boosting_type\": \"goss\"<br>  }<br>}",
          "{<br>  \"number\": 6,<br>  \"values\": [<br>    0.17779939943452583,<br>    0.692430058656781<br>  ],<br>  \"params\": {<br>    \"n_estimators\": 7079,<br>    \"num_leaves\": 840,<br>    \"max_depth\": 16,<br>    \"min_child_samples\": 226,<br>    \"learning_rate\": 0.0022569255919427204,<br>    \"boosting_type\": \"gbdt\"<br>  }<br>}",
          "{<br>  \"number\": 7,<br>  \"values\": [<br>    0.18004298123725485,<br>    0.709229772958372<br>  ],<br>  \"params\": {<br>    \"n_estimators\": 8705,<br>    \"num_leaves\": 615,<br>    \"max_depth\": 5,<br>    \"min_child_samples\": 66,<br>    \"learning_rate\": 0.004368571371480081,<br>    \"boosting_type\": \"gbdt\"<br>  }<br>}",
          "{<br>  \"number\": 8,<br>  \"values\": [<br>    0.18514861975242158,<br>    0.653645375325222<br>  ],<br>  \"params\": {<br>    \"n_estimators\": 5186,<br>    \"num_leaves\": 690,<br>    \"max_depth\": 6,<br>    \"min_child_samples\": 281,<br>    \"learning_rate\": 0.008214430261519088,<br>    \"boosting_type\": \"goss\"<br>  }<br>}",
          "{<br>  \"number\": 9,<br>  \"values\": [<br>    0.19210932399555153,<br>    0.6783989064144558<br>  ],<br>  \"params\": {<br>    \"n_estimators\": 9251,<br>    \"num_leaves\": 788,<br>    \"max_depth\": 12,<br>    \"min_child_samples\": 25,<br>    \"learning_rate\": 0.006339685340779402,<br>    \"boosting_type\": \"gbdt\"<br>  }<br>}",
          "{<br>  \"number\": 10,<br>  \"values\": [<br>    0.18097029632871414,<br>    0.6862401062406734<br>  ],<br>  \"params\": {<br>    \"n_estimators\": 8159,<br>    \"num_leaves\": 188,<br>    \"max_depth\": 18,<br>    \"min_child_samples\": 218,<br>    \"learning_rate\": 0.0088644122090224,<br>    \"boosting_type\": \"gbdt\"<br>  }<br>}",
          "{<br>  \"number\": 11,<br>  \"values\": [<br>    0.18350901705002687,<br>    0.6783126931776595<br>  ],<br>  \"params\": {<br>    \"n_estimators\": 7706,<br>    \"num_leaves\": 513,<br>    \"max_depth\": 12,<br>    \"min_child_samples\": 186,<br>    \"learning_rate\": 0.0030653776083827715,<br>    \"boosting_type\": \"goss\"<br>  }<br>}",
          "{<br>  \"number\": 13,<br>  \"values\": [<br>    0.18204680182678096,<br>    0.6843016511457365<br>  ],<br>  \"params\": {<br>    \"n_estimators\": 3236,<br>    \"num_leaves\": 199,<br>    \"max_depth\": 18,<br>    \"min_child_samples\": 151,<br>    \"learning_rate\": 0.008520291388769283,<br>    \"boosting_type\": \"goss\"<br>  }<br>}",
          "{<br>  \"number\": 14,<br>  \"values\": [<br>    0.1804257967660096,<br>    0.6661533521341866<br>  ],<br>  \"params\": {<br>    \"n_estimators\": 8703,<br>    \"num_leaves\": 606,<br>    \"max_depth\": 7,<br>    \"min_child_samples\": 228,<br>    \"learning_rate\": 0.008041734121344844,<br>    \"boosting_type\": \"goss\"<br>  }<br>}",
          "{<br>  \"number\": 15,<br>  \"values\": [<br>    0.18722060885874567,<br>    0.6554281328406621<br>  ],<br>  \"params\": {<br>    \"n_estimators\": 9866,<br>    \"num_leaves\": 378,<br>    \"max_depth\": 9,<br>    \"min_child_samples\": 277,<br>    \"learning_rate\": 0.008145576041736057,<br>    \"boosting_type\": \"goss\"<br>  }<br>}",
          "{<br>  \"number\": 16,<br>  \"values\": [<br>    0.18857346189319377,<br>    0.6981146247644515<br>  ],<br>  \"params\": {<br>    \"n_estimators\": 9178,<br>    \"num_leaves\": 75,<br>    \"max_depth\": 13,<br>    \"min_child_samples\": 116,<br>    \"learning_rate\": 0.0036332408424696247,<br>    \"boosting_type\": \"gbdt\"<br>  }<br>}",
          "{<br>  \"number\": 17,<br>  \"values\": [<br>    0.18201698518898665,<br>    0.7025826395161132<br>  ],<br>  \"params\": {<br>    \"n_estimators\": 3453,<br>    \"num_leaves\": 998,<br>    \"max_depth\": 14,<br>    \"min_child_samples\": 133,<br>    \"learning_rate\": 0.005626473417133713,<br>    \"boosting_type\": \"gbdt\"<br>  }<br>}",
          "{<br>  \"number\": 18,<br>  \"values\": [<br>    0.17559074027730245,<br>    0.6905898232142602<br>  ],<br>  \"params\": {<br>    \"n_estimators\": 8011,<br>    \"num_leaves\": 855,<br>    \"max_depth\": 20,<br>    \"min_child_samples\": 240,<br>    \"learning_rate\": 0.0017763132406298004,<br>    \"boosting_type\": \"gbdt\"<br>  }<br>}",
          "{<br>  \"number\": 19,<br>  \"values\": [<br>    0.18242220597869646,<br>    0.6643641643942482<br>  ],<br>  \"params\": {<br>    \"n_estimators\": 6372,<br>    \"num_leaves\": 162,<br>    \"max_depth\": 8,<br>    \"min_child_samples\": 251,<br>    \"learning_rate\": 0.006781371539104441,<br>    \"boosting_type\": \"goss\"<br>  }<br>}",
          "{<br>  \"number\": 20,<br>  \"values\": [<br>    0.18123585620122823,<br>    0.6943887824402678<br>  ],<br>  \"params\": {<br>    \"n_estimators\": 1307,<br>    \"num_leaves\": 375,<br>    \"max_depth\": 20,<br>    \"min_child_samples\": 107,<br>    \"learning_rate\": 0.009886861463350211,<br>    \"boosting_type\": \"goss\"<br>  }<br>}",
          "{<br>  \"number\": 27,<br>  \"values\": [<br>    0.18216915502462147,<br>    0.708125795989041<br>  ],<br>  \"params\": {<br>    \"n_estimators\": 4418,<br>    \"num_leaves\": 147,<br>    \"max_depth\": 10,<br>    \"min_child_samples\": 140,<br>    \"learning_rate\": 0.004012467603607511,<br>    \"boosting_type\": \"gbdt\"<br>  }<br>}",
          "{<br>  \"number\": 28,<br>  \"values\": [<br>    0.16666702877053957,<br>    0.6904428863128069<br>  ],<br>  \"params\": {<br>    \"n_estimators\": 2158,<br>    \"num_leaves\": 111,<br>    \"max_depth\": 7,<br>    \"min_child_samples\": 191,<br>    \"learning_rate\": 0.002894587839590413,<br>    \"boosting_type\": \"gbdt\"<br>  }<br>}",
          "{<br>  \"number\": 29,<br>  \"values\": [<br>    0.18070395522703392,<br>    0.7008741804251699<br>  ],<br>  \"params\": {<br>    \"n_estimators\": 4214,<br>    \"num_leaves\": 236,<br>    \"max_depth\": 10,<br>    \"min_child_samples\": 160,<br>    \"learning_rate\": 0.0051975851478357265,<br>    \"boosting_type\": \"gbdt\"<br>  }<br>}",
          "{<br>  \"number\": 31,<br>  \"values\": [<br>    0.1593282594864242,<br>    0.6724962810032445<br>  ],<br>  \"params\": {<br>    \"n_estimators\": 2106,<br>    \"num_leaves\": 130,<br>    \"max_depth\": 4,<br>    \"min_child_samples\": 49,<br>    \"learning_rate\": 0.0019428082307150225,<br>    \"boosting_type\": \"gbdt\"<br>  }<br>}",
          "{<br>  \"number\": 35,<br>  \"values\": [<br>    0.15940413029995035,<br>    0.674594477407155<br>  ],<br>  \"params\": {<br>    \"n_estimators\": 2605,<br>    \"num_leaves\": 294,<br>    \"max_depth\": 3,<br>    \"min_child_samples\": 115,<br>    \"learning_rate\": 0.002849546015321875,<br>    \"boosting_type\": \"gbdt\"<br>  }<br>}",
          "{<br>  \"number\": 36,<br>  \"values\": [<br>    0.16456225687609877,<br>    0.6952952974428424<br>  ],<br>  \"params\": {<br>    \"n_estimators\": 5270,<br>    \"num_leaves\": 988,<br>    \"max_depth\": 5,<br>    \"min_child_samples\": 66,<br>    \"learning_rate\": 0.0014672518798490319,<br>    \"boosting_type\": \"gbdt\"<br>  }<br>}",
          "{<br>  \"number\": 39,<br>  \"values\": [<br>    0.1779620982425351,<br>    0.7048143740252513<br>  ],<br>  \"params\": {<br>    \"n_estimators\": 5301,<br>    \"num_leaves\": 727,<br>    \"max_depth\": 7,<br>    \"min_child_samples\": 96,<br>    \"learning_rate\": 0.0034072557332835655,<br>    \"boosting_type\": \"gbdt\"<br>  }<br>}",
          "{<br>  \"number\": 41,<br>  \"values\": [<br>    0.16567485325414327,<br>    0.6731176515234113<br>  ],<br>  \"params\": {<br>    \"n_estimators\": 706,<br>    \"num_leaves\": 175,<br>    \"max_depth\": 8,<br>    \"min_child_samples\": 203,<br>    \"learning_rate\": 0.004094261112057261,<br>    \"boosting_type\": \"gbdt\"<br>  }<br>}",
          "{<br>  \"number\": 43,<br>  \"values\": [<br>    0.1707435543401245,<br>    0.6842914342738478<br>  ],<br>  \"params\": {<br>    \"n_estimators\": 936,<br>    \"num_leaves\": 452,<br>    \"max_depth\": 18,<br>    \"min_child_samples\": 169,<br>    \"learning_rate\": 0.003288999307343761,<br>    \"boosting_type\": \"gbdt\"<br>  }<br>}",
          "{<br>  \"number\": 44,<br>  \"values\": [<br>    0.1803224723859196,<br>    0.7052628632554112<br>  ],<br>  \"params\": {<br>    \"n_estimators\": 1511,<br>    \"num_leaves\": 465,<br>    \"max_depth\": 14,<br>    \"min_child_samples\": 136,<br>    \"learning_rate\": 0.004461896091927999,<br>    \"boosting_type\": \"gbdt\"<br>  }<br>}",
          "{<br>  \"number\": 45,<br>  \"values\": [<br>    0.1565816363043829,<br>    0.6557530790172563<br>  ],<br>  \"params\": {<br>    \"n_estimators\": 465,<br>    \"num_leaves\": 909,<br>    \"max_depth\": 11,<br>    \"min_child_samples\": 206,<br>    \"learning_rate\": 0.0036402676267309666,<br>    \"boosting_type\": \"gbdt\"<br>  }<br>}",
          "{<br>  \"number\": 46,<br>  \"values\": [<br>    0.17532887935585612,<br>    0.7002325478140344<br>  ],<br>  \"params\": {<br>    \"n_estimators\": 1160,<br>    \"num_leaves\": 560,<br>    \"max_depth\": 16,<br>    \"min_child_samples\": 169,<br>    \"learning_rate\": 0.005266664048469278,<br>    \"boosting_type\": \"gbdt\"<br>  }<br>}",
          "{<br>  \"number\": 47,<br>  \"values\": [<br>    0.17360056072911703,<br>    0.6932522764494805<br>  ],<br>  \"params\": {<br>    \"n_estimators\": 1779,<br>    \"num_leaves\": 687,<br>    \"max_depth\": 13,<br>    \"min_child_samples\": 297,<br>    \"learning_rate\": 0.003884176162210048,<br>    \"boosting_type\": \"gbdt\"<br>  }<br>}",
          "{<br>  \"number\": 48,<br>  \"values\": [<br>    0.17481153172731562,<br>    0.6780321513617975<br>  ],<br>  \"params\": {<br>    \"n_estimators\": 551,<br>    \"num_leaves\": 743,<br>    \"max_depth\": 19,<br>    \"min_child_samples\": 124,<br>    \"learning_rate\": 0.004701557931204675,<br>    \"boosting_type\": \"goss\"<br>  }<br>}",
          "{<br>  \"number\": 50,<br>  \"values\": [<br>    0.17764865305544447,<br>    0.7020390049786503<br>  ],<br>  \"params\": {<br>    \"n_estimators\": 1041,<br>    \"num_leaves\": 321,<br>    \"max_depth\": 14,<br>    \"min_child_samples\": 146,<br>    \"learning_rate\": 0.005836974582819427,<br>    \"boosting_type\": \"gbdt\"<br>  }<br>}",
          "{<br>  \"number\": 51,<br>  \"values\": [<br>    0.16074767991887856,<br>    0.6578520531887253<br>  ],<br>  \"params\": {<br>    \"n_estimators\": 581,<br>    \"num_leaves\": 418,<br>    \"max_depth\": 10,<br>    \"min_child_samples\": 204,<br>    \"learning_rate\": 0.003072950946501221,<br>    \"boosting_type\": \"gbdt\"<br>  }<br>}",
          "{<br>  \"number\": 52,<br>  \"values\": [<br>    0.17721781191310731,<br>    0.7023881552018307<br>  ],<br>  \"params\": {<br>    \"n_estimators\": 2339,<br>    \"num_leaves\": 675,<br>    \"max_depth\": 12,<br>    \"min_child_samples\": 158,<br>    \"learning_rate\": 0.004330842179432858,<br>    \"boosting_type\": \"gbdt\"<br>  }<br>}",
          "{<br>  \"number\": 53,<br>  \"values\": [<br>    0.1695496936523823,<br>    0.6774037215391766<br>  ],<br>  \"params\": {<br>    \"n_estimators\": 1779,<br>    \"num_leaves\": 267,<br>    \"max_depth\": 15,<br>    \"min_child_samples\": 262,<br>    \"learning_rate\": 0.0015665561715908615,<br>    \"boosting_type\": \"gbdt\"<br>  }<br>}",
          "{<br>  \"number\": 55,<br>  \"values\": [<br>    0.16764718053014935,<br>    0.6724040754870682<br>  ],<br>  \"params\": {<br>    \"n_estimators\": 1329,<br>    \"num_leaves\": 413,<br>    \"max_depth\": 9,<br>    \"min_child_samples\": 218,<br>    \"learning_rate\": 0.0020268598693890887,<br>    \"boosting_type\": \"gbdt\"<br>  }<br>}",
          "{<br>  \"number\": 56,<br>  \"values\": [<br>    0.1435885407313915,<br>    0.6257248873263298<br>  ],<br>  \"params\": {<br>    \"n_estimators\": 945,<br>    \"num_leaves\": 564,<br>    \"max_depth\": 17,<br>    \"min_child_samples\": 182,<br>    \"learning_rate\": 0.0013913810760764534,<br>    \"boosting_type\": \"gbdt\"<br>  }<br>}",
          "{<br>  \"number\": 57,<br>  \"values\": [<br>    0.1515806178293876,<br>    0.6404547708911095<br>  ],<br>  \"params\": {<br>    \"n_estimators\": 1676,<br>    \"num_leaves\": 642,<br>    \"max_depth\": 13,<br>    \"min_child_samples\": 126,<br>    \"learning_rate\": 0.0008810507162699535,<br>    \"boosting_type\": \"goss\"<br>  }<br>}",
          "{<br>  \"number\": 60,<br>  \"values\": [<br>    0.1576648546169874,<br>    0.6428269183236394<br>  ],<br>  \"params\": {<br>    \"n_estimators\": 385,<br>    \"num_leaves\": 58,<br>    \"max_depth\": 10,<br>    \"min_child_samples\": 269,<br>    \"learning_rate\": 0.004904024186035449,<br>    \"boosting_type\": \"gbdt\"<br>  }<br>}",
          "{<br>  \"number\": 61,<br>  \"values\": [<br>    0.16620455145686192,<br>    0.6942459981171865<br>  ],<br>  \"params\": {<br>    \"n_estimators\": 1143,<br>    \"num_leaves\": 939,<br>    \"max_depth\": 9,<br>    \"min_child_samples\": 101,<br>    \"learning_rate\": 0.0037522794461515227,<br>    \"boosting_type\": \"gbdt\"<br>  }<br>}",
          "{<br>  \"number\": 62,<br>  \"values\": [<br>    0.16059802003188534,<br>    0.6524334410710415<br>  ],<br>  \"params\": {<br>    \"n_estimators\": 521,<br>    \"num_leaves\": 126,<br>    \"max_depth\": 8,<br>    \"min_child_samples\": 294,<br>    \"learning_rate\": 0.004005752649181364,<br>    \"boosting_type\": \"gbdt\"<br>  }<br>}",
          "{<br>  \"number\": 65,<br>  \"values\": [<br>    0.17659840678091904,<br>    0.6991052618947554<br>  ],<br>  \"params\": {<br>    \"n_estimators\": 1364,<br>    \"num_leaves\": 808,<br>    \"max_depth\": 9,<br>    \"min_child_samples\": 145,<br>    \"learning_rate\": 0.004597375467527423,<br>    \"boosting_type\": \"gbdt\"<br>  }<br>}",
          "{<br>  \"number\": 67,<br>  \"values\": [<br>    0.15422748302029554,<br>    0.6422397653488955<br>  ],<br>  \"params\": {<br>    \"n_estimators\": 439,<br>    \"num_leaves\": 649,<br>    \"max_depth\": 10,<br>    \"min_child_samples\": 194,<br>    \"learning_rate\": 0.0034754560935016587,<br>    \"boosting_type\": \"gbdt\"<br>  }<br>}",
          "{<br>  \"number\": 68,<br>  \"values\": [<br>    0.1574630600845512,<br>    0.6460405719063889<br>  ],<br>  \"params\": {<br>    \"n_estimators\": 765,<br>    \"num_leaves\": 230,<br>    \"max_depth\": 12,<br>    \"min_child_samples\": 128,<br>    \"learning_rate\": 0.0021518640261858923,<br>    \"boosting_type\": \"goss\"<br>  }<br>}",
          "{<br>  \"number\": 69,<br>  \"values\": [<br>    0.17893931633905175,<br>    0.704459740890556<br>  ],<br>  \"params\": {<br>    \"n_estimators\": 2538,<br>    \"num_leaves\": 538,<br>    \"max_depth\": 11,<br>    \"min_child_samples\": 161,<br>    \"learning_rate\": 0.004211863102470212,<br>    \"boosting_type\": \"gbdt\"<br>  }<br>}",
          "{<br>  \"number\": 71,<br>  \"values\": [<br>    0.17967939167386798,<br>    0.6727243615913394<br>  ],<br>  \"params\": {<br>    \"n_estimators\": 825,<br>    \"num_leaves\": 54,<br>    \"max_depth\": 10,<br>    \"min_child_samples\": 168,<br>    \"learning_rate\": 0.00446999606091923,<br>    \"boosting_type\": \"goss\"<br>  }<br>}",
          "{<br>  \"number\": 72,<br>  \"values\": [<br>    0.17070286806464194,<br>    0.6886772002478685<br>  ],<br>  \"params\": {<br>    \"n_estimators\": 1142,<br>    \"num_leaves\": 151,<br>    \"max_depth\": 9,<br>    \"min_child_samples\": 241,<br>    \"learning_rate\": 0.0038210465383160374,<br>    \"boosting_type\": \"gbdt\"<br>  }<br>}",
          "{<br>  \"number\": 73,<br>  \"values\": [<br>    0.16959570797149573,<br>    0.6784003210404939<br>  ],<br>  \"params\": {<br>    \"n_estimators\": 611,<br>    \"num_leaves\": 111,<br>    \"max_depth\": 12,<br>    \"min_child_samples\": 260,<br>    \"learning_rate\": 0.0048271535587347675,<br>    \"boosting_type\": \"gbdt\"<br>  }<br>}",
          "{<br>  \"number\": 74,<br>  \"values\": [<br>    0.17447370561193257,<br>    0.6954432043268949<br>  ],<br>  \"params\": {<br>    \"n_estimators\": 3752,<br>    \"num_leaves\": 49,<br>    \"max_depth\": 11,<br>    \"min_child_samples\": 230,<br>    \"learning_rate\": 0.004134425415364974,<br>    \"boosting_type\": \"gbdt\"<br>  }<br>}",
          "{<br>  \"number\": 77,<br>  \"values\": [<br>    0.16569697688970958,<br>    0.6756037735432157<br>  ],<br>  \"params\": {<br>    \"n_estimators\": 421,<br>    \"num_leaves\": 193,<br>    \"max_depth\": 13,<br>    \"min_child_samples\": 119,<br>    \"learning_rate\": 0.005137177567589275,<br>    \"boosting_type\": \"gbdt\"<br>  }<br>}",
          "{<br>  \"number\": 78,<br>  \"values\": [<br>    0.1729518899476194,<br>    0.6908507013541264<br>  ],<br>  \"params\": {<br>    \"n_estimators\": 1700,<br>    \"num_leaves\": 270,<br>    \"max_depth\": 10,<br>    \"min_child_samples\": 211,<br>    \"learning_rate\": 0.0036337255130929062,<br>    \"boosting_type\": \"gbdt\"<br>  }<br>}",
          "{<br>  \"number\": 79,<br>  \"values\": [<br>    0.14522101542560256,<br>    0.6283615824725264<br>  ],<br>  \"params\": {<br>    \"n_estimators\": 316,<br>    \"num_leaves\": 143,<br>    \"max_depth\": 11,<br>    \"min_child_samples\": 105,<br>    \"learning_rate\": 0.004217765396248264,<br>    \"boosting_type\": \"goss\"<br>  }<br>}",
          "{<br>  \"number\": 81,<br>  \"values\": [<br>    0.15702111602560181,<br>    0.6537303881310708<br>  ],<br>  \"params\": {<br>    \"n_estimators\": 700,<br>    \"num_leaves\": 202,<br>    \"max_depth\": 9,<br>    \"min_child_samples\": 148,<br>    \"learning_rate\": 0.0023427071399147468,<br>    \"boosting_type\": \"gbdt\"<br>  }<br>}",
          "{<br>  \"number\": 82,<br>  \"values\": [<br>    0.1674242892520557,<br>    0.6720839747594718<br>  ],<br>  \"params\": {<br>    \"n_estimators\": 378,<br>    \"num_leaves\": 101,<br>    \"max_depth\": 8,<br>    \"min_child_samples\": 192,<br>    \"learning_rate\": 0.006911190134230593,<br>    \"boosting_type\": \"gbdt\"<br>  }<br>}",
          "{<br>  \"number\": 84,<br>  \"values\": [<br>    0.1818645827754332,<br>    0.6919719684629697<br>  ],<br>  \"params\": {<br>    \"n_estimators\": 7054,<br>    \"num_leaves\": 162,<br>    \"max_depth\": 7,<br>    \"min_child_samples\": 21,<br>    \"learning_rate\": 0.005561612116498597,<br>    \"boosting_type\": \"gbdt\"<br>  }<br>}",
          "{<br>  \"number\": 86,<br>  \"values\": [<br>    0.17322792938601234,<br>    0.6929352462348882<br>  ],<br>  \"params\": {<br>    \"n_estimators\": 1401,<br>    \"num_leaves\": 125,<br>    \"max_depth\": 8,<br>    \"min_child_samples\": 178,<br>    \"learning_rate\": 0.005000550970866915,<br>    \"boosting_type\": \"gbdt\"<br>  }<br>}",
          "{<br>  \"number\": 87,<br>  \"values\": [<br>    0.17749602782375762,<br>    0.7075001382422821<br>  ],<br>  \"params\": {<br>    \"n_estimators\": 5810,<br>    \"num_leaves\": 277,<br>    \"max_depth\": 7,<br>    \"min_child_samples\": 90,<br>    \"learning_rate\": 0.0032173094551694085,<br>    \"boosting_type\": \"gbdt\"<br>  }<br>}",
          "{<br>  \"number\": 88,<br>  \"values\": [<br>    0.17557367253125475,<br>    0.7004720229994457<br>  ],<br>  \"params\": {<br>    \"n_estimators\": 1947,<br>    \"num_leaves\": 237,<br>    \"max_depth\": 9,<br>    \"min_child_samples\": 46,<br>    \"learning_rate\": 0.004920719891734322,<br>    \"boosting_type\": \"gbdt\"<br>  }<br>}",
          "{<br>  \"number\": 89,<br>  \"values\": [<br>    0.13211489609235874,<br>    0.5637306086545382<br>  ],<br>  \"params\": {<br>    \"n_estimators\": 290,<br>    \"num_leaves\": 76,<br>    \"max_depth\": 8,<br>    \"min_child_samples\": 235,<br>    \"learning_rate\": 0.0038179884671246684,<br>    \"boosting_type\": \"goss\"<br>  }<br>}",
          "{<br>  \"number\": 90,<br>  \"values\": [<br>    0.17301891071064293,<br>    0.6875156134916978<br>  ],<br>  \"params\": {<br>    \"n_estimators\": 689,<br>    \"num_leaves\": 180,<br>    \"max_depth\": 9,<br>    \"min_child_samples\": 154,<br>    \"learning_rate\": 0.005334242246714071,<br>    \"boosting_type\": \"gbdt\"<br>  }<br>}",
          "{<br>  \"number\": 91,<br>  \"values\": [<br>    0.1618482268982183,<br>    0.6803689384056385<br>  ],<br>  \"params\": {<br>    \"n_estimators\": 1003,<br>    \"num_leaves\": 226,<br>    \"max_depth\": 10,<br>    \"min_child_samples\": 73,<br>    \"learning_rate\": 0.0025864912295821803,<br>    \"boosting_type\": \"gbdt\"<br>  }<br>}",
          "{<br>  \"number\": 92,<br>  \"values\": [<br>    0.16797135950914083,<br>    0.6755774989922035<br>  ],<br>  \"params\": {<br>    \"n_estimators\": 617,<br>    \"num_leaves\": 39,<br>    \"max_depth\": 11,<br>    \"min_child_samples\": 138,<br>    \"learning_rate\": 0.0035282387152527463,<br>    \"boosting_type\": \"gbdt\"<br>  }<br>}",
          "{<br>  \"number\": 94,<br>  \"values\": [<br>    0.15147819122225317,<br>    0.6261471978901139<br>  ],<br>  \"params\": {<br>    \"n_estimators\": 906,<br>    \"num_leaves\": 88,<br>    \"max_depth\": 8,<br>    \"min_child_samples\": 257,<br>    \"learning_rate\": 0.0018077174881898403,<br>    \"boosting_type\": \"gbdt\"<br>  }<br>}",
          "{<br>  \"number\": 96,<br>  \"values\": [<br>    0.16884969691495946,<br>    0.6810732748562829<br>  ],<br>  \"params\": {<br>    \"n_estimators\": 1552,<br>    \"num_leaves\": 118,<br>    \"max_depth\": 9,<br>    \"min_child_samples\": 263,<br>    \"learning_rate\": 0.0021494676044188058,<br>    \"boosting_type\": \"gbdt\"<br>  }<br>}",
          "{<br>  \"number\": 97,<br>  \"values\": [<br>    0.16522739746128182,<br>    0.6736637317008622<br>  ],<br>  \"params\": {<br>    \"n_estimators\": 1241,<br>    \"num_leaves\": 154,<br>    \"max_depth\": 7,<br>    \"min_child_samples\": 272,<br>    \"learning_rate\": 0.0024570021901824395,<br>    \"boosting_type\": \"gbdt\"<br>  }<br>}",
          "{<br>  \"number\": 98,<br>  \"values\": [<br>    0.1744599937151702,<br>    0.6907156957774849<br>  ],<br>  \"params\": {<br>    \"n_estimators\": 4737,<br>    \"num_leaves\": 203,<br>    \"max_depth\": 8,<br>    \"min_child_samples\": 255,<br>    \"learning_rate\": 0.0015415531223412725,<br>    \"boosting_type\": \"gbdt\"<br>  }<br>}"
         ],
         "type": "scatter",
         "x": [
          0.16946543223805613,
          0.16887289800036642,
          0.1852654708347008,
          0.16891404049388364,
          0.17946028878690332,
          0.17779939943452583,
          0.18004298123725485,
          0.18514861975242158,
          0.19210932399555153,
          0.18097029632871414,
          0.18350901705002687,
          0.18204680182678096,
          0.1804257967660096,
          0.18722060885874567,
          0.18857346189319377,
          0.18201698518898665,
          0.17559074027730245,
          0.18242220597869646,
          0.18123585620122823,
          0.18216915502462147,
          0.16666702877053957,
          0.18070395522703392,
          0.1593282594864242,
          0.15940413029995035,
          0.16456225687609877,
          0.1779620982425351,
          0.16567485325414327,
          0.1707435543401245,
          0.1803224723859196,
          0.1565816363043829,
          0.17532887935585612,
          0.17360056072911703,
          0.17481153172731562,
          0.17764865305544447,
          0.16074767991887856,
          0.17721781191310731,
          0.1695496936523823,
          0.16764718053014935,
          0.1435885407313915,
          0.1515806178293876,
          0.1576648546169874,
          0.16620455145686192,
          0.16059802003188534,
          0.17659840678091904,
          0.15422748302029554,
          0.1574630600845512,
          0.17893931633905175,
          0.17967939167386798,
          0.17070286806464194,
          0.16959570797149573,
          0.17447370561193257,
          0.16569697688970958,
          0.1729518899476194,
          0.14522101542560256,
          0.15702111602560181,
          0.1674242892520557,
          0.1818645827754332,
          0.17322792938601234,
          0.17749602782375762,
          0.17557367253125475,
          0.13211489609235874,
          0.17301891071064293,
          0.1618482268982183,
          0.16797135950914083,
          0.15147819122225317,
          0.16884969691495946,
          0.16522739746128182,
          0.1744599937151702
         ],
         "y": [
          0.6870970713186922,
          0.6801285892010412,
          0.6588125267304845,
          0.6915410827972301,
          0.6877410492403462,
          0.692430058656781,
          0.709229772958372,
          0.653645375325222,
          0.6783989064144558,
          0.6862401062406734,
          0.6783126931776595,
          0.6843016511457365,
          0.6661533521341866,
          0.6554281328406621,
          0.6981146247644515,
          0.7025826395161132,
          0.6905898232142602,
          0.6643641643942482,
          0.6943887824402678,
          0.708125795989041,
          0.6904428863128069,
          0.7008741804251699,
          0.6724962810032445,
          0.674594477407155,
          0.6952952974428424,
          0.7048143740252513,
          0.6731176515234113,
          0.6842914342738478,
          0.7052628632554112,
          0.6557530790172563,
          0.7002325478140344,
          0.6932522764494805,
          0.6780321513617975,
          0.7020390049786503,
          0.6578520531887253,
          0.7023881552018307,
          0.6774037215391766,
          0.6724040754870682,
          0.6257248873263298,
          0.6404547708911095,
          0.6428269183236394,
          0.6942459981171865,
          0.6524334410710415,
          0.6991052618947554,
          0.6422397653488955,
          0.6460405719063889,
          0.704459740890556,
          0.6727243615913394,
          0.6886772002478685,
          0.6784003210404939,
          0.6954432043268949,
          0.6756037735432157,
          0.6908507013541264,
          0.6283615824725264,
          0.6537303881310708,
          0.6720839747594718,
          0.6919719684629697,
          0.6929352462348882,
          0.7075001382422821,
          0.7004720229994457,
          0.5637306086545382,
          0.6875156134916978,
          0.6803689384056385,
          0.6755774989922035,
          0.6261471978901139,
          0.6810732748562829,
          0.6736637317008622,
          0.6907156957774849
         ]
        },
        {
         "hovertemplate": "%{text}<extra>Best Trial</extra>",
         "marker": {
          "color": [
           0,
           12,
           21,
           22,
           23,
           24,
           25,
           26,
           30,
           32,
           33,
           34,
           37,
           38,
           40,
           42,
           49,
           54,
           58,
           59,
           63,
           64,
           66,
           70,
           75,
           76,
           80,
           83,
           85,
           93,
           95,
           99
          ],
          "colorbar": {
           "title": {
            "text": "Best Trial"
           },
           "x": 1.1,
           "xpad": 40
          },
          "colorscale": [
           [
            0,
            "rgb(255,245,240)"
           ],
           [
            0.125,
            "rgb(254,224,210)"
           ],
           [
            0.25,
            "rgb(252,187,161)"
           ],
           [
            0.375,
            "rgb(252,146,114)"
           ],
           [
            0.5,
            "rgb(251,106,74)"
           ],
           [
            0.625,
            "rgb(239,59,44)"
           ],
           [
            0.75,
            "rgb(203,24,29)"
           ],
           [
            0.875,
            "rgb(165,15,21)"
           ],
           [
            1,
            "rgb(103,0,13)"
           ]
          ],
          "line": {
           "color": "Grey",
           "width": 0.5
          }
         },
         "mode": "markers",
         "showlegend": false,
         "text": [
          "{<br>  \"number\": 0,<br>  \"values\": [<br>    0.17441972789334534,<br>    0.713962759662385<br>  ],<br>  \"params\": {<br>    \"n_estimators\": 8669,<br>    \"num_leaves\": 270,<br>    \"max_depth\": 4,<br>    \"min_child_samples\": 17,<br>    \"learning_rate\": 0.0023968541035582405,<br>    \"boosting_type\": \"gbdt\"<br>  }<br>}",
          "{<br>  \"number\": 12,<br>  \"values\": [<br>    0.16980866191463653,<br>    0.702903178160778<br>  ],<br>  \"params\": {<br>    \"n_estimators\": 6506,<br>    \"num_leaves\": 83,<br>    \"max_depth\": 4,<br>    \"min_child_samples\": 53,<br>    \"learning_rate\": 0.0019756436972196054,<br>    \"boosting_type\": \"gbdt\"<br>  }<br>}",
          "{<br>  \"number\": 21,<br>  \"values\": [<br>    0.13646651205639118,<br>    0.6145768891765313<br>  ],<br>  \"params\": {<br>    \"n_estimators\": 4430,<br>    \"num_leaves\": 39,<br>    \"max_depth\": 2,<br>    \"min_child_samples\": 39,<br>    \"learning_rate\": 0.0004165224156703045,<br>    \"boosting_type\": \"gbdt\"<br>  }<br>}",
          "{<br>  \"number\": 22,<br>  \"values\": [<br>    0.0,<br>    0.0<br>  ],<br>  \"params\": {<br>    \"n_estimators\": 814,<br>    \"num_leaves\": 11,<br>    \"max_depth\": 2,<br>    \"min_child_samples\": 40,<br>    \"learning_rate\": 9.793940006456742e-05,<br>    \"boosting_type\": \"gbdt\"<br>  }<br>}",
          "{<br>  \"number\": 23,<br>  \"values\": [<br>    0.0,<br>    0.0<br>  ],<br>  \"params\": {<br>    \"n_estimators\": 4256,<br>    \"num_leaves\": 86,<br>    \"max_depth\": 9,<br>    \"min_child_samples\": 5,<br>    \"learning_rate\": 9.45698865465151e-05,<br>    \"boosting_type\": \"gbdt\"<br>  }<br>}",
          "{<br>  \"number\": 24,<br>  \"values\": [<br>    0.15502563297439062,<br>    0.6647885706871317<br>  ],<br>  \"params\": {<br>    \"n_estimators\": 1986,<br>    \"num_leaves\": 27,<br>    \"max_depth\": 2,<br>    \"min_child_samples\": 83,<br>    \"learning_rate\": 0.0034177571044390325,<br>    \"boosting_type\": \"gbdt\"<br>  }<br>}",
          "{<br>  \"number\": 25,<br>  \"values\": [<br>    0.025566693003403092,<br>    0.17983531381589635<br>  ],<br>  \"params\": {<br>    \"n_estimators\": 108,<br>    \"num_leaves\": 139,<br>    \"max_depth\": 10,<br>    \"min_child_samples\": 181,<br>    \"learning_rate\": 0.004485578493403646,<br>    \"boosting_type\": \"gbdt\"<br>  }<br>}",
          "{<br>  \"number\": 26,<br>  \"values\": [<br>    0.025566693003403092,<br>    0.17983531381589635<br>  ],<br>  \"params\": {<br>    \"n_estimators\": 96,<br>    \"num_leaves\": 246,<br>    \"max_depth\": 11,<br>    \"min_child_samples\": 182,<br>    \"learning_rate\": 0.004782651527519024,<br>    \"boosting_type\": \"gbdt\"<br>  }<br>}",
          "{<br>  \"number\": 30,<br>  \"values\": [<br>    0.1526991719378094,<br>    0.6607348877325039<br>  ],<br>  \"params\": {<br>    \"n_estimators\": 6523,<br>    \"num_leaves\": 55,<br>    \"max_depth\": 3,<br>    \"min_child_samples\": 32,<br>    \"learning_rate\": 0.0005736215295248563,<br>    \"boosting_type\": \"gbdt\"<br>  }<br>}",
          "{<br>  \"number\": 32,<br>  \"values\": [<br>    0.142827759684163,<br>    0.6295802608557208<br>  ],<br>  \"params\": {<br>    \"n_estimators\": 4820,<br>    \"num_leaves\": 451,<br>    \"max_depth\": 2,<br>    \"min_child_samples\": 82,<br>    \"learning_rate\": 0.0005035091706934204,<br>    \"boosting_type\": \"gbdt\"<br>  }<br>}",
          "{<br>  \"number\": 33,<br>  \"values\": [<br>    0.16723062299544503,<br>    0.6976319072755034<br>  ],<br>  \"params\": {<br>    \"n_estimators\": 2746,<br>    \"num_leaves\": 11,<br>    \"max_depth\": 5,<br>    \"min_child_samples\": 59,<br>    \"learning_rate\": 0.0026397169749371565,<br>    \"boosting_type\": \"gbdt\"<br>  }<br>}",
          "{<br>  \"number\": 34,<br>  \"values\": [<br>    0.1725256630185837,<br>    0.7047451959470531<br>  ],<br>  \"params\": {<br>    \"n_estimators\": 3684,<br>    \"num_leaves\": 10,<br>    \"max_depth\": 6,<br>    \"min_child_samples\": 9,<br>    \"learning_rate\": 0.0025199859616956504,<br>    \"boosting_type\": \"gbdt\"<br>  }<br>}",
          "{<br>  \"number\": 37,<br>  \"values\": [<br>    0.0,<br>    0.0<br>  ],<br>  \"params\": {<br>    \"n_estimators\": 244,<br>    \"num_leaves\": 967,<br>    \"max_depth\": 2,<br>    \"min_child_samples\": 80,<br>    \"learning_rate\": 0.0006054058139334268,<br>    \"boosting_type\": \"gbdt\"<br>  }<br>}",
          "{<br>  \"number\": 38,<br>  \"values\": [<br>    0.15755424660547385,<br>    0.6690480126302468<br>  ],<br>  \"params\": {<br>    \"n_estimators\": 1502,<br>    \"num_leaves\": 213,<br>    \"max_depth\": 5,<br>    \"min_child_samples\": 26,<br>    \"learning_rate\": 0.0017397727038292975,<br>    \"boosting_type\": \"gbdt\"<br>  }<br>}",
          "{<br>  \"number\": 40,<br>  \"values\": [<br>    0.004353716411654321,<br>    0.06324327530847504<br>  ],<br>  \"params\": {<br>    \"n_estimators\": 784,<br>    \"num_leaves\": 64,<br>    \"max_depth\": 3,<br>    \"min_child_samples\": 47,<br>    \"learning_rate\": 0.0005714316531411905,<br>    \"boosting_type\": \"gbdt\"<br>  }<br>}",
          "{<br>  \"number\": 42,<br>  \"values\": [<br>    0.12690456147009987,<br>    0.5939435873051668<br>  ],<br>  \"params\": {<br>    \"n_estimators\": 706,<br>    \"num_leaves\": 452,<br>    \"max_depth\": 13,<br>    \"min_child_samples\": 169,<br>    \"learning_rate\": 0.0015241913324514618,<br>    \"boosting_type\": \"gbdt\"<br>  }<br>}",
          "{<br>  \"number\": 49,<br>  \"values\": [<br>    0.0,<br>    0.0<br>  ],<br>  \"params\": {<br>    \"n_estimators\": 45,<br>    \"num_leaves\": 358,<br>    \"max_depth\": 17,<br>    \"min_child_samples\": 174,<br>    \"learning_rate\": 0.0023454317995926562,<br>    \"boosting_type\": \"gbdt\"<br>  }<br>}",
          "{<br>  \"number\": 54,<br>  \"values\": [<br>    0.0,<br>    0.0<br>  ],<br>  \"params\": {<br>    \"n_estimators\": 336,<br>    \"num_leaves\": 488,<br>    \"max_depth\": 11,<br>    \"min_child_samples\": 198,<br>    \"learning_rate\": 0.0007381193185356387,<br>    \"boosting_type\": \"gbdt\"<br>  }<br>}",
          "{<br>  \"number\": 58,<br>  \"values\": [<br>    0.11430299105319583,<br>    0.5665486074222064<br>  ],<br>  \"params\": {<br>    \"n_estimators\": 351,<br>    \"num_leaves\": 546,<br>    \"max_depth\": 8,<br>    \"min_child_samples\": 166,<br>    \"learning_rate\": 0.0027244950456493,<br>    \"boosting_type\": \"gbdt\"<br>  }<br>}",
          "{<br>  \"number\": 59,<br>  \"values\": [<br>    0.025566693003403092,<br>    0.17983531381589635<br>  ],<br>  \"params\": {<br>    \"n_estimators\": 152,<br>    \"num_leaves\": 878,<br>    \"max_depth\": 8,<br>    \"min_child_samples\": 155,<br>    \"learning_rate\": 0.002869251494683279,<br>    \"boosting_type\": \"goss\"<br>  }<br>}",
          "{<br>  \"number\": 63,<br>  \"values\": [<br>    0.002572506487153693,<br>    0.03294117647058824<br>  ],<br>  \"params\": {<br>    \"n_estimators\": 137,<br>    \"num_leaves\": 747,<br>    \"max_depth\": 11,<br>    \"min_child_samples\": 217,<br>    \"learning_rate\": 0.00320243774338019,<br>    \"boosting_type\": \"gbdt\"<br>  }<br>}",
          "{<br>  \"number\": 64,<br>  \"values\": [<br>    0.15792645265047825,<br>    0.672258447260181<br>  ],<br>  \"params\": {<br>    \"n_estimators\": 887,<br>    \"num_leaves\": 774,<br>    \"max_depth\": 7,<br>    \"min_child_samples\": 37,<br>    \"learning_rate\": 0.0026388349810496535,<br>    \"boosting_type\": \"gbdt\"<br>  }<br>}",
          "{<br>  \"number\": 66,<br>  \"values\": [<br>    0.0,<br>    0.0<br>  ],<br>  \"params\": {<br>    \"n_estimators\": 35,<br>    \"num_leaves\": 571,<br>    \"max_depth\": 8,<br>    \"min_child_samples\": 179,<br>    \"learning_rate\": 0.005054488971457161,<br>    \"boosting_type\": \"gbdt\"<br>  }<br>}",
          "{<br>  \"number\": 70,<br>  \"values\": [<br>    0.16795588102237324,<br>    0.7022439734857594<br>  ],<br>  \"params\": {<br>    \"n_estimators\": 1122,<br>    \"num_leaves\": 262,<br>    \"max_depth\": 10,<br>    \"min_child_samples\": 13,<br>    \"learning_rate\": 0.004448803899281715,<br>    \"boosting_type\": \"gbdt\"<br>  }<br>}",
          "{<br>  \"number\": 75,<br>  \"values\": [<br>    0.0,<br>    0.0<br>  ],<br>  \"params\": {<br>    \"n_estimators\": 57,<br>    \"num_leaves\": 102,<br>    \"max_depth\": 3,<br>    \"min_child_samples\": 289,<br>    \"learning_rate\": 0.0046061775046682026,<br>    \"boosting_type\": \"goss\"<br>  }<br>}",
          "{<br>  \"number\": 76,<br>  \"values\": [<br>    0.14925556609892165,<br>    0.6539343354877714<br>  ],<br>  \"params\": {<br>    \"n_estimators\": 307,<br>    \"num_leaves\": 204,<br>    \"max_depth\": 13,<br>    \"min_child_samples\": 38,<br>    \"learning_rate\": 0.005306327692142801,<br>    \"boosting_type\": \"gbdt\"<br>  }<br>}",
          "{<br>  \"number\": 80,<br>  \"values\": [<br>    0.1643452136532733,<br>    0.6973956077413781<br>  ],<br>  \"params\": {<br>    \"n_estimators\": 662,<br>    \"num_leaves\": 219,<br>    \"max_depth\": 9,<br>    \"min_child_samples\": 12,<br>    \"learning_rate\": 0.005395771649930106,<br>    \"boosting_type\": \"gbdt\"<br>  }<br>}",
          "{<br>  \"number\": 83,<br>  \"values\": [<br>    0.15885485209579214,<br>    0.6831723507571427<br>  ],<br>  \"params\": {<br>    \"n_estimators\": 844,<br>    \"num_leaves\": 168,<br>    \"max_depth\": 7,<br>    \"min_child_samples\": 16,<br>    \"learning_rate\": 0.0031533299143951766,<br>    \"boosting_type\": \"gbdt\"<br>  }<br>}",
          "{<br>  \"number\": 85,<br>  \"values\": [<br>    0.0,<br>    0.0<br>  ],<br>  \"params\": {<br>    \"n_estimators\": 25,<br>    \"num_leaves\": 171,<br>    \"max_depth\": 6,<br>    \"min_child_samples\": 165,<br>    \"learning_rate\": 0.005931100373748201,<br>    \"boosting_type\": \"goss\"<br>  }<br>}",
          "{<br>  \"number\": 93,<br>  \"values\": [<br>    0.06960939004752724,<br>    0.367440088275832<br>  ],<br>  \"params\": {<br>    \"n_estimators\": 402,<br>    \"num_leaves\": 133,<br>    \"max_depth\": 9,<br>    \"min_child_samples\": 269,<br>    \"learning_rate\": 0.0017119078007885736,<br>    \"boosting_type\": \"gbdt\"<br>  }<br>}",
          "{<br>  \"number\": 95,<br>  \"values\": [<br>    0.0,<br>    0.0<br>  ],<br>  \"params\": {<br>    \"n_estimators\": 250,<br>    \"num_leaves\": 135,<br>    \"max_depth\": 10,<br>    \"min_child_samples\": 286,<br>    \"learning_rate\": 0.001711874771890368,<br>    \"boosting_type\": \"gbdt\"<br>  }<br>}",
          "{<br>  \"number\": 99,<br>  \"values\": [<br>    0.02154880352231061,<br>    0.13920469212077152<br>  ],<br>  \"params\": {<br>    \"n_estimators\": 244,<br>    \"num_leaves\": 173,<br>    \"max_depth\": 10,<br>    \"min_child_samples\": 245,<br>    \"learning_rate\": 0.001998603746290704,<br>    \"boosting_type\": \"gbdt\"<br>  }<br>}"
         ],
         "type": "scatter",
         "x": [
          0.17441972789334534,
          0.16980866191463653,
          0.13646651205639118,
          0,
          0,
          0.15502563297439062,
          0.025566693003403092,
          0.025566693003403092,
          0.1526991719378094,
          0.142827759684163,
          0.16723062299544503,
          0.1725256630185837,
          0,
          0.15755424660547385,
          0.004353716411654321,
          0.12690456147009987,
          0,
          0,
          0.11430299105319583,
          0.025566693003403092,
          0.002572506487153693,
          0.15792645265047825,
          0,
          0.16795588102237324,
          0,
          0.14925556609892165,
          0.1643452136532733,
          0.15885485209579214,
          0,
          0.06960939004752724,
          0,
          0.02154880352231061
         ],
         "y": [
          0.713962759662385,
          0.702903178160778,
          0.6145768891765313,
          0,
          0,
          0.6647885706871317,
          0.17983531381589635,
          0.17983531381589635,
          0.6607348877325039,
          0.6295802608557208,
          0.6976319072755034,
          0.7047451959470531,
          0,
          0.6690480126302468,
          0.06324327530847504,
          0.5939435873051668,
          0,
          0,
          0.5665486074222064,
          0.17983531381589635,
          0.03294117647058824,
          0.672258447260181,
          0,
          0.7022439734857594,
          0,
          0.6539343354877714,
          0.6973956077413781,
          0.6831723507571427,
          0,
          0.367440088275832,
          0,
          0.13920469212077152
         ]
        }
       ],
       "layout": {
        "template": {
         "data": {
          "bar": [
           {
            "error_x": {
             "color": "#2a3f5f"
            },
            "error_y": {
             "color": "#2a3f5f"
            },
            "marker": {
             "line": {
              "color": "#E5ECF6",
              "width": 0.5
             },
             "pattern": {
              "fillmode": "overlay",
              "size": 10,
              "solidity": 0.2
             }
            },
            "type": "bar"
           }
          ],
          "barpolar": [
           {
            "marker": {
             "line": {
              "color": "#E5ECF6",
              "width": 0.5
             },
             "pattern": {
              "fillmode": "overlay",
              "size": 10,
              "solidity": 0.2
             }
            },
            "type": "barpolar"
           }
          ],
          "carpet": [
           {
            "aaxis": {
             "endlinecolor": "#2a3f5f",
             "gridcolor": "white",
             "linecolor": "white",
             "minorgridcolor": "white",
             "startlinecolor": "#2a3f5f"
            },
            "baxis": {
             "endlinecolor": "#2a3f5f",
             "gridcolor": "white",
             "linecolor": "white",
             "minorgridcolor": "white",
             "startlinecolor": "#2a3f5f"
            },
            "type": "carpet"
           }
          ],
          "choropleth": [
           {
            "colorbar": {
             "outlinewidth": 0,
             "ticks": ""
            },
            "type": "choropleth"
           }
          ],
          "contour": [
           {
            "colorbar": {
             "outlinewidth": 0,
             "ticks": ""
            },
            "colorscale": [
             [
              0,
              "#0d0887"
             ],
             [
              0.1111111111111111,
              "#46039f"
             ],
             [
              0.2222222222222222,
              "#7201a8"
             ],
             [
              0.3333333333333333,
              "#9c179e"
             ],
             [
              0.4444444444444444,
              "#bd3786"
             ],
             [
              0.5555555555555556,
              "#d8576b"
             ],
             [
              0.6666666666666666,
              "#ed7953"
             ],
             [
              0.7777777777777778,
              "#fb9f3a"
             ],
             [
              0.8888888888888888,
              "#fdca26"
             ],
             [
              1,
              "#f0f921"
             ]
            ],
            "type": "contour"
           }
          ],
          "contourcarpet": [
           {
            "colorbar": {
             "outlinewidth": 0,
             "ticks": ""
            },
            "type": "contourcarpet"
           }
          ],
          "heatmap": [
           {
            "colorbar": {
             "outlinewidth": 0,
             "ticks": ""
            },
            "colorscale": [
             [
              0,
              "#0d0887"
             ],
             [
              0.1111111111111111,
              "#46039f"
             ],
             [
              0.2222222222222222,
              "#7201a8"
             ],
             [
              0.3333333333333333,
              "#9c179e"
             ],
             [
              0.4444444444444444,
              "#bd3786"
             ],
             [
              0.5555555555555556,
              "#d8576b"
             ],
             [
              0.6666666666666666,
              "#ed7953"
             ],
             [
              0.7777777777777778,
              "#fb9f3a"
             ],
             [
              0.8888888888888888,
              "#fdca26"
             ],
             [
              1,
              "#f0f921"
             ]
            ],
            "type": "heatmap"
           }
          ],
          "heatmapgl": [
           {
            "colorbar": {
             "outlinewidth": 0,
             "ticks": ""
            },
            "colorscale": [
             [
              0,
              "#0d0887"
             ],
             [
              0.1111111111111111,
              "#46039f"
             ],
             [
              0.2222222222222222,
              "#7201a8"
             ],
             [
              0.3333333333333333,
              "#9c179e"
             ],
             [
              0.4444444444444444,
              "#bd3786"
             ],
             [
              0.5555555555555556,
              "#d8576b"
             ],
             [
              0.6666666666666666,
              "#ed7953"
             ],
             [
              0.7777777777777778,
              "#fb9f3a"
             ],
             [
              0.8888888888888888,
              "#fdca26"
             ],
             [
              1,
              "#f0f921"
             ]
            ],
            "type": "heatmapgl"
           }
          ],
          "histogram": [
           {
            "marker": {
             "pattern": {
              "fillmode": "overlay",
              "size": 10,
              "solidity": 0.2
             }
            },
            "type": "histogram"
           }
          ],
          "histogram2d": [
           {
            "colorbar": {
             "outlinewidth": 0,
             "ticks": ""
            },
            "colorscale": [
             [
              0,
              "#0d0887"
             ],
             [
              0.1111111111111111,
              "#46039f"
             ],
             [
              0.2222222222222222,
              "#7201a8"
             ],
             [
              0.3333333333333333,
              "#9c179e"
             ],
             [
              0.4444444444444444,
              "#bd3786"
             ],
             [
              0.5555555555555556,
              "#d8576b"
             ],
             [
              0.6666666666666666,
              "#ed7953"
             ],
             [
              0.7777777777777778,
              "#fb9f3a"
             ],
             [
              0.8888888888888888,
              "#fdca26"
             ],
             [
              1,
              "#f0f921"
             ]
            ],
            "type": "histogram2d"
           }
          ],
          "histogram2dcontour": [
           {
            "colorbar": {
             "outlinewidth": 0,
             "ticks": ""
            },
            "colorscale": [
             [
              0,
              "#0d0887"
             ],
             [
              0.1111111111111111,
              "#46039f"
             ],
             [
              0.2222222222222222,
              "#7201a8"
             ],
             [
              0.3333333333333333,
              "#9c179e"
             ],
             [
              0.4444444444444444,
              "#bd3786"
             ],
             [
              0.5555555555555556,
              "#d8576b"
             ],
             [
              0.6666666666666666,
              "#ed7953"
             ],
             [
              0.7777777777777778,
              "#fb9f3a"
             ],
             [
              0.8888888888888888,
              "#fdca26"
             ],
             [
              1,
              "#f0f921"
             ]
            ],
            "type": "histogram2dcontour"
           }
          ],
          "mesh3d": [
           {
            "colorbar": {
             "outlinewidth": 0,
             "ticks": ""
            },
            "type": "mesh3d"
           }
          ],
          "parcoords": [
           {
            "line": {
             "colorbar": {
              "outlinewidth": 0,
              "ticks": ""
             }
            },
            "type": "parcoords"
           }
          ],
          "pie": [
           {
            "automargin": true,
            "type": "pie"
           }
          ],
          "scatter": [
           {
            "fillpattern": {
             "fillmode": "overlay",
             "size": 10,
             "solidity": 0.2
            },
            "type": "scatter"
           }
          ],
          "scatter3d": [
           {
            "line": {
             "colorbar": {
              "outlinewidth": 0,
              "ticks": ""
             }
            },
            "marker": {
             "colorbar": {
              "outlinewidth": 0,
              "ticks": ""
             }
            },
            "type": "scatter3d"
           }
          ],
          "scattercarpet": [
           {
            "marker": {
             "colorbar": {
              "outlinewidth": 0,
              "ticks": ""
             }
            },
            "type": "scattercarpet"
           }
          ],
          "scattergeo": [
           {
            "marker": {
             "colorbar": {
              "outlinewidth": 0,
              "ticks": ""
             }
            },
            "type": "scattergeo"
           }
          ],
          "scattergl": [
           {
            "marker": {
             "colorbar": {
              "outlinewidth": 0,
              "ticks": ""
             }
            },
            "type": "scattergl"
           }
          ],
          "scattermapbox": [
           {
            "marker": {
             "colorbar": {
              "outlinewidth": 0,
              "ticks": ""
             }
            },
            "type": "scattermapbox"
           }
          ],
          "scatterpolar": [
           {
            "marker": {
             "colorbar": {
              "outlinewidth": 0,
              "ticks": ""
             }
            },
            "type": "scatterpolar"
           }
          ],
          "scatterpolargl": [
           {
            "marker": {
             "colorbar": {
              "outlinewidth": 0,
              "ticks": ""
             }
            },
            "type": "scatterpolargl"
           }
          ],
          "scatterternary": [
           {
            "marker": {
             "colorbar": {
              "outlinewidth": 0,
              "ticks": ""
             }
            },
            "type": "scatterternary"
           }
          ],
          "surface": [
           {
            "colorbar": {
             "outlinewidth": 0,
             "ticks": ""
            },
            "colorscale": [
             [
              0,
              "#0d0887"
             ],
             [
              0.1111111111111111,
              "#46039f"
             ],
             [
              0.2222222222222222,
              "#7201a8"
             ],
             [
              0.3333333333333333,
              "#9c179e"
             ],
             [
              0.4444444444444444,
              "#bd3786"
             ],
             [
              0.5555555555555556,
              "#d8576b"
             ],
             [
              0.6666666666666666,
              "#ed7953"
             ],
             [
              0.7777777777777778,
              "#fb9f3a"
             ],
             [
              0.8888888888888888,
              "#fdca26"
             ],
             [
              1,
              "#f0f921"
             ]
            ],
            "type": "surface"
           }
          ],
          "table": [
           {
            "cells": {
             "fill": {
              "color": "#EBF0F8"
             },
             "line": {
              "color": "white"
             }
            },
            "header": {
             "fill": {
              "color": "#C8D4E3"
             },
             "line": {
              "color": "white"
             }
            },
            "type": "table"
           }
          ]
         },
         "layout": {
          "annotationdefaults": {
           "arrowcolor": "#2a3f5f",
           "arrowhead": 0,
           "arrowwidth": 1
          },
          "autotypenumbers": "strict",
          "coloraxis": {
           "colorbar": {
            "outlinewidth": 0,
            "ticks": ""
           }
          },
          "colorscale": {
           "diverging": [
            [
             0,
             "#8e0152"
            ],
            [
             0.1,
             "#c51b7d"
            ],
            [
             0.2,
             "#de77ae"
            ],
            [
             0.3,
             "#f1b6da"
            ],
            [
             0.4,
             "#fde0ef"
            ],
            [
             0.5,
             "#f7f7f7"
            ],
            [
             0.6,
             "#e6f5d0"
            ],
            [
             0.7,
             "#b8e186"
            ],
            [
             0.8,
             "#7fbc41"
            ],
            [
             0.9,
             "#4d9221"
            ],
            [
             1,
             "#276419"
            ]
           ],
           "sequential": [
            [
             0,
             "#0d0887"
            ],
            [
             0.1111111111111111,
             "#46039f"
            ],
            [
             0.2222222222222222,
             "#7201a8"
            ],
            [
             0.3333333333333333,
             "#9c179e"
            ],
            [
             0.4444444444444444,
             "#bd3786"
            ],
            [
             0.5555555555555556,
             "#d8576b"
            ],
            [
             0.6666666666666666,
             "#ed7953"
            ],
            [
             0.7777777777777778,
             "#fb9f3a"
            ],
            [
             0.8888888888888888,
             "#fdca26"
            ],
            [
             1,
             "#f0f921"
            ]
           ],
           "sequentialminus": [
            [
             0,
             "#0d0887"
            ],
            [
             0.1111111111111111,
             "#46039f"
            ],
            [
             0.2222222222222222,
             "#7201a8"
            ],
            [
             0.3333333333333333,
             "#9c179e"
            ],
            [
             0.4444444444444444,
             "#bd3786"
            ],
            [
             0.5555555555555556,
             "#d8576b"
            ],
            [
             0.6666666666666666,
             "#ed7953"
            ],
            [
             0.7777777777777778,
             "#fb9f3a"
            ],
            [
             0.8888888888888888,
             "#fdca26"
            ],
            [
             1,
             "#f0f921"
            ]
           ]
          },
          "colorway": [
           "#636efa",
           "#EF553B",
           "#00cc96",
           "#ab63fa",
           "#FFA15A",
           "#19d3f3",
           "#FF6692",
           "#B6E880",
           "#FF97FF",
           "#FECB52"
          ],
          "font": {
           "color": "#2a3f5f"
          },
          "geo": {
           "bgcolor": "white",
           "lakecolor": "white",
           "landcolor": "#E5ECF6",
           "showlakes": true,
           "showland": true,
           "subunitcolor": "white"
          },
          "hoverlabel": {
           "align": "left"
          },
          "hovermode": "closest",
          "mapbox": {
           "style": "light"
          },
          "paper_bgcolor": "white",
          "plot_bgcolor": "#E5ECF6",
          "polar": {
           "angularaxis": {
            "gridcolor": "white",
            "linecolor": "white",
            "ticks": ""
           },
           "bgcolor": "#E5ECF6",
           "radialaxis": {
            "gridcolor": "white",
            "linecolor": "white",
            "ticks": ""
           }
          },
          "scene": {
           "xaxis": {
            "backgroundcolor": "#E5ECF6",
            "gridcolor": "white",
            "gridwidth": 2,
            "linecolor": "white",
            "showbackground": true,
            "ticks": "",
            "zerolinecolor": "white"
           },
           "yaxis": {
            "backgroundcolor": "#E5ECF6",
            "gridcolor": "white",
            "gridwidth": 2,
            "linecolor": "white",
            "showbackground": true,
            "ticks": "",
            "zerolinecolor": "white"
           },
           "zaxis": {
            "backgroundcolor": "#E5ECF6",
            "gridcolor": "white",
            "gridwidth": 2,
            "linecolor": "white",
            "showbackground": true,
            "ticks": "",
            "zerolinecolor": "white"
           }
          },
          "shapedefaults": {
           "line": {
            "color": "#2a3f5f"
           }
          },
          "ternary": {
           "aaxis": {
            "gridcolor": "white",
            "linecolor": "white",
            "ticks": ""
           },
           "baxis": {
            "gridcolor": "white",
            "linecolor": "white",
            "ticks": ""
           },
           "bgcolor": "#E5ECF6",
           "caxis": {
            "gridcolor": "white",
            "linecolor": "white",
            "ticks": ""
           }
          },
          "title": {
           "x": 0.05
          },
          "xaxis": {
           "automargin": true,
           "gridcolor": "white",
           "linecolor": "white",
           "ticks": "",
           "title": {
            "standoff": 15
           },
           "zerolinecolor": "white",
           "zerolinewidth": 2
          },
          "yaxis": {
           "automargin": true,
           "gridcolor": "white",
           "linecolor": "white",
           "ticks": "",
           "title": {
            "standoff": 15
           },
           "zerolinecolor": "white",
           "zerolinewidth": 2
          }
         }
        },
        "title": {
         "text": "Pareto-front Plot"
        },
        "xaxis": {
         "title": {
          "text": "fair_metric"
         }
        },
        "yaxis": {
         "title": {
          "text": "f1_score"
         }
        }
       }
      }
     },
     "metadata": {},
     "output_type": "display_data"
    }
   ],
   "source": [
    "optuna.visualization.plot_pareto_front(study, target_names=[\"fair_metric\", \"f1_score\"], include_dominated_trials = True)"
   ]
  }
 ],
 "metadata": {
  "kernelspec": {
   "display_name": "fairenv",
   "language": "python",
   "name": "python3"
  },
  "language_info": {
   "codemirror_mode": {
    "name": "ipython",
    "version": 3
   },
   "file_extension": ".py",
   "mimetype": "text/x-python",
   "name": "python",
   "nbconvert_exporter": "python",
   "pygments_lexer": "ipython3",
   "version": "3.10.10"
  },
  "orig_nbformat": 4
 },
 "nbformat": 4,
 "nbformat_minor": 2
}
