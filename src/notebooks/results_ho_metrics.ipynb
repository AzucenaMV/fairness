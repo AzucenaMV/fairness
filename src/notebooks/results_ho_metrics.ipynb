{
 "cells": [
  {
   "cell_type": "code",
   "execution_count": 3,
   "metadata": {},
   "outputs": [
    {
     "name": "stderr",
     "output_type": "stream",
     "text": [
      "/home/azucena/miniconda3/envs/fairenv/lib/python3.10/site-packages/tqdm/auto.py:21: TqdmWarning: IProgress not found. Please update jupyter and ipywidgets. See https://ipywidgets.readthedocs.io/en/stable/user_install.html\n",
      "  from .autonotebook import tqdm as notebook_tqdm\n"
     ]
    }
   ],
   "source": [
    "from sklearn.metrics import f1_score, confusion_matrix, make_scorer, accuracy_score, recall_score\n",
    "from sklearn.model_selection import cross_val_score, train_test_split, cross_validate\n",
    "from fairlearn.metrics import (\n",
    "    count,\n",
    "    selection_rate,\n",
    "    equalized_odds_difference,\n",
    "    false_positive_rate,\n",
    "    false_negative_rate,\n",
    "    demographic_parity_difference,\n",
    "    MetricFrame,\n",
    "    true_negative_rate,\n",
    "    true_positive_rate\n",
    ")\n",
    "\n",
    "from fairlearn.datasets import fetch_adult\n",
    "from sklearn.pipeline import Pipeline\n",
    "from sklearn.preprocessing import OneHotEncoder, StandardScaler\n",
    "from sklearn.compose import ColumnTransformer\n",
    "from sklearn.compose import make_column_selector as selector\n",
    "from sklearn.impute import SimpleImputer\n",
    "from sklearn.ensemble import RandomForestClassifier, GradientBoostingClassifier\n",
    "from sklearn.linear_model import LogisticRegression\n",
    "from lightgbm import LGBMClassifier\n",
    "from metrics import equality_opportunity_difference, predictive_equality_difference, metric_evaluation, get_metric_evaluation\n",
    "\n",
    "\n",
    "import numpy as np\n",
    "import optuna\n",
    "import tqdm as notebook_tqdm\n",
    "\n",
    "import dill\n",
    "import optuna\n",
    "import plotly"
   ]
  },
  {
   "attachments": {},
   "cell_type": "markdown",
   "metadata": {},
   "source": [
    "## One simulation"
   ]
  },
  {
   "cell_type": "code",
   "execution_count": null,
   "metadata": {},
   "outputs": [],
   "source": [
    "data = fetch_adult(as_frame=True)\n",
    "X_raw = data.data\n",
    "y = (data.target == \">50K\") * 1\n",
    "A = X_raw[\"sex\"]\n",
    "\n",
    "numeric_transformer = Pipeline(\n",
    "    steps=[\n",
    "        (\"impute\", SimpleImputer()),\n",
    "        (\"scaler\", StandardScaler()),\n",
    "    ]\n",
    ")\n",
    "categorical_transformer = Pipeline(\n",
    "    [\n",
    "        (\"impute\", SimpleImputer(strategy=\"most_frequent\")),\n",
    "        (\"ohe\", OneHotEncoder(handle_unknown=\"ignore\")),\n",
    "    ]\n",
    ")\n",
    "preprocessor = ColumnTransformer(\n",
    "    transformers=[\n",
    "        (\"num\", numeric_transformer, selector(dtype_exclude=\"category\")),\n",
    "        (\"cat\", categorical_transformer, selector(dtype_include=\"category\")),\n",
    "    ]\n",
    ")\n",
    "\n",
    "pipeline = Pipeline(\n",
    "    steps=[\n",
    "        (\"preprocessor\", preprocessor),\n",
    "        (\n",
    "            \"classifier\",\n",
    "            LGBMClassifier(n_jobs=-1),\n",
    "        ),\n",
    "    ]\n",
    ")"
   ]
  },
  {
   "cell_type": "code",
   "execution_count": null,
   "metadata": {},
   "outputs": [],
   "source": [
    "file_name = 'recall-fpr-lgbm-motpe-succesivehalving-100trials-1sim.pkl'\n",
    "with open(file_name, 'rb') as in_strm:\n",
    "    results = dill.load(in_strm)"
   ]
  },
  {
   "cell_type": "code",
   "execution_count": null,
   "metadata": {},
   "outputs": [],
   "source": [
    "import matplotlib.pyplot as plt\n",
    "results_df = results[0].trials_dataframe()"
   ]
  },
  {
   "cell_type": "code",
   "execution_count": null,
   "metadata": {},
   "outputs": [],
   "source": [
    "metric_list = []\n",
    "n_sim = 0 \n",
    "\n",
    "(X_train, X_test, y_train, y_test, A_train, A_test) = train_test_split(\n",
    "    X_raw, y, A, test_size=0.8, random_state=n_sim, stratify=y\n",
    ")\n",
    "\n",
    "X_train = X_train.reset_index(drop=True)\n",
    "X_test = X_test.reset_index(drop=True)\n",
    "y_train = y_train.reset_index(drop=True)\n",
    "y_test = y_test.reset_index(drop=True)\n",
    "A_train = A_train.reset_index(drop=True)\n",
    "A_test = A_test.reset_index(drop=True)\n",
    "\n",
    "pipeline.fit(X_train, y_train)\n",
    "y_pred_original = pipeline.predict(X_test)  \n",
    "\n",
    "for i in range(len(results[n_sim].best_trials)):\n",
    "    best_params = {key.replace('lgbm_',''):value for key, value in results[n_sim].best_trials[i].params.items()}\n",
    "    pipeline['classifier'].set_params(**best_params)\n",
    "    pipeline.fit(X_train, y_train)\n",
    "    y_pred_optimized = pipeline.predict(X_test)  \n",
    "    metric_list.append(\n",
    "        metric_evaluation(\n",
    "            y_true=y_test, \n",
    "            y_pred=y_pred_optimized, \n",
    "            sensitive_features=X_test['sex']\n",
    "            )\n",
    "    )"
   ]
  },
  {
   "cell_type": "code",
   "execution_count": null,
   "metadata": {},
   "outputs": [],
   "source": [
    "fair_metric_1 = [get_metric_evaluation(metric)['predictive equality difference'] for metric in metric_list]\n",
    "fair_metric_2 = [get_metric_evaluation(metric)['equality opportunity difference'] for metric in metric_list]\n",
    "fair_metric_3 = [get_metric_evaluation(metric)['average absolute odds difference'] for metric in metric_list]\n",
    "fair_metric_4 = [get_metric_evaluation(metric)['disparity difference'] for metric in metric_list]\n",
    "fair_metric_train = [results[0].best_trials[i].values[0] for i in range(len(results[0].best_trials))]\n"
   ]
  },
  {
   "cell_type": "code",
   "execution_count": null,
   "metadata": {},
   "outputs": [],
   "source": [
    "fairness_metrics = list(zip(fair_metric_train, fair_metric_1, fair_metric_2, fair_metric_3, fair_metric_4))\n",
    "fairness_metrics_ = sorted(fairness_metrics, key = lambda x: x[0])\n",
    "colors = ['DodgerBlue','SkyBlue','LightCoral','MediumPurple','SandyBrown']\n",
    "labels = ['Predictive Equality diff', 'Predictive Equality Diff', \n",
    "          'Equality Opportunity Diff', 'Average Absolute Odds Diff',\n",
    "          'Demographic Disparity Diff']\n",
    "\n",
    "\n",
    "fig, ax = plt.subplots(figsize=(10,6))\n",
    "for i, (color, label) in enumerate(zip(colors,labels)):\n",
    "    if i != 0:\n",
    "        ax.scatter(range(len(fair_metric_1)), list(zip(*fairness_metrics_))[i], c=color, label=label)\n",
    "\n",
    "ax.legend()\n",
    "ax.grid(True)\n",
    "\n",
    "plt.show()\n"
   ]
  },
  {
   "cell_type": "code",
   "execution_count": null,
   "metadata": {},
   "outputs": [],
   "source": [
    "model_metric_train = [results[0].best_trials[i].values[1] for i in range(len(results[0].best_trials))]\n",
    "model_metric_1 = [metric.overall['recall'] for metric in metric_list]\n",
    "model_metric_2 = [metric.overall['precision'] for metric in metric_list]\n",
    "model_metric_3 = [metric.overall['f1 score'] for metric in metric_list]\n",
    "model_metric_4 = [metric.overall['accuracy'] for metric in metric_list]\n",
    "model_metrics = list(zip(model_metric_train, model_metric_1, model_metric_2, model_metric_3, model_metric_4))\n",
    "model_metrics_ = sorted(model_metrics, key = lambda x: x[0])\n"
   ]
  },
  {
   "cell_type": "code",
   "execution_count": null,
   "metadata": {},
   "outputs": [],
   "source": [
    "colors = ['DodgerBlue','SkyBlue','LightCoral','MediumPurple','SandyBrown']\n",
    "labels = ['Recall', 'Recall', 'Precision', 'F1 Score','Accuracy']\n",
    "\n",
    "\n",
    "fig, ax = plt.subplots(figsize=(10,6))\n",
    "for i, (color, label) in enumerate(zip(colors,labels)):\n",
    "    if i != 0:\n",
    "        ax.scatter(range(len(model_metric_train)), list(zip(*model_metrics_))[i], c=color, label=label)\n",
    "\n",
    "ax.legend()\n",
    "ax.grid(True)\n",
    "\n",
    "plt.show()\n"
   ]
  },
  {
   "cell_type": "code",
   "execution_count": null,
   "metadata": {},
   "outputs": [],
   "source": []
  },
  {
   "cell_type": "code",
   "execution_count": null,
   "metadata": {},
   "outputs": [],
   "source": [
    "fair_metric_train = [results[0].best_trials[i].values[0] for i in range(len(results[0].best_trials))]\n",
    "model_metric_train = [results[0].best_trials[i].values[1] for i in range(len(results[0].best_trials))]"
   ]
  },
  {
   "cell_type": "code",
   "execution_count": null,
   "metadata": {},
   "outputs": [],
   "source": [
    "plt.style.use('seaborn-v0_8-darkgrid')\n",
    "\n",
    "plt.scatter(fair_metric_train, model_metric_train)"
   ]
  },
  {
   "cell_type": "code",
   "execution_count": null,
   "metadata": {},
   "outputs": [],
   "source": [
    "fairness_metrics = list(zip(fair_metric_train, fair_metric))\n",
    "fairness_metrics_ = sorted(fairness_metrics, key = lambda x: x[0])\n"
   ]
  },
  {
   "cell_type": "code",
   "execution_count": null,
   "metadata": {},
   "outputs": [],
   "source": [
    "plt.scatter(range(len(fair_metric_train)),list(zip(*fairness_metrics_))[0])\n",
    "plt.scatter(range(len(fair_metric_train)), list(zip(*fairness_metrics_))[1])"
   ]
  },
  {
   "cell_type": "code",
   "execution_count": null,
   "metadata": {},
   "outputs": [],
   "source": [
    "model_metrics = list(zip(model_metric_train, model_metric))\n",
    "model_metrics_ = sorted(model_metrics, key = lambda x: x[0])"
   ]
  },
  {
   "cell_type": "code",
   "execution_count": null,
   "metadata": {},
   "outputs": [],
   "source": [
    "plt.scatter(range(len(fair_metric_train)),list(zip(*model_metrics_))[0])\n",
    "plt.scatter(range(len(fair_metric_train)), list(zip(*model_metrics_))[1])"
   ]
  },
  {
   "cell_type": "code",
   "execution_count": null,
   "metadata": {},
   "outputs": [],
   "source": [
    "n = 1\n",
    "best_params = {key.replace('lgbm_',''):value for key, value in results.best_trials[n].params.items()}\n",
    "pipeline['classifier'].set_params(**best_params)"
   ]
  },
  {
   "cell_type": "code",
   "execution_count": null,
   "metadata": {},
   "outputs": [],
   "source": [
    "pipeline.fit(X_train, y_train)\n",
    "y_pred = pipeline.predict(X_test)"
   ]
  },
  {
   "cell_type": "code",
   "execution_count": null,
   "metadata": {},
   "outputs": [],
   "source": [
    "fair_value = np.abs(equalized_odds_difference(y_test, y_pred, sensitive_features=A_test))\n",
    "model_value = f1_score(y_test, y_pred) \n",
    "print(fair_value)\n",
    "print(model_value)"
   ]
  },
  {
   "attachments": {},
   "cell_type": "markdown",
   "metadata": {},
   "source": [
    "## Several Simulations"
   ]
  },
  {
   "cell_type": "code",
   "execution_count": 3,
   "metadata": {},
   "outputs": [
    {
     "ename": "FileNotFoundError",
     "evalue": "[Errno 2] No such file or directory: 'recall-fpr-lgbm-motpe-succesivehalving-100trials-4sim.pkl'",
     "output_type": "error",
     "traceback": [
      "\u001b[0;31m---------------------------------------------------------------------------\u001b[0m",
      "\u001b[0;31mFileNotFoundError\u001b[0m                         Traceback (most recent call last)",
      "Cell \u001b[0;32mIn[3], line 2\u001b[0m\n\u001b[1;32m      1\u001b[0m file_name \u001b[39m=\u001b[39m \u001b[39m'\u001b[39m\u001b[39mrecall-fpr-lgbm-motpe-succesivehalving-100trials-4sim.pkl\u001b[39m\u001b[39m'\u001b[39m\n\u001b[0;32m----> 2\u001b[0m \u001b[39mwith\u001b[39;00m \u001b[39mopen\u001b[39;49m(file_name, \u001b[39m'\u001b[39;49m\u001b[39mrb\u001b[39;49m\u001b[39m'\u001b[39;49m) \u001b[39mas\u001b[39;00m in_strm:\n\u001b[1;32m      3\u001b[0m     results \u001b[39m=\u001b[39m dill\u001b[39m.\u001b[39mload(in_strm)\n",
      "File \u001b[0;32m~/.local/lib/python3.10/site-packages/IPython/core/interactiveshell.py:284\u001b[0m, in \u001b[0;36m_modified_open\u001b[0;34m(file, *args, **kwargs)\u001b[0m\n\u001b[1;32m    277\u001b[0m \u001b[39mif\u001b[39;00m file \u001b[39min\u001b[39;00m {\u001b[39m0\u001b[39m, \u001b[39m1\u001b[39m, \u001b[39m2\u001b[39m}:\n\u001b[1;32m    278\u001b[0m     \u001b[39mraise\u001b[39;00m \u001b[39mValueError\u001b[39;00m(\n\u001b[1;32m    279\u001b[0m         \u001b[39mf\u001b[39m\u001b[39m\"\u001b[39m\u001b[39mIPython won\u001b[39m\u001b[39m'\u001b[39m\u001b[39mt let you open fd=\u001b[39m\u001b[39m{\u001b[39;00mfile\u001b[39m}\u001b[39;00m\u001b[39m by default \u001b[39m\u001b[39m\"\u001b[39m\n\u001b[1;32m    280\u001b[0m         \u001b[39m\"\u001b[39m\u001b[39mas it is likely to crash IPython. If you know what you are doing, \u001b[39m\u001b[39m\"\u001b[39m\n\u001b[1;32m    281\u001b[0m         \u001b[39m\"\u001b[39m\u001b[39myou can use builtins\u001b[39m\u001b[39m'\u001b[39m\u001b[39m open.\u001b[39m\u001b[39m\"\u001b[39m\n\u001b[1;32m    282\u001b[0m     )\n\u001b[0;32m--> 284\u001b[0m \u001b[39mreturn\u001b[39;00m io_open(file, \u001b[39m*\u001b[39;49margs, \u001b[39m*\u001b[39;49m\u001b[39m*\u001b[39;49mkwargs)\n",
      "\u001b[0;31mFileNotFoundError\u001b[0m: [Errno 2] No such file or directory: 'recall-fpr-lgbm-motpe-succesivehalving-100trials-4sim.pkl'"
     ]
    }
   ],
   "source": [
    "file_name = 'recall-fpr-lgbm-motpe-succesivehalving-100trials-4sim.pkl'\n",
    "with open(file_name, 'rb') as in_strm:\n",
    "    results = dill.load(in_strm)"
   ]
  },
  {
   "cell_type": "code",
   "execution_count": null,
   "metadata": {},
   "outputs": [],
   "source": [
    "data = fetch_adult(as_frame=True)\n",
    "X_raw = data.data\n",
    "y = (data.target == \">50K\") * 1\n",
    "A = X_raw[\"sex\"]\n",
    "\n",
    "numeric_transformer = Pipeline(\n",
    "    steps=[\n",
    "        (\"impute\", SimpleImputer()),\n",
    "        (\"scaler\", StandardScaler()),\n",
    "    ]\n",
    ")\n",
    "categorical_transformer = Pipeline(\n",
    "    [\n",
    "        (\"impute\", SimpleImputer(strategy=\"most_frequent\")),\n",
    "        (\"ohe\", OneHotEncoder(handle_unknown=\"ignore\")),\n",
    "    ]\n",
    ")\n",
    "preprocessor = ColumnTransformer(\n",
    "    transformers=[\n",
    "        (\"num\", numeric_transformer, selector(dtype_exclude=\"category\")),\n",
    "        (\"cat\", categorical_transformer, selector(dtype_include=\"category\")),\n",
    "    ]\n",
    ")\n",
    "\n",
    "pipeline = Pipeline(\n",
    "    steps=[\n",
    "        (\"preprocessor\", preprocessor),\n",
    "        (\n",
    "            \"classifier\",\n",
    "            LGBMClassifier(n_jobs=-1),\n",
    "        ),\n",
    "    ]\n",
    ")"
   ]
  },
  {
   "cell_type": "code",
   "execution_count": null,
   "metadata": {},
   "outputs": [],
   "source": [
    "fair_sim_u = []\n",
    "model_sim_u = []\n",
    "fair_sim = []\n",
    "model_sim = []\n",
    "res_fair_sim = []\n",
    "res_model_sim = []\n",
    "for sim_n,res in enumerate(results):\n",
    "    print(sim_n)\n",
    "    (X_train, X_test, y_train, y_test, A_train, A_test) = train_test_split(\n",
    "    X_raw, y, A, test_size=0.8, stratify=y, random_state=sim_n\n",
    "    )\n",
    "\n",
    "    X_train = X_train.reset_index(drop=True)\n",
    "    X_test = X_test.reset_index(drop=True)\n",
    "    y_train = y_train.reset_index(drop=True)\n",
    "    y_test = y_test.reset_index(drop=True)\n",
    "    A_train = A_train.reset_index(drop=True)\n",
    "    A_test = A_test.reset_index(drop=True)\n",
    "\n",
    "    pipeline.steps.pop(1)\n",
    "    pipeline.steps.insert(1,('classifier',LGBMClassifier(n_jobs=-1)))\n",
    "    pipeline.fit(X_train, y_train)\n",
    "    y_pred = pipeline.predict(X_test)\n",
    "    fair_sim_u.append((np.abs(predictive_equality_difference(y_test, y_pred, sensitive_features=A_test))))\n",
    "    model_sim_u.append(recall_score(y_test, y_pred))\n",
    "\n",
    "    fair_value = []\n",
    "    model_value = []\n",
    "    res_fair_value = []\n",
    "    res_model_value = []\n",
    "    for i in range(len(res.best_trials)):\n",
    "        best_params = {key.replace('lgbm_',''):value for key, value in res.best_trials[i].params.items()}\n",
    "        pipeline['classifier'].set_params(**best_params)\n",
    "        pipeline.fit(X_train, y_train)\n",
    "        y_pred = pipeline.predict(X_test)  \n",
    "        res_fair_value.append(res.best_trials[i].values[0])\n",
    "        res_model_value.append(res.best_trials[i].values[1])\n",
    "        fair_value.append(np.abs(predictive_equality_difference(y_test, y_pred, sensitive_features=A_test)))\n",
    "        model_value.append(recall_score(y_test, y_pred))\n",
    "\n",
    "    res_fair_sim.append(res_fair_value)\n",
    "    res_model_sim.append(res_model_value)\n",
    "    fair_sim.append(fair_value)\n",
    "    model_sim.append(model_value)\n"
   ]
  },
  {
   "cell_type": "code",
   "execution_count": null,
   "metadata": {},
   "outputs": [],
   "source": [
    "import matplotlib.pyplot as plt\n",
    "\n",
    "plt.style.use('seaborn-v0_8-darkgrid')\n",
    "\n",
    "rows = 2\n",
    "cols = 2\n",
    "fig, axes = plt.subplots(rows, cols, figsize=(10,10))\n",
    "for i,ax in zip(range(len(res_fair_sim)),axes.ravel()):\n",
    "    ax.scatter(res_fair_sim[i], res_model_sim[i])\n",
    "    ax.scatter(fair_sim_u[i], model_sim_u[i])\n",
    "    #order = results[i].F[:,0].argsort()\n",
    "    #ax.scatter(range(len(fair_sim[i])), results[i].F[order,0])\n",
    "    #ax.scatter(fair_sim[i], model_sim[i])\n",
    "    #ax.scatter(fair_sim_u[i], model_sim_u[i])"
   ]
  },
  {
   "cell_type": "code",
   "execution_count": null,
   "metadata": {},
   "outputs": [],
   "source": [
    "plt.style.use('seaborn-v0_8-darkgrid')\n",
    "rows = 2\n",
    "cols = 2\n",
    "fig, axes = plt.subplots(rows, cols, figsize=(10,10))\n",
    "for i,ax in zip(range(len(res_fair_sim)),axes.ravel()):\n",
    "    fairness_metrics = list(zip(res_fair_sim[i], fair_sim[i]))\n",
    "    fairness_metrics_ = sorted(fairness_metrics, key = lambda x: x[0])\n",
    "    ax.scatter(range(len(res_fair_sim[i])), list(zip(*fairness_metrics_))[0])\n",
    "    ax.scatter(len(res_fair_sim[i]), fair_sim_u[i])\n",
    "    ax.scatter(range(len(res_fair_sim[i])), list(zip(*fairness_metrics_))[1])"
   ]
  },
  {
   "cell_type": "code",
   "execution_count": null,
   "metadata": {},
   "outputs": [],
   "source": [
    "rows = 2\n",
    "cols = 2\n",
    "fig, axes = plt.subplots(rows, cols, figsize=(10,10))\n",
    "for i,ax in zip(range(len(res_model_sim)),axes.ravel()):\n",
    "    performance_metrics = list(zip(res_model_sim[i], model_sim[i]))\n",
    "    performance_metrics_ = sorted(performance_metrics, key = lambda x: x[0])\n",
    "    ax.scatter(range(len(res_model_sim[i])), list(zip(*performance_metrics_))[0])\n",
    "    ax.scatter(len(res_model_sim[i]), model_sim_u[i])\n",
    "    ax.scatter(range(len(res_model_sim[i])), list(zip(*performance_metrics_))[1])"
   ]
  },
  {
   "cell_type": "code",
   "execution_count": null,
   "metadata": {},
   "outputs": [],
   "source": [
    "np.array(list(zip(*fairness_metrics_))[0])-np.array(list(zip(*fairness_metrics_))[1])"
   ]
  },
  {
   "cell_type": "code",
   "execution_count": null,
   "metadata": {},
   "outputs": [],
   "source": [
    "fig, axes = plt.subplots(rows, cols, figsize=(10,10))\n",
    "for i,ax in zip(range(len(fair_sim)),axes.ravel()):\n",
    "    fairness_metrics = list(zip(res_fair_sim[i], fair_sim[i]))\n",
    "    fairness_metrics_ = sorted(fairness_metrics, key = lambda x: x[0])\n",
    "    fair_residuals = np.array(list(zip(*fairness_metrics_))[0])-np.array(list(zip(*fairness_metrics_))[1])\n",
    "    ax.hist(fair_residuals)"
   ]
  },
  {
   "cell_type": "code",
   "execution_count": null,
   "metadata": {},
   "outputs": [],
   "source": [
    "fig, axes = plt.subplots(rows, cols, figsize=(10,10))\n",
    "for i,ax in zip(range(len(fair_sim)),axes.ravel()):\n",
    "    model_metrics = list(zip(res_model_sim[i], model_sim[i]))\n",
    "    model_metrics_ = sorted(model_metrics, key = lambda x: x[0])\n",
    "    fair_residuals = np.array(list(zip(*model_metrics_))[0])-np.array(list(zip(*model_metrics_))[1])\n",
    "    ax.hist(fair_residuals)"
   ]
  },
  {
   "attachments": {},
   "cell_type": "markdown",
   "metadata": {},
   "source": [
    "## Different Models"
   ]
  },
  {
   "cell_type": "code",
   "execution_count": 4,
   "metadata": {},
   "outputs": [],
   "source": [
    "file_name = 'f1-parity-models-motpe-succesivehalving-100trials-4sim.pkl'\n",
    "with open(file_name, 'rb') as in_strm:\n",
    "    results = dill.load(in_strm)"
   ]
  },
  {
   "cell_type": "code",
   "execution_count": 5,
   "metadata": {},
   "outputs": [
    {
     "name": "stderr",
     "output_type": "stream",
     "text": [
      "/home/azucena/miniconda3/envs/fairenv/lib/python3.10/site-packages/sklearn/datasets/_openml.py:968: FutureWarning: The default value of `parser` will change from `'liac-arff'` to `'auto'` in 1.4. You can set `parser='auto'` to silence this warning. Therefore, an `ImportError` will be raised from 1.4 if the dataset is dense and pandas is not installed. Note that the pandas parser may return different data types. See the Notes Section in fetch_openml's API doc for details.\n",
      "  warn(\n"
     ]
    }
   ],
   "source": [
    "data = fetch_adult(as_frame=True)\n",
    "X_raw = data.data\n",
    "y = (data.target == \">50K\") * 1\n",
    "A = X_raw[\"sex\"]\n",
    "\n",
    "\n",
    "numeric_transformer = Pipeline(\n",
    "    steps=[\n",
    "        (\"impute\", SimpleImputer()),\n",
    "        (\"scaler\", StandardScaler()),\n",
    "    ]\n",
    ")\n",
    "categorical_transformer = Pipeline(\n",
    "    [\n",
    "        (\"impute\", SimpleImputer(strategy=\"most_frequent\")),\n",
    "        (\"ohe\", OneHotEncoder(handle_unknown=\"ignore\")),\n",
    "    ]\n",
    ")\n",
    "preprocessor = ColumnTransformer(\n",
    "    transformers=[\n",
    "        (\"num\", numeric_transformer, selector(dtype_exclude=\"category\")),\n",
    "        (\"cat\", categorical_transformer, selector(dtype_include=\"category\")),\n",
    "    ]\n",
    ")\n",
    "\n",
    "pipeline = Pipeline(\n",
    "    steps=[\n",
    "        (\"preprocessor\", preprocessor),\n",
    "        (\n",
    "            \"classifier\",\n",
    "            LGBMClassifier(n_jobs=-1),\n",
    "        ),\n",
    "    ]\n",
    ")"
   ]
  },
  {
   "cell_type": "code",
   "execution_count": 6,
   "metadata": {},
   "outputs": [
    {
     "name": "stdout",
     "output_type": "stream",
     "text": [
      "0\n",
      "LogisticRegression\n"
     ]
    },
    {
     "name": "stderr",
     "output_type": "stream",
     "text": [
      "/home/azucena/miniconda3/envs/fairenv/lib/python3.10/site-packages/sklearn/linear_model/_logistic.py:458: ConvergenceWarning: lbfgs failed to converge (status=1):\n",
      "STOP: TOTAL NO. of ITERATIONS REACHED LIMIT.\n",
      "\n",
      "Increase the number of iterations (max_iter) or scale the data as shown in:\n",
      "    https://scikit-learn.org/stable/modules/preprocessing.html\n",
      "Please also refer to the documentation for alternative solver options:\n",
      "    https://scikit-learn.org/stable/modules/linear_model.html#logistic-regression\n",
      "  n_iter_i = _check_optimize_result(\n"
     ]
    },
    {
     "name": "stdout",
     "output_type": "stream",
     "text": [
      "RandomForestClassifier\n"
     ]
    },
    {
     "ename": "KeyboardInterrupt",
     "evalue": "",
     "output_type": "error",
     "traceback": [
      "\u001b[0;31m---------------------------------------------------------------------------\u001b[0m",
      "\u001b[0;31mKeyboardInterrupt\u001b[0m                         Traceback (most recent call last)",
      "Cell \u001b[0;32mIn[6], line 33\u001b[0m\n\u001b[1;32m     30\u001b[0m     pipeline\u001b[39m.\u001b[39mfit(X_train, y_train)\n\u001b[1;32m     31\u001b[0m     y_pred \u001b[39m=\u001b[39m pipeline\u001b[39m.\u001b[39mpredict(X_test)\n\u001b[1;32m     32\u001b[0m     metrics_sim_u_aux\u001b[39m.\u001b[39mappend(\n\u001b[0;32m---> 33\u001b[0m         metric_evaluation(\n\u001b[1;32m     34\u001b[0m                     y_true\u001b[39m=\u001b[39;49my_test, \n\u001b[1;32m     35\u001b[0m                     y_pred\u001b[39m=\u001b[39;49my_pred, \n\u001b[1;32m     36\u001b[0m                     sensitive_features\u001b[39m=\u001b[39;49mX_test[\u001b[39m'\u001b[39;49m\u001b[39msex\u001b[39;49m\u001b[39m'\u001b[39;49m]\n\u001b[1;32m     37\u001b[0m                     )\n\u001b[1;32m     38\u001b[0m             )\n\u001b[1;32m     39\u001b[0m metrics_sim_u\u001b[39m.\u001b[39mappend(metrics_sim_u_aux)\n\u001b[1;32m     40\u001b[0m models_sim_u\u001b[39m.\u001b[39mappend(models_sim_u_aux)\n",
      "File \u001b[0;32m~/fairness/src/notebooks/metrics.py:38\u001b[0m, in \u001b[0;36mmetric_evaluation\u001b[0;34m(y_true, y_pred, sensitive_features, metrics_dict)\u001b[0m\n\u001b[1;32m     37\u001b[0m \u001b[39mdef\u001b[39;00m \u001b[39mmetric_evaluation\u001b[39m(y_true, y_pred, sensitive_features, metrics_dict \u001b[39m=\u001b[39m metrics_dict):\n\u001b[0;32m---> 38\u001b[0m     \u001b[39mreturn\u001b[39;00m MetricFrame(\n\u001b[1;32m     39\u001b[0m         metrics\u001b[39m=\u001b[39;49mmetrics_dict, \n\u001b[1;32m     40\u001b[0m         y_true\u001b[39m=\u001b[39;49my_true, \n\u001b[1;32m     41\u001b[0m         y_pred\u001b[39m=\u001b[39;49my_pred, \n\u001b[1;32m     42\u001b[0m         sensitive_features\u001b[39m=\u001b[39;49msensitive_features\n\u001b[1;32m     43\u001b[0m     )\n",
      "File \u001b[0;32m~/miniconda3/envs/fairenv/lib/python3.10/site-packages/fairlearn/metrics/_metric_frame.py:92\u001b[0m, in \u001b[0;36m_deprecate_metric_frame_init.<locals>.compatible_metric_frame_init\u001b[0;34m(self, metric, *args, **kwargs)\u001b[0m\n\u001b[1;32m     82\u001b[0m     warnings\u001b[39m.\u001b[39mwarn(\n\u001b[1;32m     83\u001b[0m         \u001b[39m\"\u001b[39m\u001b[39mThe positional argument \u001b[39m\u001b[39m'\u001b[39m\u001b[39mmetric\u001b[39m\u001b[39m'\u001b[39m\u001b[39m has been replaced \u001b[39m\u001b[39m\"\u001b[39m\n\u001b[1;32m     84\u001b[0m         \u001b[39m\"\u001b[39m\u001b[39mby a keyword argument \u001b[39m\u001b[39m'\u001b[39m\u001b[39mmetrics\u001b[39m\u001b[39m'\u001b[39m\u001b[39m. \u001b[39m\u001b[39m\"\u001b[39m\n\u001b[0;32m   (...)\u001b[0m\n\u001b[1;32m     87\u001b[0m         \u001b[39mFutureWarning\u001b[39;00m,\n\u001b[1;32m     88\u001b[0m     )\n\u001b[1;32m     90\u001b[0m \u001b[39m# Call the new constructor with positional arguments passed as keyword arguments\u001b[39;00m\n\u001b[1;32m     91\u001b[0m \u001b[39m# and with the `metric` keyword argument renamed to `metrics`.\u001b[39;00m\n\u001b[0;32m---> 92\u001b[0m new_metric_frame_init(\u001b[39mself\u001b[39;49m, \u001b[39m*\u001b[39;49m\u001b[39m*\u001b[39;49mmetric_arg_dict, \u001b[39m*\u001b[39;49m\u001b[39m*\u001b[39;49mpositional_dict, \u001b[39m*\u001b[39;49m\u001b[39m*\u001b[39;49mkwargs)\n",
      "File \u001b[0;32m~/miniconda3/envs/fairenv/lib/python3.10/site-packages/fairlearn/metrics/_metric_frame.py:293\u001b[0m, in \u001b[0;36mMetricFrame.__init__\u001b[0;34m(self, metrics, y_true, y_pred, sensitive_features, control_features, sample_params)\u001b[0m\n\u001b[1;32m    290\u001b[0m y_t \u001b[39m=\u001b[39m _convert_to_ndarray_and_squeeze(y_true)\n\u001b[1;32m    291\u001b[0m y_p \u001b[39m=\u001b[39m _convert_to_ndarray_and_squeeze(y_pred)\n\u001b[0;32m--> 293\u001b[0m all_data \u001b[39m=\u001b[39m pd\u001b[39m.\u001b[39;49mDataFrame\u001b[39m.\u001b[39;49mfrom_dict({\u001b[39m\"\u001b[39;49m\u001b[39my_true\u001b[39;49m\u001b[39m\"\u001b[39;49m: \u001b[39mlist\u001b[39;49m(y_t), \u001b[39m\"\u001b[39;49m\u001b[39my_pred\u001b[39;49m\u001b[39m\"\u001b[39;49m: \u001b[39mlist\u001b[39;49m(y_p)})\n\u001b[1;32m    295\u001b[0m annotated_funcs \u001b[39m=\u001b[39m \u001b[39mself\u001b[39m\u001b[39m.\u001b[39m_process_functions(metrics, sample_params, all_data)\n\u001b[1;32m    297\u001b[0m \u001b[39m# Now, prepare the sensitive features\u001b[39;00m\n",
      "File \u001b[0;32m~/miniconda3/envs/fairenv/lib/python3.10/site-packages/pandas/core/frame.py:1760\u001b[0m, in \u001b[0;36mDataFrame.from_dict\u001b[0;34m(cls, data, orient, dtype, columns)\u001b[0m\n\u001b[1;32m   1754\u001b[0m     \u001b[39mraise\u001b[39;00m \u001b[39mValueError\u001b[39;00m(\n\u001b[1;32m   1755\u001b[0m         \u001b[39mf\u001b[39m\u001b[39m\"\u001b[39m\u001b[39mExpected \u001b[39m\u001b[39m'\u001b[39m\u001b[39mindex\u001b[39m\u001b[39m'\u001b[39m\u001b[39m, \u001b[39m\u001b[39m'\u001b[39m\u001b[39mcolumns\u001b[39m\u001b[39m'\u001b[39m\u001b[39m or \u001b[39m\u001b[39m'\u001b[39m\u001b[39mtight\u001b[39m\u001b[39m'\u001b[39m\u001b[39m for orient parameter. \u001b[39m\u001b[39m\"\u001b[39m\n\u001b[1;32m   1756\u001b[0m         \u001b[39mf\u001b[39m\u001b[39m\"\u001b[39m\u001b[39mGot \u001b[39m\u001b[39m'\u001b[39m\u001b[39m{\u001b[39;00morient\u001b[39m}\u001b[39;00m\u001b[39m'\u001b[39m\u001b[39m instead\u001b[39m\u001b[39m\"\u001b[39m\n\u001b[1;32m   1757\u001b[0m     )\n\u001b[1;32m   1759\u001b[0m \u001b[39mif\u001b[39;00m orient \u001b[39m!=\u001b[39m \u001b[39m\"\u001b[39m\u001b[39mtight\u001b[39m\u001b[39m\"\u001b[39m:\n\u001b[0;32m-> 1760\u001b[0m     \u001b[39mreturn\u001b[39;00m \u001b[39mcls\u001b[39;49m(data, index\u001b[39m=\u001b[39;49mindex, columns\u001b[39m=\u001b[39;49mcolumns, dtype\u001b[39m=\u001b[39;49mdtype)\n\u001b[1;32m   1761\u001b[0m \u001b[39melse\u001b[39;00m:\n\u001b[1;32m   1762\u001b[0m     realdata \u001b[39m=\u001b[39m data[\u001b[39m\"\u001b[39m\u001b[39mdata\u001b[39m\u001b[39m\"\u001b[39m]\n",
      "File \u001b[0;32m~/miniconda3/envs/fairenv/lib/python3.10/site-packages/pandas/core/frame.py:709\u001b[0m, in \u001b[0;36mDataFrame.__init__\u001b[0;34m(self, data, index, columns, dtype, copy)\u001b[0m\n\u001b[1;32m    703\u001b[0m     mgr \u001b[39m=\u001b[39m \u001b[39mself\u001b[39m\u001b[39m.\u001b[39m_init_mgr(\n\u001b[1;32m    704\u001b[0m         data, axes\u001b[39m=\u001b[39m{\u001b[39m\"\u001b[39m\u001b[39mindex\u001b[39m\u001b[39m\"\u001b[39m: index, \u001b[39m\"\u001b[39m\u001b[39mcolumns\u001b[39m\u001b[39m\"\u001b[39m: columns}, dtype\u001b[39m=\u001b[39mdtype, copy\u001b[39m=\u001b[39mcopy\n\u001b[1;32m    705\u001b[0m     )\n\u001b[1;32m    707\u001b[0m \u001b[39melif\u001b[39;00m \u001b[39misinstance\u001b[39m(data, \u001b[39mdict\u001b[39m):\n\u001b[1;32m    708\u001b[0m     \u001b[39m# GH#38939 de facto copy defaults to False only in non-dict cases\u001b[39;00m\n\u001b[0;32m--> 709\u001b[0m     mgr \u001b[39m=\u001b[39m dict_to_mgr(data, index, columns, dtype\u001b[39m=\u001b[39;49mdtype, copy\u001b[39m=\u001b[39;49mcopy, typ\u001b[39m=\u001b[39;49mmanager)\n\u001b[1;32m    710\u001b[0m \u001b[39melif\u001b[39;00m \u001b[39misinstance\u001b[39m(data, ma\u001b[39m.\u001b[39mMaskedArray):\n\u001b[1;32m    711\u001b[0m     \u001b[39mfrom\u001b[39;00m \u001b[39mnumpy\u001b[39;00m\u001b[39m.\u001b[39;00m\u001b[39mma\u001b[39;00m \u001b[39mimport\u001b[39;00m mrecords\n",
      "File \u001b[0;32m~/miniconda3/envs/fairenv/lib/python3.10/site-packages/pandas/core/internals/construction.py:481\u001b[0m, in \u001b[0;36mdict_to_mgr\u001b[0;34m(data, index, columns, dtype, typ, copy)\u001b[0m\n\u001b[1;32m    477\u001b[0m     \u001b[39melse\u001b[39;00m:\n\u001b[1;32m    478\u001b[0m         \u001b[39m# dtype check to exclude e.g. range objects, scalars\u001b[39;00m\n\u001b[1;32m    479\u001b[0m         arrays \u001b[39m=\u001b[39m [x\u001b[39m.\u001b[39mcopy() \u001b[39mif\u001b[39;00m \u001b[39mhasattr\u001b[39m(x, \u001b[39m\"\u001b[39m\u001b[39mdtype\u001b[39m\u001b[39m\"\u001b[39m) \u001b[39melse\u001b[39;00m x \u001b[39mfor\u001b[39;00m x \u001b[39min\u001b[39;00m arrays]\n\u001b[0;32m--> 481\u001b[0m \u001b[39mreturn\u001b[39;00m arrays_to_mgr(arrays, columns, index, dtype\u001b[39m=\u001b[39;49mdtype, typ\u001b[39m=\u001b[39;49mtyp, consolidate\u001b[39m=\u001b[39;49mcopy)\n",
      "File \u001b[0;32m~/miniconda3/envs/fairenv/lib/python3.10/site-packages/pandas/core/internals/construction.py:120\u001b[0m, in \u001b[0;36marrays_to_mgr\u001b[0;34m(arrays, columns, index, dtype, verify_integrity, typ, consolidate)\u001b[0m\n\u001b[1;32m    117\u001b[0m         index \u001b[39m=\u001b[39m ensure_index(index)\n\u001b[1;32m    119\u001b[0m     \u001b[39m# don't force copy because getting jammed in an ndarray anyway\u001b[39;00m\n\u001b[0;32m--> 120\u001b[0m     arrays, refs \u001b[39m=\u001b[39m _homogenize(arrays, index, dtype)\n\u001b[1;32m    121\u001b[0m     \u001b[39m# _homogenize ensures\u001b[39;00m\n\u001b[1;32m    122\u001b[0m     \u001b[39m#  - all(len(x) == len(index) for x in arrays)\u001b[39;00m\n\u001b[1;32m    123\u001b[0m     \u001b[39m#  - all(x.ndim == 1 for x in arrays)\u001b[39;00m\n\u001b[0;32m   (...)\u001b[0m\n\u001b[1;32m    126\u001b[0m \n\u001b[1;32m    127\u001b[0m \u001b[39melse\u001b[39;00m:\n\u001b[1;32m    128\u001b[0m     index \u001b[39m=\u001b[39m ensure_index(index)\n",
      "File \u001b[0;32m~/miniconda3/envs/fairenv/lib/python3.10/site-packages/pandas/core/internals/construction.py:607\u001b[0m, in \u001b[0;36m_homogenize\u001b[0;34m(data, index, dtype)\u001b[0m\n\u001b[1;32m    604\u001b[0m         val \u001b[39m=\u001b[39m \u001b[39mdict\u001b[39m(val)\n\u001b[1;32m    605\u001b[0m     val \u001b[39m=\u001b[39m lib\u001b[39m.\u001b[39mfast_multiget(val, oindex\u001b[39m.\u001b[39m_values, default\u001b[39m=\u001b[39mnp\u001b[39m.\u001b[39mnan)\n\u001b[0;32m--> 607\u001b[0m val \u001b[39m=\u001b[39m sanitize_array(val, index, dtype\u001b[39m=\u001b[39;49mdtype, copy\u001b[39m=\u001b[39;49m\u001b[39mFalse\u001b[39;49;00m)\n\u001b[1;32m    608\u001b[0m com\u001b[39m.\u001b[39mrequire_length_match(val, index)\n\u001b[1;32m    609\u001b[0m refs\u001b[39m.\u001b[39mappend(\u001b[39mNone\u001b[39;00m)\n",
      "File \u001b[0;32m~/miniconda3/envs/fairenv/lib/python3.10/site-packages/pandas/core/construction.py:602\u001b[0m, in \u001b[0;36msanitize_array\u001b[0;34m(data, index, dtype, copy, allow_2d)\u001b[0m\n\u001b[1;32m    599\u001b[0m     subarr \u001b[39m=\u001b[39m _try_cast(data, dtype, copy)\n\u001b[1;32m    601\u001b[0m \u001b[39melse\u001b[39;00m:\n\u001b[0;32m--> 602\u001b[0m     subarr \u001b[39m=\u001b[39m maybe_convert_platform(data)\n\u001b[1;32m    603\u001b[0m     \u001b[39mif\u001b[39;00m subarr\u001b[39m.\u001b[39mdtype \u001b[39m==\u001b[39m \u001b[39mobject\u001b[39m:\n\u001b[1;32m    604\u001b[0m         subarr \u001b[39m=\u001b[39m cast(np\u001b[39m.\u001b[39mndarray, subarr)\n",
      "File \u001b[0;32m~/miniconda3/envs/fairenv/lib/python3.10/site-packages/pandas/core/dtypes/cast.py:136\u001b[0m, in \u001b[0;36mmaybe_convert_platform\u001b[0;34m(values)\u001b[0m\n\u001b[1;32m    134\u001b[0m \u001b[39mif\u001b[39;00m arr\u001b[39m.\u001b[39mdtype \u001b[39m==\u001b[39m _dtype_obj:\n\u001b[1;32m    135\u001b[0m     arr \u001b[39m=\u001b[39m cast(np\u001b[39m.\u001b[39mndarray, arr)\n\u001b[0;32m--> 136\u001b[0m     arr \u001b[39m=\u001b[39m lib\u001b[39m.\u001b[39;49mmaybe_convert_objects(arr)\n\u001b[1;32m    138\u001b[0m \u001b[39mreturn\u001b[39;00m arr\n",
      "\u001b[0;31mKeyboardInterrupt\u001b[0m: "
     ]
    }
   ],
   "source": [
    "import re\n",
    "\n",
    "#results = {}\n",
    "metrics_sim_u = []\n",
    "metrics_sim = []\n",
    "res_sim = []\n",
    "models_sim_u = []\n",
    "models_sim = []\n",
    "models = [LogisticRegression(), RandomForestClassifier(), GradientBoostingClassifier(), LGBMClassifier()]\n",
    "for sim_n,res in enumerate(results[0:1]):\n",
    "    print(sim_n)\n",
    "    (X_train, X_test, y_train, y_test, A_train, A_test) = train_test_split(\n",
    "    X_raw, y, A, test_size=0.8, stratify=y, random_state=sim_n\n",
    "    )\n",
    "\n",
    "    X_train = X_train.reset_index(drop=True)\n",
    "    X_test = X_test.reset_index(drop=True)\n",
    "    y_train = y_train.reset_index(drop=True)\n",
    "    y_test = y_test.reset_index(drop=True)\n",
    "    A_train = A_train.reset_index(drop=True)\n",
    "    A_test = A_test.reset_index(drop=True)\n",
    "\n",
    "    metrics_sim_u_aux = []\n",
    "    models_sim_u_aux = []\n",
    "    for model in models:\n",
    "        print(type(model).__name__)\n",
    "        models_sim_u_aux.append(type(model).__name__)\n",
    "        pipeline.steps.pop(1)\n",
    "        pipeline.steps.insert(1,('classifier', model))\n",
    "        pipeline.fit(X_train, y_train)\n",
    "        y_pred = pipeline.predict(X_test)\n",
    "        metrics_sim_u_aux.append(\n",
    "            metric_evaluation(\n",
    "                        y_true=y_test, \n",
    "                        y_pred=y_pred, \n",
    "                        sensitive_features=X_test['sex']\n",
    "                        )\n",
    "                )\n",
    "    metrics_sim_u.append(metrics_sim_u_aux)\n",
    "    models_sim_u.append(models_sim_u_aux)\n",
    "\n",
    "    models_sim_aux = []\n",
    "    metrics_sim_aux = []\n",
    "    res_value = []\n",
    "    for i in range(len(res.best_trials)):\n",
    "        best_params = {re.sub('^[a-z]+_','',key):value for key, value in res.best_trials[i].params.items()}\n",
    "        pipeline.steps.pop(1)\n",
    "        classifier_name = best_params.pop('classifier')\n",
    "        models_sim_aux.append(classifier_name)\n",
    "        if classifier_name == \"logit\": \n",
    "            pipeline.steps.insert(1,('classifier', LogisticRegression()))\n",
    "        elif classifier_name ==\"RF\":\n",
    "            pipeline.steps.insert(1,('classifier', RandomForestClassifier()))\n",
    "        elif classifier_name ==\"LGBM\":\n",
    "            pipeline.steps.insert(1,('classifier', LGBMClassifier()))\n",
    "        elif classifier_name ==\"GBM\":\n",
    "            pipeline.steps.insert(1,('classifier', GradientBoostingClassifier()))\n",
    "        pipeline['classifier'].set_params(**best_params)\n",
    "        pipeline.fit(X_train, y_train)\n",
    "        y_pred = pipeline.predict(X_test)  \n",
    "        res_value.append((res.best_trials[i].values[0],res.best_trials[i].values[1]))\n",
    "        metrics_sim_aux.append(\n",
    "            metric_evaluation(\n",
    "                        y_true=y_test, \n",
    "                        y_pred=y_pred, \n",
    "                        sensitive_features=X_test['sex']\n",
    "                        )\n",
    "                )\n",
    "    models_sim.append(models_sim_aux)\n",
    "    res_sim.append(res_value)\n",
    "    metrics_sim.append(metrics_sim_aux)\n"
   ]
  },
  {
   "cell_type": "code",
   "execution_count": 178,
   "metadata": {},
   "outputs": [],
   "source": [
    "results_dict = {}\n",
    "results_dict['res_sim'] = res_sim\n",
    "results_dict['models_sim'] = models_sim\n",
    "results_dict['metrics_sim'] = metrics_sim\n",
    "results_dict['metrics_sim_u'] = metrics_sim_u\n",
    "results_dict['models_sim_u'] = models_sim_u\n"
   ]
  },
  {
   "cell_type": "code",
   "execution_count": 870,
   "metadata": {},
   "outputs": [
    {
     "name": "stdout",
     "output_type": "stream",
     "text": [
      "Object successfully saved to \"f1-parity-models-dashboard.pkl\"\n"
     ]
    }
   ],
   "source": [
    "import dill\n",
    "file_name = 'f1-parity-models-dashboard.pkl'\n",
    "with open(file_name, 'wb') as file:\n",
    "    dill.dump(results_dict, file)\n",
    "    print(f'Object successfully saved to \"{file_name}\"')"
   ]
  },
  {
   "cell_type": "code",
   "execution_count": 895,
   "metadata": {},
   "outputs": [],
   "source": [
    "import dill\n",
    "file_name = '../pages/f1-parity-models-dashboard.pkl'\n",
    "with open(file_name, 'rb') as in_strm:\n",
    "    results_dict = dill.load(in_strm)"
   ]
  },
  {
   "cell_type": "code",
   "execution_count": 9,
   "metadata": {},
   "outputs": [],
   "source": [
    "def metrics_scatter(metrics, labels, colors):\n",
    "    fig, ax = plt.subplots(figsize=(10,6))\n",
    "    for i, (color, label) in enumerate(zip(colors,labels)):\n",
    "        if i != 0:\n",
    "            y = list(zip(*metrics))[i]\n",
    "            ax.scatter(range(len(y)), y, c=color, label=label)\n",
    "\n",
    "    ax.legend()\n",
    "    ax.grid(True)\n",
    "    plt.show()"
   ]
  },
  {
   "cell_type": "code",
   "execution_count": 45,
   "metadata": {},
   "outputs": [
    {
     "data": {
      "image/png": "[encoded data removed]",
      "text/plain": [
       "<Figure size 1000x600 with 1 Axes>"
      ]
     },
     "metadata": {},
     "output_type": "display_data"
    }
   ],
   "source": [
    "import matplotlib.pyplot as plt\n",
    "import plotly.graph_objects as go\n",
    "plt.style.use('seaborn-v0_8-darkgrid')\n",
    "\n",
    "fair_metrics_u_dict = {}\n",
    "fair_metrics_dict = {}\n",
    "metrics = [\n",
    "    'predictive equality difference', \n",
    "    'equality opportunity difference',\n",
    "    'average absolute odds difference',\n",
    "    'disparity difference'\n",
    "    ]\n",
    "\n",
    "fair_metrics_dict['train_fair'],_ = list(zip(*results_dict['res_sim'][0]))\n",
    "for metric in metrics:\n",
    "    fair_metrics_dict[metric] = [get_metric_evaluation(metric_frame)[metric] for metric_frame in results_dict['metrics_sim'][0]]\n",
    "    fair_metrics_u_dict[metric] = [get_metric_evaluation(metric_frame)[metric] for metric_frame in results_dict['metrics_sim_u'][0]]\n",
    "\n",
    "\n",
    "fair_metrics = list(zip(* fair_metrics_dict.values()))\n",
    "fair_metrics_sorted = sorted(fair_metrics, key = lambda x: x[0])\n",
    "\n",
    "colors = ['DodgerBlue','SkyBlue','LightCoral','MediumPurple','SandyBrown']\n",
    "labels = ['train'] + metrics\n",
    "metrics_scatter(fair_metrics_sorted, labels, colors)"
   ]
  },
  {
   "cell_type": "code",
   "execution_count": 149,
   "metadata": {},
   "outputs": [
    {
     "data": {
      "application/vnd.plotly.v1+json": {
       "config": {
        "plotlyServerURL": "https://plot.ly"
       },
       "data": [
        {
         "customdata": [
          "RF",
          "LGBM",
          "RF",
          "RF",
          "RF",
          "RF",
          "RF",
          "RF",
          "RF",
          "RF",
          "RF",
          "RF",
          "RF",
          "RF",
          "LGBM",
          "LGBM",
          "LGBM",
          "LGBM",
          "LGBM",
          "LGBM",
          "LGBM",
          "GBM",
          "GBM",
          "LGBM",
          "GBM",
          "LGBM",
          "LGBM",
          "LGBM",
          "LGBM"
         ],
         "hovertemplate": "Ranking: %{x}<br>Recall (test): %{y:,.3f}<br>Model: %{customdata}",
         "marker": {
          "color": "SkyBlue"
         },
         "mode": "markers",
         "name": "Recall",
         "type": "scatter",
         "x": [
          0,
          1,
          2,
          3,
          4,
          5,
          6,
          7,
          8,
          9,
          10,
          11,
          12,
          13,
          14,
          15,
          16,
          17,
          18,
          19,
          20,
          21,
          22,
          23,
          24,
          25,
          26,
          27,
          28
         ],
         "y": [
          0,
          0.09754010695187165,
          0.022994652406417113,
          0.0720855614973262,
          0.08203208556149733,
          0.09550802139037433,
          0.09315508021390374,
          0.08866310160427808,
          0.10994652406417112,
          0.1081283422459893,
          0.12941176470588237,
          0.13679144385026737,
          0.1348663101604278,
          0.19016042780748663,
          0.21818181818181817,
          0.33443850267379677,
          0.4386096256684492,
          0.45732620320855616,
          0.5059893048128342,
          0.5390374331550802,
          0.5506951871657754,
          0.5583957219251336,
          0.5586096256684492,
          0.5996791443850268,
          0.5898395721925134,
          0.636042780748663,
          0.6383957219251337,
          0.6364705882352941,
          0.6274866310160427
         ]
        },
        {
         "customdata": [
          "RF",
          "LGBM",
          "RF",
          "RF",
          "RF",
          "RF",
          "RF",
          "RF",
          "RF",
          "RF",
          "RF",
          "RF",
          "RF",
          "RF",
          "LGBM",
          "LGBM",
          "LGBM",
          "LGBM",
          "LGBM",
          "LGBM",
          "LGBM",
          "GBM",
          "GBM",
          "LGBM",
          "GBM",
          "LGBM",
          "LGBM",
          "LGBM",
          "LGBM"
         ],
         "hovertemplate": "Ranking: %{x}<br>Precision (test): %{y:,.3f}<br>Model: %{customdata}",
         "marker": {
          "color": "LightCoral"
         },
         "mode": "markers",
         "name": "Precision",
         "type": "scatter",
         "x": [
          0,
          1,
          2,
          3,
          4,
          5,
          6,
          7,
          8,
          9,
          10,
          11,
          12,
          13,
          14,
          15,
          16,
          17,
          18,
          19,
          20,
          21,
          22,
          23,
          24,
          25,
          26,
          27,
          28
         ],
         "y": [
          0,
          0.9956331877729258,
          0.9953703703703703,
          0.9970414201183432,
          0.9973992197659298,
          0.9955406911928651,
          0.9965675057208238,
          0.9975932611311673,
          0.9922779922779923,
          0.9931237721021611,
          0.990990990990991,
          0.9907048799380326,
          0.99213217938631,
          0.9039145907473309,
          0.9260099863822061,
          0.895475372279496,
          0.8581293157564344,
          0.8422296631869214,
          0.8128865979381443,
          0.8042125418860699,
          0.7945987654320987,
          0.7877187688593844,
          0.7874265038444143,
          0.7685032894736842,
          0.7909077871791195,
          0.769041769041769,
          0.7691019198556887,
          0.7559705284552846,
          0.7816413535837996
         ]
        },
        {
         "customdata": [
          "RF",
          "LGBM",
          "RF",
          "RF",
          "RF",
          "RF",
          "RF",
          "RF",
          "RF",
          "RF",
          "RF",
          "RF",
          "RF",
          "RF",
          "LGBM",
          "LGBM",
          "LGBM",
          "LGBM",
          "LGBM",
          "LGBM",
          "LGBM",
          "GBM",
          "GBM",
          "LGBM",
          "GBM",
          "LGBM",
          "LGBM",
          "LGBM",
          "LGBM"
         ],
         "hovertemplate": "Ranking: %{x}<br>F1 score (test): %{y:,.3f}<br>Model: %{customdata}",
         "marker": {
          "color": "MediumPurple"
         },
         "mode": "markers",
         "name": "F1 score",
         "type": "scatter",
         "x": [
          0,
          1,
          2,
          3,
          4,
          5,
          6,
          7,
          8,
          9,
          10,
          11,
          12,
          13,
          14,
          15,
          16,
          17,
          18,
          19,
          20,
          21,
          22,
          23,
          24,
          25,
          26,
          27,
          28
         ],
         "y": [
          0,
          0.17767387492694328,
          0.044950867656282666,
          0.13445042888489925,
          0.15159600751062358,
          0.17429491558504925,
          0.17038341158059467,
          0.16285237206561243,
          0.19795879067976122,
          0.19502314814814814,
          0.22892819979188347,
          0.2403909407010619,
          0.23745410036719705,
          0.31421754882035874,
          0.3531550246689172,
          0.4869957950475004,
          0.5805081746761979,
          0.5927774312053787,
          0.623731048121292,
          0.6454504706409683,
          0.6505369551484522,
          0.6535235949430468,
          0.6535694175061003,
          0.6736753574432296,
          0.6757336273969246,
          0.6962477316630568,
          0.6976798550639939,
          0.6910927882940424,
          0.6961319411485524
         ]
        },
        {
         "customdata": [
          "RF",
          "LGBM",
          "RF",
          "RF",
          "RF",
          "RF",
          "RF",
          "RF",
          "RF",
          "RF",
          "RF",
          "RF",
          "RF",
          "RF",
          "LGBM",
          "LGBM",
          "LGBM",
          "LGBM",
          "LGBM",
          "LGBM",
          "LGBM",
          "GBM",
          "GBM",
          "LGBM",
          "GBM",
          "LGBM",
          "LGBM",
          "LGBM",
          "LGBM"
         ],
         "hovertemplate": "Ranking: %{x}<br>Accuracy (test): %{y:,.3f}<br>Model: %{customdata}",
         "marker": {
          "color": "SandyBrown"
         },
         "mode": "markers",
         "name": "Accuracy",
         "type": "scatter",
         "x": [
          0,
          1,
          2,
          3,
          4,
          5,
          6,
          7,
          8,
          9,
          10,
          11,
          12,
          13,
          14,
          15,
          16,
          17,
          18,
          19,
          20,
          21,
          22,
          23,
          24,
          25,
          26,
          27,
          28
         ],
         "y": [
          0.760710446844449,
          0.7839484055893945,
          0.7661872344781696,
          0.7779085837129549,
          0.7802886830117214,
          0.7834621487434099,
          0.7829247069662691,
          0.7818754158775656,
          0.7868147617341454,
          0.7864052822848954,
          0.7913958130726314,
          0.7931361007319445,
          0.7927266212826943,
          0.8013768746481036,
          0.8087475047346061,
          0.8313968367712545,
          0.848313456518401,
          0.849644264728464,
          0.8539182064800123,
          0.8582945180938731,
          0.8584224804217638,
          0.8583201105594513,
          0.8582945180938731,
          0.8609817269795772,
          0.8645390796949378,
          0.8672006961150637,
          0.8676101755643139,
          0.8638480831243281,
          0.8689153913087987
         ]
        }
       ],
       "layout": {
        "legend": {
         "orientation": "h",
         "x": 1,
         "xanchor": "right",
         "y": 1.02,
         "yanchor": "bottom"
        },
        "template": {
         "data": {
          "bar": [
           {
            "error_x": {
             "color": "#2a3f5f"
            },
            "error_y": {
             "color": "#2a3f5f"
            },
            "marker": {
             "line": {
              "color": "#E5ECF6",
              "width": 0.5
             },
             "pattern": {
              "fillmode": "overlay",
              "size": 10,
              "solidity": 0.2
             }
            },
            "type": "bar"
           }
          ],
          "barpolar": [
           {
            "marker": {
             "line": {
              "color": "#E5ECF6",
              "width": 0.5
             },
             "pattern": {
              "fillmode": "overlay",
              "size": 10,
              "solidity": 0.2
             }
            },
            "type": "barpolar"
           }
          ],
          "carpet": [
           {
            "aaxis": {
             "endlinecolor": "#2a3f5f",
             "gridcolor": "white",
             "linecolor": "white",
             "minorgridcolor": "white",
             "startlinecolor": "#2a3f5f"
            },
            "baxis": {
             "endlinecolor": "#2a3f5f",
             "gridcolor": "white",
             "linecolor": "white",
             "minorgridcolor": "white",
             "startlinecolor": "#2a3f5f"
            },
            "type": "carpet"
           }
          ],
          "choropleth": [
           {
            "colorbar": {
             "outlinewidth": 0,
             "ticks": ""
            },
            "type": "choropleth"
           }
          ],
          "contour": [
           {
            "colorbar": {
             "outlinewidth": 0,
             "ticks": ""
            },
            "colorscale": [
             [
              0,
              "#0d0887"
             ],
             [
              0.1111111111111111,
              "#46039f"
             ],
             [
              0.2222222222222222,
              "#7201a8"
             ],
             [
              0.3333333333333333,
              "#9c179e"
             ],
             [
              0.4444444444444444,
              "#bd3786"
             ],
             [
              0.5555555555555556,
              "#d8576b"
             ],
             [
              0.6666666666666666,
              "#ed7953"
             ],
             [
              0.7777777777777778,
              "#fb9f3a"
             ],
             [
              0.8888888888888888,
              "#fdca26"
             ],
             [
              1,
              "#f0f921"
             ]
            ],
            "type": "contour"
           }
          ],
          "contourcarpet": [
           {
            "colorbar": {
             "outlinewidth": 0,
             "ticks": ""
            },
            "type": "contourcarpet"
           }
          ],
          "heatmap": [
           {
            "colorbar": {
             "outlinewidth": 0,
             "ticks": ""
            },
            "colorscale": [
             [
              0,
              "#0d0887"
             ],
             [
              0.1111111111111111,
              "#46039f"
             ],
             [
              0.2222222222222222,
              "#7201a8"
             ],
             [
              0.3333333333333333,
              "#9c179e"
             ],
             [
              0.4444444444444444,
              "#bd3786"
             ],
             [
              0.5555555555555556,
              "#d8576b"
             ],
             [
              0.6666666666666666,
              "#ed7953"
             ],
             [
              0.7777777777777778,
              "#fb9f3a"
             ],
             [
              0.8888888888888888,
              "#fdca26"
             ],
             [
              1,
              "#f0f921"
             ]
            ],
            "type": "heatmap"
           }
          ],
          "heatmapgl": [
           {
            "colorbar": {
             "outlinewidth": 0,
             "ticks": ""
            },
            "colorscale": [
             [
              0,
              "#0d0887"
             ],
             [
              0.1111111111111111,
              "#46039f"
             ],
             [
              0.2222222222222222,
              "#7201a8"
             ],
             [
              0.3333333333333333,
              "#9c179e"
             ],
             [
              0.4444444444444444,
              "#bd3786"
             ],
             [
              0.5555555555555556,
              "#d8576b"
             ],
             [
              0.6666666666666666,
              "#ed7953"
             ],
             [
              0.7777777777777778,
              "#fb9f3a"
             ],
             [
              0.8888888888888888,
              "#fdca26"
             ],
             [
              1,
              "#f0f921"
             ]
            ],
            "type": "heatmapgl"
           }
          ],
          "histogram": [
           {
            "marker": {
             "pattern": {
              "fillmode": "overlay",
              "size": 10,
              "solidity": 0.2
             }
            },
            "type": "histogram"
           }
          ],
          "histogram2d": [
           {
            "colorbar": {
             "outlinewidth": 0,
             "ticks": ""
            },
            "colorscale": [
             [
              0,
              "#0d0887"
             ],
             [
              0.1111111111111111,
              "#46039f"
             ],
             [
              0.2222222222222222,
              "#7201a8"
             ],
             [
              0.3333333333333333,
              "#9c179e"
             ],
             [
              0.4444444444444444,
              "#bd3786"
             ],
             [
              0.5555555555555556,
              "#d8576b"
             ],
             [
              0.6666666666666666,
              "#ed7953"
             ],
             [
              0.7777777777777778,
              "#fb9f3a"
             ],
             [
              0.8888888888888888,
              "#fdca26"
             ],
             [
              1,
              "#f0f921"
             ]
            ],
            "type": "histogram2d"
           }
          ],
          "histogram2dcontour": [
           {
            "colorbar": {
             "outlinewidth": 0,
             "ticks": ""
            },
            "colorscale": [
             [
              0,
              "#0d0887"
             ],
             [
              0.1111111111111111,
              "#46039f"
             ],
             [
              0.2222222222222222,
              "#7201a8"
             ],
             [
              0.3333333333333333,
              "#9c179e"
             ],
             [
              0.4444444444444444,
              "#bd3786"
             ],
             [
              0.5555555555555556,
              "#d8576b"
             ],
             [
              0.6666666666666666,
              "#ed7953"
             ],
             [
              0.7777777777777778,
              "#fb9f3a"
             ],
             [
              0.8888888888888888,
              "#fdca26"
             ],
             [
              1,
              "#f0f921"
             ]
            ],
            "type": "histogram2dcontour"
           }
          ],
          "mesh3d": [
           {
            "colorbar": {
             "outlinewidth": 0,
             "ticks": ""
            },
            "type": "mesh3d"
           }
          ],
          "parcoords": [
           {
            "line": {
             "colorbar": {
              "outlinewidth": 0,
              "ticks": ""
             }
            },
            "type": "parcoords"
           }
          ],
          "pie": [
           {
            "automargin": true,
            "type": "pie"
           }
          ],
          "scatter": [
           {
            "fillpattern": {
             "fillmode": "overlay",
             "size": 10,
             "solidity": 0.2
            },
            "type": "scatter"
           }
          ],
          "scatter3d": [
           {
            "line": {
             "colorbar": {
              "outlinewidth": 0,
              "ticks": ""
             }
            },
            "marker": {
             "colorbar": {
              "outlinewidth": 0,
              "ticks": ""
             }
            },
            "type": "scatter3d"
           }
          ],
          "scattercarpet": [
           {
            "marker": {
             "colorbar": {
              "outlinewidth": 0,
              "ticks": ""
             }
            },
            "type": "scattercarpet"
           }
          ],
          "scattergeo": [
           {
            "marker": {
             "colorbar": {
              "outlinewidth": 0,
              "ticks": ""
             }
            },
            "type": "scattergeo"
           }
          ],
          "scattergl": [
           {
            "marker": {
             "colorbar": {
              "outlinewidth": 0,
              "ticks": ""
             }
            },
            "type": "scattergl"
           }
          ],
          "scattermapbox": [
           {
            "marker": {
             "colorbar": {
              "outlinewidth": 0,
              "ticks": ""
             }
            },
            "type": "scattermapbox"
           }
          ],
          "scatterpolar": [
           {
            "marker": {
             "colorbar": {
              "outlinewidth": 0,
              "ticks": ""
             }
            },
            "type": "scatterpolar"
           }
          ],
          "scatterpolargl": [
           {
            "marker": {
             "colorbar": {
              "outlinewidth": 0,
              "ticks": ""
             }
            },
            "type": "scatterpolargl"
           }
          ],
          "scatterternary": [
           {
            "marker": {
             "colorbar": {
              "outlinewidth": 0,
              "ticks": ""
             }
            },
            "type": "scatterternary"
           }
          ],
          "surface": [
           {
            "colorbar": {
             "outlinewidth": 0,
             "ticks": ""
            },
            "colorscale": [
             [
              0,
              "#0d0887"
             ],
             [
              0.1111111111111111,
              "#46039f"
             ],
             [
              0.2222222222222222,
              "#7201a8"
             ],
             [
              0.3333333333333333,
              "#9c179e"
             ],
             [
              0.4444444444444444,
              "#bd3786"
             ],
             [
              0.5555555555555556,
              "#d8576b"
             ],
             [
              0.6666666666666666,
              "#ed7953"
             ],
             [
              0.7777777777777778,
              "#fb9f3a"
             ],
             [
              0.8888888888888888,
              "#fdca26"
             ],
             [
              1,
              "#f0f921"
             ]
            ],
            "type": "surface"
           }
          ],
          "table": [
           {
            "cells": {
             "fill": {
              "color": "#EBF0F8"
             },
             "line": {
              "color": "white"
             }
            },
            "header": {
             "fill": {
              "color": "#C8D4E3"
             },
             "line": {
              "color": "white"
             }
            },
            "type": "table"
           }
          ]
         },
         "layout": {
          "annotationdefaults": {
           "arrowcolor": "#2a3f5f",
           "arrowhead": 0,
           "arrowwidth": 1
          },
          "autotypenumbers": "strict",
          "coloraxis": {
           "colorbar": {
            "outlinewidth": 0,
            "ticks": ""
           }
          },
          "colorscale": {
           "diverging": [
            [
             0,
             "#8e0152"
            ],
            [
             0.1,
             "#c51b7d"
            ],
            [
             0.2,
             "#de77ae"
            ],
            [
             0.3,
             "#f1b6da"
            ],
            [
             0.4,
             "#fde0ef"
            ],
            [
             0.5,
             "#f7f7f7"
            ],
            [
             0.6,
             "#e6f5d0"
            ],
            [
             0.7,
             "#b8e186"
            ],
            [
             0.8,
             "#7fbc41"
            ],
            [
             0.9,
             "#4d9221"
            ],
            [
             1,
             "#276419"
            ]
           ],
           "sequential": [
            [
             0,
             "#0d0887"
            ],
            [
             0.1111111111111111,
             "#46039f"
            ],
            [
             0.2222222222222222,
             "#7201a8"
            ],
            [
             0.3333333333333333,
             "#9c179e"
            ],
            [
             0.4444444444444444,
             "#bd3786"
            ],
            [
             0.5555555555555556,
             "#d8576b"
            ],
            [
             0.6666666666666666,
             "#ed7953"
            ],
            [
             0.7777777777777778,
             "#fb9f3a"
            ],
            [
             0.8888888888888888,
             "#fdca26"
            ],
            [
             1,
             "#f0f921"
            ]
           ],
           "sequentialminus": [
            [
             0,
             "#0d0887"
            ],
            [
             0.1111111111111111,
             "#46039f"
            ],
            [
             0.2222222222222222,
             "#7201a8"
            ],
            [
             0.3333333333333333,
             "#9c179e"
            ],
            [
             0.4444444444444444,
             "#bd3786"
            ],
            [
             0.5555555555555556,
             "#d8576b"
            ],
            [
             0.6666666666666666,
             "#ed7953"
            ],
            [
             0.7777777777777778,
             "#fb9f3a"
            ],
            [
             0.8888888888888888,
             "#fdca26"
            ],
            [
             1,
             "#f0f921"
            ]
           ]
          },
          "colorway": [
           "#636efa",
           "#EF553B",
           "#00cc96",
           "#ab63fa",
           "#FFA15A",
           "#19d3f3",
           "#FF6692",
           "#B6E880",
           "#FF97FF",
           "#FECB52"
          ],
          "font": {
           "color": "#2a3f5f"
          },
          "geo": {
           "bgcolor": "white",
           "lakecolor": "white",
           "landcolor": "#E5ECF6",
           "showlakes": true,
           "showland": true,
           "subunitcolor": "white"
          },
          "hoverlabel": {
           "align": "left"
          },
          "hovermode": "closest",
          "mapbox": {
           "style": "light"
          },
          "paper_bgcolor": "white",
          "plot_bgcolor": "#E5ECF6",
          "polar": {
           "angularaxis": {
            "gridcolor": "white",
            "linecolor": "white",
            "ticks": ""
           },
           "bgcolor": "#E5ECF6",
           "radialaxis": {
            "gridcolor": "white",
            "linecolor": "white",
            "ticks": ""
           }
          },
          "scene": {
           "xaxis": {
            "backgroundcolor": "#E5ECF6",
            "gridcolor": "white",
            "gridwidth": 2,
            "linecolor": "white",
            "showbackground": true,
            "ticks": "",
            "zerolinecolor": "white"
           },
           "yaxis": {
            "backgroundcolor": "#E5ECF6",
            "gridcolor": "white",
            "gridwidth": 2,
            "linecolor": "white",
            "showbackground": true,
            "ticks": "",
            "zerolinecolor": "white"
           },
           "zaxis": {
            "backgroundcolor": "#E5ECF6",
            "gridcolor": "white",
            "gridwidth": 2,
            "linecolor": "white",
            "showbackground": true,
            "ticks": "",
            "zerolinecolor": "white"
           }
          },
          "shapedefaults": {
           "line": {
            "color": "#2a3f5f"
           }
          },
          "ternary": {
           "aaxis": {
            "gridcolor": "white",
            "linecolor": "white",
            "ticks": ""
           },
           "baxis": {
            "gridcolor": "white",
            "linecolor": "white",
            "ticks": ""
           },
           "bgcolor": "#E5ECF6",
           "caxis": {
            "gridcolor": "white",
            "linecolor": "white",
            "ticks": ""
           }
          },
          "title": {
           "x": 0.05
          },
          "xaxis": {
           "automargin": true,
           "gridcolor": "white",
           "linecolor": "white",
           "ticks": "",
           "title": {
            "standoff": 15
           },
           "zerolinecolor": "white",
           "zerolinewidth": 2
          },
          "yaxis": {
           "automargin": true,
           "gridcolor": "white",
           "linecolor": "white",
           "ticks": "",
           "title": {
            "standoff": 15
           },
           "zerolinecolor": "white",
           "zerolinewidth": 2
          }
         }
        },
        "title": {
         "text": "Model performance metrics"
        }
       }
      },
      "text/html": [
       "<div>                            <div id=\"7ac89335-0ff0-4a01-917f-56a7da0000ad\" class=\"plotly-graph-div\" style=\"height:525px; width:100%;\"></div>            <script type=\"text/javascript\">                require([\"plotly\"], function(Plotly) {                    window.PLOTLYENV=window.PLOTLYENV || {};                                    if (document.getElementById(\"7ac89335-0ff0-4a01-917f-56a7da0000ad\")) {                    Plotly.newPlot(                        \"7ac89335-0ff0-4a01-917f-56a7da0000ad\",                        [{\"customdata\":[\"RF\",\"LGBM\",\"RF\",\"RF\",\"RF\",\"RF\",\"RF\",\"RF\",\"RF\",\"RF\",\"RF\",\"RF\",\"RF\",\"RF\",\"LGBM\",\"LGBM\",\"LGBM\",\"LGBM\",\"LGBM\",\"LGBM\",\"LGBM\",\"GBM\",\"GBM\",\"LGBM\",\"GBM\",\"LGBM\",\"LGBM\",\"LGBM\",\"LGBM\"],\"hovertemplate\":\"Ranking: %{x}<br>Recall (test): %{y:,.3f}<br>Model: %{customdata}\",\"marker\":{\"color\":\"SkyBlue\"},\"mode\":\"markers\",\"name\":\"Recall\",\"x\":[0,1,2,3,4,5,6,7,8,9,10,11,12,13,14,15,16,17,18,19,20,21,22,23,24,25,26,27,28],\"y\":[0.0,0.09754010695187165,0.022994652406417113,0.0720855614973262,0.08203208556149733,0.09550802139037433,0.09315508021390374,0.08866310160427808,0.10994652406417112,0.1081283422459893,0.12941176470588237,0.13679144385026737,0.1348663101604278,0.19016042780748663,0.21818181818181817,0.33443850267379677,0.4386096256684492,0.45732620320855616,0.5059893048128342,0.5390374331550802,0.5506951871657754,0.5583957219251336,0.5586096256684492,0.5996791443850268,0.5898395721925134,0.636042780748663,0.6383957219251337,0.6364705882352941,0.6274866310160427],\"type\":\"scatter\"},{\"customdata\":[\"RF\",\"LGBM\",\"RF\",\"RF\",\"RF\",\"RF\",\"RF\",\"RF\",\"RF\",\"RF\",\"RF\",\"RF\",\"RF\",\"RF\",\"LGBM\",\"LGBM\",\"LGBM\",\"LGBM\",\"LGBM\",\"LGBM\",\"LGBM\",\"GBM\",\"GBM\",\"LGBM\",\"GBM\",\"LGBM\",\"LGBM\",\"LGBM\",\"LGBM\"],\"hovertemplate\":\"Ranking: %{x}<br>Precision (test): %{y:,.3f}<br>Model: %{customdata}\",\"marker\":{\"color\":\"LightCoral\"},\"mode\":\"markers\",\"name\":\"Precision\",\"x\":[0,1,2,3,4,5,6,7,8,9,10,11,12,13,14,15,16,17,18,19,20,21,22,23,24,25,26,27,28],\"y\":[0.0,0.9956331877729258,0.9953703703703703,0.9970414201183432,0.9973992197659298,0.9955406911928651,0.9965675057208238,0.9975932611311673,0.9922779922779923,0.9931237721021611,0.990990990990991,0.9907048799380326,0.99213217938631,0.9039145907473309,0.9260099863822061,0.895475372279496,0.8581293157564344,0.8422296631869214,0.8128865979381443,0.8042125418860699,0.7945987654320987,0.7877187688593844,0.7874265038444143,0.7685032894736842,0.7909077871791195,0.769041769041769,0.7691019198556887,0.7559705284552846,0.7816413535837996],\"type\":\"scatter\"},{\"customdata\":[\"RF\",\"LGBM\",\"RF\",\"RF\",\"RF\",\"RF\",\"RF\",\"RF\",\"RF\",\"RF\",\"RF\",\"RF\",\"RF\",\"RF\",\"LGBM\",\"LGBM\",\"LGBM\",\"LGBM\",\"LGBM\",\"LGBM\",\"LGBM\",\"GBM\",\"GBM\",\"LGBM\",\"GBM\",\"LGBM\",\"LGBM\",\"LGBM\",\"LGBM\"],\"hovertemplate\":\"Ranking: %{x}<br>F1 score (test): %{y:,.3f}<br>Model: %{customdata}\",\"marker\":{\"color\":\"MediumPurple\"},\"mode\":\"markers\",\"name\":\"F1 score\",\"x\":[0,1,2,3,4,5,6,7,8,9,10,11,12,13,14,15,16,17,18,19,20,21,22,23,24,25,26,27,28],\"y\":[0.0,0.17767387492694328,0.044950867656282666,0.13445042888489925,0.15159600751062358,0.17429491558504925,0.17038341158059467,0.16285237206561243,0.19795879067976122,0.19502314814814814,0.22892819979188347,0.2403909407010619,0.23745410036719705,0.31421754882035874,0.3531550246689172,0.4869957950475004,0.5805081746761979,0.5927774312053787,0.623731048121292,0.6454504706409683,0.6505369551484522,0.6535235949430468,0.6535694175061003,0.6736753574432296,0.6757336273969246,0.6962477316630568,0.6976798550639939,0.6910927882940424,0.6961319411485524],\"type\":\"scatter\"},{\"customdata\":[\"RF\",\"LGBM\",\"RF\",\"RF\",\"RF\",\"RF\",\"RF\",\"RF\",\"RF\",\"RF\",\"RF\",\"RF\",\"RF\",\"RF\",\"LGBM\",\"LGBM\",\"LGBM\",\"LGBM\",\"LGBM\",\"LGBM\",\"LGBM\",\"GBM\",\"GBM\",\"LGBM\",\"GBM\",\"LGBM\",\"LGBM\",\"LGBM\",\"LGBM\"],\"hovertemplate\":\"Ranking: %{x}<br>Accuracy (test): %{y:,.3f}<br>Model: %{customdata}\",\"marker\":{\"color\":\"SandyBrown\"},\"mode\":\"markers\",\"name\":\"Accuracy\",\"x\":[0,1,2,3,4,5,6,7,8,9,10,11,12,13,14,15,16,17,18,19,20,21,22,23,24,25,26,27,28],\"y\":[0.760710446844449,0.7839484055893945,0.7661872344781696,0.7779085837129549,0.7802886830117214,0.7834621487434099,0.7829247069662691,0.7818754158775656,0.7868147617341454,0.7864052822848954,0.7913958130726314,0.7931361007319445,0.7927266212826943,0.8013768746481036,0.8087475047346061,0.8313968367712545,0.848313456518401,0.849644264728464,0.8539182064800123,0.8582945180938731,0.8584224804217638,0.8583201105594513,0.8582945180938731,0.8609817269795772,0.8645390796949378,0.8672006961150637,0.8676101755643139,0.8638480831243281,0.8689153913087987],\"type\":\"scatter\"}],                        {\"template\":{\"data\":{\"histogram2dcontour\":[{\"type\":\"histogram2dcontour\",\"colorbar\":{\"outlinewidth\":0,\"ticks\":\"\"},\"colorscale\":[[0.0,\"#0d0887\"],[0.1111111111111111,\"#46039f\"],[0.2222222222222222,\"#7201a8\"],[0.3333333333333333,\"#9c179e\"],[0.4444444444444444,\"#bd3786\"],[0.5555555555555556,\"#d8576b\"],[0.6666666666666666,\"#ed7953\"],[0.7777777777777778,\"#fb9f3a\"],[0.8888888888888888,\"#fdca26\"],[1.0,\"#f0f921\"]]}],\"choropleth\":[{\"type\":\"choropleth\",\"colorbar\":{\"outlinewidth\":0,\"ticks\":\"\"}}],\"histogram2d\":[{\"type\":\"histogram2d\",\"colorbar\":{\"outlinewidth\":0,\"ticks\":\"\"},\"colorscale\":[[0.0,\"#0d0887\"],[0.1111111111111111,\"#46039f\"],[0.2222222222222222,\"#7201a8\"],[0.3333333333333333,\"#9c179e\"],[0.4444444444444444,\"#bd3786\"],[0.5555555555555556,\"#d8576b\"],[0.6666666666666666,\"#ed7953\"],[0.7777777777777778,\"#fb9f3a\"],[0.8888888888888888,\"#fdca26\"],[1.0,\"#f0f921\"]]}],\"heatmap\":[{\"type\":\"heatmap\",\"colorbar\":{\"outlinewidth\":0,\"ticks\":\"\"},\"colorscale\":[[0.0,\"#0d0887\"],[0.1111111111111111,\"#46039f\"],[0.2222222222222222,\"#7201a8\"],[0.3333333333333333,\"#9c179e\"],[0.4444444444444444,\"#bd3786\"],[0.5555555555555556,\"#d8576b\"],[0.6666666666666666,\"#ed7953\"],[0.7777777777777778,\"#fb9f3a\"],[0.8888888888888888,\"#fdca26\"],[1.0,\"#f0f921\"]]}],\"heatmapgl\":[{\"type\":\"heatmapgl\",\"colorbar\":{\"outlinewidth\":0,\"ticks\":\"\"},\"colorscale\":[[0.0,\"#0d0887\"],[0.1111111111111111,\"#46039f\"],[0.2222222222222222,\"#7201a8\"],[0.3333333333333333,\"#9c179e\"],[0.4444444444444444,\"#bd3786\"],[0.5555555555555556,\"#d8576b\"],[0.6666666666666666,\"#ed7953\"],[0.7777777777777778,\"#fb9f3a\"],[0.8888888888888888,\"#fdca26\"],[1.0,\"#f0f921\"]]}],\"contourcarpet\":[{\"type\":\"contourcarpet\",\"colorbar\":{\"outlinewidth\":0,\"ticks\":\"\"}}],\"contour\":[{\"type\":\"contour\",\"colorbar\":{\"outlinewidth\":0,\"ticks\":\"\"},\"colorscale\":[[0.0,\"#0d0887\"],[0.1111111111111111,\"#46039f\"],[0.2222222222222222,\"#7201a8\"],[0.3333333333333333,\"#9c179e\"],[0.4444444444444444,\"#bd3786\"],[0.5555555555555556,\"#d8576b\"],[0.6666666666666666,\"#ed7953\"],[0.7777777777777778,\"#fb9f3a\"],[0.8888888888888888,\"#fdca26\"],[1.0,\"#f0f921\"]]}],\"surface\":[{\"type\":\"surface\",\"colorbar\":{\"outlinewidth\":0,\"ticks\":\"\"},\"colorscale\":[[0.0,\"#0d0887\"],[0.1111111111111111,\"#46039f\"],[0.2222222222222222,\"#7201a8\"],[0.3333333333333333,\"#9c179e\"],[0.4444444444444444,\"#bd3786\"],[0.5555555555555556,\"#d8576b\"],[0.6666666666666666,\"#ed7953\"],[0.7777777777777778,\"#fb9f3a\"],[0.8888888888888888,\"#fdca26\"],[1.0,\"#f0f921\"]]}],\"mesh3d\":[{\"type\":\"mesh3d\",\"colorbar\":{\"outlinewidth\":0,\"ticks\":\"\"}}],\"scatter\":[{\"fillpattern\":{\"fillmode\":\"overlay\",\"size\":10,\"solidity\":0.2},\"type\":\"scatter\"}],\"parcoords\":[{\"type\":\"parcoords\",\"line\":{\"colorbar\":{\"outlinewidth\":0,\"ticks\":\"\"}}}],\"scatterpolargl\":[{\"type\":\"scatterpolargl\",\"marker\":{\"colorbar\":{\"outlinewidth\":0,\"ticks\":\"\"}}}],\"bar\":[{\"error_x\":{\"color\":\"#2a3f5f\"},\"error_y\":{\"color\":\"#2a3f5f\"},\"marker\":{\"line\":{\"color\":\"#E5ECF6\",\"width\":0.5},\"pattern\":{\"fillmode\":\"overlay\",\"size\":10,\"solidity\":0.2}},\"type\":\"bar\"}],\"scattergeo\":[{\"type\":\"scattergeo\",\"marker\":{\"colorbar\":{\"outlinewidth\":0,\"ticks\":\"\"}}}],\"scatterpolar\":[{\"type\":\"scatterpolar\",\"marker\":{\"colorbar\":{\"outlinewidth\":0,\"ticks\":\"\"}}}],\"histogram\":[{\"marker\":{\"pattern\":{\"fillmode\":\"overlay\",\"size\":10,\"solidity\":0.2}},\"type\":\"histogram\"}],\"scattergl\":[{\"type\":\"scattergl\",\"marker\":{\"colorbar\":{\"outlinewidth\":0,\"ticks\":\"\"}}}],\"scatter3d\":[{\"type\":\"scatter3d\",\"line\":{\"colorbar\":{\"outlinewidth\":0,\"ticks\":\"\"}},\"marker\":{\"colorbar\":{\"outlinewidth\":0,\"ticks\":\"\"}}}],\"scattermapbox\":[{\"type\":\"scattermapbox\",\"marker\":{\"colorbar\":{\"outlinewidth\":0,\"ticks\":\"\"}}}],\"scatterternary\":[{\"type\":\"scatterternary\",\"marker\":{\"colorbar\":{\"outlinewidth\":0,\"ticks\":\"\"}}}],\"scattercarpet\":[{\"type\":\"scattercarpet\",\"marker\":{\"colorbar\":{\"outlinewidth\":0,\"ticks\":\"\"}}}],\"carpet\":[{\"aaxis\":{\"endlinecolor\":\"#2a3f5f\",\"gridcolor\":\"white\",\"linecolor\":\"white\",\"minorgridcolor\":\"white\",\"startlinecolor\":\"#2a3f5f\"},\"baxis\":{\"endlinecolor\":\"#2a3f5f\",\"gridcolor\":\"white\",\"linecolor\":\"white\",\"minorgridcolor\":\"white\",\"startlinecolor\":\"#2a3f5f\"},\"type\":\"carpet\"}],\"table\":[{\"cells\":{\"fill\":{\"color\":\"#EBF0F8\"},\"line\":{\"color\":\"white\"}},\"header\":{\"fill\":{\"color\":\"#C8D4E3\"},\"line\":{\"color\":\"white\"}},\"type\":\"table\"}],\"barpolar\":[{\"marker\":{\"line\":{\"color\":\"#E5ECF6\",\"width\":0.5},\"pattern\":{\"fillmode\":\"overlay\",\"size\":10,\"solidity\":0.2}},\"type\":\"barpolar\"}],\"pie\":[{\"automargin\":true,\"type\":\"pie\"}]},\"layout\":{\"autotypenumbers\":\"strict\",\"colorway\":[\"#636efa\",\"#EF553B\",\"#00cc96\",\"#ab63fa\",\"#FFA15A\",\"#19d3f3\",\"#FF6692\",\"#B6E880\",\"#FF97FF\",\"#FECB52\"],\"font\":{\"color\":\"#2a3f5f\"},\"hovermode\":\"closest\",\"hoverlabel\":{\"align\":\"left\"},\"paper_bgcolor\":\"white\",\"plot_bgcolor\":\"#E5ECF6\",\"polar\":{\"bgcolor\":\"#E5ECF6\",\"angularaxis\":{\"gridcolor\":\"white\",\"linecolor\":\"white\",\"ticks\":\"\"},\"radialaxis\":{\"gridcolor\":\"white\",\"linecolor\":\"white\",\"ticks\":\"\"}},\"ternary\":{\"bgcolor\":\"#E5ECF6\",\"aaxis\":{\"gridcolor\":\"white\",\"linecolor\":\"white\",\"ticks\":\"\"},\"baxis\":{\"gridcolor\":\"white\",\"linecolor\":\"white\",\"ticks\":\"\"},\"caxis\":{\"gridcolor\":\"white\",\"linecolor\":\"white\",\"ticks\":\"\"}},\"coloraxis\":{\"colorbar\":{\"outlinewidth\":0,\"ticks\":\"\"}},\"colorscale\":{\"sequential\":[[0.0,\"#0d0887\"],[0.1111111111111111,\"#46039f\"],[0.2222222222222222,\"#7201a8\"],[0.3333333333333333,\"#9c179e\"],[0.4444444444444444,\"#bd3786\"],[0.5555555555555556,\"#d8576b\"],[0.6666666666666666,\"#ed7953\"],[0.7777777777777778,\"#fb9f3a\"],[0.8888888888888888,\"#fdca26\"],[1.0,\"#f0f921\"]],\"sequentialminus\":[[0.0,\"#0d0887\"],[0.1111111111111111,\"#46039f\"],[0.2222222222222222,\"#7201a8\"],[0.3333333333333333,\"#9c179e\"],[0.4444444444444444,\"#bd3786\"],[0.5555555555555556,\"#d8576b\"],[0.6666666666666666,\"#ed7953\"],[0.7777777777777778,\"#fb9f3a\"],[0.8888888888888888,\"#fdca26\"],[1.0,\"#f0f921\"]],\"diverging\":[[0,\"#8e0152\"],[0.1,\"#c51b7d\"],[0.2,\"#de77ae\"],[0.3,\"#f1b6da\"],[0.4,\"#fde0ef\"],[0.5,\"#f7f7f7\"],[0.6,\"#e6f5d0\"],[0.7,\"#b8e186\"],[0.8,\"#7fbc41\"],[0.9,\"#4d9221\"],[1,\"#276419\"]]},\"xaxis\":{\"gridcolor\":\"white\",\"linecolor\":\"white\",\"ticks\":\"\",\"title\":{\"standoff\":15},\"zerolinecolor\":\"white\",\"automargin\":true,\"zerolinewidth\":2},\"yaxis\":{\"gridcolor\":\"white\",\"linecolor\":\"white\",\"ticks\":\"\",\"title\":{\"standoff\":15},\"zerolinecolor\":\"white\",\"automargin\":true,\"zerolinewidth\":2},\"scene\":{\"xaxis\":{\"backgroundcolor\":\"#E5ECF6\",\"gridcolor\":\"white\",\"linecolor\":\"white\",\"showbackground\":true,\"ticks\":\"\",\"zerolinecolor\":\"white\",\"gridwidth\":2},\"yaxis\":{\"backgroundcolor\":\"#E5ECF6\",\"gridcolor\":\"white\",\"linecolor\":\"white\",\"showbackground\":true,\"ticks\":\"\",\"zerolinecolor\":\"white\",\"gridwidth\":2},\"zaxis\":{\"backgroundcolor\":\"#E5ECF6\",\"gridcolor\":\"white\",\"linecolor\":\"white\",\"showbackground\":true,\"ticks\":\"\",\"zerolinecolor\":\"white\",\"gridwidth\":2}},\"shapedefaults\":{\"line\":{\"color\":\"#2a3f5f\"}},\"annotationdefaults\":{\"arrowcolor\":\"#2a3f5f\",\"arrowhead\":0,\"arrowwidth\":1},\"geo\":{\"bgcolor\":\"white\",\"landcolor\":\"#E5ECF6\",\"subunitcolor\":\"white\",\"showland\":true,\"showlakes\":true,\"lakecolor\":\"white\"},\"title\":{\"x\":0.05},\"mapbox\":{\"style\":\"light\"}}},\"legend\":{\"orientation\":\"h\",\"yanchor\":\"bottom\",\"y\":1.02,\"xanchor\":\"right\",\"x\":1},\"title\":{\"text\":\"Model performance metrics\"}},                        {\"responsive\": true}                    ).then(function(){\n",
       "                            \n",
       "var gd = document.getElementById('7ac89335-0ff0-4a01-917f-56a7da0000ad');\n",
       "var x = new MutationObserver(function (mutations, observer) {{\n",
       "        var display = window.getComputedStyle(gd).display;\n",
       "        if (!display || display === 'none') {{\n",
       "            console.log([gd, 'removed!']);\n",
       "            Plotly.purge(gd);\n",
       "            observer.disconnect();\n",
       "        }}\n",
       "}});\n",
       "\n",
       "// Listen for the removal of the full notebook cells\n",
       "var notebookContainer = gd.closest('#notebook-container');\n",
       "if (notebookContainer) {{\n",
       "    x.observe(notebookContainer, {childList: true});\n",
       "}}\n",
       "\n",
       "// Listen for the clearing of the current output cell\n",
       "var outputEl = gd.closest('.output');\n",
       "if (outputEl) {{\n",
       "    x.observe(outputEl, {childList: true});\n",
       "}}\n",
       "\n",
       "                        })                };                });            </script>        </div>"
      ]
     },
     "metadata": {},
     "output_type": "display_data"
    }
   ],
   "source": [
    "\n",
    "def eval_metrics_graph(df_metrics, labels, colors, title):\n",
    "    fig = go.Figure()\n",
    "    for i, (color, label) in enumerate(zip(colors,labels)):\n",
    "        fig.add_trace(\n",
    "            go.Scatter(\n",
    "                name = label.capitalize(),\n",
    "                x= df_metrics.index, \n",
    "                y= df_metrics[label], \n",
    "                customdata = df_metrics.model,\n",
    "                mode = 'markers',\n",
    "                marker_color = color,\n",
    "                hovertemplate = \"<br>\".join([\n",
    "                    \"Ranking: %{x}\",\n",
    "                    label.capitalize() +\" (test): %{y:,.3f}\",\n",
    "                    \"Model: %{customdata}\",\n",
    "                ])\n",
    "        ))\n",
    "    fig.update_layout(\n",
    "        legend=dict(\n",
    "            orientation=\"h\",\n",
    "            yanchor=\"bottom\",\n",
    "            y=1.02,\n",
    "            xanchor=\"right\",\n",
    "            x=1\n",
    "            ),\n",
    "        title = title\n",
    "    )\n",
    "    return fig\n",
    "\n",
    "\n",
    "metrics = [\n",
    "    'recall', \n",
    "    'precision',\n",
    "    'f1 score',\n",
    "    'accuracy'\n",
    "    ]\n",
    "colors = ['SkyBlue','LightCoral','MediumPurple','SandyBrown']\n",
    "title = 'Model performance metrics'\n",
    "eval_metrics_graph(df_metrics_sorted, metrics, colors, title)"
   ]
  },
  {
   "cell_type": "code",
   "execution_count": 46,
   "metadata": {},
   "outputs": [
    {
     "data": {
      "image/png": "[encoded data removed]",
      "text/plain": [
       "<Figure size 1000x600 with 1 Axes>"
      ]
     },
     "metadata": {},
     "output_type": "display_data"
    }
   ],
   "source": [
    "import matplotlib.pyplot as plt\n",
    "import plotly.graph_objects as go\n",
    "plt.style.use('seaborn-v0_8-darkgrid')\n",
    "\n",
    "model_metrics_dict = {}\n",
    "model_metrics_u_dict = {}\n",
    "metrics = [\n",
    "    'recall', \n",
    "    'precision',\n",
    "    'f1 score',\n",
    "    'accuracy'\n",
    "    ]\n",
    "\n",
    "_,model_metrics_dict['train_model'] = list(zip(*results_dict['res_sim'][0]))\n",
    "for metric in metrics:\n",
    "    model_metrics_dict[metric] = [metric_frame.overall[metric] for metric_frame in results_dict['metrics_sim'][0]]\n",
    "    model_metrics_u_dict[metric] = [metric_frame.overall[metric] for metric_frame in results_dict['metrics_sim_u'][0]]\n",
    "\n",
    "model_metrics = list(zip(*model_metrics_dict.values()))\n",
    "model_metrics_sorted = sorted(model_metrics, key = lambda x: x[0])\n",
    "\n",
    "colors = ['DodgerBlue','SkyBlue','LightCoral','MediumPurple','SandyBrown']\n",
    "labels = ['train'] + metrics\n",
    "metrics_scatter(model_metrics_sorted, labels, colors)"
   ]
  },
  {
   "cell_type": "code",
   "execution_count": 423,
   "metadata": {},
   "outputs": [],
   "source": [
    "import pandas as pd\n",
    "\n",
    "def create_df_metrics(fair_metrics, model_metrics):\n",
    "    df_fair = pd.DataFrame.from_dict(fair_metrics)\n",
    "    df_model = pd.DataFrame.from_dict(model_metrics)\n",
    "    df_metrics = pd.concat([df_fair,df_model], axis = 1)\n",
    "    return df_metrics\n",
    "\n",
    "df_metrics = create_df_metrics(fair_metrics_dict, model_metrics_dict)\n",
    "df_metrics['model'] = results_dict['models_sim'][0]\n",
    "new_index = df_metrics[df_metrics['train_model'] != 0].index\n",
    "df_metrics = df_metrics[df_metrics['train_model'] != 0].reset_index(drop = True)\n"
   ]
  },
  {
   "cell_type": "code",
   "execution_count": 838,
   "metadata": {},
   "outputs": [
    {
     "data": {
      "text/plain": [
       "1"
      ]
     },
     "execution_count": 838,
     "metadata": {},
     "output_type": "execute_result"
    }
   ],
   "source": [
    "int()/3)"
   ]
  },
  {
   "cell_type": "code",
   "execution_count": null,
   "metadata": {},
   "outputs": [],
   "source": []
  },
  {
   "cell_type": "code",
   "execution_count": 823,
   "metadata": {},
   "outputs": [
    {
     "data": {
      "text/html": [
       "<div>\n",
       "<style scoped>\n",
       "    .dataframe tbody tr th:only-of-type {\n",
       "        vertical-align: middle;\n",
       "    }\n",
       "\n",
       "    .dataframe tbody tr th {\n",
       "        vertical-align: top;\n",
       "    }\n",
       "\n",
       "    .dataframe thead th {\n",
       "        text-align: right;\n",
       "    }\n",
       "</style>\n",
       "<table border=\"1\" class=\"dataframe\">\n",
       "  <thead>\n",
       "    <tr style=\"text-align: right;\">\n",
       "      <th></th>\n",
       "      <th>train_fair</th>\n",
       "      <th>predictive equality difference</th>\n",
       "      <th>equality opportunity difference</th>\n",
       "      <th>average absolute odds difference</th>\n",
       "      <th>disparity difference</th>\n",
       "      <th>train_model</th>\n",
       "      <th>recall</th>\n",
       "      <th>precision</th>\n",
       "      <th>f1 score</th>\n",
       "      <th>accuracy</th>\n",
       "      <th>model</th>\n",
       "    </tr>\n",
       "  </thead>\n",
       "  <tbody>\n",
       "    <tr>\n",
       "      <th>0</th>\n",
       "      <td>0.051179</td>\n",
       "      <td>0.010407</td>\n",
       "      <td>0.176387</td>\n",
       "      <td>0.093397</td>\n",
       "      <td>0.068927</td>\n",
       "      <td>0.274766</td>\n",
       "      <td>0.190160</td>\n",
       "      <td>0.903915</td>\n",
       "      <td>0.314218</td>\n",
       "      <td>0.801377</td>\n",
       "      <td>RF</td>\n",
       "    </tr>\n",
       "    <tr>\n",
       "      <th>1</th>\n",
       "      <td>0.155837</td>\n",
       "      <td>0.058206</td>\n",
       "      <td>0.115179</td>\n",
       "      <td>0.086692</td>\n",
       "      <td>0.170408</td>\n",
       "      <td>0.669409</td>\n",
       "      <td>0.589840</td>\n",
       "      <td>0.790908</td>\n",
       "      <td>0.675734</td>\n",
       "      <td>0.864539</td>\n",
       "      <td>GBM</td>\n",
       "    </tr>\n",
       "    <tr>\n",
       "      <th>2</th>\n",
       "      <td>0.166950</td>\n",
       "      <td>0.060388</td>\n",
       "      <td>0.092232</td>\n",
       "      <td>0.076310</td>\n",
       "      <td>0.175327</td>\n",
       "      <td>0.695141</td>\n",
       "      <td>0.627487</td>\n",
       "      <td>0.781641</td>\n",
       "      <td>0.696132</td>\n",
       "      <td>0.868915</td>\n",
       "      <td>LGBM</td>\n",
       "    </tr>\n",
       "    <tr>\n",
       "      <th>3</th>\n",
       "      <td>0.037402</td>\n",
       "      <td>0.000606</td>\n",
       "      <td>0.095765</td>\n",
       "      <td>0.048185</td>\n",
       "      <td>0.039105</td>\n",
       "      <td>0.219039</td>\n",
       "      <td>0.129412</td>\n",
       "      <td>0.990991</td>\n",
       "      <td>0.228928</td>\n",
       "      <td>0.791396</td>\n",
       "      <td>RF</td>\n",
       "    </tr>\n",
       "    <tr>\n",
       "      <th>4</th>\n",
       "      <td>0.147267</td>\n",
       "      <td>0.055421</td>\n",
       "      <td>0.111671</td>\n",
       "      <td>0.083546</td>\n",
       "      <td>0.161785</td>\n",
       "      <td>0.650702</td>\n",
       "      <td>0.558610</td>\n",
       "      <td>0.787427</td>\n",
       "      <td>0.653569</td>\n",
       "      <td>0.858295</td>\n",
       "      <td>GBM</td>\n",
       "    </tr>\n",
       "    <tr>\n",
       "      <th>5</th>\n",
       "      <td>0.041229</td>\n",
       "      <td>0.000551</td>\n",
       "      <td>0.106413</td>\n",
       "      <td>0.053482</td>\n",
       "      <td>0.041596</td>\n",
       "      <td>0.224469</td>\n",
       "      <td>0.134866</td>\n",
       "      <td>0.992132</td>\n",
       "      <td>0.237454</td>\n",
       "      <td>0.792727</td>\n",
       "      <td>RF</td>\n",
       "    </tr>\n",
       "    <tr>\n",
       "      <th>6</th>\n",
       "      <td>0.028526</td>\n",
       "      <td>0.000220</td>\n",
       "      <td>0.110360</td>\n",
       "      <td>0.055290</td>\n",
       "      <td>0.034099</td>\n",
       "      <td>0.151631</td>\n",
       "      <td>0.095508</td>\n",
       "      <td>0.995541</td>\n",
       "      <td>0.174295</td>\n",
       "      <td>0.783462</td>\n",
       "      <td>RF</td>\n",
       "    </tr>\n",
       "    <tr>\n",
       "      <th>7</th>\n",
       "      <td>0.025735</td>\n",
       "      <td>0.000110</td>\n",
       "      <td>0.096248</td>\n",
       "      <td>0.048179</td>\n",
       "      <td>0.029431</td>\n",
       "      <td>0.136290</td>\n",
       "      <td>0.082032</td>\n",
       "      <td>0.997399</td>\n",
       "      <td>0.151596</td>\n",
       "      <td>0.780289</td>\n",
       "      <td>RF</td>\n",
       "    </tr>\n",
       "    <tr>\n",
       "      <th>8</th>\n",
       "      <td>0.032651</td>\n",
       "      <td>0.000110</td>\n",
       "      <td>0.090435</td>\n",
       "      <td>0.045272</td>\n",
       "      <td>0.029955</td>\n",
       "      <td>0.169036</td>\n",
       "      <td>0.088663</td>\n",
       "      <td>0.997593</td>\n",
       "      <td>0.162852</td>\n",
       "      <td>0.781875</td>\n",
       "      <td>RF</td>\n",
       "    </tr>\n",
       "    <tr>\n",
       "      <th>9</th>\n",
       "      <td>0.029606</td>\n",
       "      <td>0.000165</td>\n",
       "      <td>0.083811</td>\n",
       "      <td>0.041988</td>\n",
       "      <td>0.029984</td>\n",
       "      <td>0.156715</td>\n",
       "      <td>0.093155</td>\n",
       "      <td>0.996568</td>\n",
       "      <td>0.170383</td>\n",
       "      <td>0.782925</td>\n",
       "      <td>RF</td>\n",
       "    </tr>\n",
       "    <tr>\n",
       "      <th>10</th>\n",
       "      <td>0.015836</td>\n",
       "      <td>0.000055</td>\n",
       "      <td>0.026980</td>\n",
       "      <td>0.013517</td>\n",
       "      <td>0.008267</td>\n",
       "      <td>0.083484</td>\n",
       "      <td>0.022995</td>\n",
       "      <td>0.995370</td>\n",
       "      <td>0.044951</td>\n",
       "      <td>0.766187</td>\n",
       "      <td>RF</td>\n",
       "    </tr>\n",
       "    <tr>\n",
       "      <th>11</th>\n",
       "      <td>0.034007</td>\n",
       "      <td>0.000441</td>\n",
       "      <td>0.115406</td>\n",
       "      <td>0.057923</td>\n",
       "      <td>0.037801</td>\n",
       "      <td>0.191681</td>\n",
       "      <td>0.109947</td>\n",
       "      <td>0.992278</td>\n",
       "      <td>0.197959</td>\n",
       "      <td>0.786815</td>\n",
       "      <td>RF</td>\n",
       "    </tr>\n",
       "    <tr>\n",
       "      <th>12</th>\n",
       "      <td>0.039513</td>\n",
       "      <td>0.000661</td>\n",
       "      <td>0.109521</td>\n",
       "      <td>0.055091</td>\n",
       "      <td>0.042477</td>\n",
       "      <td>0.220305</td>\n",
       "      <td>0.136791</td>\n",
       "      <td>0.990705</td>\n",
       "      <td>0.240391</td>\n",
       "      <td>0.793136</td>\n",
       "      <td>RF</td>\n",
       "    </tr>\n",
       "    <tr>\n",
       "      <th>13</th>\n",
       "      <td>0.000604</td>\n",
       "      <td>0.000000</td>\n",
       "      <td>0.000000</td>\n",
       "      <td>0.000000</td>\n",
       "      <td>0.000000</td>\n",
       "      <td>0.003406</td>\n",
       "      <td>0.000000</td>\n",
       "      <td>0.000000</td>\n",
       "      <td>0.000000</td>\n",
       "      <td>0.760710</td>\n",
       "      <td>RF</td>\n",
       "    </tr>\n",
       "    <tr>\n",
       "      <th>14</th>\n",
       "      <td>0.034155</td>\n",
       "      <td>0.000385</td>\n",
       "      <td>0.100529</td>\n",
       "      <td>0.050457</td>\n",
       "      <td>0.035379</td>\n",
       "      <td>0.195651</td>\n",
       "      <td>0.108128</td>\n",
       "      <td>0.993124</td>\n",
       "      <td>0.195023</td>\n",
       "      <td>0.786405</td>\n",
       "      <td>RF</td>\n",
       "    </tr>\n",
       "    <tr>\n",
       "      <th>15</th>\n",
       "      <td>0.017199</td>\n",
       "      <td>0.000110</td>\n",
       "      <td>0.084578</td>\n",
       "      <td>0.042344</td>\n",
       "      <td>0.025872</td>\n",
       "      <td>0.091195</td>\n",
       "      <td>0.072086</td>\n",
       "      <td>0.997041</td>\n",
       "      <td>0.134450</td>\n",
       "      <td>0.777909</td>\n",
       "      <td>RF</td>\n",
       "    </tr>\n",
       "    <tr>\n",
       "      <th>16</th>\n",
       "      <td>0.052740</td>\n",
       "      <td>0.007277</td>\n",
       "      <td>0.103064</td>\n",
       "      <td>0.055171</td>\n",
       "      <td>0.062132</td>\n",
       "      <td>0.346955</td>\n",
       "      <td>0.218182</td>\n",
       "      <td>0.926010</td>\n",
       "      <td>0.353155</td>\n",
       "      <td>0.808748</td>\n",
       "      <td>LGBM</td>\n",
       "    </tr>\n",
       "    <tr>\n",
       "      <th>17</th>\n",
       "      <td>0.010207</td>\n",
       "      <td>0.000220</td>\n",
       "      <td>0.035431</td>\n",
       "      <td>0.017826</td>\n",
       "      <td>0.024313</td>\n",
       "      <td>0.067397</td>\n",
       "      <td>0.097540</td>\n",
       "      <td>0.995633</td>\n",
       "      <td>0.177674</td>\n",
       "      <td>0.783948</td>\n",
       "      <td>LGBM</td>\n",
       "    </tr>\n",
       "    <tr>\n",
       "      <th>18</th>\n",
       "      <td>0.156543</td>\n",
       "      <td>0.062538</td>\n",
       "      <td>0.078482</td>\n",
       "      <td>0.070510</td>\n",
       "      <td>0.175928</td>\n",
       "      <td>0.688416</td>\n",
       "      <td>0.636043</td>\n",
       "      <td>0.769042</td>\n",
       "      <td>0.696248</td>\n",
       "      <td>0.867201</td>\n",
       "      <td>LGBM</td>\n",
       "    </tr>\n",
       "    <tr>\n",
       "      <th>19</th>\n",
       "      <td>0.134237</td>\n",
       "      <td>0.046945</td>\n",
       "      <td>0.139990</td>\n",
       "      <td>0.093467</td>\n",
       "      <td>0.150425</td>\n",
       "      <td>0.619957</td>\n",
       "      <td>0.505989</td>\n",
       "      <td>0.812887</td>\n",
       "      <td>0.623731</td>\n",
       "      <td>0.853918</td>\n",
       "      <td>LGBM</td>\n",
       "    </tr>\n",
       "    <tr>\n",
       "      <th>20</th>\n",
       "      <td>0.084498</td>\n",
       "      <td>0.014296</td>\n",
       "      <td>0.073796</td>\n",
       "      <td>0.044046</td>\n",
       "      <td>0.085588</td>\n",
       "      <td>0.465019</td>\n",
       "      <td>0.334439</td>\n",
       "      <td>0.895475</td>\n",
       "      <td>0.486996</td>\n",
       "      <td>0.831397</td>\n",
       "      <td>LGBM</td>\n",
       "    </tr>\n",
       "    <tr>\n",
       "      <th>21</th>\n",
       "      <td>0.154083</td>\n",
       "      <td>0.064274</td>\n",
       "      <td>0.098687</td>\n",
       "      <td>0.081480</td>\n",
       "      <td>0.173528</td>\n",
       "      <td>0.657539</td>\n",
       "      <td>0.599679</td>\n",
       "      <td>0.768503</td>\n",
       "      <td>0.673675</td>\n",
       "      <td>0.860982</td>\n",
       "      <td>LGBM</td>\n",
       "    </tr>\n",
       "    <tr>\n",
       "      <th>22</th>\n",
       "      <td>0.157594</td>\n",
       "      <td>0.062444</td>\n",
       "      <td>0.088039</td>\n",
       "      <td>0.075242</td>\n",
       "      <td>0.177577</td>\n",
       "      <td>0.691334</td>\n",
       "      <td>0.638396</td>\n",
       "      <td>0.769102</td>\n",
       "      <td>0.697680</td>\n",
       "      <td>0.867610</td>\n",
       "      <td>LGBM</td>\n",
       "    </tr>\n",
       "    <tr>\n",
       "      <th>23</th>\n",
       "      <td>0.163037</td>\n",
       "      <td>0.067990</td>\n",
       "      <td>0.090878</td>\n",
       "      <td>0.079434</td>\n",
       "      <td>0.181248</td>\n",
       "      <td>0.691371</td>\n",
       "      <td>0.636471</td>\n",
       "      <td>0.755971</td>\n",
       "      <td>0.691093</td>\n",
       "      <td>0.863848</td>\n",
       "      <td>LGBM</td>\n",
       "    </tr>\n",
       "    <tr>\n",
       "      <th>24</th>\n",
       "      <td>0.107408</td>\n",
       "      <td>0.030399</td>\n",
       "      <td>0.128052</td>\n",
       "      <td>0.079225</td>\n",
       "      <td>0.124677</td>\n",
       "      <td>0.561715</td>\n",
       "      <td>0.438610</td>\n",
       "      <td>0.858129</td>\n",
       "      <td>0.580508</td>\n",
       "      <td>0.848313</td>\n",
       "      <td>LGBM</td>\n",
       "    </tr>\n",
       "    <tr>\n",
       "      <th>25</th>\n",
       "      <td>0.114664</td>\n",
       "      <td>0.035899</td>\n",
       "      <td>0.130471</td>\n",
       "      <td>0.083185</td>\n",
       "      <td>0.132386</td>\n",
       "      <td>0.577757</td>\n",
       "      <td>0.457326</td>\n",
       "      <td>0.842230</td>\n",
       "      <td>0.592777</td>\n",
       "      <td>0.849644</td>\n",
       "      <td>LGBM</td>\n",
       "    </tr>\n",
       "    <tr>\n",
       "      <th>26</th>\n",
       "      <td>0.147119</td>\n",
       "      <td>0.054831</td>\n",
       "      <td>0.111420</td>\n",
       "      <td>0.083126</td>\n",
       "      <td>0.161247</td>\n",
       "      <td>0.649276</td>\n",
       "      <td>0.558396</td>\n",
       "      <td>0.787719</td>\n",
       "      <td>0.653524</td>\n",
       "      <td>0.858320</td>\n",
       "      <td>GBM</td>\n",
       "    </tr>\n",
       "    <tr>\n",
       "      <th>27</th>\n",
       "      <td>0.139769</td>\n",
       "      <td>0.049590</td>\n",
       "      <td>0.111646</td>\n",
       "      <td>0.080618</td>\n",
       "      <td>0.154362</td>\n",
       "      <td>0.640020</td>\n",
       "      <td>0.539037</td>\n",
       "      <td>0.804213</td>\n",
       "      <td>0.645450</td>\n",
       "      <td>0.858295</td>\n",
       "      <td>LGBM</td>\n",
       "    </tr>\n",
       "    <tr>\n",
       "      <th>28</th>\n",
       "      <td>0.144581</td>\n",
       "      <td>0.054043</td>\n",
       "      <td>0.123625</td>\n",
       "      <td>0.088834</td>\n",
       "      <td>0.161244</td>\n",
       "      <td>0.644822</td>\n",
       "      <td>0.550695</td>\n",
       "      <td>0.794599</td>\n",
       "      <td>0.650537</td>\n",
       "      <td>0.858422</td>\n",
       "      <td>LGBM</td>\n",
       "    </tr>\n",
       "  </tbody>\n",
       "</table>\n",
       "</div>"
      ],
      "text/plain": [
       "    train_fair  predictive equality difference   \n",
       "0     0.051179                        0.010407  \\\n",
       "1     0.155837                        0.058206   \n",
       "2     0.166950                        0.060388   \n",
       "3     0.037402                        0.000606   \n",
       "4     0.147267                        0.055421   \n",
       "5     0.041229                        0.000551   \n",
       "6     0.028526                        0.000220   \n",
       "7     0.025735                        0.000110   \n",
       "8     0.032651                        0.000110   \n",
       "9     0.029606                        0.000165   \n",
       "10    0.015836                        0.000055   \n",
       "11    0.034007                        0.000441   \n",
       "12    0.039513                        0.000661   \n",
       "13    0.000604                        0.000000   \n",
       "14    0.034155                        0.000385   \n",
       "15    0.017199                        0.000110   \n",
       "16    0.052740                        0.007277   \n",
       "17    0.010207                        0.000220   \n",
       "18    0.156543                        0.062538   \n",
       "19    0.134237                        0.046945   \n",
       "20    0.084498                        0.014296   \n",
       "21    0.154083                        0.064274   \n",
       "22    0.157594                        0.062444   \n",
       "23    0.163037                        0.067990   \n",
       "24    0.107408                        0.030399   \n",
       "25    0.114664                        0.035899   \n",
       "26    0.147119                        0.054831   \n",
       "27    0.139769                        0.049590   \n",
       "28    0.144581                        0.054043   \n",
       "\n",
       "    equality opportunity difference  average absolute odds difference   \n",
       "0                          0.176387                          0.093397  \\\n",
       "1                          0.115179                          0.086692   \n",
       "2                          0.092232                          0.076310   \n",
       "3                          0.095765                          0.048185   \n",
       "4                          0.111671                          0.083546   \n",
       "5                          0.106413                          0.053482   \n",
       "6                          0.110360                          0.055290   \n",
       "7                          0.096248                          0.048179   \n",
       "8                          0.090435                          0.045272   \n",
       "9                          0.083811                          0.041988   \n",
       "10                         0.026980                          0.013517   \n",
       "11                         0.115406                          0.057923   \n",
       "12                         0.109521                          0.055091   \n",
       "13                         0.000000                          0.000000   \n",
       "14                         0.100529                          0.050457   \n",
       "15                         0.084578                          0.042344   \n",
       "16                         0.103064                          0.055171   \n",
       "17                         0.035431                          0.017826   \n",
       "18                         0.078482                          0.070510   \n",
       "19                         0.139990                          0.093467   \n",
       "20                         0.073796                          0.044046   \n",
       "21                         0.098687                          0.081480   \n",
       "22                         0.088039                          0.075242   \n",
       "23                         0.090878                          0.079434   \n",
       "24                         0.128052                          0.079225   \n",
       "25                         0.130471                          0.083185   \n",
       "26                         0.111420                          0.083126   \n",
       "27                         0.111646                          0.080618   \n",
       "28                         0.123625                          0.088834   \n",
       "\n",
       "    disparity difference  train_model    recall  precision  f1 score   \n",
       "0               0.068927     0.274766  0.190160   0.903915  0.314218  \\\n",
       "1               0.170408     0.669409  0.589840   0.790908  0.675734   \n",
       "2               0.175327     0.695141  0.627487   0.781641  0.696132   \n",
       "3               0.039105     0.219039  0.129412   0.990991  0.228928   \n",
       "4               0.161785     0.650702  0.558610   0.787427  0.653569   \n",
       "5               0.041596     0.224469  0.134866   0.992132  0.237454   \n",
       "6               0.034099     0.151631  0.095508   0.995541  0.174295   \n",
       "7               0.029431     0.136290  0.082032   0.997399  0.151596   \n",
       "8               0.029955     0.169036  0.088663   0.997593  0.162852   \n",
       "9               0.029984     0.156715  0.093155   0.996568  0.170383   \n",
       "10              0.008267     0.083484  0.022995   0.995370  0.044951   \n",
       "11              0.037801     0.191681  0.109947   0.992278  0.197959   \n",
       "12              0.042477     0.220305  0.136791   0.990705  0.240391   \n",
       "13              0.000000     0.003406  0.000000   0.000000  0.000000   \n",
       "14              0.035379     0.195651  0.108128   0.993124  0.195023   \n",
       "15              0.025872     0.091195  0.072086   0.997041  0.134450   \n",
       "16              0.062132     0.346955  0.218182   0.926010  0.353155   \n",
       "17              0.024313     0.067397  0.097540   0.995633  0.177674   \n",
       "18              0.175928     0.688416  0.636043   0.769042  0.696248   \n",
       "19              0.150425     0.619957  0.505989   0.812887  0.623731   \n",
       "20              0.085588     0.465019  0.334439   0.895475  0.486996   \n",
       "21              0.173528     0.657539  0.599679   0.768503  0.673675   \n",
       "22              0.177577     0.691334  0.638396   0.769102  0.697680   \n",
       "23              0.181248     0.691371  0.636471   0.755971  0.691093   \n",
       "24              0.124677     0.561715  0.438610   0.858129  0.580508   \n",
       "25              0.132386     0.577757  0.457326   0.842230  0.592777   \n",
       "26              0.161247     0.649276  0.558396   0.787719  0.653524   \n",
       "27              0.154362     0.640020  0.539037   0.804213  0.645450   \n",
       "28              0.161244     0.644822  0.550695   0.794599  0.650537   \n",
       "\n",
       "    accuracy model  \n",
       "0   0.801377    RF  \n",
       "1   0.864539   GBM  \n",
       "2   0.868915  LGBM  \n",
       "3   0.791396    RF  \n",
       "4   0.858295   GBM  \n",
       "5   0.792727    RF  \n",
       "6   0.783462    RF  \n",
       "7   0.780289    RF  \n",
       "8   0.781875    RF  \n",
       "9   0.782925    RF  \n",
       "10  0.766187    RF  \n",
       "11  0.786815    RF  \n",
       "12  0.793136    RF  \n",
       "13  0.760710    RF  \n",
       "14  0.786405    RF  \n",
       "15  0.777909    RF  \n",
       "16  0.808748  LGBM  \n",
       "17  0.783948  LGBM  \n",
       "18  0.867201  LGBM  \n",
       "19  0.853918  LGBM  \n",
       "20  0.831397  LGBM  \n",
       "21  0.860982  LGBM  \n",
       "22  0.867610  LGBM  \n",
       "23  0.863848  LGBM  \n",
       "24  0.848313  LGBM  \n",
       "25  0.849644  LGBM  \n",
       "26  0.858320   GBM  \n",
       "27  0.858295  LGBM  \n",
       "28  0.858422  LGBM  "
      ]
     },
     "execution_count": 823,
     "metadata": {},
     "output_type": "execute_result"
    }
   ],
   "source": [
    "df_metrics"
   ]
  },
  {
   "cell_type": "code",
   "execution_count": 822,
   "metadata": {},
   "outputs": [
    {
     "data": {
      "text/plain": [
       "[{'label': 'accuracy', 'value': 'accuracy'},\n",
       " {'label': 'precision', 'value': 'precision'},\n",
       " {'label': 'recall', 'value': 'recall'},\n",
       " {'label': 'f1 score', 'value': 'f1 score'},\n",
       " {'label': 'selection rate', 'value': 'selection rate'},\n",
       " {'label': 'false positive rate', 'value': 'false positive rate'},\n",
       " {'label': 'true positive rate', 'value': 'true positive rate'},\n",
       " {'label': 'false negative rate', 'value': 'false negative rate'},\n",
       " {'label': 'true negative rate', 'value': 'true negative rate'},\n",
       " {'label': 'count', 'value': 'count'}]"
      ]
     },
     "execution_count": 822,
     "metadata": {},
     "output_type": "execute_result"
    }
   ],
   "source": [
    "[{'label': x, 'value': x} for x in metric_frame.by_group.columns]"
   ]
  },
  {
   "cell_type": "code",
   "execution_count": 821,
   "metadata": {},
   "outputs": [
    {
     "data": {
      "text/plain": [
       "Index(['accuracy', 'precision', 'recall', 'f1 score', 'selection rate',\n",
       "       'false positive rate', 'true positive rate', 'false negative rate',\n",
       "       'true negative rate', 'count'],\n",
       "      dtype='object')"
      ]
     },
     "execution_count": 821,
     "metadata": {},
     "output_type": "execute_result"
    }
   ],
   "source": [
    "metric_frame.by_group.columns"
   ]
  },
  {
   "cell_type": "code",
   "execution_count": 818,
   "metadata": {},
   "outputs": [
    {
     "data": {
      "text/plain": [
       "Index([13, 17, 10, 15,  7,  6,  9,  8, 11, 14,  3, 12,  5,  0, 16, 20, 24, 25,\n",
       "       19, 27, 28, 26,  4, 21,  1, 18, 22, 23,  2],\n",
       "      dtype='int64')"
      ]
     },
     "execution_count": 818,
     "metadata": {},
     "output_type": "execute_result"
    }
   ],
   "source": [
    "df_metrics[df_metrics['train_model'] != 0].sort_values(['train_fair']).index"
   ]
  },
  {
   "cell_type": "code",
   "execution_count": 893,
   "metadata": {},
   "outputs": [
    {
     "data": {
      "text/plain": [
       "'LGBM'"
      ]
     },
     "execution_count": 893,
     "metadata": {},
     "output_type": "execute_result"
    }
   ],
   "source": [
    "results_dict['models_sim'][0][n]"
   ]
  },
  {
   "cell_type": "code",
   "execution_count": 894,
   "metadata": {},
   "outputs": [
    {
     "data": {
      "text/html": [
       "<div>\n",
       "<style scoped>\n",
       "    .dataframe tbody tr th:only-of-type {\n",
       "        vertical-align: middle;\n",
       "    }\n",
       "\n",
       "    .dataframe tbody tr th {\n",
       "        vertical-align: top;\n",
       "    }\n",
       "\n",
       "    .dataframe thead th {\n",
       "        text-align: right;\n",
       "    }\n",
       "</style>\n",
       "<table border=\"1\" class=\"dataframe\">\n",
       "  <thead>\n",
       "    <tr style=\"text-align: right;\">\n",
       "      <th></th>\n",
       "      <th>accuracy u</th>\n",
       "      <th>precision u</th>\n",
       "      <th>recall u</th>\n",
       "      <th>f1 score u</th>\n",
       "      <th>selection rate u</th>\n",
       "      <th>false positive rate u</th>\n",
       "      <th>true positive rate u</th>\n",
       "      <th>false negative rate u</th>\n",
       "      <th>true negative rate u</th>\n",
       "      <th>count u</th>\n",
       "      <th>Difference u</th>\n",
       "    </tr>\n",
       "    <tr>\n",
       "      <th>sex</th>\n",
       "      <th></th>\n",
       "      <th></th>\n",
       "      <th></th>\n",
       "      <th></th>\n",
       "      <th></th>\n",
       "      <th></th>\n",
       "      <th></th>\n",
       "      <th></th>\n",
       "      <th></th>\n",
       "      <th></th>\n",
       "      <th></th>\n",
       "    </tr>\n",
       "  </thead>\n",
       "  <tbody>\n",
       "    <tr>\n",
       "      <th>Female</th>\n",
       "      <td>0.93511</td>\n",
       "      <td>0.771859</td>\n",
       "      <td>0.556119</td>\n",
       "      <td>0.646465</td>\n",
       "      <td>0.076864</td>\n",
       "      <td>0.019630</td>\n",
       "      <td>0.556119</td>\n",
       "      <td>0.443881</td>\n",
       "      <td>0.980370</td>\n",
       "      <td>12945.0</td>\n",
       "      <td>NaN</td>\n",
       "    </tr>\n",
       "    <tr>\n",
       "      <th>Male</th>\n",
       "      <td>0.83635</td>\n",
       "      <td>0.778045</td>\n",
       "      <td>0.648388</td>\n",
       "      <td>0.707324</td>\n",
       "      <td>0.254162</td>\n",
       "      <td>0.081167</td>\n",
       "      <td>0.648388</td>\n",
       "      <td>0.351612</td>\n",
       "      <td>0.918833</td>\n",
       "      <td>26129.0</td>\n",
       "      <td>NaN</td>\n",
       "    </tr>\n",
       "  </tbody>\n",
       "</table>\n",
       "</div>"
      ],
      "text/plain": [
       "        accuracy u  precision u  recall u  f1 score u  selection rate u   \n",
       "sex                                                                       \n",
       "Female     0.93511     0.771859  0.556119    0.646465          0.076864  \\\n",
       "Male       0.83635     0.778045  0.648388    0.707324          0.254162   \n",
       "\n",
       "        false positive rate u  true positive rate u  false negative rate u   \n",
       "sex                                                                          \n",
       "Female               0.019630              0.556119               0.443881  \\\n",
       "Male                 0.081167              0.648388               0.351612   \n",
       "\n",
       "        true negative rate u  count u  Difference u  \n",
       "sex                                                  \n",
       "Female              0.980370  12945.0           NaN  \n",
       "Male                0.918833  26129.0           NaN  "
      ]
     },
     "execution_count": 894,
     "metadata": {},
     "output_type": "execute_result"
    }
   ],
   "source": [
    "results_dict['metrics_sim_u'][0][n_model].by_group"
   ]
  },
  {
   "cell_type": "code",
   "execution_count": 874,
   "metadata": {},
   "outputs": [],
   "source": [
    "model_mapping = {\n",
    "    'LogisticRegression':'LR',\n",
    "    'RandomForestClassifier':'RF',\n",
    "    'GradientBoostingClassifier':'GBM',\n",
    "    'LGBMClassifier' : 'LGBM'}\n",
    "\n",
    "metric = 'true positive rate'\n",
    "\n",
    "models = list(map(model_mapping.get,results_dict['models_sim_u'][0]))\n",
    "n_model = models.index(results_dict['models_sim'][0][n])\n",
    "\n",
    "df_groups_u = results_dict['metrics_sim_u'][0][n_model].by_group[metric]\n",
    "df_groups_u['Difference'] = results_dict['metrics_sim_u'][0][n_model].difference()[metric]\n",
    "df_groups_u.name = df_groups_u.name + ' u'\n",
    "\n",
    "df_groups_m = results_dict['metrics_sim'][0][n].by_group[metric]\n",
    "df_groups_m['Difference'] = results_dict['metrics_sim'][0][n].difference()[metric]\n",
    "df_groups = pd.concat([df_groups_u,df_groups_m],axis = 1).reset_index()"
   ]
  },
  {
   "cell_type": "code",
   "execution_count": 875,
   "metadata": {},
   "outputs": [
    {
     "data": {
      "text/html": [
       "<div>\n",
       "<style scoped>\n",
       "    .dataframe tbody tr th:only-of-type {\n",
       "        vertical-align: middle;\n",
       "    }\n",
       "\n",
       "    .dataframe tbody tr th {\n",
       "        vertical-align: top;\n",
       "    }\n",
       "\n",
       "    .dataframe thead th {\n",
       "        text-align: right;\n",
       "    }\n",
       "</style>\n",
       "<table border=\"1\" class=\"dataframe\">\n",
       "  <thead>\n",
       "    <tr style=\"text-align: right;\">\n",
       "      <th></th>\n",
       "      <th>sex</th>\n",
       "      <th>true positive rate u</th>\n",
       "      <th>true positive rate</th>\n",
       "    </tr>\n",
       "  </thead>\n",
       "  <tbody>\n",
       "    <tr>\n",
       "      <th>0</th>\n",
       "      <td>Female</td>\n",
       "      <td>0.556119</td>\n",
       "      <td>0.130340</td>\n",
       "    </tr>\n",
       "    <tr>\n",
       "      <th>1</th>\n",
       "      <td>Male</td>\n",
       "      <td>0.648388</td>\n",
       "      <td>0.233404</td>\n",
       "    </tr>\n",
       "    <tr>\n",
       "      <th>2</th>\n",
       "      <td>Difference</td>\n",
       "      <td>0.092269</td>\n",
       "      <td>0.103064</td>\n",
       "    </tr>\n",
       "  </tbody>\n",
       "</table>\n",
       "</div>"
      ],
      "text/plain": [
       "          sex  true positive rate u  true positive rate\n",
       "0      Female              0.556119            0.130340\n",
       "1        Male              0.648388            0.233404\n",
       "2  Difference              0.092269            0.103064"
      ]
     },
     "execution_count": 875,
     "metadata": {},
     "output_type": "execute_result"
    }
   ],
   "source": [
    "df_groups"
   ]
  },
  {
   "cell_type": "code",
   "execution_count": 908,
   "metadata": {},
   "outputs": [
    {
     "data": {
      "text/html": [
       "<div>\n",
       "<style scoped>\n",
       "    .dataframe tbody tr th:only-of-type {\n",
       "        vertical-align: middle;\n",
       "    }\n",
       "\n",
       "    .dataframe tbody tr th {\n",
       "        vertical-align: top;\n",
       "    }\n",
       "\n",
       "    .dataframe thead th {\n",
       "        text-align: right;\n",
       "    }\n",
       "</style>\n",
       "<table border=\"1\" class=\"dataframe\">\n",
       "  <thead>\n",
       "    <tr style=\"text-align: right;\">\n",
       "      <th></th>\n",
       "      <th>Female</th>\n",
       "      <th>Male</th>\n",
       "      <th>Difference</th>\n",
       "    </tr>\n",
       "  </thead>\n",
       "  <tbody>\n",
       "    <tr>\n",
       "      <th>accuracy</th>\n",
       "      <td>0.935110</td>\n",
       "      <td>0.836350</td>\n",
       "      <td>0.098760</td>\n",
       "    </tr>\n",
       "    <tr>\n",
       "      <th>precision</th>\n",
       "      <td>0.771859</td>\n",
       "      <td>0.778045</td>\n",
       "      <td>0.006186</td>\n",
       "    </tr>\n",
       "    <tr>\n",
       "      <th>recall</th>\n",
       "      <td>0.556119</td>\n",
       "      <td>0.648388</td>\n",
       "      <td>0.092269</td>\n",
       "    </tr>\n",
       "    <tr>\n",
       "      <th>f1 score</th>\n",
       "      <td>0.646465</td>\n",
       "      <td>0.707324</td>\n",
       "      <td>0.060859</td>\n",
       "    </tr>\n",
       "    <tr>\n",
       "      <th>selection rate</th>\n",
       "      <td>0.076864</td>\n",
       "      <td>0.254162</td>\n",
       "      <td>0.177298</td>\n",
       "    </tr>\n",
       "    <tr>\n",
       "      <th>false positive rate</th>\n",
       "      <td>0.019630</td>\n",
       "      <td>0.081167</td>\n",
       "      <td>0.061538</td>\n",
       "    </tr>\n",
       "    <tr>\n",
       "      <th>true positive rate</th>\n",
       "      <td>0.556119</td>\n",
       "      <td>0.648388</td>\n",
       "      <td>0.092269</td>\n",
       "    </tr>\n",
       "    <tr>\n",
       "      <th>false negative rate</th>\n",
       "      <td>0.443881</td>\n",
       "      <td>0.351612</td>\n",
       "      <td>0.092269</td>\n",
       "    </tr>\n",
       "    <tr>\n",
       "      <th>true negative rate</th>\n",
       "      <td>0.980370</td>\n",
       "      <td>0.918833</td>\n",
       "      <td>0.061538</td>\n",
       "    </tr>\n",
       "    <tr>\n",
       "      <th>count</th>\n",
       "      <td>12945.000000</td>\n",
       "      <td>26129.000000</td>\n",
       "      <td>13184.000000</td>\n",
       "    </tr>\n",
       "  </tbody>\n",
       "</table>\n",
       "</div>"
      ],
      "text/plain": [
       "                           Female          Male    Difference\n",
       "accuracy                 0.935110      0.836350      0.098760\n",
       "precision                0.771859      0.778045      0.006186\n",
       "recall                   0.556119      0.648388      0.092269\n",
       "f1 score                 0.646465      0.707324      0.060859\n",
       "selection rate           0.076864      0.254162      0.177298\n",
       "false positive rate      0.019630      0.081167      0.061538\n",
       "true positive rate       0.556119      0.648388      0.092269\n",
       "false negative rate      0.443881      0.351612      0.092269\n",
       "true negative rate       0.980370      0.918833      0.061538\n",
       "count                12945.000000  26129.000000  13184.000000"
      ]
     },
     "execution_count": 908,
     "metadata": {},
     "output_type": "execute_result"
    }
   ],
   "source": []
  },
  {
   "cell_type": "code",
   "execution_count": 913,
   "metadata": {},
   "outputs": [
    {
     "data": {
      "text/html": [
       "<div>\n",
       "<style scoped>\n",
       "    .dataframe tbody tr th:only-of-type {\n",
       "        vertical-align: middle;\n",
       "    }\n",
       "\n",
       "    .dataframe tbody tr th {\n",
       "        vertical-align: top;\n",
       "    }\n",
       "\n",
       "    .dataframe thead th {\n",
       "        text-align: right;\n",
       "    }\n",
       "</style>\n",
       "<table border=\"1\" class=\"dataframe\">\n",
       "  <thead>\n",
       "    <tr style=\"text-align: right;\">\n",
       "      <th></th>\n",
       "      <th>accuracy</th>\n",
       "      <th>precision</th>\n",
       "      <th>recall</th>\n",
       "      <th>f1 score</th>\n",
       "      <th>selection rate</th>\n",
       "      <th>false positive rate</th>\n",
       "      <th>true positive rate</th>\n",
       "      <th>false negative rate</th>\n",
       "      <th>true negative rate</th>\n",
       "      <th>count</th>\n",
       "    </tr>\n",
       "    <tr>\n",
       "      <th>sex</th>\n",
       "      <th></th>\n",
       "      <th></th>\n",
       "      <th></th>\n",
       "      <th></th>\n",
       "      <th></th>\n",
       "      <th></th>\n",
       "      <th></th>\n",
       "      <th></th>\n",
       "      <th></th>\n",
       "      <th></th>\n",
       "    </tr>\n",
       "  </thead>\n",
       "  <tbody>\n",
       "    <tr>\n",
       "      <th>Female</th>\n",
       "      <td>0.893318</td>\n",
       "      <td>0.0</td>\n",
       "      <td>0.0</td>\n",
       "      <td>0.0</td>\n",
       "      <td>0.0</td>\n",
       "      <td>0.0</td>\n",
       "      <td>0.0</td>\n",
       "      <td>1.0</td>\n",
       "      <td>1.0</td>\n",
       "      <td>12945.0</td>\n",
       "    </tr>\n",
       "    <tr>\n",
       "      <th>Male</th>\n",
       "      <td>0.695013</td>\n",
       "      <td>0.0</td>\n",
       "      <td>0.0</td>\n",
       "      <td>0.0</td>\n",
       "      <td>0.0</td>\n",
       "      <td>0.0</td>\n",
       "      <td>0.0</td>\n",
       "      <td>1.0</td>\n",
       "      <td>1.0</td>\n",
       "      <td>26129.0</td>\n",
       "    </tr>\n",
       "  </tbody>\n",
       "</table>\n",
       "</div>"
      ],
      "text/plain": [
       "        accuracy  precision  recall  f1 score  selection rate   \n",
       "sex                                                             \n",
       "Female  0.893318        0.0     0.0       0.0             0.0  \\\n",
       "Male    0.695013        0.0     0.0       0.0             0.0   \n",
       "\n",
       "        false positive rate  true positive rate  false negative rate   \n",
       "sex                                                                    \n",
       "Female                  0.0                 0.0                  1.0  \\\n",
       "Male                    0.0                 0.0                  1.0   \n",
       "\n",
       "        true negative rate    count  \n",
       "sex                                  \n",
       "Female                 1.0  12945.0  \n",
       "Male                   1.0  26129.0  "
      ]
     },
     "execution_count": 913,
     "metadata": {},
     "output_type": "execute_result"
    }
   ],
   "source": [
    "results_dict['metrics_sim'][0][n_model].by_group"
   ]
  },
  {
   "cell_type": "code",
   "execution_count": 918,
   "metadata": {},
   "outputs": [
    {
     "data": {
      "text/html": [
       "<div>\n",
       "<style scoped>\n",
       "    .dataframe tbody tr th:only-of-type {\n",
       "        vertical-align: middle;\n",
       "    }\n",
       "\n",
       "    .dataframe tbody tr th {\n",
       "        vertical-align: top;\n",
       "    }\n",
       "\n",
       "    .dataframe thead th {\n",
       "        text-align: right;\n",
       "    }\n",
       "</style>\n",
       "<table border=\"1\" class=\"dataframe\">\n",
       "  <thead>\n",
       "    <tr style=\"text-align: right;\">\n",
       "      <th></th>\n",
       "      <th>accuracy u</th>\n",
       "      <th>precision u</th>\n",
       "      <th>recall u</th>\n",
       "      <th>f1 score u</th>\n",
       "      <th>selection rate u</th>\n",
       "      <th>false positive rate u</th>\n",
       "      <th>true positive rate u</th>\n",
       "      <th>false negative rate u</th>\n",
       "      <th>true negative rate u</th>\n",
       "      <th>count u</th>\n",
       "    </tr>\n",
       "  </thead>\n",
       "  <tbody>\n",
       "    <tr>\n",
       "      <th>Female</th>\n",
       "      <td>0.93511</td>\n",
       "      <td>0.771859</td>\n",
       "      <td>0.556119</td>\n",
       "      <td>0.646465</td>\n",
       "      <td>0.076864</td>\n",
       "      <td>0.019630</td>\n",
       "      <td>0.556119</td>\n",
       "      <td>0.443881</td>\n",
       "      <td>0.980370</td>\n",
       "      <td>12945.0</td>\n",
       "    </tr>\n",
       "    <tr>\n",
       "      <th>Male</th>\n",
       "      <td>0.83635</td>\n",
       "      <td>0.778045</td>\n",
       "      <td>0.648388</td>\n",
       "      <td>0.707324</td>\n",
       "      <td>0.254162</td>\n",
       "      <td>0.081167</td>\n",
       "      <td>0.648388</td>\n",
       "      <td>0.351612</td>\n",
       "      <td>0.918833</td>\n",
       "      <td>26129.0</td>\n",
       "    </tr>\n",
       "    <tr>\n",
       "      <th>Difference</th>\n",
       "      <td>0.09876</td>\n",
       "      <td>0.006186</td>\n",
       "      <td>0.092269</td>\n",
       "      <td>0.060859</td>\n",
       "      <td>0.177298</td>\n",
       "      <td>0.061538</td>\n",
       "      <td>0.092269</td>\n",
       "      <td>0.092269</td>\n",
       "      <td>0.061538</td>\n",
       "      <td>13184.0</td>\n",
       "    </tr>\n",
       "  </tbody>\n",
       "</table>\n",
       "</div>"
      ],
      "text/plain": [
       "            accuracy u  precision u  recall u  f1 score u  selection rate u   \n",
       "Female         0.93511     0.771859  0.556119    0.646465          0.076864  \\\n",
       "Male           0.83635     0.778045  0.648388    0.707324          0.254162   \n",
       "Difference     0.09876     0.006186  0.092269    0.060859          0.177298   \n",
       "\n",
       "            false positive rate u  true positive rate u   \n",
       "Female                   0.019630              0.556119  \\\n",
       "Male                     0.081167              0.648388   \n",
       "Difference               0.061538              0.092269   \n",
       "\n",
       "            false negative rate u  true negative rate u  count u  \n",
       "Female                   0.443881              0.980370  12945.0  \n",
       "Male                     0.351612              0.918833  26129.0  \n",
       "Difference               0.092269              0.061538  13184.0  "
      ]
     },
     "execution_count": 918,
     "metadata": {},
     "output_type": "execute_result"
    }
   ],
   "source": [
    "df_groups_u"
   ]
  },
  {
   "cell_type": "code",
   "execution_count": 1018,
   "metadata": {},
   "outputs": [
    {
     "data": {
      "text/plain": [
       "['accuracy',\n",
       " 'precision',\n",
       " 'recall',\n",
       " 'f1 score',\n",
       " 'selection rate',\n",
       " 'false positive rate',\n",
       " 'false negative rate',\n",
       " 'true negative rate',\n",
       " 'count']"
      ]
     },
     "execution_count": 1018,
     "metadata": {},
     "output_type": "execute_result"
    }
   ],
   "source": []
  },
  {
   "cell_type": "code",
   "execution_count": 1026,
   "metadata": {},
   "outputs": [
    {
     "data": {
      "text/plain": [
       "0"
      ]
     },
     "execution_count": 1026,
     "metadata": {},
     "output_type": "execute_result"
    }
   ],
   "source": [
    "df_metrics.index[0]"
   ]
  },
  {
   "cell_type": "code",
   "execution_count": 1016,
   "metadata": {},
   "outputs": [
    {
     "data": {
      "text/plain": [
       "[None,\n",
       " 'Precision (Predictive Parity)',\n",
       " 'Recall TPR (Equality of Opportunity)',\n",
       " None,\n",
       " 'Selection rate (Demographic Parity)',\n",
       " 'False positive rate (Predictive Equality)',\n",
       " None,\n",
       " None,\n",
       " None,\n",
       " None]"
      ]
     },
     "execution_count": 1016,
     "metadata": {},
     "output_type": "execute_result"
    }
   ],
   "source": [
    "\n",
    "metrics_bygroup = {\n",
    "    \"accuracy\" : \"Accuracy\",\n",
    "    \"false positive rate\": \"False positive rate (Predictive Equality)\",\n",
    "    \"false negative rate\" : \"False negative rate\",\n",
    "    \"f1 score\" : \"F1 score\",\n",
    "    \"precision\" : \"Precision (Predictive Parity)\",\n",
    "    \"recall\" : \"Recall TPR (Equality of Opportunity)\",\n",
    "    \"selection rate\": \"Selection rate (Demographic Parity)\",\n",
    "    \"true negative rate\" : \"True negative rate\"\n",
    "}\n"
   ]
  },
  {
   "cell_type": "code",
   "execution_count": 909,
   "metadata": {},
   "outputs": [],
   "source": [
    "    models = list(map(model_mapping.get,results_dict['models_sim_u'][0]))\n",
    "    n_model = models.index(results_dict['models_sim'][0][n])\n",
    "\n",
    "    df_groups_u = results_dict['metrics_sim_u'][0][n_model].by_group.T\n",
    "    d = results_dict['metrics_sim_u'][0][n_model].difference()\n",
    "    d.name = 'Difference'\n",
    "    df_groups_u = pd.concat([df_groups_u,d], axis = 1).T\n",
    "    df_groups_u.columns = df_groups_u.columns + ' u'\n",
    "\n",
    "    df_groups_m = results_dict['metrics_sim'][0][n_model].by_group.T\n",
    "    d = results_dict['metrics_sim'][0][n_model].difference()\n",
    "    d.name = 'Difference'\n",
    "    df_groups_m = pd.concat([df_groups_m,d], axis = 1).T\n",
    "    df_groups = pd.concat([df_groups_u,df_groups_m],axis = 1).reset_index()"
   ]
  },
  {
   "cell_type": "code",
   "execution_count": 998,
   "metadata": {},
   "outputs": [
    {
     "data": {
      "application/vnd.plotly.v1+json": {
       "config": {
        "plotlyServerURL": "https://plot.ly"
       },
       "data": [
        {
         "marker": {
          "color": "#d1d1e0"
         },
         "name": "demographic parity",
         "orientation": "h",
         "showlegend": false,
         "type": "bar",
         "width": 0.4,
         "x": [
          0.0768636539204326,
          0.2541620421753607,
          0.1772983882549281
         ],
         "xaxis": "x",
         "y": [
          "Female ",
          "Male ",
          "Difference "
         ],
         "yaxis": "y"
        },
        {
         "marker": {
          "color": "#ADD8E6"
         },
         "name": "demographic parity optimized",
         "orientation": "h",
         "showlegend": false,
         "type": "bar",
         "width": 0.4,
         "x": [
          0,
          0,
          0
         ],
         "xaxis": "x",
         "y": [
          "Female ",
          "Male ",
          "Difference "
         ],
         "yaxis": "y"
        },
        {
         "marker": {
          "color": "#d1d1e0"
         },
         "name": "predictive parity",
         "orientation": "h",
         "showlegend": false,
         "type": "bar",
         "width": 0.4,
         "x": [
          0.771859296482412,
          0.7780454750790543,
          0.006186178596642278
         ],
         "xaxis": "x2",
         "y": [
          "Female ",
          "Male ",
          "Difference "
         ],
         "yaxis": "y2"
        },
        {
         "marker": {
          "color": "#ADD8E6"
         },
         "name": "predictive parity optimized",
         "orientation": "h",
         "showlegend": false,
         "type": "bar",
         "width": 0.4,
         "x": [
          0,
          0,
          0
         ],
         "xaxis": "x2",
         "y": [
          "Female ",
          "Male ",
          "Difference "
         ],
         "yaxis": "y2"
        },
        {
         "marker": {
          "color": "#d1d1e0"
         },
         "name": "equality opportunity",
         "orientation": "h",
         "showlegend": false,
         "type": "bar",
         "width": 0.4,
         "x": [
          0.556118754525706,
          0.6483875015685783,
          0.09226874704287225
         ],
         "xaxis": "x3",
         "y": [
          "Female ",
          "Male ",
          "Difference "
         ],
         "yaxis": "y3"
        },
        {
         "marker": {
          "color": "#ADD8E6"
         },
         "name": "equality opportunity optimized",
         "orientation": "h",
         "showlegend": false,
         "type": "bar",
         "width": 0.4,
         "x": [
          0,
          0,
          0
         ],
         "xaxis": "x3",
         "y": [
          "Female ",
          "Male ",
          "Difference "
         ],
         "yaxis": "y3"
        },
        {
         "marker": {
          "color": "#d1d1e0"
         },
         "name": "predictive equality",
         "orientation": "h",
         "showlegend": false,
         "type": "bar",
         "width": 0.4,
         "x": [
          0.019629885852646144,
          0.08116740088105727,
          0.06153751502841112
         ],
         "xaxis": "x4",
         "y": [
          "Female ",
          "Male ",
          "Difference "
         ],
         "yaxis": "y4"
        },
        {
         "marker": {
          "color": "#ADD8E6"
         },
         "name": "predictive equality optimized",
         "orientation": "h",
         "showlegend": false,
         "type": "bar",
         "width": 0.4,
         "x": [
          0,
          0,
          0
         ],
         "xaxis": "x4",
         "y": [
          "Female ",
          "Male ",
          "Difference "
         ],
         "yaxis": "y4"
        }
       ],
       "layout": {
        "barmode": "group",
        "font": {
         "size": 12
        },
        "legend": {
         "orientation": "h",
         "x": 1,
         "xanchor": "right",
         "y": 1.02,
         "yanchor": "bottom"
        },
        "template": {
         "data": {
          "bar": [
           {
            "error_x": {
             "color": "#2a3f5f"
            },
            "error_y": {
             "color": "#2a3f5f"
            },
            "marker": {
             "line": {
              "color": "#E5ECF6",
              "width": 0.5
             },
             "pattern": {
              "fillmode": "overlay",
              "size": 10,
              "solidity": 0.2
             }
            },
            "type": "bar"
           }
          ],
          "barpolar": [
           {
            "marker": {
             "line": {
              "color": "#E5ECF6",
              "width": 0.5
             },
             "pattern": {
              "fillmode": "overlay",
              "size": 10,
              "solidity": 0.2
             }
            },
            "type": "barpolar"
           }
          ],
          "carpet": [
           {
            "aaxis": {
             "endlinecolor": "#2a3f5f",
             "gridcolor": "white",
             "linecolor": "white",
             "minorgridcolor": "white",
             "startlinecolor": "#2a3f5f"
            },
            "baxis": {
             "endlinecolor": "#2a3f5f",
             "gridcolor": "white",
             "linecolor": "white",
             "minorgridcolor": "white",
             "startlinecolor": "#2a3f5f"
            },
            "type": "carpet"
           }
          ],
          "choropleth": [
           {
            "colorbar": {
             "outlinewidth": 0,
             "ticks": ""
            },
            "type": "choropleth"
           }
          ],
          "contour": [
           {
            "colorbar": {
             "outlinewidth": 0,
             "ticks": ""
            },
            "colorscale": [
             [
              0,
              "#0d0887"
             ],
             [
              0.1111111111111111,
              "#46039f"
             ],
             [
              0.2222222222222222,
              "#7201a8"
             ],
             [
              0.3333333333333333,
              "#9c179e"
             ],
             [
              0.4444444444444444,
              "#bd3786"
             ],
             [
              0.5555555555555556,
              "#d8576b"
             ],
             [
              0.6666666666666666,
              "#ed7953"
             ],
             [
              0.7777777777777778,
              "#fb9f3a"
             ],
             [
              0.8888888888888888,
              "#fdca26"
             ],
             [
              1,
              "#f0f921"
             ]
            ],
            "type": "contour"
           }
          ],
          "contourcarpet": [
           {
            "colorbar": {
             "outlinewidth": 0,
             "ticks": ""
            },
            "type": "contourcarpet"
           }
          ],
          "heatmap": [
           {
            "colorbar": {
             "outlinewidth": 0,
             "ticks": ""
            },
            "colorscale": [
             [
              0,
              "#0d0887"
             ],
             [
              0.1111111111111111,
              "#46039f"
             ],
             [
              0.2222222222222222,
              "#7201a8"
             ],
             [
              0.3333333333333333,
              "#9c179e"
             ],
             [
              0.4444444444444444,
              "#bd3786"
             ],
             [
              0.5555555555555556,
              "#d8576b"
             ],
             [
              0.6666666666666666,
              "#ed7953"
             ],
             [
              0.7777777777777778,
              "#fb9f3a"
             ],
             [
              0.8888888888888888,
              "#fdca26"
             ],
             [
              1,
              "#f0f921"
             ]
            ],
            "type": "heatmap"
           }
          ],
          "heatmapgl": [
           {
            "colorbar": {
             "outlinewidth": 0,
             "ticks": ""
            },
            "colorscale": [
             [
              0,
              "#0d0887"
             ],
             [
              0.1111111111111111,
              "#46039f"
             ],
             [
              0.2222222222222222,
              "#7201a8"
             ],
             [
              0.3333333333333333,
              "#9c179e"
             ],
             [
              0.4444444444444444,
              "#bd3786"
             ],
             [
              0.5555555555555556,
              "#d8576b"
             ],
             [
              0.6666666666666666,
              "#ed7953"
             ],
             [
              0.7777777777777778,
              "#fb9f3a"
             ],
             [
              0.8888888888888888,
              "#fdca26"
             ],
             [
              1,
              "#f0f921"
             ]
            ],
            "type": "heatmapgl"
           }
          ],
          "histogram": [
           {
            "marker": {
             "pattern": {
              "fillmode": "overlay",
              "size": 10,
              "solidity": 0.2
             }
            },
            "type": "histogram"
           }
          ],
          "histogram2d": [
           {
            "colorbar": {
             "outlinewidth": 0,
             "ticks": ""
            },
            "colorscale": [
             [
              0,
              "#0d0887"
             ],
             [
              0.1111111111111111,
              "#46039f"
             ],
             [
              0.2222222222222222,
              "#7201a8"
             ],
             [
              0.3333333333333333,
              "#9c179e"
             ],
             [
              0.4444444444444444,
              "#bd3786"
             ],
             [
              0.5555555555555556,
              "#d8576b"
             ],
             [
              0.6666666666666666,
              "#ed7953"
             ],
             [
              0.7777777777777778,
              "#fb9f3a"
             ],
             [
              0.8888888888888888,
              "#fdca26"
             ],
             [
              1,
              "#f0f921"
             ]
            ],
            "type": "histogram2d"
           }
          ],
          "histogram2dcontour": [
           {
            "colorbar": {
             "outlinewidth": 0,
             "ticks": ""
            },
            "colorscale": [
             [
              0,
              "#0d0887"
             ],
             [
              0.1111111111111111,
              "#46039f"
             ],
             [
              0.2222222222222222,
              "#7201a8"
             ],
             [
              0.3333333333333333,
              "#9c179e"
             ],
             [
              0.4444444444444444,
              "#bd3786"
             ],
             [
              0.5555555555555556,
              "#d8576b"
             ],
             [
              0.6666666666666666,
              "#ed7953"
             ],
             [
              0.7777777777777778,
              "#fb9f3a"
             ],
             [
              0.8888888888888888,
              "#fdca26"
             ],
             [
              1,
              "#f0f921"
             ]
            ],
            "type": "histogram2dcontour"
           }
          ],
          "mesh3d": [
           {
            "colorbar": {
             "outlinewidth": 0,
             "ticks": ""
            },
            "type": "mesh3d"
           }
          ],
          "parcoords": [
           {
            "line": {
             "colorbar": {
              "outlinewidth": 0,
              "ticks": ""
             }
            },
            "type": "parcoords"
           }
          ],
          "pie": [
           {
            "automargin": true,
            "type": "pie"
           }
          ],
          "scatter": [
           {
            "fillpattern": {
             "fillmode": "overlay",
             "size": 10,
             "solidity": 0.2
            },
            "type": "scatter"
           }
          ],
          "scatter3d": [
           {
            "line": {
             "colorbar": {
              "outlinewidth": 0,
              "ticks": ""
             }
            },
            "marker": {
             "colorbar": {
              "outlinewidth": 0,
              "ticks": ""
             }
            },
            "type": "scatter3d"
           }
          ],
          "scattercarpet": [
           {
            "marker": {
             "colorbar": {
              "outlinewidth": 0,
              "ticks": ""
             }
            },
            "type": "scattercarpet"
           }
          ],
          "scattergeo": [
           {
            "marker": {
             "colorbar": {
              "outlinewidth": 0,
              "ticks": ""
             }
            },
            "type": "scattergeo"
           }
          ],
          "scattergl": [
           {
            "marker": {
             "colorbar": {
              "outlinewidth": 0,
              "ticks": ""
             }
            },
            "type": "scattergl"
           }
          ],
          "scattermapbox": [
           {
            "marker": {
             "colorbar": {
              "outlinewidth": 0,
              "ticks": ""
             }
            },
            "type": "scattermapbox"
           }
          ],
          "scatterpolar": [
           {
            "marker": {
             "colorbar": {
              "outlinewidth": 0,
              "ticks": ""
             }
            },
            "type": "scatterpolar"
           }
          ],
          "scatterpolargl": [
           {
            "marker": {
             "colorbar": {
              "outlinewidth": 0,
              "ticks": ""
             }
            },
            "type": "scatterpolargl"
           }
          ],
          "scatterternary": [
           {
            "marker": {
             "colorbar": {
              "outlinewidth": 0,
              "ticks": ""
             }
            },
            "type": "scatterternary"
           }
          ],
          "surface": [
           {
            "colorbar": {
             "outlinewidth": 0,
             "ticks": ""
            },
            "colorscale": [
             [
              0,
              "#0d0887"
             ],
             [
              0.1111111111111111,
              "#46039f"
             ],
             [
              0.2222222222222222,
              "#7201a8"
             ],
             [
              0.3333333333333333,
              "#9c179e"
             ],
             [
              0.4444444444444444,
              "#bd3786"
             ],
             [
              0.5555555555555556,
              "#d8576b"
             ],
             [
              0.6666666666666666,
              "#ed7953"
             ],
             [
              0.7777777777777778,
              "#fb9f3a"
             ],
             [
              0.8888888888888888,
              "#fdca26"
             ],
             [
              1,
              "#f0f921"
             ]
            ],
            "type": "surface"
           }
          ],
          "table": [
           {
            "cells": {
             "fill": {
              "color": "#EBF0F8"
             },
             "line": {
              "color": "white"
             }
            },
            "header": {
             "fill": {
              "color": "#C8D4E3"
             },
             "line": {
              "color": "white"
             }
            },
            "type": "table"
           }
          ]
         },
         "layout": {
          "annotationdefaults": {
           "arrowcolor": "#2a3f5f",
           "arrowhead": 0,
           "arrowwidth": 1
          },
          "autotypenumbers": "strict",
          "coloraxis": {
           "colorbar": {
            "outlinewidth": 0,
            "ticks": ""
           }
          },
          "colorscale": {
           "diverging": [
            [
             0,
             "#8e0152"
            ],
            [
             0.1,
             "#c51b7d"
            ],
            [
             0.2,
             "#de77ae"
            ],
            [
             0.3,
             "#f1b6da"
            ],
            [
             0.4,
             "#fde0ef"
            ],
            [
             0.5,
             "#f7f7f7"
            ],
            [
             0.6,
             "#e6f5d0"
            ],
            [
             0.7,
             "#b8e186"
            ],
            [
             0.8,
             "#7fbc41"
            ],
            [
             0.9,
             "#4d9221"
            ],
            [
             1,
             "#276419"
            ]
           ],
           "sequential": [
            [
             0,
             "#0d0887"
            ],
            [
             0.1111111111111111,
             "#46039f"
            ],
            [
             0.2222222222222222,
             "#7201a8"
            ],
            [
             0.3333333333333333,
             "#9c179e"
            ],
            [
             0.4444444444444444,
             "#bd3786"
            ],
            [
             0.5555555555555556,
             "#d8576b"
            ],
            [
             0.6666666666666666,
             "#ed7953"
            ],
            [
             0.7777777777777778,
             "#fb9f3a"
            ],
            [
             0.8888888888888888,
             "#fdca26"
            ],
            [
             1,
             "#f0f921"
            ]
           ],
           "sequentialminus": [
            [
             0,
             "#0d0887"
            ],
            [
             0.1111111111111111,
             "#46039f"
            ],
            [
             0.2222222222222222,
             "#7201a8"
            ],
            [
             0.3333333333333333,
             "#9c179e"
            ],
            [
             0.4444444444444444,
             "#bd3786"
            ],
            [
             0.5555555555555556,
             "#d8576b"
            ],
            [
             0.6666666666666666,
             "#ed7953"
            ],
            [
             0.7777777777777778,
             "#fb9f3a"
            ],
            [
             0.8888888888888888,
             "#fdca26"
            ],
            [
             1,
             "#f0f921"
            ]
           ]
          },
          "colorway": [
           "#636efa",
           "#EF553B",
           "#00cc96",
           "#ab63fa",
           "#FFA15A",
           "#19d3f3",
           "#FF6692",
           "#B6E880",
           "#FF97FF",
           "#FECB52"
          ],
          "font": {
           "color": "#2a3f5f"
          },
          "geo": {
           "bgcolor": "white",
           "lakecolor": "white",
           "landcolor": "#E5ECF6",
           "showlakes": true,
           "showland": true,
           "subunitcolor": "white"
          },
          "hoverlabel": {
           "align": "left"
          },
          "hovermode": "closest",
          "mapbox": {
           "style": "light"
          },
          "paper_bgcolor": "white",
          "plot_bgcolor": "#E5ECF6",
          "polar": {
           "angularaxis": {
            "gridcolor": "white",
            "linecolor": "white",
            "ticks": ""
           },
           "bgcolor": "#E5ECF6",
           "radialaxis": {
            "gridcolor": "white",
            "linecolor": "white",
            "ticks": ""
           }
          },
          "scene": {
           "xaxis": {
            "backgroundcolor": "#E5ECF6",
            "gridcolor": "white",
            "gridwidth": 2,
            "linecolor": "white",
            "showbackground": true,
            "ticks": "",
            "zerolinecolor": "white"
           },
           "yaxis": {
            "backgroundcolor": "#E5ECF6",
            "gridcolor": "white",
            "gridwidth": 2,
            "linecolor": "white",
            "showbackground": true,
            "ticks": "",
            "zerolinecolor": "white"
           },
           "zaxis": {
            "backgroundcolor": "#E5ECF6",
            "gridcolor": "white",
            "gridwidth": 2,
            "linecolor": "white",
            "showbackground": true,
            "ticks": "",
            "zerolinecolor": "white"
           }
          },
          "shapedefaults": {
           "line": {
            "color": "#2a3f5f"
           }
          },
          "ternary": {
           "aaxis": {
            "gridcolor": "white",
            "linecolor": "white",
            "ticks": ""
           },
           "baxis": {
            "gridcolor": "white",
            "linecolor": "white",
            "ticks": ""
           },
           "bgcolor": "#E5ECF6",
           "caxis": {
            "gridcolor": "white",
            "linecolor": "white",
            "ticks": ""
           }
          },
          "title": {
           "x": 0.05
          },
          "xaxis": {
           "automargin": true,
           "gridcolor": "white",
           "linecolor": "white",
           "ticks": "",
           "title": {
            "standoff": 15
           },
           "zerolinecolor": "white",
           "zerolinewidth": 2
          },
          "yaxis": {
           "automargin": true,
           "gridcolor": "white",
           "linecolor": "white",
           "ticks": "",
           "title": {
            "standoff": 15
           },
           "zerolinecolor": "white",
           "zerolinewidth": 2
          }
         }
        },
        "title": {
         "text": "<span style='font-size:.9em;color:#455A64'>Fairness Metrics</span>"
        },
        "xaxis": {
         "anchor": "y",
         "domain": [
          0,
          0.2425
         ],
         "range": [
          0,
          1
         ],
         "title": {
          "text": "Demographic parity"
         }
        },
        "xaxis2": {
         "anchor": "y2",
         "domain": [
          0.2525,
          0.495
         ],
         "range": [
          0,
          1
         ],
         "title": {
          "text": "Predictive parity"
         }
        },
        "xaxis3": {
         "anchor": "y3",
         "domain": [
          0.505,
          0.7475
         ],
         "range": [
          0,
          1
         ],
         "title": {
          "text": "Equality opportunity"
         }
        },
        "xaxis4": {
         "anchor": "y4",
         "domain": [
          0.7575000000000001,
          1
         ],
         "range": [
          0,
          1
         ],
         "title": {
          "text": "Predictive equality"
         }
        },
        "yaxis": {
         "anchor": "x",
         "categoryarray": [
          "Female",
          "Male",
          "Difference"
         ],
         "categoryorder": "array",
         "domain": [
          0,
          1
         ],
         "type": "category"
        },
        "yaxis2": {
         "anchor": "x2",
         "categoryarray": [
          "Female",
          "Male",
          "Difference"
         ],
         "categoryorder": "array",
         "domain": [
          0,
          1
         ],
         "showticklabels": false
        },
        "yaxis3": {
         "anchor": "x3",
         "categoryarray": [
          "Female",
          "Male",
          "Difference"
         ],
         "categoryorder": "array",
         "domain": [
          0,
          1
         ],
         "showticklabels": false
        },
        "yaxis4": {
         "anchor": "x4",
         "categoryarray": [
          "Female",
          "Male",
          "Difference"
         ],
         "categoryorder": "array",
         "domain": [
          0,
          1
         ],
         "showticklabels": false
        }
       }
      },
      "text/html": [
       "<div>                            <div id=\"0f320d75-d913-4890-a940-45fceb3b14bf\" class=\"plotly-graph-div\" style=\"height:525px; width:100%;\"></div>            <script type=\"text/javascript\">                require([\"plotly\"], function(Plotly) {                    window.PLOTLYENV=window.PLOTLYENV || {};                                    if (document.getElementById(\"0f320d75-d913-4890-a940-45fceb3b14bf\")) {                    Plotly.newPlot(                        \"0f320d75-d913-4890-a940-45fceb3b14bf\",                        [{\"marker\":{\"color\":\"#d1d1e0\"},\"name\":\"demographic parity\",\"orientation\":\"h\",\"showlegend\":false,\"width\":0.4,\"x\":[0.0768636539204326,0.2541620421753607,0.1772983882549281],\"y\":[\"Female \",\"Male \",\"Difference \"],\"type\":\"bar\",\"xaxis\":\"x\",\"yaxis\":\"y\"},{\"marker\":{\"color\":\"#ADD8E6\"},\"name\":\"demographic parity optimized\",\"orientation\":\"h\",\"showlegend\":false,\"width\":0.4,\"x\":[0.0,0.0,0.0],\"y\":[\"Female \",\"Male \",\"Difference \"],\"type\":\"bar\",\"xaxis\":\"x\",\"yaxis\":\"y\"},{\"marker\":{\"color\":\"#d1d1e0\"},\"name\":\"predictive parity\",\"orientation\":\"h\",\"showlegend\":false,\"width\":0.4,\"x\":[0.771859296482412,0.7780454750790543,0.006186178596642278],\"y\":[\"Female \",\"Male \",\"Difference \"],\"type\":\"bar\",\"xaxis\":\"x2\",\"yaxis\":\"y2\"},{\"marker\":{\"color\":\"#ADD8E6\"},\"name\":\"predictive parity optimized\",\"orientation\":\"h\",\"showlegend\":false,\"width\":0.4,\"x\":[0.0,0.0,0.0],\"y\":[\"Female \",\"Male \",\"Difference \"],\"type\":\"bar\",\"xaxis\":\"x2\",\"yaxis\":\"y2\"},{\"marker\":{\"color\":\"#d1d1e0\"},\"name\":\"equality opportunity\",\"orientation\":\"h\",\"showlegend\":false,\"width\":0.4,\"x\":[0.556118754525706,0.6483875015685783,0.09226874704287225],\"y\":[\"Female \",\"Male \",\"Difference \"],\"type\":\"bar\",\"xaxis\":\"x3\",\"yaxis\":\"y3\"},{\"marker\":{\"color\":\"#ADD8E6\"},\"name\":\"equality opportunity optimized\",\"orientation\":\"h\",\"showlegend\":false,\"width\":0.4,\"x\":[0.0,0.0,0.0],\"y\":[\"Female \",\"Male \",\"Difference \"],\"type\":\"bar\",\"xaxis\":\"x3\",\"yaxis\":\"y3\"},{\"marker\":{\"color\":\"#d1d1e0\"},\"name\":\"predictive equality\",\"orientation\":\"h\",\"showlegend\":false,\"width\":0.4,\"x\":[0.019629885852646144,0.08116740088105727,0.06153751502841112],\"y\":[\"Female \",\"Male \",\"Difference \"],\"type\":\"bar\",\"xaxis\":\"x4\",\"yaxis\":\"y4\"},{\"marker\":{\"color\":\"#ADD8E6\"},\"name\":\"predictive equality optimized\",\"orientation\":\"h\",\"showlegend\":false,\"width\":0.4,\"x\":[0.0,0.0,0.0],\"y\":[\"Female \",\"Male \",\"Difference \"],\"type\":\"bar\",\"xaxis\":\"x4\",\"yaxis\":\"y4\"}],                        {\"template\":{\"data\":{\"histogram2dcontour\":[{\"type\":\"histogram2dcontour\",\"colorbar\":{\"outlinewidth\":0,\"ticks\":\"\"},\"colorscale\":[[0.0,\"#0d0887\"],[0.1111111111111111,\"#46039f\"],[0.2222222222222222,\"#7201a8\"],[0.3333333333333333,\"#9c179e\"],[0.4444444444444444,\"#bd3786\"],[0.5555555555555556,\"#d8576b\"],[0.6666666666666666,\"#ed7953\"],[0.7777777777777778,\"#fb9f3a\"],[0.8888888888888888,\"#fdca26\"],[1.0,\"#f0f921\"]]}],\"choropleth\":[{\"type\":\"choropleth\",\"colorbar\":{\"outlinewidth\":0,\"ticks\":\"\"}}],\"histogram2d\":[{\"type\":\"histogram2d\",\"colorbar\":{\"outlinewidth\":0,\"ticks\":\"\"},\"colorscale\":[[0.0,\"#0d0887\"],[0.1111111111111111,\"#46039f\"],[0.2222222222222222,\"#7201a8\"],[0.3333333333333333,\"#9c179e\"],[0.4444444444444444,\"#bd3786\"],[0.5555555555555556,\"#d8576b\"],[0.6666666666666666,\"#ed7953\"],[0.7777777777777778,\"#fb9f3a\"],[0.8888888888888888,\"#fdca26\"],[1.0,\"#f0f921\"]]}],\"heatmap\":[{\"type\":\"heatmap\",\"colorbar\":{\"outlinewidth\":0,\"ticks\":\"\"},\"colorscale\":[[0.0,\"#0d0887\"],[0.1111111111111111,\"#46039f\"],[0.2222222222222222,\"#7201a8\"],[0.3333333333333333,\"#9c179e\"],[0.4444444444444444,\"#bd3786\"],[0.5555555555555556,\"#d8576b\"],[0.6666666666666666,\"#ed7953\"],[0.7777777777777778,\"#fb9f3a\"],[0.8888888888888888,\"#fdca26\"],[1.0,\"#f0f921\"]]}],\"heatmapgl\":[{\"type\":\"heatmapgl\",\"colorbar\":{\"outlinewidth\":0,\"ticks\":\"\"},\"colorscale\":[[0.0,\"#0d0887\"],[0.1111111111111111,\"#46039f\"],[0.2222222222222222,\"#7201a8\"],[0.3333333333333333,\"#9c179e\"],[0.4444444444444444,\"#bd3786\"],[0.5555555555555556,\"#d8576b\"],[0.6666666666666666,\"#ed7953\"],[0.7777777777777778,\"#fb9f3a\"],[0.8888888888888888,\"#fdca26\"],[1.0,\"#f0f921\"]]}],\"contourcarpet\":[{\"type\":\"contourcarpet\",\"colorbar\":{\"outlinewidth\":0,\"ticks\":\"\"}}],\"contour\":[{\"type\":\"contour\",\"colorbar\":{\"outlinewidth\":0,\"ticks\":\"\"},\"colorscale\":[[0.0,\"#0d0887\"],[0.1111111111111111,\"#46039f\"],[0.2222222222222222,\"#7201a8\"],[0.3333333333333333,\"#9c179e\"],[0.4444444444444444,\"#bd3786\"],[0.5555555555555556,\"#d8576b\"],[0.6666666666666666,\"#ed7953\"],[0.7777777777777778,\"#fb9f3a\"],[0.8888888888888888,\"#fdca26\"],[1.0,\"#f0f921\"]]}],\"surface\":[{\"type\":\"surface\",\"colorbar\":{\"outlinewidth\":0,\"ticks\":\"\"},\"colorscale\":[[0.0,\"#0d0887\"],[0.1111111111111111,\"#46039f\"],[0.2222222222222222,\"#7201a8\"],[0.3333333333333333,\"#9c179e\"],[0.4444444444444444,\"#bd3786\"],[0.5555555555555556,\"#d8576b\"],[0.6666666666666666,\"#ed7953\"],[0.7777777777777778,\"#fb9f3a\"],[0.8888888888888888,\"#fdca26\"],[1.0,\"#f0f921\"]]}],\"mesh3d\":[{\"type\":\"mesh3d\",\"colorbar\":{\"outlinewidth\":0,\"ticks\":\"\"}}],\"scatter\":[{\"fillpattern\":{\"fillmode\":\"overlay\",\"size\":10,\"solidity\":0.2},\"type\":\"scatter\"}],\"parcoords\":[{\"type\":\"parcoords\",\"line\":{\"colorbar\":{\"outlinewidth\":0,\"ticks\":\"\"}}}],\"scatterpolargl\":[{\"type\":\"scatterpolargl\",\"marker\":{\"colorbar\":{\"outlinewidth\":0,\"ticks\":\"\"}}}],\"bar\":[{\"error_x\":{\"color\":\"#2a3f5f\"},\"error_y\":{\"color\":\"#2a3f5f\"},\"marker\":{\"line\":{\"color\":\"#E5ECF6\",\"width\":0.5},\"pattern\":{\"fillmode\":\"overlay\",\"size\":10,\"solidity\":0.2}},\"type\":\"bar\"}],\"scattergeo\":[{\"type\":\"scattergeo\",\"marker\":{\"colorbar\":{\"outlinewidth\":0,\"ticks\":\"\"}}}],\"scatterpolar\":[{\"type\":\"scatterpolar\",\"marker\":{\"colorbar\":{\"outlinewidth\":0,\"ticks\":\"\"}}}],\"histogram\":[{\"marker\":{\"pattern\":{\"fillmode\":\"overlay\",\"size\":10,\"solidity\":0.2}},\"type\":\"histogram\"}],\"scattergl\":[{\"type\":\"scattergl\",\"marker\":{\"colorbar\":{\"outlinewidth\":0,\"ticks\":\"\"}}}],\"scatter3d\":[{\"type\":\"scatter3d\",\"line\":{\"colorbar\":{\"outlinewidth\":0,\"ticks\":\"\"}},\"marker\":{\"colorbar\":{\"outlinewidth\":0,\"ticks\":\"\"}}}],\"scattermapbox\":[{\"type\":\"scattermapbox\",\"marker\":{\"colorbar\":{\"outlinewidth\":0,\"ticks\":\"\"}}}],\"scatterternary\":[{\"type\":\"scatterternary\",\"marker\":{\"colorbar\":{\"outlinewidth\":0,\"ticks\":\"\"}}}],\"scattercarpet\":[{\"type\":\"scattercarpet\",\"marker\":{\"colorbar\":{\"outlinewidth\":0,\"ticks\":\"\"}}}],\"carpet\":[{\"aaxis\":{\"endlinecolor\":\"#2a3f5f\",\"gridcolor\":\"white\",\"linecolor\":\"white\",\"minorgridcolor\":\"white\",\"startlinecolor\":\"#2a3f5f\"},\"baxis\":{\"endlinecolor\":\"#2a3f5f\",\"gridcolor\":\"white\",\"linecolor\":\"white\",\"minorgridcolor\":\"white\",\"startlinecolor\":\"#2a3f5f\"},\"type\":\"carpet\"}],\"table\":[{\"cells\":{\"fill\":{\"color\":\"#EBF0F8\"},\"line\":{\"color\":\"white\"}},\"header\":{\"fill\":{\"color\":\"#C8D4E3\"},\"line\":{\"color\":\"white\"}},\"type\":\"table\"}],\"barpolar\":[{\"marker\":{\"line\":{\"color\":\"#E5ECF6\",\"width\":0.5},\"pattern\":{\"fillmode\":\"overlay\",\"size\":10,\"solidity\":0.2}},\"type\":\"barpolar\"}],\"pie\":[{\"automargin\":true,\"type\":\"pie\"}]},\"layout\":{\"autotypenumbers\":\"strict\",\"colorway\":[\"#636efa\",\"#EF553B\",\"#00cc96\",\"#ab63fa\",\"#FFA15A\",\"#19d3f3\",\"#FF6692\",\"#B6E880\",\"#FF97FF\",\"#FECB52\"],\"font\":{\"color\":\"#2a3f5f\"},\"hovermode\":\"closest\",\"hoverlabel\":{\"align\":\"left\"},\"paper_bgcolor\":\"white\",\"plot_bgcolor\":\"#E5ECF6\",\"polar\":{\"bgcolor\":\"#E5ECF6\",\"angularaxis\":{\"gridcolor\":\"white\",\"linecolor\":\"white\",\"ticks\":\"\"},\"radialaxis\":{\"gridcolor\":\"white\",\"linecolor\":\"white\",\"ticks\":\"\"}},\"ternary\":{\"bgcolor\":\"#E5ECF6\",\"aaxis\":{\"gridcolor\":\"white\",\"linecolor\":\"white\",\"ticks\":\"\"},\"baxis\":{\"gridcolor\":\"white\",\"linecolor\":\"white\",\"ticks\":\"\"},\"caxis\":{\"gridcolor\":\"white\",\"linecolor\":\"white\",\"ticks\":\"\"}},\"coloraxis\":{\"colorbar\":{\"outlinewidth\":0,\"ticks\":\"\"}},\"colorscale\":{\"sequential\":[[0.0,\"#0d0887\"],[0.1111111111111111,\"#46039f\"],[0.2222222222222222,\"#7201a8\"],[0.3333333333333333,\"#9c179e\"],[0.4444444444444444,\"#bd3786\"],[0.5555555555555556,\"#d8576b\"],[0.6666666666666666,\"#ed7953\"],[0.7777777777777778,\"#fb9f3a\"],[0.8888888888888888,\"#fdca26\"],[1.0,\"#f0f921\"]],\"sequentialminus\":[[0.0,\"#0d0887\"],[0.1111111111111111,\"#46039f\"],[0.2222222222222222,\"#7201a8\"],[0.3333333333333333,\"#9c179e\"],[0.4444444444444444,\"#bd3786\"],[0.5555555555555556,\"#d8576b\"],[0.6666666666666666,\"#ed7953\"],[0.7777777777777778,\"#fb9f3a\"],[0.8888888888888888,\"#fdca26\"],[1.0,\"#f0f921\"]],\"diverging\":[[0,\"#8e0152\"],[0.1,\"#c51b7d\"],[0.2,\"#de77ae\"],[0.3,\"#f1b6da\"],[0.4,\"#fde0ef\"],[0.5,\"#f7f7f7\"],[0.6,\"#e6f5d0\"],[0.7,\"#b8e186\"],[0.8,\"#7fbc41\"],[0.9,\"#4d9221\"],[1,\"#276419\"]]},\"xaxis\":{\"gridcolor\":\"white\",\"linecolor\":\"white\",\"ticks\":\"\",\"title\":{\"standoff\":15},\"zerolinecolor\":\"white\",\"automargin\":true,\"zerolinewidth\":2},\"yaxis\":{\"gridcolor\":\"white\",\"linecolor\":\"white\",\"ticks\":\"\",\"title\":{\"standoff\":15},\"zerolinecolor\":\"white\",\"automargin\":true,\"zerolinewidth\":2},\"scene\":{\"xaxis\":{\"backgroundcolor\":\"#E5ECF6\",\"gridcolor\":\"white\",\"linecolor\":\"white\",\"showbackground\":true,\"ticks\":\"\",\"zerolinecolor\":\"white\",\"gridwidth\":2},\"yaxis\":{\"backgroundcolor\":\"#E5ECF6\",\"gridcolor\":\"white\",\"linecolor\":\"white\",\"showbackground\":true,\"ticks\":\"\",\"zerolinecolor\":\"white\",\"gridwidth\":2},\"zaxis\":{\"backgroundcolor\":\"#E5ECF6\",\"gridcolor\":\"white\",\"linecolor\":\"white\",\"showbackground\":true,\"ticks\":\"\",\"zerolinecolor\":\"white\",\"gridwidth\":2}},\"shapedefaults\":{\"line\":{\"color\":\"#2a3f5f\"}},\"annotationdefaults\":{\"arrowcolor\":\"#2a3f5f\",\"arrowhead\":0,\"arrowwidth\":1},\"geo\":{\"bgcolor\":\"white\",\"landcolor\":\"#E5ECF6\",\"subunitcolor\":\"white\",\"showland\":true,\"showlakes\":true,\"lakecolor\":\"white\"},\"title\":{\"x\":0.05},\"mapbox\":{\"style\":\"light\"}}},\"xaxis\":{\"anchor\":\"y\",\"domain\":[0.0,0.2425],\"title\":{\"text\":\"Demographic parity\"},\"range\":[0,1]},\"yaxis\":{\"anchor\":\"x\",\"domain\":[0.0,1.0],\"type\":\"category\",\"categoryorder\":\"array\",\"categoryarray\":[\"Female\",\"Male\",\"Difference\"]},\"xaxis2\":{\"anchor\":\"y2\",\"domain\":[0.2525,0.495],\"title\":{\"text\":\"Predictive parity\"},\"range\":[0,1]},\"yaxis2\":{\"anchor\":\"x2\",\"domain\":[0.0,1.0],\"showticklabels\":false,\"categoryorder\":\"array\",\"categoryarray\":[\"Female\",\"Male\",\"Difference\"]},\"xaxis3\":{\"anchor\":\"y3\",\"domain\":[0.505,0.7475],\"title\":{\"text\":\"Equality opportunity\"},\"range\":[0,1]},\"yaxis3\":{\"anchor\":\"x3\",\"domain\":[0.0,1.0],\"showticklabels\":false,\"categoryorder\":\"array\",\"categoryarray\":[\"Female\",\"Male\",\"Difference\"]},\"xaxis4\":{\"anchor\":\"y4\",\"domain\":[0.7575000000000001,1.0],\"title\":{\"text\":\"Predictive equality\"},\"range\":[0,1]},\"yaxis4\":{\"anchor\":\"x4\",\"domain\":[0.0,1.0],\"showticklabels\":false,\"categoryorder\":\"array\",\"categoryarray\":[\"Female\",\"Male\",\"Difference\"]},\"font\":{\"size\":12},\"legend\":{\"orientation\":\"h\",\"yanchor\":\"bottom\",\"y\":1.02,\"xanchor\":\"right\",\"x\":1},\"barmode\":\"group\",\"title\":{\"text\":\"<span style='font-size:.9em;color:#455A64'>Fairness Metrics</span>\"}},                        {\"responsive\": true}                    ).then(function(){\n",
       "                            \n",
       "var gd = document.getElementById('0f320d75-d913-4890-a940-45fceb3b14bf');\n",
       "var x = new MutationObserver(function (mutations, observer) {{\n",
       "        var display = window.getComputedStyle(gd).display;\n",
       "        if (!display || display === 'none') {{\n",
       "            console.log([gd, 'removed!']);\n",
       "            Plotly.purge(gd);\n",
       "            observer.disconnect();\n",
       "        }}\n",
       "}});\n",
       "\n",
       "// Listen for the removal of the full notebook cells\n",
       "var notebookContainer = gd.closest('#notebook-container');\n",
       "if (notebookContainer) {{\n",
       "    x.observe(notebookContainer, {childList: true});\n",
       "}}\n",
       "\n",
       "// Listen for the clearing of the current output cell\n",
       "var outputEl = gd.closest('.output');\n",
       "if (outputEl) {{\n",
       "    x.observe(outputEl, {childList: true});\n",
       "}}\n",
       "\n",
       "                        })                };                });            </script>        </div>"
      ]
     },
     "metadata": {},
     "output_type": "display_data"
    }
   ],
   "source": [
    "def graph_fair_opt_orig(df_groups):\n",
    "    mapping = {\n",
    "        \"selection rate\":\"demographic parity\",\n",
    "        \"precision\":\"predictive parity\", \n",
    "        \"recall\":\"equality opportunity\", \n",
    "        \"false positive rate\":\"predictive equality\"}\n",
    "    name = df_groups.columns[0]\n",
    "    fig = make_subplots(rows=1, cols=4, horizontal_spacing=.01)\n",
    "    for i,(col, metric) in enumerate(zip(mapping.keys(),mapping.values())):\n",
    "        fig.add_trace(go.Bar(\n",
    "                            name = metric,\n",
    "                            y=df_groups[name] + ' ', \n",
    "                            x=df_groups[col + ' u'],\n",
    "                            orientation='h', \n",
    "                            width=0.4, \n",
    "                            showlegend= False, \n",
    "                            marker_color='#d1d1e0'),\n",
    "                            row = 1, col = i+1)\n",
    "                            #row = int(np.ceil((i+1)/2)), col = (i % 2) + 1) \n",
    "\n",
    "        fig.add_trace(go.Bar(\n",
    "                            name = metric + ' optimized',\n",
    "                            y=df_groups[name] + ' ', \n",
    "                            x=df_groups[col],\n",
    "                            orientation='h', \n",
    "                            width=0.4, \n",
    "                            showlegend= False, \n",
    "                            marker_color='#ADD8E6'),\n",
    "                            row = 1, col = i+1)\n",
    "\n",
    "        fig.update_xaxes(title_text= metric.capitalize(), row=1, col=i+1, range = [0,1])\n",
    "        if i != 0:\n",
    "            fig.update_yaxes(showticklabels=False, row=1, col=i+1) \n",
    "\n",
    "    fig.update_layout(\n",
    "        barmode='group',\n",
    "        title= \"<span style='font-size:.9em;color:#455A64'>Fairness Metrics</span>\",\n",
    "        font_size = 12,\n",
    "        yaxis=dict(type='category'),\n",
    "        legend=dict(\n",
    "            orientation=\"h\",\n",
    "            yanchor=\"bottom\",\n",
    "            y=1.02,\n",
    "            xanchor=\"right\",\n",
    "            x=1\n",
    "        ),\n",
    "    )\n",
    "    return fig\n",
    "    #fig.update_yaxes(categoryorder='array', categoryarray= df_groups[name])"
   ]
  },
  {
   "cell_type": "code",
   "execution_count": 816,
   "metadata": {},
   "outputs": [
    {
     "data": {
      "application/vnd.plotly.v1+json": {
       "config": {
        "plotlyServerURL": "https://plot.ly"
       },
       "data": [
        {
         "marker": {
          "color": "#d1d1e0"
         },
         "name": "true positive rate",
         "orientation": "h",
         "showlegend": true,
         "type": "bar",
         "width": 0.4,
         "x": [
          0.556118754525706,
          0.6483875015685783,
          0.09226874704287225
         ],
         "y": [
          "Female",
          "Male",
          "Difference"
         ]
        },
        {
         "marker": {
          "color": "#ADD8E6"
         },
         "name": "true positive rate optimized",
         "orientation": "h",
         "showlegend": true,
         "type": "bar",
         "width": 0.4,
         "x": [
          0.13034033309196236,
          0.23340444221357762,
          0.10306410912161526
         ],
         "y": [
          "Female",
          "Male",
          "Difference"
         ]
        }
       ],
       "layout": {
        "barmode": "group",
        "font": {
         "size": 14
        },
        "legend": {
         "orientation": "h",
         "x": 1,
         "xanchor": "right",
         "y": 1.02,
         "yanchor": "bottom"
        },
        "template": {
         "data": {
          "bar": [
           {
            "error_x": {
             "color": "#2a3f5f"
            },
            "error_y": {
             "color": "#2a3f5f"
            },
            "marker": {
             "line": {
              "color": "#E5ECF6",
              "width": 0.5
             },
             "pattern": {
              "fillmode": "overlay",
              "size": 10,
              "solidity": 0.2
             }
            },
            "type": "bar"
           }
          ],
          "barpolar": [
           {
            "marker": {
             "line": {
              "color": "#E5ECF6",
              "width": 0.5
             },
             "pattern": {
              "fillmode": "overlay",
              "size": 10,
              "solidity": 0.2
             }
            },
            "type": "barpolar"
           }
          ],
          "carpet": [
           {
            "aaxis": {
             "endlinecolor": "#2a3f5f",
             "gridcolor": "white",
             "linecolor": "white",
             "minorgridcolor": "white",
             "startlinecolor": "#2a3f5f"
            },
            "baxis": {
             "endlinecolor": "#2a3f5f",
             "gridcolor": "white",
             "linecolor": "white",
             "minorgridcolor": "white",
             "startlinecolor": "#2a3f5f"
            },
            "type": "carpet"
           }
          ],
          "choropleth": [
           {
            "colorbar": {
             "outlinewidth": 0,
             "ticks": ""
            },
            "type": "choropleth"
           }
          ],
          "contour": [
           {
            "colorbar": {
             "outlinewidth": 0,
             "ticks": ""
            },
            "colorscale": [
             [
              0,
              "#0d0887"
             ],
             [
              0.1111111111111111,
              "#46039f"
             ],
             [
              0.2222222222222222,
              "#7201a8"
             ],
             [
              0.3333333333333333,
              "#9c179e"
             ],
             [
              0.4444444444444444,
              "#bd3786"
             ],
             [
              0.5555555555555556,
              "#d8576b"
             ],
             [
              0.6666666666666666,
              "#ed7953"
             ],
             [
              0.7777777777777778,
              "#fb9f3a"
             ],
             [
              0.8888888888888888,
              "#fdca26"
             ],
             [
              1,
              "#f0f921"
             ]
            ],
            "type": "contour"
           }
          ],
          "contourcarpet": [
           {
            "colorbar": {
             "outlinewidth": 0,
             "ticks": ""
            },
            "type": "contourcarpet"
           }
          ],
          "heatmap": [
           {
            "colorbar": {
             "outlinewidth": 0,
             "ticks": ""
            },
            "colorscale": [
             [
              0,
              "#0d0887"
             ],
             [
              0.1111111111111111,
              "#46039f"
             ],
             [
              0.2222222222222222,
              "#7201a8"
             ],
             [
              0.3333333333333333,
              "#9c179e"
             ],
             [
              0.4444444444444444,
              "#bd3786"
             ],
             [
              0.5555555555555556,
              "#d8576b"
             ],
             [
              0.6666666666666666,
              "#ed7953"
             ],
             [
              0.7777777777777778,
              "#fb9f3a"
             ],
             [
              0.8888888888888888,
              "#fdca26"
             ],
             [
              1,
              "#f0f921"
             ]
            ],
            "type": "heatmap"
           }
          ],
          "heatmapgl": [
           {
            "colorbar": {
             "outlinewidth": 0,
             "ticks": ""
            },
            "colorscale": [
             [
              0,
              "#0d0887"
             ],
             [
              0.1111111111111111,
              "#46039f"
             ],
             [
              0.2222222222222222,
              "#7201a8"
             ],
             [
              0.3333333333333333,
              "#9c179e"
             ],
             [
              0.4444444444444444,
              "#bd3786"
             ],
             [
              0.5555555555555556,
              "#d8576b"
             ],
             [
              0.6666666666666666,
              "#ed7953"
             ],
             [
              0.7777777777777778,
              "#fb9f3a"
             ],
             [
              0.8888888888888888,
              "#fdca26"
             ],
             [
              1,
              "#f0f921"
             ]
            ],
            "type": "heatmapgl"
           }
          ],
          "histogram": [
           {
            "marker": {
             "pattern": {
              "fillmode": "overlay",
              "size": 10,
              "solidity": 0.2
             }
            },
            "type": "histogram"
           }
          ],
          "histogram2d": [
           {
            "colorbar": {
             "outlinewidth": 0,
             "ticks": ""
            },
            "colorscale": [
             [
              0,
              "#0d0887"
             ],
             [
              0.1111111111111111,
              "#46039f"
             ],
             [
              0.2222222222222222,
              "#7201a8"
             ],
             [
              0.3333333333333333,
              "#9c179e"
             ],
             [
              0.4444444444444444,
              "#bd3786"
             ],
             [
              0.5555555555555556,
              "#d8576b"
             ],
             [
              0.6666666666666666,
              "#ed7953"
             ],
             [
              0.7777777777777778,
              "#fb9f3a"
             ],
             [
              0.8888888888888888,
              "#fdca26"
             ],
             [
              1,
              "#f0f921"
             ]
            ],
            "type": "histogram2d"
           }
          ],
          "histogram2dcontour": [
           {
            "colorbar": {
             "outlinewidth": 0,
             "ticks": ""
            },
            "colorscale": [
             [
              0,
              "#0d0887"
             ],
             [
              0.1111111111111111,
              "#46039f"
             ],
             [
              0.2222222222222222,
              "#7201a8"
             ],
             [
              0.3333333333333333,
              "#9c179e"
             ],
             [
              0.4444444444444444,
              "#bd3786"
             ],
             [
              0.5555555555555556,
              "#d8576b"
             ],
             [
              0.6666666666666666,
              "#ed7953"
             ],
             [
              0.7777777777777778,
              "#fb9f3a"
             ],
             [
              0.8888888888888888,
              "#fdca26"
             ],
             [
              1,
              "#f0f921"
             ]
            ],
            "type": "histogram2dcontour"
           }
          ],
          "mesh3d": [
           {
            "colorbar": {
             "outlinewidth": 0,
             "ticks": ""
            },
            "type": "mesh3d"
           }
          ],
          "parcoords": [
           {
            "line": {
             "colorbar": {
              "outlinewidth": 0,
              "ticks": ""
             }
            },
            "type": "parcoords"
           }
          ],
          "pie": [
           {
            "automargin": true,
            "type": "pie"
           }
          ],
          "scatter": [
           {
            "fillpattern": {
             "fillmode": "overlay",
             "size": 10,
             "solidity": 0.2
            },
            "type": "scatter"
           }
          ],
          "scatter3d": [
           {
            "line": {
             "colorbar": {
              "outlinewidth": 0,
              "ticks": ""
             }
            },
            "marker": {
             "colorbar": {
              "outlinewidth": 0,
              "ticks": ""
             }
            },
            "type": "scatter3d"
           }
          ],
          "scattercarpet": [
           {
            "marker": {
             "colorbar": {
              "outlinewidth": 0,
              "ticks": ""
             }
            },
            "type": "scattercarpet"
           }
          ],
          "scattergeo": [
           {
            "marker": {
             "colorbar": {
              "outlinewidth": 0,
              "ticks": ""
             }
            },
            "type": "scattergeo"
           }
          ],
          "scattergl": [
           {
            "marker": {
             "colorbar": {
              "outlinewidth": 0,
              "ticks": ""
             }
            },
            "type": "scattergl"
           }
          ],
          "scattermapbox": [
           {
            "marker": {
             "colorbar": {
              "outlinewidth": 0,
              "ticks": ""
             }
            },
            "type": "scattermapbox"
           }
          ],
          "scatterpolar": [
           {
            "marker": {
             "colorbar": {
              "outlinewidth": 0,
              "ticks": ""
             }
            },
            "type": "scatterpolar"
           }
          ],
          "scatterpolargl": [
           {
            "marker": {
             "colorbar": {
              "outlinewidth": 0,
              "ticks": ""
             }
            },
            "type": "scatterpolargl"
           }
          ],
          "scatterternary": [
           {
            "marker": {
             "colorbar": {
              "outlinewidth": 0,
              "ticks": ""
             }
            },
            "type": "scatterternary"
           }
          ],
          "surface": [
           {
            "colorbar": {
             "outlinewidth": 0,
             "ticks": ""
            },
            "colorscale": [
             [
              0,
              "#0d0887"
             ],
             [
              0.1111111111111111,
              "#46039f"
             ],
             [
              0.2222222222222222,
              "#7201a8"
             ],
             [
              0.3333333333333333,
              "#9c179e"
             ],
             [
              0.4444444444444444,
              "#bd3786"
             ],
             [
              0.5555555555555556,
              "#d8576b"
             ],
             [
              0.6666666666666666,
              "#ed7953"
             ],
             [
              0.7777777777777778,
              "#fb9f3a"
             ],
             [
              0.8888888888888888,
              "#fdca26"
             ],
             [
              1,
              "#f0f921"
             ]
            ],
            "type": "surface"
           }
          ],
          "table": [
           {
            "cells": {
             "fill": {
              "color": "#EBF0F8"
             },
             "line": {
              "color": "white"
             }
            },
            "header": {
             "fill": {
              "color": "#C8D4E3"
             },
             "line": {
              "color": "white"
             }
            },
            "type": "table"
           }
          ]
         },
         "layout": {
          "annotationdefaults": {
           "arrowcolor": "#2a3f5f",
           "arrowhead": 0,
           "arrowwidth": 1
          },
          "autotypenumbers": "strict",
          "coloraxis": {
           "colorbar": {
            "outlinewidth": 0,
            "ticks": ""
           }
          },
          "colorscale": {
           "diverging": [
            [
             0,
             "#8e0152"
            ],
            [
             0.1,
             "#c51b7d"
            ],
            [
             0.2,
             "#de77ae"
            ],
            [
             0.3,
             "#f1b6da"
            ],
            [
             0.4,
             "#fde0ef"
            ],
            [
             0.5,
             "#f7f7f7"
            ],
            [
             0.6,
             "#e6f5d0"
            ],
            [
             0.7,
             "#b8e186"
            ],
            [
             0.8,
             "#7fbc41"
            ],
            [
             0.9,
             "#4d9221"
            ],
            [
             1,
             "#276419"
            ]
           ],
           "sequential": [
            [
             0,
             "#0d0887"
            ],
            [
             0.1111111111111111,
             "#46039f"
            ],
            [
             0.2222222222222222,
             "#7201a8"
            ],
            [
             0.3333333333333333,
             "#9c179e"
            ],
            [
             0.4444444444444444,
             "#bd3786"
            ],
            [
             0.5555555555555556,
             "#d8576b"
            ],
            [
             0.6666666666666666,
             "#ed7953"
            ],
            [
             0.7777777777777778,
             "#fb9f3a"
            ],
            [
             0.8888888888888888,
             "#fdca26"
            ],
            [
             1,
             "#f0f921"
            ]
           ],
           "sequentialminus": [
            [
             0,
             "#0d0887"
            ],
            [
             0.1111111111111111,
             "#46039f"
            ],
            [
             0.2222222222222222,
             "#7201a8"
            ],
            [
             0.3333333333333333,
             "#9c179e"
            ],
            [
             0.4444444444444444,
             "#bd3786"
            ],
            [
             0.5555555555555556,
             "#d8576b"
            ],
            [
             0.6666666666666666,
             "#ed7953"
            ],
            [
             0.7777777777777778,
             "#fb9f3a"
            ],
            [
             0.8888888888888888,
             "#fdca26"
            ],
            [
             1,
             "#f0f921"
            ]
           ]
          },
          "colorway": [
           "#636efa",
           "#EF553B",
           "#00cc96",
           "#ab63fa",
           "#FFA15A",
           "#19d3f3",
           "#FF6692",
           "#B6E880",
           "#FF97FF",
           "#FECB52"
          ],
          "font": {
           "color": "#2a3f5f"
          },
          "geo": {
           "bgcolor": "white",
           "lakecolor": "white",
           "landcolor": "#E5ECF6",
           "showlakes": true,
           "showland": true,
           "subunitcolor": "white"
          },
          "hoverlabel": {
           "align": "left"
          },
          "hovermode": "closest",
          "mapbox": {
           "style": "light"
          },
          "paper_bgcolor": "white",
          "plot_bgcolor": "#E5ECF6",
          "polar": {
           "angularaxis": {
            "gridcolor": "white",
            "linecolor": "white",
            "ticks": ""
           },
           "bgcolor": "#E5ECF6",
           "radialaxis": {
            "gridcolor": "white",
            "linecolor": "white",
            "ticks": ""
           }
          },
          "scene": {
           "xaxis": {
            "backgroundcolor": "#E5ECF6",
            "gridcolor": "white",
            "gridwidth": 2,
            "linecolor": "white",
            "showbackground": true,
            "ticks": "",
            "zerolinecolor": "white"
           },
           "yaxis": {
            "backgroundcolor": "#E5ECF6",
            "gridcolor": "white",
            "gridwidth": 2,
            "linecolor": "white",
            "showbackground": true,
            "ticks": "",
            "zerolinecolor": "white"
           },
           "zaxis": {
            "backgroundcolor": "#E5ECF6",
            "gridcolor": "white",
            "gridwidth": 2,
            "linecolor": "white",
            "showbackground": true,
            "ticks": "",
            "zerolinecolor": "white"
           }
          },
          "shapedefaults": {
           "line": {
            "color": "#2a3f5f"
           }
          },
          "ternary": {
           "aaxis": {
            "gridcolor": "white",
            "linecolor": "white",
            "ticks": ""
           },
           "baxis": {
            "gridcolor": "white",
            "linecolor": "white",
            "ticks": ""
           },
           "bgcolor": "#E5ECF6",
           "caxis": {
            "gridcolor": "white",
            "linecolor": "white",
            "ticks": ""
           }
          },
          "title": {
           "x": 0.05
          },
          "xaxis": {
           "automargin": true,
           "gridcolor": "white",
           "linecolor": "white",
           "ticks": "",
           "title": {
            "standoff": 15
           },
           "zerolinecolor": "white",
           "zerolinewidth": 2
          },
          "yaxis": {
           "automargin": true,
           "gridcolor": "white",
           "linecolor": "white",
           "ticks": "",
           "title": {
            "standoff": 15
           },
           "zerolinecolor": "white",
           "zerolinewidth": 2
          }
         }
        },
        "yaxis": {
         "categoryarray": [
          "Female",
          "Male",
          "Difference"
         ],
         "categoryorder": "array",
         "type": "category"
        }
       }
      },
      "text/html": [
       "<div>                            <div id=\"a864483b-b072-4803-9715-b58303608a75\" class=\"plotly-graph-div\" style=\"height:525px; width:100%;\"></div>            <script type=\"text/javascript\">                require([\"plotly\"], function(Plotly) {                    window.PLOTLYENV=window.PLOTLYENV || {};                                    if (document.getElementById(\"a864483b-b072-4803-9715-b58303608a75\")) {                    Plotly.newPlot(                        \"a864483b-b072-4803-9715-b58303608a75\",                        [{\"marker\":{\"color\":\"#d1d1e0\"},\"name\":\"true positive rate\",\"orientation\":\"h\",\"showlegend\":true,\"width\":0.4,\"x\":[0.556118754525706,0.6483875015685783,0.09226874704287225],\"y\":[\"Female\",\"Male\",\"Difference\"],\"type\":\"bar\"},{\"marker\":{\"color\":\"#ADD8E6\"},\"name\":\"true positive rate optimized\",\"orientation\":\"h\",\"showlegend\":true,\"width\":0.4,\"x\":[0.13034033309196236,0.23340444221357762,0.10306410912161526],\"y\":[\"Female\",\"Male\",\"Difference\"],\"type\":\"bar\"}],                        {\"template\":{\"data\":{\"histogram2dcontour\":[{\"type\":\"histogram2dcontour\",\"colorbar\":{\"outlinewidth\":0,\"ticks\":\"\"},\"colorscale\":[[0.0,\"#0d0887\"],[0.1111111111111111,\"#46039f\"],[0.2222222222222222,\"#7201a8\"],[0.3333333333333333,\"#9c179e\"],[0.4444444444444444,\"#bd3786\"],[0.5555555555555556,\"#d8576b\"],[0.6666666666666666,\"#ed7953\"],[0.7777777777777778,\"#fb9f3a\"],[0.8888888888888888,\"#fdca26\"],[1.0,\"#f0f921\"]]}],\"choropleth\":[{\"type\":\"choropleth\",\"colorbar\":{\"outlinewidth\":0,\"ticks\":\"\"}}],\"histogram2d\":[{\"type\":\"histogram2d\",\"colorbar\":{\"outlinewidth\":0,\"ticks\":\"\"},\"colorscale\":[[0.0,\"#0d0887\"],[0.1111111111111111,\"#46039f\"],[0.2222222222222222,\"#7201a8\"],[0.3333333333333333,\"#9c179e\"],[0.4444444444444444,\"#bd3786\"],[0.5555555555555556,\"#d8576b\"],[0.6666666666666666,\"#ed7953\"],[0.7777777777777778,\"#fb9f3a\"],[0.8888888888888888,\"#fdca26\"],[1.0,\"#f0f921\"]]}],\"heatmap\":[{\"type\":\"heatmap\",\"colorbar\":{\"outlinewidth\":0,\"ticks\":\"\"},\"colorscale\":[[0.0,\"#0d0887\"],[0.1111111111111111,\"#46039f\"],[0.2222222222222222,\"#7201a8\"],[0.3333333333333333,\"#9c179e\"],[0.4444444444444444,\"#bd3786\"],[0.5555555555555556,\"#d8576b\"],[0.6666666666666666,\"#ed7953\"],[0.7777777777777778,\"#fb9f3a\"],[0.8888888888888888,\"#fdca26\"],[1.0,\"#f0f921\"]]}],\"heatmapgl\":[{\"type\":\"heatmapgl\",\"colorbar\":{\"outlinewidth\":0,\"ticks\":\"\"},\"colorscale\":[[0.0,\"#0d0887\"],[0.1111111111111111,\"#46039f\"],[0.2222222222222222,\"#7201a8\"],[0.3333333333333333,\"#9c179e\"],[0.4444444444444444,\"#bd3786\"],[0.5555555555555556,\"#d8576b\"],[0.6666666666666666,\"#ed7953\"],[0.7777777777777778,\"#fb9f3a\"],[0.8888888888888888,\"#fdca26\"],[1.0,\"#f0f921\"]]}],\"contourcarpet\":[{\"type\":\"contourcarpet\",\"colorbar\":{\"outlinewidth\":0,\"ticks\":\"\"}}],\"contour\":[{\"type\":\"contour\",\"colorbar\":{\"outlinewidth\":0,\"ticks\":\"\"},\"colorscale\":[[0.0,\"#0d0887\"],[0.1111111111111111,\"#46039f\"],[0.2222222222222222,\"#7201a8\"],[0.3333333333333333,\"#9c179e\"],[0.4444444444444444,\"#bd3786\"],[0.5555555555555556,\"#d8576b\"],[0.6666666666666666,\"#ed7953\"],[0.7777777777777778,\"#fb9f3a\"],[0.8888888888888888,\"#fdca26\"],[1.0,\"#f0f921\"]]}],\"surface\":[{\"type\":\"surface\",\"colorbar\":{\"outlinewidth\":0,\"ticks\":\"\"},\"colorscale\":[[0.0,\"#0d0887\"],[0.1111111111111111,\"#46039f\"],[0.2222222222222222,\"#7201a8\"],[0.3333333333333333,\"#9c179e\"],[0.4444444444444444,\"#bd3786\"],[0.5555555555555556,\"#d8576b\"],[0.6666666666666666,\"#ed7953\"],[0.7777777777777778,\"#fb9f3a\"],[0.8888888888888888,\"#fdca26\"],[1.0,\"#f0f921\"]]}],\"mesh3d\":[{\"type\":\"mesh3d\",\"colorbar\":{\"outlinewidth\":0,\"ticks\":\"\"}}],\"scatter\":[{\"fillpattern\":{\"fillmode\":\"overlay\",\"size\":10,\"solidity\":0.2},\"type\":\"scatter\"}],\"parcoords\":[{\"type\":\"parcoords\",\"line\":{\"colorbar\":{\"outlinewidth\":0,\"ticks\":\"\"}}}],\"scatterpolargl\":[{\"type\":\"scatterpolargl\",\"marker\":{\"colorbar\":{\"outlinewidth\":0,\"ticks\":\"\"}}}],\"bar\":[{\"error_x\":{\"color\":\"#2a3f5f\"},\"error_y\":{\"color\":\"#2a3f5f\"},\"marker\":{\"line\":{\"color\":\"#E5ECF6\",\"width\":0.5},\"pattern\":{\"fillmode\":\"overlay\",\"size\":10,\"solidity\":0.2}},\"type\":\"bar\"}],\"scattergeo\":[{\"type\":\"scattergeo\",\"marker\":{\"colorbar\":{\"outlinewidth\":0,\"ticks\":\"\"}}}],\"scatterpolar\":[{\"type\":\"scatterpolar\",\"marker\":{\"colorbar\":{\"outlinewidth\":0,\"ticks\":\"\"}}}],\"histogram\":[{\"marker\":{\"pattern\":{\"fillmode\":\"overlay\",\"size\":10,\"solidity\":0.2}},\"type\":\"histogram\"}],\"scattergl\":[{\"type\":\"scattergl\",\"marker\":{\"colorbar\":{\"outlinewidth\":0,\"ticks\":\"\"}}}],\"scatter3d\":[{\"type\":\"scatter3d\",\"line\":{\"colorbar\":{\"outlinewidth\":0,\"ticks\":\"\"}},\"marker\":{\"colorbar\":{\"outlinewidth\":0,\"ticks\":\"\"}}}],\"scattermapbox\":[{\"type\":\"scattermapbox\",\"marker\":{\"colorbar\":{\"outlinewidth\":0,\"ticks\":\"\"}}}],\"scatterternary\":[{\"type\":\"scatterternary\",\"marker\":{\"colorbar\":{\"outlinewidth\":0,\"ticks\":\"\"}}}],\"scattercarpet\":[{\"type\":\"scattercarpet\",\"marker\":{\"colorbar\":{\"outlinewidth\":0,\"ticks\":\"\"}}}],\"carpet\":[{\"aaxis\":{\"endlinecolor\":\"#2a3f5f\",\"gridcolor\":\"white\",\"linecolor\":\"white\",\"minorgridcolor\":\"white\",\"startlinecolor\":\"#2a3f5f\"},\"baxis\":{\"endlinecolor\":\"#2a3f5f\",\"gridcolor\":\"white\",\"linecolor\":\"white\",\"minorgridcolor\":\"white\",\"startlinecolor\":\"#2a3f5f\"},\"type\":\"carpet\"}],\"table\":[{\"cells\":{\"fill\":{\"color\":\"#EBF0F8\"},\"line\":{\"color\":\"white\"}},\"header\":{\"fill\":{\"color\":\"#C8D4E3\"},\"line\":{\"color\":\"white\"}},\"type\":\"table\"}],\"barpolar\":[{\"marker\":{\"line\":{\"color\":\"#E5ECF6\",\"width\":0.5},\"pattern\":{\"fillmode\":\"overlay\",\"size\":10,\"solidity\":0.2}},\"type\":\"barpolar\"}],\"pie\":[{\"automargin\":true,\"type\":\"pie\"}]},\"layout\":{\"autotypenumbers\":\"strict\",\"colorway\":[\"#636efa\",\"#EF553B\",\"#00cc96\",\"#ab63fa\",\"#FFA15A\",\"#19d3f3\",\"#FF6692\",\"#B6E880\",\"#FF97FF\",\"#FECB52\"],\"font\":{\"color\":\"#2a3f5f\"},\"hovermode\":\"closest\",\"hoverlabel\":{\"align\":\"left\"},\"paper_bgcolor\":\"white\",\"plot_bgcolor\":\"#E5ECF6\",\"polar\":{\"bgcolor\":\"#E5ECF6\",\"angularaxis\":{\"gridcolor\":\"white\",\"linecolor\":\"white\",\"ticks\":\"\"},\"radialaxis\":{\"gridcolor\":\"white\",\"linecolor\":\"white\",\"ticks\":\"\"}},\"ternary\":{\"bgcolor\":\"#E5ECF6\",\"aaxis\":{\"gridcolor\":\"white\",\"linecolor\":\"white\",\"ticks\":\"\"},\"baxis\":{\"gridcolor\":\"white\",\"linecolor\":\"white\",\"ticks\":\"\"},\"caxis\":{\"gridcolor\":\"white\",\"linecolor\":\"white\",\"ticks\":\"\"}},\"coloraxis\":{\"colorbar\":{\"outlinewidth\":0,\"ticks\":\"\"}},\"colorscale\":{\"sequential\":[[0.0,\"#0d0887\"],[0.1111111111111111,\"#46039f\"],[0.2222222222222222,\"#7201a8\"],[0.3333333333333333,\"#9c179e\"],[0.4444444444444444,\"#bd3786\"],[0.5555555555555556,\"#d8576b\"],[0.6666666666666666,\"#ed7953\"],[0.7777777777777778,\"#fb9f3a\"],[0.8888888888888888,\"#fdca26\"],[1.0,\"#f0f921\"]],\"sequentialminus\":[[0.0,\"#0d0887\"],[0.1111111111111111,\"#46039f\"],[0.2222222222222222,\"#7201a8\"],[0.3333333333333333,\"#9c179e\"],[0.4444444444444444,\"#bd3786\"],[0.5555555555555556,\"#d8576b\"],[0.6666666666666666,\"#ed7953\"],[0.7777777777777778,\"#fb9f3a\"],[0.8888888888888888,\"#fdca26\"],[1.0,\"#f0f921\"]],\"diverging\":[[0,\"#8e0152\"],[0.1,\"#c51b7d\"],[0.2,\"#de77ae\"],[0.3,\"#f1b6da\"],[0.4,\"#fde0ef\"],[0.5,\"#f7f7f7\"],[0.6,\"#e6f5d0\"],[0.7,\"#b8e186\"],[0.8,\"#7fbc41\"],[0.9,\"#4d9221\"],[1,\"#276419\"]]},\"xaxis\":{\"gridcolor\":\"white\",\"linecolor\":\"white\",\"ticks\":\"\",\"title\":{\"standoff\":15},\"zerolinecolor\":\"white\",\"automargin\":true,\"zerolinewidth\":2},\"yaxis\":{\"gridcolor\":\"white\",\"linecolor\":\"white\",\"ticks\":\"\",\"title\":{\"standoff\":15},\"zerolinecolor\":\"white\",\"automargin\":true,\"zerolinewidth\":2},\"scene\":{\"xaxis\":{\"backgroundcolor\":\"#E5ECF6\",\"gridcolor\":\"white\",\"linecolor\":\"white\",\"showbackground\":true,\"ticks\":\"\",\"zerolinecolor\":\"white\",\"gridwidth\":2},\"yaxis\":{\"backgroundcolor\":\"#E5ECF6\",\"gridcolor\":\"white\",\"linecolor\":\"white\",\"showbackground\":true,\"ticks\":\"\",\"zerolinecolor\":\"white\",\"gridwidth\":2},\"zaxis\":{\"backgroundcolor\":\"#E5ECF6\",\"gridcolor\":\"white\",\"linecolor\":\"white\",\"showbackground\":true,\"ticks\":\"\",\"zerolinecolor\":\"white\",\"gridwidth\":2}},\"shapedefaults\":{\"line\":{\"color\":\"#2a3f5f\"}},\"annotationdefaults\":{\"arrowcolor\":\"#2a3f5f\",\"arrowhead\":0,\"arrowwidth\":1},\"geo\":{\"bgcolor\":\"white\",\"landcolor\":\"#E5ECF6\",\"subunitcolor\":\"white\",\"showland\":true,\"showlakes\":true,\"lakecolor\":\"white\"},\"title\":{\"x\":0.05},\"mapbox\":{\"style\":\"light\"}}},\"font\":{\"size\":14},\"yaxis\":{\"type\":\"category\",\"categoryorder\":\"array\",\"categoryarray\":[\"Female\",\"Male\",\"Difference\"]},\"legend\":{\"orientation\":\"h\",\"yanchor\":\"bottom\",\"y\":1.02,\"xanchor\":\"right\",\"x\":1},\"barmode\":\"group\"},                        {\"responsive\": true}                    ).then(function(){\n",
       "                            \n",
       "var gd = document.getElementById('a864483b-b072-4803-9715-b58303608a75');\n",
       "var x = new MutationObserver(function (mutations, observer) {{\n",
       "        var display = window.getComputedStyle(gd).display;\n",
       "        if (!display || display === 'none') {{\n",
       "            console.log([gd, 'removed!']);\n",
       "            Plotly.purge(gd);\n",
       "            observer.disconnect();\n",
       "        }}\n",
       "}});\n",
       "\n",
       "// Listen for the removal of the full notebook cells\n",
       "var notebookContainer = gd.closest('#notebook-container');\n",
       "if (notebookContainer) {{\n",
       "    x.observe(notebookContainer, {childList: true});\n",
       "}}\n",
       "\n",
       "// Listen for the clearing of the current output cell\n",
       "var outputEl = gd.closest('.output');\n",
       "if (outputEl) {{\n",
       "    x.observe(outputEl, {childList: true});\n",
       "}}\n",
       "\n",
       "                        })                };                });            </script>        </div>"
      ]
     },
     "metadata": {},
     "output_type": "display_data"
    }
   ],
   "source": [
    "def graph_opt_orig(metric, df_groups):\n",
    "    name = df_groups.columns[0]\n",
    "    fig = go.Figure()\n",
    "    fig.add_trace(go.Bar(\n",
    "                        name = metric,\n",
    "                        y=df_groups[name], \n",
    "                        x=df_groups[metric + ' u'],\n",
    "                        orientation='h', \n",
    "                        width=0.4, \n",
    "                        showlegend= True, \n",
    "                        marker_color='#d1d1e0')) \n",
    "\n",
    "    fig.add_trace(go.Bar(\n",
    "                        name = metric + ' optimized',\n",
    "                        y=df_groups[name], \n",
    "                        x=df_groups[metric],\n",
    "                        orientation='h', \n",
    "                        width=0.4, \n",
    "                        showlegend= True, \n",
    "                        marker_color='#ADD8E6')) \n",
    "\n",
    "\n",
    "    fig.update_layout(\n",
    "        barmode='group',\n",
    "        font_size = 14,\n",
    "        yaxis=dict(type='category'),\n",
    "        legend=dict(\n",
    "            orientation=\"h\",\n",
    "            yanchor=\"bottom\",\n",
    "            y=1.02,\n",
    "            xanchor=\"right\",\n",
    "            x=1\n",
    "        ),\n",
    "    )\n",
    "\n",
    "    fig.update_yaxes(categoryorder='array', categoryarray= df_groups[name])\n",
    "    return fig\n",
    "\n"
   ]
  },
  {
   "cell_type": "code",
   "execution_count": null,
   "metadata": {},
   "outputs": [],
   "source": [
    "\n",
    "    fig = make_subplots(rows=2, cols=1, shared_xaxes=False,\n",
    "                        shared_yaxes=, horizontal_spacing=0)\n",
    "    \n",
    "    metric1 = 'false negative rate'\n",
    "    y = metric_frame.by_group[metric1].index  + \"  \"\n",
    "    text1 = 'FN (P=0,T=1)'\n",
    "    x1 = metric_frame.by_group[metric1]\n",
    "    fig.append_trace(go.Bar(\n",
    "                        x=x1, \n",
    "                        y=y,\n",
    "                        text=np.round(x1,3), #Display the numbers with thousands separators in hover-over tooltip \n",
    "                        textposition='inside',\n",
    "                        orientation='h', \n",
    "                        width=0.3, \n",
    "                        showlegend=False, \n",
    "                        marker_color='#EEE9BF'), \n",
    "                        1, 1) # 1,1 represents row 1 column 1 in the plot grid\n",
    "\n",
    "    metric2 = 'false positive rate'\n",
    "    text2 = 'FP (P=1,T=0)'\n",
    "    x2 = metric_frame.by_group[metric2]\n",
    "    fig.append_trace(go.Bar(\n",
    "                        x=x2, \n",
    "                        y=y,\n",
    "                        text=np.round(x2,3), \n",
    "                        textposition='inside',\n",
    "                        orientation='h', \n",
    "                        width=0.3, \n",
    "                        showlegend=False, \n",
    "                        marker_color='#ADD8E6'), \n",
    "                        1, 2)"
   ]
  },
  {
   "cell_type": "code",
   "execution_count": 602,
   "metadata": {},
   "outputs": [],
   "source": [
    "n = 24\n",
    "model_mapping = {\n",
    "    'LogisticRegression':'LR',\n",
    "    'RandomForestClassifier':'RF',\n",
    "    'GradientBoostingClassifier':'GBM',\n",
    "    'LGBMClassifier' : 'LGBM'}\n",
    "df_metrics_u = create_df_metrics(fair_metrics_u_dict, model_metrics_u_dict)\n",
    "df_metrics_u['model'] = results_dict['models_sim_u'][0]\n",
    "df_metrics_u['model_abrv'] = df_metrics_u['model'].map(model_mapping)\n",
    "\n"
   ]
  },
  {
   "cell_type": "code",
   "execution_count": 597,
   "metadata": {},
   "outputs": [],
   "source": [
    "metrics = [\n",
    "    'predictive equality difference', \n",
    "    'equality opportunity difference',\n",
    "    'average absolute odds difference',\n",
    "    'disparity difference'\n",
    "    ]\n"
   ]
  },
  {
   "cell_type": "code",
   "execution_count": 643,
   "metadata": {},
   "outputs": [
    {
     "data": {
      "application/vnd.plotly.v1+json": {
       "config": {
        "plotlyServerURL": "https://plot.ly"
       },
       "data": [
        {
         "delta": {
          "decreasing": {
           "color": "#28B463"
          },
          "increasing": {
           "color": "#E74C3C"
          },
          "reference": 0.062,
          "relative": true,
          "valueformat": ".2f"
         },
         "domain": {
          "x": [
           0,
           0.25
          ],
          "y": [
           0,
           1
          ]
         },
         "mode": "number+delta",
         "title": {
          "text": "Predictive equality difference<br>"
         },
         "type": "indicator",
         "value": 0.03
        },
        {
         "delta": {
          "decreasing": {
           "color": "#28B463"
          },
          "increasing": {
           "color": "#E74C3C"
          },
          "reference": 0.092,
          "relative": true,
          "valueformat": ".2f"
         },
         "domain": {
          "x": [
           0.25,
           0.5
          ],
          "y": [
           0,
           1
          ]
         },
         "mode": "number+delta",
         "title": {
          "text": "Equality opportunity difference<br>"
         },
         "type": "indicator",
         "value": 0.128
        },
        {
         "delta": {
          "decreasing": {
           "color": "#28B463"
          },
          "increasing": {
           "color": "#E74C3C"
          },
          "reference": 0.077,
          "relative": true,
          "valueformat": ".2f"
         },
         "domain": {
          "x": [
           0.5,
           0.75
          ],
          "y": [
           0,
           1
          ]
         },
         "mode": "number+delta",
         "title": {
          "text": "Average absolute odds difference<br>"
         },
         "type": "indicator",
         "value": 0.079
        },
        {
         "delta": {
          "decreasing": {
           "color": "#28B463"
          },
          "increasing": {
           "color": "#E74C3C"
          },
          "reference": 0.177,
          "relative": true,
          "valueformat": ".2f"
         },
         "domain": {
          "x": [
           0.75,
           1
          ],
          "y": [
           0,
           1
          ]
         },
         "mode": "number+delta",
         "title": {
          "text": "Disparity difference<br>"
         },
         "type": "indicator",
         "value": 0.125
        }
       ],
       "layout": {
        "height": 300,
        "paper_bgcolor": "lightgray",
        "template": {
         "data": {
          "bar": [
           {
            "error_x": {
             "color": "#2a3f5f"
            },
            "error_y": {
             "color": "#2a3f5f"
            },
            "marker": {
             "line": {
              "color": "#E5ECF6",
              "width": 0.5
             },
             "pattern": {
              "fillmode": "overlay",
              "size": 10,
              "solidity": 0.2
             }
            },
            "type": "bar"
           }
          ],
          "barpolar": [
           {
            "marker": {
             "line": {
              "color": "#E5ECF6",
              "width": 0.5
             },
             "pattern": {
              "fillmode": "overlay",
              "size": 10,
              "solidity": 0.2
             }
            },
            "type": "barpolar"
           }
          ],
          "carpet": [
           {
            "aaxis": {
             "endlinecolor": "#2a3f5f",
             "gridcolor": "white",
             "linecolor": "white",
             "minorgridcolor": "white",
             "startlinecolor": "#2a3f5f"
            },
            "baxis": {
             "endlinecolor": "#2a3f5f",
             "gridcolor": "white",
             "linecolor": "white",
             "minorgridcolor": "white",
             "startlinecolor": "#2a3f5f"
            },
            "type": "carpet"
           }
          ],
          "choropleth": [
           {
            "colorbar": {
             "outlinewidth": 0,
             "ticks": ""
            },
            "type": "choropleth"
           }
          ],
          "contour": [
           {
            "colorbar": {
             "outlinewidth": 0,
             "ticks": ""
            },
            "colorscale": [
             [
              0,
              "#0d0887"
             ],
             [
              0.1111111111111111,
              "#46039f"
             ],
             [
              0.2222222222222222,
              "#7201a8"
             ],
             [
              0.3333333333333333,
              "#9c179e"
             ],
             [
              0.4444444444444444,
              "#bd3786"
             ],
             [
              0.5555555555555556,
              "#d8576b"
             ],
             [
              0.6666666666666666,
              "#ed7953"
             ],
             [
              0.7777777777777778,
              "#fb9f3a"
             ],
             [
              0.8888888888888888,
              "#fdca26"
             ],
             [
              1,
              "#f0f921"
             ]
            ],
            "type": "contour"
           }
          ],
          "contourcarpet": [
           {
            "colorbar": {
             "outlinewidth": 0,
             "ticks": ""
            },
            "type": "contourcarpet"
           }
          ],
          "heatmap": [
           {
            "colorbar": {
             "outlinewidth": 0,
             "ticks": ""
            },
            "colorscale": [
             [
              0,
              "#0d0887"
             ],
             [
              0.1111111111111111,
              "#46039f"
             ],
             [
              0.2222222222222222,
              "#7201a8"
             ],
             [
              0.3333333333333333,
              "#9c179e"
             ],
             [
              0.4444444444444444,
              "#bd3786"
             ],
             [
              0.5555555555555556,
              "#d8576b"
             ],
             [
              0.6666666666666666,
              "#ed7953"
             ],
             [
              0.7777777777777778,
              "#fb9f3a"
             ],
             [
              0.8888888888888888,
              "#fdca26"
             ],
             [
              1,
              "#f0f921"
             ]
            ],
            "type": "heatmap"
           }
          ],
          "heatmapgl": [
           {
            "colorbar": {
             "outlinewidth": 0,
             "ticks": ""
            },
            "colorscale": [
             [
              0,
              "#0d0887"
             ],
             [
              0.1111111111111111,
              "#46039f"
             ],
             [
              0.2222222222222222,
              "#7201a8"
             ],
             [
              0.3333333333333333,
              "#9c179e"
             ],
             [
              0.4444444444444444,
              "#bd3786"
             ],
             [
              0.5555555555555556,
              "#d8576b"
             ],
             [
              0.6666666666666666,
              "#ed7953"
             ],
             [
              0.7777777777777778,
              "#fb9f3a"
             ],
             [
              0.8888888888888888,
              "#fdca26"
             ],
             [
              1,
              "#f0f921"
             ]
            ],
            "type": "heatmapgl"
           }
          ],
          "histogram": [
           {
            "marker": {
             "pattern": {
              "fillmode": "overlay",
              "size": 10,
              "solidity": 0.2
             }
            },
            "type": "histogram"
           }
          ],
          "histogram2d": [
           {
            "colorbar": {
             "outlinewidth": 0,
             "ticks": ""
            },
            "colorscale": [
             [
              0,
              "#0d0887"
             ],
             [
              0.1111111111111111,
              "#46039f"
             ],
             [
              0.2222222222222222,
              "#7201a8"
             ],
             [
              0.3333333333333333,
              "#9c179e"
             ],
             [
              0.4444444444444444,
              "#bd3786"
             ],
             [
              0.5555555555555556,
              "#d8576b"
             ],
             [
              0.6666666666666666,
              "#ed7953"
             ],
             [
              0.7777777777777778,
              "#fb9f3a"
             ],
             [
              0.8888888888888888,
              "#fdca26"
             ],
             [
              1,
              "#f0f921"
             ]
            ],
            "type": "histogram2d"
           }
          ],
          "histogram2dcontour": [
           {
            "colorbar": {
             "outlinewidth": 0,
             "ticks": ""
            },
            "colorscale": [
             [
              0,
              "#0d0887"
             ],
             [
              0.1111111111111111,
              "#46039f"
             ],
             [
              0.2222222222222222,
              "#7201a8"
             ],
             [
              0.3333333333333333,
              "#9c179e"
             ],
             [
              0.4444444444444444,
              "#bd3786"
             ],
             [
              0.5555555555555556,
              "#d8576b"
             ],
             [
              0.6666666666666666,
              "#ed7953"
             ],
             [
              0.7777777777777778,
              "#fb9f3a"
             ],
             [
              0.8888888888888888,
              "#fdca26"
             ],
             [
              1,
              "#f0f921"
             ]
            ],
            "type": "histogram2dcontour"
           }
          ],
          "mesh3d": [
           {
            "colorbar": {
             "outlinewidth": 0,
             "ticks": ""
            },
            "type": "mesh3d"
           }
          ],
          "parcoords": [
           {
            "line": {
             "colorbar": {
              "outlinewidth": 0,
              "ticks": ""
             }
            },
            "type": "parcoords"
           }
          ],
          "pie": [
           {
            "automargin": true,
            "type": "pie"
           }
          ],
          "scatter": [
           {
            "fillpattern": {
             "fillmode": "overlay",
             "size": 10,
             "solidity": 0.2
            },
            "type": "scatter"
           }
          ],
          "scatter3d": [
           {
            "line": {
             "colorbar": {
              "outlinewidth": 0,
              "ticks": ""
             }
            },
            "marker": {
             "colorbar": {
              "outlinewidth": 0,
              "ticks": ""
             }
            },
            "type": "scatter3d"
           }
          ],
          "scattercarpet": [
           {
            "marker": {
             "colorbar": {
              "outlinewidth": 0,
              "ticks": ""
             }
            },
            "type": "scattercarpet"
           }
          ],
          "scattergeo": [
           {
            "marker": {
             "colorbar": {
              "outlinewidth": 0,
              "ticks": ""
             }
            },
            "type": "scattergeo"
           }
          ],
          "scattergl": [
           {
            "marker": {
             "colorbar": {
              "outlinewidth": 0,
              "ticks": ""
             }
            },
            "type": "scattergl"
           }
          ],
          "scattermapbox": [
           {
            "marker": {
             "colorbar": {
              "outlinewidth": 0,
              "ticks": ""
             }
            },
            "type": "scattermapbox"
           }
          ],
          "scatterpolar": [
           {
            "marker": {
             "colorbar": {
              "outlinewidth": 0,
              "ticks": ""
             }
            },
            "type": "scatterpolar"
           }
          ],
          "scatterpolargl": [
           {
            "marker": {
             "colorbar": {
              "outlinewidth": 0,
              "ticks": ""
             }
            },
            "type": "scatterpolargl"
           }
          ],
          "scatterternary": [
           {
            "marker": {
             "colorbar": {
              "outlinewidth": 0,
              "ticks": ""
             }
            },
            "type": "scatterternary"
           }
          ],
          "surface": [
           {
            "colorbar": {
             "outlinewidth": 0,
             "ticks": ""
            },
            "colorscale": [
             [
              0,
              "#0d0887"
             ],
             [
              0.1111111111111111,
              "#46039f"
             ],
             [
              0.2222222222222222,
              "#7201a8"
             ],
             [
              0.3333333333333333,
              "#9c179e"
             ],
             [
              0.4444444444444444,
              "#bd3786"
             ],
             [
              0.5555555555555556,
              "#d8576b"
             ],
             [
              0.6666666666666666,
              "#ed7953"
             ],
             [
              0.7777777777777778,
              "#fb9f3a"
             ],
             [
              0.8888888888888888,
              "#fdca26"
             ],
             [
              1,
              "#f0f921"
             ]
            ],
            "type": "surface"
           }
          ],
          "table": [
           {
            "cells": {
             "fill": {
              "color": "#EBF0F8"
             },
             "line": {
              "color": "white"
             }
            },
            "header": {
             "fill": {
              "color": "#C8D4E3"
             },
             "line": {
              "color": "white"
             }
            },
            "type": "table"
           }
          ]
         },
         "layout": {
          "annotationdefaults": {
           "arrowcolor": "#2a3f5f",
           "arrowhead": 0,
           "arrowwidth": 1
          },
          "autotypenumbers": "strict",
          "coloraxis": {
           "colorbar": {
            "outlinewidth": 0,
            "ticks": ""
           }
          },
          "colorscale": {
           "diverging": [
            [
             0,
             "#8e0152"
            ],
            [
             0.1,
             "#c51b7d"
            ],
            [
             0.2,
             "#de77ae"
            ],
            [
             0.3,
             "#f1b6da"
            ],
            [
             0.4,
             "#fde0ef"
            ],
            [
             0.5,
             "#f7f7f7"
            ],
            [
             0.6,
             "#e6f5d0"
            ],
            [
             0.7,
             "#b8e186"
            ],
            [
             0.8,
             "#7fbc41"
            ],
            [
             0.9,
             "#4d9221"
            ],
            [
             1,
             "#276419"
            ]
           ],
           "sequential": [
            [
             0,
             "#0d0887"
            ],
            [
             0.1111111111111111,
             "#46039f"
            ],
            [
             0.2222222222222222,
             "#7201a8"
            ],
            [
             0.3333333333333333,
             "#9c179e"
            ],
            [
             0.4444444444444444,
             "#bd3786"
            ],
            [
             0.5555555555555556,
             "#d8576b"
            ],
            [
             0.6666666666666666,
             "#ed7953"
            ],
            [
             0.7777777777777778,
             "#fb9f3a"
            ],
            [
             0.8888888888888888,
             "#fdca26"
            ],
            [
             1,
             "#f0f921"
            ]
           ],
           "sequentialminus": [
            [
             0,
             "#0d0887"
            ],
            [
             0.1111111111111111,
             "#46039f"
            ],
            [
             0.2222222222222222,
             "#7201a8"
            ],
            [
             0.3333333333333333,
             "#9c179e"
            ],
            [
             0.4444444444444444,
             "#bd3786"
            ],
            [
             0.5555555555555556,
             "#d8576b"
            ],
            [
             0.6666666666666666,
             "#ed7953"
            ],
            [
             0.7777777777777778,
             "#fb9f3a"
            ],
            [
             0.8888888888888888,
             "#fdca26"
            ],
            [
             1,
             "#f0f921"
            ]
           ]
          },
          "colorway": [
           "#636efa",
           "#EF553B",
           "#00cc96",
           "#ab63fa",
           "#FFA15A",
           "#19d3f3",
           "#FF6692",
           "#B6E880",
           "#FF97FF",
           "#FECB52"
          ],
          "font": {
           "color": "#2a3f5f"
          },
          "geo": {
           "bgcolor": "white",
           "lakecolor": "white",
           "landcolor": "#E5ECF6",
           "showlakes": true,
           "showland": true,
           "subunitcolor": "white"
          },
          "hoverlabel": {
           "align": "left"
          },
          "hovermode": "closest",
          "mapbox": {
           "style": "light"
          },
          "paper_bgcolor": "white",
          "plot_bgcolor": "#E5ECF6",
          "polar": {
           "angularaxis": {
            "gridcolor": "white",
            "linecolor": "white",
            "ticks": ""
           },
           "bgcolor": "#E5ECF6",
           "radialaxis": {
            "gridcolor": "white",
            "linecolor": "white",
            "ticks": ""
           }
          },
          "scene": {
           "xaxis": {
            "backgroundcolor": "#E5ECF6",
            "gridcolor": "white",
            "gridwidth": 2,
            "linecolor": "white",
            "showbackground": true,
            "ticks": "",
            "zerolinecolor": "white"
           },
           "yaxis": {
            "backgroundcolor": "#E5ECF6",
            "gridcolor": "white",
            "gridwidth": 2,
            "linecolor": "white",
            "showbackground": true,
            "ticks": "",
            "zerolinecolor": "white"
           },
           "zaxis": {
            "backgroundcolor": "#E5ECF6",
            "gridcolor": "white",
            "gridwidth": 2,
            "linecolor": "white",
            "showbackground": true,
            "ticks": "",
            "zerolinecolor": "white"
           }
          },
          "shapedefaults": {
           "line": {
            "color": "#2a3f5f"
           }
          },
          "ternary": {
           "aaxis": {
            "gridcolor": "white",
            "linecolor": "white",
            "ticks": ""
           },
           "baxis": {
            "gridcolor": "white",
            "linecolor": "white",
            "ticks": ""
           },
           "bgcolor": "#E5ECF6",
           "caxis": {
            "gridcolor": "white",
            "linecolor": "white",
            "ticks": ""
           }
          },
          "title": {
           "x": 0.05
          },
          "xaxis": {
           "automargin": true,
           "gridcolor": "white",
           "linecolor": "white",
           "ticks": "",
           "title": {
            "standoff": 15
           },
           "zerolinecolor": "white",
           "zerolinewidth": 2
          },
          "yaxis": {
           "automargin": true,
           "gridcolor": "white",
           "linecolor": "white",
           "ticks": "",
           "title": {
            "standoff": 15
           },
           "zerolinecolor": "white",
           "zerolinewidth": 2
          }
         }
        }
       }
      },
      "text/html": [
       "<div>                            <div id=\"9edcf797-e095-45ea-a315-b23c5c1aff71\" class=\"plotly-graph-div\" style=\"height:300px; width:100%;\"></div>            <script type=\"text/javascript\">                require([\"plotly\"], function(Plotly) {                    window.PLOTLYENV=window.PLOTLYENV || {};                                    if (document.getElementById(\"9edcf797-e095-45ea-a315-b23c5c1aff71\")) {                    Plotly.newPlot(                        \"9edcf797-e095-45ea-a315-b23c5c1aff71\",                        [{\"delta\":{\"decreasing\":{\"color\":\"#28B463\"},\"increasing\":{\"color\":\"#E74C3C\"},\"reference\":0.062,\"relative\":true,\"valueformat\":\".2f\"},\"domain\":{\"x\":[0.0,0.25],\"y\":[0,1]},\"mode\":\"number+delta\",\"title\":{\"text\":\"Predictive equality difference<br>\"},\"value\":0.03,\"type\":\"indicator\"},{\"delta\":{\"decreasing\":{\"color\":\"#28B463\"},\"increasing\":{\"color\":\"#E74C3C\"},\"reference\":0.092,\"relative\":true,\"valueformat\":\".2f\"},\"domain\":{\"x\":[0.25,0.5],\"y\":[0,1]},\"mode\":\"number+delta\",\"title\":{\"text\":\"Equality opportunity difference<br>\"},\"value\":0.128,\"type\":\"indicator\"},{\"delta\":{\"decreasing\":{\"color\":\"#28B463\"},\"increasing\":{\"color\":\"#E74C3C\"},\"reference\":0.077,\"relative\":true,\"valueformat\":\".2f\"},\"domain\":{\"x\":[0.5,0.75],\"y\":[0,1]},\"mode\":\"number+delta\",\"title\":{\"text\":\"Average absolute odds difference<br>\"},\"value\":0.079,\"type\":\"indicator\"},{\"delta\":{\"decreasing\":{\"color\":\"#28B463\"},\"increasing\":{\"color\":\"#E74C3C\"},\"reference\":0.177,\"relative\":true,\"valueformat\":\".2f\"},\"domain\":{\"x\":[0.75,1.0],\"y\":[0,1]},\"mode\":\"number+delta\",\"title\":{\"text\":\"Disparity difference<br>\"},\"value\":0.125,\"type\":\"indicator\"}],                        {\"template\":{\"data\":{\"histogram2dcontour\":[{\"type\":\"histogram2dcontour\",\"colorbar\":{\"outlinewidth\":0,\"ticks\":\"\"},\"colorscale\":[[0.0,\"#0d0887\"],[0.1111111111111111,\"#46039f\"],[0.2222222222222222,\"#7201a8\"],[0.3333333333333333,\"#9c179e\"],[0.4444444444444444,\"#bd3786\"],[0.5555555555555556,\"#d8576b\"],[0.6666666666666666,\"#ed7953\"],[0.7777777777777778,\"#fb9f3a\"],[0.8888888888888888,\"#fdca26\"],[1.0,\"#f0f921\"]]}],\"choropleth\":[{\"type\":\"choropleth\",\"colorbar\":{\"outlinewidth\":0,\"ticks\":\"\"}}],\"histogram2d\":[{\"type\":\"histogram2d\",\"colorbar\":{\"outlinewidth\":0,\"ticks\":\"\"},\"colorscale\":[[0.0,\"#0d0887\"],[0.1111111111111111,\"#46039f\"],[0.2222222222222222,\"#7201a8\"],[0.3333333333333333,\"#9c179e\"],[0.4444444444444444,\"#bd3786\"],[0.5555555555555556,\"#d8576b\"],[0.6666666666666666,\"#ed7953\"],[0.7777777777777778,\"#fb9f3a\"],[0.8888888888888888,\"#fdca26\"],[1.0,\"#f0f921\"]]}],\"heatmap\":[{\"type\":\"heatmap\",\"colorbar\":{\"outlinewidth\":0,\"ticks\":\"\"},\"colorscale\":[[0.0,\"#0d0887\"],[0.1111111111111111,\"#46039f\"],[0.2222222222222222,\"#7201a8\"],[0.3333333333333333,\"#9c179e\"],[0.4444444444444444,\"#bd3786\"],[0.5555555555555556,\"#d8576b\"],[0.6666666666666666,\"#ed7953\"],[0.7777777777777778,\"#fb9f3a\"],[0.8888888888888888,\"#fdca26\"],[1.0,\"#f0f921\"]]}],\"heatmapgl\":[{\"type\":\"heatmapgl\",\"colorbar\":{\"outlinewidth\":0,\"ticks\":\"\"},\"colorscale\":[[0.0,\"#0d0887\"],[0.1111111111111111,\"#46039f\"],[0.2222222222222222,\"#7201a8\"],[0.3333333333333333,\"#9c179e\"],[0.4444444444444444,\"#bd3786\"],[0.5555555555555556,\"#d8576b\"],[0.6666666666666666,\"#ed7953\"],[0.7777777777777778,\"#fb9f3a\"],[0.8888888888888888,\"#fdca26\"],[1.0,\"#f0f921\"]]}],\"contourcarpet\":[{\"type\":\"contourcarpet\",\"colorbar\":{\"outlinewidth\":0,\"ticks\":\"\"}}],\"contour\":[{\"type\":\"contour\",\"colorbar\":{\"outlinewidth\":0,\"ticks\":\"\"},\"colorscale\":[[0.0,\"#0d0887\"],[0.1111111111111111,\"#46039f\"],[0.2222222222222222,\"#7201a8\"],[0.3333333333333333,\"#9c179e\"],[0.4444444444444444,\"#bd3786\"],[0.5555555555555556,\"#d8576b\"],[0.6666666666666666,\"#ed7953\"],[0.7777777777777778,\"#fb9f3a\"],[0.8888888888888888,\"#fdca26\"],[1.0,\"#f0f921\"]]}],\"surface\":[{\"type\":\"surface\",\"colorbar\":{\"outlinewidth\":0,\"ticks\":\"\"},\"colorscale\":[[0.0,\"#0d0887\"],[0.1111111111111111,\"#46039f\"],[0.2222222222222222,\"#7201a8\"],[0.3333333333333333,\"#9c179e\"],[0.4444444444444444,\"#bd3786\"],[0.5555555555555556,\"#d8576b\"],[0.6666666666666666,\"#ed7953\"],[0.7777777777777778,\"#fb9f3a\"],[0.8888888888888888,\"#fdca26\"],[1.0,\"#f0f921\"]]}],\"mesh3d\":[{\"type\":\"mesh3d\",\"colorbar\":{\"outlinewidth\":0,\"ticks\":\"\"}}],\"scatter\":[{\"fillpattern\":{\"fillmode\":\"overlay\",\"size\":10,\"solidity\":0.2},\"type\":\"scatter\"}],\"parcoords\":[{\"type\":\"parcoords\",\"line\":{\"colorbar\":{\"outlinewidth\":0,\"ticks\":\"\"}}}],\"scatterpolargl\":[{\"type\":\"scatterpolargl\",\"marker\":{\"colorbar\":{\"outlinewidth\":0,\"ticks\":\"\"}}}],\"bar\":[{\"error_x\":{\"color\":\"#2a3f5f\"},\"error_y\":{\"color\":\"#2a3f5f\"},\"marker\":{\"line\":{\"color\":\"#E5ECF6\",\"width\":0.5},\"pattern\":{\"fillmode\":\"overlay\",\"size\":10,\"solidity\":0.2}},\"type\":\"bar\"}],\"scattergeo\":[{\"type\":\"scattergeo\",\"marker\":{\"colorbar\":{\"outlinewidth\":0,\"ticks\":\"\"}}}],\"scatterpolar\":[{\"type\":\"scatterpolar\",\"marker\":{\"colorbar\":{\"outlinewidth\":0,\"ticks\":\"\"}}}],\"histogram\":[{\"marker\":{\"pattern\":{\"fillmode\":\"overlay\",\"size\":10,\"solidity\":0.2}},\"type\":\"histogram\"}],\"scattergl\":[{\"type\":\"scattergl\",\"marker\":{\"colorbar\":{\"outlinewidth\":0,\"ticks\":\"\"}}}],\"scatter3d\":[{\"type\":\"scatter3d\",\"line\":{\"colorbar\":{\"outlinewidth\":0,\"ticks\":\"\"}},\"marker\":{\"colorbar\":{\"outlinewidth\":0,\"ticks\":\"\"}}}],\"scattermapbox\":[{\"type\":\"scattermapbox\",\"marker\":{\"colorbar\":{\"outlinewidth\":0,\"ticks\":\"\"}}}],\"scatterternary\":[{\"type\":\"scatterternary\",\"marker\":{\"colorbar\":{\"outlinewidth\":0,\"ticks\":\"\"}}}],\"scattercarpet\":[{\"type\":\"scattercarpet\",\"marker\":{\"colorbar\":{\"outlinewidth\":0,\"ticks\":\"\"}}}],\"carpet\":[{\"aaxis\":{\"endlinecolor\":\"#2a3f5f\",\"gridcolor\":\"white\",\"linecolor\":\"white\",\"minorgridcolor\":\"white\",\"startlinecolor\":\"#2a3f5f\"},\"baxis\":{\"endlinecolor\":\"#2a3f5f\",\"gridcolor\":\"white\",\"linecolor\":\"white\",\"minorgridcolor\":\"white\",\"startlinecolor\":\"#2a3f5f\"},\"type\":\"carpet\"}],\"table\":[{\"cells\":{\"fill\":{\"color\":\"#EBF0F8\"},\"line\":{\"color\":\"white\"}},\"header\":{\"fill\":{\"color\":\"#C8D4E3\"},\"line\":{\"color\":\"white\"}},\"type\":\"table\"}],\"barpolar\":[{\"marker\":{\"line\":{\"color\":\"#E5ECF6\",\"width\":0.5},\"pattern\":{\"fillmode\":\"overlay\",\"size\":10,\"solidity\":0.2}},\"type\":\"barpolar\"}],\"pie\":[{\"automargin\":true,\"type\":\"pie\"}]},\"layout\":{\"autotypenumbers\":\"strict\",\"colorway\":[\"#636efa\",\"#EF553B\",\"#00cc96\",\"#ab63fa\",\"#FFA15A\",\"#19d3f3\",\"#FF6692\",\"#B6E880\",\"#FF97FF\",\"#FECB52\"],\"font\":{\"color\":\"#2a3f5f\"},\"hovermode\":\"closest\",\"hoverlabel\":{\"align\":\"left\"},\"paper_bgcolor\":\"white\",\"plot_bgcolor\":\"#E5ECF6\",\"polar\":{\"bgcolor\":\"#E5ECF6\",\"angularaxis\":{\"gridcolor\":\"white\",\"linecolor\":\"white\",\"ticks\":\"\"},\"radialaxis\":{\"gridcolor\":\"white\",\"linecolor\":\"white\",\"ticks\":\"\"}},\"ternary\":{\"bgcolor\":\"#E5ECF6\",\"aaxis\":{\"gridcolor\":\"white\",\"linecolor\":\"white\",\"ticks\":\"\"},\"baxis\":{\"gridcolor\":\"white\",\"linecolor\":\"white\",\"ticks\":\"\"},\"caxis\":{\"gridcolor\":\"white\",\"linecolor\":\"white\",\"ticks\":\"\"}},\"coloraxis\":{\"colorbar\":{\"outlinewidth\":0,\"ticks\":\"\"}},\"colorscale\":{\"sequential\":[[0.0,\"#0d0887\"],[0.1111111111111111,\"#46039f\"],[0.2222222222222222,\"#7201a8\"],[0.3333333333333333,\"#9c179e\"],[0.4444444444444444,\"#bd3786\"],[0.5555555555555556,\"#d8576b\"],[0.6666666666666666,\"#ed7953\"],[0.7777777777777778,\"#fb9f3a\"],[0.8888888888888888,\"#fdca26\"],[1.0,\"#f0f921\"]],\"sequentialminus\":[[0.0,\"#0d0887\"],[0.1111111111111111,\"#46039f\"],[0.2222222222222222,\"#7201a8\"],[0.3333333333333333,\"#9c179e\"],[0.4444444444444444,\"#bd3786\"],[0.5555555555555556,\"#d8576b\"],[0.6666666666666666,\"#ed7953\"],[0.7777777777777778,\"#fb9f3a\"],[0.8888888888888888,\"#fdca26\"],[1.0,\"#f0f921\"]],\"diverging\":[[0,\"#8e0152\"],[0.1,\"#c51b7d\"],[0.2,\"#de77ae\"],[0.3,\"#f1b6da\"],[0.4,\"#fde0ef\"],[0.5,\"#f7f7f7\"],[0.6,\"#e6f5d0\"],[0.7,\"#b8e186\"],[0.8,\"#7fbc41\"],[0.9,\"#4d9221\"],[1,\"#276419\"]]},\"xaxis\":{\"gridcolor\":\"white\",\"linecolor\":\"white\",\"ticks\":\"\",\"title\":{\"standoff\":15},\"zerolinecolor\":\"white\",\"automargin\":true,\"zerolinewidth\":2},\"yaxis\":{\"gridcolor\":\"white\",\"linecolor\":\"white\",\"ticks\":\"\",\"title\":{\"standoff\":15},\"zerolinecolor\":\"white\",\"automargin\":true,\"zerolinewidth\":2},\"scene\":{\"xaxis\":{\"backgroundcolor\":\"#E5ECF6\",\"gridcolor\":\"white\",\"linecolor\":\"white\",\"showbackground\":true,\"ticks\":\"\",\"zerolinecolor\":\"white\",\"gridwidth\":2},\"yaxis\":{\"backgroundcolor\":\"#E5ECF6\",\"gridcolor\":\"white\",\"linecolor\":\"white\",\"showbackground\":true,\"ticks\":\"\",\"zerolinecolor\":\"white\",\"gridwidth\":2},\"zaxis\":{\"backgroundcolor\":\"#E5ECF6\",\"gridcolor\":\"white\",\"linecolor\":\"white\",\"showbackground\":true,\"ticks\":\"\",\"zerolinecolor\":\"white\",\"gridwidth\":2}},\"shapedefaults\":{\"line\":{\"color\":\"#2a3f5f\"}},\"annotationdefaults\":{\"arrowcolor\":\"#2a3f5f\",\"arrowhead\":0,\"arrowwidth\":1},\"geo\":{\"bgcolor\":\"white\",\"landcolor\":\"#E5ECF6\",\"subunitcolor\":\"white\",\"showland\":true,\"showlakes\":true,\"lakecolor\":\"white\"},\"title\":{\"x\":0.05},\"mapbox\":{\"style\":\"light\"}}},\"paper_bgcolor\":\"lightgray\",\"height\":300},                        {\"responsive\": true}                    ).then(function(){\n",
       "                            \n",
       "var gd = document.getElementById('9edcf797-e095-45ea-a315-b23c5c1aff71');\n",
       "var x = new MutationObserver(function (mutations, observer) {{\n",
       "        var display = window.getComputedStyle(gd).display;\n",
       "        if (!display || display === 'none') {{\n",
       "            console.log([gd, 'removed!']);\n",
       "            Plotly.purge(gd);\n",
       "            observer.disconnect();\n",
       "        }}\n",
       "}});\n",
       "\n",
       "// Listen for the removal of the full notebook cells\n",
       "var notebookContainer = gd.closest('#notebook-container');\n",
       "if (notebookContainer) {{\n",
       "    x.observe(notebookContainer, {childList: true});\n",
       "}}\n",
       "\n",
       "// Listen for the clearing of the current output cell\n",
       "var outputEl = gd.closest('.output');\n",
       "if (outputEl) {{\n",
       "    x.observe(outputEl, {childList: true});\n",
       "}}\n",
       "\n",
       "                        })                };                });            </script>        </div>"
      ]
     },
     "metadata": {},
     "output_type": "display_data"
    }
   ],
   "source": [
    "import plotly.graph_objects as go\n",
    "\n",
    "def indicators(metrics, df_metrics, df_metrics_u):\n",
    "    fig = go.Figure()\n",
    "    spacing = np.linspace(0, 1, num= len(metrics) + 1, endpoint=True)\n",
    "    for i,metric in enumerate(metrics): \n",
    "        fig.add_trace(go.Indicator(\n",
    "            mode = \"number+delta\",\n",
    "            value = np.round(df_metrics.loc[n,metric],3),\n",
    "            title = {\"text\": f\"{metric.capitalize()}<br>\"},\n",
    "            delta = {\n",
    "                'reference': np.round(df_metrics_u.loc[n_model,metric].values[0],3), \n",
    "                'relative': True, \n",
    "                'decreasing' : dict(color = '#28B463'),\n",
    "                'increasing' : dict(color = '#E74C3C'),\n",
    "                'valueformat': \".2f\"},\n",
    "            domain = {'x': [spacing[i], spacing[i+1]], 'y': [0, 1]}))\n",
    "\n",
    "\n",
    "    fig.update_layout(\n",
    "        paper_bgcolor=\"lightgray\",\n",
    "        height=300,  # Added parameter\n",
    "    )\n",
    "    return fig"
   ]
  },
  {
   "cell_type": "code",
   "execution_count": 644,
   "metadata": {},
   "outputs": [
    {
     "data": {
      "text/html": [
       "<div>\n",
       "<style scoped>\n",
       "    .dataframe tbody tr th:only-of-type {\n",
       "        vertical-align: middle;\n",
       "    }\n",
       "\n",
       "    .dataframe tbody tr th {\n",
       "        vertical-align: top;\n",
       "    }\n",
       "\n",
       "    .dataframe thead th {\n",
       "        text-align: right;\n",
       "    }\n",
       "</style>\n",
       "<table border=\"1\" class=\"dataframe\">\n",
       "  <thead>\n",
       "    <tr style=\"text-align: right;\">\n",
       "      <th></th>\n",
       "      <th>train_fair</th>\n",
       "      <th>predictive equality difference</th>\n",
       "      <th>equality opportunity difference</th>\n",
       "      <th>average absolute odds difference</th>\n",
       "      <th>disparity difference</th>\n",
       "      <th>train_model</th>\n",
       "      <th>recall</th>\n",
       "      <th>precision</th>\n",
       "      <th>f1 score</th>\n",
       "      <th>accuracy</th>\n",
       "      <th>model</th>\n",
       "    </tr>\n",
       "  </thead>\n",
       "  <tbody>\n",
       "    <tr>\n",
       "      <th>0</th>\n",
       "      <td>0.051179</td>\n",
       "      <td>0.010407</td>\n",
       "      <td>0.176387</td>\n",
       "      <td>0.093397</td>\n",
       "      <td>0.068927</td>\n",
       "      <td>0.274766</td>\n",
       "      <td>0.190160</td>\n",
       "      <td>0.903915</td>\n",
       "      <td>0.314218</td>\n",
       "      <td>0.801377</td>\n",
       "      <td>RF</td>\n",
       "    </tr>\n",
       "    <tr>\n",
       "      <th>1</th>\n",
       "      <td>0.155837</td>\n",
       "      <td>0.058206</td>\n",
       "      <td>0.115179</td>\n",
       "      <td>0.086692</td>\n",
       "      <td>0.170408</td>\n",
       "      <td>0.669409</td>\n",
       "      <td>0.589840</td>\n",
       "      <td>0.790908</td>\n",
       "      <td>0.675734</td>\n",
       "      <td>0.864539</td>\n",
       "      <td>GBM</td>\n",
       "    </tr>\n",
       "    <tr>\n",
       "      <th>2</th>\n",
       "      <td>0.166950</td>\n",
       "      <td>0.060388</td>\n",
       "      <td>0.092232</td>\n",
       "      <td>0.076310</td>\n",
       "      <td>0.175327</td>\n",
       "      <td>0.695141</td>\n",
       "      <td>0.627487</td>\n",
       "      <td>0.781641</td>\n",
       "      <td>0.696132</td>\n",
       "      <td>0.868915</td>\n",
       "      <td>LGBM</td>\n",
       "    </tr>\n",
       "    <tr>\n",
       "      <th>3</th>\n",
       "      <td>0.037402</td>\n",
       "      <td>0.000606</td>\n",
       "      <td>0.095765</td>\n",
       "      <td>0.048185</td>\n",
       "      <td>0.039105</td>\n",
       "      <td>0.219039</td>\n",
       "      <td>0.129412</td>\n",
       "      <td>0.990991</td>\n",
       "      <td>0.228928</td>\n",
       "      <td>0.791396</td>\n",
       "      <td>RF</td>\n",
       "    </tr>\n",
       "    <tr>\n",
       "      <th>4</th>\n",
       "      <td>0.147267</td>\n",
       "      <td>0.055421</td>\n",
       "      <td>0.111671</td>\n",
       "      <td>0.083546</td>\n",
       "      <td>0.161785</td>\n",
       "      <td>0.650702</td>\n",
       "      <td>0.558610</td>\n",
       "      <td>0.787427</td>\n",
       "      <td>0.653569</td>\n",
       "      <td>0.858295</td>\n",
       "      <td>GBM</td>\n",
       "    </tr>\n",
       "    <tr>\n",
       "      <th>5</th>\n",
       "      <td>0.041229</td>\n",
       "      <td>0.000551</td>\n",
       "      <td>0.106413</td>\n",
       "      <td>0.053482</td>\n",
       "      <td>0.041596</td>\n",
       "      <td>0.224469</td>\n",
       "      <td>0.134866</td>\n",
       "      <td>0.992132</td>\n",
       "      <td>0.237454</td>\n",
       "      <td>0.792727</td>\n",
       "      <td>RF</td>\n",
       "    </tr>\n",
       "    <tr>\n",
       "      <th>6</th>\n",
       "      <td>0.028526</td>\n",
       "      <td>0.000220</td>\n",
       "      <td>0.110360</td>\n",
       "      <td>0.055290</td>\n",
       "      <td>0.034099</td>\n",
       "      <td>0.151631</td>\n",
       "      <td>0.095508</td>\n",
       "      <td>0.995541</td>\n",
       "      <td>0.174295</td>\n",
       "      <td>0.783462</td>\n",
       "      <td>RF</td>\n",
       "    </tr>\n",
       "    <tr>\n",
       "      <th>7</th>\n",
       "      <td>0.025735</td>\n",
       "      <td>0.000110</td>\n",
       "      <td>0.096248</td>\n",
       "      <td>0.048179</td>\n",
       "      <td>0.029431</td>\n",
       "      <td>0.136290</td>\n",
       "      <td>0.082032</td>\n",
       "      <td>0.997399</td>\n",
       "      <td>0.151596</td>\n",
       "      <td>0.780289</td>\n",
       "      <td>RF</td>\n",
       "    </tr>\n",
       "    <tr>\n",
       "      <th>8</th>\n",
       "      <td>0.032651</td>\n",
       "      <td>0.000110</td>\n",
       "      <td>0.090435</td>\n",
       "      <td>0.045272</td>\n",
       "      <td>0.029955</td>\n",
       "      <td>0.169036</td>\n",
       "      <td>0.088663</td>\n",
       "      <td>0.997593</td>\n",
       "      <td>0.162852</td>\n",
       "      <td>0.781875</td>\n",
       "      <td>RF</td>\n",
       "    </tr>\n",
       "    <tr>\n",
       "      <th>9</th>\n",
       "      <td>0.029606</td>\n",
       "      <td>0.000165</td>\n",
       "      <td>0.083811</td>\n",
       "      <td>0.041988</td>\n",
       "      <td>0.029984</td>\n",
       "      <td>0.156715</td>\n",
       "      <td>0.093155</td>\n",
       "      <td>0.996568</td>\n",
       "      <td>0.170383</td>\n",
       "      <td>0.782925</td>\n",
       "      <td>RF</td>\n",
       "    </tr>\n",
       "    <tr>\n",
       "      <th>10</th>\n",
       "      <td>0.015836</td>\n",
       "      <td>0.000055</td>\n",
       "      <td>0.026980</td>\n",
       "      <td>0.013517</td>\n",
       "      <td>0.008267</td>\n",
       "      <td>0.083484</td>\n",
       "      <td>0.022995</td>\n",
       "      <td>0.995370</td>\n",
       "      <td>0.044951</td>\n",
       "      <td>0.766187</td>\n",
       "      <td>RF</td>\n",
       "    </tr>\n",
       "    <tr>\n",
       "      <th>11</th>\n",
       "      <td>0.034007</td>\n",
       "      <td>0.000441</td>\n",
       "      <td>0.115406</td>\n",
       "      <td>0.057923</td>\n",
       "      <td>0.037801</td>\n",
       "      <td>0.191681</td>\n",
       "      <td>0.109947</td>\n",
       "      <td>0.992278</td>\n",
       "      <td>0.197959</td>\n",
       "      <td>0.786815</td>\n",
       "      <td>RF</td>\n",
       "    </tr>\n",
       "    <tr>\n",
       "      <th>12</th>\n",
       "      <td>0.039513</td>\n",
       "      <td>0.000661</td>\n",
       "      <td>0.109521</td>\n",
       "      <td>0.055091</td>\n",
       "      <td>0.042477</td>\n",
       "      <td>0.220305</td>\n",
       "      <td>0.136791</td>\n",
       "      <td>0.990705</td>\n",
       "      <td>0.240391</td>\n",
       "      <td>0.793136</td>\n",
       "      <td>RF</td>\n",
       "    </tr>\n",
       "    <tr>\n",
       "      <th>13</th>\n",
       "      <td>0.000604</td>\n",
       "      <td>0.000000</td>\n",
       "      <td>0.000000</td>\n",
       "      <td>0.000000</td>\n",
       "      <td>0.000000</td>\n",
       "      <td>0.003406</td>\n",
       "      <td>0.000000</td>\n",
       "      <td>0.000000</td>\n",
       "      <td>0.000000</td>\n",
       "      <td>0.760710</td>\n",
       "      <td>RF</td>\n",
       "    </tr>\n",
       "    <tr>\n",
       "      <th>14</th>\n",
       "      <td>0.034155</td>\n",
       "      <td>0.000385</td>\n",
       "      <td>0.100529</td>\n",
       "      <td>0.050457</td>\n",
       "      <td>0.035379</td>\n",
       "      <td>0.195651</td>\n",
       "      <td>0.108128</td>\n",
       "      <td>0.993124</td>\n",
       "      <td>0.195023</td>\n",
       "      <td>0.786405</td>\n",
       "      <td>RF</td>\n",
       "    </tr>\n",
       "    <tr>\n",
       "      <th>15</th>\n",
       "      <td>0.017199</td>\n",
       "      <td>0.000110</td>\n",
       "      <td>0.084578</td>\n",
       "      <td>0.042344</td>\n",
       "      <td>0.025872</td>\n",
       "      <td>0.091195</td>\n",
       "      <td>0.072086</td>\n",
       "      <td>0.997041</td>\n",
       "      <td>0.134450</td>\n",
       "      <td>0.777909</td>\n",
       "      <td>RF</td>\n",
       "    </tr>\n",
       "    <tr>\n",
       "      <th>16</th>\n",
       "      <td>0.052740</td>\n",
       "      <td>0.007277</td>\n",
       "      <td>0.103064</td>\n",
       "      <td>0.055171</td>\n",
       "      <td>0.062132</td>\n",
       "      <td>0.346955</td>\n",
       "      <td>0.218182</td>\n",
       "      <td>0.926010</td>\n",
       "      <td>0.353155</td>\n",
       "      <td>0.808748</td>\n",
       "      <td>LGBM</td>\n",
       "    </tr>\n",
       "    <tr>\n",
       "      <th>17</th>\n",
       "      <td>0.010207</td>\n",
       "      <td>0.000220</td>\n",
       "      <td>0.035431</td>\n",
       "      <td>0.017826</td>\n",
       "      <td>0.024313</td>\n",
       "      <td>0.067397</td>\n",
       "      <td>0.097540</td>\n",
       "      <td>0.995633</td>\n",
       "      <td>0.177674</td>\n",
       "      <td>0.783948</td>\n",
       "      <td>LGBM</td>\n",
       "    </tr>\n",
       "    <tr>\n",
       "      <th>18</th>\n",
       "      <td>0.156543</td>\n",
       "      <td>0.062538</td>\n",
       "      <td>0.078482</td>\n",
       "      <td>0.070510</td>\n",
       "      <td>0.175928</td>\n",
       "      <td>0.688416</td>\n",
       "      <td>0.636043</td>\n",
       "      <td>0.769042</td>\n",
       "      <td>0.696248</td>\n",
       "      <td>0.867201</td>\n",
       "      <td>LGBM</td>\n",
       "    </tr>\n",
       "    <tr>\n",
       "      <th>19</th>\n",
       "      <td>0.134237</td>\n",
       "      <td>0.046945</td>\n",
       "      <td>0.139990</td>\n",
       "      <td>0.093467</td>\n",
       "      <td>0.150425</td>\n",
       "      <td>0.619957</td>\n",
       "      <td>0.505989</td>\n",
       "      <td>0.812887</td>\n",
       "      <td>0.623731</td>\n",
       "      <td>0.853918</td>\n",
       "      <td>LGBM</td>\n",
       "    </tr>\n",
       "    <tr>\n",
       "      <th>20</th>\n",
       "      <td>0.084498</td>\n",
       "      <td>0.014296</td>\n",
       "      <td>0.073796</td>\n",
       "      <td>0.044046</td>\n",
       "      <td>0.085588</td>\n",
       "      <td>0.465019</td>\n",
       "      <td>0.334439</td>\n",
       "      <td>0.895475</td>\n",
       "      <td>0.486996</td>\n",
       "      <td>0.831397</td>\n",
       "      <td>LGBM</td>\n",
       "    </tr>\n",
       "    <tr>\n",
       "      <th>21</th>\n",
       "      <td>0.154083</td>\n",
       "      <td>0.064274</td>\n",
       "      <td>0.098687</td>\n",
       "      <td>0.081480</td>\n",
       "      <td>0.173528</td>\n",
       "      <td>0.657539</td>\n",
       "      <td>0.599679</td>\n",
       "      <td>0.768503</td>\n",
       "      <td>0.673675</td>\n",
       "      <td>0.860982</td>\n",
       "      <td>LGBM</td>\n",
       "    </tr>\n",
       "    <tr>\n",
       "      <th>22</th>\n",
       "      <td>0.157594</td>\n",
       "      <td>0.062444</td>\n",
       "      <td>0.088039</td>\n",
       "      <td>0.075242</td>\n",
       "      <td>0.177577</td>\n",
       "      <td>0.691334</td>\n",
       "      <td>0.638396</td>\n",
       "      <td>0.769102</td>\n",
       "      <td>0.697680</td>\n",
       "      <td>0.867610</td>\n",
       "      <td>LGBM</td>\n",
       "    </tr>\n",
       "    <tr>\n",
       "      <th>23</th>\n",
       "      <td>0.163037</td>\n",
       "      <td>0.067990</td>\n",
       "      <td>0.090878</td>\n",
       "      <td>0.079434</td>\n",
       "      <td>0.181248</td>\n",
       "      <td>0.691371</td>\n",
       "      <td>0.636471</td>\n",
       "      <td>0.755971</td>\n",
       "      <td>0.691093</td>\n",
       "      <td>0.863848</td>\n",
       "      <td>LGBM</td>\n",
       "    </tr>\n",
       "    <tr>\n",
       "      <th>24</th>\n",
       "      <td>0.107408</td>\n",
       "      <td>0.030399</td>\n",
       "      <td>0.128052</td>\n",
       "      <td>0.079225</td>\n",
       "      <td>0.124677</td>\n",
       "      <td>0.561715</td>\n",
       "      <td>0.438610</td>\n",
       "      <td>0.858129</td>\n",
       "      <td>0.580508</td>\n",
       "      <td>0.848313</td>\n",
       "      <td>LGBM</td>\n",
       "    </tr>\n",
       "    <tr>\n",
       "      <th>25</th>\n",
       "      <td>0.114664</td>\n",
       "      <td>0.035899</td>\n",
       "      <td>0.130471</td>\n",
       "      <td>0.083185</td>\n",
       "      <td>0.132386</td>\n",
       "      <td>0.577757</td>\n",
       "      <td>0.457326</td>\n",
       "      <td>0.842230</td>\n",
       "      <td>0.592777</td>\n",
       "      <td>0.849644</td>\n",
       "      <td>LGBM</td>\n",
       "    </tr>\n",
       "    <tr>\n",
       "      <th>26</th>\n",
       "      <td>0.147119</td>\n",
       "      <td>0.054831</td>\n",
       "      <td>0.111420</td>\n",
       "      <td>0.083126</td>\n",
       "      <td>0.161247</td>\n",
       "      <td>0.649276</td>\n",
       "      <td>0.558396</td>\n",
       "      <td>0.787719</td>\n",
       "      <td>0.653524</td>\n",
       "      <td>0.858320</td>\n",
       "      <td>GBM</td>\n",
       "    </tr>\n",
       "    <tr>\n",
       "      <th>27</th>\n",
       "      <td>0.139769</td>\n",
       "      <td>0.049590</td>\n",
       "      <td>0.111646</td>\n",
       "      <td>0.080618</td>\n",
       "      <td>0.154362</td>\n",
       "      <td>0.640020</td>\n",
       "      <td>0.539037</td>\n",
       "      <td>0.804213</td>\n",
       "      <td>0.645450</td>\n",
       "      <td>0.858295</td>\n",
       "      <td>LGBM</td>\n",
       "    </tr>\n",
       "    <tr>\n",
       "      <th>28</th>\n",
       "      <td>0.144581</td>\n",
       "      <td>0.054043</td>\n",
       "      <td>0.123625</td>\n",
       "      <td>0.088834</td>\n",
       "      <td>0.161244</td>\n",
       "      <td>0.644822</td>\n",
       "      <td>0.550695</td>\n",
       "      <td>0.794599</td>\n",
       "      <td>0.650537</td>\n",
       "      <td>0.858422</td>\n",
       "      <td>LGBM</td>\n",
       "    </tr>\n",
       "  </tbody>\n",
       "</table>\n",
       "</div>"
      ],
      "text/plain": [
       "    train_fair  predictive equality difference   \n",
       "0     0.051179                        0.010407  \\\n",
       "1     0.155837                        0.058206   \n",
       "2     0.166950                        0.060388   \n",
       "3     0.037402                        0.000606   \n",
       "4     0.147267                        0.055421   \n",
       "5     0.041229                        0.000551   \n",
       "6     0.028526                        0.000220   \n",
       "7     0.025735                        0.000110   \n",
       "8     0.032651                        0.000110   \n",
       "9     0.029606                        0.000165   \n",
       "10    0.015836                        0.000055   \n",
       "11    0.034007                        0.000441   \n",
       "12    0.039513                        0.000661   \n",
       "13    0.000604                        0.000000   \n",
       "14    0.034155                        0.000385   \n",
       "15    0.017199                        0.000110   \n",
       "16    0.052740                        0.007277   \n",
       "17    0.010207                        0.000220   \n",
       "18    0.156543                        0.062538   \n",
       "19    0.134237                        0.046945   \n",
       "20    0.084498                        0.014296   \n",
       "21    0.154083                        0.064274   \n",
       "22    0.157594                        0.062444   \n",
       "23    0.163037                        0.067990   \n",
       "24    0.107408                        0.030399   \n",
       "25    0.114664                        0.035899   \n",
       "26    0.147119                        0.054831   \n",
       "27    0.139769                        0.049590   \n",
       "28    0.144581                        0.054043   \n",
       "\n",
       "    equality opportunity difference  average absolute odds difference   \n",
       "0                          0.176387                          0.093397  \\\n",
       "1                          0.115179                          0.086692   \n",
       "2                          0.092232                          0.076310   \n",
       "3                          0.095765                          0.048185   \n",
       "4                          0.111671                          0.083546   \n",
       "5                          0.106413                          0.053482   \n",
       "6                          0.110360                          0.055290   \n",
       "7                          0.096248                          0.048179   \n",
       "8                          0.090435                          0.045272   \n",
       "9                          0.083811                          0.041988   \n",
       "10                         0.026980                          0.013517   \n",
       "11                         0.115406                          0.057923   \n",
       "12                         0.109521                          0.055091   \n",
       "13                         0.000000                          0.000000   \n",
       "14                         0.100529                          0.050457   \n",
       "15                         0.084578                          0.042344   \n",
       "16                         0.103064                          0.055171   \n",
       "17                         0.035431                          0.017826   \n",
       "18                         0.078482                          0.070510   \n",
       "19                         0.139990                          0.093467   \n",
       "20                         0.073796                          0.044046   \n",
       "21                         0.098687                          0.081480   \n",
       "22                         0.088039                          0.075242   \n",
       "23                         0.090878                          0.079434   \n",
       "24                         0.128052                          0.079225   \n",
       "25                         0.130471                          0.083185   \n",
       "26                         0.111420                          0.083126   \n",
       "27                         0.111646                          0.080618   \n",
       "28                         0.123625                          0.088834   \n",
       "\n",
       "    disparity difference  train_model    recall  precision  f1 score   \n",
       "0               0.068927     0.274766  0.190160   0.903915  0.314218  \\\n",
       "1               0.170408     0.669409  0.589840   0.790908  0.675734   \n",
       "2               0.175327     0.695141  0.627487   0.781641  0.696132   \n",
       "3               0.039105     0.219039  0.129412   0.990991  0.228928   \n",
       "4               0.161785     0.650702  0.558610   0.787427  0.653569   \n",
       "5               0.041596     0.224469  0.134866   0.992132  0.237454   \n",
       "6               0.034099     0.151631  0.095508   0.995541  0.174295   \n",
       "7               0.029431     0.136290  0.082032   0.997399  0.151596   \n",
       "8               0.029955     0.169036  0.088663   0.997593  0.162852   \n",
       "9               0.029984     0.156715  0.093155   0.996568  0.170383   \n",
       "10              0.008267     0.083484  0.022995   0.995370  0.044951   \n",
       "11              0.037801     0.191681  0.109947   0.992278  0.197959   \n",
       "12              0.042477     0.220305  0.136791   0.990705  0.240391   \n",
       "13              0.000000     0.003406  0.000000   0.000000  0.000000   \n",
       "14              0.035379     0.195651  0.108128   0.993124  0.195023   \n",
       "15              0.025872     0.091195  0.072086   0.997041  0.134450   \n",
       "16              0.062132     0.346955  0.218182   0.926010  0.353155   \n",
       "17              0.024313     0.067397  0.097540   0.995633  0.177674   \n",
       "18              0.175928     0.688416  0.636043   0.769042  0.696248   \n",
       "19              0.150425     0.619957  0.505989   0.812887  0.623731   \n",
       "20              0.085588     0.465019  0.334439   0.895475  0.486996   \n",
       "21              0.173528     0.657539  0.599679   0.768503  0.673675   \n",
       "22              0.177577     0.691334  0.638396   0.769102  0.697680   \n",
       "23              0.181248     0.691371  0.636471   0.755971  0.691093   \n",
       "24              0.124677     0.561715  0.438610   0.858129  0.580508   \n",
       "25              0.132386     0.577757  0.457326   0.842230  0.592777   \n",
       "26              0.161247     0.649276  0.558396   0.787719  0.653524   \n",
       "27              0.154362     0.640020  0.539037   0.804213  0.645450   \n",
       "28              0.161244     0.644822  0.550695   0.794599  0.650537   \n",
       "\n",
       "    accuracy model  \n",
       "0   0.801377    RF  \n",
       "1   0.864539   GBM  \n",
       "2   0.868915  LGBM  \n",
       "3   0.791396    RF  \n",
       "4   0.858295   GBM  \n",
       "5   0.792727    RF  \n",
       "6   0.783462    RF  \n",
       "7   0.780289    RF  \n",
       "8   0.781875    RF  \n",
       "9   0.782925    RF  \n",
       "10  0.766187    RF  \n",
       "11  0.786815    RF  \n",
       "12  0.793136    RF  \n",
       "13  0.760710    RF  \n",
       "14  0.786405    RF  \n",
       "15  0.777909    RF  \n",
       "16  0.808748  LGBM  \n",
       "17  0.783948  LGBM  \n",
       "18  0.867201  LGBM  \n",
       "19  0.853918  LGBM  \n",
       "20  0.831397  LGBM  \n",
       "21  0.860982  LGBM  \n",
       "22  0.867610  LGBM  \n",
       "23  0.863848  LGBM  \n",
       "24  0.848313  LGBM  \n",
       "25  0.849644  LGBM  \n",
       "26  0.858320   GBM  \n",
       "27  0.858295  LGBM  \n",
       "28  0.858422  LGBM  "
      ]
     },
     "execution_count": 644,
     "metadata": {},
     "output_type": "execute_result"
    }
   ],
   "source": [
    "df_metrics"
   ]
  },
  {
   "cell_type": "code",
   "execution_count": 68,
   "metadata": {},
   "outputs": [
    {
     "data": {
      "application/vnd.plotly.v1+json": {
       "config": {
        "plotlyServerURL": "https://plot.ly"
       },
       "data": [
        {
         "customdata": [
          [
           "RF"
          ],
          [
           "RF"
          ],
          [
           "RF"
          ],
          [
           "RF"
          ],
          [
           "RF"
          ],
          [
           "RF"
          ],
          [
           "RF"
          ],
          [
           "RF"
          ],
          [
           "RF"
          ],
          [
           "RF"
          ],
          [
           "RF"
          ],
          [
           "RF"
          ],
          [
           "RF"
          ]
         ],
         "hovertemplate": "model=%{customdata[0]}<br>train_fair=%{x}<br>train_model=%{y}<extra></extra>",
         "legendgroup": "RF",
         "marker": {
          "color": "#636efa",
          "symbol": "circle"
         },
         "mode": "markers",
         "name": "RF",
         "orientation": "v",
         "showlegend": true,
         "type": "scatter",
         "x": [
          0.0006043453401943968,
          0.015835777036331926,
          0.017199430462979018,
          0.025734954333878384,
          0.028526457694635476,
          0.029606008591919048,
          0.03265073570041173,
          0.03400739456528039,
          0.034155388985479186,
          0.03740151261242263,
          0.0395134259058119,
          0.041228564454003594,
          0.05117881810248072
         ],
         "xaxis": "x",
         "y": [
          0.003406069954180466,
          0.08348364009045559,
          0.09119536072194216,
          0.13628974566979832,
          0.1516307124439352,
          0.15671533193829218,
          0.1690361824705841,
          0.1916809620921305,
          0.1956506135255074,
          0.2190391835915082,
          0.220304905638346,
          0.22446850792802917,
          0.27476604440332936
         ],
         "yaxis": "y"
        },
        {
         "customdata": [
          [
           "LGBM"
          ],
          [
           "LGBM"
          ],
          [
           "LGBM"
          ],
          [
           "LGBM"
          ],
          [
           "LGBM"
          ],
          [
           "LGBM"
          ],
          [
           "LGBM"
          ],
          [
           "LGBM"
          ],
          [
           "LGBM"
          ],
          [
           "LGBM"
          ],
          [
           "LGBM"
          ],
          [
           "LGBM"
          ],
          [
           "LGBM"
          ]
         ],
         "hovertemplate": "model=%{customdata[0]}<br>train_fair=%{x}<br>train_model=%{y}<extra></extra>",
         "legendgroup": "LGBM",
         "marker": {
          "color": "#636efa",
          "symbol": "diamond"
         },
         "mode": "markers",
         "name": "LGBM",
         "orientation": "v",
         "showlegend": true,
         "type": "scatter",
         "x": [
          0.010207096204361728,
          0.05273951785115906,
          0.08449842204379632,
          0.10740823212189159,
          0.11466387385901407,
          0.13423651839351414,
          0.13976857969207193,
          0.14458051414213738,
          0.15408285828344281,
          0.15654277736416844,
          0.1575944482475095,
          0.163036534419635,
          0.16694977361368127
         ],
         "xaxis": "x",
         "y": [
          0.06739663328722449,
          0.3469545486700884,
          0.4650190387512157,
          0.5617151683524966,
          0.577757022013953,
          0.6199567189828541,
          0.6400201159545355,
          0.6448217624349957,
          0.6575394929340137,
          0.6884158995929688,
          0.691333778128108,
          0.6913705947360904,
          0.6951408110333032
         ],
         "yaxis": "y"
        },
        {
         "customdata": [
          [
           "GBM"
          ],
          [
           "GBM"
          ],
          [
           "GBM"
          ]
         ],
         "hovertemplate": "model=%{customdata[0]}<br>train_fair=%{x}<br>train_model=%{y}<extra></extra>",
         "legendgroup": "GBM",
         "marker": {
          "color": "#636efa",
          "symbol": "square"
         },
         "mode": "markers",
         "name": "GBM",
         "orientation": "v",
         "showlegend": true,
         "type": "scatter",
         "x": [
          0.1471191724175423,
          0.14726712861991129,
          0.15583733339559255
         ],
         "xaxis": "x",
         "y": [
          0.6492764919070839,
          0.6507017955653762,
          0.6694092508529749
         ],
         "yaxis": "y"
        }
       ],
       "layout": {
        "legend": {
         "title": {
          "text": "model"
         },
         "tracegroupgap": 0
        },
        "margin": {
         "t": 60
        },
        "template": {
         "data": {
          "bar": [
           {
            "error_x": {
             "color": "#2a3f5f"
            },
            "error_y": {
             "color": "#2a3f5f"
            },
            "marker": {
             "line": {
              "color": "#E5ECF6",
              "width": 0.5
             },
             "pattern": {
              "fillmode": "overlay",
              "size": 10,
              "solidity": 0.2
             }
            },
            "type": "bar"
           }
          ],
          "barpolar": [
           {
            "marker": {
             "line": {
              "color": "#E5ECF6",
              "width": 0.5
             },
             "pattern": {
              "fillmode": "overlay",
              "size": 10,
              "solidity": 0.2
             }
            },
            "type": "barpolar"
           }
          ],
          "carpet": [
           {
            "aaxis": {
             "endlinecolor": "#2a3f5f",
             "gridcolor": "white",
             "linecolor": "white",
             "minorgridcolor": "white",
             "startlinecolor": "#2a3f5f"
            },
            "baxis": {
             "endlinecolor": "#2a3f5f",
             "gridcolor": "white",
             "linecolor": "white",
             "minorgridcolor": "white",
             "startlinecolor": "#2a3f5f"
            },
            "type": "carpet"
           }
          ],
          "choropleth": [
           {
            "colorbar": {
             "outlinewidth": 0,
             "ticks": ""
            },
            "type": "choropleth"
           }
          ],
          "contour": [
           {
            "colorbar": {
             "outlinewidth": 0,
             "ticks": ""
            },
            "colorscale": [
             [
              0,
              "#0d0887"
             ],
             [
              0.1111111111111111,
              "#46039f"
             ],
             [
              0.2222222222222222,
              "#7201a8"
             ],
             [
              0.3333333333333333,
              "#9c179e"
             ],
             [
              0.4444444444444444,
              "#bd3786"
             ],
             [
              0.5555555555555556,
              "#d8576b"
             ],
             [
              0.6666666666666666,
              "#ed7953"
             ],
             [
              0.7777777777777778,
              "#fb9f3a"
             ],
             [
              0.8888888888888888,
              "#fdca26"
             ],
             [
              1,
              "#f0f921"
             ]
            ],
            "type": "contour"
           }
          ],
          "contourcarpet": [
           {
            "colorbar": {
             "outlinewidth": 0,
             "ticks": ""
            },
            "type": "contourcarpet"
           }
          ],
          "heatmap": [
           {
            "colorbar": {
             "outlinewidth": 0,
             "ticks": ""
            },
            "colorscale": [
             [
              0,
              "#0d0887"
             ],
             [
              0.1111111111111111,
              "#46039f"
             ],
             [
              0.2222222222222222,
              "#7201a8"
             ],
             [
              0.3333333333333333,
              "#9c179e"
             ],
             [
              0.4444444444444444,
              "#bd3786"
             ],
             [
              0.5555555555555556,
              "#d8576b"
             ],
             [
              0.6666666666666666,
              "#ed7953"
             ],
             [
              0.7777777777777778,
              "#fb9f3a"
             ],
             [
              0.8888888888888888,
              "#fdca26"
             ],
             [
              1,
              "#f0f921"
             ]
            ],
            "type": "heatmap"
           }
          ],
          "heatmapgl": [
           {
            "colorbar": {
             "outlinewidth": 0,
             "ticks": ""
            },
            "colorscale": [
             [
              0,
              "#0d0887"
             ],
             [
              0.1111111111111111,
              "#46039f"
             ],
             [
              0.2222222222222222,
              "#7201a8"
             ],
             [
              0.3333333333333333,
              "#9c179e"
             ],
             [
              0.4444444444444444,
              "#bd3786"
             ],
             [
              0.5555555555555556,
              "#d8576b"
             ],
             [
              0.6666666666666666,
              "#ed7953"
             ],
             [
              0.7777777777777778,
              "#fb9f3a"
             ],
             [
              0.8888888888888888,
              "#fdca26"
             ],
             [
              1,
              "#f0f921"
             ]
            ],
            "type": "heatmapgl"
           }
          ],
          "histogram": [
           {
            "marker": {
             "pattern": {
              "fillmode": "overlay",
              "size": 10,
              "solidity": 0.2
             }
            },
            "type": "histogram"
           }
          ],
          "histogram2d": [
           {
            "colorbar": {
             "outlinewidth": 0,
             "ticks": ""
            },
            "colorscale": [
             [
              0,
              "#0d0887"
             ],
             [
              0.1111111111111111,
              "#46039f"
             ],
             [
              0.2222222222222222,
              "#7201a8"
             ],
             [
              0.3333333333333333,
              "#9c179e"
             ],
             [
              0.4444444444444444,
              "#bd3786"
             ],
             [
              0.5555555555555556,
              "#d8576b"
             ],
             [
              0.6666666666666666,
              "#ed7953"
             ],
             [
              0.7777777777777778,
              "#fb9f3a"
             ],
             [
              0.8888888888888888,
              "#fdca26"
             ],
             [
              1,
              "#f0f921"
             ]
            ],
            "type": "histogram2d"
           }
          ],
          "histogram2dcontour": [
           {
            "colorbar": {
             "outlinewidth": 0,
             "ticks": ""
            },
            "colorscale": [
             [
              0,
              "#0d0887"
             ],
             [
              0.1111111111111111,
              "#46039f"
             ],
             [
              0.2222222222222222,
              "#7201a8"
             ],
             [
              0.3333333333333333,
              "#9c179e"
             ],
             [
              0.4444444444444444,
              "#bd3786"
             ],
             [
              0.5555555555555556,
              "#d8576b"
             ],
             [
              0.6666666666666666,
              "#ed7953"
             ],
             [
              0.7777777777777778,
              "#fb9f3a"
             ],
             [
              0.8888888888888888,
              "#fdca26"
             ],
             [
              1,
              "#f0f921"
             ]
            ],
            "type": "histogram2dcontour"
           }
          ],
          "mesh3d": [
           {
            "colorbar": {
             "outlinewidth": 0,
             "ticks": ""
            },
            "type": "mesh3d"
           }
          ],
          "parcoords": [
           {
            "line": {
             "colorbar": {
              "outlinewidth": 0,
              "ticks": ""
             }
            },
            "type": "parcoords"
           }
          ],
          "pie": [
           {
            "automargin": true,
            "type": "pie"
           }
          ],
          "scatter": [
           {
            "fillpattern": {
             "fillmode": "overlay",
             "size": 10,
             "solidity": 0.2
            },
            "type": "scatter"
           }
          ],
          "scatter3d": [
           {
            "line": {
             "colorbar": {
              "outlinewidth": 0,
              "ticks": ""
             }
            },
            "marker": {
             "colorbar": {
              "outlinewidth": 0,
              "ticks": ""
             }
            },
            "type": "scatter3d"
           }
          ],
          "scattercarpet": [
           {
            "marker": {
             "colorbar": {
              "outlinewidth": 0,
              "ticks": ""
             }
            },
            "type": "scattercarpet"
           }
          ],
          "scattergeo": [
           {
            "marker": {
             "colorbar": {
              "outlinewidth": 0,
              "ticks": ""
             }
            },
            "type": "scattergeo"
           }
          ],
          "scattergl": [
           {
            "marker": {
             "colorbar": {
              "outlinewidth": 0,
              "ticks": ""
             }
            },
            "type": "scattergl"
           }
          ],
          "scattermapbox": [
           {
            "marker": {
             "colorbar": {
              "outlinewidth": 0,
              "ticks": ""
             }
            },
            "type": "scattermapbox"
           }
          ],
          "scatterpolar": [
           {
            "marker": {
             "colorbar": {
              "outlinewidth": 0,
              "ticks": ""
             }
            },
            "type": "scatterpolar"
           }
          ],
          "scatterpolargl": [
           {
            "marker": {
             "colorbar": {
              "outlinewidth": 0,
              "ticks": ""
             }
            },
            "type": "scatterpolargl"
           }
          ],
          "scatterternary": [
           {
            "marker": {
             "colorbar": {
              "outlinewidth": 0,
              "ticks": ""
             }
            },
            "type": "scatterternary"
           }
          ],
          "surface": [
           {
            "colorbar": {
             "outlinewidth": 0,
             "ticks": ""
            },
            "colorscale": [
             [
              0,
              "#0d0887"
             ],
             [
              0.1111111111111111,
              "#46039f"
             ],
             [
              0.2222222222222222,
              "#7201a8"
             ],
             [
              0.3333333333333333,
              "#9c179e"
             ],
             [
              0.4444444444444444,
              "#bd3786"
             ],
             [
              0.5555555555555556,
              "#d8576b"
             ],
             [
              0.6666666666666666,
              "#ed7953"
             ],
             [
              0.7777777777777778,
              "#fb9f3a"
             ],
             [
              0.8888888888888888,
              "#fdca26"
             ],
             [
              1,
              "#f0f921"
             ]
            ],
            "type": "surface"
           }
          ],
          "table": [
           {
            "cells": {
             "fill": {
              "color": "#EBF0F8"
             },
             "line": {
              "color": "white"
             }
            },
            "header": {
             "fill": {
              "color": "#C8D4E3"
             },
             "line": {
              "color": "white"
             }
            },
            "type": "table"
           }
          ]
         },
         "layout": {
          "annotationdefaults": {
           "arrowcolor": "#2a3f5f",
           "arrowhead": 0,
           "arrowwidth": 1
          },
          "autotypenumbers": "strict",
          "coloraxis": {
           "colorbar": {
            "outlinewidth": 0,
            "ticks": ""
           }
          },
          "colorscale": {
           "diverging": [
            [
             0,
             "#8e0152"
            ],
            [
             0.1,
             "#c51b7d"
            ],
            [
             0.2,
             "#de77ae"
            ],
            [
             0.3,
             "#f1b6da"
            ],
            [
             0.4,
             "#fde0ef"
            ],
            [
             0.5,
             "#f7f7f7"
            ],
            [
             0.6,
             "#e6f5d0"
            ],
            [
             0.7,
             "#b8e186"
            ],
            [
             0.8,
             "#7fbc41"
            ],
            [
             0.9,
             "#4d9221"
            ],
            [
             1,
             "#276419"
            ]
           ],
           "sequential": [
            [
             0,
             "#0d0887"
            ],
            [
             0.1111111111111111,
             "#46039f"
            ],
            [
             0.2222222222222222,
             "#7201a8"
            ],
            [
             0.3333333333333333,
             "#9c179e"
            ],
            [
             0.4444444444444444,
             "#bd3786"
            ],
            [
             0.5555555555555556,
             "#d8576b"
            ],
            [
             0.6666666666666666,
             "#ed7953"
            ],
            [
             0.7777777777777778,
             "#fb9f3a"
            ],
            [
             0.8888888888888888,
             "#fdca26"
            ],
            [
             1,
             "#f0f921"
            ]
           ],
           "sequentialminus": [
            [
             0,
             "#0d0887"
            ],
            [
             0.1111111111111111,
             "#46039f"
            ],
            [
             0.2222222222222222,
             "#7201a8"
            ],
            [
             0.3333333333333333,
             "#9c179e"
            ],
            [
             0.4444444444444444,
             "#bd3786"
            ],
            [
             0.5555555555555556,
             "#d8576b"
            ],
            [
             0.6666666666666666,
             "#ed7953"
            ],
            [
             0.7777777777777778,
             "#fb9f3a"
            ],
            [
             0.8888888888888888,
             "#fdca26"
            ],
            [
             1,
             "#f0f921"
            ]
           ]
          },
          "colorway": [
           "#636efa",
           "#EF553B",
           "#00cc96",
           "#ab63fa",
           "#FFA15A",
           "#19d3f3",
           "#FF6692",
           "#B6E880",
           "#FF97FF",
           "#FECB52"
          ],
          "font": {
           "color": "#2a3f5f"
          },
          "geo": {
           "bgcolor": "white",
           "lakecolor": "white",
           "landcolor": "#E5ECF6",
           "showlakes": true,
           "showland": true,
           "subunitcolor": "white"
          },
          "hoverlabel": {
           "align": "left"
          },
          "hovermode": "closest",
          "mapbox": {
           "style": "light"
          },
          "paper_bgcolor": "white",
          "plot_bgcolor": "#E5ECF6",
          "polar": {
           "angularaxis": {
            "gridcolor": "white",
            "linecolor": "white",
            "ticks": ""
           },
           "bgcolor": "#E5ECF6",
           "radialaxis": {
            "gridcolor": "white",
            "linecolor": "white",
            "ticks": ""
           }
          },
          "scene": {
           "xaxis": {
            "backgroundcolor": "#E5ECF6",
            "gridcolor": "white",
            "gridwidth": 2,
            "linecolor": "white",
            "showbackground": true,
            "ticks": "",
            "zerolinecolor": "white"
           },
           "yaxis": {
            "backgroundcolor": "#E5ECF6",
            "gridcolor": "white",
            "gridwidth": 2,
            "linecolor": "white",
            "showbackground": true,
            "ticks": "",
            "zerolinecolor": "white"
           },
           "zaxis": {
            "backgroundcolor": "#E5ECF6",
            "gridcolor": "white",
            "gridwidth": 2,
            "linecolor": "white",
            "showbackground": true,
            "ticks": "",
            "zerolinecolor": "white"
           }
          },
          "shapedefaults": {
           "line": {
            "color": "#2a3f5f"
           }
          },
          "ternary": {
           "aaxis": {
            "gridcolor": "white",
            "linecolor": "white",
            "ticks": ""
           },
           "baxis": {
            "gridcolor": "white",
            "linecolor": "white",
            "ticks": ""
           },
           "bgcolor": "#E5ECF6",
           "caxis": {
            "gridcolor": "white",
            "linecolor": "white",
            "ticks": ""
           }
          },
          "title": {
           "x": 0.05
          },
          "xaxis": {
           "automargin": true,
           "gridcolor": "white",
           "linecolor": "white",
           "ticks": "",
           "title": {
            "standoff": 15
           },
           "zerolinecolor": "white",
           "zerolinewidth": 2
          },
          "yaxis": {
           "automargin": true,
           "gridcolor": "white",
           "linecolor": "white",
           "ticks": "",
           "title": {
            "standoff": 15
           },
           "zerolinecolor": "white",
           "zerolinewidth": 2
          }
         }
        },
        "xaxis": {
         "anchor": "y",
         "domain": [
          0,
          1
         ],
         "title": {
          "text": "train_fair"
         }
        },
        "yaxis": {
         "anchor": "x",
         "domain": [
          0,
          1
         ],
         "title": {
          "text": "train_model"
         }
        }
       }
      },
      "text/html": [
       "<div>                            <div id=\"fe501059-2bd3-4480-9cbd-eb4381fa2837\" class=\"plotly-graph-div\" style=\"height:525px; width:100%;\"></div>            <script type=\"text/javascript\">                require([\"plotly\"], function(Plotly) {                    window.PLOTLYENV=window.PLOTLYENV || {};                                    if (document.getElementById(\"fe501059-2bd3-4480-9cbd-eb4381fa2837\")) {                    Plotly.newPlot(                        \"fe501059-2bd3-4480-9cbd-eb4381fa2837\",                        [{\"customdata\":[[\"RF\"],[\"RF\"],[\"RF\"],[\"RF\"],[\"RF\"],[\"RF\"],[\"RF\"],[\"RF\"],[\"RF\"],[\"RF\"],[\"RF\"],[\"RF\"],[\"RF\"]],\"hovertemplate\":\"model=%{customdata[0]}<br>train_fair=%{x}<br>train_model=%{y}<extra></extra>\",\"legendgroup\":\"RF\",\"marker\":{\"color\":\"#636efa\",\"symbol\":\"circle\"},\"mode\":\"markers\",\"name\":\"RF\",\"orientation\":\"v\",\"showlegend\":true,\"x\":[0.0006043453401943968,0.015835777036331926,0.017199430462979018,0.025734954333878384,0.028526457694635476,0.029606008591919048,0.03265073570041173,0.03400739456528039,0.034155388985479186,0.03740151261242263,0.0395134259058119,0.041228564454003594,0.05117881810248072],\"xaxis\":\"x\",\"y\":[0.003406069954180466,0.08348364009045559,0.09119536072194216,0.13628974566979832,0.1516307124439352,0.15671533193829218,0.1690361824705841,0.1916809620921305,0.1956506135255074,0.2190391835915082,0.220304905638346,0.22446850792802917,0.27476604440332936],\"yaxis\":\"y\",\"type\":\"scatter\"},{\"customdata\":[[\"LGBM\"],[\"LGBM\"],[\"LGBM\"],[\"LGBM\"],[\"LGBM\"],[\"LGBM\"],[\"LGBM\"],[\"LGBM\"],[\"LGBM\"],[\"LGBM\"],[\"LGBM\"],[\"LGBM\"],[\"LGBM\"]],\"hovertemplate\":\"model=%{customdata[0]}<br>train_fair=%{x}<br>train_model=%{y}<extra></extra>\",\"legendgroup\":\"LGBM\",\"marker\":{\"color\":\"#636efa\",\"symbol\":\"diamond\"},\"mode\":\"markers\",\"name\":\"LGBM\",\"orientation\":\"v\",\"showlegend\":true,\"x\":[0.010207096204361728,0.05273951785115906,0.08449842204379632,0.10740823212189159,0.11466387385901407,0.13423651839351414,0.13976857969207193,0.14458051414213738,0.15408285828344281,0.15654277736416844,0.1575944482475095,0.163036534419635,0.16694977361368127],\"xaxis\":\"x\",\"y\":[0.06739663328722449,0.3469545486700884,0.4650190387512157,0.5617151683524966,0.577757022013953,0.6199567189828541,0.6400201159545355,0.6448217624349957,0.6575394929340137,0.6884158995929688,0.691333778128108,0.6913705947360904,0.6951408110333032],\"yaxis\":\"y\",\"type\":\"scatter\"},{\"customdata\":[[\"GBM\"],[\"GBM\"],[\"GBM\"]],\"hovertemplate\":\"model=%{customdata[0]}<br>train_fair=%{x}<br>train_model=%{y}<extra></extra>\",\"legendgroup\":\"GBM\",\"marker\":{\"color\":\"#636efa\",\"symbol\":\"square\"},\"mode\":\"markers\",\"name\":\"GBM\",\"orientation\":\"v\",\"showlegend\":true,\"x\":[0.1471191724175423,0.14726712861991129,0.15583733339559255],\"xaxis\":\"x\",\"y\":[0.6492764919070839,0.6507017955653762,0.6694092508529749],\"yaxis\":\"y\",\"type\":\"scatter\"}],                        {\"template\":{\"data\":{\"histogram2dcontour\":[{\"type\":\"histogram2dcontour\",\"colorbar\":{\"outlinewidth\":0,\"ticks\":\"\"},\"colorscale\":[[0.0,\"#0d0887\"],[0.1111111111111111,\"#46039f\"],[0.2222222222222222,\"#7201a8\"],[0.3333333333333333,\"#9c179e\"],[0.4444444444444444,\"#bd3786\"],[0.5555555555555556,\"#d8576b\"],[0.6666666666666666,\"#ed7953\"],[0.7777777777777778,\"#fb9f3a\"],[0.8888888888888888,\"#fdca26\"],[1.0,\"#f0f921\"]]}],\"choropleth\":[{\"type\":\"choropleth\",\"colorbar\":{\"outlinewidth\":0,\"ticks\":\"\"}}],\"histogram2d\":[{\"type\":\"histogram2d\",\"colorbar\":{\"outlinewidth\":0,\"ticks\":\"\"},\"colorscale\":[[0.0,\"#0d0887\"],[0.1111111111111111,\"#46039f\"],[0.2222222222222222,\"#7201a8\"],[0.3333333333333333,\"#9c179e\"],[0.4444444444444444,\"#bd3786\"],[0.5555555555555556,\"#d8576b\"],[0.6666666666666666,\"#ed7953\"],[0.7777777777777778,\"#fb9f3a\"],[0.8888888888888888,\"#fdca26\"],[1.0,\"#f0f921\"]]}],\"heatmap\":[{\"type\":\"heatmap\",\"colorbar\":{\"outlinewidth\":0,\"ticks\":\"\"},\"colorscale\":[[0.0,\"#0d0887\"],[0.1111111111111111,\"#46039f\"],[0.2222222222222222,\"#7201a8\"],[0.3333333333333333,\"#9c179e\"],[0.4444444444444444,\"#bd3786\"],[0.5555555555555556,\"#d8576b\"],[0.6666666666666666,\"#ed7953\"],[0.7777777777777778,\"#fb9f3a\"],[0.8888888888888888,\"#fdca26\"],[1.0,\"#f0f921\"]]}],\"heatmapgl\":[{\"type\":\"heatmapgl\",\"colorbar\":{\"outlinewidth\":0,\"ticks\":\"\"},\"colorscale\":[[0.0,\"#0d0887\"],[0.1111111111111111,\"#46039f\"],[0.2222222222222222,\"#7201a8\"],[0.3333333333333333,\"#9c179e\"],[0.4444444444444444,\"#bd3786\"],[0.5555555555555556,\"#d8576b\"],[0.6666666666666666,\"#ed7953\"],[0.7777777777777778,\"#fb9f3a\"],[0.8888888888888888,\"#fdca26\"],[1.0,\"#f0f921\"]]}],\"contourcarpet\":[{\"type\":\"contourcarpet\",\"colorbar\":{\"outlinewidth\":0,\"ticks\":\"\"}}],\"contour\":[{\"type\":\"contour\",\"colorbar\":{\"outlinewidth\":0,\"ticks\":\"\"},\"colorscale\":[[0.0,\"#0d0887\"],[0.1111111111111111,\"#46039f\"],[0.2222222222222222,\"#7201a8\"],[0.3333333333333333,\"#9c179e\"],[0.4444444444444444,\"#bd3786\"],[0.5555555555555556,\"#d8576b\"],[0.6666666666666666,\"#ed7953\"],[0.7777777777777778,\"#fb9f3a\"],[0.8888888888888888,\"#fdca26\"],[1.0,\"#f0f921\"]]}],\"surface\":[{\"type\":\"surface\",\"colorbar\":{\"outlinewidth\":0,\"ticks\":\"\"},\"colorscale\":[[0.0,\"#0d0887\"],[0.1111111111111111,\"#46039f\"],[0.2222222222222222,\"#7201a8\"],[0.3333333333333333,\"#9c179e\"],[0.4444444444444444,\"#bd3786\"],[0.5555555555555556,\"#d8576b\"],[0.6666666666666666,\"#ed7953\"],[0.7777777777777778,\"#fb9f3a\"],[0.8888888888888888,\"#fdca26\"],[1.0,\"#f0f921\"]]}],\"mesh3d\":[{\"type\":\"mesh3d\",\"colorbar\":{\"outlinewidth\":0,\"ticks\":\"\"}}],\"scatter\":[{\"fillpattern\":{\"fillmode\":\"overlay\",\"size\":10,\"solidity\":0.2},\"type\":\"scatter\"}],\"parcoords\":[{\"type\":\"parcoords\",\"line\":{\"colorbar\":{\"outlinewidth\":0,\"ticks\":\"\"}}}],\"scatterpolargl\":[{\"type\":\"scatterpolargl\",\"marker\":{\"colorbar\":{\"outlinewidth\":0,\"ticks\":\"\"}}}],\"bar\":[{\"error_x\":{\"color\":\"#2a3f5f\"},\"error_y\":{\"color\":\"#2a3f5f\"},\"marker\":{\"line\":{\"color\":\"#E5ECF6\",\"width\":0.5},\"pattern\":{\"fillmode\":\"overlay\",\"size\":10,\"solidity\":0.2}},\"type\":\"bar\"}],\"scattergeo\":[{\"type\":\"scattergeo\",\"marker\":{\"colorbar\":{\"outlinewidth\":0,\"ticks\":\"\"}}}],\"scatterpolar\":[{\"type\":\"scatterpolar\",\"marker\":{\"colorbar\":{\"outlinewidth\":0,\"ticks\":\"\"}}}],\"histogram\":[{\"marker\":{\"pattern\":{\"fillmode\":\"overlay\",\"size\":10,\"solidity\":0.2}},\"type\":\"histogram\"}],\"scattergl\":[{\"type\":\"scattergl\",\"marker\":{\"colorbar\":{\"outlinewidth\":0,\"ticks\":\"\"}}}],\"scatter3d\":[{\"type\":\"scatter3d\",\"line\":{\"colorbar\":{\"outlinewidth\":0,\"ticks\":\"\"}},\"marker\":{\"colorbar\":{\"outlinewidth\":0,\"ticks\":\"\"}}}],\"scattermapbox\":[{\"type\":\"scattermapbox\",\"marker\":{\"colorbar\":{\"outlinewidth\":0,\"ticks\":\"\"}}}],\"scatterternary\":[{\"type\":\"scatterternary\",\"marker\":{\"colorbar\":{\"outlinewidth\":0,\"ticks\":\"\"}}}],\"scattercarpet\":[{\"type\":\"scattercarpet\",\"marker\":{\"colorbar\":{\"outlinewidth\":0,\"ticks\":\"\"}}}],\"carpet\":[{\"aaxis\":{\"endlinecolor\":\"#2a3f5f\",\"gridcolor\":\"white\",\"linecolor\":\"white\",\"minorgridcolor\":\"white\",\"startlinecolor\":\"#2a3f5f\"},\"baxis\":{\"endlinecolor\":\"#2a3f5f\",\"gridcolor\":\"white\",\"linecolor\":\"white\",\"minorgridcolor\":\"white\",\"startlinecolor\":\"#2a3f5f\"},\"type\":\"carpet\"}],\"table\":[{\"cells\":{\"fill\":{\"color\":\"#EBF0F8\"},\"line\":{\"color\":\"white\"}},\"header\":{\"fill\":{\"color\":\"#C8D4E3\"},\"line\":{\"color\":\"white\"}},\"type\":\"table\"}],\"barpolar\":[{\"marker\":{\"line\":{\"color\":\"#E5ECF6\",\"width\":0.5},\"pattern\":{\"fillmode\":\"overlay\",\"size\":10,\"solidity\":0.2}},\"type\":\"barpolar\"}],\"pie\":[{\"automargin\":true,\"type\":\"pie\"}]},\"layout\":{\"autotypenumbers\":\"strict\",\"colorway\":[\"#636efa\",\"#EF553B\",\"#00cc96\",\"#ab63fa\",\"#FFA15A\",\"#19d3f3\",\"#FF6692\",\"#B6E880\",\"#FF97FF\",\"#FECB52\"],\"font\":{\"color\":\"#2a3f5f\"},\"hovermode\":\"closest\",\"hoverlabel\":{\"align\":\"left\"},\"paper_bgcolor\":\"white\",\"plot_bgcolor\":\"#E5ECF6\",\"polar\":{\"bgcolor\":\"#E5ECF6\",\"angularaxis\":{\"gridcolor\":\"white\",\"linecolor\":\"white\",\"ticks\":\"\"},\"radialaxis\":{\"gridcolor\":\"white\",\"linecolor\":\"white\",\"ticks\":\"\"}},\"ternary\":{\"bgcolor\":\"#E5ECF6\",\"aaxis\":{\"gridcolor\":\"white\",\"linecolor\":\"white\",\"ticks\":\"\"},\"baxis\":{\"gridcolor\":\"white\",\"linecolor\":\"white\",\"ticks\":\"\"},\"caxis\":{\"gridcolor\":\"white\",\"linecolor\":\"white\",\"ticks\":\"\"}},\"coloraxis\":{\"colorbar\":{\"outlinewidth\":0,\"ticks\":\"\"}},\"colorscale\":{\"sequential\":[[0.0,\"#0d0887\"],[0.1111111111111111,\"#46039f\"],[0.2222222222222222,\"#7201a8\"],[0.3333333333333333,\"#9c179e\"],[0.4444444444444444,\"#bd3786\"],[0.5555555555555556,\"#d8576b\"],[0.6666666666666666,\"#ed7953\"],[0.7777777777777778,\"#fb9f3a\"],[0.8888888888888888,\"#fdca26\"],[1.0,\"#f0f921\"]],\"sequentialminus\":[[0.0,\"#0d0887\"],[0.1111111111111111,\"#46039f\"],[0.2222222222222222,\"#7201a8\"],[0.3333333333333333,\"#9c179e\"],[0.4444444444444444,\"#bd3786\"],[0.5555555555555556,\"#d8576b\"],[0.6666666666666666,\"#ed7953\"],[0.7777777777777778,\"#fb9f3a\"],[0.8888888888888888,\"#fdca26\"],[1.0,\"#f0f921\"]],\"diverging\":[[0,\"#8e0152\"],[0.1,\"#c51b7d\"],[0.2,\"#de77ae\"],[0.3,\"#f1b6da\"],[0.4,\"#fde0ef\"],[0.5,\"#f7f7f7\"],[0.6,\"#e6f5d0\"],[0.7,\"#b8e186\"],[0.8,\"#7fbc41\"],[0.9,\"#4d9221\"],[1,\"#276419\"]]},\"xaxis\":{\"gridcolor\":\"white\",\"linecolor\":\"white\",\"ticks\":\"\",\"title\":{\"standoff\":15},\"zerolinecolor\":\"white\",\"automargin\":true,\"zerolinewidth\":2},\"yaxis\":{\"gridcolor\":\"white\",\"linecolor\":\"white\",\"ticks\":\"\",\"title\":{\"standoff\":15},\"zerolinecolor\":\"white\",\"automargin\":true,\"zerolinewidth\":2},\"scene\":{\"xaxis\":{\"backgroundcolor\":\"#E5ECF6\",\"gridcolor\":\"white\",\"linecolor\":\"white\",\"showbackground\":true,\"ticks\":\"\",\"zerolinecolor\":\"white\",\"gridwidth\":2},\"yaxis\":{\"backgroundcolor\":\"#E5ECF6\",\"gridcolor\":\"white\",\"linecolor\":\"white\",\"showbackground\":true,\"ticks\":\"\",\"zerolinecolor\":\"white\",\"gridwidth\":2},\"zaxis\":{\"backgroundcolor\":\"#E5ECF6\",\"gridcolor\":\"white\",\"linecolor\":\"white\",\"showbackground\":true,\"ticks\":\"\",\"zerolinecolor\":\"white\",\"gridwidth\":2}},\"shapedefaults\":{\"line\":{\"color\":\"#2a3f5f\"}},\"annotationdefaults\":{\"arrowcolor\":\"#2a3f5f\",\"arrowhead\":0,\"arrowwidth\":1},\"geo\":{\"bgcolor\":\"white\",\"landcolor\":\"#E5ECF6\",\"subunitcolor\":\"white\",\"showland\":true,\"showlakes\":true,\"lakecolor\":\"white\"},\"title\":{\"x\":0.05},\"mapbox\":{\"style\":\"light\"}}},\"xaxis\":{\"anchor\":\"y\",\"domain\":[0.0,1.0],\"title\":{\"text\":\"train_fair\"}},\"yaxis\":{\"anchor\":\"x\",\"domain\":[0.0,1.0],\"title\":{\"text\":\"train_model\"}},\"legend\":{\"title\":{\"text\":\"model\"},\"tracegroupgap\":0},\"margin\":{\"t\":60}},                        {\"responsive\": true}                    ).then(function(){\n",
       "                            \n",
       "var gd = document.getElementById('fe501059-2bd3-4480-9cbd-eb4381fa2837');\n",
       "var x = new MutationObserver(function (mutations, observer) {{\n",
       "        var display = window.getComputedStyle(gd).display;\n",
       "        if (!display || display === 'none') {{\n",
       "            console.log([gd, 'removed!']);\n",
       "            Plotly.purge(gd);\n",
       "            observer.disconnect();\n",
       "        }}\n",
       "}});\n",
       "\n",
       "// Listen for the removal of the full notebook cells\n",
       "var notebookContainer = gd.closest('#notebook-container');\n",
       "if (notebookContainer) {{\n",
       "    x.observe(notebookContainer, {childList: true});\n",
       "}}\n",
       "\n",
       "// Listen for the clearing of the current output cell\n",
       "var outputEl = gd.closest('.output');\n",
       "if (outputEl) {{\n",
       "    x.observe(outputEl, {childList: true});\n",
       "}}\n",
       "\n",
       "                        })                };                });            </script>        </div>"
      ]
     },
     "metadata": {},
     "output_type": "display_data"
    }
   ],
   "source": [
    "import plotly.express as px\n",
    "\n",
    "df_metrics_sorted = df_metrics.sort_values(['train_fair'])\n",
    "fig = px.scatter(\n",
    "    df_metrics_sorted,\n",
    "    x= 'train_fair', \n",
    "    y= 'train_model', \n",
    "    hover_data=['model'], \n",
    "    symbol='model')\n",
    "fig.show()"
   ]
  },
  {
   "cell_type": "code",
   "execution_count": 108,
   "metadata": {},
   "outputs": [
    {
     "data": {
      "application/vnd.plotly.v1+json": {
       "config": {
        "plotlyServerURL": "https://plot.ly"
       },
       "data": [
        {
         "hovertemplate": "Ranking: %{x}<br>F1 score (train): %{y:,.3f}<br>Model: %{customdata}",
         "marker": {
          "color": "#4682B4"
         },
         "mode": "markers",
         "type": "scatter",
         "x": [
          0,
          1,
          2,
          3,
          4,
          5,
          6,
          7,
          8,
          9,
          10,
          11,
          12,
          13,
          14,
          15,
          16,
          17,
          18,
          19,
          20,
          21,
          22,
          23,
          24,
          25,
          26,
          27,
          28
         ],
         "y": [
          0.003406069954180466,
          0.06739663328722449,
          0.08348364009045559,
          0.09119536072194216,
          0.13628974566979832,
          0.1516307124439352,
          0.15671533193829218,
          0.1690361824705841,
          0.1916809620921305,
          0.1956506135255074,
          0.2190391835915082,
          0.220304905638346,
          0.22446850792802917,
          0.27476604440332936,
          0.3469545486700884,
          0.4650190387512157,
          0.5617151683524966,
          0.577757022013953,
          0.6199567189828541,
          0.6400201159545355,
          0.6448217624349957,
          0.6492764919070839,
          0.6507017955653762,
          0.6575394929340137,
          0.6694092508529749,
          0.6884158995929688,
          0.691333778128108,
          0.6913705947360904,
          0.6951408110333032
         ]
        },
        {
         "customdata": [
          "RF",
          "LGBM",
          "RF",
          "RF",
          "RF",
          "RF",
          "RF",
          "RF",
          "RF",
          "RF",
          "RF",
          "RF",
          "RF",
          "RF",
          "LGBM",
          "LGBM",
          "LGBM",
          "LGBM",
          "LGBM",
          "LGBM",
          "LGBM",
          "GBM",
          "GBM",
          "LGBM",
          "GBM",
          "LGBM",
          "LGBM",
          "LGBM",
          "LGBM"
         ],
         "hovertemplate": "Ranking: %{x}<br>F1 score (test): %{y:,.3f}<br>Model: %{customdata}",
         "marker": {
          "color": "#87CEEB"
         },
         "mode": "markers",
         "type": "scatter",
         "x": [
          0,
          1,
          2,
          3,
          4,
          5,
          6,
          7,
          8,
          9,
          10,
          11,
          12,
          13,
          14,
          15,
          16,
          17,
          18,
          19,
          20,
          21,
          22,
          23,
          24,
          25,
          26,
          27,
          28
         ],
         "y": [
          0,
          0.17767387492694328,
          0.044950867656282666,
          0.13445042888489925,
          0.15159600751062358,
          0.17429491558504925,
          0.17038341158059467,
          0.16285237206561243,
          0.19795879067976122,
          0.19502314814814814,
          0.22892819979188347,
          0.2403909407010619,
          0.23745410036719705,
          0.31421754882035874,
          0.3531550246689172,
          0.4869957950475004,
          0.5805081746761979,
          0.5927774312053787,
          0.623731048121292,
          0.6454504706409683,
          0.6505369551484522,
          0.6535235949430468,
          0.6535694175061003,
          0.6736753574432296,
          0.6757336273969246,
          0.6962477316630568,
          0.6976798550639939,
          0.6910927882940424,
          0.6961319411485524
         ]
        }
       ],
       "layout": {
        "template": {
         "data": {
          "bar": [
           {
            "error_x": {
             "color": "#2a3f5f"
            },
            "error_y": {
             "color": "#2a3f5f"
            },
            "marker": {
             "line": {
              "color": "#E5ECF6",
              "width": 0.5
             },
             "pattern": {
              "fillmode": "overlay",
              "size": 10,
              "solidity": 0.2
             }
            },
            "type": "bar"
           }
          ],
          "barpolar": [
           {
            "marker": {
             "line": {
              "color": "#E5ECF6",
              "width": 0.5
             },
             "pattern": {
              "fillmode": "overlay",
              "size": 10,
              "solidity": 0.2
             }
            },
            "type": "barpolar"
           }
          ],
          "carpet": [
           {
            "aaxis": {
             "endlinecolor": "#2a3f5f",
             "gridcolor": "white",
             "linecolor": "white",
             "minorgridcolor": "white",
             "startlinecolor": "#2a3f5f"
            },
            "baxis": {
             "endlinecolor": "#2a3f5f",
             "gridcolor": "white",
             "linecolor": "white",
             "minorgridcolor": "white",
             "startlinecolor": "#2a3f5f"
            },
            "type": "carpet"
           }
          ],
          "choropleth": [
           {
            "colorbar": {
             "outlinewidth": 0,
             "ticks": ""
            },
            "type": "choropleth"
           }
          ],
          "contour": [
           {
            "colorbar": {
             "outlinewidth": 0,
             "ticks": ""
            },
            "colorscale": [
             [
              0,
              "#0d0887"
             ],
             [
              0.1111111111111111,
              "#46039f"
             ],
             [
              0.2222222222222222,
              "#7201a8"
             ],
             [
              0.3333333333333333,
              "#9c179e"
             ],
             [
              0.4444444444444444,
              "#bd3786"
             ],
             [
              0.5555555555555556,
              "#d8576b"
             ],
             [
              0.6666666666666666,
              "#ed7953"
             ],
             [
              0.7777777777777778,
              "#fb9f3a"
             ],
             [
              0.8888888888888888,
              "#fdca26"
             ],
             [
              1,
              "#f0f921"
             ]
            ],
            "type": "contour"
           }
          ],
          "contourcarpet": [
           {
            "colorbar": {
             "outlinewidth": 0,
             "ticks": ""
            },
            "type": "contourcarpet"
           }
          ],
          "heatmap": [
           {
            "colorbar": {
             "outlinewidth": 0,
             "ticks": ""
            },
            "colorscale": [
             [
              0,
              "#0d0887"
             ],
             [
              0.1111111111111111,
              "#46039f"
             ],
             [
              0.2222222222222222,
              "#7201a8"
             ],
             [
              0.3333333333333333,
              "#9c179e"
             ],
             [
              0.4444444444444444,
              "#bd3786"
             ],
             [
              0.5555555555555556,
              "#d8576b"
             ],
             [
              0.6666666666666666,
              "#ed7953"
             ],
             [
              0.7777777777777778,
              "#fb9f3a"
             ],
             [
              0.8888888888888888,
              "#fdca26"
             ],
             [
              1,
              "#f0f921"
             ]
            ],
            "type": "heatmap"
           }
          ],
          "heatmapgl": [
           {
            "colorbar": {
             "outlinewidth": 0,
             "ticks": ""
            },
            "colorscale": [
             [
              0,
              "#0d0887"
             ],
             [
              0.1111111111111111,
              "#46039f"
             ],
             [
              0.2222222222222222,
              "#7201a8"
             ],
             [
              0.3333333333333333,
              "#9c179e"
             ],
             [
              0.4444444444444444,
              "#bd3786"
             ],
             [
              0.5555555555555556,
              "#d8576b"
             ],
             [
              0.6666666666666666,
              "#ed7953"
             ],
             [
              0.7777777777777778,
              "#fb9f3a"
             ],
             [
              0.8888888888888888,
              "#fdca26"
             ],
             [
              1,
              "#f0f921"
             ]
            ],
            "type": "heatmapgl"
           }
          ],
          "histogram": [
           {
            "marker": {
             "pattern": {
              "fillmode": "overlay",
              "size": 10,
              "solidity": 0.2
             }
            },
            "type": "histogram"
           }
          ],
          "histogram2d": [
           {
            "colorbar": {
             "outlinewidth": 0,
             "ticks": ""
            },
            "colorscale": [
             [
              0,
              "#0d0887"
             ],
             [
              0.1111111111111111,
              "#46039f"
             ],
             [
              0.2222222222222222,
              "#7201a8"
             ],
             [
              0.3333333333333333,
              "#9c179e"
             ],
             [
              0.4444444444444444,
              "#bd3786"
             ],
             [
              0.5555555555555556,
              "#d8576b"
             ],
             [
              0.6666666666666666,
              "#ed7953"
             ],
             [
              0.7777777777777778,
              "#fb9f3a"
             ],
             [
              0.8888888888888888,
              "#fdca26"
             ],
             [
              1,
              "#f0f921"
             ]
            ],
            "type": "histogram2d"
           }
          ],
          "histogram2dcontour": [
           {
            "colorbar": {
             "outlinewidth": 0,
             "ticks": ""
            },
            "colorscale": [
             [
              0,
              "#0d0887"
             ],
             [
              0.1111111111111111,
              "#46039f"
             ],
             [
              0.2222222222222222,
              "#7201a8"
             ],
             [
              0.3333333333333333,
              "#9c179e"
             ],
             [
              0.4444444444444444,
              "#bd3786"
             ],
             [
              0.5555555555555556,
              "#d8576b"
             ],
             [
              0.6666666666666666,
              "#ed7953"
             ],
             [
              0.7777777777777778,
              "#fb9f3a"
             ],
             [
              0.8888888888888888,
              "#fdca26"
             ],
             [
              1,
              "#f0f921"
             ]
            ],
            "type": "histogram2dcontour"
           }
          ],
          "mesh3d": [
           {
            "colorbar": {
             "outlinewidth": 0,
             "ticks": ""
            },
            "type": "mesh3d"
           }
          ],
          "parcoords": [
           {
            "line": {
             "colorbar": {
              "outlinewidth": 0,
              "ticks": ""
             }
            },
            "type": "parcoords"
           }
          ],
          "pie": [
           {
            "automargin": true,
            "type": "pie"
           }
          ],
          "scatter": [
           {
            "fillpattern": {
             "fillmode": "overlay",
             "size": 10,
             "solidity": 0.2
            },
            "type": "scatter"
           }
          ],
          "scatter3d": [
           {
            "line": {
             "colorbar": {
              "outlinewidth": 0,
              "ticks": ""
             }
            },
            "marker": {
             "colorbar": {
              "outlinewidth": 0,
              "ticks": ""
             }
            },
            "type": "scatter3d"
           }
          ],
          "scattercarpet": [
           {
            "marker": {
             "colorbar": {
              "outlinewidth": 0,
              "ticks": ""
             }
            },
            "type": "scattercarpet"
           }
          ],
          "scattergeo": [
           {
            "marker": {
             "colorbar": {
              "outlinewidth": 0,
              "ticks": ""
             }
            },
            "type": "scattergeo"
           }
          ],
          "scattergl": [
           {
            "marker": {
             "colorbar": {
              "outlinewidth": 0,
              "ticks": ""
             }
            },
            "type": "scattergl"
           }
          ],
          "scattermapbox": [
           {
            "marker": {
             "colorbar": {
              "outlinewidth": 0,
              "ticks": ""
             }
            },
            "type": "scattermapbox"
           }
          ],
          "scatterpolar": [
           {
            "marker": {
             "colorbar": {
              "outlinewidth": 0,
              "ticks": ""
             }
            },
            "type": "scatterpolar"
           }
          ],
          "scatterpolargl": [
           {
            "marker": {
             "colorbar": {
              "outlinewidth": 0,
              "ticks": ""
             }
            },
            "type": "scatterpolargl"
           }
          ],
          "scatterternary": [
           {
            "marker": {
             "colorbar": {
              "outlinewidth": 0,
              "ticks": ""
             }
            },
            "type": "scatterternary"
           }
          ],
          "surface": [
           {
            "colorbar": {
             "outlinewidth": 0,
             "ticks": ""
            },
            "colorscale": [
             [
              0,
              "#0d0887"
             ],
             [
              0.1111111111111111,
              "#46039f"
             ],
             [
              0.2222222222222222,
              "#7201a8"
             ],
             [
              0.3333333333333333,
              "#9c179e"
             ],
             [
              0.4444444444444444,
              "#bd3786"
             ],
             [
              0.5555555555555556,
              "#d8576b"
             ],
             [
              0.6666666666666666,
              "#ed7953"
             ],
             [
              0.7777777777777778,
              "#fb9f3a"
             ],
             [
              0.8888888888888888,
              "#fdca26"
             ],
             [
              1,
              "#f0f921"
             ]
            ],
            "type": "surface"
           }
          ],
          "table": [
           {
            "cells": {
             "fill": {
              "color": "#EBF0F8"
             },
             "line": {
              "color": "white"
             }
            },
            "header": {
             "fill": {
              "color": "#C8D4E3"
             },
             "line": {
              "color": "white"
             }
            },
            "type": "table"
           }
          ]
         },
         "layout": {
          "annotationdefaults": {
           "arrowcolor": "#2a3f5f",
           "arrowhead": 0,
           "arrowwidth": 1
          },
          "autotypenumbers": "strict",
          "coloraxis": {
           "colorbar": {
            "outlinewidth": 0,
            "ticks": ""
           }
          },
          "colorscale": {
           "diverging": [
            [
             0,
             "#8e0152"
            ],
            [
             0.1,
             "#c51b7d"
            ],
            [
             0.2,
             "#de77ae"
            ],
            [
             0.3,
             "#f1b6da"
            ],
            [
             0.4,
             "#fde0ef"
            ],
            [
             0.5,
             "#f7f7f7"
            ],
            [
             0.6,
             "#e6f5d0"
            ],
            [
             0.7,
             "#b8e186"
            ],
            [
             0.8,
             "#7fbc41"
            ],
            [
             0.9,
             "#4d9221"
            ],
            [
             1,
             "#276419"
            ]
           ],
           "sequential": [
            [
             0,
             "#0d0887"
            ],
            [
             0.1111111111111111,
             "#46039f"
            ],
            [
             0.2222222222222222,
             "#7201a8"
            ],
            [
             0.3333333333333333,
             "#9c179e"
            ],
            [
             0.4444444444444444,
             "#bd3786"
            ],
            [
             0.5555555555555556,
             "#d8576b"
            ],
            [
             0.6666666666666666,
             "#ed7953"
            ],
            [
             0.7777777777777778,
             "#fb9f3a"
            ],
            [
             0.8888888888888888,
             "#fdca26"
            ],
            [
             1,
             "#f0f921"
            ]
           ],
           "sequentialminus": [
            [
             0,
             "#0d0887"
            ],
            [
             0.1111111111111111,
             "#46039f"
            ],
            [
             0.2222222222222222,
             "#7201a8"
            ],
            [
             0.3333333333333333,
             "#9c179e"
            ],
            [
             0.4444444444444444,
             "#bd3786"
            ],
            [
             0.5555555555555556,
             "#d8576b"
            ],
            [
             0.6666666666666666,
             "#ed7953"
            ],
            [
             0.7777777777777778,
             "#fb9f3a"
            ],
            [
             0.8888888888888888,
             "#fdca26"
            ],
            [
             1,
             "#f0f921"
            ]
           ]
          },
          "colorway": [
           "#636efa",
           "#EF553B",
           "#00cc96",
           "#ab63fa",
           "#FFA15A",
           "#19d3f3",
           "#FF6692",
           "#B6E880",
           "#FF97FF",
           "#FECB52"
          ],
          "font": {
           "color": "#2a3f5f"
          },
          "geo": {
           "bgcolor": "white",
           "lakecolor": "white",
           "landcolor": "#E5ECF6",
           "showlakes": true,
           "showland": true,
           "subunitcolor": "white"
          },
          "hoverlabel": {
           "align": "left"
          },
          "hovermode": "closest",
          "mapbox": {
           "style": "light"
          },
          "paper_bgcolor": "white",
          "plot_bgcolor": "#E5ECF6",
          "polar": {
           "angularaxis": {
            "gridcolor": "white",
            "linecolor": "white",
            "ticks": ""
           },
           "bgcolor": "#E5ECF6",
           "radialaxis": {
            "gridcolor": "white",
            "linecolor": "white",
            "ticks": ""
           }
          },
          "scene": {
           "xaxis": {
            "backgroundcolor": "#E5ECF6",
            "gridcolor": "white",
            "gridwidth": 2,
            "linecolor": "white",
            "showbackground": true,
            "ticks": "",
            "zerolinecolor": "white"
           },
           "yaxis": {
            "backgroundcolor": "#E5ECF6",
            "gridcolor": "white",
            "gridwidth": 2,
            "linecolor": "white",
            "showbackground": true,
            "ticks": "",
            "zerolinecolor": "white"
           },
           "zaxis": {
            "backgroundcolor": "#E5ECF6",
            "gridcolor": "white",
            "gridwidth": 2,
            "linecolor": "white",
            "showbackground": true,
            "ticks": "",
            "zerolinecolor": "white"
           }
          },
          "shapedefaults": {
           "line": {
            "color": "#2a3f5f"
           }
          },
          "ternary": {
           "aaxis": {
            "gridcolor": "white",
            "linecolor": "white",
            "ticks": ""
           },
           "baxis": {
            "gridcolor": "white",
            "linecolor": "white",
            "ticks": ""
           },
           "bgcolor": "#E5ECF6",
           "caxis": {
            "gridcolor": "white",
            "linecolor": "white",
            "ticks": ""
           }
          },
          "title": {
           "x": 0.05
          },
          "xaxis": {
           "automargin": true,
           "gridcolor": "white",
           "linecolor": "white",
           "ticks": "",
           "title": {
            "standoff": 15
           },
           "zerolinecolor": "white",
           "zerolinewidth": 2
          },
          "yaxis": {
           "automargin": true,
           "gridcolor": "white",
           "linecolor": "white",
           "ticks": "",
           "title": {
            "standoff": 15
           },
           "zerolinecolor": "white",
           "zerolinewidth": 2
          }
         }
        }
       }
      },
      "text/html": [
       "<div>                            <div id=\"4dc3e000-5c8a-4261-bb17-371d2d680d44\" class=\"plotly-graph-div\" style=\"height:525px; width:100%;\"></div>            <script type=\"text/javascript\">                require([\"plotly\"], function(Plotly) {                    window.PLOTLYENV=window.PLOTLYENV || {};                                    if (document.getElementById(\"4dc3e000-5c8a-4261-bb17-371d2d680d44\")) {                    Plotly.newPlot(                        \"4dc3e000-5c8a-4261-bb17-371d2d680d44\",                        [{\"hovertemplate\":\"Ranking: %{x}<br>F1 score (train): %{y:,.3f}<br>Model: %{customdata}\",\"marker\":{\"color\":\"#4682B4\"},\"mode\":\"markers\",\"x\":[0,1,2,3,4,5,6,7,8,9,10,11,12,13,14,15,16,17,18,19,20,21,22,23,24,25,26,27,28],\"y\":[0.003406069954180466,0.06739663328722449,0.08348364009045559,0.09119536072194216,0.13628974566979832,0.1516307124439352,0.15671533193829218,0.1690361824705841,0.1916809620921305,0.1956506135255074,0.2190391835915082,0.220304905638346,0.22446850792802917,0.27476604440332936,0.3469545486700884,0.4650190387512157,0.5617151683524966,0.577757022013953,0.6199567189828541,0.6400201159545355,0.6448217624349957,0.6492764919070839,0.6507017955653762,0.6575394929340137,0.6694092508529749,0.6884158995929688,0.691333778128108,0.6913705947360904,0.6951408110333032],\"type\":\"scatter\"},{\"customdata\":[\"RF\",\"LGBM\",\"RF\",\"RF\",\"RF\",\"RF\",\"RF\",\"RF\",\"RF\",\"RF\",\"RF\",\"RF\",\"RF\",\"RF\",\"LGBM\",\"LGBM\",\"LGBM\",\"LGBM\",\"LGBM\",\"LGBM\",\"LGBM\",\"GBM\",\"GBM\",\"LGBM\",\"GBM\",\"LGBM\",\"LGBM\",\"LGBM\",\"LGBM\"],\"hovertemplate\":\"Ranking: %{x}<br>F1 score (test): %{y:,.3f}<br>Model: %{customdata}\",\"marker\":{\"color\":\"#87CEEB\"},\"mode\":\"markers\",\"x\":[0,1,2,3,4,5,6,7,8,9,10,11,12,13,14,15,16,17,18,19,20,21,22,23,24,25,26,27,28],\"y\":[0.0,0.17767387492694328,0.044950867656282666,0.13445042888489925,0.15159600751062358,0.17429491558504925,0.17038341158059467,0.16285237206561243,0.19795879067976122,0.19502314814814814,0.22892819979188347,0.2403909407010619,0.23745410036719705,0.31421754882035874,0.3531550246689172,0.4869957950475004,0.5805081746761979,0.5927774312053787,0.623731048121292,0.6454504706409683,0.6505369551484522,0.6535235949430468,0.6535694175061003,0.6736753574432296,0.6757336273969246,0.6962477316630568,0.6976798550639939,0.6910927882940424,0.6961319411485524],\"type\":\"scatter\"}],                        {\"template\":{\"data\":{\"histogram2dcontour\":[{\"type\":\"histogram2dcontour\",\"colorbar\":{\"outlinewidth\":0,\"ticks\":\"\"},\"colorscale\":[[0.0,\"#0d0887\"],[0.1111111111111111,\"#46039f\"],[0.2222222222222222,\"#7201a8\"],[0.3333333333333333,\"#9c179e\"],[0.4444444444444444,\"#bd3786\"],[0.5555555555555556,\"#d8576b\"],[0.6666666666666666,\"#ed7953\"],[0.7777777777777778,\"#fb9f3a\"],[0.8888888888888888,\"#fdca26\"],[1.0,\"#f0f921\"]]}],\"choropleth\":[{\"type\":\"choropleth\",\"colorbar\":{\"outlinewidth\":0,\"ticks\":\"\"}}],\"histogram2d\":[{\"type\":\"histogram2d\",\"colorbar\":{\"outlinewidth\":0,\"ticks\":\"\"},\"colorscale\":[[0.0,\"#0d0887\"],[0.1111111111111111,\"#46039f\"],[0.2222222222222222,\"#7201a8\"],[0.3333333333333333,\"#9c179e\"],[0.4444444444444444,\"#bd3786\"],[0.5555555555555556,\"#d8576b\"],[0.6666666666666666,\"#ed7953\"],[0.7777777777777778,\"#fb9f3a\"],[0.8888888888888888,\"#fdca26\"],[1.0,\"#f0f921\"]]}],\"heatmap\":[{\"type\":\"heatmap\",\"colorbar\":{\"outlinewidth\":0,\"ticks\":\"\"},\"colorscale\":[[0.0,\"#0d0887\"],[0.1111111111111111,\"#46039f\"],[0.2222222222222222,\"#7201a8\"],[0.3333333333333333,\"#9c179e\"],[0.4444444444444444,\"#bd3786\"],[0.5555555555555556,\"#d8576b\"],[0.6666666666666666,\"#ed7953\"],[0.7777777777777778,\"#fb9f3a\"],[0.8888888888888888,\"#fdca26\"],[1.0,\"#f0f921\"]]}],\"heatmapgl\":[{\"type\":\"heatmapgl\",\"colorbar\":{\"outlinewidth\":0,\"ticks\":\"\"},\"colorscale\":[[0.0,\"#0d0887\"],[0.1111111111111111,\"#46039f\"],[0.2222222222222222,\"#7201a8\"],[0.3333333333333333,\"#9c179e\"],[0.4444444444444444,\"#bd3786\"],[0.5555555555555556,\"#d8576b\"],[0.6666666666666666,\"#ed7953\"],[0.7777777777777778,\"#fb9f3a\"],[0.8888888888888888,\"#fdca26\"],[1.0,\"#f0f921\"]]}],\"contourcarpet\":[{\"type\":\"contourcarpet\",\"colorbar\":{\"outlinewidth\":0,\"ticks\":\"\"}}],\"contour\":[{\"type\":\"contour\",\"colorbar\":{\"outlinewidth\":0,\"ticks\":\"\"},\"colorscale\":[[0.0,\"#0d0887\"],[0.1111111111111111,\"#46039f\"],[0.2222222222222222,\"#7201a8\"],[0.3333333333333333,\"#9c179e\"],[0.4444444444444444,\"#bd3786\"],[0.5555555555555556,\"#d8576b\"],[0.6666666666666666,\"#ed7953\"],[0.7777777777777778,\"#fb9f3a\"],[0.8888888888888888,\"#fdca26\"],[1.0,\"#f0f921\"]]}],\"surface\":[{\"type\":\"surface\",\"colorbar\":{\"outlinewidth\":0,\"ticks\":\"\"},\"colorscale\":[[0.0,\"#0d0887\"],[0.1111111111111111,\"#46039f\"],[0.2222222222222222,\"#7201a8\"],[0.3333333333333333,\"#9c179e\"],[0.4444444444444444,\"#bd3786\"],[0.5555555555555556,\"#d8576b\"],[0.6666666666666666,\"#ed7953\"],[0.7777777777777778,\"#fb9f3a\"],[0.8888888888888888,\"#fdca26\"],[1.0,\"#f0f921\"]]}],\"mesh3d\":[{\"type\":\"mesh3d\",\"colorbar\":{\"outlinewidth\":0,\"ticks\":\"\"}}],\"scatter\":[{\"fillpattern\":{\"fillmode\":\"overlay\",\"size\":10,\"solidity\":0.2},\"type\":\"scatter\"}],\"parcoords\":[{\"type\":\"parcoords\",\"line\":{\"colorbar\":{\"outlinewidth\":0,\"ticks\":\"\"}}}],\"scatterpolargl\":[{\"type\":\"scatterpolargl\",\"marker\":{\"colorbar\":{\"outlinewidth\":0,\"ticks\":\"\"}}}],\"bar\":[{\"error_x\":{\"color\":\"#2a3f5f\"},\"error_y\":{\"color\":\"#2a3f5f\"},\"marker\":{\"line\":{\"color\":\"#E5ECF6\",\"width\":0.5},\"pattern\":{\"fillmode\":\"overlay\",\"size\":10,\"solidity\":0.2}},\"type\":\"bar\"}],\"scattergeo\":[{\"type\":\"scattergeo\",\"marker\":{\"colorbar\":{\"outlinewidth\":0,\"ticks\":\"\"}}}],\"scatterpolar\":[{\"type\":\"scatterpolar\",\"marker\":{\"colorbar\":{\"outlinewidth\":0,\"ticks\":\"\"}}}],\"histogram\":[{\"marker\":{\"pattern\":{\"fillmode\":\"overlay\",\"size\":10,\"solidity\":0.2}},\"type\":\"histogram\"}],\"scattergl\":[{\"type\":\"scattergl\",\"marker\":{\"colorbar\":{\"outlinewidth\":0,\"ticks\":\"\"}}}],\"scatter3d\":[{\"type\":\"scatter3d\",\"line\":{\"colorbar\":{\"outlinewidth\":0,\"ticks\":\"\"}},\"marker\":{\"colorbar\":{\"outlinewidth\":0,\"ticks\":\"\"}}}],\"scattermapbox\":[{\"type\":\"scattermapbox\",\"marker\":{\"colorbar\":{\"outlinewidth\":0,\"ticks\":\"\"}}}],\"scatterternary\":[{\"type\":\"scatterternary\",\"marker\":{\"colorbar\":{\"outlinewidth\":0,\"ticks\":\"\"}}}],\"scattercarpet\":[{\"type\":\"scattercarpet\",\"marker\":{\"colorbar\":{\"outlinewidth\":0,\"ticks\":\"\"}}}],\"carpet\":[{\"aaxis\":{\"endlinecolor\":\"#2a3f5f\",\"gridcolor\":\"white\",\"linecolor\":\"white\",\"minorgridcolor\":\"white\",\"startlinecolor\":\"#2a3f5f\"},\"baxis\":{\"endlinecolor\":\"#2a3f5f\",\"gridcolor\":\"white\",\"linecolor\":\"white\",\"minorgridcolor\":\"white\",\"startlinecolor\":\"#2a3f5f\"},\"type\":\"carpet\"}],\"table\":[{\"cells\":{\"fill\":{\"color\":\"#EBF0F8\"},\"line\":{\"color\":\"white\"}},\"header\":{\"fill\":{\"color\":\"#C8D4E3\"},\"line\":{\"color\":\"white\"}},\"type\":\"table\"}],\"barpolar\":[{\"marker\":{\"line\":{\"color\":\"#E5ECF6\",\"width\":0.5},\"pattern\":{\"fillmode\":\"overlay\",\"size\":10,\"solidity\":0.2}},\"type\":\"barpolar\"}],\"pie\":[{\"automargin\":true,\"type\":\"pie\"}]},\"layout\":{\"autotypenumbers\":\"strict\",\"colorway\":[\"#636efa\",\"#EF553B\",\"#00cc96\",\"#ab63fa\",\"#FFA15A\",\"#19d3f3\",\"#FF6692\",\"#B6E880\",\"#FF97FF\",\"#FECB52\"],\"font\":{\"color\":\"#2a3f5f\"},\"hovermode\":\"closest\",\"hoverlabel\":{\"align\":\"left\"},\"paper_bgcolor\":\"white\",\"plot_bgcolor\":\"#E5ECF6\",\"polar\":{\"bgcolor\":\"#E5ECF6\",\"angularaxis\":{\"gridcolor\":\"white\",\"linecolor\":\"white\",\"ticks\":\"\"},\"radialaxis\":{\"gridcolor\":\"white\",\"linecolor\":\"white\",\"ticks\":\"\"}},\"ternary\":{\"bgcolor\":\"#E5ECF6\",\"aaxis\":{\"gridcolor\":\"white\",\"linecolor\":\"white\",\"ticks\":\"\"},\"baxis\":{\"gridcolor\":\"white\",\"linecolor\":\"white\",\"ticks\":\"\"},\"caxis\":{\"gridcolor\":\"white\",\"linecolor\":\"white\",\"ticks\":\"\"}},\"coloraxis\":{\"colorbar\":{\"outlinewidth\":0,\"ticks\":\"\"}},\"colorscale\":{\"sequential\":[[0.0,\"#0d0887\"],[0.1111111111111111,\"#46039f\"],[0.2222222222222222,\"#7201a8\"],[0.3333333333333333,\"#9c179e\"],[0.4444444444444444,\"#bd3786\"],[0.5555555555555556,\"#d8576b\"],[0.6666666666666666,\"#ed7953\"],[0.7777777777777778,\"#fb9f3a\"],[0.8888888888888888,\"#fdca26\"],[1.0,\"#f0f921\"]],\"sequentialminus\":[[0.0,\"#0d0887\"],[0.1111111111111111,\"#46039f\"],[0.2222222222222222,\"#7201a8\"],[0.3333333333333333,\"#9c179e\"],[0.4444444444444444,\"#bd3786\"],[0.5555555555555556,\"#d8576b\"],[0.6666666666666666,\"#ed7953\"],[0.7777777777777778,\"#fb9f3a\"],[0.8888888888888888,\"#fdca26\"],[1.0,\"#f0f921\"]],\"diverging\":[[0,\"#8e0152\"],[0.1,\"#c51b7d\"],[0.2,\"#de77ae\"],[0.3,\"#f1b6da\"],[0.4,\"#fde0ef\"],[0.5,\"#f7f7f7\"],[0.6,\"#e6f5d0\"],[0.7,\"#b8e186\"],[0.8,\"#7fbc41\"],[0.9,\"#4d9221\"],[1,\"#276419\"]]},\"xaxis\":{\"gridcolor\":\"white\",\"linecolor\":\"white\",\"ticks\":\"\",\"title\":{\"standoff\":15},\"zerolinecolor\":\"white\",\"automargin\":true,\"zerolinewidth\":2},\"yaxis\":{\"gridcolor\":\"white\",\"linecolor\":\"white\",\"ticks\":\"\",\"title\":{\"standoff\":15},\"zerolinecolor\":\"white\",\"automargin\":true,\"zerolinewidth\":2},\"scene\":{\"xaxis\":{\"backgroundcolor\":\"#E5ECF6\",\"gridcolor\":\"white\",\"linecolor\":\"white\",\"showbackground\":true,\"ticks\":\"\",\"zerolinecolor\":\"white\",\"gridwidth\":2},\"yaxis\":{\"backgroundcolor\":\"#E5ECF6\",\"gridcolor\":\"white\",\"linecolor\":\"white\",\"showbackground\":true,\"ticks\":\"\",\"zerolinecolor\":\"white\",\"gridwidth\":2},\"zaxis\":{\"backgroundcolor\":\"#E5ECF6\",\"gridcolor\":\"white\",\"linecolor\":\"white\",\"showbackground\":true,\"ticks\":\"\",\"zerolinecolor\":\"white\",\"gridwidth\":2}},\"shapedefaults\":{\"line\":{\"color\":\"#2a3f5f\"}},\"annotationdefaults\":{\"arrowcolor\":\"#2a3f5f\",\"arrowhead\":0,\"arrowwidth\":1},\"geo\":{\"bgcolor\":\"white\",\"landcolor\":\"#E5ECF6\",\"subunitcolor\":\"white\",\"showland\":true,\"showlakes\":true,\"lakecolor\":\"white\"},\"title\":{\"x\":0.05},\"mapbox\":{\"style\":\"light\"}}}},                        {\"responsive\": true}                    ).then(function(){\n",
       "                            \n",
       "var gd = document.getElementById('4dc3e000-5c8a-4261-bb17-371d2d680d44');\n",
       "var x = new MutationObserver(function (mutations, observer) {{\n",
       "        var display = window.getComputedStyle(gd).display;\n",
       "        if (!display || display === 'none') {{\n",
       "            console.log([gd, 'removed!']);\n",
       "            Plotly.purge(gd);\n",
       "            observer.disconnect();\n",
       "        }}\n",
       "}});\n",
       "\n",
       "// Listen for the removal of the full notebook cells\n",
       "var notebookContainer = gd.closest('#notebook-container');\n",
       "if (notebookContainer) {{\n",
       "    x.observe(notebookContainer, {childList: true});\n",
       "}}\n",
       "\n",
       "// Listen for the clearing of the current output cell\n",
       "var outputEl = gd.closest('.output');\n",
       "if (outputEl) {{\n",
       "    x.observe(outputEl, {childList: true});\n",
       "}}\n",
       "\n",
       "                        })                };                });            </script>        </div>"
      ]
     },
     "metadata": {},
     "output_type": "display_data"
    }
   ],
   "source": [
    "import plotly.graph_objects as go\n",
    "df_metrics_sorted = df_metrics.sort_values(['train_fair']).reset_index(drop = True)\n",
    "fig_model = go.Figure()\n",
    "fig_model.add_trace(\n",
    "    go.Scatter(\n",
    "        x=df_metrics_sorted.index, \n",
    "        y=df_metrics_sorted['train_model'],\n",
    "        mode='markers', \n",
    "        marker_color='#4682B4',\n",
    "        customdata = df_metrics_sorted['model'],\n",
    "        hovertemplate=\"<br>\".join([\n",
    "            \"Ranking: %{x}\",\n",
    "            \"F1 score (train): %{y:,.3f}\",\n",
    "            \"Model: %{customdata}\",\n",
    "        ])\n",
    "        ))\n",
    "fig_model.add_trace(\n",
    "    go.Scatter(\n",
    "        x= df_metrics_sorted.index, \n",
    "        y= df_metrics_sorted['f1 score'], \n",
    "        customdata = df_metrics_sorted.model,\n",
    "        mode = 'markers',\n",
    "        marker_color='#87CEEB',\n",
    "        hovertemplate=\"<br>\".join([\n",
    "            \"Ranking: %{x}\",\n",
    "            \"F1 score (test): %{y:,.3f}\",\n",
    "            \"Model: %{customdata}\",\n",
    "        ])\n",
    "        ))\n",
    "\n",
    "fig_model.show()"
   ]
  },
  {
   "cell_type": "code",
   "execution_count": 124,
   "metadata": {},
   "outputs": [
    {
     "data": {
      "application/vnd.plotly.v1+json": {
       "config": {
        "plotlyServerURL": "https://plot.ly"
       },
       "data": [
        {
         "customdata": [
          "RF",
          "LGBM",
          "RF",
          "RF",
          "RF",
          "RF",
          "RF",
          "RF",
          "RF",
          "RF",
          "RF",
          "RF",
          "RF",
          "RF",
          "LGBM",
          "LGBM",
          "LGBM",
          "LGBM",
          "LGBM",
          "LGBM",
          "LGBM",
          "GBM",
          "GBM",
          "LGBM",
          "GBM",
          "LGBM",
          "LGBM",
          "LGBM",
          "LGBM"
         ],
         "hovertemplate": "Ranking: %{x}<br>Demographic Parity Difference (train): %{y:,.3f}<br>Model: %{customdata}",
         "marker": {
          "color": "#4682B4"
         },
         "mode": "markers",
         "type": "scatter",
         "x": [
          0,
          1,
          2,
          3,
          4,
          5,
          6,
          7,
          8,
          9,
          10,
          11,
          12,
          13,
          14,
          15,
          16,
          17,
          18,
          19,
          20,
          21,
          22,
          23,
          24,
          25,
          26,
          27,
          28
         ],
         "y": [
          0.0006043453401943968,
          0.010207096204361728,
          0.015835777036331926,
          0.017199430462979018,
          0.025734954333878384,
          0.028526457694635476,
          0.029606008591919048,
          0.03265073570041173,
          0.03400739456528039,
          0.034155388985479186,
          0.03740151261242263,
          0.0395134259058119,
          0.041228564454003594,
          0.05117881810248072,
          0.05273951785115906,
          0.08449842204379632,
          0.10740823212189159,
          0.11466387385901407,
          0.13423651839351414,
          0.13976857969207193,
          0.14458051414213738,
          0.1471191724175423,
          0.14726712861991129,
          0.15408285828344281,
          0.15583733339559255,
          0.15654277736416844,
          0.1575944482475095,
          0.163036534419635,
          0.16694977361368127
         ]
        },
        {
         "customdata": [
          "RF",
          "LGBM",
          "RF",
          "RF",
          "RF",
          "RF",
          "RF",
          "RF",
          "RF",
          "RF",
          "RF",
          "RF",
          "RF",
          "RF",
          "LGBM",
          "LGBM",
          "LGBM",
          "LGBM",
          "LGBM",
          "LGBM",
          "LGBM",
          "GBM",
          "GBM",
          "LGBM",
          "GBM",
          "LGBM",
          "LGBM",
          "LGBM",
          "LGBM"
         ],
         "hovertemplate": "Ranking: %{x}<br>Demographic Parity Difference (test): %{y:,.3f}<br>Model: %{customdata}",
         "marker": {
          "color": "#87CEEB"
         },
         "mode": "markers",
         "type": "scatter",
         "x": [
          0,
          1,
          2,
          3,
          4,
          5,
          6,
          7,
          8,
          9,
          10,
          11,
          12,
          13,
          14,
          15,
          16,
          17,
          18,
          19,
          20,
          21,
          22,
          23,
          24,
          25,
          26,
          27,
          28
         ],
         "y": [
          0,
          0.024313328730387388,
          0.008266676872440584,
          0.025871636878564048,
          0.029430900531975966,
          0.03409862890069106,
          0.02998377734288921,
          0.029955398077586383,
          0.03780108677596749,
          0.035379373702224756,
          0.03910526464936182,
          0.042477409636216636,
          0.041596455036847294,
          0.06892665429290491,
          0.06213231108848615,
          0.08558764229785365,
          0.1246773617678257,
          0.1323856243396237,
          0.1504245219084957,
          0.15436249309495284,
          0.16124361789895844,
          0.16124726619705027,
          0.16178518912486095,
          0.17352775096125928,
          0.1704077317547733,
          0.17592779006959575,
          0.1775770041089622,
          0.18124754972362,
          0.1753266339168349
         ]
        }
       ],
       "layout": {
        "showlegend": false,
        "template": {
         "data": {
          "bar": [
           {
            "error_x": {
             "color": "#2a3f5f"
            },
            "error_y": {
             "color": "#2a3f5f"
            },
            "marker": {
             "line": {
              "color": "#E5ECF6",
              "width": 0.5
             },
             "pattern": {
              "fillmode": "overlay",
              "size": 10,
              "solidity": 0.2
             }
            },
            "type": "bar"
           }
          ],
          "barpolar": [
           {
            "marker": {
             "line": {
              "color": "#E5ECF6",
              "width": 0.5
             },
             "pattern": {
              "fillmode": "overlay",
              "size": 10,
              "solidity": 0.2
             }
            },
            "type": "barpolar"
           }
          ],
          "carpet": [
           {
            "aaxis": {
             "endlinecolor": "#2a3f5f",
             "gridcolor": "white",
             "linecolor": "white",
             "minorgridcolor": "white",
             "startlinecolor": "#2a3f5f"
            },
            "baxis": {
             "endlinecolor": "#2a3f5f",
             "gridcolor": "white",
             "linecolor": "white",
             "minorgridcolor": "white",
             "startlinecolor": "#2a3f5f"
            },
            "type": "carpet"
           }
          ],
          "choropleth": [
           {
            "colorbar": {
             "outlinewidth": 0,
             "ticks": ""
            },
            "type": "choropleth"
           }
          ],
          "contour": [
           {
            "colorbar": {
             "outlinewidth": 0,
             "ticks": ""
            },
            "colorscale": [
             [
              0,
              "#0d0887"
             ],
             [
              0.1111111111111111,
              "#46039f"
             ],
             [
              0.2222222222222222,
              "#7201a8"
             ],
             [
              0.3333333333333333,
              "#9c179e"
             ],
             [
              0.4444444444444444,
              "#bd3786"
             ],
             [
              0.5555555555555556,
              "#d8576b"
             ],
             [
              0.6666666666666666,
              "#ed7953"
             ],
             [
              0.7777777777777778,
              "#fb9f3a"
             ],
             [
              0.8888888888888888,
              "#fdca26"
             ],
             [
              1,
              "#f0f921"
             ]
            ],
            "type": "contour"
           }
          ],
          "contourcarpet": [
           {
            "colorbar": {
             "outlinewidth": 0,
             "ticks": ""
            },
            "type": "contourcarpet"
           }
          ],
          "heatmap": [
           {
            "colorbar": {
             "outlinewidth": 0,
             "ticks": ""
            },
            "colorscale": [
             [
              0,
              "#0d0887"
             ],
             [
              0.1111111111111111,
              "#46039f"
             ],
             [
              0.2222222222222222,
              "#7201a8"
             ],
             [
              0.3333333333333333,
              "#9c179e"
             ],
             [
              0.4444444444444444,
              "#bd3786"
             ],
             [
              0.5555555555555556,
              "#d8576b"
             ],
             [
              0.6666666666666666,
              "#ed7953"
             ],
             [
              0.7777777777777778,
              "#fb9f3a"
             ],
             [
              0.8888888888888888,
              "#fdca26"
             ],
             [
              1,
              "#f0f921"
             ]
            ],
            "type": "heatmap"
           }
          ],
          "heatmapgl": [
           {
            "colorbar": {
             "outlinewidth": 0,
             "ticks": ""
            },
            "colorscale": [
             [
              0,
              "#0d0887"
             ],
             [
              0.1111111111111111,
              "#46039f"
             ],
             [
              0.2222222222222222,
              "#7201a8"
             ],
             [
              0.3333333333333333,
              "#9c179e"
             ],
             [
              0.4444444444444444,
              "#bd3786"
             ],
             [
              0.5555555555555556,
              "#d8576b"
             ],
             [
              0.6666666666666666,
              "#ed7953"
             ],
             [
              0.7777777777777778,
              "#fb9f3a"
             ],
             [
              0.8888888888888888,
              "#fdca26"
             ],
             [
              1,
              "#f0f921"
             ]
            ],
            "type": "heatmapgl"
           }
          ],
          "histogram": [
           {
            "marker": {
             "pattern": {
              "fillmode": "overlay",
              "size": 10,
              "solidity": 0.2
             }
            },
            "type": "histogram"
           }
          ],
          "histogram2d": [
           {
            "colorbar": {
             "outlinewidth": 0,
             "ticks": ""
            },
            "colorscale": [
             [
              0,
              "#0d0887"
             ],
             [
              0.1111111111111111,
              "#46039f"
             ],
             [
              0.2222222222222222,
              "#7201a8"
             ],
             [
              0.3333333333333333,
              "#9c179e"
             ],
             [
              0.4444444444444444,
              "#bd3786"
             ],
             [
              0.5555555555555556,
              "#d8576b"
             ],
             [
              0.6666666666666666,
              "#ed7953"
             ],
             [
              0.7777777777777778,
              "#fb9f3a"
             ],
             [
              0.8888888888888888,
              "#fdca26"
             ],
             [
              1,
              "#f0f921"
             ]
            ],
            "type": "histogram2d"
           }
          ],
          "histogram2dcontour": [
           {
            "colorbar": {
             "outlinewidth": 0,
             "ticks": ""
            },
            "colorscale": [
             [
              0,
              "#0d0887"
             ],
             [
              0.1111111111111111,
              "#46039f"
             ],
             [
              0.2222222222222222,
              "#7201a8"
             ],
             [
              0.3333333333333333,
              "#9c179e"
             ],
             [
              0.4444444444444444,
              "#bd3786"
             ],
             [
              0.5555555555555556,
              "#d8576b"
             ],
             [
              0.6666666666666666,
              "#ed7953"
             ],
             [
              0.7777777777777778,
              "#fb9f3a"
             ],
             [
              0.8888888888888888,
              "#fdca26"
             ],
             [
              1,
              "#f0f921"
             ]
            ],
            "type": "histogram2dcontour"
           }
          ],
          "mesh3d": [
           {
            "colorbar": {
             "outlinewidth": 0,
             "ticks": ""
            },
            "type": "mesh3d"
           }
          ],
          "parcoords": [
           {
            "line": {
             "colorbar": {
              "outlinewidth": 0,
              "ticks": ""
             }
            },
            "type": "parcoords"
           }
          ],
          "pie": [
           {
            "automargin": true,
            "type": "pie"
           }
          ],
          "scatter": [
           {
            "fillpattern": {
             "fillmode": "overlay",
             "size": 10,
             "solidity": 0.2
            },
            "type": "scatter"
           }
          ],
          "scatter3d": [
           {
            "line": {
             "colorbar": {
              "outlinewidth": 0,
              "ticks": ""
             }
            },
            "marker": {
             "colorbar": {
              "outlinewidth": 0,
              "ticks": ""
             }
            },
            "type": "scatter3d"
           }
          ],
          "scattercarpet": [
           {
            "marker": {
             "colorbar": {
              "outlinewidth": 0,
              "ticks": ""
             }
            },
            "type": "scattercarpet"
           }
          ],
          "scattergeo": [
           {
            "marker": {
             "colorbar": {
              "outlinewidth": 0,
              "ticks": ""
             }
            },
            "type": "scattergeo"
           }
          ],
          "scattergl": [
           {
            "marker": {
             "colorbar": {
              "outlinewidth": 0,
              "ticks": ""
             }
            },
            "type": "scattergl"
           }
          ],
          "scattermapbox": [
           {
            "marker": {
             "colorbar": {
              "outlinewidth": 0,
              "ticks": ""
             }
            },
            "type": "scattermapbox"
           }
          ],
          "scatterpolar": [
           {
            "marker": {
             "colorbar": {
              "outlinewidth": 0,
              "ticks": ""
             }
            },
            "type": "scatterpolar"
           }
          ],
          "scatterpolargl": [
           {
            "marker": {
             "colorbar": {
              "outlinewidth": 0,
              "ticks": ""
             }
            },
            "type": "scatterpolargl"
           }
          ],
          "scatterternary": [
           {
            "marker": {
             "colorbar": {
              "outlinewidth": 0,
              "ticks": ""
             }
            },
            "type": "scatterternary"
           }
          ],
          "surface": [
           {
            "colorbar": {
             "outlinewidth": 0,
             "ticks": ""
            },
            "colorscale": [
             [
              0,
              "#0d0887"
             ],
             [
              0.1111111111111111,
              "#46039f"
             ],
             [
              0.2222222222222222,
              "#7201a8"
             ],
             [
              0.3333333333333333,
              "#9c179e"
             ],
             [
              0.4444444444444444,
              "#bd3786"
             ],
             [
              0.5555555555555556,
              "#d8576b"
             ],
             [
              0.6666666666666666,
              "#ed7953"
             ],
             [
              0.7777777777777778,
              "#fb9f3a"
             ],
             [
              0.8888888888888888,
              "#fdca26"
             ],
             [
              1,
              "#f0f921"
             ]
            ],
            "type": "surface"
           }
          ],
          "table": [
           {
            "cells": {
             "fill": {
              "color": "#EBF0F8"
             },
             "line": {
              "color": "white"
             }
            },
            "header": {
             "fill": {
              "color": "#C8D4E3"
             },
             "line": {
              "color": "white"
             }
            },
            "type": "table"
           }
          ]
         },
         "layout": {
          "annotationdefaults": {
           "arrowcolor": "#2a3f5f",
           "arrowhead": 0,
           "arrowwidth": 1
          },
          "autotypenumbers": "strict",
          "coloraxis": {
           "colorbar": {
            "outlinewidth": 0,
            "ticks": ""
           }
          },
          "colorscale": {
           "diverging": [
            [
             0,
             "#8e0152"
            ],
            [
             0.1,
             "#c51b7d"
            ],
            [
             0.2,
             "#de77ae"
            ],
            [
             0.3,
             "#f1b6da"
            ],
            [
             0.4,
             "#fde0ef"
            ],
            [
             0.5,
             "#f7f7f7"
            ],
            [
             0.6,
             "#e6f5d0"
            ],
            [
             0.7,
             "#b8e186"
            ],
            [
             0.8,
             "#7fbc41"
            ],
            [
             0.9,
             "#4d9221"
            ],
            [
             1,
             "#276419"
            ]
           ],
           "sequential": [
            [
             0,
             "#0d0887"
            ],
            [
             0.1111111111111111,
             "#46039f"
            ],
            [
             0.2222222222222222,
             "#7201a8"
            ],
            [
             0.3333333333333333,
             "#9c179e"
            ],
            [
             0.4444444444444444,
             "#bd3786"
            ],
            [
             0.5555555555555556,
             "#d8576b"
            ],
            [
             0.6666666666666666,
             "#ed7953"
            ],
            [
             0.7777777777777778,
             "#fb9f3a"
            ],
            [
             0.8888888888888888,
             "#fdca26"
            ],
            [
             1,
             "#f0f921"
            ]
           ],
           "sequentialminus": [
            [
             0,
             "#0d0887"
            ],
            [
             0.1111111111111111,
             "#46039f"
            ],
            [
             0.2222222222222222,
             "#7201a8"
            ],
            [
             0.3333333333333333,
             "#9c179e"
            ],
            [
             0.4444444444444444,
             "#bd3786"
            ],
            [
             0.5555555555555556,
             "#d8576b"
            ],
            [
             0.6666666666666666,
             "#ed7953"
            ],
            [
             0.7777777777777778,
             "#fb9f3a"
            ],
            [
             0.8888888888888888,
             "#fdca26"
            ],
            [
             1,
             "#f0f921"
            ]
           ]
          },
          "colorway": [
           "#636efa",
           "#EF553B",
           "#00cc96",
           "#ab63fa",
           "#FFA15A",
           "#19d3f3",
           "#FF6692",
           "#B6E880",
           "#FF97FF",
           "#FECB52"
          ],
          "font": {
           "color": "#2a3f5f"
          },
          "geo": {
           "bgcolor": "white",
           "lakecolor": "white",
           "landcolor": "#E5ECF6",
           "showlakes": true,
           "showland": true,
           "subunitcolor": "white"
          },
          "hoverlabel": {
           "align": "left"
          },
          "hovermode": "closest",
          "mapbox": {
           "style": "light"
          },
          "paper_bgcolor": "white",
          "plot_bgcolor": "#E5ECF6",
          "polar": {
           "angularaxis": {
            "gridcolor": "white",
            "linecolor": "white",
            "ticks": ""
           },
           "bgcolor": "#E5ECF6",
           "radialaxis": {
            "gridcolor": "white",
            "linecolor": "white",
            "ticks": ""
           }
          },
          "scene": {
           "xaxis": {
            "backgroundcolor": "#E5ECF6",
            "gridcolor": "white",
            "gridwidth": 2,
            "linecolor": "white",
            "showbackground": true,
            "ticks": "",
            "zerolinecolor": "white"
           },
           "yaxis": {
            "backgroundcolor": "#E5ECF6",
            "gridcolor": "white",
            "gridwidth": 2,
            "linecolor": "white",
            "showbackground": true,
            "ticks": "",
            "zerolinecolor": "white"
           },
           "zaxis": {
            "backgroundcolor": "#E5ECF6",
            "gridcolor": "white",
            "gridwidth": 2,
            "linecolor": "white",
            "showbackground": true,
            "ticks": "",
            "zerolinecolor": "white"
           }
          },
          "shapedefaults": {
           "line": {
            "color": "#2a3f5f"
           }
          },
          "ternary": {
           "aaxis": {
            "gridcolor": "white",
            "linecolor": "white",
            "ticks": ""
           },
           "baxis": {
            "gridcolor": "white",
            "linecolor": "white",
            "ticks": ""
           },
           "bgcolor": "#E5ECF6",
           "caxis": {
            "gridcolor": "white",
            "linecolor": "white",
            "ticks": ""
           }
          },
          "title": {
           "x": 0.05
          },
          "xaxis": {
           "automargin": true,
           "gridcolor": "white",
           "linecolor": "white",
           "ticks": "",
           "title": {
            "standoff": 15
           },
           "zerolinecolor": "white",
           "zerolinewidth": 2
          },
          "yaxis": {
           "automargin": true,
           "gridcolor": "white",
           "linecolor": "white",
           "ticks": "",
           "title": {
            "standoff": 15
           },
           "zerolinecolor": "white",
           "zerolinewidth": 2
          }
         }
        },
        "title": {
         "text": "Train vs Test"
        },
        "xaxis": {
         "title": {
          "text": "Ranking"
         }
        },
        "yaxis": {
         "title": {
          "text": "Demographic Parity Difference"
         }
        }
       }
      },
      "text/html": [
       "<div>                            <div id=\"8d4a4b98-5e11-4ca0-b2a5-32865b61fb9d\" class=\"plotly-graph-div\" style=\"height:525px; width:100%;\"></div>            <script type=\"text/javascript\">                require([\"plotly\"], function(Plotly) {                    window.PLOTLYENV=window.PLOTLYENV || {};                                    if (document.getElementById(\"8d4a4b98-5e11-4ca0-b2a5-32865b61fb9d\")) {                    Plotly.newPlot(                        \"8d4a4b98-5e11-4ca0-b2a5-32865b61fb9d\",                        [{\"customdata\":[\"RF\",\"LGBM\",\"RF\",\"RF\",\"RF\",\"RF\",\"RF\",\"RF\",\"RF\",\"RF\",\"RF\",\"RF\",\"RF\",\"RF\",\"LGBM\",\"LGBM\",\"LGBM\",\"LGBM\",\"LGBM\",\"LGBM\",\"LGBM\",\"GBM\",\"GBM\",\"LGBM\",\"GBM\",\"LGBM\",\"LGBM\",\"LGBM\",\"LGBM\"],\"hovertemplate\":\"Ranking: %{x}<br>Demographic Parity Difference (train): %{y:,.3f}<br>Model: %{customdata}\",\"marker\":{\"color\":\"#4682B4\"},\"mode\":\"markers\",\"x\":[0,1,2,3,4,5,6,7,8,9,10,11,12,13,14,15,16,17,18,19,20,21,22,23,24,25,26,27,28],\"y\":[0.0006043453401943968,0.010207096204361728,0.015835777036331926,0.017199430462979018,0.025734954333878384,0.028526457694635476,0.029606008591919048,0.03265073570041173,0.03400739456528039,0.034155388985479186,0.03740151261242263,0.0395134259058119,0.041228564454003594,0.05117881810248072,0.05273951785115906,0.08449842204379632,0.10740823212189159,0.11466387385901407,0.13423651839351414,0.13976857969207193,0.14458051414213738,0.1471191724175423,0.14726712861991129,0.15408285828344281,0.15583733339559255,0.15654277736416844,0.1575944482475095,0.163036534419635,0.16694977361368127],\"type\":\"scatter\"},{\"customdata\":[\"RF\",\"LGBM\",\"RF\",\"RF\",\"RF\",\"RF\",\"RF\",\"RF\",\"RF\",\"RF\",\"RF\",\"RF\",\"RF\",\"RF\",\"LGBM\",\"LGBM\",\"LGBM\",\"LGBM\",\"LGBM\",\"LGBM\",\"LGBM\",\"GBM\",\"GBM\",\"LGBM\",\"GBM\",\"LGBM\",\"LGBM\",\"LGBM\",\"LGBM\"],\"hovertemplate\":\"Ranking: %{x}<br>Demographic Parity Difference (test): %{y:,.3f}<br>Model: %{customdata}\",\"marker\":{\"color\":\"#87CEEB\"},\"mode\":\"markers\",\"x\":[0,1,2,3,4,5,6,7,8,9,10,11,12,13,14,15,16,17,18,19,20,21,22,23,24,25,26,27,28],\"y\":[0.0,0.024313328730387388,0.008266676872440584,0.025871636878564048,0.029430900531975966,0.03409862890069106,0.02998377734288921,0.029955398077586383,0.03780108677596749,0.035379373702224756,0.03910526464936182,0.042477409636216636,0.041596455036847294,0.06892665429290491,0.06213231108848615,0.08558764229785365,0.1246773617678257,0.1323856243396237,0.1504245219084957,0.15436249309495284,0.16124361789895844,0.16124726619705027,0.16178518912486095,0.17352775096125928,0.1704077317547733,0.17592779006959575,0.1775770041089622,0.18124754972362,0.1753266339168349],\"type\":\"scatter\"}],                        {\"template\":{\"data\":{\"histogram2dcontour\":[{\"type\":\"histogram2dcontour\",\"colorbar\":{\"outlinewidth\":0,\"ticks\":\"\"},\"colorscale\":[[0.0,\"#0d0887\"],[0.1111111111111111,\"#46039f\"],[0.2222222222222222,\"#7201a8\"],[0.3333333333333333,\"#9c179e\"],[0.4444444444444444,\"#bd3786\"],[0.5555555555555556,\"#d8576b\"],[0.6666666666666666,\"#ed7953\"],[0.7777777777777778,\"#fb9f3a\"],[0.8888888888888888,\"#fdca26\"],[1.0,\"#f0f921\"]]}],\"choropleth\":[{\"type\":\"choropleth\",\"colorbar\":{\"outlinewidth\":0,\"ticks\":\"\"}}],\"histogram2d\":[{\"type\":\"histogram2d\",\"colorbar\":{\"outlinewidth\":0,\"ticks\":\"\"},\"colorscale\":[[0.0,\"#0d0887\"],[0.1111111111111111,\"#46039f\"],[0.2222222222222222,\"#7201a8\"],[0.3333333333333333,\"#9c179e\"],[0.4444444444444444,\"#bd3786\"],[0.5555555555555556,\"#d8576b\"],[0.6666666666666666,\"#ed7953\"],[0.7777777777777778,\"#fb9f3a\"],[0.8888888888888888,\"#fdca26\"],[1.0,\"#f0f921\"]]}],\"heatmap\":[{\"type\":\"heatmap\",\"colorbar\":{\"outlinewidth\":0,\"ticks\":\"\"},\"colorscale\":[[0.0,\"#0d0887\"],[0.1111111111111111,\"#46039f\"],[0.2222222222222222,\"#7201a8\"],[0.3333333333333333,\"#9c179e\"],[0.4444444444444444,\"#bd3786\"],[0.5555555555555556,\"#d8576b\"],[0.6666666666666666,\"#ed7953\"],[0.7777777777777778,\"#fb9f3a\"],[0.8888888888888888,\"#fdca26\"],[1.0,\"#f0f921\"]]}],\"heatmapgl\":[{\"type\":\"heatmapgl\",\"colorbar\":{\"outlinewidth\":0,\"ticks\":\"\"},\"colorscale\":[[0.0,\"#0d0887\"],[0.1111111111111111,\"#46039f\"],[0.2222222222222222,\"#7201a8\"],[0.3333333333333333,\"#9c179e\"],[0.4444444444444444,\"#bd3786\"],[0.5555555555555556,\"#d8576b\"],[0.6666666666666666,\"#ed7953\"],[0.7777777777777778,\"#fb9f3a\"],[0.8888888888888888,\"#fdca26\"],[1.0,\"#f0f921\"]]}],\"contourcarpet\":[{\"type\":\"contourcarpet\",\"colorbar\":{\"outlinewidth\":0,\"ticks\":\"\"}}],\"contour\":[{\"type\":\"contour\",\"colorbar\":{\"outlinewidth\":0,\"ticks\":\"\"},\"colorscale\":[[0.0,\"#0d0887\"],[0.1111111111111111,\"#46039f\"],[0.2222222222222222,\"#7201a8\"],[0.3333333333333333,\"#9c179e\"],[0.4444444444444444,\"#bd3786\"],[0.5555555555555556,\"#d8576b\"],[0.6666666666666666,\"#ed7953\"],[0.7777777777777778,\"#fb9f3a\"],[0.8888888888888888,\"#fdca26\"],[1.0,\"#f0f921\"]]}],\"surface\":[{\"type\":\"surface\",\"colorbar\":{\"outlinewidth\":0,\"ticks\":\"\"},\"colorscale\":[[0.0,\"#0d0887\"],[0.1111111111111111,\"#46039f\"],[0.2222222222222222,\"#7201a8\"],[0.3333333333333333,\"#9c179e\"],[0.4444444444444444,\"#bd3786\"],[0.5555555555555556,\"#d8576b\"],[0.6666666666666666,\"#ed7953\"],[0.7777777777777778,\"#fb9f3a\"],[0.8888888888888888,\"#fdca26\"],[1.0,\"#f0f921\"]]}],\"mesh3d\":[{\"type\":\"mesh3d\",\"colorbar\":{\"outlinewidth\":0,\"ticks\":\"\"}}],\"scatter\":[{\"fillpattern\":{\"fillmode\":\"overlay\",\"size\":10,\"solidity\":0.2},\"type\":\"scatter\"}],\"parcoords\":[{\"type\":\"parcoords\",\"line\":{\"colorbar\":{\"outlinewidth\":0,\"ticks\":\"\"}}}],\"scatterpolargl\":[{\"type\":\"scatterpolargl\",\"marker\":{\"colorbar\":{\"outlinewidth\":0,\"ticks\":\"\"}}}],\"bar\":[{\"error_x\":{\"color\":\"#2a3f5f\"},\"error_y\":{\"color\":\"#2a3f5f\"},\"marker\":{\"line\":{\"color\":\"#E5ECF6\",\"width\":0.5},\"pattern\":{\"fillmode\":\"overlay\",\"size\":10,\"solidity\":0.2}},\"type\":\"bar\"}],\"scattergeo\":[{\"type\":\"scattergeo\",\"marker\":{\"colorbar\":{\"outlinewidth\":0,\"ticks\":\"\"}}}],\"scatterpolar\":[{\"type\":\"scatterpolar\",\"marker\":{\"colorbar\":{\"outlinewidth\":0,\"ticks\":\"\"}}}],\"histogram\":[{\"marker\":{\"pattern\":{\"fillmode\":\"overlay\",\"size\":10,\"solidity\":0.2}},\"type\":\"histogram\"}],\"scattergl\":[{\"type\":\"scattergl\",\"marker\":{\"colorbar\":{\"outlinewidth\":0,\"ticks\":\"\"}}}],\"scatter3d\":[{\"type\":\"scatter3d\",\"line\":{\"colorbar\":{\"outlinewidth\":0,\"ticks\":\"\"}},\"marker\":{\"colorbar\":{\"outlinewidth\":0,\"ticks\":\"\"}}}],\"scattermapbox\":[{\"type\":\"scattermapbox\",\"marker\":{\"colorbar\":{\"outlinewidth\":0,\"ticks\":\"\"}}}],\"scatterternary\":[{\"type\":\"scatterternary\",\"marker\":{\"colorbar\":{\"outlinewidth\":0,\"ticks\":\"\"}}}],\"scattercarpet\":[{\"type\":\"scattercarpet\",\"marker\":{\"colorbar\":{\"outlinewidth\":0,\"ticks\":\"\"}}}],\"carpet\":[{\"aaxis\":{\"endlinecolor\":\"#2a3f5f\",\"gridcolor\":\"white\",\"linecolor\":\"white\",\"minorgridcolor\":\"white\",\"startlinecolor\":\"#2a3f5f\"},\"baxis\":{\"endlinecolor\":\"#2a3f5f\",\"gridcolor\":\"white\",\"linecolor\":\"white\",\"minorgridcolor\":\"white\",\"startlinecolor\":\"#2a3f5f\"},\"type\":\"carpet\"}],\"table\":[{\"cells\":{\"fill\":{\"color\":\"#EBF0F8\"},\"line\":{\"color\":\"white\"}},\"header\":{\"fill\":{\"color\":\"#C8D4E3\"},\"line\":{\"color\":\"white\"}},\"type\":\"table\"}],\"barpolar\":[{\"marker\":{\"line\":{\"color\":\"#E5ECF6\",\"width\":0.5},\"pattern\":{\"fillmode\":\"overlay\",\"size\":10,\"solidity\":0.2}},\"type\":\"barpolar\"}],\"pie\":[{\"automargin\":true,\"type\":\"pie\"}]},\"layout\":{\"autotypenumbers\":\"strict\",\"colorway\":[\"#636efa\",\"#EF553B\",\"#00cc96\",\"#ab63fa\",\"#FFA15A\",\"#19d3f3\",\"#FF6692\",\"#B6E880\",\"#FF97FF\",\"#FECB52\"],\"font\":{\"color\":\"#2a3f5f\"},\"hovermode\":\"closest\",\"hoverlabel\":{\"align\":\"left\"},\"paper_bgcolor\":\"white\",\"plot_bgcolor\":\"#E5ECF6\",\"polar\":{\"bgcolor\":\"#E5ECF6\",\"angularaxis\":{\"gridcolor\":\"white\",\"linecolor\":\"white\",\"ticks\":\"\"},\"radialaxis\":{\"gridcolor\":\"white\",\"linecolor\":\"white\",\"ticks\":\"\"}},\"ternary\":{\"bgcolor\":\"#E5ECF6\",\"aaxis\":{\"gridcolor\":\"white\",\"linecolor\":\"white\",\"ticks\":\"\"},\"baxis\":{\"gridcolor\":\"white\",\"linecolor\":\"white\",\"ticks\":\"\"},\"caxis\":{\"gridcolor\":\"white\",\"linecolor\":\"white\",\"ticks\":\"\"}},\"coloraxis\":{\"colorbar\":{\"outlinewidth\":0,\"ticks\":\"\"}},\"colorscale\":{\"sequential\":[[0.0,\"#0d0887\"],[0.1111111111111111,\"#46039f\"],[0.2222222222222222,\"#7201a8\"],[0.3333333333333333,\"#9c179e\"],[0.4444444444444444,\"#bd3786\"],[0.5555555555555556,\"#d8576b\"],[0.6666666666666666,\"#ed7953\"],[0.7777777777777778,\"#fb9f3a\"],[0.8888888888888888,\"#fdca26\"],[1.0,\"#f0f921\"]],\"sequentialminus\":[[0.0,\"#0d0887\"],[0.1111111111111111,\"#46039f\"],[0.2222222222222222,\"#7201a8\"],[0.3333333333333333,\"#9c179e\"],[0.4444444444444444,\"#bd3786\"],[0.5555555555555556,\"#d8576b\"],[0.6666666666666666,\"#ed7953\"],[0.7777777777777778,\"#fb9f3a\"],[0.8888888888888888,\"#fdca26\"],[1.0,\"#f0f921\"]],\"diverging\":[[0,\"#8e0152\"],[0.1,\"#c51b7d\"],[0.2,\"#de77ae\"],[0.3,\"#f1b6da\"],[0.4,\"#fde0ef\"],[0.5,\"#f7f7f7\"],[0.6,\"#e6f5d0\"],[0.7,\"#b8e186\"],[0.8,\"#7fbc41\"],[0.9,\"#4d9221\"],[1,\"#276419\"]]},\"xaxis\":{\"gridcolor\":\"white\",\"linecolor\":\"white\",\"ticks\":\"\",\"title\":{\"standoff\":15},\"zerolinecolor\":\"white\",\"automargin\":true,\"zerolinewidth\":2},\"yaxis\":{\"gridcolor\":\"white\",\"linecolor\":\"white\",\"ticks\":\"\",\"title\":{\"standoff\":15},\"zerolinecolor\":\"white\",\"automargin\":true,\"zerolinewidth\":2},\"scene\":{\"xaxis\":{\"backgroundcolor\":\"#E5ECF6\",\"gridcolor\":\"white\",\"linecolor\":\"white\",\"showbackground\":true,\"ticks\":\"\",\"zerolinecolor\":\"white\",\"gridwidth\":2},\"yaxis\":{\"backgroundcolor\":\"#E5ECF6\",\"gridcolor\":\"white\",\"linecolor\":\"white\",\"showbackground\":true,\"ticks\":\"\",\"zerolinecolor\":\"white\",\"gridwidth\":2},\"zaxis\":{\"backgroundcolor\":\"#E5ECF6\",\"gridcolor\":\"white\",\"linecolor\":\"white\",\"showbackground\":true,\"ticks\":\"\",\"zerolinecolor\":\"white\",\"gridwidth\":2}},\"shapedefaults\":{\"line\":{\"color\":\"#2a3f5f\"}},\"annotationdefaults\":{\"arrowcolor\":\"#2a3f5f\",\"arrowhead\":0,\"arrowwidth\":1},\"geo\":{\"bgcolor\":\"white\",\"landcolor\":\"#E5ECF6\",\"subunitcolor\":\"white\",\"showland\":true,\"showlakes\":true,\"lakecolor\":\"white\"},\"title\":{\"x\":0.05},\"mapbox\":{\"style\":\"light\"}}},\"title\":{\"text\":\"Train vs Test\"},\"xaxis\":{\"title\":{\"text\":\"Ranking\"}},\"yaxis\":{\"title\":{\"text\":\"Demographic Parity Difference\"}},\"showlegend\":false},                        {\"responsive\": true}                    ).then(function(){\n",
       "                            \n",
       "var gd = document.getElementById('8d4a4b98-5e11-4ca0-b2a5-32865b61fb9d');\n",
       "var x = new MutationObserver(function (mutations, observer) {{\n",
       "        var display = window.getComputedStyle(gd).display;\n",
       "        if (!display || display === 'none') {{\n",
       "            console.log([gd, 'removed!']);\n",
       "            Plotly.purge(gd);\n",
       "            observer.disconnect();\n",
       "        }}\n",
       "}});\n",
       "\n",
       "// Listen for the removal of the full notebook cells\n",
       "var notebookContainer = gd.closest('#notebook-container');\n",
       "if (notebookContainer) {{\n",
       "    x.observe(notebookContainer, {childList: true});\n",
       "}}\n",
       "\n",
       "// Listen for the clearing of the current output cell\n",
       "var outputEl = gd.closest('.output');\n",
       "if (outputEl) {{\n",
       "    x.observe(outputEl, {childList: true});\n",
       "}}\n",
       "\n",
       "                        })                };                });            </script>        </div>"
      ]
     },
     "metadata": {},
     "output_type": "display_data"
    }
   ],
   "source": [
    "def fig_train_test(df_metrics, metric_title, train_col, test_col):\n",
    "    fig = go.Figure()\n",
    "    fig.add_trace(\n",
    "        go.Scatter(\n",
    "            x=df_metrics.index, \n",
    "            y=df_metrics[train_col],\n",
    "            mode='markers', \n",
    "            marker_color='#4682B4',\n",
    "            customdata = df_metrics['model'],\n",
    "            hovertemplate=\"<br>\".join([\n",
    "                \"Ranking: %{x}\",\n",
    "                metric_title +\" (train): %{y:,.3f}\",\n",
    "                \"Model: %{customdata}\",\n",
    "            ])\n",
    "            ))\n",
    "    fig.add_trace(\n",
    "        go.Scatter(\n",
    "            x= df_metrics.index, \n",
    "            y= df_metrics[test_col], \n",
    "            customdata = df_metrics['model'],\n",
    "            mode = 'markers',\n",
    "            marker_color='#87CEEB',\n",
    "            hovertemplate=\"<br>\".join([\n",
    "                \"Ranking: %{x}\",\n",
    "                metric_title +\" (test): %{y:,.3f}\",\n",
    "                \"Model: %{customdata}\",\n",
    "            ])\n",
    "            ))\n",
    "    fig.update_layout(\n",
    "        title=\"Train vs Test\",\n",
    "        xaxis_title=\"Ranking\",\n",
    "        yaxis_title= metric_title,\n",
    "        #legend_title=\"Legend Title\",\n",
    "        showlegend = False,\n",
    "    )\n",
    "    return fig\n",
    "\n",
    "fig_train_test(\n",
    "    df_metrics_sorted,\n",
    "    metric_title = 'Demographic Parity Difference',\n",
    "    train_col = 'train_fair',\n",
    "    test_col = 'disparity difference')"
   ]
  },
  {
   "cell_type": "code",
   "execution_count": 125,
   "metadata": {},
   "outputs": [
    {
     "data": {
      "application/vnd.plotly.v1+json": {
       "config": {
        "plotlyServerURL": "https://plot.ly"
       },
       "data": [
        {
         "customdata": [
          "RF",
          "LGBM",
          "RF",
          "RF",
          "RF",
          "RF",
          "RF",
          "RF",
          "RF",
          "RF",
          "RF",
          "RF",
          "RF",
          "RF",
          "LGBM",
          "LGBM",
          "LGBM",
          "LGBM",
          "LGBM",
          "LGBM",
          "LGBM",
          "GBM",
          "GBM",
          "LGBM",
          "GBM",
          "LGBM",
          "LGBM",
          "LGBM",
          "LGBM"
         ],
         "hovertemplate": "Ranking: %{x}<br>F1 Score (train): %{y:,.3f}<br>Model: %{customdata}",
         "marker": {
          "color": "#4682B4"
         },
         "mode": "markers",
         "type": "scatter",
         "x": [
          0,
          1,
          2,
          3,
          4,
          5,
          6,
          7,
          8,
          9,
          10,
          11,
          12,
          13,
          14,
          15,
          16,
          17,
          18,
          19,
          20,
          21,
          22,
          23,
          24,
          25,
          26,
          27,
          28
         ],
         "y": [
          0.003406069954180466,
          0.06739663328722449,
          0.08348364009045559,
          0.09119536072194216,
          0.13628974566979832,
          0.1516307124439352,
          0.15671533193829218,
          0.1690361824705841,
          0.1916809620921305,
          0.1956506135255074,
          0.2190391835915082,
          0.220304905638346,
          0.22446850792802917,
          0.27476604440332936,
          0.3469545486700884,
          0.4650190387512157,
          0.5617151683524966,
          0.577757022013953,
          0.6199567189828541,
          0.6400201159545355,
          0.6448217624349957,
          0.6492764919070839,
          0.6507017955653762,
          0.6575394929340137,
          0.6694092508529749,
          0.6884158995929688,
          0.691333778128108,
          0.6913705947360904,
          0.6951408110333032
         ]
        },
        {
         "customdata": [
          "RF",
          "LGBM",
          "RF",
          "RF",
          "RF",
          "RF",
          "RF",
          "RF",
          "RF",
          "RF",
          "RF",
          "RF",
          "RF",
          "RF",
          "LGBM",
          "LGBM",
          "LGBM",
          "LGBM",
          "LGBM",
          "LGBM",
          "LGBM",
          "GBM",
          "GBM",
          "LGBM",
          "GBM",
          "LGBM",
          "LGBM",
          "LGBM",
          "LGBM"
         ],
         "hovertemplate": "Ranking: %{x}<br>F1 Score (test): %{y:,.3f}<br>Model: %{customdata}",
         "marker": {
          "color": "#87CEEB"
         },
         "mode": "markers",
         "type": "scatter",
         "x": [
          0,
          1,
          2,
          3,
          4,
          5,
          6,
          7,
          8,
          9,
          10,
          11,
          12,
          13,
          14,
          15,
          16,
          17,
          18,
          19,
          20,
          21,
          22,
          23,
          24,
          25,
          26,
          27,
          28
         ],
         "y": [
          0,
          0.17767387492694328,
          0.044950867656282666,
          0.13445042888489925,
          0.15159600751062358,
          0.17429491558504925,
          0.17038341158059467,
          0.16285237206561243,
          0.19795879067976122,
          0.19502314814814814,
          0.22892819979188347,
          0.2403909407010619,
          0.23745410036719705,
          0.31421754882035874,
          0.3531550246689172,
          0.4869957950475004,
          0.5805081746761979,
          0.5927774312053787,
          0.623731048121292,
          0.6454504706409683,
          0.6505369551484522,
          0.6535235949430468,
          0.6535694175061003,
          0.6736753574432296,
          0.6757336273969246,
          0.6962477316630568,
          0.6976798550639939,
          0.6910927882940424,
          0.6961319411485524
         ]
        }
       ],
       "layout": {
        "showlegend": false,
        "template": {
         "data": {
          "bar": [
           {
            "error_x": {
             "color": "#2a3f5f"
            },
            "error_y": {
             "color": "#2a3f5f"
            },
            "marker": {
             "line": {
              "color": "#E5ECF6",
              "width": 0.5
             },
             "pattern": {
              "fillmode": "overlay",
              "size": 10,
              "solidity": 0.2
             }
            },
            "type": "bar"
           }
          ],
          "barpolar": [
           {
            "marker": {
             "line": {
              "color": "#E5ECF6",
              "width": 0.5
             },
             "pattern": {
              "fillmode": "overlay",
              "size": 10,
              "solidity": 0.2
             }
            },
            "type": "barpolar"
           }
          ],
          "carpet": [
           {
            "aaxis": {
             "endlinecolor": "#2a3f5f",
             "gridcolor": "white",
             "linecolor": "white",
             "minorgridcolor": "white",
             "startlinecolor": "#2a3f5f"
            },
            "baxis": {
             "endlinecolor": "#2a3f5f",
             "gridcolor": "white",
             "linecolor": "white",
             "minorgridcolor": "white",
             "startlinecolor": "#2a3f5f"
            },
            "type": "carpet"
           }
          ],
          "choropleth": [
           {
            "colorbar": {
             "outlinewidth": 0,
             "ticks": ""
            },
            "type": "choropleth"
           }
          ],
          "contour": [
           {
            "colorbar": {
             "outlinewidth": 0,
             "ticks": ""
            },
            "colorscale": [
             [
              0,
              "#0d0887"
             ],
             [
              0.1111111111111111,
              "#46039f"
             ],
             [
              0.2222222222222222,
              "#7201a8"
             ],
             [
              0.3333333333333333,
              "#9c179e"
             ],
             [
              0.4444444444444444,
              "#bd3786"
             ],
             [
              0.5555555555555556,
              "#d8576b"
             ],
             [
              0.6666666666666666,
              "#ed7953"
             ],
             [
              0.7777777777777778,
              "#fb9f3a"
             ],
             [
              0.8888888888888888,
              "#fdca26"
             ],
             [
              1,
              "#f0f921"
             ]
            ],
            "type": "contour"
           }
          ],
          "contourcarpet": [
           {
            "colorbar": {
             "outlinewidth": 0,
             "ticks": ""
            },
            "type": "contourcarpet"
           }
          ],
          "heatmap": [
           {
            "colorbar": {
             "outlinewidth": 0,
             "ticks": ""
            },
            "colorscale": [
             [
              0,
              "#0d0887"
             ],
             [
              0.1111111111111111,
              "#46039f"
             ],
             [
              0.2222222222222222,
              "#7201a8"
             ],
             [
              0.3333333333333333,
              "#9c179e"
             ],
             [
              0.4444444444444444,
              "#bd3786"
             ],
             [
              0.5555555555555556,
              "#d8576b"
             ],
             [
              0.6666666666666666,
              "#ed7953"
             ],
             [
              0.7777777777777778,
              "#fb9f3a"
             ],
             [
              0.8888888888888888,
              "#fdca26"
             ],
             [
              1,
              "#f0f921"
             ]
            ],
            "type": "heatmap"
           }
          ],
          "heatmapgl": [
           {
            "colorbar": {
             "outlinewidth": 0,
             "ticks": ""
            },
            "colorscale": [
             [
              0,
              "#0d0887"
             ],
             [
              0.1111111111111111,
              "#46039f"
             ],
             [
              0.2222222222222222,
              "#7201a8"
             ],
             [
              0.3333333333333333,
              "#9c179e"
             ],
             [
              0.4444444444444444,
              "#bd3786"
             ],
             [
              0.5555555555555556,
              "#d8576b"
             ],
             [
              0.6666666666666666,
              "#ed7953"
             ],
             [
              0.7777777777777778,
              "#fb9f3a"
             ],
             [
              0.8888888888888888,
              "#fdca26"
             ],
             [
              1,
              "#f0f921"
             ]
            ],
            "type": "heatmapgl"
           }
          ],
          "histogram": [
           {
            "marker": {
             "pattern": {
              "fillmode": "overlay",
              "size": 10,
              "solidity": 0.2
             }
            },
            "type": "histogram"
           }
          ],
          "histogram2d": [
           {
            "colorbar": {
             "outlinewidth": 0,
             "ticks": ""
            },
            "colorscale": [
             [
              0,
              "#0d0887"
             ],
             [
              0.1111111111111111,
              "#46039f"
             ],
             [
              0.2222222222222222,
              "#7201a8"
             ],
             [
              0.3333333333333333,
              "#9c179e"
             ],
             [
              0.4444444444444444,
              "#bd3786"
             ],
             [
              0.5555555555555556,
              "#d8576b"
             ],
             [
              0.6666666666666666,
              "#ed7953"
             ],
             [
              0.7777777777777778,
              "#fb9f3a"
             ],
             [
              0.8888888888888888,
              "#fdca26"
             ],
             [
              1,
              "#f0f921"
             ]
            ],
            "type": "histogram2d"
           }
          ],
          "histogram2dcontour": [
           {
            "colorbar": {
             "outlinewidth": 0,
             "ticks": ""
            },
            "colorscale": [
             [
              0,
              "#0d0887"
             ],
             [
              0.1111111111111111,
              "#46039f"
             ],
             [
              0.2222222222222222,
              "#7201a8"
             ],
             [
              0.3333333333333333,
              "#9c179e"
             ],
             [
              0.4444444444444444,
              "#bd3786"
             ],
             [
              0.5555555555555556,
              "#d8576b"
             ],
             [
              0.6666666666666666,
              "#ed7953"
             ],
             [
              0.7777777777777778,
              "#fb9f3a"
             ],
             [
              0.8888888888888888,
              "#fdca26"
             ],
             [
              1,
              "#f0f921"
             ]
            ],
            "type": "histogram2dcontour"
           }
          ],
          "mesh3d": [
           {
            "colorbar": {
             "outlinewidth": 0,
             "ticks": ""
            },
            "type": "mesh3d"
           }
          ],
          "parcoords": [
           {
            "line": {
             "colorbar": {
              "outlinewidth": 0,
              "ticks": ""
             }
            },
            "type": "parcoords"
           }
          ],
          "pie": [
           {
            "automargin": true,
            "type": "pie"
           }
          ],
          "scatter": [
           {
            "fillpattern": {
             "fillmode": "overlay",
             "size": 10,
             "solidity": 0.2
            },
            "type": "scatter"
           }
          ],
          "scatter3d": [
           {
            "line": {
             "colorbar": {
              "outlinewidth": 0,
              "ticks": ""
             }
            },
            "marker": {
             "colorbar": {
              "outlinewidth": 0,
              "ticks": ""
             }
            },
            "type": "scatter3d"
           }
          ],
          "scattercarpet": [
           {
            "marker": {
             "colorbar": {
              "outlinewidth": 0,
              "ticks": ""
             }
            },
            "type": "scattercarpet"
           }
          ],
          "scattergeo": [
           {
            "marker": {
             "colorbar": {
              "outlinewidth": 0,
              "ticks": ""
             }
            },
            "type": "scattergeo"
           }
          ],
          "scattergl": [
           {
            "marker": {
             "colorbar": {
              "outlinewidth": 0,
              "ticks": ""
             }
            },
            "type": "scattergl"
           }
          ],
          "scattermapbox": [
           {
            "marker": {
             "colorbar": {
              "outlinewidth": 0,
              "ticks": ""
             }
            },
            "type": "scattermapbox"
           }
          ],
          "scatterpolar": [
           {
            "marker": {
             "colorbar": {
              "outlinewidth": 0,
              "ticks": ""
             }
            },
            "type": "scatterpolar"
           }
          ],
          "scatterpolargl": [
           {
            "marker": {
             "colorbar": {
              "outlinewidth": 0,
              "ticks": ""
             }
            },
            "type": "scatterpolargl"
           }
          ],
          "scatterternary": [
           {
            "marker": {
             "colorbar": {
              "outlinewidth": 0,
              "ticks": ""
             }
            },
            "type": "scatterternary"
           }
          ],
          "surface": [
           {
            "colorbar": {
             "outlinewidth": 0,
             "ticks": ""
            },
            "colorscale": [
             [
              0,
              "#0d0887"
             ],
             [
              0.1111111111111111,
              "#46039f"
             ],
             [
              0.2222222222222222,
              "#7201a8"
             ],
             [
              0.3333333333333333,
              "#9c179e"
             ],
             [
              0.4444444444444444,
              "#bd3786"
             ],
             [
              0.5555555555555556,
              "#d8576b"
             ],
             [
              0.6666666666666666,
              "#ed7953"
             ],
             [
              0.7777777777777778,
              "#fb9f3a"
             ],
             [
              0.8888888888888888,
              "#fdca26"
             ],
             [
              1,
              "#f0f921"
             ]
            ],
            "type": "surface"
           }
          ],
          "table": [
           {
            "cells": {
             "fill": {
              "color": "#EBF0F8"
             },
             "line": {
              "color": "white"
             }
            },
            "header": {
             "fill": {
              "color": "#C8D4E3"
             },
             "line": {
              "color": "white"
             }
            },
            "type": "table"
           }
          ]
         },
         "layout": {
          "annotationdefaults": {
           "arrowcolor": "#2a3f5f",
           "arrowhead": 0,
           "arrowwidth": 1
          },
          "autotypenumbers": "strict",
          "coloraxis": {
           "colorbar": {
            "outlinewidth": 0,
            "ticks": ""
           }
          },
          "colorscale": {
           "diverging": [
            [
             0,
             "#8e0152"
            ],
            [
             0.1,
             "#c51b7d"
            ],
            [
             0.2,
             "#de77ae"
            ],
            [
             0.3,
             "#f1b6da"
            ],
            [
             0.4,
             "#fde0ef"
            ],
            [
             0.5,
             "#f7f7f7"
            ],
            [
             0.6,
             "#e6f5d0"
            ],
            [
             0.7,
             "#b8e186"
            ],
            [
             0.8,
             "#7fbc41"
            ],
            [
             0.9,
             "#4d9221"
            ],
            [
             1,
             "#276419"
            ]
           ],
           "sequential": [
            [
             0,
             "#0d0887"
            ],
            [
             0.1111111111111111,
             "#46039f"
            ],
            [
             0.2222222222222222,
             "#7201a8"
            ],
            [
             0.3333333333333333,
             "#9c179e"
            ],
            [
             0.4444444444444444,
             "#bd3786"
            ],
            [
             0.5555555555555556,
             "#d8576b"
            ],
            [
             0.6666666666666666,
             "#ed7953"
            ],
            [
             0.7777777777777778,
             "#fb9f3a"
            ],
            [
             0.8888888888888888,
             "#fdca26"
            ],
            [
             1,
             "#f0f921"
            ]
           ],
           "sequentialminus": [
            [
             0,
             "#0d0887"
            ],
            [
             0.1111111111111111,
             "#46039f"
            ],
            [
             0.2222222222222222,
             "#7201a8"
            ],
            [
             0.3333333333333333,
             "#9c179e"
            ],
            [
             0.4444444444444444,
             "#bd3786"
            ],
            [
             0.5555555555555556,
             "#d8576b"
            ],
            [
             0.6666666666666666,
             "#ed7953"
            ],
            [
             0.7777777777777778,
             "#fb9f3a"
            ],
            [
             0.8888888888888888,
             "#fdca26"
            ],
            [
             1,
             "#f0f921"
            ]
           ]
          },
          "colorway": [
           "#636efa",
           "#EF553B",
           "#00cc96",
           "#ab63fa",
           "#FFA15A",
           "#19d3f3",
           "#FF6692",
           "#B6E880",
           "#FF97FF",
           "#FECB52"
          ],
          "font": {
           "color": "#2a3f5f"
          },
          "geo": {
           "bgcolor": "white",
           "lakecolor": "white",
           "landcolor": "#E5ECF6",
           "showlakes": true,
           "showland": true,
           "subunitcolor": "white"
          },
          "hoverlabel": {
           "align": "left"
          },
          "hovermode": "closest",
          "mapbox": {
           "style": "light"
          },
          "paper_bgcolor": "white",
          "plot_bgcolor": "#E5ECF6",
          "polar": {
           "angularaxis": {
            "gridcolor": "white",
            "linecolor": "white",
            "ticks": ""
           },
           "bgcolor": "#E5ECF6",
           "radialaxis": {
            "gridcolor": "white",
            "linecolor": "white",
            "ticks": ""
           }
          },
          "scene": {
           "xaxis": {
            "backgroundcolor": "#E5ECF6",
            "gridcolor": "white",
            "gridwidth": 2,
            "linecolor": "white",
            "showbackground": true,
            "ticks": "",
            "zerolinecolor": "white"
           },
           "yaxis": {
            "backgroundcolor": "#E5ECF6",
            "gridcolor": "white",
            "gridwidth": 2,
            "linecolor": "white",
            "showbackground": true,
            "ticks": "",
            "zerolinecolor": "white"
           },
           "zaxis": {
            "backgroundcolor": "#E5ECF6",
            "gridcolor": "white",
            "gridwidth": 2,
            "linecolor": "white",
            "showbackground": true,
            "ticks": "",
            "zerolinecolor": "white"
           }
          },
          "shapedefaults": {
           "line": {
            "color": "#2a3f5f"
           }
          },
          "ternary": {
           "aaxis": {
            "gridcolor": "white",
            "linecolor": "white",
            "ticks": ""
           },
           "baxis": {
            "gridcolor": "white",
            "linecolor": "white",
            "ticks": ""
           },
           "bgcolor": "#E5ECF6",
           "caxis": {
            "gridcolor": "white",
            "linecolor": "white",
            "ticks": ""
           }
          },
          "title": {
           "x": 0.05
          },
          "xaxis": {
           "automargin": true,
           "gridcolor": "white",
           "linecolor": "white",
           "ticks": "",
           "title": {
            "standoff": 15
           },
           "zerolinecolor": "white",
           "zerolinewidth": 2
          },
          "yaxis": {
           "automargin": true,
           "gridcolor": "white",
           "linecolor": "white",
           "ticks": "",
           "title": {
            "standoff": 15
           },
           "zerolinecolor": "white",
           "zerolinewidth": 2
          }
         }
        },
        "title": {
         "text": "Train vs Test"
        },
        "xaxis": {
         "title": {
          "text": "Ranking"
         }
        },
        "yaxis": {
         "title": {
          "text": "F1 Score"
         }
        }
       }
      },
      "text/html": [
       "<div>                            <div id=\"e46a3dfe-cf2c-4e15-a2f6-931360ef0761\" class=\"plotly-graph-div\" style=\"height:525px; width:100%;\"></div>            <script type=\"text/javascript\">                require([\"plotly\"], function(Plotly) {                    window.PLOTLYENV=window.PLOTLYENV || {};                                    if (document.getElementById(\"e46a3dfe-cf2c-4e15-a2f6-931360ef0761\")) {                    Plotly.newPlot(                        \"e46a3dfe-cf2c-4e15-a2f6-931360ef0761\",                        [{\"customdata\":[\"RF\",\"LGBM\",\"RF\",\"RF\",\"RF\",\"RF\",\"RF\",\"RF\",\"RF\",\"RF\",\"RF\",\"RF\",\"RF\",\"RF\",\"LGBM\",\"LGBM\",\"LGBM\",\"LGBM\",\"LGBM\",\"LGBM\",\"LGBM\",\"GBM\",\"GBM\",\"LGBM\",\"GBM\",\"LGBM\",\"LGBM\",\"LGBM\",\"LGBM\"],\"hovertemplate\":\"Ranking: %{x}<br>F1 Score (train): %{y:,.3f}<br>Model: %{customdata}\",\"marker\":{\"color\":\"#4682B4\"},\"mode\":\"markers\",\"x\":[0,1,2,3,4,5,6,7,8,9,10,11,12,13,14,15,16,17,18,19,20,21,22,23,24,25,26,27,28],\"y\":[0.003406069954180466,0.06739663328722449,0.08348364009045559,0.09119536072194216,0.13628974566979832,0.1516307124439352,0.15671533193829218,0.1690361824705841,0.1916809620921305,0.1956506135255074,0.2190391835915082,0.220304905638346,0.22446850792802917,0.27476604440332936,0.3469545486700884,0.4650190387512157,0.5617151683524966,0.577757022013953,0.6199567189828541,0.6400201159545355,0.6448217624349957,0.6492764919070839,0.6507017955653762,0.6575394929340137,0.6694092508529749,0.6884158995929688,0.691333778128108,0.6913705947360904,0.6951408110333032],\"type\":\"scatter\"},{\"customdata\":[\"RF\",\"LGBM\",\"RF\",\"RF\",\"RF\",\"RF\",\"RF\",\"RF\",\"RF\",\"RF\",\"RF\",\"RF\",\"RF\",\"RF\",\"LGBM\",\"LGBM\",\"LGBM\",\"LGBM\",\"LGBM\",\"LGBM\",\"LGBM\",\"GBM\",\"GBM\",\"LGBM\",\"GBM\",\"LGBM\",\"LGBM\",\"LGBM\",\"LGBM\"],\"hovertemplate\":\"Ranking: %{x}<br>F1 Score (test): %{y:,.3f}<br>Model: %{customdata}\",\"marker\":{\"color\":\"#87CEEB\"},\"mode\":\"markers\",\"x\":[0,1,2,3,4,5,6,7,8,9,10,11,12,13,14,15,16,17,18,19,20,21,22,23,24,25,26,27,28],\"y\":[0.0,0.17767387492694328,0.044950867656282666,0.13445042888489925,0.15159600751062358,0.17429491558504925,0.17038341158059467,0.16285237206561243,0.19795879067976122,0.19502314814814814,0.22892819979188347,0.2403909407010619,0.23745410036719705,0.31421754882035874,0.3531550246689172,0.4869957950475004,0.5805081746761979,0.5927774312053787,0.623731048121292,0.6454504706409683,0.6505369551484522,0.6535235949430468,0.6535694175061003,0.6736753574432296,0.6757336273969246,0.6962477316630568,0.6976798550639939,0.6910927882940424,0.6961319411485524],\"type\":\"scatter\"}],                        {\"template\":{\"data\":{\"histogram2dcontour\":[{\"type\":\"histogram2dcontour\",\"colorbar\":{\"outlinewidth\":0,\"ticks\":\"\"},\"colorscale\":[[0.0,\"#0d0887\"],[0.1111111111111111,\"#46039f\"],[0.2222222222222222,\"#7201a8\"],[0.3333333333333333,\"#9c179e\"],[0.4444444444444444,\"#bd3786\"],[0.5555555555555556,\"#d8576b\"],[0.6666666666666666,\"#ed7953\"],[0.7777777777777778,\"#fb9f3a\"],[0.8888888888888888,\"#fdca26\"],[1.0,\"#f0f921\"]]}],\"choropleth\":[{\"type\":\"choropleth\",\"colorbar\":{\"outlinewidth\":0,\"ticks\":\"\"}}],\"histogram2d\":[{\"type\":\"histogram2d\",\"colorbar\":{\"outlinewidth\":0,\"ticks\":\"\"},\"colorscale\":[[0.0,\"#0d0887\"],[0.1111111111111111,\"#46039f\"],[0.2222222222222222,\"#7201a8\"],[0.3333333333333333,\"#9c179e\"],[0.4444444444444444,\"#bd3786\"],[0.5555555555555556,\"#d8576b\"],[0.6666666666666666,\"#ed7953\"],[0.7777777777777778,\"#fb9f3a\"],[0.8888888888888888,\"#fdca26\"],[1.0,\"#f0f921\"]]}],\"heatmap\":[{\"type\":\"heatmap\",\"colorbar\":{\"outlinewidth\":0,\"ticks\":\"\"},\"colorscale\":[[0.0,\"#0d0887\"],[0.1111111111111111,\"#46039f\"],[0.2222222222222222,\"#7201a8\"],[0.3333333333333333,\"#9c179e\"],[0.4444444444444444,\"#bd3786\"],[0.5555555555555556,\"#d8576b\"],[0.6666666666666666,\"#ed7953\"],[0.7777777777777778,\"#fb9f3a\"],[0.8888888888888888,\"#fdca26\"],[1.0,\"#f0f921\"]]}],\"heatmapgl\":[{\"type\":\"heatmapgl\",\"colorbar\":{\"outlinewidth\":0,\"ticks\":\"\"},\"colorscale\":[[0.0,\"#0d0887\"],[0.1111111111111111,\"#46039f\"],[0.2222222222222222,\"#7201a8\"],[0.3333333333333333,\"#9c179e\"],[0.4444444444444444,\"#bd3786\"],[0.5555555555555556,\"#d8576b\"],[0.6666666666666666,\"#ed7953\"],[0.7777777777777778,\"#fb9f3a\"],[0.8888888888888888,\"#fdca26\"],[1.0,\"#f0f921\"]]}],\"contourcarpet\":[{\"type\":\"contourcarpet\",\"colorbar\":{\"outlinewidth\":0,\"ticks\":\"\"}}],\"contour\":[{\"type\":\"contour\",\"colorbar\":{\"outlinewidth\":0,\"ticks\":\"\"},\"colorscale\":[[0.0,\"#0d0887\"],[0.1111111111111111,\"#46039f\"],[0.2222222222222222,\"#7201a8\"],[0.3333333333333333,\"#9c179e\"],[0.4444444444444444,\"#bd3786\"],[0.5555555555555556,\"#d8576b\"],[0.6666666666666666,\"#ed7953\"],[0.7777777777777778,\"#fb9f3a\"],[0.8888888888888888,\"#fdca26\"],[1.0,\"#f0f921\"]]}],\"surface\":[{\"type\":\"surface\",\"colorbar\":{\"outlinewidth\":0,\"ticks\":\"\"},\"colorscale\":[[0.0,\"#0d0887\"],[0.1111111111111111,\"#46039f\"],[0.2222222222222222,\"#7201a8\"],[0.3333333333333333,\"#9c179e\"],[0.4444444444444444,\"#bd3786\"],[0.5555555555555556,\"#d8576b\"],[0.6666666666666666,\"#ed7953\"],[0.7777777777777778,\"#fb9f3a\"],[0.8888888888888888,\"#fdca26\"],[1.0,\"#f0f921\"]]}],\"mesh3d\":[{\"type\":\"mesh3d\",\"colorbar\":{\"outlinewidth\":0,\"ticks\":\"\"}}],\"scatter\":[{\"fillpattern\":{\"fillmode\":\"overlay\",\"size\":10,\"solidity\":0.2},\"type\":\"scatter\"}],\"parcoords\":[{\"type\":\"parcoords\",\"line\":{\"colorbar\":{\"outlinewidth\":0,\"ticks\":\"\"}}}],\"scatterpolargl\":[{\"type\":\"scatterpolargl\",\"marker\":{\"colorbar\":{\"outlinewidth\":0,\"ticks\":\"\"}}}],\"bar\":[{\"error_x\":{\"color\":\"#2a3f5f\"},\"error_y\":{\"color\":\"#2a3f5f\"},\"marker\":{\"line\":{\"color\":\"#E5ECF6\",\"width\":0.5},\"pattern\":{\"fillmode\":\"overlay\",\"size\":10,\"solidity\":0.2}},\"type\":\"bar\"}],\"scattergeo\":[{\"type\":\"scattergeo\",\"marker\":{\"colorbar\":{\"outlinewidth\":0,\"ticks\":\"\"}}}],\"scatterpolar\":[{\"type\":\"scatterpolar\",\"marker\":{\"colorbar\":{\"outlinewidth\":0,\"ticks\":\"\"}}}],\"histogram\":[{\"marker\":{\"pattern\":{\"fillmode\":\"overlay\",\"size\":10,\"solidity\":0.2}},\"type\":\"histogram\"}],\"scattergl\":[{\"type\":\"scattergl\",\"marker\":{\"colorbar\":{\"outlinewidth\":0,\"ticks\":\"\"}}}],\"scatter3d\":[{\"type\":\"scatter3d\",\"line\":{\"colorbar\":{\"outlinewidth\":0,\"ticks\":\"\"}},\"marker\":{\"colorbar\":{\"outlinewidth\":0,\"ticks\":\"\"}}}],\"scattermapbox\":[{\"type\":\"scattermapbox\",\"marker\":{\"colorbar\":{\"outlinewidth\":0,\"ticks\":\"\"}}}],\"scatterternary\":[{\"type\":\"scatterternary\",\"marker\":{\"colorbar\":{\"outlinewidth\":0,\"ticks\":\"\"}}}],\"scattercarpet\":[{\"type\":\"scattercarpet\",\"marker\":{\"colorbar\":{\"outlinewidth\":0,\"ticks\":\"\"}}}],\"carpet\":[{\"aaxis\":{\"endlinecolor\":\"#2a3f5f\",\"gridcolor\":\"white\",\"linecolor\":\"white\",\"minorgridcolor\":\"white\",\"startlinecolor\":\"#2a3f5f\"},\"baxis\":{\"endlinecolor\":\"#2a3f5f\",\"gridcolor\":\"white\",\"linecolor\":\"white\",\"minorgridcolor\":\"white\",\"startlinecolor\":\"#2a3f5f\"},\"type\":\"carpet\"}],\"table\":[{\"cells\":{\"fill\":{\"color\":\"#EBF0F8\"},\"line\":{\"color\":\"white\"}},\"header\":{\"fill\":{\"color\":\"#C8D4E3\"},\"line\":{\"color\":\"white\"}},\"type\":\"table\"}],\"barpolar\":[{\"marker\":{\"line\":{\"color\":\"#E5ECF6\",\"width\":0.5},\"pattern\":{\"fillmode\":\"overlay\",\"size\":10,\"solidity\":0.2}},\"type\":\"barpolar\"}],\"pie\":[{\"automargin\":true,\"type\":\"pie\"}]},\"layout\":{\"autotypenumbers\":\"strict\",\"colorway\":[\"#636efa\",\"#EF553B\",\"#00cc96\",\"#ab63fa\",\"#FFA15A\",\"#19d3f3\",\"#FF6692\",\"#B6E880\",\"#FF97FF\",\"#FECB52\"],\"font\":{\"color\":\"#2a3f5f\"},\"hovermode\":\"closest\",\"hoverlabel\":{\"align\":\"left\"},\"paper_bgcolor\":\"white\",\"plot_bgcolor\":\"#E5ECF6\",\"polar\":{\"bgcolor\":\"#E5ECF6\",\"angularaxis\":{\"gridcolor\":\"white\",\"linecolor\":\"white\",\"ticks\":\"\"},\"radialaxis\":{\"gridcolor\":\"white\",\"linecolor\":\"white\",\"ticks\":\"\"}},\"ternary\":{\"bgcolor\":\"#E5ECF6\",\"aaxis\":{\"gridcolor\":\"white\",\"linecolor\":\"white\",\"ticks\":\"\"},\"baxis\":{\"gridcolor\":\"white\",\"linecolor\":\"white\",\"ticks\":\"\"},\"caxis\":{\"gridcolor\":\"white\",\"linecolor\":\"white\",\"ticks\":\"\"}},\"coloraxis\":{\"colorbar\":{\"outlinewidth\":0,\"ticks\":\"\"}},\"colorscale\":{\"sequential\":[[0.0,\"#0d0887\"],[0.1111111111111111,\"#46039f\"],[0.2222222222222222,\"#7201a8\"],[0.3333333333333333,\"#9c179e\"],[0.4444444444444444,\"#bd3786\"],[0.5555555555555556,\"#d8576b\"],[0.6666666666666666,\"#ed7953\"],[0.7777777777777778,\"#fb9f3a\"],[0.8888888888888888,\"#fdca26\"],[1.0,\"#f0f921\"]],\"sequentialminus\":[[0.0,\"#0d0887\"],[0.1111111111111111,\"#46039f\"],[0.2222222222222222,\"#7201a8\"],[0.3333333333333333,\"#9c179e\"],[0.4444444444444444,\"#bd3786\"],[0.5555555555555556,\"#d8576b\"],[0.6666666666666666,\"#ed7953\"],[0.7777777777777778,\"#fb9f3a\"],[0.8888888888888888,\"#fdca26\"],[1.0,\"#f0f921\"]],\"diverging\":[[0,\"#8e0152\"],[0.1,\"#c51b7d\"],[0.2,\"#de77ae\"],[0.3,\"#f1b6da\"],[0.4,\"#fde0ef\"],[0.5,\"#f7f7f7\"],[0.6,\"#e6f5d0\"],[0.7,\"#b8e186\"],[0.8,\"#7fbc41\"],[0.9,\"#4d9221\"],[1,\"#276419\"]]},\"xaxis\":{\"gridcolor\":\"white\",\"linecolor\":\"white\",\"ticks\":\"\",\"title\":{\"standoff\":15},\"zerolinecolor\":\"white\",\"automargin\":true,\"zerolinewidth\":2},\"yaxis\":{\"gridcolor\":\"white\",\"linecolor\":\"white\",\"ticks\":\"\",\"title\":{\"standoff\":15},\"zerolinecolor\":\"white\",\"automargin\":true,\"zerolinewidth\":2},\"scene\":{\"xaxis\":{\"backgroundcolor\":\"#E5ECF6\",\"gridcolor\":\"white\",\"linecolor\":\"white\",\"showbackground\":true,\"ticks\":\"\",\"zerolinecolor\":\"white\",\"gridwidth\":2},\"yaxis\":{\"backgroundcolor\":\"#E5ECF6\",\"gridcolor\":\"white\",\"linecolor\":\"white\",\"showbackground\":true,\"ticks\":\"\",\"zerolinecolor\":\"white\",\"gridwidth\":2},\"zaxis\":{\"backgroundcolor\":\"#E5ECF6\",\"gridcolor\":\"white\",\"linecolor\":\"white\",\"showbackground\":true,\"ticks\":\"\",\"zerolinecolor\":\"white\",\"gridwidth\":2}},\"shapedefaults\":{\"line\":{\"color\":\"#2a3f5f\"}},\"annotationdefaults\":{\"arrowcolor\":\"#2a3f5f\",\"arrowhead\":0,\"arrowwidth\":1},\"geo\":{\"bgcolor\":\"white\",\"landcolor\":\"#E5ECF6\",\"subunitcolor\":\"white\",\"showland\":true,\"showlakes\":true,\"lakecolor\":\"white\"},\"title\":{\"x\":0.05},\"mapbox\":{\"style\":\"light\"}}},\"title\":{\"text\":\"Train vs Test\"},\"xaxis\":{\"title\":{\"text\":\"Ranking\"}},\"yaxis\":{\"title\":{\"text\":\"F1 Score\"}},\"showlegend\":false},                        {\"responsive\": true}                    ).then(function(){\n",
       "                            \n",
       "var gd = document.getElementById('e46a3dfe-cf2c-4e15-a2f6-931360ef0761');\n",
       "var x = new MutationObserver(function (mutations, observer) {{\n",
       "        var display = window.getComputedStyle(gd).display;\n",
       "        if (!display || display === 'none') {{\n",
       "            console.log([gd, 'removed!']);\n",
       "            Plotly.purge(gd);\n",
       "            observer.disconnect();\n",
       "        }}\n",
       "}});\n",
       "\n",
       "// Listen for the removal of the full notebook cells\n",
       "var notebookContainer = gd.closest('#notebook-container');\n",
       "if (notebookContainer) {{\n",
       "    x.observe(notebookContainer, {childList: true});\n",
       "}}\n",
       "\n",
       "// Listen for the clearing of the current output cell\n",
       "var outputEl = gd.closest('.output');\n",
       "if (outputEl) {{\n",
       "    x.observe(outputEl, {childList: true});\n",
       "}}\n",
       "\n",
       "                        })                };                });            </script>        </div>"
      ]
     },
     "metadata": {},
     "output_type": "display_data"
    }
   ],
   "source": [
    "fig_train_test(\n",
    "    df_metrics_sorted,\n",
    "    metric_title = 'F1 Score',\n",
    "    train_col = 'train_model',\n",
    "    test_col = 'f1 score')"
   ]
  },
  {
   "cell_type": "code",
   "execution_count": 133,
   "metadata": {},
   "outputs": [
    {
     "data": {
      "image/png": "[encoded data removed]",
      "text/plain": [
       "<Figure size 640x480 with 1 Axes>"
      ]
     },
     "metadata": {},
     "output_type": "display_data"
    }
   ],
   "source": [
    "def train_test_graph(metrics_dict, metrics_u_dict, objective_metric):\n",
    "    pareto = list(zip(metrics_dict['train'],metrics_dict[objective_metric]))\n",
    "    pareto_sorted = sorted(pareto, key = lambda x: x[0])\n",
    "    x = len(list(zip(*pareto_sorted))[0])\n",
    "    plt.scatter(range(x), list(zip(*pareto_sorted))[1], color = '#4682B4')\n",
    "    plt.scatter(range(x, x + len(metrics_u_dict[objective_metric])),metrics_u_dict[objective_metric], color = \"#96DED1\")\n",
    "    plt.scatter(range(x), list(zip(*pareto_sorted))[0], color = '#87CEEB')\n",
    "    plt.show()\n",
    "\n",
    "train_test_graph(fair_metrics_dict, fair_metrics_u_dict, 'disparity difference')"
   ]
  },
  {
   "cell_type": "code",
   "execution_count": 134,
   "metadata": {},
   "outputs": [
    {
     "data": {
      "image/png": "[encoded data removed]",
      "text/plain": [
       "<Figure size 640x480 with 1 Axes>"
      ]
     },
     "metadata": {},
     "output_type": "display_data"
    }
   ],
   "source": [
    "train_test_graph(model_metrics_dict, model_metrics_u_dict, 'f1 score')"
   ]
  },
  {
   "cell_type": "code",
   "execution_count": 151,
   "metadata": {},
   "outputs": [],
   "source": [
    "import pandas as pd\n",
    "metrics = [\n",
    "    'predictive equality difference', \n",
    "    'equality opportunity difference',\n",
    "    'average absolute odds difference',\n",
    "    'disparity difference'\n",
    "    ]\n",
    " \n",
    "d = []\n",
    "for metric in metrics:\n",
    "    metric_min = np.min(fair_metrics_dict[metric])\n",
    "    metric_max = np.max(fair_metrics_dict[metric])\n",
    "    d.append(\n",
    "        {\n",
    "            'metric': metric,\n",
    "            'min': metric_min,\n",
    "            'max':  metric_max,\n",
    "            'diff': metric_max - metric_min\n",
    "        }\n",
    "    )\n",
    "\n",
    "df_ranges = pd.DataFrame(d)\n"
   ]
  },
  {
   "cell_type": "code",
   "execution_count": 356,
   "metadata": {},
   "outputs": [],
   "source": [
    "metrics = [\n",
    "    'recall', \n",
    "    'precision',\n",
    "    'f1 score',\n",
    "    'accuracy'\n",
    "    ]\n",
    "d = []\n",
    "for metric in metrics:\n",
    "    metric_min = np.min(df_metrics[metric])\n",
    "    metric_max = np.max(df_metrics[metric])\n",
    "    d.append(\n",
    "        {\n",
    "            'metric': metric,\n",
    "            'min': metric_min,\n",
    "            'max':  metric_max,\n",
    "            'diff': metric_max - metric_min\n",
    "        }\n",
    "    )\n",
    "\n",
    "df_model_ranges = pd.DataFrame(d)"
   ]
  },
  {
   "cell_type": "code",
   "execution_count": 451,
   "metadata": {},
   "outputs": [
    {
     "data": {
      "text/plain": [
       "sex\n",
       "Female    0.919119\n",
       "Male      0.787937\n",
       "Name: accuracy, dtype: float64"
      ]
     },
     "execution_count": 451,
     "metadata": {},
     "output_type": "execute_result"
    }
   ],
   "source": [
    "results_dict['metrics_sim'][0][ni].by_group['accuracy']"
   ]
  },
  {
   "cell_type": "code",
   "execution_count": null,
   "metadata": {},
   "outputs": [],
   "source": []
  },
  {
   "cell_type": "code",
   "execution_count": 486,
   "metadata": {},
   "outputs": [
    {
     "data": {
      "text/html": [
       "<div>\n",
       "<style scoped>\n",
       "    .dataframe tbody tr th:only-of-type {\n",
       "        vertical-align: middle;\n",
       "    }\n",
       "\n",
       "    .dataframe tbody tr th {\n",
       "        vertical-align: top;\n",
       "    }\n",
       "\n",
       "    .dataframe thead th {\n",
       "        text-align: right;\n",
       "    }\n",
       "</style>\n",
       "<table border=\"1\" class=\"dataframe\">\n",
       "  <thead>\n",
       "    <tr style=\"text-align: right;\">\n",
       "      <th></th>\n",
       "      <th>accuracy</th>\n",
       "      <th>precision</th>\n",
       "      <th>recall</th>\n",
       "      <th>f1 score</th>\n",
       "      <th>selection rate</th>\n",
       "      <th>false positive rate</th>\n",
       "      <th>true positive rate</th>\n",
       "      <th>false negative rate</th>\n",
       "      <th>true negative rate</th>\n",
       "      <th>count</th>\n",
       "    </tr>\n",
       "    <tr>\n",
       "      <th>sex</th>\n",
       "      <th></th>\n",
       "      <th></th>\n",
       "      <th></th>\n",
       "      <th></th>\n",
       "      <th></th>\n",
       "      <th></th>\n",
       "      <th></th>\n",
       "      <th></th>\n",
       "      <th></th>\n",
       "      <th></th>\n",
       "    </tr>\n",
       "  </thead>\n",
       "  <tbody>\n",
       "    <tr>\n",
       "      <th>Female</th>\n",
       "      <td>0.919119</td>\n",
       "      <td>0.901442</td>\n",
       "      <td>0.271542</td>\n",
       "      <td>0.417362</td>\n",
       "      <td>0.032136</td>\n",
       "      <td>0.003545</td>\n",
       "      <td>0.271542</td>\n",
       "      <td>0.728458</td>\n",
       "      <td>0.996455</td>\n",
       "      <td>12945.0</td>\n",
       "    </tr>\n",
       "    <tr>\n",
       "      <th>Male</th>\n",
       "      <td>0.787937</td>\n",
       "      <td>0.894668</td>\n",
       "      <td>0.345338</td>\n",
       "      <td>0.498325</td>\n",
       "      <td>0.117724</td>\n",
       "      <td>0.017841</td>\n",
       "      <td>0.345338</td>\n",
       "      <td>0.654662</td>\n",
       "      <td>0.982159</td>\n",
       "      <td>26129.0</td>\n",
       "    </tr>\n",
       "  </tbody>\n",
       "</table>\n",
       "</div>"
      ],
      "text/plain": [
       "        accuracy  precision    recall  f1 score  selection rate   \n",
       "sex                                                               \n",
       "Female  0.919119   0.901442  0.271542  0.417362        0.032136  \\\n",
       "Male    0.787937   0.894668  0.345338  0.498325        0.117724   \n",
       "\n",
       "        false positive rate  true positive rate  false negative rate   \n",
       "sex                                                                    \n",
       "Female             0.003545            0.271542             0.728458  \\\n",
       "Male               0.017841            0.345338             0.654662   \n",
       "\n",
       "        true negative rate    count  \n",
       "sex                                  \n",
       "Female            0.996455  12945.0  \n",
       "Male              0.982159  26129.0  "
      ]
     },
     "execution_count": 486,
     "metadata": {},
     "output_type": "execute_result"
    }
   ],
   "source": [
    "results_dict['metrics_sim'][0][new_index[20]].by_group"
   ]
  },
  {
   "cell_type": "code",
   "execution_count": 526,
   "metadata": {},
   "outputs": [
    {
     "data": {
      "text/html": [
       "<div>\n",
       "<style scoped>\n",
       "    .dataframe tbody tr th:only-of-type {\n",
       "        vertical-align: middle;\n",
       "    }\n",
       "\n",
       "    .dataframe tbody tr th {\n",
       "        vertical-align: top;\n",
       "    }\n",
       "\n",
       "    .dataframe thead th {\n",
       "        text-align: right;\n",
       "    }\n",
       "</style>\n",
       "<table border=\"1\" class=\"dataframe\">\n",
       "  <thead>\n",
       "    <tr style=\"text-align: right;\">\n",
       "      <th></th>\n",
       "      <th>train_fair</th>\n",
       "      <th>predictive equality difference</th>\n",
       "      <th>equality opportunity difference</th>\n",
       "      <th>average absolute odds difference</th>\n",
       "      <th>disparity difference</th>\n",
       "      <th>train_model</th>\n",
       "      <th>recall</th>\n",
       "      <th>precision</th>\n",
       "      <th>f1 score</th>\n",
       "      <th>accuracy</th>\n",
       "      <th>model</th>\n",
       "    </tr>\n",
       "  </thead>\n",
       "  <tbody>\n",
       "    <tr>\n",
       "      <th>0</th>\n",
       "      <td>0.051179</td>\n",
       "      <td>0.010407</td>\n",
       "      <td>0.176387</td>\n",
       "      <td>0.093397</td>\n",
       "      <td>0.068927</td>\n",
       "      <td>0.274766</td>\n",
       "      <td>0.190160</td>\n",
       "      <td>0.903915</td>\n",
       "      <td>0.314218</td>\n",
       "      <td>0.801377</td>\n",
       "      <td>RF</td>\n",
       "    </tr>\n",
       "    <tr>\n",
       "      <th>1</th>\n",
       "      <td>0.155837</td>\n",
       "      <td>0.058206</td>\n",
       "      <td>0.115179</td>\n",
       "      <td>0.086692</td>\n",
       "      <td>0.170408</td>\n",
       "      <td>0.669409</td>\n",
       "      <td>0.589840</td>\n",
       "      <td>0.790908</td>\n",
       "      <td>0.675734</td>\n",
       "      <td>0.864539</td>\n",
       "      <td>GBM</td>\n",
       "    </tr>\n",
       "    <tr>\n",
       "      <th>2</th>\n",
       "      <td>0.166950</td>\n",
       "      <td>0.060388</td>\n",
       "      <td>0.092232</td>\n",
       "      <td>0.076310</td>\n",
       "      <td>0.175327</td>\n",
       "      <td>0.695141</td>\n",
       "      <td>0.627487</td>\n",
       "      <td>0.781641</td>\n",
       "      <td>0.696132</td>\n",
       "      <td>0.868915</td>\n",
       "      <td>LGBM</td>\n",
       "    </tr>\n",
       "    <tr>\n",
       "      <th>3</th>\n",
       "      <td>0.037402</td>\n",
       "      <td>0.000606</td>\n",
       "      <td>0.095765</td>\n",
       "      <td>0.048185</td>\n",
       "      <td>0.039105</td>\n",
       "      <td>0.219039</td>\n",
       "      <td>0.129412</td>\n",
       "      <td>0.990991</td>\n",
       "      <td>0.228928</td>\n",
       "      <td>0.791396</td>\n",
       "      <td>RF</td>\n",
       "    </tr>\n",
       "    <tr>\n",
       "      <th>4</th>\n",
       "      <td>0.147267</td>\n",
       "      <td>0.055421</td>\n",
       "      <td>0.111671</td>\n",
       "      <td>0.083546</td>\n",
       "      <td>0.161785</td>\n",
       "      <td>0.650702</td>\n",
       "      <td>0.558610</td>\n",
       "      <td>0.787427</td>\n",
       "      <td>0.653569</td>\n",
       "      <td>0.858295</td>\n",
       "      <td>GBM</td>\n",
       "    </tr>\n",
       "    <tr>\n",
       "      <th>5</th>\n",
       "      <td>0.041229</td>\n",
       "      <td>0.000551</td>\n",
       "      <td>0.106413</td>\n",
       "      <td>0.053482</td>\n",
       "      <td>0.041596</td>\n",
       "      <td>0.224469</td>\n",
       "      <td>0.134866</td>\n",
       "      <td>0.992132</td>\n",
       "      <td>0.237454</td>\n",
       "      <td>0.792727</td>\n",
       "      <td>RF</td>\n",
       "    </tr>\n",
       "    <tr>\n",
       "      <th>6</th>\n",
       "      <td>0.028526</td>\n",
       "      <td>0.000220</td>\n",
       "      <td>0.110360</td>\n",
       "      <td>0.055290</td>\n",
       "      <td>0.034099</td>\n",
       "      <td>0.151631</td>\n",
       "      <td>0.095508</td>\n",
       "      <td>0.995541</td>\n",
       "      <td>0.174295</td>\n",
       "      <td>0.783462</td>\n",
       "      <td>RF</td>\n",
       "    </tr>\n",
       "    <tr>\n",
       "      <th>7</th>\n",
       "      <td>0.025735</td>\n",
       "      <td>0.000110</td>\n",
       "      <td>0.096248</td>\n",
       "      <td>0.048179</td>\n",
       "      <td>0.029431</td>\n",
       "      <td>0.136290</td>\n",
       "      <td>0.082032</td>\n",
       "      <td>0.997399</td>\n",
       "      <td>0.151596</td>\n",
       "      <td>0.780289</td>\n",
       "      <td>RF</td>\n",
       "    </tr>\n",
       "    <tr>\n",
       "      <th>8</th>\n",
       "      <td>0.032651</td>\n",
       "      <td>0.000110</td>\n",
       "      <td>0.090435</td>\n",
       "      <td>0.045272</td>\n",
       "      <td>0.029955</td>\n",
       "      <td>0.169036</td>\n",
       "      <td>0.088663</td>\n",
       "      <td>0.997593</td>\n",
       "      <td>0.162852</td>\n",
       "      <td>0.781875</td>\n",
       "      <td>RF</td>\n",
       "    </tr>\n",
       "    <tr>\n",
       "      <th>9</th>\n",
       "      <td>0.029606</td>\n",
       "      <td>0.000165</td>\n",
       "      <td>0.083811</td>\n",
       "      <td>0.041988</td>\n",
       "      <td>0.029984</td>\n",
       "      <td>0.156715</td>\n",
       "      <td>0.093155</td>\n",
       "      <td>0.996568</td>\n",
       "      <td>0.170383</td>\n",
       "      <td>0.782925</td>\n",
       "      <td>RF</td>\n",
       "    </tr>\n",
       "    <tr>\n",
       "      <th>10</th>\n",
       "      <td>0.015836</td>\n",
       "      <td>0.000055</td>\n",
       "      <td>0.026980</td>\n",
       "      <td>0.013517</td>\n",
       "      <td>0.008267</td>\n",
       "      <td>0.083484</td>\n",
       "      <td>0.022995</td>\n",
       "      <td>0.995370</td>\n",
       "      <td>0.044951</td>\n",
       "      <td>0.766187</td>\n",
       "      <td>RF</td>\n",
       "    </tr>\n",
       "    <tr>\n",
       "      <th>11</th>\n",
       "      <td>0.034007</td>\n",
       "      <td>0.000441</td>\n",
       "      <td>0.115406</td>\n",
       "      <td>0.057923</td>\n",
       "      <td>0.037801</td>\n",
       "      <td>0.191681</td>\n",
       "      <td>0.109947</td>\n",
       "      <td>0.992278</td>\n",
       "      <td>0.197959</td>\n",
       "      <td>0.786815</td>\n",
       "      <td>RF</td>\n",
       "    </tr>\n",
       "    <tr>\n",
       "      <th>12</th>\n",
       "      <td>0.039513</td>\n",
       "      <td>0.000661</td>\n",
       "      <td>0.109521</td>\n",
       "      <td>0.055091</td>\n",
       "      <td>0.042477</td>\n",
       "      <td>0.220305</td>\n",
       "      <td>0.136791</td>\n",
       "      <td>0.990705</td>\n",
       "      <td>0.240391</td>\n",
       "      <td>0.793136</td>\n",
       "      <td>RF</td>\n",
       "    </tr>\n",
       "    <tr>\n",
       "      <th>13</th>\n",
       "      <td>0.000604</td>\n",
       "      <td>0.000000</td>\n",
       "      <td>0.000000</td>\n",
       "      <td>0.000000</td>\n",
       "      <td>0.000000</td>\n",
       "      <td>0.003406</td>\n",
       "      <td>0.000000</td>\n",
       "      <td>0.000000</td>\n",
       "      <td>0.000000</td>\n",
       "      <td>0.760710</td>\n",
       "      <td>RF</td>\n",
       "    </tr>\n",
       "    <tr>\n",
       "      <th>14</th>\n",
       "      <td>0.034155</td>\n",
       "      <td>0.000385</td>\n",
       "      <td>0.100529</td>\n",
       "      <td>0.050457</td>\n",
       "      <td>0.035379</td>\n",
       "      <td>0.195651</td>\n",
       "      <td>0.108128</td>\n",
       "      <td>0.993124</td>\n",
       "      <td>0.195023</td>\n",
       "      <td>0.786405</td>\n",
       "      <td>RF</td>\n",
       "    </tr>\n",
       "    <tr>\n",
       "      <th>15</th>\n",
       "      <td>0.017199</td>\n",
       "      <td>0.000110</td>\n",
       "      <td>0.084578</td>\n",
       "      <td>0.042344</td>\n",
       "      <td>0.025872</td>\n",
       "      <td>0.091195</td>\n",
       "      <td>0.072086</td>\n",
       "      <td>0.997041</td>\n",
       "      <td>0.134450</td>\n",
       "      <td>0.777909</td>\n",
       "      <td>RF</td>\n",
       "    </tr>\n",
       "    <tr>\n",
       "      <th>16</th>\n",
       "      <td>0.052740</td>\n",
       "      <td>0.007277</td>\n",
       "      <td>0.103064</td>\n",
       "      <td>0.055171</td>\n",
       "      <td>0.062132</td>\n",
       "      <td>0.346955</td>\n",
       "      <td>0.218182</td>\n",
       "      <td>0.926010</td>\n",
       "      <td>0.353155</td>\n",
       "      <td>0.808748</td>\n",
       "      <td>LGBM</td>\n",
       "    </tr>\n",
       "    <tr>\n",
       "      <th>17</th>\n",
       "      <td>0.010207</td>\n",
       "      <td>0.000220</td>\n",
       "      <td>0.035431</td>\n",
       "      <td>0.017826</td>\n",
       "      <td>0.024313</td>\n",
       "      <td>0.067397</td>\n",
       "      <td>0.097540</td>\n",
       "      <td>0.995633</td>\n",
       "      <td>0.177674</td>\n",
       "      <td>0.783948</td>\n",
       "      <td>LGBM</td>\n",
       "    </tr>\n",
       "    <tr>\n",
       "      <th>18</th>\n",
       "      <td>0.156543</td>\n",
       "      <td>0.062538</td>\n",
       "      <td>0.078482</td>\n",
       "      <td>0.070510</td>\n",
       "      <td>0.175928</td>\n",
       "      <td>0.688416</td>\n",
       "      <td>0.636043</td>\n",
       "      <td>0.769042</td>\n",
       "      <td>0.696248</td>\n",
       "      <td>0.867201</td>\n",
       "      <td>LGBM</td>\n",
       "    </tr>\n",
       "    <tr>\n",
       "      <th>19</th>\n",
       "      <td>0.134237</td>\n",
       "      <td>0.046945</td>\n",
       "      <td>0.139990</td>\n",
       "      <td>0.093467</td>\n",
       "      <td>0.150425</td>\n",
       "      <td>0.619957</td>\n",
       "      <td>0.505989</td>\n",
       "      <td>0.812887</td>\n",
       "      <td>0.623731</td>\n",
       "      <td>0.853918</td>\n",
       "      <td>LGBM</td>\n",
       "    </tr>\n",
       "    <tr>\n",
       "      <th>20</th>\n",
       "      <td>0.084498</td>\n",
       "      <td>0.014296</td>\n",
       "      <td>0.073796</td>\n",
       "      <td>0.044046</td>\n",
       "      <td>0.085588</td>\n",
       "      <td>0.465019</td>\n",
       "      <td>0.334439</td>\n",
       "      <td>0.895475</td>\n",
       "      <td>0.486996</td>\n",
       "      <td>0.831397</td>\n",
       "      <td>LGBM</td>\n",
       "    </tr>\n",
       "    <tr>\n",
       "      <th>21</th>\n",
       "      <td>0.154083</td>\n",
       "      <td>0.064274</td>\n",
       "      <td>0.098687</td>\n",
       "      <td>0.081480</td>\n",
       "      <td>0.173528</td>\n",
       "      <td>0.657539</td>\n",
       "      <td>0.599679</td>\n",
       "      <td>0.768503</td>\n",
       "      <td>0.673675</td>\n",
       "      <td>0.860982</td>\n",
       "      <td>LGBM</td>\n",
       "    </tr>\n",
       "    <tr>\n",
       "      <th>22</th>\n",
       "      <td>0.157594</td>\n",
       "      <td>0.062444</td>\n",
       "      <td>0.088039</td>\n",
       "      <td>0.075242</td>\n",
       "      <td>0.177577</td>\n",
       "      <td>0.691334</td>\n",
       "      <td>0.638396</td>\n",
       "      <td>0.769102</td>\n",
       "      <td>0.697680</td>\n",
       "      <td>0.867610</td>\n",
       "      <td>LGBM</td>\n",
       "    </tr>\n",
       "    <tr>\n",
       "      <th>23</th>\n",
       "      <td>0.163037</td>\n",
       "      <td>0.067990</td>\n",
       "      <td>0.090878</td>\n",
       "      <td>0.079434</td>\n",
       "      <td>0.181248</td>\n",
       "      <td>0.691371</td>\n",
       "      <td>0.636471</td>\n",
       "      <td>0.755971</td>\n",
       "      <td>0.691093</td>\n",
       "      <td>0.863848</td>\n",
       "      <td>LGBM</td>\n",
       "    </tr>\n",
       "    <tr>\n",
       "      <th>24</th>\n",
       "      <td>0.107408</td>\n",
       "      <td>0.030399</td>\n",
       "      <td>0.128052</td>\n",
       "      <td>0.079225</td>\n",
       "      <td>0.124677</td>\n",
       "      <td>0.561715</td>\n",
       "      <td>0.438610</td>\n",
       "      <td>0.858129</td>\n",
       "      <td>0.580508</td>\n",
       "      <td>0.848313</td>\n",
       "      <td>LGBM</td>\n",
       "    </tr>\n",
       "    <tr>\n",
       "      <th>25</th>\n",
       "      <td>0.114664</td>\n",
       "      <td>0.035899</td>\n",
       "      <td>0.130471</td>\n",
       "      <td>0.083185</td>\n",
       "      <td>0.132386</td>\n",
       "      <td>0.577757</td>\n",
       "      <td>0.457326</td>\n",
       "      <td>0.842230</td>\n",
       "      <td>0.592777</td>\n",
       "      <td>0.849644</td>\n",
       "      <td>LGBM</td>\n",
       "    </tr>\n",
       "    <tr>\n",
       "      <th>26</th>\n",
       "      <td>0.147119</td>\n",
       "      <td>0.054831</td>\n",
       "      <td>0.111420</td>\n",
       "      <td>0.083126</td>\n",
       "      <td>0.161247</td>\n",
       "      <td>0.649276</td>\n",
       "      <td>0.558396</td>\n",
       "      <td>0.787719</td>\n",
       "      <td>0.653524</td>\n",
       "      <td>0.858320</td>\n",
       "      <td>GBM</td>\n",
       "    </tr>\n",
       "    <tr>\n",
       "      <th>27</th>\n",
       "      <td>0.139769</td>\n",
       "      <td>0.049590</td>\n",
       "      <td>0.111646</td>\n",
       "      <td>0.080618</td>\n",
       "      <td>0.154362</td>\n",
       "      <td>0.640020</td>\n",
       "      <td>0.539037</td>\n",
       "      <td>0.804213</td>\n",
       "      <td>0.645450</td>\n",
       "      <td>0.858295</td>\n",
       "      <td>LGBM</td>\n",
       "    </tr>\n",
       "    <tr>\n",
       "      <th>28</th>\n",
       "      <td>0.144581</td>\n",
       "      <td>0.054043</td>\n",
       "      <td>0.123625</td>\n",
       "      <td>0.088834</td>\n",
       "      <td>0.161244</td>\n",
       "      <td>0.644822</td>\n",
       "      <td>0.550695</td>\n",
       "      <td>0.794599</td>\n",
       "      <td>0.650537</td>\n",
       "      <td>0.858422</td>\n",
       "      <td>LGBM</td>\n",
       "    </tr>\n",
       "  </tbody>\n",
       "</table>\n",
       "</div>"
      ],
      "text/plain": [
       "    train_fair  predictive equality difference   \n",
       "0     0.051179                        0.010407  \\\n",
       "1     0.155837                        0.058206   \n",
       "2     0.166950                        0.060388   \n",
       "3     0.037402                        0.000606   \n",
       "4     0.147267                        0.055421   \n",
       "5     0.041229                        0.000551   \n",
       "6     0.028526                        0.000220   \n",
       "7     0.025735                        0.000110   \n",
       "8     0.032651                        0.000110   \n",
       "9     0.029606                        0.000165   \n",
       "10    0.015836                        0.000055   \n",
       "11    0.034007                        0.000441   \n",
       "12    0.039513                        0.000661   \n",
       "13    0.000604                        0.000000   \n",
       "14    0.034155                        0.000385   \n",
       "15    0.017199                        0.000110   \n",
       "16    0.052740                        0.007277   \n",
       "17    0.010207                        0.000220   \n",
       "18    0.156543                        0.062538   \n",
       "19    0.134237                        0.046945   \n",
       "20    0.084498                        0.014296   \n",
       "21    0.154083                        0.064274   \n",
       "22    0.157594                        0.062444   \n",
       "23    0.163037                        0.067990   \n",
       "24    0.107408                        0.030399   \n",
       "25    0.114664                        0.035899   \n",
       "26    0.147119                        0.054831   \n",
       "27    0.139769                        0.049590   \n",
       "28    0.144581                        0.054043   \n",
       "\n",
       "    equality opportunity difference  average absolute odds difference   \n",
       "0                          0.176387                          0.093397  \\\n",
       "1                          0.115179                          0.086692   \n",
       "2                          0.092232                          0.076310   \n",
       "3                          0.095765                          0.048185   \n",
       "4                          0.111671                          0.083546   \n",
       "5                          0.106413                          0.053482   \n",
       "6                          0.110360                          0.055290   \n",
       "7                          0.096248                          0.048179   \n",
       "8                          0.090435                          0.045272   \n",
       "9                          0.083811                          0.041988   \n",
       "10                         0.026980                          0.013517   \n",
       "11                         0.115406                          0.057923   \n",
       "12                         0.109521                          0.055091   \n",
       "13                         0.000000                          0.000000   \n",
       "14                         0.100529                          0.050457   \n",
       "15                         0.084578                          0.042344   \n",
       "16                         0.103064                          0.055171   \n",
       "17                         0.035431                          0.017826   \n",
       "18                         0.078482                          0.070510   \n",
       "19                         0.139990                          0.093467   \n",
       "20                         0.073796                          0.044046   \n",
       "21                         0.098687                          0.081480   \n",
       "22                         0.088039                          0.075242   \n",
       "23                         0.090878                          0.079434   \n",
       "24                         0.128052                          0.079225   \n",
       "25                         0.130471                          0.083185   \n",
       "26                         0.111420                          0.083126   \n",
       "27                         0.111646                          0.080618   \n",
       "28                         0.123625                          0.088834   \n",
       "\n",
       "    disparity difference  train_model    recall  precision  f1 score   \n",
       "0               0.068927     0.274766  0.190160   0.903915  0.314218  \\\n",
       "1               0.170408     0.669409  0.589840   0.790908  0.675734   \n",
       "2               0.175327     0.695141  0.627487   0.781641  0.696132   \n",
       "3               0.039105     0.219039  0.129412   0.990991  0.228928   \n",
       "4               0.161785     0.650702  0.558610   0.787427  0.653569   \n",
       "5               0.041596     0.224469  0.134866   0.992132  0.237454   \n",
       "6               0.034099     0.151631  0.095508   0.995541  0.174295   \n",
       "7               0.029431     0.136290  0.082032   0.997399  0.151596   \n",
       "8               0.029955     0.169036  0.088663   0.997593  0.162852   \n",
       "9               0.029984     0.156715  0.093155   0.996568  0.170383   \n",
       "10              0.008267     0.083484  0.022995   0.995370  0.044951   \n",
       "11              0.037801     0.191681  0.109947   0.992278  0.197959   \n",
       "12              0.042477     0.220305  0.136791   0.990705  0.240391   \n",
       "13              0.000000     0.003406  0.000000   0.000000  0.000000   \n",
       "14              0.035379     0.195651  0.108128   0.993124  0.195023   \n",
       "15              0.025872     0.091195  0.072086   0.997041  0.134450   \n",
       "16              0.062132     0.346955  0.218182   0.926010  0.353155   \n",
       "17              0.024313     0.067397  0.097540   0.995633  0.177674   \n",
       "18              0.175928     0.688416  0.636043   0.769042  0.696248   \n",
       "19              0.150425     0.619957  0.505989   0.812887  0.623731   \n",
       "20              0.085588     0.465019  0.334439   0.895475  0.486996   \n",
       "21              0.173528     0.657539  0.599679   0.768503  0.673675   \n",
       "22              0.177577     0.691334  0.638396   0.769102  0.697680   \n",
       "23              0.181248     0.691371  0.636471   0.755971  0.691093   \n",
       "24              0.124677     0.561715  0.438610   0.858129  0.580508   \n",
       "25              0.132386     0.577757  0.457326   0.842230  0.592777   \n",
       "26              0.161247     0.649276  0.558396   0.787719  0.653524   \n",
       "27              0.154362     0.640020  0.539037   0.804213  0.645450   \n",
       "28              0.161244     0.644822  0.550695   0.794599  0.650537   \n",
       "\n",
       "    accuracy model  \n",
       "0   0.801377    RF  \n",
       "1   0.864539   GBM  \n",
       "2   0.868915  LGBM  \n",
       "3   0.791396    RF  \n",
       "4   0.858295   GBM  \n",
       "5   0.792727    RF  \n",
       "6   0.783462    RF  \n",
       "7   0.780289    RF  \n",
       "8   0.781875    RF  \n",
       "9   0.782925    RF  \n",
       "10  0.766187    RF  \n",
       "11  0.786815    RF  \n",
       "12  0.793136    RF  \n",
       "13  0.760710    RF  \n",
       "14  0.786405    RF  \n",
       "15  0.777909    RF  \n",
       "16  0.808748  LGBM  \n",
       "17  0.783948  LGBM  \n",
       "18  0.867201  LGBM  \n",
       "19  0.853918  LGBM  \n",
       "20  0.831397  LGBM  \n",
       "21  0.860982  LGBM  \n",
       "22  0.867610  LGBM  \n",
       "23  0.863848  LGBM  \n",
       "24  0.848313  LGBM  \n",
       "25  0.849644  LGBM  \n",
       "26  0.858320   GBM  \n",
       "27  0.858295  LGBM  \n",
       "28  0.858422  LGBM  "
      ]
     },
     "execution_count": 526,
     "metadata": {},
     "output_type": "execute_result"
    }
   ],
   "source": [
    "df_metrics"
   ]
  },
  {
   "cell_type": "code",
   "execution_count": 524,
   "metadata": {},
   "outputs": [
    {
     "data": {
      "application/vnd.plotly.v1+json": {
       "config": {
        "plotlyServerURL": "https://plot.ly"
       },
       "data": [
        {
         "marker": {
          "color": "#ADD8E6"
         },
         "orientation": "h",
         "showlegend": false,
         "text": [
          0.919,
          0.788
         ],
         "textposition": "inside",
         "type": "bar",
         "width": 0.5,
         "x": [
          0.9191193511008111,
          0.7879367752305867
         ],
         "xaxis": "x",
         "y": [
          "Female",
          "Male"
         ],
         "yaxis": "y"
        },
        {
         "marker": {
          "color": "#EEE9BF"
         },
         "orientation": "h",
         "showlegend": false,
         "text": [
          0.728,
          0.655
         ],
         "textposition": "inside",
         "type": "bar",
         "width": 0.5,
         "x": [
          0.7284576393917451,
          0.6546618145313088
         ],
         "xaxis": "x2",
         "y": [
          "Female",
          "Male"
         ],
         "yaxis": "y2"
        },
        {
         "marker": {
          "color": "#ADD8E6"
         },
         "orientation": "h",
         "showlegend": false,
         "text": [
          0.004,
          0.018
         ],
         "textposition": "inside",
         "type": "bar",
         "width": 0.5,
         "x": [
          0.003545485991006572,
          0.017841409691629957
         ],
         "xaxis": "x3",
         "y": [
          "Female",
          "Male"
         ],
         "yaxis": "y3"
        }
       ],
       "layout": {
        "template": {
         "data": {
          "bar": [
           {
            "error_x": {
             "color": "#2a3f5f"
            },
            "error_y": {
             "color": "#2a3f5f"
            },
            "marker": {
             "line": {
              "color": "#E5ECF6",
              "width": 0.5
             },
             "pattern": {
              "fillmode": "overlay",
              "size": 10,
              "solidity": 0.2
             }
            },
            "type": "bar"
           }
          ],
          "barpolar": [
           {
            "marker": {
             "line": {
              "color": "#E5ECF6",
              "width": 0.5
             },
             "pattern": {
              "fillmode": "overlay",
              "size": 10,
              "solidity": 0.2
             }
            },
            "type": "barpolar"
           }
          ],
          "carpet": [
           {
            "aaxis": {
             "endlinecolor": "#2a3f5f",
             "gridcolor": "white",
             "linecolor": "white",
             "minorgridcolor": "white",
             "startlinecolor": "#2a3f5f"
            },
            "baxis": {
             "endlinecolor": "#2a3f5f",
             "gridcolor": "white",
             "linecolor": "white",
             "minorgridcolor": "white",
             "startlinecolor": "#2a3f5f"
            },
            "type": "carpet"
           }
          ],
          "choropleth": [
           {
            "colorbar": {
             "outlinewidth": 0,
             "ticks": ""
            },
            "type": "choropleth"
           }
          ],
          "contour": [
           {
            "colorbar": {
             "outlinewidth": 0,
             "ticks": ""
            },
            "colorscale": [
             [
              0,
              "#0d0887"
             ],
             [
              0.1111111111111111,
              "#46039f"
             ],
             [
              0.2222222222222222,
              "#7201a8"
             ],
             [
              0.3333333333333333,
              "#9c179e"
             ],
             [
              0.4444444444444444,
              "#bd3786"
             ],
             [
              0.5555555555555556,
              "#d8576b"
             ],
             [
              0.6666666666666666,
              "#ed7953"
             ],
             [
              0.7777777777777778,
              "#fb9f3a"
             ],
             [
              0.8888888888888888,
              "#fdca26"
             ],
             [
              1,
              "#f0f921"
             ]
            ],
            "type": "contour"
           }
          ],
          "contourcarpet": [
           {
            "colorbar": {
             "outlinewidth": 0,
             "ticks": ""
            },
            "type": "contourcarpet"
           }
          ],
          "heatmap": [
           {
            "colorbar": {
             "outlinewidth": 0,
             "ticks": ""
            },
            "colorscale": [
             [
              0,
              "#0d0887"
             ],
             [
              0.1111111111111111,
              "#46039f"
             ],
             [
              0.2222222222222222,
              "#7201a8"
             ],
             [
              0.3333333333333333,
              "#9c179e"
             ],
             [
              0.4444444444444444,
              "#bd3786"
             ],
             [
              0.5555555555555556,
              "#d8576b"
             ],
             [
              0.6666666666666666,
              "#ed7953"
             ],
             [
              0.7777777777777778,
              "#fb9f3a"
             ],
             [
              0.8888888888888888,
              "#fdca26"
             ],
             [
              1,
              "#f0f921"
             ]
            ],
            "type": "heatmap"
           }
          ],
          "heatmapgl": [
           {
            "colorbar": {
             "outlinewidth": 0,
             "ticks": ""
            },
            "colorscale": [
             [
              0,
              "#0d0887"
             ],
             [
              0.1111111111111111,
              "#46039f"
             ],
             [
              0.2222222222222222,
              "#7201a8"
             ],
             [
              0.3333333333333333,
              "#9c179e"
             ],
             [
              0.4444444444444444,
              "#bd3786"
             ],
             [
              0.5555555555555556,
              "#d8576b"
             ],
             [
              0.6666666666666666,
              "#ed7953"
             ],
             [
              0.7777777777777778,
              "#fb9f3a"
             ],
             [
              0.8888888888888888,
              "#fdca26"
             ],
             [
              1,
              "#f0f921"
             ]
            ],
            "type": "heatmapgl"
           }
          ],
          "histogram": [
           {
            "marker": {
             "pattern": {
              "fillmode": "overlay",
              "size": 10,
              "solidity": 0.2
             }
            },
            "type": "histogram"
           }
          ],
          "histogram2d": [
           {
            "colorbar": {
             "outlinewidth": 0,
             "ticks": ""
            },
            "colorscale": [
             [
              0,
              "#0d0887"
             ],
             [
              0.1111111111111111,
              "#46039f"
             ],
             [
              0.2222222222222222,
              "#7201a8"
             ],
             [
              0.3333333333333333,
              "#9c179e"
             ],
             [
              0.4444444444444444,
              "#bd3786"
             ],
             [
              0.5555555555555556,
              "#d8576b"
             ],
             [
              0.6666666666666666,
              "#ed7953"
             ],
             [
              0.7777777777777778,
              "#fb9f3a"
             ],
             [
              0.8888888888888888,
              "#fdca26"
             ],
             [
              1,
              "#f0f921"
             ]
            ],
            "type": "histogram2d"
           }
          ],
          "histogram2dcontour": [
           {
            "colorbar": {
             "outlinewidth": 0,
             "ticks": ""
            },
            "colorscale": [
             [
              0,
              "#0d0887"
             ],
             [
              0.1111111111111111,
              "#46039f"
             ],
             [
              0.2222222222222222,
              "#7201a8"
             ],
             [
              0.3333333333333333,
              "#9c179e"
             ],
             [
              0.4444444444444444,
              "#bd3786"
             ],
             [
              0.5555555555555556,
              "#d8576b"
             ],
             [
              0.6666666666666666,
              "#ed7953"
             ],
             [
              0.7777777777777778,
              "#fb9f3a"
             ],
             [
              0.8888888888888888,
              "#fdca26"
             ],
             [
              1,
              "#f0f921"
             ]
            ],
            "type": "histogram2dcontour"
           }
          ],
          "mesh3d": [
           {
            "colorbar": {
             "outlinewidth": 0,
             "ticks": ""
            },
            "type": "mesh3d"
           }
          ],
          "parcoords": [
           {
            "line": {
             "colorbar": {
              "outlinewidth": 0,
              "ticks": ""
             }
            },
            "type": "parcoords"
           }
          ],
          "pie": [
           {
            "automargin": true,
            "type": "pie"
           }
          ],
          "scatter": [
           {
            "fillpattern": {
             "fillmode": "overlay",
             "size": 10,
             "solidity": 0.2
            },
            "type": "scatter"
           }
          ],
          "scatter3d": [
           {
            "line": {
             "colorbar": {
              "outlinewidth": 0,
              "ticks": ""
             }
            },
            "marker": {
             "colorbar": {
              "outlinewidth": 0,
              "ticks": ""
             }
            },
            "type": "scatter3d"
           }
          ],
          "scattercarpet": [
           {
            "marker": {
             "colorbar": {
              "outlinewidth": 0,
              "ticks": ""
             }
            },
            "type": "scattercarpet"
           }
          ],
          "scattergeo": [
           {
            "marker": {
             "colorbar": {
              "outlinewidth": 0,
              "ticks": ""
             }
            },
            "type": "scattergeo"
           }
          ],
          "scattergl": [
           {
            "marker": {
             "colorbar": {
              "outlinewidth": 0,
              "ticks": ""
             }
            },
            "type": "scattergl"
           }
          ],
          "scattermapbox": [
           {
            "marker": {
             "colorbar": {
              "outlinewidth": 0,
              "ticks": ""
             }
            },
            "type": "scattermapbox"
           }
          ],
          "scatterpolar": [
           {
            "marker": {
             "colorbar": {
              "outlinewidth": 0,
              "ticks": ""
             }
            },
            "type": "scatterpolar"
           }
          ],
          "scatterpolargl": [
           {
            "marker": {
             "colorbar": {
              "outlinewidth": 0,
              "ticks": ""
             }
            },
            "type": "scatterpolargl"
           }
          ],
          "scatterternary": [
           {
            "marker": {
             "colorbar": {
              "outlinewidth": 0,
              "ticks": ""
             }
            },
            "type": "scatterternary"
           }
          ],
          "surface": [
           {
            "colorbar": {
             "outlinewidth": 0,
             "ticks": ""
            },
            "colorscale": [
             [
              0,
              "#0d0887"
             ],
             [
              0.1111111111111111,
              "#46039f"
             ],
             [
              0.2222222222222222,
              "#7201a8"
             ],
             [
              0.3333333333333333,
              "#9c179e"
             ],
             [
              0.4444444444444444,
              "#bd3786"
             ],
             [
              0.5555555555555556,
              "#d8576b"
             ],
             [
              0.6666666666666666,
              "#ed7953"
             ],
             [
              0.7777777777777778,
              "#fb9f3a"
             ],
             [
              0.8888888888888888,
              "#fdca26"
             ],
             [
              1,
              "#f0f921"
             ]
            ],
            "type": "surface"
           }
          ],
          "table": [
           {
            "cells": {
             "fill": {
              "color": "#EBF0F8"
             },
             "line": {
              "color": "white"
             }
            },
            "header": {
             "fill": {
              "color": "#C8D4E3"
             },
             "line": {
              "color": "white"
             }
            },
            "type": "table"
           }
          ]
         },
         "layout": {
          "annotationdefaults": {
           "arrowcolor": "#2a3f5f",
           "arrowhead": 0,
           "arrowwidth": 1
          },
          "autotypenumbers": "strict",
          "coloraxis": {
           "colorbar": {
            "outlinewidth": 0,
            "ticks": ""
           }
          },
          "colorscale": {
           "diverging": [
            [
             0,
             "#8e0152"
            ],
            [
             0.1,
             "#c51b7d"
            ],
            [
             0.2,
             "#de77ae"
            ],
            [
             0.3,
             "#f1b6da"
            ],
            [
             0.4,
             "#fde0ef"
            ],
            [
             0.5,
             "#f7f7f7"
            ],
            [
             0.6,
             "#e6f5d0"
            ],
            [
             0.7,
             "#b8e186"
            ],
            [
             0.8,
             "#7fbc41"
            ],
            [
             0.9,
             "#4d9221"
            ],
            [
             1,
             "#276419"
            ]
           ],
           "sequential": [
            [
             0,
             "#0d0887"
            ],
            [
             0.1111111111111111,
             "#46039f"
            ],
            [
             0.2222222222222222,
             "#7201a8"
            ],
            [
             0.3333333333333333,
             "#9c179e"
            ],
            [
             0.4444444444444444,
             "#bd3786"
            ],
            [
             0.5555555555555556,
             "#d8576b"
            ],
            [
             0.6666666666666666,
             "#ed7953"
            ],
            [
             0.7777777777777778,
             "#fb9f3a"
            ],
            [
             0.8888888888888888,
             "#fdca26"
            ],
            [
             1,
             "#f0f921"
            ]
           ],
           "sequentialminus": [
            [
             0,
             "#0d0887"
            ],
            [
             0.1111111111111111,
             "#46039f"
            ],
            [
             0.2222222222222222,
             "#7201a8"
            ],
            [
             0.3333333333333333,
             "#9c179e"
            ],
            [
             0.4444444444444444,
             "#bd3786"
            ],
            [
             0.5555555555555556,
             "#d8576b"
            ],
            [
             0.6666666666666666,
             "#ed7953"
            ],
            [
             0.7777777777777778,
             "#fb9f3a"
            ],
            [
             0.8888888888888888,
             "#fdca26"
            ],
            [
             1,
             "#f0f921"
            ]
           ]
          },
          "colorway": [
           "#636efa",
           "#EF553B",
           "#00cc96",
           "#ab63fa",
           "#FFA15A",
           "#19d3f3",
           "#FF6692",
           "#B6E880",
           "#FF97FF",
           "#FECB52"
          ],
          "font": {
           "color": "#2a3f5f"
          },
          "geo": {
           "bgcolor": "white",
           "lakecolor": "white",
           "landcolor": "#E5ECF6",
           "showlakes": true,
           "showland": true,
           "subunitcolor": "white"
          },
          "hoverlabel": {
           "align": "left"
          },
          "hovermode": "closest",
          "mapbox": {
           "style": "light"
          },
          "paper_bgcolor": "white",
          "plot_bgcolor": "#E5ECF6",
          "polar": {
           "angularaxis": {
            "gridcolor": "white",
            "linecolor": "white",
            "ticks": ""
           },
           "bgcolor": "#E5ECF6",
           "radialaxis": {
            "gridcolor": "white",
            "linecolor": "white",
            "ticks": ""
           }
          },
          "scene": {
           "xaxis": {
            "backgroundcolor": "#E5ECF6",
            "gridcolor": "white",
            "gridwidth": 2,
            "linecolor": "white",
            "showbackground": true,
            "ticks": "",
            "zerolinecolor": "white"
           },
           "yaxis": {
            "backgroundcolor": "#E5ECF6",
            "gridcolor": "white",
            "gridwidth": 2,
            "linecolor": "white",
            "showbackground": true,
            "ticks": "",
            "zerolinecolor": "white"
           },
           "zaxis": {
            "backgroundcolor": "#E5ECF6",
            "gridcolor": "white",
            "gridwidth": 2,
            "linecolor": "white",
            "showbackground": true,
            "ticks": "",
            "zerolinecolor": "white"
           }
          },
          "shapedefaults": {
           "line": {
            "color": "#2a3f5f"
           }
          },
          "ternary": {
           "aaxis": {
            "gridcolor": "white",
            "linecolor": "white",
            "ticks": ""
           },
           "baxis": {
            "gridcolor": "white",
            "linecolor": "white",
            "ticks": ""
           },
           "bgcolor": "#E5ECF6",
           "caxis": {
            "gridcolor": "white",
            "linecolor": "white",
            "ticks": ""
           }
          },
          "title": {
           "x": 0.05
          },
          "xaxis": {
           "automargin": true,
           "gridcolor": "white",
           "linecolor": "white",
           "ticks": "",
           "title": {
            "standoff": 15
           },
           "zerolinecolor": "white",
           "zerolinewidth": 2
          },
          "yaxis": {
           "automargin": true,
           "gridcolor": "white",
           "linecolor": "white",
           "ticks": "",
           "title": {
            "standoff": 15
           },
           "zerolinecolor": "white",
           "zerolinewidth": 2
          }
         }
        },
        "xaxis": {
         "anchor": "y",
         "domain": [
          0,
          0.3333333333333333
         ],
         "showticklabels": false,
         "title": {
          "font": {
           "size": 20
          },
          "standoff": 0,
          "text": "Accuracy"
         }
        },
        "xaxis2": {
         "anchor": "y2",
         "autorange": "reversed",
         "domain": [
          0.3333333333333333,
          0.6666666666666666
         ],
         "showticklabels": false,
         "tickfont": {
          "size": 28
         },
         "title": {
          "text": "FN (P=0,T=1)"
         }
        },
        "xaxis3": {
         "anchor": "y3",
         "domain": [
          0.6666666666666666,
          1
         ],
         "showticklabels": false,
         "tickfont": {
          "size": 28
         },
         "title": {
          "text": "FP (P=1,T=0)"
         }
        },
        "yaxis": {
         "anchor": "x",
         "domain": [
          0,
          1
         ],
         "tickfont": {
          "size": 16
         },
         "title": {
          "standoff": 20
         }
        },
        "yaxis2": {
         "anchor": "x2",
         "domain": [
          0,
          1
         ],
         "matches": "y",
         "showticklabels": false,
         "tickfont": {
          "size": 16
         },
         "title": {
          "standoff": 20
         }
        },
        "yaxis3": {
         "anchor": "x3",
         "domain": [
          0,
          1
         ],
         "matches": "y",
         "showticklabels": false,
         "tickfont": {
          "size": 16
         },
         "title": {
          "standoff": 20
         }
        }
       }
      },
      "text/html": [
       "<div>                            <div id=\"982261bc-0ef2-4b68-833d-f6e1c5153e61\" class=\"plotly-graph-div\" style=\"height:525px; width:100%;\"></div>            <script type=\"text/javascript\">                require([\"plotly\"], function(Plotly) {                    window.PLOTLYENV=window.PLOTLYENV || {};                                    if (document.getElementById(\"982261bc-0ef2-4b68-833d-f6e1c5153e61\")) {                    Plotly.newPlot(                        \"982261bc-0ef2-4b68-833d-f6e1c5153e61\",                        [{\"marker\":{\"color\":\"#ADD8E6\"},\"orientation\":\"h\",\"showlegend\":false,\"text\":[0.919,0.788],\"textposition\":\"inside\",\"width\":0.5,\"x\":[0.9191193511008111,0.7879367752305867],\"y\":[\"Female\",\"Male\"],\"type\":\"bar\",\"xaxis\":\"x\",\"yaxis\":\"y\"},{\"marker\":{\"color\":\"#EEE9BF\"},\"orientation\":\"h\",\"showlegend\":false,\"text\":[0.728,0.655],\"textposition\":\"inside\",\"width\":0.5,\"x\":[0.7284576393917451,0.6546618145313088],\"y\":[\"Female\",\"Male\"],\"type\":\"bar\",\"xaxis\":\"x2\",\"yaxis\":\"y2\"},{\"marker\":{\"color\":\"#ADD8E6\"},\"orientation\":\"h\",\"showlegend\":false,\"text\":[0.004,0.018],\"textposition\":\"inside\",\"width\":0.5,\"x\":[0.003545485991006572,0.017841409691629957],\"y\":[\"Female\",\"Male\"],\"type\":\"bar\",\"xaxis\":\"x3\",\"yaxis\":\"y3\"}],                        {\"template\":{\"data\":{\"histogram2dcontour\":[{\"type\":\"histogram2dcontour\",\"colorbar\":{\"outlinewidth\":0,\"ticks\":\"\"},\"colorscale\":[[0.0,\"#0d0887\"],[0.1111111111111111,\"#46039f\"],[0.2222222222222222,\"#7201a8\"],[0.3333333333333333,\"#9c179e\"],[0.4444444444444444,\"#bd3786\"],[0.5555555555555556,\"#d8576b\"],[0.6666666666666666,\"#ed7953\"],[0.7777777777777778,\"#fb9f3a\"],[0.8888888888888888,\"#fdca26\"],[1.0,\"#f0f921\"]]}],\"choropleth\":[{\"type\":\"choropleth\",\"colorbar\":{\"outlinewidth\":0,\"ticks\":\"\"}}],\"histogram2d\":[{\"type\":\"histogram2d\",\"colorbar\":{\"outlinewidth\":0,\"ticks\":\"\"},\"colorscale\":[[0.0,\"#0d0887\"],[0.1111111111111111,\"#46039f\"],[0.2222222222222222,\"#7201a8\"],[0.3333333333333333,\"#9c179e\"],[0.4444444444444444,\"#bd3786\"],[0.5555555555555556,\"#d8576b\"],[0.6666666666666666,\"#ed7953\"],[0.7777777777777778,\"#fb9f3a\"],[0.8888888888888888,\"#fdca26\"],[1.0,\"#f0f921\"]]}],\"heatmap\":[{\"type\":\"heatmap\",\"colorbar\":{\"outlinewidth\":0,\"ticks\":\"\"},\"colorscale\":[[0.0,\"#0d0887\"],[0.1111111111111111,\"#46039f\"],[0.2222222222222222,\"#7201a8\"],[0.3333333333333333,\"#9c179e\"],[0.4444444444444444,\"#bd3786\"],[0.5555555555555556,\"#d8576b\"],[0.6666666666666666,\"#ed7953\"],[0.7777777777777778,\"#fb9f3a\"],[0.8888888888888888,\"#fdca26\"],[1.0,\"#f0f921\"]]}],\"heatmapgl\":[{\"type\":\"heatmapgl\",\"colorbar\":{\"outlinewidth\":0,\"ticks\":\"\"},\"colorscale\":[[0.0,\"#0d0887\"],[0.1111111111111111,\"#46039f\"],[0.2222222222222222,\"#7201a8\"],[0.3333333333333333,\"#9c179e\"],[0.4444444444444444,\"#bd3786\"],[0.5555555555555556,\"#d8576b\"],[0.6666666666666666,\"#ed7953\"],[0.7777777777777778,\"#fb9f3a\"],[0.8888888888888888,\"#fdca26\"],[1.0,\"#f0f921\"]]}],\"contourcarpet\":[{\"type\":\"contourcarpet\",\"colorbar\":{\"outlinewidth\":0,\"ticks\":\"\"}}],\"contour\":[{\"type\":\"contour\",\"colorbar\":{\"outlinewidth\":0,\"ticks\":\"\"},\"colorscale\":[[0.0,\"#0d0887\"],[0.1111111111111111,\"#46039f\"],[0.2222222222222222,\"#7201a8\"],[0.3333333333333333,\"#9c179e\"],[0.4444444444444444,\"#bd3786\"],[0.5555555555555556,\"#d8576b\"],[0.6666666666666666,\"#ed7953\"],[0.7777777777777778,\"#fb9f3a\"],[0.8888888888888888,\"#fdca26\"],[1.0,\"#f0f921\"]]}],\"surface\":[{\"type\":\"surface\",\"colorbar\":{\"outlinewidth\":0,\"ticks\":\"\"},\"colorscale\":[[0.0,\"#0d0887\"],[0.1111111111111111,\"#46039f\"],[0.2222222222222222,\"#7201a8\"],[0.3333333333333333,\"#9c179e\"],[0.4444444444444444,\"#bd3786\"],[0.5555555555555556,\"#d8576b\"],[0.6666666666666666,\"#ed7953\"],[0.7777777777777778,\"#fb9f3a\"],[0.8888888888888888,\"#fdca26\"],[1.0,\"#f0f921\"]]}],\"mesh3d\":[{\"type\":\"mesh3d\",\"colorbar\":{\"outlinewidth\":0,\"ticks\":\"\"}}],\"scatter\":[{\"fillpattern\":{\"fillmode\":\"overlay\",\"size\":10,\"solidity\":0.2},\"type\":\"scatter\"}],\"parcoords\":[{\"type\":\"parcoords\",\"line\":{\"colorbar\":{\"outlinewidth\":0,\"ticks\":\"\"}}}],\"scatterpolargl\":[{\"type\":\"scatterpolargl\",\"marker\":{\"colorbar\":{\"outlinewidth\":0,\"ticks\":\"\"}}}],\"bar\":[{\"error_x\":{\"color\":\"#2a3f5f\"},\"error_y\":{\"color\":\"#2a3f5f\"},\"marker\":{\"line\":{\"color\":\"#E5ECF6\",\"width\":0.5},\"pattern\":{\"fillmode\":\"overlay\",\"size\":10,\"solidity\":0.2}},\"type\":\"bar\"}],\"scattergeo\":[{\"type\":\"scattergeo\",\"marker\":{\"colorbar\":{\"outlinewidth\":0,\"ticks\":\"\"}}}],\"scatterpolar\":[{\"type\":\"scatterpolar\",\"marker\":{\"colorbar\":{\"outlinewidth\":0,\"ticks\":\"\"}}}],\"histogram\":[{\"marker\":{\"pattern\":{\"fillmode\":\"overlay\",\"size\":10,\"solidity\":0.2}},\"type\":\"histogram\"}],\"scattergl\":[{\"type\":\"scattergl\",\"marker\":{\"colorbar\":{\"outlinewidth\":0,\"ticks\":\"\"}}}],\"scatter3d\":[{\"type\":\"scatter3d\",\"line\":{\"colorbar\":{\"outlinewidth\":0,\"ticks\":\"\"}},\"marker\":{\"colorbar\":{\"outlinewidth\":0,\"ticks\":\"\"}}}],\"scattermapbox\":[{\"type\":\"scattermapbox\",\"marker\":{\"colorbar\":{\"outlinewidth\":0,\"ticks\":\"\"}}}],\"scatterternary\":[{\"type\":\"scatterternary\",\"marker\":{\"colorbar\":{\"outlinewidth\":0,\"ticks\":\"\"}}}],\"scattercarpet\":[{\"type\":\"scattercarpet\",\"marker\":{\"colorbar\":{\"outlinewidth\":0,\"ticks\":\"\"}}}],\"carpet\":[{\"aaxis\":{\"endlinecolor\":\"#2a3f5f\",\"gridcolor\":\"white\",\"linecolor\":\"white\",\"minorgridcolor\":\"white\",\"startlinecolor\":\"#2a3f5f\"},\"baxis\":{\"endlinecolor\":\"#2a3f5f\",\"gridcolor\":\"white\",\"linecolor\":\"white\",\"minorgridcolor\":\"white\",\"startlinecolor\":\"#2a3f5f\"},\"type\":\"carpet\"}],\"table\":[{\"cells\":{\"fill\":{\"color\":\"#EBF0F8\"},\"line\":{\"color\":\"white\"}},\"header\":{\"fill\":{\"color\":\"#C8D4E3\"},\"line\":{\"color\":\"white\"}},\"type\":\"table\"}],\"barpolar\":[{\"marker\":{\"line\":{\"color\":\"#E5ECF6\",\"width\":0.5},\"pattern\":{\"fillmode\":\"overlay\",\"size\":10,\"solidity\":0.2}},\"type\":\"barpolar\"}],\"pie\":[{\"automargin\":true,\"type\":\"pie\"}]},\"layout\":{\"autotypenumbers\":\"strict\",\"colorway\":[\"#636efa\",\"#EF553B\",\"#00cc96\",\"#ab63fa\",\"#FFA15A\",\"#19d3f3\",\"#FF6692\",\"#B6E880\",\"#FF97FF\",\"#FECB52\"],\"font\":{\"color\":\"#2a3f5f\"},\"hovermode\":\"closest\",\"hoverlabel\":{\"align\":\"left\"},\"paper_bgcolor\":\"white\",\"plot_bgcolor\":\"#E5ECF6\",\"polar\":{\"bgcolor\":\"#E5ECF6\",\"angularaxis\":{\"gridcolor\":\"white\",\"linecolor\":\"white\",\"ticks\":\"\"},\"radialaxis\":{\"gridcolor\":\"white\",\"linecolor\":\"white\",\"ticks\":\"\"}},\"ternary\":{\"bgcolor\":\"#E5ECF6\",\"aaxis\":{\"gridcolor\":\"white\",\"linecolor\":\"white\",\"ticks\":\"\"},\"baxis\":{\"gridcolor\":\"white\",\"linecolor\":\"white\",\"ticks\":\"\"},\"caxis\":{\"gridcolor\":\"white\",\"linecolor\":\"white\",\"ticks\":\"\"}},\"coloraxis\":{\"colorbar\":{\"outlinewidth\":0,\"ticks\":\"\"}},\"colorscale\":{\"sequential\":[[0.0,\"#0d0887\"],[0.1111111111111111,\"#46039f\"],[0.2222222222222222,\"#7201a8\"],[0.3333333333333333,\"#9c179e\"],[0.4444444444444444,\"#bd3786\"],[0.5555555555555556,\"#d8576b\"],[0.6666666666666666,\"#ed7953\"],[0.7777777777777778,\"#fb9f3a\"],[0.8888888888888888,\"#fdca26\"],[1.0,\"#f0f921\"]],\"sequentialminus\":[[0.0,\"#0d0887\"],[0.1111111111111111,\"#46039f\"],[0.2222222222222222,\"#7201a8\"],[0.3333333333333333,\"#9c179e\"],[0.4444444444444444,\"#bd3786\"],[0.5555555555555556,\"#d8576b\"],[0.6666666666666666,\"#ed7953\"],[0.7777777777777778,\"#fb9f3a\"],[0.8888888888888888,\"#fdca26\"],[1.0,\"#f0f921\"]],\"diverging\":[[0,\"#8e0152\"],[0.1,\"#c51b7d\"],[0.2,\"#de77ae\"],[0.3,\"#f1b6da\"],[0.4,\"#fde0ef\"],[0.5,\"#f7f7f7\"],[0.6,\"#e6f5d0\"],[0.7,\"#b8e186\"],[0.8,\"#7fbc41\"],[0.9,\"#4d9221\"],[1,\"#276419\"]]},\"xaxis\":{\"gridcolor\":\"white\",\"linecolor\":\"white\",\"ticks\":\"\",\"title\":{\"standoff\":15},\"zerolinecolor\":\"white\",\"automargin\":true,\"zerolinewidth\":2},\"yaxis\":{\"gridcolor\":\"white\",\"linecolor\":\"white\",\"ticks\":\"\",\"title\":{\"standoff\":15},\"zerolinecolor\":\"white\",\"automargin\":true,\"zerolinewidth\":2},\"scene\":{\"xaxis\":{\"backgroundcolor\":\"#E5ECF6\",\"gridcolor\":\"white\",\"linecolor\":\"white\",\"showbackground\":true,\"ticks\":\"\",\"zerolinecolor\":\"white\",\"gridwidth\":2},\"yaxis\":{\"backgroundcolor\":\"#E5ECF6\",\"gridcolor\":\"white\",\"linecolor\":\"white\",\"showbackground\":true,\"ticks\":\"\",\"zerolinecolor\":\"white\",\"gridwidth\":2},\"zaxis\":{\"backgroundcolor\":\"#E5ECF6\",\"gridcolor\":\"white\",\"linecolor\":\"white\",\"showbackground\":true,\"ticks\":\"\",\"zerolinecolor\":\"white\",\"gridwidth\":2}},\"shapedefaults\":{\"line\":{\"color\":\"#2a3f5f\"}},\"annotationdefaults\":{\"arrowcolor\":\"#2a3f5f\",\"arrowhead\":0,\"arrowwidth\":1},\"geo\":{\"bgcolor\":\"white\",\"landcolor\":\"#E5ECF6\",\"subunitcolor\":\"white\",\"showland\":true,\"showlakes\":true,\"lakecolor\":\"white\"},\"title\":{\"x\":0.05},\"mapbox\":{\"style\":\"light\"}}},\"xaxis\":{\"anchor\":\"y\",\"domain\":[0.0,0.3333333333333333],\"title\":{\"font\":{\"size\":20},\"text\":\"Accuracy\",\"standoff\":0},\"showticklabels\":false},\"yaxis\":{\"anchor\":\"x\",\"domain\":[0.0,1.0],\"title\":{\"standoff\":20},\"tickfont\":{\"size\":16}},\"xaxis2\":{\"anchor\":\"y2\",\"domain\":[0.3333333333333333,0.6666666666666666],\"title\":{\"text\":\"FN (P=0,T=1)\"},\"tickfont\":{\"size\":28},\"showticklabels\":false,\"autorange\":\"reversed\"},\"yaxis2\":{\"anchor\":\"x2\",\"domain\":[0.0,1.0],\"matches\":\"y\",\"showticklabels\":false,\"title\":{\"standoff\":20},\"tickfont\":{\"size\":16}},\"xaxis3\":{\"anchor\":\"y3\",\"domain\":[0.6666666666666666,1.0],\"title\":{\"text\":\"FP (P=1,T=0)\"},\"tickfont\":{\"size\":28},\"showticklabels\":false},\"yaxis3\":{\"anchor\":\"x3\",\"domain\":[0.0,1.0],\"matches\":\"y\",\"showticklabels\":false,\"title\":{\"standoff\":20},\"tickfont\":{\"size\":16}}},                        {\"responsive\": true}                    ).then(function(){\n",
       "                            \n",
       "var gd = document.getElementById('982261bc-0ef2-4b68-833d-f6e1c5153e61');\n",
       "var x = new MutationObserver(function (mutations, observer) {{\n",
       "        var display = window.getComputedStyle(gd).display;\n",
       "        if (!display || display === 'none') {{\n",
       "            console.log([gd, 'removed!']);\n",
       "            Plotly.purge(gd);\n",
       "            observer.disconnect();\n",
       "        }}\n",
       "}});\n",
       "\n",
       "// Listen for the removal of the full notebook cells\n",
       "var notebookContainer = gd.closest('#notebook-container');\n",
       "if (notebookContainer) {{\n",
       "    x.observe(notebookContainer, {childList: true});\n",
       "}}\n",
       "\n",
       "// Listen for the clearing of the current output cell\n",
       "var outputEl = gd.closest('.output');\n",
       "if (outputEl) {{\n",
       "    x.observe(outputEl, {childList: true});\n",
       "}}\n",
       "\n",
       "                        })                };                });            </script>        </div>"
      ]
     },
     "metadata": {},
     "output_type": "display_data"
    }
   ],
   "source": [
    "from plotly.subplots import make_subplots\n",
    "\n",
    "\n",
    "\n",
    "def graph_eval_groups(metric_frame, metric = 'accuracy'):\n",
    "    fig = make_subplots(rows=1, cols=3, shared_xaxes=False,\n",
    "                        shared_yaxes=True, horizontal_spacing=0)\n",
    "    y = metric_frame.by_group[metric].index\n",
    "    x1 = metric_frame.by_group[metric]\n",
    "    text1 = metric.capitalize()\n",
    "    fig.append_trace(go.Bar(\n",
    "                        x=x1, \n",
    "                        y=y,\n",
    "                        text=np.round(x1,3), \n",
    "                        textposition='inside',\n",
    "                        orientation='h', \n",
    "                        width=0.5, \n",
    "                        showlegend=False, \n",
    "                        marker_color='#ADD8E6'), \n",
    "                        1, 1) # 1,2 represents row 1 column 2 in the plot grid\n",
    "\n",
    "    metric2 = 'false negative rate'\n",
    "    text2 = 'FN (P=0,T=1)'\n",
    "    x2 = metric_frame.by_group[metric2]\n",
    "    fig.append_trace(go.Bar(\n",
    "                        x=x2, \n",
    "                        y=y,\n",
    "                        text=np.round(x2,3), #Display the numbers with thousands separators in hover-over tooltip \n",
    "                        textposition='inside',\n",
    "                        orientation='h', \n",
    "                        width=0.5, \n",
    "                        showlegend=False, \n",
    "                        marker_color='#EEE9BF'), \n",
    "                        1, 2) # 1,1 represents row 1 column 1 in the plot grid\n",
    "\n",
    "    metric3 = 'false positive rate'\n",
    "    text3 = 'FP (P=1,T=0)'\n",
    "    x3 = metric_frame.by_group[metric3]\n",
    "    fig.append_trace(go.Bar(\n",
    "                        x=x3, \n",
    "                        y=y,\n",
    "                        text=np.round(x3,3), \n",
    "                        textposition='inside',\n",
    "                        orientation='h', \n",
    "                        width=0.5, \n",
    "                        showlegend=False, \n",
    "                        marker_color='#ADD8E6'), \n",
    "                        1, 3) # 1,2 represents row 1 column 2 in the plot grid\n",
    "\n",
    "    fig.update_xaxes(showticklabels=False,title_text= text1, row=1, col=1, title_standoff = 0, title_font = {\"size\": 20})\n",
    "    fig.update_xaxes(showticklabels=False,title_text= text2, row=1, col=2, autorange = 'reversed', tickfont=dict(size = 28))\n",
    "    fig.update_xaxes(showticklabels=False,title_text= text3, row=1, col=3, tickfont=dict(size = 28))\n",
    "\n",
    "    #fig.update_yaxes(row = 1, col = 1, title_standoff = 50)\n",
    "\n",
    "    fig.update_yaxes(\n",
    "                    title_standoff = 20,\n",
    "                        tickfont=dict(size = 16))\n",
    "\n",
    "    return fig\n",
    "\n",
    "\n",
    "\n",
    "\n",
    "n=20\n",
    "metric_frame = results_dict['metrics_sim'][0][new_index[20]]\n",
    "graph_eval_groups(metric_frame, 'accuracy')"
   ]
  },
  {
   "cell_type": "code",
   "execution_count": 359,
   "metadata": {},
   "outputs": [
    {
     "data": {
      "text/plain": [
       "0.0"
      ]
     },
     "execution_count": 359,
     "metadata": {},
     "output_type": "execute_result"
    }
   ],
   "source": [
    "np.min(df_metrics['precision'])"
   ]
  },
  {
   "cell_type": "code",
   "execution_count": 357,
   "metadata": {},
   "outputs": [
    {
     "data": {
      "text/html": [
       "<div>\n",
       "<style scoped>\n",
       "    .dataframe tbody tr th:only-of-type {\n",
       "        vertical-align: middle;\n",
       "    }\n",
       "\n",
       "    .dataframe tbody tr th {\n",
       "        vertical-align: top;\n",
       "    }\n",
       "\n",
       "    .dataframe thead th {\n",
       "        text-align: right;\n",
       "    }\n",
       "</style>\n",
       "<table border=\"1\" class=\"dataframe\">\n",
       "  <thead>\n",
       "    <tr style=\"text-align: right;\">\n",
       "      <th></th>\n",
       "      <th>metric</th>\n",
       "      <th>min</th>\n",
       "      <th>max</th>\n",
       "      <th>diff</th>\n",
       "    </tr>\n",
       "  </thead>\n",
       "  <tbody>\n",
       "    <tr>\n",
       "      <th>0</th>\n",
       "      <td>recall</td>\n",
       "      <td>0.00000</td>\n",
       "      <td>0.638396</td>\n",
       "      <td>0.638396</td>\n",
       "    </tr>\n",
       "    <tr>\n",
       "      <th>1</th>\n",
       "      <td>precision</td>\n",
       "      <td>0.00000</td>\n",
       "      <td>0.997593</td>\n",
       "      <td>0.997593</td>\n",
       "    </tr>\n",
       "    <tr>\n",
       "      <th>2</th>\n",
       "      <td>f1 score</td>\n",
       "      <td>0.00000</td>\n",
       "      <td>0.697680</td>\n",
       "      <td>0.697680</td>\n",
       "    </tr>\n",
       "    <tr>\n",
       "      <th>3</th>\n",
       "      <td>accuracy</td>\n",
       "      <td>0.76071</td>\n",
       "      <td>0.868915</td>\n",
       "      <td>0.108205</td>\n",
       "    </tr>\n",
       "  </tbody>\n",
       "</table>\n",
       "</div>"
      ],
      "text/plain": [
       "      metric      min       max      diff\n",
       "0     recall  0.00000  0.638396  0.638396\n",
       "1  precision  0.00000  0.997593  0.997593\n",
       "2   f1 score  0.00000  0.697680  0.697680\n",
       "3   accuracy  0.76071  0.868915  0.108205"
      ]
     },
     "execution_count": 357,
     "metadata": {},
     "output_type": "execute_result"
    }
   ],
   "source": [
    "df_model_ranges"
   ]
  },
  {
   "cell_type": "code",
   "execution_count": 336,
   "metadata": {},
   "outputs": [],
   "source": [
    "\n",
    "def create_df_ranges(metrics, metrics_dict):\n",
    "    d = []\n",
    "    for metric in metrics:\n",
    "        metric_min = np.min(metrics_dict[metric])\n",
    "        metric_max = np.max(metrics_dict[metric])\n",
    "        d.append(\n",
    "            {\n",
    "                'metric': metric,\n",
    "                'min': metric_min,\n",
    "                'max':  metric_max,\n",
    "                'diff': metric_max - metric_min\n",
    "            }\n",
    "        )\n",
    "\n",
    "    return pd.DataFrame(d)\n",
    "\n",
    "metrics = [\n",
    "    'predictive equality difference', \n",
    "    'equality opportunity difference',\n",
    "    'average absolute odds difference',\n",
    "    'disparity difference'\n",
    "    ]\n",
    "df_fair_ranges  = create_df_ranges(metrics, fair_metrics_dict)"
   ]
  },
  {
   "cell_type": "code",
   "execution_count": 343,
   "metadata": {},
   "outputs": [
    {
     "data": {
      "application/vnd.plotly.v1+json": {
       "config": {
        "plotlyServerURL": "https://plot.ly"
       },
       "data": [
        {
         "marker": {
          "color": "lightslategray"
         },
         "orientation": "h",
         "type": "bar",
         "width": 0.05,
         "x": [
          0
         ],
         "y": [
          "predictive equality difference"
         ]
        },
        {
         "base": [
          0
         ],
         "marker": {
          "color": "LightSkyBlue"
         },
         "orientation": "h",
         "type": "bar",
         "width": 0.15,
         "x": [
          0.06799039857860563
         ],
         "y": [
          "predictive equality difference"
         ]
        },
        {
         "base": [
          0.06799039857860563
         ],
         "marker": {
          "color": "lightslategray"
         },
         "orientation": "h",
         "type": "bar",
         "width": 0.05,
         "x": [
          0.9320096014213943
         ],
         "y": [
          "predictive equality difference"
         ]
        },
        {
         "marker": {
          "line": {
           "color": "lightslategray",
           "width": 2
          },
          "size": 10,
          "symbol": "line-ns"
         },
         "mode": "markers+text",
         "text": [
          "1"
         ],
         "textposition": "bottom center",
         "type": "scatter",
         "x": [
          1
         ],
         "y": [
          "predictive equality difference"
         ]
        },
        {
         "marker": {
          "line": {
           "color": "lightslategray",
           "width": 2
          },
          "size": 10,
          "symbol": "line-ns"
         },
         "mode": "markers+text",
         "text": [
          "0"
         ],
         "textfont": {
          "size": 12
         },
         "textposition": "bottom center",
         "type": "scatter",
         "x": [
          0
         ],
         "y": [
          "predictive equality difference"
         ]
        },
        {
         "marker": {
          "color": "mediumaquamarine",
          "line": {
           "width": 2
          },
          "size": 5,
          "symbol": "line-ns"
         },
         "mode": "markers+text",
         "orientation": "h",
         "text": [
          "0.04"
         ],
         "textposition": "bottom center",
         "type": "scatter",
         "x": [
          0.03589853136804636
         ],
         "y": [
          "predictive equality difference"
         ]
        },
        {
         "marker": {
          "color": "lightslategray"
         },
         "orientation": "h",
         "type": "bar",
         "width": 0.05,
         "x": [
          0
         ],
         "y": [
          "equality opportunity difference"
         ]
        },
        {
         "base": [
          0
         ],
         "marker": {
          "color": "LightSkyBlue"
         },
         "orientation": "h",
         "type": "bar",
         "width": 0.15,
         "x": [
          0.17638661180648513
         ],
         "y": [
          "equality opportunity difference"
         ]
        },
        {
         "base": [
          0.17638661180648513
         ],
         "marker": {
          "color": "lightslategray"
         },
         "orientation": "h",
         "type": "bar",
         "width": 0.05,
         "x": [
          0.8236133881935148
         ],
         "y": [
          "equality opportunity difference"
         ]
        },
        {
         "marker": {
          "line": {
           "color": "lightslategray",
           "width": 2
          },
          "size": 10,
          "symbol": "line-ns"
         },
         "mode": "markers+text",
         "text": [
          "1"
         ],
         "textposition": "bottom center",
         "type": "scatter",
         "x": [
          1
         ],
         "y": [
          "equality opportunity difference"
         ]
        },
        {
         "marker": {
          "line": {
           "color": "lightslategray",
           "width": 2
          },
          "size": 10,
          "symbol": "line-ns"
         },
         "mode": "markers+text",
         "text": [
          "0"
         ],
         "textfont": {
          "size": 12
         },
         "textposition": "bottom center",
         "type": "scatter",
         "x": [
          0
         ],
         "y": [
          "equality opportunity difference"
         ]
        },
        {
         "marker": {
          "color": "mediumaquamarine",
          "line": {
           "width": 2
          },
          "size": 5,
          "symbol": "line-ns"
         },
         "mode": "markers+text",
         "orientation": "h",
         "text": [
          "0.13"
         ],
         "textposition": "bottom center",
         "type": "scatter",
         "x": [
          0.13047081699369273
         ],
         "y": [
          "equality opportunity difference"
         ]
        },
        {
         "marker": {
          "color": "lightslategray"
         },
         "orientation": "h",
         "type": "bar",
         "width": 0.05,
         "x": [
          0
         ],
         "y": [
          "average absolute odds difference"
         ]
        },
        {
         "base": [
          0
         ],
         "marker": {
          "color": "LightSkyBlue"
         },
         "orientation": "h",
         "type": "bar",
         "width": 0.15,
         "x": [
          0.09346733248998614
         ],
         "y": [
          "average absolute odds difference"
         ]
        },
        {
         "base": [
          0.09346733248998614
         ],
         "marker": {
          "color": "lightslategray"
         },
         "orientation": "h",
         "type": "bar",
         "width": 0.05,
         "x": [
          0.9065326675100138
         ],
         "y": [
          "average absolute odds difference"
         ]
        },
        {
         "marker": {
          "line": {
           "color": "lightslategray",
           "width": 2
          },
          "size": 10,
          "symbol": "line-ns"
         },
         "mode": "markers+text",
         "text": [
          "1"
         ],
         "textposition": "bottom center",
         "type": "scatter",
         "x": [
          1
         ],
         "y": [
          "average absolute odds difference"
         ]
        },
        {
         "marker": {
          "line": {
           "color": "lightslategray",
           "width": 2
          },
          "size": 10,
          "symbol": "line-ns"
         },
         "mode": "markers+text",
         "text": [
          "0"
         ],
         "textfont": {
          "size": 12
         },
         "textposition": "bottom center",
         "type": "scatter",
         "x": [
          0
         ],
         "y": [
          "average absolute odds difference"
         ]
        },
        {
         "marker": {
          "color": "mediumaquamarine",
          "line": {
           "width": 2
          },
          "size": 5,
          "symbol": "line-ns"
         },
         "mode": "markers+text",
         "orientation": "h",
         "text": [
          "0.08"
         ],
         "textposition": "bottom center",
         "type": "scatter",
         "x": [
          0.08318467418086954
         ],
         "y": [
          "average absolute odds difference"
         ]
        },
        {
         "marker": {
          "color": "lightslategray"
         },
         "orientation": "h",
         "type": "bar",
         "width": 0.05,
         "x": [
          0
         ],
         "y": [
          "disparity difference"
         ]
        },
        {
         "base": [
          0
         ],
         "marker": {
          "color": "LightSkyBlue"
         },
         "orientation": "h",
         "type": "bar",
         "width": 0.15,
         "x": [
          0.18124754972362
         ],
         "y": [
          "disparity difference"
         ]
        },
        {
         "base": [
          0.18124754972362
         ],
         "marker": {
          "color": "lightslategray"
         },
         "orientation": "h",
         "type": "bar",
         "width": 0.05,
         "x": [
          0.81875245027638
         ],
         "y": [
          "disparity difference"
         ]
        },
        {
         "marker": {
          "line": {
           "color": "lightslategray",
           "width": 2
          },
          "size": 10,
          "symbol": "line-ns"
         },
         "mode": "markers+text",
         "text": [
          "1"
         ],
         "textposition": "bottom center",
         "type": "scatter",
         "x": [
          1
         ],
         "y": [
          "disparity difference"
         ]
        },
        {
         "marker": {
          "line": {
           "color": "lightslategray",
           "width": 2
          },
          "size": 10,
          "symbol": "line-ns"
         },
         "mode": "markers+text",
         "text": [
          "0"
         ],
         "textfont": {
          "size": 12
         },
         "textposition": "bottom center",
         "type": "scatter",
         "x": [
          0
         ],
         "y": [
          "disparity difference"
         ]
        },
        {
         "marker": {
          "color": "mediumaquamarine",
          "line": {
           "width": 2
          },
          "size": 5,
          "symbol": "line-ns"
         },
         "mode": "markers+text",
         "orientation": "h",
         "text": [
          "0.13"
         ],
         "textposition": "bottom center",
         "type": "scatter",
         "x": [
          0.1323856243396237
         ],
         "y": [
          "disparity difference"
         ]
        }
       ],
       "layout": {
        "barmode": "stack",
        "showlegend": false,
        "template": {
         "data": {
          "bar": [
           {
            "error_x": {
             "color": "#2a3f5f"
            },
            "error_y": {
             "color": "#2a3f5f"
            },
            "marker": {
             "line": {
              "color": "#E5ECF6",
              "width": 0.5
             },
             "pattern": {
              "fillmode": "overlay",
              "size": 10,
              "solidity": 0.2
             }
            },
            "type": "bar"
           }
          ],
          "barpolar": [
           {
            "marker": {
             "line": {
              "color": "#E5ECF6",
              "width": 0.5
             },
             "pattern": {
              "fillmode": "overlay",
              "size": 10,
              "solidity": 0.2
             }
            },
            "type": "barpolar"
           }
          ],
          "carpet": [
           {
            "aaxis": {
             "endlinecolor": "#2a3f5f",
             "gridcolor": "white",
             "linecolor": "white",
             "minorgridcolor": "white",
             "startlinecolor": "#2a3f5f"
            },
            "baxis": {
             "endlinecolor": "#2a3f5f",
             "gridcolor": "white",
             "linecolor": "white",
             "minorgridcolor": "white",
             "startlinecolor": "#2a3f5f"
            },
            "type": "carpet"
           }
          ],
          "choropleth": [
           {
            "colorbar": {
             "outlinewidth": 0,
             "ticks": ""
            },
            "type": "choropleth"
           }
          ],
          "contour": [
           {
            "colorbar": {
             "outlinewidth": 0,
             "ticks": ""
            },
            "colorscale": [
             [
              0,
              "#0d0887"
             ],
             [
              0.1111111111111111,
              "#46039f"
             ],
             [
              0.2222222222222222,
              "#7201a8"
             ],
             [
              0.3333333333333333,
              "#9c179e"
             ],
             [
              0.4444444444444444,
              "#bd3786"
             ],
             [
              0.5555555555555556,
              "#d8576b"
             ],
             [
              0.6666666666666666,
              "#ed7953"
             ],
             [
              0.7777777777777778,
              "#fb9f3a"
             ],
             [
              0.8888888888888888,
              "#fdca26"
             ],
             [
              1,
              "#f0f921"
             ]
            ],
            "type": "contour"
           }
          ],
          "contourcarpet": [
           {
            "colorbar": {
             "outlinewidth": 0,
             "ticks": ""
            },
            "type": "contourcarpet"
           }
          ],
          "heatmap": [
           {
            "colorbar": {
             "outlinewidth": 0,
             "ticks": ""
            },
            "colorscale": [
             [
              0,
              "#0d0887"
             ],
             [
              0.1111111111111111,
              "#46039f"
             ],
             [
              0.2222222222222222,
              "#7201a8"
             ],
             [
              0.3333333333333333,
              "#9c179e"
             ],
             [
              0.4444444444444444,
              "#bd3786"
             ],
             [
              0.5555555555555556,
              "#d8576b"
             ],
             [
              0.6666666666666666,
              "#ed7953"
             ],
             [
              0.7777777777777778,
              "#fb9f3a"
             ],
             [
              0.8888888888888888,
              "#fdca26"
             ],
             [
              1,
              "#f0f921"
             ]
            ],
            "type": "heatmap"
           }
          ],
          "heatmapgl": [
           {
            "colorbar": {
             "outlinewidth": 0,
             "ticks": ""
            },
            "colorscale": [
             [
              0,
              "#0d0887"
             ],
             [
              0.1111111111111111,
              "#46039f"
             ],
             [
              0.2222222222222222,
              "#7201a8"
             ],
             [
              0.3333333333333333,
              "#9c179e"
             ],
             [
              0.4444444444444444,
              "#bd3786"
             ],
             [
              0.5555555555555556,
              "#d8576b"
             ],
             [
              0.6666666666666666,
              "#ed7953"
             ],
             [
              0.7777777777777778,
              "#fb9f3a"
             ],
             [
              0.8888888888888888,
              "#fdca26"
             ],
             [
              1,
              "#f0f921"
             ]
            ],
            "type": "heatmapgl"
           }
          ],
          "histogram": [
           {
            "marker": {
             "pattern": {
              "fillmode": "overlay",
              "size": 10,
              "solidity": 0.2
             }
            },
            "type": "histogram"
           }
          ],
          "histogram2d": [
           {
            "colorbar": {
             "outlinewidth": 0,
             "ticks": ""
            },
            "colorscale": [
             [
              0,
              "#0d0887"
             ],
             [
              0.1111111111111111,
              "#46039f"
             ],
             [
              0.2222222222222222,
              "#7201a8"
             ],
             [
              0.3333333333333333,
              "#9c179e"
             ],
             [
              0.4444444444444444,
              "#bd3786"
             ],
             [
              0.5555555555555556,
              "#d8576b"
             ],
             [
              0.6666666666666666,
              "#ed7953"
             ],
             [
              0.7777777777777778,
              "#fb9f3a"
             ],
             [
              0.8888888888888888,
              "#fdca26"
             ],
             [
              1,
              "#f0f921"
             ]
            ],
            "type": "histogram2d"
           }
          ],
          "histogram2dcontour": [
           {
            "colorbar": {
             "outlinewidth": 0,
             "ticks": ""
            },
            "colorscale": [
             [
              0,
              "#0d0887"
             ],
             [
              0.1111111111111111,
              "#46039f"
             ],
             [
              0.2222222222222222,
              "#7201a8"
             ],
             [
              0.3333333333333333,
              "#9c179e"
             ],
             [
              0.4444444444444444,
              "#bd3786"
             ],
             [
              0.5555555555555556,
              "#d8576b"
             ],
             [
              0.6666666666666666,
              "#ed7953"
             ],
             [
              0.7777777777777778,
              "#fb9f3a"
             ],
             [
              0.8888888888888888,
              "#fdca26"
             ],
             [
              1,
              "#f0f921"
             ]
            ],
            "type": "histogram2dcontour"
           }
          ],
          "mesh3d": [
           {
            "colorbar": {
             "outlinewidth": 0,
             "ticks": ""
            },
            "type": "mesh3d"
           }
          ],
          "parcoords": [
           {
            "line": {
             "colorbar": {
              "outlinewidth": 0,
              "ticks": ""
             }
            },
            "type": "parcoords"
           }
          ],
          "pie": [
           {
            "automargin": true,
            "type": "pie"
           }
          ],
          "scatter": [
           {
            "fillpattern": {
             "fillmode": "overlay",
             "size": 10,
             "solidity": 0.2
            },
            "type": "scatter"
           }
          ],
          "scatter3d": [
           {
            "line": {
             "colorbar": {
              "outlinewidth": 0,
              "ticks": ""
             }
            },
            "marker": {
             "colorbar": {
              "outlinewidth": 0,
              "ticks": ""
             }
            },
            "type": "scatter3d"
           }
          ],
          "scattercarpet": [
           {
            "marker": {
             "colorbar": {
              "outlinewidth": 0,
              "ticks": ""
             }
            },
            "type": "scattercarpet"
           }
          ],
          "scattergeo": [
           {
            "marker": {
             "colorbar": {
              "outlinewidth": 0,
              "ticks": ""
             }
            },
            "type": "scattergeo"
           }
          ],
          "scattergl": [
           {
            "marker": {
             "colorbar": {
              "outlinewidth": 0,
              "ticks": ""
             }
            },
            "type": "scattergl"
           }
          ],
          "scattermapbox": [
           {
            "marker": {
             "colorbar": {
              "outlinewidth": 0,
              "ticks": ""
             }
            },
            "type": "scattermapbox"
           }
          ],
          "scatterpolar": [
           {
            "marker": {
             "colorbar": {
              "outlinewidth": 0,
              "ticks": ""
             }
            },
            "type": "scatterpolar"
           }
          ],
          "scatterpolargl": [
           {
            "marker": {
             "colorbar": {
              "outlinewidth": 0,
              "ticks": ""
             }
            },
            "type": "scatterpolargl"
           }
          ],
          "scatterternary": [
           {
            "marker": {
             "colorbar": {
              "outlinewidth": 0,
              "ticks": ""
             }
            },
            "type": "scatterternary"
           }
          ],
          "surface": [
           {
            "colorbar": {
             "outlinewidth": 0,
             "ticks": ""
            },
            "colorscale": [
             [
              0,
              "#0d0887"
             ],
             [
              0.1111111111111111,
              "#46039f"
             ],
             [
              0.2222222222222222,
              "#7201a8"
             ],
             [
              0.3333333333333333,
              "#9c179e"
             ],
             [
              0.4444444444444444,
              "#bd3786"
             ],
             [
              0.5555555555555556,
              "#d8576b"
             ],
             [
              0.6666666666666666,
              "#ed7953"
             ],
             [
              0.7777777777777778,
              "#fb9f3a"
             ],
             [
              0.8888888888888888,
              "#fdca26"
             ],
             [
              1,
              "#f0f921"
             ]
            ],
            "type": "surface"
           }
          ],
          "table": [
           {
            "cells": {
             "fill": {
              "color": "#EBF0F8"
             },
             "line": {
              "color": "white"
             }
            },
            "header": {
             "fill": {
              "color": "#C8D4E3"
             },
             "line": {
              "color": "white"
             }
            },
            "type": "table"
           }
          ]
         },
         "layout": {
          "annotationdefaults": {
           "arrowcolor": "#2a3f5f",
           "arrowhead": 0,
           "arrowwidth": 1
          },
          "autotypenumbers": "strict",
          "coloraxis": {
           "colorbar": {
            "outlinewidth": 0,
            "ticks": ""
           }
          },
          "colorscale": {
           "diverging": [
            [
             0,
             "#8e0152"
            ],
            [
             0.1,
             "#c51b7d"
            ],
            [
             0.2,
             "#de77ae"
            ],
            [
             0.3,
             "#f1b6da"
            ],
            [
             0.4,
             "#fde0ef"
            ],
            [
             0.5,
             "#f7f7f7"
            ],
            [
             0.6,
             "#e6f5d0"
            ],
            [
             0.7,
             "#b8e186"
            ],
            [
             0.8,
             "#7fbc41"
            ],
            [
             0.9,
             "#4d9221"
            ],
            [
             1,
             "#276419"
            ]
           ],
           "sequential": [
            [
             0,
             "#0d0887"
            ],
            [
             0.1111111111111111,
             "#46039f"
            ],
            [
             0.2222222222222222,
             "#7201a8"
            ],
            [
             0.3333333333333333,
             "#9c179e"
            ],
            [
             0.4444444444444444,
             "#bd3786"
            ],
            [
             0.5555555555555556,
             "#d8576b"
            ],
            [
             0.6666666666666666,
             "#ed7953"
            ],
            [
             0.7777777777777778,
             "#fb9f3a"
            ],
            [
             0.8888888888888888,
             "#fdca26"
            ],
            [
             1,
             "#f0f921"
            ]
           ],
           "sequentialminus": [
            [
             0,
             "#0d0887"
            ],
            [
             0.1111111111111111,
             "#46039f"
            ],
            [
             0.2222222222222222,
             "#7201a8"
            ],
            [
             0.3333333333333333,
             "#9c179e"
            ],
            [
             0.4444444444444444,
             "#bd3786"
            ],
            [
             0.5555555555555556,
             "#d8576b"
            ],
            [
             0.6666666666666666,
             "#ed7953"
            ],
            [
             0.7777777777777778,
             "#fb9f3a"
            ],
            [
             0.8888888888888888,
             "#fdca26"
            ],
            [
             1,
             "#f0f921"
            ]
           ]
          },
          "colorway": [
           "#636efa",
           "#EF553B",
           "#00cc96",
           "#ab63fa",
           "#FFA15A",
           "#19d3f3",
           "#FF6692",
           "#B6E880",
           "#FF97FF",
           "#FECB52"
          ],
          "font": {
           "color": "#2a3f5f"
          },
          "geo": {
           "bgcolor": "white",
           "lakecolor": "white",
           "landcolor": "#E5ECF6",
           "showlakes": true,
           "showland": true,
           "subunitcolor": "white"
          },
          "hoverlabel": {
           "align": "left"
          },
          "hovermode": "closest",
          "mapbox": {
           "style": "light"
          },
          "paper_bgcolor": "white",
          "plot_bgcolor": "#E5ECF6",
          "polar": {
           "angularaxis": {
            "gridcolor": "white",
            "linecolor": "white",
            "ticks": ""
           },
           "bgcolor": "#E5ECF6",
           "radialaxis": {
            "gridcolor": "white",
            "linecolor": "white",
            "ticks": ""
           }
          },
          "scene": {
           "xaxis": {
            "backgroundcolor": "#E5ECF6",
            "gridcolor": "white",
            "gridwidth": 2,
            "linecolor": "white",
            "showbackground": true,
            "ticks": "",
            "zerolinecolor": "white"
           },
           "yaxis": {
            "backgroundcolor": "#E5ECF6",
            "gridcolor": "white",
            "gridwidth": 2,
            "linecolor": "white",
            "showbackground": true,
            "ticks": "",
            "zerolinecolor": "white"
           },
           "zaxis": {
            "backgroundcolor": "#E5ECF6",
            "gridcolor": "white",
            "gridwidth": 2,
            "linecolor": "white",
            "showbackground": true,
            "ticks": "",
            "zerolinecolor": "white"
           }
          },
          "shapedefaults": {
           "line": {
            "color": "#2a3f5f"
           }
          },
          "ternary": {
           "aaxis": {
            "gridcolor": "white",
            "linecolor": "white",
            "ticks": ""
           },
           "baxis": {
            "gridcolor": "white",
            "linecolor": "white",
            "ticks": ""
           },
           "bgcolor": "#E5ECF6",
           "caxis": {
            "gridcolor": "white",
            "linecolor": "white",
            "ticks": ""
           }
          },
          "title": {
           "x": 0.05
          },
          "xaxis": {
           "automargin": true,
           "gridcolor": "white",
           "linecolor": "white",
           "ticks": "",
           "title": {
            "standoff": 15
           },
           "zerolinecolor": "white",
           "zerolinewidth": 2
          },
          "yaxis": {
           "automargin": true,
           "gridcolor": "white",
           "linecolor": "white",
           "ticks": "",
           "title": {
            "standoff": 15
           },
           "zerolinecolor": "white",
           "zerolinewidth": 2
          }
         }
        },
        "xaxis": {
         "showgrid": false,
         "tickwidth": 0.3
        },
        "yaxis": {
         "showgrid": false,
         "tickwidth": 0.3
        }
       }
      },
      "text/html": [
       "<div>                            <div id=\"471fcfcd-d2b5-4eb9-a70c-a42396c9dfa0\" class=\"plotly-graph-div\" style=\"height:525px; width:100%;\"></div>            <script type=\"text/javascript\">                require([\"plotly\"], function(Plotly) {                    window.PLOTLYENV=window.PLOTLYENV || {};                                    if (document.getElementById(\"471fcfcd-d2b5-4eb9-a70c-a42396c9dfa0\")) {                    Plotly.newPlot(                        \"471fcfcd-d2b5-4eb9-a70c-a42396c9dfa0\",                        [{\"marker\":{\"color\":\"lightslategray\"},\"orientation\":\"h\",\"width\":0.05,\"x\":[0.0],\"y\":[\"predictive equality difference\"],\"type\":\"bar\"},{\"base\":[0.0],\"marker\":{\"color\":\"LightSkyBlue\"},\"orientation\":\"h\",\"width\":0.15,\"x\":[0.06799039857860563],\"y\":[\"predictive equality difference\"],\"type\":\"bar\"},{\"base\":[0.06799039857860563],\"marker\":{\"color\":\"lightslategray\"},\"orientation\":\"h\",\"width\":0.05,\"x\":[0.9320096014213943],\"y\":[\"predictive equality difference\"],\"type\":\"bar\"},{\"marker\":{\"line\":{\"color\":\"lightslategray\",\"width\":2},\"size\":10,\"symbol\":\"line-ns\"},\"mode\":\"markers+text\",\"text\":[\"1\"],\"textposition\":\"bottom center\",\"x\":[1],\"y\":[\"predictive equality difference\"],\"type\":\"scatter\"},{\"marker\":{\"line\":{\"color\":\"lightslategray\",\"width\":2},\"size\":10,\"symbol\":\"line-ns\"},\"mode\":\"markers+text\",\"text\":[\"0\"],\"textfont\":{\"size\":12},\"textposition\":\"bottom center\",\"x\":[0],\"y\":[\"predictive equality difference\"],\"type\":\"scatter\"},{\"marker\":{\"color\":\"mediumaquamarine\",\"line\":{\"width\":2},\"size\":5,\"symbol\":\"line-ns\"},\"mode\":\"markers+text\",\"orientation\":\"h\",\"text\":[\"0.04\"],\"textposition\":\"bottom center\",\"x\":[0.03589853136804636],\"y\":[\"predictive equality difference\"],\"type\":\"scatter\"},{\"marker\":{\"color\":\"lightslategray\"},\"orientation\":\"h\",\"width\":0.05,\"x\":[0.0],\"y\":[\"equality opportunity difference\"],\"type\":\"bar\"},{\"base\":[0.0],\"marker\":{\"color\":\"LightSkyBlue\"},\"orientation\":\"h\",\"width\":0.15,\"x\":[0.17638661180648513],\"y\":[\"equality opportunity difference\"],\"type\":\"bar\"},{\"base\":[0.17638661180648513],\"marker\":{\"color\":\"lightslategray\"},\"orientation\":\"h\",\"width\":0.05,\"x\":[0.8236133881935148],\"y\":[\"equality opportunity difference\"],\"type\":\"bar\"},{\"marker\":{\"line\":{\"color\":\"lightslategray\",\"width\":2},\"size\":10,\"symbol\":\"line-ns\"},\"mode\":\"markers+text\",\"text\":[\"1\"],\"textposition\":\"bottom center\",\"x\":[1],\"y\":[\"equality opportunity difference\"],\"type\":\"scatter\"},{\"marker\":{\"line\":{\"color\":\"lightslategray\",\"width\":2},\"size\":10,\"symbol\":\"line-ns\"},\"mode\":\"markers+text\",\"text\":[\"0\"],\"textfont\":{\"size\":12},\"textposition\":\"bottom center\",\"x\":[0],\"y\":[\"equality opportunity difference\"],\"type\":\"scatter\"},{\"marker\":{\"color\":\"mediumaquamarine\",\"line\":{\"width\":2},\"size\":5,\"symbol\":\"line-ns\"},\"mode\":\"markers+text\",\"orientation\":\"h\",\"text\":[\"0.13\"],\"textposition\":\"bottom center\",\"x\":[0.13047081699369273],\"y\":[\"equality opportunity difference\"],\"type\":\"scatter\"},{\"marker\":{\"color\":\"lightslategray\"},\"orientation\":\"h\",\"width\":0.05,\"x\":[0.0],\"y\":[\"average absolute odds difference\"],\"type\":\"bar\"},{\"base\":[0.0],\"marker\":{\"color\":\"LightSkyBlue\"},\"orientation\":\"h\",\"width\":0.15,\"x\":[0.09346733248998614],\"y\":[\"average absolute odds difference\"],\"type\":\"bar\"},{\"base\":[0.09346733248998614],\"marker\":{\"color\":\"lightslategray\"},\"orientation\":\"h\",\"width\":0.05,\"x\":[0.9065326675100138],\"y\":[\"average absolute odds difference\"],\"type\":\"bar\"},{\"marker\":{\"line\":{\"color\":\"lightslategray\",\"width\":2},\"size\":10,\"symbol\":\"line-ns\"},\"mode\":\"markers+text\",\"text\":[\"1\"],\"textposition\":\"bottom center\",\"x\":[1],\"y\":[\"average absolute odds difference\"],\"type\":\"scatter\"},{\"marker\":{\"line\":{\"color\":\"lightslategray\",\"width\":2},\"size\":10,\"symbol\":\"line-ns\"},\"mode\":\"markers+text\",\"text\":[\"0\"],\"textfont\":{\"size\":12},\"textposition\":\"bottom center\",\"x\":[0],\"y\":[\"average absolute odds difference\"],\"type\":\"scatter\"},{\"marker\":{\"color\":\"mediumaquamarine\",\"line\":{\"width\":2},\"size\":5,\"symbol\":\"line-ns\"},\"mode\":\"markers+text\",\"orientation\":\"h\",\"text\":[\"0.08\"],\"textposition\":\"bottom center\",\"x\":[0.08318467418086954],\"y\":[\"average absolute odds difference\"],\"type\":\"scatter\"},{\"marker\":{\"color\":\"lightslategray\"},\"orientation\":\"h\",\"width\":0.05,\"x\":[0.0],\"y\":[\"disparity difference\"],\"type\":\"bar\"},{\"base\":[0.0],\"marker\":{\"color\":\"LightSkyBlue\"},\"orientation\":\"h\",\"width\":0.15,\"x\":[0.18124754972362],\"y\":[\"disparity difference\"],\"type\":\"bar\"},{\"base\":[0.18124754972362],\"marker\":{\"color\":\"lightslategray\"},\"orientation\":\"h\",\"width\":0.05,\"x\":[0.81875245027638],\"y\":[\"disparity difference\"],\"type\":\"bar\"},{\"marker\":{\"line\":{\"color\":\"lightslategray\",\"width\":2},\"size\":10,\"symbol\":\"line-ns\"},\"mode\":\"markers+text\",\"text\":[\"1\"],\"textposition\":\"bottom center\",\"x\":[1],\"y\":[\"disparity difference\"],\"type\":\"scatter\"},{\"marker\":{\"line\":{\"color\":\"lightslategray\",\"width\":2},\"size\":10,\"symbol\":\"line-ns\"},\"mode\":\"markers+text\",\"text\":[\"0\"],\"textfont\":{\"size\":12},\"textposition\":\"bottom center\",\"x\":[0],\"y\":[\"disparity difference\"],\"type\":\"scatter\"},{\"marker\":{\"color\":\"mediumaquamarine\",\"line\":{\"width\":2},\"size\":5,\"symbol\":\"line-ns\"},\"mode\":\"markers+text\",\"orientation\":\"h\",\"text\":[\"0.13\"],\"textposition\":\"bottom center\",\"x\":[0.1323856243396237],\"y\":[\"disparity difference\"],\"type\":\"scatter\"}],                        {\"template\":{\"data\":{\"histogram2dcontour\":[{\"type\":\"histogram2dcontour\",\"colorbar\":{\"outlinewidth\":0,\"ticks\":\"\"},\"colorscale\":[[0.0,\"#0d0887\"],[0.1111111111111111,\"#46039f\"],[0.2222222222222222,\"#7201a8\"],[0.3333333333333333,\"#9c179e\"],[0.4444444444444444,\"#bd3786\"],[0.5555555555555556,\"#d8576b\"],[0.6666666666666666,\"#ed7953\"],[0.7777777777777778,\"#fb9f3a\"],[0.8888888888888888,\"#fdca26\"],[1.0,\"#f0f921\"]]}],\"choropleth\":[{\"type\":\"choropleth\",\"colorbar\":{\"outlinewidth\":0,\"ticks\":\"\"}}],\"histogram2d\":[{\"type\":\"histogram2d\",\"colorbar\":{\"outlinewidth\":0,\"ticks\":\"\"},\"colorscale\":[[0.0,\"#0d0887\"],[0.1111111111111111,\"#46039f\"],[0.2222222222222222,\"#7201a8\"],[0.3333333333333333,\"#9c179e\"],[0.4444444444444444,\"#bd3786\"],[0.5555555555555556,\"#d8576b\"],[0.6666666666666666,\"#ed7953\"],[0.7777777777777778,\"#fb9f3a\"],[0.8888888888888888,\"#fdca26\"],[1.0,\"#f0f921\"]]}],\"heatmap\":[{\"type\":\"heatmap\",\"colorbar\":{\"outlinewidth\":0,\"ticks\":\"\"},\"colorscale\":[[0.0,\"#0d0887\"],[0.1111111111111111,\"#46039f\"],[0.2222222222222222,\"#7201a8\"],[0.3333333333333333,\"#9c179e\"],[0.4444444444444444,\"#bd3786\"],[0.5555555555555556,\"#d8576b\"],[0.6666666666666666,\"#ed7953\"],[0.7777777777777778,\"#fb9f3a\"],[0.8888888888888888,\"#fdca26\"],[1.0,\"#f0f921\"]]}],\"heatmapgl\":[{\"type\":\"heatmapgl\",\"colorbar\":{\"outlinewidth\":0,\"ticks\":\"\"},\"colorscale\":[[0.0,\"#0d0887\"],[0.1111111111111111,\"#46039f\"],[0.2222222222222222,\"#7201a8\"],[0.3333333333333333,\"#9c179e\"],[0.4444444444444444,\"#bd3786\"],[0.5555555555555556,\"#d8576b\"],[0.6666666666666666,\"#ed7953\"],[0.7777777777777778,\"#fb9f3a\"],[0.8888888888888888,\"#fdca26\"],[1.0,\"#f0f921\"]]}],\"contourcarpet\":[{\"type\":\"contourcarpet\",\"colorbar\":{\"outlinewidth\":0,\"ticks\":\"\"}}],\"contour\":[{\"type\":\"contour\",\"colorbar\":{\"outlinewidth\":0,\"ticks\":\"\"},\"colorscale\":[[0.0,\"#0d0887\"],[0.1111111111111111,\"#46039f\"],[0.2222222222222222,\"#7201a8\"],[0.3333333333333333,\"#9c179e\"],[0.4444444444444444,\"#bd3786\"],[0.5555555555555556,\"#d8576b\"],[0.6666666666666666,\"#ed7953\"],[0.7777777777777778,\"#fb9f3a\"],[0.8888888888888888,\"#fdca26\"],[1.0,\"#f0f921\"]]}],\"surface\":[{\"type\":\"surface\",\"colorbar\":{\"outlinewidth\":0,\"ticks\":\"\"},\"colorscale\":[[0.0,\"#0d0887\"],[0.1111111111111111,\"#46039f\"],[0.2222222222222222,\"#7201a8\"],[0.3333333333333333,\"#9c179e\"],[0.4444444444444444,\"#bd3786\"],[0.5555555555555556,\"#d8576b\"],[0.6666666666666666,\"#ed7953\"],[0.7777777777777778,\"#fb9f3a\"],[0.8888888888888888,\"#fdca26\"],[1.0,\"#f0f921\"]]}],\"mesh3d\":[{\"type\":\"mesh3d\",\"colorbar\":{\"outlinewidth\":0,\"ticks\":\"\"}}],\"scatter\":[{\"fillpattern\":{\"fillmode\":\"overlay\",\"size\":10,\"solidity\":0.2},\"type\":\"scatter\"}],\"parcoords\":[{\"type\":\"parcoords\",\"line\":{\"colorbar\":{\"outlinewidth\":0,\"ticks\":\"\"}}}],\"scatterpolargl\":[{\"type\":\"scatterpolargl\",\"marker\":{\"colorbar\":{\"outlinewidth\":0,\"ticks\":\"\"}}}],\"bar\":[{\"error_x\":{\"color\":\"#2a3f5f\"},\"error_y\":{\"color\":\"#2a3f5f\"},\"marker\":{\"line\":{\"color\":\"#E5ECF6\",\"width\":0.5},\"pattern\":{\"fillmode\":\"overlay\",\"size\":10,\"solidity\":0.2}},\"type\":\"bar\"}],\"scattergeo\":[{\"type\":\"scattergeo\",\"marker\":{\"colorbar\":{\"outlinewidth\":0,\"ticks\":\"\"}}}],\"scatterpolar\":[{\"type\":\"scatterpolar\",\"marker\":{\"colorbar\":{\"outlinewidth\":0,\"ticks\":\"\"}}}],\"histogram\":[{\"marker\":{\"pattern\":{\"fillmode\":\"overlay\",\"size\":10,\"solidity\":0.2}},\"type\":\"histogram\"}],\"scattergl\":[{\"type\":\"scattergl\",\"marker\":{\"colorbar\":{\"outlinewidth\":0,\"ticks\":\"\"}}}],\"scatter3d\":[{\"type\":\"scatter3d\",\"line\":{\"colorbar\":{\"outlinewidth\":0,\"ticks\":\"\"}},\"marker\":{\"colorbar\":{\"outlinewidth\":0,\"ticks\":\"\"}}}],\"scattermapbox\":[{\"type\":\"scattermapbox\",\"marker\":{\"colorbar\":{\"outlinewidth\":0,\"ticks\":\"\"}}}],\"scatterternary\":[{\"type\":\"scatterternary\",\"marker\":{\"colorbar\":{\"outlinewidth\":0,\"ticks\":\"\"}}}],\"scattercarpet\":[{\"type\":\"scattercarpet\",\"marker\":{\"colorbar\":{\"outlinewidth\":0,\"ticks\":\"\"}}}],\"carpet\":[{\"aaxis\":{\"endlinecolor\":\"#2a3f5f\",\"gridcolor\":\"white\",\"linecolor\":\"white\",\"minorgridcolor\":\"white\",\"startlinecolor\":\"#2a3f5f\"},\"baxis\":{\"endlinecolor\":\"#2a3f5f\",\"gridcolor\":\"white\",\"linecolor\":\"white\",\"minorgridcolor\":\"white\",\"startlinecolor\":\"#2a3f5f\"},\"type\":\"carpet\"}],\"table\":[{\"cells\":{\"fill\":{\"color\":\"#EBF0F8\"},\"line\":{\"color\":\"white\"}},\"header\":{\"fill\":{\"color\":\"#C8D4E3\"},\"line\":{\"color\":\"white\"}},\"type\":\"table\"}],\"barpolar\":[{\"marker\":{\"line\":{\"color\":\"#E5ECF6\",\"width\":0.5},\"pattern\":{\"fillmode\":\"overlay\",\"size\":10,\"solidity\":0.2}},\"type\":\"barpolar\"}],\"pie\":[{\"automargin\":true,\"type\":\"pie\"}]},\"layout\":{\"autotypenumbers\":\"strict\",\"colorway\":[\"#636efa\",\"#EF553B\",\"#00cc96\",\"#ab63fa\",\"#FFA15A\",\"#19d3f3\",\"#FF6692\",\"#B6E880\",\"#FF97FF\",\"#FECB52\"],\"font\":{\"color\":\"#2a3f5f\"},\"hovermode\":\"closest\",\"hoverlabel\":{\"align\":\"left\"},\"paper_bgcolor\":\"white\",\"plot_bgcolor\":\"#E5ECF6\",\"polar\":{\"bgcolor\":\"#E5ECF6\",\"angularaxis\":{\"gridcolor\":\"white\",\"linecolor\":\"white\",\"ticks\":\"\"},\"radialaxis\":{\"gridcolor\":\"white\",\"linecolor\":\"white\",\"ticks\":\"\"}},\"ternary\":{\"bgcolor\":\"#E5ECF6\",\"aaxis\":{\"gridcolor\":\"white\",\"linecolor\":\"white\",\"ticks\":\"\"},\"baxis\":{\"gridcolor\":\"white\",\"linecolor\":\"white\",\"ticks\":\"\"},\"caxis\":{\"gridcolor\":\"white\",\"linecolor\":\"white\",\"ticks\":\"\"}},\"coloraxis\":{\"colorbar\":{\"outlinewidth\":0,\"ticks\":\"\"}},\"colorscale\":{\"sequential\":[[0.0,\"#0d0887\"],[0.1111111111111111,\"#46039f\"],[0.2222222222222222,\"#7201a8\"],[0.3333333333333333,\"#9c179e\"],[0.4444444444444444,\"#bd3786\"],[0.5555555555555556,\"#d8576b\"],[0.6666666666666666,\"#ed7953\"],[0.7777777777777778,\"#fb9f3a\"],[0.8888888888888888,\"#fdca26\"],[1.0,\"#f0f921\"]],\"sequentialminus\":[[0.0,\"#0d0887\"],[0.1111111111111111,\"#46039f\"],[0.2222222222222222,\"#7201a8\"],[0.3333333333333333,\"#9c179e\"],[0.4444444444444444,\"#bd3786\"],[0.5555555555555556,\"#d8576b\"],[0.6666666666666666,\"#ed7953\"],[0.7777777777777778,\"#fb9f3a\"],[0.8888888888888888,\"#fdca26\"],[1.0,\"#f0f921\"]],\"diverging\":[[0,\"#8e0152\"],[0.1,\"#c51b7d\"],[0.2,\"#de77ae\"],[0.3,\"#f1b6da\"],[0.4,\"#fde0ef\"],[0.5,\"#f7f7f7\"],[0.6,\"#e6f5d0\"],[0.7,\"#b8e186\"],[0.8,\"#7fbc41\"],[0.9,\"#4d9221\"],[1,\"#276419\"]]},\"xaxis\":{\"gridcolor\":\"white\",\"linecolor\":\"white\",\"ticks\":\"\",\"title\":{\"standoff\":15},\"zerolinecolor\":\"white\",\"automargin\":true,\"zerolinewidth\":2},\"yaxis\":{\"gridcolor\":\"white\",\"linecolor\":\"white\",\"ticks\":\"\",\"title\":{\"standoff\":15},\"zerolinecolor\":\"white\",\"automargin\":true,\"zerolinewidth\":2},\"scene\":{\"xaxis\":{\"backgroundcolor\":\"#E5ECF6\",\"gridcolor\":\"white\",\"linecolor\":\"white\",\"showbackground\":true,\"ticks\":\"\",\"zerolinecolor\":\"white\",\"gridwidth\":2},\"yaxis\":{\"backgroundcolor\":\"#E5ECF6\",\"gridcolor\":\"white\",\"linecolor\":\"white\",\"showbackground\":true,\"ticks\":\"\",\"zerolinecolor\":\"white\",\"gridwidth\":2},\"zaxis\":{\"backgroundcolor\":\"#E5ECF6\",\"gridcolor\":\"white\",\"linecolor\":\"white\",\"showbackground\":true,\"ticks\":\"\",\"zerolinecolor\":\"white\",\"gridwidth\":2}},\"shapedefaults\":{\"line\":{\"color\":\"#2a3f5f\"}},\"annotationdefaults\":{\"arrowcolor\":\"#2a3f5f\",\"arrowhead\":0,\"arrowwidth\":1},\"geo\":{\"bgcolor\":\"white\",\"landcolor\":\"#E5ECF6\",\"subunitcolor\":\"white\",\"showland\":true,\"showlakes\":true,\"lakecolor\":\"white\"},\"title\":{\"x\":0.05},\"mapbox\":{\"style\":\"light\"}}},\"xaxis\":{\"showgrid\":false,\"tickwidth\":0.3},\"yaxis\":{\"showgrid\":false,\"tickwidth\":0.3},\"showlegend\":false,\"barmode\":\"stack\"},                        {\"responsive\": true}                    ).then(function(){\n",
       "                            \n",
       "var gd = document.getElementById('471fcfcd-d2b5-4eb9-a70c-a42396c9dfa0');\n",
       "var x = new MutationObserver(function (mutations, observer) {{\n",
       "        var display = window.getComputedStyle(gd).display;\n",
       "        if (!display || display === 'none') {{\n",
       "            console.log([gd, 'removed!']);\n",
       "            Plotly.purge(gd);\n",
       "            observer.disconnect();\n",
       "        }}\n",
       "}});\n",
       "\n",
       "// Listen for the removal of the full notebook cells\n",
       "var notebookContainer = gd.closest('#notebook-container');\n",
       "if (notebookContainer) {{\n",
       "    x.observe(notebookContainer, {childList: true});\n",
       "}}\n",
       "\n",
       "// Listen for the clearing of the current output cell\n",
       "var outputEl = gd.closest('.output');\n",
       "if (outputEl) {{\n",
       "    x.observe(outputEl, {childList: true});\n",
       "}}\n",
       "\n",
       "                        })                };                });            </script>        </div>"
      ]
     },
     "metadata": {},
     "output_type": "display_data"
    }
   ],
   "source": [
    "\n",
    "\n",
    "n = 25\n",
    "def comparison_graph(df_ranges, df_metrics, n):\n",
    "    fig = go.Figure()\n",
    "    for i in range(df_ranges.shape[0]):\n",
    "        fig.add_trace(\n",
    "            go.Bar(\n",
    "                    x= [df_ranges['min'][i]],\n",
    "                    y= [df_ranges.metric[i]],\n",
    "                    width = .05,\n",
    "                    marker = dict(\n",
    "                        color = 'lightslategray',\n",
    "                    ),\n",
    "                    orientation='h'))\n",
    "        fig.add_trace(\n",
    "            go.Bar(\n",
    "                    x= [df_ranges['diff'][i]],\n",
    "                    base = [df_ranges['min'][i]],\n",
    "                    y= [df_ranges.metric[i]],\n",
    "                    width = .15,\n",
    "                    marker = dict(\n",
    "                        color = 'LightSkyBlue',\n",
    "                    ),\n",
    "                    orientation='h'))\n",
    "        fig.add_trace(\n",
    "            go.Bar(\n",
    "                    x= [1-df_ranges['diff'][i]-df_ranges['min'][i]],\n",
    "                    base = [df_ranges['min'][i]+df_ranges['diff'][i]],\n",
    "                    y= [df_ranges.metric[i]],\n",
    "                    width = .05,\n",
    "                    marker =dict(\n",
    "                        color = \"lightslategray\"\n",
    "                    ),\n",
    "                    orientation='h'))\n",
    "\n",
    "        fig.add_trace(\n",
    "            go.Scatter(\n",
    "                x = [1],\n",
    "                y = [df_ranges.metric[i]], \n",
    "                mode = 'markers+text',\n",
    "                text = ['1'],\n",
    "                textposition=\"bottom center\",\n",
    "                marker=dict(size=10,\n",
    "                            symbol = 'line-ns',\n",
    "                            line=dict(width=2,\n",
    "                            color='lightslategray')\n",
    "            ))\n",
    "        )\n",
    "\n",
    "        fig.add_trace(\n",
    "            go.Scatter(\n",
    "                x = [0],\n",
    "                y = [df_ranges.metric[i]], \n",
    "                mode = 'markers+text',\n",
    "                text = ['0'],\n",
    "                textfont_size=12,\n",
    "                textposition=\"bottom center\",\n",
    "                marker=dict(size=10,\n",
    "                            symbol = 'line-ns',\n",
    "                            line=dict(width=2,\n",
    "                            color='lightslategray')\n",
    "            ))\n",
    "        )\n",
    "\n",
    "        fig.add_trace(\n",
    "            go.Scatter(\n",
    "                    x= [df_metrics.loc[n,df_ranges.metric[i]]],\n",
    "                    y= [df_ranges.metric[i]],\n",
    "                    mode = 'markers+text',\n",
    "                    textposition = \"bottom center\",\n",
    "                    text = [np.round(df_metrics.loc[n,df_ranges.metric[i]],2)],\n",
    "                    marker =dict(\n",
    "                        size = 5,\n",
    "                        color = \"mediumaquamarine\",\n",
    "                        symbol = 'line-ns',\n",
    "                        line_width=2,\n",
    "                    ),\n",
    "                    orientation='h'))\n",
    "\n",
    "    fig.update_layout(\n",
    "        xaxis=dict(showgrid=False, tickwidth = .3,),\n",
    "        yaxis=dict(showgrid=False, tickwidth = .3),\n",
    "        showlegend=False,\n",
    "        barmode='stack',\n",
    "    )\n",
    "\n",
    "    return fig\n",
    "\n",
    "\n",
    "comparison_graph(df_fair_ranges, df_metrics, n)\n"
   ]
  },
  {
   "cell_type": "code",
   "execution_count": null,
   "metadata": {},
   "outputs": [],
   "source": [
    "df_data = {'Category': ['London', 'Paris', 'New York', 'Tokyo'],\n",
    "           'Upper': [10, 5, 0, -5],\n",
    "           'Lower': [5, -5, -10, -10]}\n",
    "df = pd.DataFrame(data=df_data)\n",
    "df['Height'] = df['Upper'] - df['Lower']\n",
    "\n",
    "ax = df.plot(kind='bar', y='Height', x='Category', bottom=df['Lower'],\n",
    "             color='darkgreen', legend=False)\n",
    "ax.axhline(0, color='black')\n",
    "plt.tight_layout()\n",
    "plt.show()"
   ]
  },
  {
   "cell_type": "code",
   "execution_count": null,
   "metadata": {},
   "outputs": [],
   "source": [
    "import matplotlib.pyplot as plt\n",
    "import plotly.graph_objects as go\n",
    "\n",
    "plt.style.use('seaborn-v0_8-darkgrid')\n",
    "\n",
    "rows = 2\n",
    "cols = 2\n",
    "fig, axes = plt.subplots(rows, cols, figsize=(10,10))\n",
    "for i,ax in zip(range(len(res_fair_sim)),axes.ravel()):\n",
    "    ax.scatter(res_fair_sim[i], res_model_sim[i])\n",
    "    ax.scatter(fair_sim_u[i], model_sim_u[i])\n"
   ]
  },
  {
   "cell_type": "code",
   "execution_count": null,
   "metadata": {},
   "outputs": [],
   "source": [
    "plt.style.use('seaborn-v0_8-darkgrid')\n",
    "rows = 2\n",
    "cols = 2\n",
    "fig, axes = plt.subplots(rows, cols, figsize=(10,10))\n",
    "for i,ax in zip(range(len(res_fair_sim)),axes.ravel()):\n",
    "    fairness_metrics = list(zip(res_fair_sim[i], fair_sim[i]))\n",
    "    fairness_metrics_ = sorted(fairness_metrics, key = lambda x: x[0])\n",
    "    ax.scatter(range(len(res_fair_sim[i])), list(zip(*fairness_metrics_))[0])\n",
    "    #ax.scatter(len(res_fair_sim[i]*4), fair_sim_u[i])\n",
    "    ax.scatter(range(len(res_fair_sim[i])), list(zip(*fairness_metrics_))[1])\n"
   ]
  },
  {
   "cell_type": "code",
   "execution_count": null,
   "metadata": {},
   "outputs": [],
   "source": [
    "rows = 2\n",
    "cols = 2\n",
    "fig, axes = plt.subplots(rows, cols, figsize=(10,10))\n",
    "for i,ax in zip(range(len(res_model_sim)),axes.ravel()):\n",
    "    performance_metrics = list(zip(res_model_sim[i], model_sim[i]))\n",
    "    performance_metrics_ = sorted(performance_metrics, key = lambda x: x[0])\n",
    "    ax.scatter(range(len(res_model_sim[i])), list(zip(*performance_metrics_))[0])\n",
    "    #ax.scatter(len(res_model_sim[i]), model_sim_u[i])\n",
    "    ax.scatter(range(len(res_model_sim[i])), list(zip(*performance_metrics_))[1])"
   ]
  },
  {
   "cell_type": "code",
   "execution_count": null,
   "metadata": {},
   "outputs": [],
   "source": [
    "fig, axes = plt.subplots(rows, cols, figsize=(10,10))\n",
    "for i,ax in zip(range(len(fair_sim)),axes.ravel()):\n",
    "    fairness_metrics = list(zip(res_fair_sim[i], fair_sim[i]))\n",
    "    fairness_metrics_ = sorted(fairness_metrics, key = lambda x: x[0])\n",
    "    fair_residuals = np.array(list(zip(*fairness_metrics_))[0])-np.array(list(zip(*fairness_metrics_))[1])\n",
    "    ax.hist(fair_residuals)"
   ]
  },
  {
   "cell_type": "code",
   "execution_count": null,
   "metadata": {},
   "outputs": [],
   "source": [
    "fig, axes = plt.subplots(rows, cols, figsize=(10,10))\n",
    "for i,ax in zip(range(len(fair_sim)),axes.ravel()):\n",
    "    model_metrics = list(zip(res_model_sim[i], model_sim[i]))\n",
    "    model_metrics_ = sorted(model_metrics, key = lambda x: x[0])\n",
    "    fair_residuals = np.array(list(zip(*model_metrics_))[0])-np.array(list(zip(*model_metrics_))[1])\n",
    "    ax.hist(fair_residuals)"
   ]
  },
  {
   "cell_type": "code",
   "execution_count": null,
   "metadata": {},
   "outputs": [],
   "source": [
    "optuna.visualization.plot_pareto_front(results[0], target_names=[\"fair_metric\", \"f1_score\"], include_dominated_trials = False)"
   ]
  },
  {
   "cell_type": "code",
   "execution_count": null,
   "metadata": {},
   "outputs": [],
   "source": []
  }
 ],
 "metadata": {
  "kernelspec": {
   "display_name": "Python 3.10.11 ('fairenv')",
   "language": "python",
   "name": "python3"
  },
  "language_info": {
   "codemirror_mode": {
    "name": "ipython",
    "version": 3
   },
   "file_extension": ".py",
   "mimetype": "text/x-python",
   "name": "python",
   "nbconvert_exporter": "python",
   "pygments_lexer": "ipython3",
   "version": "3.10.11"
  },
  "orig_nbformat": 4,
  "vscode": {
   "interpreter": {
    "hash": "9fb7f3b855683703415b20ec6b42f145aba14d6fc5c56ba8ae1bd12772d3ad59"
   }
  }
 },
 "nbformat": 4,
 "nbformat_minor": 2
}
