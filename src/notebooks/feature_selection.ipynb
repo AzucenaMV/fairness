{
 "cells": [
  {
   "cell_type": "code",
   "execution_count": 35,
   "metadata": {},
   "outputs": [],
   "source": [
    "import numpy as np\n",
    "import matplotlib.pyplot as plt\n",
    "from aif360.sklearn.metrics import average_odds_difference\n",
    "from aif360.sklearn.metrics import equal_opportunity_difference\n",
    "from pymoo.optimize import minimize\n",
    "from pymoo.core.problem import Problem\n",
    "from pymoo.core.problem import ElementwiseProblem\n",
    "from sklearn.metrics import (\n",
    "    f1_score, \n",
    "    confusion_matrix, \n",
    "    make_scorer, \n",
    "    accuracy_score, \n",
    "    recall_score\n",
    ")\n",
    "from fairlearn.metrics import (\n",
    "    count,\n",
    "    MetricFrame,\n",
    "    selection_rate,\n",
    "    equalized_odds_difference,\n",
    "    false_positive_rate,\n",
    "    false_negative_rate,\n",
    "    true_positive_rate,\n",
    "    true_negative_rate,\n",
    "    demographic_parity_difference\n",
    ")\n",
    "from fairlearn.datasets import fetch_adult\n",
    "from sklearn.pipeline import Pipeline\n",
    "from sklearn.preprocessing import OneHotEncoder, StandardScaler\n",
    "from sklearn.compose import ColumnTransformer\n",
    "from sklearn.compose import make_column_selector as selector\n",
    "from sklearn.impute import SimpleImputer\n",
    "from sklearn.ensemble import RandomForestClassifier\n",
    "from lightgbm import LGBMClassifier\n",
    "from sklearn.model_selection import cross_val_score, train_test_split, cross_validate\n",
    "from metrics import (\n",
    "    equality_opportunity_difference,\n",
    "    predictive_equality_difference,\n",
    "    metrics\n",
    ")\n",
    "\n",
    "from pymoo.algorithms.moo.nsga2 import NSGA2\n",
    "from pymoo.algorithms.moo.dnsga2 import DNSGA2\n",
    "from pymoo.operators.sampling.rnd import BinaryRandomSampling\n",
    "from pymoo.termination import get_termination\n",
    "from pymoo.operators.crossover.pntx import TwoPointCrossover\n",
    "from pymoo.operators.mutation.bitflip import BitflipMutation\n",
    "from pymoo.operators.crossover.hux import HalfUniformCrossover\n"
   ]
  },
  {
   "cell_type": "code",
   "execution_count": 36,
   "metadata": {},
   "outputs": [
    {
     "name": "stderr",
     "output_type": "stream",
     "text": [
      "/home/azucena/miniconda3/envs/fairenv/lib/python3.10/site-packages/sklearn/datasets/_openml.py:968: FutureWarning: The default value of `parser` will change from `'liac-arff'` to `'auto'` in 1.4. You can set `parser='auto'` to silence this warning. Therefore, an `ImportError` will be raised from 1.4 if the dataset is dense and pandas is not installed. Note that the pandas parser may return different data types. See the Notes Section in fetch_openml's API doc for details.\n",
      "  warn(\n"
     ]
    }
   ],
   "source": [
    "data = fetch_adult(as_frame=True)\n",
    "X_raw = data.data\n",
    "y = (data.target == \">50K\") * 1\n",
    "A = X_raw[\"sex\"]\n",
    "\n",
    "features = X_raw.columns\n",
    "n_cols = len(X_raw.columns)\n",
    "num_features = X_raw._get_numeric_data().columns\n",
    "cat_features =  [col for col in X_raw.columns if col not in num_features]\n"
   ]
  },
  {
   "cell_type": "code",
   "execution_count": 37,
   "metadata": {},
   "outputs": [],
   "source": [
    "numeric_transformer = Pipeline(\n",
    "    steps=[\n",
    "        (\"impute\", SimpleImputer()),\n",
    "        (\"scaler\", StandardScaler()),\n",
    "    ]\n",
    ")\n",
    "categorical_transformer = Pipeline(\n",
    "    [\n",
    "        (\"impute\", SimpleImputer(strategy=\"most_frequent\")),\n",
    "        (\"ohe\", OneHotEncoder(handle_unknown=\"ignore\")),\n",
    "    ]\n",
    ")\n",
    "preprocessor = ColumnTransformer(\n",
    "    transformers=[\n",
    "        (\"num\", numeric_transformer, num_features),\n",
    "        (\"cat\", categorical_transformer, cat_features),\n",
    "        \n",
    "    ], remainder = \"drop\"\n",
    ")\n",
    "\n",
    "\n",
    "pipeline = Pipeline(\n",
    "    steps=[\n",
    "        (\"preprocessor\", preprocessor),\n",
    "        (\n",
    "            \"classifier\",\n",
    "            LGBMClassifier(n_jobs=-1)\n",
    "        ),\n",
    "    ]\n",
    ")"
   ]
  },
  {
   "cell_type": "code",
   "execution_count": 38,
   "metadata": {},
   "outputs": [],
   "source": [
    "\n",
    "algorithm = NSGA2(\n",
    "    pop_size = 50,\n",
    "    sampling = BinaryRandomSampling(),\n",
    "    crossover=TwoPointCrossover(),\n",
    "    mutation=BitflipMutation(),\n",
    "    eliminate_duplicates = True,\n",
    ")\n",
    "\n",
    "termination = get_termination(\"n_gen\", 20)\n",
    "metric_scorer_decorated =  metrics(f1_score, predictive_equality_difference, sensitive_col = 'sex')"
   ]
  },
  {
   "cell_type": "code",
   "execution_count": 39,
   "metadata": {},
   "outputs": [],
   "source": [
    "results = []"
   ]
  },
  {
   "cell_type": "code",
   "execution_count": 40,
   "metadata": {},
   "outputs": [
    {
     "name": "stdout",
     "output_type": "stream",
     "text": [
      "0\n"
     ]
    }
   ],
   "source": [
    "for sim in [0,1,2,3]:\n",
    "    print(sim)\n",
    "    (X_train, X_test, y_train, y_test, A_train, A_test) = train_test_split(\n",
    "    X_raw, y, A, test_size=0.3, stratify=y, random_state=sim\n",
    ")\n",
    "\n",
    "    X_train = X_train.reset_index(drop=True)\n",
    "    X_test = X_test.reset_index(drop=True)\n",
    "    y_train = y_train.reset_index(drop=True)\n",
    "    y_test = y_test.reset_index(drop=True)\n",
    "    A_train = A_train.reset_index(drop=True)\n",
    "    A_test = A_test.reset_index(drop=True)\n",
    "\n",
    "    class MyProblem(Problem):\n",
    "\n",
    "        def __init__(self):\n",
    "            super().__init__(n_var=n_cols,\n",
    "                            n_obj=2\n",
    "                            )\n",
    "\n",
    "\n",
    "        def _evaluate(self, x, out, *args, **kwargs):\n",
    "            fair_metric = []\n",
    "            model_metric = []\n",
    "            for x_ in x:\n",
    "                features_ = features[np.where(x_)[0]]\n",
    "                num_features_ = [x for x in num_features if x in features_]\n",
    "                cat_features_ = [x for x in cat_features if x in features_]\n",
    "                preprocessor = ColumnTransformer(\n",
    "                    transformers=[\n",
    "                        (\"num\", numeric_transformer, num_features_),\n",
    "                        (\"cat\", categorical_transformer, cat_features_),\n",
    "                        \n",
    "                    ], remainder = \"drop\"\n",
    "                )\n",
    "\n",
    "                pipeline.steps.pop(0)\n",
    "                pipeline.steps.insert(0,('preprocessor',preprocessor))\n",
    "                # optimization function (hyperparam response function)\n",
    "                if (np.repeat(False,n_cols) == x_).all():\n",
    "                    fair_metric.append(100)\n",
    "                    model_metric.append(100)\n",
    "                else: \n",
    "                    scores = cross_validate(\n",
    "                            pipeline, \n",
    "                            X_train,\n",
    "                            y_train, \n",
    "                            cv=5,\n",
    "                            scoring= metric_scorer_decorated,\n",
    "                            return_train_score=True)\n",
    "\n",
    "                    #fair_metric.append(scores['test_eod'].mean())\n",
    "                    fair_metric.append(scores['test_fairness'].mean())\n",
    "                    model_metric.append(-1*scores['test_model'].mean())\n",
    "            out[\"F\"] = [fair_metric, model_metric]\n",
    "   \n",
    "\n",
    "    problem = MyProblem()\n",
    "\n",
    "    results.append( \n",
    "        minimize(\n",
    "            problem,\n",
    "            algorithm,\n",
    "            termination,\n",
    "            save_history = True\n",
    "        )\n",
    "    )\n",
    "\n",
    "    \n"
   ]
  },
  {
   "cell_type": "code",
   "execution_count": 33,
   "metadata": {},
   "outputs": [
    {
     "data": {
      "text/plain": [
       "[<pymoo.core.result.Result at 0x7f16241a3c70>,\n",
       " <pymoo.core.result.Result at 0x7f15c0980b80>,\n",
       " <pymoo.core.result.Result at 0x7f15c0a296f0>,\n",
       " <pymoo.core.result.Result at 0x7f15c0565ab0>]"
      ]
     },
     "execution_count": 33,
     "metadata": {},
     "output_type": "execute_result"
    }
   ],
   "source": [
    "results"
   ]
  },
  {
   "cell_type": "code",
   "execution_count": 34,
   "metadata": {},
   "outputs": [
    {
     "name": "stdout",
     "output_type": "stream",
     "text": [
      "Object successfully saved to \"results_recall_fpr_4sim.pkl\"\n"
     ]
    }
   ],
   "source": [
    "import dill\n",
    "file_name = 'results_recall_fpr_4sim.pkl'\n",
    "with open(file_name, 'wb') as file:\n",
    "    dill.dump(results, file)\n",
    "    print(f'Object successfully saved to \"{file_name}\"')"
   ]
  },
  {
   "cell_type": "code",
   "execution_count": 14,
   "metadata": {},
   "outputs": [
    {
     "data": {
      "text/plain": [
       "<pymoo.visualization.scatter.Scatter at 0x7f15ca37f8b0>"
      ]
     },
     "execution_count": 14,
     "metadata": {},
     "output_type": "execute_result"
    },
    {
     "data": {
      "image/png": "[encoded data removed]",
      "text/plain": [
       "<Figure size 800x600 with 1 Axes>"
      ]
     },
     "metadata": {},
     "output_type": "display_data"
    }
   ],
   "source": [
    "n = 0\n",
    "from pymoo.visualization.scatter import Scatter\n",
    "\n",
    "Scatter().add(results[n].F).show()\n"
   ]
  },
  {
   "cell_type": "code",
   "execution_count": 49,
   "metadata": {},
   "outputs": [
    {
     "ename": "NameError",
     "evalue": "name 'n_sim' is not defined",
     "output_type": "error",
     "traceback": [
      "\u001b[0;31m---------------------------------------------------------------------------\u001b[0m",
      "\u001b[0;31mNameError\u001b[0m                                 Traceback (most recent call last)",
      "Cell \u001b[0;32mIn[49], line 1\u001b[0m\n\u001b[0;32m----> 1\u001b[0m results[n_sim]\u001b[39m.\u001b[39mF[:,\u001b[39m0\u001b[39m]\u001b[39m.\u001b[39margsort()\n\u001b[1;32m      2\u001b[0m \u001b[39mfor\u001b[39;00m n_pop \u001b[39min\u001b[39;00m results[n]\u001b[39m.\u001b[39mF[:,\u001b[39m0\u001b[39m]\u001b[39m.\u001b[39margsort():\n\u001b[1;32m      3\u001b[0m     pop \u001b[39m=\u001b[39m results[n]\u001b[39m.\u001b[39mopt\n",
      "\u001b[0;31mNameError\u001b[0m: name 'n_sim' is not defined"
     ]
    }
   ],
   "source": [
    "results[n_sim].F[:,0].argsort()\n",
    "for n_pop in results[n].F[:,0].argsort():\n",
    "    pop = results[n].opt\n",
    "    print(features[pop.get(\"X\")[n_pop]])"
   ]
  },
  {
   "cell_type": "code",
   "execution_count": null,
   "metadata": {},
   "outputs": [],
   "source": []
  }
 ],
 "metadata": {
  "kernelspec": {
   "display_name": "fairenv",
   "language": "python",
   "name": "python3"
  },
  "language_info": {
   "codemirror_mode": {
    "name": "ipython",
    "version": 3
   },
   "file_extension": ".py",
   "mimetype": "text/x-python",
   "name": "python",
   "nbconvert_exporter": "python",
   "pygments_lexer": "ipython3",
   "version": "3.10.10"
  },
  "orig_nbformat": 4
 },
 "nbformat": 4,
 "nbformat_minor": 2
}
