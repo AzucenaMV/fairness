{
 "cells": [
  {
   "cell_type": "code",
   "execution_count": 1,
   "metadata": {},
   "outputs": [],
   "source": [
    "import numpy as np\n",
    "import matplotlib.pyplot as plt\n",
    "from aif360.sklearn.metrics import average_odds_difference\n",
    "from aif360.sklearn.metrics import equal_opportunity_difference\n",
    "from pymoo.optimize import minimize\n",
    "from pymoo.core.problem import Problem\n",
    "from pymoo.core.problem import ElementwiseProblem\n",
    "from sklearn.metrics import f1_score, confusion_matrix, make_scorer\n",
    "from fairlearn.metrics import (\n",
    "    count,\n",
    "    selection_rate,\n",
    "    equalized_odds_difference,\n",
    "    false_positive_rate,\n",
    "    false_negative_rate,\n",
    "    demographic_parity_difference\n",
    ")\n",
    "from fairlearn.datasets import fetch_adult\n",
    "from sklearn.pipeline import Pipeline\n",
    "from sklearn.preprocessing import OneHotEncoder, StandardScaler\n",
    "from sklearn.compose import ColumnTransformer\n",
    "from sklearn.compose import make_column_selector as selector\n",
    "from sklearn.impute import SimpleImputer\n",
    "from sklearn.ensemble import RandomForestClassifier\n",
    "from lightgbm import LGBMClassifier\n",
    "from sklearn.model_selection import cross_val_score, train_test_split, cross_validate\n",
    "\n",
    "from pymoo.algorithms.moo.nsga2 import NSGA2\n",
    "from pymoo.algorithms.moo.dnsga2 import DNSGA2\n",
    "from pymoo.operators.sampling.rnd import BinaryRandomSampling\n",
    "from pymoo.termination import get_termination\n",
    "from pymoo.operators.crossover.pntx import TwoPointCrossover\n",
    "from pymoo.operators.mutation.bitflip import BitflipMutation\n",
    "from pymoo.operators.crossover.hux import HalfUniformCrossover\n"
   ]
  },
  {
   "cell_type": "code",
   "execution_count": 2,
   "metadata": {},
   "outputs": [
    {
     "name": "stderr",
     "output_type": "stream",
     "text": [
      "/home/azucena/miniconda3/envs/fairenv/lib/python3.10/site-packages/sklearn/datasets/_openml.py:968: FutureWarning: The default value of `parser` will change from `'liac-arff'` to `'auto'` in 1.4. You can set `parser='auto'` to silence this warning. Therefore, an `ImportError` will be raised from 1.4 if the dataset is dense and pandas is not installed. Note that the pandas parser may return different data types. See the Notes Section in fetch_openml's API doc for details.\n",
      "  warn(\n"
     ]
    }
   ],
   "source": [
    "data = fetch_adult(as_frame=True)\n",
    "X_raw = data.data\n",
    "y = (data.target == \">50K\") * 1\n",
    "A = X_raw[\"sex\"]\n",
    "\n",
    "features = X_raw.columns\n",
    "n_cols = len(X_raw.columns)\n",
    "num_features = X_raw._get_numeric_data().columns\n",
    "cat_features =  [col for col in X_raw.columns if col not in num_features]\n"
   ]
  },
  {
   "cell_type": "code",
   "execution_count": 3,
   "metadata": {},
   "outputs": [],
   "source": [
    "numeric_transformer = Pipeline(\n",
    "    steps=[\n",
    "        (\"impute\", SimpleImputer()),\n",
    "        (\"scaler\", StandardScaler()),\n",
    "    ]\n",
    ")\n",
    "categorical_transformer = Pipeline(\n",
    "    [\n",
    "        (\"impute\", SimpleImputer(strategy=\"most_frequent\")),\n",
    "        (\"ohe\", OneHotEncoder(handle_unknown=\"ignore\")),\n",
    "    ]\n",
    ")\n",
    "preprocessor = ColumnTransformer(\n",
    "    transformers=[\n",
    "        (\"num\", numeric_transformer, num_features),\n",
    "        (\"cat\", categorical_transformer, cat_features),\n",
    "        \n",
    "    ], remainder = \"drop\"\n",
    ")\n",
    "\n",
    "\n",
    "pipeline = Pipeline(\n",
    "    steps=[\n",
    "        (\"preprocessor\", preprocessor),\n",
    "        (\n",
    "            \"classifier\",\n",
    "            LGBMClassifier(n_jobs=-1)\n",
    "        ),\n",
    "    ]\n",
    ")"
   ]
  },
  {
   "cell_type": "code",
   "execution_count": 4,
   "metadata": {},
   "outputs": [],
   "source": [
    "def metric_scorer(clf, X, y):\n",
    "    y_pred = clf.predict(X)\n",
    "    f1 = f1_score(y,y_pred)\n",
    "    abs_eod = np.abs(equalized_odds_difference(y, y_pred, sensitive_features=X['sex']))\n",
    "    return {'f1_score': f1, 'eod': abs_eod}\n",
    "\n"
   ]
  },
  {
   "cell_type": "code",
   "execution_count": 75,
   "metadata": {},
   "outputs": [],
   "source": [
    "\n",
    "algorithm = NSGA2(\n",
    "    pop_size = 50,\n",
    "    sampling = BinaryRandomSampling(),\n",
    "    crossover=TwoPointCrossover(),\n",
    "    mutation=BitflipMutation(),\n",
    "    eliminate_duplicates = True,\n",
    ")\n",
    "\n",
    "termination = get_termination(\"n_gen\", 20)"
   ]
  },
  {
   "cell_type": "code",
   "execution_count": 76,
   "metadata": {},
   "outputs": [],
   "source": [
    "results = []"
   ]
  },
  {
   "cell_type": "code",
   "execution_count": 77,
   "metadata": {},
   "outputs": [
    {
     "name": "stdout",
     "output_type": "stream",
     "text": [
      "2\n",
      "3\n"
     ]
    }
   ],
   "source": [
    "for sim in [2,3]:\n",
    "    print(sim)\n",
    "    (X_train, X_test, y_train, y_test, A_train, A_test) = train_test_split(\n",
    "    X_raw, y, A, test_size=0.3, stratify=y, random_state=sim\n",
    ")\n",
    "\n",
    "    X_train = X_train.reset_index(drop=True)\n",
    "    X_test = X_test.reset_index(drop=True)\n",
    "    y_train = y_train.reset_index(drop=True)\n",
    "    y_test = y_test.reset_index(drop=True)\n",
    "    A_train = A_train.reset_index(drop=True)\n",
    "    A_test = A_test.reset_index(drop=True)\n",
    "\n",
    "    class MyProblem(Problem):\n",
    "\n",
    "        def __init__(self):\n",
    "            super().__init__(n_var=n_cols,\n",
    "                            n_obj=2\n",
    "                            )\n",
    "\n",
    "\n",
    "        def _evaluate(self, x, out, *args, **kwargs):\n",
    "            fair_metric = []\n",
    "            model_metric = []\n",
    "            for x_ in x:\n",
    "                features_ = features[np.where(x_)[0]]\n",
    "                num_features_ = [x for x in num_features if x in features_]\n",
    "                cat_features_ = [x for x in cat_features if x in features_]\n",
    "                preprocessor = ColumnTransformer(\n",
    "                    transformers=[\n",
    "                        (\"num\", numeric_transformer, num_features_),\n",
    "                        (\"cat\", categorical_transformer, cat_features_),\n",
    "                        \n",
    "                    ], remainder = \"drop\"\n",
    "                )\n",
    "\n",
    "                pipeline.steps.pop(0)\n",
    "                pipeline.steps.insert(0,('preprocessor',preprocessor))\n",
    "                # optimization function (hyperparam response function)\n",
    "                if (np.repeat(False,n_cols) == x_).all():\n",
    "                    fair_metric.append(100)\n",
    "                    model_metric.append(100)\n",
    "                else: \n",
    "                    scores = cross_validate(\n",
    "                            pipeline, \n",
    "                            X_train,\n",
    "                            y_train, \n",
    "                            cv=5,\n",
    "                            scoring=metric_scorer,\n",
    "                            return_train_score=True)\n",
    "\n",
    "                    fair_metric.append(scores['test_eod'].mean())\n",
    "                    model_metric.append(-1*scores['test_f1_score'].mean())\n",
    "            out[\"F\"] = [fair_metric, model_metric]\n",
    "\n",
    "    problem = MyProblem()\n",
    "\n",
    "    results.append( \n",
    "        minimize(\n",
    "            problem,\n",
    "            algorithm,\n",
    "            termination,\n",
    "            save_history = True\n",
    "        )\n",
    "    )\n",
    "\n",
    "    \n"
   ]
  },
  {
   "cell_type": "code",
   "execution_count": 78,
   "metadata": {},
   "outputs": [
    {
     "name": "stdout",
     "output_type": "stream",
     "text": [
      "Object successfully saved to \"results_23_v2.pkl\"\n"
     ]
    }
   ],
   "source": [
    "import dill\n",
    "file_name = 'results_23_v2.pkl'\n",
    "with open(file_name, 'wb') as file:\n",
    "    dill.dump(results, file)\n",
    "    print(f'Object successfully saved to \"{file_name}\"')"
   ]
  },
  {
   "cell_type": "code",
   "execution_count": 28,
   "metadata": {},
   "outputs": [
    {
     "data": {
      "text/plain": [
       "<pymoo.visualization.scatter.Scatter at 0x7fd7a5b4b0d0>"
      ]
     },
     "execution_count": 28,
     "metadata": {},
     "output_type": "execute_result"
    },
    {
     "data": {
      "image/png": "[encoded data removed]",
      "text/plain": [
       "<Figure size 800x600 with 1 Axes>"
      ]
     },
     "metadata": {},
     "output_type": "display_data"
    }
   ],
   "source": [
    "n = 0\n",
    "from pymoo.visualization.scatter import Scatter\n",
    "\n",
    "Scatter().add(results[n].F).show()\n"
   ]
  },
  {
   "cell_type": "code",
   "execution_count": 67,
   "metadata": {},
   "outputs": [
    {
     "name": "stdout",
     "output_type": "stream",
     "text": [
      "Index(['age'], dtype='object')\n",
      "Index(['occupation', 'race'], dtype='object')\n",
      "Index(['age', 'native-country'], dtype='object')\n",
      "Index(['age', 'race', 'native-country'], dtype='object')\n",
      "Index(['occupation', 'race', 'native-country'], dtype='object')\n",
      "Index(['education-num', 'occupation', 'capital-gain'], dtype='object')\n",
      "Index(['workclass', 'occupation', 'capital-gain', 'capital-loss'], dtype='object')\n",
      "Index(['workclass', 'occupation', 'race', 'capital-gain', 'capital-loss'], dtype='object')\n",
      "Index(['fnlwgt', 'occupation', 'capital-gain', 'capital-loss',\n",
      "       'hours-per-week', 'native-country'],\n",
      "      dtype='object')\n",
      "Index(['fnlwgt', 'education', 'education-num', 'capital-gain', 'capital-loss',\n",
      "       'hours-per-week', 'native-country'],\n",
      "      dtype='object')\n",
      "Index(['age', 'fnlwgt', 'education', 'occupation', 'capital-gain',\n",
      "       'native-country'],\n",
      "      dtype='object')\n",
      "Index(['age', 'education', 'education-num', 'occupation', 'race',\n",
      "       'capital-gain', 'native-country'],\n",
      "      dtype='object')\n",
      "Index(['age', 'fnlwgt', 'education', 'education-num', 'occupation', 'race',\n",
      "       'capital-gain', 'native-country'],\n",
      "      dtype='object')\n",
      "Index(['age', 'fnlwgt', 'education', 'education-num', 'occupation',\n",
      "       'capital-gain', 'capital-loss', 'native-country'],\n",
      "      dtype='object')\n",
      "Index(['age', 'fnlwgt', 'education-num', 'occupation', 'race', 'capital-gain',\n",
      "       'capital-loss', 'native-country'],\n",
      "      dtype='object')\n",
      "Index(['age', 'fnlwgt', 'education', 'education-num', 'occupation', 'race',\n",
      "       'capital-gain', 'capital-loss', 'native-country'],\n",
      "      dtype='object')\n",
      "Index(['age', 'workclass', 'fnlwgt', 'education-num', 'occupation',\n",
      "       'capital-gain', 'capital-loss', 'native-country'],\n",
      "      dtype='object')\n",
      "Index(['age', 'education', 'education-num', 'occupation', 'race',\n",
      "       'capital-gain', 'capital-loss', 'hours-per-week', 'native-country'],\n",
      "      dtype='object')\n",
      "Index(['age', 'education', 'occupation', 'race', 'capital-gain',\n",
      "       'capital-loss', 'hours-per-week', 'native-country'],\n",
      "      dtype='object')\n",
      "Index(['age', 'workclass', 'fnlwgt', 'education', 'education-num',\n",
      "       'occupation', 'race', 'capital-gain', 'capital-loss', 'hours-per-week',\n",
      "       'native-country'],\n",
      "      dtype='object')\n",
      "Index(['education-num', 'relationship', 'capital-gain', 'capital-loss',\n",
      "       'hours-per-week'],\n",
      "      dtype='object')\n",
      "Index(['education-num', 'relationship', 'sex', 'capital-gain', 'capital-loss',\n",
      "       'hours-per-week'],\n",
      "      dtype='object')\n",
      "Index(['education-num', 'occupation', 'relationship', 'capital-gain',\n",
      "       'capital-loss', 'native-country'],\n",
      "      dtype='object')\n",
      "Index(['education-num', 'occupation', 'relationship', 'capital-gain',\n",
      "       'capital-loss'],\n",
      "      dtype='object')\n",
      "Index(['education', 'marital-status', 'occupation', 'capital-gain',\n",
      "       'capital-loss'],\n",
      "      dtype='object')\n",
      "Index(['age', 'workclass', 'education-num', 'marital-status', 'occupation',\n",
      "       'relationship', 'capital-gain', 'capital-loss'],\n",
      "      dtype='object')\n",
      "Index(['age', 'workclass', 'education-num', 'marital-status', 'occupation',\n",
      "       'relationship', 'capital-gain', 'capital-loss', 'hours-per-week'],\n",
      "      dtype='object')\n",
      "Index(['age', 'workclass', 'education-num', 'marital-status', 'occupation',\n",
      "       'relationship', 'capital-gain', 'capital-loss', 'hours-per-week',\n",
      "       'native-country'],\n",
      "      dtype='object')\n"
     ]
    }
   ],
   "source": [
    "results[n_sim].F[:,0].argsort()\n",
    "for n_pop in results[n].F[:,0].argsort():\n",
    "    pop = results[n].opt\n",
    "    print(features[pop.get(\"X\")[n_pop]])"
   ]
  }
 ],
 "metadata": {
  "kernelspec": {
   "display_name": "fairenv",
   "language": "python",
   "name": "python3"
  },
  "language_info": {
   "codemirror_mode": {
    "name": "ipython",
    "version": 3
   },
   "file_extension": ".py",
   "mimetype": "text/x-python",
   "name": "python",
   "nbconvert_exporter": "python",
   "pygments_lexer": "ipython3",
   "version": "3.10.10"
  },
  "orig_nbformat": 4
 },
 "nbformat": 4,
 "nbformat_minor": 2
}
